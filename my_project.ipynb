{
 "cells": [
  {
   "cell_type": "code",
   "execution_count": 1,
   "id": "b0888976",
   "metadata": {
    "_cell_guid": "b1076dfc-b9ad-4769-8c92-a6c4dae69d19",
    "_uuid": "8f2839f25d086af736a60e9eeb907d3b93b6e0e5",
    "execution": {
     "iopub.execute_input": "2023-11-07T17:44:14.367177Z",
     "iopub.status.busy": "2023-11-07T17:44:14.366419Z",
     "iopub.status.idle": "2023-11-07T17:44:18.523375Z",
     "shell.execute_reply": "2023-11-07T17:44:18.522124Z"
    },
    "papermill": {
     "duration": 4.19789,
     "end_time": "2023-11-07T17:44:18.526013",
     "exception": false,
     "start_time": "2023-11-07T17:44:14.328123",
     "status": "completed"
    },
    "tags": []
   },
   "outputs": [
    {
     "name": "stdout",
     "output_type": "stream",
     "text": [
      "/kaggle/input/ieee-fraud-detection/sample_submission.csv\n",
      "/kaggle/input/ieee-fraud-detection/test_identity.csv\n",
      "/kaggle/input/ieee-fraud-detection/train_identity.csv\n",
      "/kaggle/input/ieee-fraud-detection/test_transaction.csv\n",
      "/kaggle/input/ieee-fraud-detection/train_transaction.csv\n"
     ]
    }
   ],
   "source": [
    "# This Python 3 environment comes with many helpful analytics libraries installed\n",
    "# It is defined by the kaggle/python Docker image: https://github.com/kaggle/docker-python\n",
    "# For example, here's several helpful packages to load\n",
    "\n",
    "import numpy as np # linear algebra\n",
    "import pandas as pd # data processing, CSV file I/O (e.g. pd.read_csv)\n",
    "import gc\n",
    "import numpy as np\n",
    "import matplotlib.pyplot as plt\n",
    "import seaborn as sns\n",
    "from sklearn.metrics import accuracy_score\n",
    "from sklearn.model_selection import train_test_split,cross_val_score,GridSearchCV,cross_validate\n",
    "from sklearn.preprocessing import MinMaxScaler,LabelEncoder,StandardScaler,RobustScaler\n",
    "from sklearn.impute import KNNImputer\n",
    "from sklearn.metrics import accuracy_score,recall_score,precision_score,f1_score,roc_auc_score\n",
    "from sklearn.neighbors import KNeighborsClassifier\n",
    "from sklearn.tree import DecisionTreeClassifier\n",
    "from xgboost import XGBClassifier\n",
    "from lightgbm import LGBMClassifier\n",
    "from sklearn.ensemble import RandomForestClassifier,GradientBoostingClassifier,VotingClassifier,AdaBoostClassifier\n",
    "from sklearn.metrics import classification_report\n",
    "# Input data files are available in the read-only \"../input/\" directory\n",
    "# For example, running this (by clicking run or pressing Shift+Enter) will list all files under the input directory\n",
    "\n",
    "import os\n",
    "for dirname, _, filenames in os.walk('/kaggle/input'):\n",
    "    for filename in filenames:\n",
    "        print(os.path.join(dirname, filename))\n",
    "\n",
    "# You can write up to 20GB to the current directory (/kaggle/working/) that gets preserved as output when you create a version using \"Save & Run All\" \n",
    "# You can also write temporary files to /kaggle/temp/, but they won't be saved outside of the current session"
   ]
  },
  {
   "cell_type": "markdown",
   "id": "316a4a1d",
   "metadata": {
    "papermill": {
     "duration": 0.035332,
     "end_time": "2023-11-07T17:44:18.598630",
     "exception": false,
     "start_time": "2023-11-07T17:44:18.563298",
     "status": "completed"
    },
    "tags": []
   },
   "source": [
    "### Данный проект решает задачу бинарной классификации.\n",
    "### Нужно предсказать, к какому типу относится транзакция - мошенническая она ли нет."
   ]
  },
  {
   "cell_type": "markdown",
   "id": "938ddc44",
   "metadata": {
    "papermill": {
     "duration": 0.035351,
     "end_time": "2023-11-07T17:44:18.669461",
     "exception": false,
     "start_time": "2023-11-07T17:44:18.634110",
     "status": "completed"
    },
    "tags": []
   },
   "source": [
    "#### Данные в датасете **transaction**:\n",
    "<span style=\"font-size: 18px;\">\n",
    "    \n",
    "- TransactionDT - дельта времени от заданного эталонного значения времени (не актуального значения) \n",
    "- TransactionAMT - транзакционный платёж в USD\n",
    "- ProductCD - продуктовый код, продукт каждой транзакции\n",
    "- card1 - card6 - информация платёжной карты, такая как: тип карты, категория, банк выпуска, страна и т.д.\n",
    "- addr - адрес\n",
    "- dist - расстояние\n",
    "- P_ and (R_) emaildomain: домены покупателя и получателя\n",
    "- C1-C14 - подсчёт, например сколько адресов связано с платёжной картой и т.д. Фактический смысл скрыт\n",
    "- D1-D15 - дельта времени, количество дней между предыдущей транзакцией, и т.д.\n",
    "- M1 - M9 -совпадение, например имена на карте и адресе и т.д.\n",
    "- Vxxx - Vesta разработала богатые функции, включая ранжирование, подсчёт и другие отношения между сущностями\n",
    "</span>"
   ]
  },
  {
   "cell_type": "markdown",
   "id": "d541ea26",
   "metadata": {
    "papermill": {
     "duration": 0.036385,
     "end_time": "2023-11-07T17:44:18.741469",
     "exception": false,
     "start_time": "2023-11-07T17:44:18.705084",
     "status": "completed"
    },
    "tags": []
   },
   "source": [
    "<span style=\"font-size:18px;\">\n",
    "Категориальные признаки:\n",
    "\n",
    "- ProductCD\n",
    "- card1-card6\n",
    "- addr1, addr2\n",
    "- P_emaildomain\n",
    "- R_email_domain\n",
    "- M1 - M9\n",
    "</span>"
   ]
  },
  {
   "cell_type": "markdown",
   "id": "5a4140ea",
   "metadata": {
    "papermill": {
     "duration": 0.035417,
     "end_time": "2023-11-07T17:44:18.875095",
     "exception": false,
     "start_time": "2023-11-07T17:44:18.839678",
     "status": "completed"
    },
    "tags": []
   },
   "source": [
    "#### Данные в датасете **Identity**\n",
    "<span style=\"font-size:18px;\">\n",
    "Переменные в этой таблице - идентификационные данные:\n",
    "    \n",
    "- информация о сетевом соединении (IP, ISP, прокси и т.д.)\n",
    "- цифровая подпись (UA/браузер/ОС/версия и т.д.), связанные с транзакциями.\n",
    "Их собирает система защиты от мошенничества Vesta и партнеры цифровой безопасности.\n",
    "(Имена полей скрыты, и пояснения значений полей не будет в целях защиты конфиденциальности и их договорного соглашения)\n",
    "</span>"
   ]
  },
  {
   "cell_type": "markdown",
   "id": "05e2c544",
   "metadata": {
    "papermill": {
     "duration": 0.036374,
     "end_time": "2023-11-07T17:44:18.947007",
     "exception": false,
     "start_time": "2023-11-07T17:44:18.910633",
     "status": "completed"
    },
    "tags": []
   },
   "source": [
    "<span style=\"font-size:18px;\">\n",
    "Категориальные признаки:\n",
    "    \n",
    "- DeviceType\n",
    "- DeviceInfo\n",
    "- id_12 - id_38\n",
    "</span>"
   ]
  },
  {
   "cell_type": "markdown",
   "id": "7c604f5c",
   "metadata": {
    "papermill": {
     "duration": 0.035424,
     "end_time": "2023-11-07T17:44:19.018187",
     "exception": false,
     "start_time": "2023-11-07T17:44:18.982763",
     "status": "completed"
    },
    "tags": []
   },
   "source": [
    "### Загрузим все наборы данных данного проекта"
   ]
  },
  {
   "cell_type": "code",
   "execution_count": 2,
   "id": "cba9d18b",
   "metadata": {
    "execution": {
     "iopub.execute_input": "2023-11-07T17:44:19.092116Z",
     "iopub.status.busy": "2023-11-07T17:44:19.091455Z",
     "iopub.status.idle": "2023-11-07T17:45:30.351141Z",
     "shell.execute_reply": "2023-11-07T17:45:30.350166Z"
    },
    "papermill": {
     "duration": 71.299768,
     "end_time": "2023-11-07T17:45:30.353933",
     "exception": false,
     "start_time": "2023-11-07T17:44:19.054165",
     "status": "completed"
    },
    "tags": []
   },
   "outputs": [],
   "source": [
    "train_transaction=pd.read_csv('/kaggle/input/ieee-fraud-detection/train_transaction.csv')\n",
    "train_identity=pd.read_csv('/kaggle/input/ieee-fraud-detection/train_identity.csv')\n",
    "test_transaction=pd.read_csv('/kaggle/input/ieee-fraud-detection/test_transaction.csv')\n",
    "test_identity=pd.read_csv('/kaggle/input/ieee-fraud-detection/test_identity.csv')\n",
    "sample_submission=pd.read_csv('/kaggle/input/ieee-fraud-detection/sample_submission.csv')"
   ]
  },
  {
   "cell_type": "markdown",
   "id": "0467927a",
   "metadata": {
    "papermill": {
     "duration": 0.0391,
     "end_time": "2023-11-07T17:45:30.429728",
     "exception": false,
     "start_time": "2023-11-07T17:45:30.390628",
     "status": "completed"
    },
    "tags": []
   },
   "source": [
    "Объединим таблицы ```*transaction``` и ```*identity``` по полю ```TransactionID```"
   ]
  },
  {
   "cell_type": "code",
   "execution_count": 3,
   "id": "63813df5",
   "metadata": {
    "execution": {
     "iopub.execute_input": "2023-11-07T17:45:30.507330Z",
     "iopub.status.busy": "2023-11-07T17:45:30.506797Z",
     "iopub.status.idle": "2023-11-07T17:45:32.632275Z",
     "shell.execute_reply": "2023-11-07T17:45:32.631044Z"
    },
    "papermill": {
     "duration": 2.167539,
     "end_time": "2023-11-07T17:45:32.635119",
     "exception": false,
     "start_time": "2023-11-07T17:45:30.467580",
     "status": "completed"
    },
    "tags": []
   },
   "outputs": [],
   "source": [
    "train = train_transaction.merge(train_identity, how='left', on='TransactionID')\n",
    "test = test_transaction.merge(test_identity, how='left', on='TransactionID')"
   ]
  },
  {
   "cell_type": "markdown",
   "id": "93d10cd6",
   "metadata": {
    "papermill": {
     "duration": 0.036658,
     "end_time": "2023-11-07T17:45:32.707913",
     "exception": false,
     "start_time": "2023-11-07T17:45:32.671255",
     "status": "completed"
    },
    "tags": []
   },
   "source": [
    "Т.к. мы объединили датасеты ```*identity``` и ```*transaction```, удалим их для того, чтобы освободить память"
   ]
  },
  {
   "cell_type": "code",
   "execution_count": 4,
   "id": "56f0c0eb",
   "metadata": {
    "execution": {
     "iopub.execute_input": "2023-11-07T17:45:32.783907Z",
     "iopub.status.busy": "2023-11-07T17:45:32.783493Z",
     "iopub.status.idle": "2023-11-07T17:45:32.878110Z",
     "shell.execute_reply": "2023-11-07T17:45:32.876943Z"
    },
    "papermill": {
     "duration": 0.136136,
     "end_time": "2023-11-07T17:45:32.880667",
     "exception": false,
     "start_time": "2023-11-07T17:45:32.744531",
     "status": "completed"
    },
    "tags": []
   },
   "outputs": [
    {
     "data": {
      "text/plain": [
       "<function gc.collect(generation=2)>"
      ]
     },
     "execution_count": 4,
     "metadata": {},
     "output_type": "execute_result"
    }
   ],
   "source": [
    "del train_transaction\n",
    "del train_identity\n",
    "del test_transaction\n",
    "del test_identity\n",
    "gc.collect"
   ]
  },
  {
   "cell_type": "markdown",
   "id": "f7fc868d",
   "metadata": {
    "papermill": {
     "duration": 0.035647,
     "end_time": "2023-11-07T17:45:32.952293",
     "exception": false,
     "start_time": "2023-11-07T17:45:32.916646",
     "status": "completed"
    },
    "tags": []
   },
   "source": [
    "Создадим копии датасетов, с которыми будем работать, чтобы не менять исходники"
   ]
  },
  {
   "cell_type": "code",
   "execution_count": 5,
   "id": "b164a11b",
   "metadata": {
    "execution": {
     "iopub.execute_input": "2023-11-07T17:45:33.026850Z",
     "iopub.status.busy": "2023-11-07T17:45:33.025577Z",
     "iopub.status.idle": "2023-11-07T17:45:38.278088Z",
     "shell.execute_reply": "2023-11-07T17:45:38.276882Z"
    },
    "papermill": {
     "duration": 5.292536,
     "end_time": "2023-11-07T17:45:38.280781",
     "exception": false,
     "start_time": "2023-11-07T17:45:32.988245",
     "status": "completed"
    },
    "tags": []
   },
   "outputs": [],
   "source": [
    "train_df = train.copy()\n",
    "test_df = test.copy()"
   ]
  },
  {
   "cell_type": "markdown",
   "id": "62d5259b",
   "metadata": {
    "papermill": {
     "duration": 0.035961,
     "end_time": "2023-11-07T17:45:38.352913",
     "exception": false,
     "start_time": "2023-11-07T17:45:38.316952",
     "status": "completed"
    },
    "tags": []
   },
   "source": [
    "Посмотрим какой объём оперативной памяти занимают датасеты:"
   ]
  },
  {
   "cell_type": "code",
   "execution_count": 6,
   "id": "91b5815d",
   "metadata": {
    "execution": {
     "iopub.execute_input": "2023-11-07T17:45:38.427378Z",
     "iopub.status.busy": "2023-11-07T17:45:38.426708Z",
     "iopub.status.idle": "2023-11-07T17:45:46.730411Z",
     "shell.execute_reply": "2023-11-07T17:45:46.729122Z"
    },
    "papermill": {
     "duration": 8.34443,
     "end_time": "2023-11-07T17:45:46.733395",
     "exception": false,
     "start_time": "2023-11-07T17:45:38.388965",
     "status": "completed"
    },
    "tags": []
   },
   "outputs": [
    {
     "name": "stdout",
     "output_type": "stream",
     "text": [
      "train df: 2.51 GB of memory\n",
      "test df : 2.16 GB of memory\n"
     ]
    }
   ],
   "source": [
    "train_df_GB = train_df.memory_usage(deep=True).sum()/1024**3\n",
    "test_df_GB = test_df.memory_usage(deep=True).sum()/1024**3\n",
    "\n",
    "print(f'train df: {train_df_GB:.2f} GB of memory')\n",
    "print(f'test df : {test_df_GB:.2f} GB of memory')"
   ]
  },
  {
   "cell_type": "markdown",
   "id": "272b233a",
   "metadata": {
    "papermill": {
     "duration": 0.036543,
     "end_time": "2023-11-07T17:45:46.806744",
     "exception": false,
     "start_time": "2023-11-07T17:45:46.770201",
     "status": "completed"
    },
    "tags": []
   },
   "source": [
    "Видим, что датафреймы занимают достаточно большой объём оперативной памяти, следовательно на обработку каждого датафрейма будет затрачено большое кол-во ресурсов и довольно длительное время. \n",
    "\n",
    "Исходя из этого необходимо уменьшить занимаемый ими объём памяти. Сделаем это при помощи способа с изменением типов переменных"
   ]
  },
  {
   "cell_type": "markdown",
   "id": "ba33d9d4",
   "metadata": {
    "papermill": {
     "duration": 0.036458,
     "end_time": "2023-11-07T17:45:46.880135",
     "exception": false,
     "start_time": "2023-11-07T17:45:46.843677",
     "status": "completed"
    },
    "tags": []
   },
   "source": [
    "Напишем функцию подсчёта объема занимаемой памяти:"
   ]
  },
  {
   "cell_type": "code",
   "execution_count": 7,
   "id": "283915ab",
   "metadata": {
    "execution": {
     "iopub.execute_input": "2023-11-07T17:45:46.954918Z",
     "iopub.status.busy": "2023-11-07T17:45:46.954480Z",
     "iopub.status.idle": "2023-11-07T17:45:46.961336Z",
     "shell.execute_reply": "2023-11-07T17:45:46.960013Z"
    },
    "papermill": {
     "duration": 0.046815,
     "end_time": "2023-11-07T17:45:46.963690",
     "exception": false,
     "start_time": "2023-11-07T17:45:46.916875",
     "status": "completed"
    },
    "tags": []
   },
   "outputs": [],
   "source": [
    "def memory_usage(pandas_object):\n",
    "    if isinstance(pandas_object, pd.DataFrame):\n",
    "        usage_b = pandas_object.memory_usage(deep=True).sum()\n",
    "    else:\n",
    "        usage_b = pandas_obj.memory_usage(deep=True)\n",
    "    usage_mb = usage_b / 1024 ** 2 # convert to mb\n",
    "    return usage_mb"
   ]
  },
  {
   "cell_type": "markdown",
   "id": "d3bd2aa5",
   "metadata": {
    "papermill": {
     "duration": 0.03588,
     "end_time": "2023-11-07T17:45:47.035494",
     "exception": false,
     "start_time": "2023-11-07T17:45:46.999614",
     "status": "completed"
    },
    "tags": []
   },
   "source": [
    "Напишем функцию для уменьшения объёма занимаемой памяти датасетом.\n",
    "\n",
    "1. Преобразуем все значения подтипов ```int``` в тип ```uint```, т.к. хранение только положительных значений позволит нам уменьшить объём занимаемой памяти.\n",
    "\n",
    "2. Преобразуем все значения подтипов ```float``` в тип ```float```"
   ]
  },
  {
   "cell_type": "code",
   "execution_count": 8,
   "id": "6357ba05",
   "metadata": {
    "execution": {
     "iopub.execute_input": "2023-11-07T17:45:47.109539Z",
     "iopub.status.busy": "2023-11-07T17:45:47.108813Z",
     "iopub.status.idle": "2023-11-07T17:45:47.117072Z",
     "shell.execute_reply": "2023-11-07T17:45:47.116202Z"
    },
    "papermill": {
     "duration": 0.048185,
     "end_time": "2023-11-07T17:45:47.119485",
     "exception": false,
     "start_time": "2023-11-07T17:45:47.071300",
     "status": "completed"
    },
    "tags": []
   },
   "outputs": [],
   "source": [
    "def reduce_mem_usage_num(df, name):\n",
    "    start_memory = memory_usage(df)\n",
    "    \n",
    "    # convert int\n",
    "    df_int = df.select_dtypes(include=['int'])\n",
    "    converted_int = df_int.apply(pd.to_numeric, downcast='unsigned')\n",
    "    \n",
    "    # convert float\n",
    "    df_float = df.select_dtypes(include=['float'])\n",
    "    converted_float = df_float.apply(pd.to_numeric, downcast='float')\n",
    "    \n",
    "    optimized_df = df.copy()\n",
    "    optimized_df[converted_int.columns] = converted_int\n",
    "    optimized_df[converted_float.columns] = converted_float\n",
    "    \n",
    "    finish_memory = memory_usage(optimized_df)\n",
    "    diff_memory = start_memory - finish_memory\n",
    "    diff_memory_prct = 100 - ((finish_memory * 100)/start_memory)\n",
    "    print(f'start memory of {name} is {start_memory} Mb')\n",
    "    print(f'memory after optimization of {name} is {finish_memory} Mb')\n",
    "    print(f'memory usage of {name} decreased on {diff_memory} Mb ({diff_memory_prct} %)\\n')\n",
    "    return optimized_df"
   ]
  },
  {
   "cell_type": "code",
   "execution_count": 9,
   "id": "3f715773",
   "metadata": {
    "execution": {
     "iopub.execute_input": "2023-11-07T17:45:47.194339Z",
     "iopub.status.busy": "2023-11-07T17:45:47.193866Z",
     "iopub.status.idle": "2023-11-07T17:46:28.979207Z",
     "shell.execute_reply": "2023-11-07T17:46:28.977831Z"
    },
    "papermill": {
     "duration": 41.858734,
     "end_time": "2023-11-07T17:46:29.014961",
     "exception": false,
     "start_time": "2023-11-07T17:45:47.156227",
     "status": "completed"
    },
    "tags": []
   },
   "outputs": [
    {
     "name": "stdout",
     "output_type": "stream",
     "text": [
      "start memory of train_df is 2567.094612121582 Mb\n",
      "memory after optimization of train_df is 1656.4279747009277 Mb\n",
      "memory usage of train_df decreased on 910.6666374206543 Mb (35.47460358962117 %)\n",
      "\n",
      "start memory of test_df is 2214.031036376953 Mb\n",
      "memory after optimization of test_df is 1436.0497455596924 Mb\n",
      "memory usage of test_df decreased on 777.9812908172607 Mb (35.13868044462248 %)\n",
      "\n"
     ]
    }
   ],
   "source": [
    "train_df = reduce_mem_usage_num(train_df, 'train_df')\n",
    "test_df = reduce_mem_usage_num(test_df, 'test_df')"
   ]
  },
  {
   "cell_type": "markdown",
   "id": "b172f05a",
   "metadata": {
    "papermill": {
     "duration": 0.035847,
     "end_time": "2023-11-07T17:46:29.087807",
     "exception": false,
     "start_time": "2023-11-07T17:46:29.051960",
     "status": "completed"
    },
    "tags": []
   },
   "source": [
    "Видим, что объём занимаемой памяти тренировочного и тестового датасетов после изменения числовых типов данных уменьшился примерно на ```35 %```"
   ]
  },
  {
   "cell_type": "code",
   "execution_count": 10,
   "id": "4f68f78f",
   "metadata": {
    "execution": {
     "iopub.execute_input": "2023-11-07T17:46:29.167636Z",
     "iopub.status.busy": "2023-11-07T17:46:29.167250Z",
     "iopub.status.idle": "2023-11-07T17:46:29.194691Z",
     "shell.execute_reply": "2023-11-07T17:46:29.193372Z"
    },
    "papermill": {
     "duration": 0.068072,
     "end_time": "2023-11-07T17:46:29.197187",
     "exception": false,
     "start_time": "2023-11-07T17:46:29.129115",
     "status": "completed"
    },
    "tags": []
   },
   "outputs": [
    {
     "name": "stdout",
     "output_type": "stream",
     "text": [
      "<class 'pandas.core.frame.DataFrame'>\n",
      "RangeIndex: 590540 entries, 0 to 590539\n",
      "Columns: 434 entries, TransactionID to DeviceInfo\n",
      "dtypes: float32(399), object(31), uint16(1), uint32(2), uint8(1)\n",
      "memory usage: 1.0+ GB\n"
     ]
    }
   ],
   "source": [
    "train_df.info()"
   ]
  },
  {
   "cell_type": "code",
   "execution_count": 11,
   "id": "db7a513e",
   "metadata": {
    "execution": {
     "iopub.execute_input": "2023-11-07T17:46:29.280775Z",
     "iopub.status.busy": "2023-11-07T17:46:29.279569Z",
     "iopub.status.idle": "2023-11-07T17:46:29.303372Z",
     "shell.execute_reply": "2023-11-07T17:46:29.301952Z"
    },
    "papermill": {
     "duration": 0.071888,
     "end_time": "2023-11-07T17:46:29.307248",
     "exception": false,
     "start_time": "2023-11-07T17:46:29.235360",
     "status": "completed"
    },
    "tags": []
   },
   "outputs": [
    {
     "name": "stdout",
     "output_type": "stream",
     "text": [
      "<class 'pandas.core.frame.DataFrame'>\n",
      "RangeIndex: 506691 entries, 0 to 506690\n",
      "Columns: 433 entries, TransactionID to DeviceInfo\n",
      "dtypes: float32(399), object(31), uint16(1), uint32(2)\n",
      "memory usage: 895.9+ MB\n"
     ]
    }
   ],
   "source": [
    "test_df.info()"
   ]
  },
  {
   "cell_type": "markdown",
   "id": "0cbb7b67",
   "metadata": {
    "papermill": {
     "duration": 0.038455,
     "end_time": "2023-11-07T17:46:29.393702",
     "exception": false,
     "start_time": "2023-11-07T17:46:29.355247",
     "status": "completed"
    },
    "tags": []
   },
   "source": [
    "#### Напишем функцию, которая будет представлять отчёт о пропусках в данных"
   ]
  },
  {
   "cell_type": "code",
   "execution_count": 12,
   "id": "f57d5a7c",
   "metadata": {
    "execution": {
     "iopub.execute_input": "2023-11-07T17:46:29.471399Z",
     "iopub.status.busy": "2023-11-07T17:46:29.470972Z",
     "iopub.status.idle": "2023-11-07T17:46:29.479221Z",
     "shell.execute_reply": "2023-11-07T17:46:29.478028Z"
    },
    "papermill": {
     "duration": 0.049078,
     "end_time": "2023-11-07T17:46:29.481640",
     "exception": false,
     "start_time": "2023-11-07T17:46:29.432562",
     "status": "completed"
    },
    "tags": []
   },
   "outputs": [],
   "source": [
    "def missing_values_table(df, df_name):\n",
    "    mis_val = df.isnull().sum()\n",
    "    mis_val_percent = 100 * df.isnull().sum() / len(df)\n",
    "    mis_val_table = pd.concat([mis_val, mis_val_percent], axis=1)\n",
    "    mis_val_table_ren_columns = mis_val_table.rename(\n",
    "    columns = {0: 'Missing Values', 1: '% of Total Values'})\n",
    "    \n",
    "    mis_val_table_ren_columns = mis_val_table_ren_columns[\n",
    "        mis_val_table_ren_columns.iloc[:,1] != 0].sort_values(\n",
    "    '% of Total Values', ascending=False).round(1)\n",
    "    \n",
    "    print(f'{df_name} has ', str(df.shape[1]) + ' columns.\\n',\n",
    "         'There are ' + str(mis_val_table_ren_columns.shape[0]) +\n",
    "          ' columns that have missing values.')\n",
    "    return mis_val_table_ren_columns"
   ]
  },
  {
   "cell_type": "markdown",
   "id": "0a3fa976",
   "metadata": {
    "papermill": {
     "duration": 0.036358,
     "end_time": "2023-11-07T17:46:29.556002",
     "exception": false,
     "start_time": "2023-11-07T17:46:29.519644",
     "status": "completed"
    },
    "tags": []
   },
   "source": [
    "Заменим признаки с ```-``` в тестовом датасете на соответствующие названия из тренировочного датасета с ```_```"
   ]
  },
  {
   "cell_type": "code",
   "execution_count": 13,
   "id": "fbdeb1f2",
   "metadata": {
    "execution": {
     "iopub.execute_input": "2023-11-07T17:46:29.630753Z",
     "iopub.status.busy": "2023-11-07T17:46:29.630320Z",
     "iopub.status.idle": "2023-11-07T17:46:31.105579Z",
     "shell.execute_reply": "2023-11-07T17:46:31.104167Z"
    },
    "papermill": {
     "duration": 1.516339,
     "end_time": "2023-11-07T17:46:31.108772",
     "exception": false,
     "start_time": "2023-11-07T17:46:29.592433",
     "status": "completed"
    },
    "tags": []
   },
   "outputs": [],
   "source": [
    "test_df = test_df.rename(columns=lambda x:'_'.join(x.split('-')))"
   ]
  },
  {
   "cell_type": "markdown",
   "id": "e33beb75",
   "metadata": {
    "papermill": {
     "duration": 0.036744,
     "end_time": "2023-11-07T17:46:31.182448",
     "exception": false,
     "start_time": "2023-11-07T17:46:31.145704",
     "status": "completed"
    },
    "tags": []
   },
   "source": [
    "Удаляем признаки, в которых более ```80 %``` пропусков:"
   ]
  },
  {
   "cell_type": "code",
   "execution_count": 14,
   "id": "09a8b020",
   "metadata": {
    "execution": {
     "iopub.execute_input": "2023-11-07T17:46:31.259649Z",
     "iopub.status.busy": "2023-11-07T17:46:31.258855Z",
     "iopub.status.idle": "2023-11-07T17:46:34.279852Z",
     "shell.execute_reply": "2023-11-07T17:46:34.278140Z"
    },
    "papermill": {
     "duration": 3.063718,
     "end_time": "2023-11-07T17:46:34.282773",
     "exception": false,
     "start_time": "2023-11-07T17:46:31.219055",
     "status": "completed"
    },
    "tags": []
   },
   "outputs": [
    {
     "name": "stdout",
     "output_type": "stream",
     "text": [
      "train_df has  434 columns.\n",
      " There are 414 columns that have missing values.\n",
      "We will remove 74 columns.\n"
     ]
    }
   ],
   "source": [
    "missing_df = missing_values_table(train_df, 'train_df')\n",
    "missing_columns = list(missing_df[missing_df['% of Total Values'] > 80.0].index)\n",
    "print('We will remove %d columns.' % len(missing_columns))"
   ]
  },
  {
   "cell_type": "code",
   "execution_count": 15,
   "id": "e5de2d48",
   "metadata": {
    "execution": {
     "iopub.execute_input": "2023-11-07T17:46:34.364141Z",
     "iopub.status.busy": "2023-11-07T17:46:34.362347Z",
     "iopub.status.idle": "2023-11-07T17:46:34.385445Z",
     "shell.execute_reply": "2023-11-07T17:46:34.383890Z"
    },
    "papermill": {
     "duration": 0.06755,
     "end_time": "2023-11-07T17:46:34.388801",
     "exception": false,
     "start_time": "2023-11-07T17:46:34.321251",
     "status": "completed"
    },
    "tags": []
   },
   "outputs": [
    {
     "data": {
      "text/html": [
       "<div>\n",
       "<style scoped>\n",
       "    .dataframe tbody tr th:only-of-type {\n",
       "        vertical-align: middle;\n",
       "    }\n",
       "\n",
       "    .dataframe tbody tr th {\n",
       "        vertical-align: top;\n",
       "    }\n",
       "\n",
       "    .dataframe thead th {\n",
       "        text-align: right;\n",
       "    }\n",
       "</style>\n",
       "<table border=\"1\" class=\"dataframe\">\n",
       "  <thead>\n",
       "    <tr style=\"text-align: right;\">\n",
       "      <th></th>\n",
       "      <th>Missing Values</th>\n",
       "      <th>% of Total Values</th>\n",
       "    </tr>\n",
       "  </thead>\n",
       "  <tbody>\n",
       "    <tr>\n",
       "      <th>id_24</th>\n",
       "      <td>585793</td>\n",
       "      <td>99.2</td>\n",
       "    </tr>\n",
       "    <tr>\n",
       "      <th>id_25</th>\n",
       "      <td>585408</td>\n",
       "      <td>99.1</td>\n",
       "    </tr>\n",
       "    <tr>\n",
       "      <th>id_07</th>\n",
       "      <td>585385</td>\n",
       "      <td>99.1</td>\n",
       "    </tr>\n",
       "    <tr>\n",
       "      <th>id_08</th>\n",
       "      <td>585385</td>\n",
       "      <td>99.1</td>\n",
       "    </tr>\n",
       "    <tr>\n",
       "      <th>id_21</th>\n",
       "      <td>585381</td>\n",
       "      <td>99.1</td>\n",
       "    </tr>\n",
       "    <tr>\n",
       "      <th>...</th>\n",
       "      <td>...</td>\n",
       "      <td>...</td>\n",
       "    </tr>\n",
       "    <tr>\n",
       "      <th>V285</th>\n",
       "      <td>12</td>\n",
       "      <td>0.0</td>\n",
       "    </tr>\n",
       "    <tr>\n",
       "      <th>V284</th>\n",
       "      <td>12</td>\n",
       "      <td>0.0</td>\n",
       "    </tr>\n",
       "    <tr>\n",
       "      <th>V280</th>\n",
       "      <td>12</td>\n",
       "      <td>0.0</td>\n",
       "    </tr>\n",
       "    <tr>\n",
       "      <th>V279</th>\n",
       "      <td>12</td>\n",
       "      <td>0.0</td>\n",
       "    </tr>\n",
       "    <tr>\n",
       "      <th>V312</th>\n",
       "      <td>12</td>\n",
       "      <td>0.0</td>\n",
       "    </tr>\n",
       "  </tbody>\n",
       "</table>\n",
       "<p>414 rows × 2 columns</p>\n",
       "</div>"
      ],
      "text/plain": [
       "       Missing Values  % of Total Values\n",
       "id_24          585793               99.2\n",
       "id_25          585408               99.1\n",
       "id_07          585385               99.1\n",
       "id_08          585385               99.1\n",
       "id_21          585381               99.1\n",
       "...               ...                ...\n",
       "V285               12                0.0\n",
       "V284               12                0.0\n",
       "V280               12                0.0\n",
       "V279               12                0.0\n",
       "V312               12                0.0\n",
       "\n",
       "[414 rows x 2 columns]"
      ]
     },
     "execution_count": 15,
     "metadata": {},
     "output_type": "execute_result"
    }
   ],
   "source": [
    "missing_df"
   ]
  },
  {
   "cell_type": "code",
   "execution_count": 16,
   "id": "658a6e97",
   "metadata": {
    "execution": {
     "iopub.execute_input": "2023-11-07T17:46:34.493027Z",
     "iopub.status.busy": "2023-11-07T17:46:34.492003Z",
     "iopub.status.idle": "2023-11-07T17:46:35.383970Z",
     "shell.execute_reply": "2023-11-07T17:46:35.382555Z"
    },
    "papermill": {
     "duration": 0.945047,
     "end_time": "2023-11-07T17:46:35.387689",
     "exception": false,
     "start_time": "2023-11-07T17:46:34.442642",
     "status": "completed"
    },
    "tags": []
   },
   "outputs": [],
   "source": [
    "train_df = train_df.drop(columns = missing_columns)"
   ]
  },
  {
   "cell_type": "code",
   "execution_count": 17,
   "id": "55ec02ec",
   "metadata": {
    "execution": {
     "iopub.execute_input": "2023-11-07T17:46:35.467862Z",
     "iopub.status.busy": "2023-11-07T17:46:35.467450Z",
     "iopub.status.idle": "2023-11-07T17:46:35.474378Z",
     "shell.execute_reply": "2023-11-07T17:46:35.473276Z"
    },
    "papermill": {
     "duration": 0.047805,
     "end_time": "2023-11-07T17:46:35.476871",
     "exception": false,
     "start_time": "2023-11-07T17:46:35.429066",
     "status": "completed"
    },
    "tags": []
   },
   "outputs": [
    {
     "data": {
      "text/plain": [
       "(590540, 360)"
      ]
     },
     "execution_count": 17,
     "metadata": {},
     "output_type": "execute_result"
    }
   ],
   "source": [
    "train_df.shape"
   ]
  },
  {
   "cell_type": "code",
   "execution_count": 18,
   "id": "5eec08de",
   "metadata": {
    "execution": {
     "iopub.execute_input": "2023-11-07T17:46:35.554613Z",
     "iopub.status.busy": "2023-11-07T17:46:35.553726Z",
     "iopub.status.idle": "2023-11-07T17:46:35.882390Z",
     "shell.execute_reply": "2023-11-07T17:46:35.881297Z"
    },
    "papermill": {
     "duration": 0.370942,
     "end_time": "2023-11-07T17:46:35.884883",
     "exception": false,
     "start_time": "2023-11-07T17:46:35.513941",
     "status": "completed"
    },
    "tags": []
   },
   "outputs": [
    {
     "data": {
      "text/plain": [
       "(506691, 359)"
      ]
     },
     "execution_count": 18,
     "metadata": {},
     "output_type": "execute_result"
    }
   ],
   "source": [
    "test_df = test_df.drop(columns = missing_columns)\n",
    "test_df.shape"
   ]
  },
  {
   "cell_type": "markdown",
   "id": "130f1078",
   "metadata": {
    "papermill": {
     "duration": 0.038117,
     "end_time": "2023-11-07T17:46:35.961847",
     "exception": false,
     "start_time": "2023-11-07T17:46:35.923730",
     "status": "completed"
    },
    "tags": []
   },
   "source": [
    "Посмотрим ещё раз на пропуски "
   ]
  },
  {
   "cell_type": "code",
   "execution_count": 19,
   "id": "9f0a60c4",
   "metadata": {
    "execution": {
     "iopub.execute_input": "2023-11-07T17:46:36.038801Z",
     "iopub.status.busy": "2023-11-07T17:46:36.037995Z",
     "iopub.status.idle": "2023-11-07T17:46:38.674058Z",
     "shell.execute_reply": "2023-11-07T17:46:38.672822Z"
    },
    "papermill": {
     "duration": 2.677781,
     "end_time": "2023-11-07T17:46:38.676714",
     "exception": false,
     "start_time": "2023-11-07T17:46:35.998933",
     "status": "completed"
    },
    "tags": []
   },
   "outputs": [
    {
     "name": "stdout",
     "output_type": "stream",
     "text": [
      "train_df has  360 columns.\n",
      " There are 340 columns that have missing values.\n"
     ]
    },
    {
     "data": {
      "text/html": [
       "<div>\n",
       "<style scoped>\n",
       "    .dataframe tbody tr th:only-of-type {\n",
       "        vertical-align: middle;\n",
       "    }\n",
       "\n",
       "    .dataframe tbody tr th {\n",
       "        vertical-align: top;\n",
       "    }\n",
       "\n",
       "    .dataframe thead th {\n",
       "        text-align: right;\n",
       "    }\n",
       "</style>\n",
       "<table border=\"1\" class=\"dataframe\">\n",
       "  <thead>\n",
       "    <tr style=\"text-align: right;\">\n",
       "      <th></th>\n",
       "      <th>Missing Values</th>\n",
       "      <th>% of Total Values</th>\n",
       "    </tr>\n",
       "  </thead>\n",
       "  <tbody>\n",
       "    <tr>\n",
       "      <th>DeviceInfo</th>\n",
       "      <td>471874</td>\n",
       "      <td>79.9</td>\n",
       "    </tr>\n",
       "    <tr>\n",
       "      <th>id_13</th>\n",
       "      <td>463220</td>\n",
       "      <td>78.4</td>\n",
       "    </tr>\n",
       "    <tr>\n",
       "      <th>id_16</th>\n",
       "      <td>461200</td>\n",
       "      <td>78.1</td>\n",
       "    </tr>\n",
       "    <tr>\n",
       "      <th>V233</th>\n",
       "      <td>460110</td>\n",
       "      <td>77.9</td>\n",
       "    </tr>\n",
       "    <tr>\n",
       "      <th>V249</th>\n",
       "      <td>460110</td>\n",
       "      <td>77.9</td>\n",
       "    </tr>\n",
       "    <tr>\n",
       "      <th>...</th>\n",
       "      <td>...</td>\n",
       "      <td>...</td>\n",
       "    </tr>\n",
       "    <tr>\n",
       "      <th>V309</th>\n",
       "      <td>12</td>\n",
       "      <td>0.0</td>\n",
       "    </tr>\n",
       "    <tr>\n",
       "      <th>V310</th>\n",
       "      <td>12</td>\n",
       "      <td>0.0</td>\n",
       "    </tr>\n",
       "    <tr>\n",
       "      <th>V311</th>\n",
       "      <td>12</td>\n",
       "      <td>0.0</td>\n",
       "    </tr>\n",
       "    <tr>\n",
       "      <th>V312</th>\n",
       "      <td>12</td>\n",
       "      <td>0.0</td>\n",
       "    </tr>\n",
       "    <tr>\n",
       "      <th>V297</th>\n",
       "      <td>12</td>\n",
       "      <td>0.0</td>\n",
       "    </tr>\n",
       "  </tbody>\n",
       "</table>\n",
       "<p>340 rows × 2 columns</p>\n",
       "</div>"
      ],
      "text/plain": [
       "            Missing Values  % of Total Values\n",
       "DeviceInfo          471874               79.9\n",
       "id_13               463220               78.4\n",
       "id_16               461200               78.1\n",
       "V233                460110               77.9\n",
       "V249                460110               77.9\n",
       "...                    ...                ...\n",
       "V309                    12                0.0\n",
       "V310                    12                0.0\n",
       "V311                    12                0.0\n",
       "V312                    12                0.0\n",
       "V297                    12                0.0\n",
       "\n",
       "[340 rows x 2 columns]"
      ]
     },
     "execution_count": 19,
     "metadata": {},
     "output_type": "execute_result"
    }
   ],
   "source": [
    "missing_values_table(train_df, 'train_df')"
   ]
  },
  {
   "cell_type": "code",
   "execution_count": 20,
   "id": "4d2f7853",
   "metadata": {
    "execution": {
     "iopub.execute_input": "2023-11-07T17:46:38.756082Z",
     "iopub.status.busy": "2023-11-07T17:46:38.755311Z",
     "iopub.status.idle": "2023-11-07T17:46:41.108046Z",
     "shell.execute_reply": "2023-11-07T17:46:41.107009Z"
    },
    "papermill": {
     "duration": 2.394381,
     "end_time": "2023-11-07T17:46:41.110559",
     "exception": false,
     "start_time": "2023-11-07T17:46:38.716178",
     "status": "completed"
    },
    "tags": []
   },
   "outputs": [
    {
     "name": "stdout",
     "output_type": "stream",
     "text": [
      "test_df has  359 columns.\n",
      " There are 311 columns that have missing values.\n"
     ]
    },
    {
     "data": {
      "text/html": [
       "<div>\n",
       "<style scoped>\n",
       "    .dataframe tbody tr th:only-of-type {\n",
       "        vertical-align: middle;\n",
       "    }\n",
       "\n",
       "    .dataframe tbody tr th {\n",
       "        vertical-align: top;\n",
       "    }\n",
       "\n",
       "    .dataframe thead th {\n",
       "        text-align: right;\n",
       "    }\n",
       "</style>\n",
       "<table border=\"1\" class=\"dataframe\">\n",
       "  <thead>\n",
       "    <tr style=\"text-align: right;\">\n",
       "      <th></th>\n",
       "      <th>Missing Values</th>\n",
       "      <th>% of Total Values</th>\n",
       "    </tr>\n",
       "  </thead>\n",
       "  <tbody>\n",
       "    <tr>\n",
       "      <th>DeviceInfo</th>\n",
       "      <td>391634</td>\n",
       "      <td>77.3</td>\n",
       "    </tr>\n",
       "    <tr>\n",
       "      <th>id_16</th>\n",
       "      <td>380944</td>\n",
       "      <td>75.2</td>\n",
       "    </tr>\n",
       "    <tr>\n",
       "      <th>V235</th>\n",
       "      <td>379963</td>\n",
       "      <td>75.0</td>\n",
       "    </tr>\n",
       "    <tr>\n",
       "      <th>V252</th>\n",
       "      <td>379963</td>\n",
       "      <td>75.0</td>\n",
       "    </tr>\n",
       "    <tr>\n",
       "      <th>V249</th>\n",
       "      <td>379963</td>\n",
       "      <td>75.0</td>\n",
       "    </tr>\n",
       "    <tr>\n",
       "      <th>...</th>\n",
       "      <td>...</td>\n",
       "      <td>...</td>\n",
       "    </tr>\n",
       "    <tr>\n",
       "      <th>V307</th>\n",
       "      <td>3</td>\n",
       "      <td>0.0</td>\n",
       "    </tr>\n",
       "    <tr>\n",
       "      <th>V308</th>\n",
       "      <td>3</td>\n",
       "      <td>0.0</td>\n",
       "    </tr>\n",
       "    <tr>\n",
       "      <th>V309</th>\n",
       "      <td>3</td>\n",
       "      <td>0.0</td>\n",
       "    </tr>\n",
       "    <tr>\n",
       "      <th>V310</th>\n",
       "      <td>3</td>\n",
       "      <td>0.0</td>\n",
       "    </tr>\n",
       "    <tr>\n",
       "      <th>V279</th>\n",
       "      <td>3</td>\n",
       "      <td>0.0</td>\n",
       "    </tr>\n",
       "  </tbody>\n",
       "</table>\n",
       "<p>311 rows × 2 columns</p>\n",
       "</div>"
      ],
      "text/plain": [
       "            Missing Values  % of Total Values\n",
       "DeviceInfo          391634               77.3\n",
       "id_16               380944               75.2\n",
       "V235                379963               75.0\n",
       "V252                379963               75.0\n",
       "V249                379963               75.0\n",
       "...                    ...                ...\n",
       "V307                     3                0.0\n",
       "V308                     3                0.0\n",
       "V309                     3                0.0\n",
       "V310                     3                0.0\n",
       "V279                     3                0.0\n",
       "\n",
       "[311 rows x 2 columns]"
      ]
     },
     "execution_count": 20,
     "metadata": {},
     "output_type": "execute_result"
    }
   ],
   "source": [
    "missing_values_table(test_df, 'test_df')"
   ]
  },
  {
   "cell_type": "code",
   "execution_count": 21,
   "id": "32a016ac",
   "metadata": {
    "execution": {
     "iopub.execute_input": "2023-11-07T17:46:41.188712Z",
     "iopub.status.busy": "2023-11-07T17:46:41.188285Z",
     "iopub.status.idle": "2023-11-07T17:46:41.546267Z",
     "shell.execute_reply": "2023-11-07T17:46:41.545083Z"
    },
    "papermill": {
     "duration": 0.399888,
     "end_time": "2023-11-07T17:46:41.548902",
     "exception": false,
     "start_time": "2023-11-07T17:46:41.149014",
     "status": "completed"
    },
    "tags": []
   },
   "outputs": [
    {
     "data": {
      "text/html": [
       "<div>\n",
       "<style scoped>\n",
       "    .dataframe tbody tr th:only-of-type {\n",
       "        vertical-align: middle;\n",
       "    }\n",
       "\n",
       "    .dataframe tbody tr th {\n",
       "        vertical-align: top;\n",
       "    }\n",
       "\n",
       "    .dataframe thead th {\n",
       "        text-align: right;\n",
       "    }\n",
       "</style>\n",
       "<table border=\"1\" class=\"dataframe\">\n",
       "  <thead>\n",
       "    <tr style=\"text-align: right;\">\n",
       "      <th></th>\n",
       "      <th>TransactionID</th>\n",
       "      <th>isFraud</th>\n",
       "      <th>TransactionDT</th>\n",
       "      <th>TransactionAmt</th>\n",
       "      <th>ProductCD</th>\n",
       "      <th>card1</th>\n",
       "      <th>card2</th>\n",
       "      <th>card3</th>\n",
       "      <th>card4</th>\n",
       "      <th>card5</th>\n",
       "      <th>...</th>\n",
       "      <th>id_20</th>\n",
       "      <th>id_28</th>\n",
       "      <th>id_29</th>\n",
       "      <th>id_31</th>\n",
       "      <th>id_35</th>\n",
       "      <th>id_36</th>\n",
       "      <th>id_37</th>\n",
       "      <th>id_38</th>\n",
       "      <th>DeviceType</th>\n",
       "      <th>DeviceInfo</th>\n",
       "    </tr>\n",
       "  </thead>\n",
       "  <tbody>\n",
       "    <tr>\n",
       "      <th>0</th>\n",
       "      <td>2987000</td>\n",
       "      <td>0</td>\n",
       "      <td>86400</td>\n",
       "      <td>68.500000</td>\n",
       "      <td>W</td>\n",
       "      <td>13926</td>\n",
       "      <td>NaN</td>\n",
       "      <td>150.0</td>\n",
       "      <td>discover</td>\n",
       "      <td>142.0</td>\n",
       "      <td>...</td>\n",
       "      <td>NaN</td>\n",
       "      <td>NaN</td>\n",
       "      <td>NaN</td>\n",
       "      <td>NaN</td>\n",
       "      <td>NaN</td>\n",
       "      <td>NaN</td>\n",
       "      <td>NaN</td>\n",
       "      <td>NaN</td>\n",
       "      <td>NaN</td>\n",
       "      <td>NaN</td>\n",
       "    </tr>\n",
       "    <tr>\n",
       "      <th>1</th>\n",
       "      <td>2987001</td>\n",
       "      <td>0</td>\n",
       "      <td>86401</td>\n",
       "      <td>29.000000</td>\n",
       "      <td>W</td>\n",
       "      <td>2755</td>\n",
       "      <td>404.0</td>\n",
       "      <td>150.0</td>\n",
       "      <td>mastercard</td>\n",
       "      <td>102.0</td>\n",
       "      <td>...</td>\n",
       "      <td>NaN</td>\n",
       "      <td>NaN</td>\n",
       "      <td>NaN</td>\n",
       "      <td>NaN</td>\n",
       "      <td>NaN</td>\n",
       "      <td>NaN</td>\n",
       "      <td>NaN</td>\n",
       "      <td>NaN</td>\n",
       "      <td>NaN</td>\n",
       "      <td>NaN</td>\n",
       "    </tr>\n",
       "    <tr>\n",
       "      <th>2</th>\n",
       "      <td>2987002</td>\n",
       "      <td>0</td>\n",
       "      <td>86469</td>\n",
       "      <td>59.000000</td>\n",
       "      <td>W</td>\n",
       "      <td>4663</td>\n",
       "      <td>490.0</td>\n",
       "      <td>150.0</td>\n",
       "      <td>visa</td>\n",
       "      <td>166.0</td>\n",
       "      <td>...</td>\n",
       "      <td>NaN</td>\n",
       "      <td>NaN</td>\n",
       "      <td>NaN</td>\n",
       "      <td>NaN</td>\n",
       "      <td>NaN</td>\n",
       "      <td>NaN</td>\n",
       "      <td>NaN</td>\n",
       "      <td>NaN</td>\n",
       "      <td>NaN</td>\n",
       "      <td>NaN</td>\n",
       "    </tr>\n",
       "    <tr>\n",
       "      <th>3</th>\n",
       "      <td>2987003</td>\n",
       "      <td>0</td>\n",
       "      <td>86499</td>\n",
       "      <td>50.000000</td>\n",
       "      <td>W</td>\n",
       "      <td>18132</td>\n",
       "      <td>567.0</td>\n",
       "      <td>150.0</td>\n",
       "      <td>mastercard</td>\n",
       "      <td>117.0</td>\n",
       "      <td>...</td>\n",
       "      <td>NaN</td>\n",
       "      <td>NaN</td>\n",
       "      <td>NaN</td>\n",
       "      <td>NaN</td>\n",
       "      <td>NaN</td>\n",
       "      <td>NaN</td>\n",
       "      <td>NaN</td>\n",
       "      <td>NaN</td>\n",
       "      <td>NaN</td>\n",
       "      <td>NaN</td>\n",
       "    </tr>\n",
       "    <tr>\n",
       "      <th>4</th>\n",
       "      <td>2987004</td>\n",
       "      <td>0</td>\n",
       "      <td>86506</td>\n",
       "      <td>50.000000</td>\n",
       "      <td>H</td>\n",
       "      <td>4497</td>\n",
       "      <td>514.0</td>\n",
       "      <td>150.0</td>\n",
       "      <td>mastercard</td>\n",
       "      <td>102.0</td>\n",
       "      <td>...</td>\n",
       "      <td>144.0</td>\n",
       "      <td>New</td>\n",
       "      <td>NotFound</td>\n",
       "      <td>samsung browser 6.2</td>\n",
       "      <td>T</td>\n",
       "      <td>F</td>\n",
       "      <td>T</td>\n",
       "      <td>T</td>\n",
       "      <td>mobile</td>\n",
       "      <td>SAMSUNG SM-G892A Build/NRD90M</td>\n",
       "    </tr>\n",
       "    <tr>\n",
       "      <th>...</th>\n",
       "      <td>...</td>\n",
       "      <td>...</td>\n",
       "      <td>...</td>\n",
       "      <td>...</td>\n",
       "      <td>...</td>\n",
       "      <td>...</td>\n",
       "      <td>...</td>\n",
       "      <td>...</td>\n",
       "      <td>...</td>\n",
       "      <td>...</td>\n",
       "      <td>...</td>\n",
       "      <td>...</td>\n",
       "      <td>...</td>\n",
       "      <td>...</td>\n",
       "      <td>...</td>\n",
       "      <td>...</td>\n",
       "      <td>...</td>\n",
       "      <td>...</td>\n",
       "      <td>...</td>\n",
       "      <td>...</td>\n",
       "      <td>...</td>\n",
       "    </tr>\n",
       "    <tr>\n",
       "      <th>590535</th>\n",
       "      <td>3577535</td>\n",
       "      <td>0</td>\n",
       "      <td>15811047</td>\n",
       "      <td>49.000000</td>\n",
       "      <td>W</td>\n",
       "      <td>6550</td>\n",
       "      <td>NaN</td>\n",
       "      <td>150.0</td>\n",
       "      <td>visa</td>\n",
       "      <td>226.0</td>\n",
       "      <td>...</td>\n",
       "      <td>NaN</td>\n",
       "      <td>NaN</td>\n",
       "      <td>NaN</td>\n",
       "      <td>NaN</td>\n",
       "      <td>NaN</td>\n",
       "      <td>NaN</td>\n",
       "      <td>NaN</td>\n",
       "      <td>NaN</td>\n",
       "      <td>NaN</td>\n",
       "      <td>NaN</td>\n",
       "    </tr>\n",
       "    <tr>\n",
       "      <th>590536</th>\n",
       "      <td>3577536</td>\n",
       "      <td>0</td>\n",
       "      <td>15811049</td>\n",
       "      <td>39.500000</td>\n",
       "      <td>W</td>\n",
       "      <td>10444</td>\n",
       "      <td>225.0</td>\n",
       "      <td>150.0</td>\n",
       "      <td>mastercard</td>\n",
       "      <td>224.0</td>\n",
       "      <td>...</td>\n",
       "      <td>NaN</td>\n",
       "      <td>NaN</td>\n",
       "      <td>NaN</td>\n",
       "      <td>NaN</td>\n",
       "      <td>NaN</td>\n",
       "      <td>NaN</td>\n",
       "      <td>NaN</td>\n",
       "      <td>NaN</td>\n",
       "      <td>NaN</td>\n",
       "      <td>NaN</td>\n",
       "    </tr>\n",
       "    <tr>\n",
       "      <th>590537</th>\n",
       "      <td>3577537</td>\n",
       "      <td>0</td>\n",
       "      <td>15811079</td>\n",
       "      <td>30.950001</td>\n",
       "      <td>W</td>\n",
       "      <td>12037</td>\n",
       "      <td>595.0</td>\n",
       "      <td>150.0</td>\n",
       "      <td>mastercard</td>\n",
       "      <td>224.0</td>\n",
       "      <td>...</td>\n",
       "      <td>NaN</td>\n",
       "      <td>NaN</td>\n",
       "      <td>NaN</td>\n",
       "      <td>NaN</td>\n",
       "      <td>NaN</td>\n",
       "      <td>NaN</td>\n",
       "      <td>NaN</td>\n",
       "      <td>NaN</td>\n",
       "      <td>NaN</td>\n",
       "      <td>NaN</td>\n",
       "    </tr>\n",
       "    <tr>\n",
       "      <th>590538</th>\n",
       "      <td>3577538</td>\n",
       "      <td>0</td>\n",
       "      <td>15811088</td>\n",
       "      <td>117.000000</td>\n",
       "      <td>W</td>\n",
       "      <td>7826</td>\n",
       "      <td>481.0</td>\n",
       "      <td>150.0</td>\n",
       "      <td>mastercard</td>\n",
       "      <td>224.0</td>\n",
       "      <td>...</td>\n",
       "      <td>NaN</td>\n",
       "      <td>NaN</td>\n",
       "      <td>NaN</td>\n",
       "      <td>NaN</td>\n",
       "      <td>NaN</td>\n",
       "      <td>NaN</td>\n",
       "      <td>NaN</td>\n",
       "      <td>NaN</td>\n",
       "      <td>NaN</td>\n",
       "      <td>NaN</td>\n",
       "    </tr>\n",
       "    <tr>\n",
       "      <th>590539</th>\n",
       "      <td>3577539</td>\n",
       "      <td>0</td>\n",
       "      <td>15811131</td>\n",
       "      <td>279.950012</td>\n",
       "      <td>W</td>\n",
       "      <td>15066</td>\n",
       "      <td>170.0</td>\n",
       "      <td>150.0</td>\n",
       "      <td>mastercard</td>\n",
       "      <td>102.0</td>\n",
       "      <td>...</td>\n",
       "      <td>NaN</td>\n",
       "      <td>NaN</td>\n",
       "      <td>NaN</td>\n",
       "      <td>NaN</td>\n",
       "      <td>NaN</td>\n",
       "      <td>NaN</td>\n",
       "      <td>NaN</td>\n",
       "      <td>NaN</td>\n",
       "      <td>NaN</td>\n",
       "      <td>NaN</td>\n",
       "    </tr>\n",
       "  </tbody>\n",
       "</table>\n",
       "<p>590540 rows × 360 columns</p>\n",
       "</div>"
      ],
      "text/plain": [
       "        TransactionID  isFraud  TransactionDT  TransactionAmt ProductCD  \\\n",
       "0             2987000        0          86400       68.500000         W   \n",
       "1             2987001        0          86401       29.000000         W   \n",
       "2             2987002        0          86469       59.000000         W   \n",
       "3             2987003        0          86499       50.000000         W   \n",
       "4             2987004        0          86506       50.000000         H   \n",
       "...               ...      ...            ...             ...       ...   \n",
       "590535        3577535        0       15811047       49.000000         W   \n",
       "590536        3577536        0       15811049       39.500000         W   \n",
       "590537        3577537        0       15811079       30.950001         W   \n",
       "590538        3577538        0       15811088      117.000000         W   \n",
       "590539        3577539        0       15811131      279.950012         W   \n",
       "\n",
       "        card1  card2  card3       card4  card5  ...  id_20  id_28     id_29  \\\n",
       "0       13926    NaN  150.0    discover  142.0  ...    NaN    NaN       NaN   \n",
       "1        2755  404.0  150.0  mastercard  102.0  ...    NaN    NaN       NaN   \n",
       "2        4663  490.0  150.0        visa  166.0  ...    NaN    NaN       NaN   \n",
       "3       18132  567.0  150.0  mastercard  117.0  ...    NaN    NaN       NaN   \n",
       "4        4497  514.0  150.0  mastercard  102.0  ...  144.0    New  NotFound   \n",
       "...       ...    ...    ...         ...    ...  ...    ...    ...       ...   \n",
       "590535   6550    NaN  150.0        visa  226.0  ...    NaN    NaN       NaN   \n",
       "590536  10444  225.0  150.0  mastercard  224.0  ...    NaN    NaN       NaN   \n",
       "590537  12037  595.0  150.0  mastercard  224.0  ...    NaN    NaN       NaN   \n",
       "590538   7826  481.0  150.0  mastercard  224.0  ...    NaN    NaN       NaN   \n",
       "590539  15066  170.0  150.0  mastercard  102.0  ...    NaN    NaN       NaN   \n",
       "\n",
       "                      id_31 id_35 id_36  id_37  id_38  DeviceType  \\\n",
       "0                       NaN   NaN   NaN    NaN    NaN         NaN   \n",
       "1                       NaN   NaN   NaN    NaN    NaN         NaN   \n",
       "2                       NaN   NaN   NaN    NaN    NaN         NaN   \n",
       "3                       NaN   NaN   NaN    NaN    NaN         NaN   \n",
       "4       samsung browser 6.2     T     F      T      T      mobile   \n",
       "...                     ...   ...   ...    ...    ...         ...   \n",
       "590535                  NaN   NaN   NaN    NaN    NaN         NaN   \n",
       "590536                  NaN   NaN   NaN    NaN    NaN         NaN   \n",
       "590537                  NaN   NaN   NaN    NaN    NaN         NaN   \n",
       "590538                  NaN   NaN   NaN    NaN    NaN         NaN   \n",
       "590539                  NaN   NaN   NaN    NaN    NaN         NaN   \n",
       "\n",
       "                           DeviceInfo  \n",
       "0                                 NaN  \n",
       "1                                 NaN  \n",
       "2                                 NaN  \n",
       "3                                 NaN  \n",
       "4       SAMSUNG SM-G892A Build/NRD90M  \n",
       "...                               ...  \n",
       "590535                            NaN  \n",
       "590536                            NaN  \n",
       "590537                            NaN  \n",
       "590538                            NaN  \n",
       "590539                            NaN  \n",
       "\n",
       "[590540 rows x 360 columns]"
      ]
     },
     "execution_count": 21,
     "metadata": {},
     "output_type": "execute_result"
    }
   ],
   "source": [
    "train_df"
   ]
  },
  {
   "cell_type": "markdown",
   "id": "4840c250",
   "metadata": {
    "papermill": {
     "duration": 0.039241,
     "end_time": "2023-11-07T17:46:41.627868",
     "exception": false,
     "start_time": "2023-11-07T17:46:41.588627",
     "status": "completed"
    },
    "tags": []
   },
   "source": [
    "#### Заполним пропуски тренировочного и тестового датасетов"
   ]
  },
  {
   "cell_type": "markdown",
   "id": "dd21283a",
   "metadata": {
    "papermill": {
     "duration": 0.04011,
     "end_time": "2023-11-07T17:46:41.707219",
     "exception": false,
     "start_time": "2023-11-07T17:46:41.667109",
     "status": "completed"
    },
    "tags": []
   },
   "source": [
    "Создадим списки числовых и категориальных признаков:"
   ]
  },
  {
   "cell_type": "code",
   "execution_count": 22,
   "id": "b3236a27",
   "metadata": {
    "execution": {
     "iopub.execute_input": "2023-11-07T17:46:41.787900Z",
     "iopub.status.busy": "2023-11-07T17:46:41.787448Z",
     "iopub.status.idle": "2023-11-07T17:46:42.079231Z",
     "shell.execute_reply": "2023-11-07T17:46:42.077864Z"
    },
    "papermill": {
     "duration": 0.335491,
     "end_time": "2023-11-07T17:46:42.081747",
     "exception": false,
     "start_time": "2023-11-07T17:46:41.746256",
     "status": "completed"
    },
    "tags": []
   },
   "outputs": [
    {
     "name": "stdout",
     "output_type": "stream",
     "text": [
      "len cat_features:  26\n",
      "len num_features:  332\n"
     ]
    }
   ],
   "source": [
    "cat_features = train_df.select_dtypes(include=['object']).columns\n",
    "num_features = [x for x in train_df.columns.values[2:] \n",
    "                if x not in cat_features]\n",
    "print('len cat_features: ', len(cat_features))\n",
    "print('len num_features: ', len(num_features))"
   ]
  },
  {
   "cell_type": "markdown",
   "id": "fca9d61f",
   "metadata": {
    "papermill": {
     "duration": 0.040815,
     "end_time": "2023-11-07T17:46:42.161394",
     "exception": false,
     "start_time": "2023-11-07T17:46:42.120579",
     "status": "completed"
    },
    "tags": []
   },
   "source": [
    "Пропуски в числовых признаках мы заполним средним по колонке"
   ]
  },
  {
   "cell_type": "code",
   "execution_count": 23,
   "id": "b416dc2f",
   "metadata": {
    "execution": {
     "iopub.execute_input": "2023-11-07T17:46:42.241647Z",
     "iopub.status.busy": "2023-11-07T17:46:42.240847Z",
     "iopub.status.idle": "2023-11-07T17:46:47.618513Z",
     "shell.execute_reply": "2023-11-07T17:46:47.617390Z"
    },
    "papermill": {
     "duration": 5.421117,
     "end_time": "2023-11-07T17:46:47.621284",
     "exception": false,
     "start_time": "2023-11-07T17:46:42.200167",
     "status": "completed"
    },
    "tags": []
   },
   "outputs": [],
   "source": [
    "train_df[num_features] = train_df[num_features].fillna(\n",
    "    train_df[num_features].mean())"
   ]
  },
  {
   "cell_type": "markdown",
   "id": "7413efdd",
   "metadata": {
    "papermill": {
     "duration": 0.038818,
     "end_time": "2023-11-07T17:46:47.700181",
     "exception": false,
     "start_time": "2023-11-07T17:46:47.661363",
     "status": "completed"
    },
    "tags": []
   },
   "source": [
    "Для категориальных признаков будем использовать ```-1.0``` в качестве символа пропуска:"
   ]
  },
  {
   "cell_type": "code",
   "execution_count": 24,
   "id": "6c82d672",
   "metadata": {
    "execution": {
     "iopub.execute_input": "2023-11-07T17:46:47.781246Z",
     "iopub.status.busy": "2023-11-07T17:46:47.780812Z",
     "iopub.status.idle": "2023-11-07T17:46:49.623338Z",
     "shell.execute_reply": "2023-11-07T17:46:49.621960Z"
    },
    "papermill": {
     "duration": 1.885616,
     "end_time": "2023-11-07T17:46:49.626406",
     "exception": false,
     "start_time": "2023-11-07T17:46:47.740790",
     "status": "completed"
    },
    "tags": []
   },
   "outputs": [],
   "source": [
    "train_df = train_df.fillna(-1)"
   ]
  },
  {
   "cell_type": "code",
   "execution_count": 25,
   "id": "21b7caca",
   "metadata": {
    "execution": {
     "iopub.execute_input": "2023-11-07T17:46:49.709248Z",
     "iopub.status.busy": "2023-11-07T17:46:49.708703Z",
     "iopub.status.idle": "2023-11-07T17:46:50.266461Z",
     "shell.execute_reply": "2023-11-07T17:46:50.265365Z"
    },
    "papermill": {
     "duration": 0.602783,
     "end_time": "2023-11-07T17:46:50.268925",
     "exception": false,
     "start_time": "2023-11-07T17:46:49.666142",
     "status": "completed"
    },
    "tags": []
   },
   "outputs": [
    {
     "data": {
      "text/html": [
       "<div>\n",
       "<style scoped>\n",
       "    .dataframe tbody tr th:only-of-type {\n",
       "        vertical-align: middle;\n",
       "    }\n",
       "\n",
       "    .dataframe tbody tr th {\n",
       "        vertical-align: top;\n",
       "    }\n",
       "\n",
       "    .dataframe thead th {\n",
       "        text-align: right;\n",
       "    }\n",
       "</style>\n",
       "<table border=\"1\" class=\"dataframe\">\n",
       "  <thead>\n",
       "    <tr style=\"text-align: right;\">\n",
       "      <th></th>\n",
       "      <th>TransactionID</th>\n",
       "      <th>isFraud</th>\n",
       "      <th>TransactionDT</th>\n",
       "      <th>TransactionAmt</th>\n",
       "      <th>ProductCD</th>\n",
       "      <th>card1</th>\n",
       "      <th>card2</th>\n",
       "      <th>card3</th>\n",
       "      <th>card4</th>\n",
       "      <th>card5</th>\n",
       "      <th>...</th>\n",
       "      <th>id_20</th>\n",
       "      <th>id_28</th>\n",
       "      <th>id_29</th>\n",
       "      <th>id_31</th>\n",
       "      <th>id_35</th>\n",
       "      <th>id_36</th>\n",
       "      <th>id_37</th>\n",
       "      <th>id_38</th>\n",
       "      <th>DeviceType</th>\n",
       "      <th>DeviceInfo</th>\n",
       "    </tr>\n",
       "  </thead>\n",
       "  <tbody>\n",
       "    <tr>\n",
       "      <th>0</th>\n",
       "      <td>2987000</td>\n",
       "      <td>0</td>\n",
       "      <td>86400</td>\n",
       "      <td>68.500000</td>\n",
       "      <td>W</td>\n",
       "      <td>13926</td>\n",
       "      <td>362.555511</td>\n",
       "      <td>150.0</td>\n",
       "      <td>discover</td>\n",
       "      <td>142.0</td>\n",
       "      <td>...</td>\n",
       "      <td>403.882568</td>\n",
       "      <td>-1</td>\n",
       "      <td>-1</td>\n",
       "      <td>-1</td>\n",
       "      <td>-1</td>\n",
       "      <td>-1</td>\n",
       "      <td>-1</td>\n",
       "      <td>-1</td>\n",
       "      <td>-1</td>\n",
       "      <td>-1</td>\n",
       "    </tr>\n",
       "    <tr>\n",
       "      <th>1</th>\n",
       "      <td>2987001</td>\n",
       "      <td>0</td>\n",
       "      <td>86401</td>\n",
       "      <td>29.000000</td>\n",
       "      <td>W</td>\n",
       "      <td>2755</td>\n",
       "      <td>404.000000</td>\n",
       "      <td>150.0</td>\n",
       "      <td>mastercard</td>\n",
       "      <td>102.0</td>\n",
       "      <td>...</td>\n",
       "      <td>403.882568</td>\n",
       "      <td>-1</td>\n",
       "      <td>-1</td>\n",
       "      <td>-1</td>\n",
       "      <td>-1</td>\n",
       "      <td>-1</td>\n",
       "      <td>-1</td>\n",
       "      <td>-1</td>\n",
       "      <td>-1</td>\n",
       "      <td>-1</td>\n",
       "    </tr>\n",
       "    <tr>\n",
       "      <th>2</th>\n",
       "      <td>2987002</td>\n",
       "      <td>0</td>\n",
       "      <td>86469</td>\n",
       "      <td>59.000000</td>\n",
       "      <td>W</td>\n",
       "      <td>4663</td>\n",
       "      <td>490.000000</td>\n",
       "      <td>150.0</td>\n",
       "      <td>visa</td>\n",
       "      <td>166.0</td>\n",
       "      <td>...</td>\n",
       "      <td>403.882568</td>\n",
       "      <td>-1</td>\n",
       "      <td>-1</td>\n",
       "      <td>-1</td>\n",
       "      <td>-1</td>\n",
       "      <td>-1</td>\n",
       "      <td>-1</td>\n",
       "      <td>-1</td>\n",
       "      <td>-1</td>\n",
       "      <td>-1</td>\n",
       "    </tr>\n",
       "    <tr>\n",
       "      <th>3</th>\n",
       "      <td>2987003</td>\n",
       "      <td>0</td>\n",
       "      <td>86499</td>\n",
       "      <td>50.000000</td>\n",
       "      <td>W</td>\n",
       "      <td>18132</td>\n",
       "      <td>567.000000</td>\n",
       "      <td>150.0</td>\n",
       "      <td>mastercard</td>\n",
       "      <td>117.0</td>\n",
       "      <td>...</td>\n",
       "      <td>403.882568</td>\n",
       "      <td>-1</td>\n",
       "      <td>-1</td>\n",
       "      <td>-1</td>\n",
       "      <td>-1</td>\n",
       "      <td>-1</td>\n",
       "      <td>-1</td>\n",
       "      <td>-1</td>\n",
       "      <td>-1</td>\n",
       "      <td>-1</td>\n",
       "    </tr>\n",
       "    <tr>\n",
       "      <th>4</th>\n",
       "      <td>2987004</td>\n",
       "      <td>0</td>\n",
       "      <td>86506</td>\n",
       "      <td>50.000000</td>\n",
       "      <td>H</td>\n",
       "      <td>4497</td>\n",
       "      <td>514.000000</td>\n",
       "      <td>150.0</td>\n",
       "      <td>mastercard</td>\n",
       "      <td>102.0</td>\n",
       "      <td>...</td>\n",
       "      <td>144.000000</td>\n",
       "      <td>New</td>\n",
       "      <td>NotFound</td>\n",
       "      <td>samsung browser 6.2</td>\n",
       "      <td>T</td>\n",
       "      <td>F</td>\n",
       "      <td>T</td>\n",
       "      <td>T</td>\n",
       "      <td>mobile</td>\n",
       "      <td>SAMSUNG SM-G892A Build/NRD90M</td>\n",
       "    </tr>\n",
       "    <tr>\n",
       "      <th>...</th>\n",
       "      <td>...</td>\n",
       "      <td>...</td>\n",
       "      <td>...</td>\n",
       "      <td>...</td>\n",
       "      <td>...</td>\n",
       "      <td>...</td>\n",
       "      <td>...</td>\n",
       "      <td>...</td>\n",
       "      <td>...</td>\n",
       "      <td>...</td>\n",
       "      <td>...</td>\n",
       "      <td>...</td>\n",
       "      <td>...</td>\n",
       "      <td>...</td>\n",
       "      <td>...</td>\n",
       "      <td>...</td>\n",
       "      <td>...</td>\n",
       "      <td>...</td>\n",
       "      <td>...</td>\n",
       "      <td>...</td>\n",
       "      <td>...</td>\n",
       "    </tr>\n",
       "    <tr>\n",
       "      <th>590535</th>\n",
       "      <td>3577535</td>\n",
       "      <td>0</td>\n",
       "      <td>15811047</td>\n",
       "      <td>49.000000</td>\n",
       "      <td>W</td>\n",
       "      <td>6550</td>\n",
       "      <td>362.555511</td>\n",
       "      <td>150.0</td>\n",
       "      <td>visa</td>\n",
       "      <td>226.0</td>\n",
       "      <td>...</td>\n",
       "      <td>403.882568</td>\n",
       "      <td>-1</td>\n",
       "      <td>-1</td>\n",
       "      <td>-1</td>\n",
       "      <td>-1</td>\n",
       "      <td>-1</td>\n",
       "      <td>-1</td>\n",
       "      <td>-1</td>\n",
       "      <td>-1</td>\n",
       "      <td>-1</td>\n",
       "    </tr>\n",
       "    <tr>\n",
       "      <th>590536</th>\n",
       "      <td>3577536</td>\n",
       "      <td>0</td>\n",
       "      <td>15811049</td>\n",
       "      <td>39.500000</td>\n",
       "      <td>W</td>\n",
       "      <td>10444</td>\n",
       "      <td>225.000000</td>\n",
       "      <td>150.0</td>\n",
       "      <td>mastercard</td>\n",
       "      <td>224.0</td>\n",
       "      <td>...</td>\n",
       "      <td>403.882568</td>\n",
       "      <td>-1</td>\n",
       "      <td>-1</td>\n",
       "      <td>-1</td>\n",
       "      <td>-1</td>\n",
       "      <td>-1</td>\n",
       "      <td>-1</td>\n",
       "      <td>-1</td>\n",
       "      <td>-1</td>\n",
       "      <td>-1</td>\n",
       "    </tr>\n",
       "    <tr>\n",
       "      <th>590537</th>\n",
       "      <td>3577537</td>\n",
       "      <td>0</td>\n",
       "      <td>15811079</td>\n",
       "      <td>30.950001</td>\n",
       "      <td>W</td>\n",
       "      <td>12037</td>\n",
       "      <td>595.000000</td>\n",
       "      <td>150.0</td>\n",
       "      <td>mastercard</td>\n",
       "      <td>224.0</td>\n",
       "      <td>...</td>\n",
       "      <td>403.882568</td>\n",
       "      <td>-1</td>\n",
       "      <td>-1</td>\n",
       "      <td>-1</td>\n",
       "      <td>-1</td>\n",
       "      <td>-1</td>\n",
       "      <td>-1</td>\n",
       "      <td>-1</td>\n",
       "      <td>-1</td>\n",
       "      <td>-1</td>\n",
       "    </tr>\n",
       "    <tr>\n",
       "      <th>590538</th>\n",
       "      <td>3577538</td>\n",
       "      <td>0</td>\n",
       "      <td>15811088</td>\n",
       "      <td>117.000000</td>\n",
       "      <td>W</td>\n",
       "      <td>7826</td>\n",
       "      <td>481.000000</td>\n",
       "      <td>150.0</td>\n",
       "      <td>mastercard</td>\n",
       "      <td>224.0</td>\n",
       "      <td>...</td>\n",
       "      <td>403.882568</td>\n",
       "      <td>-1</td>\n",
       "      <td>-1</td>\n",
       "      <td>-1</td>\n",
       "      <td>-1</td>\n",
       "      <td>-1</td>\n",
       "      <td>-1</td>\n",
       "      <td>-1</td>\n",
       "      <td>-1</td>\n",
       "      <td>-1</td>\n",
       "    </tr>\n",
       "    <tr>\n",
       "      <th>590539</th>\n",
       "      <td>3577539</td>\n",
       "      <td>0</td>\n",
       "      <td>15811131</td>\n",
       "      <td>279.950012</td>\n",
       "      <td>W</td>\n",
       "      <td>15066</td>\n",
       "      <td>170.000000</td>\n",
       "      <td>150.0</td>\n",
       "      <td>mastercard</td>\n",
       "      <td>102.0</td>\n",
       "      <td>...</td>\n",
       "      <td>403.882568</td>\n",
       "      <td>-1</td>\n",
       "      <td>-1</td>\n",
       "      <td>-1</td>\n",
       "      <td>-1</td>\n",
       "      <td>-1</td>\n",
       "      <td>-1</td>\n",
       "      <td>-1</td>\n",
       "      <td>-1</td>\n",
       "      <td>-1</td>\n",
       "    </tr>\n",
       "  </tbody>\n",
       "</table>\n",
       "<p>590540 rows × 360 columns</p>\n",
       "</div>"
      ],
      "text/plain": [
       "        TransactionID  isFraud  TransactionDT  TransactionAmt ProductCD  \\\n",
       "0             2987000        0          86400       68.500000         W   \n",
       "1             2987001        0          86401       29.000000         W   \n",
       "2             2987002        0          86469       59.000000         W   \n",
       "3             2987003        0          86499       50.000000         W   \n",
       "4             2987004        0          86506       50.000000         H   \n",
       "...               ...      ...            ...             ...       ...   \n",
       "590535        3577535        0       15811047       49.000000         W   \n",
       "590536        3577536        0       15811049       39.500000         W   \n",
       "590537        3577537        0       15811079       30.950001         W   \n",
       "590538        3577538        0       15811088      117.000000         W   \n",
       "590539        3577539        0       15811131      279.950012         W   \n",
       "\n",
       "        card1       card2  card3       card4  card5  ...       id_20  id_28  \\\n",
       "0       13926  362.555511  150.0    discover  142.0  ...  403.882568     -1   \n",
       "1        2755  404.000000  150.0  mastercard  102.0  ...  403.882568     -1   \n",
       "2        4663  490.000000  150.0        visa  166.0  ...  403.882568     -1   \n",
       "3       18132  567.000000  150.0  mastercard  117.0  ...  403.882568     -1   \n",
       "4        4497  514.000000  150.0  mastercard  102.0  ...  144.000000    New   \n",
       "...       ...         ...    ...         ...    ...  ...         ...    ...   \n",
       "590535   6550  362.555511  150.0        visa  226.0  ...  403.882568     -1   \n",
       "590536  10444  225.000000  150.0  mastercard  224.0  ...  403.882568     -1   \n",
       "590537  12037  595.000000  150.0  mastercard  224.0  ...  403.882568     -1   \n",
       "590538   7826  481.000000  150.0  mastercard  224.0  ...  403.882568     -1   \n",
       "590539  15066  170.000000  150.0  mastercard  102.0  ...  403.882568     -1   \n",
       "\n",
       "           id_29                id_31 id_35 id_36  id_37  id_38  DeviceType  \\\n",
       "0             -1                   -1    -1    -1     -1     -1          -1   \n",
       "1             -1                   -1    -1    -1     -1     -1          -1   \n",
       "2             -1                   -1    -1    -1     -1     -1          -1   \n",
       "3             -1                   -1    -1    -1     -1     -1          -1   \n",
       "4       NotFound  samsung browser 6.2     T     F      T      T      mobile   \n",
       "...          ...                  ...   ...   ...    ...    ...         ...   \n",
       "590535        -1                   -1    -1    -1     -1     -1          -1   \n",
       "590536        -1                   -1    -1    -1     -1     -1          -1   \n",
       "590537        -1                   -1    -1    -1     -1     -1          -1   \n",
       "590538        -1                   -1    -1    -1     -1     -1          -1   \n",
       "590539        -1                   -1    -1    -1     -1     -1          -1   \n",
       "\n",
       "                           DeviceInfo  \n",
       "0                                  -1  \n",
       "1                                  -1  \n",
       "2                                  -1  \n",
       "3                                  -1  \n",
       "4       SAMSUNG SM-G892A Build/NRD90M  \n",
       "...                               ...  \n",
       "590535                             -1  \n",
       "590536                             -1  \n",
       "590537                             -1  \n",
       "590538                             -1  \n",
       "590539                             -1  \n",
       "\n",
       "[590540 rows x 360 columns]"
      ]
     },
     "execution_count": 25,
     "metadata": {},
     "output_type": "execute_result"
    }
   ],
   "source": [
    "train_df"
   ]
  },
  {
   "cell_type": "markdown",
   "id": "28c9c00e",
   "metadata": {
    "papermill": {
     "duration": 0.03999,
     "end_time": "2023-11-07T17:46:50.349067",
     "exception": false,
     "start_time": "2023-11-07T17:46:50.309077",
     "status": "completed"
    },
    "tags": []
   },
   "source": [
    "Аналогично заполним пропуски в тестовом датасете:"
   ]
  },
  {
   "cell_type": "code",
   "execution_count": 26,
   "id": "fd3d86f5",
   "metadata": {
    "execution": {
     "iopub.execute_input": "2023-11-07T17:46:50.430656Z",
     "iopub.status.busy": "2023-11-07T17:46:50.430014Z",
     "iopub.status.idle": "2023-11-07T17:46:53.857685Z",
     "shell.execute_reply": "2023-11-07T17:46:53.856450Z"
    },
    "papermill": {
     "duration": 3.472015,
     "end_time": "2023-11-07T17:46:53.860493",
     "exception": false,
     "start_time": "2023-11-07T17:46:50.388478",
     "status": "completed"
    },
    "tags": []
   },
   "outputs": [],
   "source": [
    "test_df[num_features] = test_df[num_features].fillna(\n",
    "    test_df[num_features].mean())"
   ]
  },
  {
   "cell_type": "code",
   "execution_count": 27,
   "id": "67d89fe1",
   "metadata": {
    "execution": {
     "iopub.execute_input": "2023-11-07T17:46:53.942201Z",
     "iopub.status.busy": "2023-11-07T17:46:53.941763Z",
     "iopub.status.idle": "2023-11-07T17:46:55.508624Z",
     "shell.execute_reply": "2023-11-07T17:46:55.507538Z"
    },
    "papermill": {
     "duration": 1.610845,
     "end_time": "2023-11-07T17:46:55.511406",
     "exception": false,
     "start_time": "2023-11-07T17:46:53.900561",
     "status": "completed"
    },
    "tags": []
   },
   "outputs": [],
   "source": [
    "test_df = test_df.fillna(-1)"
   ]
  },
  {
   "cell_type": "markdown",
   "id": "48b0e3e8",
   "metadata": {
    "papermill": {
     "duration": 0.041073,
     "end_time": "2023-11-07T17:46:55.593782",
     "exception": false,
     "start_time": "2023-11-07T17:46:55.552709",
     "status": "completed"
    },
    "tags": []
   },
   "source": [
    "#### Посмотрим на распределение целевой переменной ```isFraud```"
   ]
  },
  {
   "cell_type": "code",
   "execution_count": 28,
   "id": "5e7ea685",
   "metadata": {
    "execution": {
     "iopub.execute_input": "2023-11-07T17:46:55.674312Z",
     "iopub.status.busy": "2023-11-07T17:46:55.673862Z",
     "iopub.status.idle": "2023-11-07T17:46:55.698765Z",
     "shell.execute_reply": "2023-11-07T17:46:55.697730Z"
    },
    "papermill": {
     "duration": 0.067874,
     "end_time": "2023-11-07T17:46:55.701204",
     "exception": false,
     "start_time": "2023-11-07T17:46:55.633330",
     "status": "completed"
    },
    "tags": []
   },
   "outputs": [
    {
     "data": {
      "text/html": [
       "<div>\n",
       "<style scoped>\n",
       "    .dataframe tbody tr th:only-of-type {\n",
       "        vertical-align: middle;\n",
       "    }\n",
       "\n",
       "    .dataframe tbody tr th {\n",
       "        vertical-align: top;\n",
       "    }\n",
       "\n",
       "    .dataframe thead th {\n",
       "        text-align: right;\n",
       "    }\n",
       "</style>\n",
       "<table border=\"1\" class=\"dataframe\">\n",
       "  <thead>\n",
       "    <tr style=\"text-align: right;\">\n",
       "      <th></th>\n",
       "      <th>Count</th>\n",
       "      <th>Percent</th>\n",
       "    </tr>\n",
       "    <tr>\n",
       "      <th>isFraud</th>\n",
       "      <th></th>\n",
       "      <th></th>\n",
       "    </tr>\n",
       "  </thead>\n",
       "  <tbody>\n",
       "    <tr>\n",
       "      <th>0</th>\n",
       "      <td>569877</td>\n",
       "      <td>0.96501</td>\n",
       "    </tr>\n",
       "    <tr>\n",
       "      <th>1</th>\n",
       "      <td>20663</td>\n",
       "      <td>0.03499</td>\n",
       "    </tr>\n",
       "  </tbody>\n",
       "</table>\n",
       "</div>"
      ],
      "text/plain": [
       "          Count  Percent\n",
       "isFraud                 \n",
       "0        569877  0.96501\n",
       "1         20663  0.03499"
      ]
     },
     "execution_count": 28,
     "metadata": {},
     "output_type": "execute_result"
    }
   ],
   "source": [
    "isFraud_count = train_df['isFraud'].value_counts()\n",
    "isFraud_prct = train_df['isFraud'].value_counts()/len(train_df)\n",
    "\n",
    "pd.concat([isFraud_count, isFraud_prct], axis=1, keys=['Count', 'Percent'])"
   ]
  },
  {
   "cell_type": "code",
   "execution_count": 29,
   "id": "8d4f7c03",
   "metadata": {
    "execution": {
     "iopub.execute_input": "2023-11-07T17:46:55.785255Z",
     "iopub.status.busy": "2023-11-07T17:46:55.784808Z",
     "iopub.status.idle": "2023-11-07T17:46:55.795690Z",
     "shell.execute_reply": "2023-11-07T17:46:55.794337Z"
    },
    "papermill": {
     "duration": 0.056786,
     "end_time": "2023-11-07T17:46:55.798113",
     "exception": false,
     "start_time": "2023-11-07T17:46:55.741327",
     "status": "completed"
    },
    "tags": []
   },
   "outputs": [],
   "source": [
    "colors = ['#1f77b4', '#ff7f0e', '#2ca02c', '#d62728', '#9467bd',\n",
    "          '#8c564b', '#e377c2', '#7f7f7f', '#bcbd22', '#17becf']\n",
    "\n",
    "def plot_value_counts(feature, title, df):\n",
    "    ax = df[df[feature] != -1][feature].value_counts().plot(kind='bar',\n",
    "                                        figsize=(7,5),\n",
    "                                        xlabel=title,\n",
    "                                        ylabel='count',\n",
    "                                        edgecolor='k',\n",
    "                                        color=colors)\n",
    "    ax.set_title(f'Percentage of {title}')\n",
    "    counts = df[feature].value_counts()/len(df)\n",
    "    \n",
    "    rects = ax.patches\n",
    "    labels_arr = ['{0:.2f}%'.format(count*100) for count in counts]\n",
    "    \n",
    "    if (len(labels_arr) > 2):\n",
    "        plt.xticks(rotation=0, size=8)\n",
    "        \n",
    "    for rect, label in zip(rects, labels_arr):\n",
    "        height = rect.get_height()\n",
    "        ax.text(\n",
    "            rect.get_x() + rect.get_width() / 2, height, label, ha='center', va='bottom'\n",
    "        )\n",
    "    \n",
    "    plt.show()"
   ]
  },
  {
   "cell_type": "code",
   "execution_count": 30,
   "id": "e6074164",
   "metadata": {
    "execution": {
     "iopub.execute_input": "2023-11-07T17:46:55.884579Z",
     "iopub.status.busy": "2023-11-07T17:46:55.884140Z",
     "iopub.status.idle": "2023-11-07T17:46:58.077128Z",
     "shell.execute_reply": "2023-11-07T17:46:58.075857Z"
    },
    "papermill": {
     "duration": 2.240064,
     "end_time": "2023-11-07T17:46:58.080058",
     "exception": false,
     "start_time": "2023-11-07T17:46:55.839994",
     "status": "completed"
    },
    "tags": []
   },
   "outputs": [
    {
     "data": {
      "image/png": "[encoded data removed]",
      "text/plain": [
       "<Figure size 700x500 with 1 Axes>"
      ]
     },
     "metadata": {},
     "output_type": "display_data"
    }
   ],
   "source": [
    "plot_value_counts('isFraud', 'train: isFraud', df=train_df)"
   ]
  },
  {
   "cell_type": "markdown",
   "id": "a235cdba",
   "metadata": {
    "papermill": {
     "duration": 0.040423,
     "end_time": "2023-11-07T17:46:58.162514",
     "exception": false,
     "start_time": "2023-11-07T17:46:58.122091",
     "status": "completed"
    },
    "tags": []
   },
   "source": [
    "Видим, что данные не сбалансированы:\n",
    "\n",
    "- ```96,5 %``` транзакций - валидны\n",
    "\n",
    "- ```3,5 %``` транзакций - мошеннические\n",
    "\n",
    "Подумаем о решении вопроса дисбаланса в данных. Исследуем другие признаки."
   ]
  },
  {
   "cell_type": "markdown",
   "id": "c05885d0",
   "metadata": {
    "papermill": {
     "duration": 0.039431,
     "end_time": "2023-11-07T17:46:58.242085",
     "exception": false,
     "start_time": "2023-11-07T17:46:58.202654",
     "status": "completed"
    },
    "tags": []
   },
   "source": [
    "#### Распределение ```Card 4``` (компания карты)"
   ]
  },
  {
   "cell_type": "code",
   "execution_count": 31,
   "id": "2b46196b",
   "metadata": {
    "execution": {
     "iopub.execute_input": "2023-11-07T17:46:58.325998Z",
     "iopub.status.busy": "2023-11-07T17:46:58.325598Z",
     "iopub.status.idle": "2023-11-07T17:47:00.918981Z",
     "shell.execute_reply": "2023-11-07T17:47:00.917884Z"
    },
    "papermill": {
     "duration": 2.638185,
     "end_time": "2023-11-07T17:47:00.921491",
     "exception": false,
     "start_time": "2023-11-07T17:46:58.283306",
     "status": "completed"
    },
    "tags": []
   },
   "outputs": [
    {
     "data": {
      "image/png": "[encoded data removed]",
      "text/plain": [
       "<Figure size 700x500 with 1 Axes>"
      ]
     },
     "metadata": {},
     "output_type": "display_data"
    }
   ],
   "source": [
    "plot_value_counts('card4', 'train: card4', df=train_df)"
   ]
  },
  {
   "cell_type": "markdown",
   "id": "8781a01a",
   "metadata": {
    "papermill": {
     "duration": 0.041231,
     "end_time": "2023-11-07T17:47:01.003115",
     "exception": false,
     "start_time": "2023-11-07T17:47:00.961884",
     "status": "completed"
    },
    "tags": []
   },
   "source": [
    "Видим, что:\n",
    "\n",
    "- ```65,16 %``` - карт компании 'visa'\n",
    "- ```32,04 %``` - 'mastercard'\n",
    "- ```1,41 %```  - 'american express'\n",
    "- ```1,13 %```  - 'discover'"
   ]
  },
  {
   "cell_type": "markdown",
   "id": "ac4b195a",
   "metadata": {
    "papermill": {
     "duration": 0.040166,
     "end_time": "2023-11-07T17:47:01.083648",
     "exception": false,
     "start_time": "2023-11-07T17:47:01.043482",
     "status": "completed"
    },
    "tags": []
   },
   "source": [
    "#### Распределение ```Card 6``` - тип карты"
   ]
  },
  {
   "cell_type": "code",
   "execution_count": 32,
   "id": "98002a50",
   "metadata": {
    "execution": {
     "iopub.execute_input": "2023-11-07T17:47:01.165783Z",
     "iopub.status.busy": "2023-11-07T17:47:01.165397Z",
     "iopub.status.idle": "2023-11-07T17:47:03.673966Z",
     "shell.execute_reply": "2023-11-07T17:47:03.672792Z"
    },
    "papermill": {
     "duration": 2.552837,
     "end_time": "2023-11-07T17:47:03.676697",
     "exception": false,
     "start_time": "2023-11-07T17:47:01.123860",
     "status": "completed"
    },
    "tags": []
   },
   "outputs": [
    {
     "data": {
      "image/png": "[encoded data removed]",
      "text/plain": [
       "<Figure size 700x500 with 1 Axes>"
      ]
     },
     "metadata": {},
     "output_type": "display_data"
    }
   ],
   "source": [
    "plot_value_counts('card6', 'train: card6', df=train_df)"
   ]
  },
  {
   "cell_type": "markdown",
   "id": "13426d81",
   "metadata": {
    "papermill": {
     "duration": 0.040416,
     "end_time": "2023-11-07T17:47:03.759137",
     "exception": false,
     "start_time": "2023-11-07T17:47:03.718721",
     "status": "completed"
    },
    "tags": []
   },
   "source": [
    "Большая часть транзакций произведена дебетовыми картами - ```74,5 %```, ```25,23 %``` - кредитными картами. Транзакций с ```charge``` карт нет"
   ]
  },
  {
   "cell_type": "markdown",
   "id": "c2bb3d35",
   "metadata": {
    "papermill": {
     "duration": 0.040544,
     "end_time": "2023-11-07T17:47:03.841684",
     "exception": false,
     "start_time": "2023-11-07T17:47:03.801140",
     "status": "completed"
    },
    "tags": []
   },
   "source": [
    "#### Распределение транзакций по ```DeviceType```"
   ]
  },
  {
   "cell_type": "code",
   "execution_count": 33,
   "id": "c165eb61",
   "metadata": {
    "execution": {
     "iopub.execute_input": "2023-11-07T17:47:03.925983Z",
     "iopub.status.busy": "2023-11-07T17:47:03.925602Z",
     "iopub.status.idle": "2023-11-07T17:47:04.620362Z",
     "shell.execute_reply": "2023-11-07T17:47:04.618971Z"
    },
    "papermill": {
     "duration": 0.740356,
     "end_time": "2023-11-07T17:47:04.622891",
     "exception": false,
     "start_time": "2023-11-07T17:47:03.882535",
     "status": "completed"
    },
    "tags": []
   },
   "outputs": [
    {
     "name": "stdout",
     "output_type": "stream",
     "text": [
      "DeviceType\n",
      "desktop    85165\n",
      "mobile     55645\n",
      "Name: TransactionDT, dtype: int64\n"
     ]
    },
    {
     "data": {
      "image/png": "[encoded data removed]",
      "text/plain": [
       "<Figure size 640x480 with 1 Axes>"
      ]
     },
     "metadata": {},
     "output_type": "display_data"
    }
   ],
   "source": [
    "device_type_df = train_df[train_df['DeviceType']!=-1].groupby(by='DeviceType').TransactionDT.count()\n",
    "device_type_df.plot(kind='pie', \n",
    "                    colors=['orange', 'lightgreen'],\n",
    "                    autopct='%1.1f%%')\n",
    "plt.title('Number of transactions by device type')\n",
    "print(device_type_df)"
   ]
  },
  {
   "cell_type": "markdown",
   "id": "9f992a3e",
   "metadata": {
    "papermill": {
     "duration": 0.043433,
     "end_time": "2023-11-07T17:47:04.708644",
     "exception": false,
     "start_time": "2023-11-07T17:47:04.665211",
     "status": "completed"
    },
    "tags": []
   },
   "source": [
    "Большинство транзакций было выполнено с компьютера - ```60.5 %```\n",
    "\n",
    "С мобильных устройств - ```39.5 %``` транзакций"
   ]
  },
  {
   "cell_type": "markdown",
   "id": "6e147e2f",
   "metadata": {
    "papermill": {
     "duration": 0.044508,
     "end_time": "2023-11-07T17:47:04.795115",
     "exception": false,
     "start_time": "2023-11-07T17:47:04.750607",
     "status": "completed"
    },
    "tags": []
   },
   "source": [
    "#### Посмотрим на распределение транзакций в разрезе компаний, выпустивших карты"
   ]
  },
  {
   "cell_type": "markdown",
   "id": "926c891e",
   "metadata": {
    "papermill": {
     "duration": 0.041412,
     "end_time": "2023-11-07T17:47:04.878797",
     "exception": false,
     "start_time": "2023-11-07T17:47:04.837385",
     "status": "completed"
    },
    "tags": []
   },
   "source": [
    "Напишем функцию для визуализации распределения транзакций в разрезе какого-либо признака"
   ]
  },
  {
   "cell_type": "code",
   "execution_count": 34,
   "id": "51d15044",
   "metadata": {
    "execution": {
     "iopub.execute_input": "2023-11-07T17:47:04.967232Z",
     "iopub.status.busy": "2023-11-07T17:47:04.966546Z",
     "iopub.status.idle": "2023-11-07T17:47:04.972902Z",
     "shell.execute_reply": "2023-11-07T17:47:04.972118Z"
    },
    "papermill": {
     "duration": 0.053733,
     "end_time": "2023-11-07T17:47:04.975215",
     "exception": false,
     "start_time": "2023-11-07T17:47:04.921482",
     "status": "completed"
    },
    "tags": []
   },
   "outputs": [],
   "source": [
    "def isFraud_by_feature(feature, df, title):\n",
    "    sns.barplot(x=feature, y='isFraud', data=df[df[feature]!=-1])\n",
    "    plt.xlabel(feature)\n",
    "    plt.ylabel('isFraud')\n",
    "    plt.title('Fraudulent Transactions by {}'.format(title))\n",
    "    plt.show()"
   ]
  },
  {
   "cell_type": "code",
   "execution_count": 35,
   "id": "04514ca1",
   "metadata": {
    "execution": {
     "iopub.execute_input": "2023-11-07T17:47:05.060997Z",
     "iopub.status.busy": "2023-11-07T17:47:05.060331Z",
     "iopub.status.idle": "2023-11-07T17:47:14.950717Z",
     "shell.execute_reply": "2023-11-07T17:47:14.949449Z"
    },
    "papermill": {
     "duration": 9.936521,
     "end_time": "2023-11-07T17:47:14.953212",
     "exception": false,
     "start_time": "2023-11-07T17:47:05.016691",
     "status": "completed"
    },
    "tags": []
   },
   "outputs": [
    {
     "data": {
      "image/png": "[encoded data removed]",
      "text/plain": [
       "<Figure size 640x480 with 1 Axes>"
      ]
     },
     "metadata": {},
     "output_type": "display_data"
    }
   ],
   "source": [
    "isFraud_by_feature('card4', df=train_df, title='Card Company')"
   ]
  },
  {
   "cell_type": "markdown",
   "id": "2155a609",
   "metadata": {
    "papermill": {
     "duration": 0.042055,
     "end_time": "2023-11-07T17:47:15.038314",
     "exception": false,
     "start_time": "2023-11-07T17:47:14.996259",
     "status": "completed"
    },
    "tags": []
   },
   "source": [
    "Большинство операций произведено с карт ```discover```"
   ]
  },
  {
   "cell_type": "markdown",
   "id": "ac51b62a",
   "metadata": {
    "papermill": {
     "duration": 0.041611,
     "end_time": "2023-11-07T17:47:15.122142",
     "exception": false,
     "start_time": "2023-11-07T17:47:15.080531",
     "status": "completed"
    },
    "tags": []
   },
   "source": [
    "#### Распределение транзакций в разрезе типа карты"
   ]
  },
  {
   "cell_type": "code",
   "execution_count": 36,
   "id": "fd65bb32",
   "metadata": {
    "execution": {
     "iopub.execute_input": "2023-11-07T17:47:15.208688Z",
     "iopub.status.busy": "2023-11-07T17:47:15.207998Z",
     "iopub.status.idle": "2023-11-07T17:47:25.036356Z",
     "shell.execute_reply": "2023-11-07T17:47:25.035104Z"
    },
    "papermill": {
     "duration": 9.874276,
     "end_time": "2023-11-07T17:47:25.038998",
     "exception": false,
     "start_time": "2023-11-07T17:47:15.164722",
     "status": "completed"
    },
    "tags": []
   },
   "outputs": [
    {
     "data": {
      "image/png": "[encoded data removed]",
      "text/plain": [
       "<Figure size 640x480 with 1 Axes>"
      ]
     },
     "metadata": {},
     "output_type": "display_data"
    }
   ],
   "source": [
    "isFraud_by_feature('card6', df=train_df, title='Card Type')"
   ]
  },
  {
   "cell_type": "markdown",
   "id": "bbb706b3",
   "metadata": {
    "papermill": {
     "duration": 0.042309,
     "end_time": "2023-11-07T17:47:25.124289",
     "exception": false,
     "start_time": "2023-11-07T17:47:25.081980",
     "status": "completed"
    },
    "tags": []
   },
   "source": [
    "Несмотря на то, что кредитные карты занимают ```25,23 %``` от всего объема данных, с них произведена большая часть транзакций"
   ]
  },
  {
   "cell_type": "markdown",
   "id": "a60aab18",
   "metadata": {
    "papermill": {
     "duration": 0.042119,
     "end_time": "2023-11-07T17:47:25.208640",
     "exception": false,
     "start_time": "2023-11-07T17:47:25.166521",
     "status": "completed"
    },
    "tags": []
   },
   "source": [
    "#### Распределение транзакций в разрезе типа устройства"
   ]
  },
  {
   "cell_type": "code",
   "execution_count": 37,
   "id": "49b623d2",
   "metadata": {
    "execution": {
     "iopub.execute_input": "2023-11-07T17:47:25.295995Z",
     "iopub.status.busy": "2023-11-07T17:47:25.295257Z",
     "iopub.status.idle": "2023-11-07T17:47:27.789131Z",
     "shell.execute_reply": "2023-11-07T17:47:27.787823Z"
    },
    "papermill": {
     "duration": 2.54095,
     "end_time": "2023-11-07T17:47:27.791740",
     "exception": false,
     "start_time": "2023-11-07T17:47:25.250790",
     "status": "completed"
    },
    "tags": []
   },
   "outputs": [
    {
     "data": {
      "image/png": "[encoded data removed]",
      "text/plain": [
       "<Figure size 640x480 with 1 Axes>"
      ]
     },
     "metadata": {},
     "output_type": "display_data"
    }
   ],
   "source": [
    "isFraud_by_feature('DeviceType', df=train_df, title='Device Type')"
   ]
  },
  {
   "cell_type": "markdown",
   "id": "6c2cac62",
   "metadata": {
    "papermill": {
     "duration": 0.042541,
     "end_time": "2023-11-07T17:47:27.877366",
     "exception": false,
     "start_time": "2023-11-07T17:47:27.834825",
     "status": "completed"
    },
    "tags": []
   },
   "source": [
    "Большинство транзакций было произведено с мобильных устройств"
   ]
  },
  {
   "cell_type": "markdown",
   "id": "35e0b840",
   "metadata": {
    "papermill": {
     "duration": 0.042239,
     "end_time": "2023-11-07T17:47:27.962488",
     "exception": false,
     "start_time": "2023-11-07T17:47:27.920249",
     "status": "completed"
    },
    "tags": []
   },
   "source": [
    "#### Построим гистограмму распределения транзакционных платежей (TransactionAMT)"
   ]
  },
  {
   "cell_type": "markdown",
   "id": "bede1ce2",
   "metadata": {
    "papermill": {
     "duration": 0.042324,
     "end_time": "2023-11-07T17:47:28.047656",
     "exception": false,
     "start_time": "2023-11-07T17:47:28.005332",
     "status": "completed"
    },
    "tags": []
   },
   "source": [
    "Напишем функцию для построения гистограммы:"
   ]
  },
  {
   "cell_type": "code",
   "execution_count": 38,
   "id": "fb9cae5e",
   "metadata": {
    "execution": {
     "iopub.execute_input": "2023-11-07T17:47:28.136970Z",
     "iopub.status.busy": "2023-11-07T17:47:28.136178Z",
     "iopub.status.idle": "2023-11-07T17:47:28.142775Z",
     "shell.execute_reply": "2023-11-07T17:47:28.141965Z"
    },
    "papermill": {
     "duration": 0.054978,
     "end_time": "2023-11-07T17:47:28.145265",
     "exception": false,
     "start_time": "2023-11-07T17:47:28.090287",
     "status": "completed"
    },
    "tags": []
   },
   "outputs": [],
   "source": [
    "def plt_hist(df, feature, bins=150):\n",
    "    plt.figure(figsize=(8,8))\n",
    "    plt.hist(df[feature], bins=bins, edgecolor='black')\n",
    "    plt.xlabel(feature)\n",
    "    plt.ylabel('Count')\n",
    "    plt.title('Distribution of {}'.format(feature))\n",
    "    plt.show()"
   ]
  },
  {
   "cell_type": "code",
   "execution_count": 39,
   "id": "12b622b2",
   "metadata": {
    "execution": {
     "iopub.execute_input": "2023-11-07T17:47:28.234431Z",
     "iopub.status.busy": "2023-11-07T17:47:28.233688Z",
     "iopub.status.idle": "2023-11-07T17:47:28.884550Z",
     "shell.execute_reply": "2023-11-07T17:47:28.883464Z"
    },
    "papermill": {
     "duration": 0.698527,
     "end_time": "2023-11-07T17:47:28.887128",
     "exception": false,
     "start_time": "2023-11-07T17:47:28.188601",
     "status": "completed"
    },
    "tags": []
   },
   "outputs": [
    {
     "data": {
      "image/png": "[encoded data removed]",
      "text/plain": [
       "<Figure size 800x800 with 1 Axes>"
      ]
     },
     "metadata": {},
     "output_type": "display_data"
    }
   ],
   "source": [
    "plt_hist(train_df, 'TransactionAmt')"
   ]
  },
  {
   "cell_type": "markdown",
   "id": "9412ade8",
   "metadata": {
    "papermill": {
     "duration": 0.044057,
     "end_time": "2023-11-07T17:47:28.975116",
     "exception": false,
     "start_time": "2023-11-07T17:47:28.931059",
     "status": "completed"
    },
    "tags": []
   },
   "source": [
    "#### Здесь виден явный выброс в данных"
   ]
  },
  {
   "cell_type": "markdown",
   "id": "51b630ca",
   "metadata": {
    "papermill": {
     "duration": 0.043656,
     "end_time": "2023-11-07T17:47:29.062590",
     "exception": false,
     "start_time": "2023-11-07T17:47:29.018934",
     "status": "completed"
    },
    "tags": []
   },
   "source": [
    "Посмотрим на статистики этого признака"
   ]
  },
  {
   "cell_type": "code",
   "execution_count": 40,
   "id": "6a7e59a3",
   "metadata": {
    "execution": {
     "iopub.execute_input": "2023-11-07T17:47:29.157028Z",
     "iopub.status.busy": "2023-11-07T17:47:29.156357Z",
     "iopub.status.idle": "2023-11-07T17:47:29.188842Z",
     "shell.execute_reply": "2023-11-07T17:47:29.187782Z"
    },
    "papermill": {
     "duration": 0.084027,
     "end_time": "2023-11-07T17:47:29.191470",
     "exception": false,
     "start_time": "2023-11-07T17:47:29.107443",
     "status": "completed"
    },
    "tags": []
   },
   "outputs": [
    {
     "data": {
      "text/plain": [
       "count    590540.000000\n",
       "mean        135.027161\n",
       "std         239.162521\n",
       "min           0.251000\n",
       "25%          43.320999\n",
       "50%          68.769001\n",
       "75%         125.000000\n",
       "max       31937.390625\n",
       "Name: TransactionAmt, dtype: float64"
      ]
     },
     "execution_count": 40,
     "metadata": {},
     "output_type": "execute_result"
    }
   ],
   "source": [
    "train_df['TransactionAmt'].describe()"
   ]
  },
  {
   "cell_type": "markdown",
   "id": "b6ffb1a5",
   "metadata": {
    "papermill": {
     "duration": 0.047206,
     "end_time": "2023-11-07T17:47:29.282370",
     "exception": false,
     "start_time": "2023-11-07T17:47:29.235164",
     "status": "completed"
    },
    "tags": []
   },
   "source": [
    "Посмотрим на топ 10 самых больших значений этого столбца"
   ]
  },
  {
   "cell_type": "code",
   "execution_count": 41,
   "id": "e431426e",
   "metadata": {
    "execution": {
     "iopub.execute_input": "2023-11-07T17:47:29.385167Z",
     "iopub.status.busy": "2023-11-07T17:47:29.384708Z",
     "iopub.status.idle": "2023-11-07T17:47:29.461113Z",
     "shell.execute_reply": "2023-11-07T17:47:29.459961Z"
    },
    "papermill": {
     "duration": 0.124089,
     "end_time": "2023-11-07T17:47:29.463669",
     "exception": false,
     "start_time": "2023-11-07T17:47:29.339580",
     "status": "completed"
    },
    "tags": []
   },
   "outputs": [
    {
     "data": {
      "text/plain": [
       "315172     5279.950195\n",
       "462514     5279.950195\n",
       "584767     5366.819824\n",
       "275535     5420.000000\n",
       "275529     5420.000000\n",
       "384603     5543.229980\n",
       "248413     6085.229980\n",
       "296021     6450.970215\n",
       "274336    31937.390625\n",
       "274339    31937.390625\n",
       "Name: TransactionAmt, dtype: float32"
      ]
     },
     "execution_count": 41,
     "metadata": {},
     "output_type": "execute_result"
    }
   ],
   "source": [
    "train_df['TransactionAmt'].dropna().sort_values().tail(10)"
   ]
  },
  {
   "cell_type": "markdown",
   "id": "39b86651",
   "metadata": {
    "papermill": {
     "duration": 0.045273,
     "end_time": "2023-11-07T17:47:29.553340",
     "exception": false,
     "start_time": "2023-11-07T17:47:29.508067",
     "status": "completed"
    },
    "tags": []
   },
   "source": [
    "Выведем график ```boxplot```, чтобы убедиться, что эти значения похожи на выбросы"
   ]
  },
  {
   "cell_type": "markdown",
   "id": "d366791c",
   "metadata": {
    "papermill": {
     "duration": 0.043737,
     "end_time": "2023-11-07T17:47:29.641421",
     "exception": false,
     "start_time": "2023-11-07T17:47:29.597684",
     "status": "completed"
    },
    "tags": []
   },
   "source": [
    "Напишем функцию для построения диаграммы размаха:"
   ]
  },
  {
   "cell_type": "code",
   "execution_count": 42,
   "id": "568b523a",
   "metadata": {
    "execution": {
     "iopub.execute_input": "2023-11-07T17:47:29.730968Z",
     "iopub.status.busy": "2023-11-07T17:47:29.730580Z",
     "iopub.status.idle": "2023-11-07T17:47:29.736717Z",
     "shell.execute_reply": "2023-11-07T17:47:29.735659Z"
    },
    "papermill": {
     "duration": 0.053654,
     "end_time": "2023-11-07T17:47:29.739125",
     "exception": false,
     "start_time": "2023-11-07T17:47:29.685471",
     "status": "completed"
    },
    "tags": []
   },
   "outputs": [],
   "source": [
    "def plt_boxplot(df, feature):\n",
    "    plt.figure(figsize=(10,3))\n",
    "    sns.boxplot(x=df[feature])\n",
    "    plt.title('Диаграмма размаха платежей')\n",
    "    plt.xlabel(feature)\n",
    "    plt.show()"
   ]
  },
  {
   "cell_type": "code",
   "execution_count": 43,
   "id": "a9a78e86",
   "metadata": {
    "execution": {
     "iopub.execute_input": "2023-11-07T17:47:29.829100Z",
     "iopub.status.busy": "2023-11-07T17:47:29.828697Z",
     "iopub.status.idle": "2023-11-07T17:47:30.202914Z",
     "shell.execute_reply": "2023-11-07T17:47:30.201811Z"
    },
    "papermill": {
     "duration": 0.422392,
     "end_time": "2023-11-07T17:47:30.205509",
     "exception": false,
     "start_time": "2023-11-07T17:47:29.783117",
     "status": "completed"
    },
    "tags": []
   },
   "outputs": [
    {
     "data": {
      "image/png": "[encoded data removed]",
      "text/plain": [
       "<Figure size 1000x300 with 1 Axes>"
      ]
     },
     "metadata": {},
     "output_type": "display_data"
    }
   ],
   "source": [
    "plt_boxplot(train_df, 'TransactionAmt')"
   ]
  },
  {
   "cell_type": "markdown",
   "id": "1e707911",
   "metadata": {
    "papermill": {
     "duration": 0.045261,
     "end_time": "2023-11-07T17:47:30.296531",
     "exception": false,
     "start_time": "2023-11-07T17:47:30.251270",
     "status": "completed"
    },
    "tags": []
   },
   "source": [
    "#### Избавимся от выбросов"
   ]
  },
  {
   "cell_type": "markdown",
   "id": "2cc3091c",
   "metadata": {
    "papermill": {
     "duration": 0.04423,
     "end_time": "2023-11-07T17:47:30.386858",
     "exception": false,
     "start_time": "2023-11-07T17:47:30.342628",
     "status": "completed"
    },
    "tags": []
   },
   "source": [
    "Напишем функцию для того, чтобы отделить данные от выбросов"
   ]
  },
  {
   "cell_type": "code",
   "execution_count": 44,
   "id": "55a13eb3",
   "metadata": {
    "execution": {
     "iopub.execute_input": "2023-11-07T17:47:30.479816Z",
     "iopub.status.busy": "2023-11-07T17:47:30.479423Z",
     "iopub.status.idle": "2023-11-07T17:47:30.485880Z",
     "shell.execute_reply": "2023-11-07T17:47:30.484878Z"
    },
    "papermill": {
     "duration": 0.054668,
     "end_time": "2023-11-07T17:47:30.487984",
     "exception": false,
     "start_time": "2023-11-07T17:47:30.433316",
     "status": "completed"
    },
    "tags": []
   },
   "outputs": [],
   "source": [
    "def data_without_feat_emsns(df, feature):\n",
    "    first_qrt = df[feature].describe()['25%']\n",
    "    third_qrt = df[feature].describe()['75%']\n",
    "    iqr = third_qrt - first_qrt\n",
    "    \n",
    "    condition = (df[feature] > (first_qrt - 3 * iqr)) & \\\n",
    "    (df[feature] < (third_qrt + 3 * iqr))\n",
    "    \n",
    "    df = df[condition]\n",
    "    return df"
   ]
  },
  {
   "cell_type": "markdown",
   "id": "799a0484",
   "metadata": {
    "papermill": {
     "duration": 0.044832,
     "end_time": "2023-11-07T17:47:30.576802",
     "exception": false,
     "start_time": "2023-11-07T17:47:30.531970",
     "status": "completed"
    },
    "tags": []
   },
   "source": [
    "Применим созданную функцию к нашим данным, отфильтровав строки, не являющиеся выбросами"
   ]
  },
  {
   "cell_type": "code",
   "execution_count": 45,
   "id": "c8df0a7a",
   "metadata": {
    "execution": {
     "iopub.execute_input": "2023-11-07T17:47:30.667745Z",
     "iopub.status.busy": "2023-11-07T17:47:30.667347Z",
     "iopub.status.idle": "2023-11-07T17:47:32.443172Z",
     "shell.execute_reply": "2023-11-07T17:47:32.442242Z"
    },
    "papermill": {
     "duration": 1.823971,
     "end_time": "2023-11-07T17:47:32.445707",
     "exception": false,
     "start_time": "2023-11-07T17:47:30.621736",
     "status": "completed"
    },
    "tags": []
   },
   "outputs": [],
   "source": [
    "train_df = data_without_feat_emsns(train_df, 'TransactionAmt')"
   ]
  },
  {
   "cell_type": "code",
   "execution_count": 46,
   "id": "7f670355",
   "metadata": {
    "execution": {
     "iopub.execute_input": "2023-11-07T17:47:32.535926Z",
     "iopub.status.busy": "2023-11-07T17:47:32.534873Z",
     "iopub.status.idle": "2023-11-07T17:47:32.541940Z",
     "shell.execute_reply": "2023-11-07T17:47:32.540927Z"
    },
    "papermill": {
     "duration": 0.054388,
     "end_time": "2023-11-07T17:47:32.544062",
     "exception": false,
     "start_time": "2023-11-07T17:47:32.489674",
     "status": "completed"
    },
    "tags": []
   },
   "outputs": [
    {
     "data": {
      "text/plain": [
       "(554118, 360)"
      ]
     },
     "execution_count": 46,
     "metadata": {},
     "output_type": "execute_result"
    }
   ],
   "source": [
    "train_df.shape"
   ]
  },
  {
   "cell_type": "code",
   "execution_count": 47,
   "id": "4fd79b89",
   "metadata": {
    "execution": {
     "iopub.execute_input": "2023-11-07T17:47:32.634712Z",
     "iopub.status.busy": "2023-11-07T17:47:32.633677Z",
     "iopub.status.idle": "2023-11-07T17:47:33.245682Z",
     "shell.execute_reply": "2023-11-07T17:47:33.244652Z"
    },
    "papermill": {
     "duration": 0.660088,
     "end_time": "2023-11-07T17:47:33.248322",
     "exception": false,
     "start_time": "2023-11-07T17:47:32.588234",
     "status": "completed"
    },
    "tags": []
   },
   "outputs": [
    {
     "data": {
      "text/html": [
       "<div>\n",
       "<style scoped>\n",
       "    .dataframe tbody tr th:only-of-type {\n",
       "        vertical-align: middle;\n",
       "    }\n",
       "\n",
       "    .dataframe tbody tr th {\n",
       "        vertical-align: top;\n",
       "    }\n",
       "\n",
       "    .dataframe thead th {\n",
       "        text-align: right;\n",
       "    }\n",
       "</style>\n",
       "<table border=\"1\" class=\"dataframe\">\n",
       "  <thead>\n",
       "    <tr style=\"text-align: right;\">\n",
       "      <th></th>\n",
       "      <th>TransactionID</th>\n",
       "      <th>isFraud</th>\n",
       "      <th>TransactionDT</th>\n",
       "      <th>TransactionAmt</th>\n",
       "      <th>ProductCD</th>\n",
       "      <th>card1</th>\n",
       "      <th>card2</th>\n",
       "      <th>card3</th>\n",
       "      <th>card4</th>\n",
       "      <th>card5</th>\n",
       "      <th>...</th>\n",
       "      <th>id_20</th>\n",
       "      <th>id_28</th>\n",
       "      <th>id_29</th>\n",
       "      <th>id_31</th>\n",
       "      <th>id_35</th>\n",
       "      <th>id_36</th>\n",
       "      <th>id_37</th>\n",
       "      <th>id_38</th>\n",
       "      <th>DeviceType</th>\n",
       "      <th>DeviceInfo</th>\n",
       "    </tr>\n",
       "  </thead>\n",
       "  <tbody>\n",
       "    <tr>\n",
       "      <th>0</th>\n",
       "      <td>2987000</td>\n",
       "      <td>0</td>\n",
       "      <td>86400</td>\n",
       "      <td>68.500000</td>\n",
       "      <td>W</td>\n",
       "      <td>13926</td>\n",
       "      <td>362.555511</td>\n",
       "      <td>150.0</td>\n",
       "      <td>discover</td>\n",
       "      <td>142.0</td>\n",
       "      <td>...</td>\n",
       "      <td>403.882568</td>\n",
       "      <td>-1</td>\n",
       "      <td>-1</td>\n",
       "      <td>-1</td>\n",
       "      <td>-1</td>\n",
       "      <td>-1</td>\n",
       "      <td>-1</td>\n",
       "      <td>-1</td>\n",
       "      <td>-1</td>\n",
       "      <td>-1</td>\n",
       "    </tr>\n",
       "    <tr>\n",
       "      <th>1</th>\n",
       "      <td>2987001</td>\n",
       "      <td>0</td>\n",
       "      <td>86401</td>\n",
       "      <td>29.000000</td>\n",
       "      <td>W</td>\n",
       "      <td>2755</td>\n",
       "      <td>404.000000</td>\n",
       "      <td>150.0</td>\n",
       "      <td>mastercard</td>\n",
       "      <td>102.0</td>\n",
       "      <td>...</td>\n",
       "      <td>403.882568</td>\n",
       "      <td>-1</td>\n",
       "      <td>-1</td>\n",
       "      <td>-1</td>\n",
       "      <td>-1</td>\n",
       "      <td>-1</td>\n",
       "      <td>-1</td>\n",
       "      <td>-1</td>\n",
       "      <td>-1</td>\n",
       "      <td>-1</td>\n",
       "    </tr>\n",
       "    <tr>\n",
       "      <th>2</th>\n",
       "      <td>2987002</td>\n",
       "      <td>0</td>\n",
       "      <td>86469</td>\n",
       "      <td>59.000000</td>\n",
       "      <td>W</td>\n",
       "      <td>4663</td>\n",
       "      <td>490.000000</td>\n",
       "      <td>150.0</td>\n",
       "      <td>visa</td>\n",
       "      <td>166.0</td>\n",
       "      <td>...</td>\n",
       "      <td>403.882568</td>\n",
       "      <td>-1</td>\n",
       "      <td>-1</td>\n",
       "      <td>-1</td>\n",
       "      <td>-1</td>\n",
       "      <td>-1</td>\n",
       "      <td>-1</td>\n",
       "      <td>-1</td>\n",
       "      <td>-1</td>\n",
       "      <td>-1</td>\n",
       "    </tr>\n",
       "    <tr>\n",
       "      <th>3</th>\n",
       "      <td>2987003</td>\n",
       "      <td>0</td>\n",
       "      <td>86499</td>\n",
       "      <td>50.000000</td>\n",
       "      <td>W</td>\n",
       "      <td>18132</td>\n",
       "      <td>567.000000</td>\n",
       "      <td>150.0</td>\n",
       "      <td>mastercard</td>\n",
       "      <td>117.0</td>\n",
       "      <td>...</td>\n",
       "      <td>403.882568</td>\n",
       "      <td>-1</td>\n",
       "      <td>-1</td>\n",
       "      <td>-1</td>\n",
       "      <td>-1</td>\n",
       "      <td>-1</td>\n",
       "      <td>-1</td>\n",
       "      <td>-1</td>\n",
       "      <td>-1</td>\n",
       "      <td>-1</td>\n",
       "    </tr>\n",
       "    <tr>\n",
       "      <th>4</th>\n",
       "      <td>2987004</td>\n",
       "      <td>0</td>\n",
       "      <td>86506</td>\n",
       "      <td>50.000000</td>\n",
       "      <td>H</td>\n",
       "      <td>4497</td>\n",
       "      <td>514.000000</td>\n",
       "      <td>150.0</td>\n",
       "      <td>mastercard</td>\n",
       "      <td>102.0</td>\n",
       "      <td>...</td>\n",
       "      <td>144.000000</td>\n",
       "      <td>New</td>\n",
       "      <td>NotFound</td>\n",
       "      <td>samsung browser 6.2</td>\n",
       "      <td>T</td>\n",
       "      <td>F</td>\n",
       "      <td>T</td>\n",
       "      <td>T</td>\n",
       "      <td>mobile</td>\n",
       "      <td>SAMSUNG SM-G892A Build/NRD90M</td>\n",
       "    </tr>\n",
       "    <tr>\n",
       "      <th>...</th>\n",
       "      <td>...</td>\n",
       "      <td>...</td>\n",
       "      <td>...</td>\n",
       "      <td>...</td>\n",
       "      <td>...</td>\n",
       "      <td>...</td>\n",
       "      <td>...</td>\n",
       "      <td>...</td>\n",
       "      <td>...</td>\n",
       "      <td>...</td>\n",
       "      <td>...</td>\n",
       "      <td>...</td>\n",
       "      <td>...</td>\n",
       "      <td>...</td>\n",
       "      <td>...</td>\n",
       "      <td>...</td>\n",
       "      <td>...</td>\n",
       "      <td>...</td>\n",
       "      <td>...</td>\n",
       "      <td>...</td>\n",
       "      <td>...</td>\n",
       "    </tr>\n",
       "    <tr>\n",
       "      <th>590535</th>\n",
       "      <td>3577535</td>\n",
       "      <td>0</td>\n",
       "      <td>15811047</td>\n",
       "      <td>49.000000</td>\n",
       "      <td>W</td>\n",
       "      <td>6550</td>\n",
       "      <td>362.555511</td>\n",
       "      <td>150.0</td>\n",
       "      <td>visa</td>\n",
       "      <td>226.0</td>\n",
       "      <td>...</td>\n",
       "      <td>403.882568</td>\n",
       "      <td>-1</td>\n",
       "      <td>-1</td>\n",
       "      <td>-1</td>\n",
       "      <td>-1</td>\n",
       "      <td>-1</td>\n",
       "      <td>-1</td>\n",
       "      <td>-1</td>\n",
       "      <td>-1</td>\n",
       "      <td>-1</td>\n",
       "    </tr>\n",
       "    <tr>\n",
       "      <th>590536</th>\n",
       "      <td>3577536</td>\n",
       "      <td>0</td>\n",
       "      <td>15811049</td>\n",
       "      <td>39.500000</td>\n",
       "      <td>W</td>\n",
       "      <td>10444</td>\n",
       "      <td>225.000000</td>\n",
       "      <td>150.0</td>\n",
       "      <td>mastercard</td>\n",
       "      <td>224.0</td>\n",
       "      <td>...</td>\n",
       "      <td>403.882568</td>\n",
       "      <td>-1</td>\n",
       "      <td>-1</td>\n",
       "      <td>-1</td>\n",
       "      <td>-1</td>\n",
       "      <td>-1</td>\n",
       "      <td>-1</td>\n",
       "      <td>-1</td>\n",
       "      <td>-1</td>\n",
       "      <td>-1</td>\n",
       "    </tr>\n",
       "    <tr>\n",
       "      <th>590537</th>\n",
       "      <td>3577537</td>\n",
       "      <td>0</td>\n",
       "      <td>15811079</td>\n",
       "      <td>30.950001</td>\n",
       "      <td>W</td>\n",
       "      <td>12037</td>\n",
       "      <td>595.000000</td>\n",
       "      <td>150.0</td>\n",
       "      <td>mastercard</td>\n",
       "      <td>224.0</td>\n",
       "      <td>...</td>\n",
       "      <td>403.882568</td>\n",
       "      <td>-1</td>\n",
       "      <td>-1</td>\n",
       "      <td>-1</td>\n",
       "      <td>-1</td>\n",
       "      <td>-1</td>\n",
       "      <td>-1</td>\n",
       "      <td>-1</td>\n",
       "      <td>-1</td>\n",
       "      <td>-1</td>\n",
       "    </tr>\n",
       "    <tr>\n",
       "      <th>590538</th>\n",
       "      <td>3577538</td>\n",
       "      <td>0</td>\n",
       "      <td>15811088</td>\n",
       "      <td>117.000000</td>\n",
       "      <td>W</td>\n",
       "      <td>7826</td>\n",
       "      <td>481.000000</td>\n",
       "      <td>150.0</td>\n",
       "      <td>mastercard</td>\n",
       "      <td>224.0</td>\n",
       "      <td>...</td>\n",
       "      <td>403.882568</td>\n",
       "      <td>-1</td>\n",
       "      <td>-1</td>\n",
       "      <td>-1</td>\n",
       "      <td>-1</td>\n",
       "      <td>-1</td>\n",
       "      <td>-1</td>\n",
       "      <td>-1</td>\n",
       "      <td>-1</td>\n",
       "      <td>-1</td>\n",
       "    </tr>\n",
       "    <tr>\n",
       "      <th>590539</th>\n",
       "      <td>3577539</td>\n",
       "      <td>0</td>\n",
       "      <td>15811131</td>\n",
       "      <td>279.950012</td>\n",
       "      <td>W</td>\n",
       "      <td>15066</td>\n",
       "      <td>170.000000</td>\n",
       "      <td>150.0</td>\n",
       "      <td>mastercard</td>\n",
       "      <td>102.0</td>\n",
       "      <td>...</td>\n",
       "      <td>403.882568</td>\n",
       "      <td>-1</td>\n",
       "      <td>-1</td>\n",
       "      <td>-1</td>\n",
       "      <td>-1</td>\n",
       "      <td>-1</td>\n",
       "      <td>-1</td>\n",
       "      <td>-1</td>\n",
       "      <td>-1</td>\n",
       "      <td>-1</td>\n",
       "    </tr>\n",
       "  </tbody>\n",
       "</table>\n",
       "<p>554118 rows × 360 columns</p>\n",
       "</div>"
      ],
      "text/plain": [
       "        TransactionID  isFraud  TransactionDT  TransactionAmt ProductCD  \\\n",
       "0             2987000        0          86400       68.500000         W   \n",
       "1             2987001        0          86401       29.000000         W   \n",
       "2             2987002        0          86469       59.000000         W   \n",
       "3             2987003        0          86499       50.000000         W   \n",
       "4             2987004        0          86506       50.000000         H   \n",
       "...               ...      ...            ...             ...       ...   \n",
       "590535        3577535        0       15811047       49.000000         W   \n",
       "590536        3577536        0       15811049       39.500000         W   \n",
       "590537        3577537        0       15811079       30.950001         W   \n",
       "590538        3577538        0       15811088      117.000000         W   \n",
       "590539        3577539        0       15811131      279.950012         W   \n",
       "\n",
       "        card1       card2  card3       card4  card5  ...       id_20  id_28  \\\n",
       "0       13926  362.555511  150.0    discover  142.0  ...  403.882568     -1   \n",
       "1        2755  404.000000  150.0  mastercard  102.0  ...  403.882568     -1   \n",
       "2        4663  490.000000  150.0        visa  166.0  ...  403.882568     -1   \n",
       "3       18132  567.000000  150.0  mastercard  117.0  ...  403.882568     -1   \n",
       "4        4497  514.000000  150.0  mastercard  102.0  ...  144.000000    New   \n",
       "...       ...         ...    ...         ...    ...  ...         ...    ...   \n",
       "590535   6550  362.555511  150.0        visa  226.0  ...  403.882568     -1   \n",
       "590536  10444  225.000000  150.0  mastercard  224.0  ...  403.882568     -1   \n",
       "590537  12037  595.000000  150.0  mastercard  224.0  ...  403.882568     -1   \n",
       "590538   7826  481.000000  150.0  mastercard  224.0  ...  403.882568     -1   \n",
       "590539  15066  170.000000  150.0  mastercard  102.0  ...  403.882568     -1   \n",
       "\n",
       "           id_29                id_31 id_35 id_36  id_37  id_38  DeviceType  \\\n",
       "0             -1                   -1    -1    -1     -1     -1          -1   \n",
       "1             -1                   -1    -1    -1     -1     -1          -1   \n",
       "2             -1                   -1    -1    -1     -1     -1          -1   \n",
       "3             -1                   -1    -1    -1     -1     -1          -1   \n",
       "4       NotFound  samsung browser 6.2     T     F      T      T      mobile   \n",
       "...          ...                  ...   ...   ...    ...    ...         ...   \n",
       "590535        -1                   -1    -1    -1     -1     -1          -1   \n",
       "590536        -1                   -1    -1    -1     -1     -1          -1   \n",
       "590537        -1                   -1    -1    -1     -1     -1          -1   \n",
       "590538        -1                   -1    -1    -1     -1     -1          -1   \n",
       "590539        -1                   -1    -1    -1     -1     -1          -1   \n",
       "\n",
       "                           DeviceInfo  \n",
       "0                                  -1  \n",
       "1                                  -1  \n",
       "2                                  -1  \n",
       "3                                  -1  \n",
       "4       SAMSUNG SM-G892A Build/NRD90M  \n",
       "...                               ...  \n",
       "590535                             -1  \n",
       "590536                             -1  \n",
       "590537                             -1  \n",
       "590538                             -1  \n",
       "590539                             -1  \n",
       "\n",
       "[554118 rows x 360 columns]"
      ]
     },
     "execution_count": 47,
     "metadata": {},
     "output_type": "execute_result"
    }
   ],
   "source": [
    "train_df"
   ]
  },
  {
   "cell_type": "markdown",
   "id": "244c78f0",
   "metadata": {
    "papermill": {
     "duration": 0.045567,
     "end_time": "2023-11-07T17:47:33.339847",
     "exception": false,
     "start_time": "2023-11-07T17:47:33.294280",
     "status": "completed"
    },
    "tags": []
   },
   "source": [
    "Построим ещё раз гистограмму распределения поля ```TransactionAmt```"
   ]
  },
  {
   "cell_type": "code",
   "execution_count": 48,
   "id": "45bba29a",
   "metadata": {
    "execution": {
     "iopub.execute_input": "2023-11-07T17:47:33.432232Z",
     "iopub.status.busy": "2023-11-07T17:47:33.431526Z",
     "iopub.status.idle": "2023-11-07T17:47:33.770727Z",
     "shell.execute_reply": "2023-11-07T17:47:33.769916Z"
    },
    "papermill": {
     "duration": 0.387942,
     "end_time": "2023-11-07T17:47:33.772859",
     "exception": false,
     "start_time": "2023-11-07T17:47:33.384917",
     "status": "completed"
    },
    "tags": []
   },
   "outputs": [
    {
     "data": {
      "image/png": "[encoded data removed]",
      "text/plain": [
       "<Figure size 800x800 with 1 Axes>"
      ]
     },
     "metadata": {},
     "output_type": "display_data"
    }
   ],
   "source": [
    "plt_hist(train_df, 'TransactionAmt', bins=20)"
   ]
  },
  {
   "cell_type": "markdown",
   "id": "cfd09b42",
   "metadata": {
    "papermill": {
     "duration": 0.045421,
     "end_time": "2023-11-07T17:47:33.864471",
     "exception": false,
     "start_time": "2023-11-07T17:47:33.819050",
     "status": "completed"
    },
    "tags": []
   },
   "source": [
    "Также ещё раз построим ```boxplot```, чтобы убедиться в отсутствии выбросов"
   ]
  },
  {
   "cell_type": "code",
   "execution_count": 49,
   "id": "398d3b1c",
   "metadata": {
    "execution": {
     "iopub.execute_input": "2023-11-07T17:47:33.958828Z",
     "iopub.status.busy": "2023-11-07T17:47:33.958443Z",
     "iopub.status.idle": "2023-11-07T17:47:34.260724Z",
     "shell.execute_reply": "2023-11-07T17:47:34.259570Z"
    },
    "papermill": {
     "duration": 0.351253,
     "end_time": "2023-11-07T17:47:34.263075",
     "exception": false,
     "start_time": "2023-11-07T17:47:33.911822",
     "status": "completed"
    },
    "tags": []
   },
   "outputs": [
    {
     "data": {
      "image/png": "[encoded data removed]",
      "text/plain": [
       "<Figure size 1000x300 with 1 Axes>"
      ]
     },
     "metadata": {},
     "output_type": "display_data"
    }
   ],
   "source": [
    "plt_boxplot(train_df, 'TransactionAmt')"
   ]
  },
  {
   "cell_type": "markdown",
   "id": "f67d16ed",
   "metadata": {
    "papermill": {
     "duration": 0.046664,
     "end_time": "2023-11-07T17:47:34.356149",
     "exception": false,
     "start_time": "2023-11-07T17:47:34.309485",
     "status": "completed"
    },
    "tags": []
   },
   "source": [
    "Посмотрим на распределение ```TransactionAmt``` на **тестовом датасете**:"
   ]
  },
  {
   "cell_type": "code",
   "execution_count": 50,
   "id": "2e5601d5",
   "metadata": {
    "execution": {
     "iopub.execute_input": "2023-11-07T17:47:34.450747Z",
     "iopub.status.busy": "2023-11-07T17:47:34.450329Z",
     "iopub.status.idle": "2023-11-07T17:47:34.983080Z",
     "shell.execute_reply": "2023-11-07T17:47:34.982215Z"
    },
    "papermill": {
     "duration": 0.582742,
     "end_time": "2023-11-07T17:47:34.985204",
     "exception": false,
     "start_time": "2023-11-07T17:47:34.402462",
     "status": "completed"
    },
    "tags": []
   },
   "outputs": [
    {
     "data": {
      "image/png": "[encoded data removed]",
      "text/plain": [
       "<Figure size 800x800 with 1 Axes>"
      ]
     },
     "metadata": {},
     "output_type": "display_data"
    }
   ],
   "source": [
    "plt_hist(test_df, 'TransactionAmt')"
   ]
  },
  {
   "cell_type": "code",
   "execution_count": 51,
   "id": "bf80b622",
   "metadata": {
    "execution": {
     "iopub.execute_input": "2023-11-07T17:47:35.081421Z",
     "iopub.status.busy": "2023-11-07T17:47:35.080739Z",
     "iopub.status.idle": "2023-11-07T17:47:35.408075Z",
     "shell.execute_reply": "2023-11-07T17:47:35.406919Z"
    },
    "papermill": {
     "duration": 0.378726,
     "end_time": "2023-11-07T17:47:35.410861",
     "exception": false,
     "start_time": "2023-11-07T17:47:35.032135",
     "status": "completed"
    },
    "tags": []
   },
   "outputs": [
    {
     "data": {
      "image/png": "[encoded data removed]",
      "text/plain": [
       "<Figure size 1000x300 with 1 Axes>"
      ]
     },
     "metadata": {},
     "output_type": "display_data"
    }
   ],
   "source": [
    "plt_boxplot(test_df, 'TransactionAmt')"
   ]
  },
  {
   "cell_type": "markdown",
   "id": "c758e9ff",
   "metadata": {
    "papermill": {
     "duration": 0.04919,
     "end_time": "2023-11-07T17:47:35.509237",
     "exception": false,
     "start_time": "2023-11-07T17:47:35.460047",
     "status": "completed"
    },
    "tags": []
   },
   "source": [
    "Аналогично очистим тестовый датасет от выбросов признака ```TransactionAMT```"
   ]
  },
  {
   "cell_type": "code",
   "execution_count": 52,
   "id": "7bea221a",
   "metadata": {
    "execution": {
     "iopub.execute_input": "2023-11-07T17:47:35.604820Z",
     "iopub.status.busy": "2023-11-07T17:47:35.604173Z",
     "iopub.status.idle": "2023-11-07T17:47:37.297078Z",
     "shell.execute_reply": "2023-11-07T17:47:37.295762Z"
    },
    "papermill": {
     "duration": 1.744145,
     "end_time": "2023-11-07T17:47:37.300267",
     "exception": false,
     "start_time": "2023-11-07T17:47:35.556122",
     "status": "completed"
    },
    "tags": []
   },
   "outputs": [
    {
     "data": {
      "text/plain": [
       "(476384, 359)"
      ]
     },
     "execution_count": 52,
     "metadata": {},
     "output_type": "execute_result"
    }
   ],
   "source": [
    "test_df = data_without_feat_emsns(test_df, 'TransactionAmt')\n",
    "test_df.shape"
   ]
  },
  {
   "cell_type": "markdown",
   "id": "2b57e46f",
   "metadata": {
    "papermill": {
     "duration": 0.050538,
     "end_time": "2023-11-07T17:47:37.403533",
     "exception": false,
     "start_time": "2023-11-07T17:47:37.352995",
     "status": "completed"
    },
    "tags": []
   },
   "source": [
    "Построим гистограмму распределения и диаграмму размаха платежей для тестового датасета после очистки данных от выбросов"
   ]
  },
  {
   "cell_type": "code",
   "execution_count": 53,
   "id": "f248a03d",
   "metadata": {
    "execution": {
     "iopub.execute_input": "2023-11-07T17:47:37.512582Z",
     "iopub.status.busy": "2023-11-07T17:47:37.512092Z",
     "iopub.status.idle": "2023-11-07T17:47:37.883343Z",
     "shell.execute_reply": "2023-11-07T17:47:37.882121Z"
    },
    "papermill": {
     "duration": 0.430881,
     "end_time": "2023-11-07T17:47:37.886103",
     "exception": false,
     "start_time": "2023-11-07T17:47:37.455222",
     "status": "completed"
    },
    "tags": []
   },
   "outputs": [
    {
     "data": {
      "image/png": "[encoded data removed]",
      "text/plain": [
       "<Figure size 800x800 with 1 Axes>"
      ]
     },
     "metadata": {},
     "output_type": "display_data"
    }
   ],
   "source": [
    "plt_hist(test_df, 'TransactionAmt', bins=20)"
   ]
  },
  {
   "cell_type": "code",
   "execution_count": 54,
   "id": "08d7263b",
   "metadata": {
    "execution": {
     "iopub.execute_input": "2023-11-07T17:47:37.986525Z",
     "iopub.status.busy": "2023-11-07T17:47:37.986142Z",
     "iopub.status.idle": "2023-11-07T17:47:38.284510Z",
     "shell.execute_reply": "2023-11-07T17:47:38.283256Z"
    },
    "papermill": {
     "duration": 0.350151,
     "end_time": "2023-11-07T17:47:38.286902",
     "exception": false,
     "start_time": "2023-11-07T17:47:37.936751",
     "status": "completed"
    },
    "tags": []
   },
   "outputs": [
    {
     "data": {
      "image/png": "[encoded data removed]",
      "text/plain": [
       "<Figure size 1000x300 with 1 Axes>"
      ]
     },
     "metadata": {},
     "output_type": "display_data"
    }
   ],
   "source": [
    "plt_boxplot(test_df, 'TransactionAmt')"
   ]
  },
  {
   "cell_type": "markdown",
   "id": "de89e27d",
   "metadata": {
    "papermill": {
     "duration": 0.049029,
     "end_time": "2023-11-07T17:47:38.386852",
     "exception": false,
     "start_time": "2023-11-07T17:47:38.337823",
     "status": "completed"
    },
    "tags": []
   },
   "source": [
    "Используя ```Label Encoder``` преорабразуем категориальные признаки в числа в тренировочном и тестовом датасетах"
   ]
  },
  {
   "cell_type": "code",
   "execution_count": 55,
   "id": "5a88c8ff",
   "metadata": {
    "execution": {
     "iopub.execute_input": "2023-11-07T17:47:38.484723Z",
     "iopub.status.busy": "2023-11-07T17:47:38.484337Z",
     "iopub.status.idle": "2023-11-07T17:48:07.515669Z",
     "shell.execute_reply": "2023-11-07T17:48:07.514372Z"
    },
    "papermill": {
     "duration": 29.083393,
     "end_time": "2023-11-07T17:48:07.518333",
     "exception": false,
     "start_time": "2023-11-07T17:47:38.434940",
     "status": "completed"
    },
    "tags": []
   },
   "outputs": [],
   "source": [
    "for f in train_df.columns:\n",
    "    if train_df.loc[:, f].dtype=='object':\n",
    "        le = LabelEncoder()\n",
    "        le.fit(list(train_df.loc[:, f].values))\n",
    "        train_df.loc[:, f] = le.transform(list(train_df.loc[:, f].values))"
   ]
  },
  {
   "cell_type": "code",
   "execution_count": 56,
   "id": "09016f43",
   "metadata": {
    "execution": {
     "iopub.execute_input": "2023-11-07T17:48:07.617206Z",
     "iopub.status.busy": "2023-11-07T17:48:07.616783Z",
     "iopub.status.idle": "2023-11-07T17:48:32.242748Z",
     "shell.execute_reply": "2023-11-07T17:48:32.241651Z"
    },
    "papermill": {
     "duration": 24.678237,
     "end_time": "2023-11-07T17:48:32.245539",
     "exception": false,
     "start_time": "2023-11-07T17:48:07.567302",
     "status": "completed"
    },
    "tags": []
   },
   "outputs": [],
   "source": [
    "for f in test_df.columns:\n",
    "    if test_df.loc[:, f].dtype=='object':\n",
    "        le = LabelEncoder()\n",
    "        le.fit(list(test_df.loc[:, f].values))\n",
    "        test_df.loc[:, f] = le.transform(list(test_df.loc[:, f].values))"
   ]
  },
  {
   "cell_type": "markdown",
   "id": "5da4c391",
   "metadata": {
    "papermill": {
     "duration": 0.048253,
     "end_time": "2023-11-07T17:48:32.341927",
     "exception": false,
     "start_time": "2023-11-07T17:48:32.293674",
     "status": "completed"
    },
    "tags": []
   },
   "source": [
    "Посмотрим на категориальные признаки в датасетах после преобразований"
   ]
  },
  {
   "cell_type": "code",
   "execution_count": 57,
   "id": "f673d687",
   "metadata": {
    "execution": {
     "iopub.execute_input": "2023-11-07T17:48:32.440545Z",
     "iopub.status.busy": "2023-11-07T17:48:32.440166Z",
     "iopub.status.idle": "2023-11-07T17:48:33.190266Z",
     "shell.execute_reply": "2023-11-07T17:48:33.189113Z"
    },
    "papermill": {
     "duration": 0.802085,
     "end_time": "2023-11-07T17:48:33.192633",
     "exception": false,
     "start_time": "2023-11-07T17:48:32.390548",
     "status": "completed"
    },
    "tags": []
   },
   "outputs": [
    {
     "data": {
      "text/html": [
       "<div>\n",
       "<style scoped>\n",
       "    .dataframe tbody tr th:only-of-type {\n",
       "        vertical-align: middle;\n",
       "    }\n",
       "\n",
       "    .dataframe tbody tr th {\n",
       "        vertical-align: top;\n",
       "    }\n",
       "\n",
       "    .dataframe thead th {\n",
       "        text-align: right;\n",
       "    }\n",
       "</style>\n",
       "<table border=\"1\" class=\"dataframe\">\n",
       "  <thead>\n",
       "    <tr style=\"text-align: right;\">\n",
       "      <th></th>\n",
       "      <th>ProductCD</th>\n",
       "      <th>card4</th>\n",
       "      <th>card6</th>\n",
       "      <th>P_emaildomain</th>\n",
       "      <th>R_emaildomain</th>\n",
       "      <th>M1</th>\n",
       "      <th>M2</th>\n",
       "      <th>M3</th>\n",
       "      <th>M4</th>\n",
       "      <th>M5</th>\n",
       "      <th>...</th>\n",
       "      <th>id_16</th>\n",
       "      <th>id_28</th>\n",
       "      <th>id_29</th>\n",
       "      <th>id_31</th>\n",
       "      <th>id_35</th>\n",
       "      <th>id_36</th>\n",
       "      <th>id_37</th>\n",
       "      <th>id_38</th>\n",
       "      <th>DeviceType</th>\n",
       "      <th>DeviceInfo</th>\n",
       "    </tr>\n",
       "  </thead>\n",
       "  <tbody>\n",
       "    <tr>\n",
       "      <th>0</th>\n",
       "      <td>4</td>\n",
       "      <td>2</td>\n",
       "      <td>2</td>\n",
       "      <td>0</td>\n",
       "      <td>0</td>\n",
       "      <td>2</td>\n",
       "      <td>2</td>\n",
       "      <td>2</td>\n",
       "      <td>3</td>\n",
       "      <td>1</td>\n",
       "      <td>...</td>\n",
       "      <td>0</td>\n",
       "      <td>0</td>\n",
       "      <td>0</td>\n",
       "      <td>0</td>\n",
       "      <td>0</td>\n",
       "      <td>0</td>\n",
       "      <td>0</td>\n",
       "      <td>0</td>\n",
       "      <td>0</td>\n",
       "      <td>0</td>\n",
       "    </tr>\n",
       "    <tr>\n",
       "      <th>1</th>\n",
       "      <td>4</td>\n",
       "      <td>3</td>\n",
       "      <td>2</td>\n",
       "      <td>17</td>\n",
       "      <td>0</td>\n",
       "      <td>0</td>\n",
       "      <td>0</td>\n",
       "      <td>0</td>\n",
       "      <td>1</td>\n",
       "      <td>2</td>\n",
       "      <td>...</td>\n",
       "      <td>0</td>\n",
       "      <td>0</td>\n",
       "      <td>0</td>\n",
       "      <td>0</td>\n",
       "      <td>0</td>\n",
       "      <td>0</td>\n",
       "      <td>0</td>\n",
       "      <td>0</td>\n",
       "      <td>0</td>\n",
       "      <td>0</td>\n",
       "    </tr>\n",
       "    <tr>\n",
       "      <th>2</th>\n",
       "      <td>4</td>\n",
       "      <td>4</td>\n",
       "      <td>3</td>\n",
       "      <td>36</td>\n",
       "      <td>0</td>\n",
       "      <td>2</td>\n",
       "      <td>2</td>\n",
       "      <td>2</td>\n",
       "      <td>1</td>\n",
       "      <td>1</td>\n",
       "      <td>...</td>\n",
       "      <td>0</td>\n",
       "      <td>0</td>\n",
       "      <td>0</td>\n",
       "      <td>0</td>\n",
       "      <td>0</td>\n",
       "      <td>0</td>\n",
       "      <td>0</td>\n",
       "      <td>0</td>\n",
       "      <td>0</td>\n",
       "      <td>0</td>\n",
       "    </tr>\n",
       "    <tr>\n",
       "      <th>3</th>\n",
       "      <td>4</td>\n",
       "      <td>3</td>\n",
       "      <td>3</td>\n",
       "      <td>54</td>\n",
       "      <td>0</td>\n",
       "      <td>0</td>\n",
       "      <td>0</td>\n",
       "      <td>0</td>\n",
       "      <td>1</td>\n",
       "      <td>2</td>\n",
       "      <td>...</td>\n",
       "      <td>0</td>\n",
       "      <td>0</td>\n",
       "      <td>0</td>\n",
       "      <td>0</td>\n",
       "      <td>0</td>\n",
       "      <td>0</td>\n",
       "      <td>0</td>\n",
       "      <td>0</td>\n",
       "      <td>0</td>\n",
       "      <td>0</td>\n",
       "    </tr>\n",
       "    <tr>\n",
       "      <th>4</th>\n",
       "      <td>1</td>\n",
       "      <td>3</td>\n",
       "      <td>2</td>\n",
       "      <td>17</td>\n",
       "      <td>0</td>\n",
       "      <td>0</td>\n",
       "      <td>0</td>\n",
       "      <td>0</td>\n",
       "      <td>0</td>\n",
       "      <td>0</td>\n",
       "      <td>...</td>\n",
       "      <td>2</td>\n",
       "      <td>2</td>\n",
       "      <td>2</td>\n",
       "      <td>124</td>\n",
       "      <td>2</td>\n",
       "      <td>1</td>\n",
       "      <td>2</td>\n",
       "      <td>2</td>\n",
       "      <td>2</td>\n",
       "      <td>954</td>\n",
       "    </tr>\n",
       "    <tr>\n",
       "      <th>...</th>\n",
       "      <td>...</td>\n",
       "      <td>...</td>\n",
       "      <td>...</td>\n",
       "      <td>...</td>\n",
       "      <td>...</td>\n",
       "      <td>...</td>\n",
       "      <td>...</td>\n",
       "      <td>...</td>\n",
       "      <td>...</td>\n",
       "      <td>...</td>\n",
       "      <td>...</td>\n",
       "      <td>...</td>\n",
       "      <td>...</td>\n",
       "      <td>...</td>\n",
       "      <td>...</td>\n",
       "      <td>...</td>\n",
       "      <td>...</td>\n",
       "      <td>...</td>\n",
       "      <td>...</td>\n",
       "      <td>...</td>\n",
       "      <td>...</td>\n",
       "    </tr>\n",
       "    <tr>\n",
       "      <th>590535</th>\n",
       "      <td>4</td>\n",
       "      <td>4</td>\n",
       "      <td>3</td>\n",
       "      <td>0</td>\n",
       "      <td>0</td>\n",
       "      <td>2</td>\n",
       "      <td>2</td>\n",
       "      <td>2</td>\n",
       "      <td>1</td>\n",
       "      <td>2</td>\n",
       "      <td>...</td>\n",
       "      <td>0</td>\n",
       "      <td>0</td>\n",
       "      <td>0</td>\n",
       "      <td>0</td>\n",
       "      <td>0</td>\n",
       "      <td>0</td>\n",
       "      <td>0</td>\n",
       "      <td>0</td>\n",
       "      <td>0</td>\n",
       "      <td>0</td>\n",
       "    </tr>\n",
       "    <tr>\n",
       "      <th>590536</th>\n",
       "      <td>4</td>\n",
       "      <td>3</td>\n",
       "      <td>3</td>\n",
       "      <td>17</td>\n",
       "      <td>0</td>\n",
       "      <td>2</td>\n",
       "      <td>1</td>\n",
       "      <td>1</td>\n",
       "      <td>1</td>\n",
       "      <td>1</td>\n",
       "      <td>...</td>\n",
       "      <td>0</td>\n",
       "      <td>0</td>\n",
       "      <td>0</td>\n",
       "      <td>0</td>\n",
       "      <td>0</td>\n",
       "      <td>0</td>\n",
       "      <td>0</td>\n",
       "      <td>0</td>\n",
       "      <td>0</td>\n",
       "      <td>0</td>\n",
       "    </tr>\n",
       "    <tr>\n",
       "      <th>590537</th>\n",
       "      <td>4</td>\n",
       "      <td>3</td>\n",
       "      <td>3</td>\n",
       "      <td>17</td>\n",
       "      <td>0</td>\n",
       "      <td>2</td>\n",
       "      <td>1</td>\n",
       "      <td>1</td>\n",
       "      <td>0</td>\n",
       "      <td>0</td>\n",
       "      <td>...</td>\n",
       "      <td>0</td>\n",
       "      <td>0</td>\n",
       "      <td>0</td>\n",
       "      <td>0</td>\n",
       "      <td>0</td>\n",
       "      <td>0</td>\n",
       "      <td>0</td>\n",
       "      <td>0</td>\n",
       "      <td>0</td>\n",
       "      <td>0</td>\n",
       "    </tr>\n",
       "    <tr>\n",
       "      <th>590538</th>\n",
       "      <td>4</td>\n",
       "      <td>3</td>\n",
       "      <td>3</td>\n",
       "      <td>3</td>\n",
       "      <td>0</td>\n",
       "      <td>2</td>\n",
       "      <td>2</td>\n",
       "      <td>2</td>\n",
       "      <td>1</td>\n",
       "      <td>1</td>\n",
       "      <td>...</td>\n",
       "      <td>0</td>\n",
       "      <td>0</td>\n",
       "      <td>0</td>\n",
       "      <td>0</td>\n",
       "      <td>0</td>\n",
       "      <td>0</td>\n",
       "      <td>0</td>\n",
       "      <td>0</td>\n",
       "      <td>0</td>\n",
       "      <td>0</td>\n",
       "    </tr>\n",
       "    <tr>\n",
       "      <th>590539</th>\n",
       "      <td>4</td>\n",
       "      <td>3</td>\n",
       "      <td>2</td>\n",
       "      <td>17</td>\n",
       "      <td>0</td>\n",
       "      <td>2</td>\n",
       "      <td>1</td>\n",
       "      <td>1</td>\n",
       "      <td>0</td>\n",
       "      <td>0</td>\n",
       "      <td>...</td>\n",
       "      <td>0</td>\n",
       "      <td>0</td>\n",
       "      <td>0</td>\n",
       "      <td>0</td>\n",
       "      <td>0</td>\n",
       "      <td>0</td>\n",
       "      <td>0</td>\n",
       "      <td>0</td>\n",
       "      <td>0</td>\n",
       "      <td>0</td>\n",
       "    </tr>\n",
       "  </tbody>\n",
       "</table>\n",
       "<p>554118 rows × 26 columns</p>\n",
       "</div>"
      ],
      "text/plain": [
       "       ProductCD card4 card6 P_emaildomain R_emaildomain M1 M2 M3 M4 M5  ...  \\\n",
       "0              4     2     2             0             0  2  2  2  3  1  ...   \n",
       "1              4     3     2            17             0  0  0  0  1  2  ...   \n",
       "2              4     4     3            36             0  2  2  2  1  1  ...   \n",
       "3              4     3     3            54             0  0  0  0  1  2  ...   \n",
       "4              1     3     2            17             0  0  0  0  0  0  ...   \n",
       "...          ...   ...   ...           ...           ... .. .. .. .. ..  ...   \n",
       "590535         4     4     3             0             0  2  2  2  1  2  ...   \n",
       "590536         4     3     3            17             0  2  1  1  1  1  ...   \n",
       "590537         4     3     3            17             0  2  1  1  0  0  ...   \n",
       "590538         4     3     3             3             0  2  2  2  1  1  ...   \n",
       "590539         4     3     2            17             0  2  1  1  0  0  ...   \n",
       "\n",
       "       id_16 id_28 id_29 id_31 id_35 id_36 id_37 id_38 DeviceType DeviceInfo  \n",
       "0          0     0     0     0     0     0     0     0          0          0  \n",
       "1          0     0     0     0     0     0     0     0          0          0  \n",
       "2          0     0     0     0     0     0     0     0          0          0  \n",
       "3          0     0     0     0     0     0     0     0          0          0  \n",
       "4          2     2     2   124     2     1     2     2          2        954  \n",
       "...      ...   ...   ...   ...   ...   ...   ...   ...        ...        ...  \n",
       "590535     0     0     0     0     0     0     0     0          0          0  \n",
       "590536     0     0     0     0     0     0     0     0          0          0  \n",
       "590537     0     0     0     0     0     0     0     0          0          0  \n",
       "590538     0     0     0     0     0     0     0     0          0          0  \n",
       "590539     0     0     0     0     0     0     0     0          0          0  \n",
       "\n",
       "[554118 rows x 26 columns]"
      ]
     },
     "execution_count": 57,
     "metadata": {},
     "output_type": "execute_result"
    }
   ],
   "source": [
    "train_df[cat_features]"
   ]
  },
  {
   "cell_type": "code",
   "execution_count": 58,
   "id": "d1db5a3a",
   "metadata": {
    "execution": {
     "iopub.execute_input": "2023-11-07T17:48:33.292002Z",
     "iopub.status.busy": "2023-11-07T17:48:33.291622Z",
     "iopub.status.idle": "2023-11-07T17:48:33.942689Z",
     "shell.execute_reply": "2023-11-07T17:48:33.941593Z"
    },
    "papermill": {
     "duration": 0.703954,
     "end_time": "2023-11-07T17:48:33.945154",
     "exception": false,
     "start_time": "2023-11-07T17:48:33.241200",
     "status": "completed"
    },
    "tags": []
   },
   "outputs": [
    {
     "data": {
      "text/html": [
       "<div>\n",
       "<style scoped>\n",
       "    .dataframe tbody tr th:only-of-type {\n",
       "        vertical-align: middle;\n",
       "    }\n",
       "\n",
       "    .dataframe tbody tr th {\n",
       "        vertical-align: top;\n",
       "    }\n",
       "\n",
       "    .dataframe thead th {\n",
       "        text-align: right;\n",
       "    }\n",
       "</style>\n",
       "<table border=\"1\" class=\"dataframe\">\n",
       "  <thead>\n",
       "    <tr style=\"text-align: right;\">\n",
       "      <th></th>\n",
       "      <th>ProductCD</th>\n",
       "      <th>card4</th>\n",
       "      <th>card6</th>\n",
       "      <th>P_emaildomain</th>\n",
       "      <th>R_emaildomain</th>\n",
       "      <th>M1</th>\n",
       "      <th>M2</th>\n",
       "      <th>M3</th>\n",
       "      <th>M4</th>\n",
       "      <th>M5</th>\n",
       "      <th>...</th>\n",
       "      <th>id_16</th>\n",
       "      <th>id_28</th>\n",
       "      <th>id_29</th>\n",
       "      <th>id_31</th>\n",
       "      <th>id_35</th>\n",
       "      <th>id_36</th>\n",
       "      <th>id_37</th>\n",
       "      <th>id_38</th>\n",
       "      <th>DeviceType</th>\n",
       "      <th>DeviceInfo</th>\n",
       "    </tr>\n",
       "  </thead>\n",
       "  <tbody>\n",
       "    <tr>\n",
       "      <th>0</th>\n",
       "      <td>4</td>\n",
       "      <td>4</td>\n",
       "      <td>3</td>\n",
       "      <td>17</td>\n",
       "      <td>0</td>\n",
       "      <td>2</td>\n",
       "      <td>2</td>\n",
       "      <td>1</td>\n",
       "      <td>0</td>\n",
       "      <td>0</td>\n",
       "      <td>...</td>\n",
       "      <td>0</td>\n",
       "      <td>0</td>\n",
       "      <td>0</td>\n",
       "      <td>0</td>\n",
       "      <td>0</td>\n",
       "      <td>0</td>\n",
       "      <td>0</td>\n",
       "      <td>0</td>\n",
       "      <td>0</td>\n",
       "      <td>0</td>\n",
       "    </tr>\n",
       "    <tr>\n",
       "      <th>1</th>\n",
       "      <td>4</td>\n",
       "      <td>4</td>\n",
       "      <td>3</td>\n",
       "      <td>3</td>\n",
       "      <td>0</td>\n",
       "      <td>2</td>\n",
       "      <td>1</td>\n",
       "      <td>1</td>\n",
       "      <td>1</td>\n",
       "      <td>0</td>\n",
       "      <td>...</td>\n",
       "      <td>0</td>\n",
       "      <td>0</td>\n",
       "      <td>0</td>\n",
       "      <td>0</td>\n",
       "      <td>0</td>\n",
       "      <td>0</td>\n",
       "      <td>0</td>\n",
       "      <td>0</td>\n",
       "      <td>0</td>\n",
       "      <td>0</td>\n",
       "    </tr>\n",
       "    <tr>\n",
       "      <th>2</th>\n",
       "      <td>4</td>\n",
       "      <td>4</td>\n",
       "      <td>3</td>\n",
       "      <td>20</td>\n",
       "      <td>0</td>\n",
       "      <td>2</td>\n",
       "      <td>2</td>\n",
       "      <td>1</td>\n",
       "      <td>1</td>\n",
       "      <td>1</td>\n",
       "      <td>...</td>\n",
       "      <td>0</td>\n",
       "      <td>0</td>\n",
       "      <td>0</td>\n",
       "      <td>0</td>\n",
       "      <td>0</td>\n",
       "      <td>0</td>\n",
       "      <td>0</td>\n",
       "      <td>0</td>\n",
       "      <td>0</td>\n",
       "      <td>0</td>\n",
       "    </tr>\n",
       "    <tr>\n",
       "      <th>3</th>\n",
       "      <td>4</td>\n",
       "      <td>4</td>\n",
       "      <td>3</td>\n",
       "      <td>17</td>\n",
       "      <td>0</td>\n",
       "      <td>2</td>\n",
       "      <td>2</td>\n",
       "      <td>2</td>\n",
       "      <td>0</td>\n",
       "      <td>0</td>\n",
       "      <td>...</td>\n",
       "      <td>0</td>\n",
       "      <td>0</td>\n",
       "      <td>0</td>\n",
       "      <td>0</td>\n",
       "      <td>0</td>\n",
       "      <td>0</td>\n",
       "      <td>0</td>\n",
       "      <td>0</td>\n",
       "      <td>0</td>\n",
       "      <td>0</td>\n",
       "    </tr>\n",
       "    <tr>\n",
       "      <th>4</th>\n",
       "      <td>4</td>\n",
       "      <td>3</td>\n",
       "      <td>3</td>\n",
       "      <td>17</td>\n",
       "      <td>0</td>\n",
       "      <td>2</td>\n",
       "      <td>2</td>\n",
       "      <td>2</td>\n",
       "      <td>0</td>\n",
       "      <td>0</td>\n",
       "      <td>...</td>\n",
       "      <td>0</td>\n",
       "      <td>0</td>\n",
       "      <td>0</td>\n",
       "      <td>0</td>\n",
       "      <td>0</td>\n",
       "      <td>0</td>\n",
       "      <td>0</td>\n",
       "      <td>0</td>\n",
       "      <td>0</td>\n",
       "      <td>0</td>\n",
       "    </tr>\n",
       "    <tr>\n",
       "      <th>...</th>\n",
       "      <td>...</td>\n",
       "      <td>...</td>\n",
       "      <td>...</td>\n",
       "      <td>...</td>\n",
       "      <td>...</td>\n",
       "      <td>...</td>\n",
       "      <td>...</td>\n",
       "      <td>...</td>\n",
       "      <td>...</td>\n",
       "      <td>...</td>\n",
       "      <td>...</td>\n",
       "      <td>...</td>\n",
       "      <td>...</td>\n",
       "      <td>...</td>\n",
       "      <td>...</td>\n",
       "      <td>...</td>\n",
       "      <td>...</td>\n",
       "      <td>...</td>\n",
       "      <td>...</td>\n",
       "      <td>...</td>\n",
       "      <td>...</td>\n",
       "    </tr>\n",
       "    <tr>\n",
       "      <th>506686</th>\n",
       "      <td>0</td>\n",
       "      <td>3</td>\n",
       "      <td>3</td>\n",
       "      <td>17</td>\n",
       "      <td>17</td>\n",
       "      <td>0</td>\n",
       "      <td>0</td>\n",
       "      <td>0</td>\n",
       "      <td>3</td>\n",
       "      <td>0</td>\n",
       "      <td>...</td>\n",
       "      <td>0</td>\n",
       "      <td>0</td>\n",
       "      <td>0</td>\n",
       "      <td>0</td>\n",
       "      <td>0</td>\n",
       "      <td>0</td>\n",
       "      <td>0</td>\n",
       "      <td>0</td>\n",
       "      <td>0</td>\n",
       "      <td>0</td>\n",
       "    </tr>\n",
       "    <tr>\n",
       "      <th>506687</th>\n",
       "      <td>0</td>\n",
       "      <td>3</td>\n",
       "      <td>3</td>\n",
       "      <td>20</td>\n",
       "      <td>20</td>\n",
       "      <td>0</td>\n",
       "      <td>0</td>\n",
       "      <td>0</td>\n",
       "      <td>3</td>\n",
       "      <td>0</td>\n",
       "      <td>...</td>\n",
       "      <td>2</td>\n",
       "      <td>2</td>\n",
       "      <td>2</td>\n",
       "      <td>6</td>\n",
       "      <td>1</td>\n",
       "      <td>1</td>\n",
       "      <td>2</td>\n",
       "      <td>1</td>\n",
       "      <td>2</td>\n",
       "      <td>107</td>\n",
       "    </tr>\n",
       "    <tr>\n",
       "      <th>506688</th>\n",
       "      <td>4</td>\n",
       "      <td>4</td>\n",
       "      <td>3</td>\n",
       "      <td>20</td>\n",
       "      <td>0</td>\n",
       "      <td>2</td>\n",
       "      <td>2</td>\n",
       "      <td>2</td>\n",
       "      <td>1</td>\n",
       "      <td>1</td>\n",
       "      <td>...</td>\n",
       "      <td>0</td>\n",
       "      <td>0</td>\n",
       "      <td>0</td>\n",
       "      <td>0</td>\n",
       "      <td>0</td>\n",
       "      <td>0</td>\n",
       "      <td>0</td>\n",
       "      <td>0</td>\n",
       "      <td>0</td>\n",
       "      <td>0</td>\n",
       "    </tr>\n",
       "    <tr>\n",
       "      <th>506689</th>\n",
       "      <td>4</td>\n",
       "      <td>3</td>\n",
       "      <td>3</td>\n",
       "      <td>20</td>\n",
       "      <td>0</td>\n",
       "      <td>2</td>\n",
       "      <td>2</td>\n",
       "      <td>2</td>\n",
       "      <td>1</td>\n",
       "      <td>1</td>\n",
       "      <td>...</td>\n",
       "      <td>0</td>\n",
       "      <td>0</td>\n",
       "      <td>0</td>\n",
       "      <td>0</td>\n",
       "      <td>0</td>\n",
       "      <td>0</td>\n",
       "      <td>0</td>\n",
       "      <td>0</td>\n",
       "      <td>0</td>\n",
       "      <td>0</td>\n",
       "    </tr>\n",
       "    <tr>\n",
       "      <th>506690</th>\n",
       "      <td>0</td>\n",
       "      <td>4</td>\n",
       "      <td>2</td>\n",
       "      <td>20</td>\n",
       "      <td>20</td>\n",
       "      <td>0</td>\n",
       "      <td>0</td>\n",
       "      <td>0</td>\n",
       "      <td>3</td>\n",
       "      <td>0</td>\n",
       "      <td>...</td>\n",
       "      <td>1</td>\n",
       "      <td>1</td>\n",
       "      <td>1</td>\n",
       "      <td>134</td>\n",
       "      <td>1</td>\n",
       "      <td>1</td>\n",
       "      <td>2</td>\n",
       "      <td>1</td>\n",
       "      <td>2</td>\n",
       "      <td>1207</td>\n",
       "    </tr>\n",
       "  </tbody>\n",
       "</table>\n",
       "<p>476384 rows × 26 columns</p>\n",
       "</div>"
      ],
      "text/plain": [
       "       ProductCD card4 card6 P_emaildomain R_emaildomain M1 M2 M3 M4 M5  ...  \\\n",
       "0              4     4     3            17             0  2  2  1  0  0  ...   \n",
       "1              4     4     3             3             0  2  1  1  1  0  ...   \n",
       "2              4     4     3            20             0  2  2  1  1  1  ...   \n",
       "3              4     4     3            17             0  2  2  2  0  0  ...   \n",
       "4              4     3     3            17             0  2  2  2  0  0  ...   \n",
       "...          ...   ...   ...           ...           ... .. .. .. .. ..  ...   \n",
       "506686         0     3     3            17            17  0  0  0  3  0  ...   \n",
       "506687         0     3     3            20            20  0  0  0  3  0  ...   \n",
       "506688         4     4     3            20             0  2  2  2  1  1  ...   \n",
       "506689         4     3     3            20             0  2  2  2  1  1  ...   \n",
       "506690         0     4     2            20            20  0  0  0  3  0  ...   \n",
       "\n",
       "       id_16 id_28 id_29 id_31 id_35 id_36 id_37 id_38 DeviceType DeviceInfo  \n",
       "0          0     0     0     0     0     0     0     0          0          0  \n",
       "1          0     0     0     0     0     0     0     0          0          0  \n",
       "2          0     0     0     0     0     0     0     0          0          0  \n",
       "3          0     0     0     0     0     0     0     0          0          0  \n",
       "4          0     0     0     0     0     0     0     0          0          0  \n",
       "...      ...   ...   ...   ...   ...   ...   ...   ...        ...        ...  \n",
       "506686     0     0     0     0     0     0     0     0          0          0  \n",
       "506687     2     2     2     6     1     1     2     1          2        107  \n",
       "506688     0     0     0     0     0     0     0     0          0          0  \n",
       "506689     0     0     0     0     0     0     0     0          0          0  \n",
       "506690     1     1     1   134     1     1     2     1          2       1207  \n",
       "\n",
       "[476384 rows x 26 columns]"
      ]
     },
     "execution_count": 58,
     "metadata": {},
     "output_type": "execute_result"
    }
   ],
   "source": [
    "test_df[cat_features]"
   ]
  },
  {
   "cell_type": "markdown",
   "id": "b25bde7d",
   "metadata": {
    "papermill": {
     "duration": 0.049193,
     "end_time": "2023-11-07T17:48:34.043700",
     "exception": false,
     "start_time": "2023-11-07T17:48:33.994507",
     "status": "completed"
    },
    "tags": []
   },
   "source": [
    "Ещё раз посмотрим на информацию по данным"
   ]
  },
  {
   "cell_type": "code",
   "execution_count": 59,
   "id": "2220c21d",
   "metadata": {
    "execution": {
     "iopub.execute_input": "2023-11-07T17:48:34.144945Z",
     "iopub.status.busy": "2023-11-07T17:48:34.143840Z",
     "iopub.status.idle": "2023-11-07T17:48:34.172444Z",
     "shell.execute_reply": "2023-11-07T17:48:34.171560Z"
    },
    "papermill": {
     "duration": 0.082064,
     "end_time": "2023-11-07T17:48:34.174777",
     "exception": false,
     "start_time": "2023-11-07T17:48:34.092713",
     "status": "completed"
    },
    "tags": []
   },
   "outputs": [
    {
     "name": "stdout",
     "output_type": "stream",
     "text": [
      "<class 'pandas.core.frame.DataFrame'>\n",
      "Index: 554118 entries, 0 to 590539\n",
      "Columns: 360 entries, TransactionID to DeviceInfo\n",
      "dtypes: float32(330), object(26), uint16(1), uint32(2), uint8(1)\n",
      "memory usage: 817.5+ MB\n"
     ]
    }
   ],
   "source": [
    "train_df.info()"
   ]
  },
  {
   "cell_type": "markdown",
   "id": "73ac4448",
   "metadata": {
    "papermill": {
     "duration": 0.049057,
     "end_time": "2023-11-07T17:48:34.273645",
     "exception": false,
     "start_time": "2023-11-07T17:48:34.224588",
     "status": "completed"
    },
    "tags": []
   },
   "source": [
    "В данных имеются значения типа ```object```. Данный тип не подходит для обучения модели. Преобразуем его в тип ```int```, т.к. мы уже выполнили преобразование категориальных признаков в числовые"
   ]
  },
  {
   "cell_type": "code",
   "execution_count": 60,
   "id": "08c3a8fa",
   "metadata": {
    "execution": {
     "iopub.execute_input": "2023-11-07T17:48:34.376618Z",
     "iopub.status.busy": "2023-11-07T17:48:34.375522Z",
     "iopub.status.idle": "2023-11-07T17:48:36.855144Z",
     "shell.execute_reply": "2023-11-07T17:48:36.853892Z"
    },
    "papermill": {
     "duration": 2.533834,
     "end_time": "2023-11-07T17:48:36.857821",
     "exception": false,
     "start_time": "2023-11-07T17:48:34.323987",
     "status": "completed"
    },
    "tags": []
   },
   "outputs": [
    {
     "name": "stderr",
     "output_type": "stream",
     "text": [
      "/tmp/ipykernel_20/4197225427.py:5: SettingWithCopyWarning: \n",
      "A value is trying to be set on a copy of a slice from a DataFrame.\n",
      "Try using .loc[row_indexer,col_indexer] = value instead\n",
      "\n",
      "See the caveats in the documentation: https://pandas.pydata.org/pandas-docs/stable/user_guide/indexing.html#returning-a-view-versus-a-copy\n",
      "  train_df[convert_object_train_data.columns] = convert_object_train_data\n"
     ]
    }
   ],
   "source": [
    "object_train_data = train_df.select_dtypes(include=['object'])\n",
    "convert_object_train_data = object_train_data.apply(\n",
    "    pd.to_numeric, downcast='unsigned')\n",
    "\n",
    "train_df[convert_object_train_data.columns] = convert_object_train_data\n"
   ]
  },
  {
   "cell_type": "code",
   "execution_count": 61,
   "id": "eadaa93c",
   "metadata": {
    "execution": {
     "iopub.execute_input": "2023-11-07T17:48:36.960135Z",
     "iopub.status.busy": "2023-11-07T17:48:36.959309Z",
     "iopub.status.idle": "2023-11-07T17:48:36.987409Z",
     "shell.execute_reply": "2023-11-07T17:48:36.985915Z"
    },
    "papermill": {
     "duration": 0.081646,
     "end_time": "2023-11-07T17:48:36.989816",
     "exception": false,
     "start_time": "2023-11-07T17:48:36.908170",
     "status": "completed"
    },
    "tags": []
   },
   "outputs": [
    {
     "name": "stdout",
     "output_type": "stream",
     "text": [
      "<class 'pandas.core.frame.DataFrame'>\n",
      "Index: 554118 entries, 0 to 590539\n",
      "Columns: 360 entries, TransactionID to DeviceInfo\n",
      "dtypes: float32(330), uint16(2), uint32(2), uint8(26)\n",
      "memory usage: 721.9 MB\n"
     ]
    }
   ],
   "source": [
    "train_df.info()"
   ]
  },
  {
   "cell_type": "code",
   "execution_count": 62,
   "id": "7b472e21",
   "metadata": {
    "execution": {
     "iopub.execute_input": "2023-11-07T17:48:37.090543Z",
     "iopub.status.busy": "2023-11-07T17:48:37.090106Z",
     "iopub.status.idle": "2023-11-07T17:48:37.299745Z",
     "shell.execute_reply": "2023-11-07T17:48:37.298626Z"
    },
    "papermill": {
     "duration": 0.263844,
     "end_time": "2023-11-07T17:48:37.303586",
     "exception": false,
     "start_time": "2023-11-07T17:48:37.039742",
     "status": "completed"
    },
    "tags": []
   },
   "outputs": [
    {
     "data": {
      "text/html": [
       "<div>\n",
       "<style scoped>\n",
       "    .dataframe tbody tr th:only-of-type {\n",
       "        vertical-align: middle;\n",
       "    }\n",
       "\n",
       "    .dataframe tbody tr th {\n",
       "        vertical-align: top;\n",
       "    }\n",
       "\n",
       "    .dataframe thead th {\n",
       "        text-align: right;\n",
       "    }\n",
       "</style>\n",
       "<table border=\"1\" class=\"dataframe\">\n",
       "  <thead>\n",
       "    <tr style=\"text-align: right;\">\n",
       "      <th></th>\n",
       "      <th>TransactionID</th>\n",
       "      <th>isFraud</th>\n",
       "      <th>TransactionDT</th>\n",
       "      <th>TransactionAmt</th>\n",
       "      <th>ProductCD</th>\n",
       "      <th>card1</th>\n",
       "      <th>card2</th>\n",
       "      <th>card3</th>\n",
       "      <th>card4</th>\n",
       "      <th>card5</th>\n",
       "      <th>...</th>\n",
       "      <th>id_20</th>\n",
       "      <th>id_28</th>\n",
       "      <th>id_29</th>\n",
       "      <th>id_31</th>\n",
       "      <th>id_35</th>\n",
       "      <th>id_36</th>\n",
       "      <th>id_37</th>\n",
       "      <th>id_38</th>\n",
       "      <th>DeviceType</th>\n",
       "      <th>DeviceInfo</th>\n",
       "    </tr>\n",
       "  </thead>\n",
       "  <tbody>\n",
       "    <tr>\n",
       "      <th>0</th>\n",
       "      <td>2987000</td>\n",
       "      <td>0</td>\n",
       "      <td>86400</td>\n",
       "      <td>68.500000</td>\n",
       "      <td>4</td>\n",
       "      <td>13926</td>\n",
       "      <td>362.555511</td>\n",
       "      <td>150.0</td>\n",
       "      <td>2</td>\n",
       "      <td>142.0</td>\n",
       "      <td>...</td>\n",
       "      <td>403.882568</td>\n",
       "      <td>0</td>\n",
       "      <td>0</td>\n",
       "      <td>0</td>\n",
       "      <td>0</td>\n",
       "      <td>0</td>\n",
       "      <td>0</td>\n",
       "      <td>0</td>\n",
       "      <td>0</td>\n",
       "      <td>0</td>\n",
       "    </tr>\n",
       "    <tr>\n",
       "      <th>1</th>\n",
       "      <td>2987001</td>\n",
       "      <td>0</td>\n",
       "      <td>86401</td>\n",
       "      <td>29.000000</td>\n",
       "      <td>4</td>\n",
       "      <td>2755</td>\n",
       "      <td>404.000000</td>\n",
       "      <td>150.0</td>\n",
       "      <td>3</td>\n",
       "      <td>102.0</td>\n",
       "      <td>...</td>\n",
       "      <td>403.882568</td>\n",
       "      <td>0</td>\n",
       "      <td>0</td>\n",
       "      <td>0</td>\n",
       "      <td>0</td>\n",
       "      <td>0</td>\n",
       "      <td>0</td>\n",
       "      <td>0</td>\n",
       "      <td>0</td>\n",
       "      <td>0</td>\n",
       "    </tr>\n",
       "    <tr>\n",
       "      <th>2</th>\n",
       "      <td>2987002</td>\n",
       "      <td>0</td>\n",
       "      <td>86469</td>\n",
       "      <td>59.000000</td>\n",
       "      <td>4</td>\n",
       "      <td>4663</td>\n",
       "      <td>490.000000</td>\n",
       "      <td>150.0</td>\n",
       "      <td>4</td>\n",
       "      <td>166.0</td>\n",
       "      <td>...</td>\n",
       "      <td>403.882568</td>\n",
       "      <td>0</td>\n",
       "      <td>0</td>\n",
       "      <td>0</td>\n",
       "      <td>0</td>\n",
       "      <td>0</td>\n",
       "      <td>0</td>\n",
       "      <td>0</td>\n",
       "      <td>0</td>\n",
       "      <td>0</td>\n",
       "    </tr>\n",
       "    <tr>\n",
       "      <th>3</th>\n",
       "      <td>2987003</td>\n",
       "      <td>0</td>\n",
       "      <td>86499</td>\n",
       "      <td>50.000000</td>\n",
       "      <td>4</td>\n",
       "      <td>18132</td>\n",
       "      <td>567.000000</td>\n",
       "      <td>150.0</td>\n",
       "      <td>3</td>\n",
       "      <td>117.0</td>\n",
       "      <td>...</td>\n",
       "      <td>403.882568</td>\n",
       "      <td>0</td>\n",
       "      <td>0</td>\n",
       "      <td>0</td>\n",
       "      <td>0</td>\n",
       "      <td>0</td>\n",
       "      <td>0</td>\n",
       "      <td>0</td>\n",
       "      <td>0</td>\n",
       "      <td>0</td>\n",
       "    </tr>\n",
       "    <tr>\n",
       "      <th>4</th>\n",
       "      <td>2987004</td>\n",
       "      <td>0</td>\n",
       "      <td>86506</td>\n",
       "      <td>50.000000</td>\n",
       "      <td>1</td>\n",
       "      <td>4497</td>\n",
       "      <td>514.000000</td>\n",
       "      <td>150.0</td>\n",
       "      <td>3</td>\n",
       "      <td>102.0</td>\n",
       "      <td>...</td>\n",
       "      <td>144.000000</td>\n",
       "      <td>2</td>\n",
       "      <td>2</td>\n",
       "      <td>124</td>\n",
       "      <td>2</td>\n",
       "      <td>1</td>\n",
       "      <td>2</td>\n",
       "      <td>2</td>\n",
       "      <td>2</td>\n",
       "      <td>954</td>\n",
       "    </tr>\n",
       "    <tr>\n",
       "      <th>...</th>\n",
       "      <td>...</td>\n",
       "      <td>...</td>\n",
       "      <td>...</td>\n",
       "      <td>...</td>\n",
       "      <td>...</td>\n",
       "      <td>...</td>\n",
       "      <td>...</td>\n",
       "      <td>...</td>\n",
       "      <td>...</td>\n",
       "      <td>...</td>\n",
       "      <td>...</td>\n",
       "      <td>...</td>\n",
       "      <td>...</td>\n",
       "      <td>...</td>\n",
       "      <td>...</td>\n",
       "      <td>...</td>\n",
       "      <td>...</td>\n",
       "      <td>...</td>\n",
       "      <td>...</td>\n",
       "      <td>...</td>\n",
       "      <td>...</td>\n",
       "    </tr>\n",
       "    <tr>\n",
       "      <th>590535</th>\n",
       "      <td>3577535</td>\n",
       "      <td>0</td>\n",
       "      <td>15811047</td>\n",
       "      <td>49.000000</td>\n",
       "      <td>4</td>\n",
       "      <td>6550</td>\n",
       "      <td>362.555511</td>\n",
       "      <td>150.0</td>\n",
       "      <td>4</td>\n",
       "      <td>226.0</td>\n",
       "      <td>...</td>\n",
       "      <td>403.882568</td>\n",
       "      <td>0</td>\n",
       "      <td>0</td>\n",
       "      <td>0</td>\n",
       "      <td>0</td>\n",
       "      <td>0</td>\n",
       "      <td>0</td>\n",
       "      <td>0</td>\n",
       "      <td>0</td>\n",
       "      <td>0</td>\n",
       "    </tr>\n",
       "    <tr>\n",
       "      <th>590536</th>\n",
       "      <td>3577536</td>\n",
       "      <td>0</td>\n",
       "      <td>15811049</td>\n",
       "      <td>39.500000</td>\n",
       "      <td>4</td>\n",
       "      <td>10444</td>\n",
       "      <td>225.000000</td>\n",
       "      <td>150.0</td>\n",
       "      <td>3</td>\n",
       "      <td>224.0</td>\n",
       "      <td>...</td>\n",
       "      <td>403.882568</td>\n",
       "      <td>0</td>\n",
       "      <td>0</td>\n",
       "      <td>0</td>\n",
       "      <td>0</td>\n",
       "      <td>0</td>\n",
       "      <td>0</td>\n",
       "      <td>0</td>\n",
       "      <td>0</td>\n",
       "      <td>0</td>\n",
       "    </tr>\n",
       "    <tr>\n",
       "      <th>590537</th>\n",
       "      <td>3577537</td>\n",
       "      <td>0</td>\n",
       "      <td>15811079</td>\n",
       "      <td>30.950001</td>\n",
       "      <td>4</td>\n",
       "      <td>12037</td>\n",
       "      <td>595.000000</td>\n",
       "      <td>150.0</td>\n",
       "      <td>3</td>\n",
       "      <td>224.0</td>\n",
       "      <td>...</td>\n",
       "      <td>403.882568</td>\n",
       "      <td>0</td>\n",
       "      <td>0</td>\n",
       "      <td>0</td>\n",
       "      <td>0</td>\n",
       "      <td>0</td>\n",
       "      <td>0</td>\n",
       "      <td>0</td>\n",
       "      <td>0</td>\n",
       "      <td>0</td>\n",
       "    </tr>\n",
       "    <tr>\n",
       "      <th>590538</th>\n",
       "      <td>3577538</td>\n",
       "      <td>0</td>\n",
       "      <td>15811088</td>\n",
       "      <td>117.000000</td>\n",
       "      <td>4</td>\n",
       "      <td>7826</td>\n",
       "      <td>481.000000</td>\n",
       "      <td>150.0</td>\n",
       "      <td>3</td>\n",
       "      <td>224.0</td>\n",
       "      <td>...</td>\n",
       "      <td>403.882568</td>\n",
       "      <td>0</td>\n",
       "      <td>0</td>\n",
       "      <td>0</td>\n",
       "      <td>0</td>\n",
       "      <td>0</td>\n",
       "      <td>0</td>\n",
       "      <td>0</td>\n",
       "      <td>0</td>\n",
       "      <td>0</td>\n",
       "    </tr>\n",
       "    <tr>\n",
       "      <th>590539</th>\n",
       "      <td>3577539</td>\n",
       "      <td>0</td>\n",
       "      <td>15811131</td>\n",
       "      <td>279.950012</td>\n",
       "      <td>4</td>\n",
       "      <td>15066</td>\n",
       "      <td>170.000000</td>\n",
       "      <td>150.0</td>\n",
       "      <td>3</td>\n",
       "      <td>102.0</td>\n",
       "      <td>...</td>\n",
       "      <td>403.882568</td>\n",
       "      <td>0</td>\n",
       "      <td>0</td>\n",
       "      <td>0</td>\n",
       "      <td>0</td>\n",
       "      <td>0</td>\n",
       "      <td>0</td>\n",
       "      <td>0</td>\n",
       "      <td>0</td>\n",
       "      <td>0</td>\n",
       "    </tr>\n",
       "  </tbody>\n",
       "</table>\n",
       "<p>554118 rows × 360 columns</p>\n",
       "</div>"
      ],
      "text/plain": [
       "        TransactionID  isFraud  TransactionDT  TransactionAmt  ProductCD  \\\n",
       "0             2987000        0          86400       68.500000          4   \n",
       "1             2987001        0          86401       29.000000          4   \n",
       "2             2987002        0          86469       59.000000          4   \n",
       "3             2987003        0          86499       50.000000          4   \n",
       "4             2987004        0          86506       50.000000          1   \n",
       "...               ...      ...            ...             ...        ...   \n",
       "590535        3577535        0       15811047       49.000000          4   \n",
       "590536        3577536        0       15811049       39.500000          4   \n",
       "590537        3577537        0       15811079       30.950001          4   \n",
       "590538        3577538        0       15811088      117.000000          4   \n",
       "590539        3577539        0       15811131      279.950012          4   \n",
       "\n",
       "        card1       card2  card3  card4  card5  ...       id_20  id_28  id_29  \\\n",
       "0       13926  362.555511  150.0      2  142.0  ...  403.882568      0      0   \n",
       "1        2755  404.000000  150.0      3  102.0  ...  403.882568      0      0   \n",
       "2        4663  490.000000  150.0      4  166.0  ...  403.882568      0      0   \n",
       "3       18132  567.000000  150.0      3  117.0  ...  403.882568      0      0   \n",
       "4        4497  514.000000  150.0      3  102.0  ...  144.000000      2      2   \n",
       "...       ...         ...    ...    ...    ...  ...         ...    ...    ...   \n",
       "590535   6550  362.555511  150.0      4  226.0  ...  403.882568      0      0   \n",
       "590536  10444  225.000000  150.0      3  224.0  ...  403.882568      0      0   \n",
       "590537  12037  595.000000  150.0      3  224.0  ...  403.882568      0      0   \n",
       "590538   7826  481.000000  150.0      3  224.0  ...  403.882568      0      0   \n",
       "590539  15066  170.000000  150.0      3  102.0  ...  403.882568      0      0   \n",
       "\n",
       "        id_31  id_35  id_36  id_37  id_38  DeviceType  DeviceInfo  \n",
       "0           0      0      0      0      0           0           0  \n",
       "1           0      0      0      0      0           0           0  \n",
       "2           0      0      0      0      0           0           0  \n",
       "3           0      0      0      0      0           0           0  \n",
       "4         124      2      1      2      2           2         954  \n",
       "...       ...    ...    ...    ...    ...         ...         ...  \n",
       "590535      0      0      0      0      0           0           0  \n",
       "590536      0      0      0      0      0           0           0  \n",
       "590537      0      0      0      0      0           0           0  \n",
       "590538      0      0      0      0      0           0           0  \n",
       "590539      0      0      0      0      0           0           0  \n",
       "\n",
       "[554118 rows x 360 columns]"
      ]
     },
     "execution_count": 62,
     "metadata": {},
     "output_type": "execute_result"
    }
   ],
   "source": [
    "train_df"
   ]
  },
  {
   "cell_type": "code",
   "execution_count": 63,
   "id": "eae17177",
   "metadata": {
    "execution": {
     "iopub.execute_input": "2023-11-07T17:48:37.406853Z",
     "iopub.status.busy": "2023-11-07T17:48:37.406093Z",
     "iopub.status.idle": "2023-11-07T17:48:39.549540Z",
     "shell.execute_reply": "2023-11-07T17:48:39.548320Z"
    },
    "papermill": {
     "duration": 2.19814,
     "end_time": "2023-11-07T17:48:39.552262",
     "exception": false,
     "start_time": "2023-11-07T17:48:37.354122",
     "status": "completed"
    },
    "tags": []
   },
   "outputs": [],
   "source": [
    "object_test_data = test_df.select_dtypes(include=['object'])\n",
    "convert_object_test_data = object_test_data.apply(\n",
    "    pd.to_numeric, downcast='unsigned')\n",
    "test_df[convert_object_test_data.columns] = convert_object_test_data"
   ]
  },
  {
   "cell_type": "code",
   "execution_count": 64,
   "id": "9995ff30",
   "metadata": {
    "execution": {
     "iopub.execute_input": "2023-11-07T17:48:39.654171Z",
     "iopub.status.busy": "2023-11-07T17:48:39.653729Z",
     "iopub.status.idle": "2023-11-07T17:48:39.683872Z",
     "shell.execute_reply": "2023-11-07T17:48:39.682599Z"
    },
    "papermill": {
     "duration": 0.083882,
     "end_time": "2023-11-07T17:48:39.686285",
     "exception": false,
     "start_time": "2023-11-07T17:48:39.602403",
     "status": "completed"
    },
    "tags": []
   },
   "outputs": [
    {
     "name": "stdout",
     "output_type": "stream",
     "text": [
      "<class 'pandas.core.frame.DataFrame'>\n",
      "Index: 476384 entries, 0 to 506690\n",
      "Columns: 359 entries, TransactionID to DeviceInfo\n",
      "dtypes: float32(330), uint16(2), uint32(2), uint8(25)\n",
      "memory usage: 620.1 MB\n"
     ]
    }
   ],
   "source": [
    "test_df.info()"
   ]
  },
  {
   "cell_type": "markdown",
   "id": "cee5b8f1",
   "metadata": {
    "papermill": {
     "duration": 0.049324,
     "end_time": "2023-11-07T17:48:39.785751",
     "exception": false,
     "start_time": "2023-11-07T17:48:39.736427",
     "status": "completed"
    },
    "tags": []
   },
   "source": [
    "Посмотрим на объёмы занимаемой памяти после преобразования числовых типов и кодирования типов ```object``` в числовые типы"
   ]
  },
  {
   "cell_type": "markdown",
   "id": "fcaee48b",
   "metadata": {
    "papermill": {
     "duration": 0.059048,
     "end_time": "2023-11-07T17:48:39.894886",
     "exception": false,
     "start_time": "2023-11-07T17:48:39.835838",
     "status": "completed"
    },
    "tags": []
   },
   "source": [
    "Напишем функцию для подсчёт изменений памяти:"
   ]
  },
  {
   "cell_type": "code",
   "execution_count": 65,
   "id": "6440a8f4",
   "metadata": {
    "execution": {
     "iopub.execute_input": "2023-11-07T17:48:40.011203Z",
     "iopub.status.busy": "2023-11-07T17:48:40.010674Z",
     "iopub.status.idle": "2023-11-07T17:48:40.017884Z",
     "shell.execute_reply": "2023-11-07T17:48:40.016725Z"
    },
    "papermill": {
     "duration": 0.062619,
     "end_time": "2023-11-07T17:48:40.020218",
     "exception": false,
     "start_time": "2023-11-07T17:48:39.957599",
     "status": "completed"
    },
    "tags": []
   },
   "outputs": [],
   "source": [
    "def memory_changes(start_mem_usage, df, df_name):\n",
    "    cur_mem_usage = memory_usage(df)\n",
    "    diff_mem = (start_mem_usage - cur_mem_usage)\n",
    "    diff_mem_prct = 100-((cur_mem_usage * 100)/start_mem_usage)\n",
    "    print(f'Memory usage of {df_name} decreased from {start_mem_usage} to {cur_mem_usage} on {diff_mem} Mb ({diff_mem_prct})%')"
   ]
  },
  {
   "cell_type": "markdown",
   "id": "ecb6088a",
   "metadata": {
    "papermill": {
     "duration": 0.051766,
     "end_time": "2023-11-07T17:48:40.126380",
     "exception": false,
     "start_time": "2023-11-07T17:48:40.074614",
     "status": "completed"
    },
    "tags": []
   },
   "source": [
    "### ```train_df``` после преобразований"
   ]
  },
  {
   "cell_type": "code",
   "execution_count": 66,
   "id": "0adbf648",
   "metadata": {
    "execution": {
     "iopub.execute_input": "2023-11-07T17:48:40.237155Z",
     "iopub.status.busy": "2023-11-07T17:48:40.236672Z",
     "iopub.status.idle": "2023-11-07T17:48:40.251019Z",
     "shell.execute_reply": "2023-11-07T17:48:40.249858Z"
    },
    "papermill": {
     "duration": 0.070456,
     "end_time": "2023-11-07T17:48:40.253248",
     "exception": false,
     "start_time": "2023-11-07T17:48:40.182792",
     "status": "completed"
    },
    "tags": []
   },
   "outputs": [
    {
     "name": "stdout",
     "output_type": "stream",
     "text": [
      "Memory usage of train_df decreased from 2567.094612121582 to 721.8601112365723 on 1845.2345008850098 Mb (71.88026854062893)%\n"
     ]
    }
   ],
   "source": [
    "memory_changes(train_df_GB * 1024, df=train_df, df_name='train_df')"
   ]
  },
  {
   "cell_type": "markdown",
   "id": "53cbd9df",
   "metadata": {
    "papermill": {
     "duration": 0.050114,
     "end_time": "2023-11-07T17:48:40.358362",
     "exception": false,
     "start_time": "2023-11-07T17:48:40.308248",
     "status": "completed"
    },
    "tags": []
   },
   "source": [
    "### ```test_df``` после преобразований"
   ]
  },
  {
   "cell_type": "code",
   "execution_count": 67,
   "id": "b621234b",
   "metadata": {
    "execution": {
     "iopub.execute_input": "2023-11-07T17:48:40.461883Z",
     "iopub.status.busy": "2023-11-07T17:48:40.460577Z",
     "iopub.status.idle": "2023-11-07T17:48:40.478380Z",
     "shell.execute_reply": "2023-11-07T17:48:40.477356Z"
    },
    "papermill": {
     "duration": 0.071789,
     "end_time": "2023-11-07T17:48:40.480703",
     "exception": false,
     "start_time": "2023-11-07T17:48:40.408914",
     "status": "completed"
    },
    "tags": []
   },
   "outputs": [
    {
     "name": "stdout",
     "output_type": "stream",
     "text": [
      "Memory usage of test_df decreased from 2214.031036376953 to 620.1402282714844 on 1593.8908081054688 Mb (71.99044556817579)%\n"
     ]
    }
   ],
   "source": [
    "memory_changes(test_df_GB * 1024, df=test_df, df_name='test_df')"
   ]
  },
  {
   "cell_type": "markdown",
   "id": "01a304f5",
   "metadata": {
    "papermill": {
     "duration": 0.050747,
     "end_time": "2023-11-07T17:48:40.582293",
     "exception": false,
     "start_time": "2023-11-07T17:48:40.531546",
     "status": "completed"
    },
    "tags": []
   },
   "source": [
    "Отделим данные от целевой переменной"
   ]
  },
  {
   "cell_type": "code",
   "execution_count": 68,
   "id": "2bc05826",
   "metadata": {
    "execution": {
     "iopub.execute_input": "2023-11-07T17:48:40.686151Z",
     "iopub.status.busy": "2023-11-07T17:48:40.685278Z",
     "iopub.status.idle": "2023-11-07T17:48:41.595631Z",
     "shell.execute_reply": "2023-11-07T17:48:41.594541Z"
    },
    "papermill": {
     "duration": 0.965601,
     "end_time": "2023-11-07T17:48:41.598453",
     "exception": false,
     "start_time": "2023-11-07T17:48:40.632852",
     "status": "completed"
    },
    "tags": []
   },
   "outputs": [],
   "source": [
    "y = train_df['isFraud']\n",
    "X = train_df.drop(['isFraud'], axis=1)"
   ]
  },
  {
   "cell_type": "code",
   "execution_count": 69,
   "id": "dc227380",
   "metadata": {
    "execution": {
     "iopub.execute_input": "2023-11-07T17:48:41.702004Z",
     "iopub.status.busy": "2023-11-07T17:48:41.701286Z",
     "iopub.status.idle": "2023-11-07T17:48:44.425753Z",
     "shell.execute_reply": "2023-11-07T17:48:44.424571Z"
    },
    "papermill": {
     "duration": 2.779794,
     "end_time": "2023-11-07T17:48:44.428718",
     "exception": false,
     "start_time": "2023-11-07T17:48:41.648924",
     "status": "completed"
    },
    "tags": []
   },
   "outputs": [],
   "source": [
    "X_train, X_test, y_train, y_test = train_test_split(X, y, test_size=0.3, random_state=0, stratify=y)"
   ]
  },
  {
   "cell_type": "markdown",
   "id": "f41e8202",
   "metadata": {
    "papermill": {
     "duration": 0.050742,
     "end_time": "2023-11-07T17:48:44.529883",
     "exception": false,
     "start_time": "2023-11-07T17:48:44.479141",
     "status": "completed"
    },
    "tags": []
   },
   "source": [
    "Так как данные всё равно занимают достаточно большой объём памяти, разобъём датасет на несколько частей. Для каждой части создадим и обучим модель, а затем усредним предсказания моделей при помощи ансамбля"
   ]
  },
  {
   "cell_type": "code",
   "execution_count": 70,
   "id": "93e0d771",
   "metadata": {
    "execution": {
     "iopub.execute_input": "2023-11-07T17:48:44.632713Z",
     "iopub.status.busy": "2023-11-07T17:48:44.632286Z",
     "iopub.status.idle": "2023-11-07T17:48:44.866413Z",
     "shell.execute_reply": "2023-11-07T17:48:44.865145Z"
    },
    "papermill": {
     "duration": 0.288968,
     "end_time": "2023-11-07T17:48:44.869180",
     "exception": false,
     "start_time": "2023-11-07T17:48:44.580212",
     "status": "completed"
    },
    "tags": []
   },
   "outputs": [],
   "source": [
    "chunk_size = 4000\n",
    "X_train_chunks = [X_train.iloc[i:i+chunk_size] \\\n",
    "                  for i in range(0, X_train.shape[0], chunk_size)]"
   ]
  },
  {
   "cell_type": "code",
   "execution_count": 71,
   "id": "d4ab4cea",
   "metadata": {
    "execution": {
     "iopub.execute_input": "2023-11-07T17:48:44.972967Z",
     "iopub.status.busy": "2023-11-07T17:48:44.972542Z",
     "iopub.status.idle": "2023-11-07T17:48:44.983893Z",
     "shell.execute_reply": "2023-11-07T17:48:44.982645Z"
    },
    "papermill": {
     "duration": 0.066139,
     "end_time": "2023-11-07T17:48:44.986294",
     "exception": false,
     "start_time": "2023-11-07T17:48:44.920155",
     "status": "completed"
    },
    "tags": []
   },
   "outputs": [],
   "source": [
    "y_train_chunks = [y_train.iloc[i:i+chunk_size] \\\n",
    "                 for i in range(0, y_train.shape[0], chunk_size)]"
   ]
  },
  {
   "cell_type": "code",
   "execution_count": 72,
   "id": "9c8a5992",
   "metadata": {
    "execution": {
     "iopub.execute_input": "2023-11-07T17:48:45.090098Z",
     "iopub.status.busy": "2023-11-07T17:48:45.089631Z",
     "iopub.status.idle": "2023-11-07T17:48:45.133054Z",
     "shell.execute_reply": "2023-11-07T17:48:45.131918Z"
    },
    "papermill": {
     "duration": 0.09847,
     "end_time": "2023-11-07T17:48:45.135368",
     "exception": false,
     "start_time": "2023-11-07T17:48:45.036898",
     "status": "completed"
    },
    "tags": []
   },
   "outputs": [],
   "source": [
    "X_test_chunks = [X_test.iloc[i:i+chunk_size] \\\n",
    "                for i in range(0, X_test.shape[0], chunk_size)]\n",
    "y_test_chunks = [y_test.iloc[i:i+chunk_size] \\\n",
    "                for i in range(0, y_test.shape[0], chunk_size)]"
   ]
  },
  {
   "cell_type": "code",
   "execution_count": 73,
   "id": "4e5e899e",
   "metadata": {
    "execution": {
     "iopub.execute_input": "2023-11-07T17:48:45.238689Z",
     "iopub.status.busy": "2023-11-07T17:48:45.238256Z",
     "iopub.status.idle": "2023-11-07T17:48:45.245247Z",
     "shell.execute_reply": "2023-11-07T17:48:45.243852Z"
    },
    "papermill": {
     "duration": 0.060496,
     "end_time": "2023-11-07T17:48:45.247503",
     "exception": false,
     "start_time": "2023-11-07T17:48:45.187007",
     "status": "completed"
    },
    "tags": []
   },
   "outputs": [
    {
     "name": "stdout",
     "output_type": "stream",
     "text": [
      "len X_train_chunks:  97\n",
      "len y_train_chunks:  97\n",
      "len X_test_chunks :  42\n",
      "len y_test_chunks :  42\n"
     ]
    }
   ],
   "source": [
    "print('len X_train_chunks: ', len(X_train_chunks))\n",
    "print('len y_train_chunks: ', len(y_train_chunks))\n",
    "print('len X_test_chunks : ', len(X_test_chunks))\n",
    "print('len y_test_chunks : ', len(y_test_chunks))"
   ]
  },
  {
   "cell_type": "code",
   "execution_count": 74,
   "id": "7fd30318",
   "metadata": {
    "execution": {
     "iopub.execute_input": "2023-11-07T17:48:45.349918Z",
     "iopub.status.busy": "2023-11-07T17:48:45.349395Z",
     "iopub.status.idle": "2023-11-07T17:48:45.356439Z",
     "shell.execute_reply": "2023-11-07T17:48:45.355193Z"
    },
    "papermill": {
     "duration": 0.061569,
     "end_time": "2023-11-07T17:48:45.359363",
     "exception": false,
     "start_time": "2023-11-07T17:48:45.297794",
     "status": "completed"
    },
    "tags": []
   },
   "outputs": [
    {
     "name": "stdout",
     "output_type": "stream",
     "text": [
      "X_train chunk shape:  (4000, 359)\n",
      "y_train chunk shape:  (4000,)\n",
      "X_test chunk shape :  (4000, 359)\n",
      "y_test chunk shape :  (4000,)\n"
     ]
    }
   ],
   "source": [
    "print('X_train chunk shape: ', X_train_chunks[0].shape)\n",
    "print('y_train chunk shape: ', y_train_chunks[0].shape)\n",
    "print('X_test chunk shape : ', X_test_chunks[0].shape)\n",
    "print('y_test chunk shape : ', y_test_chunks[0].shape)"
   ]
  },
  {
   "cell_type": "code",
   "execution_count": 75,
   "id": "a5d546b9",
   "metadata": {
    "execution": {
     "iopub.execute_input": "2023-11-07T17:48:45.463374Z",
     "iopub.status.busy": "2023-11-07T17:48:45.462945Z",
     "iopub.status.idle": "2023-11-07T17:48:45.469512Z",
     "shell.execute_reply": "2023-11-07T17:48:45.468345Z"
    },
    "papermill": {
     "duration": 0.061017,
     "end_time": "2023-11-07T17:48:45.471783",
     "exception": false,
     "start_time": "2023-11-07T17:48:45.410766",
     "status": "completed"
    },
    "tags": []
   },
   "outputs": [],
   "source": [
    "classifiers = [('DT', DecisionTreeClassifier()),\n",
    "               ('RF', RandomForestClassifier()),\n",
    "               ('Adaboost', AdaBoostClassifier()),\n",
    "               ('GBM', GradientBoostingClassifier()),\n",
    "               ('XGBBoost', XGBClassifier()),\n",
    "               ('LightGBM', LGBMClassifier()),]"
   ]
  },
  {
   "cell_type": "markdown",
   "id": "c3ff2f9f",
   "metadata": {
    "papermill": {
     "duration": 0.050728,
     "end_time": "2023-11-07T17:48:45.573117",
     "exception": false,
     "start_time": "2023-11-07T17:48:45.522389",
     "status": "completed"
    },
    "tags": []
   },
   "source": [
    "Создадим функцию для получения усредненного значения ```roc_auc_score``` после обучения и прогноза на каждом чанке "
   ]
  },
  {
   "cell_type": "code",
   "execution_count": 76,
   "id": "0b9dc8dc",
   "metadata": {
    "execution": {
     "iopub.execute_input": "2023-11-07T17:48:45.675527Z",
     "iopub.status.busy": "2023-11-07T17:48:45.675102Z",
     "iopub.status.idle": "2023-11-07T17:48:45.684397Z",
     "shell.execute_reply": "2023-11-07T17:48:45.683299Z"
    },
    "papermill": {
     "duration": 0.063296,
     "end_time": "2023-11-07T17:48:45.686671",
     "exception": false,
     "start_time": "2023-11-07T17:48:45.623375",
     "status": "completed"
    },
    "tags": []
   },
   "outputs": [],
   "source": [
    "def mean_AUC(X_tr_chunks, \n",
    "             y_tr_chunks, \n",
    "             X_t_chunks, \n",
    "             y_t_chunks, \n",
    "             classifier):\n",
    "    # fit\n",
    "    models = []\n",
    "    for i in range(len(X_tr_chunks)):\n",
    "        model = classifier.fit(X_tr_chunks[i], y_tr_chunks[i])\n",
    "        models.append(model)\n",
    "    \n",
    "    roc_aucs = []\n",
    "    for model in models:\n",
    "        for i in range(len(X_t_chunks)):\n",
    "#             y_pred = model.predict(X_t_chunks[i])\n",
    "            y_prob = model.predict_proba(X_t_chunks[i])[:, 1]\n",
    "            roc_auc = roc_auc_score(y_t_chunks[i], y_prob)\n",
    "            roc_aucs.append(roc_auc)\n",
    "    return np.mean(roc_aucs)"
   ]
  },
  {
   "cell_type": "code",
   "execution_count": 77,
   "id": "0d1005a9",
   "metadata": {
    "execution": {
     "iopub.execute_input": "2023-11-07T17:48:45.791825Z",
     "iopub.status.busy": "2023-11-07T17:48:45.791451Z",
     "iopub.status.idle": "2023-11-07T17:51:00.222527Z",
     "shell.execute_reply": "2023-11-07T17:51:00.221238Z"
    },
    "papermill": {
     "duration": 134.538016,
     "end_time": "2023-11-07T17:51:00.276415",
     "exception": false,
     "start_time": "2023-11-07T17:48:45.738399",
     "status": "completed"
    },
    "tags": []
   },
   "outputs": [
    {
     "data": {
      "text/plain": [
       "0.6642872102110355"
      ]
     },
     "execution_count": 77,
     "metadata": {},
     "output_type": "execute_result"
    }
   ],
   "source": [
    "mean_AUC_DT = mean_AUC(X_train_chunks, \n",
    "                       y_train_chunks,\n",
    "                       X_test_chunks,\n",
    "                       y_test_chunks,\n",
    "                       DecisionTreeClassifier())\n",
    "mean_AUC_DT"
   ]
  },
  {
   "cell_type": "code",
   "execution_count": 78,
   "id": "10dec1ac",
   "metadata": {
    "execution": {
     "iopub.execute_input": "2023-11-07T17:51:00.382564Z",
     "iopub.status.busy": "2023-11-07T17:51:00.381817Z",
     "iopub.status.idle": "2023-11-07T18:22:17.357960Z",
     "shell.execute_reply": "2023-11-07T18:22:17.355634Z"
    },
    "papermill": {
     "duration": 1877.033669,
     "end_time": "2023-11-07T18:22:17.361569",
     "exception": false,
     "start_time": "2023-11-07T17:51:00.327900",
     "status": "completed"
    },
    "tags": []
   },
   "outputs": [
    {
     "name": "stdout",
     "output_type": "stream",
     "text": [
      " learn model DT...\n",
      "-------------------------------------\n",
      " predictions\n",
      "              precision    recall  f1-score   support\n",
      "\n",
      "           0       0.99      0.98      0.98    160603\n",
      "           1       0.53      0.59      0.56      5633\n",
      "\n",
      "    accuracy                           0.97    166236\n",
      "   macro avg       0.76      0.78      0.77    166236\n",
      "weighted avg       0.97      0.97      0.97    166236\n",
      "\n",
      " AUC: 0.7838789268960713\n",
      " learn model RF...\n",
      "-------------------------------------\n",
      " predictions\n",
      "              precision    recall  f1-score   support\n",
      "\n",
      "           0       0.98      1.00      0.99    160603\n",
      "           1       0.94      0.46      0.62      5633\n",
      "\n",
      "    accuracy                           0.98    166236\n",
      "   macro avg       0.96      0.73      0.80    166236\n",
      "weighted avg       0.98      0.98      0.98    166236\n",
      "\n",
      " AUC: 0.9285650580241152\n",
      " learn model Adaboost...\n",
      "-------------------------------------\n",
      " predictions\n",
      "              precision    recall  f1-score   support\n",
      "\n",
      "           0       0.97      1.00      0.99    160603\n",
      "           1       0.77      0.26      0.38      5633\n",
      "\n",
      "    accuracy                           0.97    166236\n",
      "   macro avg       0.87      0.63      0.68    166236\n",
      "weighted avg       0.97      0.97      0.97    166236\n",
      "\n",
      " AUC: 0.8707634399899583\n",
      " learn model GBM...\n",
      "-------------------------------------\n",
      " predictions\n",
      "              precision    recall  f1-score   support\n",
      "\n",
      "           0       0.98      1.00      0.99    160603\n",
      "           1       0.85      0.32      0.47      5633\n",
      "\n",
      "    accuracy                           0.98    166236\n",
      "   macro avg       0.92      0.66      0.73    166236\n",
      "weighted avg       0.97      0.98      0.97    166236\n",
      "\n",
      " AUC: 0.8786044891822731\n",
      " learn model XGBBoost...\n",
      "-------------------------------------\n",
      " predictions\n",
      "              precision    recall  f1-score   support\n",
      "\n",
      "           0       0.98      1.00      0.99    160603\n",
      "           1       0.92      0.51      0.65      5633\n",
      "\n",
      "    accuracy                           0.98    166236\n",
      "   macro avg       0.95      0.75      0.82    166236\n",
      "weighted avg       0.98      0.98      0.98    166236\n",
      "\n",
      " AUC: 0.9405337878609383\n",
      " learn model LightGBM...\n",
      "-------------------------------------\n",
      " predictions\n",
      "              precision    recall  f1-score   support\n",
      "\n",
      "           0       0.98      1.00      0.99    160603\n",
      "           1       0.90      0.44      0.59      5633\n",
      "\n",
      "    accuracy                           0.98    166236\n",
      "   macro avg       0.94      0.72      0.79    166236\n",
      "weighted avg       0.98      0.98      0.98    166236\n",
      "\n",
      " AUC: 0.9295004374816997\n"
     ]
    }
   ],
   "source": [
    "for name, classifier in classifiers:\n",
    "    print(f' learn model {name}...')\n",
    "    model = classifier.fit(X_train, y_train)\n",
    "#     y_pred = model.predict(X_train)\n",
    "#     y_prob = model.predict_proba(X_train)[:, 1]\n",
    "#     print(classification_report(y_train, y_pred))\n",
    "#     print(f' AUC: {roc_auc_score(y_train, y_prob)}')\n",
    "    print('-------------------------------------')\n",
    "    print(f' predictions')\n",
    "    y_pred = model.predict(X_test)\n",
    "    y_prob = model.predict_proba(X_test)[:, 1]\n",
    "    print(classification_report(y_test, y_pred))\n",
    "    print(f' AUC: {roc_auc_score(y_test, y_prob)}')"
   ]
  }
 ],
 "metadata": {
  "kernelspec": {
   "display_name": "Python 3",
   "language": "python",
   "name": "python3"
  },
  "language_info": {
   "codemirror_mode": {
    "name": "ipython",
    "version": 3
   },
   "file_extension": ".py",
   "mimetype": "text/x-python",
   "name": "python",
   "nbconvert_exporter": "python",
   "pygments_lexer": "ipython3",
   "version": "3.10.12"
  },
  "papermill": {
   "default_parameters": {},
   "duration": 2289.088363,
   "end_time": "2023-11-07T18:22:19.752591",
   "environment_variables": {},
   "exception": null,
   "input_path": "__notebook__.ipynb",
   "output_path": "__notebook__.ipynb",
   "parameters": {},
   "start_time": "2023-11-07T17:44:10.664228",
   "version": "2.4.0"
  }
 },
 "nbformat": 4,
 "nbformat_minor": 5
}
