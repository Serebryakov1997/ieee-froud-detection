{
 "cells": [
  {
   "cell_type": "code",
   "execution_count": 1,
   "id": "e036fac6",
   "metadata": {
    "_cell_guid": "b1076dfc-b9ad-4769-8c92-a6c4dae69d19",
    "_uuid": "8f2839f25d086af736a60e9eeb907d3b93b6e0e5",
    "execution": {
     "iopub.execute_input": "2023-11-12T13:44:49.067168Z",
     "iopub.status.busy": "2023-11-12T13:44:49.066531Z",
     "iopub.status.idle": "2023-11-12T13:44:53.085587Z",
     "shell.execute_reply": "2023-11-12T13:44:53.084158Z"
    },
    "papermill": {
     "duration": 4.047381,
     "end_time": "2023-11-12T13:44:53.088192",
     "exception": false,
     "start_time": "2023-11-12T13:44:49.040811",
     "status": "completed"
    },
    "tags": []
   },
   "outputs": [
    {
     "name": "stdout",
     "output_type": "stream",
     "text": [
      "/kaggle/input/ieee-fraud-detection/sample_submission.csv\n",
      "/kaggle/input/ieee-fraud-detection/test_identity.csv\n",
      "/kaggle/input/ieee-fraud-detection/train_identity.csv\n",
      "/kaggle/input/ieee-fraud-detection/test_transaction.csv\n",
      "/kaggle/input/ieee-fraud-detection/train_transaction.csv\n"
     ]
    }
   ],
   "source": [
    "# This Python 3 environment comes with many helpful analytics libraries installed\n",
    "# It is defined by the kaggle/python Docker image: https://github.com/kaggle/docker-python\n",
    "# For example, here's several helpful packages to load\n",
    "\n",
    "import numpy as np # linear algebra\n",
    "import pandas as pd # data processing, CSV file I/O (e.g. pd.read_csv)\n",
    "import gc\n",
    "import numpy as np\n",
    "import matplotlib.pyplot as plt\n",
    "import seaborn as sns\n",
    "from sklearn.metrics import accuracy_score\n",
    "from sklearn.model_selection import train_test_split,cross_val_score,GridSearchCV,cross_validate\n",
    "from sklearn.preprocessing import MinMaxScaler,LabelEncoder,StandardScaler,RobustScaler\n",
    "from sklearn.impute import KNNImputer\n",
    "from sklearn.metrics import accuracy_score,recall_score,precision_score,f1_score,roc_auc_score\n",
    "from sklearn.neighbors import KNeighborsClassifier\n",
    "from sklearn.tree import DecisionTreeClassifier\n",
    "from xgboost import XGBClassifier\n",
    "from lightgbm import LGBMClassifier\n",
    "from sklearn.ensemble import RandomForestClassifier,GradientBoostingClassifier,VotingClassifier,AdaBoostClassifier\n",
    "from sklearn.metrics import classification_report\n",
    "# Input data files are available in the read-only \"../input/\" directory\n",
    "# For example, running this (by clicking run or pressing Shift+Enter) will list all files under the input directory\n",
    "\n",
    "import os\n",
    "for dirname, _, filenames in os.walk('/kaggle/input'):\n",
    "    for filename in filenames:\n",
    "        print(os.path.join(dirname, filename))\n",
    "\n",
    "# You can write up to 20GB to the current directory (/kaggle/working/) that gets preserved as output when you create a version using \"Save & Run All\" \n",
    "# You can also write temporary files to /kaggle/temp/, but they won't be saved outside of the current session"
   ]
  },
  {
   "cell_type": "markdown",
   "id": "0b36aab5",
   "metadata": {
    "papermill": {
     "duration": 0.028683,
     "end_time": "2023-11-12T13:44:53.144156",
     "exception": false,
     "start_time": "2023-11-12T13:44:53.115473",
     "status": "completed"
    },
    "tags": []
   },
   "source": [
    "### Данный проект решает задачу бинарной классификации.\n",
    "### Нужно предсказать, к какому типу относится транзакция - мошенническая она ли нет."
   ]
  },
  {
   "cell_type": "markdown",
   "id": "c59c484c",
   "metadata": {
    "papermill": {
     "duration": 0.023408,
     "end_time": "2023-11-12T13:44:53.198960",
     "exception": false,
     "start_time": "2023-11-12T13:44:53.175552",
     "status": "completed"
    },
    "tags": []
   },
   "source": [
    "#### Данные в датасете **transaction**:\n",
    "<span style=\"font-size: 18px;\">\n",
    "    \n",
    "- TransactionDT - дельта времени от заданного эталонного значения времени (не актуального значения) \n",
    "- TransactionAMT - транзакционный платёж в USD\n",
    "- ProductCD - продуктовый код, продукт каждой транзакции\n",
    "- card1 - card6 - информация платёжной карты, такая как: тип карты, категория, банк выпуска, страна и т.д.\n",
    "- addr - адрес\n",
    "- dist - расстояние\n",
    "- P_ and (R_) emaildomain: домены покупателя и получателя\n",
    "- C1-C14 - подсчёт, например сколько адресов связано с платёжной картой и т.д. Фактический смысл скрыт\n",
    "- D1-D15 - дельта времени, количество дней между предыдущей транзакцией, и т.д.\n",
    "- M1 - M9 -совпадение, например имена на карте и адресе и т.д.\n",
    "- Vxxx - Vesta разработала богатые функции, включая ранжирование, подсчёт и другие отношения между сущностями\n",
    "</span>"
   ]
  },
  {
   "cell_type": "markdown",
   "id": "dcd51962",
   "metadata": {
    "papermill": {
     "duration": 0.022504,
     "end_time": "2023-11-12T13:44:53.244360",
     "exception": false,
     "start_time": "2023-11-12T13:44:53.221856",
     "status": "completed"
    },
    "tags": []
   },
   "source": [
    "<span style=\"font-size:18px;\">\n",
    "Категориальные признаки:\n",
    "\n",
    "- ProductCD\n",
    "- card1-card6\n",
    "- addr1, addr2\n",
    "- P_emaildomain\n",
    "- R_email_domain\n",
    "- M1 - M9\n",
    "</span>"
   ]
  },
  {
   "cell_type": "markdown",
   "id": "2cef5fad",
   "metadata": {
    "papermill": {
     "duration": 0.022525,
     "end_time": "2023-11-12T13:44:53.338111",
     "exception": false,
     "start_time": "2023-11-12T13:44:53.315586",
     "status": "completed"
    },
    "tags": []
   },
   "source": [
    "#### Данные в датасете **Identity**\n",
    "<span style=\"font-size:18px;\">\n",
    "Переменные в этой таблице - идентификационные данные:\n",
    "    \n",
    "- информация о сетевом соединении (IP, ISP, прокси и т.д.)\n",
    "- цифровая подпись (UA/браузер/ОС/версия и т.д.), связанные с транзакциями.\n",
    "Их собирает система защиты от мошенничества Vesta и партнеры цифровой безопасности.\n",
    "(Имена полей скрыты, и пояснения значений полей не будет в целях защиты конфиденциальности и их договорного соглашения)\n",
    "</span>"
   ]
  },
  {
   "cell_type": "markdown",
   "id": "a7ae92db",
   "metadata": {
    "papermill": {
     "duration": 0.02561,
     "end_time": "2023-11-12T13:44:53.386546",
     "exception": false,
     "start_time": "2023-11-12T13:44:53.360936",
     "status": "completed"
    },
    "tags": []
   },
   "source": [
    "<span style=\"font-size:18px;\">\n",
    "Категориальные признаки:\n",
    "    \n",
    "- DeviceType\n",
    "- DeviceInfo\n",
    "- id_12 - id_38\n",
    "</span>"
   ]
  },
  {
   "cell_type": "markdown",
   "id": "7cf6ee05",
   "metadata": {
    "papermill": {
     "duration": 0.022826,
     "end_time": "2023-11-12T13:44:53.433689",
     "exception": false,
     "start_time": "2023-11-12T13:44:53.410863",
     "status": "completed"
    },
    "tags": []
   },
   "source": [
    "### Загрузим все наборы данных данного проекта"
   ]
  },
  {
   "cell_type": "code",
   "execution_count": 2,
   "id": "9f95c742",
   "metadata": {
    "execution": {
     "iopub.execute_input": "2023-11-12T13:44:53.486372Z",
     "iopub.status.busy": "2023-11-12T13:44:53.485756Z",
     "iopub.status.idle": "2023-11-12T13:45:50.805898Z",
     "shell.execute_reply": "2023-11-12T13:45:50.804993Z"
    },
    "papermill": {
     "duration": 57.346966,
     "end_time": "2023-11-12T13:45:50.808430",
     "exception": false,
     "start_time": "2023-11-12T13:44:53.461464",
     "status": "completed"
    },
    "tags": []
   },
   "outputs": [],
   "source": [
    "train_transaction=pd.read_csv('/kaggle/input/ieee-fraud-detection/train_transaction.csv')\n",
    "train_identity=pd.read_csv('/kaggle/input/ieee-fraud-detection/train_identity.csv')\n",
    "test_transaction=pd.read_csv('/kaggle/input/ieee-fraud-detection/test_transaction.csv')\n",
    "test_identity=pd.read_csv('/kaggle/input/ieee-fraud-detection/test_identity.csv')\n",
    "sample_submission=pd.read_csv('/kaggle/input/ieee-fraud-detection/sample_submission.csv')"
   ]
  },
  {
   "cell_type": "markdown",
   "id": "b2024180",
   "metadata": {
    "papermill": {
     "duration": 0.02256,
     "end_time": "2023-11-12T13:45:50.854728",
     "exception": false,
     "start_time": "2023-11-12T13:45:50.832168",
     "status": "completed"
    },
    "tags": []
   },
   "source": [
    "Объединим таблицы ```*transaction``` и ```*identity``` по полю ```TransactionID```"
   ]
  },
  {
   "cell_type": "code",
   "execution_count": 3,
   "id": "d3c86958",
   "metadata": {
    "execution": {
     "iopub.execute_input": "2023-11-12T13:45:50.901393Z",
     "iopub.status.busy": "2023-11-12T13:45:50.900987Z",
     "iopub.status.idle": "2023-11-12T13:45:52.968679Z",
     "shell.execute_reply": "2023-11-12T13:45:52.967331Z"
    },
    "papermill": {
     "duration": 2.094066,
     "end_time": "2023-11-12T13:45:52.971299",
     "exception": false,
     "start_time": "2023-11-12T13:45:50.877233",
     "status": "completed"
    },
    "tags": []
   },
   "outputs": [],
   "source": [
    "train = train_transaction.merge(train_identity, how='left', on='TransactionID')\n",
    "test = test_transaction.merge(test_identity, how='left', on='TransactionID')"
   ]
  },
  {
   "cell_type": "markdown",
   "id": "f81395e4",
   "metadata": {
    "papermill": {
     "duration": 0.023209,
     "end_time": "2023-11-12T13:45:53.018178",
     "exception": false,
     "start_time": "2023-11-12T13:45:52.994969",
     "status": "completed"
    },
    "tags": []
   },
   "source": [
    "Т.к. мы объединили датасеты ```*identity``` и ```*transaction```, удалим их для того, чтобы освободить память"
   ]
  },
  {
   "cell_type": "code",
   "execution_count": 4,
   "id": "774f3380",
   "metadata": {
    "execution": {
     "iopub.execute_input": "2023-11-12T13:45:53.067552Z",
     "iopub.status.busy": "2023-11-12T13:45:53.067177Z",
     "iopub.status.idle": "2023-11-12T13:45:53.164531Z",
     "shell.execute_reply": "2023-11-12T13:45:53.163022Z"
    },
    "papermill": {
     "duration": 0.123774,
     "end_time": "2023-11-12T13:45:53.166835",
     "exception": false,
     "start_time": "2023-11-12T13:45:53.043061",
     "status": "completed"
    },
    "tags": []
   },
   "outputs": [
    {
     "data": {
      "text/plain": [
       "<function gc.collect(generation=2)>"
      ]
     },
     "execution_count": 4,
     "metadata": {},
     "output_type": "execute_result"
    }
   ],
   "source": [
    "del train_transaction\n",
    "del train_identity\n",
    "del test_transaction\n",
    "del test_identity\n",
    "gc.collect"
   ]
  },
  {
   "cell_type": "markdown",
   "id": "db63503a",
   "metadata": {
    "papermill": {
     "duration": 0.022659,
     "end_time": "2023-11-12T13:45:53.212860",
     "exception": false,
     "start_time": "2023-11-12T13:45:53.190201",
     "status": "completed"
    },
    "tags": []
   },
   "source": [
    "Создадим копии датасетов, с которыми будем работать, чтобы не менять исходники"
   ]
  },
  {
   "cell_type": "code",
   "execution_count": 5,
   "id": "53009ea7",
   "metadata": {
    "execution": {
     "iopub.execute_input": "2023-11-12T13:45:53.260549Z",
     "iopub.status.busy": "2023-11-12T13:45:53.259828Z",
     "iopub.status.idle": "2023-11-12T13:45:58.412043Z",
     "shell.execute_reply": "2023-11-12T13:45:58.411128Z"
    },
    "papermill": {
     "duration": 5.178589,
     "end_time": "2023-11-12T13:45:58.414564",
     "exception": false,
     "start_time": "2023-11-12T13:45:53.235975",
     "status": "completed"
    },
    "tags": []
   },
   "outputs": [],
   "source": [
    "train_df = train.copy()\n",
    "test_df = test.copy()"
   ]
  },
  {
   "cell_type": "markdown",
   "id": "6e183ea6",
   "metadata": {
    "papermill": {
     "duration": 0.022897,
     "end_time": "2023-11-12T13:45:58.460948",
     "exception": false,
     "start_time": "2023-11-12T13:45:58.438051",
     "status": "completed"
    },
    "tags": []
   },
   "source": [
    "Посмотрим какой объём оперативной памяти занимают датасеты:"
   ]
  },
  {
   "cell_type": "code",
   "execution_count": 6,
   "id": "a63200f8",
   "metadata": {
    "execution": {
     "iopub.execute_input": "2023-11-12T13:45:58.509124Z",
     "iopub.status.busy": "2023-11-12T13:45:58.508769Z",
     "iopub.status.idle": "2023-11-12T13:46:02.484479Z",
     "shell.execute_reply": "2023-11-12T13:46:02.483565Z"
    },
    "papermill": {
     "duration": 4.002413,
     "end_time": "2023-11-12T13:46:02.486751",
     "exception": false,
     "start_time": "2023-11-12T13:45:58.484338",
     "status": "completed"
    },
    "tags": []
   },
   "outputs": [
    {
     "name": "stdout",
     "output_type": "stream",
     "text": [
      "train df: 2.51 GB of memory\n",
      "test df : 2.16 GB of memory\n"
     ]
    }
   ],
   "source": [
    "train_df_GB = train_df.memory_usage(deep=True).sum()/1024**3\n",
    "test_df_GB = test_df.memory_usage(deep=True).sum()/1024**3\n",
    "\n",
    "print(f'train df: {train_df_GB:.2f} GB of memory')\n",
    "print(f'test df : {test_df_GB:.2f} GB of memory')"
   ]
  },
  {
   "cell_type": "markdown",
   "id": "5a814fde",
   "metadata": {
    "papermill": {
     "duration": 0.022742,
     "end_time": "2023-11-12T13:46:02.532941",
     "exception": false,
     "start_time": "2023-11-12T13:46:02.510199",
     "status": "completed"
    },
    "tags": []
   },
   "source": [
    "Видим, что датафреймы занимают достаточно большой объём оперативной памяти, следовательно на обработку каждого датафрейма будет затрачено большое кол-во ресурсов и довольно длительное время."
   ]
  },
  {
   "cell_type": "markdown",
   "id": "2eaabd17",
   "metadata": {
    "papermill": {
     "duration": 0.022999,
     "end_time": "2023-11-12T13:46:02.578918",
     "exception": false,
     "start_time": "2023-11-12T13:46:02.555919",
     "status": "completed"
    },
    "tags": []
   },
   "source": [
    "Напишем функцию подсчёта объема занимаемой памяти:"
   ]
  },
  {
   "cell_type": "code",
   "execution_count": 7,
   "id": "99032435",
   "metadata": {
    "execution": {
     "iopub.execute_input": "2023-11-12T13:46:02.627097Z",
     "iopub.status.busy": "2023-11-12T13:46:02.626735Z",
     "iopub.status.idle": "2023-11-12T13:46:02.632023Z",
     "shell.execute_reply": "2023-11-12T13:46:02.631123Z"
    },
    "papermill": {
     "duration": 0.032035,
     "end_time": "2023-11-12T13:46:02.634025",
     "exception": false,
     "start_time": "2023-11-12T13:46:02.601990",
     "status": "completed"
    },
    "tags": []
   },
   "outputs": [],
   "source": [
    "def memory_usage(pandas_object):\n",
    "    if isinstance(pandas_object, pd.DataFrame):\n",
    "        usage_b = pandas_object.memory_usage(deep=True).sum()\n",
    "    else:\n",
    "        usage_b = pandas_obj.memory_usage(deep=True)\n",
    "    usage_mb = usage_b / 1024 ** 2 # convert to mb\n",
    "    return usage_mb"
   ]
  },
  {
   "cell_type": "markdown",
   "id": "025053bb",
   "metadata": {
    "papermill": {
     "duration": 0.022791,
     "end_time": "2023-11-12T13:46:02.679756",
     "exception": false,
     "start_time": "2023-11-12T13:46:02.656965",
     "status": "completed"
    },
    "tags": []
   },
   "source": [
    "Напишем функцию для уменьшения объёма занимаемой памяти датасетом.\n",
    "\n",
    "1. Преобразуем все значения подтипов ```int``` в тип ```uint```, т.к. хранение только положительных значений позволит нам уменьшить объём занимаемой памяти.\n",
    "\n",
    "2. Все значения подтипов ```float``` в тип ```float```\n",
    "2. ```object``` в ```category```"
   ]
  },
  {
   "cell_type": "code",
   "execution_count": 8,
   "id": "91565e34",
   "metadata": {
    "execution": {
     "iopub.execute_input": "2023-11-12T13:46:02.727523Z",
     "iopub.status.busy": "2023-11-12T13:46:02.727143Z",
     "iopub.status.idle": "2023-11-12T13:46:02.733498Z",
     "shell.execute_reply": "2023-11-12T13:46:02.732770Z"
    },
    "papermill": {
     "duration": 0.032489,
     "end_time": "2023-11-12T13:46:02.735234",
     "exception": false,
     "start_time": "2023-11-12T13:46:02.702745",
     "status": "completed"
    },
    "tags": []
   },
   "outputs": [],
   "source": [
    "def reduce_mem_usage_num(df, name):\n",
    "    start_memory = memory_usage(df)\n",
    "    \n",
    "    # convert int\n",
    "    df_int = df.select_dtypes(include=['int'])\n",
    "    converted_int = df_int.apply(pd.to_numeric, downcast='unsigned')\n",
    "    \n",
    "    # convert float\n",
    "    df_float = df.select_dtypes(include=['float'])\n",
    "    converted_float = df_float.apply(pd.to_numeric, downcast='float')\n",
    "    \n",
    "    optimized_df = df.copy()\n",
    "    optimized_df[converted_int.columns] = converted_int\n",
    "    optimized_df[converted_float.columns] = converted_float\n",
    "    \n",
    "    finish_memory = memory_usage(optimized_df)\n",
    "    diff_memory = start_memory - finish_memory\n",
    "    diff_memory_prct = 100 - ((finish_memory * 100)/start_memory)\n",
    "    print(f'start memory of {name} is {start_memory} Mb')\n",
    "    print(f'memory after optimization of {name} is {finish_memory} Mb')\n",
    "    print(f'memory usage of {name} decreased on {diff_memory} Mb ({diff_memory_prct} %)\\n')\n",
    "    return optimized_df"
   ]
  },
  {
   "cell_type": "code",
   "execution_count": 9,
   "id": "03fe7e13",
   "metadata": {
    "execution": {
     "iopub.execute_input": "2023-11-12T13:46:02.783072Z",
     "iopub.status.busy": "2023-11-12T13:46:02.782743Z",
     "iopub.status.idle": "2023-11-12T13:46:33.470151Z",
     "shell.execute_reply": "2023-11-12T13:46:33.469134Z"
    },
    "papermill": {
     "duration": 30.736685,
     "end_time": "2023-11-12T13:46:33.495517",
     "exception": false,
     "start_time": "2023-11-12T13:46:02.758832",
     "status": "completed"
    },
    "tags": []
   },
   "outputs": [
    {
     "name": "stdout",
     "output_type": "stream",
     "text": [
      "start memory of train_df is 2567.094612121582 Mb\n",
      "memory after optimization of train_df is 1656.4279747009277 Mb\n",
      "memory usage of train_df decreased on 910.6666374206543 Mb (35.47460358962117 %)\n",
      "\n",
      "start memory of test_df is 2214.031036376953 Mb\n",
      "memory after optimization of test_df is 1436.0497455596924 Mb\n",
      "memory usage of test_df decreased on 777.9812908172607 Mb (35.13868044462248 %)\n",
      "\n"
     ]
    }
   ],
   "source": [
    "train_df = reduce_mem_usage_num(train_df, 'train_df')\n",
    "test_df = reduce_mem_usage_num(test_df, 'test_df')"
   ]
  },
  {
   "cell_type": "code",
   "execution_count": 10,
   "id": "6f49fd87",
   "metadata": {
    "execution": {
     "iopub.execute_input": "2023-11-12T13:46:33.543859Z",
     "iopub.status.busy": "2023-11-12T13:46:33.543511Z",
     "iopub.status.idle": "2023-11-12T13:46:34.821221Z",
     "shell.execute_reply": "2023-11-12T13:46:34.820149Z"
    },
    "papermill": {
     "duration": 1.304721,
     "end_time": "2023-11-12T13:46:34.823747",
     "exception": false,
     "start_time": "2023-11-12T13:46:33.519026",
     "status": "completed"
    },
    "tags": []
   },
   "outputs": [],
   "source": [
    "for col in train_df.columns:\n",
    "    if train_df[col].dtype == 'object':\n",
    "        train_df[col] = train_df[col].astype('category')"
   ]
  },
  {
   "cell_type": "code",
   "execution_count": 11,
   "id": "68f802f1",
   "metadata": {
    "execution": {
     "iopub.execute_input": "2023-11-12T13:46:34.871984Z",
     "iopub.status.busy": "2023-11-12T13:46:34.871372Z",
     "iopub.status.idle": "2023-11-12T13:46:34.906760Z",
     "shell.execute_reply": "2023-11-12T13:46:34.905664Z"
    },
    "papermill": {
     "duration": 0.062137,
     "end_time": "2023-11-12T13:46:34.909081",
     "exception": false,
     "start_time": "2023-11-12T13:46:34.846944",
     "status": "completed"
    },
    "tags": []
   },
   "outputs": [
    {
     "name": "stdout",
     "output_type": "stream",
     "text": [
      "<class 'pandas.core.frame.DataFrame'>\n",
      "RangeIndex: 590540 entries, 0 to 590539\n",
      "Columns: 434 entries, TransactionID to DeviceInfo\n",
      "dtypes: category(31), float32(399), uint16(1), uint32(2), uint8(1)\n",
      "memory usage: 924.3 MB\n"
     ]
    }
   ],
   "source": [
    "train_df.info()"
   ]
  },
  {
   "cell_type": "code",
   "execution_count": 12,
   "id": "43793ffc",
   "metadata": {
    "execution": {
     "iopub.execute_input": "2023-11-12T13:46:34.958602Z",
     "iopub.status.busy": "2023-11-12T13:46:34.957783Z",
     "iopub.status.idle": "2023-11-12T13:46:36.090121Z",
     "shell.execute_reply": "2023-11-12T13:46:36.089184Z"
    },
    "papermill": {
     "duration": 1.159982,
     "end_time": "2023-11-12T13:46:36.092627",
     "exception": false,
     "start_time": "2023-11-12T13:46:34.932645",
     "status": "completed"
    },
    "tags": []
   },
   "outputs": [],
   "source": [
    "for col in test_df.columns:\n",
    "    if test_df[col].dtype == 'object':\n",
    "        test_df[col] = test_df[col].astype('category')"
   ]
  },
  {
   "cell_type": "code",
   "execution_count": 13,
   "id": "d2922425",
   "metadata": {
    "execution": {
     "iopub.execute_input": "2023-11-12T13:46:36.142015Z",
     "iopub.status.busy": "2023-11-12T13:46:36.140870Z",
     "iopub.status.idle": "2023-11-12T13:46:36.173263Z",
     "shell.execute_reply": "2023-11-12T13:46:36.172228Z"
    },
    "papermill": {
     "duration": 0.059201,
     "end_time": "2023-11-12T13:46:36.175352",
     "exception": false,
     "start_time": "2023-11-12T13:46:36.116151",
     "status": "completed"
    },
    "tags": []
   },
   "outputs": [
    {
     "name": "stdout",
     "output_type": "stream",
     "text": [
      "<class 'pandas.core.frame.DataFrame'>\n",
      "RangeIndex: 506691 entries, 0 to 506690\n",
      "Columns: 433 entries, TransactionID to DeviceInfo\n",
      "dtypes: category(31), float32(399), uint16(1), uint32(2)\n",
      "memory usage: 792.6 MB\n"
     ]
    }
   ],
   "source": [
    "test_df.info()"
   ]
  },
  {
   "cell_type": "code",
   "execution_count": 14,
   "id": "eb58e88f",
   "metadata": {
    "execution": {
     "iopub.execute_input": "2023-11-12T13:46:36.223792Z",
     "iopub.status.busy": "2023-11-12T13:46:36.223407Z",
     "iopub.status.idle": "2023-11-12T13:46:36.243601Z",
     "shell.execute_reply": "2023-11-12T13:46:36.242280Z"
    },
    "papermill": {
     "duration": 0.046754,
     "end_time": "2023-11-12T13:46:36.245504",
     "exception": false,
     "start_time": "2023-11-12T13:46:36.198750",
     "status": "completed"
    },
    "tags": []
   },
   "outputs": [
    {
     "name": "stdout",
     "output_type": "stream",
     "text": [
      "train_df decreased on 63.989099234193674 %\n",
      "test_df decreased on 64.19355467369698 %\n"
     ]
    }
   ],
   "source": [
    "print(f'train_df decreased on {100 - (memory_usage(train_df) * 100)/2567.094} %')\n",
    "print(f'test_df decreased on {100 - (memory_usage(test_df) * 100)/2214.031} %')"
   ]
  },
  {
   "cell_type": "markdown",
   "id": "85cdd301",
   "metadata": {
    "papermill": {
     "duration": 0.023131,
     "end_time": "2023-11-12T13:46:36.293044",
     "exception": false,
     "start_time": "2023-11-12T13:46:36.269913",
     "status": "completed"
    },
    "tags": []
   },
   "source": [
    "Видим, что объём памяти, занимаемый каждым датасетом после преобразования типов признаков уменьшился примерно на ```64``` %"
   ]
  },
  {
   "cell_type": "markdown",
   "id": "98308087",
   "metadata": {
    "papermill": {
     "duration": 0.022833,
     "end_time": "2023-11-12T13:46:36.339127",
     "exception": false,
     "start_time": "2023-11-12T13:46:36.316294",
     "status": "completed"
    },
    "tags": []
   },
   "source": [
    "#### Напишем функцию, которая будет представлять отчёт о пропусках в данных"
   ]
  },
  {
   "cell_type": "code",
   "execution_count": 15,
   "id": "fec07dfd",
   "metadata": {
    "execution": {
     "iopub.execute_input": "2023-11-12T13:46:36.387459Z",
     "iopub.status.busy": "2023-11-12T13:46:36.387061Z",
     "iopub.status.idle": "2023-11-12T13:46:36.393602Z",
     "shell.execute_reply": "2023-11-12T13:46:36.392599Z"
    },
    "papermill": {
     "duration": 0.033377,
     "end_time": "2023-11-12T13:46:36.395653",
     "exception": false,
     "start_time": "2023-11-12T13:46:36.362276",
     "status": "completed"
    },
    "tags": []
   },
   "outputs": [],
   "source": [
    "def missing_values_table(df, df_name):\n",
    "    mis_val = df.isnull().sum()\n",
    "    len_df = len(df)\n",
    "    mis_val_percent = 100 * mis_val / len_df\n",
    "    mis_val_table = pd.concat([mis_val, mis_val_percent], axis=1)\n",
    "    mis_val_table_ren_columns = mis_val_table.rename(\n",
    "    columns = {0: 'Missing Values', 1: '% of Total Values'})\n",
    "    \n",
    "    mis_val_table_ren_columns = mis_val_table_ren_columns[\n",
    "        mis_val_table_ren_columns.iloc[:,1] != 0].sort_values(\n",
    "    '% of Total Values', ascending=False).round(1)\n",
    "    \n",
    "    print(f'{df_name} has ', str(df.shape[1]) + ' columns.\\n',\n",
    "         'There are ' + str(mis_val_table_ren_columns.shape[0]) +\n",
    "          ' columns that have missing values.')\n",
    "    return mis_val_table_ren_columns"
   ]
  },
  {
   "cell_type": "code",
   "execution_count": 16,
   "id": "606c4985",
   "metadata": {
    "execution": {
     "iopub.execute_input": "2023-11-12T13:46:36.445145Z",
     "iopub.status.busy": "2023-11-12T13:46:36.444797Z",
     "iopub.status.idle": "2023-11-12T13:46:36.911357Z",
     "shell.execute_reply": "2023-11-12T13:46:36.910284Z"
    },
    "papermill": {
     "duration": 0.4946,
     "end_time": "2023-11-12T13:46:36.913572",
     "exception": false,
     "start_time": "2023-11-12T13:46:36.418972",
     "status": "completed"
    },
    "tags": []
   },
   "outputs": [
    {
     "name": "stdout",
     "output_type": "stream",
     "text": [
      "train_df has  434 columns.\n",
      " There are 414 columns that have missing values.\n"
     ]
    },
    {
     "data": {
      "text/html": [
       "<div>\n",
       "<style scoped>\n",
       "    .dataframe tbody tr th:only-of-type {\n",
       "        vertical-align: middle;\n",
       "    }\n",
       "\n",
       "    .dataframe tbody tr th {\n",
       "        vertical-align: top;\n",
       "    }\n",
       "\n",
       "    .dataframe thead th {\n",
       "        text-align: right;\n",
       "    }\n",
       "</style>\n",
       "<table border=\"1\" class=\"dataframe\">\n",
       "  <thead>\n",
       "    <tr style=\"text-align: right;\">\n",
       "      <th></th>\n",
       "      <th>Missing Values</th>\n",
       "      <th>% of Total Values</th>\n",
       "    </tr>\n",
       "  </thead>\n",
       "  <tbody>\n",
       "    <tr>\n",
       "      <th>id_24</th>\n",
       "      <td>585793</td>\n",
       "      <td>99.2</td>\n",
       "    </tr>\n",
       "    <tr>\n",
       "      <th>id_25</th>\n",
       "      <td>585408</td>\n",
       "      <td>99.1</td>\n",
       "    </tr>\n",
       "    <tr>\n",
       "      <th>id_07</th>\n",
       "      <td>585385</td>\n",
       "      <td>99.1</td>\n",
       "    </tr>\n",
       "    <tr>\n",
       "      <th>id_08</th>\n",
       "      <td>585385</td>\n",
       "      <td>99.1</td>\n",
       "    </tr>\n",
       "    <tr>\n",
       "      <th>id_21</th>\n",
       "      <td>585381</td>\n",
       "      <td>99.1</td>\n",
       "    </tr>\n",
       "    <tr>\n",
       "      <th>...</th>\n",
       "      <td>...</td>\n",
       "      <td>...</td>\n",
       "    </tr>\n",
       "    <tr>\n",
       "      <th>V285</th>\n",
       "      <td>12</td>\n",
       "      <td>0.0</td>\n",
       "    </tr>\n",
       "    <tr>\n",
       "      <th>V284</th>\n",
       "      <td>12</td>\n",
       "      <td>0.0</td>\n",
       "    </tr>\n",
       "    <tr>\n",
       "      <th>V280</th>\n",
       "      <td>12</td>\n",
       "      <td>0.0</td>\n",
       "    </tr>\n",
       "    <tr>\n",
       "      <th>V279</th>\n",
       "      <td>12</td>\n",
       "      <td>0.0</td>\n",
       "    </tr>\n",
       "    <tr>\n",
       "      <th>V312</th>\n",
       "      <td>12</td>\n",
       "      <td>0.0</td>\n",
       "    </tr>\n",
       "  </tbody>\n",
       "</table>\n",
       "<p>414 rows × 2 columns</p>\n",
       "</div>"
      ],
      "text/plain": [
       "       Missing Values  % of Total Values\n",
       "id_24          585793               99.2\n",
       "id_25          585408               99.1\n",
       "id_07          585385               99.1\n",
       "id_08          585385               99.1\n",
       "id_21          585381               99.1\n",
       "...               ...                ...\n",
       "V285               12                0.0\n",
       "V284               12                0.0\n",
       "V280               12                0.0\n",
       "V279               12                0.0\n",
       "V312               12                0.0\n",
       "\n",
       "[414 rows x 2 columns]"
      ]
     },
     "execution_count": 16,
     "metadata": {},
     "output_type": "execute_result"
    }
   ],
   "source": [
    "missing_values_table(train_df, 'train_df')"
   ]
  },
  {
   "cell_type": "code",
   "execution_count": 17,
   "id": "795a9716",
   "metadata": {
    "execution": {
     "iopub.execute_input": "2023-11-12T13:46:36.963104Z",
     "iopub.status.busy": "2023-11-12T13:46:36.962727Z",
     "iopub.status.idle": "2023-11-12T13:46:37.359607Z",
     "shell.execute_reply": "2023-11-12T13:46:37.358812Z"
    },
    "papermill": {
     "duration": 0.423843,
     "end_time": "2023-11-12T13:46:37.361681",
     "exception": false,
     "start_time": "2023-11-12T13:46:36.937838",
     "status": "completed"
    },
    "tags": []
   },
   "outputs": [
    {
     "name": "stdout",
     "output_type": "stream",
     "text": [
      "test_df has  433 columns.\n",
      " There are 385 columns that have missing values.\n"
     ]
    },
    {
     "data": {
      "text/html": [
       "<div>\n",
       "<style scoped>\n",
       "    .dataframe tbody tr th:only-of-type {\n",
       "        vertical-align: middle;\n",
       "    }\n",
       "\n",
       "    .dataframe tbody tr th {\n",
       "        vertical-align: top;\n",
       "    }\n",
       "\n",
       "    .dataframe thead th {\n",
       "        text-align: right;\n",
       "    }\n",
       "</style>\n",
       "<table border=\"1\" class=\"dataframe\">\n",
       "  <thead>\n",
       "    <tr style=\"text-align: right;\">\n",
       "      <th></th>\n",
       "      <th>Missing Values</th>\n",
       "      <th>% of Total Values</th>\n",
       "    </tr>\n",
       "  </thead>\n",
       "  <tbody>\n",
       "    <tr>\n",
       "      <th>id-24</th>\n",
       "      <td>501951</td>\n",
       "      <td>99.1</td>\n",
       "    </tr>\n",
       "    <tr>\n",
       "      <th>id-25</th>\n",
       "      <td>501652</td>\n",
       "      <td>99.0</td>\n",
       "    </tr>\n",
       "    <tr>\n",
       "      <th>id-26</th>\n",
       "      <td>501644</td>\n",
       "      <td>99.0</td>\n",
       "    </tr>\n",
       "    <tr>\n",
       "      <th>id-08</th>\n",
       "      <td>501632</td>\n",
       "      <td>99.0</td>\n",
       "    </tr>\n",
       "    <tr>\n",
       "      <th>id-07</th>\n",
       "      <td>501632</td>\n",
       "      <td>99.0</td>\n",
       "    </tr>\n",
       "    <tr>\n",
       "      <th>...</th>\n",
       "      <td>...</td>\n",
       "      <td>...</td>\n",
       "    </tr>\n",
       "    <tr>\n",
       "      <th>V293</th>\n",
       "      <td>3</td>\n",
       "      <td>0.0</td>\n",
       "    </tr>\n",
       "    <tr>\n",
       "      <th>C14</th>\n",
       "      <td>3</td>\n",
       "      <td>0.0</td>\n",
       "    </tr>\n",
       "    <tr>\n",
       "      <th>V319</th>\n",
       "      <td>3</td>\n",
       "      <td>0.0</td>\n",
       "    </tr>\n",
       "    <tr>\n",
       "      <th>V292</th>\n",
       "      <td>3</td>\n",
       "      <td>0.0</td>\n",
       "    </tr>\n",
       "    <tr>\n",
       "      <th>V303</th>\n",
       "      <td>3</td>\n",
       "      <td>0.0</td>\n",
       "    </tr>\n",
       "  </tbody>\n",
       "</table>\n",
       "<p>385 rows × 2 columns</p>\n",
       "</div>"
      ],
      "text/plain": [
       "       Missing Values  % of Total Values\n",
       "id-24          501951               99.1\n",
       "id-25          501652               99.0\n",
       "id-26          501644               99.0\n",
       "id-08          501632               99.0\n",
       "id-07          501632               99.0\n",
       "...               ...                ...\n",
       "V293                3                0.0\n",
       "C14                 3                0.0\n",
       "V319                3                0.0\n",
       "V292                3                0.0\n",
       "V303                3                0.0\n",
       "\n",
       "[385 rows x 2 columns]"
      ]
     },
     "execution_count": 17,
     "metadata": {},
     "output_type": "execute_result"
    }
   ],
   "source": [
    "missing_values_table(test_df, 'test_df')"
   ]
  },
  {
   "cell_type": "markdown",
   "id": "60991441",
   "metadata": {
    "papermill": {
     "duration": 0.024388,
     "end_time": "2023-11-12T13:46:37.411243",
     "exception": false,
     "start_time": "2023-11-12T13:46:37.386855",
     "status": "completed"
    },
    "tags": []
   },
   "source": [
    "Заменим признаки с ```-``` в тестовом датасете на соответствующие названия из тренировочного датасета с ```_```"
   ]
  },
  {
   "cell_type": "code",
   "execution_count": 18,
   "id": "54944f6e",
   "metadata": {
    "execution": {
     "iopub.execute_input": "2023-11-12T13:46:37.462593Z",
     "iopub.status.busy": "2023-11-12T13:46:37.462235Z",
     "iopub.status.idle": "2023-11-12T13:46:38.562473Z",
     "shell.execute_reply": "2023-11-12T13:46:38.561481Z"
    },
    "papermill": {
     "duration": 1.129555,
     "end_time": "2023-11-12T13:46:38.564912",
     "exception": false,
     "start_time": "2023-11-12T13:46:37.435357",
     "status": "completed"
    },
    "tags": []
   },
   "outputs": [],
   "source": [
    "test_df = test_df.rename(columns=lambda x:'_'.join(x.split('-')))"
   ]
  },
  {
   "cell_type": "code",
   "execution_count": 19,
   "id": "8a8e1ae3",
   "metadata": {
    "execution": {
     "iopub.execute_input": "2023-11-12T13:46:38.614733Z",
     "iopub.status.busy": "2023-11-12T13:46:38.614388Z",
     "iopub.status.idle": "2023-11-12T13:46:38.680735Z",
     "shell.execute_reply": "2023-11-12T13:46:38.679729Z"
    },
    "papermill": {
     "duration": 0.093519,
     "end_time": "2023-11-12T13:46:38.682932",
     "exception": false,
     "start_time": "2023-11-12T13:46:38.589413",
     "status": "completed"
    },
    "tags": []
   },
   "outputs": [
    {
     "data": {
      "text/html": [
       "<div>\n",
       "<style scoped>\n",
       "    .dataframe tbody tr th:only-of-type {\n",
       "        vertical-align: middle;\n",
       "    }\n",
       "\n",
       "    .dataframe tbody tr th {\n",
       "        vertical-align: top;\n",
       "    }\n",
       "\n",
       "    .dataframe thead th {\n",
       "        text-align: right;\n",
       "    }\n",
       "</style>\n",
       "<table border=\"1\" class=\"dataframe\">\n",
       "  <thead>\n",
       "    <tr style=\"text-align: right;\">\n",
       "      <th></th>\n",
       "      <th>TransactionID</th>\n",
       "      <th>TransactionDT</th>\n",
       "      <th>TransactionAmt</th>\n",
       "      <th>ProductCD</th>\n",
       "      <th>card1</th>\n",
       "      <th>card2</th>\n",
       "      <th>card3</th>\n",
       "      <th>card4</th>\n",
       "      <th>card5</th>\n",
       "      <th>card6</th>\n",
       "      <th>...</th>\n",
       "      <th>id_31</th>\n",
       "      <th>id_32</th>\n",
       "      <th>id_33</th>\n",
       "      <th>id_34</th>\n",
       "      <th>id_35</th>\n",
       "      <th>id_36</th>\n",
       "      <th>id_37</th>\n",
       "      <th>id_38</th>\n",
       "      <th>DeviceType</th>\n",
       "      <th>DeviceInfo</th>\n",
       "    </tr>\n",
       "  </thead>\n",
       "  <tbody>\n",
       "    <tr>\n",
       "      <th>0</th>\n",
       "      <td>3663549</td>\n",
       "      <td>18403224</td>\n",
       "      <td>31.950001</td>\n",
       "      <td>W</td>\n",
       "      <td>10409</td>\n",
       "      <td>111.0</td>\n",
       "      <td>150.0</td>\n",
       "      <td>visa</td>\n",
       "      <td>226.0</td>\n",
       "      <td>debit</td>\n",
       "      <td>...</td>\n",
       "      <td>NaN</td>\n",
       "      <td>NaN</td>\n",
       "      <td>NaN</td>\n",
       "      <td>NaN</td>\n",
       "      <td>NaN</td>\n",
       "      <td>NaN</td>\n",
       "      <td>NaN</td>\n",
       "      <td>NaN</td>\n",
       "      <td>NaN</td>\n",
       "      <td>NaN</td>\n",
       "    </tr>\n",
       "    <tr>\n",
       "      <th>1</th>\n",
       "      <td>3663550</td>\n",
       "      <td>18403263</td>\n",
       "      <td>49.000000</td>\n",
       "      <td>W</td>\n",
       "      <td>4272</td>\n",
       "      <td>111.0</td>\n",
       "      <td>150.0</td>\n",
       "      <td>visa</td>\n",
       "      <td>226.0</td>\n",
       "      <td>debit</td>\n",
       "      <td>...</td>\n",
       "      <td>NaN</td>\n",
       "      <td>NaN</td>\n",
       "      <td>NaN</td>\n",
       "      <td>NaN</td>\n",
       "      <td>NaN</td>\n",
       "      <td>NaN</td>\n",
       "      <td>NaN</td>\n",
       "      <td>NaN</td>\n",
       "      <td>NaN</td>\n",
       "      <td>NaN</td>\n",
       "    </tr>\n",
       "    <tr>\n",
       "      <th>2</th>\n",
       "      <td>3663551</td>\n",
       "      <td>18403310</td>\n",
       "      <td>171.000000</td>\n",
       "      <td>W</td>\n",
       "      <td>4476</td>\n",
       "      <td>574.0</td>\n",
       "      <td>150.0</td>\n",
       "      <td>visa</td>\n",
       "      <td>226.0</td>\n",
       "      <td>debit</td>\n",
       "      <td>...</td>\n",
       "      <td>NaN</td>\n",
       "      <td>NaN</td>\n",
       "      <td>NaN</td>\n",
       "      <td>NaN</td>\n",
       "      <td>NaN</td>\n",
       "      <td>NaN</td>\n",
       "      <td>NaN</td>\n",
       "      <td>NaN</td>\n",
       "      <td>NaN</td>\n",
       "      <td>NaN</td>\n",
       "    </tr>\n",
       "    <tr>\n",
       "      <th>3</th>\n",
       "      <td>3663552</td>\n",
       "      <td>18403310</td>\n",
       "      <td>284.950012</td>\n",
       "      <td>W</td>\n",
       "      <td>10989</td>\n",
       "      <td>360.0</td>\n",
       "      <td>150.0</td>\n",
       "      <td>visa</td>\n",
       "      <td>166.0</td>\n",
       "      <td>debit</td>\n",
       "      <td>...</td>\n",
       "      <td>NaN</td>\n",
       "      <td>NaN</td>\n",
       "      <td>NaN</td>\n",
       "      <td>NaN</td>\n",
       "      <td>NaN</td>\n",
       "      <td>NaN</td>\n",
       "      <td>NaN</td>\n",
       "      <td>NaN</td>\n",
       "      <td>NaN</td>\n",
       "      <td>NaN</td>\n",
       "    </tr>\n",
       "    <tr>\n",
       "      <th>4</th>\n",
       "      <td>3663553</td>\n",
       "      <td>18403317</td>\n",
       "      <td>67.949997</td>\n",
       "      <td>W</td>\n",
       "      <td>18018</td>\n",
       "      <td>452.0</td>\n",
       "      <td>150.0</td>\n",
       "      <td>mastercard</td>\n",
       "      <td>117.0</td>\n",
       "      <td>debit</td>\n",
       "      <td>...</td>\n",
       "      <td>NaN</td>\n",
       "      <td>NaN</td>\n",
       "      <td>NaN</td>\n",
       "      <td>NaN</td>\n",
       "      <td>NaN</td>\n",
       "      <td>NaN</td>\n",
       "      <td>NaN</td>\n",
       "      <td>NaN</td>\n",
       "      <td>NaN</td>\n",
       "      <td>NaN</td>\n",
       "    </tr>\n",
       "    <tr>\n",
       "      <th>...</th>\n",
       "      <td>...</td>\n",
       "      <td>...</td>\n",
       "      <td>...</td>\n",
       "      <td>...</td>\n",
       "      <td>...</td>\n",
       "      <td>...</td>\n",
       "      <td>...</td>\n",
       "      <td>...</td>\n",
       "      <td>...</td>\n",
       "      <td>...</td>\n",
       "      <td>...</td>\n",
       "      <td>...</td>\n",
       "      <td>...</td>\n",
       "      <td>...</td>\n",
       "      <td>...</td>\n",
       "      <td>...</td>\n",
       "      <td>...</td>\n",
       "      <td>...</td>\n",
       "      <td>...</td>\n",
       "      <td>...</td>\n",
       "      <td>...</td>\n",
       "    </tr>\n",
       "    <tr>\n",
       "      <th>506686</th>\n",
       "      <td>4170235</td>\n",
       "      <td>34214279</td>\n",
       "      <td>94.679001</td>\n",
       "      <td>C</td>\n",
       "      <td>13832</td>\n",
       "      <td>375.0</td>\n",
       "      <td>185.0</td>\n",
       "      <td>mastercard</td>\n",
       "      <td>224.0</td>\n",
       "      <td>debit</td>\n",
       "      <td>...</td>\n",
       "      <td>NaN</td>\n",
       "      <td>NaN</td>\n",
       "      <td>NaN</td>\n",
       "      <td>NaN</td>\n",
       "      <td>NaN</td>\n",
       "      <td>NaN</td>\n",
       "      <td>NaN</td>\n",
       "      <td>NaN</td>\n",
       "      <td>NaN</td>\n",
       "      <td>NaN</td>\n",
       "    </tr>\n",
       "    <tr>\n",
       "      <th>506687</th>\n",
       "      <td>4170236</td>\n",
       "      <td>34214287</td>\n",
       "      <td>12.173000</td>\n",
       "      <td>C</td>\n",
       "      <td>3154</td>\n",
       "      <td>408.0</td>\n",
       "      <td>185.0</td>\n",
       "      <td>mastercard</td>\n",
       "      <td>224.0</td>\n",
       "      <td>debit</td>\n",
       "      <td>...</td>\n",
       "      <td>chrome 43.0 for android</td>\n",
       "      <td>NaN</td>\n",
       "      <td>NaN</td>\n",
       "      <td>NaN</td>\n",
       "      <td>F</td>\n",
       "      <td>F</td>\n",
       "      <td>T</td>\n",
       "      <td>F</td>\n",
       "      <td>mobile</td>\n",
       "      <td>ALE-L23 Build/HuaweiALE-L23</td>\n",
       "    </tr>\n",
       "    <tr>\n",
       "      <th>506688</th>\n",
       "      <td>4170237</td>\n",
       "      <td>34214326</td>\n",
       "      <td>49.000000</td>\n",
       "      <td>W</td>\n",
       "      <td>16661</td>\n",
       "      <td>490.0</td>\n",
       "      <td>150.0</td>\n",
       "      <td>visa</td>\n",
       "      <td>226.0</td>\n",
       "      <td>debit</td>\n",
       "      <td>...</td>\n",
       "      <td>NaN</td>\n",
       "      <td>NaN</td>\n",
       "      <td>NaN</td>\n",
       "      <td>NaN</td>\n",
       "      <td>NaN</td>\n",
       "      <td>NaN</td>\n",
       "      <td>NaN</td>\n",
       "      <td>NaN</td>\n",
       "      <td>NaN</td>\n",
       "      <td>NaN</td>\n",
       "    </tr>\n",
       "    <tr>\n",
       "      <th>506689</th>\n",
       "      <td>4170238</td>\n",
       "      <td>34214337</td>\n",
       "      <td>202.000000</td>\n",
       "      <td>W</td>\n",
       "      <td>16621</td>\n",
       "      <td>516.0</td>\n",
       "      <td>150.0</td>\n",
       "      <td>mastercard</td>\n",
       "      <td>224.0</td>\n",
       "      <td>debit</td>\n",
       "      <td>...</td>\n",
       "      <td>NaN</td>\n",
       "      <td>NaN</td>\n",
       "      <td>NaN</td>\n",
       "      <td>NaN</td>\n",
       "      <td>NaN</td>\n",
       "      <td>NaN</td>\n",
       "      <td>NaN</td>\n",
       "      <td>NaN</td>\n",
       "      <td>NaN</td>\n",
       "      <td>NaN</td>\n",
       "    </tr>\n",
       "    <tr>\n",
       "      <th>506690</th>\n",
       "      <td>4170239</td>\n",
       "      <td>34214345</td>\n",
       "      <td>24.346001</td>\n",
       "      <td>C</td>\n",
       "      <td>5713</td>\n",
       "      <td>168.0</td>\n",
       "      <td>144.0</td>\n",
       "      <td>visa</td>\n",
       "      <td>147.0</td>\n",
       "      <td>credit</td>\n",
       "      <td>...</td>\n",
       "      <td>samsung browser 8.2</td>\n",
       "      <td>NaN</td>\n",
       "      <td>NaN</td>\n",
       "      <td>NaN</td>\n",
       "      <td>F</td>\n",
       "      <td>F</td>\n",
       "      <td>T</td>\n",
       "      <td>F</td>\n",
       "      <td>mobile</td>\n",
       "      <td>SAMSUNG</td>\n",
       "    </tr>\n",
       "  </tbody>\n",
       "</table>\n",
       "<p>506691 rows × 433 columns</p>\n",
       "</div>"
      ],
      "text/plain": [
       "        TransactionID  TransactionDT  TransactionAmt ProductCD  card1  card2  \\\n",
       "0             3663549       18403224       31.950001         W  10409  111.0   \n",
       "1             3663550       18403263       49.000000         W   4272  111.0   \n",
       "2             3663551       18403310      171.000000         W   4476  574.0   \n",
       "3             3663552       18403310      284.950012         W  10989  360.0   \n",
       "4             3663553       18403317       67.949997         W  18018  452.0   \n",
       "...               ...            ...             ...       ...    ...    ...   \n",
       "506686        4170235       34214279       94.679001         C  13832  375.0   \n",
       "506687        4170236       34214287       12.173000         C   3154  408.0   \n",
       "506688        4170237       34214326       49.000000         W  16661  490.0   \n",
       "506689        4170238       34214337      202.000000         W  16621  516.0   \n",
       "506690        4170239       34214345       24.346001         C   5713  168.0   \n",
       "\n",
       "        card3       card4  card5   card6  ...                    id_31  id_32  \\\n",
       "0       150.0        visa  226.0   debit  ...                      NaN    NaN   \n",
       "1       150.0        visa  226.0   debit  ...                      NaN    NaN   \n",
       "2       150.0        visa  226.0   debit  ...                      NaN    NaN   \n",
       "3       150.0        visa  166.0   debit  ...                      NaN    NaN   \n",
       "4       150.0  mastercard  117.0   debit  ...                      NaN    NaN   \n",
       "...       ...         ...    ...     ...  ...                      ...    ...   \n",
       "506686  185.0  mastercard  224.0   debit  ...                      NaN    NaN   \n",
       "506687  185.0  mastercard  224.0   debit  ...  chrome 43.0 for android    NaN   \n",
       "506688  150.0        visa  226.0   debit  ...                      NaN    NaN   \n",
       "506689  150.0  mastercard  224.0   debit  ...                      NaN    NaN   \n",
       "506690  144.0        visa  147.0  credit  ...      samsung browser 8.2    NaN   \n",
       "\n",
       "        id_33  id_34 id_35 id_36  id_37  id_38  DeviceType  \\\n",
       "0         NaN    NaN   NaN   NaN    NaN    NaN         NaN   \n",
       "1         NaN    NaN   NaN   NaN    NaN    NaN         NaN   \n",
       "2         NaN    NaN   NaN   NaN    NaN    NaN         NaN   \n",
       "3         NaN    NaN   NaN   NaN    NaN    NaN         NaN   \n",
       "4         NaN    NaN   NaN   NaN    NaN    NaN         NaN   \n",
       "...       ...    ...   ...   ...    ...    ...         ...   \n",
       "506686    NaN    NaN   NaN   NaN    NaN    NaN         NaN   \n",
       "506687    NaN    NaN     F     F      T      F      mobile   \n",
       "506688    NaN    NaN   NaN   NaN    NaN    NaN         NaN   \n",
       "506689    NaN    NaN   NaN   NaN    NaN    NaN         NaN   \n",
       "506690    NaN    NaN     F     F      T      F      mobile   \n",
       "\n",
       "                         DeviceInfo  \n",
       "0                               NaN  \n",
       "1                               NaN  \n",
       "2                               NaN  \n",
       "3                               NaN  \n",
       "4                               NaN  \n",
       "...                             ...  \n",
       "506686                          NaN  \n",
       "506687  ALE-L23 Build/HuaweiALE-L23  \n",
       "506688                          NaN  \n",
       "506689                          NaN  \n",
       "506690                      SAMSUNG  \n",
       "\n",
       "[506691 rows x 433 columns]"
      ]
     },
     "execution_count": 19,
     "metadata": {},
     "output_type": "execute_result"
    }
   ],
   "source": [
    "test_df"
   ]
  },
  {
   "cell_type": "markdown",
   "id": "a64ed7aa",
   "metadata": {
    "papermill": {
     "duration": 0.024019,
     "end_time": "2023-11-12T13:46:38.731490",
     "exception": false,
     "start_time": "2023-11-12T13:46:38.707471",
     "status": "completed"
    },
    "tags": []
   },
   "source": [
    "Удаляем признаки, в которых более ```50 %``` пропусков:"
   ]
  },
  {
   "cell_type": "code",
   "execution_count": 20,
   "id": "f77d4d97",
   "metadata": {
    "execution": {
     "iopub.execute_input": "2023-11-12T13:46:38.781800Z",
     "iopub.status.busy": "2023-11-12T13:46:38.781419Z",
     "iopub.status.idle": "2023-11-12T13:46:39.098386Z",
     "shell.execute_reply": "2023-11-12T13:46:39.097077Z"
    },
    "papermill": {
     "duration": 0.344919,
     "end_time": "2023-11-12T13:46:39.100775",
     "exception": false,
     "start_time": "2023-11-12T13:46:38.755856",
     "status": "completed"
    },
    "tags": []
   },
   "outputs": [
    {
     "name": "stdout",
     "output_type": "stream",
     "text": [
      "train_df has  434 columns.\n",
      " There are 414 columns that have missing values.\n",
      "We will remove 214 columns.\n"
     ]
    }
   ],
   "source": [
    "missing_df = missing_values_table(train_df, 'train_df')\n",
    "missing_columns = list(missing_df[missing_df['% of Total Values'] > 50.0].index)\n",
    "print('We will remove %d columns.' % len(missing_columns))"
   ]
  },
  {
   "cell_type": "code",
   "execution_count": 21,
   "id": "d8142529",
   "metadata": {
    "execution": {
     "iopub.execute_input": "2023-11-12T13:46:39.151271Z",
     "iopub.status.busy": "2023-11-12T13:46:39.150921Z",
     "iopub.status.idle": "2023-11-12T13:46:39.592015Z",
     "shell.execute_reply": "2023-11-12T13:46:39.591100Z"
    },
    "papermill": {
     "duration": 0.469013,
     "end_time": "2023-11-12T13:46:39.594496",
     "exception": false,
     "start_time": "2023-11-12T13:46:39.125483",
     "status": "completed"
    },
    "tags": []
   },
   "outputs": [],
   "source": [
    "train_df = train_df.drop(columns = missing_columns)"
   ]
  },
  {
   "cell_type": "code",
   "execution_count": 22,
   "id": "d5527e3d",
   "metadata": {
    "execution": {
     "iopub.execute_input": "2023-11-12T13:46:39.645881Z",
     "iopub.status.busy": "2023-11-12T13:46:39.644992Z",
     "iopub.status.idle": "2023-11-12T13:46:39.651367Z",
     "shell.execute_reply": "2023-11-12T13:46:39.650443Z"
    },
    "papermill": {
     "duration": 0.034057,
     "end_time": "2023-11-12T13:46:39.653254",
     "exception": false,
     "start_time": "2023-11-12T13:46:39.619197",
     "status": "completed"
    },
    "tags": []
   },
   "outputs": [
    {
     "data": {
      "text/plain": [
       "(590540, 220)"
      ]
     },
     "execution_count": 22,
     "metadata": {},
     "output_type": "execute_result"
    }
   ],
   "source": [
    "train_df.shape"
   ]
  },
  {
   "cell_type": "code",
   "execution_count": 23,
   "id": "036cd4ca",
   "metadata": {
    "execution": {
     "iopub.execute_input": "2023-11-12T13:46:39.703733Z",
     "iopub.status.busy": "2023-11-12T13:46:39.703395Z",
     "iopub.status.idle": "2023-11-12T13:46:39.800348Z",
     "shell.execute_reply": "2023-11-12T13:46:39.799362Z"
    },
    "papermill": {
     "duration": 0.124902,
     "end_time": "2023-11-12T13:46:39.802610",
     "exception": false,
     "start_time": "2023-11-12T13:46:39.677708",
     "status": "completed"
    },
    "tags": []
   },
   "outputs": [
    {
     "data": {
      "text/plain": [
       "(506691, 219)"
      ]
     },
     "execution_count": 23,
     "metadata": {},
     "output_type": "execute_result"
    }
   ],
   "source": [
    "test_df = test_df.drop(columns = missing_columns)\n",
    "test_df.shape"
   ]
  },
  {
   "cell_type": "markdown",
   "id": "75c5864e",
   "metadata": {
    "papermill": {
     "duration": 0.024312,
     "end_time": "2023-11-12T13:46:39.851801",
     "exception": false,
     "start_time": "2023-11-12T13:46:39.827489",
     "status": "completed"
    },
    "tags": []
   },
   "source": [
    "Посмотрим ещё раз на пропуски "
   ]
  },
  {
   "cell_type": "code",
   "execution_count": 24,
   "id": "c6217f19",
   "metadata": {
    "execution": {
     "iopub.execute_input": "2023-11-12T13:46:39.902416Z",
     "iopub.status.busy": "2023-11-12T13:46:39.902037Z",
     "iopub.status.idle": "2023-11-12T13:46:40.075025Z",
     "shell.execute_reply": "2023-11-12T13:46:40.074032Z"
    },
    "papermill": {
     "duration": 0.200873,
     "end_time": "2023-11-12T13:46:40.077047",
     "exception": false,
     "start_time": "2023-11-12T13:46:39.876174",
     "status": "completed"
    },
    "tags": []
   },
   "outputs": [
    {
     "name": "stdout",
     "output_type": "stream",
     "text": [
      "train_df has  220 columns.\n",
      " There are 200 columns that have missing values.\n"
     ]
    },
    {
     "data": {
      "text/html": [
       "<div>\n",
       "<style scoped>\n",
       "    .dataframe tbody tr th:only-of-type {\n",
       "        vertical-align: middle;\n",
       "    }\n",
       "\n",
       "    .dataframe tbody tr th {\n",
       "        vertical-align: top;\n",
       "    }\n",
       "\n",
       "    .dataframe thead th {\n",
       "        text-align: right;\n",
       "    }\n",
       "</style>\n",
       "<table border=\"1\" class=\"dataframe\">\n",
       "  <thead>\n",
       "    <tr style=\"text-align: right;\">\n",
       "      <th></th>\n",
       "      <th>Missing Values</th>\n",
       "      <th>% of Total Values</th>\n",
       "    </tr>\n",
       "  </thead>\n",
       "  <tbody>\n",
       "    <tr>\n",
       "      <th>M4</th>\n",
       "      <td>281444</td>\n",
       "      <td>47.7</td>\n",
       "    </tr>\n",
       "    <tr>\n",
       "      <th>D2</th>\n",
       "      <td>280797</td>\n",
       "      <td>47.5</td>\n",
       "    </tr>\n",
       "    <tr>\n",
       "      <th>V7</th>\n",
       "      <td>279287</td>\n",
       "      <td>47.3</td>\n",
       "    </tr>\n",
       "    <tr>\n",
       "      <th>V11</th>\n",
       "      <td>279287</td>\n",
       "      <td>47.3</td>\n",
       "    </tr>\n",
       "    <tr>\n",
       "      <th>V10</th>\n",
       "      <td>279287</td>\n",
       "      <td>47.3</td>\n",
       "    </tr>\n",
       "    <tr>\n",
       "      <th>...</th>\n",
       "      <td>...</td>\n",
       "      <td>...</td>\n",
       "    </tr>\n",
       "    <tr>\n",
       "      <th>V295</th>\n",
       "      <td>12</td>\n",
       "      <td>0.0</td>\n",
       "    </tr>\n",
       "    <tr>\n",
       "      <th>V297</th>\n",
       "      <td>12</td>\n",
       "      <td>0.0</td>\n",
       "    </tr>\n",
       "    <tr>\n",
       "      <th>V298</th>\n",
       "      <td>12</td>\n",
       "      <td>0.0</td>\n",
       "    </tr>\n",
       "    <tr>\n",
       "      <th>V299</th>\n",
       "      <td>12</td>\n",
       "      <td>0.0</td>\n",
       "    </tr>\n",
       "    <tr>\n",
       "      <th>V321</th>\n",
       "      <td>12</td>\n",
       "      <td>0.0</td>\n",
       "    </tr>\n",
       "  </tbody>\n",
       "</table>\n",
       "<p>200 rows × 2 columns</p>\n",
       "</div>"
      ],
      "text/plain": [
       "      Missing Values  % of Total Values\n",
       "M4            281444               47.7\n",
       "D2            280797               47.5\n",
       "V7            279287               47.3\n",
       "V11           279287               47.3\n",
       "V10           279287               47.3\n",
       "...              ...                ...\n",
       "V295              12                0.0\n",
       "V297              12                0.0\n",
       "V298              12                0.0\n",
       "V299              12                0.0\n",
       "V321              12                0.0\n",
       "\n",
       "[200 rows x 2 columns]"
      ]
     },
     "execution_count": 24,
     "metadata": {},
     "output_type": "execute_result"
    }
   ],
   "source": [
    "miss_val_train_df = missing_values_table(train_df, 'train_df')\n",
    "miss_val_train_df"
   ]
  },
  {
   "cell_type": "code",
   "execution_count": 25,
   "id": "c566c181",
   "metadata": {
    "execution": {
     "iopub.execute_input": "2023-11-12T13:46:40.129037Z",
     "iopub.status.busy": "2023-11-12T13:46:40.128584Z",
     "iopub.status.idle": "2023-11-12T13:46:40.261890Z",
     "shell.execute_reply": "2023-11-12T13:46:40.261076Z"
    },
    "papermill": {
     "duration": 0.161432,
     "end_time": "2023-11-12T13:46:40.263760",
     "exception": false,
     "start_time": "2023-11-12T13:46:40.102328",
     "status": "completed"
    },
    "tags": []
   },
   "outputs": [
    {
     "name": "stdout",
     "output_type": "stream",
     "text": [
      "test_df has  219 columns.\n",
      " There are 171 columns that have missing values.\n"
     ]
    },
    {
     "data": {
      "text/html": [
       "<div>\n",
       "<style scoped>\n",
       "    .dataframe tbody tr th:only-of-type {\n",
       "        vertical-align: middle;\n",
       "    }\n",
       "\n",
       "    .dataframe tbody tr th {\n",
       "        vertical-align: top;\n",
       "    }\n",
       "\n",
       "    .dataframe thead th {\n",
       "        text-align: right;\n",
       "    }\n",
       "</style>\n",
       "<table border=\"1\" class=\"dataframe\">\n",
       "  <thead>\n",
       "    <tr style=\"text-align: right;\">\n",
       "      <th></th>\n",
       "      <th>Missing Values</th>\n",
       "      <th>% of Total Values</th>\n",
       "    </tr>\n",
       "  </thead>\n",
       "  <tbody>\n",
       "    <tr>\n",
       "      <th>M4</th>\n",
       "      <td>237745</td>\n",
       "      <td>46.9</td>\n",
       "    </tr>\n",
       "    <tr>\n",
       "      <th>D2</th>\n",
       "      <td>234769</td>\n",
       "      <td>46.3</td>\n",
       "    </tr>\n",
       "    <tr>\n",
       "      <th>D3</th>\n",
       "      <td>203142</td>\n",
       "      <td>40.1</td>\n",
       "    </tr>\n",
       "    <tr>\n",
       "      <th>M3</th>\n",
       "      <td>176639</td>\n",
       "      <td>34.9</td>\n",
       "    </tr>\n",
       "    <tr>\n",
       "      <th>M2</th>\n",
       "      <td>176639</td>\n",
       "      <td>34.9</td>\n",
       "    </tr>\n",
       "    <tr>\n",
       "      <th>...</th>\n",
       "      <td>...</td>\n",
       "      <td>...</td>\n",
       "    </tr>\n",
       "    <tr>\n",
       "      <th>V287</th>\n",
       "      <td>3</td>\n",
       "      <td>0.0</td>\n",
       "    </tr>\n",
       "    <tr>\n",
       "      <th>V290</th>\n",
       "      <td>3</td>\n",
       "      <td>0.0</td>\n",
       "    </tr>\n",
       "    <tr>\n",
       "      <th>V292</th>\n",
       "      <td>3</td>\n",
       "      <td>0.0</td>\n",
       "    </tr>\n",
       "    <tr>\n",
       "      <th>V293</th>\n",
       "      <td>3</td>\n",
       "      <td>0.0</td>\n",
       "    </tr>\n",
       "    <tr>\n",
       "      <th>V321</th>\n",
       "      <td>3</td>\n",
       "      <td>0.0</td>\n",
       "    </tr>\n",
       "  </tbody>\n",
       "</table>\n",
       "<p>171 rows × 2 columns</p>\n",
       "</div>"
      ],
      "text/plain": [
       "      Missing Values  % of Total Values\n",
       "M4            237745               46.9\n",
       "D2            234769               46.3\n",
       "D3            203142               40.1\n",
       "M3            176639               34.9\n",
       "M2            176639               34.9\n",
       "...              ...                ...\n",
       "V287               3                0.0\n",
       "V290               3                0.0\n",
       "V292               3                0.0\n",
       "V293               3                0.0\n",
       "V321               3                0.0\n",
       "\n",
       "[171 rows x 2 columns]"
      ]
     },
     "execution_count": 25,
     "metadata": {},
     "output_type": "execute_result"
    }
   ],
   "source": [
    "missing_values_table(test_df, 'test_df')"
   ]
  },
  {
   "cell_type": "markdown",
   "id": "93dc8954",
   "metadata": {
    "papermill": {
     "duration": 0.02566,
     "end_time": "2023-11-12T13:46:40.315850",
     "exception": false,
     "start_time": "2023-11-12T13:46:40.290190",
     "status": "completed"
    },
    "tags": []
   },
   "source": [
    "И посмотрим насколько ещё уменьшился занимаемый объём памяти каждого из датасетов"
   ]
  },
  {
   "cell_type": "code",
   "execution_count": 26,
   "id": "9a956f1c",
   "metadata": {
    "execution": {
     "iopub.execute_input": "2023-11-12T13:46:40.368424Z",
     "iopub.status.busy": "2023-11-12T13:46:40.367522Z",
     "iopub.status.idle": "2023-11-12T13:46:40.394835Z",
     "shell.execute_reply": "2023-11-12T13:46:40.393566Z"
    },
    "papermill": {
     "duration": 0.055835,
     "end_time": "2023-11-12T13:46:40.396980",
     "exception": false,
     "start_time": "2023-11-12T13:46:40.341145",
     "status": "completed"
    },
    "tags": []
   },
   "outputs": [
    {
     "name": "stdout",
     "output_type": "stream",
     "text": [
      "train_df memory usage: 477.58735275268555 Mb\n",
      "test_df memory usage: 409.29405784606934 Mb\n"
     ]
    }
   ],
   "source": [
    "print(f'train_df memory usage: {memory_usage(train_df)} Mb')\n",
    "print(f'test_df memory usage: {memory_usage(test_df)} Mb')"
   ]
  },
  {
   "cell_type": "markdown",
   "id": "66bfff29",
   "metadata": {
    "papermill": {
     "duration": 0.024953,
     "end_time": "2023-11-12T13:46:40.447753",
     "exception": false,
     "start_time": "2023-11-12T13:46:40.422800",
     "status": "completed"
    },
    "tags": []
   },
   "source": [
    "### Разделим обучающую выборку на обучение и тест"
   ]
  },
  {
   "cell_type": "markdown",
   "id": "c1c6d71c",
   "metadata": {
    "papermill": {
     "duration": 0.024964,
     "end_time": "2023-11-12T13:46:40.498995",
     "exception": false,
     "start_time": "2023-11-12T13:46:40.474031",
     "status": "completed"
    },
    "tags": []
   },
   "source": [
    "Отделим данные от целевой переменной"
   ]
  },
  {
   "cell_type": "code",
   "execution_count": 27,
   "id": "beb037f4",
   "metadata": {
    "execution": {
     "iopub.execute_input": "2023-11-12T13:46:40.550958Z",
     "iopub.status.busy": "2023-11-12T13:46:40.550604Z",
     "iopub.status.idle": "2023-11-12T13:46:40.974273Z",
     "shell.execute_reply": "2023-11-12T13:46:40.973195Z"
    },
    "papermill": {
     "duration": 0.452732,
     "end_time": "2023-11-12T13:46:40.976819",
     "exception": false,
     "start_time": "2023-11-12T13:46:40.524087",
     "status": "completed"
    },
    "tags": []
   },
   "outputs": [],
   "source": [
    "X = train_df.drop(columns='isFraud')\n",
    "y = train_df['isFraud']"
   ]
  },
  {
   "cell_type": "code",
   "execution_count": 28,
   "id": "e9b1ea8d",
   "metadata": {
    "execution": {
     "iopub.execute_input": "2023-11-12T13:46:41.030709Z",
     "iopub.status.busy": "2023-11-12T13:46:41.029901Z",
     "iopub.status.idle": "2023-11-12T13:46:41.037794Z",
     "shell.execute_reply": "2023-11-12T13:46:41.036741Z"
    },
    "papermill": {
     "duration": 0.036897,
     "end_time": "2023-11-12T13:46:41.039619",
     "exception": false,
     "start_time": "2023-11-12T13:46:41.002722",
     "status": "completed"
    },
    "tags": []
   },
   "outputs": [
    {
     "data": {
      "text/plain": [
       "0         0\n",
       "1         0\n",
       "2         0\n",
       "3         0\n",
       "4         0\n",
       "         ..\n",
       "590535    0\n",
       "590536    0\n",
       "590537    0\n",
       "590538    0\n",
       "590539    0\n",
       "Name: isFraud, Length: 590540, dtype: uint8"
      ]
     },
     "execution_count": 28,
     "metadata": {},
     "output_type": "execute_result"
    }
   ],
   "source": [
    "y"
   ]
  },
  {
   "cell_type": "markdown",
   "id": "f67a499b",
   "metadata": {
    "papermill": {
     "duration": 0.024935,
     "end_time": "2023-11-12T13:46:41.090286",
     "exception": false,
     "start_time": "2023-11-12T13:46:41.065351",
     "status": "completed"
    },
    "tags": []
   },
   "source": [
    "Разделим обучающую выборку в процентном соотношении:\n",
    "- train - ```70%```\n",
    "- test - ```30%```"
   ]
  },
  {
   "cell_type": "code",
   "execution_count": 29,
   "id": "dc946028",
   "metadata": {
    "execution": {
     "iopub.execute_input": "2023-11-12T13:46:41.143413Z",
     "iopub.status.busy": "2023-11-12T13:46:41.142809Z",
     "iopub.status.idle": "2023-11-12T13:46:42.518648Z",
     "shell.execute_reply": "2023-11-12T13:46:42.517528Z"
    },
    "papermill": {
     "duration": 1.405155,
     "end_time": "2023-11-12T13:46:42.521088",
     "exception": false,
     "start_time": "2023-11-12T13:46:41.115933",
     "status": "completed"
    },
    "tags": []
   },
   "outputs": [],
   "source": [
    "X_train, X_valid, y_train, y_valid = train_test_split(X, y, stratify=y, test_size=0.3)"
   ]
  },
  {
   "cell_type": "code",
   "execution_count": 30,
   "id": "f5eb6c12",
   "metadata": {
    "execution": {
     "iopub.execute_input": "2023-11-12T13:46:42.573711Z",
     "iopub.status.busy": "2023-11-12T13:46:42.573325Z",
     "iopub.status.idle": "2023-11-12T13:46:42.579523Z",
     "shell.execute_reply": "2023-11-12T13:46:42.578594Z"
    },
    "papermill": {
     "duration": 0.034706,
     "end_time": "2023-11-12T13:46:42.581528",
     "exception": false,
     "start_time": "2023-11-12T13:46:42.546822",
     "status": "completed"
    },
    "tags": []
   },
   "outputs": [
    {
     "data": {
      "text/plain": [
       "(413378, 219)"
      ]
     },
     "execution_count": 30,
     "metadata": {},
     "output_type": "execute_result"
    }
   ],
   "source": [
    "X_train.shape"
   ]
  },
  {
   "cell_type": "code",
   "execution_count": 31,
   "id": "194a64e7",
   "metadata": {
    "execution": {
     "iopub.execute_input": "2023-11-12T13:46:42.634761Z",
     "iopub.status.busy": "2023-11-12T13:46:42.634031Z",
     "iopub.status.idle": "2023-11-12T13:46:42.640544Z",
     "shell.execute_reply": "2023-11-12T13:46:42.639496Z"
    },
    "papermill": {
     "duration": 0.035097,
     "end_time": "2023-11-12T13:46:42.642540",
     "exception": false,
     "start_time": "2023-11-12T13:46:42.607443",
     "status": "completed"
    },
    "tags": []
   },
   "outputs": [
    {
     "data": {
      "text/plain": [
       "(413378,)"
      ]
     },
     "execution_count": 31,
     "metadata": {},
     "output_type": "execute_result"
    }
   ],
   "source": [
    "y_train.shape"
   ]
  },
  {
   "cell_type": "code",
   "execution_count": 32,
   "id": "bbe6ee90",
   "metadata": {
    "execution": {
     "iopub.execute_input": "2023-11-12T13:46:42.695886Z",
     "iopub.status.busy": "2023-11-12T13:46:42.695257Z",
     "iopub.status.idle": "2023-11-12T13:46:42.701173Z",
     "shell.execute_reply": "2023-11-12T13:46:42.700388Z"
    },
    "papermill": {
     "duration": 0.034738,
     "end_time": "2023-11-12T13:46:42.703087",
     "exception": false,
     "start_time": "2023-11-12T13:46:42.668349",
     "status": "completed"
    },
    "tags": []
   },
   "outputs": [
    {
     "data": {
      "text/plain": [
       "(177162, 219)"
      ]
     },
     "execution_count": 32,
     "metadata": {},
     "output_type": "execute_result"
    }
   ],
   "source": [
    "X_valid.shape"
   ]
  },
  {
   "cell_type": "code",
   "execution_count": 33,
   "id": "02f4e699",
   "metadata": {
    "execution": {
     "iopub.execute_input": "2023-11-12T13:46:42.757195Z",
     "iopub.status.busy": "2023-11-12T13:46:42.756585Z",
     "iopub.status.idle": "2023-11-12T13:46:42.762534Z",
     "shell.execute_reply": "2023-11-12T13:46:42.761705Z"
    },
    "papermill": {
     "duration": 0.035043,
     "end_time": "2023-11-12T13:46:42.764410",
     "exception": false,
     "start_time": "2023-11-12T13:46:42.729367",
     "status": "completed"
    },
    "tags": []
   },
   "outputs": [
    {
     "data": {
      "text/plain": [
       "(177162,)"
      ]
     },
     "execution_count": 33,
     "metadata": {},
     "output_type": "execute_result"
    }
   ],
   "source": [
    "y_valid.shape"
   ]
  },
  {
   "cell_type": "markdown",
   "id": "0119f281",
   "metadata": {
    "papermill": {
     "duration": 0.025251,
     "end_time": "2023-11-12T13:46:42.815299",
     "exception": false,
     "start_time": "2023-11-12T13:46:42.790048",
     "status": "completed"
    },
    "tags": []
   },
   "source": [
    "### Посмотрим на распределения признаков до заполнения пропусков"
   ]
  },
  {
   "cell_type": "markdown",
   "id": "335579b8",
   "metadata": {
    "papermill": {
     "duration": 0.025444,
     "end_time": "2023-11-12T13:46:42.866949",
     "exception": false,
     "start_time": "2023-11-12T13:46:42.841505",
     "status": "completed"
    },
    "tags": []
   },
   "source": [
    "#### Посмотрим на распределение целевой переменной ```isFraud```"
   ]
  },
  {
   "cell_type": "code",
   "execution_count": 34,
   "id": "425a45dc",
   "metadata": {
    "execution": {
     "iopub.execute_input": "2023-11-12T13:46:42.920368Z",
     "iopub.status.busy": "2023-11-12T13:46:42.919749Z",
     "iopub.status.idle": "2023-11-12T13:46:43.377333Z",
     "shell.execute_reply": "2023-11-12T13:46:43.376187Z"
    },
    "papermill": {
     "duration": 0.48698,
     "end_time": "2023-11-12T13:46:43.379566",
     "exception": false,
     "start_time": "2023-11-12T13:46:42.892586",
     "status": "completed"
    },
    "tags": []
   },
   "outputs": [
    {
     "data": {
      "text/plain": [
       "<matplotlib.legend.Legend at 0x7b4c354eea70>"
      ]
     },
     "execution_count": 34,
     "metadata": {},
     "output_type": "execute_result"
    },
    {
     "data": {
      "image/png": "[encoded data removed]",
      "text/plain": [
       "<Figure size 640x480 with 1 Axes>"
      ]
     },
     "metadata": {},
     "output_type": "display_data"
    }
   ],
   "source": [
    "sns.set()\n",
    "plt.hist(y_train, label='train')\n",
    "plt.hist(y_valid, label='test')\n",
    "plt.legend()"
   ]
  },
  {
   "cell_type": "code",
   "execution_count": 35,
   "id": "82d9b3c9",
   "metadata": {
    "execution": {
     "iopub.execute_input": "2023-11-12T13:46:43.434716Z",
     "iopub.status.busy": "2023-11-12T13:46:43.433955Z",
     "iopub.status.idle": "2023-11-12T13:46:43.452932Z",
     "shell.execute_reply": "2023-11-12T13:46:43.452223Z"
    },
    "papermill": {
     "duration": 0.048616,
     "end_time": "2023-11-12T13:46:43.454708",
     "exception": false,
     "start_time": "2023-11-12T13:46:43.406092",
     "status": "completed"
    },
    "tags": []
   },
   "outputs": [
    {
     "data": {
      "text/html": [
       "<div>\n",
       "<style scoped>\n",
       "    .dataframe tbody tr th:only-of-type {\n",
       "        vertical-align: middle;\n",
       "    }\n",
       "\n",
       "    .dataframe tbody tr th {\n",
       "        vertical-align: top;\n",
       "    }\n",
       "\n",
       "    .dataframe thead th {\n",
       "        text-align: right;\n",
       "    }\n",
       "</style>\n",
       "<table border=\"1\" class=\"dataframe\">\n",
       "  <thead>\n",
       "    <tr style=\"text-align: right;\">\n",
       "      <th></th>\n",
       "      <th>Count</th>\n",
       "      <th>Percent</th>\n",
       "    </tr>\n",
       "    <tr>\n",
       "      <th>isFraud</th>\n",
       "      <th></th>\n",
       "      <th></th>\n",
       "    </tr>\n",
       "  </thead>\n",
       "  <tbody>\n",
       "    <tr>\n",
       "      <th>0</th>\n",
       "      <td>398914</td>\n",
       "      <td>0.96501</td>\n",
       "    </tr>\n",
       "    <tr>\n",
       "      <th>1</th>\n",
       "      <td>14464</td>\n",
       "      <td>0.03499</td>\n",
       "    </tr>\n",
       "  </tbody>\n",
       "</table>\n",
       "</div>"
      ],
      "text/plain": [
       "          Count  Percent\n",
       "isFraud                 \n",
       "0        398914  0.96501\n",
       "1         14464  0.03499"
      ]
     },
     "execution_count": 35,
     "metadata": {},
     "output_type": "execute_result"
    }
   ],
   "source": [
    "isFraud_count = y_train.value_counts()\n",
    "isFraud_prct = y_train.value_counts()/len(y_train)\n",
    "\n",
    "pd.concat([isFraud_count, isFraud_prct], axis=1, keys=['Count', 'Percent'])"
   ]
  },
  {
   "cell_type": "code",
   "execution_count": 36,
   "id": "36124b3f",
   "metadata": {
    "execution": {
     "iopub.execute_input": "2023-11-12T13:46:43.510577Z",
     "iopub.status.busy": "2023-11-12T13:46:43.510113Z",
     "iopub.status.idle": "2023-11-12T13:46:43.525452Z",
     "shell.execute_reply": "2023-11-12T13:46:43.524485Z"
    },
    "papermill": {
     "duration": 0.044991,
     "end_time": "2023-11-12T13:46:43.527440",
     "exception": false,
     "start_time": "2023-11-12T13:46:43.482449",
     "status": "completed"
    },
    "tags": []
   },
   "outputs": [
    {
     "data": {
      "text/html": [
       "<div>\n",
       "<style scoped>\n",
       "    .dataframe tbody tr th:only-of-type {\n",
       "        vertical-align: middle;\n",
       "    }\n",
       "\n",
       "    .dataframe tbody tr th {\n",
       "        vertical-align: top;\n",
       "    }\n",
       "\n",
       "    .dataframe thead th {\n",
       "        text-align: right;\n",
       "    }\n",
       "</style>\n",
       "<table border=\"1\" class=\"dataframe\">\n",
       "  <thead>\n",
       "    <tr style=\"text-align: right;\">\n",
       "      <th></th>\n",
       "      <th>Count</th>\n",
       "      <th>Percent</th>\n",
       "    </tr>\n",
       "    <tr>\n",
       "      <th>isFraud</th>\n",
       "      <th></th>\n",
       "      <th></th>\n",
       "    </tr>\n",
       "  </thead>\n",
       "  <tbody>\n",
       "    <tr>\n",
       "      <th>0</th>\n",
       "      <td>170963</td>\n",
       "      <td>0.965009</td>\n",
       "    </tr>\n",
       "    <tr>\n",
       "      <th>1</th>\n",
       "      <td>6199</td>\n",
       "      <td>0.034991</td>\n",
       "    </tr>\n",
       "  </tbody>\n",
       "</table>\n",
       "</div>"
      ],
      "text/plain": [
       "          Count   Percent\n",
       "isFraud                  \n",
       "0        170963  0.965009\n",
       "1          6199  0.034991"
      ]
     },
     "execution_count": 36,
     "metadata": {},
     "output_type": "execute_result"
    }
   ],
   "source": [
    "isFraud_count = y_valid.value_counts()\n",
    "isFraud_prct = y_valid.value_counts()/len(y_valid)\n",
    "\n",
    "pd.concat([isFraud_count, isFraud_prct], axis=1, keys=['Count', 'Percent'])"
   ]
  },
  {
   "cell_type": "markdown",
   "id": "9c8a07d2",
   "metadata": {
    "papermill": {
     "duration": 0.026429,
     "end_time": "2023-11-12T13:46:43.580820",
     "exception": false,
     "start_time": "2023-11-12T13:46:43.554391",
     "status": "completed"
    },
    "tags": []
   },
   "source": [
    "Видим, что данные не сбалансированы:\n",
    "\n",
    "- ```96,5 %``` транзакций - валидны\n",
    "\n",
    "- ```3,5 %``` транзакций - мошеннические\n",
    "\n",
    "Подумаем о решении вопроса дисбаланса в данных. Исследуем другие признаки."
   ]
  },
  {
   "cell_type": "markdown",
   "id": "f8f60296",
   "metadata": {
    "papermill": {
     "duration": 0.026618,
     "end_time": "2023-11-12T13:46:43.634715",
     "exception": false,
     "start_time": "2023-11-12T13:46:43.608097",
     "status": "completed"
    },
    "tags": []
   },
   "source": [
    "Напишем функцию для построения распределений признаков"
   ]
  },
  {
   "cell_type": "code",
   "execution_count": 37,
   "id": "28342a86",
   "metadata": {
    "execution": {
     "iopub.execute_input": "2023-11-12T13:46:43.690006Z",
     "iopub.status.busy": "2023-11-12T13:46:43.689154Z",
     "iopub.status.idle": "2023-11-12T13:46:43.697896Z",
     "shell.execute_reply": "2023-11-12T13:46:43.696902Z"
    },
    "papermill": {
     "duration": 0.03861,
     "end_time": "2023-11-12T13:46:43.699834",
     "exception": false,
     "start_time": "2023-11-12T13:46:43.661224",
     "status": "completed"
    },
    "tags": []
   },
   "outputs": [],
   "source": [
    "colors = ['#1f77b4', '#ff7f0e', '#2ca02c', '#d62728', '#9467bd',\n",
    "          '#8c564b', '#e377c2', '#7f7f7f', '#bcbd22', '#17becf']\n",
    "\n",
    "def plot_value_counts(feature, title, df):\n",
    "    ax = df[feature].value_counts().plot(kind='bar',\n",
    "                                            figsize=(7,5),\n",
    "                                            xlabel=title,\n",
    "                                            ylabel='count',\n",
    "                                            edgecolor='k',\n",
    "                                            color=colors)\n",
    "    ax.set_title(f'Percentage of {title}')\n",
    "    counts = df[feature].value_counts()/len(df)\n",
    "    \n",
    "    rects = ax.patches\n",
    "    labels_arr = ['{0:.2f}%'.format(count*100) for count in counts]\n",
    "    \n",
    "    if (len(labels_arr) > 2):\n",
    "        plt.xticks(rotation=0, size=8)\n",
    "        \n",
    "    for rect, label in zip(rects, labels_arr):\n",
    "        height = rect.get_height()\n",
    "        ax.text(\n",
    "            rect.get_x() + rect.get_width() / 2, height, label, ha='center', va='bottom'\n",
    "        )\n",
    "    \n",
    "    plt.show()"
   ]
  },
  {
   "cell_type": "markdown",
   "id": "1be45d44",
   "metadata": {
    "papermill": {
     "duration": 0.026103,
     "end_time": "2023-11-12T13:46:43.753041",
     "exception": false,
     "start_time": "2023-11-12T13:46:43.726938",
     "status": "completed"
    },
    "tags": []
   },
   "source": [
    "#### Распределение ```Card 4``` (компания карты)"
   ]
  },
  {
   "cell_type": "code",
   "execution_count": 38,
   "id": "954a6cf6",
   "metadata": {
    "execution": {
     "iopub.execute_input": "2023-11-12T13:46:43.808027Z",
     "iopub.status.busy": "2023-11-12T13:46:43.807360Z",
     "iopub.status.idle": "2023-11-12T13:46:44.095202Z",
     "shell.execute_reply": "2023-11-12T13:46:44.094194Z"
    },
    "papermill": {
     "duration": 0.317837,
     "end_time": "2023-11-12T13:46:44.097332",
     "exception": false,
     "start_time": "2023-11-12T13:46:43.779495",
     "status": "completed"
    },
    "tags": []
   },
   "outputs": [
    {
     "data": {
      "image/png": "[encoded data removed]",
      "text/plain": [
       "<Figure size 700x500 with 1 Axes>"
      ]
     },
     "metadata": {},
     "output_type": "display_data"
    }
   ],
   "source": [
    "plot_value_counts('card4', 'train: card4', df=X_train)"
   ]
  },
  {
   "cell_type": "markdown",
   "id": "c15ec000",
   "metadata": {
    "papermill": {
     "duration": 0.027755,
     "end_time": "2023-11-12T13:46:44.152779",
     "exception": false,
     "start_time": "2023-11-12T13:46:44.125024",
     "status": "completed"
    },
    "tags": []
   },
   "source": [
    "Видим, что:\n",
    "\n",
    "- ```65,34 %``` - карт компании 'visa'\n",
    "- ```31,61 %``` - 'mastercard'\n",
    "- ```1,68 %```  - 'american express'\n",
    "- ```1,16 %```  - 'discover'"
   ]
  },
  {
   "cell_type": "code",
   "execution_count": 39,
   "id": "719854be",
   "metadata": {
    "execution": {
     "iopub.execute_input": "2023-11-12T13:46:44.209474Z",
     "iopub.status.busy": "2023-11-12T13:46:44.209075Z",
     "iopub.status.idle": "2023-11-12T13:46:44.596293Z",
     "shell.execute_reply": "2023-11-12T13:46:44.595522Z"
    },
    "papermill": {
     "duration": 0.417734,
     "end_time": "2023-11-12T13:46:44.598263",
     "exception": false,
     "start_time": "2023-11-12T13:46:44.180529",
     "status": "completed"
    },
    "tags": []
   },
   "outputs": [
    {
     "data": {
      "image/png": "[encoded data removed]",
      "text/plain": [
       "<Figure size 700x500 with 1 Axes>"
      ]
     },
     "metadata": {},
     "output_type": "display_data"
    }
   ],
   "source": [
    "plot_value_counts('card4', 'test: card4', df=X_valid)"
   ]
  },
  {
   "cell_type": "markdown",
   "id": "2d34a314",
   "metadata": {
    "papermill": {
     "duration": 0.027849,
     "end_time": "2023-11-12T13:46:44.654293",
     "exception": false,
     "start_time": "2023-11-12T13:46:44.626444",
     "status": "completed"
    },
    "tags": []
   },
   "source": [
    "#### Распределение ```Card 6``` - тип карты"
   ]
  },
  {
   "cell_type": "code",
   "execution_count": 40,
   "id": "70ea0f0b",
   "metadata": {
    "execution": {
     "iopub.execute_input": "2023-11-12T13:46:44.711887Z",
     "iopub.status.busy": "2023-11-12T13:46:44.711502Z",
     "iopub.status.idle": "2023-11-12T13:46:44.990352Z",
     "shell.execute_reply": "2023-11-12T13:46:44.989562Z"
    },
    "papermill": {
     "duration": 0.309965,
     "end_time": "2023-11-12T13:46:44.992372",
     "exception": false,
     "start_time": "2023-11-12T13:46:44.682407",
     "status": "completed"
    },
    "tags": []
   },
   "outputs": [
    {
     "data": {
      "image/png": "[encoded data removed]",
      "text/plain": [
       "<Figure size 700x500 with 1 Axes>"
      ]
     },
     "metadata": {},
     "output_type": "display_data"
    }
   ],
   "source": [
    "plot_value_counts('card6', 'train: card6', df=X_train)"
   ]
  },
  {
   "cell_type": "markdown",
   "id": "fce0181b",
   "metadata": {
    "papermill": {
     "duration": 0.02831,
     "end_time": "2023-11-12T13:46:45.050067",
     "exception": false,
     "start_time": "2023-11-12T13:46:45.021757",
     "status": "completed"
    },
    "tags": []
   },
   "source": [
    "Большая часть транзакций произведена дебетовыми картами - ```73,17 %```, ```26,61 %``` - кредитными картами. Транзакций с ```charge``` карт нет"
   ]
  },
  {
   "cell_type": "code",
   "execution_count": 41,
   "id": "69a2e6e2",
   "metadata": {
    "execution": {
     "iopub.execute_input": "2023-11-12T13:46:45.109398Z",
     "iopub.status.busy": "2023-11-12T13:46:45.108396Z",
     "iopub.status.idle": "2023-11-12T13:46:45.386385Z",
     "shell.execute_reply": "2023-11-12T13:46:45.385356Z"
    },
    "papermill": {
     "duration": 0.309871,
     "end_time": "2023-11-12T13:46:45.388485",
     "exception": false,
     "start_time": "2023-11-12T13:46:45.078614",
     "status": "completed"
    },
    "tags": []
   },
   "outputs": [
    {
     "data": {
      "image/png": "[encoded data removed]",
      "text/plain": [
       "<Figure size 700x500 with 1 Axes>"
      ]
     },
     "metadata": {},
     "output_type": "display_data"
    }
   ],
   "source": [
    "plot_value_counts('card6', 'test: card6', df=X_valid)"
   ]
  },
  {
   "cell_type": "markdown",
   "id": "7ef96d46",
   "metadata": {
    "papermill": {
     "duration": 0.028782,
     "end_time": "2023-11-12T13:46:45.446591",
     "exception": false,
     "start_time": "2023-11-12T13:46:45.417809",
     "status": "completed"
    },
    "tags": []
   },
   "source": [
    "#### Посмотрим на распределение транзакций в разрезе компаний, выпустивших карты"
   ]
  },
  {
   "cell_type": "markdown",
   "id": "efd67d06",
   "metadata": {
    "papermill": {
     "duration": 0.030527,
     "end_time": "2023-11-12T13:46:45.505893",
     "exception": false,
     "start_time": "2023-11-12T13:46:45.475366",
     "status": "completed"
    },
    "tags": []
   },
   "source": [
    "Напишем функцию для визуализации распределения транзакций в разрезе какого-либо признака"
   ]
  },
  {
   "cell_type": "code",
   "execution_count": 42,
   "id": "9331ec20",
   "metadata": {
    "execution": {
     "iopub.execute_input": "2023-11-12T13:46:45.566078Z",
     "iopub.status.busy": "2023-11-12T13:46:45.565693Z",
     "iopub.status.idle": "2023-11-12T13:46:45.571189Z",
     "shell.execute_reply": "2023-11-12T13:46:45.570213Z"
    },
    "papermill": {
     "duration": 0.037991,
     "end_time": "2023-11-12T13:46:45.573020",
     "exception": false,
     "start_time": "2023-11-12T13:46:45.535029",
     "status": "completed"
    },
    "tags": []
   },
   "outputs": [],
   "source": [
    "def isFraud_by_feature(feature, df, title):\n",
    "    sns.barplot(x=feature, y='isFraud', data=df)\n",
    "    plt.xlabel(feature)\n",
    "    plt.ylabel('isFraud')\n",
    "    plt.title('Fraudulent Transactions by {}'.format(title))\n",
    "    plt.show()"
   ]
  },
  {
   "cell_type": "code",
   "execution_count": 43,
   "id": "e967706a",
   "metadata": {
    "execution": {
     "iopub.execute_input": "2023-11-12T13:46:45.633014Z",
     "iopub.status.busy": "2023-11-12T13:46:45.632343Z",
     "iopub.status.idle": "2023-11-12T13:46:52.792096Z",
     "shell.execute_reply": "2023-11-12T13:46:52.791006Z"
    },
    "papermill": {
     "duration": 7.192298,
     "end_time": "2023-11-12T13:46:52.794447",
     "exception": false,
     "start_time": "2023-11-12T13:46:45.602149",
     "status": "completed"
    },
    "tags": []
   },
   "outputs": [
    {
     "data": {
      "image/png": "[encoded data removed]",
      "text/plain": [
       "<Figure size 640x480 with 1 Axes>"
      ]
     },
     "metadata": {},
     "output_type": "display_data"
    }
   ],
   "source": [
    "isFraud_by_feature('card4', df=train_df, title='Card Company')"
   ]
  },
  {
   "cell_type": "markdown",
   "id": "47ebd711",
   "metadata": {
    "papermill": {
     "duration": 0.029047,
     "end_time": "2023-11-12T13:46:52.853176",
     "exception": false,
     "start_time": "2023-11-12T13:46:52.824129",
     "status": "completed"
    },
    "tags": []
   },
   "source": [
    "Большинство операций произведено с карт ```discover```"
   ]
  },
  {
   "cell_type": "markdown",
   "id": "231290e9",
   "metadata": {
    "papermill": {
     "duration": 0.029003,
     "end_time": "2023-11-12T13:46:52.911499",
     "exception": false,
     "start_time": "2023-11-12T13:46:52.882496",
     "status": "completed"
    },
    "tags": []
   },
   "source": [
    "#### Распределение транзакций в разрезе типа карты"
   ]
  },
  {
   "cell_type": "code",
   "execution_count": 44,
   "id": "89043e76",
   "metadata": {
    "execution": {
     "iopub.execute_input": "2023-11-12T13:46:52.971470Z",
     "iopub.status.busy": "2023-11-12T13:46:52.971076Z",
     "iopub.status.idle": "2023-11-12T13:47:00.124106Z",
     "shell.execute_reply": "2023-11-12T13:47:00.123238Z"
    },
    "papermill": {
     "duration": 7.185334,
     "end_time": "2023-11-12T13:47:00.126140",
     "exception": false,
     "start_time": "2023-11-12T13:46:52.940806",
     "status": "completed"
    },
    "tags": []
   },
   "outputs": [
    {
     "data": {
      "image/png": "[encoded data removed]",
      "text/plain": [
       "<Figure size 640x480 with 1 Axes>"
      ]
     },
     "metadata": {},
     "output_type": "display_data"
    }
   ],
   "source": [
    "isFraud_by_feature('card6', df=train_df, title='Card Type')"
   ]
  },
  {
   "cell_type": "markdown",
   "id": "3f1f1e1e",
   "metadata": {
    "papermill": {
     "duration": 0.030293,
     "end_time": "2023-11-12T13:47:00.186779",
     "exception": false,
     "start_time": "2023-11-12T13:47:00.156486",
     "status": "completed"
    },
    "tags": []
   },
   "source": [
    "Несмотря на то, что кредитные карты занимают ```25,23 %``` от всего объема данных, с них произведена большая часть транзакций"
   ]
  },
  {
   "cell_type": "markdown",
   "id": "88510267",
   "metadata": {
    "papermill": {
     "duration": 0.029455,
     "end_time": "2023-11-12T13:47:00.246183",
     "exception": false,
     "start_time": "2023-11-12T13:47:00.216728",
     "status": "completed"
    },
    "tags": []
   },
   "source": [
    "### Посмотрим, есть ли в данных дубликаты"
   ]
  },
  {
   "cell_type": "code",
   "execution_count": 45,
   "id": "cede4c83",
   "metadata": {
    "execution": {
     "iopub.execute_input": "2023-11-12T13:47:00.309753Z",
     "iopub.status.busy": "2023-11-12T13:47:00.308891Z",
     "iopub.status.idle": "2023-11-12T13:47:03.172128Z",
     "shell.execute_reply": "2023-11-12T13:47:03.171183Z"
    },
    "papermill": {
     "duration": 2.898317,
     "end_time": "2023-11-12T13:47:03.174405",
     "exception": false,
     "start_time": "2023-11-12T13:47:00.276088",
     "status": "completed"
    },
    "tags": []
   },
   "outputs": [
    {
     "data": {
      "text/plain": [
       "0"
      ]
     },
     "execution_count": 45,
     "metadata": {},
     "output_type": "execute_result"
    }
   ],
   "source": [
    "X_train.duplicated().sum()"
   ]
  },
  {
   "cell_type": "code",
   "execution_count": 46,
   "id": "ea41ecef",
   "metadata": {
    "execution": {
     "iopub.execute_input": "2023-11-12T13:47:03.236663Z",
     "iopub.status.busy": "2023-11-12T13:47:03.236267Z",
     "iopub.status.idle": "2023-11-12T13:47:04.129823Z",
     "shell.execute_reply": "2023-11-12T13:47:04.129053Z"
    },
    "papermill": {
     "duration": 0.926626,
     "end_time": "2023-11-12T13:47:04.131755",
     "exception": false,
     "start_time": "2023-11-12T13:47:03.205129",
     "status": "completed"
    },
    "tags": []
   },
   "outputs": [
    {
     "data": {
      "text/plain": [
       "0"
      ]
     },
     "execution_count": 46,
     "metadata": {},
     "output_type": "execute_result"
    }
   ],
   "source": [
    "X_valid.duplicated().sum()"
   ]
  },
  {
   "cell_type": "markdown",
   "id": "c843e00b",
   "metadata": {
    "papermill": {
     "duration": 0.029893,
     "end_time": "2023-11-12T13:47:04.192767",
     "exception": false,
     "start_time": "2023-11-12T13:47:04.162874",
     "status": "completed"
    },
    "tags": []
   },
   "source": [
    "### Преобразуем категориальные признаки в числа"
   ]
  },
  {
   "cell_type": "code",
   "execution_count": 47,
   "id": "309722cd",
   "metadata": {
    "execution": {
     "iopub.execute_input": "2023-11-12T13:47:04.254829Z",
     "iopub.status.busy": "2023-11-12T13:47:04.254122Z",
     "iopub.status.idle": "2023-11-12T13:47:04.266003Z",
     "shell.execute_reply": "2023-11-12T13:47:04.264927Z"
    },
    "papermill": {
     "duration": 0.045248,
     "end_time": "2023-11-12T13:47:04.267989",
     "exception": false,
     "start_time": "2023-11-12T13:47:04.222741",
     "status": "completed"
    },
    "tags": []
   },
   "outputs": [
    {
     "name": "stdout",
     "output_type": "stream",
     "text": [
      "<class 'pandas.core.frame.DataFrame'>\n",
      "Index: 413378 entries, 266381 to 317434\n",
      "Columns: 219 entries, TransactionID to V321\n",
      "dtypes: category(9), float32(207), uint16(1), uint32(2)\n",
      "memory usage: 337.1 MB\n"
     ]
    }
   ],
   "source": [
    "X_train.info()"
   ]
  },
  {
   "cell_type": "code",
   "execution_count": 48,
   "id": "636f527d",
   "metadata": {
    "execution": {
     "iopub.execute_input": "2023-11-12T13:47:04.331338Z",
     "iopub.status.busy": "2023-11-12T13:47:04.330712Z",
     "iopub.status.idle": "2023-11-12T13:47:10.295512Z",
     "shell.execute_reply": "2023-11-12T13:47:10.294435Z"
    },
    "papermill": {
     "duration": 5.999587,
     "end_time": "2023-11-12T13:47:10.298083",
     "exception": false,
     "start_time": "2023-11-12T13:47:04.298496",
     "status": "completed"
    },
    "tags": []
   },
   "outputs": [],
   "source": [
    "for f in X_train.columns:\n",
    "    if X_train.loc[:, f].dtype=='category':\n",
    "        le = LabelEncoder()\n",
    "        le.fit(list(X_train.loc[:, f].values))\n",
    "        X_train.loc[:, f] = le.transform(list(X_train.loc[:, f].values))"
   ]
  },
  {
   "cell_type": "code",
   "execution_count": 49,
   "id": "eb891290",
   "metadata": {
    "execution": {
     "iopub.execute_input": "2023-11-12T13:47:10.361747Z",
     "iopub.status.busy": "2023-11-12T13:47:10.361115Z",
     "iopub.status.idle": "2023-11-12T13:47:10.479113Z",
     "shell.execute_reply": "2023-11-12T13:47:10.478060Z"
    },
    "papermill": {
     "duration": 0.151993,
     "end_time": "2023-11-12T13:47:10.481159",
     "exception": false,
     "start_time": "2023-11-12T13:47:10.329166",
     "status": "completed"
    },
    "tags": []
   },
   "outputs": [
    {
     "data": {
      "text/html": [
       "<div>\n",
       "<style scoped>\n",
       "    .dataframe tbody tr th:only-of-type {\n",
       "        vertical-align: middle;\n",
       "    }\n",
       "\n",
       "    .dataframe tbody tr th {\n",
       "        vertical-align: top;\n",
       "    }\n",
       "\n",
       "    .dataframe thead th {\n",
       "        text-align: right;\n",
       "    }\n",
       "</style>\n",
       "<table border=\"1\" class=\"dataframe\">\n",
       "  <thead>\n",
       "    <tr style=\"text-align: right;\">\n",
       "      <th></th>\n",
       "      <th>TransactionID</th>\n",
       "      <th>TransactionDT</th>\n",
       "      <th>TransactionAmt</th>\n",
       "      <th>ProductCD</th>\n",
       "      <th>card1</th>\n",
       "      <th>card2</th>\n",
       "      <th>card3</th>\n",
       "      <th>card4</th>\n",
       "      <th>card5</th>\n",
       "      <th>card6</th>\n",
       "      <th>...</th>\n",
       "      <th>V312</th>\n",
       "      <th>V313</th>\n",
       "      <th>V314</th>\n",
       "      <th>V315</th>\n",
       "      <th>V316</th>\n",
       "      <th>V317</th>\n",
       "      <th>V318</th>\n",
       "      <th>V319</th>\n",
       "      <th>V320</th>\n",
       "      <th>V321</th>\n",
       "    </tr>\n",
       "  </thead>\n",
       "  <tbody>\n",
       "    <tr>\n",
       "      <th>266381</th>\n",
       "      <td>3253381</td>\n",
       "      <td>6456381</td>\n",
       "      <td>365.000000</td>\n",
       "      <td>4</td>\n",
       "      <td>1893</td>\n",
       "      <td>514.0</td>\n",
       "      <td>150.0</td>\n",
       "      <td>2</td>\n",
       "      <td>224.0</td>\n",
       "      <td>1</td>\n",
       "      <td>...</td>\n",
       "      <td>0.0</td>\n",
       "      <td>0.0</td>\n",
       "      <td>0.0</td>\n",
       "      <td>0.0</td>\n",
       "      <td>0.0</td>\n",
       "      <td>0.0</td>\n",
       "      <td>0.0</td>\n",
       "      <td>0.0</td>\n",
       "      <td>0.0</td>\n",
       "      <td>0.0</td>\n",
       "    </tr>\n",
       "    <tr>\n",
       "      <th>242160</th>\n",
       "      <td>3229160</td>\n",
       "      <td>5735385</td>\n",
       "      <td>3080.969971</td>\n",
       "      <td>4</td>\n",
       "      <td>11207</td>\n",
       "      <td>361.0</td>\n",
       "      <td>150.0</td>\n",
       "      <td>4</td>\n",
       "      <td>226.0</td>\n",
       "      <td>2</td>\n",
       "      <td>...</td>\n",
       "      <td>0.0</td>\n",
       "      <td>0.0</td>\n",
       "      <td>0.0</td>\n",
       "      <td>0.0</td>\n",
       "      <td>0.0</td>\n",
       "      <td>0.0</td>\n",
       "      <td>0.0</td>\n",
       "      <td>0.0</td>\n",
       "      <td>0.0</td>\n",
       "      <td>0.0</td>\n",
       "    </tr>\n",
       "    <tr>\n",
       "      <th>13803</th>\n",
       "      <td>3000803</td>\n",
       "      <td>402672</td>\n",
       "      <td>75.000000</td>\n",
       "      <td>1</td>\n",
       "      <td>8908</td>\n",
       "      <td>583.0</td>\n",
       "      <td>150.0</td>\n",
       "      <td>4</td>\n",
       "      <td>226.0</td>\n",
       "      <td>1</td>\n",
       "      <td>...</td>\n",
       "      <td>0.0</td>\n",
       "      <td>0.0</td>\n",
       "      <td>0.0</td>\n",
       "      <td>0.0</td>\n",
       "      <td>75.0</td>\n",
       "      <td>75.0</td>\n",
       "      <td>75.0</td>\n",
       "      <td>75.0</td>\n",
       "      <td>75.0</td>\n",
       "      <td>75.0</td>\n",
       "    </tr>\n",
       "    <tr>\n",
       "      <th>135424</th>\n",
       "      <td>3122424</td>\n",
       "      <td>2731680</td>\n",
       "      <td>39.000000</td>\n",
       "      <td>4</td>\n",
       "      <td>7919</td>\n",
       "      <td>194.0</td>\n",
       "      <td>150.0</td>\n",
       "      <td>2</td>\n",
       "      <td>202.0</td>\n",
       "      <td>2</td>\n",
       "      <td>...</td>\n",
       "      <td>0.0</td>\n",
       "      <td>0.0</td>\n",
       "      <td>0.0</td>\n",
       "      <td>0.0</td>\n",
       "      <td>0.0</td>\n",
       "      <td>0.0</td>\n",
       "      <td>0.0</td>\n",
       "      <td>0.0</td>\n",
       "      <td>0.0</td>\n",
       "      <td>0.0</td>\n",
       "    </tr>\n",
       "    <tr>\n",
       "      <th>98374</th>\n",
       "      <td>3085374</td>\n",
       "      <td>1985221</td>\n",
       "      <td>100.000000</td>\n",
       "      <td>1</td>\n",
       "      <td>1043</td>\n",
       "      <td>399.0</td>\n",
       "      <td>150.0</td>\n",
       "      <td>0</td>\n",
       "      <td>146.0</td>\n",
       "      <td>1</td>\n",
       "      <td>...</td>\n",
       "      <td>0.0</td>\n",
       "      <td>0.0</td>\n",
       "      <td>0.0</td>\n",
       "      <td>0.0</td>\n",
       "      <td>0.0</td>\n",
       "      <td>0.0</td>\n",
       "      <td>0.0</td>\n",
       "      <td>0.0</td>\n",
       "      <td>0.0</td>\n",
       "      <td>0.0</td>\n",
       "    </tr>\n",
       "    <tr>\n",
       "      <th>...</th>\n",
       "      <td>...</td>\n",
       "      <td>...</td>\n",
       "      <td>...</td>\n",
       "      <td>...</td>\n",
       "      <td>...</td>\n",
       "      <td>...</td>\n",
       "      <td>...</td>\n",
       "      <td>...</td>\n",
       "      <td>...</td>\n",
       "      <td>...</td>\n",
       "      <td>...</td>\n",
       "      <td>...</td>\n",
       "      <td>...</td>\n",
       "      <td>...</td>\n",
       "      <td>...</td>\n",
       "      <td>...</td>\n",
       "      <td>...</td>\n",
       "      <td>...</td>\n",
       "      <td>...</td>\n",
       "      <td>...</td>\n",
       "      <td>...</td>\n",
       "    </tr>\n",
       "    <tr>\n",
       "      <th>53761</th>\n",
       "      <td>3040761</td>\n",
       "      <td>1269188</td>\n",
       "      <td>664.000000</td>\n",
       "      <td>4</td>\n",
       "      <td>10616</td>\n",
       "      <td>583.0</td>\n",
       "      <td>150.0</td>\n",
       "      <td>4</td>\n",
       "      <td>226.0</td>\n",
       "      <td>1</td>\n",
       "      <td>...</td>\n",
       "      <td>931.0</td>\n",
       "      <td>395.0</td>\n",
       "      <td>1326.0</td>\n",
       "      <td>395.0</td>\n",
       "      <td>664.0</td>\n",
       "      <td>664.0</td>\n",
       "      <td>664.0</td>\n",
       "      <td>0.0</td>\n",
       "      <td>417.5</td>\n",
       "      <td>0.0</td>\n",
       "    </tr>\n",
       "    <tr>\n",
       "      <th>23471</th>\n",
       "      <td>3010471</td>\n",
       "      <td>599531</td>\n",
       "      <td>59.000000</td>\n",
       "      <td>4</td>\n",
       "      <td>15497</td>\n",
       "      <td>490.0</td>\n",
       "      <td>150.0</td>\n",
       "      <td>4</td>\n",
       "      <td>226.0</td>\n",
       "      <td>2</td>\n",
       "      <td>...</td>\n",
       "      <td>0.0</td>\n",
       "      <td>0.0</td>\n",
       "      <td>0.0</td>\n",
       "      <td>0.0</td>\n",
       "      <td>0.0</td>\n",
       "      <td>0.0</td>\n",
       "      <td>0.0</td>\n",
       "      <td>59.0</td>\n",
       "      <td>59.0</td>\n",
       "      <td>59.0</td>\n",
       "    </tr>\n",
       "    <tr>\n",
       "      <th>445180</th>\n",
       "      <td>3432180</td>\n",
       "      <td>11318519</td>\n",
       "      <td>67.949997</td>\n",
       "      <td>4</td>\n",
       "      <td>15238</td>\n",
       "      <td>543.0</td>\n",
       "      <td>150.0</td>\n",
       "      <td>2</td>\n",
       "      <td>224.0</td>\n",
       "      <td>2</td>\n",
       "      <td>...</td>\n",
       "      <td>0.0</td>\n",
       "      <td>0.0</td>\n",
       "      <td>0.0</td>\n",
       "      <td>0.0</td>\n",
       "      <td>0.0</td>\n",
       "      <td>0.0</td>\n",
       "      <td>0.0</td>\n",
       "      <td>0.0</td>\n",
       "      <td>0.0</td>\n",
       "      <td>0.0</td>\n",
       "    </tr>\n",
       "    <tr>\n",
       "      <th>407369</th>\n",
       "      <td>3394369</td>\n",
       "      <td>10282735</td>\n",
       "      <td>58.970001</td>\n",
       "      <td>4</td>\n",
       "      <td>17009</td>\n",
       "      <td>111.0</td>\n",
       "      <td>150.0</td>\n",
       "      <td>4</td>\n",
       "      <td>195.0</td>\n",
       "      <td>2</td>\n",
       "      <td>...</td>\n",
       "      <td>0.0</td>\n",
       "      <td>0.0</td>\n",
       "      <td>0.0</td>\n",
       "      <td>0.0</td>\n",
       "      <td>0.0</td>\n",
       "      <td>0.0</td>\n",
       "      <td>0.0</td>\n",
       "      <td>0.0</td>\n",
       "      <td>0.0</td>\n",
       "      <td>0.0</td>\n",
       "    </tr>\n",
       "    <tr>\n",
       "      <th>317434</th>\n",
       "      <td>3304434</td>\n",
       "      <td>7913869</td>\n",
       "      <td>97.949997</td>\n",
       "      <td>4</td>\n",
       "      <td>10447</td>\n",
       "      <td>490.0</td>\n",
       "      <td>150.0</td>\n",
       "      <td>4</td>\n",
       "      <td>226.0</td>\n",
       "      <td>2</td>\n",
       "      <td>...</td>\n",
       "      <td>0.0</td>\n",
       "      <td>0.0</td>\n",
       "      <td>0.0</td>\n",
       "      <td>0.0</td>\n",
       "      <td>0.0</td>\n",
       "      <td>0.0</td>\n",
       "      <td>0.0</td>\n",
       "      <td>0.0</td>\n",
       "      <td>0.0</td>\n",
       "      <td>0.0</td>\n",
       "    </tr>\n",
       "  </tbody>\n",
       "</table>\n",
       "<p>413378 rows × 219 columns</p>\n",
       "</div>"
      ],
      "text/plain": [
       "        TransactionID  TransactionDT  TransactionAmt  ProductCD  card1  card2  \\\n",
       "266381        3253381        6456381      365.000000          4   1893  514.0   \n",
       "242160        3229160        5735385     3080.969971          4  11207  361.0   \n",
       "13803         3000803         402672       75.000000          1   8908  583.0   \n",
       "135424        3122424        2731680       39.000000          4   7919  194.0   \n",
       "98374         3085374        1985221      100.000000          1   1043  399.0   \n",
       "...               ...            ...             ...        ...    ...    ...   \n",
       "53761         3040761        1269188      664.000000          4  10616  583.0   \n",
       "23471         3010471         599531       59.000000          4  15497  490.0   \n",
       "445180        3432180       11318519       67.949997          4  15238  543.0   \n",
       "407369        3394369       10282735       58.970001          4  17009  111.0   \n",
       "317434        3304434        7913869       97.949997          4  10447  490.0   \n",
       "\n",
       "        card3  card4  card5  card6  ...   V312   V313    V314   V315   V316  \\\n",
       "266381  150.0      2  224.0      1  ...    0.0    0.0     0.0    0.0    0.0   \n",
       "242160  150.0      4  226.0      2  ...    0.0    0.0     0.0    0.0    0.0   \n",
       "13803   150.0      4  226.0      1  ...    0.0    0.0     0.0    0.0   75.0   \n",
       "135424  150.0      2  202.0      2  ...    0.0    0.0     0.0    0.0    0.0   \n",
       "98374   150.0      0  146.0      1  ...    0.0    0.0     0.0    0.0    0.0   \n",
       "...       ...    ...    ...    ...  ...    ...    ...     ...    ...    ...   \n",
       "53761   150.0      4  226.0      1  ...  931.0  395.0  1326.0  395.0  664.0   \n",
       "23471   150.0      4  226.0      2  ...    0.0    0.0     0.0    0.0    0.0   \n",
       "445180  150.0      2  224.0      2  ...    0.0    0.0     0.0    0.0    0.0   \n",
       "407369  150.0      4  195.0      2  ...    0.0    0.0     0.0    0.0    0.0   \n",
       "317434  150.0      4  226.0      2  ...    0.0    0.0     0.0    0.0    0.0   \n",
       "\n",
       "         V317   V318  V319   V320  V321  \n",
       "266381    0.0    0.0   0.0    0.0   0.0  \n",
       "242160    0.0    0.0   0.0    0.0   0.0  \n",
       "13803    75.0   75.0  75.0   75.0  75.0  \n",
       "135424    0.0    0.0   0.0    0.0   0.0  \n",
       "98374     0.0    0.0   0.0    0.0   0.0  \n",
       "...       ...    ...   ...    ...   ...  \n",
       "53761   664.0  664.0   0.0  417.5   0.0  \n",
       "23471     0.0    0.0  59.0   59.0  59.0  \n",
       "445180    0.0    0.0   0.0    0.0   0.0  \n",
       "407369    0.0    0.0   0.0    0.0   0.0  \n",
       "317434    0.0    0.0   0.0    0.0   0.0  \n",
       "\n",
       "[413378 rows x 219 columns]"
      ]
     },
     "execution_count": 49,
     "metadata": {},
     "output_type": "execute_result"
    }
   ],
   "source": [
    "X_train"
   ]
  },
  {
   "cell_type": "code",
   "execution_count": 50,
   "id": "4e09183f",
   "metadata": {
    "execution": {
     "iopub.execute_input": "2023-11-12T13:47:10.544737Z",
     "iopub.status.busy": "2023-11-12T13:47:10.544107Z",
     "iopub.status.idle": "2023-11-12T13:47:13.026983Z",
     "shell.execute_reply": "2023-11-12T13:47:13.025706Z"
    },
    "papermill": {
     "duration": 2.518558,
     "end_time": "2023-11-12T13:47:13.030510",
     "exception": false,
     "start_time": "2023-11-12T13:47:10.511952",
     "status": "completed"
    },
    "tags": []
   },
   "outputs": [],
   "source": [
    "for f in X_valid.columns:\n",
    "    if X_valid.loc[:, f].dtype=='category':\n",
    "        le = LabelEncoder()\n",
    "        le.fit(list(X_valid.loc[:, f].values))\n",
    "        X_valid.loc[:, f] = le.transform(list(X_valid.loc[:, f].values))"
   ]
  },
  {
   "cell_type": "code",
   "execution_count": 51,
   "id": "b6dc9e01",
   "metadata": {
    "execution": {
     "iopub.execute_input": "2023-11-12T13:47:13.097029Z",
     "iopub.status.busy": "2023-11-12T13:47:13.096463Z",
     "iopub.status.idle": "2023-11-12T13:47:13.185297Z",
     "shell.execute_reply": "2023-11-12T13:47:13.184156Z"
    },
    "papermill": {
     "duration": 0.12381,
     "end_time": "2023-11-12T13:47:13.187402",
     "exception": false,
     "start_time": "2023-11-12T13:47:13.063592",
     "status": "completed"
    },
    "tags": []
   },
   "outputs": [
    {
     "data": {
      "text/html": [
       "<div>\n",
       "<style scoped>\n",
       "    .dataframe tbody tr th:only-of-type {\n",
       "        vertical-align: middle;\n",
       "    }\n",
       "\n",
       "    .dataframe tbody tr th {\n",
       "        vertical-align: top;\n",
       "    }\n",
       "\n",
       "    .dataframe thead th {\n",
       "        text-align: right;\n",
       "    }\n",
       "</style>\n",
       "<table border=\"1\" class=\"dataframe\">\n",
       "  <thead>\n",
       "    <tr style=\"text-align: right;\">\n",
       "      <th></th>\n",
       "      <th>TransactionID</th>\n",
       "      <th>TransactionDT</th>\n",
       "      <th>TransactionAmt</th>\n",
       "      <th>ProductCD</th>\n",
       "      <th>card1</th>\n",
       "      <th>card2</th>\n",
       "      <th>card3</th>\n",
       "      <th>card4</th>\n",
       "      <th>card5</th>\n",
       "      <th>card6</th>\n",
       "      <th>...</th>\n",
       "      <th>V312</th>\n",
       "      <th>V313</th>\n",
       "      <th>V314</th>\n",
       "      <th>V315</th>\n",
       "      <th>V316</th>\n",
       "      <th>V317</th>\n",
       "      <th>V318</th>\n",
       "      <th>V319</th>\n",
       "      <th>V320</th>\n",
       "      <th>V321</th>\n",
       "    </tr>\n",
       "  </thead>\n",
       "  <tbody>\n",
       "    <tr>\n",
       "      <th>509548</th>\n",
       "      <td>3496548</td>\n",
       "      <td>13354870</td>\n",
       "      <td>59.000000</td>\n",
       "      <td>4</td>\n",
       "      <td>2803</td>\n",
       "      <td>100.0</td>\n",
       "      <td>150.0</td>\n",
       "      <td>4</td>\n",
       "      <td>226.0</td>\n",
       "      <td>2</td>\n",
       "      <td>...</td>\n",
       "      <td>0.0</td>\n",
       "      <td>0.0</td>\n",
       "      <td>0.000000</td>\n",
       "      <td>0.0</td>\n",
       "      <td>0.000000</td>\n",
       "      <td>0.000000</td>\n",
       "      <td>0.000000</td>\n",
       "      <td>0.0</td>\n",
       "      <td>59.0</td>\n",
       "      <td>0.0</td>\n",
       "    </tr>\n",
       "    <tr>\n",
       "      <th>18764</th>\n",
       "      <td>3005764</td>\n",
       "      <td>500420</td>\n",
       "      <td>140.000000</td>\n",
       "      <td>4</td>\n",
       "      <td>11207</td>\n",
       "      <td>361.0</td>\n",
       "      <td>150.0</td>\n",
       "      <td>4</td>\n",
       "      <td>226.0</td>\n",
       "      <td>2</td>\n",
       "      <td>...</td>\n",
       "      <td>0.0</td>\n",
       "      <td>0.0</td>\n",
       "      <td>0.000000</td>\n",
       "      <td>0.0</td>\n",
       "      <td>0.000000</td>\n",
       "      <td>0.000000</td>\n",
       "      <td>0.000000</td>\n",
       "      <td>0.0</td>\n",
       "      <td>0.0</td>\n",
       "      <td>0.0</td>\n",
       "    </tr>\n",
       "    <tr>\n",
       "      <th>138429</th>\n",
       "      <td>3125429</td>\n",
       "      <td>2827784</td>\n",
       "      <td>28.216999</td>\n",
       "      <td>0</td>\n",
       "      <td>9633</td>\n",
       "      <td>296.0</td>\n",
       "      <td>185.0</td>\n",
       "      <td>4</td>\n",
       "      <td>138.0</td>\n",
       "      <td>2</td>\n",
       "      <td>...</td>\n",
       "      <td>0.0</td>\n",
       "      <td>0.0</td>\n",
       "      <td>0.000000</td>\n",
       "      <td>0.0</td>\n",
       "      <td>169.303207</td>\n",
       "      <td>169.303207</td>\n",
       "      <td>169.303207</td>\n",
       "      <td>0.0</td>\n",
       "      <td>0.0</td>\n",
       "      <td>0.0</td>\n",
       "    </tr>\n",
       "    <tr>\n",
       "      <th>367372</th>\n",
       "      <td>3354372</td>\n",
       "      <td>9135955</td>\n",
       "      <td>138.000000</td>\n",
       "      <td>4</td>\n",
       "      <td>17892</td>\n",
       "      <td>126.0</td>\n",
       "      <td>150.0</td>\n",
       "      <td>4</td>\n",
       "      <td>226.0</td>\n",
       "      <td>2</td>\n",
       "      <td>...</td>\n",
       "      <td>0.0</td>\n",
       "      <td>0.0</td>\n",
       "      <td>0.000000</td>\n",
       "      <td>0.0</td>\n",
       "      <td>0.000000</td>\n",
       "      <td>0.000000</td>\n",
       "      <td>0.000000</td>\n",
       "      <td>0.0</td>\n",
       "      <td>0.0</td>\n",
       "      <td>0.0</td>\n",
       "    </tr>\n",
       "    <tr>\n",
       "      <th>290347</th>\n",
       "      <td>3277347</td>\n",
       "      <td>7155271</td>\n",
       "      <td>59.000000</td>\n",
       "      <td>4</td>\n",
       "      <td>1039</td>\n",
       "      <td>391.0</td>\n",
       "      <td>150.0</td>\n",
       "      <td>4</td>\n",
       "      <td>166.0</td>\n",
       "      <td>2</td>\n",
       "      <td>...</td>\n",
       "      <td>0.0</td>\n",
       "      <td>0.0</td>\n",
       "      <td>0.000000</td>\n",
       "      <td>0.0</td>\n",
       "      <td>0.000000</td>\n",
       "      <td>0.000000</td>\n",
       "      <td>0.000000</td>\n",
       "      <td>0.0</td>\n",
       "      <td>0.0</td>\n",
       "      <td>0.0</td>\n",
       "    </tr>\n",
       "    <tr>\n",
       "      <th>...</th>\n",
       "      <td>...</td>\n",
       "      <td>...</td>\n",
       "      <td>...</td>\n",
       "      <td>...</td>\n",
       "      <td>...</td>\n",
       "      <td>...</td>\n",
       "      <td>...</td>\n",
       "      <td>...</td>\n",
       "      <td>...</td>\n",
       "      <td>...</td>\n",
       "      <td>...</td>\n",
       "      <td>...</td>\n",
       "      <td>...</td>\n",
       "      <td>...</td>\n",
       "      <td>...</td>\n",
       "      <td>...</td>\n",
       "      <td>...</td>\n",
       "      <td>...</td>\n",
       "      <td>...</td>\n",
       "      <td>...</td>\n",
       "      <td>...</td>\n",
       "    </tr>\n",
       "    <tr>\n",
       "      <th>254882</th>\n",
       "      <td>3241882</td>\n",
       "      <td>6106281</td>\n",
       "      <td>100.000000</td>\n",
       "      <td>1</td>\n",
       "      <td>12544</td>\n",
       "      <td>321.0</td>\n",
       "      <td>150.0</td>\n",
       "      <td>4</td>\n",
       "      <td>226.0</td>\n",
       "      <td>2</td>\n",
       "      <td>...</td>\n",
       "      <td>0.0</td>\n",
       "      <td>0.0</td>\n",
       "      <td>0.000000</td>\n",
       "      <td>0.0</td>\n",
       "      <td>0.000000</td>\n",
       "      <td>0.000000</td>\n",
       "      <td>0.000000</td>\n",
       "      <td>0.0</td>\n",
       "      <td>0.0</td>\n",
       "      <td>0.0</td>\n",
       "    </tr>\n",
       "    <tr>\n",
       "      <th>524523</th>\n",
       "      <td>3511523</td>\n",
       "      <td>13793173</td>\n",
       "      <td>54.500000</td>\n",
       "      <td>4</td>\n",
       "      <td>9992</td>\n",
       "      <td>455.0</td>\n",
       "      <td>150.0</td>\n",
       "      <td>2</td>\n",
       "      <td>126.0</td>\n",
       "      <td>2</td>\n",
       "      <td>...</td>\n",
       "      <td>0.0</td>\n",
       "      <td>54.5</td>\n",
       "      <td>54.500000</td>\n",
       "      <td>54.5</td>\n",
       "      <td>0.000000</td>\n",
       "      <td>0.000000</td>\n",
       "      <td>0.000000</td>\n",
       "      <td>0.0</td>\n",
       "      <td>0.0</td>\n",
       "      <td>0.0</td>\n",
       "    </tr>\n",
       "    <tr>\n",
       "      <th>140267</th>\n",
       "      <td>3127267</td>\n",
       "      <td>2863769</td>\n",
       "      <td>35.950001</td>\n",
       "      <td>4</td>\n",
       "      <td>2803</td>\n",
       "      <td>100.0</td>\n",
       "      <td>150.0</td>\n",
       "      <td>4</td>\n",
       "      <td>226.0</td>\n",
       "      <td>2</td>\n",
       "      <td>...</td>\n",
       "      <td>0.0</td>\n",
       "      <td>0.0</td>\n",
       "      <td>87.949997</td>\n",
       "      <td>0.0</td>\n",
       "      <td>0.000000</td>\n",
       "      <td>0.000000</td>\n",
       "      <td>0.000000</td>\n",
       "      <td>0.0</td>\n",
       "      <td>0.0</td>\n",
       "      <td>0.0</td>\n",
       "    </tr>\n",
       "    <tr>\n",
       "      <th>407762</th>\n",
       "      <td>3394762</td>\n",
       "      <td>10290223</td>\n",
       "      <td>58.950001</td>\n",
       "      <td>4</td>\n",
       "      <td>15847</td>\n",
       "      <td>216.0</td>\n",
       "      <td>150.0</td>\n",
       "      <td>4</td>\n",
       "      <td>226.0</td>\n",
       "      <td>2</td>\n",
       "      <td>...</td>\n",
       "      <td>0.0</td>\n",
       "      <td>0.0</td>\n",
       "      <td>0.000000</td>\n",
       "      <td>0.0</td>\n",
       "      <td>0.000000</td>\n",
       "      <td>0.000000</td>\n",
       "      <td>0.000000</td>\n",
       "      <td>0.0</td>\n",
       "      <td>0.0</td>\n",
       "      <td>0.0</td>\n",
       "    </tr>\n",
       "    <tr>\n",
       "      <th>378276</th>\n",
       "      <td>3365276</td>\n",
       "      <td>9474032</td>\n",
       "      <td>312.950012</td>\n",
       "      <td>4</td>\n",
       "      <td>17131</td>\n",
       "      <td>111.0</td>\n",
       "      <td>150.0</td>\n",
       "      <td>2</td>\n",
       "      <td>224.0</td>\n",
       "      <td>2</td>\n",
       "      <td>...</td>\n",
       "      <td>0.0</td>\n",
       "      <td>0.0</td>\n",
       "      <td>0.000000</td>\n",
       "      <td>0.0</td>\n",
       "      <td>0.000000</td>\n",
       "      <td>0.000000</td>\n",
       "      <td>0.000000</td>\n",
       "      <td>0.0</td>\n",
       "      <td>0.0</td>\n",
       "      <td>0.0</td>\n",
       "    </tr>\n",
       "  </tbody>\n",
       "</table>\n",
       "<p>177162 rows × 219 columns</p>\n",
       "</div>"
      ],
      "text/plain": [
       "        TransactionID  TransactionDT  TransactionAmt  ProductCD  card1  card2  \\\n",
       "509548        3496548       13354870       59.000000          4   2803  100.0   \n",
       "18764         3005764         500420      140.000000          4  11207  361.0   \n",
       "138429        3125429        2827784       28.216999          0   9633  296.0   \n",
       "367372        3354372        9135955      138.000000          4  17892  126.0   \n",
       "290347        3277347        7155271       59.000000          4   1039  391.0   \n",
       "...               ...            ...             ...        ...    ...    ...   \n",
       "254882        3241882        6106281      100.000000          1  12544  321.0   \n",
       "524523        3511523       13793173       54.500000          4   9992  455.0   \n",
       "140267        3127267        2863769       35.950001          4   2803  100.0   \n",
       "407762        3394762       10290223       58.950001          4  15847  216.0   \n",
       "378276        3365276        9474032      312.950012          4  17131  111.0   \n",
       "\n",
       "        card3  card4  card5  card6  ...  V312  V313       V314  V315  \\\n",
       "509548  150.0      4  226.0      2  ...   0.0   0.0   0.000000   0.0   \n",
       "18764   150.0      4  226.0      2  ...   0.0   0.0   0.000000   0.0   \n",
       "138429  185.0      4  138.0      2  ...   0.0   0.0   0.000000   0.0   \n",
       "367372  150.0      4  226.0      2  ...   0.0   0.0   0.000000   0.0   \n",
       "290347  150.0      4  166.0      2  ...   0.0   0.0   0.000000   0.0   \n",
       "...       ...    ...    ...    ...  ...   ...   ...        ...   ...   \n",
       "254882  150.0      4  226.0      2  ...   0.0   0.0   0.000000   0.0   \n",
       "524523  150.0      2  126.0      2  ...   0.0  54.5  54.500000  54.5   \n",
       "140267  150.0      4  226.0      2  ...   0.0   0.0  87.949997   0.0   \n",
       "407762  150.0      4  226.0      2  ...   0.0   0.0   0.000000   0.0   \n",
       "378276  150.0      2  224.0      2  ...   0.0   0.0   0.000000   0.0   \n",
       "\n",
       "              V316        V317        V318  V319  V320  V321  \n",
       "509548    0.000000    0.000000    0.000000   0.0  59.0   0.0  \n",
       "18764     0.000000    0.000000    0.000000   0.0   0.0   0.0  \n",
       "138429  169.303207  169.303207  169.303207   0.0   0.0   0.0  \n",
       "367372    0.000000    0.000000    0.000000   0.0   0.0   0.0  \n",
       "290347    0.000000    0.000000    0.000000   0.0   0.0   0.0  \n",
       "...            ...         ...         ...   ...   ...   ...  \n",
       "254882    0.000000    0.000000    0.000000   0.0   0.0   0.0  \n",
       "524523    0.000000    0.000000    0.000000   0.0   0.0   0.0  \n",
       "140267    0.000000    0.000000    0.000000   0.0   0.0   0.0  \n",
       "407762    0.000000    0.000000    0.000000   0.0   0.0   0.0  \n",
       "378276    0.000000    0.000000    0.000000   0.0   0.0   0.0  \n",
       "\n",
       "[177162 rows x 219 columns]"
      ]
     },
     "execution_count": 51,
     "metadata": {},
     "output_type": "execute_result"
    }
   ],
   "source": [
    "X_valid"
   ]
  },
  {
   "cell_type": "code",
   "execution_count": 52,
   "id": "671ed0cb",
   "metadata": {
    "execution": {
     "iopub.execute_input": "2023-11-12T13:47:13.251649Z",
     "iopub.status.busy": "2023-11-12T13:47:13.251250Z",
     "iopub.status.idle": "2023-11-12T13:47:13.324726Z",
     "shell.execute_reply": "2023-11-12T13:47:13.323681Z"
    },
    "papermill": {
     "duration": 0.107937,
     "end_time": "2023-11-12T13:47:13.326685",
     "exception": false,
     "start_time": "2023-11-12T13:47:13.218748",
     "status": "completed"
    },
    "tags": []
   },
   "outputs": [
    {
     "data": {
      "text/html": [
       "<div>\n",
       "<style scoped>\n",
       "    .dataframe tbody tr th:only-of-type {\n",
       "        vertical-align: middle;\n",
       "    }\n",
       "\n",
       "    .dataframe tbody tr th {\n",
       "        vertical-align: top;\n",
       "    }\n",
       "\n",
       "    .dataframe thead th {\n",
       "        text-align: right;\n",
       "    }\n",
       "</style>\n",
       "<table border=\"1\" class=\"dataframe\">\n",
       "  <thead>\n",
       "    <tr style=\"text-align: right;\">\n",
       "      <th></th>\n",
       "      <th>TransactionID</th>\n",
       "      <th>TransactionDT</th>\n",
       "      <th>TransactionAmt</th>\n",
       "      <th>ProductCD</th>\n",
       "      <th>card1</th>\n",
       "      <th>card2</th>\n",
       "      <th>card3</th>\n",
       "      <th>card4</th>\n",
       "      <th>card5</th>\n",
       "      <th>card6</th>\n",
       "      <th>...</th>\n",
       "      <th>V312</th>\n",
       "      <th>V313</th>\n",
       "      <th>V314</th>\n",
       "      <th>V315</th>\n",
       "      <th>V316</th>\n",
       "      <th>V317</th>\n",
       "      <th>V318</th>\n",
       "      <th>V319</th>\n",
       "      <th>V320</th>\n",
       "      <th>V321</th>\n",
       "    </tr>\n",
       "  </thead>\n",
       "  <tbody>\n",
       "    <tr>\n",
       "      <th>0</th>\n",
       "      <td>3663549</td>\n",
       "      <td>18403224</td>\n",
       "      <td>31.950001</td>\n",
       "      <td>W</td>\n",
       "      <td>10409</td>\n",
       "      <td>111.0</td>\n",
       "      <td>150.0</td>\n",
       "      <td>visa</td>\n",
       "      <td>226.0</td>\n",
       "      <td>debit</td>\n",
       "      <td>...</td>\n",
       "      <td>0.000000</td>\n",
       "      <td>0.000000</td>\n",
       "      <td>0.000000</td>\n",
       "      <td>0.000000</td>\n",
       "      <td>0.0</td>\n",
       "      <td>0.0</td>\n",
       "      <td>0.0</td>\n",
       "      <td>0.0</td>\n",
       "      <td>0.0</td>\n",
       "      <td>0.0</td>\n",
       "    </tr>\n",
       "    <tr>\n",
       "      <th>1</th>\n",
       "      <td>3663550</td>\n",
       "      <td>18403263</td>\n",
       "      <td>49.000000</td>\n",
       "      <td>W</td>\n",
       "      <td>4272</td>\n",
       "      <td>111.0</td>\n",
       "      <td>150.0</td>\n",
       "      <td>visa</td>\n",
       "      <td>226.0</td>\n",
       "      <td>debit</td>\n",
       "      <td>...</td>\n",
       "      <td>77.000000</td>\n",
       "      <td>0.000000</td>\n",
       "      <td>0.000000</td>\n",
       "      <td>0.000000</td>\n",
       "      <td>0.0</td>\n",
       "      <td>0.0</td>\n",
       "      <td>0.0</td>\n",
       "      <td>0.0</td>\n",
       "      <td>0.0</td>\n",
       "      <td>0.0</td>\n",
       "    </tr>\n",
       "    <tr>\n",
       "      <th>2</th>\n",
       "      <td>3663551</td>\n",
       "      <td>18403310</td>\n",
       "      <td>171.000000</td>\n",
       "      <td>W</td>\n",
       "      <td>4476</td>\n",
       "      <td>574.0</td>\n",
       "      <td>150.0</td>\n",
       "      <td>visa</td>\n",
       "      <td>226.0</td>\n",
       "      <td>debit</td>\n",
       "      <td>...</td>\n",
       "      <td>0.000000</td>\n",
       "      <td>0.000000</td>\n",
       "      <td>0.000000</td>\n",
       "      <td>0.000000</td>\n",
       "      <td>0.0</td>\n",
       "      <td>0.0</td>\n",
       "      <td>0.0</td>\n",
       "      <td>0.0</td>\n",
       "      <td>263.0</td>\n",
       "      <td>0.0</td>\n",
       "    </tr>\n",
       "    <tr>\n",
       "      <th>3</th>\n",
       "      <td>3663552</td>\n",
       "      <td>18403310</td>\n",
       "      <td>284.950012</td>\n",
       "      <td>W</td>\n",
       "      <td>10989</td>\n",
       "      <td>360.0</td>\n",
       "      <td>150.0</td>\n",
       "      <td>visa</td>\n",
       "      <td>166.0</td>\n",
       "      <td>debit</td>\n",
       "      <td>...</td>\n",
       "      <td>0.000000</td>\n",
       "      <td>282.540009</td>\n",
       "      <td>282.540009</td>\n",
       "      <td>282.540009</td>\n",
       "      <td>0.0</td>\n",
       "      <td>0.0</td>\n",
       "      <td>0.0</td>\n",
       "      <td>0.0</td>\n",
       "      <td>0.0</td>\n",
       "      <td>0.0</td>\n",
       "    </tr>\n",
       "    <tr>\n",
       "      <th>4</th>\n",
       "      <td>3663553</td>\n",
       "      <td>18403317</td>\n",
       "      <td>67.949997</td>\n",
       "      <td>W</td>\n",
       "      <td>18018</td>\n",
       "      <td>452.0</td>\n",
       "      <td>150.0</td>\n",
       "      <td>mastercard</td>\n",
       "      <td>117.0</td>\n",
       "      <td>debit</td>\n",
       "      <td>...</td>\n",
       "      <td>67.949997</td>\n",
       "      <td>67.949997</td>\n",
       "      <td>183.850006</td>\n",
       "      <td>67.949997</td>\n",
       "      <td>0.0</td>\n",
       "      <td>0.0</td>\n",
       "      <td>0.0</td>\n",
       "      <td>0.0</td>\n",
       "      <td>0.0</td>\n",
       "      <td>0.0</td>\n",
       "    </tr>\n",
       "    <tr>\n",
       "      <th>...</th>\n",
       "      <td>...</td>\n",
       "      <td>...</td>\n",
       "      <td>...</td>\n",
       "      <td>...</td>\n",
       "      <td>...</td>\n",
       "      <td>...</td>\n",
       "      <td>...</td>\n",
       "      <td>...</td>\n",
       "      <td>...</td>\n",
       "      <td>...</td>\n",
       "      <td>...</td>\n",
       "      <td>...</td>\n",
       "      <td>...</td>\n",
       "      <td>...</td>\n",
       "      <td>...</td>\n",
       "      <td>...</td>\n",
       "      <td>...</td>\n",
       "      <td>...</td>\n",
       "      <td>...</td>\n",
       "      <td>...</td>\n",
       "      <td>...</td>\n",
       "    </tr>\n",
       "    <tr>\n",
       "      <th>506686</th>\n",
       "      <td>4170235</td>\n",
       "      <td>34214279</td>\n",
       "      <td>94.679001</td>\n",
       "      <td>C</td>\n",
       "      <td>13832</td>\n",
       "      <td>375.0</td>\n",
       "      <td>185.0</td>\n",
       "      <td>mastercard</td>\n",
       "      <td>224.0</td>\n",
       "      <td>debit</td>\n",
       "      <td>...</td>\n",
       "      <td>0.000000</td>\n",
       "      <td>0.000000</td>\n",
       "      <td>0.000000</td>\n",
       "      <td>0.000000</td>\n",
       "      <td>0.0</td>\n",
       "      <td>0.0</td>\n",
       "      <td>0.0</td>\n",
       "      <td>0.0</td>\n",
       "      <td>0.0</td>\n",
       "      <td>0.0</td>\n",
       "    </tr>\n",
       "    <tr>\n",
       "      <th>506687</th>\n",
       "      <td>4170236</td>\n",
       "      <td>34214287</td>\n",
       "      <td>12.173000</td>\n",
       "      <td>C</td>\n",
       "      <td>3154</td>\n",
       "      <td>408.0</td>\n",
       "      <td>185.0</td>\n",
       "      <td>mastercard</td>\n",
       "      <td>224.0</td>\n",
       "      <td>debit</td>\n",
       "      <td>...</td>\n",
       "      <td>0.000000</td>\n",
       "      <td>31.723700</td>\n",
       "      <td>31.723700</td>\n",
       "      <td>31.723700</td>\n",
       "      <td>0.0</td>\n",
       "      <td>0.0</td>\n",
       "      <td>0.0</td>\n",
       "      <td>0.0</td>\n",
       "      <td>0.0</td>\n",
       "      <td>0.0</td>\n",
       "    </tr>\n",
       "    <tr>\n",
       "      <th>506688</th>\n",
       "      <td>4170237</td>\n",
       "      <td>34214326</td>\n",
       "      <td>49.000000</td>\n",
       "      <td>W</td>\n",
       "      <td>16661</td>\n",
       "      <td>490.0</td>\n",
       "      <td>150.0</td>\n",
       "      <td>visa</td>\n",
       "      <td>226.0</td>\n",
       "      <td>debit</td>\n",
       "      <td>...</td>\n",
       "      <td>0.000000</td>\n",
       "      <td>0.000000</td>\n",
       "      <td>0.000000</td>\n",
       "      <td>0.000000</td>\n",
       "      <td>0.0</td>\n",
       "      <td>0.0</td>\n",
       "      <td>0.0</td>\n",
       "      <td>0.0</td>\n",
       "      <td>0.0</td>\n",
       "      <td>0.0</td>\n",
       "    </tr>\n",
       "    <tr>\n",
       "      <th>506689</th>\n",
       "      <td>4170238</td>\n",
       "      <td>34214337</td>\n",
       "      <td>202.000000</td>\n",
       "      <td>W</td>\n",
       "      <td>16621</td>\n",
       "      <td>516.0</td>\n",
       "      <td>150.0</td>\n",
       "      <td>mastercard</td>\n",
       "      <td>224.0</td>\n",
       "      <td>debit</td>\n",
       "      <td>...</td>\n",
       "      <td>0.000000</td>\n",
       "      <td>0.000000</td>\n",
       "      <td>0.000000</td>\n",
       "      <td>0.000000</td>\n",
       "      <td>0.0</td>\n",
       "      <td>0.0</td>\n",
       "      <td>0.0</td>\n",
       "      <td>0.0</td>\n",
       "      <td>0.0</td>\n",
       "      <td>0.0</td>\n",
       "    </tr>\n",
       "    <tr>\n",
       "      <th>506690</th>\n",
       "      <td>4170239</td>\n",
       "      <td>34214345</td>\n",
       "      <td>24.346001</td>\n",
       "      <td>C</td>\n",
       "      <td>5713</td>\n",
       "      <td>168.0</td>\n",
       "      <td>144.0</td>\n",
       "      <td>visa</td>\n",
       "      <td>147.0</td>\n",
       "      <td>credit</td>\n",
       "      <td>...</td>\n",
       "      <td>0.000000</td>\n",
       "      <td>0.000000</td>\n",
       "      <td>0.000000</td>\n",
       "      <td>0.000000</td>\n",
       "      <td>0.0</td>\n",
       "      <td>0.0</td>\n",
       "      <td>0.0</td>\n",
       "      <td>0.0</td>\n",
       "      <td>0.0</td>\n",
       "      <td>0.0</td>\n",
       "    </tr>\n",
       "  </tbody>\n",
       "</table>\n",
       "<p>506691 rows × 219 columns</p>\n",
       "</div>"
      ],
      "text/plain": [
       "        TransactionID  TransactionDT  TransactionAmt ProductCD  card1  card2  \\\n",
       "0             3663549       18403224       31.950001         W  10409  111.0   \n",
       "1             3663550       18403263       49.000000         W   4272  111.0   \n",
       "2             3663551       18403310      171.000000         W   4476  574.0   \n",
       "3             3663552       18403310      284.950012         W  10989  360.0   \n",
       "4             3663553       18403317       67.949997         W  18018  452.0   \n",
       "...               ...            ...             ...       ...    ...    ...   \n",
       "506686        4170235       34214279       94.679001         C  13832  375.0   \n",
       "506687        4170236       34214287       12.173000         C   3154  408.0   \n",
       "506688        4170237       34214326       49.000000         W  16661  490.0   \n",
       "506689        4170238       34214337      202.000000         W  16621  516.0   \n",
       "506690        4170239       34214345       24.346001         C   5713  168.0   \n",
       "\n",
       "        card3       card4  card5   card6  ...       V312        V313  \\\n",
       "0       150.0        visa  226.0   debit  ...   0.000000    0.000000   \n",
       "1       150.0        visa  226.0   debit  ...  77.000000    0.000000   \n",
       "2       150.0        visa  226.0   debit  ...   0.000000    0.000000   \n",
       "3       150.0        visa  166.0   debit  ...   0.000000  282.540009   \n",
       "4       150.0  mastercard  117.0   debit  ...  67.949997   67.949997   \n",
       "...       ...         ...    ...     ...  ...        ...         ...   \n",
       "506686  185.0  mastercard  224.0   debit  ...   0.000000    0.000000   \n",
       "506687  185.0  mastercard  224.0   debit  ...   0.000000   31.723700   \n",
       "506688  150.0        visa  226.0   debit  ...   0.000000    0.000000   \n",
       "506689  150.0  mastercard  224.0   debit  ...   0.000000    0.000000   \n",
       "506690  144.0        visa  147.0  credit  ...   0.000000    0.000000   \n",
       "\n",
       "              V314        V315  V316  V317  V318  V319   V320  V321  \n",
       "0         0.000000    0.000000   0.0   0.0   0.0   0.0    0.0   0.0  \n",
       "1         0.000000    0.000000   0.0   0.0   0.0   0.0    0.0   0.0  \n",
       "2         0.000000    0.000000   0.0   0.0   0.0   0.0  263.0   0.0  \n",
       "3       282.540009  282.540009   0.0   0.0   0.0   0.0    0.0   0.0  \n",
       "4       183.850006   67.949997   0.0   0.0   0.0   0.0    0.0   0.0  \n",
       "...            ...         ...   ...   ...   ...   ...    ...   ...  \n",
       "506686    0.000000    0.000000   0.0   0.0   0.0   0.0    0.0   0.0  \n",
       "506687   31.723700   31.723700   0.0   0.0   0.0   0.0    0.0   0.0  \n",
       "506688    0.000000    0.000000   0.0   0.0   0.0   0.0    0.0   0.0  \n",
       "506689    0.000000    0.000000   0.0   0.0   0.0   0.0    0.0   0.0  \n",
       "506690    0.000000    0.000000   0.0   0.0   0.0   0.0    0.0   0.0  \n",
       "\n",
       "[506691 rows x 219 columns]"
      ]
     },
     "execution_count": 52,
     "metadata": {},
     "output_type": "execute_result"
    }
   ],
   "source": [
    "test_df"
   ]
  },
  {
   "cell_type": "code",
   "execution_count": 53,
   "id": "dd13fe56",
   "metadata": {
    "execution": {
     "iopub.execute_input": "2023-11-12T13:47:13.391984Z",
     "iopub.status.busy": "2023-11-12T13:47:13.391572Z",
     "iopub.status.idle": "2023-11-12T13:47:20.721361Z",
     "shell.execute_reply": "2023-11-12T13:47:20.720275Z"
    },
    "papermill": {
     "duration": 7.3653,
     "end_time": "2023-11-12T13:47:20.723710",
     "exception": false,
     "start_time": "2023-11-12T13:47:13.358410",
     "status": "completed"
    },
    "tags": []
   },
   "outputs": [],
   "source": [
    "for f in test_df.columns:\n",
    "    if test_df.loc[:, f].dtype=='category':\n",
    "        le = LabelEncoder()\n",
    "        le.fit(list(test_df.loc[:, f].values))\n",
    "        test_df.loc[:, f] = le.transform(list(test_df.loc[:, f].values))"
   ]
  },
  {
   "cell_type": "code",
   "execution_count": 54,
   "id": "7c861b19",
   "metadata": {
    "execution": {
     "iopub.execute_input": "2023-11-12T13:47:20.788569Z",
     "iopub.status.busy": "2023-11-12T13:47:20.788178Z",
     "iopub.status.idle": "2023-11-12T13:47:20.873059Z",
     "shell.execute_reply": "2023-11-12T13:47:20.872001Z"
    },
    "papermill": {
     "duration": 0.119805,
     "end_time": "2023-11-12T13:47:20.875325",
     "exception": false,
     "start_time": "2023-11-12T13:47:20.755520",
     "status": "completed"
    },
    "tags": []
   },
   "outputs": [
    {
     "data": {
      "text/html": [
       "<div>\n",
       "<style scoped>\n",
       "    .dataframe tbody tr th:only-of-type {\n",
       "        vertical-align: middle;\n",
       "    }\n",
       "\n",
       "    .dataframe tbody tr th {\n",
       "        vertical-align: top;\n",
       "    }\n",
       "\n",
       "    .dataframe thead th {\n",
       "        text-align: right;\n",
       "    }\n",
       "</style>\n",
       "<table border=\"1\" class=\"dataframe\">\n",
       "  <thead>\n",
       "    <tr style=\"text-align: right;\">\n",
       "      <th></th>\n",
       "      <th>TransactionID</th>\n",
       "      <th>TransactionDT</th>\n",
       "      <th>TransactionAmt</th>\n",
       "      <th>ProductCD</th>\n",
       "      <th>card1</th>\n",
       "      <th>card2</th>\n",
       "      <th>card3</th>\n",
       "      <th>card4</th>\n",
       "      <th>card5</th>\n",
       "      <th>card6</th>\n",
       "      <th>...</th>\n",
       "      <th>V312</th>\n",
       "      <th>V313</th>\n",
       "      <th>V314</th>\n",
       "      <th>V315</th>\n",
       "      <th>V316</th>\n",
       "      <th>V317</th>\n",
       "      <th>V318</th>\n",
       "      <th>V319</th>\n",
       "      <th>V320</th>\n",
       "      <th>V321</th>\n",
       "    </tr>\n",
       "  </thead>\n",
       "  <tbody>\n",
       "    <tr>\n",
       "      <th>0</th>\n",
       "      <td>3663549</td>\n",
       "      <td>18403224</td>\n",
       "      <td>31.950001</td>\n",
       "      <td>4</td>\n",
       "      <td>10409</td>\n",
       "      <td>111.0</td>\n",
       "      <td>150.0</td>\n",
       "      <td>4</td>\n",
       "      <td>226.0</td>\n",
       "      <td>2</td>\n",
       "      <td>...</td>\n",
       "      <td>0.000000</td>\n",
       "      <td>0.000000</td>\n",
       "      <td>0.000000</td>\n",
       "      <td>0.000000</td>\n",
       "      <td>0.0</td>\n",
       "      <td>0.0</td>\n",
       "      <td>0.0</td>\n",
       "      <td>0.0</td>\n",
       "      <td>0.0</td>\n",
       "      <td>0.0</td>\n",
       "    </tr>\n",
       "    <tr>\n",
       "      <th>1</th>\n",
       "      <td>3663550</td>\n",
       "      <td>18403263</td>\n",
       "      <td>49.000000</td>\n",
       "      <td>4</td>\n",
       "      <td>4272</td>\n",
       "      <td>111.0</td>\n",
       "      <td>150.0</td>\n",
       "      <td>4</td>\n",
       "      <td>226.0</td>\n",
       "      <td>2</td>\n",
       "      <td>...</td>\n",
       "      <td>77.000000</td>\n",
       "      <td>0.000000</td>\n",
       "      <td>0.000000</td>\n",
       "      <td>0.000000</td>\n",
       "      <td>0.0</td>\n",
       "      <td>0.0</td>\n",
       "      <td>0.0</td>\n",
       "      <td>0.0</td>\n",
       "      <td>0.0</td>\n",
       "      <td>0.0</td>\n",
       "    </tr>\n",
       "    <tr>\n",
       "      <th>2</th>\n",
       "      <td>3663551</td>\n",
       "      <td>18403310</td>\n",
       "      <td>171.000000</td>\n",
       "      <td>4</td>\n",
       "      <td>4476</td>\n",
       "      <td>574.0</td>\n",
       "      <td>150.0</td>\n",
       "      <td>4</td>\n",
       "      <td>226.0</td>\n",
       "      <td>2</td>\n",
       "      <td>...</td>\n",
       "      <td>0.000000</td>\n",
       "      <td>0.000000</td>\n",
       "      <td>0.000000</td>\n",
       "      <td>0.000000</td>\n",
       "      <td>0.0</td>\n",
       "      <td>0.0</td>\n",
       "      <td>0.0</td>\n",
       "      <td>0.0</td>\n",
       "      <td>263.0</td>\n",
       "      <td>0.0</td>\n",
       "    </tr>\n",
       "    <tr>\n",
       "      <th>3</th>\n",
       "      <td>3663552</td>\n",
       "      <td>18403310</td>\n",
       "      <td>284.950012</td>\n",
       "      <td>4</td>\n",
       "      <td>10989</td>\n",
       "      <td>360.0</td>\n",
       "      <td>150.0</td>\n",
       "      <td>4</td>\n",
       "      <td>166.0</td>\n",
       "      <td>2</td>\n",
       "      <td>...</td>\n",
       "      <td>0.000000</td>\n",
       "      <td>282.540009</td>\n",
       "      <td>282.540009</td>\n",
       "      <td>282.540009</td>\n",
       "      <td>0.0</td>\n",
       "      <td>0.0</td>\n",
       "      <td>0.0</td>\n",
       "      <td>0.0</td>\n",
       "      <td>0.0</td>\n",
       "      <td>0.0</td>\n",
       "    </tr>\n",
       "    <tr>\n",
       "      <th>4</th>\n",
       "      <td>3663553</td>\n",
       "      <td>18403317</td>\n",
       "      <td>67.949997</td>\n",
       "      <td>4</td>\n",
       "      <td>18018</td>\n",
       "      <td>452.0</td>\n",
       "      <td>150.0</td>\n",
       "      <td>2</td>\n",
       "      <td>117.0</td>\n",
       "      <td>2</td>\n",
       "      <td>...</td>\n",
       "      <td>67.949997</td>\n",
       "      <td>67.949997</td>\n",
       "      <td>183.850006</td>\n",
       "      <td>67.949997</td>\n",
       "      <td>0.0</td>\n",
       "      <td>0.0</td>\n",
       "      <td>0.0</td>\n",
       "      <td>0.0</td>\n",
       "      <td>0.0</td>\n",
       "      <td>0.0</td>\n",
       "    </tr>\n",
       "    <tr>\n",
       "      <th>...</th>\n",
       "      <td>...</td>\n",
       "      <td>...</td>\n",
       "      <td>...</td>\n",
       "      <td>...</td>\n",
       "      <td>...</td>\n",
       "      <td>...</td>\n",
       "      <td>...</td>\n",
       "      <td>...</td>\n",
       "      <td>...</td>\n",
       "      <td>...</td>\n",
       "      <td>...</td>\n",
       "      <td>...</td>\n",
       "      <td>...</td>\n",
       "      <td>...</td>\n",
       "      <td>...</td>\n",
       "      <td>...</td>\n",
       "      <td>...</td>\n",
       "      <td>...</td>\n",
       "      <td>...</td>\n",
       "      <td>...</td>\n",
       "      <td>...</td>\n",
       "    </tr>\n",
       "    <tr>\n",
       "      <th>506686</th>\n",
       "      <td>4170235</td>\n",
       "      <td>34214279</td>\n",
       "      <td>94.679001</td>\n",
       "      <td>0</td>\n",
       "      <td>13832</td>\n",
       "      <td>375.0</td>\n",
       "      <td>185.0</td>\n",
       "      <td>2</td>\n",
       "      <td>224.0</td>\n",
       "      <td>2</td>\n",
       "      <td>...</td>\n",
       "      <td>0.000000</td>\n",
       "      <td>0.000000</td>\n",
       "      <td>0.000000</td>\n",
       "      <td>0.000000</td>\n",
       "      <td>0.0</td>\n",
       "      <td>0.0</td>\n",
       "      <td>0.0</td>\n",
       "      <td>0.0</td>\n",
       "      <td>0.0</td>\n",
       "      <td>0.0</td>\n",
       "    </tr>\n",
       "    <tr>\n",
       "      <th>506687</th>\n",
       "      <td>4170236</td>\n",
       "      <td>34214287</td>\n",
       "      <td>12.173000</td>\n",
       "      <td>0</td>\n",
       "      <td>3154</td>\n",
       "      <td>408.0</td>\n",
       "      <td>185.0</td>\n",
       "      <td>2</td>\n",
       "      <td>224.0</td>\n",
       "      <td>2</td>\n",
       "      <td>...</td>\n",
       "      <td>0.000000</td>\n",
       "      <td>31.723700</td>\n",
       "      <td>31.723700</td>\n",
       "      <td>31.723700</td>\n",
       "      <td>0.0</td>\n",
       "      <td>0.0</td>\n",
       "      <td>0.0</td>\n",
       "      <td>0.0</td>\n",
       "      <td>0.0</td>\n",
       "      <td>0.0</td>\n",
       "    </tr>\n",
       "    <tr>\n",
       "      <th>506688</th>\n",
       "      <td>4170237</td>\n",
       "      <td>34214326</td>\n",
       "      <td>49.000000</td>\n",
       "      <td>4</td>\n",
       "      <td>16661</td>\n",
       "      <td>490.0</td>\n",
       "      <td>150.0</td>\n",
       "      <td>4</td>\n",
       "      <td>226.0</td>\n",
       "      <td>2</td>\n",
       "      <td>...</td>\n",
       "      <td>0.000000</td>\n",
       "      <td>0.000000</td>\n",
       "      <td>0.000000</td>\n",
       "      <td>0.000000</td>\n",
       "      <td>0.0</td>\n",
       "      <td>0.0</td>\n",
       "      <td>0.0</td>\n",
       "      <td>0.0</td>\n",
       "      <td>0.0</td>\n",
       "      <td>0.0</td>\n",
       "    </tr>\n",
       "    <tr>\n",
       "      <th>506689</th>\n",
       "      <td>4170238</td>\n",
       "      <td>34214337</td>\n",
       "      <td>202.000000</td>\n",
       "      <td>4</td>\n",
       "      <td>16621</td>\n",
       "      <td>516.0</td>\n",
       "      <td>150.0</td>\n",
       "      <td>2</td>\n",
       "      <td>224.0</td>\n",
       "      <td>2</td>\n",
       "      <td>...</td>\n",
       "      <td>0.000000</td>\n",
       "      <td>0.000000</td>\n",
       "      <td>0.000000</td>\n",
       "      <td>0.000000</td>\n",
       "      <td>0.0</td>\n",
       "      <td>0.0</td>\n",
       "      <td>0.0</td>\n",
       "      <td>0.0</td>\n",
       "      <td>0.0</td>\n",
       "      <td>0.0</td>\n",
       "    </tr>\n",
       "    <tr>\n",
       "      <th>506690</th>\n",
       "      <td>4170239</td>\n",
       "      <td>34214345</td>\n",
       "      <td>24.346001</td>\n",
       "      <td>0</td>\n",
       "      <td>5713</td>\n",
       "      <td>168.0</td>\n",
       "      <td>144.0</td>\n",
       "      <td>4</td>\n",
       "      <td>147.0</td>\n",
       "      <td>1</td>\n",
       "      <td>...</td>\n",
       "      <td>0.000000</td>\n",
       "      <td>0.000000</td>\n",
       "      <td>0.000000</td>\n",
       "      <td>0.000000</td>\n",
       "      <td>0.0</td>\n",
       "      <td>0.0</td>\n",
       "      <td>0.0</td>\n",
       "      <td>0.0</td>\n",
       "      <td>0.0</td>\n",
       "      <td>0.0</td>\n",
       "    </tr>\n",
       "  </tbody>\n",
       "</table>\n",
       "<p>506691 rows × 219 columns</p>\n",
       "</div>"
      ],
      "text/plain": [
       "        TransactionID  TransactionDT  TransactionAmt  ProductCD  card1  card2  \\\n",
       "0             3663549       18403224       31.950001          4  10409  111.0   \n",
       "1             3663550       18403263       49.000000          4   4272  111.0   \n",
       "2             3663551       18403310      171.000000          4   4476  574.0   \n",
       "3             3663552       18403310      284.950012          4  10989  360.0   \n",
       "4             3663553       18403317       67.949997          4  18018  452.0   \n",
       "...               ...            ...             ...        ...    ...    ...   \n",
       "506686        4170235       34214279       94.679001          0  13832  375.0   \n",
       "506687        4170236       34214287       12.173000          0   3154  408.0   \n",
       "506688        4170237       34214326       49.000000          4  16661  490.0   \n",
       "506689        4170238       34214337      202.000000          4  16621  516.0   \n",
       "506690        4170239       34214345       24.346001          0   5713  168.0   \n",
       "\n",
       "        card3  card4  card5  card6  ...       V312        V313        V314  \\\n",
       "0       150.0      4  226.0      2  ...   0.000000    0.000000    0.000000   \n",
       "1       150.0      4  226.0      2  ...  77.000000    0.000000    0.000000   \n",
       "2       150.0      4  226.0      2  ...   0.000000    0.000000    0.000000   \n",
       "3       150.0      4  166.0      2  ...   0.000000  282.540009  282.540009   \n",
       "4       150.0      2  117.0      2  ...  67.949997   67.949997  183.850006   \n",
       "...       ...    ...    ...    ...  ...        ...         ...         ...   \n",
       "506686  185.0      2  224.0      2  ...   0.000000    0.000000    0.000000   \n",
       "506687  185.0      2  224.0      2  ...   0.000000   31.723700   31.723700   \n",
       "506688  150.0      4  226.0      2  ...   0.000000    0.000000    0.000000   \n",
       "506689  150.0      2  224.0      2  ...   0.000000    0.000000    0.000000   \n",
       "506690  144.0      4  147.0      1  ...   0.000000    0.000000    0.000000   \n",
       "\n",
       "              V315  V316  V317  V318  V319   V320  V321  \n",
       "0         0.000000   0.0   0.0   0.0   0.0    0.0   0.0  \n",
       "1         0.000000   0.0   0.0   0.0   0.0    0.0   0.0  \n",
       "2         0.000000   0.0   0.0   0.0   0.0  263.0   0.0  \n",
       "3       282.540009   0.0   0.0   0.0   0.0    0.0   0.0  \n",
       "4        67.949997   0.0   0.0   0.0   0.0    0.0   0.0  \n",
       "...            ...   ...   ...   ...   ...    ...   ...  \n",
       "506686    0.000000   0.0   0.0   0.0   0.0    0.0   0.0  \n",
       "506687   31.723700   0.0   0.0   0.0   0.0    0.0   0.0  \n",
       "506688    0.000000   0.0   0.0   0.0   0.0    0.0   0.0  \n",
       "506689    0.000000   0.0   0.0   0.0   0.0    0.0   0.0  \n",
       "506690    0.000000   0.0   0.0   0.0   0.0    0.0   0.0  \n",
       "\n",
       "[506691 rows x 219 columns]"
      ]
     },
     "execution_count": 54,
     "metadata": {},
     "output_type": "execute_result"
    }
   ],
   "source": [
    "test_df"
   ]
  },
  {
   "cell_type": "markdown",
   "id": "b09e28da",
   "metadata": {
    "papermill": {
     "duration": 0.031691,
     "end_time": "2023-11-12T13:47:20.939257",
     "exception": false,
     "start_time": "2023-11-12T13:47:20.907566",
     "status": "completed"
    },
    "tags": []
   },
   "source": [
    "### Корреляция признаков"
   ]
  },
  {
   "cell_type": "markdown",
   "id": "07253be8",
   "metadata": {
    "papermill": {
     "duration": 0.032165,
     "end_time": "2023-11-12T13:47:21.003573",
     "exception": false,
     "start_time": "2023-11-12T13:47:20.971408",
     "status": "completed"
    },
    "tags": []
   },
   "source": [
    "Выведем корреляции признаков в виде списка и отсортируем значения по убыванию. Отберём признаки с высокой корреляцией (>0.7)"
   ]
  },
  {
   "cell_type": "code",
   "execution_count": 55,
   "id": "7b4a8759",
   "metadata": {
    "execution": {
     "iopub.execute_input": "2023-11-12T13:47:21.069328Z",
     "iopub.status.busy": "2023-11-12T13:47:21.068957Z",
     "iopub.status.idle": "2023-11-12T13:48:23.678612Z",
     "shell.execute_reply": "2023-11-12T13:48:23.677644Z"
    },
    "papermill": {
     "duration": 62.678771,
     "end_time": "2023-11-12T13:48:23.714273",
     "exception": false,
     "start_time": "2023-11-12T13:47:21.035502",
     "status": "completed"
    },
    "tags": []
   },
   "outputs": [
    {
     "data": {
      "text/plain": [
       "[('C7', 'C12', 0.9994907578299814),\n",
       " ('C1', 'C11', 0.9965514812308824),\n",
       " ('C1', 'C2', 0.9951604156956837),\n",
       " ('C2', 'C1', 0.9951604156956837),\n",
       " ('C2', 'C11', 0.9940382989992362),\n",
       " ('C6', 'C11', 0.9912336986327435),\n",
       " ('C7', 'C10', 0.9854412453769772),\n",
       " ('C6', 'C14', 0.9843553250739188),\n",
       " ('C7', 'C8', 0.983464324820937),\n",
       " ('C1', 'C6', 0.9824761121049799),\n",
       " ('C6', 'C1', 0.9824761121049799),\n",
       " ('D1', 'D2', 0.9811592664026938),\n",
       " ('D2', 'D1', 0.9811592664026938),\n",
       " ('C2', 'C8', 0.9764874811762441),\n",
       " ('C2', 'C6', 0.9752702181673653),\n",
       " ('C6', 'C2', 0.9752702181673653),\n",
       " ('C2', 'C4', 0.9727188223636037),\n",
       " ('C2', 'C10', 0.971310790248529),\n",
       " ('C1', 'C8', 0.9684906141057201),\n",
       " ('C1', 'C4', 0.9683738575095753),\n",
       " ('C6', 'C4', 0.962955021116763),\n",
       " ('C1', 'C10', 0.9590968713955954),\n",
       " ('C1', 'C14', 0.9522712321106451),\n",
       " ('C2', 'C12', 0.9419625962298385),\n",
       " ('M2', 'M3', 0.9407694158678417),\n",
       " ('M3', 'M2', 0.9407694158678417),\n",
       " ('C2', 'C7', 0.9405847452085724),\n",
       " ('C7', 'C2', 0.9405847452085724),\n",
       " ('C2', 'C14', 0.9369626932447197),\n",
       " ('C1', 'C12', 0.9298795461086998)]"
      ]
     },
     "execution_count": 55,
     "metadata": {},
     "output_type": "execute_result"
    }
   ],
   "source": [
    "df_corr = X_train.corr()\n",
    "\n",
    "corrs = []\n",
    "for feat1 in df_corr:\n",
    "    for i, feat2 in enumerate(df_corr):\n",
    "        corrs.append((feat1, feat2, df_corr[feat1].values[i]))\n",
    "sorted_corrs = sorted(corrs, key=lambda x: x[2], reverse=True)\n",
    "max_sorted_corrs = [sort_tuple for sort_tuple in sorted_corrs \\\n",
    "                    if sort_tuple[0]!=('TransactionID' or 'TransactionDT') \\\n",
    "                    and sort_tuple[1]!=('TransactionID' or 'TransactionDT') \\\n",
    "                    and sort_tuple[-1] > 0.7 \\\n",
    "                    and sort_tuple[-1] < 1.0]\n",
    "max_sorted_corrs[:30]"
   ]
  },
  {
   "cell_type": "markdown",
   "id": "b603e45b",
   "metadata": {
    "papermill": {
     "duration": 0.033596,
     "end_time": "2023-11-12T13:48:23.781621",
     "exception": false,
     "start_time": "2023-11-12T13:48:23.748025",
     "status": "completed"
    },
    "tags": []
   },
   "source": [
    "Удалим признаки с высокой корреляцией (> 0.7)"
   ]
  },
  {
   "cell_type": "code",
   "execution_count": 56,
   "id": "9927a110",
   "metadata": {
    "execution": {
     "iopub.execute_input": "2023-11-12T13:48:23.850218Z",
     "iopub.status.busy": "2023-11-12T13:48:23.849542Z",
     "iopub.status.idle": "2023-11-12T13:48:23.860333Z",
     "shell.execute_reply": "2023-11-12T13:48:23.859609Z"
    },
    "papermill": {
     "duration": 0.048015,
     "end_time": "2023-11-12T13:48:23.862054",
     "exception": false,
     "start_time": "2023-11-12T13:48:23.814039",
     "status": "completed"
    },
    "tags": []
   },
   "outputs": [
    {
     "name": "stdout",
     "output_type": "stream",
     "text": [
      "2636\n",
      "2636\n",
      "5272\n",
      "198\n"
     ]
    },
    {
     "data": {
      "text/plain": [
       "{'C1',\n",
       " 'C10',\n",
       " 'C11',\n",
       " 'C12',\n",
       " 'C13',\n",
       " 'C14',\n",
       " 'C2',\n",
       " 'C4',\n",
       " 'C5',\n",
       " 'C6',\n",
       " 'C7',\n",
       " 'C8',\n",
       " 'C9',\n",
       " 'D1',\n",
       " 'D10',\n",
       " 'D11',\n",
       " 'D15',\n",
       " 'D2',\n",
       " 'D4',\n",
       " 'M1',\n",
       " 'M2',\n",
       " 'M3',\n",
       " 'M4',\n",
       " 'M6',\n",
       " 'V10',\n",
       " 'V100',\n",
       " 'V101',\n",
       " 'V102',\n",
       " 'V103',\n",
       " 'V104',\n",
       " 'V105',\n",
       " 'V106',\n",
       " 'V108',\n",
       " 'V109',\n",
       " 'V11',\n",
       " 'V110',\n",
       " 'V111',\n",
       " 'V112',\n",
       " 'V113',\n",
       " 'V114',\n",
       " 'V115',\n",
       " 'V116',\n",
       " 'V117',\n",
       " 'V118',\n",
       " 'V119',\n",
       " 'V12',\n",
       " 'V120',\n",
       " 'V122',\n",
       " 'V123',\n",
       " 'V124',\n",
       " 'V125',\n",
       " 'V126',\n",
       " 'V127',\n",
       " 'V128',\n",
       " 'V129',\n",
       " 'V13',\n",
       " 'V130',\n",
       " 'V131',\n",
       " 'V132',\n",
       " 'V133',\n",
       " 'V134',\n",
       " 'V135',\n",
       " 'V136',\n",
       " 'V137',\n",
       " 'V14',\n",
       " 'V15',\n",
       " 'V16',\n",
       " 'V17',\n",
       " 'V18',\n",
       " 'V19',\n",
       " 'V2',\n",
       " 'V20',\n",
       " 'V21',\n",
       " 'V22',\n",
       " 'V23',\n",
       " 'V24',\n",
       " 'V25',\n",
       " 'V26',\n",
       " 'V27',\n",
       " 'V279',\n",
       " 'V28',\n",
       " 'V280',\n",
       " 'V282',\n",
       " 'V283',\n",
       " 'V284',\n",
       " 'V285',\n",
       " 'V287',\n",
       " 'V288',\n",
       " 'V289',\n",
       " 'V29',\n",
       " 'V290',\n",
       " 'V291',\n",
       " 'V292',\n",
       " 'V293',\n",
       " 'V294',\n",
       " 'V295',\n",
       " 'V296',\n",
       " 'V297',\n",
       " 'V298',\n",
       " 'V299',\n",
       " 'V3',\n",
       " 'V30',\n",
       " 'V300',\n",
       " 'V301',\n",
       " 'V302',\n",
       " 'V303',\n",
       " 'V304',\n",
       " 'V306',\n",
       " 'V307',\n",
       " 'V308',\n",
       " 'V309',\n",
       " 'V31',\n",
       " 'V310',\n",
       " 'V311',\n",
       " 'V312',\n",
       " 'V313',\n",
       " 'V314',\n",
       " 'V315',\n",
       " 'V316',\n",
       " 'V317',\n",
       " 'V318',\n",
       " 'V319',\n",
       " 'V32',\n",
       " 'V320',\n",
       " 'V321',\n",
       " 'V33',\n",
       " 'V34',\n",
       " 'V35',\n",
       " 'V36',\n",
       " 'V37',\n",
       " 'V38',\n",
       " 'V39',\n",
       " 'V4',\n",
       " 'V40',\n",
       " 'V41',\n",
       " 'V42',\n",
       " 'V43',\n",
       " 'V44',\n",
       " 'V45',\n",
       " 'V46',\n",
       " 'V47',\n",
       " 'V48',\n",
       " 'V49',\n",
       " 'V5',\n",
       " 'V50',\n",
       " 'V51',\n",
       " 'V52',\n",
       " 'V53',\n",
       " 'V54',\n",
       " 'V56',\n",
       " 'V57',\n",
       " 'V58',\n",
       " 'V59',\n",
       " 'V6',\n",
       " 'V60',\n",
       " 'V61',\n",
       " 'V62',\n",
       " 'V63',\n",
       " 'V64',\n",
       " 'V65',\n",
       " 'V66',\n",
       " 'V67',\n",
       " 'V68',\n",
       " 'V69',\n",
       " 'V7',\n",
       " 'V70',\n",
       " 'V71',\n",
       " 'V72',\n",
       " 'V73',\n",
       " 'V74',\n",
       " 'V75',\n",
       " 'V76',\n",
       " 'V77',\n",
       " 'V78',\n",
       " 'V79',\n",
       " 'V8',\n",
       " 'V80',\n",
       " 'V81',\n",
       " 'V82',\n",
       " 'V83',\n",
       " 'V84',\n",
       " 'V85',\n",
       " 'V86',\n",
       " 'V87',\n",
       " 'V88',\n",
       " 'V89',\n",
       " 'V9',\n",
       " 'V90',\n",
       " 'V91',\n",
       " 'V92',\n",
       " 'V93',\n",
       " 'V94',\n",
       " 'V95',\n",
       " 'V96',\n",
       " 'V97',\n",
       " 'V98',\n",
       " 'V99',\n",
       " 'card3'}"
      ]
     },
     "execution_count": 56,
     "metadata": {},
     "output_type": "execute_result"
    }
   ],
   "source": [
    "max_sorted_corrs_feats1 = [tup[0] for tup in max_sorted_corrs]\n",
    "max_sorted_corrs_feats2 = [tup[1] for tup in max_sorted_corrs]\n",
    "max_sorted_corrs_feats = max_sorted_corrs_feats1 + max_sorted_corrs_feats2\n",
    "set_max_sort_corrs_feats = set(max_sorted_corrs_feats)\n",
    "print(len(max_sorted_corrs_feats1))\n",
    "print(len(max_sorted_corrs_feats2))\n",
    "print(len(max_sorted_corrs_feats))\n",
    "print(len(set_max_sort_corrs_feats))\n",
    "set_max_sort_corrs_feats"
   ]
  },
  {
   "cell_type": "code",
   "execution_count": 57,
   "id": "0cfcba61",
   "metadata": {
    "execution": {
     "iopub.execute_input": "2023-11-12T13:48:23.929045Z",
     "iopub.status.busy": "2023-11-12T13:48:23.928388Z",
     "iopub.status.idle": "2023-11-12T13:48:24.080710Z",
     "shell.execute_reply": "2023-11-12T13:48:24.079958Z"
    },
    "papermill": {
     "duration": 0.188145,
     "end_time": "2023-11-12T13:48:24.082792",
     "exception": false,
     "start_time": "2023-11-12T13:48:23.894647",
     "status": "completed"
    },
    "tags": []
   },
   "outputs": [
    {
     "data": {
      "text/html": [
       "<div>\n",
       "<style scoped>\n",
       "    .dataframe tbody tr th:only-of-type {\n",
       "        vertical-align: middle;\n",
       "    }\n",
       "\n",
       "    .dataframe tbody tr th {\n",
       "        vertical-align: top;\n",
       "    }\n",
       "\n",
       "    .dataframe thead th {\n",
       "        text-align: right;\n",
       "    }\n",
       "</style>\n",
       "<table border=\"1\" class=\"dataframe\">\n",
       "  <thead>\n",
       "    <tr style=\"text-align: right;\">\n",
       "      <th></th>\n",
       "      <th>TransactionID</th>\n",
       "      <th>TransactionDT</th>\n",
       "      <th>TransactionAmt</th>\n",
       "      <th>ProductCD</th>\n",
       "      <th>card1</th>\n",
       "      <th>card2</th>\n",
       "      <th>card4</th>\n",
       "      <th>card5</th>\n",
       "      <th>card6</th>\n",
       "      <th>addr1</th>\n",
       "      <th>...</th>\n",
       "      <th>P_emaildomain</th>\n",
       "      <th>C3</th>\n",
       "      <th>D3</th>\n",
       "      <th>V1</th>\n",
       "      <th>V55</th>\n",
       "      <th>V107</th>\n",
       "      <th>V121</th>\n",
       "      <th>V281</th>\n",
       "      <th>V286</th>\n",
       "      <th>V305</th>\n",
       "    </tr>\n",
       "  </thead>\n",
       "  <tbody>\n",
       "    <tr>\n",
       "      <th>266381</th>\n",
       "      <td>3253381</td>\n",
       "      <td>6456381</td>\n",
       "      <td>365.000000</td>\n",
       "      <td>4</td>\n",
       "      <td>1893</td>\n",
       "      <td>514.0</td>\n",
       "      <td>2</td>\n",
       "      <td>224.0</td>\n",
       "      <td>1</td>\n",
       "      <td>315.0</td>\n",
       "      <td>...</td>\n",
       "      <td>44</td>\n",
       "      <td>0.0</td>\n",
       "      <td>19.0</td>\n",
       "      <td>1.0</td>\n",
       "      <td>1.0</td>\n",
       "      <td>1.0</td>\n",
       "      <td>1.0</td>\n",
       "      <td>0.0</td>\n",
       "      <td>0.0</td>\n",
       "      <td>1.0</td>\n",
       "    </tr>\n",
       "    <tr>\n",
       "      <th>242160</th>\n",
       "      <td>3229160</td>\n",
       "      <td>5735385</td>\n",
       "      <td>3080.969971</td>\n",
       "      <td>4</td>\n",
       "      <td>11207</td>\n",
       "      <td>361.0</td>\n",
       "      <td>4</td>\n",
       "      <td>226.0</td>\n",
       "      <td>2</td>\n",
       "      <td>126.0</td>\n",
       "      <td>...</td>\n",
       "      <td>16</td>\n",
       "      <td>0.0</td>\n",
       "      <td>NaN</td>\n",
       "      <td>NaN</td>\n",
       "      <td>1.0</td>\n",
       "      <td>1.0</td>\n",
       "      <td>1.0</td>\n",
       "      <td>0.0</td>\n",
       "      <td>0.0</td>\n",
       "      <td>1.0</td>\n",
       "    </tr>\n",
       "    <tr>\n",
       "      <th>13803</th>\n",
       "      <td>3000803</td>\n",
       "      <td>402672</td>\n",
       "      <td>75.000000</td>\n",
       "      <td>1</td>\n",
       "      <td>8908</td>\n",
       "      <td>583.0</td>\n",
       "      <td>4</td>\n",
       "      <td>226.0</td>\n",
       "      <td>1</td>\n",
       "      <td>181.0</td>\n",
       "      <td>...</td>\n",
       "      <td>19</td>\n",
       "      <td>0.0</td>\n",
       "      <td>NaN</td>\n",
       "      <td>NaN</td>\n",
       "      <td>NaN</td>\n",
       "      <td>1.0</td>\n",
       "      <td>1.0</td>\n",
       "      <td>0.0</td>\n",
       "      <td>0.0</td>\n",
       "      <td>1.0</td>\n",
       "    </tr>\n",
       "    <tr>\n",
       "      <th>135424</th>\n",
       "      <td>3122424</td>\n",
       "      <td>2731680</td>\n",
       "      <td>39.000000</td>\n",
       "      <td>4</td>\n",
       "      <td>7919</td>\n",
       "      <td>194.0</td>\n",
       "      <td>2</td>\n",
       "      <td>202.0</td>\n",
       "      <td>2</td>\n",
       "      <td>315.0</td>\n",
       "      <td>...</td>\n",
       "      <td>32</td>\n",
       "      <td>0.0</td>\n",
       "      <td>NaN</td>\n",
       "      <td>1.0</td>\n",
       "      <td>1.0</td>\n",
       "      <td>1.0</td>\n",
       "      <td>1.0</td>\n",
       "      <td>0.0</td>\n",
       "      <td>0.0</td>\n",
       "      <td>1.0</td>\n",
       "    </tr>\n",
       "    <tr>\n",
       "      <th>98374</th>\n",
       "      <td>3085374</td>\n",
       "      <td>1985221</td>\n",
       "      <td>100.000000</td>\n",
       "      <td>1</td>\n",
       "      <td>1043</td>\n",
       "      <td>399.0</td>\n",
       "      <td>0</td>\n",
       "      <td>146.0</td>\n",
       "      <td>1</td>\n",
       "      <td>485.0</td>\n",
       "      <td>...</td>\n",
       "      <td>16</td>\n",
       "      <td>0.0</td>\n",
       "      <td>NaN</td>\n",
       "      <td>NaN</td>\n",
       "      <td>NaN</td>\n",
       "      <td>1.0</td>\n",
       "      <td>1.0</td>\n",
       "      <td>0.0</td>\n",
       "      <td>0.0</td>\n",
       "      <td>1.0</td>\n",
       "    </tr>\n",
       "    <tr>\n",
       "      <th>...</th>\n",
       "      <td>...</td>\n",
       "      <td>...</td>\n",
       "      <td>...</td>\n",
       "      <td>...</td>\n",
       "      <td>...</td>\n",
       "      <td>...</td>\n",
       "      <td>...</td>\n",
       "      <td>...</td>\n",
       "      <td>...</td>\n",
       "      <td>...</td>\n",
       "      <td>...</td>\n",
       "      <td>...</td>\n",
       "      <td>...</td>\n",
       "      <td>...</td>\n",
       "      <td>...</td>\n",
       "      <td>...</td>\n",
       "      <td>...</td>\n",
       "      <td>...</td>\n",
       "      <td>...</td>\n",
       "      <td>...</td>\n",
       "      <td>...</td>\n",
       "    </tr>\n",
       "    <tr>\n",
       "      <th>53761</th>\n",
       "      <td>3040761</td>\n",
       "      <td>1269188</td>\n",
       "      <td>664.000000</td>\n",
       "      <td>4</td>\n",
       "      <td>10616</td>\n",
       "      <td>583.0</td>\n",
       "      <td>4</td>\n",
       "      <td>226.0</td>\n",
       "      <td>1</td>\n",
       "      <td>181.0</td>\n",
       "      <td>...</td>\n",
       "      <td>44</td>\n",
       "      <td>0.0</td>\n",
       "      <td>0.0</td>\n",
       "      <td>1.0</td>\n",
       "      <td>1.0</td>\n",
       "      <td>1.0</td>\n",
       "      <td>1.0</td>\n",
       "      <td>0.0</td>\n",
       "      <td>0.0</td>\n",
       "      <td>1.0</td>\n",
       "    </tr>\n",
       "    <tr>\n",
       "      <th>23471</th>\n",
       "      <td>3010471</td>\n",
       "      <td>599531</td>\n",
       "      <td>59.000000</td>\n",
       "      <td>4</td>\n",
       "      <td>15497</td>\n",
       "      <td>490.0</td>\n",
       "      <td>4</td>\n",
       "      <td>226.0</td>\n",
       "      <td>2</td>\n",
       "      <td>299.0</td>\n",
       "      <td>...</td>\n",
       "      <td>32</td>\n",
       "      <td>0.0</td>\n",
       "      <td>0.0</td>\n",
       "      <td>NaN</td>\n",
       "      <td>1.0</td>\n",
       "      <td>1.0</td>\n",
       "      <td>1.0</td>\n",
       "      <td>0.0</td>\n",
       "      <td>0.0</td>\n",
       "      <td>1.0</td>\n",
       "    </tr>\n",
       "    <tr>\n",
       "      <th>445180</th>\n",
       "      <td>3432180</td>\n",
       "      <td>11318519</td>\n",
       "      <td>67.949997</td>\n",
       "      <td>4</td>\n",
       "      <td>15238</td>\n",
       "      <td>543.0</td>\n",
       "      <td>2</td>\n",
       "      <td>224.0</td>\n",
       "      <td>2</td>\n",
       "      <td>191.0</td>\n",
       "      <td>...</td>\n",
       "      <td>19</td>\n",
       "      <td>0.0</td>\n",
       "      <td>17.0</td>\n",
       "      <td>NaN</td>\n",
       "      <td>1.0</td>\n",
       "      <td>1.0</td>\n",
       "      <td>1.0</td>\n",
       "      <td>0.0</td>\n",
       "      <td>0.0</td>\n",
       "      <td>1.0</td>\n",
       "    </tr>\n",
       "    <tr>\n",
       "      <th>407369</th>\n",
       "      <td>3394369</td>\n",
       "      <td>10282735</td>\n",
       "      <td>58.970001</td>\n",
       "      <td>4</td>\n",
       "      <td>17009</td>\n",
       "      <td>111.0</td>\n",
       "      <td>4</td>\n",
       "      <td>195.0</td>\n",
       "      <td>2</td>\n",
       "      <td>441.0</td>\n",
       "      <td>...</td>\n",
       "      <td>16</td>\n",
       "      <td>0.0</td>\n",
       "      <td>17.0</td>\n",
       "      <td>1.0</td>\n",
       "      <td>1.0</td>\n",
       "      <td>1.0</td>\n",
       "      <td>1.0</td>\n",
       "      <td>0.0</td>\n",
       "      <td>0.0</td>\n",
       "      <td>1.0</td>\n",
       "    </tr>\n",
       "    <tr>\n",
       "      <th>317434</th>\n",
       "      <td>3304434</td>\n",
       "      <td>7913869</td>\n",
       "      <td>97.949997</td>\n",
       "      <td>4</td>\n",
       "      <td>10447</td>\n",
       "      <td>490.0</td>\n",
       "      <td>4</td>\n",
       "      <td>226.0</td>\n",
       "      <td>2</td>\n",
       "      <td>315.0</td>\n",
       "      <td>...</td>\n",
       "      <td>54</td>\n",
       "      <td>0.0</td>\n",
       "      <td>28.0</td>\n",
       "      <td>NaN</td>\n",
       "      <td>1.0</td>\n",
       "      <td>1.0</td>\n",
       "      <td>1.0</td>\n",
       "      <td>0.0</td>\n",
       "      <td>0.0</td>\n",
       "      <td>1.0</td>\n",
       "    </tr>\n",
       "  </tbody>\n",
       "</table>\n",
       "<p>413378 rows × 21 columns</p>\n",
       "</div>"
      ],
      "text/plain": [
       "        TransactionID  TransactionDT  TransactionAmt  ProductCD  card1  card2  \\\n",
       "266381        3253381        6456381      365.000000          4   1893  514.0   \n",
       "242160        3229160        5735385     3080.969971          4  11207  361.0   \n",
       "13803         3000803         402672       75.000000          1   8908  583.0   \n",
       "135424        3122424        2731680       39.000000          4   7919  194.0   \n",
       "98374         3085374        1985221      100.000000          1   1043  399.0   \n",
       "...               ...            ...             ...        ...    ...    ...   \n",
       "53761         3040761        1269188      664.000000          4  10616  583.0   \n",
       "23471         3010471         599531       59.000000          4  15497  490.0   \n",
       "445180        3432180       11318519       67.949997          4  15238  543.0   \n",
       "407369        3394369       10282735       58.970001          4  17009  111.0   \n",
       "317434        3304434        7913869       97.949997          4  10447  490.0   \n",
       "\n",
       "        card4  card5  card6  addr1  ...  P_emaildomain   C3    D3   V1  V55  \\\n",
       "266381      2  224.0      1  315.0  ...             44  0.0  19.0  1.0  1.0   \n",
       "242160      4  226.0      2  126.0  ...             16  0.0   NaN  NaN  1.0   \n",
       "13803       4  226.0      1  181.0  ...             19  0.0   NaN  NaN  NaN   \n",
       "135424      2  202.0      2  315.0  ...             32  0.0   NaN  1.0  1.0   \n",
       "98374       0  146.0      1  485.0  ...             16  0.0   NaN  NaN  NaN   \n",
       "...       ...    ...    ...    ...  ...            ...  ...   ...  ...  ...   \n",
       "53761       4  226.0      1  181.0  ...             44  0.0   0.0  1.0  1.0   \n",
       "23471       4  226.0      2  299.0  ...             32  0.0   0.0  NaN  1.0   \n",
       "445180      2  224.0      2  191.0  ...             19  0.0  17.0  NaN  1.0   \n",
       "407369      4  195.0      2  441.0  ...             16  0.0  17.0  1.0  1.0   \n",
       "317434      4  226.0      2  315.0  ...             54  0.0  28.0  NaN  1.0   \n",
       "\n",
       "        V107  V121  V281  V286  V305  \n",
       "266381   1.0   1.0   0.0   0.0   1.0  \n",
       "242160   1.0   1.0   0.0   0.0   1.0  \n",
       "13803    1.0   1.0   0.0   0.0   1.0  \n",
       "135424   1.0   1.0   0.0   0.0   1.0  \n",
       "98374    1.0   1.0   0.0   0.0   1.0  \n",
       "...      ...   ...   ...   ...   ...  \n",
       "53761    1.0   1.0   0.0   0.0   1.0  \n",
       "23471    1.0   1.0   0.0   0.0   1.0  \n",
       "445180   1.0   1.0   0.0   0.0   1.0  \n",
       "407369   1.0   1.0   0.0   0.0   1.0  \n",
       "317434   1.0   1.0   0.0   0.0   1.0  \n",
       "\n",
       "[413378 rows x 21 columns]"
      ]
     },
     "execution_count": 57,
     "metadata": {},
     "output_type": "execute_result"
    }
   ],
   "source": [
    "X_train = X_train.drop(columns=list(set_max_sort_corrs_feats))\n",
    "X_train"
   ]
  },
  {
   "cell_type": "code",
   "execution_count": 58,
   "id": "7e5ee0f7",
   "metadata": {
    "execution": {
     "iopub.execute_input": "2023-11-12T13:48:24.152828Z",
     "iopub.status.busy": "2023-11-12T13:48:24.151922Z",
     "iopub.status.idle": "2023-11-12T13:48:24.237523Z",
     "shell.execute_reply": "2023-11-12T13:48:24.236372Z"
    },
    "papermill": {
     "duration": 0.12338,
     "end_time": "2023-11-12T13:48:24.239986",
     "exception": false,
     "start_time": "2023-11-12T13:48:24.116606",
     "status": "completed"
    },
    "tags": []
   },
   "outputs": [
    {
     "data": {
      "text/html": [
       "<div>\n",
       "<style scoped>\n",
       "    .dataframe tbody tr th:only-of-type {\n",
       "        vertical-align: middle;\n",
       "    }\n",
       "\n",
       "    .dataframe tbody tr th {\n",
       "        vertical-align: top;\n",
       "    }\n",
       "\n",
       "    .dataframe thead th {\n",
       "        text-align: right;\n",
       "    }\n",
       "</style>\n",
       "<table border=\"1\" class=\"dataframe\">\n",
       "  <thead>\n",
       "    <tr style=\"text-align: right;\">\n",
       "      <th></th>\n",
       "      <th>TransactionID</th>\n",
       "      <th>TransactionDT</th>\n",
       "      <th>TransactionAmt</th>\n",
       "      <th>ProductCD</th>\n",
       "      <th>card1</th>\n",
       "      <th>card2</th>\n",
       "      <th>card4</th>\n",
       "      <th>card5</th>\n",
       "      <th>card6</th>\n",
       "      <th>addr1</th>\n",
       "      <th>...</th>\n",
       "      <th>P_emaildomain</th>\n",
       "      <th>C3</th>\n",
       "      <th>D3</th>\n",
       "      <th>V1</th>\n",
       "      <th>V55</th>\n",
       "      <th>V107</th>\n",
       "      <th>V121</th>\n",
       "      <th>V281</th>\n",
       "      <th>V286</th>\n",
       "      <th>V305</th>\n",
       "    </tr>\n",
       "  </thead>\n",
       "  <tbody>\n",
       "    <tr>\n",
       "      <th>509548</th>\n",
       "      <td>3496548</td>\n",
       "      <td>13354870</td>\n",
       "      <td>59.000000</td>\n",
       "      <td>4</td>\n",
       "      <td>2803</td>\n",
       "      <td>100.0</td>\n",
       "      <td>4</td>\n",
       "      <td>226.0</td>\n",
       "      <td>2</td>\n",
       "      <td>184.0</td>\n",
       "      <td>...</td>\n",
       "      <td>2</td>\n",
       "      <td>0.0</td>\n",
       "      <td>15.0</td>\n",
       "      <td>1.0</td>\n",
       "      <td>1.0</td>\n",
       "      <td>1.0</td>\n",
       "      <td>1.0</td>\n",
       "      <td>0.0</td>\n",
       "      <td>0.0</td>\n",
       "      <td>1.0</td>\n",
       "    </tr>\n",
       "    <tr>\n",
       "      <th>18764</th>\n",
       "      <td>3005764</td>\n",
       "      <td>500420</td>\n",
       "      <td>140.000000</td>\n",
       "      <td>4</td>\n",
       "      <td>11207</td>\n",
       "      <td>361.0</td>\n",
       "      <td>4</td>\n",
       "      <td>226.0</td>\n",
       "      <td>2</td>\n",
       "      <td>325.0</td>\n",
       "      <td>...</td>\n",
       "      <td>32</td>\n",
       "      <td>0.0</td>\n",
       "      <td>12.0</td>\n",
       "      <td>NaN</td>\n",
       "      <td>1.0</td>\n",
       "      <td>1.0</td>\n",
       "      <td>1.0</td>\n",
       "      <td>0.0</td>\n",
       "      <td>0.0</td>\n",
       "      <td>1.0</td>\n",
       "    </tr>\n",
       "    <tr>\n",
       "      <th>138429</th>\n",
       "      <td>3125429</td>\n",
       "      <td>2827784</td>\n",
       "      <td>28.216999</td>\n",
       "      <td>0</td>\n",
       "      <td>9633</td>\n",
       "      <td>296.0</td>\n",
       "      <td>4</td>\n",
       "      <td>138.0</td>\n",
       "      <td>2</td>\n",
       "      <td>NaN</td>\n",
       "      <td>...</td>\n",
       "      <td>16</td>\n",
       "      <td>0.0</td>\n",
       "      <td>0.0</td>\n",
       "      <td>NaN</td>\n",
       "      <td>5.0</td>\n",
       "      <td>1.0</td>\n",
       "      <td>1.0</td>\n",
       "      <td>0.0</td>\n",
       "      <td>0.0</td>\n",
       "      <td>1.0</td>\n",
       "    </tr>\n",
       "    <tr>\n",
       "      <th>367372</th>\n",
       "      <td>3354372</td>\n",
       "      <td>9135955</td>\n",
       "      <td>138.000000</td>\n",
       "      <td>4</td>\n",
       "      <td>17892</td>\n",
       "      <td>126.0</td>\n",
       "      <td>4</td>\n",
       "      <td>226.0</td>\n",
       "      <td>2</td>\n",
       "      <td>315.0</td>\n",
       "      <td>...</td>\n",
       "      <td>2</td>\n",
       "      <td>0.0</td>\n",
       "      <td>217.0</td>\n",
       "      <td>NaN</td>\n",
       "      <td>1.0</td>\n",
       "      <td>1.0</td>\n",
       "      <td>1.0</td>\n",
       "      <td>0.0</td>\n",
       "      <td>0.0</td>\n",
       "      <td>1.0</td>\n",
       "    </tr>\n",
       "    <tr>\n",
       "      <th>290347</th>\n",
       "      <td>3277347</td>\n",
       "      <td>7155271</td>\n",
       "      <td>59.000000</td>\n",
       "      <td>4</td>\n",
       "      <td>1039</td>\n",
       "      <td>391.0</td>\n",
       "      <td>4</td>\n",
       "      <td>166.0</td>\n",
       "      <td>2</td>\n",
       "      <td>325.0</td>\n",
       "      <td>...</td>\n",
       "      <td>16</td>\n",
       "      <td>0.0</td>\n",
       "      <td>7.0</td>\n",
       "      <td>1.0</td>\n",
       "      <td>1.0</td>\n",
       "      <td>1.0</td>\n",
       "      <td>1.0</td>\n",
       "      <td>0.0</td>\n",
       "      <td>0.0</td>\n",
       "      <td>1.0</td>\n",
       "    </tr>\n",
       "    <tr>\n",
       "      <th>...</th>\n",
       "      <td>...</td>\n",
       "      <td>...</td>\n",
       "      <td>...</td>\n",
       "      <td>...</td>\n",
       "      <td>...</td>\n",
       "      <td>...</td>\n",
       "      <td>...</td>\n",
       "      <td>...</td>\n",
       "      <td>...</td>\n",
       "      <td>...</td>\n",
       "      <td>...</td>\n",
       "      <td>...</td>\n",
       "      <td>...</td>\n",
       "      <td>...</td>\n",
       "      <td>...</td>\n",
       "      <td>...</td>\n",
       "      <td>...</td>\n",
       "      <td>...</td>\n",
       "      <td>...</td>\n",
       "      <td>...</td>\n",
       "      <td>...</td>\n",
       "    </tr>\n",
       "    <tr>\n",
       "      <th>254882</th>\n",
       "      <td>3241882</td>\n",
       "      <td>6106281</td>\n",
       "      <td>100.000000</td>\n",
       "      <td>1</td>\n",
       "      <td>12544</td>\n",
       "      <td>321.0</td>\n",
       "      <td>4</td>\n",
       "      <td>226.0</td>\n",
       "      <td>2</td>\n",
       "      <td>441.0</td>\n",
       "      <td>...</td>\n",
       "      <td>16</td>\n",
       "      <td>0.0</td>\n",
       "      <td>NaN</td>\n",
       "      <td>NaN</td>\n",
       "      <td>NaN</td>\n",
       "      <td>1.0</td>\n",
       "      <td>1.0</td>\n",
       "      <td>0.0</td>\n",
       "      <td>0.0</td>\n",
       "      <td>1.0</td>\n",
       "    </tr>\n",
       "    <tr>\n",
       "      <th>524523</th>\n",
       "      <td>3511523</td>\n",
       "      <td>13793173</td>\n",
       "      <td>54.500000</td>\n",
       "      <td>4</td>\n",
       "      <td>9992</td>\n",
       "      <td>455.0</td>\n",
       "      <td>2</td>\n",
       "      <td>126.0</td>\n",
       "      <td>2</td>\n",
       "      <td>220.0</td>\n",
       "      <td>...</td>\n",
       "      <td>16</td>\n",
       "      <td>0.0</td>\n",
       "      <td>14.0</td>\n",
       "      <td>1.0</td>\n",
       "      <td>1.0</td>\n",
       "      <td>1.0</td>\n",
       "      <td>1.0</td>\n",
       "      <td>0.0</td>\n",
       "      <td>0.0</td>\n",
       "      <td>1.0</td>\n",
       "    </tr>\n",
       "    <tr>\n",
       "      <th>140267</th>\n",
       "      <td>3127267</td>\n",
       "      <td>2863769</td>\n",
       "      <td>35.950001</td>\n",
       "      <td>4</td>\n",
       "      <td>2803</td>\n",
       "      <td>100.0</td>\n",
       "      <td>4</td>\n",
       "      <td>226.0</td>\n",
       "      <td>2</td>\n",
       "      <td>387.0</td>\n",
       "      <td>...</td>\n",
       "      <td>32</td>\n",
       "      <td>0.0</td>\n",
       "      <td>29.0</td>\n",
       "      <td>NaN</td>\n",
       "      <td>1.0</td>\n",
       "      <td>1.0</td>\n",
       "      <td>1.0</td>\n",
       "      <td>0.0</td>\n",
       "      <td>0.0</td>\n",
       "      <td>1.0</td>\n",
       "    </tr>\n",
       "    <tr>\n",
       "      <th>407762</th>\n",
       "      <td>3394762</td>\n",
       "      <td>10290223</td>\n",
       "      <td>58.950001</td>\n",
       "      <td>4</td>\n",
       "      <td>15847</td>\n",
       "      <td>216.0</td>\n",
       "      <td>4</td>\n",
       "      <td>226.0</td>\n",
       "      <td>2</td>\n",
       "      <td>444.0</td>\n",
       "      <td>...</td>\n",
       "      <td>16</td>\n",
       "      <td>0.0</td>\n",
       "      <td>NaN</td>\n",
       "      <td>1.0</td>\n",
       "      <td>1.0</td>\n",
       "      <td>1.0</td>\n",
       "      <td>1.0</td>\n",
       "      <td>0.0</td>\n",
       "      <td>0.0</td>\n",
       "      <td>1.0</td>\n",
       "    </tr>\n",
       "    <tr>\n",
       "      <th>378276</th>\n",
       "      <td>3365276</td>\n",
       "      <td>9474032</td>\n",
       "      <td>312.950012</td>\n",
       "      <td>4</td>\n",
       "      <td>17131</td>\n",
       "      <td>111.0</td>\n",
       "      <td>2</td>\n",
       "      <td>224.0</td>\n",
       "      <td>2</td>\n",
       "      <td>264.0</td>\n",
       "      <td>...</td>\n",
       "      <td>54</td>\n",
       "      <td>0.0</td>\n",
       "      <td>NaN</td>\n",
       "      <td>1.0</td>\n",
       "      <td>1.0</td>\n",
       "      <td>1.0</td>\n",
       "      <td>1.0</td>\n",
       "      <td>0.0</td>\n",
       "      <td>0.0</td>\n",
       "      <td>1.0</td>\n",
       "    </tr>\n",
       "  </tbody>\n",
       "</table>\n",
       "<p>177162 rows × 21 columns</p>\n",
       "</div>"
      ],
      "text/plain": [
       "        TransactionID  TransactionDT  TransactionAmt  ProductCD  card1  card2  \\\n",
       "509548        3496548       13354870       59.000000          4   2803  100.0   \n",
       "18764         3005764         500420      140.000000          4  11207  361.0   \n",
       "138429        3125429        2827784       28.216999          0   9633  296.0   \n",
       "367372        3354372        9135955      138.000000          4  17892  126.0   \n",
       "290347        3277347        7155271       59.000000          4   1039  391.0   \n",
       "...               ...            ...             ...        ...    ...    ...   \n",
       "254882        3241882        6106281      100.000000          1  12544  321.0   \n",
       "524523        3511523       13793173       54.500000          4   9992  455.0   \n",
       "140267        3127267        2863769       35.950001          4   2803  100.0   \n",
       "407762        3394762       10290223       58.950001          4  15847  216.0   \n",
       "378276        3365276        9474032      312.950012          4  17131  111.0   \n",
       "\n",
       "        card4  card5  card6  addr1  ...  P_emaildomain   C3     D3   V1  V55  \\\n",
       "509548      4  226.0      2  184.0  ...              2  0.0   15.0  1.0  1.0   \n",
       "18764       4  226.0      2  325.0  ...             32  0.0   12.0  NaN  1.0   \n",
       "138429      4  138.0      2    NaN  ...             16  0.0    0.0  NaN  5.0   \n",
       "367372      4  226.0      2  315.0  ...              2  0.0  217.0  NaN  1.0   \n",
       "290347      4  166.0      2  325.0  ...             16  0.0    7.0  1.0  1.0   \n",
       "...       ...    ...    ...    ...  ...            ...  ...    ...  ...  ...   \n",
       "254882      4  226.0      2  441.0  ...             16  0.0    NaN  NaN  NaN   \n",
       "524523      2  126.0      2  220.0  ...             16  0.0   14.0  1.0  1.0   \n",
       "140267      4  226.0      2  387.0  ...             32  0.0   29.0  NaN  1.0   \n",
       "407762      4  226.0      2  444.0  ...             16  0.0    NaN  1.0  1.0   \n",
       "378276      2  224.0      2  264.0  ...             54  0.0    NaN  1.0  1.0   \n",
       "\n",
       "        V107  V121  V281  V286  V305  \n",
       "509548   1.0   1.0   0.0   0.0   1.0  \n",
       "18764    1.0   1.0   0.0   0.0   1.0  \n",
       "138429   1.0   1.0   0.0   0.0   1.0  \n",
       "367372   1.0   1.0   0.0   0.0   1.0  \n",
       "290347   1.0   1.0   0.0   0.0   1.0  \n",
       "...      ...   ...   ...   ...   ...  \n",
       "254882   1.0   1.0   0.0   0.0   1.0  \n",
       "524523   1.0   1.0   0.0   0.0   1.0  \n",
       "140267   1.0   1.0   0.0   0.0   1.0  \n",
       "407762   1.0   1.0   0.0   0.0   1.0  \n",
       "378276   1.0   1.0   0.0   0.0   1.0  \n",
       "\n",
       "[177162 rows x 21 columns]"
      ]
     },
     "execution_count": 58,
     "metadata": {},
     "output_type": "execute_result"
    }
   ],
   "source": [
    "X_valid = X_valid.drop(columns=list(set_max_sort_corrs_feats))\n",
    "X_valid"
   ]
  },
  {
   "cell_type": "code",
   "execution_count": 59,
   "id": "40310c1d",
   "metadata": {
    "execution": {
     "iopub.execute_input": "2023-11-12T13:48:24.318930Z",
     "iopub.status.busy": "2023-11-12T13:48:24.318563Z",
     "iopub.status.idle": "2023-11-12T13:48:24.430586Z",
     "shell.execute_reply": "2023-11-12T13:48:24.429391Z"
    },
    "papermill": {
     "duration": 0.158266,
     "end_time": "2023-11-12T13:48:24.432823",
     "exception": false,
     "start_time": "2023-11-12T13:48:24.274557",
     "status": "completed"
    },
    "tags": []
   },
   "outputs": [
    {
     "data": {
      "text/html": [
       "<div>\n",
       "<style scoped>\n",
       "    .dataframe tbody tr th:only-of-type {\n",
       "        vertical-align: middle;\n",
       "    }\n",
       "\n",
       "    .dataframe tbody tr th {\n",
       "        vertical-align: top;\n",
       "    }\n",
       "\n",
       "    .dataframe thead th {\n",
       "        text-align: right;\n",
       "    }\n",
       "</style>\n",
       "<table border=\"1\" class=\"dataframe\">\n",
       "  <thead>\n",
       "    <tr style=\"text-align: right;\">\n",
       "      <th></th>\n",
       "      <th>TransactionID</th>\n",
       "      <th>TransactionDT</th>\n",
       "      <th>TransactionAmt</th>\n",
       "      <th>ProductCD</th>\n",
       "      <th>card1</th>\n",
       "      <th>card2</th>\n",
       "      <th>card4</th>\n",
       "      <th>card5</th>\n",
       "      <th>card6</th>\n",
       "      <th>addr1</th>\n",
       "      <th>...</th>\n",
       "      <th>P_emaildomain</th>\n",
       "      <th>C3</th>\n",
       "      <th>D3</th>\n",
       "      <th>V1</th>\n",
       "      <th>V55</th>\n",
       "      <th>V107</th>\n",
       "      <th>V121</th>\n",
       "      <th>V281</th>\n",
       "      <th>V286</th>\n",
       "      <th>V305</th>\n",
       "    </tr>\n",
       "  </thead>\n",
       "  <tbody>\n",
       "    <tr>\n",
       "      <th>0</th>\n",
       "      <td>3663549</td>\n",
       "      <td>18403224</td>\n",
       "      <td>31.950001</td>\n",
       "      <td>4</td>\n",
       "      <td>10409</td>\n",
       "      <td>111.0</td>\n",
       "      <td>4</td>\n",
       "      <td>226.0</td>\n",
       "      <td>2</td>\n",
       "      <td>170.0</td>\n",
       "      <td>...</td>\n",
       "      <td>16</td>\n",
       "      <td>0.0</td>\n",
       "      <td>27.0</td>\n",
       "      <td>1.0</td>\n",
       "      <td>1.0</td>\n",
       "      <td>1.0</td>\n",
       "      <td>1.0</td>\n",
       "      <td>0.0</td>\n",
       "      <td>0.0</td>\n",
       "      <td>1.0</td>\n",
       "    </tr>\n",
       "    <tr>\n",
       "      <th>1</th>\n",
       "      <td>3663550</td>\n",
       "      <td>18403263</td>\n",
       "      <td>49.000000</td>\n",
       "      <td>4</td>\n",
       "      <td>4272</td>\n",
       "      <td>111.0</td>\n",
       "      <td>4</td>\n",
       "      <td>226.0</td>\n",
       "      <td>2</td>\n",
       "      <td>299.0</td>\n",
       "      <td>...</td>\n",
       "      <td>2</td>\n",
       "      <td>0.0</td>\n",
       "      <td>7.0</td>\n",
       "      <td>1.0</td>\n",
       "      <td>1.0</td>\n",
       "      <td>1.0</td>\n",
       "      <td>1.0</td>\n",
       "      <td>0.0</td>\n",
       "      <td>0.0</td>\n",
       "      <td>1.0</td>\n",
       "    </tr>\n",
       "    <tr>\n",
       "      <th>2</th>\n",
       "      <td>3663551</td>\n",
       "      <td>18403310</td>\n",
       "      <td>171.000000</td>\n",
       "      <td>4</td>\n",
       "      <td>4476</td>\n",
       "      <td>574.0</td>\n",
       "      <td>4</td>\n",
       "      <td>226.0</td>\n",
       "      <td>2</td>\n",
       "      <td>472.0</td>\n",
       "      <td>...</td>\n",
       "      <td>19</td>\n",
       "      <td>0.0</td>\n",
       "      <td>10.0</td>\n",
       "      <td>1.0</td>\n",
       "      <td>1.0</td>\n",
       "      <td>1.0</td>\n",
       "      <td>1.0</td>\n",
       "      <td>0.0</td>\n",
       "      <td>0.0</td>\n",
       "      <td>1.0</td>\n",
       "    </tr>\n",
       "    <tr>\n",
       "      <th>3</th>\n",
       "      <td>3663552</td>\n",
       "      <td>18403310</td>\n",
       "      <td>284.950012</td>\n",
       "      <td>4</td>\n",
       "      <td>10989</td>\n",
       "      <td>360.0</td>\n",
       "      <td>4</td>\n",
       "      <td>166.0</td>\n",
       "      <td>2</td>\n",
       "      <td>205.0</td>\n",
       "      <td>...</td>\n",
       "      <td>16</td>\n",
       "      <td>0.0</td>\n",
       "      <td>41.0</td>\n",
       "      <td>1.0</td>\n",
       "      <td>1.0</td>\n",
       "      <td>1.0</td>\n",
       "      <td>1.0</td>\n",
       "      <td>0.0</td>\n",
       "      <td>0.0</td>\n",
       "      <td>1.0</td>\n",
       "    </tr>\n",
       "    <tr>\n",
       "      <th>4</th>\n",
       "      <td>3663553</td>\n",
       "      <td>18403317</td>\n",
       "      <td>67.949997</td>\n",
       "      <td>4</td>\n",
       "      <td>18018</td>\n",
       "      <td>452.0</td>\n",
       "      <td>2</td>\n",
       "      <td>117.0</td>\n",
       "      <td>2</td>\n",
       "      <td>264.0</td>\n",
       "      <td>...</td>\n",
       "      <td>16</td>\n",
       "      <td>0.0</td>\n",
       "      <td>0.0</td>\n",
       "      <td>1.0</td>\n",
       "      <td>1.0</td>\n",
       "      <td>1.0</td>\n",
       "      <td>1.0</td>\n",
       "      <td>0.0</td>\n",
       "      <td>1.0</td>\n",
       "      <td>1.0</td>\n",
       "    </tr>\n",
       "    <tr>\n",
       "      <th>...</th>\n",
       "      <td>...</td>\n",
       "      <td>...</td>\n",
       "      <td>...</td>\n",
       "      <td>...</td>\n",
       "      <td>...</td>\n",
       "      <td>...</td>\n",
       "      <td>...</td>\n",
       "      <td>...</td>\n",
       "      <td>...</td>\n",
       "      <td>...</td>\n",
       "      <td>...</td>\n",
       "      <td>...</td>\n",
       "      <td>...</td>\n",
       "      <td>...</td>\n",
       "      <td>...</td>\n",
       "      <td>...</td>\n",
       "      <td>...</td>\n",
       "      <td>...</td>\n",
       "      <td>...</td>\n",
       "      <td>...</td>\n",
       "      <td>...</td>\n",
       "    </tr>\n",
       "    <tr>\n",
       "      <th>506686</th>\n",
       "      <td>4170235</td>\n",
       "      <td>34214279</td>\n",
       "      <td>94.679001</td>\n",
       "      <td>0</td>\n",
       "      <td>13832</td>\n",
       "      <td>375.0</td>\n",
       "      <td>2</td>\n",
       "      <td>224.0</td>\n",
       "      <td>2</td>\n",
       "      <td>284.0</td>\n",
       "      <td>...</td>\n",
       "      <td>16</td>\n",
       "      <td>0.0</td>\n",
       "      <td>NaN</td>\n",
       "      <td>NaN</td>\n",
       "      <td>1.0</td>\n",
       "      <td>1.0</td>\n",
       "      <td>1.0</td>\n",
       "      <td>0.0</td>\n",
       "      <td>0.0</td>\n",
       "      <td>1.0</td>\n",
       "    </tr>\n",
       "    <tr>\n",
       "      <th>506687</th>\n",
       "      <td>4170236</td>\n",
       "      <td>34214287</td>\n",
       "      <td>12.173000</td>\n",
       "      <td>0</td>\n",
       "      <td>3154</td>\n",
       "      <td>408.0</td>\n",
       "      <td>2</td>\n",
       "      <td>224.0</td>\n",
       "      <td>2</td>\n",
       "      <td>NaN</td>\n",
       "      <td>...</td>\n",
       "      <td>19</td>\n",
       "      <td>0.0</td>\n",
       "      <td>16.0</td>\n",
       "      <td>NaN</td>\n",
       "      <td>2.0</td>\n",
       "      <td>1.0</td>\n",
       "      <td>1.0</td>\n",
       "      <td>1.0</td>\n",
       "      <td>0.0</td>\n",
       "      <td>1.0</td>\n",
       "    </tr>\n",
       "    <tr>\n",
       "      <th>506688</th>\n",
       "      <td>4170237</td>\n",
       "      <td>34214326</td>\n",
       "      <td>49.000000</td>\n",
       "      <td>4</td>\n",
       "      <td>16661</td>\n",
       "      <td>490.0</td>\n",
       "      <td>4</td>\n",
       "      <td>226.0</td>\n",
       "      <td>2</td>\n",
       "      <td>327.0</td>\n",
       "      <td>...</td>\n",
       "      <td>19</td>\n",
       "      <td>0.0</td>\n",
       "      <td>NaN</td>\n",
       "      <td>1.0</td>\n",
       "      <td>1.0</td>\n",
       "      <td>1.0</td>\n",
       "      <td>1.0</td>\n",
       "      <td>0.0</td>\n",
       "      <td>0.0</td>\n",
       "      <td>1.0</td>\n",
       "    </tr>\n",
       "    <tr>\n",
       "      <th>506689</th>\n",
       "      <td>4170238</td>\n",
       "      <td>34214337</td>\n",
       "      <td>202.000000</td>\n",
       "      <td>4</td>\n",
       "      <td>16621</td>\n",
       "      <td>516.0</td>\n",
       "      <td>2</td>\n",
       "      <td>224.0</td>\n",
       "      <td>2</td>\n",
       "      <td>177.0</td>\n",
       "      <td>...</td>\n",
       "      <td>19</td>\n",
       "      <td>0.0</td>\n",
       "      <td>NaN</td>\n",
       "      <td>1.0</td>\n",
       "      <td>1.0</td>\n",
       "      <td>1.0</td>\n",
       "      <td>1.0</td>\n",
       "      <td>0.0</td>\n",
       "      <td>0.0</td>\n",
       "      <td>1.0</td>\n",
       "    </tr>\n",
       "    <tr>\n",
       "      <th>506690</th>\n",
       "      <td>4170239</td>\n",
       "      <td>34214345</td>\n",
       "      <td>24.346001</td>\n",
       "      <td>0</td>\n",
       "      <td>5713</td>\n",
       "      <td>168.0</td>\n",
       "      <td>4</td>\n",
       "      <td>147.0</td>\n",
       "      <td>1</td>\n",
       "      <td>NaN</td>\n",
       "      <td>...</td>\n",
       "      <td>19</td>\n",
       "      <td>0.0</td>\n",
       "      <td>NaN</td>\n",
       "      <td>NaN</td>\n",
       "      <td>1.0</td>\n",
       "      <td>1.0</td>\n",
       "      <td>1.0</td>\n",
       "      <td>0.0</td>\n",
       "      <td>0.0</td>\n",
       "      <td>1.0</td>\n",
       "    </tr>\n",
       "  </tbody>\n",
       "</table>\n",
       "<p>506691 rows × 21 columns</p>\n",
       "</div>"
      ],
      "text/plain": [
       "        TransactionID  TransactionDT  TransactionAmt  ProductCD  card1  card2  \\\n",
       "0             3663549       18403224       31.950001          4  10409  111.0   \n",
       "1             3663550       18403263       49.000000          4   4272  111.0   \n",
       "2             3663551       18403310      171.000000          4   4476  574.0   \n",
       "3             3663552       18403310      284.950012          4  10989  360.0   \n",
       "4             3663553       18403317       67.949997          4  18018  452.0   \n",
       "...               ...            ...             ...        ...    ...    ...   \n",
       "506686        4170235       34214279       94.679001          0  13832  375.0   \n",
       "506687        4170236       34214287       12.173000          0   3154  408.0   \n",
       "506688        4170237       34214326       49.000000          4  16661  490.0   \n",
       "506689        4170238       34214337      202.000000          4  16621  516.0   \n",
       "506690        4170239       34214345       24.346001          0   5713  168.0   \n",
       "\n",
       "        card4  card5  card6  addr1  ...  P_emaildomain   C3    D3   V1  V55  \\\n",
       "0           4  226.0      2  170.0  ...             16  0.0  27.0  1.0  1.0   \n",
       "1           4  226.0      2  299.0  ...              2  0.0   7.0  1.0  1.0   \n",
       "2           4  226.0      2  472.0  ...             19  0.0  10.0  1.0  1.0   \n",
       "3           4  166.0      2  205.0  ...             16  0.0  41.0  1.0  1.0   \n",
       "4           2  117.0      2  264.0  ...             16  0.0   0.0  1.0  1.0   \n",
       "...       ...    ...    ...    ...  ...            ...  ...   ...  ...  ...   \n",
       "506686      2  224.0      2  284.0  ...             16  0.0   NaN  NaN  1.0   \n",
       "506687      2  224.0      2    NaN  ...             19  0.0  16.0  NaN  2.0   \n",
       "506688      4  226.0      2  327.0  ...             19  0.0   NaN  1.0  1.0   \n",
       "506689      2  224.0      2  177.0  ...             19  0.0   NaN  1.0  1.0   \n",
       "506690      4  147.0      1    NaN  ...             19  0.0   NaN  NaN  1.0   \n",
       "\n",
       "        V107  V121  V281  V286  V305  \n",
       "0        1.0   1.0   0.0   0.0   1.0  \n",
       "1        1.0   1.0   0.0   0.0   1.0  \n",
       "2        1.0   1.0   0.0   0.0   1.0  \n",
       "3        1.0   1.0   0.0   0.0   1.0  \n",
       "4        1.0   1.0   0.0   1.0   1.0  \n",
       "...      ...   ...   ...   ...   ...  \n",
       "506686   1.0   1.0   0.0   0.0   1.0  \n",
       "506687   1.0   1.0   1.0   0.0   1.0  \n",
       "506688   1.0   1.0   0.0   0.0   1.0  \n",
       "506689   1.0   1.0   0.0   0.0   1.0  \n",
       "506690   1.0   1.0   0.0   0.0   1.0  \n",
       "\n",
       "[506691 rows x 21 columns]"
      ]
     },
     "execution_count": 59,
     "metadata": {},
     "output_type": "execute_result"
    }
   ],
   "source": [
    "test_df = test_df.drop(columns=list(set_max_sort_corrs_feats))\n",
    "test_df"
   ]
  },
  {
   "cell_type": "markdown",
   "id": "f192105b",
   "metadata": {
    "papermill": {
     "duration": 0.038961,
     "end_time": "2023-11-12T13:48:24.506570",
     "exception": false,
     "start_time": "2023-11-12T13:48:24.467609",
     "status": "completed"
    },
    "tags": []
   },
   "source": [
    "Ещё раз проверим корреляцию признаков по карте корреляции"
   ]
  },
  {
   "cell_type": "code",
   "execution_count": 60,
   "id": "f907b412",
   "metadata": {
    "execution": {
     "iopub.execute_input": "2023-11-12T13:48:24.577261Z",
     "iopub.status.busy": "2023-11-12T13:48:24.576888Z",
     "iopub.status.idle": "2023-11-12T13:48:26.008027Z",
     "shell.execute_reply": "2023-11-12T13:48:26.007364Z"
    },
    "papermill": {
     "duration": 1.468843,
     "end_time": "2023-11-12T13:48:26.010127",
     "exception": false,
     "start_time": "2023-11-12T13:48:24.541284",
     "status": "completed"
    },
    "tags": []
   },
   "outputs": [
    {
     "data": {
      "text/plain": [
       "<Axes: >"
      ]
     },
     "execution_count": 60,
     "metadata": {},
     "output_type": "execute_result"
    },
    {
     "data": {
      "image/png": "[encoded data removed]",
      "text/plain": [
       "<Figure size 1300x1000 with 2 Axes>"
      ]
     },
     "metadata": {},
     "output_type": "display_data"
    }
   ],
   "source": [
    "plt.figure(figsize=(13,10))\n",
    "sns.heatmap(X_train.corr(), \n",
    "           xticklabels=X_train.columns, \n",
    "           yticklabels=X_train.columns)"
   ]
  },
  {
   "cell_type": "markdown",
   "id": "6cebe834",
   "metadata": {
    "papermill": {
     "duration": 0.035045,
     "end_time": "2023-11-12T13:48:26.080698",
     "exception": false,
     "start_time": "2023-11-12T13:48:26.045653",
     "status": "completed"
    },
    "tags": []
   },
   "source": [
    "Видим, что в датасете остались только слабо кореллированные признаки"
   ]
  },
  {
   "cell_type": "markdown",
   "id": "3afbe8c3",
   "metadata": {
    "papermill": {
     "duration": 0.035135,
     "end_time": "2023-11-12T13:48:26.150977",
     "exception": false,
     "start_time": "2023-11-12T13:48:26.115842",
     "status": "completed"
    },
    "tags": []
   },
   "source": [
    "### Посмотрим, есть ли в данных выбросы"
   ]
  },
  {
   "cell_type": "markdown",
   "id": "f57b01b6",
   "metadata": {
    "papermill": {
     "duration": 0.034998,
     "end_time": "2023-11-12T13:48:26.221635",
     "exception": false,
     "start_time": "2023-11-12T13:48:26.186637",
     "status": "completed"
    },
    "tags": []
   },
   "source": [
    "Сперва отделим категориальные признаки от числовых"
   ]
  },
  {
   "cell_type": "code",
   "execution_count": 61,
   "id": "9453f54d",
   "metadata": {
    "execution": {
     "iopub.execute_input": "2023-11-12T13:48:26.294171Z",
     "iopub.status.busy": "2023-11-12T13:48:26.293780Z",
     "iopub.status.idle": "2023-11-12T13:48:26.299495Z",
     "shell.execute_reply": "2023-11-12T13:48:26.298777Z"
    },
    "papermill": {
     "duration": 0.044548,
     "end_time": "2023-11-12T13:48:26.301642",
     "exception": false,
     "start_time": "2023-11-12T13:48:26.257094",
     "status": "completed"
    },
    "tags": []
   },
   "outputs": [
    {
     "name": "stdout",
     "output_type": "stream",
     "text": [
      "cat_feats:\n",
      " ['ProductCD', 'card1', 'card2', 'card4', 'card5', 'card6', 'addr1', 'addr2', 'P_emaildomain']\n",
      "\n",
      "num_feats:\n",
      " ['TransactionID', 'TransactionDT', 'TransactionAmt', 'C3', 'D3', 'V1', 'V55', 'V107', 'V121', 'V281', 'V286', 'V305']\n"
     ]
    }
   ],
   "source": [
    "cat_feats = ['ProductCD', 'card1', 'card2', 'card4', \n",
    "             'card5', 'card6', 'addr1', 'addr2', 'P_emaildomain']\n",
    "num_feats = [x for x in X_train.columns if x not in cat_feats]\n",
    "print(f'cat_feats:\\n {cat_feats}\\n')\n",
    "print(f'num_feats:\\n {num_feats}')"
   ]
  },
  {
   "cell_type": "code",
   "execution_count": 62,
   "id": "399c7dde",
   "metadata": {
    "execution": {
     "iopub.execute_input": "2023-11-12T13:48:26.375064Z",
     "iopub.status.busy": "2023-11-12T13:48:26.374675Z",
     "iopub.status.idle": "2023-11-12T13:48:30.753180Z",
     "shell.execute_reply": "2023-11-12T13:48:30.752117Z"
    },
    "papermill": {
     "duration": 4.417966,
     "end_time": "2023-11-12T13:48:30.755382",
     "exception": false,
     "start_time": "2023-11-12T13:48:26.337416",
     "status": "completed"
    },
    "tags": []
   },
   "outputs": [
    {
     "data": {
      "image/png": "[encoded data removed]",
      "text/plain": [
       "<Figure size 1400x1400 with 12 Axes>"
      ]
     },
     "metadata": {},
     "output_type": "display_data"
    }
   ],
   "source": [
    "sns.set()\n",
    "X_train[num_feats[1:]].hist(bins=30, figsize=(14,14))\n",
    "plt.tight_layout()"
   ]
  },
  {
   "cell_type": "markdown",
   "id": "0c13b44f",
   "metadata": {
    "papermill": {
     "duration": 0.036733,
     "end_time": "2023-11-12T13:48:30.829356",
     "exception": false,
     "start_time": "2023-11-12T13:48:30.792623",
     "status": "completed"
    },
    "tags": []
   },
   "source": [
    "Видим, что некоторые данные имеют выбросы. Посмотрим на графики ```boxplot```, чтобы явно убедиться в этом"
   ]
  },
  {
   "cell_type": "code",
   "execution_count": 63,
   "id": "7ee691f2",
   "metadata": {
    "execution": {
     "iopub.execute_input": "2023-11-12T13:48:30.907036Z",
     "iopub.status.busy": "2023-11-12T13:48:30.906639Z",
     "iopub.status.idle": "2023-11-12T13:48:30.912348Z",
     "shell.execute_reply": "2023-11-12T13:48:30.911060Z"
    },
    "papermill": {
     "duration": 0.047596,
     "end_time": "2023-11-12T13:48:30.914198",
     "exception": false,
     "start_time": "2023-11-12T13:48:30.866602",
     "status": "completed"
    },
    "tags": []
   },
   "outputs": [],
   "source": [
    "def plt_boxplot(df, feature):\n",
    "    sns.set()\n",
    "    plt.figure(figsize=(10,3))\n",
    "    sns.boxplot(x=df[feature])\n",
    "    plt.title('Диаграмма размаха {}'.format(feature))\n",
    "    plt.xlabel(feature)\n",
    "    plt.show()"
   ]
  },
  {
   "cell_type": "code",
   "execution_count": 64,
   "id": "a185b98a",
   "metadata": {
    "execution": {
     "iopub.execute_input": "2023-11-12T13:48:30.991204Z",
     "iopub.status.busy": "2023-11-12T13:48:30.990807Z",
     "iopub.status.idle": "2023-11-12T13:48:33.595556Z",
     "shell.execute_reply": "2023-11-12T13:48:33.594647Z"
    },
    "papermill": {
     "duration": 2.646035,
     "end_time": "2023-11-12T13:48:33.597771",
     "exception": false,
     "start_time": "2023-11-12T13:48:30.951736",
     "status": "completed"
    },
    "tags": []
   },
   "outputs": [
    {
     "data": {
      "image/png": "[encoded data removed]",
      "text/plain": [
       "<Figure size 1000x300 with 1 Axes>"
      ]
     },
     "metadata": {},
     "output_type": "display_data"
    },
    {
     "data": {
      "image/png": "[encoded data removed]",
      "text/plain": [
       "<Figure size 1000x300 with 1 Axes>"
      ]
     },
     "metadata": {},
     "output_type": "display_data"
    },
    {
     "data": {
      "image/png": "[encoded data removed]",
      "text/plain": [
       "<Figure size 1000x300 with 1 Axes>"
      ]
     },
     "metadata": {},
     "output_type": "display_data"
    },
    {
     "data": {
      "image/png": "[encoded data removed]",
      "text/plain": [
       "<Figure size 1000x300 with 1 Axes>"
      ]
     },
     "metadata": {},
     "output_type": "display_data"
    },
    {
     "data": {
      "image/png": "[encoded data removed]",
      "text/plain": [
       "<Figure size 1000x300 with 1 Axes>"
      ]
     },
     "metadata": {},
     "output_type": "display_data"
    },
    {
     "data": {
      "image/png": "[encoded data removed]",
      "text/plain": [
       "<Figure size 1000x300 with 1 Axes>"
      ]
     },
     "metadata": {},
     "output_type": "display_data"
    },
    {
     "data": {
      "image/png": "[encoded data removed]",
      "text/plain": [
       "<Figure size 1000x300 with 1 Axes>"
      ]
     },
     "metadata": {},
     "output_type": "display_data"
    },
    {
     "data": {
      "image/png": "[encoded data removed]",
      "text/plain": [
       "<Figure size 1000x300 with 1 Axes>"
      ]
     },
     "metadata": {},
     "output_type": "display_data"
    },
    {
     "data": {
      "image/png": "[encoded data removed]",
      "text/plain": [
       "<Figure size 1000x300 with 1 Axes>"
      ]
     },
     "metadata": {},
     "output_type": "display_data"
    },
    {
     "data": {
      "image/png": "[encoded data removed]",
      "text/plain": [
       "<Figure size 1000x300 with 1 Axes>"
      ]
     },
     "metadata": {},
     "output_type": "display_data"
    }
   ],
   "source": [
    "for feat in num_feats[2:]:\n",
    "    plt_boxplot(X_train, feat)"
   ]
  },
  {
   "cell_type": "markdown",
   "id": "483724a8",
   "metadata": {
    "papermill": {
     "duration": 0.039632,
     "end_time": "2023-11-12T13:48:33.677704",
     "exception": false,
     "start_time": "2023-11-12T13:48:33.638072",
     "status": "completed"
    },
    "tags": []
   },
   "source": [
    "Да, многие данные действительно имеют выбросы. Но сперва попробуем создать и обучить модели "
   ]
  },
  {
   "cell_type": "markdown",
   "id": "cf5e22bf",
   "metadata": {
    "papermill": {
     "duration": 0.039688,
     "end_time": "2023-11-12T13:48:33.757752",
     "exception": false,
     "start_time": "2023-11-12T13:48:33.718064",
     "status": "completed"
    },
    "tags": []
   },
   "source": [
    "### Посмотрим ещё раз на пропуски"
   ]
  },
  {
   "cell_type": "code",
   "execution_count": 65,
   "id": "33a794be",
   "metadata": {
    "execution": {
     "iopub.execute_input": "2023-11-12T13:48:33.840084Z",
     "iopub.status.busy": "2023-11-12T13:48:33.839718Z",
     "iopub.status.idle": "2023-11-12T13:48:33.863604Z",
     "shell.execute_reply": "2023-11-12T13:48:33.862463Z"
    },
    "papermill": {
     "duration": 0.067541,
     "end_time": "2023-11-12T13:48:33.865567",
     "exception": false,
     "start_time": "2023-11-12T13:48:33.798026",
     "status": "completed"
    },
    "tags": []
   },
   "outputs": [
    {
     "name": "stdout",
     "output_type": "stream",
     "text": [
      "<class 'pandas.core.frame.DataFrame'>\n",
      "Index: 413378 entries, 266381 to 317434\n",
      "Data columns (total 21 columns):\n",
      " #   Column          Non-Null Count   Dtype  \n",
      "---  ------          --------------   -----  \n",
      " 0   TransactionID   413378 non-null  uint32 \n",
      " 1   TransactionDT   413378 non-null  uint32 \n",
      " 2   TransactionAmt  413378 non-null  float32\n",
      " 3   ProductCD       413378 non-null  int64  \n",
      " 4   card1           413378 non-null  uint16 \n",
      " 5   card2           407128 non-null  float32\n",
      " 6   card4           413378 non-null  int64  \n",
      " 7   card5           410349 non-null  float32\n",
      " 8   card6           413378 non-null  int64  \n",
      " 9   addr1           367409 non-null  float32\n",
      " 10  addr2           367409 non-null  float32\n",
      " 11  P_emaildomain   413378 non-null  int64  \n",
      " 12  C3              413378 non-null  float32\n",
      " 13  D3              229297 non-null  float32\n",
      " 14  V1              217771 non-null  float32\n",
      " 15  V55             359257 non-null  float32\n",
      " 16  V107            413150 non-null  float32\n",
      " 17  V121            413150 non-null  float32\n",
      " 18  V281            412486 non-null  float32\n",
      " 19  V286            413371 non-null  float32\n",
      " 20  V305            413371 non-null  float32\n",
      "dtypes: float32(14), int64(4), uint16(1), uint32(2)\n",
      "memory usage: 41.8 MB\n"
     ]
    }
   ],
   "source": [
    "X_train.info()"
   ]
  },
  {
   "cell_type": "code",
   "execution_count": 66,
   "id": "3d48c9e8",
   "metadata": {
    "execution": {
     "iopub.execute_input": "2023-11-12T13:48:33.948552Z",
     "iopub.status.busy": "2023-11-12T13:48:33.947946Z",
     "iopub.status.idle": "2023-11-12T13:48:33.965151Z",
     "shell.execute_reply": "2023-11-12T13:48:33.964449Z"
    },
    "papermill": {
     "duration": 0.060205,
     "end_time": "2023-11-12T13:48:33.966953",
     "exception": false,
     "start_time": "2023-11-12T13:48:33.906748",
     "status": "completed"
    },
    "tags": []
   },
   "outputs": [
    {
     "data": {
      "text/plain": [
       "TransactionID          0\n",
       "TransactionDT          0\n",
       "TransactionAmt         0\n",
       "ProductCD              0\n",
       "card1                  0\n",
       "card2               6250\n",
       "card4                  0\n",
       "card5               3029\n",
       "card6                  0\n",
       "addr1              45969\n",
       "addr2              45969\n",
       "P_emaildomain          0\n",
       "C3                     0\n",
       "D3                184081\n",
       "V1                195607\n",
       "V55                54121\n",
       "V107                 228\n",
       "V121                 228\n",
       "V281                 892\n",
       "V286                   7\n",
       "V305                   7\n",
       "dtype: int64"
      ]
     },
     "execution_count": 66,
     "metadata": {},
     "output_type": "execute_result"
    }
   ],
   "source": [
    "X_train.isna().sum()"
   ]
  },
  {
   "cell_type": "markdown",
   "id": "27cc2341",
   "metadata": {
    "papermill": {
     "duration": 0.040428,
     "end_time": "2023-11-12T13:48:34.047454",
     "exception": false,
     "start_time": "2023-11-12T13:48:34.007026",
     "status": "completed"
    },
    "tags": []
   },
   "source": [
    "Сперва заполним пропуски числовых признаков средним по колонке"
   ]
  },
  {
   "cell_type": "markdown",
   "id": "6131409b",
   "metadata": {
    "papermill": {
     "duration": 0.039814,
     "end_time": "2023-11-12T13:48:34.127609",
     "exception": false,
     "start_time": "2023-11-12T13:48:34.087795",
     "status": "completed"
    },
    "tags": []
   },
   "source": [
    "Сделаем копии датасетов, чтобы ничего не поменять в исходниках"
   ]
  },
  {
   "cell_type": "code",
   "execution_count": 67,
   "id": "e32fdd7e",
   "metadata": {
    "execution": {
     "iopub.execute_input": "2023-11-12T13:48:34.209901Z",
     "iopub.status.busy": "2023-11-12T13:48:34.209257Z",
     "iopub.status.idle": "2023-11-12T13:48:34.267627Z",
     "shell.execute_reply": "2023-11-12T13:48:34.266494Z"
    },
    "papermill": {
     "duration": 0.102122,
     "end_time": "2023-11-12T13:48:34.269916",
     "exception": false,
     "start_time": "2023-11-12T13:48:34.167794",
     "status": "completed"
    },
    "tags": []
   },
   "outputs": [],
   "source": [
    "X_train_copy = X_train.copy()\n",
    "X_valid_copy = X_valid.copy()\n",
    "test_df_copy = test_df.copy()"
   ]
  },
  {
   "cell_type": "code",
   "execution_count": 68,
   "id": "3b0aea09",
   "metadata": {
    "execution": {
     "iopub.execute_input": "2023-11-12T13:48:34.351449Z",
     "iopub.status.busy": "2023-11-12T13:48:34.351039Z",
     "iopub.status.idle": "2023-11-12T13:48:34.357758Z",
     "shell.execute_reply": "2023-11-12T13:48:34.356777Z"
    },
    "papermill": {
     "duration": 0.049737,
     "end_time": "2023-11-12T13:48:34.359841",
     "exception": false,
     "start_time": "2023-11-12T13:48:34.310104",
     "status": "completed"
    },
    "tags": []
   },
   "outputs": [
    {
     "data": {
      "text/plain": [
       "['TransactionID',\n",
       " 'TransactionDT',\n",
       " 'TransactionAmt',\n",
       " 'C3',\n",
       " 'D3',\n",
       " 'V1',\n",
       " 'V55',\n",
       " 'V107',\n",
       " 'V121',\n",
       " 'V281',\n",
       " 'V286',\n",
       " 'V305']"
      ]
     },
     "execution_count": 68,
     "metadata": {},
     "output_type": "execute_result"
    }
   ],
   "source": [
    "num_feats"
   ]
  },
  {
   "cell_type": "code",
   "execution_count": 69,
   "id": "cbad3981",
   "metadata": {
    "execution": {
     "iopub.execute_input": "2023-11-12T13:48:34.444324Z",
     "iopub.status.busy": "2023-11-12T13:48:34.443271Z",
     "iopub.status.idle": "2023-11-12T13:48:34.511294Z",
     "shell.execute_reply": "2023-11-12T13:48:34.510060Z"
    },
    "papermill": {
     "duration": 0.112433,
     "end_time": "2023-11-12T13:48:34.513825",
     "exception": false,
     "start_time": "2023-11-12T13:48:34.401392",
     "status": "completed"
    },
    "tags": []
   },
   "outputs": [],
   "source": [
    "X_train_copy[num_feats] = X_train_copy[num_feats].fillna(\n",
    "    X_train_copy[num_feats].mean())"
   ]
  },
  {
   "cell_type": "code",
   "execution_count": 70,
   "id": "d48e3f03",
   "metadata": {
    "execution": {
     "iopub.execute_input": "2023-11-12T13:48:34.597502Z",
     "iopub.status.busy": "2023-11-12T13:48:34.596564Z",
     "iopub.status.idle": "2023-11-12T13:48:34.633210Z",
     "shell.execute_reply": "2023-11-12T13:48:34.632294Z"
    },
    "papermill": {
     "duration": 0.081048,
     "end_time": "2023-11-12T13:48:34.635656",
     "exception": false,
     "start_time": "2023-11-12T13:48:34.554608",
     "status": "completed"
    },
    "tags": []
   },
   "outputs": [],
   "source": [
    "X_valid_copy[num_feats] = X_valid_copy[num_feats].fillna(\n",
    "    X_valid_copy[num_feats].mean())"
   ]
  },
  {
   "cell_type": "code",
   "execution_count": 71,
   "id": "ebc82e26",
   "metadata": {
    "execution": {
     "iopub.execute_input": "2023-11-12T13:48:34.718454Z",
     "iopub.status.busy": "2023-11-12T13:48:34.718080Z",
     "iopub.status.idle": "2023-11-12T13:48:34.793891Z",
     "shell.execute_reply": "2023-11-12T13:48:34.792792Z"
    },
    "papermill": {
     "duration": 0.120188,
     "end_time": "2023-11-12T13:48:34.796279",
     "exception": false,
     "start_time": "2023-11-12T13:48:34.676091",
     "status": "completed"
    },
    "tags": []
   },
   "outputs": [],
   "source": [
    "test_df_copy[num_feats] = test_df_copy[num_feats].fillna(\n",
    "    test_df_copy[num_feats].mean())"
   ]
  },
  {
   "cell_type": "markdown",
   "id": "68c40458",
   "metadata": {
    "papermill": {
     "duration": 0.039674,
     "end_time": "2023-11-12T13:48:34.876117",
     "exception": false,
     "start_time": "2023-11-12T13:48:34.836443",
     "status": "completed"
    },
    "tags": []
   },
   "source": [
    "Пропуски в категориальных прихнаках заполним константой ```-1```"
   ]
  },
  {
   "cell_type": "code",
   "execution_count": 72,
   "id": "e397eb28",
   "metadata": {
    "execution": {
     "iopub.execute_input": "2023-11-12T13:48:34.960125Z",
     "iopub.status.busy": "2023-11-12T13:48:34.959742Z",
     "iopub.status.idle": "2023-11-12T13:48:35.028415Z",
     "shell.execute_reply": "2023-11-12T13:48:35.027272Z"
    },
    "papermill": {
     "duration": 0.112923,
     "end_time": "2023-11-12T13:48:35.030969",
     "exception": false,
     "start_time": "2023-11-12T13:48:34.918046",
     "status": "completed"
    },
    "tags": []
   },
   "outputs": [],
   "source": [
    "X_train_copy[cat_feats] = X_train_copy[cat_feats].fillna(-1)\n",
    "X_valid_copy[cat_feats] = X_valid_copy[cat_feats].fillna(-1)\n",
    "test_df_copy[cat_feats] = test_df_copy[cat_feats].fillna(-1)"
   ]
  },
  {
   "cell_type": "markdown",
   "id": "f0d5a68e",
   "metadata": {
    "papermill": {
     "duration": 0.040088,
     "end_time": "2023-11-12T13:48:35.112367",
     "exception": false,
     "start_time": "2023-11-12T13:48:35.072279",
     "status": "completed"
    },
    "tags": []
   },
   "source": [
    "Проверки, остались ли пропуски в данных после заполнения"
   ]
  },
  {
   "cell_type": "code",
   "execution_count": 73,
   "id": "0fb7b731",
   "metadata": {
    "execution": {
     "iopub.execute_input": "2023-11-12T13:48:35.195920Z",
     "iopub.status.busy": "2023-11-12T13:48:35.195550Z",
     "iopub.status.idle": "2023-11-12T13:48:35.214109Z",
     "shell.execute_reply": "2023-11-12T13:48:35.213002Z"
    },
    "papermill": {
     "duration": 0.062786,
     "end_time": "2023-11-12T13:48:35.216288",
     "exception": false,
     "start_time": "2023-11-12T13:48:35.153502",
     "status": "completed"
    },
    "tags": []
   },
   "outputs": [
    {
     "data": {
      "text/plain": [
       "TransactionID     0\n",
       "TransactionDT     0\n",
       "TransactionAmt    0\n",
       "ProductCD         0\n",
       "card1             0\n",
       "card2             0\n",
       "card4             0\n",
       "card5             0\n",
       "card6             0\n",
       "addr1             0\n",
       "addr2             0\n",
       "P_emaildomain     0\n",
       "C3                0\n",
       "D3                0\n",
       "V1                0\n",
       "V55               0\n",
       "V107              0\n",
       "V121              0\n",
       "V281              0\n",
       "V286              0\n",
       "V305              0\n",
       "dtype: int64"
      ]
     },
     "execution_count": 73,
     "metadata": {},
     "output_type": "execute_result"
    }
   ],
   "source": [
    "X_train_copy.isna().sum()"
   ]
  },
  {
   "cell_type": "code",
   "execution_count": 74,
   "id": "ac1b2aba",
   "metadata": {
    "execution": {
     "iopub.execute_input": "2023-11-12T13:48:35.300020Z",
     "iopub.status.busy": "2023-11-12T13:48:35.299041Z",
     "iopub.status.idle": "2023-11-12T13:48:35.313100Z",
     "shell.execute_reply": "2023-11-12T13:48:35.312104Z"
    },
    "papermill": {
     "duration": 0.057785,
     "end_time": "2023-11-12T13:48:35.314997",
     "exception": false,
     "start_time": "2023-11-12T13:48:35.257212",
     "status": "completed"
    },
    "tags": []
   },
   "outputs": [
    {
     "data": {
      "text/plain": [
       "TransactionID     0\n",
       "TransactionDT     0\n",
       "TransactionAmt    0\n",
       "ProductCD         0\n",
       "card1             0\n",
       "card2             0\n",
       "card4             0\n",
       "card5             0\n",
       "card6             0\n",
       "addr1             0\n",
       "addr2             0\n",
       "P_emaildomain     0\n",
       "C3                0\n",
       "D3                0\n",
       "V1                0\n",
       "V55               0\n",
       "V107              0\n",
       "V121              0\n",
       "V281              0\n",
       "V286              0\n",
       "V305              0\n",
       "dtype: int64"
      ]
     },
     "execution_count": 74,
     "metadata": {},
     "output_type": "execute_result"
    }
   ],
   "source": [
    "X_valid_copy.isna().sum()"
   ]
  },
  {
   "cell_type": "code",
   "execution_count": 75,
   "id": "81c780bf",
   "metadata": {
    "execution": {
     "iopub.execute_input": "2023-11-12T13:48:35.400837Z",
     "iopub.status.busy": "2023-11-12T13:48:35.400226Z",
     "iopub.status.idle": "2023-11-12T13:48:35.419586Z",
     "shell.execute_reply": "2023-11-12T13:48:35.418828Z"
    },
    "papermill": {
     "duration": 0.065201,
     "end_time": "2023-11-12T13:48:35.421588",
     "exception": false,
     "start_time": "2023-11-12T13:48:35.356387",
     "status": "completed"
    },
    "tags": []
   },
   "outputs": [
    {
     "data": {
      "text/plain": [
       "TransactionID     0\n",
       "TransactionDT     0\n",
       "TransactionAmt    0\n",
       "ProductCD         0\n",
       "card1             0\n",
       "card2             0\n",
       "card4             0\n",
       "card5             0\n",
       "card6             0\n",
       "addr1             0\n",
       "addr2             0\n",
       "P_emaildomain     0\n",
       "C3                0\n",
       "D3                0\n",
       "V1                0\n",
       "V55               0\n",
       "V107              0\n",
       "V121              0\n",
       "V281              0\n",
       "V286              0\n",
       "V305              0\n",
       "dtype: int64"
      ]
     },
     "execution_count": 75,
     "metadata": {},
     "output_type": "execute_result"
    }
   ],
   "source": [
    "test_df_copy.isna().sum()"
   ]
  },
  {
   "cell_type": "markdown",
   "id": "cf57e6c5",
   "metadata": {
    "papermill": {
     "duration": 0.040575,
     "end_time": "2023-11-12T13:48:35.503705",
     "exception": false,
     "start_time": "2023-11-12T13:48:35.463130",
     "status": "completed"
    },
    "tags": []
   },
   "source": [
    "#### Попробуем посмотреть на прогноз **логистической регрессии**"
   ]
  },
  {
   "cell_type": "code",
   "execution_count": 76,
   "id": "f1cae39c",
   "metadata": {
    "execution": {
     "iopub.execute_input": "2023-11-12T13:48:35.587469Z",
     "iopub.status.busy": "2023-11-12T13:48:35.586869Z",
     "iopub.status.idle": "2023-11-12T13:48:35.590778Z",
     "shell.execute_reply": "2023-11-12T13:48:35.589863Z"
    },
    "papermill": {
     "duration": 0.048243,
     "end_time": "2023-11-12T13:48:35.592785",
     "exception": false,
     "start_time": "2023-11-12T13:48:35.544542",
     "status": "completed"
    },
    "tags": []
   },
   "outputs": [],
   "source": [
    "from sklearn.linear_model import LogisticRegression"
   ]
  },
  {
   "cell_type": "code",
   "execution_count": 77,
   "id": "f6aa01d6",
   "metadata": {
    "execution": {
     "iopub.execute_input": "2023-11-12T13:48:35.676557Z",
     "iopub.status.busy": "2023-11-12T13:48:35.675840Z",
     "iopub.status.idle": "2023-11-12T13:48:37.024829Z",
     "shell.execute_reply": "2023-11-12T13:48:37.023693Z"
    },
    "papermill": {
     "duration": 1.393608,
     "end_time": "2023-11-12T13:48:37.027483",
     "exception": false,
     "start_time": "2023-11-12T13:48:35.633875",
     "status": "completed"
    },
    "tags": []
   },
   "outputs": [
    {
     "data": {
      "text/html": [
       "<style>#sk-container-id-1 {color: black;background-color: white;}#sk-container-id-1 pre{padding: 0;}#sk-container-id-1 div.sk-toggleable {background-color: white;}#sk-container-id-1 label.sk-toggleable__label {cursor: pointer;display: block;width: 100%;margin-bottom: 0;padding: 0.3em;box-sizing: border-box;text-align: center;}#sk-container-id-1 label.sk-toggleable__label-arrow:before {content: \"▸\";float: left;margin-right: 0.25em;color: #696969;}#sk-container-id-1 label.sk-toggleable__label-arrow:hover:before {color: black;}#sk-container-id-1 div.sk-estimator:hover label.sk-toggleable__label-arrow:before {color: black;}#sk-container-id-1 div.sk-toggleable__content {max-height: 0;max-width: 0;overflow: hidden;text-align: left;background-color: #f0f8ff;}#sk-container-id-1 div.sk-toggleable__content pre {margin: 0.2em;color: black;border-radius: 0.25em;background-color: #f0f8ff;}#sk-container-id-1 input.sk-toggleable__control:checked~div.sk-toggleable__content {max-height: 200px;max-width: 100%;overflow: auto;}#sk-container-id-1 input.sk-toggleable__control:checked~label.sk-toggleable__label-arrow:before {content: \"▾\";}#sk-container-id-1 div.sk-estimator input.sk-toggleable__control:checked~label.sk-toggleable__label {background-color: #d4ebff;}#sk-container-id-1 div.sk-label input.sk-toggleable__control:checked~label.sk-toggleable__label {background-color: #d4ebff;}#sk-container-id-1 input.sk-hidden--visually {border: 0;clip: rect(1px 1px 1px 1px);clip: rect(1px, 1px, 1px, 1px);height: 1px;margin: -1px;overflow: hidden;padding: 0;position: absolute;width: 1px;}#sk-container-id-1 div.sk-estimator {font-family: monospace;background-color: #f0f8ff;border: 1px dotted black;border-radius: 0.25em;box-sizing: border-box;margin-bottom: 0.5em;}#sk-container-id-1 div.sk-estimator:hover {background-color: #d4ebff;}#sk-container-id-1 div.sk-parallel-item::after {content: \"\";width: 100%;border-bottom: 1px solid gray;flex-grow: 1;}#sk-container-id-1 div.sk-label:hover label.sk-toggleable__label {background-color: #d4ebff;}#sk-container-id-1 div.sk-serial::before {content: \"\";position: absolute;border-left: 1px solid gray;box-sizing: border-box;top: 0;bottom: 0;left: 50%;z-index: 0;}#sk-container-id-1 div.sk-serial {display: flex;flex-direction: column;align-items: center;background-color: white;padding-right: 0.2em;padding-left: 0.2em;position: relative;}#sk-container-id-1 div.sk-item {position: relative;z-index: 1;}#sk-container-id-1 div.sk-parallel {display: flex;align-items: stretch;justify-content: center;background-color: white;position: relative;}#sk-container-id-1 div.sk-item::before, #sk-container-id-1 div.sk-parallel-item::before {content: \"\";position: absolute;border-left: 1px solid gray;box-sizing: border-box;top: 0;bottom: 0;left: 50%;z-index: -1;}#sk-container-id-1 div.sk-parallel-item {display: flex;flex-direction: column;z-index: 1;position: relative;background-color: white;}#sk-container-id-1 div.sk-parallel-item:first-child::after {align-self: flex-end;width: 50%;}#sk-container-id-1 div.sk-parallel-item:last-child::after {align-self: flex-start;width: 50%;}#sk-container-id-1 div.sk-parallel-item:only-child::after {width: 0;}#sk-container-id-1 div.sk-dashed-wrapped {border: 1px dashed gray;margin: 0 0.4em 0.5em 0.4em;box-sizing: border-box;padding-bottom: 0.4em;background-color: white;}#sk-container-id-1 div.sk-label label {font-family: monospace;font-weight: bold;display: inline-block;line-height: 1.2em;}#sk-container-id-1 div.sk-label-container {text-align: center;}#sk-container-id-1 div.sk-container {/* jupyter's `normalize.less` sets `[hidden] { display: none; }` but bootstrap.min.css set `[hidden] { display: none !important; }` so we also need the `!important` here to be able to override the default hidden behavior on the sphinx rendered scikit-learn.org. See: https://github.com/scikit-learn/scikit-learn/issues/21755 */display: inline-block !important;position: relative;}#sk-container-id-1 div.sk-text-repr-fallback {display: none;}</style><div id=\"sk-container-id-1\" class=\"sk-top-container\"><div class=\"sk-text-repr-fallback\"><pre>LogisticRegression()</pre><b>In a Jupyter environment, please rerun this cell to show the HTML representation or trust the notebook. <br />On GitHub, the HTML representation is unable to render, please try loading this page with nbviewer.org.</b></div><div class=\"sk-container\" hidden><div class=\"sk-item\"><div class=\"sk-estimator sk-toggleable\"><input class=\"sk-toggleable__control sk-hidden--visually\" id=\"sk-estimator-id-1\" type=\"checkbox\" checked><label for=\"sk-estimator-id-1\" class=\"sk-toggleable__label sk-toggleable__label-arrow\">LogisticRegression</label><div class=\"sk-toggleable__content\"><pre>LogisticRegression()</pre></div></div></div></div></div>"
      ],
      "text/plain": [
       "LogisticRegression()"
      ]
     },
     "execution_count": 77,
     "metadata": {},
     "output_type": "execute_result"
    }
   ],
   "source": [
    "model_LR = LogisticRegression()\n",
    "\n",
    "model_LR.fit(X_train_copy, y_train)"
   ]
  },
  {
   "cell_type": "code",
   "execution_count": 78,
   "id": "4df2794f",
   "metadata": {
    "execution": {
     "iopub.execute_input": "2023-11-12T13:48:37.153494Z",
     "iopub.status.busy": "2023-11-12T13:48:37.153106Z",
     "iopub.status.idle": "2023-11-12T13:48:37.173438Z",
     "shell.execute_reply": "2023-11-12T13:48:37.172263Z"
    },
    "papermill": {
     "duration": 0.078751,
     "end_time": "2023-11-12T13:48:37.176503",
     "exception": false,
     "start_time": "2023-11-12T13:48:37.097752",
     "status": "completed"
    },
    "tags": []
   },
   "outputs": [],
   "source": [
    "y_pred_test_LR = model_LR.predict(X_valid_copy)"
   ]
  },
  {
   "cell_type": "code",
   "execution_count": 79,
   "id": "a7c8610b",
   "metadata": {
    "execution": {
     "iopub.execute_input": "2023-11-12T13:48:37.306161Z",
     "iopub.status.busy": "2023-11-12T13:48:37.305510Z",
     "iopub.status.idle": "2023-11-12T13:48:37.312509Z",
     "shell.execute_reply": "2023-11-12T13:48:37.311546Z"
    },
    "papermill": {
     "duration": 0.068176,
     "end_time": "2023-11-12T13:48:37.314393",
     "exception": false,
     "start_time": "2023-11-12T13:48:37.246217",
     "status": "completed"
    },
    "tags": []
   },
   "outputs": [
    {
     "data": {
      "text/plain": [
       "array([0, 0, 0, ..., 0, 0, 0], dtype=uint8)"
      ]
     },
     "execution_count": 79,
     "metadata": {},
     "output_type": "execute_result"
    }
   ],
   "source": [
    "y_pred_test_LR"
   ]
  },
  {
   "cell_type": "code",
   "execution_count": 80,
   "id": "9111c3ad",
   "metadata": {
    "execution": {
     "iopub.execute_input": "2023-11-12T13:48:37.398986Z",
     "iopub.status.busy": "2023-11-12T13:48:37.398071Z",
     "iopub.status.idle": "2023-11-12T13:48:37.404855Z",
     "shell.execute_reply": "2023-11-12T13:48:37.403624Z"
    },
    "papermill": {
     "duration": 0.051366,
     "end_time": "2023-11-12T13:48:37.406858",
     "exception": false,
     "start_time": "2023-11-12T13:48:37.355492",
     "status": "completed"
    },
    "tags": []
   },
   "outputs": [
    {
     "name": "stdout",
     "output_type": "stream",
     "text": [
      "Доля верно угаданных объектов 0.9650094264006954\n"
     ]
    }
   ],
   "source": [
    "print(f'Доля верно угаданных объектов {(y_pred_test_LR == y_valid).sum() / len(y_valid)}')"
   ]
  },
  {
   "cell_type": "code",
   "execution_count": 81,
   "id": "9513dabf",
   "metadata": {
    "execution": {
     "iopub.execute_input": "2023-11-12T13:48:37.491588Z",
     "iopub.status.busy": "2023-11-12T13:48:37.491186Z",
     "iopub.status.idle": "2023-11-12T13:48:37.496158Z",
     "shell.execute_reply": "2023-11-12T13:48:37.495135Z"
    },
    "papermill": {
     "duration": 0.050172,
     "end_time": "2023-11-12T13:48:37.498417",
     "exception": false,
     "start_time": "2023-11-12T13:48:37.448245",
     "status": "completed"
    },
    "tags": []
   },
   "outputs": [],
   "source": [
    "classifiers = [('DT', DecisionTreeClassifier()),\n",
    "               ('RF', RandomForestClassifier()),\n",
    "               ('Adaboost', AdaBoostClassifier()),\n",
    "               ('GBM', GradientBoostingClassifier()),\n",
    "               ('XGBBoost', XGBClassifier()),\n",
    "               ('LightGBM', LGBMClassifier()),]"
   ]
  }
 ],
 "metadata": {
  "kernelspec": {
   "display_name": "Python 3",
   "language": "python",
   "name": "python3"
  },
  "language_info": {
   "codemirror_mode": {
    "name": "ipython",
    "version": 3
   },
   "file_extension": ".py",
   "mimetype": "text/x-python",
   "name": "python",
   "nbconvert_exporter": "python",
   "pygments_lexer": "ipython3",
   "version": "3.10.12"
  },
  "papermill": {
   "default_parameters": {},
   "duration": 233.107959,
   "end_time": "2023-11-12T13:48:38.561555",
   "environment_variables": {},
   "exception": null,
   "input_path": "__notebook__.ipynb",
   "output_path": "__notebook__.ipynb",
   "parameters": {},
   "start_time": "2023-11-12T13:44:45.453596",
   "version": "2.4.0"
  }
 },
 "nbformat": 4,
 "nbformat_minor": 5
}
