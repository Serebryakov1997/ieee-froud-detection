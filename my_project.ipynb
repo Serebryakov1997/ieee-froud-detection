{
 "cells": [
  {
   "cell_type": "code",
   "execution_count": 1,
   "id": "619f2be7",
   "metadata": {
    "_cell_guid": "b1076dfc-b9ad-4769-8c92-a6c4dae69d19",
    "_uuid": "8f2839f25d086af736a60e9eeb907d3b93b6e0e5",
    "execution": {
     "iopub.execute_input": "2023-11-09T18:20:37.278895Z",
     "iopub.status.busy": "2023-11-09T18:20:37.278326Z",
     "iopub.status.idle": "2023-11-09T18:20:40.124897Z",
     "shell.execute_reply": "2023-11-09T18:20:40.124040Z"
    },
    "papermill": {
     "duration": 2.872007,
     "end_time": "2023-11-09T18:20:40.126563",
     "exception": false,
     "start_time": "2023-11-09T18:20:37.254556",
     "status": "completed"
    },
    "tags": []
   },
   "outputs": [
    {
     "name": "stdout",
     "output_type": "stream",
     "text": [
      "/kaggle/input/ieee-fraud-detection/sample_submission.csv\n",
      "/kaggle/input/ieee-fraud-detection/test_identity.csv\n",
      "/kaggle/input/ieee-fraud-detection/train_identity.csv\n",
      "/kaggle/input/ieee-fraud-detection/test_transaction.csv\n",
      "/kaggle/input/ieee-fraud-detection/train_transaction.csv\n"
     ]
    }
   ],
   "source": [
    "# This Python 3 environment comes with many helpful analytics libraries installed\n",
    "# It is defined by the kaggle/python Docker image: https://github.com/kaggle/docker-python\n",
    "# For example, here's several helpful packages to load\n",
    "\n",
    "import numpy as np # linear algebra\n",
    "import pandas as pd # data processing, CSV file I/O (e.g. pd.read_csv)\n",
    "import gc\n",
    "import numpy as np\n",
    "import matplotlib.pyplot as plt\n",
    "import seaborn as sns\n",
    "from sklearn.metrics import accuracy_score\n",
    "from sklearn.model_selection import train_test_split,cross_val_score,GridSearchCV,cross_validate\n",
    "from sklearn.preprocessing import MinMaxScaler,LabelEncoder,StandardScaler,RobustScaler\n",
    "from sklearn.impute import KNNImputer\n",
    "from sklearn.metrics import accuracy_score,recall_score,precision_score,f1_score,roc_auc_score\n",
    "from sklearn.neighbors import KNeighborsClassifier\n",
    "from sklearn.tree import DecisionTreeClassifier\n",
    "from xgboost import XGBClassifier\n",
    "from lightgbm import LGBMClassifier\n",
    "from sklearn.ensemble import RandomForestClassifier,GradientBoostingClassifier,VotingClassifier,AdaBoostClassifier\n",
    "from sklearn.metrics import classification_report\n",
    "# Input data files are available in the read-only \"../input/\" directory\n",
    "# For example, running this (by clicking run or pressing Shift+Enter) will list all files under the input directory\n",
    "\n",
    "import os\n",
    "for dirname, _, filenames in os.walk('/kaggle/input'):\n",
    "    for filename in filenames:\n",
    "        print(os.path.join(dirname, filename))\n",
    "\n",
    "# You can write up to 20GB to the current directory (/kaggle/working/) that gets preserved as output when you create a version using \"Save & Run All\" \n",
    "# You can also write temporary files to /kaggle/temp/, but they won't be saved outside of the current session"
   ]
  },
  {
   "cell_type": "markdown",
   "id": "66782a83",
   "metadata": {
    "papermill": {
     "duration": 0.021322,
     "end_time": "2023-11-09T18:20:40.171384",
     "exception": false,
     "start_time": "2023-11-09T18:20:40.150062",
     "status": "completed"
    },
    "tags": []
   },
   "source": [
    "### Данный проект решает задачу бинарной классификации.\n",
    "### Нужно предсказать, к какому типу относится транзакция - мошенническая она ли нет."
   ]
  },
  {
   "cell_type": "markdown",
   "id": "d586d402",
   "metadata": {
    "papermill": {
     "duration": 0.021814,
     "end_time": "2023-11-09T18:20:40.214684",
     "exception": false,
     "start_time": "2023-11-09T18:20:40.192870",
     "status": "completed"
    },
    "tags": []
   },
   "source": [
    "#### Данные в датасете **transaction**:\n",
    "<span style=\"font-size: 18px;\">\n",
    "    \n",
    "- TransactionDT - дельта времени от заданного эталонного значения времени (не актуального значения) \n",
    "- TransactionAMT - транзакционный платёж в USD\n",
    "- ProductCD - продуктовый код, продукт каждой транзакции\n",
    "- card1 - card6 - информация платёжной карты, такая как: тип карты, категория, банк выпуска, страна и т.д.\n",
    "- addr - адрес\n",
    "- dist - расстояние\n",
    "- P_ and (R_) emaildomain: домены покупателя и получателя\n",
    "- C1-C14 - подсчёт, например сколько адресов связано с платёжной картой и т.д. Фактический смысл скрыт\n",
    "- D1-D15 - дельта времени, количество дней между предыдущей транзакцией, и т.д.\n",
    "- M1 - M9 -совпадение, например имена на карте и адресе и т.д.\n",
    "- Vxxx - Vesta разработала богатые функции, включая ранжирование, подсчёт и другие отношения между сущностями\n",
    "</span>"
   ]
  },
  {
   "cell_type": "markdown",
   "id": "0454988a",
   "metadata": {
    "papermill": {
     "duration": 0.021881,
     "end_time": "2023-11-09T18:20:40.292263",
     "exception": false,
     "start_time": "2023-11-09T18:20:40.270382",
     "status": "completed"
    },
    "tags": []
   },
   "source": [
    "<span style=\"font-size:18px;\">\n",
    "Категориальные признаки:\n",
    "\n",
    "- ProductCD\n",
    "- card1-card6\n",
    "- addr1, addr2\n",
    "- P_emaildomain\n",
    "- R_email_domain\n",
    "- M1 - M9\n",
    "</span>"
   ]
  },
  {
   "cell_type": "markdown",
   "id": "a5835f00",
   "metadata": {
    "papermill": {
     "duration": 0.021308,
     "end_time": "2023-11-09T18:20:40.335012",
     "exception": false,
     "start_time": "2023-11-09T18:20:40.313704",
     "status": "completed"
    },
    "tags": []
   },
   "source": [
    "#### Данные в датасете **Identity**\n",
    "<span style=\"font-size:18px;\">\n",
    "Переменные в этой таблице - идентификационные данные:\n",
    "    \n",
    "- информация о сетевом соединении (IP, ISP, прокси и т.д.)\n",
    "- цифровая подпись (UA/браузер/ОС/версия и т.д.), связанные с транзакциями.\n",
    "Их собирает система защиты от мошенничества Vesta и партнеры цифровой безопасности.\n",
    "(Имена полей скрыты, и пояснения значений полей не будет в целях защиты конфиденциальности и их договорного соглашения)\n",
    "</span>"
   ]
  },
  {
   "cell_type": "markdown",
   "id": "5672535b",
   "metadata": {
    "papermill": {
     "duration": 0.021028,
     "end_time": "2023-11-09T18:20:40.378144",
     "exception": false,
     "start_time": "2023-11-09T18:20:40.357116",
     "status": "completed"
    },
    "tags": []
   },
   "source": [
    "<span style=\"font-size:18px;\">\n",
    "Категориальные признаки:\n",
    "    \n",
    "- DeviceType\n",
    "- DeviceInfo\n",
    "- id_12 - id_38\n",
    "</span>"
   ]
  },
  {
   "cell_type": "markdown",
   "id": "a7609892",
   "metadata": {
    "papermill": {
     "duration": 0.021077,
     "end_time": "2023-11-09T18:20:40.420741",
     "exception": false,
     "start_time": "2023-11-09T18:20:40.399664",
     "status": "completed"
    },
    "tags": []
   },
   "source": [
    "### Загрузим все наборы данных данного проекта"
   ]
  },
  {
   "cell_type": "code",
   "execution_count": 2,
   "id": "ba061e2b",
   "metadata": {
    "execution": {
     "iopub.execute_input": "2023-11-09T18:20:40.466126Z",
     "iopub.status.busy": "2023-11-09T18:20:40.465841Z",
     "iopub.status.idle": "2023-11-09T18:21:18.885453Z",
     "shell.execute_reply": "2023-11-09T18:21:18.884812Z"
    },
    "papermill": {
     "duration": 38.444583,
     "end_time": "2023-11-09T18:21:18.887283",
     "exception": false,
     "start_time": "2023-11-09T18:20:40.442700",
     "status": "completed"
    },
    "tags": []
   },
   "outputs": [],
   "source": [
    "train_transaction=pd.read_csv('/kaggle/input/ieee-fraud-detection/train_transaction.csv')\n",
    "train_identity=pd.read_csv('/kaggle/input/ieee-fraud-detection/train_identity.csv')\n",
    "test_transaction=pd.read_csv('/kaggle/input/ieee-fraud-detection/test_transaction.csv')\n",
    "test_identity=pd.read_csv('/kaggle/input/ieee-fraud-detection/test_identity.csv')\n",
    "sample_submission=pd.read_csv('/kaggle/input/ieee-fraud-detection/sample_submission.csv')"
   ]
  },
  {
   "cell_type": "markdown",
   "id": "23152d83",
   "metadata": {
    "papermill": {
     "duration": 0.021565,
     "end_time": "2023-11-09T18:21:18.931422",
     "exception": false,
     "start_time": "2023-11-09T18:21:18.909857",
     "status": "completed"
    },
    "tags": []
   },
   "source": [
    "Объединим таблицы ```*transaction``` и ```*identity``` по полю ```TransactionID```"
   ]
  },
  {
   "cell_type": "code",
   "execution_count": 3,
   "id": "911db136",
   "metadata": {
    "execution": {
     "iopub.execute_input": "2023-11-09T18:21:18.978439Z",
     "iopub.status.busy": "2023-11-09T18:21:18.978148Z",
     "iopub.status.idle": "2023-11-09T18:21:20.001215Z",
     "shell.execute_reply": "2023-11-09T18:21:20.000537Z"
    },
    "papermill": {
     "duration": 1.047873,
     "end_time": "2023-11-09T18:21:20.003159",
     "exception": false,
     "start_time": "2023-11-09T18:21:18.955286",
     "status": "completed"
    },
    "tags": []
   },
   "outputs": [],
   "source": [
    "train = train_transaction.merge(train_identity, how='left', on='TransactionID')\n",
    "test = test_transaction.merge(test_identity, how='left', on='TransactionID')"
   ]
  },
  {
   "cell_type": "markdown",
   "id": "f51fd7d9",
   "metadata": {
    "papermill": {
     "duration": 0.021192,
     "end_time": "2023-11-09T18:21:20.047236",
     "exception": false,
     "start_time": "2023-11-09T18:21:20.026044",
     "status": "completed"
    },
    "tags": []
   },
   "source": [
    "Т.к. мы объединили датасеты ```*identity``` и ```*transaction```, удалим их для того, чтобы освободить память"
   ]
  },
  {
   "cell_type": "code",
   "execution_count": 4,
   "id": "3718e7a2",
   "metadata": {
    "execution": {
     "iopub.execute_input": "2023-11-09T18:21:20.091770Z",
     "iopub.status.busy": "2023-11-09T18:21:20.091285Z",
     "iopub.status.idle": "2023-11-09T18:21:20.164761Z",
     "shell.execute_reply": "2023-11-09T18:21:20.163777Z"
    },
    "papermill": {
     "duration": 0.098141,
     "end_time": "2023-11-09T18:21:20.166773",
     "exception": false,
     "start_time": "2023-11-09T18:21:20.068632",
     "status": "completed"
    },
    "tags": []
   },
   "outputs": [
    {
     "data": {
      "text/plain": [
       "<function gc.collect(generation=2)>"
      ]
     },
     "execution_count": 4,
     "metadata": {},
     "output_type": "execute_result"
    }
   ],
   "source": [
    "del train_transaction\n",
    "del train_identity\n",
    "del test_transaction\n",
    "del test_identity\n",
    "gc.collect"
   ]
  },
  {
   "cell_type": "markdown",
   "id": "1d557d49",
   "metadata": {
    "papermill": {
     "duration": 0.021635,
     "end_time": "2023-11-09T18:21:20.210997",
     "exception": false,
     "start_time": "2023-11-09T18:21:20.189362",
     "status": "completed"
    },
    "tags": []
   },
   "source": [
    "Создадим копии датасетов, с которыми будем работать, чтобы не менять исходники"
   ]
  },
  {
   "cell_type": "code",
   "execution_count": 5,
   "id": "62c0d19c",
   "metadata": {
    "execution": {
     "iopub.execute_input": "2023-11-09T18:21:20.257254Z",
     "iopub.status.busy": "2023-11-09T18:21:20.256967Z",
     "iopub.status.idle": "2023-11-09T18:21:22.209190Z",
     "shell.execute_reply": "2023-11-09T18:21:22.208307Z"
    },
    "papermill": {
     "duration": 1.978331,
     "end_time": "2023-11-09T18:21:22.211251",
     "exception": false,
     "start_time": "2023-11-09T18:21:20.232920",
     "status": "completed"
    },
    "tags": []
   },
   "outputs": [],
   "source": [
    "train_df = train.copy()\n",
    "test_df = test.copy()"
   ]
  },
  {
   "cell_type": "markdown",
   "id": "621c5b58",
   "metadata": {
    "papermill": {
     "duration": 0.021633,
     "end_time": "2023-11-09T18:21:22.255043",
     "exception": false,
     "start_time": "2023-11-09T18:21:22.233410",
     "status": "completed"
    },
    "tags": []
   },
   "source": [
    "Посмотрим какой объём оперативной памяти занимают датасеты:"
   ]
  },
  {
   "cell_type": "code",
   "execution_count": 6,
   "id": "90fef7f7",
   "metadata": {
    "execution": {
     "iopub.execute_input": "2023-11-09T18:21:22.299504Z",
     "iopub.status.busy": "2023-11-09T18:21:22.299219Z",
     "iopub.status.idle": "2023-11-09T18:21:26.094591Z",
     "shell.execute_reply": "2023-11-09T18:21:26.093704Z"
    },
    "papermill": {
     "duration": 3.819841,
     "end_time": "2023-11-09T18:21:26.096400",
     "exception": false,
     "start_time": "2023-11-09T18:21:22.276559",
     "status": "completed"
    },
    "tags": []
   },
   "outputs": [
    {
     "name": "stdout",
     "output_type": "stream",
     "text": [
      "train df: 2.51 GB of memory\n",
      "test df : 2.16 GB of memory\n"
     ]
    }
   ],
   "source": [
    "train_df_GB = train_df.memory_usage(deep=True).sum()/1024**3\n",
    "test_df_GB = test_df.memory_usage(deep=True).sum()/1024**3\n",
    "\n",
    "print(f'train df: {train_df_GB:.2f} GB of memory')\n",
    "print(f'test df : {test_df_GB:.2f} GB of memory')"
   ]
  },
  {
   "cell_type": "markdown",
   "id": "5088710d",
   "metadata": {
    "papermill": {
     "duration": 0.021498,
     "end_time": "2023-11-09T18:21:26.140073",
     "exception": false,
     "start_time": "2023-11-09T18:21:26.118575",
     "status": "completed"
    },
    "tags": []
   },
   "source": [
    "Видим, что датафреймы занимают достаточно большой объём оперативной памяти, следовательно на обработку каждого датафрейма будет затрачено большое кол-во ресурсов и довольно длительное время. \n",
    "\n",
    "Исходя из этого необходимо разбить датасеты на несколько частей и работать с каждым в отдельности. А затем усреднить полученные оценки"
   ]
  },
  {
   "cell_type": "markdown",
   "id": "64edba4a",
   "metadata": {
    "papermill": {
     "duration": 0.021484,
     "end_time": "2023-11-09T18:21:26.183194",
     "exception": false,
     "start_time": "2023-11-09T18:21:26.161710",
     "status": "completed"
    },
    "tags": []
   },
   "source": [
    "Напишем функцию подсчёта объема занимаемой памяти:"
   ]
  },
  {
   "cell_type": "code",
   "execution_count": 7,
   "id": "91ce4ad8",
   "metadata": {
    "execution": {
     "iopub.execute_input": "2023-11-09T18:21:26.228114Z",
     "iopub.status.busy": "2023-11-09T18:21:26.227630Z",
     "iopub.status.idle": "2023-11-09T18:21:26.231441Z",
     "shell.execute_reply": "2023-11-09T18:21:26.230905Z"
    },
    "papermill": {
     "duration": 0.028247,
     "end_time": "2023-11-09T18:21:26.233017",
     "exception": false,
     "start_time": "2023-11-09T18:21:26.204770",
     "status": "completed"
    },
    "tags": []
   },
   "outputs": [],
   "source": [
    "def memory_usage(pandas_object):\n",
    "    if isinstance(pandas_object, pd.DataFrame):\n",
    "        usage_b = pandas_object.memory_usage(deep=True).sum()\n",
    "    else:\n",
    "        usage_b = pandas_obj.memory_usage(deep=True)\n",
    "    usage_mb = usage_b / 1024 ** 2 # convert to mb\n",
    "    return usage_mb"
   ]
  },
  {
   "cell_type": "code",
   "execution_count": 8,
   "id": "fd493a7a",
   "metadata": {
    "execution": {
     "iopub.execute_input": "2023-11-09T18:21:26.278210Z",
     "iopub.status.busy": "2023-11-09T18:21:26.277716Z",
     "iopub.status.idle": "2023-11-09T18:21:27.765666Z",
     "shell.execute_reply": "2023-11-09T18:21:27.764689Z"
    },
    "papermill": {
     "duration": 1.512228,
     "end_time": "2023-11-09T18:21:27.767346",
     "exception": false,
     "start_time": "2023-11-09T18:21:26.255118",
     "status": "completed"
    },
    "tags": []
   },
   "outputs": [
    {
     "name": "stdout",
     "output_type": "stream",
     "text": [
      "len train_split_dfs: 15\n",
      "shape of one train df: (39370, 434)\n",
      "memory usage of one train df: 170.89639949798584 Mb \n",
      "\n",
      "len test_split_dfs: 15\n",
      "shape of one test df: (33780, 433)\n",
      "memory usage of one test df: 146.53627014160156 Mb\n"
     ]
    }
   ],
   "source": [
    "train_split_dfs = np.array_split(train_df, 15)\n",
    "test_split_dfs = np.array_split(test_df, 15)\n",
    "\n",
    "print(f'len train_split_dfs: {len(train_split_dfs)}')\n",
    "print(f'shape of one train df: {train_split_dfs[0].shape}')\n",
    "print(f'memory usage of one train df: {memory_usage(train_split_dfs[0])} Mb \\n')\n",
    "\n",
    "print(f'len test_split_dfs: {len(test_split_dfs)}')\n",
    "print(f'shape of one test df: {test_split_dfs[0].shape}')\n",
    "print(f'memory usage of one test df: {memory_usage(test_split_dfs[0])} Mb')"
   ]
  },
  {
   "cell_type": "code",
   "execution_count": 9,
   "id": "0fede7fd",
   "metadata": {
    "execution": {
     "iopub.execute_input": "2023-11-09T18:21:27.812685Z",
     "iopub.status.busy": "2023-11-09T18:21:27.812383Z",
     "iopub.status.idle": "2023-11-09T18:21:27.829377Z",
     "shell.execute_reply": "2023-11-09T18:21:27.828416Z"
    },
    "papermill": {
     "duration": 0.041105,
     "end_time": "2023-11-09T18:21:27.830970",
     "exception": false,
     "start_time": "2023-11-09T18:21:27.789865",
     "status": "completed"
    },
    "tags": []
   },
   "outputs": [
    {
     "name": "stdout",
     "output_type": "stream",
     "text": [
      "<class 'pandas.core.frame.DataFrame'>\n",
      "RangeIndex: 39370 entries, 0 to 39369\n",
      "Columns: 434 entries, TransactionID to DeviceInfo\n",
      "dtypes: float64(399), int64(4), object(31)\n",
      "memory usage: 130.4+ MB\n"
     ]
    }
   ],
   "source": [
    "train_split_dfs[0].info()"
   ]
  },
  {
   "cell_type": "code",
   "execution_count": 10,
   "id": "01067112",
   "metadata": {
    "execution": {
     "iopub.execute_input": "2023-11-09T18:21:27.876117Z",
     "iopub.status.busy": "2023-11-09T18:21:27.875864Z",
     "iopub.status.idle": "2023-11-09T18:21:27.886494Z",
     "shell.execute_reply": "2023-11-09T18:21:27.885675Z"
    },
    "papermill": {
     "duration": 0.034951,
     "end_time": "2023-11-09T18:21:27.888195",
     "exception": false,
     "start_time": "2023-11-09T18:21:27.853244",
     "status": "completed"
    },
    "tags": []
   },
   "outputs": [
    {
     "name": "stdout",
     "output_type": "stream",
     "text": [
      "<class 'pandas.core.frame.DataFrame'>\n",
      "RangeIndex: 33780 entries, 0 to 33779\n",
      "Columns: 433 entries, TransactionID to DeviceInfo\n",
      "dtypes: float64(399), int64(3), object(31)\n",
      "memory usage: 111.6+ MB\n"
     ]
    }
   ],
   "source": [
    "test_split_dfs[0].info()"
   ]
  },
  {
   "cell_type": "markdown",
   "id": "c0d783c6",
   "metadata": {
    "papermill": {
     "duration": 0.021616,
     "end_time": "2023-11-09T18:21:27.931933",
     "exception": false,
     "start_time": "2023-11-09T18:21:27.910317",
     "status": "completed"
    },
    "tags": []
   },
   "source": [
    "#### Напишем функцию, которая будет представлять отчёт о пропусках в данных"
   ]
  },
  {
   "cell_type": "code",
   "execution_count": 11,
   "id": "b159894a",
   "metadata": {
    "execution": {
     "iopub.execute_input": "2023-11-09T18:21:27.977604Z",
     "iopub.status.busy": "2023-11-09T18:21:27.976700Z",
     "iopub.status.idle": "2023-11-09T18:21:27.983040Z",
     "shell.execute_reply": "2023-11-09T18:21:27.982473Z"
    },
    "papermill": {
     "duration": 0.030937,
     "end_time": "2023-11-09T18:21:27.984621",
     "exception": false,
     "start_time": "2023-11-09T18:21:27.953684",
     "status": "completed"
    },
    "tags": []
   },
   "outputs": [],
   "source": [
    "def missing_values_table(split_df, df_name):\n",
    "    mis_val = sum([df.isnull().sum() for df in split_df])\n",
    "    len_df = sum([len(df) for df in split_df])\n",
    "    mis_val_percent = 100 * mis_val / len_df\n",
    "    mis_val_table = pd.concat([mis_val, mis_val_percent], axis=1)\n",
    "    mis_val_table_ren_columns = mis_val_table.rename(\n",
    "    columns = {0: 'Missing Values', 1: '% of Total Values'})\n",
    "    \n",
    "    mis_val_table_ren_columns = mis_val_table_ren_columns[\n",
    "        mis_val_table_ren_columns.iloc[:,1] != 0].sort_values(\n",
    "    '% of Total Values', ascending=False).round(1)\n",
    "    \n",
    "    print(f'{df_name} has ', str(split_df[0].shape[1]) + ' columns.\\n',\n",
    "         'There are ' + str(mis_val_table_ren_columns.shape[0]) +\n",
    "          ' columns that have missing values.')\n",
    "    return mis_val_table_ren_columns"
   ]
  },
  {
   "cell_type": "code",
   "execution_count": 12,
   "id": "85de0f14",
   "metadata": {
    "execution": {
     "iopub.execute_input": "2023-11-09T18:21:28.030504Z",
     "iopub.status.busy": "2023-11-09T18:21:28.030220Z",
     "iopub.status.idle": "2023-11-09T18:21:28.697349Z",
     "shell.execute_reply": "2023-11-09T18:21:28.696528Z"
    },
    "papermill": {
     "duration": 0.692567,
     "end_time": "2023-11-09T18:21:28.699175",
     "exception": false,
     "start_time": "2023-11-09T18:21:28.006608",
     "status": "completed"
    },
    "tags": []
   },
   "outputs": [
    {
     "name": "stdout",
     "output_type": "stream",
     "text": [
      "train_df has  434 columns.\n",
      " There are 414 columns that have missing values.\n"
     ]
    },
    {
     "data": {
      "text/html": [
       "<div>\n",
       "<style scoped>\n",
       "    .dataframe tbody tr th:only-of-type {\n",
       "        vertical-align: middle;\n",
       "    }\n",
       "\n",
       "    .dataframe tbody tr th {\n",
       "        vertical-align: top;\n",
       "    }\n",
       "\n",
       "    .dataframe thead th {\n",
       "        text-align: right;\n",
       "    }\n",
       "</style>\n",
       "<table border=\"1\" class=\"dataframe\">\n",
       "  <thead>\n",
       "    <tr style=\"text-align: right;\">\n",
       "      <th></th>\n",
       "      <th>Missing Values</th>\n",
       "      <th>% of Total Values</th>\n",
       "    </tr>\n",
       "  </thead>\n",
       "  <tbody>\n",
       "    <tr>\n",
       "      <th>id_24</th>\n",
       "      <td>585793</td>\n",
       "      <td>99.2</td>\n",
       "    </tr>\n",
       "    <tr>\n",
       "      <th>id_25</th>\n",
       "      <td>585408</td>\n",
       "      <td>99.1</td>\n",
       "    </tr>\n",
       "    <tr>\n",
       "      <th>id_07</th>\n",
       "      <td>585385</td>\n",
       "      <td>99.1</td>\n",
       "    </tr>\n",
       "    <tr>\n",
       "      <th>id_08</th>\n",
       "      <td>585385</td>\n",
       "      <td>99.1</td>\n",
       "    </tr>\n",
       "    <tr>\n",
       "      <th>id_21</th>\n",
       "      <td>585381</td>\n",
       "      <td>99.1</td>\n",
       "    </tr>\n",
       "    <tr>\n",
       "      <th>...</th>\n",
       "      <td>...</td>\n",
       "      <td>...</td>\n",
       "    </tr>\n",
       "    <tr>\n",
       "      <th>V285</th>\n",
       "      <td>12</td>\n",
       "      <td>0.0</td>\n",
       "    </tr>\n",
       "    <tr>\n",
       "      <th>V284</th>\n",
       "      <td>12</td>\n",
       "      <td>0.0</td>\n",
       "    </tr>\n",
       "    <tr>\n",
       "      <th>V280</th>\n",
       "      <td>12</td>\n",
       "      <td>0.0</td>\n",
       "    </tr>\n",
       "    <tr>\n",
       "      <th>V279</th>\n",
       "      <td>12</td>\n",
       "      <td>0.0</td>\n",
       "    </tr>\n",
       "    <tr>\n",
       "      <th>V312</th>\n",
       "      <td>12</td>\n",
       "      <td>0.0</td>\n",
       "    </tr>\n",
       "  </tbody>\n",
       "</table>\n",
       "<p>414 rows × 2 columns</p>\n",
       "</div>"
      ],
      "text/plain": [
       "       Missing Values  % of Total Values\n",
       "id_24          585793               99.2\n",
       "id_25          585408               99.1\n",
       "id_07          585385               99.1\n",
       "id_08          585385               99.1\n",
       "id_21          585381               99.1\n",
       "...               ...                ...\n",
       "V285               12                0.0\n",
       "V284               12                0.0\n",
       "V280               12                0.0\n",
       "V279               12                0.0\n",
       "V312               12                0.0\n",
       "\n",
       "[414 rows x 2 columns]"
      ]
     },
     "execution_count": 12,
     "metadata": {},
     "output_type": "execute_result"
    }
   ],
   "source": [
    "missing_values_table(train_split_dfs, 'train_df')"
   ]
  },
  {
   "cell_type": "markdown",
   "id": "d1a2af2f",
   "metadata": {
    "papermill": {
     "duration": 0.022581,
     "end_time": "2023-11-09T18:21:28.744933",
     "exception": false,
     "start_time": "2023-11-09T18:21:28.722352",
     "status": "completed"
    },
    "tags": []
   },
   "source": [
    "Заменим признаки с ```-``` в тестовом датасете на соответствующие названия из тренировочного датасета с ```_```"
   ]
  },
  {
   "cell_type": "code",
   "execution_count": 13,
   "id": "f848c222",
   "metadata": {
    "execution": {
     "iopub.execute_input": "2023-11-09T18:21:28.790280Z",
     "iopub.status.busy": "2023-11-09T18:21:28.789993Z",
     "iopub.status.idle": "2023-11-09T18:21:29.068388Z",
     "shell.execute_reply": "2023-11-09T18:21:29.067635Z"
    },
    "papermill": {
     "duration": 0.303507,
     "end_time": "2023-11-09T18:21:29.070433",
     "exception": false,
     "start_time": "2023-11-09T18:21:28.766926",
     "status": "completed"
    },
    "tags": []
   },
   "outputs": [],
   "source": [
    "def replace_dashes(df):\n",
    "    return df.rename(columns=lambda x:'_'.join(x.split('-')))\n",
    "\n",
    "test_split_dfs = [replace_dashes(df) for df in test_split_dfs] "
   ]
  },
  {
   "cell_type": "code",
   "execution_count": 14,
   "id": "f1cef03d",
   "metadata": {
    "execution": {
     "iopub.execute_input": "2023-11-09T18:21:29.117948Z",
     "iopub.status.busy": "2023-11-09T18:21:29.117628Z",
     "iopub.status.idle": "2023-11-09T18:21:29.156874Z",
     "shell.execute_reply": "2023-11-09T18:21:29.155933Z"
    },
    "papermill": {
     "duration": 0.064644,
     "end_time": "2023-11-09T18:21:29.158539",
     "exception": false,
     "start_time": "2023-11-09T18:21:29.093895",
     "status": "completed"
    },
    "tags": []
   },
   "outputs": [
    {
     "data": {
      "text/html": [
       "<div>\n",
       "<style scoped>\n",
       "    .dataframe tbody tr th:only-of-type {\n",
       "        vertical-align: middle;\n",
       "    }\n",
       "\n",
       "    .dataframe tbody tr th {\n",
       "        vertical-align: top;\n",
       "    }\n",
       "\n",
       "    .dataframe thead th {\n",
       "        text-align: right;\n",
       "    }\n",
       "</style>\n",
       "<table border=\"1\" class=\"dataframe\">\n",
       "  <thead>\n",
       "    <tr style=\"text-align: right;\">\n",
       "      <th></th>\n",
       "      <th>TransactionID</th>\n",
       "      <th>TransactionDT</th>\n",
       "      <th>TransactionAmt</th>\n",
       "      <th>ProductCD</th>\n",
       "      <th>card1</th>\n",
       "      <th>card2</th>\n",
       "      <th>card3</th>\n",
       "      <th>card4</th>\n",
       "      <th>card5</th>\n",
       "      <th>card6</th>\n",
       "      <th>...</th>\n",
       "      <th>id_31</th>\n",
       "      <th>id_32</th>\n",
       "      <th>id_33</th>\n",
       "      <th>id_34</th>\n",
       "      <th>id_35</th>\n",
       "      <th>id_36</th>\n",
       "      <th>id_37</th>\n",
       "      <th>id_38</th>\n",
       "      <th>DeviceType</th>\n",
       "      <th>DeviceInfo</th>\n",
       "    </tr>\n",
       "  </thead>\n",
       "  <tbody>\n",
       "    <tr>\n",
       "      <th>0</th>\n",
       "      <td>3663549</td>\n",
       "      <td>18403224</td>\n",
       "      <td>31.95</td>\n",
       "      <td>W</td>\n",
       "      <td>10409</td>\n",
       "      <td>111.0</td>\n",
       "      <td>150.0</td>\n",
       "      <td>visa</td>\n",
       "      <td>226.0</td>\n",
       "      <td>debit</td>\n",
       "      <td>...</td>\n",
       "      <td>NaN</td>\n",
       "      <td>NaN</td>\n",
       "      <td>NaN</td>\n",
       "      <td>NaN</td>\n",
       "      <td>NaN</td>\n",
       "      <td>NaN</td>\n",
       "      <td>NaN</td>\n",
       "      <td>NaN</td>\n",
       "      <td>NaN</td>\n",
       "      <td>NaN</td>\n",
       "    </tr>\n",
       "    <tr>\n",
       "      <th>1</th>\n",
       "      <td>3663550</td>\n",
       "      <td>18403263</td>\n",
       "      <td>49.00</td>\n",
       "      <td>W</td>\n",
       "      <td>4272</td>\n",
       "      <td>111.0</td>\n",
       "      <td>150.0</td>\n",
       "      <td>visa</td>\n",
       "      <td>226.0</td>\n",
       "      <td>debit</td>\n",
       "      <td>...</td>\n",
       "      <td>NaN</td>\n",
       "      <td>NaN</td>\n",
       "      <td>NaN</td>\n",
       "      <td>NaN</td>\n",
       "      <td>NaN</td>\n",
       "      <td>NaN</td>\n",
       "      <td>NaN</td>\n",
       "      <td>NaN</td>\n",
       "      <td>NaN</td>\n",
       "      <td>NaN</td>\n",
       "    </tr>\n",
       "    <tr>\n",
       "      <th>2</th>\n",
       "      <td>3663551</td>\n",
       "      <td>18403310</td>\n",
       "      <td>171.00</td>\n",
       "      <td>W</td>\n",
       "      <td>4476</td>\n",
       "      <td>574.0</td>\n",
       "      <td>150.0</td>\n",
       "      <td>visa</td>\n",
       "      <td>226.0</td>\n",
       "      <td>debit</td>\n",
       "      <td>...</td>\n",
       "      <td>NaN</td>\n",
       "      <td>NaN</td>\n",
       "      <td>NaN</td>\n",
       "      <td>NaN</td>\n",
       "      <td>NaN</td>\n",
       "      <td>NaN</td>\n",
       "      <td>NaN</td>\n",
       "      <td>NaN</td>\n",
       "      <td>NaN</td>\n",
       "      <td>NaN</td>\n",
       "    </tr>\n",
       "    <tr>\n",
       "      <th>3</th>\n",
       "      <td>3663552</td>\n",
       "      <td>18403310</td>\n",
       "      <td>284.95</td>\n",
       "      <td>W</td>\n",
       "      <td>10989</td>\n",
       "      <td>360.0</td>\n",
       "      <td>150.0</td>\n",
       "      <td>visa</td>\n",
       "      <td>166.0</td>\n",
       "      <td>debit</td>\n",
       "      <td>...</td>\n",
       "      <td>NaN</td>\n",
       "      <td>NaN</td>\n",
       "      <td>NaN</td>\n",
       "      <td>NaN</td>\n",
       "      <td>NaN</td>\n",
       "      <td>NaN</td>\n",
       "      <td>NaN</td>\n",
       "      <td>NaN</td>\n",
       "      <td>NaN</td>\n",
       "      <td>NaN</td>\n",
       "    </tr>\n",
       "    <tr>\n",
       "      <th>4</th>\n",
       "      <td>3663553</td>\n",
       "      <td>18403317</td>\n",
       "      <td>67.95</td>\n",
       "      <td>W</td>\n",
       "      <td>18018</td>\n",
       "      <td>452.0</td>\n",
       "      <td>150.0</td>\n",
       "      <td>mastercard</td>\n",
       "      <td>117.0</td>\n",
       "      <td>debit</td>\n",
       "      <td>...</td>\n",
       "      <td>NaN</td>\n",
       "      <td>NaN</td>\n",
       "      <td>NaN</td>\n",
       "      <td>NaN</td>\n",
       "      <td>NaN</td>\n",
       "      <td>NaN</td>\n",
       "      <td>NaN</td>\n",
       "      <td>NaN</td>\n",
       "      <td>NaN</td>\n",
       "      <td>NaN</td>\n",
       "    </tr>\n",
       "    <tr>\n",
       "      <th>...</th>\n",
       "      <td>...</td>\n",
       "      <td>...</td>\n",
       "      <td>...</td>\n",
       "      <td>...</td>\n",
       "      <td>...</td>\n",
       "      <td>...</td>\n",
       "      <td>...</td>\n",
       "      <td>...</td>\n",
       "      <td>...</td>\n",
       "      <td>...</td>\n",
       "      <td>...</td>\n",
       "      <td>...</td>\n",
       "      <td>...</td>\n",
       "      <td>...</td>\n",
       "      <td>...</td>\n",
       "      <td>...</td>\n",
       "      <td>...</td>\n",
       "      <td>...</td>\n",
       "      <td>...</td>\n",
       "      <td>...</td>\n",
       "      <td>...</td>\n",
       "    </tr>\n",
       "    <tr>\n",
       "      <th>33775</th>\n",
       "      <td>3697324</td>\n",
       "      <td>19525977</td>\n",
       "      <td>77.00</td>\n",
       "      <td>W</td>\n",
       "      <td>2803</td>\n",
       "      <td>100.0</td>\n",
       "      <td>150.0</td>\n",
       "      <td>visa</td>\n",
       "      <td>226.0</td>\n",
       "      <td>debit</td>\n",
       "      <td>...</td>\n",
       "      <td>NaN</td>\n",
       "      <td>NaN</td>\n",
       "      <td>NaN</td>\n",
       "      <td>NaN</td>\n",
       "      <td>NaN</td>\n",
       "      <td>NaN</td>\n",
       "      <td>NaN</td>\n",
       "      <td>NaN</td>\n",
       "      <td>NaN</td>\n",
       "      <td>NaN</td>\n",
       "    </tr>\n",
       "    <tr>\n",
       "      <th>33776</th>\n",
       "      <td>3697325</td>\n",
       "      <td>19525978</td>\n",
       "      <td>326.50</td>\n",
       "      <td>W</td>\n",
       "      <td>12544</td>\n",
       "      <td>321.0</td>\n",
       "      <td>150.0</td>\n",
       "      <td>visa</td>\n",
       "      <td>226.0</td>\n",
       "      <td>debit</td>\n",
       "      <td>...</td>\n",
       "      <td>NaN</td>\n",
       "      <td>NaN</td>\n",
       "      <td>NaN</td>\n",
       "      <td>NaN</td>\n",
       "      <td>NaN</td>\n",
       "      <td>NaN</td>\n",
       "      <td>NaN</td>\n",
       "      <td>NaN</td>\n",
       "      <td>NaN</td>\n",
       "      <td>NaN</td>\n",
       "    </tr>\n",
       "    <tr>\n",
       "      <th>33777</th>\n",
       "      <td>3697326</td>\n",
       "      <td>19525985</td>\n",
       "      <td>834.00</td>\n",
       "      <td>W</td>\n",
       "      <td>2157</td>\n",
       "      <td>111.0</td>\n",
       "      <td>150.0</td>\n",
       "      <td>visa</td>\n",
       "      <td>226.0</td>\n",
       "      <td>debit</td>\n",
       "      <td>...</td>\n",
       "      <td>NaN</td>\n",
       "      <td>NaN</td>\n",
       "      <td>NaN</td>\n",
       "      <td>NaN</td>\n",
       "      <td>NaN</td>\n",
       "      <td>NaN</td>\n",
       "      <td>NaN</td>\n",
       "      <td>NaN</td>\n",
       "      <td>NaN</td>\n",
       "      <td>NaN</td>\n",
       "    </tr>\n",
       "    <tr>\n",
       "      <th>33778</th>\n",
       "      <td>3697327</td>\n",
       "      <td>19525992</td>\n",
       "      <td>59.00</td>\n",
       "      <td>W</td>\n",
       "      <td>7919</td>\n",
       "      <td>194.0</td>\n",
       "      <td>150.0</td>\n",
       "      <td>mastercard</td>\n",
       "      <td>166.0</td>\n",
       "      <td>debit</td>\n",
       "      <td>...</td>\n",
       "      <td>NaN</td>\n",
       "      <td>NaN</td>\n",
       "      <td>NaN</td>\n",
       "      <td>NaN</td>\n",
       "      <td>NaN</td>\n",
       "      <td>NaN</td>\n",
       "      <td>NaN</td>\n",
       "      <td>NaN</td>\n",
       "      <td>NaN</td>\n",
       "      <td>NaN</td>\n",
       "    </tr>\n",
       "    <tr>\n",
       "      <th>33779</th>\n",
       "      <td>3697328</td>\n",
       "      <td>19525997</td>\n",
       "      <td>39.00</td>\n",
       "      <td>W</td>\n",
       "      <td>2361</td>\n",
       "      <td>555.0</td>\n",
       "      <td>150.0</td>\n",
       "      <td>visa</td>\n",
       "      <td>226.0</td>\n",
       "      <td>debit</td>\n",
       "      <td>...</td>\n",
       "      <td>NaN</td>\n",
       "      <td>NaN</td>\n",
       "      <td>NaN</td>\n",
       "      <td>NaN</td>\n",
       "      <td>NaN</td>\n",
       "      <td>NaN</td>\n",
       "      <td>NaN</td>\n",
       "      <td>NaN</td>\n",
       "      <td>NaN</td>\n",
       "      <td>NaN</td>\n",
       "    </tr>\n",
       "  </tbody>\n",
       "</table>\n",
       "<p>33780 rows × 433 columns</p>\n",
       "</div>"
      ],
      "text/plain": [
       "       TransactionID  TransactionDT  TransactionAmt ProductCD  card1  card2  \\\n",
       "0            3663549       18403224           31.95         W  10409  111.0   \n",
       "1            3663550       18403263           49.00         W   4272  111.0   \n",
       "2            3663551       18403310          171.00         W   4476  574.0   \n",
       "3            3663552       18403310          284.95         W  10989  360.0   \n",
       "4            3663553       18403317           67.95         W  18018  452.0   \n",
       "...              ...            ...             ...       ...    ...    ...   \n",
       "33775        3697324       19525977           77.00         W   2803  100.0   \n",
       "33776        3697325       19525978          326.50         W  12544  321.0   \n",
       "33777        3697326       19525985          834.00         W   2157  111.0   \n",
       "33778        3697327       19525992           59.00         W   7919  194.0   \n",
       "33779        3697328       19525997           39.00         W   2361  555.0   \n",
       "\n",
       "       card3       card4  card5  card6  ...  id_31  id_32  id_33  id_34 id_35  \\\n",
       "0      150.0        visa  226.0  debit  ...    NaN    NaN    NaN    NaN   NaN   \n",
       "1      150.0        visa  226.0  debit  ...    NaN    NaN    NaN    NaN   NaN   \n",
       "2      150.0        visa  226.0  debit  ...    NaN    NaN    NaN    NaN   NaN   \n",
       "3      150.0        visa  166.0  debit  ...    NaN    NaN    NaN    NaN   NaN   \n",
       "4      150.0  mastercard  117.0  debit  ...    NaN    NaN    NaN    NaN   NaN   \n",
       "...      ...         ...    ...    ...  ...    ...    ...    ...    ...   ...   \n",
       "33775  150.0        visa  226.0  debit  ...    NaN    NaN    NaN    NaN   NaN   \n",
       "33776  150.0        visa  226.0  debit  ...    NaN    NaN    NaN    NaN   NaN   \n",
       "33777  150.0        visa  226.0  debit  ...    NaN    NaN    NaN    NaN   NaN   \n",
       "33778  150.0  mastercard  166.0  debit  ...    NaN    NaN    NaN    NaN   NaN   \n",
       "33779  150.0        visa  226.0  debit  ...    NaN    NaN    NaN    NaN   NaN   \n",
       "\n",
       "      id_36  id_37  id_38  DeviceType  DeviceInfo  \n",
       "0       NaN    NaN    NaN         NaN         NaN  \n",
       "1       NaN    NaN    NaN         NaN         NaN  \n",
       "2       NaN    NaN    NaN         NaN         NaN  \n",
       "3       NaN    NaN    NaN         NaN         NaN  \n",
       "4       NaN    NaN    NaN         NaN         NaN  \n",
       "...     ...    ...    ...         ...         ...  \n",
       "33775   NaN    NaN    NaN         NaN         NaN  \n",
       "33776   NaN    NaN    NaN         NaN         NaN  \n",
       "33777   NaN    NaN    NaN         NaN         NaN  \n",
       "33778   NaN    NaN    NaN         NaN         NaN  \n",
       "33779   NaN    NaN    NaN         NaN         NaN  \n",
       "\n",
       "[33780 rows x 433 columns]"
      ]
     },
     "execution_count": 14,
     "metadata": {},
     "output_type": "execute_result"
    }
   ],
   "source": [
    "test_split_dfs[0]"
   ]
  },
  {
   "cell_type": "markdown",
   "id": "5ae31982",
   "metadata": {
    "papermill": {
     "duration": 0.022273,
     "end_time": "2023-11-09T18:21:29.203999",
     "exception": false,
     "start_time": "2023-11-09T18:21:29.181726",
     "status": "completed"
    },
    "tags": []
   },
   "source": [
    "Удаляем признаки, в которых более ```50 %``` пропусков:"
   ]
  },
  {
   "cell_type": "code",
   "execution_count": 15,
   "id": "480fab09",
   "metadata": {
    "execution": {
     "iopub.execute_input": "2023-11-09T18:21:29.250323Z",
     "iopub.status.busy": "2023-11-09T18:21:29.250031Z",
     "iopub.status.idle": "2023-11-09T18:21:29.905581Z",
     "shell.execute_reply": "2023-11-09T18:21:29.904554Z"
    },
    "papermill": {
     "duration": 0.680911,
     "end_time": "2023-11-09T18:21:29.907364",
     "exception": false,
     "start_time": "2023-11-09T18:21:29.226453",
     "status": "completed"
    },
    "tags": []
   },
   "outputs": [
    {
     "name": "stdout",
     "output_type": "stream",
     "text": [
      "train_df has  434 columns.\n",
      " There are 414 columns that have missing values.\n",
      "We will remove 214 columns.\n"
     ]
    }
   ],
   "source": [
    "missing_df = missing_values_table(train_split_dfs, 'train_df')\n",
    "missing_columns = list(missing_df[missing_df['% of Total Values'] > 50.0].index)\n",
    "print('We will remove %d columns.' % len(missing_columns))"
   ]
  },
  {
   "cell_type": "code",
   "execution_count": 16,
   "id": "f71bbdd4",
   "metadata": {
    "execution": {
     "iopub.execute_input": "2023-11-09T18:21:29.954588Z",
     "iopub.status.busy": "2023-11-09T18:21:29.954307Z",
     "iopub.status.idle": "2023-11-09T18:21:30.174577Z",
     "shell.execute_reply": "2023-11-09T18:21:30.173700Z"
    },
    "papermill": {
     "duration": 0.245834,
     "end_time": "2023-11-09T18:21:30.176613",
     "exception": false,
     "start_time": "2023-11-09T18:21:29.930779",
     "status": "completed"
    },
    "tags": []
   },
   "outputs": [],
   "source": [
    "train_split_dfs = [df.drop(columns = missing_columns) for df in train_split_dfs]"
   ]
  },
  {
   "cell_type": "code",
   "execution_count": 17,
   "id": "b3e22144",
   "metadata": {
    "execution": {
     "iopub.execute_input": "2023-11-09T18:21:30.224547Z",
     "iopub.status.busy": "2023-11-09T18:21:30.224251Z",
     "iopub.status.idle": "2023-11-09T18:21:30.229491Z",
     "shell.execute_reply": "2023-11-09T18:21:30.228685Z"
    },
    "papermill": {
     "duration": 0.030522,
     "end_time": "2023-11-09T18:21:30.231040",
     "exception": false,
     "start_time": "2023-11-09T18:21:30.200518",
     "status": "completed"
    },
    "tags": []
   },
   "outputs": [
    {
     "data": {
      "text/plain": [
       "(39370, 220)"
      ]
     },
     "execution_count": 17,
     "metadata": {},
     "output_type": "execute_result"
    }
   ],
   "source": [
    "train_split_dfs[0].shape"
   ]
  },
  {
   "cell_type": "code",
   "execution_count": 18,
   "id": "7bdd364b",
   "metadata": {
    "execution": {
     "iopub.execute_input": "2023-11-09T18:21:30.279685Z",
     "iopub.status.busy": "2023-11-09T18:21:30.279365Z",
     "iopub.status.idle": "2023-11-09T18:21:30.473601Z",
     "shell.execute_reply": "2023-11-09T18:21:30.472929Z"
    },
    "papermill": {
     "duration": 0.220855,
     "end_time": "2023-11-09T18:21:30.475252",
     "exception": false,
     "start_time": "2023-11-09T18:21:30.254397",
     "status": "completed"
    },
    "tags": []
   },
   "outputs": [
    {
     "data": {
      "text/plain": [
       "(33780, 219)"
      ]
     },
     "execution_count": 18,
     "metadata": {},
     "output_type": "execute_result"
    }
   ],
   "source": [
    "test_split_dfs = [df.drop(columns = missing_columns) for df in test_split_dfs]\n",
    "test_split_dfs[0].shape"
   ]
  },
  {
   "cell_type": "markdown",
   "id": "6d515d3c",
   "metadata": {
    "papermill": {
     "duration": 0.022361,
     "end_time": "2023-11-09T18:21:30.520945",
     "exception": false,
     "start_time": "2023-11-09T18:21:30.498584",
     "status": "completed"
    },
    "tags": []
   },
   "source": [
    "Посмотрим ещё раз на пропуски "
   ]
  },
  {
   "cell_type": "code",
   "execution_count": 19,
   "id": "2b7abaa9",
   "metadata": {
    "execution": {
     "iopub.execute_input": "2023-11-09T18:21:30.567583Z",
     "iopub.status.busy": "2023-11-09T18:21:30.567305Z",
     "iopub.status.idle": "2023-11-09T18:21:30.826322Z",
     "shell.execute_reply": "2023-11-09T18:21:30.825583Z"
    },
    "papermill": {
     "duration": 0.284276,
     "end_time": "2023-11-09T18:21:30.827977",
     "exception": false,
     "start_time": "2023-11-09T18:21:30.543701",
     "status": "completed"
    },
    "tags": []
   },
   "outputs": [
    {
     "name": "stdout",
     "output_type": "stream",
     "text": [
      "train_df has  220 columns.\n",
      " There are 200 columns that have missing values.\n"
     ]
    },
    {
     "data": {
      "text/html": [
       "<div>\n",
       "<style scoped>\n",
       "    .dataframe tbody tr th:only-of-type {\n",
       "        vertical-align: middle;\n",
       "    }\n",
       "\n",
       "    .dataframe tbody tr th {\n",
       "        vertical-align: top;\n",
       "    }\n",
       "\n",
       "    .dataframe thead th {\n",
       "        text-align: right;\n",
       "    }\n",
       "</style>\n",
       "<table border=\"1\" class=\"dataframe\">\n",
       "  <thead>\n",
       "    <tr style=\"text-align: right;\">\n",
       "      <th></th>\n",
       "      <th>Missing Values</th>\n",
       "      <th>% of Total Values</th>\n",
       "    </tr>\n",
       "  </thead>\n",
       "  <tbody>\n",
       "    <tr>\n",
       "      <th>M4</th>\n",
       "      <td>281444</td>\n",
       "      <td>47.7</td>\n",
       "    </tr>\n",
       "    <tr>\n",
       "      <th>D2</th>\n",
       "      <td>280797</td>\n",
       "      <td>47.5</td>\n",
       "    </tr>\n",
       "    <tr>\n",
       "      <th>V7</th>\n",
       "      <td>279287</td>\n",
       "      <td>47.3</td>\n",
       "    </tr>\n",
       "    <tr>\n",
       "      <th>V11</th>\n",
       "      <td>279287</td>\n",
       "      <td>47.3</td>\n",
       "    </tr>\n",
       "    <tr>\n",
       "      <th>V10</th>\n",
       "      <td>279287</td>\n",
       "      <td>47.3</td>\n",
       "    </tr>\n",
       "    <tr>\n",
       "      <th>...</th>\n",
       "      <td>...</td>\n",
       "      <td>...</td>\n",
       "    </tr>\n",
       "    <tr>\n",
       "      <th>V295</th>\n",
       "      <td>12</td>\n",
       "      <td>0.0</td>\n",
       "    </tr>\n",
       "    <tr>\n",
       "      <th>V297</th>\n",
       "      <td>12</td>\n",
       "      <td>0.0</td>\n",
       "    </tr>\n",
       "    <tr>\n",
       "      <th>V298</th>\n",
       "      <td>12</td>\n",
       "      <td>0.0</td>\n",
       "    </tr>\n",
       "    <tr>\n",
       "      <th>V299</th>\n",
       "      <td>12</td>\n",
       "      <td>0.0</td>\n",
       "    </tr>\n",
       "    <tr>\n",
       "      <th>V321</th>\n",
       "      <td>12</td>\n",
       "      <td>0.0</td>\n",
       "    </tr>\n",
       "  </tbody>\n",
       "</table>\n",
       "<p>200 rows × 2 columns</p>\n",
       "</div>"
      ],
      "text/plain": [
       "      Missing Values  % of Total Values\n",
       "M4            281444               47.7\n",
       "D2            280797               47.5\n",
       "V7            279287               47.3\n",
       "V11           279287               47.3\n",
       "V10           279287               47.3\n",
       "...              ...                ...\n",
       "V295              12                0.0\n",
       "V297              12                0.0\n",
       "V298              12                0.0\n",
       "V299              12                0.0\n",
       "V321              12                0.0\n",
       "\n",
       "[200 rows x 2 columns]"
      ]
     },
     "execution_count": 19,
     "metadata": {},
     "output_type": "execute_result"
    }
   ],
   "source": [
    "miss_val_train_df = missing_values_table(train_split_dfs, 'train_df')\n",
    "miss_val_train_df"
   ]
  },
  {
   "cell_type": "code",
   "execution_count": 20,
   "id": "10990778",
   "metadata": {
    "execution": {
     "iopub.execute_input": "2023-11-09T18:21:30.875894Z",
     "iopub.status.busy": "2023-11-09T18:21:30.875585Z",
     "iopub.status.idle": "2023-11-09T18:21:30.885744Z",
     "shell.execute_reply": "2023-11-09T18:21:30.884914Z"
    },
    "papermill": {
     "duration": 0.035709,
     "end_time": "2023-11-09T18:21:30.887401",
     "exception": false,
     "start_time": "2023-11-09T18:21:30.851692",
     "status": "completed"
    },
    "tags": []
   },
   "outputs": [
    {
     "name": "stdout",
     "output_type": "stream",
     "text": [
      "feat:  card2\n",
      "feat:  card3\n",
      "feat:  card5\n",
      "feat:  addr1\n",
      "feat:  addr2\n"
     ]
    },
    {
     "data": {
      "text/html": [
       "<div>\n",
       "<style scoped>\n",
       "    .dataframe tbody tr th:only-of-type {\n",
       "        vertical-align: middle;\n",
       "    }\n",
       "\n",
       "    .dataframe tbody tr th {\n",
       "        vertical-align: top;\n",
       "    }\n",
       "\n",
       "    .dataframe thead th {\n",
       "        text-align: right;\n",
       "    }\n",
       "</style>\n",
       "<table border=\"1\" class=\"dataframe\">\n",
       "  <thead>\n",
       "    <tr style=\"text-align: right;\">\n",
       "      <th></th>\n",
       "      <th>Missing Values</th>\n",
       "      <th>% of Total Values</th>\n",
       "    </tr>\n",
       "  </thead>\n",
       "  <tbody>\n",
       "    <tr>\n",
       "      <th>card2</th>\n",
       "      <td>8933</td>\n",
       "      <td>1.5</td>\n",
       "    </tr>\n",
       "    <tr>\n",
       "      <th>card3</th>\n",
       "      <td>1565</td>\n",
       "      <td>0.3</td>\n",
       "    </tr>\n",
       "    <tr>\n",
       "      <th>card5</th>\n",
       "      <td>4259</td>\n",
       "      <td>0.7</td>\n",
       "    </tr>\n",
       "    <tr>\n",
       "      <th>addr1</th>\n",
       "      <td>65706</td>\n",
       "      <td>11.1</td>\n",
       "    </tr>\n",
       "    <tr>\n",
       "      <th>addr2</th>\n",
       "      <td>65706</td>\n",
       "      <td>11.1</td>\n",
       "    </tr>\n",
       "  </tbody>\n",
       "</table>\n",
       "</div>"
      ],
      "text/plain": [
       "       Missing Values  % of Total Values\n",
       "card2            8933                1.5\n",
       "card3            1565                0.3\n",
       "card5            4259                0.7\n",
       "addr1           65706               11.1\n",
       "addr2           65706               11.1"
      ]
     },
     "execution_count": 20,
     "metadata": {},
     "output_type": "execute_result"
    }
   ],
   "source": [
    "features = ['TransactionDT',\n",
    " 'TransactionAmt',\n",
    " 'card1',\n",
    " 'card2',\n",
    " 'card3',\n",
    " 'card5',\n",
    " 'addr1',\n",
    " 'addr2']\n",
    "miss_feat_arr = []\n",
    "for feat in features:\n",
    "    if feat in miss_val_train_df.index:\n",
    "        miss_feat_arr.append(feat)\n",
    "        print('feat: ', feat)\n",
    "#     else:\n",
    "#         print('not')\n",
    "\n",
    "miss_val_train_df.loc[miss_feat_arr,:]"
   ]
  },
  {
   "cell_type": "code",
   "execution_count": 21,
   "id": "f43de150",
   "metadata": {
    "execution": {
     "iopub.execute_input": "2023-11-09T18:21:30.935060Z",
     "iopub.status.busy": "2023-11-09T18:21:30.934803Z",
     "iopub.status.idle": "2023-11-09T18:21:31.161572Z",
     "shell.execute_reply": "2023-11-09T18:21:31.160711Z"
    },
    "papermill": {
     "duration": 0.252718,
     "end_time": "2023-11-09T18:21:31.163576",
     "exception": false,
     "start_time": "2023-11-09T18:21:30.910858",
     "status": "completed"
    },
    "tags": []
   },
   "outputs": [
    {
     "name": "stdout",
     "output_type": "stream",
     "text": [
      "test_df has  219 columns.\n",
      " There are 171 columns that have missing values.\n"
     ]
    },
    {
     "data": {
      "text/html": [
       "<div>\n",
       "<style scoped>\n",
       "    .dataframe tbody tr th:only-of-type {\n",
       "        vertical-align: middle;\n",
       "    }\n",
       "\n",
       "    .dataframe tbody tr th {\n",
       "        vertical-align: top;\n",
       "    }\n",
       "\n",
       "    .dataframe thead th {\n",
       "        text-align: right;\n",
       "    }\n",
       "</style>\n",
       "<table border=\"1\" class=\"dataframe\">\n",
       "  <thead>\n",
       "    <tr style=\"text-align: right;\">\n",
       "      <th></th>\n",
       "      <th>Missing Values</th>\n",
       "      <th>% of Total Values</th>\n",
       "    </tr>\n",
       "  </thead>\n",
       "  <tbody>\n",
       "    <tr>\n",
       "      <th>M4</th>\n",
       "      <td>237745</td>\n",
       "      <td>46.9</td>\n",
       "    </tr>\n",
       "    <tr>\n",
       "      <th>D2</th>\n",
       "      <td>234769</td>\n",
       "      <td>46.3</td>\n",
       "    </tr>\n",
       "    <tr>\n",
       "      <th>D3</th>\n",
       "      <td>203142</td>\n",
       "      <td>40.1</td>\n",
       "    </tr>\n",
       "    <tr>\n",
       "      <th>M3</th>\n",
       "      <td>176639</td>\n",
       "      <td>34.9</td>\n",
       "    </tr>\n",
       "    <tr>\n",
       "      <th>M2</th>\n",
       "      <td>176639</td>\n",
       "      <td>34.9</td>\n",
       "    </tr>\n",
       "    <tr>\n",
       "      <th>...</th>\n",
       "      <td>...</td>\n",
       "      <td>...</td>\n",
       "    </tr>\n",
       "    <tr>\n",
       "      <th>V287</th>\n",
       "      <td>3</td>\n",
       "      <td>0.0</td>\n",
       "    </tr>\n",
       "    <tr>\n",
       "      <th>V290</th>\n",
       "      <td>3</td>\n",
       "      <td>0.0</td>\n",
       "    </tr>\n",
       "    <tr>\n",
       "      <th>V292</th>\n",
       "      <td>3</td>\n",
       "      <td>0.0</td>\n",
       "    </tr>\n",
       "    <tr>\n",
       "      <th>V293</th>\n",
       "      <td>3</td>\n",
       "      <td>0.0</td>\n",
       "    </tr>\n",
       "    <tr>\n",
       "      <th>V321</th>\n",
       "      <td>3</td>\n",
       "      <td>0.0</td>\n",
       "    </tr>\n",
       "  </tbody>\n",
       "</table>\n",
       "<p>171 rows × 2 columns</p>\n",
       "</div>"
      ],
      "text/plain": [
       "      Missing Values  % of Total Values\n",
       "M4            237745               46.9\n",
       "D2            234769               46.3\n",
       "D3            203142               40.1\n",
       "M3            176639               34.9\n",
       "M2            176639               34.9\n",
       "...              ...                ...\n",
       "V287               3                0.0\n",
       "V290               3                0.0\n",
       "V292               3                0.0\n",
       "V293               3                0.0\n",
       "V321               3                0.0\n",
       "\n",
       "[171 rows x 2 columns]"
      ]
     },
     "execution_count": 21,
     "metadata": {},
     "output_type": "execute_result"
    }
   ],
   "source": [
    "missing_values_table(test_split_dfs, 'test_df')"
   ]
  },
  {
   "cell_type": "code",
   "execution_count": 22,
   "id": "5046cb5f",
   "metadata": {
    "execution": {
     "iopub.execute_input": "2023-11-09T18:21:31.213593Z",
     "iopub.status.busy": "2023-11-09T18:21:31.213347Z",
     "iopub.status.idle": "2023-11-09T18:21:31.245427Z",
     "shell.execute_reply": "2023-11-09T18:21:31.244616Z"
    },
    "papermill": {
     "duration": 0.058925,
     "end_time": "2023-11-09T18:21:31.247123",
     "exception": false,
     "start_time": "2023-11-09T18:21:31.188198",
     "status": "completed"
    },
    "tags": []
   },
   "outputs": [
    {
     "data": {
      "text/html": [
       "<div>\n",
       "<style scoped>\n",
       "    .dataframe tbody tr th:only-of-type {\n",
       "        vertical-align: middle;\n",
       "    }\n",
       "\n",
       "    .dataframe tbody tr th {\n",
       "        vertical-align: top;\n",
       "    }\n",
       "\n",
       "    .dataframe thead th {\n",
       "        text-align: right;\n",
       "    }\n",
       "</style>\n",
       "<table border=\"1\" class=\"dataframe\">\n",
       "  <thead>\n",
       "    <tr style=\"text-align: right;\">\n",
       "      <th></th>\n",
       "      <th>TransactionID</th>\n",
       "      <th>isFraud</th>\n",
       "      <th>TransactionDT</th>\n",
       "      <th>TransactionAmt</th>\n",
       "      <th>ProductCD</th>\n",
       "      <th>card1</th>\n",
       "      <th>card2</th>\n",
       "      <th>card3</th>\n",
       "      <th>card4</th>\n",
       "      <th>card5</th>\n",
       "      <th>...</th>\n",
       "      <th>V312</th>\n",
       "      <th>V313</th>\n",
       "      <th>V314</th>\n",
       "      <th>V315</th>\n",
       "      <th>V316</th>\n",
       "      <th>V317</th>\n",
       "      <th>V318</th>\n",
       "      <th>V319</th>\n",
       "      <th>V320</th>\n",
       "      <th>V321</th>\n",
       "    </tr>\n",
       "  </thead>\n",
       "  <tbody>\n",
       "    <tr>\n",
       "      <th>0</th>\n",
       "      <td>2987000</td>\n",
       "      <td>0</td>\n",
       "      <td>86400</td>\n",
       "      <td>68.50</td>\n",
       "      <td>W</td>\n",
       "      <td>13926</td>\n",
       "      <td>NaN</td>\n",
       "      <td>150.0</td>\n",
       "      <td>discover</td>\n",
       "      <td>142.0</td>\n",
       "      <td>...</td>\n",
       "      <td>0.0</td>\n",
       "      <td>0.0</td>\n",
       "      <td>0.0</td>\n",
       "      <td>0.0</td>\n",
       "      <td>0.0</td>\n",
       "      <td>117.0</td>\n",
       "      <td>0.0</td>\n",
       "      <td>0.0</td>\n",
       "      <td>0.0</td>\n",
       "      <td>0.0</td>\n",
       "    </tr>\n",
       "    <tr>\n",
       "      <th>1</th>\n",
       "      <td>2987001</td>\n",
       "      <td>0</td>\n",
       "      <td>86401</td>\n",
       "      <td>29.00</td>\n",
       "      <td>W</td>\n",
       "      <td>2755</td>\n",
       "      <td>404.0</td>\n",
       "      <td>150.0</td>\n",
       "      <td>mastercard</td>\n",
       "      <td>102.0</td>\n",
       "      <td>...</td>\n",
       "      <td>0.0</td>\n",
       "      <td>0.0</td>\n",
       "      <td>0.0</td>\n",
       "      <td>0.0</td>\n",
       "      <td>0.0</td>\n",
       "      <td>0.0</td>\n",
       "      <td>0.0</td>\n",
       "      <td>0.0</td>\n",
       "      <td>0.0</td>\n",
       "      <td>0.0</td>\n",
       "    </tr>\n",
       "    <tr>\n",
       "      <th>2</th>\n",
       "      <td>2987002</td>\n",
       "      <td>0</td>\n",
       "      <td>86469</td>\n",
       "      <td>59.00</td>\n",
       "      <td>W</td>\n",
       "      <td>4663</td>\n",
       "      <td>490.0</td>\n",
       "      <td>150.0</td>\n",
       "      <td>visa</td>\n",
       "      <td>166.0</td>\n",
       "      <td>...</td>\n",
       "      <td>0.0</td>\n",
       "      <td>0.0</td>\n",
       "      <td>0.0</td>\n",
       "      <td>0.0</td>\n",
       "      <td>0.0</td>\n",
       "      <td>0.0</td>\n",
       "      <td>0.0</td>\n",
       "      <td>0.0</td>\n",
       "      <td>0.0</td>\n",
       "      <td>0.0</td>\n",
       "    </tr>\n",
       "    <tr>\n",
       "      <th>3</th>\n",
       "      <td>2987003</td>\n",
       "      <td>0</td>\n",
       "      <td>86499</td>\n",
       "      <td>50.00</td>\n",
       "      <td>W</td>\n",
       "      <td>18132</td>\n",
       "      <td>567.0</td>\n",
       "      <td>150.0</td>\n",
       "      <td>mastercard</td>\n",
       "      <td>117.0</td>\n",
       "      <td>...</td>\n",
       "      <td>135.0</td>\n",
       "      <td>0.0</td>\n",
       "      <td>0.0</td>\n",
       "      <td>0.0</td>\n",
       "      <td>50.0</td>\n",
       "      <td>1404.0</td>\n",
       "      <td>790.0</td>\n",
       "      <td>0.0</td>\n",
       "      <td>0.0</td>\n",
       "      <td>0.0</td>\n",
       "    </tr>\n",
       "    <tr>\n",
       "      <th>4</th>\n",
       "      <td>2987004</td>\n",
       "      <td>0</td>\n",
       "      <td>86506</td>\n",
       "      <td>50.00</td>\n",
       "      <td>H</td>\n",
       "      <td>4497</td>\n",
       "      <td>514.0</td>\n",
       "      <td>150.0</td>\n",
       "      <td>mastercard</td>\n",
       "      <td>102.0</td>\n",
       "      <td>...</td>\n",
       "      <td>0.0</td>\n",
       "      <td>0.0</td>\n",
       "      <td>0.0</td>\n",
       "      <td>0.0</td>\n",
       "      <td>0.0</td>\n",
       "      <td>0.0</td>\n",
       "      <td>0.0</td>\n",
       "      <td>0.0</td>\n",
       "      <td>0.0</td>\n",
       "      <td>0.0</td>\n",
       "    </tr>\n",
       "    <tr>\n",
       "      <th>...</th>\n",
       "      <td>...</td>\n",
       "      <td>...</td>\n",
       "      <td>...</td>\n",
       "      <td>...</td>\n",
       "      <td>...</td>\n",
       "      <td>...</td>\n",
       "      <td>...</td>\n",
       "      <td>...</td>\n",
       "      <td>...</td>\n",
       "      <td>...</td>\n",
       "      <td>...</td>\n",
       "      <td>...</td>\n",
       "      <td>...</td>\n",
       "      <td>...</td>\n",
       "      <td>...</td>\n",
       "      <td>...</td>\n",
       "      <td>...</td>\n",
       "      <td>...</td>\n",
       "      <td>...</td>\n",
       "      <td>...</td>\n",
       "      <td>...</td>\n",
       "    </tr>\n",
       "    <tr>\n",
       "      <th>39365</th>\n",
       "      <td>3026365</td>\n",
       "      <td>0</td>\n",
       "      <td>956863</td>\n",
       "      <td>226.00</td>\n",
       "      <td>W</td>\n",
       "      <td>11291</td>\n",
       "      <td>555.0</td>\n",
       "      <td>150.0</td>\n",
       "      <td>visa</td>\n",
       "      <td>226.0</td>\n",
       "      <td>...</td>\n",
       "      <td>1000.0</td>\n",
       "      <td>171.0</td>\n",
       "      <td>1576.0</td>\n",
       "      <td>459.0</td>\n",
       "      <td>0.0</td>\n",
       "      <td>629.0</td>\n",
       "      <td>411.0</td>\n",
       "      <td>0.0</td>\n",
       "      <td>0.0</td>\n",
       "      <td>0.0</td>\n",
       "    </tr>\n",
       "    <tr>\n",
       "      <th>39366</th>\n",
       "      <td>3026366</td>\n",
       "      <td>0</td>\n",
       "      <td>956906</td>\n",
       "      <td>200.00</td>\n",
       "      <td>R</td>\n",
       "      <td>17306</td>\n",
       "      <td>555.0</td>\n",
       "      <td>150.0</td>\n",
       "      <td>american express</td>\n",
       "      <td>NaN</td>\n",
       "      <td>...</td>\n",
       "      <td>0.0</td>\n",
       "      <td>0.0</td>\n",
       "      <td>0.0</td>\n",
       "      <td>0.0</td>\n",
       "      <td>0.0</td>\n",
       "      <td>0.0</td>\n",
       "      <td>0.0</td>\n",
       "      <td>400.0</td>\n",
       "      <td>400.0</td>\n",
       "      <td>400.0</td>\n",
       "    </tr>\n",
       "    <tr>\n",
       "      <th>39367</th>\n",
       "      <td>3026367</td>\n",
       "      <td>0</td>\n",
       "      <td>956906</td>\n",
       "      <td>49.00</td>\n",
       "      <td>W</td>\n",
       "      <td>5729</td>\n",
       "      <td>360.0</td>\n",
       "      <td>150.0</td>\n",
       "      <td>visa</td>\n",
       "      <td>166.0</td>\n",
       "      <td>...</td>\n",
       "      <td>0.0</td>\n",
       "      <td>54.0</td>\n",
       "      <td>54.0</td>\n",
       "      <td>54.0</td>\n",
       "      <td>0.0</td>\n",
       "      <td>0.0</td>\n",
       "      <td>0.0</td>\n",
       "      <td>0.0</td>\n",
       "      <td>0.0</td>\n",
       "      <td>0.0</td>\n",
       "    </tr>\n",
       "    <tr>\n",
       "      <th>39368</th>\n",
       "      <td>3026368</td>\n",
       "      <td>0</td>\n",
       "      <td>956910</td>\n",
       "      <td>250.00</td>\n",
       "      <td>R</td>\n",
       "      <td>11233</td>\n",
       "      <td>321.0</td>\n",
       "      <td>150.0</td>\n",
       "      <td>visa</td>\n",
       "      <td>195.0</td>\n",
       "      <td>...</td>\n",
       "      <td>0.0</td>\n",
       "      <td>0.0</td>\n",
       "      <td>0.0</td>\n",
       "      <td>0.0</td>\n",
       "      <td>0.0</td>\n",
       "      <td>0.0</td>\n",
       "      <td>0.0</td>\n",
       "      <td>0.0</td>\n",
       "      <td>0.0</td>\n",
       "      <td>0.0</td>\n",
       "    </tr>\n",
       "    <tr>\n",
       "      <th>39369</th>\n",
       "      <td>3026369</td>\n",
       "      <td>0</td>\n",
       "      <td>956912</td>\n",
       "      <td>107.95</td>\n",
       "      <td>W</td>\n",
       "      <td>7043</td>\n",
       "      <td>216.0</td>\n",
       "      <td>150.0</td>\n",
       "      <td>visa</td>\n",
       "      <td>226.0</td>\n",
       "      <td>...</td>\n",
       "      <td>0.0</td>\n",
       "      <td>0.0</td>\n",
       "      <td>0.0</td>\n",
       "      <td>0.0</td>\n",
       "      <td>0.0</td>\n",
       "      <td>0.0</td>\n",
       "      <td>0.0</td>\n",
       "      <td>0.0</td>\n",
       "      <td>0.0</td>\n",
       "      <td>0.0</td>\n",
       "    </tr>\n",
       "  </tbody>\n",
       "</table>\n",
       "<p>39370 rows × 220 columns</p>\n",
       "</div>"
      ],
      "text/plain": [
       "       TransactionID  isFraud  TransactionDT  TransactionAmt ProductCD  card1  \\\n",
       "0            2987000        0          86400           68.50         W  13926   \n",
       "1            2987001        0          86401           29.00         W   2755   \n",
       "2            2987002        0          86469           59.00         W   4663   \n",
       "3            2987003        0          86499           50.00         W  18132   \n",
       "4            2987004        0          86506           50.00         H   4497   \n",
       "...              ...      ...            ...             ...       ...    ...   \n",
       "39365        3026365        0         956863          226.00         W  11291   \n",
       "39366        3026366        0         956906          200.00         R  17306   \n",
       "39367        3026367        0         956906           49.00         W   5729   \n",
       "39368        3026368        0         956910          250.00         R  11233   \n",
       "39369        3026369        0         956912          107.95         W   7043   \n",
       "\n",
       "       card2  card3             card4  card5  ...    V312   V313    V314  \\\n",
       "0        NaN  150.0          discover  142.0  ...     0.0    0.0     0.0   \n",
       "1      404.0  150.0        mastercard  102.0  ...     0.0    0.0     0.0   \n",
       "2      490.0  150.0              visa  166.0  ...     0.0    0.0     0.0   \n",
       "3      567.0  150.0        mastercard  117.0  ...   135.0    0.0     0.0   \n",
       "4      514.0  150.0        mastercard  102.0  ...     0.0    0.0     0.0   \n",
       "...      ...    ...               ...    ...  ...     ...    ...     ...   \n",
       "39365  555.0  150.0              visa  226.0  ...  1000.0  171.0  1576.0   \n",
       "39366  555.0  150.0  american express    NaN  ...     0.0    0.0     0.0   \n",
       "39367  360.0  150.0              visa  166.0  ...     0.0   54.0    54.0   \n",
       "39368  321.0  150.0              visa  195.0  ...     0.0    0.0     0.0   \n",
       "39369  216.0  150.0              visa  226.0  ...     0.0    0.0     0.0   \n",
       "\n",
       "        V315  V316    V317   V318   V319   V320   V321  \n",
       "0        0.0   0.0   117.0    0.0    0.0    0.0    0.0  \n",
       "1        0.0   0.0     0.0    0.0    0.0    0.0    0.0  \n",
       "2        0.0   0.0     0.0    0.0    0.0    0.0    0.0  \n",
       "3        0.0  50.0  1404.0  790.0    0.0    0.0    0.0  \n",
       "4        0.0   0.0     0.0    0.0    0.0    0.0    0.0  \n",
       "...      ...   ...     ...    ...    ...    ...    ...  \n",
       "39365  459.0   0.0   629.0  411.0    0.0    0.0    0.0  \n",
       "39366    0.0   0.0     0.0    0.0  400.0  400.0  400.0  \n",
       "39367   54.0   0.0     0.0    0.0    0.0    0.0    0.0  \n",
       "39368    0.0   0.0     0.0    0.0    0.0    0.0    0.0  \n",
       "39369    0.0   0.0     0.0    0.0    0.0    0.0    0.0  \n",
       "\n",
       "[39370 rows x 220 columns]"
      ]
     },
     "execution_count": 22,
     "metadata": {},
     "output_type": "execute_result"
    }
   ],
   "source": [
    "train_split_dfs[0]"
   ]
  },
  {
   "cell_type": "markdown",
   "id": "b49e823c",
   "metadata": {
    "papermill": {
     "duration": 0.023392,
     "end_time": "2023-11-09T18:21:31.295006",
     "exception": false,
     "start_time": "2023-11-09T18:21:31.271614",
     "status": "completed"
    },
    "tags": []
   },
   "source": [
    "Создадим списки числовых и категориальных признаков:"
   ]
  },
  {
   "cell_type": "code",
   "execution_count": 23,
   "id": "152614ff",
   "metadata": {
    "execution": {
     "iopub.execute_input": "2023-11-09T18:21:31.343149Z",
     "iopub.status.busy": "2023-11-09T18:21:31.342871Z",
     "iopub.status.idle": "2023-11-09T18:21:31.350998Z",
     "shell.execute_reply": "2023-11-09T18:21:31.350137Z"
    },
    "papermill": {
     "duration": 0.034215,
     "end_time": "2023-11-09T18:21:31.352631",
     "exception": false,
     "start_time": "2023-11-09T18:21:31.318416",
     "status": "completed"
    },
    "tags": []
   },
   "outputs": [
    {
     "name": "stdout",
     "output_type": "stream",
     "text": [
      "len of all features:  220\n",
      "len cat_features:  9\n",
      "len num_features:  209\n"
     ]
    }
   ],
   "source": [
    "features = train_split_dfs[0].columns\n",
    "cat_features = train_split_dfs[0].select_dtypes(include=['object']).columns\n",
    "num_features = [x for x in train_split_dfs[0].columns.values[2:] \n",
    "                if x not in cat_features]\n",
    "print('len of all features: ', len(features))\n",
    "print('len cat_features: ', len(cat_features))\n",
    "print('len num_features: ', len(num_features))"
   ]
  },
  {
   "cell_type": "markdown",
   "id": "e73f9c72",
   "metadata": {
    "papermill": {
     "duration": 0.023337,
     "end_time": "2023-11-09T18:21:31.400559",
     "exception": false,
     "start_time": "2023-11-09T18:21:31.377222",
     "status": "completed"
    },
    "tags": []
   },
   "source": [
    "Посмотрим на распределения признаков до заполнения пропусков."
   ]
  },
  {
   "cell_type": "markdown",
   "id": "83edb764",
   "metadata": {
    "papermill": {
     "duration": 0.023204,
     "end_time": "2023-11-09T18:21:31.447536",
     "exception": false,
     "start_time": "2023-11-09T18:21:31.424332",
     "status": "completed"
    },
    "tags": []
   },
   "source": [
    "Напишем функцию для построения нескольких гистограмм распределения на одном графике:"
   ]
  },
  {
   "cell_type": "code",
   "execution_count": 24,
   "id": "edc1acdd",
   "metadata": {
    "execution": {
     "iopub.execute_input": "2023-11-09T18:21:31.496080Z",
     "iopub.status.busy": "2023-11-09T18:21:31.495811Z",
     "iopub.status.idle": "2023-11-09T18:21:31.720357Z",
     "shell.execute_reply": "2023-11-09T18:21:31.719478Z"
    },
    "papermill": {
     "duration": 0.250999,
     "end_time": "2023-11-09T18:21:31.722055",
     "exception": false,
     "start_time": "2023-11-09T18:21:31.471056",
     "status": "completed"
    },
    "tags": []
   },
   "outputs": [
    {
     "data": {
      "image/png": "[encoded data removed]",
      "text/plain": [
       "<Figure size 640x480 with 1 Axes>"
      ]
     },
     "metadata": {},
     "output_type": "display_data"
    }
   ],
   "source": [
    "ax = plt.subplot(1, 1, 1)\n",
    "data = pd.concat([df['C1'] for df in train_split_dfs], axis=0)\n",
    "ax.hist(data, bins=20, color='blue', edgecolor='black')\n",
    "        \n",
    "ax.set_title('Hist of {}'.format('C1'))\n",
    "ax.set_xlabel('C1')\n",
    "ax.set_ylabel('Count')  \n",
    "plt.show()"
   ]
  },
  {
   "cell_type": "code",
   "execution_count": 25,
   "id": "c4c4747f",
   "metadata": {
    "execution": {
     "iopub.execute_input": "2023-11-09T18:21:31.771746Z",
     "iopub.status.busy": "2023-11-09T18:21:31.771419Z",
     "iopub.status.idle": "2023-11-09T18:21:31.777521Z",
     "shell.execute_reply": "2023-11-09T18:21:31.776758Z"
    },
    "papermill": {
     "duration": 0.03239,
     "end_time": "2023-11-09T18:21:31.779063",
     "exception": false,
     "start_time": "2023-11-09T18:21:31.746673",
     "status": "completed"
    },
    "tags": []
   },
   "outputs": [],
   "source": [
    "def hist_map(split_dfs, rows, cols, bins=20):\n",
    "    split_dfs_copy = split_dfs.copy()\n",
    "    split_dfs_copy = [df.drop(['isFraud'], axis=1) for df in split_dfs_copy]\n",
    "    for i, feat in enumerate(split_dfs_copy[0].iloc[:, 5:10].columns):\n",
    "        \n",
    "        ax = plt.subplot(rows, cols, i+1)\n",
    "        data = pd.concat([df[feat] for df in split_dfs_copy], axis=0)\n",
    "        ax.hist(data, bins=bins, color='blue', edgecolor='black')\n",
    "        \n",
    "        ax.set_title('Hist of {}'.format(feat), size=8)\n",
    "        ax.set_xlabel(feat, size=8)\n",
    "        ax.set_ylabel('Count', size=8)\n",
    "    \n",
    "    plt.tight_layout()\n",
    "    plt.show()"
   ]
  },
  {
   "cell_type": "code",
   "execution_count": 26,
   "id": "6a90c785",
   "metadata": {
    "execution": {
     "iopub.execute_input": "2023-11-09T18:21:31.827843Z",
     "iopub.status.busy": "2023-11-09T18:21:31.827576Z",
     "iopub.status.idle": "2023-11-09T18:21:31.832569Z",
     "shell.execute_reply": "2023-11-09T18:21:31.831536Z"
    },
    "papermill": {
     "duration": 0.03123,
     "end_time": "2023-11-09T18:21:31.834251",
     "exception": false,
     "start_time": "2023-11-09T18:21:31.803021",
     "status": "completed"
    },
    "tags": []
   },
   "outputs": [
    {
     "name": "stdout",
     "output_type": "stream",
     "text": [
      "rows: 22, cols: 11\n"
     ]
    }
   ],
   "source": [
    "rows = int(len(train_split_dfs[0].columns) / 10)\n",
    "cols = int(len(train_split_dfs[0].columns) / 20)\n",
    "print(f'rows: {rows}, cols: {cols}')"
   ]
  },
  {
   "cell_type": "code",
   "execution_count": 27,
   "id": "3cf75d7d",
   "metadata": {
    "execution": {
     "iopub.execute_input": "2023-11-09T18:21:31.883552Z",
     "iopub.status.busy": "2023-11-09T18:21:31.883283Z",
     "iopub.status.idle": "2023-11-09T18:21:31.923293Z",
     "shell.execute_reply": "2023-11-09T18:21:31.922424Z"
    },
    "papermill": {
     "duration": 0.067271,
     "end_time": "2023-11-09T18:21:31.925401",
     "exception": false,
     "start_time": "2023-11-09T18:21:31.858130",
     "status": "completed"
    },
    "tags": []
   },
   "outputs": [
    {
     "data": {
      "text/html": [
       "<div>\n",
       "<style scoped>\n",
       "    .dataframe tbody tr th:only-of-type {\n",
       "        vertical-align: middle;\n",
       "    }\n",
       "\n",
       "    .dataframe tbody tr th {\n",
       "        vertical-align: top;\n",
       "    }\n",
       "\n",
       "    .dataframe thead th {\n",
       "        text-align: right;\n",
       "    }\n",
       "</style>\n",
       "<table border=\"1\" class=\"dataframe\">\n",
       "  <thead>\n",
       "    <tr style=\"text-align: right;\">\n",
       "      <th></th>\n",
       "      <th>TransactionDT</th>\n",
       "      <th>TransactionAmt</th>\n",
       "      <th>card1</th>\n",
       "      <th>card2</th>\n",
       "      <th>card3</th>\n",
       "      <th>card5</th>\n",
       "      <th>addr1</th>\n",
       "      <th>addr2</th>\n",
       "      <th>C1</th>\n",
       "      <th>C2</th>\n",
       "      <th>C3</th>\n",
       "      <th>C4</th>\n",
       "      <th>C5</th>\n",
       "      <th>C6</th>\n",
       "      <th>C7</th>\n",
       "      <th>C8</th>\n",
       "      <th>C9</th>\n",
       "      <th>C10</th>\n",
       "      <th>C11</th>\n",
       "      <th>C12</th>\n",
       "    </tr>\n",
       "  </thead>\n",
       "  <tbody>\n",
       "    <tr>\n",
       "      <th>0</th>\n",
       "      <td>86400</td>\n",
       "      <td>68.50</td>\n",
       "      <td>13926</td>\n",
       "      <td>NaN</td>\n",
       "      <td>150.0</td>\n",
       "      <td>142.0</td>\n",
       "      <td>315.0</td>\n",
       "      <td>87.0</td>\n",
       "      <td>1.0</td>\n",
       "      <td>1.0</td>\n",
       "      <td>0.0</td>\n",
       "      <td>0.0</td>\n",
       "      <td>0.0</td>\n",
       "      <td>1.0</td>\n",
       "      <td>0.0</td>\n",
       "      <td>0.0</td>\n",
       "      <td>1.0</td>\n",
       "      <td>0.0</td>\n",
       "      <td>2.0</td>\n",
       "      <td>0.0</td>\n",
       "    </tr>\n",
       "    <tr>\n",
       "      <th>1</th>\n",
       "      <td>86401</td>\n",
       "      <td>29.00</td>\n",
       "      <td>2755</td>\n",
       "      <td>404.0</td>\n",
       "      <td>150.0</td>\n",
       "      <td>102.0</td>\n",
       "      <td>325.0</td>\n",
       "      <td>87.0</td>\n",
       "      <td>1.0</td>\n",
       "      <td>1.0</td>\n",
       "      <td>0.0</td>\n",
       "      <td>0.0</td>\n",
       "      <td>0.0</td>\n",
       "      <td>1.0</td>\n",
       "      <td>0.0</td>\n",
       "      <td>0.0</td>\n",
       "      <td>0.0</td>\n",
       "      <td>0.0</td>\n",
       "      <td>1.0</td>\n",
       "      <td>0.0</td>\n",
       "    </tr>\n",
       "    <tr>\n",
       "      <th>2</th>\n",
       "      <td>86469</td>\n",
       "      <td>59.00</td>\n",
       "      <td>4663</td>\n",
       "      <td>490.0</td>\n",
       "      <td>150.0</td>\n",
       "      <td>166.0</td>\n",
       "      <td>330.0</td>\n",
       "      <td>87.0</td>\n",
       "      <td>1.0</td>\n",
       "      <td>1.0</td>\n",
       "      <td>0.0</td>\n",
       "      <td>0.0</td>\n",
       "      <td>0.0</td>\n",
       "      <td>1.0</td>\n",
       "      <td>0.0</td>\n",
       "      <td>0.0</td>\n",
       "      <td>1.0</td>\n",
       "      <td>0.0</td>\n",
       "      <td>1.0</td>\n",
       "      <td>0.0</td>\n",
       "    </tr>\n",
       "    <tr>\n",
       "      <th>3</th>\n",
       "      <td>86499</td>\n",
       "      <td>50.00</td>\n",
       "      <td>18132</td>\n",
       "      <td>567.0</td>\n",
       "      <td>150.0</td>\n",
       "      <td>117.0</td>\n",
       "      <td>476.0</td>\n",
       "      <td>87.0</td>\n",
       "      <td>2.0</td>\n",
       "      <td>5.0</td>\n",
       "      <td>0.0</td>\n",
       "      <td>0.0</td>\n",
       "      <td>0.0</td>\n",
       "      <td>4.0</td>\n",
       "      <td>0.0</td>\n",
       "      <td>0.0</td>\n",
       "      <td>1.0</td>\n",
       "      <td>0.0</td>\n",
       "      <td>1.0</td>\n",
       "      <td>0.0</td>\n",
       "    </tr>\n",
       "    <tr>\n",
       "      <th>4</th>\n",
       "      <td>86506</td>\n",
       "      <td>50.00</td>\n",
       "      <td>4497</td>\n",
       "      <td>514.0</td>\n",
       "      <td>150.0</td>\n",
       "      <td>102.0</td>\n",
       "      <td>420.0</td>\n",
       "      <td>87.0</td>\n",
       "      <td>1.0</td>\n",
       "      <td>1.0</td>\n",
       "      <td>0.0</td>\n",
       "      <td>0.0</td>\n",
       "      <td>0.0</td>\n",
       "      <td>1.0</td>\n",
       "      <td>0.0</td>\n",
       "      <td>1.0</td>\n",
       "      <td>0.0</td>\n",
       "      <td>1.0</td>\n",
       "      <td>1.0</td>\n",
       "      <td>0.0</td>\n",
       "    </tr>\n",
       "    <tr>\n",
       "      <th>...</th>\n",
       "      <td>...</td>\n",
       "      <td>...</td>\n",
       "      <td>...</td>\n",
       "      <td>...</td>\n",
       "      <td>...</td>\n",
       "      <td>...</td>\n",
       "      <td>...</td>\n",
       "      <td>...</td>\n",
       "      <td>...</td>\n",
       "      <td>...</td>\n",
       "      <td>...</td>\n",
       "      <td>...</td>\n",
       "      <td>...</td>\n",
       "      <td>...</td>\n",
       "      <td>...</td>\n",
       "      <td>...</td>\n",
       "      <td>...</td>\n",
       "      <td>...</td>\n",
       "      <td>...</td>\n",
       "      <td>...</td>\n",
       "    </tr>\n",
       "    <tr>\n",
       "      <th>39365</th>\n",
       "      <td>956863</td>\n",
       "      <td>226.00</td>\n",
       "      <td>11291</td>\n",
       "      <td>555.0</td>\n",
       "      <td>150.0</td>\n",
       "      <td>226.0</td>\n",
       "      <td>327.0</td>\n",
       "      <td>87.0</td>\n",
       "      <td>1.0</td>\n",
       "      <td>1.0</td>\n",
       "      <td>0.0</td>\n",
       "      <td>0.0</td>\n",
       "      <td>0.0</td>\n",
       "      <td>3.0</td>\n",
       "      <td>0.0</td>\n",
       "      <td>0.0</td>\n",
       "      <td>1.0</td>\n",
       "      <td>0.0</td>\n",
       "      <td>1.0</td>\n",
       "      <td>0.0</td>\n",
       "    </tr>\n",
       "    <tr>\n",
       "      <th>39366</th>\n",
       "      <td>956906</td>\n",
       "      <td>200.00</td>\n",
       "      <td>17306</td>\n",
       "      <td>555.0</td>\n",
       "      <td>150.0</td>\n",
       "      <td>NaN</td>\n",
       "      <td>330.0</td>\n",
       "      <td>87.0</td>\n",
       "      <td>1.0</td>\n",
       "      <td>1.0</td>\n",
       "      <td>0.0</td>\n",
       "      <td>1.0</td>\n",
       "      <td>0.0</td>\n",
       "      <td>1.0</td>\n",
       "      <td>0.0</td>\n",
       "      <td>1.0</td>\n",
       "      <td>0.0</td>\n",
       "      <td>1.0</td>\n",
       "      <td>1.0</td>\n",
       "      <td>0.0</td>\n",
       "    </tr>\n",
       "    <tr>\n",
       "      <th>39367</th>\n",
       "      <td>956906</td>\n",
       "      <td>49.00</td>\n",
       "      <td>5729</td>\n",
       "      <td>360.0</td>\n",
       "      <td>150.0</td>\n",
       "      <td>166.0</td>\n",
       "      <td>299.0</td>\n",
       "      <td>87.0</td>\n",
       "      <td>2.0</td>\n",
       "      <td>3.0</td>\n",
       "      <td>0.0</td>\n",
       "      <td>0.0</td>\n",
       "      <td>0.0</td>\n",
       "      <td>1.0</td>\n",
       "      <td>0.0</td>\n",
       "      <td>0.0</td>\n",
       "      <td>1.0</td>\n",
       "      <td>0.0</td>\n",
       "      <td>1.0</td>\n",
       "      <td>0.0</td>\n",
       "    </tr>\n",
       "    <tr>\n",
       "      <th>39368</th>\n",
       "      <td>956910</td>\n",
       "      <td>250.00</td>\n",
       "      <td>11233</td>\n",
       "      <td>321.0</td>\n",
       "      <td>150.0</td>\n",
       "      <td>195.0</td>\n",
       "      <td>441.0</td>\n",
       "      <td>87.0</td>\n",
       "      <td>1.0</td>\n",
       "      <td>1.0</td>\n",
       "      <td>0.0</td>\n",
       "      <td>1.0</td>\n",
       "      <td>0.0</td>\n",
       "      <td>1.0</td>\n",
       "      <td>0.0</td>\n",
       "      <td>1.0</td>\n",
       "      <td>0.0</td>\n",
       "      <td>1.0</td>\n",
       "      <td>1.0</td>\n",
       "      <td>0.0</td>\n",
       "    </tr>\n",
       "    <tr>\n",
       "      <th>39369</th>\n",
       "      <td>956912</td>\n",
       "      <td>107.95</td>\n",
       "      <td>7043</td>\n",
       "      <td>216.0</td>\n",
       "      <td>150.0</td>\n",
       "      <td>226.0</td>\n",
       "      <td>315.0</td>\n",
       "      <td>87.0</td>\n",
       "      <td>3.0</td>\n",
       "      <td>1.0</td>\n",
       "      <td>0.0</td>\n",
       "      <td>0.0</td>\n",
       "      <td>1.0</td>\n",
       "      <td>0.0</td>\n",
       "      <td>0.0</td>\n",
       "      <td>0.0</td>\n",
       "      <td>2.0</td>\n",
       "      <td>0.0</td>\n",
       "      <td>2.0</td>\n",
       "      <td>0.0</td>\n",
       "    </tr>\n",
       "  </tbody>\n",
       "</table>\n",
       "<p>39370 rows × 20 columns</p>\n",
       "</div>"
      ],
      "text/plain": [
       "       TransactionDT  TransactionAmt  card1  card2  card3  card5  addr1  \\\n",
       "0              86400           68.50  13926    NaN  150.0  142.0  315.0   \n",
       "1              86401           29.00   2755  404.0  150.0  102.0  325.0   \n",
       "2              86469           59.00   4663  490.0  150.0  166.0  330.0   \n",
       "3              86499           50.00  18132  567.0  150.0  117.0  476.0   \n",
       "4              86506           50.00   4497  514.0  150.0  102.0  420.0   \n",
       "...              ...             ...    ...    ...    ...    ...    ...   \n",
       "39365         956863          226.00  11291  555.0  150.0  226.0  327.0   \n",
       "39366         956906          200.00  17306  555.0  150.0    NaN  330.0   \n",
       "39367         956906           49.00   5729  360.0  150.0  166.0  299.0   \n",
       "39368         956910          250.00  11233  321.0  150.0  195.0  441.0   \n",
       "39369         956912          107.95   7043  216.0  150.0  226.0  315.0   \n",
       "\n",
       "       addr2   C1   C2   C3   C4   C5   C6   C7   C8   C9  C10  C11  C12  \n",
       "0       87.0  1.0  1.0  0.0  0.0  0.0  1.0  0.0  0.0  1.0  0.0  2.0  0.0  \n",
       "1       87.0  1.0  1.0  0.0  0.0  0.0  1.0  0.0  0.0  0.0  0.0  1.0  0.0  \n",
       "2       87.0  1.0  1.0  0.0  0.0  0.0  1.0  0.0  0.0  1.0  0.0  1.0  0.0  \n",
       "3       87.0  2.0  5.0  0.0  0.0  0.0  4.0  0.0  0.0  1.0  0.0  1.0  0.0  \n",
       "4       87.0  1.0  1.0  0.0  0.0  0.0  1.0  0.0  1.0  0.0  1.0  1.0  0.0  \n",
       "...      ...  ...  ...  ...  ...  ...  ...  ...  ...  ...  ...  ...  ...  \n",
       "39365   87.0  1.0  1.0  0.0  0.0  0.0  3.0  0.0  0.0  1.0  0.0  1.0  0.0  \n",
       "39366   87.0  1.0  1.0  0.0  1.0  0.0  1.0  0.0  1.0  0.0  1.0  1.0  0.0  \n",
       "39367   87.0  2.0  3.0  0.0  0.0  0.0  1.0  0.0  0.0  1.0  0.0  1.0  0.0  \n",
       "39368   87.0  1.0  1.0  0.0  1.0  0.0  1.0  0.0  1.0  0.0  1.0  1.0  0.0  \n",
       "39369   87.0  3.0  1.0  0.0  0.0  1.0  0.0  0.0  0.0  2.0  0.0  2.0  0.0  \n",
       "\n",
       "[39370 rows x 20 columns]"
      ]
     },
     "execution_count": 27,
     "metadata": {},
     "output_type": "execute_result"
    }
   ],
   "source": [
    "train_split_dfs[0][num_features].iloc[:, 0:20]"
   ]
  },
  {
   "cell_type": "code",
   "execution_count": 28,
   "id": "f912ca93",
   "metadata": {
    "execution": {
     "iopub.execute_input": "2023-11-09T18:21:31.977238Z",
     "iopub.status.busy": "2023-11-09T18:21:31.976936Z",
     "iopub.status.idle": "2023-11-09T18:21:31.989156Z",
     "shell.execute_reply": "2023-11-09T18:21:31.988231Z"
    },
    "papermill": {
     "duration": 0.039248,
     "end_time": "2023-11-09T18:21:31.990791",
     "exception": false,
     "start_time": "2023-11-09T18:21:31.951543",
     "status": "completed"
    },
    "tags": []
   },
   "outputs": [
    {
     "data": {
      "text/html": [
       "<div>\n",
       "<style scoped>\n",
       "    .dataframe tbody tr th:only-of-type {\n",
       "        vertical-align: middle;\n",
       "    }\n",
       "\n",
       "    .dataframe tbody tr th {\n",
       "        vertical-align: top;\n",
       "    }\n",
       "\n",
       "    .dataframe thead th {\n",
       "        text-align: right;\n",
       "    }\n",
       "</style>\n",
       "<table border=\"1\" class=\"dataframe\">\n",
       "  <thead>\n",
       "    <tr style=\"text-align: right;\">\n",
       "      <th></th>\n",
       "      <th>TransactionID</th>\n",
       "      <th>isFraud</th>\n",
       "      <th>TransactionDT</th>\n",
       "      <th>TransactionAmt</th>\n",
       "      <th>ProductCD</th>\n",
       "    </tr>\n",
       "  </thead>\n",
       "  <tbody>\n",
       "    <tr>\n",
       "      <th>0</th>\n",
       "      <td>2987000</td>\n",
       "      <td>0</td>\n",
       "      <td>86400</td>\n",
       "      <td>68.50</td>\n",
       "      <td>W</td>\n",
       "    </tr>\n",
       "    <tr>\n",
       "      <th>1</th>\n",
       "      <td>2987001</td>\n",
       "      <td>0</td>\n",
       "      <td>86401</td>\n",
       "      <td>29.00</td>\n",
       "      <td>W</td>\n",
       "    </tr>\n",
       "    <tr>\n",
       "      <th>2</th>\n",
       "      <td>2987002</td>\n",
       "      <td>0</td>\n",
       "      <td>86469</td>\n",
       "      <td>59.00</td>\n",
       "      <td>W</td>\n",
       "    </tr>\n",
       "    <tr>\n",
       "      <th>3</th>\n",
       "      <td>2987003</td>\n",
       "      <td>0</td>\n",
       "      <td>86499</td>\n",
       "      <td>50.00</td>\n",
       "      <td>W</td>\n",
       "    </tr>\n",
       "    <tr>\n",
       "      <th>4</th>\n",
       "      <td>2987004</td>\n",
       "      <td>0</td>\n",
       "      <td>86506</td>\n",
       "      <td>50.00</td>\n",
       "      <td>H</td>\n",
       "    </tr>\n",
       "    <tr>\n",
       "      <th>...</th>\n",
       "      <td>...</td>\n",
       "      <td>...</td>\n",
       "      <td>...</td>\n",
       "      <td>...</td>\n",
       "      <td>...</td>\n",
       "    </tr>\n",
       "    <tr>\n",
       "      <th>39365</th>\n",
       "      <td>3026365</td>\n",
       "      <td>0</td>\n",
       "      <td>956863</td>\n",
       "      <td>226.00</td>\n",
       "      <td>W</td>\n",
       "    </tr>\n",
       "    <tr>\n",
       "      <th>39366</th>\n",
       "      <td>3026366</td>\n",
       "      <td>0</td>\n",
       "      <td>956906</td>\n",
       "      <td>200.00</td>\n",
       "      <td>R</td>\n",
       "    </tr>\n",
       "    <tr>\n",
       "      <th>39367</th>\n",
       "      <td>3026367</td>\n",
       "      <td>0</td>\n",
       "      <td>956906</td>\n",
       "      <td>49.00</td>\n",
       "      <td>W</td>\n",
       "    </tr>\n",
       "    <tr>\n",
       "      <th>39368</th>\n",
       "      <td>3026368</td>\n",
       "      <td>0</td>\n",
       "      <td>956910</td>\n",
       "      <td>250.00</td>\n",
       "      <td>R</td>\n",
       "    </tr>\n",
       "    <tr>\n",
       "      <th>39369</th>\n",
       "      <td>3026369</td>\n",
       "      <td>0</td>\n",
       "      <td>956912</td>\n",
       "      <td>107.95</td>\n",
       "      <td>W</td>\n",
       "    </tr>\n",
       "  </tbody>\n",
       "</table>\n",
       "<p>39370 rows × 5 columns</p>\n",
       "</div>"
      ],
      "text/plain": [
       "       TransactionID  isFraud  TransactionDT  TransactionAmt ProductCD\n",
       "0            2987000        0          86400           68.50         W\n",
       "1            2987001        0          86401           29.00         W\n",
       "2            2987002        0          86469           59.00         W\n",
       "3            2987003        0          86499           50.00         W\n",
       "4            2987004        0          86506           50.00         H\n",
       "...              ...      ...            ...             ...       ...\n",
       "39365        3026365        0         956863          226.00         W\n",
       "39366        3026366        0         956906          200.00         R\n",
       "39367        3026367        0         956906           49.00         W\n",
       "39368        3026368        0         956910          250.00         R\n",
       "39369        3026369        0         956912          107.95         W\n",
       "\n",
       "[39370 rows x 5 columns]"
      ]
     },
     "execution_count": 28,
     "metadata": {},
     "output_type": "execute_result"
    }
   ],
   "source": [
    "train_split_dfs[0].iloc[:, 0:5]"
   ]
  },
  {
   "cell_type": "markdown",
   "id": "c401ba1b",
   "metadata": {
    "papermill": {
     "duration": 0.024708,
     "end_time": "2023-11-09T18:21:32.040574",
     "exception": false,
     "start_time": "2023-11-09T18:21:32.015866",
     "status": "completed"
    },
    "tags": []
   },
   "source": [
    "#### Заполним пропуски тренировочного и тестового датасетов"
   ]
  },
  {
   "cell_type": "markdown",
   "id": "924bd07a",
   "metadata": {
    "papermill": {
     "duration": 0.024084,
     "end_time": "2023-11-09T18:21:32.089489",
     "exception": false,
     "start_time": "2023-11-09T18:21:32.065405",
     "status": "completed"
    },
    "tags": []
   },
   "source": [
    "Пропуски в числовых признаках мы заполним средним по колонке"
   ]
  },
  {
   "cell_type": "code",
   "execution_count": 29,
   "id": "dbdc70b9",
   "metadata": {
    "execution": {
     "iopub.execute_input": "2023-11-09T18:21:32.139764Z",
     "iopub.status.busy": "2023-11-09T18:21:32.139265Z",
     "iopub.status.idle": "2023-11-09T18:21:33.508312Z",
     "shell.execute_reply": "2023-11-09T18:21:33.507506Z"
    },
    "papermill": {
     "duration": 1.39657,
     "end_time": "2023-11-09T18:21:33.510350",
     "exception": false,
     "start_time": "2023-11-09T18:21:32.113780",
     "status": "completed"
    },
    "tags": []
   },
   "outputs": [],
   "source": [
    "train_df[num_features] = train_df[num_features].fillna(\n",
    "    train_df[num_features].mean())"
   ]
  },
  {
   "cell_type": "markdown",
   "id": "5b01ea66",
   "metadata": {
    "papermill": {
     "duration": 0.024133,
     "end_time": "2023-11-09T18:21:33.559626",
     "exception": false,
     "start_time": "2023-11-09T18:21:33.535493",
     "status": "completed"
    },
    "tags": []
   },
   "source": [
    "Для категориальных признаков будем использовать ```-1.0``` в качестве символа пропуска:"
   ]
  },
  {
   "cell_type": "code",
   "execution_count": 30,
   "id": "51129df6",
   "metadata": {
    "execution": {
     "iopub.execute_input": "2023-11-09T18:21:33.610324Z",
     "iopub.status.busy": "2023-11-09T18:21:33.610044Z",
     "iopub.status.idle": "2023-11-09T18:21:34.977798Z",
     "shell.execute_reply": "2023-11-09T18:21:34.977039Z"
    },
    "papermill": {
     "duration": 1.395737,
     "end_time": "2023-11-09T18:21:34.979833",
     "exception": false,
     "start_time": "2023-11-09T18:21:33.584096",
     "status": "completed"
    },
    "tags": []
   },
   "outputs": [],
   "source": [
    "train_df = train_df.fillna(-1)"
   ]
  },
  {
   "cell_type": "code",
   "execution_count": 31,
   "id": "a52faf61",
   "metadata": {
    "execution": {
     "iopub.execute_input": "2023-11-09T18:21:35.031074Z",
     "iopub.status.busy": "2023-11-09T18:21:35.030828Z",
     "iopub.status.idle": "2023-11-09T18:21:35.343184Z",
     "shell.execute_reply": "2023-11-09T18:21:35.342386Z"
    },
    "papermill": {
     "duration": 0.339785,
     "end_time": "2023-11-09T18:21:35.344919",
     "exception": false,
     "start_time": "2023-11-09T18:21:35.005134",
     "status": "completed"
    },
    "tags": []
   },
   "outputs": [
    {
     "data": {
      "text/html": [
       "<div>\n",
       "<style scoped>\n",
       "    .dataframe tbody tr th:only-of-type {\n",
       "        vertical-align: middle;\n",
       "    }\n",
       "\n",
       "    .dataframe tbody tr th {\n",
       "        vertical-align: top;\n",
       "    }\n",
       "\n",
       "    .dataframe thead th {\n",
       "        text-align: right;\n",
       "    }\n",
       "</style>\n",
       "<table border=\"1\" class=\"dataframe\">\n",
       "  <thead>\n",
       "    <tr style=\"text-align: right;\">\n",
       "      <th></th>\n",
       "      <th>TransactionID</th>\n",
       "      <th>isFraud</th>\n",
       "      <th>TransactionDT</th>\n",
       "      <th>TransactionAmt</th>\n",
       "      <th>ProductCD</th>\n",
       "      <th>card1</th>\n",
       "      <th>card2</th>\n",
       "      <th>card3</th>\n",
       "      <th>card4</th>\n",
       "      <th>card5</th>\n",
       "      <th>...</th>\n",
       "      <th>id_31</th>\n",
       "      <th>id_32</th>\n",
       "      <th>id_33</th>\n",
       "      <th>id_34</th>\n",
       "      <th>id_35</th>\n",
       "      <th>id_36</th>\n",
       "      <th>id_37</th>\n",
       "      <th>id_38</th>\n",
       "      <th>DeviceType</th>\n",
       "      <th>DeviceInfo</th>\n",
       "    </tr>\n",
       "  </thead>\n",
       "  <tbody>\n",
       "    <tr>\n",
       "      <th>0</th>\n",
       "      <td>2987000</td>\n",
       "      <td>0</td>\n",
       "      <td>86400</td>\n",
       "      <td>68.50</td>\n",
       "      <td>W</td>\n",
       "      <td>13926</td>\n",
       "      <td>362.555488</td>\n",
       "      <td>150.0</td>\n",
       "      <td>discover</td>\n",
       "      <td>142.0</td>\n",
       "      <td>...</td>\n",
       "      <td>-1</td>\n",
       "      <td>-1.0</td>\n",
       "      <td>-1</td>\n",
       "      <td>-1</td>\n",
       "      <td>-1</td>\n",
       "      <td>-1</td>\n",
       "      <td>-1</td>\n",
       "      <td>-1</td>\n",
       "      <td>-1</td>\n",
       "      <td>-1</td>\n",
       "    </tr>\n",
       "    <tr>\n",
       "      <th>1</th>\n",
       "      <td>2987001</td>\n",
       "      <td>0</td>\n",
       "      <td>86401</td>\n",
       "      <td>29.00</td>\n",
       "      <td>W</td>\n",
       "      <td>2755</td>\n",
       "      <td>404.000000</td>\n",
       "      <td>150.0</td>\n",
       "      <td>mastercard</td>\n",
       "      <td>102.0</td>\n",
       "      <td>...</td>\n",
       "      <td>-1</td>\n",
       "      <td>-1.0</td>\n",
       "      <td>-1</td>\n",
       "      <td>-1</td>\n",
       "      <td>-1</td>\n",
       "      <td>-1</td>\n",
       "      <td>-1</td>\n",
       "      <td>-1</td>\n",
       "      <td>-1</td>\n",
       "      <td>-1</td>\n",
       "    </tr>\n",
       "    <tr>\n",
       "      <th>2</th>\n",
       "      <td>2987002</td>\n",
       "      <td>0</td>\n",
       "      <td>86469</td>\n",
       "      <td>59.00</td>\n",
       "      <td>W</td>\n",
       "      <td>4663</td>\n",
       "      <td>490.000000</td>\n",
       "      <td>150.0</td>\n",
       "      <td>visa</td>\n",
       "      <td>166.0</td>\n",
       "      <td>...</td>\n",
       "      <td>-1</td>\n",
       "      <td>-1.0</td>\n",
       "      <td>-1</td>\n",
       "      <td>-1</td>\n",
       "      <td>-1</td>\n",
       "      <td>-1</td>\n",
       "      <td>-1</td>\n",
       "      <td>-1</td>\n",
       "      <td>-1</td>\n",
       "      <td>-1</td>\n",
       "    </tr>\n",
       "    <tr>\n",
       "      <th>3</th>\n",
       "      <td>2987003</td>\n",
       "      <td>0</td>\n",
       "      <td>86499</td>\n",
       "      <td>50.00</td>\n",
       "      <td>W</td>\n",
       "      <td>18132</td>\n",
       "      <td>567.000000</td>\n",
       "      <td>150.0</td>\n",
       "      <td>mastercard</td>\n",
       "      <td>117.0</td>\n",
       "      <td>...</td>\n",
       "      <td>-1</td>\n",
       "      <td>-1.0</td>\n",
       "      <td>-1</td>\n",
       "      <td>-1</td>\n",
       "      <td>-1</td>\n",
       "      <td>-1</td>\n",
       "      <td>-1</td>\n",
       "      <td>-1</td>\n",
       "      <td>-1</td>\n",
       "      <td>-1</td>\n",
       "    </tr>\n",
       "    <tr>\n",
       "      <th>4</th>\n",
       "      <td>2987004</td>\n",
       "      <td>0</td>\n",
       "      <td>86506</td>\n",
       "      <td>50.00</td>\n",
       "      <td>H</td>\n",
       "      <td>4497</td>\n",
       "      <td>514.000000</td>\n",
       "      <td>150.0</td>\n",
       "      <td>mastercard</td>\n",
       "      <td>102.0</td>\n",
       "      <td>...</td>\n",
       "      <td>samsung browser 6.2</td>\n",
       "      <td>32.0</td>\n",
       "      <td>2220x1080</td>\n",
       "      <td>match_status:2</td>\n",
       "      <td>T</td>\n",
       "      <td>F</td>\n",
       "      <td>T</td>\n",
       "      <td>T</td>\n",
       "      <td>mobile</td>\n",
       "      <td>SAMSUNG SM-G892A Build/NRD90M</td>\n",
       "    </tr>\n",
       "    <tr>\n",
       "      <th>...</th>\n",
       "      <td>...</td>\n",
       "      <td>...</td>\n",
       "      <td>...</td>\n",
       "      <td>...</td>\n",
       "      <td>...</td>\n",
       "      <td>...</td>\n",
       "      <td>...</td>\n",
       "      <td>...</td>\n",
       "      <td>...</td>\n",
       "      <td>...</td>\n",
       "      <td>...</td>\n",
       "      <td>...</td>\n",
       "      <td>...</td>\n",
       "      <td>...</td>\n",
       "      <td>...</td>\n",
       "      <td>...</td>\n",
       "      <td>...</td>\n",
       "      <td>...</td>\n",
       "      <td>...</td>\n",
       "      <td>...</td>\n",
       "      <td>...</td>\n",
       "    </tr>\n",
       "    <tr>\n",
       "      <th>590535</th>\n",
       "      <td>3577535</td>\n",
       "      <td>0</td>\n",
       "      <td>15811047</td>\n",
       "      <td>49.00</td>\n",
       "      <td>W</td>\n",
       "      <td>6550</td>\n",
       "      <td>362.555488</td>\n",
       "      <td>150.0</td>\n",
       "      <td>visa</td>\n",
       "      <td>226.0</td>\n",
       "      <td>...</td>\n",
       "      <td>-1</td>\n",
       "      <td>-1.0</td>\n",
       "      <td>-1</td>\n",
       "      <td>-1</td>\n",
       "      <td>-1</td>\n",
       "      <td>-1</td>\n",
       "      <td>-1</td>\n",
       "      <td>-1</td>\n",
       "      <td>-1</td>\n",
       "      <td>-1</td>\n",
       "    </tr>\n",
       "    <tr>\n",
       "      <th>590536</th>\n",
       "      <td>3577536</td>\n",
       "      <td>0</td>\n",
       "      <td>15811049</td>\n",
       "      <td>39.50</td>\n",
       "      <td>W</td>\n",
       "      <td>10444</td>\n",
       "      <td>225.000000</td>\n",
       "      <td>150.0</td>\n",
       "      <td>mastercard</td>\n",
       "      <td>224.0</td>\n",
       "      <td>...</td>\n",
       "      <td>-1</td>\n",
       "      <td>-1.0</td>\n",
       "      <td>-1</td>\n",
       "      <td>-1</td>\n",
       "      <td>-1</td>\n",
       "      <td>-1</td>\n",
       "      <td>-1</td>\n",
       "      <td>-1</td>\n",
       "      <td>-1</td>\n",
       "      <td>-1</td>\n",
       "    </tr>\n",
       "    <tr>\n",
       "      <th>590537</th>\n",
       "      <td>3577537</td>\n",
       "      <td>0</td>\n",
       "      <td>15811079</td>\n",
       "      <td>30.95</td>\n",
       "      <td>W</td>\n",
       "      <td>12037</td>\n",
       "      <td>595.000000</td>\n",
       "      <td>150.0</td>\n",
       "      <td>mastercard</td>\n",
       "      <td>224.0</td>\n",
       "      <td>...</td>\n",
       "      <td>-1</td>\n",
       "      <td>-1.0</td>\n",
       "      <td>-1</td>\n",
       "      <td>-1</td>\n",
       "      <td>-1</td>\n",
       "      <td>-1</td>\n",
       "      <td>-1</td>\n",
       "      <td>-1</td>\n",
       "      <td>-1</td>\n",
       "      <td>-1</td>\n",
       "    </tr>\n",
       "    <tr>\n",
       "      <th>590538</th>\n",
       "      <td>3577538</td>\n",
       "      <td>0</td>\n",
       "      <td>15811088</td>\n",
       "      <td>117.00</td>\n",
       "      <td>W</td>\n",
       "      <td>7826</td>\n",
       "      <td>481.000000</td>\n",
       "      <td>150.0</td>\n",
       "      <td>mastercard</td>\n",
       "      <td>224.0</td>\n",
       "      <td>...</td>\n",
       "      <td>-1</td>\n",
       "      <td>-1.0</td>\n",
       "      <td>-1</td>\n",
       "      <td>-1</td>\n",
       "      <td>-1</td>\n",
       "      <td>-1</td>\n",
       "      <td>-1</td>\n",
       "      <td>-1</td>\n",
       "      <td>-1</td>\n",
       "      <td>-1</td>\n",
       "    </tr>\n",
       "    <tr>\n",
       "      <th>590539</th>\n",
       "      <td>3577539</td>\n",
       "      <td>0</td>\n",
       "      <td>15811131</td>\n",
       "      <td>279.95</td>\n",
       "      <td>W</td>\n",
       "      <td>15066</td>\n",
       "      <td>170.000000</td>\n",
       "      <td>150.0</td>\n",
       "      <td>mastercard</td>\n",
       "      <td>102.0</td>\n",
       "      <td>...</td>\n",
       "      <td>-1</td>\n",
       "      <td>-1.0</td>\n",
       "      <td>-1</td>\n",
       "      <td>-1</td>\n",
       "      <td>-1</td>\n",
       "      <td>-1</td>\n",
       "      <td>-1</td>\n",
       "      <td>-1</td>\n",
       "      <td>-1</td>\n",
       "      <td>-1</td>\n",
       "    </tr>\n",
       "  </tbody>\n",
       "</table>\n",
       "<p>590540 rows × 434 columns</p>\n",
       "</div>"
      ],
      "text/plain": [
       "        TransactionID  isFraud  TransactionDT  TransactionAmt ProductCD  \\\n",
       "0             2987000        0          86400           68.50         W   \n",
       "1             2987001        0          86401           29.00         W   \n",
       "2             2987002        0          86469           59.00         W   \n",
       "3             2987003        0          86499           50.00         W   \n",
       "4             2987004        0          86506           50.00         H   \n",
       "...               ...      ...            ...             ...       ...   \n",
       "590535        3577535        0       15811047           49.00         W   \n",
       "590536        3577536        0       15811049           39.50         W   \n",
       "590537        3577537        0       15811079           30.95         W   \n",
       "590538        3577538        0       15811088          117.00         W   \n",
       "590539        3577539        0       15811131          279.95         W   \n",
       "\n",
       "        card1       card2  card3       card4  card5  ...                id_31  \\\n",
       "0       13926  362.555488  150.0    discover  142.0  ...                   -1   \n",
       "1        2755  404.000000  150.0  mastercard  102.0  ...                   -1   \n",
       "2        4663  490.000000  150.0        visa  166.0  ...                   -1   \n",
       "3       18132  567.000000  150.0  mastercard  117.0  ...                   -1   \n",
       "4        4497  514.000000  150.0  mastercard  102.0  ...  samsung browser 6.2   \n",
       "...       ...         ...    ...         ...    ...  ...                  ...   \n",
       "590535   6550  362.555488  150.0        visa  226.0  ...                   -1   \n",
       "590536  10444  225.000000  150.0  mastercard  224.0  ...                   -1   \n",
       "590537  12037  595.000000  150.0  mastercard  224.0  ...                   -1   \n",
       "590538   7826  481.000000  150.0  mastercard  224.0  ...                   -1   \n",
       "590539  15066  170.000000  150.0  mastercard  102.0  ...                   -1   \n",
       "\n",
       "        id_32      id_33           id_34  id_35 id_36 id_37  id_38  \\\n",
       "0        -1.0         -1              -1     -1    -1    -1     -1   \n",
       "1        -1.0         -1              -1     -1    -1    -1     -1   \n",
       "2        -1.0         -1              -1     -1    -1    -1     -1   \n",
       "3        -1.0         -1              -1     -1    -1    -1     -1   \n",
       "4        32.0  2220x1080  match_status:2      T     F     T      T   \n",
       "...       ...        ...             ...    ...   ...   ...    ...   \n",
       "590535   -1.0         -1              -1     -1    -1    -1     -1   \n",
       "590536   -1.0         -1              -1     -1    -1    -1     -1   \n",
       "590537   -1.0         -1              -1     -1    -1    -1     -1   \n",
       "590538   -1.0         -1              -1     -1    -1    -1     -1   \n",
       "590539   -1.0         -1              -1     -1    -1    -1     -1   \n",
       "\n",
       "        DeviceType                     DeviceInfo  \n",
       "0               -1                             -1  \n",
       "1               -1                             -1  \n",
       "2               -1                             -1  \n",
       "3               -1                             -1  \n",
       "4           mobile  SAMSUNG SM-G892A Build/NRD90M  \n",
       "...            ...                            ...  \n",
       "590535          -1                             -1  \n",
       "590536          -1                             -1  \n",
       "590537          -1                             -1  \n",
       "590538          -1                             -1  \n",
       "590539          -1                             -1  \n",
       "\n",
       "[590540 rows x 434 columns]"
      ]
     },
     "execution_count": 31,
     "metadata": {},
     "output_type": "execute_result"
    }
   ],
   "source": [
    "train_df"
   ]
  },
  {
   "cell_type": "markdown",
   "id": "19d888eb",
   "metadata": {
    "papermill": {
     "duration": 0.025142,
     "end_time": "2023-11-09T18:21:35.395840",
     "exception": false,
     "start_time": "2023-11-09T18:21:35.370698",
     "status": "completed"
    },
    "tags": []
   },
   "source": [
    "Аналогично заполним пропуски в тестовом датасете:"
   ]
  },
  {
   "cell_type": "code",
   "execution_count": 32,
   "id": "e9855ea2",
   "metadata": {
    "execution": {
     "iopub.execute_input": "2023-11-09T18:21:35.446746Z",
     "iopub.status.busy": "2023-11-09T18:21:35.446440Z",
     "iopub.status.idle": "2023-11-09T18:21:36.513067Z",
     "shell.execute_reply": "2023-11-09T18:21:36.512252Z"
    },
    "papermill": {
     "duration": 1.094443,
     "end_time": "2023-11-09T18:21:36.514977",
     "exception": false,
     "start_time": "2023-11-09T18:21:35.420534",
     "status": "completed"
    },
    "tags": []
   },
   "outputs": [],
   "source": [
    "test_df[num_features] = test_df[num_features].fillna(\n",
    "    test_df[num_features].mean())"
   ]
  },
  {
   "cell_type": "code",
   "execution_count": 33,
   "id": "5cbf9902",
   "metadata": {
    "execution": {
     "iopub.execute_input": "2023-11-09T18:21:36.569351Z",
     "iopub.status.busy": "2023-11-09T18:21:36.568515Z",
     "iopub.status.idle": "2023-11-09T18:21:37.781869Z",
     "shell.execute_reply": "2023-11-09T18:21:37.780949Z"
    },
    "papermill": {
     "duration": 1.242387,
     "end_time": "2023-11-09T18:21:37.783789",
     "exception": false,
     "start_time": "2023-11-09T18:21:36.541402",
     "status": "completed"
    },
    "tags": []
   },
   "outputs": [],
   "source": [
    "test_df = test_df.fillna(-1)"
   ]
  },
  {
   "cell_type": "markdown",
   "id": "8c578b49",
   "metadata": {
    "papermill": {
     "duration": 0.024964,
     "end_time": "2023-11-09T18:21:37.834695",
     "exception": false,
     "start_time": "2023-11-09T18:21:37.809731",
     "status": "completed"
    },
    "tags": []
   },
   "source": [
    "#### Посмотрим на распределение целевой переменной ```isFraud```"
   ]
  },
  {
   "cell_type": "code",
   "execution_count": 34,
   "id": "786c342d",
   "metadata": {
    "execution": {
     "iopub.execute_input": "2023-11-09T18:21:37.887123Z",
     "iopub.status.busy": "2023-11-09T18:21:37.886822Z",
     "iopub.status.idle": "2023-11-09T18:21:37.906671Z",
     "shell.execute_reply": "2023-11-09T18:21:37.905857Z"
    },
    "papermill": {
     "duration": 0.047728,
     "end_time": "2023-11-09T18:21:37.908236",
     "exception": false,
     "start_time": "2023-11-09T18:21:37.860508",
     "status": "completed"
    },
    "tags": []
   },
   "outputs": [
    {
     "data": {
      "text/html": [
       "<div>\n",
       "<style scoped>\n",
       "    .dataframe tbody tr th:only-of-type {\n",
       "        vertical-align: middle;\n",
       "    }\n",
       "\n",
       "    .dataframe tbody tr th {\n",
       "        vertical-align: top;\n",
       "    }\n",
       "\n",
       "    .dataframe thead th {\n",
       "        text-align: right;\n",
       "    }\n",
       "</style>\n",
       "<table border=\"1\" class=\"dataframe\">\n",
       "  <thead>\n",
       "    <tr style=\"text-align: right;\">\n",
       "      <th></th>\n",
       "      <th>Count</th>\n",
       "      <th>Percent</th>\n",
       "    </tr>\n",
       "    <tr>\n",
       "      <th>isFraud</th>\n",
       "      <th></th>\n",
       "      <th></th>\n",
       "    </tr>\n",
       "  </thead>\n",
       "  <tbody>\n",
       "    <tr>\n",
       "      <th>0</th>\n",
       "      <td>569877</td>\n",
       "      <td>0.96501</td>\n",
       "    </tr>\n",
       "    <tr>\n",
       "      <th>1</th>\n",
       "      <td>20663</td>\n",
       "      <td>0.03499</td>\n",
       "    </tr>\n",
       "  </tbody>\n",
       "</table>\n",
       "</div>"
      ],
      "text/plain": [
       "          Count  Percent\n",
       "isFraud                 \n",
       "0        569877  0.96501\n",
       "1         20663  0.03499"
      ]
     },
     "execution_count": 34,
     "metadata": {},
     "output_type": "execute_result"
    }
   ],
   "source": [
    "isFraud_count = train_df['isFraud'].value_counts()\n",
    "isFraud_prct = train_df['isFraud'].value_counts()/len(train_df)\n",
    "\n",
    "pd.concat([isFraud_count, isFraud_prct], axis=1, keys=['Count', 'Percent'])"
   ]
  },
  {
   "cell_type": "code",
   "execution_count": 35,
   "id": "84a2a9c4",
   "metadata": {
    "execution": {
     "iopub.execute_input": "2023-11-09T18:21:37.962547Z",
     "iopub.status.busy": "2023-11-09T18:21:37.961598Z",
     "iopub.status.idle": "2023-11-09T18:21:37.969117Z",
     "shell.execute_reply": "2023-11-09T18:21:37.968204Z"
    },
    "papermill": {
     "duration": 0.035479,
     "end_time": "2023-11-09T18:21:37.970758",
     "exception": false,
     "start_time": "2023-11-09T18:21:37.935279",
     "status": "completed"
    },
    "tags": []
   },
   "outputs": [],
   "source": [
    "colors = ['#1f77b4', '#ff7f0e', '#2ca02c', '#d62728', '#9467bd',\n",
    "          '#8c564b', '#e377c2', '#7f7f7f', '#bcbd22', '#17becf']\n",
    "\n",
    "def plot_value_counts(feature, title, df):\n",
    "    ax = df[df[feature] != -1][feature].value_counts().plot(kind='bar',\n",
    "                                        figsize=(7,5),\n",
    "                                        xlabel=title,\n",
    "                                        ylabel='count',\n",
    "                                        edgecolor='k',\n",
    "                                        color=colors)\n",
    "    ax.set_title(f'Percentage of {title}')\n",
    "    counts = df[feature].value_counts()/len(df)\n",
    "    \n",
    "    rects = ax.patches\n",
    "    labels_arr = ['{0:.2f}%'.format(count*100) for count in counts]\n",
    "    \n",
    "    if (len(labels_arr) > 2):\n",
    "        plt.xticks(rotation=0, size=8)\n",
    "        \n",
    "    for rect, label in zip(rects, labels_arr):\n",
    "        height = rect.get_height()\n",
    "        ax.text(\n",
    "            rect.get_x() + rect.get_width() / 2, height, label, ha='center', va='bottom'\n",
    "        )\n",
    "    \n",
    "    plt.show()"
   ]
  },
  {
   "cell_type": "code",
   "execution_count": 36,
   "id": "3f0c2962",
   "metadata": {
    "execution": {
     "iopub.execute_input": "2023-11-09T18:21:38.024249Z",
     "iopub.status.busy": "2023-11-09T18:21:38.023963Z",
     "iopub.status.idle": "2023-11-09T18:21:39.422483Z",
     "shell.execute_reply": "2023-11-09T18:21:39.421588Z"
    },
    "papermill": {
     "duration": 1.426795,
     "end_time": "2023-11-09T18:21:39.424183",
     "exception": false,
     "start_time": "2023-11-09T18:21:37.997388",
     "status": "completed"
    },
    "tags": []
   },
   "outputs": [
    {
     "data": {
      "image/png": "[encoded data removed]",
      "text/plain": [
       "<Figure size 700x500 with 1 Axes>"
      ]
     },
     "metadata": {},
     "output_type": "display_data"
    }
   ],
   "source": [
    "plot_value_counts('isFraud', 'train: isFraud', df=train_df)"
   ]
  },
  {
   "cell_type": "markdown",
   "id": "88159266",
   "metadata": {
    "papermill": {
     "duration": 0.026344,
     "end_time": "2023-11-09T18:21:39.477354",
     "exception": false,
     "start_time": "2023-11-09T18:21:39.451010",
     "status": "completed"
    },
    "tags": []
   },
   "source": [
    "Видим, что данные не сбалансированы:\n",
    "\n",
    "- ```96,5 %``` транзакций - валидны\n",
    "\n",
    "- ```3,5 %``` транзакций - мошеннические\n",
    "\n",
    "Подумаем о решении вопроса дисбаланса в данных. Исследуем другие признаки."
   ]
  },
  {
   "cell_type": "markdown",
   "id": "ed6a867a",
   "metadata": {
    "papermill": {
     "duration": 0.025159,
     "end_time": "2023-11-09T18:21:39.528843",
     "exception": false,
     "start_time": "2023-11-09T18:21:39.503684",
     "status": "completed"
    },
    "tags": []
   },
   "source": [
    "#### Распределение ```Card 4``` (компания карты)"
   ]
  },
  {
   "cell_type": "code",
   "execution_count": 37,
   "id": "ce1e9fb0",
   "metadata": {
    "execution": {
     "iopub.execute_input": "2023-11-09T18:21:39.580810Z",
     "iopub.status.busy": "2023-11-09T18:21:39.580487Z",
     "iopub.status.idle": "2023-11-09T18:21:40.741739Z",
     "shell.execute_reply": "2023-11-09T18:21:40.740882Z"
    },
    "papermill": {
     "duration": 1.189266,
     "end_time": "2023-11-09T18:21:40.743355",
     "exception": false,
     "start_time": "2023-11-09T18:21:39.554089",
     "status": "completed"
    },
    "tags": []
   },
   "outputs": [
    {
     "data": {
      "image/png": "[encoded data removed]",
      "text/plain": [
       "<Figure size 700x500 with 1 Axes>"
      ]
     },
     "metadata": {},
     "output_type": "display_data"
    }
   ],
   "source": [
    "plot_value_counts('card4', 'train: card4', df=train_df)"
   ]
  },
  {
   "cell_type": "markdown",
   "id": "d3664418",
   "metadata": {
    "papermill": {
     "duration": 0.025335,
     "end_time": "2023-11-09T18:21:40.794940",
     "exception": false,
     "start_time": "2023-11-09T18:21:40.769605",
     "status": "completed"
    },
    "tags": []
   },
   "source": [
    "Видим, что:\n",
    "\n",
    "- ```65,16 %``` - карт компании 'visa'\n",
    "- ```32,04 %``` - 'mastercard'\n",
    "- ```1,41 %```  - 'american express'\n",
    "- ```1,13 %```  - 'discover'"
   ]
  },
  {
   "cell_type": "markdown",
   "id": "26cb19bc",
   "metadata": {
    "papermill": {
     "duration": 0.025116,
     "end_time": "2023-11-09T18:21:40.845423",
     "exception": false,
     "start_time": "2023-11-09T18:21:40.820307",
     "status": "completed"
    },
    "tags": []
   },
   "source": [
    "#### Распределение ```Card 6``` - тип карты"
   ]
  },
  {
   "cell_type": "code",
   "execution_count": 38,
   "id": "b44b1d56",
   "metadata": {
    "execution": {
     "iopub.execute_input": "2023-11-09T18:21:40.898587Z",
     "iopub.status.busy": "2023-11-09T18:21:40.898126Z",
     "iopub.status.idle": "2023-11-09T18:21:42.024618Z",
     "shell.execute_reply": "2023-11-09T18:21:42.023900Z"
    },
    "papermill": {
     "duration": 1.155665,
     "end_time": "2023-11-09T18:21:42.026583",
     "exception": false,
     "start_time": "2023-11-09T18:21:40.870918",
     "status": "completed"
    },
    "tags": []
   },
   "outputs": [
    {
     "data": {
      "image/png": "[encoded data removed]",
      "text/plain": [
       "<Figure size 700x500 with 1 Axes>"
      ]
     },
     "metadata": {},
     "output_type": "display_data"
    }
   ],
   "source": [
    "plot_value_counts('card6', 'train: card6', df=train_df)"
   ]
  },
  {
   "cell_type": "markdown",
   "id": "666b1057",
   "metadata": {
    "papermill": {
     "duration": 0.026957,
     "end_time": "2023-11-09T18:21:42.081390",
     "exception": false,
     "start_time": "2023-11-09T18:21:42.054433",
     "status": "completed"
    },
    "tags": []
   },
   "source": [
    "Большая часть транзакций произведена дебетовыми картами - ```74,5 %```, ```25,23 %``` - кредитными картами. Транзакций с ```charge``` карт нет"
   ]
  },
  {
   "cell_type": "markdown",
   "id": "6a1f32cf",
   "metadata": {
    "papermill": {
     "duration": 0.025652,
     "end_time": "2023-11-09T18:21:42.132964",
     "exception": false,
     "start_time": "2023-11-09T18:21:42.107312",
     "status": "completed"
    },
    "tags": []
   },
   "source": [
    "#### Распределение транзакций по ```DeviceType```"
   ]
  },
  {
   "cell_type": "code",
   "execution_count": 39,
   "id": "ee1e4fd2",
   "metadata": {
    "execution": {
     "iopub.execute_input": "2023-11-09T18:21:42.186143Z",
     "iopub.status.busy": "2023-11-09T18:21:42.185861Z",
     "iopub.status.idle": "2023-11-09T18:21:42.548606Z",
     "shell.execute_reply": "2023-11-09T18:21:42.547926Z"
    },
    "papermill": {
     "duration": 0.391522,
     "end_time": "2023-11-09T18:21:42.550262",
     "exception": false,
     "start_time": "2023-11-09T18:21:42.158740",
     "status": "completed"
    },
    "tags": []
   },
   "outputs": [
    {
     "name": "stdout",
     "output_type": "stream",
     "text": [
      "DeviceType\n",
      "desktop    85165\n",
      "mobile     55645\n",
      "Name: TransactionDT, dtype: int64\n"
     ]
    },
    {
     "data": {
      "image/png": "[encoded data removed]",
      "text/plain": [
       "<Figure size 640x480 with 1 Axes>"
      ]
     },
     "metadata": {},
     "output_type": "display_data"
    }
   ],
   "source": [
    "device_type_df = train_df[train_df['DeviceType']!=-1].groupby(by='DeviceType').TransactionDT.count()\n",
    "device_type_df.plot(kind='pie', \n",
    "                    colors=['orange', 'lightgreen'],\n",
    "                    autopct='%1.1f%%')\n",
    "plt.title('Number of transactions by device type')\n",
    "print(device_type_df)"
   ]
  },
  {
   "cell_type": "markdown",
   "id": "3758257d",
   "metadata": {
    "papermill": {
     "duration": 0.026118,
     "end_time": "2023-11-09T18:21:42.603453",
     "exception": false,
     "start_time": "2023-11-09T18:21:42.577335",
     "status": "completed"
    },
    "tags": []
   },
   "source": [
    "Большинство транзакций было выполнено с компьютера - ```60.5 %```\n",
    "\n",
    "С мобильных устройств - ```39.5 %``` транзакций"
   ]
  },
  {
   "cell_type": "markdown",
   "id": "dde6a439",
   "metadata": {
    "papermill": {
     "duration": 0.025995,
     "end_time": "2023-11-09T18:21:42.656005",
     "exception": false,
     "start_time": "2023-11-09T18:21:42.630010",
     "status": "completed"
    },
    "tags": []
   },
   "source": [
    "#### Посмотрим на распределение транзакций в разрезе компаний, выпустивших карты"
   ]
  },
  {
   "cell_type": "markdown",
   "id": "0581f040",
   "metadata": {
    "papermill": {
     "duration": 0.025957,
     "end_time": "2023-11-09T18:21:42.708417",
     "exception": false,
     "start_time": "2023-11-09T18:21:42.682460",
     "status": "completed"
    },
    "tags": []
   },
   "source": [
    "Напишем функцию для визуализации распределения транзакций в разрезе какого-либо признака"
   ]
  },
  {
   "cell_type": "code",
   "execution_count": 40,
   "id": "9b59288c",
   "metadata": {
    "execution": {
     "iopub.execute_input": "2023-11-09T18:21:42.762264Z",
     "iopub.status.busy": "2023-11-09T18:21:42.761620Z",
     "iopub.status.idle": "2023-11-09T18:21:42.766236Z",
     "shell.execute_reply": "2023-11-09T18:21:42.765696Z"
    },
    "papermill": {
     "duration": 0.033435,
     "end_time": "2023-11-09T18:21:42.767812",
     "exception": false,
     "start_time": "2023-11-09T18:21:42.734377",
     "status": "completed"
    },
    "tags": []
   },
   "outputs": [],
   "source": [
    "def isFraud_by_feature(feature, df, title):\n",
    "    sns.barplot(x=feature, y='isFraud', data=df[df[feature]!=-1])\n",
    "    plt.xlabel(feature)\n",
    "    plt.ylabel('isFraud')\n",
    "    plt.title('Fraudulent Transactions by {}'.format(title))\n",
    "    plt.show()"
   ]
  },
  {
   "cell_type": "code",
   "execution_count": 41,
   "id": "552a87b9",
   "metadata": {
    "execution": {
     "iopub.execute_input": "2023-11-09T18:21:42.821817Z",
     "iopub.status.busy": "2023-11-09T18:21:42.821337Z",
     "iopub.status.idle": "2023-11-09T18:21:50.908392Z",
     "shell.execute_reply": "2023-11-09T18:21:50.907528Z"
    },
    "papermill": {
     "duration": 8.115959,
     "end_time": "2023-11-09T18:21:50.910107",
     "exception": false,
     "start_time": "2023-11-09T18:21:42.794148",
     "status": "completed"
    },
    "tags": []
   },
   "outputs": [
    {
     "data": {
      "image/png": "[encoded data removed]",
      "text/plain": [
       "<Figure size 640x480 with 1 Axes>"
      ]
     },
     "metadata": {},
     "output_type": "display_data"
    }
   ],
   "source": [
    "isFraud_by_feature('card4', df=train_df, title='Card Company')"
   ]
  },
  {
   "cell_type": "markdown",
   "id": "156a327e",
   "metadata": {
    "papermill": {
     "duration": 0.026301,
     "end_time": "2023-11-09T18:21:50.964044",
     "exception": false,
     "start_time": "2023-11-09T18:21:50.937743",
     "status": "completed"
    },
    "tags": []
   },
   "source": [
    "Большинство операций произведено с карт ```discover```"
   ]
  },
  {
   "cell_type": "markdown",
   "id": "29ebd69d",
   "metadata": {
    "papermill": {
     "duration": 0.026534,
     "end_time": "2023-11-09T18:21:51.017249",
     "exception": false,
     "start_time": "2023-11-09T18:21:50.990715",
     "status": "completed"
    },
    "tags": []
   },
   "source": [
    "#### Распределение транзакций в разрезе типа карты"
   ]
  },
  {
   "cell_type": "code",
   "execution_count": 42,
   "id": "923d2675",
   "metadata": {
    "execution": {
     "iopub.execute_input": "2023-11-09T18:21:51.072513Z",
     "iopub.status.busy": "2023-11-09T18:21:51.072196Z",
     "iopub.status.idle": "2023-11-09T18:21:59.079319Z",
     "shell.execute_reply": "2023-11-09T18:21:59.078378Z"
    },
    "papermill": {
     "duration": 8.037204,
     "end_time": "2023-11-09T18:21:59.081120",
     "exception": false,
     "start_time": "2023-11-09T18:21:51.043916",
     "status": "completed"
    },
    "tags": []
   },
   "outputs": [
    {
     "data": {
      "image/png": "[encoded data removed]",
      "text/plain": [
       "<Figure size 640x480 with 1 Axes>"
      ]
     },
     "metadata": {},
     "output_type": "display_data"
    }
   ],
   "source": [
    "isFraud_by_feature('card6', df=train_df, title='Card Type')"
   ]
  },
  {
   "cell_type": "markdown",
   "id": "d65b91df",
   "metadata": {
    "papermill": {
     "duration": 0.026742,
     "end_time": "2023-11-09T18:21:59.135893",
     "exception": false,
     "start_time": "2023-11-09T18:21:59.109151",
     "status": "completed"
    },
    "tags": []
   },
   "source": [
    "Несмотря на то, что кредитные карты занимают ```25,23 %``` от всего объема данных, с них произведена большая часть транзакций"
   ]
  },
  {
   "cell_type": "markdown",
   "id": "8b87cef7",
   "metadata": {
    "papermill": {
     "duration": 0.026759,
     "end_time": "2023-11-09T18:21:59.189935",
     "exception": false,
     "start_time": "2023-11-09T18:21:59.163176",
     "status": "completed"
    },
    "tags": []
   },
   "source": [
    "#### Распределение транзакций в разрезе типа устройства"
   ]
  },
  {
   "cell_type": "code",
   "execution_count": 43,
   "id": "d2bd1df6",
   "metadata": {
    "execution": {
     "iopub.execute_input": "2023-11-09T18:21:59.245324Z",
     "iopub.status.busy": "2023-11-09T18:21:59.245006Z",
     "iopub.status.idle": "2023-11-09T18:22:01.284512Z",
     "shell.execute_reply": "2023-11-09T18:22:01.283521Z"
    },
    "papermill": {
     "duration": 2.069309,
     "end_time": "2023-11-09T18:22:01.286333",
     "exception": false,
     "start_time": "2023-11-09T18:21:59.217024",
     "status": "completed"
    },
    "tags": []
   },
   "outputs": [
    {
     "data": {
      "image/png": "[encoded data removed]",
      "text/plain": [
       "<Figure size 640x480 with 1 Axes>"
      ]
     },
     "metadata": {},
     "output_type": "display_data"
    }
   ],
   "source": [
    "isFraud_by_feature('DeviceType', df=train_df, title='Device Type')"
   ]
  },
  {
   "cell_type": "markdown",
   "id": "9396abaf",
   "metadata": {
    "papermill": {
     "duration": 0.026708,
     "end_time": "2023-11-09T18:22:01.344569",
     "exception": false,
     "start_time": "2023-11-09T18:22:01.317861",
     "status": "completed"
    },
    "tags": []
   },
   "source": [
    "Большинство транзакций было произведено с мобильных устройств"
   ]
  },
  {
   "cell_type": "markdown",
   "id": "87695eaf",
   "metadata": {
    "papermill": {
     "duration": 0.026705,
     "end_time": "2023-11-09T18:22:01.399340",
     "exception": false,
     "start_time": "2023-11-09T18:22:01.372635",
     "status": "completed"
    },
    "tags": []
   },
   "source": [
    "#### Построим гистограмму распределения транзакционных платежей (TransactionAMT)"
   ]
  },
  {
   "cell_type": "markdown",
   "id": "00b825bc",
   "metadata": {
    "papermill": {
     "duration": 0.026649,
     "end_time": "2023-11-09T18:22:01.452742",
     "exception": false,
     "start_time": "2023-11-09T18:22:01.426093",
     "status": "completed"
    },
    "tags": []
   },
   "source": [
    "Напишем функцию для построения гистограммы:"
   ]
  },
  {
   "cell_type": "code",
   "execution_count": 44,
   "id": "a1374652",
   "metadata": {
    "execution": {
     "iopub.execute_input": "2023-11-09T18:22:01.507952Z",
     "iopub.status.busy": "2023-11-09T18:22:01.507408Z",
     "iopub.status.idle": "2023-11-09T18:22:01.511613Z",
     "shell.execute_reply": "2023-11-09T18:22:01.511087Z"
    },
    "papermill": {
     "duration": 0.033864,
     "end_time": "2023-11-09T18:22:01.513324",
     "exception": false,
     "start_time": "2023-11-09T18:22:01.479460",
     "status": "completed"
    },
    "tags": []
   },
   "outputs": [],
   "source": [
    "def plt_hist(df, feature, bins=150):\n",
    "    plt.figure(figsize=(8,8))\n",
    "    plt.hist(df[feature], bins=bins, edgecolor='black')\n",
    "    plt.xlabel(feature)\n",
    "    plt.ylabel('Count')\n",
    "    plt.title('Distribution of {}'.format(feature))\n",
    "    plt.show()"
   ]
  },
  {
   "cell_type": "code",
   "execution_count": 45,
   "id": "64288cee",
   "metadata": {
    "execution": {
     "iopub.execute_input": "2023-11-09T18:22:01.568031Z",
     "iopub.status.busy": "2023-11-09T18:22:01.567775Z",
     "iopub.status.idle": "2023-11-09T18:22:01.914880Z",
     "shell.execute_reply": "2023-11-09T18:22:01.914006Z"
    },
    "papermill": {
     "duration": 0.376894,
     "end_time": "2023-11-09T18:22:01.917026",
     "exception": false,
     "start_time": "2023-11-09T18:22:01.540132",
     "status": "completed"
    },
    "tags": []
   },
   "outputs": [
    {
     "data": {
      "image/png": "[encoded data removed]",
      "text/plain": [
       "<Figure size 800x800 with 1 Axes>"
      ]
     },
     "metadata": {},
     "output_type": "display_data"
    }
   ],
   "source": [
    "plt_hist(train_df, 'TransactionAmt')"
   ]
  },
  {
   "cell_type": "markdown",
   "id": "7192038f",
   "metadata": {
    "papermill": {
     "duration": 0.062679,
     "end_time": "2023-11-09T18:22:02.008106",
     "exception": false,
     "start_time": "2023-11-09T18:22:01.945427",
     "status": "completed"
    },
    "tags": []
   },
   "source": [
    "#### Здесь виден явный выброс в данных"
   ]
  },
  {
   "cell_type": "markdown",
   "id": "170b60e0",
   "metadata": {
    "papermill": {
     "duration": 0.027418,
     "end_time": "2023-11-09T18:22:02.063292",
     "exception": false,
     "start_time": "2023-11-09T18:22:02.035874",
     "status": "completed"
    },
    "tags": []
   },
   "source": [
    "Посмотрим на статистики этого признака"
   ]
  },
  {
   "cell_type": "code",
   "execution_count": 46,
   "id": "54b3554e",
   "metadata": {
    "execution": {
     "iopub.execute_input": "2023-11-09T18:22:02.119811Z",
     "iopub.status.busy": "2023-11-09T18:22:02.119502Z",
     "iopub.status.idle": "2023-11-09T18:22:02.145010Z",
     "shell.execute_reply": "2023-11-09T18:22:02.144128Z"
    },
    "papermill": {
     "duration": 0.055806,
     "end_time": "2023-11-09T18:22:02.146711",
     "exception": false,
     "start_time": "2023-11-09T18:22:02.090905",
     "status": "completed"
    },
    "tags": []
   },
   "outputs": [
    {
     "data": {
      "text/plain": [
       "count    590540.000000\n",
       "mean        135.027176\n",
       "std         239.162522\n",
       "min           0.251000\n",
       "25%          43.321000\n",
       "50%          68.769000\n",
       "75%         125.000000\n",
       "max       31937.391000\n",
       "Name: TransactionAmt, dtype: float64"
      ]
     },
     "execution_count": 46,
     "metadata": {},
     "output_type": "execute_result"
    }
   ],
   "source": [
    "train_df['TransactionAmt'].describe()"
   ]
  },
  {
   "cell_type": "markdown",
   "id": "6b85c5d0",
   "metadata": {
    "papermill": {
     "duration": 0.027522,
     "end_time": "2023-11-09T18:22:02.202906",
     "exception": false,
     "start_time": "2023-11-09T18:22:02.175384",
     "status": "completed"
    },
    "tags": []
   },
   "source": [
    "Посмотрим на топ 10 самых больших значений этого столбца"
   ]
  },
  {
   "cell_type": "code",
   "execution_count": 47,
   "id": "945c9fdc",
   "metadata": {
    "execution": {
     "iopub.execute_input": "2023-11-09T18:22:02.260163Z",
     "iopub.status.busy": "2023-11-09T18:22:02.259877Z",
     "iopub.status.idle": "2023-11-09T18:22:02.321164Z",
     "shell.execute_reply": "2023-11-09T18:22:02.320121Z"
    },
    "papermill": {
     "duration": 0.092767,
     "end_time": "2023-11-09T18:22:02.323532",
     "exception": false,
     "start_time": "2023-11-09T18:22:02.230765",
     "status": "completed"
    },
    "tags": []
   },
   "outputs": [
    {
     "data": {
      "text/plain": [
       "315172     5279.950\n",
       "462514     5279.950\n",
       "584767     5366.820\n",
       "275535     5420.000\n",
       "275529     5420.000\n",
       "384603     5543.230\n",
       "248413     6085.230\n",
       "296021     6450.970\n",
       "274336    31937.391\n",
       "274339    31937.391\n",
       "Name: TransactionAmt, dtype: float64"
      ]
     },
     "execution_count": 47,
     "metadata": {},
     "output_type": "execute_result"
    }
   ],
   "source": [
    "train_df['TransactionAmt'].dropna().sort_values().tail(10)"
   ]
  },
  {
   "cell_type": "markdown",
   "id": "d6b16acf",
   "metadata": {
    "papermill": {
     "duration": 0.027946,
     "end_time": "2023-11-09T18:22:02.379494",
     "exception": false,
     "start_time": "2023-11-09T18:22:02.351548",
     "status": "completed"
    },
    "tags": []
   },
   "source": [
    "Выведем график ```boxplot```, чтобы убедиться, что эти значения похожи на выбросы"
   ]
  },
  {
   "cell_type": "markdown",
   "id": "b1a733ce",
   "metadata": {
    "papermill": {
     "duration": 0.027201,
     "end_time": "2023-11-09T18:22:02.434500",
     "exception": false,
     "start_time": "2023-11-09T18:22:02.407299",
     "status": "completed"
    },
    "tags": []
   },
   "source": [
    "Напишем функцию для построения диаграммы размаха:"
   ]
  },
  {
   "cell_type": "code",
   "execution_count": 48,
   "id": "28029473",
   "metadata": {
    "execution": {
     "iopub.execute_input": "2023-11-09T18:22:02.491353Z",
     "iopub.status.busy": "2023-11-09T18:22:02.490450Z",
     "iopub.status.idle": "2023-11-09T18:22:02.495159Z",
     "shell.execute_reply": "2023-11-09T18:22:02.494493Z"
    },
    "papermill": {
     "duration": 0.034901,
     "end_time": "2023-11-09T18:22:02.496784",
     "exception": false,
     "start_time": "2023-11-09T18:22:02.461883",
     "status": "completed"
    },
    "tags": []
   },
   "outputs": [],
   "source": [
    "def plt_boxplot(df, feature):\n",
    "    plt.figure(figsize=(10,3))\n",
    "    sns.boxplot(x=df[feature])\n",
    "    plt.title('Диаграмма размаха платежей')\n",
    "    plt.xlabel(feature)\n",
    "    plt.show()"
   ]
  },
  {
   "cell_type": "code",
   "execution_count": 49,
   "id": "27aae08e",
   "metadata": {
    "execution": {
     "iopub.execute_input": "2023-11-09T18:22:02.553070Z",
     "iopub.status.busy": "2023-11-09T18:22:02.552824Z",
     "iopub.status.idle": "2023-11-09T18:22:02.808399Z",
     "shell.execute_reply": "2023-11-09T18:22:02.807675Z"
    },
    "papermill": {
     "duration": 0.285818,
     "end_time": "2023-11-09T18:22:02.810258",
     "exception": false,
     "start_time": "2023-11-09T18:22:02.524440",
     "status": "completed"
    },
    "tags": []
   },
   "outputs": [
    {
     "data": {
      "image/png": "[encoded data removed]",
      "text/plain": [
       "<Figure size 1000x300 with 1 Axes>"
      ]
     },
     "metadata": {},
     "output_type": "display_data"
    }
   ],
   "source": [
    "plt_boxplot(train_df, 'TransactionAmt')"
   ]
  },
  {
   "cell_type": "markdown",
   "id": "f7922a8a",
   "metadata": {
    "papermill": {
     "duration": 0.027524,
     "end_time": "2023-11-09T18:22:02.865997",
     "exception": false,
     "start_time": "2023-11-09T18:22:02.838473",
     "status": "completed"
    },
    "tags": []
   },
   "source": [
    "#### Избавимся от выбросов"
   ]
  },
  {
   "cell_type": "markdown",
   "id": "88bc0bfc",
   "metadata": {
    "papermill": {
     "duration": 0.02804,
     "end_time": "2023-11-09T18:22:02.921619",
     "exception": false,
     "start_time": "2023-11-09T18:22:02.893579",
     "status": "completed"
    },
    "tags": []
   },
   "source": [
    "Напишем функцию для того, чтобы отделить данные от выбросов"
   ]
  },
  {
   "cell_type": "code",
   "execution_count": 50,
   "id": "5109011c",
   "metadata": {
    "execution": {
     "iopub.execute_input": "2023-11-09T18:22:02.978419Z",
     "iopub.status.busy": "2023-11-09T18:22:02.978120Z",
     "iopub.status.idle": "2023-11-09T18:22:02.982992Z",
     "shell.execute_reply": "2023-11-09T18:22:02.982203Z"
    },
    "papermill": {
     "duration": 0.035328,
     "end_time": "2023-11-09T18:22:02.984472",
     "exception": false,
     "start_time": "2023-11-09T18:22:02.949144",
     "status": "completed"
    },
    "tags": []
   },
   "outputs": [],
   "source": [
    "def data_without_feat_emsns(df, feature):\n",
    "    first_qrt = df[feature].describe()['25%']\n",
    "    third_qrt = df[feature].describe()['75%']\n",
    "    iqr = third_qrt - first_qrt\n",
    "    \n",
    "    condition = (df[feature] > (first_qrt - 3 * iqr)) & \\\n",
    "    (df[feature] < (third_qrt + 3 * iqr))\n",
    "    \n",
    "    df = df[condition]\n",
    "    return df"
   ]
  },
  {
   "cell_type": "markdown",
   "id": "0da9ea65",
   "metadata": {
    "papermill": {
     "duration": 0.027899,
     "end_time": "2023-11-09T18:22:03.040791",
     "exception": false,
     "start_time": "2023-11-09T18:22:03.012892",
     "status": "completed"
    },
    "tags": []
   },
   "source": [
    "Применим созданную функцию к нашим данным, отфильтровав строки, не являющиеся выбросами"
   ]
  },
  {
   "cell_type": "code",
   "execution_count": 51,
   "id": "b62fd805",
   "metadata": {
    "execution": {
     "iopub.execute_input": "2023-11-09T18:22:03.098917Z",
     "iopub.status.busy": "2023-11-09T18:22:03.098595Z",
     "iopub.status.idle": "2023-11-09T18:22:03.928012Z",
     "shell.execute_reply": "2023-11-09T18:22:03.927354Z"
    },
    "papermill": {
     "duration": 0.8607,
     "end_time": "2023-11-09T18:22:03.929862",
     "exception": false,
     "start_time": "2023-11-09T18:22:03.069162",
     "status": "completed"
    },
    "tags": []
   },
   "outputs": [],
   "source": [
    "train_df = data_without_feat_emsns(train_df, 'TransactionAmt')"
   ]
  },
  {
   "cell_type": "code",
   "execution_count": 52,
   "id": "e0801714",
   "metadata": {
    "execution": {
     "iopub.execute_input": "2023-11-09T18:22:03.991631Z",
     "iopub.status.busy": "2023-11-09T18:22:03.991142Z",
     "iopub.status.idle": "2023-11-09T18:22:03.995428Z",
     "shell.execute_reply": "2023-11-09T18:22:03.994894Z"
    },
    "papermill": {
     "duration": 0.037842,
     "end_time": "2023-11-09T18:22:03.997236",
     "exception": false,
     "start_time": "2023-11-09T18:22:03.959394",
     "status": "completed"
    },
    "tags": []
   },
   "outputs": [
    {
     "data": {
      "text/plain": [
       "(554118, 434)"
      ]
     },
     "execution_count": 52,
     "metadata": {},
     "output_type": "execute_result"
    }
   ],
   "source": [
    "train_df.shape"
   ]
  },
  {
   "cell_type": "code",
   "execution_count": 53,
   "id": "798bef61",
   "metadata": {
    "execution": {
     "iopub.execute_input": "2023-11-09T18:22:04.056789Z",
     "iopub.status.busy": "2023-11-09T18:22:04.056126Z",
     "iopub.status.idle": "2023-11-09T18:22:04.427920Z",
     "shell.execute_reply": "2023-11-09T18:22:04.427105Z"
    },
    "papermill": {
     "duration": 0.40276,
     "end_time": "2023-11-09T18:22:04.429549",
     "exception": false,
     "start_time": "2023-11-09T18:22:04.026789",
     "status": "completed"
    },
    "tags": []
   },
   "outputs": [
    {
     "data": {
      "text/html": [
       "<div>\n",
       "<style scoped>\n",
       "    .dataframe tbody tr th:only-of-type {\n",
       "        vertical-align: middle;\n",
       "    }\n",
       "\n",
       "    .dataframe tbody tr th {\n",
       "        vertical-align: top;\n",
       "    }\n",
       "\n",
       "    .dataframe thead th {\n",
       "        text-align: right;\n",
       "    }\n",
       "</style>\n",
       "<table border=\"1\" class=\"dataframe\">\n",
       "  <thead>\n",
       "    <tr style=\"text-align: right;\">\n",
       "      <th></th>\n",
       "      <th>TransactionID</th>\n",
       "      <th>isFraud</th>\n",
       "      <th>TransactionDT</th>\n",
       "      <th>TransactionAmt</th>\n",
       "      <th>ProductCD</th>\n",
       "      <th>card1</th>\n",
       "      <th>card2</th>\n",
       "      <th>card3</th>\n",
       "      <th>card4</th>\n",
       "      <th>card5</th>\n",
       "      <th>...</th>\n",
       "      <th>id_31</th>\n",
       "      <th>id_32</th>\n",
       "      <th>id_33</th>\n",
       "      <th>id_34</th>\n",
       "      <th>id_35</th>\n",
       "      <th>id_36</th>\n",
       "      <th>id_37</th>\n",
       "      <th>id_38</th>\n",
       "      <th>DeviceType</th>\n",
       "      <th>DeviceInfo</th>\n",
       "    </tr>\n",
       "  </thead>\n",
       "  <tbody>\n",
       "    <tr>\n",
       "      <th>0</th>\n",
       "      <td>2987000</td>\n",
       "      <td>0</td>\n",
       "      <td>86400</td>\n",
       "      <td>68.50</td>\n",
       "      <td>W</td>\n",
       "      <td>13926</td>\n",
       "      <td>362.555488</td>\n",
       "      <td>150.0</td>\n",
       "      <td>discover</td>\n",
       "      <td>142.0</td>\n",
       "      <td>...</td>\n",
       "      <td>-1</td>\n",
       "      <td>-1.0</td>\n",
       "      <td>-1</td>\n",
       "      <td>-1</td>\n",
       "      <td>-1</td>\n",
       "      <td>-1</td>\n",
       "      <td>-1</td>\n",
       "      <td>-1</td>\n",
       "      <td>-1</td>\n",
       "      <td>-1</td>\n",
       "    </tr>\n",
       "    <tr>\n",
       "      <th>1</th>\n",
       "      <td>2987001</td>\n",
       "      <td>0</td>\n",
       "      <td>86401</td>\n",
       "      <td>29.00</td>\n",
       "      <td>W</td>\n",
       "      <td>2755</td>\n",
       "      <td>404.000000</td>\n",
       "      <td>150.0</td>\n",
       "      <td>mastercard</td>\n",
       "      <td>102.0</td>\n",
       "      <td>...</td>\n",
       "      <td>-1</td>\n",
       "      <td>-1.0</td>\n",
       "      <td>-1</td>\n",
       "      <td>-1</td>\n",
       "      <td>-1</td>\n",
       "      <td>-1</td>\n",
       "      <td>-1</td>\n",
       "      <td>-1</td>\n",
       "      <td>-1</td>\n",
       "      <td>-1</td>\n",
       "    </tr>\n",
       "    <tr>\n",
       "      <th>2</th>\n",
       "      <td>2987002</td>\n",
       "      <td>0</td>\n",
       "      <td>86469</td>\n",
       "      <td>59.00</td>\n",
       "      <td>W</td>\n",
       "      <td>4663</td>\n",
       "      <td>490.000000</td>\n",
       "      <td>150.0</td>\n",
       "      <td>visa</td>\n",
       "      <td>166.0</td>\n",
       "      <td>...</td>\n",
       "      <td>-1</td>\n",
       "      <td>-1.0</td>\n",
       "      <td>-1</td>\n",
       "      <td>-1</td>\n",
       "      <td>-1</td>\n",
       "      <td>-1</td>\n",
       "      <td>-1</td>\n",
       "      <td>-1</td>\n",
       "      <td>-1</td>\n",
       "      <td>-1</td>\n",
       "    </tr>\n",
       "    <tr>\n",
       "      <th>3</th>\n",
       "      <td>2987003</td>\n",
       "      <td>0</td>\n",
       "      <td>86499</td>\n",
       "      <td>50.00</td>\n",
       "      <td>W</td>\n",
       "      <td>18132</td>\n",
       "      <td>567.000000</td>\n",
       "      <td>150.0</td>\n",
       "      <td>mastercard</td>\n",
       "      <td>117.0</td>\n",
       "      <td>...</td>\n",
       "      <td>-1</td>\n",
       "      <td>-1.0</td>\n",
       "      <td>-1</td>\n",
       "      <td>-1</td>\n",
       "      <td>-1</td>\n",
       "      <td>-1</td>\n",
       "      <td>-1</td>\n",
       "      <td>-1</td>\n",
       "      <td>-1</td>\n",
       "      <td>-1</td>\n",
       "    </tr>\n",
       "    <tr>\n",
       "      <th>4</th>\n",
       "      <td>2987004</td>\n",
       "      <td>0</td>\n",
       "      <td>86506</td>\n",
       "      <td>50.00</td>\n",
       "      <td>H</td>\n",
       "      <td>4497</td>\n",
       "      <td>514.000000</td>\n",
       "      <td>150.0</td>\n",
       "      <td>mastercard</td>\n",
       "      <td>102.0</td>\n",
       "      <td>...</td>\n",
       "      <td>samsung browser 6.2</td>\n",
       "      <td>32.0</td>\n",
       "      <td>2220x1080</td>\n",
       "      <td>match_status:2</td>\n",
       "      <td>T</td>\n",
       "      <td>F</td>\n",
       "      <td>T</td>\n",
       "      <td>T</td>\n",
       "      <td>mobile</td>\n",
       "      <td>SAMSUNG SM-G892A Build/NRD90M</td>\n",
       "    </tr>\n",
       "    <tr>\n",
       "      <th>...</th>\n",
       "      <td>...</td>\n",
       "      <td>...</td>\n",
       "      <td>...</td>\n",
       "      <td>...</td>\n",
       "      <td>...</td>\n",
       "      <td>...</td>\n",
       "      <td>...</td>\n",
       "      <td>...</td>\n",
       "      <td>...</td>\n",
       "      <td>...</td>\n",
       "      <td>...</td>\n",
       "      <td>...</td>\n",
       "      <td>...</td>\n",
       "      <td>...</td>\n",
       "      <td>...</td>\n",
       "      <td>...</td>\n",
       "      <td>...</td>\n",
       "      <td>...</td>\n",
       "      <td>...</td>\n",
       "      <td>...</td>\n",
       "      <td>...</td>\n",
       "    </tr>\n",
       "    <tr>\n",
       "      <th>590535</th>\n",
       "      <td>3577535</td>\n",
       "      <td>0</td>\n",
       "      <td>15811047</td>\n",
       "      <td>49.00</td>\n",
       "      <td>W</td>\n",
       "      <td>6550</td>\n",
       "      <td>362.555488</td>\n",
       "      <td>150.0</td>\n",
       "      <td>visa</td>\n",
       "      <td>226.0</td>\n",
       "      <td>...</td>\n",
       "      <td>-1</td>\n",
       "      <td>-1.0</td>\n",
       "      <td>-1</td>\n",
       "      <td>-1</td>\n",
       "      <td>-1</td>\n",
       "      <td>-1</td>\n",
       "      <td>-1</td>\n",
       "      <td>-1</td>\n",
       "      <td>-1</td>\n",
       "      <td>-1</td>\n",
       "    </tr>\n",
       "    <tr>\n",
       "      <th>590536</th>\n",
       "      <td>3577536</td>\n",
       "      <td>0</td>\n",
       "      <td>15811049</td>\n",
       "      <td>39.50</td>\n",
       "      <td>W</td>\n",
       "      <td>10444</td>\n",
       "      <td>225.000000</td>\n",
       "      <td>150.0</td>\n",
       "      <td>mastercard</td>\n",
       "      <td>224.0</td>\n",
       "      <td>...</td>\n",
       "      <td>-1</td>\n",
       "      <td>-1.0</td>\n",
       "      <td>-1</td>\n",
       "      <td>-1</td>\n",
       "      <td>-1</td>\n",
       "      <td>-1</td>\n",
       "      <td>-1</td>\n",
       "      <td>-1</td>\n",
       "      <td>-1</td>\n",
       "      <td>-1</td>\n",
       "    </tr>\n",
       "    <tr>\n",
       "      <th>590537</th>\n",
       "      <td>3577537</td>\n",
       "      <td>0</td>\n",
       "      <td>15811079</td>\n",
       "      <td>30.95</td>\n",
       "      <td>W</td>\n",
       "      <td>12037</td>\n",
       "      <td>595.000000</td>\n",
       "      <td>150.0</td>\n",
       "      <td>mastercard</td>\n",
       "      <td>224.0</td>\n",
       "      <td>...</td>\n",
       "      <td>-1</td>\n",
       "      <td>-1.0</td>\n",
       "      <td>-1</td>\n",
       "      <td>-1</td>\n",
       "      <td>-1</td>\n",
       "      <td>-1</td>\n",
       "      <td>-1</td>\n",
       "      <td>-1</td>\n",
       "      <td>-1</td>\n",
       "      <td>-1</td>\n",
       "    </tr>\n",
       "    <tr>\n",
       "      <th>590538</th>\n",
       "      <td>3577538</td>\n",
       "      <td>0</td>\n",
       "      <td>15811088</td>\n",
       "      <td>117.00</td>\n",
       "      <td>W</td>\n",
       "      <td>7826</td>\n",
       "      <td>481.000000</td>\n",
       "      <td>150.0</td>\n",
       "      <td>mastercard</td>\n",
       "      <td>224.0</td>\n",
       "      <td>...</td>\n",
       "      <td>-1</td>\n",
       "      <td>-1.0</td>\n",
       "      <td>-1</td>\n",
       "      <td>-1</td>\n",
       "      <td>-1</td>\n",
       "      <td>-1</td>\n",
       "      <td>-1</td>\n",
       "      <td>-1</td>\n",
       "      <td>-1</td>\n",
       "      <td>-1</td>\n",
       "    </tr>\n",
       "    <tr>\n",
       "      <th>590539</th>\n",
       "      <td>3577539</td>\n",
       "      <td>0</td>\n",
       "      <td>15811131</td>\n",
       "      <td>279.95</td>\n",
       "      <td>W</td>\n",
       "      <td>15066</td>\n",
       "      <td>170.000000</td>\n",
       "      <td>150.0</td>\n",
       "      <td>mastercard</td>\n",
       "      <td>102.0</td>\n",
       "      <td>...</td>\n",
       "      <td>-1</td>\n",
       "      <td>-1.0</td>\n",
       "      <td>-1</td>\n",
       "      <td>-1</td>\n",
       "      <td>-1</td>\n",
       "      <td>-1</td>\n",
       "      <td>-1</td>\n",
       "      <td>-1</td>\n",
       "      <td>-1</td>\n",
       "      <td>-1</td>\n",
       "    </tr>\n",
       "  </tbody>\n",
       "</table>\n",
       "<p>554118 rows × 434 columns</p>\n",
       "</div>"
      ],
      "text/plain": [
       "        TransactionID  isFraud  TransactionDT  TransactionAmt ProductCD  \\\n",
       "0             2987000        0          86400           68.50         W   \n",
       "1             2987001        0          86401           29.00         W   \n",
       "2             2987002        0          86469           59.00         W   \n",
       "3             2987003        0          86499           50.00         W   \n",
       "4             2987004        0          86506           50.00         H   \n",
       "...               ...      ...            ...             ...       ...   \n",
       "590535        3577535        0       15811047           49.00         W   \n",
       "590536        3577536        0       15811049           39.50         W   \n",
       "590537        3577537        0       15811079           30.95         W   \n",
       "590538        3577538        0       15811088          117.00         W   \n",
       "590539        3577539        0       15811131          279.95         W   \n",
       "\n",
       "        card1       card2  card3       card4  card5  ...                id_31  \\\n",
       "0       13926  362.555488  150.0    discover  142.0  ...                   -1   \n",
       "1        2755  404.000000  150.0  mastercard  102.0  ...                   -1   \n",
       "2        4663  490.000000  150.0        visa  166.0  ...                   -1   \n",
       "3       18132  567.000000  150.0  mastercard  117.0  ...                   -1   \n",
       "4        4497  514.000000  150.0  mastercard  102.0  ...  samsung browser 6.2   \n",
       "...       ...         ...    ...         ...    ...  ...                  ...   \n",
       "590535   6550  362.555488  150.0        visa  226.0  ...                   -1   \n",
       "590536  10444  225.000000  150.0  mastercard  224.0  ...                   -1   \n",
       "590537  12037  595.000000  150.0  mastercard  224.0  ...                   -1   \n",
       "590538   7826  481.000000  150.0  mastercard  224.0  ...                   -1   \n",
       "590539  15066  170.000000  150.0  mastercard  102.0  ...                   -1   \n",
       "\n",
       "        id_32      id_33           id_34  id_35 id_36 id_37  id_38  \\\n",
       "0        -1.0         -1              -1     -1    -1    -1     -1   \n",
       "1        -1.0         -1              -1     -1    -1    -1     -1   \n",
       "2        -1.0         -1              -1     -1    -1    -1     -1   \n",
       "3        -1.0         -1              -1     -1    -1    -1     -1   \n",
       "4        32.0  2220x1080  match_status:2      T     F     T      T   \n",
       "...       ...        ...             ...    ...   ...   ...    ...   \n",
       "590535   -1.0         -1              -1     -1    -1    -1     -1   \n",
       "590536   -1.0         -1              -1     -1    -1    -1     -1   \n",
       "590537   -1.0         -1              -1     -1    -1    -1     -1   \n",
       "590538   -1.0         -1              -1     -1    -1    -1     -1   \n",
       "590539   -1.0         -1              -1     -1    -1    -1     -1   \n",
       "\n",
       "        DeviceType                     DeviceInfo  \n",
       "0               -1                             -1  \n",
       "1               -1                             -1  \n",
       "2               -1                             -1  \n",
       "3               -1                             -1  \n",
       "4           mobile  SAMSUNG SM-G892A Build/NRD90M  \n",
       "...            ...                            ...  \n",
       "590535          -1                             -1  \n",
       "590536          -1                             -1  \n",
       "590537          -1                             -1  \n",
       "590538          -1                             -1  \n",
       "590539          -1                             -1  \n",
       "\n",
       "[554118 rows x 434 columns]"
      ]
     },
     "execution_count": 53,
     "metadata": {},
     "output_type": "execute_result"
    }
   ],
   "source": [
    "train_df"
   ]
  },
  {
   "cell_type": "markdown",
   "id": "16a0e244",
   "metadata": {
    "papermill": {
     "duration": 0.027919,
     "end_time": "2023-11-09T18:22:04.486323",
     "exception": false,
     "start_time": "2023-11-09T18:22:04.458404",
     "status": "completed"
    },
    "tags": []
   },
   "source": [
    "Построим ещё раз гистограмму распределения поля ```TransactionAmt```"
   ]
  },
  {
   "cell_type": "code",
   "execution_count": 54,
   "id": "9b57fa73",
   "metadata": {
    "execution": {
     "iopub.execute_input": "2023-11-09T18:22:04.543988Z",
     "iopub.status.busy": "2023-11-09T18:22:04.543617Z",
     "iopub.status.idle": "2023-11-09T18:22:04.763457Z",
     "shell.execute_reply": "2023-11-09T18:22:04.762594Z"
    },
    "papermill": {
     "duration": 0.250789,
     "end_time": "2023-11-09T18:22:04.765145",
     "exception": false,
     "start_time": "2023-11-09T18:22:04.514356",
     "status": "completed"
    },
    "tags": []
   },
   "outputs": [
    {
     "data": {
      "image/png": "[encoded data removed]",
      "text/plain": [
       "<Figure size 800x800 with 1 Axes>"
      ]
     },
     "metadata": {},
     "output_type": "display_data"
    }
   ],
   "source": [
    "plt_hist(train_df, 'TransactionAmt', bins=20)"
   ]
  },
  {
   "cell_type": "markdown",
   "id": "b8fbb4b1",
   "metadata": {
    "papermill": {
     "duration": 0.028295,
     "end_time": "2023-11-09T18:22:04.822874",
     "exception": false,
     "start_time": "2023-11-09T18:22:04.794579",
     "status": "completed"
    },
    "tags": []
   },
   "source": [
    "Также ещё раз построим ```boxplot```, чтобы убедиться в отсутствии выбросов"
   ]
  },
  {
   "cell_type": "code",
   "execution_count": 55,
   "id": "269f36fe",
   "metadata": {
    "execution": {
     "iopub.execute_input": "2023-11-09T18:22:04.881011Z",
     "iopub.status.busy": "2023-11-09T18:22:04.880700Z",
     "iopub.status.idle": "2023-11-09T18:22:05.079256Z",
     "shell.execute_reply": "2023-11-09T18:22:05.078403Z"
    },
    "papermill": {
     "duration": 0.229657,
     "end_time": "2023-11-09T18:22:05.080925",
     "exception": false,
     "start_time": "2023-11-09T18:22:04.851268",
     "status": "completed"
    },
    "tags": []
   },
   "outputs": [
    {
     "data": {
      "image/png": "[encoded data removed]",
      "text/plain": [
       "<Figure size 1000x300 with 1 Axes>"
      ]
     },
     "metadata": {},
     "output_type": "display_data"
    }
   ],
   "source": [
    "plt_boxplot(train_df, 'TransactionAmt')"
   ]
  },
  {
   "cell_type": "markdown",
   "id": "42fc5d1b",
   "metadata": {
    "papermill": {
     "duration": 0.028526,
     "end_time": "2023-11-09T18:22:05.138566",
     "exception": false,
     "start_time": "2023-11-09T18:22:05.110040",
     "status": "completed"
    },
    "tags": []
   },
   "source": [
    "Посмотрим на распределение ```TransactionAmt``` на **тестовом датасете**:"
   ]
  },
  {
   "cell_type": "code",
   "execution_count": 56,
   "id": "907c31d0",
   "metadata": {
    "execution": {
     "iopub.execute_input": "2023-11-09T18:22:05.197860Z",
     "iopub.status.busy": "2023-11-09T18:22:05.197533Z",
     "iopub.status.idle": "2023-11-09T18:22:05.538823Z",
     "shell.execute_reply": "2023-11-09T18:22:05.538192Z"
    },
    "papermill": {
     "duration": 0.372838,
     "end_time": "2023-11-09T18:22:05.540255",
     "exception": false,
     "start_time": "2023-11-09T18:22:05.167417",
     "status": "completed"
    },
    "tags": []
   },
   "outputs": [
    {
     "data": {
      "image/png": "[encoded data removed]",
      "text/plain": [
       "<Figure size 800x800 with 1 Axes>"
      ]
     },
     "metadata": {},
     "output_type": "display_data"
    }
   ],
   "source": [
    "plt_hist(test_df, 'TransactionAmt')"
   ]
  },
  {
   "cell_type": "code",
   "execution_count": 57,
   "id": "79786b5e",
   "metadata": {
    "execution": {
     "iopub.execute_input": "2023-11-09T18:22:05.600454Z",
     "iopub.status.busy": "2023-11-09T18:22:05.599999Z",
     "iopub.status.idle": "2023-11-09T18:22:05.825776Z",
     "shell.execute_reply": "2023-11-09T18:22:05.825054Z"
    },
    "papermill": {
     "duration": 0.257592,
     "end_time": "2023-11-09T18:22:05.827429",
     "exception": false,
     "start_time": "2023-11-09T18:22:05.569837",
     "status": "completed"
    },
    "tags": []
   },
   "outputs": [
    {
     "data": {
      "image/png": "[encoded data removed]",
      "text/plain": [
       "<Figure size 1000x300 with 1 Axes>"
      ]
     },
     "metadata": {},
     "output_type": "display_data"
    }
   ],
   "source": [
    "plt_boxplot(test_df, 'TransactionAmt')"
   ]
  },
  {
   "cell_type": "markdown",
   "id": "e04a810a",
   "metadata": {
    "papermill": {
     "duration": 0.028821,
     "end_time": "2023-11-09T18:22:05.885914",
     "exception": false,
     "start_time": "2023-11-09T18:22:05.857093",
     "status": "completed"
    },
    "tags": []
   },
   "source": [
    "Аналогично очистим тестовый датасет от выбросов признака ```TransactionAMT```"
   ]
  },
  {
   "cell_type": "code",
   "execution_count": 58,
   "id": "f9a3466f",
   "metadata": {
    "execution": {
     "iopub.execute_input": "2023-11-09T18:22:05.946317Z",
     "iopub.status.busy": "2023-11-09T18:22:05.945845Z",
     "iopub.status.idle": "2023-11-09T18:22:06.883272Z",
     "shell.execute_reply": "2023-11-09T18:22:06.882690Z"
    },
    "papermill": {
     "duration": 0.969775,
     "end_time": "2023-11-09T18:22:06.884856",
     "exception": false,
     "start_time": "2023-11-09T18:22:05.915081",
     "status": "completed"
    },
    "tags": []
   },
   "outputs": [
    {
     "data": {
      "text/plain": [
       "(476384, 433)"
      ]
     },
     "execution_count": 58,
     "metadata": {},
     "output_type": "execute_result"
    }
   ],
   "source": [
    "test_df = data_without_feat_emsns(test_df, 'TransactionAmt')\n",
    "test_df.shape"
   ]
  },
  {
   "cell_type": "markdown",
   "id": "472e54ae",
   "metadata": {
    "papermill": {
     "duration": 0.032505,
     "end_time": "2023-11-09T18:22:06.948253",
     "exception": false,
     "start_time": "2023-11-09T18:22:06.915748",
     "status": "completed"
    },
    "tags": []
   },
   "source": [
    "Построим гистограмму распределения и диаграмму размаха платежей для тестового датасета после очистки данных от выбросов"
   ]
  },
  {
   "cell_type": "code",
   "execution_count": 59,
   "id": "935cb8f2",
   "metadata": {
    "execution": {
     "iopub.execute_input": "2023-11-09T18:22:07.009565Z",
     "iopub.status.busy": "2023-11-09T18:22:07.009255Z",
     "iopub.status.idle": "2023-11-09T18:22:07.246979Z",
     "shell.execute_reply": "2023-11-09T18:22:07.245919Z"
    },
    "papermill": {
     "duration": 0.269922,
     "end_time": "2023-11-09T18:22:07.248629",
     "exception": false,
     "start_time": "2023-11-09T18:22:06.978707",
     "status": "completed"
    },
    "tags": []
   },
   "outputs": [
    {
     "data": {
      "image/png": "[encoded data removed]",
      "text/plain": [
       "<Figure size 800x800 with 1 Axes>"
      ]
     },
     "metadata": {},
     "output_type": "display_data"
    }
   ],
   "source": [
    "plt_hist(test_df, 'TransactionAmt', bins=20)"
   ]
  },
  {
   "cell_type": "code",
   "execution_count": 60,
   "id": "302cfe9c",
   "metadata": {
    "execution": {
     "iopub.execute_input": "2023-11-09T18:22:07.311786Z",
     "iopub.status.busy": "2023-11-09T18:22:07.311444Z",
     "iopub.status.idle": "2023-11-09T18:22:07.503119Z",
     "shell.execute_reply": "2023-11-09T18:22:07.502260Z"
    },
    "papermill": {
     "duration": 0.224494,
     "end_time": "2023-11-09T18:22:07.504609",
     "exception": false,
     "start_time": "2023-11-09T18:22:07.280115",
     "status": "completed"
    },
    "tags": []
   },
   "outputs": [
    {
     "data": {
      "image/png": "[encoded data removed]",
      "text/plain": [
       "<Figure size 1000x300 with 1 Axes>"
      ]
     },
     "metadata": {},
     "output_type": "display_data"
    }
   ],
   "source": [
    "plt_boxplot(test_df, 'TransactionAmt')"
   ]
  },
  {
   "cell_type": "markdown",
   "id": "6fa0f3f4",
   "metadata": {
    "papermill": {
     "duration": 0.029439,
     "end_time": "2023-11-09T18:22:07.564639",
     "exception": false,
     "start_time": "2023-11-09T18:22:07.535200",
     "status": "completed"
    },
    "tags": []
   },
   "source": [
    "Используя ```Label Encoder``` преорабразуем категориальные признаки в числа в тренировочном и тестовом датасетах"
   ]
  },
  {
   "cell_type": "code",
   "execution_count": 61,
   "id": "82fbc44a",
   "metadata": {
    "execution": {
     "iopub.execute_input": "2023-11-09T18:22:07.625425Z",
     "iopub.status.busy": "2023-11-09T18:22:07.625106Z",
     "iopub.status.idle": "2023-11-09T18:22:24.214231Z",
     "shell.execute_reply": "2023-11-09T18:22:24.213328Z"
    },
    "papermill": {
     "duration": 16.622114,
     "end_time": "2023-11-09T18:22:24.216374",
     "exception": false,
     "start_time": "2023-11-09T18:22:07.594260",
     "status": "completed"
    },
    "tags": []
   },
   "outputs": [],
   "source": [
    "for f in train_df.columns:\n",
    "    if train_df.loc[:, f].dtype=='object':\n",
    "        le = LabelEncoder()\n",
    "        le.fit(list(train_df.loc[:, f].values))\n",
    "        train_df.loc[:, f] = le.transform(list(train_df.loc[:, f].values))"
   ]
  },
  {
   "cell_type": "code",
   "execution_count": 62,
   "id": "3aaba1ef",
   "metadata": {
    "execution": {
     "iopub.execute_input": "2023-11-09T18:22:24.279348Z",
     "iopub.status.busy": "2023-11-09T18:22:24.279089Z",
     "iopub.status.idle": "2023-11-09T18:22:38.379763Z",
     "shell.execute_reply": "2023-11-09T18:22:38.379055Z"
    },
    "papermill": {
     "duration": 14.134026,
     "end_time": "2023-11-09T18:22:38.381588",
     "exception": false,
     "start_time": "2023-11-09T18:22:24.247562",
     "status": "completed"
    },
    "tags": []
   },
   "outputs": [],
   "source": [
    "for f in test_df.columns:\n",
    "    if test_df.loc[:, f].dtype=='object':\n",
    "        le = LabelEncoder()\n",
    "        le.fit(list(test_df.loc[:, f].values))\n",
    "        test_df.loc[:, f] = le.transform(list(test_df.loc[:, f].values))"
   ]
  },
  {
   "cell_type": "markdown",
   "id": "8faf245f",
   "metadata": {
    "papermill": {
     "duration": 0.030047,
     "end_time": "2023-11-09T18:22:38.442676",
     "exception": false,
     "start_time": "2023-11-09T18:22:38.412629",
     "status": "completed"
    },
    "tags": []
   },
   "source": [
    "Посмотрим на категориальные признаки в датасетах после преобразований"
   ]
  },
  {
   "cell_type": "code",
   "execution_count": 63,
   "id": "27b337a8",
   "metadata": {
    "execution": {
     "iopub.execute_input": "2023-11-09T18:22:38.505205Z",
     "iopub.status.busy": "2023-11-09T18:22:38.504451Z",
     "iopub.status.idle": "2023-11-09T18:22:38.575442Z",
     "shell.execute_reply": "2023-11-09T18:22:38.574697Z"
    },
    "papermill": {
     "duration": 0.103436,
     "end_time": "2023-11-09T18:22:38.577041",
     "exception": false,
     "start_time": "2023-11-09T18:22:38.473605",
     "status": "completed"
    },
    "tags": []
   },
   "outputs": [
    {
     "data": {
      "text/html": [
       "<div>\n",
       "<style scoped>\n",
       "    .dataframe tbody tr th:only-of-type {\n",
       "        vertical-align: middle;\n",
       "    }\n",
       "\n",
       "    .dataframe tbody tr th {\n",
       "        vertical-align: top;\n",
       "    }\n",
       "\n",
       "    .dataframe thead th {\n",
       "        text-align: right;\n",
       "    }\n",
       "</style>\n",
       "<table border=\"1\" class=\"dataframe\">\n",
       "  <thead>\n",
       "    <tr style=\"text-align: right;\">\n",
       "      <th></th>\n",
       "      <th>ProductCD</th>\n",
       "      <th>card4</th>\n",
       "      <th>card6</th>\n",
       "      <th>P_emaildomain</th>\n",
       "      <th>M1</th>\n",
       "      <th>M2</th>\n",
       "      <th>M3</th>\n",
       "      <th>M4</th>\n",
       "      <th>M6</th>\n",
       "    </tr>\n",
       "  </thead>\n",
       "  <tbody>\n",
       "    <tr>\n",
       "      <th>0</th>\n",
       "      <td>4</td>\n",
       "      <td>2</td>\n",
       "      <td>2</td>\n",
       "      <td>0</td>\n",
       "      <td>2</td>\n",
       "      <td>2</td>\n",
       "      <td>2</td>\n",
       "      <td>3</td>\n",
       "      <td>2</td>\n",
       "    </tr>\n",
       "    <tr>\n",
       "      <th>1</th>\n",
       "      <td>4</td>\n",
       "      <td>3</td>\n",
       "      <td>2</td>\n",
       "      <td>17</td>\n",
       "      <td>0</td>\n",
       "      <td>0</td>\n",
       "      <td>0</td>\n",
       "      <td>1</td>\n",
       "      <td>2</td>\n",
       "    </tr>\n",
       "    <tr>\n",
       "      <th>2</th>\n",
       "      <td>4</td>\n",
       "      <td>4</td>\n",
       "      <td>3</td>\n",
       "      <td>36</td>\n",
       "      <td>2</td>\n",
       "      <td>2</td>\n",
       "      <td>2</td>\n",
       "      <td>1</td>\n",
       "      <td>1</td>\n",
       "    </tr>\n",
       "    <tr>\n",
       "      <th>3</th>\n",
       "      <td>4</td>\n",
       "      <td>3</td>\n",
       "      <td>3</td>\n",
       "      <td>54</td>\n",
       "      <td>0</td>\n",
       "      <td>0</td>\n",
       "      <td>0</td>\n",
       "      <td>1</td>\n",
       "      <td>1</td>\n",
       "    </tr>\n",
       "    <tr>\n",
       "      <th>4</th>\n",
       "      <td>1</td>\n",
       "      <td>3</td>\n",
       "      <td>2</td>\n",
       "      <td>17</td>\n",
       "      <td>0</td>\n",
       "      <td>0</td>\n",
       "      <td>0</td>\n",
       "      <td>0</td>\n",
       "      <td>0</td>\n",
       "    </tr>\n",
       "    <tr>\n",
       "      <th>...</th>\n",
       "      <td>...</td>\n",
       "      <td>...</td>\n",
       "      <td>...</td>\n",
       "      <td>...</td>\n",
       "      <td>...</td>\n",
       "      <td>...</td>\n",
       "      <td>...</td>\n",
       "      <td>...</td>\n",
       "      <td>...</td>\n",
       "    </tr>\n",
       "    <tr>\n",
       "      <th>590535</th>\n",
       "      <td>4</td>\n",
       "      <td>4</td>\n",
       "      <td>3</td>\n",
       "      <td>0</td>\n",
       "      <td>2</td>\n",
       "      <td>2</td>\n",
       "      <td>2</td>\n",
       "      <td>1</td>\n",
       "      <td>1</td>\n",
       "    </tr>\n",
       "    <tr>\n",
       "      <th>590536</th>\n",
       "      <td>4</td>\n",
       "      <td>3</td>\n",
       "      <td>3</td>\n",
       "      <td>17</td>\n",
       "      <td>2</td>\n",
       "      <td>1</td>\n",
       "      <td>1</td>\n",
       "      <td>1</td>\n",
       "      <td>2</td>\n",
       "    </tr>\n",
       "    <tr>\n",
       "      <th>590537</th>\n",
       "      <td>4</td>\n",
       "      <td>3</td>\n",
       "      <td>3</td>\n",
       "      <td>17</td>\n",
       "      <td>2</td>\n",
       "      <td>1</td>\n",
       "      <td>1</td>\n",
       "      <td>0</td>\n",
       "      <td>2</td>\n",
       "    </tr>\n",
       "    <tr>\n",
       "      <th>590538</th>\n",
       "      <td>4</td>\n",
       "      <td>3</td>\n",
       "      <td>3</td>\n",
       "      <td>3</td>\n",
       "      <td>2</td>\n",
       "      <td>2</td>\n",
       "      <td>2</td>\n",
       "      <td>1</td>\n",
       "      <td>2</td>\n",
       "    </tr>\n",
       "    <tr>\n",
       "      <th>590539</th>\n",
       "      <td>4</td>\n",
       "      <td>3</td>\n",
       "      <td>2</td>\n",
       "      <td>17</td>\n",
       "      <td>2</td>\n",
       "      <td>1</td>\n",
       "      <td>1</td>\n",
       "      <td>0</td>\n",
       "      <td>2</td>\n",
       "    </tr>\n",
       "  </tbody>\n",
       "</table>\n",
       "<p>554118 rows × 9 columns</p>\n",
       "</div>"
      ],
      "text/plain": [
       "       ProductCD card4 card6 P_emaildomain M1 M2 M3 M4 M6\n",
       "0              4     2     2             0  2  2  2  3  2\n",
       "1              4     3     2            17  0  0  0  1  2\n",
       "2              4     4     3            36  2  2  2  1  1\n",
       "3              4     3     3            54  0  0  0  1  1\n",
       "4              1     3     2            17  0  0  0  0  0\n",
       "...          ...   ...   ...           ... .. .. .. .. ..\n",
       "590535         4     4     3             0  2  2  2  1  1\n",
       "590536         4     3     3            17  2  1  1  1  2\n",
       "590537         4     3     3            17  2  1  1  0  2\n",
       "590538         4     3     3             3  2  2  2  1  2\n",
       "590539         4     3     2            17  2  1  1  0  2\n",
       "\n",
       "[554118 rows x 9 columns]"
      ]
     },
     "execution_count": 63,
     "metadata": {},
     "output_type": "execute_result"
    }
   ],
   "source": [
    "train_df[cat_features]"
   ]
  },
  {
   "cell_type": "code",
   "execution_count": 64,
   "id": "fcd5550f",
   "metadata": {
    "execution": {
     "iopub.execute_input": "2023-11-09T18:22:38.639016Z",
     "iopub.status.busy": "2023-11-09T18:22:38.638728Z",
     "iopub.status.idle": "2023-11-09T18:22:38.701325Z",
     "shell.execute_reply": "2023-11-09T18:22:38.700561Z"
    },
    "papermill": {
     "duration": 0.095815,
     "end_time": "2023-11-09T18:22:38.703426",
     "exception": false,
     "start_time": "2023-11-09T18:22:38.607611",
     "status": "completed"
    },
    "tags": []
   },
   "outputs": [
    {
     "data": {
      "text/html": [
       "<div>\n",
       "<style scoped>\n",
       "    .dataframe tbody tr th:only-of-type {\n",
       "        vertical-align: middle;\n",
       "    }\n",
       "\n",
       "    .dataframe tbody tr th {\n",
       "        vertical-align: top;\n",
       "    }\n",
       "\n",
       "    .dataframe thead th {\n",
       "        text-align: right;\n",
       "    }\n",
       "</style>\n",
       "<table border=\"1\" class=\"dataframe\">\n",
       "  <thead>\n",
       "    <tr style=\"text-align: right;\">\n",
       "      <th></th>\n",
       "      <th>ProductCD</th>\n",
       "      <th>card4</th>\n",
       "      <th>card6</th>\n",
       "      <th>P_emaildomain</th>\n",
       "      <th>M1</th>\n",
       "      <th>M2</th>\n",
       "      <th>M3</th>\n",
       "      <th>M4</th>\n",
       "      <th>M6</th>\n",
       "    </tr>\n",
       "  </thead>\n",
       "  <tbody>\n",
       "    <tr>\n",
       "      <th>0</th>\n",
       "      <td>4</td>\n",
       "      <td>4</td>\n",
       "      <td>3</td>\n",
       "      <td>17</td>\n",
       "      <td>2</td>\n",
       "      <td>2</td>\n",
       "      <td>1</td>\n",
       "      <td>0</td>\n",
       "      <td>1</td>\n",
       "    </tr>\n",
       "    <tr>\n",
       "      <th>1</th>\n",
       "      <td>4</td>\n",
       "      <td>4</td>\n",
       "      <td>3</td>\n",
       "      <td>3</td>\n",
       "      <td>2</td>\n",
       "      <td>1</td>\n",
       "      <td>1</td>\n",
       "      <td>1</td>\n",
       "      <td>1</td>\n",
       "    </tr>\n",
       "    <tr>\n",
       "      <th>2</th>\n",
       "      <td>4</td>\n",
       "      <td>4</td>\n",
       "      <td>3</td>\n",
       "      <td>20</td>\n",
       "      <td>2</td>\n",
       "      <td>2</td>\n",
       "      <td>1</td>\n",
       "      <td>1</td>\n",
       "      <td>1</td>\n",
       "    </tr>\n",
       "    <tr>\n",
       "      <th>3</th>\n",
       "      <td>4</td>\n",
       "      <td>4</td>\n",
       "      <td>3</td>\n",
       "      <td>17</td>\n",
       "      <td>2</td>\n",
       "      <td>2</td>\n",
       "      <td>2</td>\n",
       "      <td>0</td>\n",
       "      <td>2</td>\n",
       "    </tr>\n",
       "    <tr>\n",
       "      <th>4</th>\n",
       "      <td>4</td>\n",
       "      <td>3</td>\n",
       "      <td>3</td>\n",
       "      <td>17</td>\n",
       "      <td>2</td>\n",
       "      <td>2</td>\n",
       "      <td>2</td>\n",
       "      <td>0</td>\n",
       "      <td>1</td>\n",
       "    </tr>\n",
       "    <tr>\n",
       "      <th>...</th>\n",
       "      <td>...</td>\n",
       "      <td>...</td>\n",
       "      <td>...</td>\n",
       "      <td>...</td>\n",
       "      <td>...</td>\n",
       "      <td>...</td>\n",
       "      <td>...</td>\n",
       "      <td>...</td>\n",
       "      <td>...</td>\n",
       "    </tr>\n",
       "    <tr>\n",
       "      <th>506686</th>\n",
       "      <td>0</td>\n",
       "      <td>3</td>\n",
       "      <td>3</td>\n",
       "      <td>17</td>\n",
       "      <td>0</td>\n",
       "      <td>0</td>\n",
       "      <td>0</td>\n",
       "      <td>3</td>\n",
       "      <td>0</td>\n",
       "    </tr>\n",
       "    <tr>\n",
       "      <th>506687</th>\n",
       "      <td>0</td>\n",
       "      <td>3</td>\n",
       "      <td>3</td>\n",
       "      <td>20</td>\n",
       "      <td>0</td>\n",
       "      <td>0</td>\n",
       "      <td>0</td>\n",
       "      <td>3</td>\n",
       "      <td>0</td>\n",
       "    </tr>\n",
       "    <tr>\n",
       "      <th>506688</th>\n",
       "      <td>4</td>\n",
       "      <td>4</td>\n",
       "      <td>3</td>\n",
       "      <td>20</td>\n",
       "      <td>2</td>\n",
       "      <td>2</td>\n",
       "      <td>2</td>\n",
       "      <td>1</td>\n",
       "      <td>1</td>\n",
       "    </tr>\n",
       "    <tr>\n",
       "      <th>506689</th>\n",
       "      <td>4</td>\n",
       "      <td>3</td>\n",
       "      <td>3</td>\n",
       "      <td>20</td>\n",
       "      <td>2</td>\n",
       "      <td>2</td>\n",
       "      <td>2</td>\n",
       "      <td>1</td>\n",
       "      <td>1</td>\n",
       "    </tr>\n",
       "    <tr>\n",
       "      <th>506690</th>\n",
       "      <td>0</td>\n",
       "      <td>4</td>\n",
       "      <td>2</td>\n",
       "      <td>20</td>\n",
       "      <td>0</td>\n",
       "      <td>0</td>\n",
       "      <td>0</td>\n",
       "      <td>3</td>\n",
       "      <td>0</td>\n",
       "    </tr>\n",
       "  </tbody>\n",
       "</table>\n",
       "<p>476384 rows × 9 columns</p>\n",
       "</div>"
      ],
      "text/plain": [
       "       ProductCD card4 card6 P_emaildomain M1 M2 M3 M4 M6\n",
       "0              4     4     3            17  2  2  1  0  1\n",
       "1              4     4     3             3  2  1  1  1  1\n",
       "2              4     4     3            20  2  2  1  1  1\n",
       "3              4     4     3            17  2  2  2  0  2\n",
       "4              4     3     3            17  2  2  2  0  1\n",
       "...          ...   ...   ...           ... .. .. .. .. ..\n",
       "506686         0     3     3            17  0  0  0  3  0\n",
       "506687         0     3     3            20  0  0  0  3  0\n",
       "506688         4     4     3            20  2  2  2  1  1\n",
       "506689         4     3     3            20  2  2  2  1  1\n",
       "506690         0     4     2            20  0  0  0  3  0\n",
       "\n",
       "[476384 rows x 9 columns]"
      ]
     },
     "execution_count": 64,
     "metadata": {},
     "output_type": "execute_result"
    }
   ],
   "source": [
    "test_df[cat_features]"
   ]
  },
  {
   "cell_type": "markdown",
   "id": "d57c9fd9",
   "metadata": {
    "papermill": {
     "duration": 0.030242,
     "end_time": "2023-11-09T18:22:38.764823",
     "exception": false,
     "start_time": "2023-11-09T18:22:38.734581",
     "status": "completed"
    },
    "tags": []
   },
   "source": [
    "Ещё раз посмотрим на информацию по данным"
   ]
  },
  {
   "cell_type": "code",
   "execution_count": 65,
   "id": "d88501f3",
   "metadata": {
    "execution": {
     "iopub.execute_input": "2023-11-09T18:22:38.826318Z",
     "iopub.status.busy": "2023-11-09T18:22:38.825815Z",
     "iopub.status.idle": "2023-11-09T18:22:38.844795Z",
     "shell.execute_reply": "2023-11-09T18:22:38.843983Z"
    },
    "papermill": {
     "duration": 0.051346,
     "end_time": "2023-11-09T18:22:38.846229",
     "exception": false,
     "start_time": "2023-11-09T18:22:38.794883",
     "status": "completed"
    },
    "tags": []
   },
   "outputs": [
    {
     "name": "stdout",
     "output_type": "stream",
     "text": [
      "<class 'pandas.core.frame.DataFrame'>\n",
      "Index: 554118 entries, 0 to 590539\n",
      "Columns: 434 entries, TransactionID to DeviceInfo\n",
      "dtypes: float64(399), int64(4), object(31)\n",
      "memory usage: 1.8+ GB\n"
     ]
    }
   ],
   "source": [
    "train_df.info()"
   ]
  },
  {
   "cell_type": "markdown",
   "id": "313a5852",
   "metadata": {
    "papermill": {
     "duration": 0.029733,
     "end_time": "2023-11-09T18:22:38.906639",
     "exception": false,
     "start_time": "2023-11-09T18:22:38.876906",
     "status": "completed"
    },
    "tags": []
   },
   "source": [
    "В данных имеются значения типа ```object```. Данный тип не подходит для обучения модели. Преобразуем его в тип ```int```, т.к. мы уже выполнили преобразование категориальных признаков в числовые"
   ]
  },
  {
   "cell_type": "code",
   "execution_count": 66,
   "id": "68de38a6",
   "metadata": {
    "execution": {
     "iopub.execute_input": "2023-11-09T18:22:38.969914Z",
     "iopub.status.busy": "2023-11-09T18:22:38.969434Z",
     "iopub.status.idle": "2023-11-09T18:22:40.209704Z",
     "shell.execute_reply": "2023-11-09T18:22:40.208757Z"
    },
    "papermill": {
     "duration": 1.274565,
     "end_time": "2023-11-09T18:22:40.211487",
     "exception": false,
     "start_time": "2023-11-09T18:22:38.936922",
     "status": "completed"
    },
    "tags": []
   },
   "outputs": [
    {
     "name": "stderr",
     "output_type": "stream",
     "text": [
      "/tmp/ipykernel_20/4197225427.py:5: SettingWithCopyWarning: \n",
      "A value is trying to be set on a copy of a slice from a DataFrame.\n",
      "Try using .loc[row_indexer,col_indexer] = value instead\n",
      "\n",
      "See the caveats in the documentation: https://pandas.pydata.org/pandas-docs/stable/user_guide/indexing.html#returning-a-view-versus-a-copy\n",
      "  train_df[convert_object_train_data.columns] = convert_object_train_data\n"
     ]
    }
   ],
   "source": [
    "object_train_data = train_df.select_dtypes(include=['object'])\n",
    "convert_object_train_data = object_train_data.apply(\n",
    "    pd.to_numeric, downcast='unsigned')\n",
    "\n",
    "train_df[convert_object_train_data.columns] = convert_object_train_data\n"
   ]
  },
  {
   "cell_type": "code",
   "execution_count": 67,
   "id": "08c04347",
   "metadata": {
    "execution": {
     "iopub.execute_input": "2023-11-09T18:22:40.274797Z",
     "iopub.status.busy": "2023-11-09T18:22:40.274146Z",
     "iopub.status.idle": "2023-11-09T18:22:40.296244Z",
     "shell.execute_reply": "2023-11-09T18:22:40.295427Z"
    },
    "papermill": {
     "duration": 0.055149,
     "end_time": "2023-11-09T18:22:40.297847",
     "exception": false,
     "start_time": "2023-11-09T18:22:40.242698",
     "status": "completed"
    },
    "tags": []
   },
   "outputs": [
    {
     "name": "stdout",
     "output_type": "stream",
     "text": [
      "<class 'pandas.core.frame.DataFrame'>\n",
      "Index: 554118 entries, 0 to 590539\n",
      "Columns: 434 entries, TransactionID to DeviceInfo\n",
      "dtypes: float64(399), int64(4), uint16(1), uint8(30)\n",
      "memory usage: 1.7 GB\n"
     ]
    }
   ],
   "source": [
    "train_df.info()"
   ]
  },
  {
   "cell_type": "code",
   "execution_count": 68,
   "id": "2b61d8a0",
   "metadata": {
    "execution": {
     "iopub.execute_input": "2023-11-09T18:22:40.360802Z",
     "iopub.status.busy": "2023-11-09T18:22:40.360499Z",
     "iopub.status.idle": "2023-11-09T18:22:40.477378Z",
     "shell.execute_reply": "2023-11-09T18:22:40.476778Z"
    },
    "papermill": {
     "duration": 0.149998,
     "end_time": "2023-11-09T18:22:40.478855",
     "exception": false,
     "start_time": "2023-11-09T18:22:40.328857",
     "status": "completed"
    },
    "tags": []
   },
   "outputs": [
    {
     "data": {
      "text/html": [
       "<div>\n",
       "<style scoped>\n",
       "    .dataframe tbody tr th:only-of-type {\n",
       "        vertical-align: middle;\n",
       "    }\n",
       "\n",
       "    .dataframe tbody tr th {\n",
       "        vertical-align: top;\n",
       "    }\n",
       "\n",
       "    .dataframe thead th {\n",
       "        text-align: right;\n",
       "    }\n",
       "</style>\n",
       "<table border=\"1\" class=\"dataframe\">\n",
       "  <thead>\n",
       "    <tr style=\"text-align: right;\">\n",
       "      <th></th>\n",
       "      <th>TransactionID</th>\n",
       "      <th>isFraud</th>\n",
       "      <th>TransactionDT</th>\n",
       "      <th>TransactionAmt</th>\n",
       "      <th>ProductCD</th>\n",
       "      <th>card1</th>\n",
       "      <th>card2</th>\n",
       "      <th>card3</th>\n",
       "      <th>card4</th>\n",
       "      <th>card5</th>\n",
       "      <th>...</th>\n",
       "      <th>id_31</th>\n",
       "      <th>id_32</th>\n",
       "      <th>id_33</th>\n",
       "      <th>id_34</th>\n",
       "      <th>id_35</th>\n",
       "      <th>id_36</th>\n",
       "      <th>id_37</th>\n",
       "      <th>id_38</th>\n",
       "      <th>DeviceType</th>\n",
       "      <th>DeviceInfo</th>\n",
       "    </tr>\n",
       "  </thead>\n",
       "  <tbody>\n",
       "    <tr>\n",
       "      <th>0</th>\n",
       "      <td>2987000</td>\n",
       "      <td>0</td>\n",
       "      <td>86400</td>\n",
       "      <td>68.50</td>\n",
       "      <td>4</td>\n",
       "      <td>13926</td>\n",
       "      <td>362.555488</td>\n",
       "      <td>150.0</td>\n",
       "      <td>2</td>\n",
       "      <td>142.0</td>\n",
       "      <td>...</td>\n",
       "      <td>0</td>\n",
       "      <td>-1.0</td>\n",
       "      <td>0</td>\n",
       "      <td>0</td>\n",
       "      <td>0</td>\n",
       "      <td>0</td>\n",
       "      <td>0</td>\n",
       "      <td>0</td>\n",
       "      <td>0</td>\n",
       "      <td>0</td>\n",
       "    </tr>\n",
       "    <tr>\n",
       "      <th>1</th>\n",
       "      <td>2987001</td>\n",
       "      <td>0</td>\n",
       "      <td>86401</td>\n",
       "      <td>29.00</td>\n",
       "      <td>4</td>\n",
       "      <td>2755</td>\n",
       "      <td>404.000000</td>\n",
       "      <td>150.0</td>\n",
       "      <td>3</td>\n",
       "      <td>102.0</td>\n",
       "      <td>...</td>\n",
       "      <td>0</td>\n",
       "      <td>-1.0</td>\n",
       "      <td>0</td>\n",
       "      <td>0</td>\n",
       "      <td>0</td>\n",
       "      <td>0</td>\n",
       "      <td>0</td>\n",
       "      <td>0</td>\n",
       "      <td>0</td>\n",
       "      <td>0</td>\n",
       "    </tr>\n",
       "    <tr>\n",
       "      <th>2</th>\n",
       "      <td>2987002</td>\n",
       "      <td>0</td>\n",
       "      <td>86469</td>\n",
       "      <td>59.00</td>\n",
       "      <td>4</td>\n",
       "      <td>4663</td>\n",
       "      <td>490.000000</td>\n",
       "      <td>150.0</td>\n",
       "      <td>4</td>\n",
       "      <td>166.0</td>\n",
       "      <td>...</td>\n",
       "      <td>0</td>\n",
       "      <td>-1.0</td>\n",
       "      <td>0</td>\n",
       "      <td>0</td>\n",
       "      <td>0</td>\n",
       "      <td>0</td>\n",
       "      <td>0</td>\n",
       "      <td>0</td>\n",
       "      <td>0</td>\n",
       "      <td>0</td>\n",
       "    </tr>\n",
       "    <tr>\n",
       "      <th>3</th>\n",
       "      <td>2987003</td>\n",
       "      <td>0</td>\n",
       "      <td>86499</td>\n",
       "      <td>50.00</td>\n",
       "      <td>4</td>\n",
       "      <td>18132</td>\n",
       "      <td>567.000000</td>\n",
       "      <td>150.0</td>\n",
       "      <td>3</td>\n",
       "      <td>117.0</td>\n",
       "      <td>...</td>\n",
       "      <td>0</td>\n",
       "      <td>-1.0</td>\n",
       "      <td>0</td>\n",
       "      <td>0</td>\n",
       "      <td>0</td>\n",
       "      <td>0</td>\n",
       "      <td>0</td>\n",
       "      <td>0</td>\n",
       "      <td>0</td>\n",
       "      <td>0</td>\n",
       "    </tr>\n",
       "    <tr>\n",
       "      <th>4</th>\n",
       "      <td>2987004</td>\n",
       "      <td>0</td>\n",
       "      <td>86506</td>\n",
       "      <td>50.00</td>\n",
       "      <td>1</td>\n",
       "      <td>4497</td>\n",
       "      <td>514.000000</td>\n",
       "      <td>150.0</td>\n",
       "      <td>3</td>\n",
       "      <td>102.0</td>\n",
       "      <td>...</td>\n",
       "      <td>124</td>\n",
       "      <td>32.0</td>\n",
       "      <td>161</td>\n",
       "      <td>4</td>\n",
       "      <td>2</td>\n",
       "      <td>1</td>\n",
       "      <td>2</td>\n",
       "      <td>2</td>\n",
       "      <td>2</td>\n",
       "      <td>954</td>\n",
       "    </tr>\n",
       "    <tr>\n",
       "      <th>...</th>\n",
       "      <td>...</td>\n",
       "      <td>...</td>\n",
       "      <td>...</td>\n",
       "      <td>...</td>\n",
       "      <td>...</td>\n",
       "      <td>...</td>\n",
       "      <td>...</td>\n",
       "      <td>...</td>\n",
       "      <td>...</td>\n",
       "      <td>...</td>\n",
       "      <td>...</td>\n",
       "      <td>...</td>\n",
       "      <td>...</td>\n",
       "      <td>...</td>\n",
       "      <td>...</td>\n",
       "      <td>...</td>\n",
       "      <td>...</td>\n",
       "      <td>...</td>\n",
       "      <td>...</td>\n",
       "      <td>...</td>\n",
       "      <td>...</td>\n",
       "    </tr>\n",
       "    <tr>\n",
       "      <th>590535</th>\n",
       "      <td>3577535</td>\n",
       "      <td>0</td>\n",
       "      <td>15811047</td>\n",
       "      <td>49.00</td>\n",
       "      <td>4</td>\n",
       "      <td>6550</td>\n",
       "      <td>362.555488</td>\n",
       "      <td>150.0</td>\n",
       "      <td>4</td>\n",
       "      <td>226.0</td>\n",
       "      <td>...</td>\n",
       "      <td>0</td>\n",
       "      <td>-1.0</td>\n",
       "      <td>0</td>\n",
       "      <td>0</td>\n",
       "      <td>0</td>\n",
       "      <td>0</td>\n",
       "      <td>0</td>\n",
       "      <td>0</td>\n",
       "      <td>0</td>\n",
       "      <td>0</td>\n",
       "    </tr>\n",
       "    <tr>\n",
       "      <th>590536</th>\n",
       "      <td>3577536</td>\n",
       "      <td>0</td>\n",
       "      <td>15811049</td>\n",
       "      <td>39.50</td>\n",
       "      <td>4</td>\n",
       "      <td>10444</td>\n",
       "      <td>225.000000</td>\n",
       "      <td>150.0</td>\n",
       "      <td>3</td>\n",
       "      <td>224.0</td>\n",
       "      <td>...</td>\n",
       "      <td>0</td>\n",
       "      <td>-1.0</td>\n",
       "      <td>0</td>\n",
       "      <td>0</td>\n",
       "      <td>0</td>\n",
       "      <td>0</td>\n",
       "      <td>0</td>\n",
       "      <td>0</td>\n",
       "      <td>0</td>\n",
       "      <td>0</td>\n",
       "    </tr>\n",
       "    <tr>\n",
       "      <th>590537</th>\n",
       "      <td>3577537</td>\n",
       "      <td>0</td>\n",
       "      <td>15811079</td>\n",
       "      <td>30.95</td>\n",
       "      <td>4</td>\n",
       "      <td>12037</td>\n",
       "      <td>595.000000</td>\n",
       "      <td>150.0</td>\n",
       "      <td>3</td>\n",
       "      <td>224.0</td>\n",
       "      <td>...</td>\n",
       "      <td>0</td>\n",
       "      <td>-1.0</td>\n",
       "      <td>0</td>\n",
       "      <td>0</td>\n",
       "      <td>0</td>\n",
       "      <td>0</td>\n",
       "      <td>0</td>\n",
       "      <td>0</td>\n",
       "      <td>0</td>\n",
       "      <td>0</td>\n",
       "    </tr>\n",
       "    <tr>\n",
       "      <th>590538</th>\n",
       "      <td>3577538</td>\n",
       "      <td>0</td>\n",
       "      <td>15811088</td>\n",
       "      <td>117.00</td>\n",
       "      <td>4</td>\n",
       "      <td>7826</td>\n",
       "      <td>481.000000</td>\n",
       "      <td>150.0</td>\n",
       "      <td>3</td>\n",
       "      <td>224.0</td>\n",
       "      <td>...</td>\n",
       "      <td>0</td>\n",
       "      <td>-1.0</td>\n",
       "      <td>0</td>\n",
       "      <td>0</td>\n",
       "      <td>0</td>\n",
       "      <td>0</td>\n",
       "      <td>0</td>\n",
       "      <td>0</td>\n",
       "      <td>0</td>\n",
       "      <td>0</td>\n",
       "    </tr>\n",
       "    <tr>\n",
       "      <th>590539</th>\n",
       "      <td>3577539</td>\n",
       "      <td>0</td>\n",
       "      <td>15811131</td>\n",
       "      <td>279.95</td>\n",
       "      <td>4</td>\n",
       "      <td>15066</td>\n",
       "      <td>170.000000</td>\n",
       "      <td>150.0</td>\n",
       "      <td>3</td>\n",
       "      <td>102.0</td>\n",
       "      <td>...</td>\n",
       "      <td>0</td>\n",
       "      <td>-1.0</td>\n",
       "      <td>0</td>\n",
       "      <td>0</td>\n",
       "      <td>0</td>\n",
       "      <td>0</td>\n",
       "      <td>0</td>\n",
       "      <td>0</td>\n",
       "      <td>0</td>\n",
       "      <td>0</td>\n",
       "    </tr>\n",
       "  </tbody>\n",
       "</table>\n",
       "<p>554118 rows × 434 columns</p>\n",
       "</div>"
      ],
      "text/plain": [
       "        TransactionID  isFraud  TransactionDT  TransactionAmt  ProductCD  \\\n",
       "0             2987000        0          86400           68.50          4   \n",
       "1             2987001        0          86401           29.00          4   \n",
       "2             2987002        0          86469           59.00          4   \n",
       "3             2987003        0          86499           50.00          4   \n",
       "4             2987004        0          86506           50.00          1   \n",
       "...               ...      ...            ...             ...        ...   \n",
       "590535        3577535        0       15811047           49.00          4   \n",
       "590536        3577536        0       15811049           39.50          4   \n",
       "590537        3577537        0       15811079           30.95          4   \n",
       "590538        3577538        0       15811088          117.00          4   \n",
       "590539        3577539        0       15811131          279.95          4   \n",
       "\n",
       "        card1       card2  card3  card4  card5  ...  id_31  id_32  id_33  \\\n",
       "0       13926  362.555488  150.0      2  142.0  ...      0   -1.0      0   \n",
       "1        2755  404.000000  150.0      3  102.0  ...      0   -1.0      0   \n",
       "2        4663  490.000000  150.0      4  166.0  ...      0   -1.0      0   \n",
       "3       18132  567.000000  150.0      3  117.0  ...      0   -1.0      0   \n",
       "4        4497  514.000000  150.0      3  102.0  ...    124   32.0    161   \n",
       "...       ...         ...    ...    ...    ...  ...    ...    ...    ...   \n",
       "590535   6550  362.555488  150.0      4  226.0  ...      0   -1.0      0   \n",
       "590536  10444  225.000000  150.0      3  224.0  ...      0   -1.0      0   \n",
       "590537  12037  595.000000  150.0      3  224.0  ...      0   -1.0      0   \n",
       "590538   7826  481.000000  150.0      3  224.0  ...      0   -1.0      0   \n",
       "590539  15066  170.000000  150.0      3  102.0  ...      0   -1.0      0   \n",
       "\n",
       "        id_34  id_35  id_36  id_37  id_38  DeviceType  DeviceInfo  \n",
       "0           0      0      0      0      0           0           0  \n",
       "1           0      0      0      0      0           0           0  \n",
       "2           0      0      0      0      0           0           0  \n",
       "3           0      0      0      0      0           0           0  \n",
       "4           4      2      1      2      2           2         954  \n",
       "...       ...    ...    ...    ...    ...         ...         ...  \n",
       "590535      0      0      0      0      0           0           0  \n",
       "590536      0      0      0      0      0           0           0  \n",
       "590537      0      0      0      0      0           0           0  \n",
       "590538      0      0      0      0      0           0           0  \n",
       "590539      0      0      0      0      0           0           0  \n",
       "\n",
       "[554118 rows x 434 columns]"
      ]
     },
     "execution_count": 68,
     "metadata": {},
     "output_type": "execute_result"
    }
   ],
   "source": [
    "train_df"
   ]
  },
  {
   "cell_type": "code",
   "execution_count": 69,
   "id": "756e4097",
   "metadata": {
    "execution": {
     "iopub.execute_input": "2023-11-09T18:22:40.543556Z",
     "iopub.status.busy": "2023-11-09T18:22:40.542784Z",
     "iopub.status.idle": "2023-11-09T18:22:41.606405Z",
     "shell.execute_reply": "2023-11-09T18:22:41.605530Z"
    },
    "papermill": {
     "duration": 1.097805,
     "end_time": "2023-11-09T18:22:41.608601",
     "exception": false,
     "start_time": "2023-11-09T18:22:40.510796",
     "status": "completed"
    },
    "tags": []
   },
   "outputs": [],
   "source": [
    "object_test_data = test_df.select_dtypes(include=['object'])\n",
    "convert_object_test_data = object_test_data.apply(\n",
    "    pd.to_numeric, downcast='unsigned')\n",
    "test_df[convert_object_test_data.columns] = convert_object_test_data"
   ]
  },
  {
   "cell_type": "code",
   "execution_count": 70,
   "id": "3d15ea96",
   "metadata": {
    "execution": {
     "iopub.execute_input": "2023-11-09T18:22:41.674672Z",
     "iopub.status.busy": "2023-11-09T18:22:41.674379Z",
     "iopub.status.idle": "2023-11-09T18:22:41.810441Z",
     "shell.execute_reply": "2023-11-09T18:22:41.809494Z"
    },
    "papermill": {
     "duration": 0.17043,
     "end_time": "2023-11-09T18:22:41.812116",
     "exception": false,
     "start_time": "2023-11-09T18:22:41.641686",
     "status": "completed"
    },
    "tags": []
   },
   "outputs": [
    {
     "name": "stdout",
     "output_type": "stream",
     "text": [
      "<class 'pandas.core.frame.DataFrame'>\n",
      "Index: 476384 entries, 0 to 506690\n",
      "Columns: 433 entries, TransactionID to DeviceInfo\n",
      "dtypes: float64(399), int64(3), uint16(2), uint8(29)\n",
      "memory usage: 1.4 GB\n"
     ]
    }
   ],
   "source": [
    "test_df.info()"
   ]
  },
  {
   "cell_type": "markdown",
   "id": "98ed25c7",
   "metadata": {
    "papermill": {
     "duration": 0.03043,
     "end_time": "2023-11-09T18:22:41.874152",
     "exception": false,
     "start_time": "2023-11-09T18:22:41.843722",
     "status": "completed"
    },
    "tags": []
   },
   "source": [
    "Посмотрим на объёмы занимаемой памяти после преобразования числовых типов и кодирования типов ```object``` в числовые типы"
   ]
  },
  {
   "cell_type": "markdown",
   "id": "7116c101",
   "metadata": {
    "papermill": {
     "duration": 0.030874,
     "end_time": "2023-11-09T18:22:41.935908",
     "exception": false,
     "start_time": "2023-11-09T18:22:41.905034",
     "status": "completed"
    },
    "tags": []
   },
   "source": [
    "Напишем функцию для подсчёт изменений памяти:"
   ]
  },
  {
   "cell_type": "code",
   "execution_count": 71,
   "id": "f8cdf0a6",
   "metadata": {
    "execution": {
     "iopub.execute_input": "2023-11-09T18:22:41.999490Z",
     "iopub.status.busy": "2023-11-09T18:22:41.999209Z",
     "iopub.status.idle": "2023-11-09T18:22:42.003529Z",
     "shell.execute_reply": "2023-11-09T18:22:42.002933Z"
    },
    "papermill": {
     "duration": 0.038284,
     "end_time": "2023-11-09T18:22:42.004905",
     "exception": false,
     "start_time": "2023-11-09T18:22:41.966621",
     "status": "completed"
    },
    "tags": []
   },
   "outputs": [],
   "source": [
    "def memory_changes(start_mem_usage, df, df_name):\n",
    "    cur_mem_usage = memory_usage(df)\n",
    "    diff_mem = (start_mem_usage - cur_mem_usage)\n",
    "    diff_mem_prct = 100-((cur_mem_usage * 100)/start_mem_usage)\n",
    "    print(f'Memory usage of {df_name} decreased from {start_mem_usage} to {cur_mem_usage} on {diff_mem} Mb ({diff_mem_prct})%')"
   ]
  },
  {
   "cell_type": "markdown",
   "id": "a2d7764d",
   "metadata": {
    "papermill": {
     "duration": 0.030855,
     "end_time": "2023-11-09T18:22:42.067019",
     "exception": false,
     "start_time": "2023-11-09T18:22:42.036164",
     "status": "completed"
    },
    "tags": []
   },
   "source": [
    "### ```train_df``` после преобразований"
   ]
  },
  {
   "cell_type": "code",
   "execution_count": 72,
   "id": "610cf12c",
   "metadata": {
    "execution": {
     "iopub.execute_input": "2023-11-09T18:22:42.130220Z",
     "iopub.status.busy": "2023-11-09T18:22:42.129912Z",
     "iopub.status.idle": "2023-11-09T18:22:42.140389Z",
     "shell.execute_reply": "2023-11-09T18:22:42.139696Z"
    },
    "papermill": {
     "duration": 0.044333,
     "end_time": "2023-11-09T18:22:42.141938",
     "exception": false,
     "start_time": "2023-11-09T18:22:42.097605",
     "status": "completed"
    },
    "tags": []
   },
   "outputs": [
    {
     "name": "stdout",
     "output_type": "stream",
     "text": [
      "Memory usage of train_df decreased from 2567.094612121582 to 1724.8546142578125 on 842.2399978637695 Mb (32.80907504876488)%\n"
     ]
    }
   ],
   "source": [
    "memory_changes(train_df_GB * 1024, df=train_df, df_name='train_df')"
   ]
  },
  {
   "cell_type": "markdown",
   "id": "268eb01a",
   "metadata": {
    "papermill": {
     "duration": 0.030981,
     "end_time": "2023-11-09T18:22:42.204462",
     "exception": false,
     "start_time": "2023-11-09T18:22:42.173481",
     "status": "completed"
    },
    "tags": []
   },
   "source": [
    "### ```test_df``` после преобразований"
   ]
  },
  {
   "cell_type": "code",
   "execution_count": 73,
   "id": "2d33279a",
   "metadata": {
    "execution": {
     "iopub.execute_input": "2023-11-09T18:22:42.269689Z",
     "iopub.status.busy": "2023-11-09T18:22:42.269063Z",
     "iopub.status.idle": "2023-11-09T18:22:42.279753Z",
     "shell.execute_reply": "2023-11-09T18:22:42.278973Z"
    },
    "papermill": {
     "duration": 0.045621,
     "end_time": "2023-11-09T18:22:42.281319",
     "exception": false,
     "start_time": "2023-11-09T18:22:42.235698",
     "status": "completed"
    },
    "tags": []
   },
   "outputs": [
    {
     "name": "stdout",
     "output_type": "stream",
     "text": [
      "Memory usage of test_df decreased from 2214.031036376953 to 1479.7045593261719 on 734.3264770507812 Mb (33.16694594545682)%\n"
     ]
    }
   ],
   "source": [
    "memory_changes(test_df_GB * 1024, df=test_df, df_name='test_df')"
   ]
  },
  {
   "cell_type": "markdown",
   "id": "df58dc50",
   "metadata": {
    "papermill": {
     "duration": 0.03087,
     "end_time": "2023-11-09T18:22:42.343722",
     "exception": false,
     "start_time": "2023-11-09T18:22:42.312852",
     "status": "completed"
    },
    "tags": []
   },
   "source": [
    "Отделим данные от целевой переменной"
   ]
  },
  {
   "cell_type": "code",
   "execution_count": 74,
   "id": "a5f603a0",
   "metadata": {
    "execution": {
     "iopub.execute_input": "2023-11-09T18:22:42.407678Z",
     "iopub.status.busy": "2023-11-09T18:22:42.407389Z",
     "iopub.status.idle": "2023-11-09T18:22:42.816925Z",
     "shell.execute_reply": "2023-11-09T18:22:42.816150Z"
    },
    "papermill": {
     "duration": 0.444152,
     "end_time": "2023-11-09T18:22:42.819163",
     "exception": false,
     "start_time": "2023-11-09T18:22:42.375011",
     "status": "completed"
    },
    "tags": []
   },
   "outputs": [],
   "source": [
    "y = train_df['isFraud']\n",
    "X = train_df.drop(['isFraud'], axis=1)"
   ]
  },
  {
   "cell_type": "code",
   "execution_count": 75,
   "id": "40d67b86",
   "metadata": {
    "execution": {
     "iopub.execute_input": "2023-11-09T18:22:42.884291Z",
     "iopub.status.busy": "2023-11-09T18:22:42.883520Z",
     "iopub.status.idle": "2023-11-09T18:22:45.083416Z",
     "shell.execute_reply": "2023-11-09T18:22:45.082695Z"
    },
    "papermill": {
     "duration": 2.234133,
     "end_time": "2023-11-09T18:22:45.085446",
     "exception": false,
     "start_time": "2023-11-09T18:22:42.851313",
     "status": "completed"
    },
    "tags": []
   },
   "outputs": [],
   "source": [
    "X_train, X_test, y_train, y_test = train_test_split(X, y, test_size=0.3, random_state=0, stratify=y)"
   ]
  },
  {
   "cell_type": "markdown",
   "id": "7a4da53f",
   "metadata": {
    "papermill": {
     "duration": 0.030759,
     "end_time": "2023-11-09T18:22:45.148720",
     "exception": false,
     "start_time": "2023-11-09T18:22:45.117961",
     "status": "completed"
    },
    "tags": []
   },
   "source": [
    "Так как данные всё равно занимают достаточно большой объём памяти, разобъём датасет на несколько частей. Для каждой части создадим и обучим модель, а затем усредним предсказания моделей при помощи ансамбля"
   ]
  },
  {
   "cell_type": "code",
   "execution_count": 76,
   "id": "349b8f27",
   "metadata": {
    "execution": {
     "iopub.execute_input": "2023-11-09T18:22:45.212146Z",
     "iopub.status.busy": "2023-11-09T18:22:45.211871Z",
     "iopub.status.idle": "2023-11-09T18:22:45.243051Z",
     "shell.execute_reply": "2023-11-09T18:22:45.242345Z"
    },
    "papermill": {
     "duration": 0.065064,
     "end_time": "2023-11-09T18:22:45.244676",
     "exception": false,
     "start_time": "2023-11-09T18:22:45.179612",
     "status": "completed"
    },
    "tags": []
   },
   "outputs": [],
   "source": [
    "chunk_size = 4000\n",
    "X_train_chunks = [X_train.iloc[i:i+chunk_size] \\\n",
    "                  for i in range(0, X_train.shape[0], chunk_size)]"
   ]
  },
  {
   "cell_type": "code",
   "execution_count": 77,
   "id": "51aed067",
   "metadata": {
    "execution": {
     "iopub.execute_input": "2023-11-09T18:22:45.310024Z",
     "iopub.status.busy": "2023-11-09T18:22:45.309742Z",
     "iopub.status.idle": "2023-11-09T18:22:45.316726Z",
     "shell.execute_reply": "2023-11-09T18:22:45.316022Z"
    },
    "papermill": {
     "duration": 0.041564,
     "end_time": "2023-11-09T18:22:45.318330",
     "exception": false,
     "start_time": "2023-11-09T18:22:45.276766",
     "status": "completed"
    },
    "tags": []
   },
   "outputs": [],
   "source": [
    "y_train_chunks = [y_train.iloc[i:i+chunk_size] \\\n",
    "                 for i in range(0, y_train.shape[0], chunk_size)]"
   ]
  },
  {
   "cell_type": "code",
   "execution_count": 78,
   "id": "4cffcfea",
   "metadata": {
    "execution": {
     "iopub.execute_input": "2023-11-09T18:22:45.382674Z",
     "iopub.status.busy": "2023-11-09T18:22:45.382384Z",
     "iopub.status.idle": "2023-11-09T18:22:45.400681Z",
     "shell.execute_reply": "2023-11-09T18:22:45.399916Z"
    },
    "papermill": {
     "duration": 0.052308,
     "end_time": "2023-11-09T18:22:45.402309",
     "exception": false,
     "start_time": "2023-11-09T18:22:45.350001",
     "status": "completed"
    },
    "tags": []
   },
   "outputs": [],
   "source": [
    "X_test_chunks = [X_test.iloc[i:i+chunk_size] \\\n",
    "                for i in range(0, X_test.shape[0], chunk_size)]\n",
    "y_test_chunks = [y_test.iloc[i:i+chunk_size] \\\n",
    "                for i in range(0, y_test.shape[0], chunk_size)]"
   ]
  },
  {
   "cell_type": "code",
   "execution_count": 79,
   "id": "201540bd",
   "metadata": {
    "execution": {
     "iopub.execute_input": "2023-11-09T18:22:45.466971Z",
     "iopub.status.busy": "2023-11-09T18:22:45.466646Z",
     "iopub.status.idle": "2023-11-09T18:22:45.472072Z",
     "shell.execute_reply": "2023-11-09T18:22:45.471032Z"
    },
    "papermill": {
     "duration": 0.039168,
     "end_time": "2023-11-09T18:22:45.473671",
     "exception": false,
     "start_time": "2023-11-09T18:22:45.434503",
     "status": "completed"
    },
    "tags": []
   },
   "outputs": [
    {
     "name": "stdout",
     "output_type": "stream",
     "text": [
      "len X_train_chunks:  97\n",
      "len y_train_chunks:  97\n",
      "len X_test_chunks :  42\n",
      "len y_test_chunks :  42\n"
     ]
    }
   ],
   "source": [
    "print('len X_train_chunks: ', len(X_train_chunks))\n",
    "print('len y_train_chunks: ', len(y_train_chunks))\n",
    "print('len X_test_chunks : ', len(X_test_chunks))\n",
    "print('len y_test_chunks : ', len(y_test_chunks))"
   ]
  },
  {
   "cell_type": "code",
   "execution_count": 80,
   "id": "db29729e",
   "metadata": {
    "execution": {
     "iopub.execute_input": "2023-11-09T18:22:45.538800Z",
     "iopub.status.busy": "2023-11-09T18:22:45.538506Z",
     "iopub.status.idle": "2023-11-09T18:22:45.542714Z",
     "shell.execute_reply": "2023-11-09T18:22:45.542174Z"
    },
    "papermill": {
     "duration": 0.038231,
     "end_time": "2023-11-09T18:22:45.544163",
     "exception": false,
     "start_time": "2023-11-09T18:22:45.505932",
     "status": "completed"
    },
    "tags": []
   },
   "outputs": [
    {
     "name": "stdout",
     "output_type": "stream",
     "text": [
      "X_train chunk shape:  (4000, 433)\n",
      "y_train chunk shape:  (4000,)\n",
      "X_test chunk shape :  (4000, 433)\n",
      "y_test chunk shape :  (4000,)\n"
     ]
    }
   ],
   "source": [
    "print('X_train chunk shape: ', X_train_chunks[0].shape)\n",
    "print('y_train chunk shape: ', y_train_chunks[0].shape)\n",
    "print('X_test chunk shape : ', X_test_chunks[0].shape)\n",
    "print('y_test chunk shape : ', y_test_chunks[0].shape)"
   ]
  },
  {
   "cell_type": "code",
   "execution_count": 81,
   "id": "4f5a8b21",
   "metadata": {
    "execution": {
     "iopub.execute_input": "2023-11-09T18:22:45.607851Z",
     "iopub.status.busy": "2023-11-09T18:22:45.607509Z",
     "iopub.status.idle": "2023-11-09T18:22:45.611901Z",
     "shell.execute_reply": "2023-11-09T18:22:45.611217Z"
    },
    "papermill": {
     "duration": 0.038032,
     "end_time": "2023-11-09T18:22:45.613265",
     "exception": false,
     "start_time": "2023-11-09T18:22:45.575233",
     "status": "completed"
    },
    "tags": []
   },
   "outputs": [],
   "source": [
    "classifiers = [('DT', DecisionTreeClassifier()),\n",
    "               ('RF', RandomForestClassifier()),\n",
    "               ('Adaboost', AdaBoostClassifier()),\n",
    "               ('GBM', GradientBoostingClassifier()),\n",
    "               ('XGBBoost', XGBClassifier()),\n",
    "               ('LightGBM', LGBMClassifier()),]"
   ]
  },
  {
   "cell_type": "markdown",
   "id": "a3168d8e",
   "metadata": {
    "papermill": {
     "duration": 0.031016,
     "end_time": "2023-11-09T18:22:45.675851",
     "exception": false,
     "start_time": "2023-11-09T18:22:45.644835",
     "status": "completed"
    },
    "tags": []
   },
   "source": [
    "Создадим функцию для получения усредненного значения ```roc_auc_score``` после обучения и прогноза на каждом чанке "
   ]
  },
  {
   "cell_type": "code",
   "execution_count": 82,
   "id": "d8500dd5",
   "metadata": {
    "execution": {
     "iopub.execute_input": "2023-11-09T18:22:45.740325Z",
     "iopub.status.busy": "2023-11-09T18:22:45.740023Z",
     "iopub.status.idle": "2023-11-09T18:22:45.745633Z",
     "shell.execute_reply": "2023-11-09T18:22:45.744921Z"
    },
    "papermill": {
     "duration": 0.040332,
     "end_time": "2023-11-09T18:22:45.747208",
     "exception": false,
     "start_time": "2023-11-09T18:22:45.706876",
     "status": "completed"
    },
    "tags": []
   },
   "outputs": [],
   "source": [
    "def mean_AUC(X_tr_chunks, \n",
    "             y_tr_chunks, \n",
    "             X_t_chunks, \n",
    "             y_t_chunks, \n",
    "             classifier):\n",
    "    # fit\n",
    "    models = []\n",
    "    for i in range(len(X_tr_chunks)):\n",
    "        model = classifier.fit(X_tr_chunks[i], y_tr_chunks[i])\n",
    "        models.append(model)\n",
    "    \n",
    "    roc_aucs = []\n",
    "    for model in models:\n",
    "        for i in range(len(X_t_chunks)):\n",
    "#             y_pred = model.predict(X_t_chunks[i])\n",
    "            y_prob = model.predict_proba(X_t_chunks[i])[:, 1]\n",
    "            roc_auc = roc_auc_score(y_t_chunks[i], y_prob)\n",
    "            roc_aucs.append(roc_auc)\n",
    "    return np.mean(roc_aucs)"
   ]
  },
  {
   "cell_type": "code",
   "execution_count": 83,
   "id": "1806d51d",
   "metadata": {
    "execution": {
     "iopub.execute_input": "2023-11-09T18:22:45.812018Z",
     "iopub.status.busy": "2023-11-09T18:22:45.811722Z",
     "iopub.status.idle": "2023-11-09T18:24:21.615440Z",
     "shell.execute_reply": "2023-11-09T18:24:21.614629Z"
    },
    "papermill": {
     "duration": 95.866354,
     "end_time": "2023-11-09T18:24:21.645456",
     "exception": false,
     "start_time": "2023-11-09T18:22:45.779102",
     "status": "completed"
    },
    "tags": []
   },
   "outputs": [
    {
     "data": {
      "text/plain": [
       "0.6619591577680932"
      ]
     },
     "execution_count": 83,
     "metadata": {},
     "output_type": "execute_result"
    }
   ],
   "source": [
    "mean_AUC_DT = mean_AUC(X_train_chunks, \n",
    "                       y_train_chunks,\n",
    "                       X_test_chunks,\n",
    "                       y_test_chunks,\n",
    "                       DecisionTreeClassifier())\n",
    "mean_AUC_DT"
   ]
  },
  {
   "cell_type": "code",
   "execution_count": 84,
   "id": "a9eb597e",
   "metadata": {
    "execution": {
     "iopub.execute_input": "2023-11-09T18:24:21.709798Z",
     "iopub.status.busy": "2023-11-09T18:24:21.709466Z",
     "iopub.status.idle": "2023-11-09T18:47:42.379602Z",
     "shell.execute_reply": "2023-11-09T18:47:42.377716Z"
    },
    "papermill": {
     "duration": 1400.705456,
     "end_time": "2023-11-09T18:47:42.382604",
     "exception": false,
     "start_time": "2023-11-09T18:24:21.677148",
     "status": "completed"
    },
    "tags": []
   },
   "outputs": [
    {
     "name": "stdout",
     "output_type": "stream",
     "text": [
      " learn model DT...\n",
      "-------------------------------------\n",
      " predictions\n",
      "              precision    recall  f1-score   support\n",
      "\n",
      "           0       0.99      0.98      0.98    160603\n",
      "           1       0.53      0.59      0.56      5633\n",
      "\n",
      "    accuracy                           0.97    166236\n",
      "   macro avg       0.76      0.79      0.77    166236\n",
      "weighted avg       0.97      0.97      0.97    166236\n",
      "\n",
      " AUC: 0.7866181159375698\n",
      " learn model RF...\n",
      "-------------------------------------\n",
      " predictions\n",
      "              precision    recall  f1-score   support\n",
      "\n",
      "           0       0.98      1.00      0.99    160603\n",
      "           1       0.94      0.46      0.62      5633\n",
      "\n",
      "    accuracy                           0.98    166236\n",
      "   macro avg       0.96      0.73      0.80    166236\n",
      "weighted avg       0.98      0.98      0.98    166236\n",
      "\n",
      " AUC: 0.9267713122563799\n",
      " learn model Adaboost...\n",
      "-------------------------------------\n",
      " predictions\n",
      "              precision    recall  f1-score   support\n",
      "\n",
      "           0       0.97      1.00      0.99    160603\n",
      "           1       0.77      0.27      0.40      5633\n",
      "\n",
      "    accuracy                           0.97    166236\n",
      "   macro avg       0.87      0.63      0.69    166236\n",
      "weighted avg       0.97      0.97      0.97    166236\n",
      "\n",
      " AUC: 0.8741483016796479\n",
      " learn model GBM...\n",
      "-------------------------------------\n",
      " predictions\n",
      "              precision    recall  f1-score   support\n",
      "\n",
      "           0       0.98      1.00      0.99    160603\n",
      "           1       0.87      0.32      0.47      5633\n",
      "\n",
      "    accuracy                           0.98    166236\n",
      "   macro avg       0.92      0.66      0.73    166236\n",
      "weighted avg       0.97      0.98      0.97    166236\n",
      "\n",
      " AUC: 0.8798516623450694\n",
      " learn model XGBBoost...\n",
      "-------------------------------------\n",
      " predictions\n",
      "              precision    recall  f1-score   support\n",
      "\n",
      "           0       0.98      1.00      0.99    160603\n",
      "           1       0.92      0.51      0.66      5633\n",
      "\n",
      "    accuracy                           0.98    166236\n",
      "   macro avg       0.95      0.76      0.83    166236\n",
      "weighted avg       0.98      0.98      0.98    166236\n",
      "\n",
      " AUC: 0.9430099542112779\n",
      " learn model LightGBM...\n",
      "-------------------------------------\n",
      " predictions\n",
      "              precision    recall  f1-score   support\n",
      "\n",
      "           0       0.98      1.00      0.99    160603\n",
      "           1       0.89      0.45      0.60      5633\n",
      "\n",
      "    accuracy                           0.98    166236\n",
      "   macro avg       0.94      0.73      0.80    166236\n",
      "weighted avg       0.98      0.98      0.98    166236\n",
      "\n",
      " AUC: 0.930280003818248\n"
     ]
    }
   ],
   "source": [
    "for name, classifier in classifiers:\n",
    "    print(f' learn model {name}...')\n",
    "    model = classifier.fit(X_train, y_train)\n",
    "#     y_pred = model.predict(X_train)\n",
    "#     y_prob = model.predict_proba(X_train)[:, 1]\n",
    "#     print(classification_report(y_train, y_pred))\n",
    "#     print(f' AUC: {roc_auc_score(y_train, y_prob)}')\n",
    "    print('-------------------------------------')\n",
    "    print(f' predictions')\n",
    "    y_pred = model.predict(X_test)\n",
    "    y_prob = model.predict_proba(X_test)[:, 1]\n",
    "    print(classification_report(y_test, y_pred))\n",
    "    print(f' AUC: {roc_auc_score(y_test, y_prob)}')"
   ]
  }
 ],
 "metadata": {
  "kernelspec": {
   "display_name": "Python 3",
   "language": "python",
   "name": "python3"
  },
  "language_info": {
   "codemirror_mode": {
    "name": "ipython",
    "version": 3
   },
   "file_extension": ".py",
   "mimetype": "text/x-python",
   "name": "python",
   "nbconvert_exporter": "python",
   "pygments_lexer": "ipython3",
   "version": "3.10.12"
  },
  "papermill": {
   "default_parameters": {},
   "duration": 1629.391723,
   "end_time": "2023-11-09T18:47:44.248931",
   "environment_variables": {},
   "exception": null,
   "input_path": "__notebook__.ipynb",
   "output_path": "__notebook__.ipynb",
   "parameters": {},
   "start_time": "2023-11-09T18:20:34.857208",
   "version": "2.4.0"
  }
 },
 "nbformat": 4,
 "nbformat_minor": 5
}
