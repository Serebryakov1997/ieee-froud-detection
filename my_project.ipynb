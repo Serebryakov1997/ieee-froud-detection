{
 "cells": [
  {
   "cell_type": "code",
   "execution_count": 1,
   "id": "83b6ad34",
   "metadata": {
    "_cell_guid": "b1076dfc-b9ad-4769-8c92-a6c4dae69d19",
    "_uuid": "8f2839f25d086af736a60e9eeb907d3b93b6e0e5",
    "execution": {
     "iopub.execute_input": "2023-11-07T10:04:46.415288Z",
     "iopub.status.busy": "2023-11-07T10:04:46.414182Z",
     "iopub.status.idle": "2023-11-07T10:04:50.121989Z",
     "shell.execute_reply": "2023-11-07T10:04:50.120893Z"
    },
    "papermill": {
     "duration": 3.731015,
     "end_time": "2023-11-07T10:04:50.124319",
     "exception": false,
     "start_time": "2023-11-07T10:04:46.393304",
     "status": "completed"
    },
    "tags": []
   },
   "outputs": [
    {
     "name": "stdout",
     "output_type": "stream",
     "text": [
      "/kaggle/input/ieee-fraud-detection/sample_submission.csv\n",
      "/kaggle/input/ieee-fraud-detection/test_identity.csv\n",
      "/kaggle/input/ieee-fraud-detection/train_identity.csv\n",
      "/kaggle/input/ieee-fraud-detection/test_transaction.csv\n",
      "/kaggle/input/ieee-fraud-detection/train_transaction.csv\n"
     ]
    }
   ],
   "source": [
    "# This Python 3 environment comes with many helpful analytics libraries installed\n",
    "# It is defined by the kaggle/python Docker image: https://github.com/kaggle/docker-python\n",
    "# For example, here's several helpful packages to load\n",
    "\n",
    "import numpy as np # linear algebra\n",
    "import pandas as pd # data processing, CSV file I/O (e.g. pd.read_csv)\n",
    "import gc\n",
    "import numpy as np\n",
    "import matplotlib.pyplot as plt\n",
    "import seaborn as sns\n",
    "from sklearn.metrics import accuracy_score\n",
    "from sklearn.model_selection import train_test_split,cross_val_score,GridSearchCV,cross_validate\n",
    "from sklearn.preprocessing import MinMaxScaler,LabelEncoder,StandardScaler,RobustScaler\n",
    "from sklearn.impute import KNNImputer\n",
    "from sklearn.metrics import mean_squared_error, mean_absolute_error\n",
    "from sklearn.neighbors import KNeighborsClassifier\n",
    "from sklearn.tree import DecisionTreeClassifier\n",
    "from xgboost import XGBClassifier\n",
    "from lightgbm import LGBMClassifier\n",
    "from sklearn.ensemble import RandomForestClassifier,GradientBoostingClassifier,VotingClassifier,AdaBoostClassifier\n",
    "# Input data files are available in the read-only \"../input/\" directory\n",
    "# For example, running this (by clicking run or pressing Shift+Enter) will list all files under the input directory\n",
    "\n",
    "import os\n",
    "for dirname, _, filenames in os.walk('/kaggle/input'):\n",
    "    for filename in filenames:\n",
    "        print(os.path.join(dirname, filename))\n",
    "\n",
    "# You can write up to 20GB to the current directory (/kaggle/working/) that gets preserved as output when you create a version using \"Save & Run All\" \n",
    "# You can also write temporary files to /kaggle/temp/, but they won't be saved outside of the current session"
   ]
  },
  {
   "cell_type": "markdown",
   "id": "7c66c937",
   "metadata": {
    "papermill": {
     "duration": 0.020351,
     "end_time": "2023-11-07T10:04:50.164096",
     "exception": false,
     "start_time": "2023-11-07T10:04:50.143745",
     "status": "completed"
    },
    "tags": []
   },
   "source": [
    "### Данный проект решает задачу бинарной классификации.\n",
    "### Нужно предсказать, к какому типу относится транзакция - мошенническая она ли нет."
   ]
  },
  {
   "cell_type": "markdown",
   "id": "1035b289",
   "metadata": {
    "papermill": {
     "duration": 0.018365,
     "end_time": "2023-11-07T10:04:50.201873",
     "exception": false,
     "start_time": "2023-11-07T10:04:50.183508",
     "status": "completed"
    },
    "tags": []
   },
   "source": [
    "#### Данные в датасете **transaction**:\n",
    "<span style=\"font-size: 18px;\">\n",
    "    \n",
    "- TransactionDT - дельта времени от заданного эталонного значения времени (не актуального значения) \n",
    "- TransactionAMT - транзакционный платёж в USD\n",
    "- ProductCD - продуктовый код, продукт каждой транзакции\n",
    "- card1 - card6 - информация платёжной карты, такая как: тип карты, категория, банк выпуска, страна и т.д.\n",
    "- addr - адрес\n",
    "- dist - расстояние\n",
    "- P_ and (R_) emaildomain: домены покупателя и получателя\n",
    "- C1-C14 - подсчёт, например сколько адресов связано с платёжной картой и т.д. Фактический смысл скрыт\n",
    "- D1-D15 - дельта времени, количество дней между предыдущей транзакцией, и т.д.\n",
    "- M1 - M9 -совпадение, например имена на карте и адресе и т.д.\n",
    "- Vxxx - Vesta разработала богатые функции, включая ранжирование, подсчёт и другие отношения между сущностями\n",
    "</span>"
   ]
  },
  {
   "cell_type": "markdown",
   "id": "23588103",
   "metadata": {
    "papermill": {
     "duration": 0.020423,
     "end_time": "2023-11-07T10:04:50.241042",
     "exception": false,
     "start_time": "2023-11-07T10:04:50.220619",
     "status": "completed"
    },
    "tags": []
   },
   "source": [
    "<span style=\"font-size:18px;\">\n",
    "Категориальные признаки:\n",
    "\n",
    "- ProductCD\n",
    "- card1-card6\n",
    "- addr1, addr2\n",
    "- P_emaildomain\n",
    "- R_email_domain\n",
    "- M1 - M9\n",
    "</span>"
   ]
  },
  {
   "cell_type": "markdown",
   "id": "ff99ab40",
   "metadata": {
    "papermill": {
     "duration": 0.018163,
     "end_time": "2023-11-07T10:04:50.277755",
     "exception": false,
     "start_time": "2023-11-07T10:04:50.259592",
     "status": "completed"
    },
    "tags": []
   },
   "source": [
    "#### Данные в датасете **Identity**\n",
    "<span style=\"font-size:18px;\">\n",
    "Переменные в этой таблице - идентификационные данные:\n",
    "    \n",
    "- информация о сетевом соединении (IP, ISP, прокси и т.д.)\n",
    "- цифровая подпись (UA/браузер/ОС/версия и т.д.), связанные с транзакциями.\n",
    "Их собирает система защиты от мошенничества Vesta и партнеры цифровой безопасности.\n",
    "(Имена полей скрыты, и пояснения значений полей не будет в целях защиты конфиденциальности и их договорного соглашения)\n",
    "</span>"
   ]
  },
  {
   "cell_type": "markdown",
   "id": "d645b43b",
   "metadata": {
    "papermill": {
     "duration": 0.018418,
     "end_time": "2023-11-07T10:04:50.372424",
     "exception": false,
     "start_time": "2023-11-07T10:04:50.354006",
     "status": "completed"
    },
    "tags": []
   },
   "source": [
    "<span style=\"font-size:18px;\">\n",
    "Категориальные признаки:\n",
    "    \n",
    "- DeviceType\n",
    "- DeviceInfo\n",
    "- id_12 - id_38\n",
    "</span>"
   ]
  },
  {
   "cell_type": "markdown",
   "id": "37c5b4ba",
   "metadata": {
    "papermill": {
     "duration": 0.018155,
     "end_time": "2023-11-07T10:04:50.409114",
     "exception": false,
     "start_time": "2023-11-07T10:04:50.390959",
     "status": "completed"
    },
    "tags": []
   },
   "source": [
    "### Загрузим все наборы данных данного проекта"
   ]
  },
  {
   "cell_type": "code",
   "execution_count": 2,
   "id": "be0e9b0b",
   "metadata": {
    "execution": {
     "iopub.execute_input": "2023-11-07T10:04:50.448184Z",
     "iopub.status.busy": "2023-11-07T10:04:50.447614Z",
     "iopub.status.idle": "2023-11-07T10:05:45.416884Z",
     "shell.execute_reply": "2023-11-07T10:05:45.415873Z"
    },
    "papermill": {
     "duration": 54.991902,
     "end_time": "2023-11-07T10:05:45.419550",
     "exception": false,
     "start_time": "2023-11-07T10:04:50.427648",
     "status": "completed"
    },
    "tags": []
   },
   "outputs": [],
   "source": [
    "train_transaction=pd.read_csv('/kaggle/input/ieee-fraud-detection/train_transaction.csv')\n",
    "train_identity=pd.read_csv('/kaggle/input/ieee-fraud-detection/train_identity.csv')\n",
    "test_transaction=pd.read_csv('/kaggle/input/ieee-fraud-detection/test_transaction.csv')\n",
    "test_identity=pd.read_csv('/kaggle/input/ieee-fraud-detection/test_identity.csv')\n",
    "sample_submission=pd.read_csv('/kaggle/input/ieee-fraud-detection/sample_submission.csv')"
   ]
  },
  {
   "cell_type": "markdown",
   "id": "77c578a1",
   "metadata": {
    "papermill": {
     "duration": 0.018966,
     "end_time": "2023-11-07T10:05:45.458369",
     "exception": false,
     "start_time": "2023-11-07T10:05:45.439403",
     "status": "completed"
    },
    "tags": []
   },
   "source": [
    "Объединим таблицы ```*transaction``` и ```*identity``` по полю ```TransactionID```"
   ]
  },
  {
   "cell_type": "code",
   "execution_count": 3,
   "id": "0450be50",
   "metadata": {
    "execution": {
     "iopub.execute_input": "2023-11-07T10:05:45.498954Z",
     "iopub.status.busy": "2023-11-07T10:05:45.497839Z",
     "iopub.status.idle": "2023-11-07T10:05:47.613986Z",
     "shell.execute_reply": "2023-11-07T10:05:47.612900Z"
    },
    "papermill": {
     "duration": 2.13917,
     "end_time": "2023-11-07T10:05:47.616627",
     "exception": false,
     "start_time": "2023-11-07T10:05:45.477457",
     "status": "completed"
    },
    "tags": []
   },
   "outputs": [],
   "source": [
    "train_df = train_transaction.merge(train_identity, how='left', on='TransactionID')\n",
    "test_df = test_transaction.merge(test_identity, how='left', on='TransactionID')"
   ]
  },
  {
   "cell_type": "markdown",
   "id": "448e4890",
   "metadata": {
    "papermill": {
     "duration": 0.018258,
     "end_time": "2023-11-07T10:05:47.653540",
     "exception": false,
     "start_time": "2023-11-07T10:05:47.635282",
     "status": "completed"
    },
    "tags": []
   },
   "source": [
    "Посмотрим какой объём оперативной памяти занимают датасеты:"
   ]
  },
  {
   "cell_type": "code",
   "execution_count": 4,
   "id": "5c016a8e",
   "metadata": {
    "execution": {
     "iopub.execute_input": "2023-11-07T10:05:47.692708Z",
     "iopub.status.busy": "2023-11-07T10:05:47.692080Z",
     "iopub.status.idle": "2023-11-07T10:05:51.630091Z",
     "shell.execute_reply": "2023-11-07T10:05:51.629037Z"
    },
    "papermill": {
     "duration": 3.960487,
     "end_time": "2023-11-07T10:05:51.632659",
     "exception": false,
     "start_time": "2023-11-07T10:05:47.672172",
     "status": "completed"
    },
    "tags": []
   },
   "outputs": [
    {
     "name": "stdout",
     "output_type": "stream",
     "text": [
      "train df: 2.51 GB of memory\n",
      "test df : 2.16 GB of memory\n"
     ]
    }
   ],
   "source": [
    "train_df_GB = train_df.memory_usage(deep=True).sum()/1024**3\n",
    "test_df_GB = test_df.memory_usage(deep=True).sum()/1024**3\n",
    "\n",
    "print(f'train df: {train_df_GB:.2f} GB of memory')\n",
    "print(f'test df : {test_df_GB:.2f} GB of memory')"
   ]
  },
  {
   "cell_type": "markdown",
   "id": "6160ce54",
   "metadata": {
    "papermill": {
     "duration": 0.018885,
     "end_time": "2023-11-07T10:05:51.670663",
     "exception": false,
     "start_time": "2023-11-07T10:05:51.651778",
     "status": "completed"
    },
    "tags": []
   },
   "source": [
    "Видим, что датафреймы занимают достаточно большой объём оперативной памяти, следовательно на обработку каждого датафрейма будет затрачено большое кол-во ресурсов и довольно длительное время. \n",
    "\n",
    "Исходя из этого необходимо уменьшить занимаемый ими объём памяти. Сделаем это при помощи способа с изменением типов переменных"
   ]
  },
  {
   "cell_type": "markdown",
   "id": "985bf8f4",
   "metadata": {
    "papermill": {
     "duration": 0.018546,
     "end_time": "2023-11-07T10:05:51.707857",
     "exception": false,
     "start_time": "2023-11-07T10:05:51.689311",
     "status": "completed"
    },
    "tags": []
   },
   "source": [
    "Напишем функцию подсчёта объема занимаемой памяти:"
   ]
  },
  {
   "cell_type": "code",
   "execution_count": 5,
   "id": "dd17f84b",
   "metadata": {
    "execution": {
     "iopub.execute_input": "2023-11-07T10:05:51.748087Z",
     "iopub.status.busy": "2023-11-07T10:05:51.747414Z",
     "iopub.status.idle": "2023-11-07T10:05:51.752026Z",
     "shell.execute_reply": "2023-11-07T10:05:51.751383Z"
    },
    "papermill": {
     "duration": 0.027176,
     "end_time": "2023-11-07T10:05:51.753888",
     "exception": false,
     "start_time": "2023-11-07T10:05:51.726712",
     "status": "completed"
    },
    "tags": []
   },
   "outputs": [],
   "source": [
    "def memory_usage(pandas_object):\n",
    "    if isinstance(pandas_object, pd.DataFrame):\n",
    "        usage_b = pandas_object.memory_usage(deep=True).sum()\n",
    "    else:\n",
    "        usage_b = pandas_obj.memory_usage(deep=True)\n",
    "    usage_mb = usage_b / 1024 ** 2 # convert to mb\n",
    "    return usage_mb"
   ]
  },
  {
   "cell_type": "markdown",
   "id": "287278b8",
   "metadata": {
    "papermill": {
     "duration": 0.018369,
     "end_time": "2023-11-07T10:05:51.791218",
     "exception": false,
     "start_time": "2023-11-07T10:05:51.772849",
     "status": "completed"
    },
    "tags": []
   },
   "source": [
    "Напишем функцию для уменьшения объёма занимаемой памяти датасетом.\n",
    "\n",
    "1. Преобразуем все значения подтипов ```int``` в тип ```uint```, т.к. хранение только положительных значений позволит нам уменьшить объём занимаемой памяти.\n",
    "\n",
    "2. Преобразуем все значения подтипов ```float``` в тип ```float```\n",
    "3. Преобразуем все значения типа ```object``` в тип ```category```, но только для столбцов, в которых содержится менее ```50 %``` уникальных значений, иначе объём занимаемой памяти наоборот увеличится (согласно исследованиям)"
   ]
  },
  {
   "cell_type": "code",
   "execution_count": 6,
   "id": "89cdf1bd",
   "metadata": {
    "execution": {
     "iopub.execute_input": "2023-11-07T10:05:51.831802Z",
     "iopub.status.busy": "2023-11-07T10:05:51.831083Z",
     "iopub.status.idle": "2023-11-07T10:05:51.836553Z",
     "shell.execute_reply": "2023-11-07T10:05:51.835777Z"
    },
    "papermill": {
     "duration": 0.028377,
     "end_time": "2023-11-07T10:05:51.838453",
     "exception": false,
     "start_time": "2023-11-07T10:05:51.810076",
     "status": "completed"
    },
    "tags": []
   },
   "outputs": [],
   "source": [
    "def obj_to_cat(current_df_obj):\n",
    "    converted_df_obj=pd.DataFrame()\n",
    "    for col in current_df_obj.columns:\n",
    "        num_unique_values = len(current_df_obj[col].unique())\n",
    "        num_total_values = len(current_df_obj[col])\n",
    "        if num_unique_values / num_total_values < 0.5:\n",
    "            converted_df_obj.loc[:, col] = current_df_obj[col].astype('category')\n",
    "        else:\n",
    "            converted_df_obj.loc[:, col] = current_df_obj[col]\n",
    "    return converted_df_obj"
   ]
  },
  {
   "cell_type": "code",
   "execution_count": 7,
   "id": "9ee84c89",
   "metadata": {
    "execution": {
     "iopub.execute_input": "2023-11-07T10:05:51.878325Z",
     "iopub.status.busy": "2023-11-07T10:05:51.877607Z",
     "iopub.status.idle": "2023-11-07T10:05:51.884041Z",
     "shell.execute_reply": "2023-11-07T10:05:51.883361Z"
    },
    "papermill": {
     "duration": 0.028544,
     "end_time": "2023-11-07T10:05:51.886012",
     "exception": false,
     "start_time": "2023-11-07T10:05:51.857468",
     "status": "completed"
    },
    "tags": []
   },
   "outputs": [],
   "source": [
    "def reduce_mem_usage_num(df, name):\n",
    "    start_memory = memory_usage(df)\n",
    "    \n",
    "    # convert int\n",
    "    df_int = df.select_dtypes(include=['int'])\n",
    "    converted_int = df_int.apply(pd.to_numeric, downcast='unsigned')\n",
    "    \n",
    "    # convert float\n",
    "    df_float = df.select_dtypes(include=['float'])\n",
    "    converted_float = df_float.apply(pd.to_numeric, downcast='float')\n",
    "    \n",
    "    # convert object\n",
    "#     df_obj = df.select_dtypes(include=['object'])\n",
    "#     converted_obj = obj_to_cat(df_obj)\n",
    "    \n",
    "    optimized_df = df.copy()\n",
    "    optimized_df[converted_int.columns] = converted_int\n",
    "    optimized_df[converted_float.columns] = converted_float\n",
    "#     optimized_df[converted_obj.columns] = converted_obj\n",
    "    \n",
    "    finish_memory = memory_usage(optimized_df)\n",
    "    diff_memory = start_memory - finish_memory\n",
    "    diff_memory_prct = 100 - ((finish_memory * 100)/start_memory)\n",
    "    print(f'start memory of {name} is {start_memory} Mb')\n",
    "    print(f'memory after optimization of {name} is {finish_memory} Mb')\n",
    "    print(f'memory usage of {name} decreased on {diff_memory} Mb ({diff_memory_prct} %)\\n')\n",
    "    return optimized_df"
   ]
  },
  {
   "cell_type": "code",
   "execution_count": 8,
   "id": "2eaa1b9b",
   "metadata": {
    "execution": {
     "iopub.execute_input": "2023-11-07T10:05:51.926452Z",
     "iopub.status.busy": "2023-11-07T10:05:51.926058Z",
     "iopub.status.idle": "2023-11-07T10:06:28.362237Z",
     "shell.execute_reply": "2023-11-07T10:06:28.361327Z"
    },
    "papermill": {
     "duration": 36.478458,
     "end_time": "2023-11-07T10:06:28.383742",
     "exception": false,
     "start_time": "2023-11-07T10:05:51.905284",
     "status": "completed"
    },
    "tags": []
   },
   "outputs": [
    {
     "name": "stdout",
     "output_type": "stream",
     "text": [
      "start memory of train_df is 2567.094612121582 Mb\n",
      "memory after optimization of train_df is 1656.4279747009277 Mb\n",
      "memory usage of train_df decreased on 910.6666374206543 Mb (35.47460358962117 %)\n",
      "\n",
      "start memory of test_df is 2214.031036376953 Mb\n",
      "memory after optimization of test_df is 1436.0497455596924 Mb\n",
      "memory usage of test_df decreased on 777.9812908172607 Mb (35.13868044462248 %)\n",
      "\n"
     ]
    }
   ],
   "source": [
    "train_df = reduce_mem_usage_num(train_df, 'train_df')\n",
    "test_df = reduce_mem_usage_num(test_df, 'test_df')"
   ]
  },
  {
   "cell_type": "markdown",
   "id": "7383b9b6",
   "metadata": {
    "papermill": {
     "duration": 0.019703,
     "end_time": "2023-11-07T10:06:28.423078",
     "exception": false,
     "start_time": "2023-11-07T10:06:28.403375",
     "status": "completed"
    },
    "tags": []
   },
   "source": [
    "Видим, что объём занимаемой памяти тренировочного и тестового датасетов после изменения числовых типов данных уменьшился примерно на ```35 %```"
   ]
  },
  {
   "cell_type": "code",
   "execution_count": 9,
   "id": "56f72e22",
   "metadata": {
    "execution": {
     "iopub.execute_input": "2023-11-07T10:06:28.463122Z",
     "iopub.status.busy": "2023-11-07T10:06:28.462725Z",
     "iopub.status.idle": "2023-11-07T10:06:28.484606Z",
     "shell.execute_reply": "2023-11-07T10:06:28.483626Z"
    },
    "papermill": {
     "duration": 0.044409,
     "end_time": "2023-11-07T10:06:28.486822",
     "exception": false,
     "start_time": "2023-11-07T10:06:28.442413",
     "status": "completed"
    },
    "tags": []
   },
   "outputs": [
    {
     "name": "stdout",
     "output_type": "stream",
     "text": [
      "<class 'pandas.core.frame.DataFrame'>\n",
      "RangeIndex: 590540 entries, 0 to 590539\n",
      "Columns: 434 entries, TransactionID to DeviceInfo\n",
      "dtypes: float32(399), object(31), uint16(1), uint32(2), uint8(1)\n",
      "memory usage: 1.0+ GB\n"
     ]
    }
   ],
   "source": [
    "train_df.info()"
   ]
  },
  {
   "cell_type": "code",
   "execution_count": 10,
   "id": "023a4e5a",
   "metadata": {
    "execution": {
     "iopub.execute_input": "2023-11-07T10:06:28.528070Z",
     "iopub.status.busy": "2023-11-07T10:06:28.527676Z",
     "iopub.status.idle": "2023-11-07T10:06:28.543586Z",
     "shell.execute_reply": "2023-11-07T10:06:28.542695Z"
    },
    "papermill": {
     "duration": 0.039633,
     "end_time": "2023-11-07T10:06:28.545687",
     "exception": false,
     "start_time": "2023-11-07T10:06:28.506054",
     "status": "completed"
    },
    "tags": []
   },
   "outputs": [
    {
     "name": "stdout",
     "output_type": "stream",
     "text": [
      "<class 'pandas.core.frame.DataFrame'>\n",
      "RangeIndex: 506691 entries, 0 to 506690\n",
      "Columns: 433 entries, TransactionID to DeviceInfo\n",
      "dtypes: float32(399), object(31), uint16(1), uint32(2)\n",
      "memory usage: 895.9+ MB\n"
     ]
    }
   ],
   "source": [
    "test_df.info()"
   ]
  },
  {
   "cell_type": "markdown",
   "id": "67cc47df",
   "metadata": {
    "papermill": {
     "duration": 0.020503,
     "end_time": "2023-11-07T10:06:28.586942",
     "exception": false,
     "start_time": "2023-11-07T10:06:28.566439",
     "status": "completed"
    },
    "tags": []
   },
   "source": [
    "#### Напишем функцию, которая будет представлять отчёт о пропусках в данных"
   ]
  },
  {
   "cell_type": "code",
   "execution_count": 11,
   "id": "57b54c5c",
   "metadata": {
    "execution": {
     "iopub.execute_input": "2023-11-07T10:06:28.628451Z",
     "iopub.status.busy": "2023-11-07T10:06:28.628031Z",
     "iopub.status.idle": "2023-11-07T10:06:28.635076Z",
     "shell.execute_reply": "2023-11-07T10:06:28.633986Z"
    },
    "papermill": {
     "duration": 0.030431,
     "end_time": "2023-11-07T10:06:28.636997",
     "exception": false,
     "start_time": "2023-11-07T10:06:28.606566",
     "status": "completed"
    },
    "tags": []
   },
   "outputs": [],
   "source": [
    "def missing_values_table(df, df_name):\n",
    "    mis_val = df.isnull().sum()\n",
    "    mis_val_percent = 100 * df.isnull().sum() / len(df)\n",
    "    mis_val_table = pd.concat([mis_val, mis_val_percent], axis=1)\n",
    "    mis_val_table_ren_columns = mis_val_table.rename(\n",
    "    columns = {0: 'Missing Values', 1: '% of Total Values'})\n",
    "    \n",
    "    mis_val_table_ren_columns = mis_val_table_ren_columns[\n",
    "        mis_val_table_ren_columns.iloc[:,1] != 0].sort_values(\n",
    "    '% of Total Values', ascending=False).round(1)\n",
    "    \n",
    "    print(f'{df_name} has ', str(df.shape[1]) + ' columns.\\n',\n",
    "         'There are ' + str(mis_val_table_ren_columns.shape[0]) +\n",
    "          ' columns that have missing values.')\n",
    "    return mis_val_table_ren_columns"
   ]
  },
  {
   "cell_type": "markdown",
   "id": "8de1bb04",
   "metadata": {
    "papermill": {
     "duration": 0.018711,
     "end_time": "2023-11-07T10:06:28.675410",
     "exception": false,
     "start_time": "2023-11-07T10:06:28.656699",
     "status": "completed"
    },
    "tags": []
   },
   "source": [
    "Заменим признаки с ```-``` в тестовом датасете на соответствующие названия из тренировочного датасета с ```_```"
   ]
  },
  {
   "cell_type": "code",
   "execution_count": 12,
   "id": "436e9f74",
   "metadata": {
    "execution": {
     "iopub.execute_input": "2023-11-07T10:06:28.715423Z",
     "iopub.status.busy": "2023-11-07T10:06:28.715000Z",
     "iopub.status.idle": "2023-11-07T10:06:29.998619Z",
     "shell.execute_reply": "2023-11-07T10:06:29.997329Z"
    },
    "papermill": {
     "duration": 1.306549,
     "end_time": "2023-11-07T10:06:30.001086",
     "exception": false,
     "start_time": "2023-11-07T10:06:28.694537",
     "status": "completed"
    },
    "tags": []
   },
   "outputs": [],
   "source": [
    "test_df = test_df.rename(columns=lambda x:'_'.join(x.split('-')))"
   ]
  },
  {
   "cell_type": "markdown",
   "id": "fd3aaccd",
   "metadata": {
    "papermill": {
     "duration": 0.019316,
     "end_time": "2023-11-07T10:06:30.040519",
     "exception": false,
     "start_time": "2023-11-07T10:06:30.021203",
     "status": "completed"
    },
    "tags": []
   },
   "source": [
    "Удаляем признаки, в которых более ```80 %``` пропусков:"
   ]
  },
  {
   "cell_type": "code",
   "execution_count": 13,
   "id": "cce4d726",
   "metadata": {
    "execution": {
     "iopub.execute_input": "2023-11-07T10:06:30.082449Z",
     "iopub.status.busy": "2023-11-07T10:06:30.081274Z",
     "iopub.status.idle": "2023-11-07T10:06:31.899348Z",
     "shell.execute_reply": "2023-11-07T10:06:31.898301Z"
    },
    "papermill": {
     "duration": 1.841628,
     "end_time": "2023-11-07T10:06:31.901615",
     "exception": false,
     "start_time": "2023-11-07T10:06:30.059987",
     "status": "completed"
    },
    "tags": []
   },
   "outputs": [
    {
     "name": "stdout",
     "output_type": "stream",
     "text": [
      "train_df has  434 columns.\n",
      " There are 414 columns that have missing values.\n",
      "We will remove 74 columns.\n"
     ]
    }
   ],
   "source": [
    "missing_df = missing_values_table(train_df, 'train_df')\n",
    "missing_columns = list(missing_df[missing_df['% of Total Values'] > 80.0].index)\n",
    "print('We will remove %d columns.' % len(missing_columns))"
   ]
  },
  {
   "cell_type": "code",
   "execution_count": 14,
   "id": "1d126fe1",
   "metadata": {
    "execution": {
     "iopub.execute_input": "2023-11-07T10:06:31.942782Z",
     "iopub.status.busy": "2023-11-07T10:06:31.942397Z",
     "iopub.status.idle": "2023-11-07T10:06:31.958133Z",
     "shell.execute_reply": "2023-11-07T10:06:31.957126Z"
    },
    "papermill": {
     "duration": 0.038464,
     "end_time": "2023-11-07T10:06:31.960268",
     "exception": false,
     "start_time": "2023-11-07T10:06:31.921804",
     "status": "completed"
    },
    "tags": []
   },
   "outputs": [
    {
     "data": {
      "text/html": [
       "<div>\n",
       "<style scoped>\n",
       "    .dataframe tbody tr th:only-of-type {\n",
       "        vertical-align: middle;\n",
       "    }\n",
       "\n",
       "    .dataframe tbody tr th {\n",
       "        vertical-align: top;\n",
       "    }\n",
       "\n",
       "    .dataframe thead th {\n",
       "        text-align: right;\n",
       "    }\n",
       "</style>\n",
       "<table border=\"1\" class=\"dataframe\">\n",
       "  <thead>\n",
       "    <tr style=\"text-align: right;\">\n",
       "      <th></th>\n",
       "      <th>Missing Values</th>\n",
       "      <th>% of Total Values</th>\n",
       "    </tr>\n",
       "  </thead>\n",
       "  <tbody>\n",
       "    <tr>\n",
       "      <th>id_24</th>\n",
       "      <td>585793</td>\n",
       "      <td>99.2</td>\n",
       "    </tr>\n",
       "    <tr>\n",
       "      <th>id_25</th>\n",
       "      <td>585408</td>\n",
       "      <td>99.1</td>\n",
       "    </tr>\n",
       "    <tr>\n",
       "      <th>id_07</th>\n",
       "      <td>585385</td>\n",
       "      <td>99.1</td>\n",
       "    </tr>\n",
       "    <tr>\n",
       "      <th>id_08</th>\n",
       "      <td>585385</td>\n",
       "      <td>99.1</td>\n",
       "    </tr>\n",
       "    <tr>\n",
       "      <th>id_21</th>\n",
       "      <td>585381</td>\n",
       "      <td>99.1</td>\n",
       "    </tr>\n",
       "    <tr>\n",
       "      <th>...</th>\n",
       "      <td>...</td>\n",
       "      <td>...</td>\n",
       "    </tr>\n",
       "    <tr>\n",
       "      <th>V285</th>\n",
       "      <td>12</td>\n",
       "      <td>0.0</td>\n",
       "    </tr>\n",
       "    <tr>\n",
       "      <th>V284</th>\n",
       "      <td>12</td>\n",
       "      <td>0.0</td>\n",
       "    </tr>\n",
       "    <tr>\n",
       "      <th>V280</th>\n",
       "      <td>12</td>\n",
       "      <td>0.0</td>\n",
       "    </tr>\n",
       "    <tr>\n",
       "      <th>V279</th>\n",
       "      <td>12</td>\n",
       "      <td>0.0</td>\n",
       "    </tr>\n",
       "    <tr>\n",
       "      <th>V312</th>\n",
       "      <td>12</td>\n",
       "      <td>0.0</td>\n",
       "    </tr>\n",
       "  </tbody>\n",
       "</table>\n",
       "<p>414 rows × 2 columns</p>\n",
       "</div>"
      ],
      "text/plain": [
       "       Missing Values  % of Total Values\n",
       "id_24          585793               99.2\n",
       "id_25          585408               99.1\n",
       "id_07          585385               99.1\n",
       "id_08          585385               99.1\n",
       "id_21          585381               99.1\n",
       "...               ...                ...\n",
       "V285               12                0.0\n",
       "V284               12                0.0\n",
       "V280               12                0.0\n",
       "V279               12                0.0\n",
       "V312               12                0.0\n",
       "\n",
       "[414 rows x 2 columns]"
      ]
     },
     "execution_count": 14,
     "metadata": {},
     "output_type": "execute_result"
    }
   ],
   "source": [
    "missing_df"
   ]
  },
  {
   "cell_type": "code",
   "execution_count": 15,
   "id": "403ec9bc",
   "metadata": {
    "execution": {
     "iopub.execute_input": "2023-11-07T10:06:32.001392Z",
     "iopub.status.busy": "2023-11-07T10:06:32.000359Z",
     "iopub.status.idle": "2023-11-07T10:06:32.858871Z",
     "shell.execute_reply": "2023-11-07T10:06:32.857578Z"
    },
    "papermill": {
     "duration": 0.881535,
     "end_time": "2023-11-07T10:06:32.861496",
     "exception": false,
     "start_time": "2023-11-07T10:06:31.979961",
     "status": "completed"
    },
    "tags": []
   },
   "outputs": [],
   "source": [
    "train_df = train_df.drop(columns = missing_columns)"
   ]
  },
  {
   "cell_type": "code",
   "execution_count": 16,
   "id": "d9ef3c44",
   "metadata": {
    "execution": {
     "iopub.execute_input": "2023-11-07T10:06:32.902700Z",
     "iopub.status.busy": "2023-11-07T10:06:32.902292Z",
     "iopub.status.idle": "2023-11-07T10:06:32.909060Z",
     "shell.execute_reply": "2023-11-07T10:06:32.907987Z"
    },
    "papermill": {
     "duration": 0.029453,
     "end_time": "2023-11-07T10:06:32.911033",
     "exception": false,
     "start_time": "2023-11-07T10:06:32.881580",
     "status": "completed"
    },
    "tags": []
   },
   "outputs": [
    {
     "data": {
      "text/plain": [
       "(590540, 360)"
      ]
     },
     "execution_count": 16,
     "metadata": {},
     "output_type": "execute_result"
    }
   ],
   "source": [
    "train_df.shape"
   ]
  },
  {
   "cell_type": "code",
   "execution_count": 17,
   "id": "910df278",
   "metadata": {
    "execution": {
     "iopub.execute_input": "2023-11-07T10:06:32.952465Z",
     "iopub.status.busy": "2023-11-07T10:06:32.951517Z",
     "iopub.status.idle": "2023-11-07T10:06:33.295915Z",
     "shell.execute_reply": "2023-11-07T10:06:33.294748Z"
    },
    "papermill": {
     "duration": 0.367646,
     "end_time": "2023-11-07T10:06:33.298240",
     "exception": false,
     "start_time": "2023-11-07T10:06:32.930594",
     "status": "completed"
    },
    "tags": []
   },
   "outputs": [
    {
     "data": {
      "text/plain": [
       "(506691, 359)"
      ]
     },
     "execution_count": 17,
     "metadata": {},
     "output_type": "execute_result"
    }
   ],
   "source": [
    "test_df = test_df.drop(columns = missing_columns)\n",
    "test_df.shape"
   ]
  },
  {
   "cell_type": "markdown",
   "id": "9dbb4d63",
   "metadata": {
    "papermill": {
     "duration": 0.019822,
     "end_time": "2023-11-07T10:06:33.337892",
     "exception": false,
     "start_time": "2023-11-07T10:06:33.318070",
     "status": "completed"
    },
    "tags": []
   },
   "source": [
    "Посмотрим ещё раз на пропуски "
   ]
  },
  {
   "cell_type": "code",
   "execution_count": 18,
   "id": "793a039d",
   "metadata": {
    "execution": {
     "iopub.execute_input": "2023-11-07T10:06:33.379617Z",
     "iopub.status.busy": "2023-11-07T10:06:33.378805Z",
     "iopub.status.idle": "2023-11-07T10:06:34.933580Z",
     "shell.execute_reply": "2023-11-07T10:06:34.932841Z"
    },
    "papermill": {
     "duration": 1.577612,
     "end_time": "2023-11-07T10:06:34.935347",
     "exception": false,
     "start_time": "2023-11-07T10:06:33.357735",
     "status": "completed"
    },
    "tags": []
   },
   "outputs": [
    {
     "name": "stdout",
     "output_type": "stream",
     "text": [
      "train_df has  360 columns.\n",
      " There are 340 columns that have missing values.\n"
     ]
    },
    {
     "data": {
      "text/html": [
       "<div>\n",
       "<style scoped>\n",
       "    .dataframe tbody tr th:only-of-type {\n",
       "        vertical-align: middle;\n",
       "    }\n",
       "\n",
       "    .dataframe tbody tr th {\n",
       "        vertical-align: top;\n",
       "    }\n",
       "\n",
       "    .dataframe thead th {\n",
       "        text-align: right;\n",
       "    }\n",
       "</style>\n",
       "<table border=\"1\" class=\"dataframe\">\n",
       "  <thead>\n",
       "    <tr style=\"text-align: right;\">\n",
       "      <th></th>\n",
       "      <th>Missing Values</th>\n",
       "      <th>% of Total Values</th>\n",
       "    </tr>\n",
       "  </thead>\n",
       "  <tbody>\n",
       "    <tr>\n",
       "      <th>DeviceInfo</th>\n",
       "      <td>471874</td>\n",
       "      <td>79.9</td>\n",
       "    </tr>\n",
       "    <tr>\n",
       "      <th>id_13</th>\n",
       "      <td>463220</td>\n",
       "      <td>78.4</td>\n",
       "    </tr>\n",
       "    <tr>\n",
       "      <th>id_16</th>\n",
       "      <td>461200</td>\n",
       "      <td>78.1</td>\n",
       "    </tr>\n",
       "    <tr>\n",
       "      <th>V233</th>\n",
       "      <td>460110</td>\n",
       "      <td>77.9</td>\n",
       "    </tr>\n",
       "    <tr>\n",
       "      <th>V249</th>\n",
       "      <td>460110</td>\n",
       "      <td>77.9</td>\n",
       "    </tr>\n",
       "    <tr>\n",
       "      <th>...</th>\n",
       "      <td>...</td>\n",
       "      <td>...</td>\n",
       "    </tr>\n",
       "    <tr>\n",
       "      <th>V309</th>\n",
       "      <td>12</td>\n",
       "      <td>0.0</td>\n",
       "    </tr>\n",
       "    <tr>\n",
       "      <th>V310</th>\n",
       "      <td>12</td>\n",
       "      <td>0.0</td>\n",
       "    </tr>\n",
       "    <tr>\n",
       "      <th>V311</th>\n",
       "      <td>12</td>\n",
       "      <td>0.0</td>\n",
       "    </tr>\n",
       "    <tr>\n",
       "      <th>V312</th>\n",
       "      <td>12</td>\n",
       "      <td>0.0</td>\n",
       "    </tr>\n",
       "    <tr>\n",
       "      <th>V297</th>\n",
       "      <td>12</td>\n",
       "      <td>0.0</td>\n",
       "    </tr>\n",
       "  </tbody>\n",
       "</table>\n",
       "<p>340 rows × 2 columns</p>\n",
       "</div>"
      ],
      "text/plain": [
       "            Missing Values  % of Total Values\n",
       "DeviceInfo          471874               79.9\n",
       "id_13               463220               78.4\n",
       "id_16               461200               78.1\n",
       "V233                460110               77.9\n",
       "V249                460110               77.9\n",
       "...                    ...                ...\n",
       "V309                    12                0.0\n",
       "V310                    12                0.0\n",
       "V311                    12                0.0\n",
       "V312                    12                0.0\n",
       "V297                    12                0.0\n",
       "\n",
       "[340 rows x 2 columns]"
      ]
     },
     "execution_count": 18,
     "metadata": {},
     "output_type": "execute_result"
    }
   ],
   "source": [
    "missing_values_table(train_df, 'train_df')"
   ]
  },
  {
   "cell_type": "code",
   "execution_count": 19,
   "id": "f5fc2611",
   "metadata": {
    "execution": {
     "iopub.execute_input": "2023-11-07T10:06:34.977970Z",
     "iopub.status.busy": "2023-11-07T10:06:34.977103Z",
     "iopub.status.idle": "2023-11-07T10:06:36.329582Z",
     "shell.execute_reply": "2023-11-07T10:06:36.328565Z"
    },
    "papermill": {
     "duration": 1.376032,
     "end_time": "2023-11-07T10:06:36.331794",
     "exception": false,
     "start_time": "2023-11-07T10:06:34.955762",
     "status": "completed"
    },
    "tags": []
   },
   "outputs": [
    {
     "name": "stdout",
     "output_type": "stream",
     "text": [
      "test_df has  359 columns.\n",
      " There are 311 columns that have missing values.\n"
     ]
    },
    {
     "data": {
      "text/html": [
       "<div>\n",
       "<style scoped>\n",
       "    .dataframe tbody tr th:only-of-type {\n",
       "        vertical-align: middle;\n",
       "    }\n",
       "\n",
       "    .dataframe tbody tr th {\n",
       "        vertical-align: top;\n",
       "    }\n",
       "\n",
       "    .dataframe thead th {\n",
       "        text-align: right;\n",
       "    }\n",
       "</style>\n",
       "<table border=\"1\" class=\"dataframe\">\n",
       "  <thead>\n",
       "    <tr style=\"text-align: right;\">\n",
       "      <th></th>\n",
       "      <th>Missing Values</th>\n",
       "      <th>% of Total Values</th>\n",
       "    </tr>\n",
       "  </thead>\n",
       "  <tbody>\n",
       "    <tr>\n",
       "      <th>DeviceInfo</th>\n",
       "      <td>391634</td>\n",
       "      <td>77.3</td>\n",
       "    </tr>\n",
       "    <tr>\n",
       "      <th>id_16</th>\n",
       "      <td>380944</td>\n",
       "      <td>75.2</td>\n",
       "    </tr>\n",
       "    <tr>\n",
       "      <th>V235</th>\n",
       "      <td>379963</td>\n",
       "      <td>75.0</td>\n",
       "    </tr>\n",
       "    <tr>\n",
       "      <th>V252</th>\n",
       "      <td>379963</td>\n",
       "      <td>75.0</td>\n",
       "    </tr>\n",
       "    <tr>\n",
       "      <th>V249</th>\n",
       "      <td>379963</td>\n",
       "      <td>75.0</td>\n",
       "    </tr>\n",
       "    <tr>\n",
       "      <th>...</th>\n",
       "      <td>...</td>\n",
       "      <td>...</td>\n",
       "    </tr>\n",
       "    <tr>\n",
       "      <th>V307</th>\n",
       "      <td>3</td>\n",
       "      <td>0.0</td>\n",
       "    </tr>\n",
       "    <tr>\n",
       "      <th>V308</th>\n",
       "      <td>3</td>\n",
       "      <td>0.0</td>\n",
       "    </tr>\n",
       "    <tr>\n",
       "      <th>V309</th>\n",
       "      <td>3</td>\n",
       "      <td>0.0</td>\n",
       "    </tr>\n",
       "    <tr>\n",
       "      <th>V310</th>\n",
       "      <td>3</td>\n",
       "      <td>0.0</td>\n",
       "    </tr>\n",
       "    <tr>\n",
       "      <th>V279</th>\n",
       "      <td>3</td>\n",
       "      <td>0.0</td>\n",
       "    </tr>\n",
       "  </tbody>\n",
       "</table>\n",
       "<p>311 rows × 2 columns</p>\n",
       "</div>"
      ],
      "text/plain": [
       "            Missing Values  % of Total Values\n",
       "DeviceInfo          391634               77.3\n",
       "id_16               380944               75.2\n",
       "V235                379963               75.0\n",
       "V252                379963               75.0\n",
       "V249                379963               75.0\n",
       "...                    ...                ...\n",
       "V307                     3                0.0\n",
       "V308                     3                0.0\n",
       "V309                     3                0.0\n",
       "V310                     3                0.0\n",
       "V279                     3                0.0\n",
       "\n",
       "[311 rows x 2 columns]"
      ]
     },
     "execution_count": 19,
     "metadata": {},
     "output_type": "execute_result"
    }
   ],
   "source": [
    "missing_values_table(test_df, 'test_df')"
   ]
  },
  {
   "cell_type": "code",
   "execution_count": 20,
   "id": "1dd61298",
   "metadata": {
    "execution": {
     "iopub.execute_input": "2023-11-07T10:06:36.374292Z",
     "iopub.status.busy": "2023-11-07T10:06:36.373427Z",
     "iopub.status.idle": "2023-11-07T10:06:36.709079Z",
     "shell.execute_reply": "2023-11-07T10:06:36.708002Z"
    },
    "papermill": {
     "duration": 0.35952,
     "end_time": "2023-11-07T10:06:36.711520",
     "exception": false,
     "start_time": "2023-11-07T10:06:36.352000",
     "status": "completed"
    },
    "tags": []
   },
   "outputs": [
    {
     "data": {
      "text/html": [
       "<div>\n",
       "<style scoped>\n",
       "    .dataframe tbody tr th:only-of-type {\n",
       "        vertical-align: middle;\n",
       "    }\n",
       "\n",
       "    .dataframe tbody tr th {\n",
       "        vertical-align: top;\n",
       "    }\n",
       "\n",
       "    .dataframe thead th {\n",
       "        text-align: right;\n",
       "    }\n",
       "</style>\n",
       "<table border=\"1\" class=\"dataframe\">\n",
       "  <thead>\n",
       "    <tr style=\"text-align: right;\">\n",
       "      <th></th>\n",
       "      <th>TransactionID</th>\n",
       "      <th>isFraud</th>\n",
       "      <th>TransactionDT</th>\n",
       "      <th>TransactionAmt</th>\n",
       "      <th>ProductCD</th>\n",
       "      <th>card1</th>\n",
       "      <th>card2</th>\n",
       "      <th>card3</th>\n",
       "      <th>card4</th>\n",
       "      <th>card5</th>\n",
       "      <th>...</th>\n",
       "      <th>id_20</th>\n",
       "      <th>id_28</th>\n",
       "      <th>id_29</th>\n",
       "      <th>id_31</th>\n",
       "      <th>id_35</th>\n",
       "      <th>id_36</th>\n",
       "      <th>id_37</th>\n",
       "      <th>id_38</th>\n",
       "      <th>DeviceType</th>\n",
       "      <th>DeviceInfo</th>\n",
       "    </tr>\n",
       "  </thead>\n",
       "  <tbody>\n",
       "    <tr>\n",
       "      <th>0</th>\n",
       "      <td>2987000</td>\n",
       "      <td>0</td>\n",
       "      <td>86400</td>\n",
       "      <td>68.500000</td>\n",
       "      <td>W</td>\n",
       "      <td>13926</td>\n",
       "      <td>NaN</td>\n",
       "      <td>150.0</td>\n",
       "      <td>discover</td>\n",
       "      <td>142.0</td>\n",
       "      <td>...</td>\n",
       "      <td>NaN</td>\n",
       "      <td>NaN</td>\n",
       "      <td>NaN</td>\n",
       "      <td>NaN</td>\n",
       "      <td>NaN</td>\n",
       "      <td>NaN</td>\n",
       "      <td>NaN</td>\n",
       "      <td>NaN</td>\n",
       "      <td>NaN</td>\n",
       "      <td>NaN</td>\n",
       "    </tr>\n",
       "    <tr>\n",
       "      <th>1</th>\n",
       "      <td>2987001</td>\n",
       "      <td>0</td>\n",
       "      <td>86401</td>\n",
       "      <td>29.000000</td>\n",
       "      <td>W</td>\n",
       "      <td>2755</td>\n",
       "      <td>404.0</td>\n",
       "      <td>150.0</td>\n",
       "      <td>mastercard</td>\n",
       "      <td>102.0</td>\n",
       "      <td>...</td>\n",
       "      <td>NaN</td>\n",
       "      <td>NaN</td>\n",
       "      <td>NaN</td>\n",
       "      <td>NaN</td>\n",
       "      <td>NaN</td>\n",
       "      <td>NaN</td>\n",
       "      <td>NaN</td>\n",
       "      <td>NaN</td>\n",
       "      <td>NaN</td>\n",
       "      <td>NaN</td>\n",
       "    </tr>\n",
       "    <tr>\n",
       "      <th>2</th>\n",
       "      <td>2987002</td>\n",
       "      <td>0</td>\n",
       "      <td>86469</td>\n",
       "      <td>59.000000</td>\n",
       "      <td>W</td>\n",
       "      <td>4663</td>\n",
       "      <td>490.0</td>\n",
       "      <td>150.0</td>\n",
       "      <td>visa</td>\n",
       "      <td>166.0</td>\n",
       "      <td>...</td>\n",
       "      <td>NaN</td>\n",
       "      <td>NaN</td>\n",
       "      <td>NaN</td>\n",
       "      <td>NaN</td>\n",
       "      <td>NaN</td>\n",
       "      <td>NaN</td>\n",
       "      <td>NaN</td>\n",
       "      <td>NaN</td>\n",
       "      <td>NaN</td>\n",
       "      <td>NaN</td>\n",
       "    </tr>\n",
       "    <tr>\n",
       "      <th>3</th>\n",
       "      <td>2987003</td>\n",
       "      <td>0</td>\n",
       "      <td>86499</td>\n",
       "      <td>50.000000</td>\n",
       "      <td>W</td>\n",
       "      <td>18132</td>\n",
       "      <td>567.0</td>\n",
       "      <td>150.0</td>\n",
       "      <td>mastercard</td>\n",
       "      <td>117.0</td>\n",
       "      <td>...</td>\n",
       "      <td>NaN</td>\n",
       "      <td>NaN</td>\n",
       "      <td>NaN</td>\n",
       "      <td>NaN</td>\n",
       "      <td>NaN</td>\n",
       "      <td>NaN</td>\n",
       "      <td>NaN</td>\n",
       "      <td>NaN</td>\n",
       "      <td>NaN</td>\n",
       "      <td>NaN</td>\n",
       "    </tr>\n",
       "    <tr>\n",
       "      <th>4</th>\n",
       "      <td>2987004</td>\n",
       "      <td>0</td>\n",
       "      <td>86506</td>\n",
       "      <td>50.000000</td>\n",
       "      <td>H</td>\n",
       "      <td>4497</td>\n",
       "      <td>514.0</td>\n",
       "      <td>150.0</td>\n",
       "      <td>mastercard</td>\n",
       "      <td>102.0</td>\n",
       "      <td>...</td>\n",
       "      <td>144.0</td>\n",
       "      <td>New</td>\n",
       "      <td>NotFound</td>\n",
       "      <td>samsung browser 6.2</td>\n",
       "      <td>T</td>\n",
       "      <td>F</td>\n",
       "      <td>T</td>\n",
       "      <td>T</td>\n",
       "      <td>mobile</td>\n",
       "      <td>SAMSUNG SM-G892A Build/NRD90M</td>\n",
       "    </tr>\n",
       "    <tr>\n",
       "      <th>...</th>\n",
       "      <td>...</td>\n",
       "      <td>...</td>\n",
       "      <td>...</td>\n",
       "      <td>...</td>\n",
       "      <td>...</td>\n",
       "      <td>...</td>\n",
       "      <td>...</td>\n",
       "      <td>...</td>\n",
       "      <td>...</td>\n",
       "      <td>...</td>\n",
       "      <td>...</td>\n",
       "      <td>...</td>\n",
       "      <td>...</td>\n",
       "      <td>...</td>\n",
       "      <td>...</td>\n",
       "      <td>...</td>\n",
       "      <td>...</td>\n",
       "      <td>...</td>\n",
       "      <td>...</td>\n",
       "      <td>...</td>\n",
       "      <td>...</td>\n",
       "    </tr>\n",
       "    <tr>\n",
       "      <th>590535</th>\n",
       "      <td>3577535</td>\n",
       "      <td>0</td>\n",
       "      <td>15811047</td>\n",
       "      <td>49.000000</td>\n",
       "      <td>W</td>\n",
       "      <td>6550</td>\n",
       "      <td>NaN</td>\n",
       "      <td>150.0</td>\n",
       "      <td>visa</td>\n",
       "      <td>226.0</td>\n",
       "      <td>...</td>\n",
       "      <td>NaN</td>\n",
       "      <td>NaN</td>\n",
       "      <td>NaN</td>\n",
       "      <td>NaN</td>\n",
       "      <td>NaN</td>\n",
       "      <td>NaN</td>\n",
       "      <td>NaN</td>\n",
       "      <td>NaN</td>\n",
       "      <td>NaN</td>\n",
       "      <td>NaN</td>\n",
       "    </tr>\n",
       "    <tr>\n",
       "      <th>590536</th>\n",
       "      <td>3577536</td>\n",
       "      <td>0</td>\n",
       "      <td>15811049</td>\n",
       "      <td>39.500000</td>\n",
       "      <td>W</td>\n",
       "      <td>10444</td>\n",
       "      <td>225.0</td>\n",
       "      <td>150.0</td>\n",
       "      <td>mastercard</td>\n",
       "      <td>224.0</td>\n",
       "      <td>...</td>\n",
       "      <td>NaN</td>\n",
       "      <td>NaN</td>\n",
       "      <td>NaN</td>\n",
       "      <td>NaN</td>\n",
       "      <td>NaN</td>\n",
       "      <td>NaN</td>\n",
       "      <td>NaN</td>\n",
       "      <td>NaN</td>\n",
       "      <td>NaN</td>\n",
       "      <td>NaN</td>\n",
       "    </tr>\n",
       "    <tr>\n",
       "      <th>590537</th>\n",
       "      <td>3577537</td>\n",
       "      <td>0</td>\n",
       "      <td>15811079</td>\n",
       "      <td>30.950001</td>\n",
       "      <td>W</td>\n",
       "      <td>12037</td>\n",
       "      <td>595.0</td>\n",
       "      <td>150.0</td>\n",
       "      <td>mastercard</td>\n",
       "      <td>224.0</td>\n",
       "      <td>...</td>\n",
       "      <td>NaN</td>\n",
       "      <td>NaN</td>\n",
       "      <td>NaN</td>\n",
       "      <td>NaN</td>\n",
       "      <td>NaN</td>\n",
       "      <td>NaN</td>\n",
       "      <td>NaN</td>\n",
       "      <td>NaN</td>\n",
       "      <td>NaN</td>\n",
       "      <td>NaN</td>\n",
       "    </tr>\n",
       "    <tr>\n",
       "      <th>590538</th>\n",
       "      <td>3577538</td>\n",
       "      <td>0</td>\n",
       "      <td>15811088</td>\n",
       "      <td>117.000000</td>\n",
       "      <td>W</td>\n",
       "      <td>7826</td>\n",
       "      <td>481.0</td>\n",
       "      <td>150.0</td>\n",
       "      <td>mastercard</td>\n",
       "      <td>224.0</td>\n",
       "      <td>...</td>\n",
       "      <td>NaN</td>\n",
       "      <td>NaN</td>\n",
       "      <td>NaN</td>\n",
       "      <td>NaN</td>\n",
       "      <td>NaN</td>\n",
       "      <td>NaN</td>\n",
       "      <td>NaN</td>\n",
       "      <td>NaN</td>\n",
       "      <td>NaN</td>\n",
       "      <td>NaN</td>\n",
       "    </tr>\n",
       "    <tr>\n",
       "      <th>590539</th>\n",
       "      <td>3577539</td>\n",
       "      <td>0</td>\n",
       "      <td>15811131</td>\n",
       "      <td>279.950012</td>\n",
       "      <td>W</td>\n",
       "      <td>15066</td>\n",
       "      <td>170.0</td>\n",
       "      <td>150.0</td>\n",
       "      <td>mastercard</td>\n",
       "      <td>102.0</td>\n",
       "      <td>...</td>\n",
       "      <td>NaN</td>\n",
       "      <td>NaN</td>\n",
       "      <td>NaN</td>\n",
       "      <td>NaN</td>\n",
       "      <td>NaN</td>\n",
       "      <td>NaN</td>\n",
       "      <td>NaN</td>\n",
       "      <td>NaN</td>\n",
       "      <td>NaN</td>\n",
       "      <td>NaN</td>\n",
       "    </tr>\n",
       "  </tbody>\n",
       "</table>\n",
       "<p>590540 rows × 360 columns</p>\n",
       "</div>"
      ],
      "text/plain": [
       "        TransactionID  isFraud  TransactionDT  TransactionAmt ProductCD  \\\n",
       "0             2987000        0          86400       68.500000         W   \n",
       "1             2987001        0          86401       29.000000         W   \n",
       "2             2987002        0          86469       59.000000         W   \n",
       "3             2987003        0          86499       50.000000         W   \n",
       "4             2987004        0          86506       50.000000         H   \n",
       "...               ...      ...            ...             ...       ...   \n",
       "590535        3577535        0       15811047       49.000000         W   \n",
       "590536        3577536        0       15811049       39.500000         W   \n",
       "590537        3577537        0       15811079       30.950001         W   \n",
       "590538        3577538        0       15811088      117.000000         W   \n",
       "590539        3577539        0       15811131      279.950012         W   \n",
       "\n",
       "        card1  card2  card3       card4  card5  ...  id_20  id_28     id_29  \\\n",
       "0       13926    NaN  150.0    discover  142.0  ...    NaN    NaN       NaN   \n",
       "1        2755  404.0  150.0  mastercard  102.0  ...    NaN    NaN       NaN   \n",
       "2        4663  490.0  150.0        visa  166.0  ...    NaN    NaN       NaN   \n",
       "3       18132  567.0  150.0  mastercard  117.0  ...    NaN    NaN       NaN   \n",
       "4        4497  514.0  150.0  mastercard  102.0  ...  144.0    New  NotFound   \n",
       "...       ...    ...    ...         ...    ...  ...    ...    ...       ...   \n",
       "590535   6550    NaN  150.0        visa  226.0  ...    NaN    NaN       NaN   \n",
       "590536  10444  225.0  150.0  mastercard  224.0  ...    NaN    NaN       NaN   \n",
       "590537  12037  595.0  150.0  mastercard  224.0  ...    NaN    NaN       NaN   \n",
       "590538   7826  481.0  150.0  mastercard  224.0  ...    NaN    NaN       NaN   \n",
       "590539  15066  170.0  150.0  mastercard  102.0  ...    NaN    NaN       NaN   \n",
       "\n",
       "                      id_31 id_35 id_36  id_37  id_38  DeviceType  \\\n",
       "0                       NaN   NaN   NaN    NaN    NaN         NaN   \n",
       "1                       NaN   NaN   NaN    NaN    NaN         NaN   \n",
       "2                       NaN   NaN   NaN    NaN    NaN         NaN   \n",
       "3                       NaN   NaN   NaN    NaN    NaN         NaN   \n",
       "4       samsung browser 6.2     T     F      T      T      mobile   \n",
       "...                     ...   ...   ...    ...    ...         ...   \n",
       "590535                  NaN   NaN   NaN    NaN    NaN         NaN   \n",
       "590536                  NaN   NaN   NaN    NaN    NaN         NaN   \n",
       "590537                  NaN   NaN   NaN    NaN    NaN         NaN   \n",
       "590538                  NaN   NaN   NaN    NaN    NaN         NaN   \n",
       "590539                  NaN   NaN   NaN    NaN    NaN         NaN   \n",
       "\n",
       "                           DeviceInfo  \n",
       "0                                 NaN  \n",
       "1                                 NaN  \n",
       "2                                 NaN  \n",
       "3                                 NaN  \n",
       "4       SAMSUNG SM-G892A Build/NRD90M  \n",
       "...                               ...  \n",
       "590535                            NaN  \n",
       "590536                            NaN  \n",
       "590537                            NaN  \n",
       "590538                            NaN  \n",
       "590539                            NaN  \n",
       "\n",
       "[590540 rows x 360 columns]"
      ]
     },
     "execution_count": 20,
     "metadata": {},
     "output_type": "execute_result"
    }
   ],
   "source": [
    "train_df"
   ]
  },
  {
   "cell_type": "markdown",
   "id": "03383a57",
   "metadata": {
    "papermill": {
     "duration": 0.02054,
     "end_time": "2023-11-07T10:06:36.752864",
     "exception": false,
     "start_time": "2023-11-07T10:06:36.732324",
     "status": "completed"
    },
    "tags": []
   },
   "source": [
    "#### Заполним пропуски тренировочного и тестового датасетов"
   ]
  },
  {
   "cell_type": "markdown",
   "id": "8aaaaf31",
   "metadata": {
    "papermill": {
     "duration": 0.020722,
     "end_time": "2023-11-07T10:06:36.794215",
     "exception": false,
     "start_time": "2023-11-07T10:06:36.773493",
     "status": "completed"
    },
    "tags": []
   },
   "source": [
    "Создадим списки числовых и категориальных признаков:"
   ]
  },
  {
   "cell_type": "code",
   "execution_count": 21,
   "id": "5c2cb641",
   "metadata": {
    "execution": {
     "iopub.execute_input": "2023-11-07T10:06:36.837777Z",
     "iopub.status.busy": "2023-11-07T10:06:36.836945Z",
     "iopub.status.idle": "2023-11-07T10:06:37.104648Z",
     "shell.execute_reply": "2023-11-07T10:06:37.103549Z"
    },
    "papermill": {
     "duration": 0.291993,
     "end_time": "2023-11-07T10:06:37.106818",
     "exception": false,
     "start_time": "2023-11-07T10:06:36.814825",
     "status": "completed"
    },
    "tags": []
   },
   "outputs": [
    {
     "name": "stdout",
     "output_type": "stream",
     "text": [
      "len cat_features:  26\n",
      "len num_features:  332\n"
     ]
    }
   ],
   "source": [
    "cat_features = train_df.select_dtypes(include=['object']).columns\n",
    "num_features = [x for x in train_df.columns.values[2:] \n",
    "                if x not in cat_features]\n",
    "print('len cat_features: ', len(cat_features))\n",
    "print('len num_features: ', len(num_features))"
   ]
  },
  {
   "cell_type": "markdown",
   "id": "3f6b70e1",
   "metadata": {
    "papermill": {
     "duration": 0.020357,
     "end_time": "2023-11-07T10:06:37.147899",
     "exception": false,
     "start_time": "2023-11-07T10:06:37.127542",
     "status": "completed"
    },
    "tags": []
   },
   "source": [
    "Пропуски в числовых признаках мы заполним средним по колонке"
   ]
  },
  {
   "cell_type": "code",
   "execution_count": 22,
   "id": "a7e5e43a",
   "metadata": {
    "execution": {
     "iopub.execute_input": "2023-11-07T10:06:37.191401Z",
     "iopub.status.busy": "2023-11-07T10:06:37.190635Z",
     "iopub.status.idle": "2023-11-07T10:06:42.253193Z",
     "shell.execute_reply": "2023-11-07T10:06:42.251551Z"
    },
    "papermill": {
     "duration": 5.088755,
     "end_time": "2023-11-07T10:06:42.257265",
     "exception": false,
     "start_time": "2023-11-07T10:06:37.168510",
     "status": "completed"
    },
    "tags": []
   },
   "outputs": [],
   "source": [
    "train_df[num_features] = train_df[num_features].fillna(\n",
    "    train_df[num_features].mean())"
   ]
  },
  {
   "cell_type": "markdown",
   "id": "1f566233",
   "metadata": {
    "papermill": {
     "duration": 0.040477,
     "end_time": "2023-11-07T10:06:42.330555",
     "exception": false,
     "start_time": "2023-11-07T10:06:42.290078",
     "status": "completed"
    },
    "tags": []
   },
   "source": [
    "Для категориальных признаков будем использовать ```-1.0``` в качестве символа пропуска:"
   ]
  },
  {
   "cell_type": "code",
   "execution_count": 23,
   "id": "37134706",
   "metadata": {
    "execution": {
     "iopub.execute_input": "2023-11-07T10:06:42.394561Z",
     "iopub.status.busy": "2023-11-07T10:06:42.393890Z",
     "iopub.status.idle": "2023-11-07T10:06:44.310590Z",
     "shell.execute_reply": "2023-11-07T10:06:44.309482Z"
    },
    "papermill": {
     "duration": 1.946629,
     "end_time": "2023-11-07T10:06:44.313393",
     "exception": false,
     "start_time": "2023-11-07T10:06:42.366764",
     "status": "completed"
    },
    "tags": []
   },
   "outputs": [],
   "source": [
    "train_df = train_df.fillna(-1)"
   ]
  },
  {
   "cell_type": "code",
   "execution_count": 24,
   "id": "7accc18f",
   "metadata": {
    "execution": {
     "iopub.execute_input": "2023-11-07T10:06:44.358116Z",
     "iopub.status.busy": "2023-11-07T10:06:44.357396Z",
     "iopub.status.idle": "2023-11-07T10:06:45.554483Z",
     "shell.execute_reply": "2023-11-07T10:06:45.551814Z"
    },
    "papermill": {
     "duration": 1.226695,
     "end_time": "2023-11-07T10:06:45.561318",
     "exception": false,
     "start_time": "2023-11-07T10:06:44.334623",
     "status": "completed"
    },
    "tags": []
   },
   "outputs": [
    {
     "data": {
      "text/html": [
       "<div>\n",
       "<style scoped>\n",
       "    .dataframe tbody tr th:only-of-type {\n",
       "        vertical-align: middle;\n",
       "    }\n",
       "\n",
       "    .dataframe tbody tr th {\n",
       "        vertical-align: top;\n",
       "    }\n",
       "\n",
       "    .dataframe thead th {\n",
       "        text-align: right;\n",
       "    }\n",
       "</style>\n",
       "<table border=\"1\" class=\"dataframe\">\n",
       "  <thead>\n",
       "    <tr style=\"text-align: right;\">\n",
       "      <th></th>\n",
       "      <th>TransactionID</th>\n",
       "      <th>isFraud</th>\n",
       "      <th>TransactionDT</th>\n",
       "      <th>TransactionAmt</th>\n",
       "      <th>ProductCD</th>\n",
       "      <th>card1</th>\n",
       "      <th>card2</th>\n",
       "      <th>card3</th>\n",
       "      <th>card4</th>\n",
       "      <th>card5</th>\n",
       "      <th>...</th>\n",
       "      <th>id_20</th>\n",
       "      <th>id_28</th>\n",
       "      <th>id_29</th>\n",
       "      <th>id_31</th>\n",
       "      <th>id_35</th>\n",
       "      <th>id_36</th>\n",
       "      <th>id_37</th>\n",
       "      <th>id_38</th>\n",
       "      <th>DeviceType</th>\n",
       "      <th>DeviceInfo</th>\n",
       "    </tr>\n",
       "  </thead>\n",
       "  <tbody>\n",
       "    <tr>\n",
       "      <th>0</th>\n",
       "      <td>2987000</td>\n",
       "      <td>0</td>\n",
       "      <td>86400</td>\n",
       "      <td>68.500000</td>\n",
       "      <td>W</td>\n",
       "      <td>13926</td>\n",
       "      <td>362.555511</td>\n",
       "      <td>150.0</td>\n",
       "      <td>discover</td>\n",
       "      <td>142.0</td>\n",
       "      <td>...</td>\n",
       "      <td>403.882568</td>\n",
       "      <td>-1</td>\n",
       "      <td>-1</td>\n",
       "      <td>-1</td>\n",
       "      <td>-1</td>\n",
       "      <td>-1</td>\n",
       "      <td>-1</td>\n",
       "      <td>-1</td>\n",
       "      <td>-1</td>\n",
       "      <td>-1</td>\n",
       "    </tr>\n",
       "    <tr>\n",
       "      <th>1</th>\n",
       "      <td>2987001</td>\n",
       "      <td>0</td>\n",
       "      <td>86401</td>\n",
       "      <td>29.000000</td>\n",
       "      <td>W</td>\n",
       "      <td>2755</td>\n",
       "      <td>404.000000</td>\n",
       "      <td>150.0</td>\n",
       "      <td>mastercard</td>\n",
       "      <td>102.0</td>\n",
       "      <td>...</td>\n",
       "      <td>403.882568</td>\n",
       "      <td>-1</td>\n",
       "      <td>-1</td>\n",
       "      <td>-1</td>\n",
       "      <td>-1</td>\n",
       "      <td>-1</td>\n",
       "      <td>-1</td>\n",
       "      <td>-1</td>\n",
       "      <td>-1</td>\n",
       "      <td>-1</td>\n",
       "    </tr>\n",
       "    <tr>\n",
       "      <th>2</th>\n",
       "      <td>2987002</td>\n",
       "      <td>0</td>\n",
       "      <td>86469</td>\n",
       "      <td>59.000000</td>\n",
       "      <td>W</td>\n",
       "      <td>4663</td>\n",
       "      <td>490.000000</td>\n",
       "      <td>150.0</td>\n",
       "      <td>visa</td>\n",
       "      <td>166.0</td>\n",
       "      <td>...</td>\n",
       "      <td>403.882568</td>\n",
       "      <td>-1</td>\n",
       "      <td>-1</td>\n",
       "      <td>-1</td>\n",
       "      <td>-1</td>\n",
       "      <td>-1</td>\n",
       "      <td>-1</td>\n",
       "      <td>-1</td>\n",
       "      <td>-1</td>\n",
       "      <td>-1</td>\n",
       "    </tr>\n",
       "    <tr>\n",
       "      <th>3</th>\n",
       "      <td>2987003</td>\n",
       "      <td>0</td>\n",
       "      <td>86499</td>\n",
       "      <td>50.000000</td>\n",
       "      <td>W</td>\n",
       "      <td>18132</td>\n",
       "      <td>567.000000</td>\n",
       "      <td>150.0</td>\n",
       "      <td>mastercard</td>\n",
       "      <td>117.0</td>\n",
       "      <td>...</td>\n",
       "      <td>403.882568</td>\n",
       "      <td>-1</td>\n",
       "      <td>-1</td>\n",
       "      <td>-1</td>\n",
       "      <td>-1</td>\n",
       "      <td>-1</td>\n",
       "      <td>-1</td>\n",
       "      <td>-1</td>\n",
       "      <td>-1</td>\n",
       "      <td>-1</td>\n",
       "    </tr>\n",
       "    <tr>\n",
       "      <th>4</th>\n",
       "      <td>2987004</td>\n",
       "      <td>0</td>\n",
       "      <td>86506</td>\n",
       "      <td>50.000000</td>\n",
       "      <td>H</td>\n",
       "      <td>4497</td>\n",
       "      <td>514.000000</td>\n",
       "      <td>150.0</td>\n",
       "      <td>mastercard</td>\n",
       "      <td>102.0</td>\n",
       "      <td>...</td>\n",
       "      <td>144.000000</td>\n",
       "      <td>New</td>\n",
       "      <td>NotFound</td>\n",
       "      <td>samsung browser 6.2</td>\n",
       "      <td>T</td>\n",
       "      <td>F</td>\n",
       "      <td>T</td>\n",
       "      <td>T</td>\n",
       "      <td>mobile</td>\n",
       "      <td>SAMSUNG SM-G892A Build/NRD90M</td>\n",
       "    </tr>\n",
       "    <tr>\n",
       "      <th>...</th>\n",
       "      <td>...</td>\n",
       "      <td>...</td>\n",
       "      <td>...</td>\n",
       "      <td>...</td>\n",
       "      <td>...</td>\n",
       "      <td>...</td>\n",
       "      <td>...</td>\n",
       "      <td>...</td>\n",
       "      <td>...</td>\n",
       "      <td>...</td>\n",
       "      <td>...</td>\n",
       "      <td>...</td>\n",
       "      <td>...</td>\n",
       "      <td>...</td>\n",
       "      <td>...</td>\n",
       "      <td>...</td>\n",
       "      <td>...</td>\n",
       "      <td>...</td>\n",
       "      <td>...</td>\n",
       "      <td>...</td>\n",
       "      <td>...</td>\n",
       "    </tr>\n",
       "    <tr>\n",
       "      <th>590535</th>\n",
       "      <td>3577535</td>\n",
       "      <td>0</td>\n",
       "      <td>15811047</td>\n",
       "      <td>49.000000</td>\n",
       "      <td>W</td>\n",
       "      <td>6550</td>\n",
       "      <td>362.555511</td>\n",
       "      <td>150.0</td>\n",
       "      <td>visa</td>\n",
       "      <td>226.0</td>\n",
       "      <td>...</td>\n",
       "      <td>403.882568</td>\n",
       "      <td>-1</td>\n",
       "      <td>-1</td>\n",
       "      <td>-1</td>\n",
       "      <td>-1</td>\n",
       "      <td>-1</td>\n",
       "      <td>-1</td>\n",
       "      <td>-1</td>\n",
       "      <td>-1</td>\n",
       "      <td>-1</td>\n",
       "    </tr>\n",
       "    <tr>\n",
       "      <th>590536</th>\n",
       "      <td>3577536</td>\n",
       "      <td>0</td>\n",
       "      <td>15811049</td>\n",
       "      <td>39.500000</td>\n",
       "      <td>W</td>\n",
       "      <td>10444</td>\n",
       "      <td>225.000000</td>\n",
       "      <td>150.0</td>\n",
       "      <td>mastercard</td>\n",
       "      <td>224.0</td>\n",
       "      <td>...</td>\n",
       "      <td>403.882568</td>\n",
       "      <td>-1</td>\n",
       "      <td>-1</td>\n",
       "      <td>-1</td>\n",
       "      <td>-1</td>\n",
       "      <td>-1</td>\n",
       "      <td>-1</td>\n",
       "      <td>-1</td>\n",
       "      <td>-1</td>\n",
       "      <td>-1</td>\n",
       "    </tr>\n",
       "    <tr>\n",
       "      <th>590537</th>\n",
       "      <td>3577537</td>\n",
       "      <td>0</td>\n",
       "      <td>15811079</td>\n",
       "      <td>30.950001</td>\n",
       "      <td>W</td>\n",
       "      <td>12037</td>\n",
       "      <td>595.000000</td>\n",
       "      <td>150.0</td>\n",
       "      <td>mastercard</td>\n",
       "      <td>224.0</td>\n",
       "      <td>...</td>\n",
       "      <td>403.882568</td>\n",
       "      <td>-1</td>\n",
       "      <td>-1</td>\n",
       "      <td>-1</td>\n",
       "      <td>-1</td>\n",
       "      <td>-1</td>\n",
       "      <td>-1</td>\n",
       "      <td>-1</td>\n",
       "      <td>-1</td>\n",
       "      <td>-1</td>\n",
       "    </tr>\n",
       "    <tr>\n",
       "      <th>590538</th>\n",
       "      <td>3577538</td>\n",
       "      <td>0</td>\n",
       "      <td>15811088</td>\n",
       "      <td>117.000000</td>\n",
       "      <td>W</td>\n",
       "      <td>7826</td>\n",
       "      <td>481.000000</td>\n",
       "      <td>150.0</td>\n",
       "      <td>mastercard</td>\n",
       "      <td>224.0</td>\n",
       "      <td>...</td>\n",
       "      <td>403.882568</td>\n",
       "      <td>-1</td>\n",
       "      <td>-1</td>\n",
       "      <td>-1</td>\n",
       "      <td>-1</td>\n",
       "      <td>-1</td>\n",
       "      <td>-1</td>\n",
       "      <td>-1</td>\n",
       "      <td>-1</td>\n",
       "      <td>-1</td>\n",
       "    </tr>\n",
       "    <tr>\n",
       "      <th>590539</th>\n",
       "      <td>3577539</td>\n",
       "      <td>0</td>\n",
       "      <td>15811131</td>\n",
       "      <td>279.950012</td>\n",
       "      <td>W</td>\n",
       "      <td>15066</td>\n",
       "      <td>170.000000</td>\n",
       "      <td>150.0</td>\n",
       "      <td>mastercard</td>\n",
       "      <td>102.0</td>\n",
       "      <td>...</td>\n",
       "      <td>403.882568</td>\n",
       "      <td>-1</td>\n",
       "      <td>-1</td>\n",
       "      <td>-1</td>\n",
       "      <td>-1</td>\n",
       "      <td>-1</td>\n",
       "      <td>-1</td>\n",
       "      <td>-1</td>\n",
       "      <td>-1</td>\n",
       "      <td>-1</td>\n",
       "    </tr>\n",
       "  </tbody>\n",
       "</table>\n",
       "<p>590540 rows × 360 columns</p>\n",
       "</div>"
      ],
      "text/plain": [
       "        TransactionID  isFraud  TransactionDT  TransactionAmt ProductCD  \\\n",
       "0             2987000        0          86400       68.500000         W   \n",
       "1             2987001        0          86401       29.000000         W   \n",
       "2             2987002        0          86469       59.000000         W   \n",
       "3             2987003        0          86499       50.000000         W   \n",
       "4             2987004        0          86506       50.000000         H   \n",
       "...               ...      ...            ...             ...       ...   \n",
       "590535        3577535        0       15811047       49.000000         W   \n",
       "590536        3577536        0       15811049       39.500000         W   \n",
       "590537        3577537        0       15811079       30.950001         W   \n",
       "590538        3577538        0       15811088      117.000000         W   \n",
       "590539        3577539        0       15811131      279.950012         W   \n",
       "\n",
       "        card1       card2  card3       card4  card5  ...       id_20  id_28  \\\n",
       "0       13926  362.555511  150.0    discover  142.0  ...  403.882568     -1   \n",
       "1        2755  404.000000  150.0  mastercard  102.0  ...  403.882568     -1   \n",
       "2        4663  490.000000  150.0        visa  166.0  ...  403.882568     -1   \n",
       "3       18132  567.000000  150.0  mastercard  117.0  ...  403.882568     -1   \n",
       "4        4497  514.000000  150.0  mastercard  102.0  ...  144.000000    New   \n",
       "...       ...         ...    ...         ...    ...  ...         ...    ...   \n",
       "590535   6550  362.555511  150.0        visa  226.0  ...  403.882568     -1   \n",
       "590536  10444  225.000000  150.0  mastercard  224.0  ...  403.882568     -1   \n",
       "590537  12037  595.000000  150.0  mastercard  224.0  ...  403.882568     -1   \n",
       "590538   7826  481.000000  150.0  mastercard  224.0  ...  403.882568     -1   \n",
       "590539  15066  170.000000  150.0  mastercard  102.0  ...  403.882568     -1   \n",
       "\n",
       "           id_29                id_31 id_35 id_36  id_37  id_38  DeviceType  \\\n",
       "0             -1                   -1    -1    -1     -1     -1          -1   \n",
       "1             -1                   -1    -1    -1     -1     -1          -1   \n",
       "2             -1                   -1    -1    -1     -1     -1          -1   \n",
       "3             -1                   -1    -1    -1     -1     -1          -1   \n",
       "4       NotFound  samsung browser 6.2     T     F      T      T      mobile   \n",
       "...          ...                  ...   ...   ...    ...    ...         ...   \n",
       "590535        -1                   -1    -1    -1     -1     -1          -1   \n",
       "590536        -1                   -1    -1    -1     -1     -1          -1   \n",
       "590537        -1                   -1    -1    -1     -1     -1          -1   \n",
       "590538        -1                   -1    -1    -1     -1     -1          -1   \n",
       "590539        -1                   -1    -1    -1     -1     -1          -1   \n",
       "\n",
       "                           DeviceInfo  \n",
       "0                                  -1  \n",
       "1                                  -1  \n",
       "2                                  -1  \n",
       "3                                  -1  \n",
       "4       SAMSUNG SM-G892A Build/NRD90M  \n",
       "...                               ...  \n",
       "590535                             -1  \n",
       "590536                             -1  \n",
       "590537                             -1  \n",
       "590538                             -1  \n",
       "590539                             -1  \n",
       "\n",
       "[590540 rows x 360 columns]"
      ]
     },
     "execution_count": 24,
     "metadata": {},
     "output_type": "execute_result"
    }
   ],
   "source": [
    "train_df"
   ]
  },
  {
   "cell_type": "markdown",
   "id": "9660d49f",
   "metadata": {
    "papermill": {
     "duration": 0.054162,
     "end_time": "2023-11-07T10:06:45.675113",
     "exception": false,
     "start_time": "2023-11-07T10:06:45.620951",
     "status": "completed"
    },
    "tags": []
   },
   "source": [
    "Аналогично заполним пропуски в тестовом датасете:"
   ]
  },
  {
   "cell_type": "code",
   "execution_count": 25,
   "id": "2e77dd20",
   "metadata": {
    "execution": {
     "iopub.execute_input": "2023-11-07T10:06:45.765519Z",
     "iopub.status.busy": "2023-11-07T10:06:45.764392Z",
     "iopub.status.idle": "2023-11-07T10:06:53.340690Z",
     "shell.execute_reply": "2023-11-07T10:06:53.339518Z"
    },
    "papermill": {
     "duration": 7.611351,
     "end_time": "2023-11-07T10:06:53.343188",
     "exception": false,
     "start_time": "2023-11-07T10:06:45.731837",
     "status": "completed"
    },
    "tags": []
   },
   "outputs": [],
   "source": [
    "test_df[num_features] = test_df[num_features].fillna(\n",
    "    test_df[num_features].mean())"
   ]
  },
  {
   "cell_type": "code",
   "execution_count": 26,
   "id": "c36b9bf3",
   "metadata": {
    "execution": {
     "iopub.execute_input": "2023-11-07T10:06:53.389370Z",
     "iopub.status.busy": "2023-11-07T10:06:53.388228Z",
     "iopub.status.idle": "2023-11-07T10:06:54.755181Z",
     "shell.execute_reply": "2023-11-07T10:06:54.754108Z"
    },
    "papermill": {
     "duration": 1.392279,
     "end_time": "2023-11-07T10:06:54.757718",
     "exception": false,
     "start_time": "2023-11-07T10:06:53.365439",
     "status": "completed"
    },
    "tags": []
   },
   "outputs": [],
   "source": [
    "test_df = test_df.fillna(-1)"
   ]
  },
  {
   "cell_type": "markdown",
   "id": "268a7c66",
   "metadata": {
    "papermill": {
     "duration": 0.032999,
     "end_time": "2023-11-07T10:06:54.822959",
     "exception": false,
     "start_time": "2023-11-07T10:06:54.789960",
     "status": "completed"
    },
    "tags": []
   },
   "source": [
    "#### Посмотрим на распределение целевой переменной ```isFraud```"
   ]
  },
  {
   "cell_type": "code",
   "execution_count": 27,
   "id": "735eddfb",
   "metadata": {
    "execution": {
     "iopub.execute_input": "2023-11-07T10:06:54.890398Z",
     "iopub.status.busy": "2023-11-07T10:06:54.889498Z",
     "iopub.status.idle": "2023-11-07T10:06:54.911253Z",
     "shell.execute_reply": "2023-11-07T10:06:54.910501Z"
    },
    "papermill": {
     "duration": 0.058211,
     "end_time": "2023-11-07T10:06:54.913683",
     "exception": false,
     "start_time": "2023-11-07T10:06:54.855472",
     "status": "completed"
    },
    "tags": []
   },
   "outputs": [
    {
     "data": {
      "text/html": [
       "<div>\n",
       "<style scoped>\n",
       "    .dataframe tbody tr th:only-of-type {\n",
       "        vertical-align: middle;\n",
       "    }\n",
       "\n",
       "    .dataframe tbody tr th {\n",
       "        vertical-align: top;\n",
       "    }\n",
       "\n",
       "    .dataframe thead th {\n",
       "        text-align: right;\n",
       "    }\n",
       "</style>\n",
       "<table border=\"1\" class=\"dataframe\">\n",
       "  <thead>\n",
       "    <tr style=\"text-align: right;\">\n",
       "      <th></th>\n",
       "      <th>Count</th>\n",
       "      <th>Percent</th>\n",
       "    </tr>\n",
       "    <tr>\n",
       "      <th>isFraud</th>\n",
       "      <th></th>\n",
       "      <th></th>\n",
       "    </tr>\n",
       "  </thead>\n",
       "  <tbody>\n",
       "    <tr>\n",
       "      <th>0</th>\n",
       "      <td>569877</td>\n",
       "      <td>0.96501</td>\n",
       "    </tr>\n",
       "    <tr>\n",
       "      <th>1</th>\n",
       "      <td>20663</td>\n",
       "      <td>0.03499</td>\n",
       "    </tr>\n",
       "  </tbody>\n",
       "</table>\n",
       "</div>"
      ],
      "text/plain": [
       "          Count  Percent\n",
       "isFraud                 \n",
       "0        569877  0.96501\n",
       "1         20663  0.03499"
      ]
     },
     "execution_count": 27,
     "metadata": {},
     "output_type": "execute_result"
    }
   ],
   "source": [
    "isFraud_count = train_df['isFraud'].value_counts()\n",
    "isFraud_prct = train_df['isFraud'].value_counts()/len(train_df)\n",
    "\n",
    "pd.concat([isFraud_count, isFraud_prct], axis=1, keys=['Count', 'Percent'])"
   ]
  },
  {
   "cell_type": "code",
   "execution_count": 28,
   "id": "80d1c604",
   "metadata": {
    "execution": {
     "iopub.execute_input": "2023-11-07T10:06:54.982266Z",
     "iopub.status.busy": "2023-11-07T10:06:54.981325Z",
     "iopub.status.idle": "2023-11-07T10:06:54.990012Z",
     "shell.execute_reply": "2023-11-07T10:06:54.989195Z"
    },
    "papermill": {
     "duration": 0.045426,
     "end_time": "2023-11-07T10:06:54.992153",
     "exception": false,
     "start_time": "2023-11-07T10:06:54.946727",
     "status": "completed"
    },
    "tags": []
   },
   "outputs": [],
   "source": [
    "colors = ['#1f77b4', '#ff7f0e', '#2ca02c', '#d62728', '#9467bd',\n",
    "          '#8c564b', '#e377c2', '#7f7f7f', '#bcbd22', '#17becf']\n",
    "\n",
    "def plot_value_counts(feature, title, df):\n",
    "    ax = df[df[feature] != -1][feature].value_counts().plot(kind='bar',\n",
    "                                        figsize=(7,5),\n",
    "                                        xlabel=title,\n",
    "                                        ylabel='count',\n",
    "                                        edgecolor='k',\n",
    "                                        color=colors)\n",
    "    ax.set_title(f'Percentage of {title}')\n",
    "    counts = df[feature].value_counts()/len(df)\n",
    "    \n",
    "    rects = ax.patches\n",
    "    labels_arr = ['{0:.2f}%'.format(count*100) for count in counts]\n",
    "    \n",
    "    if (len(labels_arr) > 2):\n",
    "        plt.xticks(rotation=0, size=8)\n",
    "        \n",
    "    for rect, label in zip(rects, labels_arr):\n",
    "        height = rect.get_height()\n",
    "        ax.text(\n",
    "            rect.get_x() + rect.get_width() / 2, height, label, ha='center', va='bottom'\n",
    "        )\n",
    "    \n",
    "    plt.show()"
   ]
  },
  {
   "cell_type": "code",
   "execution_count": 29,
   "id": "2e9ad3ea",
   "metadata": {
    "execution": {
     "iopub.execute_input": "2023-11-07T10:06:55.037956Z",
     "iopub.status.busy": "2023-11-07T10:06:55.037171Z",
     "iopub.status.idle": "2023-11-07T10:06:58.752536Z",
     "shell.execute_reply": "2023-11-07T10:06:58.751407Z"
    },
    "papermill": {
     "duration": 3.740715,
     "end_time": "2023-11-07T10:06:58.754885",
     "exception": false,
     "start_time": "2023-11-07T10:06:55.014170",
     "status": "completed"
    },
    "tags": []
   },
   "outputs": [
    {
     "data": {
      "image/png": "[encoded data removed]",
      "text/plain": [
       "<Figure size 700x500 with 1 Axes>"
      ]
     },
     "metadata": {},
     "output_type": "display_data"
    }
   ],
   "source": [
    "plot_value_counts('isFraud', 'train: isFraud', df=train_df)"
   ]
  },
  {
   "cell_type": "markdown",
   "id": "e5a8877b",
   "metadata": {
    "papermill": {
     "duration": 0.021831,
     "end_time": "2023-11-07T10:06:58.798831",
     "exception": false,
     "start_time": "2023-11-07T10:06:58.777000",
     "status": "completed"
    },
    "tags": []
   },
   "source": [
    "Видим, что данные не сбалансированы:\n",
    "\n",
    "- ```96,5 %``` транзакций - валидны\n",
    "\n",
    "- ```3,5 %``` транзакций - мошеннические\n",
    "\n",
    "Подумаем о решении вопроса дисбаланса в данных. Исследуем другие признаки."
   ]
  },
  {
   "cell_type": "markdown",
   "id": "5b633b8d",
   "metadata": {
    "papermill": {
     "duration": 0.021432,
     "end_time": "2023-11-07T10:06:58.841636",
     "exception": false,
     "start_time": "2023-11-07T10:06:58.820204",
     "status": "completed"
    },
    "tags": []
   },
   "source": [
    "#### Распределение ```Card 4``` (компания карты)"
   ]
  },
  {
   "cell_type": "code",
   "execution_count": 30,
   "id": "91ecfbcc",
   "metadata": {
    "execution": {
     "iopub.execute_input": "2023-11-07T10:06:58.887146Z",
     "iopub.status.busy": "2023-11-07T10:06:58.886217Z",
     "iopub.status.idle": "2023-11-07T10:07:01.458723Z",
     "shell.execute_reply": "2023-11-07T10:07:01.457570Z"
    },
    "papermill": {
     "duration": 2.598008,
     "end_time": "2023-11-07T10:07:01.461304",
     "exception": false,
     "start_time": "2023-11-07T10:06:58.863296",
     "status": "completed"
    },
    "tags": []
   },
   "outputs": [
    {
     "data": {
      "image/png": "[encoded data removed]",
      "text/plain": [
       "<Figure size 700x500 with 1 Axes>"
      ]
     },
     "metadata": {},
     "output_type": "display_data"
    }
   ],
   "source": [
    "plot_value_counts('card4', 'train: card4', df=train_df)"
   ]
  },
  {
   "cell_type": "markdown",
   "id": "b843abdb",
   "metadata": {
    "papermill": {
     "duration": 0.022167,
     "end_time": "2023-11-07T10:07:01.506036",
     "exception": false,
     "start_time": "2023-11-07T10:07:01.483869",
     "status": "completed"
    },
    "tags": []
   },
   "source": [
    "Видим, что:\n",
    "\n",
    "- ```65,16 %``` - карт компании 'visa'\n",
    "- ```32,04 %``` - 'mastercard'\n",
    "- ```1,41 %```  - 'american express'\n",
    "- ```1,13 %```  - 'discover'"
   ]
  },
  {
   "cell_type": "markdown",
   "id": "c008034d",
   "metadata": {
    "papermill": {
     "duration": 0.022214,
     "end_time": "2023-11-07T10:07:01.550737",
     "exception": false,
     "start_time": "2023-11-07T10:07:01.528523",
     "status": "completed"
    },
    "tags": []
   },
   "source": [
    "#### Распределение ```Card 6``` - тип карты"
   ]
  },
  {
   "cell_type": "code",
   "execution_count": 31,
   "id": "8694e563",
   "metadata": {
    "execution": {
     "iopub.execute_input": "2023-11-07T10:07:01.598327Z",
     "iopub.status.busy": "2023-11-07T10:07:01.597297Z",
     "iopub.status.idle": "2023-11-07T10:07:03.892406Z",
     "shell.execute_reply": "2023-11-07T10:07:03.891321Z"
    },
    "papermill": {
     "duration": 2.321391,
     "end_time": "2023-11-07T10:07:03.894554",
     "exception": false,
     "start_time": "2023-11-07T10:07:01.573163",
     "status": "completed"
    },
    "tags": []
   },
   "outputs": [
    {
     "data": {
      "image/png": "[encoded data removed]",
      "text/plain": [
       "<Figure size 700x500 with 1 Axes>"
      ]
     },
     "metadata": {},
     "output_type": "display_data"
    }
   ],
   "source": [
    "plot_value_counts('card6', 'train: card6', df=train_df)"
   ]
  },
  {
   "cell_type": "markdown",
   "id": "cb3b00c7",
   "metadata": {
    "papermill": {
     "duration": 0.022775,
     "end_time": "2023-11-07T10:07:03.940912",
     "exception": false,
     "start_time": "2023-11-07T10:07:03.918137",
     "status": "completed"
    },
    "tags": []
   },
   "source": [
    "Большая часть транзакций произведена дебетовыми картами - ```74,5 %```, ```25,23 %``` - кредитными картами. Транзакций с ```charge``` карт нет"
   ]
  },
  {
   "cell_type": "markdown",
   "id": "63de3cd8",
   "metadata": {
    "papermill": {
     "duration": 0.033292,
     "end_time": "2023-11-07T10:07:03.998998",
     "exception": false,
     "start_time": "2023-11-07T10:07:03.965706",
     "status": "completed"
    },
    "tags": []
   },
   "source": [
    "#### Распределение транзакций по ```DeviceType```"
   ]
  },
  {
   "cell_type": "code",
   "execution_count": 32,
   "id": "51e08a3a",
   "metadata": {
    "execution": {
     "iopub.execute_input": "2023-11-07T10:07:04.048507Z",
     "iopub.status.busy": "2023-11-07T10:07:04.047319Z",
     "iopub.status.idle": "2023-11-07T10:07:04.708455Z",
     "shell.execute_reply": "2023-11-07T10:07:04.707380Z"
    },
    "papermill": {
     "duration": 0.688239,
     "end_time": "2023-11-07T10:07:04.710899",
     "exception": false,
     "start_time": "2023-11-07T10:07:04.022660",
     "status": "completed"
    },
    "tags": []
   },
   "outputs": [
    {
     "name": "stdout",
     "output_type": "stream",
     "text": [
      "DeviceType\n",
      "desktop    85165\n",
      "mobile     55645\n",
      "Name: TransactionDT, dtype: int64\n"
     ]
    },
    {
     "data": {
      "image/png": "[encoded data removed]",
      "text/plain": [
       "<Figure size 640x480 with 1 Axes>"
      ]
     },
     "metadata": {},
     "output_type": "display_data"
    }
   ],
   "source": [
    "device_type_df = train_df[train_df['DeviceType']!=-1].groupby(by='DeviceType').TransactionDT.count()\n",
    "device_type_df.plot(kind='pie', \n",
    "                    colors=['orange', 'lightgreen'],\n",
    "                    autopct='%1.1f%%')\n",
    "plt.title('Number of transactions by device type')\n",
    "print(device_type_df)"
   ]
  },
  {
   "cell_type": "markdown",
   "id": "21cfd375",
   "metadata": {
    "papermill": {
     "duration": 0.037766,
     "end_time": "2023-11-07T10:07:04.787709",
     "exception": false,
     "start_time": "2023-11-07T10:07:04.749943",
     "status": "completed"
    },
    "tags": []
   },
   "source": [
    "Большинство транзакций было выполнено с компьютера - ```60.5 %```\n",
    "\n",
    "С мобильных устройств - ```39.5 %``` транзакций"
   ]
  },
  {
   "cell_type": "markdown",
   "id": "d3cb9398",
   "metadata": {
    "papermill": {
     "duration": 0.023079,
     "end_time": "2023-11-07T10:07:04.836984",
     "exception": false,
     "start_time": "2023-11-07T10:07:04.813905",
     "status": "completed"
    },
    "tags": []
   },
   "source": [
    "#### Посмотрим на распределение транзакций в разрезе компаний, выпустивших карты"
   ]
  },
  {
   "cell_type": "markdown",
   "id": "dc834c2b",
   "metadata": {
    "papermill": {
     "duration": 0.023137,
     "end_time": "2023-11-07T10:07:04.883530",
     "exception": false,
     "start_time": "2023-11-07T10:07:04.860393",
     "status": "completed"
    },
    "tags": []
   },
   "source": [
    "Напишем функцию для визуализации распределения транзакций в разрезе какого-либо признака"
   ]
  },
  {
   "cell_type": "code",
   "execution_count": 33,
   "id": "542524b2",
   "metadata": {
    "execution": {
     "iopub.execute_input": "2023-11-07T10:07:04.933774Z",
     "iopub.status.busy": "2023-11-07T10:07:04.933286Z",
     "iopub.status.idle": "2023-11-07T10:07:04.938782Z",
     "shell.execute_reply": "2023-11-07T10:07:04.937736Z"
    },
    "papermill": {
     "duration": 0.034062,
     "end_time": "2023-11-07T10:07:04.940816",
     "exception": false,
     "start_time": "2023-11-07T10:07:04.906754",
     "status": "completed"
    },
    "tags": []
   },
   "outputs": [],
   "source": [
    "def isFraud_by_feature(feature, df, title):\n",
    "    sns.barplot(x=feature, y='isFraud', data=df[df[feature]!=-1])\n",
    "    plt.xlabel(feature)\n",
    "    plt.ylabel('isFraud')\n",
    "    plt.title('Fraudulent Transactions by {}'.format(title))\n",
    "    plt.show()"
   ]
  },
  {
   "cell_type": "code",
   "execution_count": 34,
   "id": "017687db",
   "metadata": {
    "execution": {
     "iopub.execute_input": "2023-11-07T10:07:04.988883Z",
     "iopub.status.busy": "2023-11-07T10:07:04.988497Z",
     "iopub.status.idle": "2023-11-07T10:07:14.142775Z",
     "shell.execute_reply": "2023-11-07T10:07:14.141285Z"
    },
    "papermill": {
     "duration": 9.180562,
     "end_time": "2023-11-07T10:07:14.144758",
     "exception": false,
     "start_time": "2023-11-07T10:07:04.964196",
     "status": "completed"
    },
    "tags": []
   },
   "outputs": [
    {
     "data": {
      "image/png": "[encoded data removed]",
      "text/plain": [
       "<Figure size 640x480 with 1 Axes>"
      ]
     },
     "metadata": {},
     "output_type": "display_data"
    }
   ],
   "source": [
    "isFraud_by_feature('card4', df=train_df, title='Card Company')"
   ]
  },
  {
   "cell_type": "markdown",
   "id": "b05644bd",
   "metadata": {
    "papermill": {
     "duration": 0.023721,
     "end_time": "2023-11-07T10:07:14.192451",
     "exception": false,
     "start_time": "2023-11-07T10:07:14.168730",
     "status": "completed"
    },
    "tags": []
   },
   "source": [
    "Большинство операций произведено с карт ```discover```"
   ]
  },
  {
   "cell_type": "markdown",
   "id": "f196816b",
   "metadata": {
    "papermill": {
     "duration": 0.023519,
     "end_time": "2023-11-07T10:07:14.239630",
     "exception": false,
     "start_time": "2023-11-07T10:07:14.216111",
     "status": "completed"
    },
    "tags": []
   },
   "source": [
    "#### Распределение транзакций в разрезе типа карты"
   ]
  },
  {
   "cell_type": "code",
   "execution_count": 35,
   "id": "f0565ae8",
   "metadata": {
    "execution": {
     "iopub.execute_input": "2023-11-07T10:07:14.288735Z",
     "iopub.status.busy": "2023-11-07T10:07:14.288136Z",
     "iopub.status.idle": "2023-11-07T10:07:23.457777Z",
     "shell.execute_reply": "2023-11-07T10:07:23.456607Z"
    },
    "papermill": {
     "duration": 9.196735,
     "end_time": "2023-11-07T10:07:23.459983",
     "exception": false,
     "start_time": "2023-11-07T10:07:14.263248",
     "status": "completed"
    },
    "tags": []
   },
   "outputs": [
    {
     "data": {
      "image/png": "[encoded data removed]",
      "text/plain": [
       "<Figure size 640x480 with 1 Axes>"
      ]
     },
     "metadata": {},
     "output_type": "display_data"
    }
   ],
   "source": [
    "isFraud_by_feature('card6', df=train_df, title='Card Type')"
   ]
  },
  {
   "cell_type": "markdown",
   "id": "bdb34301",
   "metadata": {
    "papermill": {
     "duration": 0.02369,
     "end_time": "2023-11-07T10:07:23.507951",
     "exception": false,
     "start_time": "2023-11-07T10:07:23.484261",
     "status": "completed"
    },
    "tags": []
   },
   "source": [
    "Несмотря на то, что кредитные карты занимают ```25,23 %``` от всего объема данных, с них произведена большая часть транзакций"
   ]
  },
  {
   "cell_type": "markdown",
   "id": "927cedc9",
   "metadata": {
    "papermill": {
     "duration": 0.023508,
     "end_time": "2023-11-07T10:07:23.555361",
     "exception": false,
     "start_time": "2023-11-07T10:07:23.531853",
     "status": "completed"
    },
    "tags": []
   },
   "source": [
    "#### Распределение транзакций в разрезе типа устройства"
   ]
  },
  {
   "cell_type": "code",
   "execution_count": 36,
   "id": "6e84c0d6",
   "metadata": {
    "execution": {
     "iopub.execute_input": "2023-11-07T10:07:23.604920Z",
     "iopub.status.busy": "2023-11-07T10:07:23.604580Z",
     "iopub.status.idle": "2023-11-07T10:07:25.932093Z",
     "shell.execute_reply": "2023-11-07T10:07:25.931161Z"
    },
    "papermill": {
     "duration": 2.355154,
     "end_time": "2023-11-07T10:07:25.934395",
     "exception": false,
     "start_time": "2023-11-07T10:07:23.579241",
     "status": "completed"
    },
    "tags": []
   },
   "outputs": [
    {
     "data": {
      "image/png": "[encoded data removed]",
      "text/plain": [
       "<Figure size 640x480 with 1 Axes>"
      ]
     },
     "metadata": {},
     "output_type": "display_data"
    }
   ],
   "source": [
    "isFraud_by_feature('DeviceType', df=train_df, title='Device Type')"
   ]
  },
  {
   "cell_type": "markdown",
   "id": "2ea8ebbf",
   "metadata": {
    "papermill": {
     "duration": 0.025453,
     "end_time": "2023-11-07T10:07:25.984906",
     "exception": false,
     "start_time": "2023-11-07T10:07:25.959453",
     "status": "completed"
    },
    "tags": []
   },
   "source": [
    "Большинство транзакций было произведено с мобильных устройств"
   ]
  },
  {
   "cell_type": "markdown",
   "id": "3b91e191",
   "metadata": {
    "papermill": {
     "duration": 0.024913,
     "end_time": "2023-11-07T10:07:26.034474",
     "exception": false,
     "start_time": "2023-11-07T10:07:26.009561",
     "status": "completed"
    },
    "tags": []
   },
   "source": [
    "#### Построим гистограмму распределения транзакционных платежей (TransactionAMT)"
   ]
  },
  {
   "cell_type": "code",
   "execution_count": 37,
   "id": "f8438f56",
   "metadata": {
    "execution": {
     "iopub.execute_input": "2023-11-07T10:07:26.086430Z",
     "iopub.status.busy": "2023-11-07T10:07:26.085854Z",
     "iopub.status.idle": "2023-11-07T10:07:26.606822Z",
     "shell.execute_reply": "2023-11-07T10:07:26.606075Z"
    },
    "papermill": {
     "duration": 0.549008,
     "end_time": "2023-11-07T10:07:26.608778",
     "exception": false,
     "start_time": "2023-11-07T10:07:26.059770",
     "status": "completed"
    },
    "tags": []
   },
   "outputs": [
    {
     "data": {
      "image/png": "[encoded data removed]",
      "text/plain": [
       "<Figure size 800x800 with 1 Axes>"
      ]
     },
     "metadata": {},
     "output_type": "display_data"
    }
   ],
   "source": [
    "plt.figure(figsize=(8,8))\n",
    "plt.hist(train_df['TransactionAmt'], bins=150, edgecolor='black')\n",
    "plt.xlabel('TransactionAMT')\n",
    "plt.ylabel('Count')\n",
    "plt.title('Distribution of TransactionAMT')\n",
    "plt.show()"
   ]
  },
  {
   "cell_type": "markdown",
   "id": "6e3ca931",
   "metadata": {
    "papermill": {
     "duration": 0.024567,
     "end_time": "2023-11-07T10:07:26.658916",
     "exception": false,
     "start_time": "2023-11-07T10:07:26.634349",
     "status": "completed"
    },
    "tags": []
   },
   "source": [
    "#### Здесь виден явный выброс в данных"
   ]
  },
  {
   "cell_type": "markdown",
   "id": "2dcd07d3",
   "metadata": {
    "papermill": {
     "duration": 0.025079,
     "end_time": "2023-11-07T10:07:26.709691",
     "exception": false,
     "start_time": "2023-11-07T10:07:26.684612",
     "status": "completed"
    },
    "tags": []
   },
   "source": [
    "Посмотрим на статистики этого признака"
   ]
  },
  {
   "cell_type": "code",
   "execution_count": 38,
   "id": "f23a9dd7",
   "metadata": {
    "execution": {
     "iopub.execute_input": "2023-11-07T10:07:26.764104Z",
     "iopub.status.busy": "2023-11-07T10:07:26.763535Z",
     "iopub.status.idle": "2023-11-07T10:07:26.795173Z",
     "shell.execute_reply": "2023-11-07T10:07:26.794025Z"
    },
    "papermill": {
     "duration": 0.062419,
     "end_time": "2023-11-07T10:07:26.797449",
     "exception": false,
     "start_time": "2023-11-07T10:07:26.735030",
     "status": "completed"
    },
    "tags": []
   },
   "outputs": [
    {
     "data": {
      "text/plain": [
       "count    590540.000000\n",
       "mean        135.027161\n",
       "std         239.162521\n",
       "min           0.251000\n",
       "25%          43.320999\n",
       "50%          68.769001\n",
       "75%         125.000000\n",
       "max       31937.390625\n",
       "Name: TransactionAmt, dtype: float64"
      ]
     },
     "execution_count": 38,
     "metadata": {},
     "output_type": "execute_result"
    }
   ],
   "source": [
    "train_df['TransactionAmt'].describe()"
   ]
  },
  {
   "cell_type": "markdown",
   "id": "c761d19a",
   "metadata": {
    "papermill": {
     "duration": 0.024815,
     "end_time": "2023-11-07T10:07:26.847388",
     "exception": false,
     "start_time": "2023-11-07T10:07:26.822573",
     "status": "completed"
    },
    "tags": []
   },
   "source": [
    "Посмотрим на топ 10 самых больших значений этого столбца"
   ]
  },
  {
   "cell_type": "code",
   "execution_count": 39,
   "id": "c40ef0d4",
   "metadata": {
    "execution": {
     "iopub.execute_input": "2023-11-07T10:07:26.899873Z",
     "iopub.status.busy": "2023-11-07T10:07:26.899494Z",
     "iopub.status.idle": "2023-11-07T10:07:26.979220Z",
     "shell.execute_reply": "2023-11-07T10:07:26.978102Z"
    },
    "papermill": {
     "duration": 0.108966,
     "end_time": "2023-11-07T10:07:26.981651",
     "exception": false,
     "start_time": "2023-11-07T10:07:26.872685",
     "status": "completed"
    },
    "tags": []
   },
   "outputs": [
    {
     "data": {
      "text/plain": [
       "315172     5279.950195\n",
       "462514     5279.950195\n",
       "584767     5366.819824\n",
       "275535     5420.000000\n",
       "275529     5420.000000\n",
       "384603     5543.229980\n",
       "248413     6085.229980\n",
       "296021     6450.970215\n",
       "274336    31937.390625\n",
       "274339    31937.390625\n",
       "Name: TransactionAmt, dtype: float32"
      ]
     },
     "execution_count": 39,
     "metadata": {},
     "output_type": "execute_result"
    }
   ],
   "source": [
    "train_df['TransactionAmt'].dropna().sort_values().tail(10)"
   ]
  },
  {
   "cell_type": "markdown",
   "id": "16606a7e",
   "metadata": {
    "papermill": {
     "duration": 0.024883,
     "end_time": "2023-11-07T10:07:27.031647",
     "exception": false,
     "start_time": "2023-11-07T10:07:27.006764",
     "status": "completed"
    },
    "tags": []
   },
   "source": [
    "Выведем график ```boxplot```, чтобы убедиться, что эти значения похожи на выбросы"
   ]
  },
  {
   "cell_type": "code",
   "execution_count": 40,
   "id": "336bea82",
   "metadata": {
    "execution": {
     "iopub.execute_input": "2023-11-07T10:07:27.084216Z",
     "iopub.status.busy": "2023-11-07T10:07:27.083487Z",
     "iopub.status.idle": "2023-11-07T10:07:27.372892Z",
     "shell.execute_reply": "2023-11-07T10:07:27.371662Z"
    },
    "papermill": {
     "duration": 0.318244,
     "end_time": "2023-11-07T10:07:27.375309",
     "exception": false,
     "start_time": "2023-11-07T10:07:27.057065",
     "status": "completed"
    },
    "tags": []
   },
   "outputs": [
    {
     "data": {
      "image/png": "[encoded data removed]",
      "text/plain": [
       "<Figure size 1000x300 with 1 Axes>"
      ]
     },
     "metadata": {},
     "output_type": "display_data"
    }
   ],
   "source": [
    "plt.figure(figsize=(10,3))\n",
    "sns.boxplot(x=train_df['TransactionAmt'])\n",
    "plt.title('Диаграмма размаха платежей')\n",
    "plt.xlabel('TransactionAmt')\n",
    "plt.show()"
   ]
  },
  {
   "cell_type": "markdown",
   "id": "6f65b05c",
   "metadata": {
    "papermill": {
     "duration": 0.025584,
     "end_time": "2023-11-07T10:07:27.426989",
     "exception": false,
     "start_time": "2023-11-07T10:07:27.401405",
     "status": "completed"
    },
    "tags": []
   },
   "source": [
    "#### Избавимся от выбросов"
   ]
  },
  {
   "cell_type": "markdown",
   "id": "cd996120",
   "metadata": {
    "papermill": {
     "duration": 0.025671,
     "end_time": "2023-11-07T10:07:27.478855",
     "exception": false,
     "start_time": "2023-11-07T10:07:27.453184",
     "status": "completed"
    },
    "tags": []
   },
   "source": [
    "Рассчитаем интерквартильный размах"
   ]
  },
  {
   "cell_type": "code",
   "execution_count": 41,
   "id": "32614abf",
   "metadata": {
    "execution": {
     "iopub.execute_input": "2023-11-07T10:07:27.532575Z",
     "iopub.status.busy": "2023-11-07T10:07:27.531825Z",
     "iopub.status.idle": "2023-11-07T10:07:27.584609Z",
     "shell.execute_reply": "2023-11-07T10:07:27.583435Z"
    },
    "papermill": {
     "duration": 0.082414,
     "end_time": "2023-11-07T10:07:27.587126",
     "exception": false,
     "start_time": "2023-11-07T10:07:27.504712",
     "status": "completed"
    },
    "tags": []
   },
   "outputs": [],
   "source": [
    "first_quartile = train_df['TransactionAmt'].describe()['25%']\n",
    "third_quartile = train_df['TransactionAmt'].describe()['75%']\n",
    "\n",
    "iqr = third_quartile - first_quartile"
   ]
  },
  {
   "cell_type": "markdown",
   "id": "7231bb84",
   "metadata": {
    "papermill": {
     "duration": 0.025175,
     "end_time": "2023-11-07T10:07:27.638071",
     "exception": false,
     "start_time": "2023-11-07T10:07:27.612896",
     "status": "completed"
    },
    "tags": []
   },
   "source": [
    "Отделим данные от выбросов"
   ]
  },
  {
   "cell_type": "code",
   "execution_count": 42,
   "id": "0e23b22e",
   "metadata": {
    "execution": {
     "iopub.execute_input": "2023-11-07T10:07:27.690890Z",
     "iopub.status.busy": "2023-11-07T10:07:27.690472Z",
     "iopub.status.idle": "2023-11-07T10:07:27.700068Z",
     "shell.execute_reply": "2023-11-07T10:07:27.699351Z"
    },
    "papermill": {
     "duration": 0.038934,
     "end_time": "2023-11-07T10:07:27.702103",
     "exception": false,
     "start_time": "2023-11-07T10:07:27.663169",
     "status": "completed"
    },
    "tags": []
   },
   "outputs": [
    {
     "data": {
      "text/plain": [
       "0         True\n",
       "1         True\n",
       "2         True\n",
       "3         True\n",
       "4         True\n",
       "          ... \n",
       "590535    True\n",
       "590536    True\n",
       "590537    True\n",
       "590538    True\n",
       "590539    True\n",
       "Name: TransactionAmt, Length: 590540, dtype: bool"
      ]
     },
     "execution_count": 42,
     "metadata": {},
     "output_type": "execute_result"
    }
   ],
   "source": [
    "condition = (train_df['TransactionAmt'] > (first_quartile - 3 * iqr)) & (train_df['TransactionAmt'] < (third_quartile + 3 * iqr))\n",
    "condition"
   ]
  },
  {
   "cell_type": "code",
   "execution_count": 43,
   "id": "79f2ffc1",
   "metadata": {
    "execution": {
     "iopub.execute_input": "2023-11-07T10:07:27.755581Z",
     "iopub.status.busy": "2023-11-07T10:07:27.754850Z",
     "iopub.status.idle": "2023-11-07T10:07:27.766923Z",
     "shell.execute_reply": "2023-11-07T10:07:27.766205Z"
    },
    "papermill": {
     "duration": 0.040798,
     "end_time": "2023-11-07T10:07:27.768680",
     "exception": false,
     "start_time": "2023-11-07T10:07:27.727882",
     "status": "completed"
    },
    "tags": []
   },
   "outputs": [
    {
     "data": {
      "text/plain": [
       "554118"
      ]
     },
     "execution_count": 43,
     "metadata": {},
     "output_type": "execute_result"
    }
   ],
   "source": [
    "condition[condition==True].count()"
   ]
  },
  {
   "cell_type": "code",
   "execution_count": 44,
   "id": "7f2bc028",
   "metadata": {
    "execution": {
     "iopub.execute_input": "2023-11-07T10:07:27.823190Z",
     "iopub.status.busy": "2023-11-07T10:07:27.822365Z",
     "iopub.status.idle": "2023-11-07T10:07:27.833881Z",
     "shell.execute_reply": "2023-11-07T10:07:27.832682Z"
    },
    "papermill": {
     "duration": 0.041008,
     "end_time": "2023-11-07T10:07:27.835929",
     "exception": false,
     "start_time": "2023-11-07T10:07:27.794921",
     "status": "completed"
    },
    "tags": []
   },
   "outputs": [
    {
     "data": {
      "text/plain": [
       "36422"
      ]
     },
     "execution_count": 44,
     "metadata": {},
     "output_type": "execute_result"
    }
   ],
   "source": [
    "condition[condition==False].count()"
   ]
  },
  {
   "cell_type": "markdown",
   "id": "5c8372d0",
   "metadata": {
    "papermill": {
     "duration": 0.025349,
     "end_time": "2023-11-07T10:07:27.887057",
     "exception": false,
     "start_time": "2023-11-07T10:07:27.861708",
     "status": "completed"
    },
    "tags": []
   },
   "source": [
    "Применим созданное условие к нашим данным, отфильтровав строки, не являющиеся выбросами"
   ]
  },
  {
   "cell_type": "code",
   "execution_count": 45,
   "id": "866ba061",
   "metadata": {
    "execution": {
     "iopub.execute_input": "2023-11-07T10:07:27.940170Z",
     "iopub.status.busy": "2023-11-07T10:07:27.939771Z",
     "iopub.status.idle": "2023-11-07T10:07:29.638101Z",
     "shell.execute_reply": "2023-11-07T10:07:29.637016Z"
    },
    "papermill": {
     "duration": 1.727587,
     "end_time": "2023-11-07T10:07:29.640390",
     "exception": false,
     "start_time": "2023-11-07T10:07:27.912803",
     "status": "completed"
    },
    "tags": []
   },
   "outputs": [],
   "source": [
    "train_df = train_df[condition]"
   ]
  },
  {
   "cell_type": "code",
   "execution_count": 46,
   "id": "5a8f5e00",
   "metadata": {
    "execution": {
     "iopub.execute_input": "2023-11-07T10:07:29.694329Z",
     "iopub.status.busy": "2023-11-07T10:07:29.693782Z",
     "iopub.status.idle": "2023-11-07T10:07:29.699220Z",
     "shell.execute_reply": "2023-11-07T10:07:29.698513Z"
    },
    "papermill": {
     "duration": 0.035213,
     "end_time": "2023-11-07T10:07:29.701347",
     "exception": false,
     "start_time": "2023-11-07T10:07:29.666134",
     "status": "completed"
    },
    "tags": []
   },
   "outputs": [
    {
     "data": {
      "text/plain": [
       "(554118, 360)"
      ]
     },
     "execution_count": 46,
     "metadata": {},
     "output_type": "execute_result"
    }
   ],
   "source": [
    "train_df.shape"
   ]
  },
  {
   "cell_type": "code",
   "execution_count": 47,
   "id": "bd41583d",
   "metadata": {
    "execution": {
     "iopub.execute_input": "2023-11-07T10:07:29.756690Z",
     "iopub.status.busy": "2023-11-07T10:07:29.755897Z",
     "iopub.status.idle": "2023-11-07T10:07:30.330989Z",
     "shell.execute_reply": "2023-11-07T10:07:30.330115Z"
    },
    "papermill": {
     "duration": 0.60476,
     "end_time": "2023-11-07T10:07:30.332860",
     "exception": false,
     "start_time": "2023-11-07T10:07:29.728100",
     "status": "completed"
    },
    "tags": []
   },
   "outputs": [
    {
     "data": {
      "text/html": [
       "<div>\n",
       "<style scoped>\n",
       "    .dataframe tbody tr th:only-of-type {\n",
       "        vertical-align: middle;\n",
       "    }\n",
       "\n",
       "    .dataframe tbody tr th {\n",
       "        vertical-align: top;\n",
       "    }\n",
       "\n",
       "    .dataframe thead th {\n",
       "        text-align: right;\n",
       "    }\n",
       "</style>\n",
       "<table border=\"1\" class=\"dataframe\">\n",
       "  <thead>\n",
       "    <tr style=\"text-align: right;\">\n",
       "      <th></th>\n",
       "      <th>TransactionID</th>\n",
       "      <th>isFraud</th>\n",
       "      <th>TransactionDT</th>\n",
       "      <th>TransactionAmt</th>\n",
       "      <th>ProductCD</th>\n",
       "      <th>card1</th>\n",
       "      <th>card2</th>\n",
       "      <th>card3</th>\n",
       "      <th>card4</th>\n",
       "      <th>card5</th>\n",
       "      <th>...</th>\n",
       "      <th>id_20</th>\n",
       "      <th>id_28</th>\n",
       "      <th>id_29</th>\n",
       "      <th>id_31</th>\n",
       "      <th>id_35</th>\n",
       "      <th>id_36</th>\n",
       "      <th>id_37</th>\n",
       "      <th>id_38</th>\n",
       "      <th>DeviceType</th>\n",
       "      <th>DeviceInfo</th>\n",
       "    </tr>\n",
       "  </thead>\n",
       "  <tbody>\n",
       "    <tr>\n",
       "      <th>0</th>\n",
       "      <td>2987000</td>\n",
       "      <td>0</td>\n",
       "      <td>86400</td>\n",
       "      <td>68.500000</td>\n",
       "      <td>W</td>\n",
       "      <td>13926</td>\n",
       "      <td>362.555511</td>\n",
       "      <td>150.0</td>\n",
       "      <td>discover</td>\n",
       "      <td>142.0</td>\n",
       "      <td>...</td>\n",
       "      <td>403.882568</td>\n",
       "      <td>-1</td>\n",
       "      <td>-1</td>\n",
       "      <td>-1</td>\n",
       "      <td>-1</td>\n",
       "      <td>-1</td>\n",
       "      <td>-1</td>\n",
       "      <td>-1</td>\n",
       "      <td>-1</td>\n",
       "      <td>-1</td>\n",
       "    </tr>\n",
       "    <tr>\n",
       "      <th>1</th>\n",
       "      <td>2987001</td>\n",
       "      <td>0</td>\n",
       "      <td>86401</td>\n",
       "      <td>29.000000</td>\n",
       "      <td>W</td>\n",
       "      <td>2755</td>\n",
       "      <td>404.000000</td>\n",
       "      <td>150.0</td>\n",
       "      <td>mastercard</td>\n",
       "      <td>102.0</td>\n",
       "      <td>...</td>\n",
       "      <td>403.882568</td>\n",
       "      <td>-1</td>\n",
       "      <td>-1</td>\n",
       "      <td>-1</td>\n",
       "      <td>-1</td>\n",
       "      <td>-1</td>\n",
       "      <td>-1</td>\n",
       "      <td>-1</td>\n",
       "      <td>-1</td>\n",
       "      <td>-1</td>\n",
       "    </tr>\n",
       "    <tr>\n",
       "      <th>2</th>\n",
       "      <td>2987002</td>\n",
       "      <td>0</td>\n",
       "      <td>86469</td>\n",
       "      <td>59.000000</td>\n",
       "      <td>W</td>\n",
       "      <td>4663</td>\n",
       "      <td>490.000000</td>\n",
       "      <td>150.0</td>\n",
       "      <td>visa</td>\n",
       "      <td>166.0</td>\n",
       "      <td>...</td>\n",
       "      <td>403.882568</td>\n",
       "      <td>-1</td>\n",
       "      <td>-1</td>\n",
       "      <td>-1</td>\n",
       "      <td>-1</td>\n",
       "      <td>-1</td>\n",
       "      <td>-1</td>\n",
       "      <td>-1</td>\n",
       "      <td>-1</td>\n",
       "      <td>-1</td>\n",
       "    </tr>\n",
       "    <tr>\n",
       "      <th>3</th>\n",
       "      <td>2987003</td>\n",
       "      <td>0</td>\n",
       "      <td>86499</td>\n",
       "      <td>50.000000</td>\n",
       "      <td>W</td>\n",
       "      <td>18132</td>\n",
       "      <td>567.000000</td>\n",
       "      <td>150.0</td>\n",
       "      <td>mastercard</td>\n",
       "      <td>117.0</td>\n",
       "      <td>...</td>\n",
       "      <td>403.882568</td>\n",
       "      <td>-1</td>\n",
       "      <td>-1</td>\n",
       "      <td>-1</td>\n",
       "      <td>-1</td>\n",
       "      <td>-1</td>\n",
       "      <td>-1</td>\n",
       "      <td>-1</td>\n",
       "      <td>-1</td>\n",
       "      <td>-1</td>\n",
       "    </tr>\n",
       "    <tr>\n",
       "      <th>4</th>\n",
       "      <td>2987004</td>\n",
       "      <td>0</td>\n",
       "      <td>86506</td>\n",
       "      <td>50.000000</td>\n",
       "      <td>H</td>\n",
       "      <td>4497</td>\n",
       "      <td>514.000000</td>\n",
       "      <td>150.0</td>\n",
       "      <td>mastercard</td>\n",
       "      <td>102.0</td>\n",
       "      <td>...</td>\n",
       "      <td>144.000000</td>\n",
       "      <td>New</td>\n",
       "      <td>NotFound</td>\n",
       "      <td>samsung browser 6.2</td>\n",
       "      <td>T</td>\n",
       "      <td>F</td>\n",
       "      <td>T</td>\n",
       "      <td>T</td>\n",
       "      <td>mobile</td>\n",
       "      <td>SAMSUNG SM-G892A Build/NRD90M</td>\n",
       "    </tr>\n",
       "    <tr>\n",
       "      <th>...</th>\n",
       "      <td>...</td>\n",
       "      <td>...</td>\n",
       "      <td>...</td>\n",
       "      <td>...</td>\n",
       "      <td>...</td>\n",
       "      <td>...</td>\n",
       "      <td>...</td>\n",
       "      <td>...</td>\n",
       "      <td>...</td>\n",
       "      <td>...</td>\n",
       "      <td>...</td>\n",
       "      <td>...</td>\n",
       "      <td>...</td>\n",
       "      <td>...</td>\n",
       "      <td>...</td>\n",
       "      <td>...</td>\n",
       "      <td>...</td>\n",
       "      <td>...</td>\n",
       "      <td>...</td>\n",
       "      <td>...</td>\n",
       "      <td>...</td>\n",
       "    </tr>\n",
       "    <tr>\n",
       "      <th>590535</th>\n",
       "      <td>3577535</td>\n",
       "      <td>0</td>\n",
       "      <td>15811047</td>\n",
       "      <td>49.000000</td>\n",
       "      <td>W</td>\n",
       "      <td>6550</td>\n",
       "      <td>362.555511</td>\n",
       "      <td>150.0</td>\n",
       "      <td>visa</td>\n",
       "      <td>226.0</td>\n",
       "      <td>...</td>\n",
       "      <td>403.882568</td>\n",
       "      <td>-1</td>\n",
       "      <td>-1</td>\n",
       "      <td>-1</td>\n",
       "      <td>-1</td>\n",
       "      <td>-1</td>\n",
       "      <td>-1</td>\n",
       "      <td>-1</td>\n",
       "      <td>-1</td>\n",
       "      <td>-1</td>\n",
       "    </tr>\n",
       "    <tr>\n",
       "      <th>590536</th>\n",
       "      <td>3577536</td>\n",
       "      <td>0</td>\n",
       "      <td>15811049</td>\n",
       "      <td>39.500000</td>\n",
       "      <td>W</td>\n",
       "      <td>10444</td>\n",
       "      <td>225.000000</td>\n",
       "      <td>150.0</td>\n",
       "      <td>mastercard</td>\n",
       "      <td>224.0</td>\n",
       "      <td>...</td>\n",
       "      <td>403.882568</td>\n",
       "      <td>-1</td>\n",
       "      <td>-1</td>\n",
       "      <td>-1</td>\n",
       "      <td>-1</td>\n",
       "      <td>-1</td>\n",
       "      <td>-1</td>\n",
       "      <td>-1</td>\n",
       "      <td>-1</td>\n",
       "      <td>-1</td>\n",
       "    </tr>\n",
       "    <tr>\n",
       "      <th>590537</th>\n",
       "      <td>3577537</td>\n",
       "      <td>0</td>\n",
       "      <td>15811079</td>\n",
       "      <td>30.950001</td>\n",
       "      <td>W</td>\n",
       "      <td>12037</td>\n",
       "      <td>595.000000</td>\n",
       "      <td>150.0</td>\n",
       "      <td>mastercard</td>\n",
       "      <td>224.0</td>\n",
       "      <td>...</td>\n",
       "      <td>403.882568</td>\n",
       "      <td>-1</td>\n",
       "      <td>-1</td>\n",
       "      <td>-1</td>\n",
       "      <td>-1</td>\n",
       "      <td>-1</td>\n",
       "      <td>-1</td>\n",
       "      <td>-1</td>\n",
       "      <td>-1</td>\n",
       "      <td>-1</td>\n",
       "    </tr>\n",
       "    <tr>\n",
       "      <th>590538</th>\n",
       "      <td>3577538</td>\n",
       "      <td>0</td>\n",
       "      <td>15811088</td>\n",
       "      <td>117.000000</td>\n",
       "      <td>W</td>\n",
       "      <td>7826</td>\n",
       "      <td>481.000000</td>\n",
       "      <td>150.0</td>\n",
       "      <td>mastercard</td>\n",
       "      <td>224.0</td>\n",
       "      <td>...</td>\n",
       "      <td>403.882568</td>\n",
       "      <td>-1</td>\n",
       "      <td>-1</td>\n",
       "      <td>-1</td>\n",
       "      <td>-1</td>\n",
       "      <td>-1</td>\n",
       "      <td>-1</td>\n",
       "      <td>-1</td>\n",
       "      <td>-1</td>\n",
       "      <td>-1</td>\n",
       "    </tr>\n",
       "    <tr>\n",
       "      <th>590539</th>\n",
       "      <td>3577539</td>\n",
       "      <td>0</td>\n",
       "      <td>15811131</td>\n",
       "      <td>279.950012</td>\n",
       "      <td>W</td>\n",
       "      <td>15066</td>\n",
       "      <td>170.000000</td>\n",
       "      <td>150.0</td>\n",
       "      <td>mastercard</td>\n",
       "      <td>102.0</td>\n",
       "      <td>...</td>\n",
       "      <td>403.882568</td>\n",
       "      <td>-1</td>\n",
       "      <td>-1</td>\n",
       "      <td>-1</td>\n",
       "      <td>-1</td>\n",
       "      <td>-1</td>\n",
       "      <td>-1</td>\n",
       "      <td>-1</td>\n",
       "      <td>-1</td>\n",
       "      <td>-1</td>\n",
       "    </tr>\n",
       "  </tbody>\n",
       "</table>\n",
       "<p>554118 rows × 360 columns</p>\n",
       "</div>"
      ],
      "text/plain": [
       "        TransactionID  isFraud  TransactionDT  TransactionAmt ProductCD  \\\n",
       "0             2987000        0          86400       68.500000         W   \n",
       "1             2987001        0          86401       29.000000         W   \n",
       "2             2987002        0          86469       59.000000         W   \n",
       "3             2987003        0          86499       50.000000         W   \n",
       "4             2987004        0          86506       50.000000         H   \n",
       "...               ...      ...            ...             ...       ...   \n",
       "590535        3577535        0       15811047       49.000000         W   \n",
       "590536        3577536        0       15811049       39.500000         W   \n",
       "590537        3577537        0       15811079       30.950001         W   \n",
       "590538        3577538        0       15811088      117.000000         W   \n",
       "590539        3577539        0       15811131      279.950012         W   \n",
       "\n",
       "        card1       card2  card3       card4  card5  ...       id_20  id_28  \\\n",
       "0       13926  362.555511  150.0    discover  142.0  ...  403.882568     -1   \n",
       "1        2755  404.000000  150.0  mastercard  102.0  ...  403.882568     -1   \n",
       "2        4663  490.000000  150.0        visa  166.0  ...  403.882568     -1   \n",
       "3       18132  567.000000  150.0  mastercard  117.0  ...  403.882568     -1   \n",
       "4        4497  514.000000  150.0  mastercard  102.0  ...  144.000000    New   \n",
       "...       ...         ...    ...         ...    ...  ...         ...    ...   \n",
       "590535   6550  362.555511  150.0        visa  226.0  ...  403.882568     -1   \n",
       "590536  10444  225.000000  150.0  mastercard  224.0  ...  403.882568     -1   \n",
       "590537  12037  595.000000  150.0  mastercard  224.0  ...  403.882568     -1   \n",
       "590538   7826  481.000000  150.0  mastercard  224.0  ...  403.882568     -1   \n",
       "590539  15066  170.000000  150.0  mastercard  102.0  ...  403.882568     -1   \n",
       "\n",
       "           id_29                id_31 id_35 id_36  id_37  id_38  DeviceType  \\\n",
       "0             -1                   -1    -1    -1     -1     -1          -1   \n",
       "1             -1                   -1    -1    -1     -1     -1          -1   \n",
       "2             -1                   -1    -1    -1     -1     -1          -1   \n",
       "3             -1                   -1    -1    -1     -1     -1          -1   \n",
       "4       NotFound  samsung browser 6.2     T     F      T      T      mobile   \n",
       "...          ...                  ...   ...   ...    ...    ...         ...   \n",
       "590535        -1                   -1    -1    -1     -1     -1          -1   \n",
       "590536        -1                   -1    -1    -1     -1     -1          -1   \n",
       "590537        -1                   -1    -1    -1     -1     -1          -1   \n",
       "590538        -1                   -1    -1    -1     -1     -1          -1   \n",
       "590539        -1                   -1    -1    -1     -1     -1          -1   \n",
       "\n",
       "                           DeviceInfo  \n",
       "0                                  -1  \n",
       "1                                  -1  \n",
       "2                                  -1  \n",
       "3                                  -1  \n",
       "4       SAMSUNG SM-G892A Build/NRD90M  \n",
       "...                               ...  \n",
       "590535                             -1  \n",
       "590536                             -1  \n",
       "590537                             -1  \n",
       "590538                             -1  \n",
       "590539                             -1  \n",
       "\n",
       "[554118 rows x 360 columns]"
      ]
     },
     "execution_count": 47,
     "metadata": {},
     "output_type": "execute_result"
    }
   ],
   "source": [
    "train_df"
   ]
  },
  {
   "cell_type": "markdown",
   "id": "5a4f17c3",
   "metadata": {
    "papermill": {
     "duration": 0.025937,
     "end_time": "2023-11-07T10:07:30.385505",
     "exception": false,
     "start_time": "2023-11-07T10:07:30.359568",
     "status": "completed"
    },
    "tags": []
   },
   "source": [
    "Построим ещё раз гистограмму распределения поля ```TransactionAmt```"
   ]
  },
  {
   "cell_type": "code",
   "execution_count": 48,
   "id": "e12ef50d",
   "metadata": {
    "execution": {
     "iopub.execute_input": "2023-11-07T10:07:30.440725Z",
     "iopub.status.busy": "2023-11-07T10:07:30.439891Z",
     "iopub.status.idle": "2023-11-07T10:07:30.683643Z",
     "shell.execute_reply": "2023-11-07T10:07:30.682904Z"
    },
    "papermill": {
     "duration": 0.273806,
     "end_time": "2023-11-07T10:07:30.685464",
     "exception": false,
     "start_time": "2023-11-07T10:07:30.411658",
     "status": "completed"
    },
    "tags": []
   },
   "outputs": [
    {
     "data": {
      "image/png": "[encoded data removed]",
      "text/plain": [
       "<Figure size 800x800 with 1 Axes>"
      ]
     },
     "metadata": {},
     "output_type": "display_data"
    }
   ],
   "source": [
    "plt.figure(figsize=(8,8))\n",
    "plt.hist(train_df['TransactionAmt'], bins=20, edgecolor='black')\n",
    "plt.xlabel('TransactionAmt')\n",
    "plt.ylabel('Count')\n",
    "plt.title('TransactionAmt Distribution')\n",
    "plt.show()"
   ]
  },
  {
   "cell_type": "markdown",
   "id": "9e2afd23",
   "metadata": {
    "papermill": {
     "duration": 0.026765,
     "end_time": "2023-11-07T10:07:30.740426",
     "exception": false,
     "start_time": "2023-11-07T10:07:30.713661",
     "status": "completed"
    },
    "tags": []
   },
   "source": [
    "Также ещё раз построим ```boxplot```, чтобы убедиться в отсутствии выбросов"
   ]
  },
  {
   "cell_type": "code",
   "execution_count": 49,
   "id": "86cb396e",
   "metadata": {
    "execution": {
     "iopub.execute_input": "2023-11-07T10:07:30.798794Z",
     "iopub.status.busy": "2023-11-07T10:07:30.798146Z",
     "iopub.status.idle": "2023-11-07T10:07:31.022601Z",
     "shell.execute_reply": "2023-11-07T10:07:31.021238Z"
    },
    "papermill": {
     "duration": 0.257101,
     "end_time": "2023-11-07T10:07:31.025147",
     "exception": false,
     "start_time": "2023-11-07T10:07:30.768046",
     "status": "completed"
    },
    "tags": []
   },
   "outputs": [
    {
     "data": {
      "image/png": "[encoded data removed]",
      "text/plain": [
       "<Figure size 800x700 with 1 Axes>"
      ]
     },
     "metadata": {},
     "output_type": "display_data"
    }
   ],
   "source": [
    "plt.figure(figsize=(8,7))\n",
    "sns.boxplot(data=train_df['TransactionAmt'].values, palette='Set2')\n",
    "plt.show()"
   ]
  },
  {
   "cell_type": "markdown",
   "id": "6718efe9",
   "metadata": {
    "papermill": {
     "duration": 0.026835,
     "end_time": "2023-11-07T10:07:31.079480",
     "exception": false,
     "start_time": "2023-11-07T10:07:31.052645",
     "status": "completed"
    },
    "tags": []
   },
   "source": [
    "Посмотрим на распределение ```TransactionAmt``` на тестовом датасете:"
   ]
  },
  {
   "cell_type": "code",
   "execution_count": 50,
   "id": "4992fb9a",
   "metadata": {
    "execution": {
     "iopub.execute_input": "2023-11-07T10:07:31.135352Z",
     "iopub.status.busy": "2023-11-07T10:07:31.134945Z",
     "iopub.status.idle": "2023-11-07T10:07:31.543426Z",
     "shell.execute_reply": "2023-11-07T10:07:31.542321Z"
    },
    "papermill": {
     "duration": 0.439121,
     "end_time": "2023-11-07T10:07:31.545651",
     "exception": false,
     "start_time": "2023-11-07T10:07:31.106530",
     "status": "completed"
    },
    "tags": []
   },
   "outputs": [
    {
     "data": {
      "image/png": "[encoded data removed]",
      "text/plain": [
       "<Figure size 800x800 with 1 Axes>"
      ]
     },
     "metadata": {},
     "output_type": "display_data"
    }
   ],
   "source": [
    "plt.figure(figsize=(8,8))\n",
    "plt.hist(test_df['TransactionAmt'], bins=150, edgecolor='black')\n",
    "plt.xlabel('TransactionAMT')\n",
    "plt.ylabel('Count')\n",
    "plt.title('Distribution of TransactionAMT on test df')\n",
    "plt.show()"
   ]
  },
  {
   "cell_type": "code",
   "execution_count": 51,
   "id": "03d916f0",
   "metadata": {
    "execution": {
     "iopub.execute_input": "2023-11-07T10:07:31.604276Z",
     "iopub.status.busy": "2023-11-07T10:07:31.603706Z",
     "iopub.status.idle": "2023-11-07T10:07:31.855857Z",
     "shell.execute_reply": "2023-11-07T10:07:31.854735Z"
    },
    "papermill": {
     "duration": 0.284391,
     "end_time": "2023-11-07T10:07:31.857920",
     "exception": false,
     "start_time": "2023-11-07T10:07:31.573529",
     "status": "completed"
    },
    "tags": []
   },
   "outputs": [
    {
     "data": {
      "image/png": "[encoded data removed]",
      "text/plain": [
       "<Figure size 1000x300 with 1 Axes>"
      ]
     },
     "metadata": {},
     "output_type": "display_data"
    }
   ],
   "source": [
    "plt.figure(figsize=(10,3))\n",
    "sns.boxplot(x=test_df['TransactionAmt'])\n",
    "plt.title('Диаграмма размаха платежей (test_df)')\n",
    "plt.xlabel('TransactionAmt')\n",
    "plt.show()"
   ]
  },
  {
   "cell_type": "markdown",
   "id": "50f7566e",
   "metadata": {
    "papermill": {
     "duration": 0.027515,
     "end_time": "2023-11-07T10:07:31.913518",
     "exception": false,
     "start_time": "2023-11-07T10:07:31.886003",
     "status": "completed"
    },
    "tags": []
   },
   "source": [
    "Аналогично очистим тестовый датасет от выбросов признака ```TransactionAMT```"
   ]
  },
  {
   "cell_type": "markdown",
   "id": "69c6d2ec",
   "metadata": {
    "papermill": {
     "duration": 0.027673,
     "end_time": "2023-11-07T10:07:31.969780",
     "exception": false,
     "start_time": "2023-11-07T10:07:31.942107",
     "status": "completed"
    },
    "tags": []
   },
   "source": [
    "Используя ```Label Encoder``` преорабразуем категориальные признаки в числа"
   ]
  },
  {
   "cell_type": "code",
   "execution_count": 52,
   "id": "446db7bb",
   "metadata": {
    "execution": {
     "iopub.execute_input": "2023-11-07T10:07:32.027486Z",
     "iopub.status.busy": "2023-11-07T10:07:32.027102Z",
     "iopub.status.idle": "2023-11-07T10:07:51.696915Z",
     "shell.execute_reply": "2023-11-07T10:07:51.696001Z"
    },
    "papermill": {
     "duration": 19.701259,
     "end_time": "2023-11-07T10:07:51.698988",
     "exception": false,
     "start_time": "2023-11-07T10:07:31.997729",
     "status": "completed"
    },
    "tags": []
   },
   "outputs": [
    {
     "name": "stderr",
     "output_type": "stream",
     "text": [
      "/tmp/ipykernel_20/3288612165.py:5: SettingWithCopyWarning: \n",
      "A value is trying to be set on a copy of a slice from a DataFrame.\n",
      "Try using .loc[row_indexer,col_indexer] = value instead\n",
      "\n",
      "See the caveats in the documentation: https://pandas.pydata.org/pandas-docs/stable/user_guide/indexing.html#returning-a-view-versus-a-copy\n",
      "  train_df[f] = le.transform(list(train_df[f].values))\n",
      "/tmp/ipykernel_20/3288612165.py:5: SettingWithCopyWarning: \n",
      "A value is trying to be set on a copy of a slice from a DataFrame.\n",
      "Try using .loc[row_indexer,col_indexer] = value instead\n",
      "\n",
      "See the caveats in the documentation: https://pandas.pydata.org/pandas-docs/stable/user_guide/indexing.html#returning-a-view-versus-a-copy\n",
      "  train_df[f] = le.transform(list(train_df[f].values))\n",
      "/tmp/ipykernel_20/3288612165.py:5: SettingWithCopyWarning: \n",
      "A value is trying to be set on a copy of a slice from a DataFrame.\n",
      "Try using .loc[row_indexer,col_indexer] = value instead\n",
      "\n",
      "See the caveats in the documentation: https://pandas.pydata.org/pandas-docs/stable/user_guide/indexing.html#returning-a-view-versus-a-copy\n",
      "  train_df[f] = le.transform(list(train_df[f].values))\n",
      "/tmp/ipykernel_20/3288612165.py:5: SettingWithCopyWarning: \n",
      "A value is trying to be set on a copy of a slice from a DataFrame.\n",
      "Try using .loc[row_indexer,col_indexer] = value instead\n",
      "\n",
      "See the caveats in the documentation: https://pandas.pydata.org/pandas-docs/stable/user_guide/indexing.html#returning-a-view-versus-a-copy\n",
      "  train_df[f] = le.transform(list(train_df[f].values))\n",
      "/tmp/ipykernel_20/3288612165.py:5: SettingWithCopyWarning: \n",
      "A value is trying to be set on a copy of a slice from a DataFrame.\n",
      "Try using .loc[row_indexer,col_indexer] = value instead\n",
      "\n",
      "See the caveats in the documentation: https://pandas.pydata.org/pandas-docs/stable/user_guide/indexing.html#returning-a-view-versus-a-copy\n",
      "  train_df[f] = le.transform(list(train_df[f].values))\n",
      "/tmp/ipykernel_20/3288612165.py:5: SettingWithCopyWarning: \n",
      "A value is trying to be set on a copy of a slice from a DataFrame.\n",
      "Try using .loc[row_indexer,col_indexer] = value instead\n",
      "\n",
      "See the caveats in the documentation: https://pandas.pydata.org/pandas-docs/stable/user_guide/indexing.html#returning-a-view-versus-a-copy\n",
      "  train_df[f] = le.transform(list(train_df[f].values))\n",
      "/tmp/ipykernel_20/3288612165.py:5: SettingWithCopyWarning: \n",
      "A value is trying to be set on a copy of a slice from a DataFrame.\n",
      "Try using .loc[row_indexer,col_indexer] = value instead\n",
      "\n",
      "See the caveats in the documentation: https://pandas.pydata.org/pandas-docs/stable/user_guide/indexing.html#returning-a-view-versus-a-copy\n",
      "  train_df[f] = le.transform(list(train_df[f].values))\n",
      "/tmp/ipykernel_20/3288612165.py:5: SettingWithCopyWarning: \n",
      "A value is trying to be set on a copy of a slice from a DataFrame.\n",
      "Try using .loc[row_indexer,col_indexer] = value instead\n",
      "\n",
      "See the caveats in the documentation: https://pandas.pydata.org/pandas-docs/stable/user_guide/indexing.html#returning-a-view-versus-a-copy\n",
      "  train_df[f] = le.transform(list(train_df[f].values))\n",
      "/tmp/ipykernel_20/3288612165.py:5: SettingWithCopyWarning: \n",
      "A value is trying to be set on a copy of a slice from a DataFrame.\n",
      "Try using .loc[row_indexer,col_indexer] = value instead\n",
      "\n",
      "See the caveats in the documentation: https://pandas.pydata.org/pandas-docs/stable/user_guide/indexing.html#returning-a-view-versus-a-copy\n",
      "  train_df[f] = le.transform(list(train_df[f].values))\n",
      "/tmp/ipykernel_20/3288612165.py:5: SettingWithCopyWarning: \n",
      "A value is trying to be set on a copy of a slice from a DataFrame.\n",
      "Try using .loc[row_indexer,col_indexer] = value instead\n",
      "\n",
      "See the caveats in the documentation: https://pandas.pydata.org/pandas-docs/stable/user_guide/indexing.html#returning-a-view-versus-a-copy\n",
      "  train_df[f] = le.transform(list(train_df[f].values))\n",
      "/tmp/ipykernel_20/3288612165.py:5: SettingWithCopyWarning: \n",
      "A value is trying to be set on a copy of a slice from a DataFrame.\n",
      "Try using .loc[row_indexer,col_indexer] = value instead\n",
      "\n",
      "See the caveats in the documentation: https://pandas.pydata.org/pandas-docs/stable/user_guide/indexing.html#returning-a-view-versus-a-copy\n",
      "  train_df[f] = le.transform(list(train_df[f].values))\n",
      "/tmp/ipykernel_20/3288612165.py:5: SettingWithCopyWarning: \n",
      "A value is trying to be set on a copy of a slice from a DataFrame.\n",
      "Try using .loc[row_indexer,col_indexer] = value instead\n",
      "\n",
      "See the caveats in the documentation: https://pandas.pydata.org/pandas-docs/stable/user_guide/indexing.html#returning-a-view-versus-a-copy\n",
      "  train_df[f] = le.transform(list(train_df[f].values))\n",
      "/tmp/ipykernel_20/3288612165.py:5: SettingWithCopyWarning: \n",
      "A value is trying to be set on a copy of a slice from a DataFrame.\n",
      "Try using .loc[row_indexer,col_indexer] = value instead\n",
      "\n",
      "See the caveats in the documentation: https://pandas.pydata.org/pandas-docs/stable/user_guide/indexing.html#returning-a-view-versus-a-copy\n",
      "  train_df[f] = le.transform(list(train_df[f].values))\n",
      "/tmp/ipykernel_20/3288612165.py:5: SettingWithCopyWarning: \n",
      "A value is trying to be set on a copy of a slice from a DataFrame.\n",
      "Try using .loc[row_indexer,col_indexer] = value instead\n",
      "\n",
      "See the caveats in the documentation: https://pandas.pydata.org/pandas-docs/stable/user_guide/indexing.html#returning-a-view-versus-a-copy\n",
      "  train_df[f] = le.transform(list(train_df[f].values))\n",
      "/tmp/ipykernel_20/3288612165.py:5: SettingWithCopyWarning: \n",
      "A value is trying to be set on a copy of a slice from a DataFrame.\n",
      "Try using .loc[row_indexer,col_indexer] = value instead\n",
      "\n",
      "See the caveats in the documentation: https://pandas.pydata.org/pandas-docs/stable/user_guide/indexing.html#returning-a-view-versus-a-copy\n",
      "  train_df[f] = le.transform(list(train_df[f].values))\n",
      "/tmp/ipykernel_20/3288612165.py:5: SettingWithCopyWarning: \n",
      "A value is trying to be set on a copy of a slice from a DataFrame.\n",
      "Try using .loc[row_indexer,col_indexer] = value instead\n",
      "\n",
      "See the caveats in the documentation: https://pandas.pydata.org/pandas-docs/stable/user_guide/indexing.html#returning-a-view-versus-a-copy\n",
      "  train_df[f] = le.transform(list(train_df[f].values))\n",
      "/tmp/ipykernel_20/3288612165.py:5: SettingWithCopyWarning: \n",
      "A value is trying to be set on a copy of a slice from a DataFrame.\n",
      "Try using .loc[row_indexer,col_indexer] = value instead\n",
      "\n",
      "See the caveats in the documentation: https://pandas.pydata.org/pandas-docs/stable/user_guide/indexing.html#returning-a-view-versus-a-copy\n",
      "  train_df[f] = le.transform(list(train_df[f].values))\n",
      "/tmp/ipykernel_20/3288612165.py:5: SettingWithCopyWarning: \n",
      "A value is trying to be set on a copy of a slice from a DataFrame.\n",
      "Try using .loc[row_indexer,col_indexer] = value instead\n",
      "\n",
      "See the caveats in the documentation: https://pandas.pydata.org/pandas-docs/stable/user_guide/indexing.html#returning-a-view-versus-a-copy\n",
      "  train_df[f] = le.transform(list(train_df[f].values))\n",
      "/tmp/ipykernel_20/3288612165.py:5: SettingWithCopyWarning: \n",
      "A value is trying to be set on a copy of a slice from a DataFrame.\n",
      "Try using .loc[row_indexer,col_indexer] = value instead\n",
      "\n",
      "See the caveats in the documentation: https://pandas.pydata.org/pandas-docs/stable/user_guide/indexing.html#returning-a-view-versus-a-copy\n",
      "  train_df[f] = le.transform(list(train_df[f].values))\n",
      "/tmp/ipykernel_20/3288612165.py:5: SettingWithCopyWarning: \n",
      "A value is trying to be set on a copy of a slice from a DataFrame.\n",
      "Try using .loc[row_indexer,col_indexer] = value instead\n",
      "\n",
      "See the caveats in the documentation: https://pandas.pydata.org/pandas-docs/stable/user_guide/indexing.html#returning-a-view-versus-a-copy\n",
      "  train_df[f] = le.transform(list(train_df[f].values))\n",
      "/tmp/ipykernel_20/3288612165.py:5: SettingWithCopyWarning: \n",
      "A value is trying to be set on a copy of a slice from a DataFrame.\n",
      "Try using .loc[row_indexer,col_indexer] = value instead\n",
      "\n",
      "See the caveats in the documentation: https://pandas.pydata.org/pandas-docs/stable/user_guide/indexing.html#returning-a-view-versus-a-copy\n",
      "  train_df[f] = le.transform(list(train_df[f].values))\n",
      "/tmp/ipykernel_20/3288612165.py:5: SettingWithCopyWarning: \n",
      "A value is trying to be set on a copy of a slice from a DataFrame.\n",
      "Try using .loc[row_indexer,col_indexer] = value instead\n",
      "\n",
      "See the caveats in the documentation: https://pandas.pydata.org/pandas-docs/stable/user_guide/indexing.html#returning-a-view-versus-a-copy\n",
      "  train_df[f] = le.transform(list(train_df[f].values))\n",
      "/tmp/ipykernel_20/3288612165.py:5: SettingWithCopyWarning: \n",
      "A value is trying to be set on a copy of a slice from a DataFrame.\n",
      "Try using .loc[row_indexer,col_indexer] = value instead\n",
      "\n",
      "See the caveats in the documentation: https://pandas.pydata.org/pandas-docs/stable/user_guide/indexing.html#returning-a-view-versus-a-copy\n",
      "  train_df[f] = le.transform(list(train_df[f].values))\n",
      "/tmp/ipykernel_20/3288612165.py:5: SettingWithCopyWarning: \n",
      "A value is trying to be set on a copy of a slice from a DataFrame.\n",
      "Try using .loc[row_indexer,col_indexer] = value instead\n",
      "\n",
      "See the caveats in the documentation: https://pandas.pydata.org/pandas-docs/stable/user_guide/indexing.html#returning-a-view-versus-a-copy\n",
      "  train_df[f] = le.transform(list(train_df[f].values))\n",
      "/tmp/ipykernel_20/3288612165.py:5: SettingWithCopyWarning: \n",
      "A value is trying to be set on a copy of a slice from a DataFrame.\n",
      "Try using .loc[row_indexer,col_indexer] = value instead\n",
      "\n",
      "See the caveats in the documentation: https://pandas.pydata.org/pandas-docs/stable/user_guide/indexing.html#returning-a-view-versus-a-copy\n",
      "  train_df[f] = le.transform(list(train_df[f].values))\n",
      "/tmp/ipykernel_20/3288612165.py:5: SettingWithCopyWarning: \n",
      "A value is trying to be set on a copy of a slice from a DataFrame.\n",
      "Try using .loc[row_indexer,col_indexer] = value instead\n",
      "\n",
      "See the caveats in the documentation: https://pandas.pydata.org/pandas-docs/stable/user_guide/indexing.html#returning-a-view-versus-a-copy\n",
      "  train_df[f] = le.transform(list(train_df[f].values))\n"
     ]
    }
   ],
   "source": [
    "for f in train_df.columns:\n",
    "    if train_df[f].dtype=='object':\n",
    "        le = LabelEncoder()\n",
    "        le.fit(list(train_df[f].values))\n",
    "        train_df[f] = le.transform(list(train_df[f].values))"
   ]
  },
  {
   "cell_type": "markdown",
   "id": "829dd7c6",
   "metadata": {
    "papermill": {
     "duration": 0.029196,
     "end_time": "2023-11-07T10:07:51.758643",
     "exception": false,
     "start_time": "2023-11-07T10:07:51.729447",
     "status": "completed"
    },
    "tags": []
   },
   "source": [
    "Используя ```Label Encoder``` преорабразуем категориальные признаки в числа"
   ]
  },
  {
   "cell_type": "code",
   "execution_count": 53,
   "id": "55e8bd5a",
   "metadata": {
    "execution": {
     "iopub.execute_input": "2023-11-07T10:07:51.819553Z",
     "iopub.status.busy": "2023-11-07T10:07:51.818205Z",
     "iopub.status.idle": "2023-11-07T10:08:09.736409Z",
     "shell.execute_reply": "2023-11-07T10:08:09.735284Z"
    },
    "papermill": {
     "duration": 17.950966,
     "end_time": "2023-11-07T10:08:09.738819",
     "exception": false,
     "start_time": "2023-11-07T10:07:51.787853",
     "status": "completed"
    },
    "tags": []
   },
   "outputs": [],
   "source": [
    "for f in test_df.columns:\n",
    "    if test_df[f].dtype=='object':\n",
    "        le = LabelEncoder()\n",
    "        le.fit(list(test_df[f].values))\n",
    "        test_df[f] = le.transform(list(test_df[f].values))"
   ]
  },
  {
   "cell_type": "markdown",
   "id": "73cd4789",
   "metadata": {
    "papermill": {
     "duration": 0.028921,
     "end_time": "2023-11-07T10:08:09.797243",
     "exception": false,
     "start_time": "2023-11-07T10:08:09.768322",
     "status": "completed"
    },
    "tags": []
   },
   "source": [
    "Посмотрим на объёмы занимаемой памяти после преобразования числовых типов и кодирования типов ```object``` в числовые типы"
   ]
  },
  {
   "cell_type": "markdown",
   "id": "e6f5cc93",
   "metadata": {
    "papermill": {
     "duration": 0.02859,
     "end_time": "2023-11-07T10:08:09.854874",
     "exception": false,
     "start_time": "2023-11-07T10:08:09.826284",
     "status": "completed"
    },
    "tags": []
   },
   "source": [
    "Напишем функцию для подсчёт изменений памяти:"
   ]
  },
  {
   "cell_type": "code",
   "execution_count": 54,
   "id": "497588ae",
   "metadata": {
    "execution": {
     "iopub.execute_input": "2023-11-07T10:08:09.915991Z",
     "iopub.status.busy": "2023-11-07T10:08:09.915387Z",
     "iopub.status.idle": "2023-11-07T10:08:09.920681Z",
     "shell.execute_reply": "2023-11-07T10:08:09.919881Z"
    },
    "papermill": {
     "duration": 0.039178,
     "end_time": "2023-11-07T10:08:09.923830",
     "exception": false,
     "start_time": "2023-11-07T10:08:09.884652",
     "status": "completed"
    },
    "tags": []
   },
   "outputs": [],
   "source": [
    "def memory_changes(start_mem_usage, df, df_name):\n",
    "    cur_mem_usage = memory_usage(df)\n",
    "    diff_mem = (start_mem_usage - cur_mem_usage)\n",
    "    diff_mem_prct = 100-((cur_mem_usage * 100)/start_mem_usage)\n",
    "    print(f'Memory usage of {df_name} decreased from {start_mem_usage} to {cur_mem_usage} on {diff_mem} Mb ({diff_mem_prct})%')"
   ]
  },
  {
   "cell_type": "markdown",
   "id": "3a1257e6",
   "metadata": {
    "papermill": {
     "duration": 0.029267,
     "end_time": "2023-11-07T10:08:09.983687",
     "exception": false,
     "start_time": "2023-11-07T10:08:09.954420",
     "status": "completed"
    },
    "tags": []
   },
   "source": [
    "### ```train_df``` после преобразований"
   ]
  },
  {
   "cell_type": "code",
   "execution_count": 55,
   "id": "ef74e897",
   "metadata": {
    "execution": {
     "iopub.execute_input": "2023-11-07T10:08:10.044561Z",
     "iopub.status.busy": "2023-11-07T10:08:10.044052Z",
     "iopub.status.idle": "2023-11-07T10:08:10.066396Z",
     "shell.execute_reply": "2023-11-07T10:08:10.065298Z"
    },
    "papermill": {
     "duration": 0.055128,
     "end_time": "2023-11-07T10:08:10.068362",
     "exception": false,
     "start_time": "2023-11-07T10:08:10.013234",
     "status": "completed"
    },
    "tags": []
   },
   "outputs": [
    {
     "name": "stdout",
     "output_type": "stream",
     "text": [
      "Memory usage of train_df decreased from 2567.094612121582 to 817.5092182159424 on 1749.5853939056396 Mb (68.15430119498753)%\n"
     ]
    }
   ],
   "source": [
    "memory_changes(train_df_GB * 1024, df=train_df, df_name='train_df')"
   ]
  },
  {
   "cell_type": "markdown",
   "id": "4cdc30c9",
   "metadata": {
    "papermill": {
     "duration": 0.029251,
     "end_time": "2023-11-07T10:08:10.127160",
     "exception": false,
     "start_time": "2023-11-07T10:08:10.097909",
     "status": "completed"
    },
    "tags": []
   },
   "source": [
    "### ```test_df``` после преобразований"
   ]
  },
  {
   "cell_type": "code",
   "execution_count": 56,
   "id": "21e4a23a",
   "metadata": {
    "execution": {
     "iopub.execute_input": "2023-11-07T10:08:10.187985Z",
     "iopub.status.busy": "2023-11-07T10:08:10.187163Z",
     "iopub.status.idle": "2023-11-07T10:08:10.208394Z",
     "shell.execute_reply": "2023-11-07T10:08:10.207222Z"
    },
    "papermill": {
     "duration": 0.054156,
     "end_time": "2023-11-07T10:08:10.210764",
     "exception": false,
     "start_time": "2023-11-07T10:08:10.156608",
     "status": "completed"
    },
    "tags": []
   },
   "outputs": [
    {
     "name": "stdout",
     "output_type": "stream",
     "text": [
      "Memory usage of test_df decreased from 2214.031036376953 to 743.1897029876709 on 1470.8413333892822 Mb (66.43273329158797)%\n"
     ]
    }
   ],
   "source": [
    "memory_changes(test_df_GB * 1024, df=test_df, df_name='test_df')"
   ]
  },
  {
   "cell_type": "markdown",
   "id": "5ad1ca09",
   "metadata": {
    "papermill": {
     "duration": 0.029088,
     "end_time": "2023-11-07T10:08:10.269767",
     "exception": false,
     "start_time": "2023-11-07T10:08:10.240679",
     "status": "completed"
    },
    "tags": []
   },
   "source": [
    "Т.к. мы объединили датасеты ```*identity``` и ```*transaction```, удалим их для того, чтобы освободить память"
   ]
  },
  {
   "cell_type": "code",
   "execution_count": 57,
   "id": "d2b7c9a5",
   "metadata": {
    "execution": {
     "iopub.execute_input": "2023-11-07T10:08:10.330191Z",
     "iopub.status.busy": "2023-11-07T10:08:10.329834Z",
     "iopub.status.idle": "2023-11-07T10:08:10.415647Z",
     "shell.execute_reply": "2023-11-07T10:08:10.414911Z"
    },
    "papermill": {
     "duration": 0.118109,
     "end_time": "2023-11-07T10:08:10.417420",
     "exception": false,
     "start_time": "2023-11-07T10:08:10.299311",
     "status": "completed"
    },
    "tags": []
   },
   "outputs": [
    {
     "data": {
      "text/plain": [
       "<function gc.collect(generation=2)>"
      ]
     },
     "execution_count": 57,
     "metadata": {},
     "output_type": "execute_result"
    }
   ],
   "source": [
    "del train_transaction\n",
    "del train_identity\n",
    "del test_transaction\n",
    "del test_identity\n",
    "gc.collect"
   ]
  }
 ],
 "metadata": {
  "kernelspec": {
   "display_name": "Python 3",
   "language": "python",
   "name": "python3"
  },
  "language_info": {
   "codemirror_mode": {
    "name": "ipython",
    "version": 3
   },
   "file_extension": ".py",
   "mimetype": "text/x-python",
   "name": "python",
   "nbconvert_exporter": "python",
   "pygments_lexer": "ipython3",
   "version": "3.10.12"
  },
  "papermill": {
   "default_parameters": {},
   "duration": 208.1435,
   "end_time": "2023-11-07T10:08:11.470525",
   "environment_variables": {},
   "exception": null,
   "input_path": "__notebook__.ipynb",
   "output_path": "__notebook__.ipynb",
   "parameters": {},
   "start_time": "2023-11-07T10:04:43.327025",
   "version": "2.4.0"
  }
 },
 "nbformat": 4,
 "nbformat_minor": 5
}
