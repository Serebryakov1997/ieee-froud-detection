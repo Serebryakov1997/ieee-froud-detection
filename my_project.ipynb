{
 "cells": [
  {
   "cell_type": "code",
   "execution_count": 1,
   "id": "8c133508",
   "metadata": {
    "_cell_guid": "b1076dfc-b9ad-4769-8c92-a6c4dae69d19",
    "_uuid": "8f2839f25d086af736a60e9eeb907d3b93b6e0e5",
    "execution": {
     "iopub.execute_input": "2023-11-10T22:04:29.961513Z",
     "iopub.status.busy": "2023-11-10T22:04:29.961149Z",
     "iopub.status.idle": "2023-11-10T22:04:34.229296Z",
     "shell.execute_reply": "2023-11-10T22:04:34.228389Z"
    },
    "papermill": {
     "duration": 4.293268,
     "end_time": "2023-11-10T22:04:34.232245",
     "exception": false,
     "start_time": "2023-11-10T22:04:29.938977",
     "status": "completed"
    },
    "tags": []
   },
   "outputs": [
    {
     "name": "stdout",
     "output_type": "stream",
     "text": [
      "/kaggle/input/ieee-fraud-detection/sample_submission.csv\n",
      "/kaggle/input/ieee-fraud-detection/test_identity.csv\n",
      "/kaggle/input/ieee-fraud-detection/train_identity.csv\n",
      "/kaggle/input/ieee-fraud-detection/test_transaction.csv\n",
      "/kaggle/input/ieee-fraud-detection/train_transaction.csv\n"
     ]
    }
   ],
   "source": [
    "# This Python 3 environment comes with many helpful analytics libraries installed\n",
    "# It is defined by the kaggle/python Docker image: https://github.com/kaggle/docker-python\n",
    "# For example, here's several helpful packages to load\n",
    "\n",
    "import numpy as np # linear algebra\n",
    "import pandas as pd # data processing, CSV file I/O (e.g. pd.read_csv)\n",
    "import gc\n",
    "import numpy as np\n",
    "import matplotlib.pyplot as plt\n",
    "import seaborn as sns\n",
    "from sklearn.metrics import accuracy_score\n",
    "from sklearn.model_selection import train_test_split,cross_val_score,GridSearchCV,cross_validate\n",
    "from sklearn.preprocessing import MinMaxScaler,LabelEncoder,StandardScaler,RobustScaler\n",
    "from sklearn.impute import KNNImputer\n",
    "from sklearn.metrics import accuracy_score,recall_score,precision_score,f1_score,roc_auc_score\n",
    "from sklearn.neighbors import KNeighborsClassifier\n",
    "from sklearn.tree import DecisionTreeClassifier\n",
    "from xgboost import XGBClassifier\n",
    "from lightgbm import LGBMClassifier\n",
    "from sklearn.ensemble import RandomForestClassifier,GradientBoostingClassifier,VotingClassifier,AdaBoostClassifier\n",
    "from sklearn.metrics import classification_report\n",
    "# Input data files are available in the read-only \"../input/\" directory\n",
    "# For example, running this (by clicking run or pressing Shift+Enter) will list all files under the input directory\n",
    "\n",
    "import os\n",
    "for dirname, _, filenames in os.walk('/kaggle/input'):\n",
    "    for filename in filenames:\n",
    "        print(os.path.join(dirname, filename))\n",
    "\n",
    "# You can write up to 20GB to the current directory (/kaggle/working/) that gets preserved as output when you create a version using \"Save & Run All\" \n",
    "# You can also write temporary files to /kaggle/temp/, but they won't be saved outside of the current session"
   ]
  },
  {
   "cell_type": "markdown",
   "id": "238945b6",
   "metadata": {
    "papermill": {
     "duration": 0.020885,
     "end_time": "2023-11-10T22:04:34.273992",
     "exception": false,
     "start_time": "2023-11-10T22:04:34.253107",
     "status": "completed"
    },
    "tags": []
   },
   "source": [
    "### Данный проект решает задачу бинарной классификации.\n",
    "### Нужно предсказать, к какому типу относится транзакция - мошенническая она ли нет."
   ]
  },
  {
   "cell_type": "markdown",
   "id": "d346c0f6",
   "metadata": {
    "papermill": {
     "duration": 0.023348,
     "end_time": "2023-11-10T22:04:34.317511",
     "exception": false,
     "start_time": "2023-11-10T22:04:34.294163",
     "status": "completed"
    },
    "tags": []
   },
   "source": [
    "#### Данные в датасете **transaction**:\n",
    "<span style=\"font-size: 18px;\">\n",
    "    \n",
    "- TransactionDT - дельта времени от заданного эталонного значения времени (не актуального значения) \n",
    "- TransactionAMT - транзакционный платёж в USD\n",
    "- ProductCD - продуктовый код, продукт каждой транзакции\n",
    "- card1 - card6 - информация платёжной карты, такая как: тип карты, категория, банк выпуска, страна и т.д.\n",
    "- addr - адрес\n",
    "- dist - расстояние\n",
    "- P_ and (R_) emaildomain: домены покупателя и получателя\n",
    "- C1-C14 - подсчёт, например сколько адресов связано с платёжной картой и т.д. Фактический смысл скрыт\n",
    "- D1-D15 - дельта времени, количество дней между предыдущей транзакцией, и т.д.\n",
    "- M1 - M9 -совпадение, например имена на карте и адресе и т.д.\n",
    "- Vxxx - Vesta разработала богатые функции, включая ранжирование, подсчёт и другие отношения между сущностями\n",
    "</span>"
   ]
  },
  {
   "cell_type": "markdown",
   "id": "1b4c3345",
   "metadata": {
    "papermill": {
     "duration": 0.022537,
     "end_time": "2023-11-10T22:04:34.362810",
     "exception": false,
     "start_time": "2023-11-10T22:04:34.340273",
     "status": "completed"
    },
    "tags": []
   },
   "source": [
    "<span style=\"font-size:18px;\">\n",
    "Категориальные признаки:\n",
    "\n",
    "- ProductCD\n",
    "- card1-card6\n",
    "- addr1, addr2\n",
    "- P_emaildomain\n",
    "- R_email_domain\n",
    "- M1 - M9\n",
    "</span>"
   ]
  },
  {
   "cell_type": "markdown",
   "id": "18d9d5d4",
   "metadata": {
    "papermill": {
     "duration": 0.020151,
     "end_time": "2023-11-10T22:04:34.456511",
     "exception": false,
     "start_time": "2023-11-10T22:04:34.436360",
     "status": "completed"
    },
    "tags": []
   },
   "source": [
    "#### Данные в датасете **Identity**\n",
    "<span style=\"font-size:18px;\">\n",
    "Переменные в этой таблице - идентификационные данные:\n",
    "    \n",
    "- информация о сетевом соединении (IP, ISP, прокси и т.д.)\n",
    "- цифровая подпись (UA/браузер/ОС/версия и т.д.), связанные с транзакциями.\n",
    "Их собирает система защиты от мошенничества Vesta и партнеры цифровой безопасности.\n",
    "(Имена полей скрыты, и пояснения значений полей не будет в целях защиты конфиденциальности и их договорного соглашения)\n",
    "</span>"
   ]
  },
  {
   "cell_type": "markdown",
   "id": "bc46acbd",
   "metadata": {
    "papermill": {
     "duration": 0.02007,
     "end_time": "2023-11-10T22:04:34.496902",
     "exception": false,
     "start_time": "2023-11-10T22:04:34.476832",
     "status": "completed"
    },
    "tags": []
   },
   "source": [
    "<span style=\"font-size:18px;\">\n",
    "Категориальные признаки:\n",
    "    \n",
    "- DeviceType\n",
    "- DeviceInfo\n",
    "- id_12 - id_38\n",
    "</span>"
   ]
  },
  {
   "cell_type": "markdown",
   "id": "d2bc7340",
   "metadata": {
    "papermill": {
     "duration": 0.02025,
     "end_time": "2023-11-10T22:04:34.537307",
     "exception": false,
     "start_time": "2023-11-10T22:04:34.517057",
     "status": "completed"
    },
    "tags": []
   },
   "source": [
    "### Загрузим все наборы данных данного проекта"
   ]
  },
  {
   "cell_type": "code",
   "execution_count": 2,
   "id": "fd4c4ce6",
   "metadata": {
    "execution": {
     "iopub.execute_input": "2023-11-10T22:04:34.579915Z",
     "iopub.status.busy": "2023-11-10T22:04:34.579593Z",
     "iopub.status.idle": "2023-11-10T22:05:13.833349Z",
     "shell.execute_reply": "2023-11-10T22:05:13.832115Z"
    },
    "papermill": {
     "duration": 39.277931,
     "end_time": "2023-11-10T22:05:13.835861",
     "exception": false,
     "start_time": "2023-11-10T22:04:34.557930",
     "status": "completed"
    },
    "tags": []
   },
   "outputs": [],
   "source": [
    "train_transaction=pd.read_csv('/kaggle/input/ieee-fraud-detection/train_transaction.csv')\n",
    "train_identity=pd.read_csv('/kaggle/input/ieee-fraud-detection/train_identity.csv')\n",
    "test_transaction=pd.read_csv('/kaggle/input/ieee-fraud-detection/test_transaction.csv')\n",
    "test_identity=pd.read_csv('/kaggle/input/ieee-fraud-detection/test_identity.csv')\n",
    "sample_submission=pd.read_csv('/kaggle/input/ieee-fraud-detection/sample_submission.csv')"
   ]
  },
  {
   "cell_type": "markdown",
   "id": "b782bb70",
   "metadata": {
    "papermill": {
     "duration": 0.020754,
     "end_time": "2023-11-10T22:05:13.877686",
     "exception": false,
     "start_time": "2023-11-10T22:05:13.856932",
     "status": "completed"
    },
    "tags": []
   },
   "source": [
    "Объединим таблицы ```*transaction``` и ```*identity``` по полю ```TransactionID```"
   ]
  },
  {
   "cell_type": "code",
   "execution_count": 3,
   "id": "7186a597",
   "metadata": {
    "execution": {
     "iopub.execute_input": "2023-11-10T22:05:13.922028Z",
     "iopub.status.busy": "2023-11-10T22:05:13.921664Z",
     "iopub.status.idle": "2023-11-10T22:05:15.063618Z",
     "shell.execute_reply": "2023-11-10T22:05:15.062452Z"
    },
    "papermill": {
     "duration": 1.16619,
     "end_time": "2023-11-10T22:05:15.065973",
     "exception": false,
     "start_time": "2023-11-10T22:05:13.899783",
     "status": "completed"
    },
    "tags": []
   },
   "outputs": [],
   "source": [
    "train = train_transaction.merge(train_identity, how='left', on='TransactionID')\n",
    "test = test_transaction.merge(test_identity, how='left', on='TransactionID')"
   ]
  },
  {
   "cell_type": "markdown",
   "id": "8014270d",
   "metadata": {
    "papermill": {
     "duration": 0.020465,
     "end_time": "2023-11-10T22:05:15.107471",
     "exception": false,
     "start_time": "2023-11-10T22:05:15.087006",
     "status": "completed"
    },
    "tags": []
   },
   "source": [
    "Т.к. мы объединили датасеты ```*identity``` и ```*transaction```, удалим их для того, чтобы освободить память"
   ]
  },
  {
   "cell_type": "code",
   "execution_count": 4,
   "id": "14e60b0f",
   "metadata": {
    "execution": {
     "iopub.execute_input": "2023-11-10T22:05:15.151550Z",
     "iopub.status.busy": "2023-11-10T22:05:15.151184Z",
     "iopub.status.idle": "2023-11-10T22:05:15.232681Z",
     "shell.execute_reply": "2023-11-10T22:05:15.231555Z"
    },
    "papermill": {
     "duration": 0.106671,
     "end_time": "2023-11-10T22:05:15.235269",
     "exception": false,
     "start_time": "2023-11-10T22:05:15.128598",
     "status": "completed"
    },
    "tags": []
   },
   "outputs": [
    {
     "data": {
      "text/plain": [
       "<function gc.collect(generation=2)>"
      ]
     },
     "execution_count": 4,
     "metadata": {},
     "output_type": "execute_result"
    }
   ],
   "source": [
    "del train_transaction\n",
    "del train_identity\n",
    "del test_transaction\n",
    "del test_identity\n",
    "gc.collect"
   ]
  },
  {
   "cell_type": "markdown",
   "id": "d0878428",
   "metadata": {
    "papermill": {
     "duration": 0.021517,
     "end_time": "2023-11-10T22:05:15.278462",
     "exception": false,
     "start_time": "2023-11-10T22:05:15.256945",
     "status": "completed"
    },
    "tags": []
   },
   "source": [
    "Создадим копии датасетов, с которыми будем работать, чтобы не менять исходники"
   ]
  },
  {
   "cell_type": "code",
   "execution_count": 5,
   "id": "c9360d68",
   "metadata": {
    "execution": {
     "iopub.execute_input": "2023-11-10T22:05:15.324633Z",
     "iopub.status.busy": "2023-11-10T22:05:15.323099Z",
     "iopub.status.idle": "2023-11-10T22:05:18.920334Z",
     "shell.execute_reply": "2023-11-10T22:05:18.917578Z"
    },
    "papermill": {
     "duration": 3.62449,
     "end_time": "2023-11-10T22:05:18.925332",
     "exception": false,
     "start_time": "2023-11-10T22:05:15.300842",
     "status": "completed"
    },
    "tags": []
   },
   "outputs": [],
   "source": [
    "train_df = train.copy()\n",
    "test_df = test.copy()"
   ]
  },
  {
   "cell_type": "markdown",
   "id": "d31e1c1e",
   "metadata": {
    "papermill": {
     "duration": 0.054369,
     "end_time": "2023-11-10T22:05:19.031877",
     "exception": false,
     "start_time": "2023-11-10T22:05:18.977508",
     "status": "completed"
    },
    "tags": []
   },
   "source": [
    "Посмотрим какой объём оперативной памяти занимают датасеты:"
   ]
  },
  {
   "cell_type": "code",
   "execution_count": 6,
   "id": "c47237d8",
   "metadata": {
    "execution": {
     "iopub.execute_input": "2023-11-10T22:05:19.117003Z",
     "iopub.status.busy": "2023-11-10T22:05:19.116155Z",
     "iopub.status.idle": "2023-11-10T22:05:22.818676Z",
     "shell.execute_reply": "2023-11-10T22:05:22.817590Z"
    },
    "papermill": {
     "duration": 3.751769,
     "end_time": "2023-11-10T22:05:22.820708",
     "exception": false,
     "start_time": "2023-11-10T22:05:19.068939",
     "status": "completed"
    },
    "tags": []
   },
   "outputs": [
    {
     "name": "stdout",
     "output_type": "stream",
     "text": [
      "train df: 2.51 GB of memory\n",
      "test df : 2.16 GB of memory\n"
     ]
    }
   ],
   "source": [
    "train_df_GB = train_df.memory_usage(deep=True).sum()/1024**3\n",
    "test_df_GB = test_df.memory_usage(deep=True).sum()/1024**3\n",
    "\n",
    "print(f'train df: {train_df_GB:.2f} GB of memory')\n",
    "print(f'test df : {test_df_GB:.2f} GB of memory')"
   ]
  },
  {
   "cell_type": "markdown",
   "id": "6e809367",
   "metadata": {
    "papermill": {
     "duration": 0.021315,
     "end_time": "2023-11-10T22:05:22.863797",
     "exception": false,
     "start_time": "2023-11-10T22:05:22.842482",
     "status": "completed"
    },
    "tags": []
   },
   "source": [
    "Видим, что датафреймы занимают достаточно большой объём оперативной памяти, следовательно на обработку каждого датафрейма будет затрачено большое кол-во ресурсов и довольно длительное время. \n",
    "\n",
    "Исходя из этого необходимо разбить датасеты на несколько частей и работать с каждым в отдельности. А затем усреднить полученные оценки"
   ]
  },
  {
   "cell_type": "markdown",
   "id": "77317497",
   "metadata": {
    "papermill": {
     "duration": 0.020484,
     "end_time": "2023-11-10T22:05:22.905334",
     "exception": false,
     "start_time": "2023-11-10T22:05:22.884850",
     "status": "completed"
    },
    "tags": []
   },
   "source": [
    "Напишем функцию подсчёта объема занимаемой памяти:"
   ]
  },
  {
   "cell_type": "code",
   "execution_count": 7,
   "id": "7a146ee6",
   "metadata": {
    "execution": {
     "iopub.execute_input": "2023-11-10T22:05:22.949116Z",
     "iopub.status.busy": "2023-11-10T22:05:22.948151Z",
     "iopub.status.idle": "2023-11-10T22:05:22.955230Z",
     "shell.execute_reply": "2023-11-10T22:05:22.953899Z"
    },
    "papermill": {
     "duration": 0.031801,
     "end_time": "2023-11-10T22:05:22.958055",
     "exception": false,
     "start_time": "2023-11-10T22:05:22.926254",
     "status": "completed"
    },
    "tags": []
   },
   "outputs": [],
   "source": [
    "def memory_usage(pandas_object):\n",
    "    if isinstance(pandas_object, pd.DataFrame):\n",
    "        usage_b = pandas_object.memory_usage(deep=True).sum()\n",
    "    else:\n",
    "        usage_b = pandas_obj.memory_usage(deep=True)\n",
    "    usage_mb = usage_b / 1024 ** 2 # convert to mb\n",
    "    return usage_mb"
   ]
  },
  {
   "cell_type": "markdown",
   "id": "926bbd91",
   "metadata": {
    "papermill": {
     "duration": 0.020219,
     "end_time": "2023-11-10T22:05:22.999103",
     "exception": false,
     "start_time": "2023-11-10T22:05:22.978884",
     "status": "completed"
    },
    "tags": []
   },
   "source": [
    "Напишем функцию для уменьшения объёма занимаемой памяти датасетом.\n",
    "\n",
    "1. Преобразуем все значения подтипов ```int``` в тип ```uint```, т.к. хранение только положительных значений позволит нам уменьшить объём занимаемой памяти.\n",
    "\n",
    "2. Все значения подтипов ```float``` в тип ```float```\n",
    "2. ```object``` в ```category```"
   ]
  },
  {
   "cell_type": "code",
   "execution_count": 8,
   "id": "597c0133",
   "metadata": {
    "execution": {
     "iopub.execute_input": "2023-11-10T22:05:23.042223Z",
     "iopub.status.busy": "2023-11-10T22:05:23.041888Z",
     "iopub.status.idle": "2023-11-10T22:05:23.049099Z",
     "shell.execute_reply": "2023-11-10T22:05:23.047995Z"
    },
    "papermill": {
     "duration": 0.031528,
     "end_time": "2023-11-10T22:05:23.051183",
     "exception": false,
     "start_time": "2023-11-10T22:05:23.019655",
     "status": "completed"
    },
    "tags": []
   },
   "outputs": [],
   "source": [
    "def reduce_mem_usage_num(df, name):\n",
    "    start_memory = memory_usage(df)\n",
    "    \n",
    "    # convert int\n",
    "    df_int = df.select_dtypes(include=['int'])\n",
    "    converted_int = df_int.apply(pd.to_numeric, downcast='unsigned')\n",
    "    \n",
    "    # convert float\n",
    "    df_float = df.select_dtypes(include=['float'])\n",
    "    converted_float = df_float.apply(pd.to_numeric, downcast='float')\n",
    "    \n",
    "    optimized_df = df.copy()\n",
    "    optimized_df[converted_int.columns] = converted_int\n",
    "    optimized_df[converted_float.columns] = converted_float\n",
    "    \n",
    "    finish_memory = memory_usage(optimized_df)\n",
    "    diff_memory = start_memory - finish_memory\n",
    "    diff_memory_prct = 100 - ((finish_memory * 100)/start_memory)\n",
    "    print(f'start memory of {name} is {start_memory} Mb')\n",
    "    print(f'memory after optimization of {name} is {finish_memory} Mb')\n",
    "    print(f'memory usage of {name} decreased on {diff_memory} Mb ({diff_memory_prct} %)\\n')\n",
    "    return optimized_df"
   ]
  },
  {
   "cell_type": "code",
   "execution_count": 9,
   "id": "ed562a4d",
   "metadata": {
    "execution": {
     "iopub.execute_input": "2023-11-10T22:05:23.095335Z",
     "iopub.status.busy": "2023-11-10T22:05:23.094996Z",
     "iopub.status.idle": "2023-11-10T22:05:50.626216Z",
     "shell.execute_reply": "2023-11-10T22:05:50.624387Z"
    },
    "papermill": {
     "duration": 27.556205,
     "end_time": "2023-11-10T22:05:50.629170",
     "exception": false,
     "start_time": "2023-11-10T22:05:23.072965",
     "status": "completed"
    },
    "tags": []
   },
   "outputs": [
    {
     "name": "stdout",
     "output_type": "stream",
     "text": [
      "start memory of train_df is 2567.094612121582 Mb\n",
      "memory after optimization of train_df is 1656.4279747009277 Mb\n",
      "memory usage of train_df decreased on 910.6666374206543 Mb (35.47460358962117 %)\n",
      "\n",
      "start memory of test_df is 2214.031036376953 Mb\n",
      "memory after optimization of test_df is 1436.0497455596924 Mb\n",
      "memory usage of test_df decreased on 777.9812908172607 Mb (35.13868044462248 %)\n",
      "\n"
     ]
    }
   ],
   "source": [
    "train_df = reduce_mem_usage_num(train_df, 'train_df')\n",
    "test_df = reduce_mem_usage_num(test_df, 'test_df')"
   ]
  },
  {
   "cell_type": "code",
   "execution_count": 10,
   "id": "905a956d",
   "metadata": {
    "execution": {
     "iopub.execute_input": "2023-11-10T22:05:50.676971Z",
     "iopub.status.busy": "2023-11-10T22:05:50.676048Z",
     "iopub.status.idle": "2023-11-10T22:05:51.704703Z",
     "shell.execute_reply": "2023-11-10T22:05:51.703572Z"
    },
    "papermill": {
     "duration": 1.054257,
     "end_time": "2023-11-10T22:05:51.707398",
     "exception": false,
     "start_time": "2023-11-10T22:05:50.653141",
     "status": "completed"
    },
    "tags": []
   },
   "outputs": [],
   "source": [
    "for col in train_df.columns:\n",
    "    if train_df[col].dtype == 'object':\n",
    "        train_df[col] = train_df[col].astype('category')"
   ]
  },
  {
   "cell_type": "code",
   "execution_count": 11,
   "id": "1a659baf",
   "metadata": {
    "execution": {
     "iopub.execute_input": "2023-11-10T22:05:51.753319Z",
     "iopub.status.busy": "2023-11-10T22:05:51.752914Z",
     "iopub.status.idle": "2023-11-10T22:05:51.793507Z",
     "shell.execute_reply": "2023-11-10T22:05:51.792254Z"
    },
    "papermill": {
     "duration": 0.066069,
     "end_time": "2023-11-10T22:05:51.795763",
     "exception": false,
     "start_time": "2023-11-10T22:05:51.729694",
     "status": "completed"
    },
    "tags": []
   },
   "outputs": [
    {
     "name": "stdout",
     "output_type": "stream",
     "text": [
      "<class 'pandas.core.frame.DataFrame'>\n",
      "RangeIndex: 590540 entries, 0 to 590539\n",
      "Columns: 434 entries, TransactionID to DeviceInfo\n",
      "dtypes: category(31), float32(399), uint16(1), uint32(2), uint8(1)\n",
      "memory usage: 924.3 MB\n"
     ]
    }
   ],
   "source": [
    "train_df.info()"
   ]
  },
  {
   "cell_type": "code",
   "execution_count": 12,
   "id": "68686746",
   "metadata": {
    "execution": {
     "iopub.execute_input": "2023-11-10T22:05:51.839698Z",
     "iopub.status.busy": "2023-11-10T22:05:51.839258Z",
     "iopub.status.idle": "2023-11-10T22:05:52.757703Z",
     "shell.execute_reply": "2023-11-10T22:05:52.756589Z"
    },
    "papermill": {
     "duration": 0.943679,
     "end_time": "2023-11-10T22:05:52.760689",
     "exception": false,
     "start_time": "2023-11-10T22:05:51.817010",
     "status": "completed"
    },
    "tags": []
   },
   "outputs": [],
   "source": [
    "for col in test_df.columns:\n",
    "    if test_df[col].dtype == 'object':\n",
    "        test_df[col] = test_df[col].astype('category')"
   ]
  },
  {
   "cell_type": "code",
   "execution_count": 13,
   "id": "08528a60",
   "metadata": {
    "execution": {
     "iopub.execute_input": "2023-11-10T22:05:52.805451Z",
     "iopub.status.busy": "2023-11-10T22:05:52.805087Z",
     "iopub.status.idle": "2023-11-10T22:05:52.837089Z",
     "shell.execute_reply": "2023-11-10T22:05:52.836086Z"
    },
    "papermill": {
     "duration": 0.057121,
     "end_time": "2023-11-10T22:05:52.839113",
     "exception": false,
     "start_time": "2023-11-10T22:05:52.781992",
     "status": "completed"
    },
    "tags": []
   },
   "outputs": [
    {
     "name": "stdout",
     "output_type": "stream",
     "text": [
      "<class 'pandas.core.frame.DataFrame'>\n",
      "RangeIndex: 506691 entries, 0 to 506690\n",
      "Columns: 433 entries, TransactionID to DeviceInfo\n",
      "dtypes: category(31), float32(399), uint16(1), uint32(2)\n",
      "memory usage: 792.6 MB\n"
     ]
    }
   ],
   "source": [
    "test_df.info()"
   ]
  },
  {
   "cell_type": "code",
   "execution_count": 14,
   "id": "6dde8019",
   "metadata": {
    "execution": {
     "iopub.execute_input": "2023-11-10T22:05:52.883451Z",
     "iopub.status.busy": "2023-11-10T22:05:52.883080Z",
     "iopub.status.idle": "2023-11-10T22:05:52.905600Z",
     "shell.execute_reply": "2023-11-10T22:05:52.904256Z"
    },
    "papermill": {
     "duration": 0.04697,
     "end_time": "2023-11-10T22:05:52.907475",
     "exception": false,
     "start_time": "2023-11-10T22:05:52.860505",
     "status": "completed"
    },
    "tags": []
   },
   "outputs": [
    {
     "name": "stdout",
     "output_type": "stream",
     "text": [
      "train_df decreased on 63.989099234193674 %\n",
      "test_df decreased on 64.19355467369698 %\n"
     ]
    }
   ],
   "source": [
    "print(f'train_df decreased on {100 - (memory_usage(train_df) * 100)/2567.094} %')\n",
    "print(f'test_df decreased on {100 - (memory_usage(test_df) * 100)/2214.031} %')"
   ]
  },
  {
   "cell_type": "markdown",
   "id": "cd781bfd",
   "metadata": {
    "papermill": {
     "duration": 0.021362,
     "end_time": "2023-11-10T22:05:52.950246",
     "exception": false,
     "start_time": "2023-11-10T22:05:52.928884",
     "status": "completed"
    },
    "tags": []
   },
   "source": [
    "Видим, что объём памяти, занимаемой каждым датасетом после преобразования типов признаков уменьшился примерно на ```64``` %"
   ]
  },
  {
   "cell_type": "markdown",
   "id": "54dad2b2",
   "metadata": {
    "papermill": {
     "duration": 0.02036,
     "end_time": "2023-11-10T22:05:52.993424",
     "exception": false,
     "start_time": "2023-11-10T22:05:52.973064",
     "status": "completed"
    },
    "tags": []
   },
   "source": [
    "#### Напишем функцию, которая будет представлять отчёт о пропусках в данных"
   ]
  },
  {
   "cell_type": "code",
   "execution_count": 15,
   "id": "84f3e81a",
   "metadata": {
    "execution": {
     "iopub.execute_input": "2023-11-10T22:05:53.037155Z",
     "iopub.status.busy": "2023-11-10T22:05:53.036794Z",
     "iopub.status.idle": "2023-11-10T22:05:53.043628Z",
     "shell.execute_reply": "2023-11-10T22:05:53.042329Z"
    },
    "papermill": {
     "duration": 0.031022,
     "end_time": "2023-11-10T22:05:53.045586",
     "exception": false,
     "start_time": "2023-11-10T22:05:53.014564",
     "status": "completed"
    },
    "tags": []
   },
   "outputs": [],
   "source": [
    "def missing_values_table(df, df_name):\n",
    "    mis_val = df.isnull().sum()\n",
    "    len_df = len(df)\n",
    "    mis_val_percent = 100 * mis_val / len_df\n",
    "    mis_val_table = pd.concat([mis_val, mis_val_percent], axis=1)\n",
    "    mis_val_table_ren_columns = mis_val_table.rename(\n",
    "    columns = {0: 'Missing Values', 1: '% of Total Values'})\n",
    "    \n",
    "    mis_val_table_ren_columns = mis_val_table_ren_columns[\n",
    "        mis_val_table_ren_columns.iloc[:,1] != 0].sort_values(\n",
    "    '% of Total Values', ascending=False).round(1)\n",
    "    \n",
    "    print(f'{df_name} has ', str(df.shape[1]) + ' columns.\\n',\n",
    "         'There are ' + str(mis_val_table_ren_columns.shape[0]) +\n",
    "          ' columns that have missing values.')\n",
    "    return mis_val_table_ren_columns"
   ]
  },
  {
   "cell_type": "code",
   "execution_count": 16,
   "id": "1a1fa326",
   "metadata": {
    "execution": {
     "iopub.execute_input": "2023-11-10T22:05:53.089847Z",
     "iopub.status.busy": "2023-11-10T22:05:53.089453Z",
     "iopub.status.idle": "2023-11-10T22:05:53.312914Z",
     "shell.execute_reply": "2023-11-10T22:05:53.310738Z"
    },
    "papermill": {
     "duration": 0.248494,
     "end_time": "2023-11-10T22:05:53.315316",
     "exception": false,
     "start_time": "2023-11-10T22:05:53.066822",
     "status": "completed"
    },
    "tags": []
   },
   "outputs": [
    {
     "name": "stdout",
     "output_type": "stream",
     "text": [
      "train_df has  434 columns.\n",
      " There are 414 columns that have missing values.\n"
     ]
    },
    {
     "data": {
      "text/html": [
       "<div>\n",
       "<style scoped>\n",
       "    .dataframe tbody tr th:only-of-type {\n",
       "        vertical-align: middle;\n",
       "    }\n",
       "\n",
       "    .dataframe tbody tr th {\n",
       "        vertical-align: top;\n",
       "    }\n",
       "\n",
       "    .dataframe thead th {\n",
       "        text-align: right;\n",
       "    }\n",
       "</style>\n",
       "<table border=\"1\" class=\"dataframe\">\n",
       "  <thead>\n",
       "    <tr style=\"text-align: right;\">\n",
       "      <th></th>\n",
       "      <th>Missing Values</th>\n",
       "      <th>% of Total Values</th>\n",
       "    </tr>\n",
       "  </thead>\n",
       "  <tbody>\n",
       "    <tr>\n",
       "      <th>id_24</th>\n",
       "      <td>585793</td>\n",
       "      <td>99.2</td>\n",
       "    </tr>\n",
       "    <tr>\n",
       "      <th>id_25</th>\n",
       "      <td>585408</td>\n",
       "      <td>99.1</td>\n",
       "    </tr>\n",
       "    <tr>\n",
       "      <th>id_07</th>\n",
       "      <td>585385</td>\n",
       "      <td>99.1</td>\n",
       "    </tr>\n",
       "    <tr>\n",
       "      <th>id_08</th>\n",
       "      <td>585385</td>\n",
       "      <td>99.1</td>\n",
       "    </tr>\n",
       "    <tr>\n",
       "      <th>id_21</th>\n",
       "      <td>585381</td>\n",
       "      <td>99.1</td>\n",
       "    </tr>\n",
       "    <tr>\n",
       "      <th>...</th>\n",
       "      <td>...</td>\n",
       "      <td>...</td>\n",
       "    </tr>\n",
       "    <tr>\n",
       "      <th>V285</th>\n",
       "      <td>12</td>\n",
       "      <td>0.0</td>\n",
       "    </tr>\n",
       "    <tr>\n",
       "      <th>V284</th>\n",
       "      <td>12</td>\n",
       "      <td>0.0</td>\n",
       "    </tr>\n",
       "    <tr>\n",
       "      <th>V280</th>\n",
       "      <td>12</td>\n",
       "      <td>0.0</td>\n",
       "    </tr>\n",
       "    <tr>\n",
       "      <th>V279</th>\n",
       "      <td>12</td>\n",
       "      <td>0.0</td>\n",
       "    </tr>\n",
       "    <tr>\n",
       "      <th>V312</th>\n",
       "      <td>12</td>\n",
       "      <td>0.0</td>\n",
       "    </tr>\n",
       "  </tbody>\n",
       "</table>\n",
       "<p>414 rows × 2 columns</p>\n",
       "</div>"
      ],
      "text/plain": [
       "       Missing Values  % of Total Values\n",
       "id_24          585793               99.2\n",
       "id_25          585408               99.1\n",
       "id_07          585385               99.1\n",
       "id_08          585385               99.1\n",
       "id_21          585381               99.1\n",
       "...               ...                ...\n",
       "V285               12                0.0\n",
       "V284               12                0.0\n",
       "V280               12                0.0\n",
       "V279               12                0.0\n",
       "V312               12                0.0\n",
       "\n",
       "[414 rows x 2 columns]"
      ]
     },
     "execution_count": 16,
     "metadata": {},
     "output_type": "execute_result"
    }
   ],
   "source": [
    "missing_values_table(train_df, 'train_df')"
   ]
  },
  {
   "cell_type": "code",
   "execution_count": 17,
   "id": "6427b1e2",
   "metadata": {
    "execution": {
     "iopub.execute_input": "2023-11-10T22:05:53.362340Z",
     "iopub.status.busy": "2023-11-10T22:05:53.361985Z",
     "iopub.status.idle": "2023-11-10T22:05:53.539560Z",
     "shell.execute_reply": "2023-11-10T22:05:53.538492Z"
    },
    "papermill": {
     "duration": 0.203257,
     "end_time": "2023-11-10T22:05:53.541482",
     "exception": false,
     "start_time": "2023-11-10T22:05:53.338225",
     "status": "completed"
    },
    "tags": []
   },
   "outputs": [
    {
     "name": "stdout",
     "output_type": "stream",
     "text": [
      "test_df has  433 columns.\n",
      " There are 385 columns that have missing values.\n"
     ]
    },
    {
     "data": {
      "text/html": [
       "<div>\n",
       "<style scoped>\n",
       "    .dataframe tbody tr th:only-of-type {\n",
       "        vertical-align: middle;\n",
       "    }\n",
       "\n",
       "    .dataframe tbody tr th {\n",
       "        vertical-align: top;\n",
       "    }\n",
       "\n",
       "    .dataframe thead th {\n",
       "        text-align: right;\n",
       "    }\n",
       "</style>\n",
       "<table border=\"1\" class=\"dataframe\">\n",
       "  <thead>\n",
       "    <tr style=\"text-align: right;\">\n",
       "      <th></th>\n",
       "      <th>Missing Values</th>\n",
       "      <th>% of Total Values</th>\n",
       "    </tr>\n",
       "  </thead>\n",
       "  <tbody>\n",
       "    <tr>\n",
       "      <th>id-24</th>\n",
       "      <td>501951</td>\n",
       "      <td>99.1</td>\n",
       "    </tr>\n",
       "    <tr>\n",
       "      <th>id-25</th>\n",
       "      <td>501652</td>\n",
       "      <td>99.0</td>\n",
       "    </tr>\n",
       "    <tr>\n",
       "      <th>id-26</th>\n",
       "      <td>501644</td>\n",
       "      <td>99.0</td>\n",
       "    </tr>\n",
       "    <tr>\n",
       "      <th>id-08</th>\n",
       "      <td>501632</td>\n",
       "      <td>99.0</td>\n",
       "    </tr>\n",
       "    <tr>\n",
       "      <th>id-07</th>\n",
       "      <td>501632</td>\n",
       "      <td>99.0</td>\n",
       "    </tr>\n",
       "    <tr>\n",
       "      <th>...</th>\n",
       "      <td>...</td>\n",
       "      <td>...</td>\n",
       "    </tr>\n",
       "    <tr>\n",
       "      <th>V293</th>\n",
       "      <td>3</td>\n",
       "      <td>0.0</td>\n",
       "    </tr>\n",
       "    <tr>\n",
       "      <th>C14</th>\n",
       "      <td>3</td>\n",
       "      <td>0.0</td>\n",
       "    </tr>\n",
       "    <tr>\n",
       "      <th>V319</th>\n",
       "      <td>3</td>\n",
       "      <td>0.0</td>\n",
       "    </tr>\n",
       "    <tr>\n",
       "      <th>V292</th>\n",
       "      <td>3</td>\n",
       "      <td>0.0</td>\n",
       "    </tr>\n",
       "    <tr>\n",
       "      <th>V303</th>\n",
       "      <td>3</td>\n",
       "      <td>0.0</td>\n",
       "    </tr>\n",
       "  </tbody>\n",
       "</table>\n",
       "<p>385 rows × 2 columns</p>\n",
       "</div>"
      ],
      "text/plain": [
       "       Missing Values  % of Total Values\n",
       "id-24          501951               99.1\n",
       "id-25          501652               99.0\n",
       "id-26          501644               99.0\n",
       "id-08          501632               99.0\n",
       "id-07          501632               99.0\n",
       "...               ...                ...\n",
       "V293                3                0.0\n",
       "C14                 3                0.0\n",
       "V319                3                0.0\n",
       "V292                3                0.0\n",
       "V303                3                0.0\n",
       "\n",
       "[385 rows x 2 columns]"
      ]
     },
     "execution_count": 17,
     "metadata": {},
     "output_type": "execute_result"
    }
   ],
   "source": [
    "missing_values_table(test_df, 'test_df')"
   ]
  },
  {
   "cell_type": "markdown",
   "id": "e283a1ab",
   "metadata": {
    "papermill": {
     "duration": 0.022625,
     "end_time": "2023-11-10T22:05:53.588770",
     "exception": false,
     "start_time": "2023-11-10T22:05:53.566145",
     "status": "completed"
    },
    "tags": []
   },
   "source": [
    "Заменим признаки с ```-``` в тестовом датасете на соответствующие названия из тренировочного датасета с ```_```"
   ]
  },
  {
   "cell_type": "code",
   "execution_count": 18,
   "id": "0498a289",
   "metadata": {
    "execution": {
     "iopub.execute_input": "2023-11-10T22:05:53.637569Z",
     "iopub.status.busy": "2023-11-10T22:05:53.636900Z",
     "iopub.status.idle": "2023-11-10T22:05:54.408713Z",
     "shell.execute_reply": "2023-11-10T22:05:54.407950Z"
    },
    "papermill": {
     "duration": 0.796973,
     "end_time": "2023-11-10T22:05:54.411143",
     "exception": false,
     "start_time": "2023-11-10T22:05:53.614170",
     "status": "completed"
    },
    "tags": []
   },
   "outputs": [],
   "source": [
    "test_df = test_df.rename(columns=lambda x:'_'.join(x.split('-')))"
   ]
  },
  {
   "cell_type": "code",
   "execution_count": 19,
   "id": "d84ee4e8",
   "metadata": {
    "execution": {
     "iopub.execute_input": "2023-11-10T22:05:54.457236Z",
     "iopub.status.busy": "2023-11-10T22:05:54.456627Z",
     "iopub.status.idle": "2023-11-10T22:05:54.510164Z",
     "shell.execute_reply": "2023-11-10T22:05:54.509136Z"
    },
    "papermill": {
     "duration": 0.079843,
     "end_time": "2023-11-10T22:05:54.512928",
     "exception": false,
     "start_time": "2023-11-10T22:05:54.433085",
     "status": "completed"
    },
    "tags": []
   },
   "outputs": [
    {
     "data": {
      "text/html": [
       "<div>\n",
       "<style scoped>\n",
       "    .dataframe tbody tr th:only-of-type {\n",
       "        vertical-align: middle;\n",
       "    }\n",
       "\n",
       "    .dataframe tbody tr th {\n",
       "        vertical-align: top;\n",
       "    }\n",
       "\n",
       "    .dataframe thead th {\n",
       "        text-align: right;\n",
       "    }\n",
       "</style>\n",
       "<table border=\"1\" class=\"dataframe\">\n",
       "  <thead>\n",
       "    <tr style=\"text-align: right;\">\n",
       "      <th></th>\n",
       "      <th>TransactionID</th>\n",
       "      <th>TransactionDT</th>\n",
       "      <th>TransactionAmt</th>\n",
       "      <th>ProductCD</th>\n",
       "      <th>card1</th>\n",
       "      <th>card2</th>\n",
       "      <th>card3</th>\n",
       "      <th>card4</th>\n",
       "      <th>card5</th>\n",
       "      <th>card6</th>\n",
       "      <th>...</th>\n",
       "      <th>id_31</th>\n",
       "      <th>id_32</th>\n",
       "      <th>id_33</th>\n",
       "      <th>id_34</th>\n",
       "      <th>id_35</th>\n",
       "      <th>id_36</th>\n",
       "      <th>id_37</th>\n",
       "      <th>id_38</th>\n",
       "      <th>DeviceType</th>\n",
       "      <th>DeviceInfo</th>\n",
       "    </tr>\n",
       "  </thead>\n",
       "  <tbody>\n",
       "    <tr>\n",
       "      <th>0</th>\n",
       "      <td>3663549</td>\n",
       "      <td>18403224</td>\n",
       "      <td>31.950001</td>\n",
       "      <td>W</td>\n",
       "      <td>10409</td>\n",
       "      <td>111.0</td>\n",
       "      <td>150.0</td>\n",
       "      <td>visa</td>\n",
       "      <td>226.0</td>\n",
       "      <td>debit</td>\n",
       "      <td>...</td>\n",
       "      <td>NaN</td>\n",
       "      <td>NaN</td>\n",
       "      <td>NaN</td>\n",
       "      <td>NaN</td>\n",
       "      <td>NaN</td>\n",
       "      <td>NaN</td>\n",
       "      <td>NaN</td>\n",
       "      <td>NaN</td>\n",
       "      <td>NaN</td>\n",
       "      <td>NaN</td>\n",
       "    </tr>\n",
       "    <tr>\n",
       "      <th>1</th>\n",
       "      <td>3663550</td>\n",
       "      <td>18403263</td>\n",
       "      <td>49.000000</td>\n",
       "      <td>W</td>\n",
       "      <td>4272</td>\n",
       "      <td>111.0</td>\n",
       "      <td>150.0</td>\n",
       "      <td>visa</td>\n",
       "      <td>226.0</td>\n",
       "      <td>debit</td>\n",
       "      <td>...</td>\n",
       "      <td>NaN</td>\n",
       "      <td>NaN</td>\n",
       "      <td>NaN</td>\n",
       "      <td>NaN</td>\n",
       "      <td>NaN</td>\n",
       "      <td>NaN</td>\n",
       "      <td>NaN</td>\n",
       "      <td>NaN</td>\n",
       "      <td>NaN</td>\n",
       "      <td>NaN</td>\n",
       "    </tr>\n",
       "    <tr>\n",
       "      <th>2</th>\n",
       "      <td>3663551</td>\n",
       "      <td>18403310</td>\n",
       "      <td>171.000000</td>\n",
       "      <td>W</td>\n",
       "      <td>4476</td>\n",
       "      <td>574.0</td>\n",
       "      <td>150.0</td>\n",
       "      <td>visa</td>\n",
       "      <td>226.0</td>\n",
       "      <td>debit</td>\n",
       "      <td>...</td>\n",
       "      <td>NaN</td>\n",
       "      <td>NaN</td>\n",
       "      <td>NaN</td>\n",
       "      <td>NaN</td>\n",
       "      <td>NaN</td>\n",
       "      <td>NaN</td>\n",
       "      <td>NaN</td>\n",
       "      <td>NaN</td>\n",
       "      <td>NaN</td>\n",
       "      <td>NaN</td>\n",
       "    </tr>\n",
       "    <tr>\n",
       "      <th>3</th>\n",
       "      <td>3663552</td>\n",
       "      <td>18403310</td>\n",
       "      <td>284.950012</td>\n",
       "      <td>W</td>\n",
       "      <td>10989</td>\n",
       "      <td>360.0</td>\n",
       "      <td>150.0</td>\n",
       "      <td>visa</td>\n",
       "      <td>166.0</td>\n",
       "      <td>debit</td>\n",
       "      <td>...</td>\n",
       "      <td>NaN</td>\n",
       "      <td>NaN</td>\n",
       "      <td>NaN</td>\n",
       "      <td>NaN</td>\n",
       "      <td>NaN</td>\n",
       "      <td>NaN</td>\n",
       "      <td>NaN</td>\n",
       "      <td>NaN</td>\n",
       "      <td>NaN</td>\n",
       "      <td>NaN</td>\n",
       "    </tr>\n",
       "    <tr>\n",
       "      <th>4</th>\n",
       "      <td>3663553</td>\n",
       "      <td>18403317</td>\n",
       "      <td>67.949997</td>\n",
       "      <td>W</td>\n",
       "      <td>18018</td>\n",
       "      <td>452.0</td>\n",
       "      <td>150.0</td>\n",
       "      <td>mastercard</td>\n",
       "      <td>117.0</td>\n",
       "      <td>debit</td>\n",
       "      <td>...</td>\n",
       "      <td>NaN</td>\n",
       "      <td>NaN</td>\n",
       "      <td>NaN</td>\n",
       "      <td>NaN</td>\n",
       "      <td>NaN</td>\n",
       "      <td>NaN</td>\n",
       "      <td>NaN</td>\n",
       "      <td>NaN</td>\n",
       "      <td>NaN</td>\n",
       "      <td>NaN</td>\n",
       "    </tr>\n",
       "    <tr>\n",
       "      <th>...</th>\n",
       "      <td>...</td>\n",
       "      <td>...</td>\n",
       "      <td>...</td>\n",
       "      <td>...</td>\n",
       "      <td>...</td>\n",
       "      <td>...</td>\n",
       "      <td>...</td>\n",
       "      <td>...</td>\n",
       "      <td>...</td>\n",
       "      <td>...</td>\n",
       "      <td>...</td>\n",
       "      <td>...</td>\n",
       "      <td>...</td>\n",
       "      <td>...</td>\n",
       "      <td>...</td>\n",
       "      <td>...</td>\n",
       "      <td>...</td>\n",
       "      <td>...</td>\n",
       "      <td>...</td>\n",
       "      <td>...</td>\n",
       "      <td>...</td>\n",
       "    </tr>\n",
       "    <tr>\n",
       "      <th>506686</th>\n",
       "      <td>4170235</td>\n",
       "      <td>34214279</td>\n",
       "      <td>94.679001</td>\n",
       "      <td>C</td>\n",
       "      <td>13832</td>\n",
       "      <td>375.0</td>\n",
       "      <td>185.0</td>\n",
       "      <td>mastercard</td>\n",
       "      <td>224.0</td>\n",
       "      <td>debit</td>\n",
       "      <td>...</td>\n",
       "      <td>NaN</td>\n",
       "      <td>NaN</td>\n",
       "      <td>NaN</td>\n",
       "      <td>NaN</td>\n",
       "      <td>NaN</td>\n",
       "      <td>NaN</td>\n",
       "      <td>NaN</td>\n",
       "      <td>NaN</td>\n",
       "      <td>NaN</td>\n",
       "      <td>NaN</td>\n",
       "    </tr>\n",
       "    <tr>\n",
       "      <th>506687</th>\n",
       "      <td>4170236</td>\n",
       "      <td>34214287</td>\n",
       "      <td>12.173000</td>\n",
       "      <td>C</td>\n",
       "      <td>3154</td>\n",
       "      <td>408.0</td>\n",
       "      <td>185.0</td>\n",
       "      <td>mastercard</td>\n",
       "      <td>224.0</td>\n",
       "      <td>debit</td>\n",
       "      <td>...</td>\n",
       "      <td>chrome 43.0 for android</td>\n",
       "      <td>NaN</td>\n",
       "      <td>NaN</td>\n",
       "      <td>NaN</td>\n",
       "      <td>F</td>\n",
       "      <td>F</td>\n",
       "      <td>T</td>\n",
       "      <td>F</td>\n",
       "      <td>mobile</td>\n",
       "      <td>ALE-L23 Build/HuaweiALE-L23</td>\n",
       "    </tr>\n",
       "    <tr>\n",
       "      <th>506688</th>\n",
       "      <td>4170237</td>\n",
       "      <td>34214326</td>\n",
       "      <td>49.000000</td>\n",
       "      <td>W</td>\n",
       "      <td>16661</td>\n",
       "      <td>490.0</td>\n",
       "      <td>150.0</td>\n",
       "      <td>visa</td>\n",
       "      <td>226.0</td>\n",
       "      <td>debit</td>\n",
       "      <td>...</td>\n",
       "      <td>NaN</td>\n",
       "      <td>NaN</td>\n",
       "      <td>NaN</td>\n",
       "      <td>NaN</td>\n",
       "      <td>NaN</td>\n",
       "      <td>NaN</td>\n",
       "      <td>NaN</td>\n",
       "      <td>NaN</td>\n",
       "      <td>NaN</td>\n",
       "      <td>NaN</td>\n",
       "    </tr>\n",
       "    <tr>\n",
       "      <th>506689</th>\n",
       "      <td>4170238</td>\n",
       "      <td>34214337</td>\n",
       "      <td>202.000000</td>\n",
       "      <td>W</td>\n",
       "      <td>16621</td>\n",
       "      <td>516.0</td>\n",
       "      <td>150.0</td>\n",
       "      <td>mastercard</td>\n",
       "      <td>224.0</td>\n",
       "      <td>debit</td>\n",
       "      <td>...</td>\n",
       "      <td>NaN</td>\n",
       "      <td>NaN</td>\n",
       "      <td>NaN</td>\n",
       "      <td>NaN</td>\n",
       "      <td>NaN</td>\n",
       "      <td>NaN</td>\n",
       "      <td>NaN</td>\n",
       "      <td>NaN</td>\n",
       "      <td>NaN</td>\n",
       "      <td>NaN</td>\n",
       "    </tr>\n",
       "    <tr>\n",
       "      <th>506690</th>\n",
       "      <td>4170239</td>\n",
       "      <td>34214345</td>\n",
       "      <td>24.346001</td>\n",
       "      <td>C</td>\n",
       "      <td>5713</td>\n",
       "      <td>168.0</td>\n",
       "      <td>144.0</td>\n",
       "      <td>visa</td>\n",
       "      <td>147.0</td>\n",
       "      <td>credit</td>\n",
       "      <td>...</td>\n",
       "      <td>samsung browser 8.2</td>\n",
       "      <td>NaN</td>\n",
       "      <td>NaN</td>\n",
       "      <td>NaN</td>\n",
       "      <td>F</td>\n",
       "      <td>F</td>\n",
       "      <td>T</td>\n",
       "      <td>F</td>\n",
       "      <td>mobile</td>\n",
       "      <td>SAMSUNG</td>\n",
       "    </tr>\n",
       "  </tbody>\n",
       "</table>\n",
       "<p>506691 rows × 433 columns</p>\n",
       "</div>"
      ],
      "text/plain": [
       "        TransactionID  TransactionDT  TransactionAmt ProductCD  card1  card2  \\\n",
       "0             3663549       18403224       31.950001         W  10409  111.0   \n",
       "1             3663550       18403263       49.000000         W   4272  111.0   \n",
       "2             3663551       18403310      171.000000         W   4476  574.0   \n",
       "3             3663552       18403310      284.950012         W  10989  360.0   \n",
       "4             3663553       18403317       67.949997         W  18018  452.0   \n",
       "...               ...            ...             ...       ...    ...    ...   \n",
       "506686        4170235       34214279       94.679001         C  13832  375.0   \n",
       "506687        4170236       34214287       12.173000         C   3154  408.0   \n",
       "506688        4170237       34214326       49.000000         W  16661  490.0   \n",
       "506689        4170238       34214337      202.000000         W  16621  516.0   \n",
       "506690        4170239       34214345       24.346001         C   5713  168.0   \n",
       "\n",
       "        card3       card4  card5   card6  ...                    id_31  id_32  \\\n",
       "0       150.0        visa  226.0   debit  ...                      NaN    NaN   \n",
       "1       150.0        visa  226.0   debit  ...                      NaN    NaN   \n",
       "2       150.0        visa  226.0   debit  ...                      NaN    NaN   \n",
       "3       150.0        visa  166.0   debit  ...                      NaN    NaN   \n",
       "4       150.0  mastercard  117.0   debit  ...                      NaN    NaN   \n",
       "...       ...         ...    ...     ...  ...                      ...    ...   \n",
       "506686  185.0  mastercard  224.0   debit  ...                      NaN    NaN   \n",
       "506687  185.0  mastercard  224.0   debit  ...  chrome 43.0 for android    NaN   \n",
       "506688  150.0        visa  226.0   debit  ...                      NaN    NaN   \n",
       "506689  150.0  mastercard  224.0   debit  ...                      NaN    NaN   \n",
       "506690  144.0        visa  147.0  credit  ...      samsung browser 8.2    NaN   \n",
       "\n",
       "        id_33  id_34 id_35 id_36  id_37  id_38  DeviceType  \\\n",
       "0         NaN    NaN   NaN   NaN    NaN    NaN         NaN   \n",
       "1         NaN    NaN   NaN   NaN    NaN    NaN         NaN   \n",
       "2         NaN    NaN   NaN   NaN    NaN    NaN         NaN   \n",
       "3         NaN    NaN   NaN   NaN    NaN    NaN         NaN   \n",
       "4         NaN    NaN   NaN   NaN    NaN    NaN         NaN   \n",
       "...       ...    ...   ...   ...    ...    ...         ...   \n",
       "506686    NaN    NaN   NaN   NaN    NaN    NaN         NaN   \n",
       "506687    NaN    NaN     F     F      T      F      mobile   \n",
       "506688    NaN    NaN   NaN   NaN    NaN    NaN         NaN   \n",
       "506689    NaN    NaN   NaN   NaN    NaN    NaN         NaN   \n",
       "506690    NaN    NaN     F     F      T      F      mobile   \n",
       "\n",
       "                         DeviceInfo  \n",
       "0                               NaN  \n",
       "1                               NaN  \n",
       "2                               NaN  \n",
       "3                               NaN  \n",
       "4                               NaN  \n",
       "...                             ...  \n",
       "506686                          NaN  \n",
       "506687  ALE-L23 Build/HuaweiALE-L23  \n",
       "506688                          NaN  \n",
       "506689                          NaN  \n",
       "506690                      SAMSUNG  \n",
       "\n",
       "[506691 rows x 433 columns]"
      ]
     },
     "execution_count": 19,
     "metadata": {},
     "output_type": "execute_result"
    }
   ],
   "source": [
    "test_df"
   ]
  },
  {
   "cell_type": "markdown",
   "id": "764557c9",
   "metadata": {
    "papermill": {
     "duration": 0.022242,
     "end_time": "2023-11-10T22:05:54.558066",
     "exception": false,
     "start_time": "2023-11-10T22:05:54.535824",
     "status": "completed"
    },
    "tags": []
   },
   "source": [
    "Удаляем признаки, в которых более ```50 %``` пропусков:"
   ]
  },
  {
   "cell_type": "code",
   "execution_count": 20,
   "id": "9fd2e17c",
   "metadata": {
    "execution": {
     "iopub.execute_input": "2023-11-10T22:05:54.603439Z",
     "iopub.status.busy": "2023-11-10T22:05:54.603059Z",
     "iopub.status.idle": "2023-11-10T22:05:54.781305Z",
     "shell.execute_reply": "2023-11-10T22:05:54.780261Z"
    },
    "papermill": {
     "duration": 0.203695,
     "end_time": "2023-11-10T22:05:54.783432",
     "exception": false,
     "start_time": "2023-11-10T22:05:54.579737",
     "status": "completed"
    },
    "tags": []
   },
   "outputs": [
    {
     "name": "stdout",
     "output_type": "stream",
     "text": [
      "train_df has  434 columns.\n",
      " There are 414 columns that have missing values.\n",
      "We will remove 214 columns.\n"
     ]
    }
   ],
   "source": [
    "missing_df = missing_values_table(train_df, 'train_df')\n",
    "missing_columns = list(missing_df[missing_df['% of Total Values'] > 50.0].index)\n",
    "print('We will remove %d columns.' % len(missing_columns))"
   ]
  },
  {
   "cell_type": "code",
   "execution_count": 21,
   "id": "16ca18d8",
   "metadata": {
    "execution": {
     "iopub.execute_input": "2023-11-10T22:05:54.830806Z",
     "iopub.status.busy": "2023-11-10T22:05:54.830259Z",
     "iopub.status.idle": "2023-11-10T22:05:55.067374Z",
     "shell.execute_reply": "2023-11-10T22:05:55.065904Z"
    },
    "papermill": {
     "duration": 0.263626,
     "end_time": "2023-11-10T22:05:55.070118",
     "exception": false,
     "start_time": "2023-11-10T22:05:54.806492",
     "status": "completed"
    },
    "tags": []
   },
   "outputs": [],
   "source": [
    "train_df = train_df.drop(columns = missing_columns)"
   ]
  },
  {
   "cell_type": "code",
   "execution_count": 22,
   "id": "524ebf86",
   "metadata": {
    "execution": {
     "iopub.execute_input": "2023-11-10T22:05:55.118190Z",
     "iopub.status.busy": "2023-11-10T22:05:55.117168Z",
     "iopub.status.idle": "2023-11-10T22:05:55.124466Z",
     "shell.execute_reply": "2023-11-10T22:05:55.123436Z"
    },
    "papermill": {
     "duration": 0.033312,
     "end_time": "2023-11-10T22:05:55.126308",
     "exception": false,
     "start_time": "2023-11-10T22:05:55.092996",
     "status": "completed"
    },
    "tags": []
   },
   "outputs": [
    {
     "data": {
      "text/plain": [
       "(590540, 220)"
      ]
     },
     "execution_count": 22,
     "metadata": {},
     "output_type": "execute_result"
    }
   ],
   "source": [
    "train_df.shape"
   ]
  },
  {
   "cell_type": "code",
   "execution_count": 23,
   "id": "14f95949",
   "metadata": {
    "execution": {
     "iopub.execute_input": "2023-11-10T22:05:55.174595Z",
     "iopub.status.busy": "2023-11-10T22:05:55.173975Z",
     "iopub.status.idle": "2023-11-10T22:05:55.230898Z",
     "shell.execute_reply": "2023-11-10T22:05:55.229911Z"
    },
    "papermill": {
     "duration": 0.0841,
     "end_time": "2023-11-10T22:05:55.233412",
     "exception": false,
     "start_time": "2023-11-10T22:05:55.149312",
     "status": "completed"
    },
    "tags": []
   },
   "outputs": [
    {
     "data": {
      "text/plain": [
       "(506691, 219)"
      ]
     },
     "execution_count": 23,
     "metadata": {},
     "output_type": "execute_result"
    }
   ],
   "source": [
    "test_df = test_df.drop(columns = missing_columns)\n",
    "test_df.shape"
   ]
  },
  {
   "cell_type": "markdown",
   "id": "568186ad",
   "metadata": {
    "papermill": {
     "duration": 0.021921,
     "end_time": "2023-11-10T22:05:55.278293",
     "exception": false,
     "start_time": "2023-11-10T22:05:55.256372",
     "status": "completed"
    },
    "tags": []
   },
   "source": [
    "Посмотрим ещё раз на пропуски "
   ]
  },
  {
   "cell_type": "code",
   "execution_count": 24,
   "id": "bffbf12e",
   "metadata": {
    "execution": {
     "iopub.execute_input": "2023-11-10T22:05:55.325918Z",
     "iopub.status.busy": "2023-11-10T22:05:55.325512Z",
     "iopub.status.idle": "2023-11-10T22:05:55.429213Z",
     "shell.execute_reply": "2023-11-10T22:05:55.427932Z"
    },
    "papermill": {
     "duration": 0.130523,
     "end_time": "2023-11-10T22:05:55.431189",
     "exception": false,
     "start_time": "2023-11-10T22:05:55.300666",
     "status": "completed"
    },
    "tags": []
   },
   "outputs": [
    {
     "name": "stdout",
     "output_type": "stream",
     "text": [
      "train_df has  220 columns.\n",
      " There are 200 columns that have missing values.\n"
     ]
    },
    {
     "data": {
      "text/html": [
       "<div>\n",
       "<style scoped>\n",
       "    .dataframe tbody tr th:only-of-type {\n",
       "        vertical-align: middle;\n",
       "    }\n",
       "\n",
       "    .dataframe tbody tr th {\n",
       "        vertical-align: top;\n",
       "    }\n",
       "\n",
       "    .dataframe thead th {\n",
       "        text-align: right;\n",
       "    }\n",
       "</style>\n",
       "<table border=\"1\" class=\"dataframe\">\n",
       "  <thead>\n",
       "    <tr style=\"text-align: right;\">\n",
       "      <th></th>\n",
       "      <th>Missing Values</th>\n",
       "      <th>% of Total Values</th>\n",
       "    </tr>\n",
       "  </thead>\n",
       "  <tbody>\n",
       "    <tr>\n",
       "      <th>M4</th>\n",
       "      <td>281444</td>\n",
       "      <td>47.7</td>\n",
       "    </tr>\n",
       "    <tr>\n",
       "      <th>D2</th>\n",
       "      <td>280797</td>\n",
       "      <td>47.5</td>\n",
       "    </tr>\n",
       "    <tr>\n",
       "      <th>V7</th>\n",
       "      <td>279287</td>\n",
       "      <td>47.3</td>\n",
       "    </tr>\n",
       "    <tr>\n",
       "      <th>V11</th>\n",
       "      <td>279287</td>\n",
       "      <td>47.3</td>\n",
       "    </tr>\n",
       "    <tr>\n",
       "      <th>V10</th>\n",
       "      <td>279287</td>\n",
       "      <td>47.3</td>\n",
       "    </tr>\n",
       "    <tr>\n",
       "      <th>...</th>\n",
       "      <td>...</td>\n",
       "      <td>...</td>\n",
       "    </tr>\n",
       "    <tr>\n",
       "      <th>V295</th>\n",
       "      <td>12</td>\n",
       "      <td>0.0</td>\n",
       "    </tr>\n",
       "    <tr>\n",
       "      <th>V297</th>\n",
       "      <td>12</td>\n",
       "      <td>0.0</td>\n",
       "    </tr>\n",
       "    <tr>\n",
       "      <th>V298</th>\n",
       "      <td>12</td>\n",
       "      <td>0.0</td>\n",
       "    </tr>\n",
       "    <tr>\n",
       "      <th>V299</th>\n",
       "      <td>12</td>\n",
       "      <td>0.0</td>\n",
       "    </tr>\n",
       "    <tr>\n",
       "      <th>V321</th>\n",
       "      <td>12</td>\n",
       "      <td>0.0</td>\n",
       "    </tr>\n",
       "  </tbody>\n",
       "</table>\n",
       "<p>200 rows × 2 columns</p>\n",
       "</div>"
      ],
      "text/plain": [
       "      Missing Values  % of Total Values\n",
       "M4            281444               47.7\n",
       "D2            280797               47.5\n",
       "V7            279287               47.3\n",
       "V11           279287               47.3\n",
       "V10           279287               47.3\n",
       "...              ...                ...\n",
       "V295              12                0.0\n",
       "V297              12                0.0\n",
       "V298              12                0.0\n",
       "V299              12                0.0\n",
       "V321              12                0.0\n",
       "\n",
       "[200 rows x 2 columns]"
      ]
     },
     "execution_count": 24,
     "metadata": {},
     "output_type": "execute_result"
    }
   ],
   "source": [
    "miss_val_train_df = missing_values_table(train_df, 'train_df')\n",
    "miss_val_train_df"
   ]
  },
  {
   "cell_type": "code",
   "execution_count": 25,
   "id": "7f33a8dc",
   "metadata": {
    "execution": {
     "iopub.execute_input": "2023-11-10T22:05:55.478750Z",
     "iopub.status.busy": "2023-11-10T22:05:55.477806Z",
     "iopub.status.idle": "2023-11-10T22:05:55.562970Z",
     "shell.execute_reply": "2023-11-10T22:05:55.561698Z"
    },
    "papermill": {
     "duration": 0.110965,
     "end_time": "2023-11-10T22:05:55.564982",
     "exception": false,
     "start_time": "2023-11-10T22:05:55.454017",
     "status": "completed"
    },
    "tags": []
   },
   "outputs": [
    {
     "name": "stdout",
     "output_type": "stream",
     "text": [
      "test_df has  219 columns.\n",
      " There are 171 columns that have missing values.\n"
     ]
    },
    {
     "data": {
      "text/html": [
       "<div>\n",
       "<style scoped>\n",
       "    .dataframe tbody tr th:only-of-type {\n",
       "        vertical-align: middle;\n",
       "    }\n",
       "\n",
       "    .dataframe tbody tr th {\n",
       "        vertical-align: top;\n",
       "    }\n",
       "\n",
       "    .dataframe thead th {\n",
       "        text-align: right;\n",
       "    }\n",
       "</style>\n",
       "<table border=\"1\" class=\"dataframe\">\n",
       "  <thead>\n",
       "    <tr style=\"text-align: right;\">\n",
       "      <th></th>\n",
       "      <th>Missing Values</th>\n",
       "      <th>% of Total Values</th>\n",
       "    </tr>\n",
       "  </thead>\n",
       "  <tbody>\n",
       "    <tr>\n",
       "      <th>M4</th>\n",
       "      <td>237745</td>\n",
       "      <td>46.9</td>\n",
       "    </tr>\n",
       "    <tr>\n",
       "      <th>D2</th>\n",
       "      <td>234769</td>\n",
       "      <td>46.3</td>\n",
       "    </tr>\n",
       "    <tr>\n",
       "      <th>D3</th>\n",
       "      <td>203142</td>\n",
       "      <td>40.1</td>\n",
       "    </tr>\n",
       "    <tr>\n",
       "      <th>M3</th>\n",
       "      <td>176639</td>\n",
       "      <td>34.9</td>\n",
       "    </tr>\n",
       "    <tr>\n",
       "      <th>M2</th>\n",
       "      <td>176639</td>\n",
       "      <td>34.9</td>\n",
       "    </tr>\n",
       "    <tr>\n",
       "      <th>...</th>\n",
       "      <td>...</td>\n",
       "      <td>...</td>\n",
       "    </tr>\n",
       "    <tr>\n",
       "      <th>V287</th>\n",
       "      <td>3</td>\n",
       "      <td>0.0</td>\n",
       "    </tr>\n",
       "    <tr>\n",
       "      <th>V290</th>\n",
       "      <td>3</td>\n",
       "      <td>0.0</td>\n",
       "    </tr>\n",
       "    <tr>\n",
       "      <th>V292</th>\n",
       "      <td>3</td>\n",
       "      <td>0.0</td>\n",
       "    </tr>\n",
       "    <tr>\n",
       "      <th>V293</th>\n",
       "      <td>3</td>\n",
       "      <td>0.0</td>\n",
       "    </tr>\n",
       "    <tr>\n",
       "      <th>V321</th>\n",
       "      <td>3</td>\n",
       "      <td>0.0</td>\n",
       "    </tr>\n",
       "  </tbody>\n",
       "</table>\n",
       "<p>171 rows × 2 columns</p>\n",
       "</div>"
      ],
      "text/plain": [
       "      Missing Values  % of Total Values\n",
       "M4            237745               46.9\n",
       "D2            234769               46.3\n",
       "D3            203142               40.1\n",
       "M3            176639               34.9\n",
       "M2            176639               34.9\n",
       "...              ...                ...\n",
       "V287               3                0.0\n",
       "V290               3                0.0\n",
       "V292               3                0.0\n",
       "V293               3                0.0\n",
       "V321               3                0.0\n",
       "\n",
       "[171 rows x 2 columns]"
      ]
     },
     "execution_count": 25,
     "metadata": {},
     "output_type": "execute_result"
    }
   ],
   "source": [
    "missing_values_table(test_df, 'test_df')"
   ]
  },
  {
   "cell_type": "markdown",
   "id": "267d5f9f",
   "metadata": {
    "papermill": {
     "duration": 0.023041,
     "end_time": "2023-11-10T22:05:55.611346",
     "exception": false,
     "start_time": "2023-11-10T22:05:55.588305",
     "status": "completed"
    },
    "tags": []
   },
   "source": [
    "И посмотрим насколько ещё уменьшился занимаемый объём памяти каждого из датасетов"
   ]
  },
  {
   "cell_type": "code",
   "execution_count": 26,
   "id": "56445f73",
   "metadata": {
    "execution": {
     "iopub.execute_input": "2023-11-10T22:05:55.660397Z",
     "iopub.status.busy": "2023-11-10T22:05:55.659959Z",
     "iopub.status.idle": "2023-11-10T22:05:55.685208Z",
     "shell.execute_reply": "2023-11-10T22:05:55.684560Z"
    },
    "papermill": {
     "duration": 0.052507,
     "end_time": "2023-11-10T22:05:55.687419",
     "exception": false,
     "start_time": "2023-11-10T22:05:55.634912",
     "status": "completed"
    },
    "tags": []
   },
   "outputs": [
    {
     "name": "stdout",
     "output_type": "stream",
     "text": [
      "train_df memory usage: 477.58735275268555 Mb\n",
      "test_df memory usage: 409.29405784606934 Mb\n"
     ]
    }
   ],
   "source": [
    "print(f'train_df memory usage: {memory_usage(train_df)} Mb')\n",
    "print(f'test_df memory usage: {memory_usage(test_df)} Mb')"
   ]
  },
  {
   "cell_type": "markdown",
   "id": "6e043ec2",
   "metadata": {
    "papermill": {
     "duration": 0.023068,
     "end_time": "2023-11-10T22:05:55.733910",
     "exception": false,
     "start_time": "2023-11-10T22:05:55.710842",
     "status": "completed"
    },
    "tags": []
   },
   "source": [
    "### Разделим обучающую выборку на обучение и тест"
   ]
  },
  {
   "cell_type": "markdown",
   "id": "eef799e8",
   "metadata": {
    "papermill": {
     "duration": 0.02418,
     "end_time": "2023-11-10T22:05:55.781845",
     "exception": false,
     "start_time": "2023-11-10T22:05:55.757665",
     "status": "completed"
    },
    "tags": []
   },
   "source": [
    "Отделим данные от целевой переменной"
   ]
  },
  {
   "cell_type": "code",
   "execution_count": 27,
   "id": "89ec6273",
   "metadata": {
    "execution": {
     "iopub.execute_input": "2023-11-10T22:05:55.830279Z",
     "iopub.status.busy": "2023-11-10T22:05:55.829693Z",
     "iopub.status.idle": "2023-11-10T22:05:56.068307Z",
     "shell.execute_reply": "2023-11-10T22:05:56.067226Z"
    },
    "papermill": {
     "duration": 0.265272,
     "end_time": "2023-11-10T22:05:56.070826",
     "exception": false,
     "start_time": "2023-11-10T22:05:55.805554",
     "status": "completed"
    },
    "tags": []
   },
   "outputs": [],
   "source": [
    "X = train_df.drop(columns='isFraud')\n",
    "y = train_df['isFraud']"
   ]
  },
  {
   "cell_type": "code",
   "execution_count": 28,
   "id": "f55b60aa",
   "metadata": {
    "execution": {
     "iopub.execute_input": "2023-11-10T22:05:56.119960Z",
     "iopub.status.busy": "2023-11-10T22:05:56.119512Z",
     "iopub.status.idle": "2023-11-10T22:05:56.127327Z",
     "shell.execute_reply": "2023-11-10T22:05:56.126006Z"
    },
    "papermill": {
     "duration": 0.034663,
     "end_time": "2023-11-10T22:05:56.129423",
     "exception": false,
     "start_time": "2023-11-10T22:05:56.094760",
     "status": "completed"
    },
    "tags": []
   },
   "outputs": [
    {
     "data": {
      "text/plain": [
       "0         0\n",
       "1         0\n",
       "2         0\n",
       "3         0\n",
       "4         0\n",
       "         ..\n",
       "590535    0\n",
       "590536    0\n",
       "590537    0\n",
       "590538    0\n",
       "590539    0\n",
       "Name: isFraud, Length: 590540, dtype: uint8"
      ]
     },
     "execution_count": 28,
     "metadata": {},
     "output_type": "execute_result"
    }
   ],
   "source": [
    "y"
   ]
  },
  {
   "cell_type": "markdown",
   "id": "2d1063cd",
   "metadata": {
    "papermill": {
     "duration": 0.022777,
     "end_time": "2023-11-10T22:05:56.176265",
     "exception": false,
     "start_time": "2023-11-10T22:05:56.153488",
     "status": "completed"
    },
    "tags": []
   },
   "source": [
    "Разделим обучающую выборку в процентном соотношении:\n",
    "- train - ```70%```\n",
    "- test - ```30%```"
   ]
  },
  {
   "cell_type": "code",
   "execution_count": 29,
   "id": "4e28e398",
   "metadata": {
    "execution": {
     "iopub.execute_input": "2023-11-10T22:05:56.223953Z",
     "iopub.status.busy": "2023-11-10T22:05:56.223589Z",
     "iopub.status.idle": "2023-11-10T22:05:57.363604Z",
     "shell.execute_reply": "2023-11-10T22:05:57.361304Z"
    },
    "papermill": {
     "duration": 1.166957,
     "end_time": "2023-11-10T22:05:57.366165",
     "exception": false,
     "start_time": "2023-11-10T22:05:56.199208",
     "status": "completed"
    },
    "tags": []
   },
   "outputs": [],
   "source": [
    "X_train, X_valid, y_train, y_valid = train_test_split(X, y, test_size=0.3)"
   ]
  },
  {
   "cell_type": "code",
   "execution_count": 30,
   "id": "cc3dfa03",
   "metadata": {
    "execution": {
     "iopub.execute_input": "2023-11-10T22:05:57.414969Z",
     "iopub.status.busy": "2023-11-10T22:05:57.414582Z",
     "iopub.status.idle": "2023-11-10T22:05:57.421484Z",
     "shell.execute_reply": "2023-11-10T22:05:57.420260Z"
    },
    "papermill": {
     "duration": 0.034636,
     "end_time": "2023-11-10T22:05:57.424130",
     "exception": false,
     "start_time": "2023-11-10T22:05:57.389494",
     "status": "completed"
    },
    "tags": []
   },
   "outputs": [
    {
     "data": {
      "text/plain": [
       "(413378, 219)"
      ]
     },
     "execution_count": 30,
     "metadata": {},
     "output_type": "execute_result"
    }
   ],
   "source": [
    "X_train.shape"
   ]
  },
  {
   "cell_type": "code",
   "execution_count": 31,
   "id": "e576fa45",
   "metadata": {
    "execution": {
     "iopub.execute_input": "2023-11-10T22:05:57.473733Z",
     "iopub.status.busy": "2023-11-10T22:05:57.470985Z",
     "iopub.status.idle": "2023-11-10T22:05:57.478708Z",
     "shell.execute_reply": "2023-11-10T22:05:57.477731Z"
    },
    "papermill": {
     "duration": 0.033432,
     "end_time": "2023-11-10T22:05:57.480603",
     "exception": false,
     "start_time": "2023-11-10T22:05:57.447171",
     "status": "completed"
    },
    "tags": []
   },
   "outputs": [
    {
     "data": {
      "text/plain": [
       "(413378,)"
      ]
     },
     "execution_count": 31,
     "metadata": {},
     "output_type": "execute_result"
    }
   ],
   "source": [
    "y_train.shape"
   ]
  },
  {
   "cell_type": "code",
   "execution_count": 32,
   "id": "49e22181",
   "metadata": {
    "execution": {
     "iopub.execute_input": "2023-11-10T22:05:57.530103Z",
     "iopub.status.busy": "2023-11-10T22:05:57.529446Z",
     "iopub.status.idle": "2023-11-10T22:05:57.535483Z",
     "shell.execute_reply": "2023-11-10T22:05:57.534120Z"
    },
    "papermill": {
     "duration": 0.032949,
     "end_time": "2023-11-10T22:05:57.537261",
     "exception": false,
     "start_time": "2023-11-10T22:05:57.504312",
     "status": "completed"
    },
    "tags": []
   },
   "outputs": [
    {
     "data": {
      "text/plain": [
       "(177162, 219)"
      ]
     },
     "execution_count": 32,
     "metadata": {},
     "output_type": "execute_result"
    }
   ],
   "source": [
    "X_valid.shape"
   ]
  },
  {
   "cell_type": "code",
   "execution_count": 33,
   "id": "fe1b4b33",
   "metadata": {
    "execution": {
     "iopub.execute_input": "2023-11-10T22:05:57.586644Z",
     "iopub.status.busy": "2023-11-10T22:05:57.586232Z",
     "iopub.status.idle": "2023-11-10T22:05:57.591741Z",
     "shell.execute_reply": "2023-11-10T22:05:57.590983Z"
    },
    "papermill": {
     "duration": 0.032348,
     "end_time": "2023-11-10T22:05:57.593414",
     "exception": false,
     "start_time": "2023-11-10T22:05:57.561066",
     "status": "completed"
    },
    "tags": []
   },
   "outputs": [
    {
     "data": {
      "text/plain": [
       "(177162,)"
      ]
     },
     "execution_count": 33,
     "metadata": {},
     "output_type": "execute_result"
    }
   ],
   "source": [
    "y_valid.shape"
   ]
  },
  {
   "cell_type": "markdown",
   "id": "223c4052",
   "metadata": {
    "papermill": {
     "duration": 0.023401,
     "end_time": "2023-11-10T22:05:57.640722",
     "exception": false,
     "start_time": "2023-11-10T22:05:57.617321",
     "status": "completed"
    },
    "tags": []
   },
   "source": [
    "### Посмотрим на распределения признаков до заполнения пропусков"
   ]
  },
  {
   "cell_type": "markdown",
   "id": "5cc20db0",
   "metadata": {
    "papermill": {
     "duration": 0.023358,
     "end_time": "2023-11-10T22:05:57.687680",
     "exception": false,
     "start_time": "2023-11-10T22:05:57.664322",
     "status": "completed"
    },
    "tags": []
   },
   "source": [
    "#### Посмотрим на распределение целевой переменной ```isFraud```"
   ]
  },
  {
   "cell_type": "code",
   "execution_count": 34,
   "id": "fb71e847",
   "metadata": {
    "execution": {
     "iopub.execute_input": "2023-11-10T22:05:57.737691Z",
     "iopub.status.busy": "2023-11-10T22:05:57.736598Z",
     "iopub.status.idle": "2023-11-10T22:05:58.033934Z",
     "shell.execute_reply": "2023-11-10T22:05:58.032961Z"
    },
    "papermill": {
     "duration": 0.324508,
     "end_time": "2023-11-10T22:05:58.035941",
     "exception": false,
     "start_time": "2023-11-10T22:05:57.711433",
     "status": "completed"
    },
    "tags": []
   },
   "outputs": [
    {
     "data": {
      "text/plain": [
       "<matplotlib.legend.Legend at 0x7b1c6a6da410>"
      ]
     },
     "execution_count": 34,
     "metadata": {},
     "output_type": "execute_result"
    },
    {
     "data": {
      "image/png": "[encoded data removed]",
      "text/plain": [
       "<Figure size 640x480 with 1 Axes>"
      ]
     },
     "metadata": {},
     "output_type": "display_data"
    }
   ],
   "source": [
    "plt.hist(y_train, label='train')\n",
    "plt.hist(y_valid, label='test')\n",
    "plt.legend()"
   ]
  },
  {
   "cell_type": "code",
   "execution_count": 35,
   "id": "499de1e4",
   "metadata": {
    "execution": {
     "iopub.execute_input": "2023-11-10T22:05:58.086736Z",
     "iopub.status.busy": "2023-11-10T22:05:58.085450Z",
     "iopub.status.idle": "2023-11-10T22:05:58.105915Z",
     "shell.execute_reply": "2023-11-10T22:05:58.104727Z"
    },
    "papermill": {
     "duration": 0.047963,
     "end_time": "2023-11-10T22:05:58.108021",
     "exception": false,
     "start_time": "2023-11-10T22:05:58.060058",
     "status": "completed"
    },
    "tags": []
   },
   "outputs": [
    {
     "data": {
      "text/html": [
       "<div>\n",
       "<style scoped>\n",
       "    .dataframe tbody tr th:only-of-type {\n",
       "        vertical-align: middle;\n",
       "    }\n",
       "\n",
       "    .dataframe tbody tr th {\n",
       "        vertical-align: top;\n",
       "    }\n",
       "\n",
       "    .dataframe thead th {\n",
       "        text-align: right;\n",
       "    }\n",
       "</style>\n",
       "<table border=\"1\" class=\"dataframe\">\n",
       "  <thead>\n",
       "    <tr style=\"text-align: right;\">\n",
       "      <th></th>\n",
       "      <th>Count</th>\n",
       "      <th>Percent</th>\n",
       "    </tr>\n",
       "    <tr>\n",
       "      <th>isFraud</th>\n",
       "      <th></th>\n",
       "      <th></th>\n",
       "    </tr>\n",
       "  </thead>\n",
       "  <tbody>\n",
       "    <tr>\n",
       "      <th>0</th>\n",
       "      <td>398806</td>\n",
       "      <td>0.964749</td>\n",
       "    </tr>\n",
       "    <tr>\n",
       "      <th>1</th>\n",
       "      <td>14572</td>\n",
       "      <td>0.035251</td>\n",
       "    </tr>\n",
       "  </tbody>\n",
       "</table>\n",
       "</div>"
      ],
      "text/plain": [
       "          Count   Percent\n",
       "isFraud                  \n",
       "0        398806  0.964749\n",
       "1         14572  0.035251"
      ]
     },
     "execution_count": 35,
     "metadata": {},
     "output_type": "execute_result"
    }
   ],
   "source": [
    "isFraud_count = y_train.value_counts()\n",
    "isFraud_prct = y_train.value_counts()/len(y_train)\n",
    "\n",
    "pd.concat([isFraud_count, isFraud_prct], axis=1, keys=['Count', 'Percent'])"
   ]
  },
  {
   "cell_type": "code",
   "execution_count": 36,
   "id": "f116f1e5",
   "metadata": {
    "execution": {
     "iopub.execute_input": "2023-11-10T22:05:58.159004Z",
     "iopub.status.busy": "2023-11-10T22:05:58.158409Z",
     "iopub.status.idle": "2023-11-10T22:05:58.171275Z",
     "shell.execute_reply": "2023-11-10T22:05:58.170227Z"
    },
    "papermill": {
     "duration": 0.041515,
     "end_time": "2023-11-10T22:05:58.173628",
     "exception": false,
     "start_time": "2023-11-10T22:05:58.132113",
     "status": "completed"
    },
    "tags": []
   },
   "outputs": [
    {
     "data": {
      "text/html": [
       "<div>\n",
       "<style scoped>\n",
       "    .dataframe tbody tr th:only-of-type {\n",
       "        vertical-align: middle;\n",
       "    }\n",
       "\n",
       "    .dataframe tbody tr th {\n",
       "        vertical-align: top;\n",
       "    }\n",
       "\n",
       "    .dataframe thead th {\n",
       "        text-align: right;\n",
       "    }\n",
       "</style>\n",
       "<table border=\"1\" class=\"dataframe\">\n",
       "  <thead>\n",
       "    <tr style=\"text-align: right;\">\n",
       "      <th></th>\n",
       "      <th>Count</th>\n",
       "      <th>Percent</th>\n",
       "    </tr>\n",
       "    <tr>\n",
       "      <th>isFraud</th>\n",
       "      <th></th>\n",
       "      <th></th>\n",
       "    </tr>\n",
       "  </thead>\n",
       "  <tbody>\n",
       "    <tr>\n",
       "      <th>0</th>\n",
       "      <td>171071</td>\n",
       "      <td>0.965619</td>\n",
       "    </tr>\n",
       "    <tr>\n",
       "      <th>1</th>\n",
       "      <td>6091</td>\n",
       "      <td>0.034381</td>\n",
       "    </tr>\n",
       "  </tbody>\n",
       "</table>\n",
       "</div>"
      ],
      "text/plain": [
       "          Count   Percent\n",
       "isFraud                  \n",
       "0        171071  0.965619\n",
       "1          6091  0.034381"
      ]
     },
     "execution_count": 36,
     "metadata": {},
     "output_type": "execute_result"
    }
   ],
   "source": [
    "isFraud_count = y_valid.value_counts()\n",
    "isFraud_prct = y_valid.value_counts()/len(y_valid)\n",
    "\n",
    "pd.concat([isFraud_count, isFraud_prct], axis=1, keys=['Count', 'Percent'])"
   ]
  },
  {
   "cell_type": "markdown",
   "id": "3d185c51",
   "metadata": {
    "papermill": {
     "duration": 0.024457,
     "end_time": "2023-11-10T22:05:58.223669",
     "exception": false,
     "start_time": "2023-11-10T22:05:58.199212",
     "status": "completed"
    },
    "tags": []
   },
   "source": [
    "Видим, что данные не сбалансированы:\n",
    "\n",
    "- ```96,5 %``` транзакций - валидны\n",
    "\n",
    "- ```3,5 %``` транзакций - мошеннические\n",
    "\n",
    "Подумаем о решении вопроса дисбаланса в данных. Исследуем другие признаки."
   ]
  },
  {
   "cell_type": "markdown",
   "id": "a592d82b",
   "metadata": {
    "papermill": {
     "duration": 0.023999,
     "end_time": "2023-11-10T22:05:58.271706",
     "exception": false,
     "start_time": "2023-11-10T22:05:58.247707",
     "status": "completed"
    },
    "tags": []
   },
   "source": [
    "Напишем функцию для построения распределений признаков"
   ]
  },
  {
   "cell_type": "code",
   "execution_count": 37,
   "id": "2dc63055",
   "metadata": {
    "execution": {
     "iopub.execute_input": "2023-11-10T22:05:58.321187Z",
     "iopub.status.busy": "2023-11-10T22:05:58.320862Z",
     "iopub.status.idle": "2023-11-10T22:05:58.329122Z",
     "shell.execute_reply": "2023-11-10T22:05:58.328124Z"
    },
    "papermill": {
     "duration": 0.034776,
     "end_time": "2023-11-10T22:05:58.330824",
     "exception": false,
     "start_time": "2023-11-10T22:05:58.296048",
     "status": "completed"
    },
    "tags": []
   },
   "outputs": [],
   "source": [
    "colors = ['#1f77b4', '#ff7f0e', '#2ca02c', '#d62728', '#9467bd',\n",
    "          '#8c564b', '#e377c2', '#7f7f7f', '#bcbd22', '#17becf']\n",
    "\n",
    "def plot_value_counts(feature, title, df):\n",
    "    ax = df[feature].value_counts().plot(kind='bar',\n",
    "                                            figsize=(7,5),\n",
    "                                            xlabel=title,\n",
    "                                            ylabel='count',\n",
    "                                            edgecolor='k',\n",
    "                                            color=colors)\n",
    "    ax.set_title(f'Percentage of {title}')\n",
    "    counts = df[feature].value_counts()/len(df)\n",
    "    \n",
    "    rects = ax.patches\n",
    "    labels_arr = ['{0:.2f}%'.format(count*100) for count in counts]\n",
    "    \n",
    "    if (len(labels_arr) > 2):\n",
    "        plt.xticks(rotation=0, size=8)\n",
    "        \n",
    "    for rect, label in zip(rects, labels_arr):\n",
    "        height = rect.get_height()\n",
    "        ax.text(\n",
    "            rect.get_x() + rect.get_width() / 2, height, label, ha='center', va='bottom'\n",
    "        )\n",
    "    \n",
    "    plt.show()"
   ]
  },
  {
   "cell_type": "markdown",
   "id": "709b7483",
   "metadata": {
    "papermill": {
     "duration": 0.0241,
     "end_time": "2023-11-10T22:05:58.378817",
     "exception": false,
     "start_time": "2023-11-10T22:05:58.354717",
     "status": "completed"
    },
    "tags": []
   },
   "source": [
    "#### Распределение ```Card 4``` (компания карты)"
   ]
  },
  {
   "cell_type": "code",
   "execution_count": 38,
   "id": "8d9c6141",
   "metadata": {
    "execution": {
     "iopub.execute_input": "2023-11-10T22:05:58.428668Z",
     "iopub.status.busy": "2023-11-10T22:05:58.427987Z",
     "iopub.status.idle": "2023-11-10T22:05:58.636653Z",
     "shell.execute_reply": "2023-11-10T22:05:58.635292Z"
    },
    "papermill": {
     "duration": 0.236647,
     "end_time": "2023-11-10T22:05:58.639263",
     "exception": false,
     "start_time": "2023-11-10T22:05:58.402616",
     "status": "completed"
    },
    "tags": []
   },
   "outputs": [
    {
     "data": {
      "image/png": "[encoded data removed]",
      "text/plain": [
       "<Figure size 700x500 with 1 Axes>"
      ]
     },
     "metadata": {},
     "output_type": "display_data"
    }
   ],
   "source": [
    "plot_value_counts('card4', 'train: card4', df=X_train)"
   ]
  },
  {
   "cell_type": "markdown",
   "id": "45a53afe",
   "metadata": {
    "papermill": {
     "duration": 0.024887,
     "end_time": "2023-11-10T22:05:58.688604",
     "exception": false,
     "start_time": "2023-11-10T22:05:58.663717",
     "status": "completed"
    },
    "tags": []
   },
   "source": [
    "Видим, что:\n",
    "\n",
    "- ```65,34 %``` - карт компании 'visa'\n",
    "- ```31,61 %``` - 'mastercard'\n",
    "- ```1,68 %```  - 'american express'\n",
    "- ```1,16 %```  - 'discover'"
   ]
  },
  {
   "cell_type": "code",
   "execution_count": 39,
   "id": "2b3a859f",
   "metadata": {
    "execution": {
     "iopub.execute_input": "2023-11-10T22:05:58.739060Z",
     "iopub.status.busy": "2023-11-10T22:05:58.738508Z",
     "iopub.status.idle": "2023-11-10T22:05:59.036013Z",
     "shell.execute_reply": "2023-11-10T22:05:59.035072Z"
    },
    "papermill": {
     "duration": 0.325059,
     "end_time": "2023-11-10T22:05:59.037944",
     "exception": false,
     "start_time": "2023-11-10T22:05:58.712885",
     "status": "completed"
    },
    "tags": []
   },
   "outputs": [
    {
     "data": {
      "image/png": "[encoded data removed]",
      "text/plain": [
       "<Figure size 700x500 with 1 Axes>"
      ]
     },
     "metadata": {},
     "output_type": "display_data"
    }
   ],
   "source": [
    "plot_value_counts('card4', 'test: card4', df=X_valid)"
   ]
  },
  {
   "cell_type": "markdown",
   "id": "65910521",
   "metadata": {
    "papermill": {
     "duration": 0.024616,
     "end_time": "2023-11-10T22:05:59.088426",
     "exception": false,
     "start_time": "2023-11-10T22:05:59.063810",
     "status": "completed"
    },
    "tags": []
   },
   "source": [
    "#### Распределение ```Card 6``` - тип карты"
   ]
  },
  {
   "cell_type": "code",
   "execution_count": 40,
   "id": "edc433a6",
   "metadata": {
    "execution": {
     "iopub.execute_input": "2023-11-10T22:05:59.139659Z",
     "iopub.status.busy": "2023-11-10T22:05:59.139203Z",
     "iopub.status.idle": "2023-11-10T22:05:59.336925Z",
     "shell.execute_reply": "2023-11-10T22:05:59.335025Z"
    },
    "papermill": {
     "duration": 0.225868,
     "end_time": "2023-11-10T22:05:59.338950",
     "exception": false,
     "start_time": "2023-11-10T22:05:59.113082",
     "status": "completed"
    },
    "tags": []
   },
   "outputs": [
    {
     "data": {
      "image/png": "[encoded data removed]",
      "text/plain": [
       "<Figure size 700x500 with 1 Axes>"
      ]
     },
     "metadata": {},
     "output_type": "display_data"
    }
   ],
   "source": [
    "plot_value_counts('card6', 'train: card6', df=X_train)"
   ]
  },
  {
   "cell_type": "markdown",
   "id": "803a1541",
   "metadata": {
    "papermill": {
     "duration": 0.025605,
     "end_time": "2023-11-10T22:05:59.391098",
     "exception": false,
     "start_time": "2023-11-10T22:05:59.365493",
     "status": "completed"
    },
    "tags": []
   },
   "source": [
    "Большая часть транзакций произведена дебетовыми картами - ```73,17 %```, ```26,61 %``` - кредитными картами. Транзакций с ```charge``` карт нет"
   ]
  },
  {
   "cell_type": "code",
   "execution_count": 41,
   "id": "ff9cadfd",
   "metadata": {
    "execution": {
     "iopub.execute_input": "2023-11-10T22:05:59.444112Z",
     "iopub.status.busy": "2023-11-10T22:05:59.443758Z",
     "iopub.status.idle": "2023-11-10T22:05:59.641557Z",
     "shell.execute_reply": "2023-11-10T22:05:59.640412Z"
    },
    "papermill": {
     "duration": 0.227475,
     "end_time": "2023-11-10T22:05:59.644195",
     "exception": false,
     "start_time": "2023-11-10T22:05:59.416720",
     "status": "completed"
    },
    "tags": []
   },
   "outputs": [
    {
     "data": {
      "image/png": "[encoded data removed]",
      "text/plain": [
       "<Figure size 700x500 with 1 Axes>"
      ]
     },
     "metadata": {},
     "output_type": "display_data"
    }
   ],
   "source": [
    "plot_value_counts('card6', 'test: card6', df=X_valid)"
   ]
  },
  {
   "cell_type": "markdown",
   "id": "2697f0e3",
   "metadata": {
    "papermill": {
     "duration": 0.025237,
     "end_time": "2023-11-10T22:05:59.695998",
     "exception": false,
     "start_time": "2023-11-10T22:05:59.670761",
     "status": "completed"
    },
    "tags": []
   },
   "source": [
    "#### Посмотрим на распределение транзакций в разрезе компаний, выпустивших карты"
   ]
  },
  {
   "cell_type": "markdown",
   "id": "1e4766dd",
   "metadata": {
    "papermill": {
     "duration": 0.025249,
     "end_time": "2023-11-10T22:05:59.747496",
     "exception": false,
     "start_time": "2023-11-10T22:05:59.722247",
     "status": "completed"
    },
    "tags": []
   },
   "source": [
    "Напишем функцию для визуализации распределения транзакций в разрезе какого-либо признака"
   ]
  },
  {
   "cell_type": "code",
   "execution_count": 42,
   "id": "eefc50df",
   "metadata": {
    "execution": {
     "iopub.execute_input": "2023-11-10T22:05:59.801208Z",
     "iopub.status.busy": "2023-11-10T22:05:59.800831Z",
     "iopub.status.idle": "2023-11-10T22:05:59.806786Z",
     "shell.execute_reply": "2023-11-10T22:05:59.805591Z"
    },
    "papermill": {
     "duration": 0.035436,
     "end_time": "2023-11-10T22:05:59.808888",
     "exception": false,
     "start_time": "2023-11-10T22:05:59.773452",
     "status": "completed"
    },
    "tags": []
   },
   "outputs": [],
   "source": [
    "def isFraud_by_feature(feature, df, title):\n",
    "    sns.barplot(x=feature, y='isFraud', data=df)\n",
    "    plt.xlabel(feature)\n",
    "    plt.ylabel('isFraud')\n",
    "    plt.title('Fraudulent Transactions by {}'.format(title))\n",
    "    plt.show()"
   ]
  },
  {
   "cell_type": "code",
   "execution_count": 43,
   "id": "942069ec",
   "metadata": {
    "execution": {
     "iopub.execute_input": "2023-11-10T22:05:59.863269Z",
     "iopub.status.busy": "2023-11-10T22:05:59.862918Z",
     "iopub.status.idle": "2023-11-10T22:06:06.438640Z",
     "shell.execute_reply": "2023-11-10T22:06:06.437314Z"
    },
    "papermill": {
     "duration": 6.605399,
     "end_time": "2023-11-10T22:06:06.440789",
     "exception": false,
     "start_time": "2023-11-10T22:05:59.835390",
     "status": "completed"
    },
    "tags": []
   },
   "outputs": [
    {
     "data": {
      "image/png": "[encoded data removed]",
      "text/plain": [
       "<Figure size 640x480 with 1 Axes>"
      ]
     },
     "metadata": {},
     "output_type": "display_data"
    }
   ],
   "source": [
    "isFraud_by_feature('card4', df=train_df, title='Card Company')"
   ]
  },
  {
   "cell_type": "markdown",
   "id": "4e711960",
   "metadata": {
    "papermill": {
     "duration": 0.027883,
     "end_time": "2023-11-10T22:06:06.496752",
     "exception": false,
     "start_time": "2023-11-10T22:06:06.468869",
     "status": "completed"
    },
    "tags": []
   },
   "source": [
    "Большинство операций произведено с карт ```discover```"
   ]
  },
  {
   "cell_type": "markdown",
   "id": "20da44bd",
   "metadata": {
    "papermill": {
     "duration": 0.025361,
     "end_time": "2023-11-10T22:06:06.548850",
     "exception": false,
     "start_time": "2023-11-10T22:06:06.523489",
     "status": "completed"
    },
    "tags": []
   },
   "source": [
    "#### Распределение транзакций в разрезе типа карты"
   ]
  },
  {
   "cell_type": "code",
   "execution_count": 44,
   "id": "c8d2ad6b",
   "metadata": {
    "execution": {
     "iopub.execute_input": "2023-11-10T22:06:06.602476Z",
     "iopub.status.busy": "2023-11-10T22:06:06.601385Z",
     "iopub.status.idle": "2023-11-10T22:06:13.247777Z",
     "shell.execute_reply": "2023-11-10T22:06:13.246816Z"
    },
    "papermill": {
     "duration": 6.675987,
     "end_time": "2023-11-10T22:06:13.250481",
     "exception": false,
     "start_time": "2023-11-10T22:06:06.574494",
     "status": "completed"
    },
    "tags": []
   },
   "outputs": [
    {
     "data": {
      "image/png": "[encoded data removed]",
      "text/plain": [
       "<Figure size 640x480 with 1 Axes>"
      ]
     },
     "metadata": {},
     "output_type": "display_data"
    }
   ],
   "source": [
    "isFraud_by_feature('card6', df=train_df, title='Card Type')"
   ]
  },
  {
   "cell_type": "markdown",
   "id": "621158bd",
   "metadata": {
    "papermill": {
     "duration": 0.02582,
     "end_time": "2023-11-10T22:06:13.304180",
     "exception": false,
     "start_time": "2023-11-10T22:06:13.278360",
     "status": "completed"
    },
    "tags": []
   },
   "source": [
    "Несмотря на то, что кредитные карты занимают ```25,23 %``` от всего объема данных, с них произведена большая часть транзакций"
   ]
  },
  {
   "cell_type": "markdown",
   "id": "a249c413",
   "metadata": {
    "papermill": {
     "duration": 0.025691,
     "end_time": "2023-11-10T22:06:13.355949",
     "exception": false,
     "start_time": "2023-11-10T22:06:13.330258",
     "status": "completed"
    },
    "tags": []
   },
   "source": [
    "### Посмотрим, есть ли в данных дубликаты"
   ]
  },
  {
   "cell_type": "code",
   "execution_count": 45,
   "id": "d8c98f96",
   "metadata": {
    "execution": {
     "iopub.execute_input": "2023-11-10T22:06:13.410494Z",
     "iopub.status.busy": "2023-11-10T22:06:13.409914Z",
     "iopub.status.idle": "2023-11-10T22:06:15.917512Z",
     "shell.execute_reply": "2023-11-10T22:06:15.916056Z"
    },
    "papermill": {
     "duration": 2.537742,
     "end_time": "2023-11-10T22:06:15.919945",
     "exception": false,
     "start_time": "2023-11-10T22:06:13.382203",
     "status": "completed"
    },
    "tags": []
   },
   "outputs": [
    {
     "data": {
      "text/plain": [
       "0"
      ]
     },
     "execution_count": 45,
     "metadata": {},
     "output_type": "execute_result"
    }
   ],
   "source": [
    "X_train.duplicated().sum()"
   ]
  },
  {
   "cell_type": "code",
   "execution_count": 46,
   "id": "9bcd97f8",
   "metadata": {
    "execution": {
     "iopub.execute_input": "2023-11-10T22:06:15.976538Z",
     "iopub.status.busy": "2023-11-10T22:06:15.975357Z",
     "iopub.status.idle": "2023-11-10T22:06:16.690951Z",
     "shell.execute_reply": "2023-11-10T22:06:16.690047Z"
    },
    "papermill": {
     "duration": 0.746371,
     "end_time": "2023-11-10T22:06:16.693436",
     "exception": false,
     "start_time": "2023-11-10T22:06:15.947065",
     "status": "completed"
    },
    "tags": []
   },
   "outputs": [
    {
     "data": {
      "text/plain": [
       "0"
      ]
     },
     "execution_count": 46,
     "metadata": {},
     "output_type": "execute_result"
    }
   ],
   "source": [
    "X_valid.duplicated().sum()"
   ]
  },
  {
   "cell_type": "markdown",
   "id": "fe4cde33",
   "metadata": {
    "papermill": {
     "duration": 0.025659,
     "end_time": "2023-11-10T22:06:16.744951",
     "exception": false,
     "start_time": "2023-11-10T22:06:16.719292",
     "status": "completed"
    },
    "tags": []
   },
   "source": [
    "### Преобразуем категориальные признаки в числа"
   ]
  },
  {
   "cell_type": "code",
   "execution_count": 47,
   "id": "2966fcc4",
   "metadata": {
    "execution": {
     "iopub.execute_input": "2023-11-10T22:06:16.799424Z",
     "iopub.status.busy": "2023-11-10T22:06:16.799058Z",
     "iopub.status.idle": "2023-11-10T22:06:16.817473Z",
     "shell.execute_reply": "2023-11-10T22:06:16.816436Z"
    },
    "papermill": {
     "duration": 0.048877,
     "end_time": "2023-11-10T22:06:16.819262",
     "exception": false,
     "start_time": "2023-11-10T22:06:16.770385",
     "status": "completed"
    },
    "tags": []
   },
   "outputs": [
    {
     "name": "stdout",
     "output_type": "stream",
     "text": [
      "<class 'pandas.core.frame.DataFrame'>\n",
      "Index: 413378 entries, 84107 to 404915\n",
      "Columns: 219 entries, TransactionID to V321\n",
      "dtypes: category(9), float32(207), uint16(1), uint32(2)\n",
      "memory usage: 337.1 MB\n"
     ]
    }
   ],
   "source": [
    "X_train.info()"
   ]
  },
  {
   "cell_type": "code",
   "execution_count": 48,
   "id": "4c7dc48d",
   "metadata": {
    "execution": {
     "iopub.execute_input": "2023-11-10T22:06:16.873560Z",
     "iopub.status.busy": "2023-11-10T22:06:16.872564Z",
     "iopub.status.idle": "2023-11-10T22:06:20.764590Z",
     "shell.execute_reply": "2023-11-10T22:06:20.763537Z"
    },
    "papermill": {
     "duration": 3.921637,
     "end_time": "2023-11-10T22:06:20.766979",
     "exception": false,
     "start_time": "2023-11-10T22:06:16.845342",
     "status": "completed"
    },
    "tags": []
   },
   "outputs": [],
   "source": [
    "for f in X_train.columns:\n",
    "    if X_train.loc[:, f].dtype=='category':\n",
    "        le = LabelEncoder()\n",
    "        le.fit(list(X_train.loc[:, f].values))\n",
    "        X_train.loc[:, f] = le.transform(list(X_train.loc[:, f].values))"
   ]
  },
  {
   "cell_type": "code",
   "execution_count": 49,
   "id": "d9f1a95e",
   "metadata": {
    "execution": {
     "iopub.execute_input": "2023-11-10T22:06:20.823263Z",
     "iopub.status.busy": "2023-11-10T22:06:20.822860Z",
     "iopub.status.idle": "2023-11-10T22:06:20.904569Z",
     "shell.execute_reply": "2023-11-10T22:06:20.903513Z"
    },
    "papermill": {
     "duration": 0.113001,
     "end_time": "2023-11-10T22:06:20.906502",
     "exception": false,
     "start_time": "2023-11-10T22:06:20.793501",
     "status": "completed"
    },
    "tags": []
   },
   "outputs": [
    {
     "data": {
      "text/html": [
       "<div>\n",
       "<style scoped>\n",
       "    .dataframe tbody tr th:only-of-type {\n",
       "        vertical-align: middle;\n",
       "    }\n",
       "\n",
       "    .dataframe tbody tr th {\n",
       "        vertical-align: top;\n",
       "    }\n",
       "\n",
       "    .dataframe thead th {\n",
       "        text-align: right;\n",
       "    }\n",
       "</style>\n",
       "<table border=\"1\" class=\"dataframe\">\n",
       "  <thead>\n",
       "    <tr style=\"text-align: right;\">\n",
       "      <th></th>\n",
       "      <th>TransactionID</th>\n",
       "      <th>TransactionDT</th>\n",
       "      <th>TransactionAmt</th>\n",
       "      <th>ProductCD</th>\n",
       "      <th>card1</th>\n",
       "      <th>card2</th>\n",
       "      <th>card3</th>\n",
       "      <th>card4</th>\n",
       "      <th>card5</th>\n",
       "      <th>card6</th>\n",
       "      <th>...</th>\n",
       "      <th>V312</th>\n",
       "      <th>V313</th>\n",
       "      <th>V314</th>\n",
       "      <th>V315</th>\n",
       "      <th>V316</th>\n",
       "      <th>V317</th>\n",
       "      <th>V318</th>\n",
       "      <th>V319</th>\n",
       "      <th>V320</th>\n",
       "      <th>V321</th>\n",
       "    </tr>\n",
       "  </thead>\n",
       "  <tbody>\n",
       "    <tr>\n",
       "      <th>84107</th>\n",
       "      <td>3071107</td>\n",
       "      <td>1795658</td>\n",
       "      <td>50.000000</td>\n",
       "      <td>1</td>\n",
       "      <td>12501</td>\n",
       "      <td>490.0</td>\n",
       "      <td>150.0</td>\n",
       "      <td>4</td>\n",
       "      <td>226.0</td>\n",
       "      <td>2</td>\n",
       "      <td>...</td>\n",
       "      <td>0.000000</td>\n",
       "      <td>0.000000</td>\n",
       "      <td>0.000000</td>\n",
       "      <td>0.000000</td>\n",
       "      <td>0.0</td>\n",
       "      <td>0.0</td>\n",
       "      <td>0.0</td>\n",
       "      <td>0.0</td>\n",
       "      <td>0.0</td>\n",
       "      <td>0.0</td>\n",
       "    </tr>\n",
       "    <tr>\n",
       "      <th>41410</th>\n",
       "      <td>3028410</td>\n",
       "      <td>1016056</td>\n",
       "      <td>52.820000</td>\n",
       "      <td>0</td>\n",
       "      <td>10086</td>\n",
       "      <td>500.0</td>\n",
       "      <td>185.0</td>\n",
       "      <td>2</td>\n",
       "      <td>224.0</td>\n",
       "      <td>1</td>\n",
       "      <td>...</td>\n",
       "      <td>0.000000</td>\n",
       "      <td>0.000000</td>\n",
       "      <td>0.000000</td>\n",
       "      <td>0.000000</td>\n",
       "      <td>0.0</td>\n",
       "      <td>0.0</td>\n",
       "      <td>0.0</td>\n",
       "      <td>0.0</td>\n",
       "      <td>0.0</td>\n",
       "      <td>0.0</td>\n",
       "    </tr>\n",
       "    <tr>\n",
       "      <th>476297</th>\n",
       "      <td>3463297</td>\n",
       "      <td>12331079</td>\n",
       "      <td>24.950001</td>\n",
       "      <td>4</td>\n",
       "      <td>13249</td>\n",
       "      <td>111.0</td>\n",
       "      <td>150.0</td>\n",
       "      <td>4</td>\n",
       "      <td>226.0</td>\n",
       "      <td>2</td>\n",
       "      <td>...</td>\n",
       "      <td>23.950001</td>\n",
       "      <td>0.000000</td>\n",
       "      <td>0.000000</td>\n",
       "      <td>0.000000</td>\n",
       "      <td>0.0</td>\n",
       "      <td>0.0</td>\n",
       "      <td>0.0</td>\n",
       "      <td>0.0</td>\n",
       "      <td>0.0</td>\n",
       "      <td>0.0</td>\n",
       "    </tr>\n",
       "    <tr>\n",
       "      <th>121290</th>\n",
       "      <td>3108290</td>\n",
       "      <td>2390146</td>\n",
       "      <td>15.858000</td>\n",
       "      <td>0</td>\n",
       "      <td>1976</td>\n",
       "      <td>545.0</td>\n",
       "      <td>185.0</td>\n",
       "      <td>4</td>\n",
       "      <td>102.0</td>\n",
       "      <td>1</td>\n",
       "      <td>...</td>\n",
       "      <td>0.000000</td>\n",
       "      <td>0.000000</td>\n",
       "      <td>0.000000</td>\n",
       "      <td>0.000000</td>\n",
       "      <td>0.0</td>\n",
       "      <td>0.0</td>\n",
       "      <td>0.0</td>\n",
       "      <td>0.0</td>\n",
       "      <td>0.0</td>\n",
       "      <td>0.0</td>\n",
       "    </tr>\n",
       "    <tr>\n",
       "      <th>150492</th>\n",
       "      <td>3137492</td>\n",
       "      <td>3100328</td>\n",
       "      <td>149.949997</td>\n",
       "      <td>4</td>\n",
       "      <td>2455</td>\n",
       "      <td>321.0</td>\n",
       "      <td>150.0</td>\n",
       "      <td>4</td>\n",
       "      <td>226.0</td>\n",
       "      <td>1</td>\n",
       "      <td>...</td>\n",
       "      <td>0.000000</td>\n",
       "      <td>239.949997</td>\n",
       "      <td>469.899994</td>\n",
       "      <td>239.949997</td>\n",
       "      <td>0.0</td>\n",
       "      <td>0.0</td>\n",
       "      <td>0.0</td>\n",
       "      <td>0.0</td>\n",
       "      <td>0.0</td>\n",
       "      <td>0.0</td>\n",
       "    </tr>\n",
       "    <tr>\n",
       "      <th>...</th>\n",
       "      <td>...</td>\n",
       "      <td>...</td>\n",
       "      <td>...</td>\n",
       "      <td>...</td>\n",
       "      <td>...</td>\n",
       "      <td>...</td>\n",
       "      <td>...</td>\n",
       "      <td>...</td>\n",
       "      <td>...</td>\n",
       "      <td>...</td>\n",
       "      <td>...</td>\n",
       "      <td>...</td>\n",
       "      <td>...</td>\n",
       "      <td>...</td>\n",
       "      <td>...</td>\n",
       "      <td>...</td>\n",
       "      <td>...</td>\n",
       "      <td>...</td>\n",
       "      <td>...</td>\n",
       "      <td>...</td>\n",
       "      <td>...</td>\n",
       "    </tr>\n",
       "    <tr>\n",
       "      <th>434398</th>\n",
       "      <td>3421398</td>\n",
       "      <td>10977015</td>\n",
       "      <td>87.000000</td>\n",
       "      <td>4</td>\n",
       "      <td>7919</td>\n",
       "      <td>194.0</td>\n",
       "      <td>150.0</td>\n",
       "      <td>2</td>\n",
       "      <td>166.0</td>\n",
       "      <td>2</td>\n",
       "      <td>...</td>\n",
       "      <td>0.000000</td>\n",
       "      <td>0.000000</td>\n",
       "      <td>0.000000</td>\n",
       "      <td>0.000000</td>\n",
       "      <td>87.0</td>\n",
       "      <td>87.0</td>\n",
       "      <td>87.0</td>\n",
       "      <td>0.0</td>\n",
       "      <td>0.0</td>\n",
       "      <td>0.0</td>\n",
       "    </tr>\n",
       "    <tr>\n",
       "      <th>303189</th>\n",
       "      <td>3290189</td>\n",
       "      <td>7503073</td>\n",
       "      <td>100.000000</td>\n",
       "      <td>2</td>\n",
       "      <td>7800</td>\n",
       "      <td>268.0</td>\n",
       "      <td>150.0</td>\n",
       "      <td>4</td>\n",
       "      <td>166.0</td>\n",
       "      <td>2</td>\n",
       "      <td>...</td>\n",
       "      <td>0.000000</td>\n",
       "      <td>0.000000</td>\n",
       "      <td>0.000000</td>\n",
       "      <td>0.000000</td>\n",
       "      <td>0.0</td>\n",
       "      <td>0.0</td>\n",
       "      <td>0.0</td>\n",
       "      <td>400.0</td>\n",
       "      <td>400.0</td>\n",
       "      <td>400.0</td>\n",
       "    </tr>\n",
       "    <tr>\n",
       "      <th>19986</th>\n",
       "      <td>3006986</td>\n",
       "      <td>517115</td>\n",
       "      <td>25.000000</td>\n",
       "      <td>4</td>\n",
       "      <td>6933</td>\n",
       "      <td>477.0</td>\n",
       "      <td>150.0</td>\n",
       "      <td>2</td>\n",
       "      <td>117.0</td>\n",
       "      <td>2</td>\n",
       "      <td>...</td>\n",
       "      <td>74.000000</td>\n",
       "      <td>0.000000</td>\n",
       "      <td>0.000000</td>\n",
       "      <td>0.000000</td>\n",
       "      <td>0.0</td>\n",
       "      <td>0.0</td>\n",
       "      <td>0.0</td>\n",
       "      <td>0.0</td>\n",
       "      <td>0.0</td>\n",
       "      <td>0.0</td>\n",
       "    </tr>\n",
       "    <tr>\n",
       "      <th>446808</th>\n",
       "      <td>3433808</td>\n",
       "      <td>11381752</td>\n",
       "      <td>7.000000</td>\n",
       "      <td>4</td>\n",
       "      <td>9500</td>\n",
       "      <td>321.0</td>\n",
       "      <td>150.0</td>\n",
       "      <td>4</td>\n",
       "      <td>226.0</td>\n",
       "      <td>2</td>\n",
       "      <td>...</td>\n",
       "      <td>359.000000</td>\n",
       "      <td>0.000000</td>\n",
       "      <td>0.000000</td>\n",
       "      <td>0.000000</td>\n",
       "      <td>0.0</td>\n",
       "      <td>0.0</td>\n",
       "      <td>0.0</td>\n",
       "      <td>10.0</td>\n",
       "      <td>1012.0</td>\n",
       "      <td>1012.0</td>\n",
       "    </tr>\n",
       "    <tr>\n",
       "      <th>404915</th>\n",
       "      <td>3391915</td>\n",
       "      <td>10224344</td>\n",
       "      <td>57.950001</td>\n",
       "      <td>4</td>\n",
       "      <td>4436</td>\n",
       "      <td>174.0</td>\n",
       "      <td>150.0</td>\n",
       "      <td>4</td>\n",
       "      <td>226.0</td>\n",
       "      <td>2</td>\n",
       "      <td>...</td>\n",
       "      <td>0.000000</td>\n",
       "      <td>0.000000</td>\n",
       "      <td>0.000000</td>\n",
       "      <td>0.000000</td>\n",
       "      <td>0.0</td>\n",
       "      <td>0.0</td>\n",
       "      <td>0.0</td>\n",
       "      <td>0.0</td>\n",
       "      <td>0.0</td>\n",
       "      <td>0.0</td>\n",
       "    </tr>\n",
       "  </tbody>\n",
       "</table>\n",
       "<p>413378 rows × 219 columns</p>\n",
       "</div>"
      ],
      "text/plain": [
       "        TransactionID  TransactionDT  TransactionAmt  ProductCD  card1  card2  \\\n",
       "84107         3071107        1795658       50.000000          1  12501  490.0   \n",
       "41410         3028410        1016056       52.820000          0  10086  500.0   \n",
       "476297        3463297       12331079       24.950001          4  13249  111.0   \n",
       "121290        3108290        2390146       15.858000          0   1976  545.0   \n",
       "150492        3137492        3100328      149.949997          4   2455  321.0   \n",
       "...               ...            ...             ...        ...    ...    ...   \n",
       "434398        3421398       10977015       87.000000          4   7919  194.0   \n",
       "303189        3290189        7503073      100.000000          2   7800  268.0   \n",
       "19986         3006986         517115       25.000000          4   6933  477.0   \n",
       "446808        3433808       11381752        7.000000          4   9500  321.0   \n",
       "404915        3391915       10224344       57.950001          4   4436  174.0   \n",
       "\n",
       "        card3  card4  card5  card6  ...        V312        V313        V314  \\\n",
       "84107   150.0      4  226.0      2  ...    0.000000    0.000000    0.000000   \n",
       "41410   185.0      2  224.0      1  ...    0.000000    0.000000    0.000000   \n",
       "476297  150.0      4  226.0      2  ...   23.950001    0.000000    0.000000   \n",
       "121290  185.0      4  102.0      1  ...    0.000000    0.000000    0.000000   \n",
       "150492  150.0      4  226.0      1  ...    0.000000  239.949997  469.899994   \n",
       "...       ...    ...    ...    ...  ...         ...         ...         ...   \n",
       "434398  150.0      2  166.0      2  ...    0.000000    0.000000    0.000000   \n",
       "303189  150.0      4  166.0      2  ...    0.000000    0.000000    0.000000   \n",
       "19986   150.0      2  117.0      2  ...   74.000000    0.000000    0.000000   \n",
       "446808  150.0      4  226.0      2  ...  359.000000    0.000000    0.000000   \n",
       "404915  150.0      4  226.0      2  ...    0.000000    0.000000    0.000000   \n",
       "\n",
       "              V315  V316  V317  V318   V319    V320    V321  \n",
       "84107     0.000000   0.0   0.0   0.0    0.0     0.0     0.0  \n",
       "41410     0.000000   0.0   0.0   0.0    0.0     0.0     0.0  \n",
       "476297    0.000000   0.0   0.0   0.0    0.0     0.0     0.0  \n",
       "121290    0.000000   0.0   0.0   0.0    0.0     0.0     0.0  \n",
       "150492  239.949997   0.0   0.0   0.0    0.0     0.0     0.0  \n",
       "...            ...   ...   ...   ...    ...     ...     ...  \n",
       "434398    0.000000  87.0  87.0  87.0    0.0     0.0     0.0  \n",
       "303189    0.000000   0.0   0.0   0.0  400.0   400.0   400.0  \n",
       "19986     0.000000   0.0   0.0   0.0    0.0     0.0     0.0  \n",
       "446808    0.000000   0.0   0.0   0.0   10.0  1012.0  1012.0  \n",
       "404915    0.000000   0.0   0.0   0.0    0.0     0.0     0.0  \n",
       "\n",
       "[413378 rows x 219 columns]"
      ]
     },
     "execution_count": 49,
     "metadata": {},
     "output_type": "execute_result"
    }
   ],
   "source": [
    "X_train"
   ]
  },
  {
   "cell_type": "code",
   "execution_count": 50,
   "id": "f0e40d5e",
   "metadata": {
    "execution": {
     "iopub.execute_input": "2023-11-10T22:06:20.961395Z",
     "iopub.status.busy": "2023-11-10T22:06:20.961065Z",
     "iopub.status.idle": "2023-11-10T22:06:22.622273Z",
     "shell.execute_reply": "2023-11-10T22:06:22.621162Z"
    },
    "papermill": {
     "duration": 1.691434,
     "end_time": "2023-11-10T22:06:22.624696",
     "exception": false,
     "start_time": "2023-11-10T22:06:20.933262",
     "status": "completed"
    },
    "tags": []
   },
   "outputs": [],
   "source": [
    "for f in X_valid.columns:\n",
    "    if X_valid.loc[:, f].dtype=='category':\n",
    "        le = LabelEncoder()\n",
    "        le.fit(list(X_valid.loc[:, f].values))\n",
    "        X_valid.loc[:, f] = le.transform(list(X_valid.loc[:, f].values))"
   ]
  },
  {
   "cell_type": "code",
   "execution_count": 51,
   "id": "3aebe323",
   "metadata": {
    "execution": {
     "iopub.execute_input": "2023-11-10T22:06:22.680891Z",
     "iopub.status.busy": "2023-11-10T22:06:22.680463Z",
     "iopub.status.idle": "2023-11-10T22:06:22.735010Z",
     "shell.execute_reply": "2023-11-10T22:06:22.734013Z"
    },
    "papermill": {
     "duration": 0.084918,
     "end_time": "2023-11-10T22:06:22.737081",
     "exception": false,
     "start_time": "2023-11-10T22:06:22.652163",
     "status": "completed"
    },
    "tags": []
   },
   "outputs": [
    {
     "data": {
      "text/html": [
       "<div>\n",
       "<style scoped>\n",
       "    .dataframe tbody tr th:only-of-type {\n",
       "        vertical-align: middle;\n",
       "    }\n",
       "\n",
       "    .dataframe tbody tr th {\n",
       "        vertical-align: top;\n",
       "    }\n",
       "\n",
       "    .dataframe thead th {\n",
       "        text-align: right;\n",
       "    }\n",
       "</style>\n",
       "<table border=\"1\" class=\"dataframe\">\n",
       "  <thead>\n",
       "    <tr style=\"text-align: right;\">\n",
       "      <th></th>\n",
       "      <th>TransactionID</th>\n",
       "      <th>TransactionDT</th>\n",
       "      <th>TransactionAmt</th>\n",
       "      <th>ProductCD</th>\n",
       "      <th>card1</th>\n",
       "      <th>card2</th>\n",
       "      <th>card3</th>\n",
       "      <th>card4</th>\n",
       "      <th>card5</th>\n",
       "      <th>card6</th>\n",
       "      <th>...</th>\n",
       "      <th>V312</th>\n",
       "      <th>V313</th>\n",
       "      <th>V314</th>\n",
       "      <th>V315</th>\n",
       "      <th>V316</th>\n",
       "      <th>V317</th>\n",
       "      <th>V318</th>\n",
       "      <th>V319</th>\n",
       "      <th>V320</th>\n",
       "      <th>V321</th>\n",
       "    </tr>\n",
       "  </thead>\n",
       "  <tbody>\n",
       "    <tr>\n",
       "      <th>504332</th>\n",
       "      <td>3491332</td>\n",
       "      <td>13207071</td>\n",
       "      <td>29.000000</td>\n",
       "      <td>4</td>\n",
       "      <td>1342</td>\n",
       "      <td>514.0</td>\n",
       "      <td>150.0</td>\n",
       "      <td>2</td>\n",
       "      <td>224.0</td>\n",
       "      <td>2</td>\n",
       "      <td>...</td>\n",
       "      <td>16.000000</td>\n",
       "      <td>16.000000</td>\n",
       "      <td>16.000000</td>\n",
       "      <td>16.000000</td>\n",
       "      <td>0.0</td>\n",
       "      <td>15.0</td>\n",
       "      <td>15.0</td>\n",
       "      <td>0.0</td>\n",
       "      <td>0.0</td>\n",
       "      <td>0.0</td>\n",
       "    </tr>\n",
       "    <tr>\n",
       "      <th>104710</th>\n",
       "      <td>3091710</td>\n",
       "      <td>2075733</td>\n",
       "      <td>554.000000</td>\n",
       "      <td>4</td>\n",
       "      <td>11204</td>\n",
       "      <td>298.0</td>\n",
       "      <td>150.0</td>\n",
       "      <td>4</td>\n",
       "      <td>226.0</td>\n",
       "      <td>2</td>\n",
       "      <td>...</td>\n",
       "      <td>0.000000</td>\n",
       "      <td>0.000000</td>\n",
       "      <td>0.000000</td>\n",
       "      <td>0.000000</td>\n",
       "      <td>554.0</td>\n",
       "      <td>554.0</td>\n",
       "      <td>554.0</td>\n",
       "      <td>0.0</td>\n",
       "      <td>0.0</td>\n",
       "      <td>0.0</td>\n",
       "    </tr>\n",
       "    <tr>\n",
       "      <th>576238</th>\n",
       "      <td>3563238</td>\n",
       "      <td>15304373</td>\n",
       "      <td>171.000000</td>\n",
       "      <td>4</td>\n",
       "      <td>15185</td>\n",
       "      <td>332.0</td>\n",
       "      <td>150.0</td>\n",
       "      <td>4</td>\n",
       "      <td>226.0</td>\n",
       "      <td>2</td>\n",
       "      <td>...</td>\n",
       "      <td>0.000000</td>\n",
       "      <td>0.000000</td>\n",
       "      <td>0.000000</td>\n",
       "      <td>0.000000</td>\n",
       "      <td>0.0</td>\n",
       "      <td>0.0</td>\n",
       "      <td>0.0</td>\n",
       "      <td>0.0</td>\n",
       "      <td>0.0</td>\n",
       "      <td>0.0</td>\n",
       "    </tr>\n",
       "    <tr>\n",
       "      <th>408863</th>\n",
       "      <td>3395863</td>\n",
       "      <td>10338791</td>\n",
       "      <td>34.000000</td>\n",
       "      <td>4</td>\n",
       "      <td>7919</td>\n",
       "      <td>194.0</td>\n",
       "      <td>150.0</td>\n",
       "      <td>2</td>\n",
       "      <td>166.0</td>\n",
       "      <td>2</td>\n",
       "      <td>...</td>\n",
       "      <td>0.000000</td>\n",
       "      <td>0.000000</td>\n",
       "      <td>0.000000</td>\n",
       "      <td>0.000000</td>\n",
       "      <td>0.0</td>\n",
       "      <td>0.0</td>\n",
       "      <td>0.0</td>\n",
       "      <td>0.0</td>\n",
       "      <td>0.0</td>\n",
       "      <td>0.0</td>\n",
       "    </tr>\n",
       "    <tr>\n",
       "      <th>13669</th>\n",
       "      <td>3000669</td>\n",
       "      <td>400633</td>\n",
       "      <td>516.950012</td>\n",
       "      <td>4</td>\n",
       "      <td>7283</td>\n",
       "      <td>555.0</td>\n",
       "      <td>150.0</td>\n",
       "      <td>2</td>\n",
       "      <td>117.0</td>\n",
       "      <td>2</td>\n",
       "      <td>...</td>\n",
       "      <td>1044.949951</td>\n",
       "      <td>1044.949951</td>\n",
       "      <td>1044.949951</td>\n",
       "      <td>1044.949951</td>\n",
       "      <td>0.0</td>\n",
       "      <td>0.0</td>\n",
       "      <td>0.0</td>\n",
       "      <td>0.0</td>\n",
       "      <td>0.0</td>\n",
       "      <td>0.0</td>\n",
       "    </tr>\n",
       "    <tr>\n",
       "      <th>...</th>\n",
       "      <td>...</td>\n",
       "      <td>...</td>\n",
       "      <td>...</td>\n",
       "      <td>...</td>\n",
       "      <td>...</td>\n",
       "      <td>...</td>\n",
       "      <td>...</td>\n",
       "      <td>...</td>\n",
       "      <td>...</td>\n",
       "      <td>...</td>\n",
       "      <td>...</td>\n",
       "      <td>...</td>\n",
       "      <td>...</td>\n",
       "      <td>...</td>\n",
       "      <td>...</td>\n",
       "      <td>...</td>\n",
       "      <td>...</td>\n",
       "      <td>...</td>\n",
       "      <td>...</td>\n",
       "      <td>...</td>\n",
       "      <td>...</td>\n",
       "    </tr>\n",
       "    <tr>\n",
       "      <th>464832</th>\n",
       "      <td>3451832</td>\n",
       "      <td>11972834</td>\n",
       "      <td>107.949997</td>\n",
       "      <td>4</td>\n",
       "      <td>2803</td>\n",
       "      <td>100.0</td>\n",
       "      <td>150.0</td>\n",
       "      <td>4</td>\n",
       "      <td>226.0</td>\n",
       "      <td>2</td>\n",
       "      <td>...</td>\n",
       "      <td>12.970000</td>\n",
       "      <td>12.970000</td>\n",
       "      <td>12.970000</td>\n",
       "      <td>12.970000</td>\n",
       "      <td>0.0</td>\n",
       "      <td>0.0</td>\n",
       "      <td>0.0</td>\n",
       "      <td>0.0</td>\n",
       "      <td>0.0</td>\n",
       "      <td>0.0</td>\n",
       "    </tr>\n",
       "    <tr>\n",
       "      <th>117495</th>\n",
       "      <td>3104495</td>\n",
       "      <td>2300665</td>\n",
       "      <td>42.950001</td>\n",
       "      <td>4</td>\n",
       "      <td>7078</td>\n",
       "      <td>479.0</td>\n",
       "      <td>150.0</td>\n",
       "      <td>4</td>\n",
       "      <td>226.0</td>\n",
       "      <td>2</td>\n",
       "      <td>...</td>\n",
       "      <td>52.950001</td>\n",
       "      <td>77.949997</td>\n",
       "      <td>130.899994</td>\n",
       "      <td>77.949997</td>\n",
       "      <td>0.0</td>\n",
       "      <td>0.0</td>\n",
       "      <td>0.0</td>\n",
       "      <td>0.0</td>\n",
       "      <td>0.0</td>\n",
       "      <td>0.0</td>\n",
       "    </tr>\n",
       "    <tr>\n",
       "      <th>258416</th>\n",
       "      <td>3245416</td>\n",
       "      <td>6202164</td>\n",
       "      <td>200.000000</td>\n",
       "      <td>2</td>\n",
       "      <td>15005</td>\n",
       "      <td>555.0</td>\n",
       "      <td>150.0</td>\n",
       "      <td>4</td>\n",
       "      <td>226.0</td>\n",
       "      <td>1</td>\n",
       "      <td>...</td>\n",
       "      <td>0.000000</td>\n",
       "      <td>0.000000</td>\n",
       "      <td>0.000000</td>\n",
       "      <td>0.000000</td>\n",
       "      <td>0.0</td>\n",
       "      <td>0.0</td>\n",
       "      <td>0.0</td>\n",
       "      <td>0.0</td>\n",
       "      <td>0.0</td>\n",
       "      <td>0.0</td>\n",
       "    </tr>\n",
       "    <tr>\n",
       "      <th>199131</th>\n",
       "      <td>3186131</td>\n",
       "      <td>4499928</td>\n",
       "      <td>35.950001</td>\n",
       "      <td>4</td>\n",
       "      <td>9049</td>\n",
       "      <td>543.0</td>\n",
       "      <td>150.0</td>\n",
       "      <td>2</td>\n",
       "      <td>224.0</td>\n",
       "      <td>2</td>\n",
       "      <td>...</td>\n",
       "      <td>0.000000</td>\n",
       "      <td>0.000000</td>\n",
       "      <td>0.000000</td>\n",
       "      <td>0.000000</td>\n",
       "      <td>0.0</td>\n",
       "      <td>0.0</td>\n",
       "      <td>0.0</td>\n",
       "      <td>0.0</td>\n",
       "      <td>0.0</td>\n",
       "      <td>0.0</td>\n",
       "    </tr>\n",
       "    <tr>\n",
       "      <th>55609</th>\n",
       "      <td>3042609</td>\n",
       "      <td>1290540</td>\n",
       "      <td>50.000000</td>\n",
       "      <td>2</td>\n",
       "      <td>9500</td>\n",
       "      <td>321.0</td>\n",
       "      <td>150.0</td>\n",
       "      <td>4</td>\n",
       "      <td>226.0</td>\n",
       "      <td>2</td>\n",
       "      <td>...</td>\n",
       "      <td>0.000000</td>\n",
       "      <td>0.000000</td>\n",
       "      <td>0.000000</td>\n",
       "      <td>0.000000</td>\n",
       "      <td>100.0</td>\n",
       "      <td>100.0</td>\n",
       "      <td>100.0</td>\n",
       "      <td>0.0</td>\n",
       "      <td>0.0</td>\n",
       "      <td>0.0</td>\n",
       "    </tr>\n",
       "  </tbody>\n",
       "</table>\n",
       "<p>177162 rows × 219 columns</p>\n",
       "</div>"
      ],
      "text/plain": [
       "        TransactionID  TransactionDT  TransactionAmt  ProductCD  card1  card2  \\\n",
       "504332        3491332       13207071       29.000000          4   1342  514.0   \n",
       "104710        3091710        2075733      554.000000          4  11204  298.0   \n",
       "576238        3563238       15304373      171.000000          4  15185  332.0   \n",
       "408863        3395863       10338791       34.000000          4   7919  194.0   \n",
       "13669         3000669         400633      516.950012          4   7283  555.0   \n",
       "...               ...            ...             ...        ...    ...    ...   \n",
       "464832        3451832       11972834      107.949997          4   2803  100.0   \n",
       "117495        3104495        2300665       42.950001          4   7078  479.0   \n",
       "258416        3245416        6202164      200.000000          2  15005  555.0   \n",
       "199131        3186131        4499928       35.950001          4   9049  543.0   \n",
       "55609         3042609        1290540       50.000000          2   9500  321.0   \n",
       "\n",
       "        card3  card4  card5  card6  ...         V312         V313  \\\n",
       "504332  150.0      2  224.0      2  ...    16.000000    16.000000   \n",
       "104710  150.0      4  226.0      2  ...     0.000000     0.000000   \n",
       "576238  150.0      4  226.0      2  ...     0.000000     0.000000   \n",
       "408863  150.0      2  166.0      2  ...     0.000000     0.000000   \n",
       "13669   150.0      2  117.0      2  ...  1044.949951  1044.949951   \n",
       "...       ...    ...    ...    ...  ...          ...          ...   \n",
       "464832  150.0      4  226.0      2  ...    12.970000    12.970000   \n",
       "117495  150.0      4  226.0      2  ...    52.950001    77.949997   \n",
       "258416  150.0      4  226.0      1  ...     0.000000     0.000000   \n",
       "199131  150.0      2  224.0      2  ...     0.000000     0.000000   \n",
       "55609   150.0      4  226.0      2  ...     0.000000     0.000000   \n",
       "\n",
       "               V314         V315   V316   V317   V318  V319  V320  V321  \n",
       "504332    16.000000    16.000000    0.0   15.0   15.0   0.0   0.0   0.0  \n",
       "104710     0.000000     0.000000  554.0  554.0  554.0   0.0   0.0   0.0  \n",
       "576238     0.000000     0.000000    0.0    0.0    0.0   0.0   0.0   0.0  \n",
       "408863     0.000000     0.000000    0.0    0.0    0.0   0.0   0.0   0.0  \n",
       "13669   1044.949951  1044.949951    0.0    0.0    0.0   0.0   0.0   0.0  \n",
       "...             ...          ...    ...    ...    ...   ...   ...   ...  \n",
       "464832    12.970000    12.970000    0.0    0.0    0.0   0.0   0.0   0.0  \n",
       "117495   130.899994    77.949997    0.0    0.0    0.0   0.0   0.0   0.0  \n",
       "258416     0.000000     0.000000    0.0    0.0    0.0   0.0   0.0   0.0  \n",
       "199131     0.000000     0.000000    0.0    0.0    0.0   0.0   0.0   0.0  \n",
       "55609      0.000000     0.000000  100.0  100.0  100.0   0.0   0.0   0.0  \n",
       "\n",
       "[177162 rows x 219 columns]"
      ]
     },
     "execution_count": 51,
     "metadata": {},
     "output_type": "execute_result"
    }
   ],
   "source": [
    "X_valid"
   ]
  },
  {
   "cell_type": "markdown",
   "id": "d6077b05",
   "metadata": {
    "papermill": {
     "duration": 0.027872,
     "end_time": "2023-11-10T22:06:22.793108",
     "exception": false,
     "start_time": "2023-11-10T22:06:22.765236",
     "status": "completed"
    },
    "tags": []
   },
   "source": [
    "### Корреляция признаков"
   ]
  },
  {
   "cell_type": "markdown",
   "id": "f162fba2",
   "metadata": {
    "papermill": {
     "duration": 0.026721,
     "end_time": "2023-11-10T22:06:22.848865",
     "exception": false,
     "start_time": "2023-11-10T22:06:22.822144",
     "status": "completed"
    },
    "tags": []
   },
   "source": [
    "Выведем корреляции признаков в виде списка и отсортируем значения по убыванию. Отберём признаки с высокой корреляцией (>0.7)"
   ]
  },
  {
   "cell_type": "code",
   "execution_count": 52,
   "id": "1f0a7246",
   "metadata": {
    "execution": {
     "iopub.execute_input": "2023-11-10T22:06:22.907170Z",
     "iopub.status.busy": "2023-11-10T22:06:22.906496Z",
     "iopub.status.idle": "2023-11-10T22:06:59.932306Z",
     "shell.execute_reply": "2023-11-10T22:06:59.931355Z"
    },
    "papermill": {
     "duration": 37.084479,
     "end_time": "2023-11-10T22:06:59.961120",
     "exception": false,
     "start_time": "2023-11-10T22:06:22.876641",
     "status": "completed"
    },
    "tags": []
   },
   "outputs": [
    {
     "data": {
      "text/plain": [
       "[('C7', 'C12', 0.9994881942309221),\n",
       " ('C1', 'C11', 0.9965218519082811),\n",
       " ('C1', 'C2', 0.9950717921278405),\n",
       " ('C2', 'C1', 0.9950717921278405),\n",
       " ('C2', 'C11', 0.9938012959683223),\n",
       " ('C6', 'C11', 0.9910682425272475),\n",
       " ('C7', 'C10', 0.9845770938426824),\n",
       " ('C6', 'C14', 0.9843786601436766),\n",
       " ('C7', 'C8', 0.9823671541254495),\n",
       " ('C1', 'C6', 0.9821532994791998),\n",
       " ('C6', 'C1', 0.9821532994791998),\n",
       " ('D1', 'D2', 0.981021118783559),\n",
       " ('D2', 'D1', 0.981021118783559),\n",
       " ('C2', 'C8', 0.9757158504616582),\n",
       " ('C2', 'C6', 0.9746371922956939),\n",
       " ('C6', 'C2', 0.9746371922956939),\n",
       " ('C2', 'C4', 0.9718884067584702),\n",
       " ('C2', 'C10', 0.9704301664813716),\n",
       " ('C1', 'C4', 0.9679060588902327),\n",
       " ('C1', 'C8', 0.9677006604152043),\n",
       " ('C6', 'C4', 0.963245366694391),\n",
       " ('C1', 'C10', 0.9581242857866837),\n",
       " ('C1', 'C14', 0.9518604658263026),\n",
       " ('M2', 'M3', 0.9407848953772989),\n",
       " ('M3', 'M2', 0.9407848953772989),\n",
       " ('C2', 'C12', 0.9387150068530629),\n",
       " ('C2', 'C7', 0.9373274058348513),\n",
       " ('C7', 'C2', 0.9373274058348513),\n",
       " ('C2', 'C14', 0.9361582418968342),\n",
       " ('C1', 'C12', 0.9263681400860563)]"
      ]
     },
     "execution_count": 52,
     "metadata": {},
     "output_type": "execute_result"
    }
   ],
   "source": [
    "df_corr = X_train.corr()\n",
    "\n",
    "corrs = []\n",
    "for feat1 in df_corr:\n",
    "    for i, feat2 in enumerate(df_corr):\n",
    "        corrs.append((feat1, feat2, df_corr[feat1].values[i]))\n",
    "sorted_corrs = sorted(corrs, key=lambda x: x[2], reverse=True)\n",
    "max_sorted_corrs = [sort_tuple for sort_tuple in sorted_corrs \\\n",
    "                    if sort_tuple[0]!=('TransactionID' or 'TransactionDT') \\\n",
    "                    and sort_tuple[1]!=('TransactionID' or 'TransactionDT') \\\n",
    "                    and sort_tuple[-1] > 0.7 \\\n",
    "                    and sort_tuple[-1] < 1.0]\n",
    "max_sorted_corrs[:30]"
   ]
  },
  {
   "cell_type": "markdown",
   "id": "6d5befd0",
   "metadata": {
    "papermill": {
     "duration": 0.027069,
     "end_time": "2023-11-10T22:07:00.015285",
     "exception": false,
     "start_time": "2023-11-10T22:06:59.988216",
     "status": "completed"
    },
    "tags": []
   },
   "source": [
    "Удалим признаки с высокой корреляцией (> 0.7)"
   ]
  },
  {
   "cell_type": "code",
   "execution_count": 53,
   "id": "9eaf964f",
   "metadata": {
    "execution": {
     "iopub.execute_input": "2023-11-10T22:07:00.072645Z",
     "iopub.status.busy": "2023-11-10T22:07:00.072267Z",
     "iopub.status.idle": "2023-11-10T22:07:00.085084Z",
     "shell.execute_reply": "2023-11-10T22:07:00.082969Z"
    },
    "papermill": {
     "duration": 0.044911,
     "end_time": "2023-11-10T22:07:00.087569",
     "exception": false,
     "start_time": "2023-11-10T22:07:00.042658",
     "status": "completed"
    },
    "tags": []
   },
   "outputs": [
    {
     "name": "stdout",
     "output_type": "stream",
     "text": [
      "2622\n",
      "2622\n",
      "5244\n",
      "198\n"
     ]
    },
    {
     "data": {
      "text/plain": [
       "{'C1',\n",
       " 'C10',\n",
       " 'C11',\n",
       " 'C12',\n",
       " 'C13',\n",
       " 'C14',\n",
       " 'C2',\n",
       " 'C4',\n",
       " 'C5',\n",
       " 'C6',\n",
       " 'C7',\n",
       " 'C8',\n",
       " 'C9',\n",
       " 'D1',\n",
       " 'D10',\n",
       " 'D11',\n",
       " 'D15',\n",
       " 'D2',\n",
       " 'D4',\n",
       " 'M1',\n",
       " 'M2',\n",
       " 'M3',\n",
       " 'M4',\n",
       " 'M6',\n",
       " 'V10',\n",
       " 'V100',\n",
       " 'V101',\n",
       " 'V102',\n",
       " 'V103',\n",
       " 'V104',\n",
       " 'V105',\n",
       " 'V106',\n",
       " 'V108',\n",
       " 'V109',\n",
       " 'V11',\n",
       " 'V110',\n",
       " 'V111',\n",
       " 'V112',\n",
       " 'V113',\n",
       " 'V114',\n",
       " 'V115',\n",
       " 'V116',\n",
       " 'V117',\n",
       " 'V118',\n",
       " 'V119',\n",
       " 'V12',\n",
       " 'V120',\n",
       " 'V122',\n",
       " 'V123',\n",
       " 'V124',\n",
       " 'V125',\n",
       " 'V126',\n",
       " 'V127',\n",
       " 'V128',\n",
       " 'V129',\n",
       " 'V13',\n",
       " 'V130',\n",
       " 'V131',\n",
       " 'V132',\n",
       " 'V133',\n",
       " 'V134',\n",
       " 'V135',\n",
       " 'V136',\n",
       " 'V137',\n",
       " 'V14',\n",
       " 'V15',\n",
       " 'V16',\n",
       " 'V17',\n",
       " 'V18',\n",
       " 'V19',\n",
       " 'V2',\n",
       " 'V20',\n",
       " 'V21',\n",
       " 'V22',\n",
       " 'V23',\n",
       " 'V24',\n",
       " 'V25',\n",
       " 'V26',\n",
       " 'V27',\n",
       " 'V279',\n",
       " 'V28',\n",
       " 'V280',\n",
       " 'V282',\n",
       " 'V283',\n",
       " 'V284',\n",
       " 'V285',\n",
       " 'V287',\n",
       " 'V288',\n",
       " 'V289',\n",
       " 'V29',\n",
       " 'V290',\n",
       " 'V291',\n",
       " 'V292',\n",
       " 'V293',\n",
       " 'V294',\n",
       " 'V295',\n",
       " 'V296',\n",
       " 'V297',\n",
       " 'V298',\n",
       " 'V299',\n",
       " 'V3',\n",
       " 'V30',\n",
       " 'V300',\n",
       " 'V301',\n",
       " 'V302',\n",
       " 'V303',\n",
       " 'V304',\n",
       " 'V306',\n",
       " 'V307',\n",
       " 'V308',\n",
       " 'V309',\n",
       " 'V31',\n",
       " 'V310',\n",
       " 'V311',\n",
       " 'V312',\n",
       " 'V313',\n",
       " 'V314',\n",
       " 'V315',\n",
       " 'V316',\n",
       " 'V317',\n",
       " 'V318',\n",
       " 'V319',\n",
       " 'V32',\n",
       " 'V320',\n",
       " 'V321',\n",
       " 'V33',\n",
       " 'V34',\n",
       " 'V35',\n",
       " 'V36',\n",
       " 'V37',\n",
       " 'V38',\n",
       " 'V39',\n",
       " 'V4',\n",
       " 'V40',\n",
       " 'V41',\n",
       " 'V42',\n",
       " 'V43',\n",
       " 'V44',\n",
       " 'V45',\n",
       " 'V46',\n",
       " 'V47',\n",
       " 'V48',\n",
       " 'V49',\n",
       " 'V5',\n",
       " 'V50',\n",
       " 'V51',\n",
       " 'V52',\n",
       " 'V53',\n",
       " 'V54',\n",
       " 'V56',\n",
       " 'V57',\n",
       " 'V58',\n",
       " 'V59',\n",
       " 'V6',\n",
       " 'V60',\n",
       " 'V61',\n",
       " 'V62',\n",
       " 'V63',\n",
       " 'V64',\n",
       " 'V65',\n",
       " 'V66',\n",
       " 'V67',\n",
       " 'V68',\n",
       " 'V69',\n",
       " 'V7',\n",
       " 'V70',\n",
       " 'V71',\n",
       " 'V72',\n",
       " 'V73',\n",
       " 'V74',\n",
       " 'V75',\n",
       " 'V76',\n",
       " 'V77',\n",
       " 'V78',\n",
       " 'V79',\n",
       " 'V8',\n",
       " 'V80',\n",
       " 'V81',\n",
       " 'V82',\n",
       " 'V83',\n",
       " 'V84',\n",
       " 'V85',\n",
       " 'V86',\n",
       " 'V87',\n",
       " 'V88',\n",
       " 'V89',\n",
       " 'V9',\n",
       " 'V90',\n",
       " 'V91',\n",
       " 'V92',\n",
       " 'V93',\n",
       " 'V94',\n",
       " 'V95',\n",
       " 'V96',\n",
       " 'V97',\n",
       " 'V98',\n",
       " 'V99',\n",
       " 'card3'}"
      ]
     },
     "execution_count": 53,
     "metadata": {},
     "output_type": "execute_result"
    }
   ],
   "source": [
    "max_sorted_corrs_feats1 = [tup[0] for tup in max_sorted_corrs]\n",
    "max_sorted_corrs_feats2 = [tup[1] for tup in max_sorted_corrs]\n",
    "max_sorted_corrs_feats = max_sorted_corrs_feats1 + max_sorted_corrs_feats2\n",
    "set_max_sort_corrs_feats = set(max_sorted_corrs_feats)\n",
    "print(len(max_sorted_corrs_feats1))\n",
    "print(len(max_sorted_corrs_feats2))\n",
    "print(len(max_sorted_corrs_feats))\n",
    "print(len(set_max_sort_corrs_feats))\n",
    "set_max_sort_corrs_feats"
   ]
  },
  {
   "cell_type": "code",
   "execution_count": 54,
   "id": "7ccc0bec",
   "metadata": {
    "execution": {
     "iopub.execute_input": "2023-11-10T22:07:00.146885Z",
     "iopub.status.busy": "2023-11-10T22:07:00.145407Z",
     "iopub.status.idle": "2023-11-10T22:07:00.256838Z",
     "shell.execute_reply": "2023-11-10T22:07:00.255201Z"
    },
    "papermill": {
     "duration": 0.143035,
     "end_time": "2023-11-10T22:07:00.258837",
     "exception": false,
     "start_time": "2023-11-10T22:07:00.115802",
     "status": "completed"
    },
    "tags": []
   },
   "outputs": [
    {
     "data": {
      "text/html": [
       "<div>\n",
       "<style scoped>\n",
       "    .dataframe tbody tr th:only-of-type {\n",
       "        vertical-align: middle;\n",
       "    }\n",
       "\n",
       "    .dataframe tbody tr th {\n",
       "        vertical-align: top;\n",
       "    }\n",
       "\n",
       "    .dataframe thead th {\n",
       "        text-align: right;\n",
       "    }\n",
       "</style>\n",
       "<table border=\"1\" class=\"dataframe\">\n",
       "  <thead>\n",
       "    <tr style=\"text-align: right;\">\n",
       "      <th></th>\n",
       "      <th>TransactionID</th>\n",
       "      <th>TransactionDT</th>\n",
       "      <th>TransactionAmt</th>\n",
       "      <th>ProductCD</th>\n",
       "      <th>card1</th>\n",
       "      <th>card2</th>\n",
       "      <th>card4</th>\n",
       "      <th>card5</th>\n",
       "      <th>card6</th>\n",
       "      <th>addr1</th>\n",
       "      <th>...</th>\n",
       "      <th>P_emaildomain</th>\n",
       "      <th>C3</th>\n",
       "      <th>D3</th>\n",
       "      <th>V1</th>\n",
       "      <th>V55</th>\n",
       "      <th>V107</th>\n",
       "      <th>V121</th>\n",
       "      <th>V281</th>\n",
       "      <th>V286</th>\n",
       "      <th>V305</th>\n",
       "    </tr>\n",
       "  </thead>\n",
       "  <tbody>\n",
       "    <tr>\n",
       "      <th>84107</th>\n",
       "      <td>3071107</td>\n",
       "      <td>1795658</td>\n",
       "      <td>50.000000</td>\n",
       "      <td>1</td>\n",
       "      <td>12501</td>\n",
       "      <td>490.0</td>\n",
       "      <td>4</td>\n",
       "      <td>226.0</td>\n",
       "      <td>2</td>\n",
       "      <td>272.0</td>\n",
       "      <td>...</td>\n",
       "      <td>1</td>\n",
       "      <td>0.0</td>\n",
       "      <td>NaN</td>\n",
       "      <td>NaN</td>\n",
       "      <td>NaN</td>\n",
       "      <td>1.0</td>\n",
       "      <td>1.0</td>\n",
       "      <td>0.0</td>\n",
       "      <td>0.0</td>\n",
       "      <td>1.0</td>\n",
       "    </tr>\n",
       "    <tr>\n",
       "      <th>41410</th>\n",
       "      <td>3028410</td>\n",
       "      <td>1016056</td>\n",
       "      <td>52.820000</td>\n",
       "      <td>0</td>\n",
       "      <td>10086</td>\n",
       "      <td>500.0</td>\n",
       "      <td>2</td>\n",
       "      <td>224.0</td>\n",
       "      <td>1</td>\n",
       "      <td>511.0</td>\n",
       "      <td>...</td>\n",
       "      <td>1</td>\n",
       "      <td>0.0</td>\n",
       "      <td>NaN</td>\n",
       "      <td>NaN</td>\n",
       "      <td>1.0</td>\n",
       "      <td>1.0</td>\n",
       "      <td>1.0</td>\n",
       "      <td>0.0</td>\n",
       "      <td>0.0</td>\n",
       "      <td>1.0</td>\n",
       "    </tr>\n",
       "    <tr>\n",
       "      <th>476297</th>\n",
       "      <td>3463297</td>\n",
       "      <td>12331079</td>\n",
       "      <td>24.950001</td>\n",
       "      <td>4</td>\n",
       "      <td>13249</td>\n",
       "      <td>111.0</td>\n",
       "      <td>4</td>\n",
       "      <td>226.0</td>\n",
       "      <td>2</td>\n",
       "      <td>264.0</td>\n",
       "      <td>...</td>\n",
       "      <td>11</td>\n",
       "      <td>0.0</td>\n",
       "      <td>0.0</td>\n",
       "      <td>1.0</td>\n",
       "      <td>1.0</td>\n",
       "      <td>1.0</td>\n",
       "      <td>1.0</td>\n",
       "      <td>0.0</td>\n",
       "      <td>1.0</td>\n",
       "      <td>1.0</td>\n",
       "    </tr>\n",
       "    <tr>\n",
       "      <th>121290</th>\n",
       "      <td>3108290</td>\n",
       "      <td>2390146</td>\n",
       "      <td>15.858000</td>\n",
       "      <td>0</td>\n",
       "      <td>1976</td>\n",
       "      <td>545.0</td>\n",
       "      <td>4</td>\n",
       "      <td>102.0</td>\n",
       "      <td>1</td>\n",
       "      <td>NaN</td>\n",
       "      <td>...</td>\n",
       "      <td>54</td>\n",
       "      <td>0.0</td>\n",
       "      <td>NaN</td>\n",
       "      <td>NaN</td>\n",
       "      <td>1.0</td>\n",
       "      <td>1.0</td>\n",
       "      <td>1.0</td>\n",
       "      <td>0.0</td>\n",
       "      <td>0.0</td>\n",
       "      <td>1.0</td>\n",
       "    </tr>\n",
       "    <tr>\n",
       "      <th>150492</th>\n",
       "      <td>3137492</td>\n",
       "      <td>3100328</td>\n",
       "      <td>149.949997</td>\n",
       "      <td>4</td>\n",
       "      <td>2455</td>\n",
       "      <td>321.0</td>\n",
       "      <td>4</td>\n",
       "      <td>226.0</td>\n",
       "      <td>1</td>\n",
       "      <td>299.0</td>\n",
       "      <td>...</td>\n",
       "      <td>16</td>\n",
       "      <td>0.0</td>\n",
       "      <td>25.0</td>\n",
       "      <td>NaN</td>\n",
       "      <td>1.0</td>\n",
       "      <td>1.0</td>\n",
       "      <td>1.0</td>\n",
       "      <td>0.0</td>\n",
       "      <td>0.0</td>\n",
       "      <td>1.0</td>\n",
       "    </tr>\n",
       "    <tr>\n",
       "      <th>...</th>\n",
       "      <td>...</td>\n",
       "      <td>...</td>\n",
       "      <td>...</td>\n",
       "      <td>...</td>\n",
       "      <td>...</td>\n",
       "      <td>...</td>\n",
       "      <td>...</td>\n",
       "      <td>...</td>\n",
       "      <td>...</td>\n",
       "      <td>...</td>\n",
       "      <td>...</td>\n",
       "      <td>...</td>\n",
       "      <td>...</td>\n",
       "      <td>...</td>\n",
       "      <td>...</td>\n",
       "      <td>...</td>\n",
       "      <td>...</td>\n",
       "      <td>...</td>\n",
       "      <td>...</td>\n",
       "      <td>...</td>\n",
       "      <td>...</td>\n",
       "    </tr>\n",
       "    <tr>\n",
       "      <th>434398</th>\n",
       "      <td>3421398</td>\n",
       "      <td>10977015</td>\n",
       "      <td>87.000000</td>\n",
       "      <td>4</td>\n",
       "      <td>7919</td>\n",
       "      <td>194.0</td>\n",
       "      <td>2</td>\n",
       "      <td>166.0</td>\n",
       "      <td>2</td>\n",
       "      <td>191.0</td>\n",
       "      <td>...</td>\n",
       "      <td>16</td>\n",
       "      <td>0.0</td>\n",
       "      <td>0.0</td>\n",
       "      <td>1.0</td>\n",
       "      <td>1.0</td>\n",
       "      <td>1.0</td>\n",
       "      <td>1.0</td>\n",
       "      <td>0.0</td>\n",
       "      <td>0.0</td>\n",
       "      <td>1.0</td>\n",
       "    </tr>\n",
       "    <tr>\n",
       "      <th>303189</th>\n",
       "      <td>3290189</td>\n",
       "      <td>7503073</td>\n",
       "      <td>100.000000</td>\n",
       "      <td>2</td>\n",
       "      <td>7800</td>\n",
       "      <td>268.0</td>\n",
       "      <td>4</td>\n",
       "      <td>166.0</td>\n",
       "      <td>2</td>\n",
       "      <td>469.0</td>\n",
       "      <td>...</td>\n",
       "      <td>16</td>\n",
       "      <td>0.0</td>\n",
       "      <td>NaN</td>\n",
       "      <td>NaN</td>\n",
       "      <td>NaN</td>\n",
       "      <td>1.0</td>\n",
       "      <td>1.0</td>\n",
       "      <td>0.0</td>\n",
       "      <td>0.0</td>\n",
       "      <td>1.0</td>\n",
       "    </tr>\n",
       "    <tr>\n",
       "      <th>19986</th>\n",
       "      <td>3006986</td>\n",
       "      <td>517115</td>\n",
       "      <td>25.000000</td>\n",
       "      <td>4</td>\n",
       "      <td>6933</td>\n",
       "      <td>477.0</td>\n",
       "      <td>2</td>\n",
       "      <td>117.0</td>\n",
       "      <td>2</td>\n",
       "      <td>204.0</td>\n",
       "      <td>...</td>\n",
       "      <td>1</td>\n",
       "      <td>0.0</td>\n",
       "      <td>0.0</td>\n",
       "      <td>NaN</td>\n",
       "      <td>1.0</td>\n",
       "      <td>1.0</td>\n",
       "      <td>1.0</td>\n",
       "      <td>0.0</td>\n",
       "      <td>0.0</td>\n",
       "      <td>1.0</td>\n",
       "    </tr>\n",
       "    <tr>\n",
       "      <th>446808</th>\n",
       "      <td>3433808</td>\n",
       "      <td>11381752</td>\n",
       "      <td>7.000000</td>\n",
       "      <td>4</td>\n",
       "      <td>9500</td>\n",
       "      <td>321.0</td>\n",
       "      <td>4</td>\n",
       "      <td>226.0</td>\n",
       "      <td>2</td>\n",
       "      <td>204.0</td>\n",
       "      <td>...</td>\n",
       "      <td>54</td>\n",
       "      <td>0.0</td>\n",
       "      <td>0.0</td>\n",
       "      <td>1.0</td>\n",
       "      <td>1.0</td>\n",
       "      <td>1.0</td>\n",
       "      <td>1.0</td>\n",
       "      <td>0.0</td>\n",
       "      <td>0.0</td>\n",
       "      <td>1.0</td>\n",
       "    </tr>\n",
       "    <tr>\n",
       "      <th>404915</th>\n",
       "      <td>3391915</td>\n",
       "      <td>10224344</td>\n",
       "      <td>57.950001</td>\n",
       "      <td>4</td>\n",
       "      <td>4436</td>\n",
       "      <td>174.0</td>\n",
       "      <td>4</td>\n",
       "      <td>226.0</td>\n",
       "      <td>2</td>\n",
       "      <td>184.0</td>\n",
       "      <td>...</td>\n",
       "      <td>54</td>\n",
       "      <td>0.0</td>\n",
       "      <td>NaN</td>\n",
       "      <td>NaN</td>\n",
       "      <td>1.0</td>\n",
       "      <td>1.0</td>\n",
       "      <td>1.0</td>\n",
       "      <td>0.0</td>\n",
       "      <td>0.0</td>\n",
       "      <td>1.0</td>\n",
       "    </tr>\n",
       "  </tbody>\n",
       "</table>\n",
       "<p>413378 rows × 21 columns</p>\n",
       "</div>"
      ],
      "text/plain": [
       "        TransactionID  TransactionDT  TransactionAmt  ProductCD  card1  card2  \\\n",
       "84107         3071107        1795658       50.000000          1  12501  490.0   \n",
       "41410         3028410        1016056       52.820000          0  10086  500.0   \n",
       "476297        3463297       12331079       24.950001          4  13249  111.0   \n",
       "121290        3108290        2390146       15.858000          0   1976  545.0   \n",
       "150492        3137492        3100328      149.949997          4   2455  321.0   \n",
       "...               ...            ...             ...        ...    ...    ...   \n",
       "434398        3421398       10977015       87.000000          4   7919  194.0   \n",
       "303189        3290189        7503073      100.000000          2   7800  268.0   \n",
       "19986         3006986         517115       25.000000          4   6933  477.0   \n",
       "446808        3433808       11381752        7.000000          4   9500  321.0   \n",
       "404915        3391915       10224344       57.950001          4   4436  174.0   \n",
       "\n",
       "        card4  card5  card6  addr1  ...  P_emaildomain   C3    D3   V1  V55  \\\n",
       "84107       4  226.0      2  272.0  ...              1  0.0   NaN  NaN  NaN   \n",
       "41410       2  224.0      1  511.0  ...              1  0.0   NaN  NaN  1.0   \n",
       "476297      4  226.0      2  264.0  ...             11  0.0   0.0  1.0  1.0   \n",
       "121290      4  102.0      1    NaN  ...             54  0.0   NaN  NaN  1.0   \n",
       "150492      4  226.0      1  299.0  ...             16  0.0  25.0  NaN  1.0   \n",
       "...       ...    ...    ...    ...  ...            ...  ...   ...  ...  ...   \n",
       "434398      2  166.0      2  191.0  ...             16  0.0   0.0  1.0  1.0   \n",
       "303189      4  166.0      2  469.0  ...             16  0.0   NaN  NaN  NaN   \n",
       "19986       2  117.0      2  204.0  ...              1  0.0   0.0  NaN  1.0   \n",
       "446808      4  226.0      2  204.0  ...             54  0.0   0.0  1.0  1.0   \n",
       "404915      4  226.0      2  184.0  ...             54  0.0   NaN  NaN  1.0   \n",
       "\n",
       "        V107  V121  V281  V286  V305  \n",
       "84107    1.0   1.0   0.0   0.0   1.0  \n",
       "41410    1.0   1.0   0.0   0.0   1.0  \n",
       "476297   1.0   1.0   0.0   1.0   1.0  \n",
       "121290   1.0   1.0   0.0   0.0   1.0  \n",
       "150492   1.0   1.0   0.0   0.0   1.0  \n",
       "...      ...   ...   ...   ...   ...  \n",
       "434398   1.0   1.0   0.0   0.0   1.0  \n",
       "303189   1.0   1.0   0.0   0.0   1.0  \n",
       "19986    1.0   1.0   0.0   0.0   1.0  \n",
       "446808   1.0   1.0   0.0   0.0   1.0  \n",
       "404915   1.0   1.0   0.0   0.0   1.0  \n",
       "\n",
       "[413378 rows x 21 columns]"
      ]
     },
     "execution_count": 54,
     "metadata": {},
     "output_type": "execute_result"
    }
   ],
   "source": [
    "X_train = X_train.drop(columns=list(set_max_sort_corrs_feats))\n",
    "X_train"
   ]
  },
  {
   "cell_type": "code",
   "execution_count": 55,
   "id": "4bdd48f4",
   "metadata": {
    "execution": {
     "iopub.execute_input": "2023-11-10T22:07:00.315622Z",
     "iopub.status.busy": "2023-11-10T22:07:00.315232Z",
     "iopub.status.idle": "2023-11-10T22:07:00.380129Z",
     "shell.execute_reply": "2023-11-10T22:07:00.379223Z"
    },
    "papermill": {
     "duration": 0.095778,
     "end_time": "2023-11-10T22:07:00.381917",
     "exception": false,
     "start_time": "2023-11-10T22:07:00.286139",
     "status": "completed"
    },
    "tags": []
   },
   "outputs": [
    {
     "data": {
      "text/html": [
       "<div>\n",
       "<style scoped>\n",
       "    .dataframe tbody tr th:only-of-type {\n",
       "        vertical-align: middle;\n",
       "    }\n",
       "\n",
       "    .dataframe tbody tr th {\n",
       "        vertical-align: top;\n",
       "    }\n",
       "\n",
       "    .dataframe thead th {\n",
       "        text-align: right;\n",
       "    }\n",
       "</style>\n",
       "<table border=\"1\" class=\"dataframe\">\n",
       "  <thead>\n",
       "    <tr style=\"text-align: right;\">\n",
       "      <th></th>\n",
       "      <th>TransactionID</th>\n",
       "      <th>TransactionDT</th>\n",
       "      <th>TransactionAmt</th>\n",
       "      <th>ProductCD</th>\n",
       "      <th>card1</th>\n",
       "      <th>card2</th>\n",
       "      <th>card4</th>\n",
       "      <th>card5</th>\n",
       "      <th>card6</th>\n",
       "      <th>addr1</th>\n",
       "      <th>...</th>\n",
       "      <th>P_emaildomain</th>\n",
       "      <th>C3</th>\n",
       "      <th>D3</th>\n",
       "      <th>V1</th>\n",
       "      <th>V55</th>\n",
       "      <th>V107</th>\n",
       "      <th>V121</th>\n",
       "      <th>V281</th>\n",
       "      <th>V286</th>\n",
       "      <th>V305</th>\n",
       "    </tr>\n",
       "  </thead>\n",
       "  <tbody>\n",
       "    <tr>\n",
       "      <th>504332</th>\n",
       "      <td>3491332</td>\n",
       "      <td>13207071</td>\n",
       "      <td>29.000000</td>\n",
       "      <td>4</td>\n",
       "      <td>1342</td>\n",
       "      <td>514.0</td>\n",
       "      <td>2</td>\n",
       "      <td>224.0</td>\n",
       "      <td>2</td>\n",
       "      <td>325.0</td>\n",
       "      <td>...</td>\n",
       "      <td>54</td>\n",
       "      <td>0.0</td>\n",
       "      <td>5.0</td>\n",
       "      <td>1.0</td>\n",
       "      <td>1.0</td>\n",
       "      <td>1.0</td>\n",
       "      <td>1.0</td>\n",
       "      <td>0.0</td>\n",
       "      <td>0.0</td>\n",
       "      <td>1.0</td>\n",
       "    </tr>\n",
       "    <tr>\n",
       "      <th>104710</th>\n",
       "      <td>3091710</td>\n",
       "      <td>2075733</td>\n",
       "      <td>554.000000</td>\n",
       "      <td>4</td>\n",
       "      <td>11204</td>\n",
       "      <td>298.0</td>\n",
       "      <td>4</td>\n",
       "      <td>226.0</td>\n",
       "      <td>2</td>\n",
       "      <td>272.0</td>\n",
       "      <td>...</td>\n",
       "      <td>1</td>\n",
       "      <td>0.0</td>\n",
       "      <td>0.0</td>\n",
       "      <td>1.0</td>\n",
       "      <td>1.0</td>\n",
       "      <td>1.0</td>\n",
       "      <td>1.0</td>\n",
       "      <td>0.0</td>\n",
       "      <td>0.0</td>\n",
       "      <td>1.0</td>\n",
       "    </tr>\n",
       "    <tr>\n",
       "      <th>576238</th>\n",
       "      <td>3563238</td>\n",
       "      <td>15304373</td>\n",
       "      <td>171.000000</td>\n",
       "      <td>4</td>\n",
       "      <td>15185</td>\n",
       "      <td>332.0</td>\n",
       "      <td>4</td>\n",
       "      <td>226.0</td>\n",
       "      <td>2</td>\n",
       "      <td>264.0</td>\n",
       "      <td>...</td>\n",
       "      <td>3</td>\n",
       "      <td>0.0</td>\n",
       "      <td>113.0</td>\n",
       "      <td>NaN</td>\n",
       "      <td>1.0</td>\n",
       "      <td>1.0</td>\n",
       "      <td>1.0</td>\n",
       "      <td>0.0</td>\n",
       "      <td>0.0</td>\n",
       "      <td>1.0</td>\n",
       "    </tr>\n",
       "    <tr>\n",
       "      <th>408863</th>\n",
       "      <td>3395863</td>\n",
       "      <td>10338791</td>\n",
       "      <td>34.000000</td>\n",
       "      <td>4</td>\n",
       "      <td>7919</td>\n",
       "      <td>194.0</td>\n",
       "      <td>2</td>\n",
       "      <td>166.0</td>\n",
       "      <td>2</td>\n",
       "      <td>264.0</td>\n",
       "      <td>...</td>\n",
       "      <td>54</td>\n",
       "      <td>0.0</td>\n",
       "      <td>116.0</td>\n",
       "      <td>1.0</td>\n",
       "      <td>1.0</td>\n",
       "      <td>1.0</td>\n",
       "      <td>1.0</td>\n",
       "      <td>0.0</td>\n",
       "      <td>0.0</td>\n",
       "      <td>1.0</td>\n",
       "    </tr>\n",
       "    <tr>\n",
       "      <th>13669</th>\n",
       "      <td>3000669</td>\n",
       "      <td>400633</td>\n",
       "      <td>516.950012</td>\n",
       "      <td>4</td>\n",
       "      <td>7283</td>\n",
       "      <td>555.0</td>\n",
       "      <td>2</td>\n",
       "      <td>117.0</td>\n",
       "      <td>2</td>\n",
       "      <td>126.0</td>\n",
       "      <td>...</td>\n",
       "      <td>16</td>\n",
       "      <td>0.0</td>\n",
       "      <td>0.0</td>\n",
       "      <td>NaN</td>\n",
       "      <td>1.0</td>\n",
       "      <td>1.0</td>\n",
       "      <td>1.0</td>\n",
       "      <td>1.0</td>\n",
       "      <td>1.0</td>\n",
       "      <td>1.0</td>\n",
       "    </tr>\n",
       "    <tr>\n",
       "      <th>...</th>\n",
       "      <td>...</td>\n",
       "      <td>...</td>\n",
       "      <td>...</td>\n",
       "      <td>...</td>\n",
       "      <td>...</td>\n",
       "      <td>...</td>\n",
       "      <td>...</td>\n",
       "      <td>...</td>\n",
       "      <td>...</td>\n",
       "      <td>...</td>\n",
       "      <td>...</td>\n",
       "      <td>...</td>\n",
       "      <td>...</td>\n",
       "      <td>...</td>\n",
       "      <td>...</td>\n",
       "      <td>...</td>\n",
       "      <td>...</td>\n",
       "      <td>...</td>\n",
       "      <td>...</td>\n",
       "      <td>...</td>\n",
       "      <td>...</td>\n",
       "    </tr>\n",
       "    <tr>\n",
       "      <th>464832</th>\n",
       "      <td>3451832</td>\n",
       "      <td>11972834</td>\n",
       "      <td>107.949997</td>\n",
       "      <td>4</td>\n",
       "      <td>2803</td>\n",
       "      <td>100.0</td>\n",
       "      <td>4</td>\n",
       "      <td>226.0</td>\n",
       "      <td>2</td>\n",
       "      <td>205.0</td>\n",
       "      <td>...</td>\n",
       "      <td>16</td>\n",
       "      <td>0.0</td>\n",
       "      <td>3.0</td>\n",
       "      <td>1.0</td>\n",
       "      <td>1.0</td>\n",
       "      <td>1.0</td>\n",
       "      <td>1.0</td>\n",
       "      <td>0.0</td>\n",
       "      <td>0.0</td>\n",
       "      <td>1.0</td>\n",
       "    </tr>\n",
       "    <tr>\n",
       "      <th>117495</th>\n",
       "      <td>3104495</td>\n",
       "      <td>2300665</td>\n",
       "      <td>42.950001</td>\n",
       "      <td>4</td>\n",
       "      <td>7078</td>\n",
       "      <td>479.0</td>\n",
       "      <td>4</td>\n",
       "      <td>226.0</td>\n",
       "      <td>2</td>\n",
       "      <td>143.0</td>\n",
       "      <td>...</td>\n",
       "      <td>16</td>\n",
       "      <td>0.0</td>\n",
       "      <td>1.0</td>\n",
       "      <td>1.0</td>\n",
       "      <td>1.0</td>\n",
       "      <td>1.0</td>\n",
       "      <td>1.0</td>\n",
       "      <td>0.0</td>\n",
       "      <td>0.0</td>\n",
       "      <td>1.0</td>\n",
       "    </tr>\n",
       "    <tr>\n",
       "      <th>258416</th>\n",
       "      <td>3245416</td>\n",
       "      <td>6202164</td>\n",
       "      <td>200.000000</td>\n",
       "      <td>2</td>\n",
       "      <td>15005</td>\n",
       "      <td>555.0</td>\n",
       "      <td>4</td>\n",
       "      <td>226.0</td>\n",
       "      <td>1</td>\n",
       "      <td>420.0</td>\n",
       "      <td>...</td>\n",
       "      <td>1</td>\n",
       "      <td>0.0</td>\n",
       "      <td>NaN</td>\n",
       "      <td>NaN</td>\n",
       "      <td>NaN</td>\n",
       "      <td>1.0</td>\n",
       "      <td>1.0</td>\n",
       "      <td>0.0</td>\n",
       "      <td>0.0</td>\n",
       "      <td>1.0</td>\n",
       "    </tr>\n",
       "    <tr>\n",
       "      <th>199131</th>\n",
       "      <td>3186131</td>\n",
       "      <td>4499928</td>\n",
       "      <td>35.950001</td>\n",
       "      <td>4</td>\n",
       "      <td>9049</td>\n",
       "      <td>543.0</td>\n",
       "      <td>2</td>\n",
       "      <td>224.0</td>\n",
       "      <td>2</td>\n",
       "      <td>204.0</td>\n",
       "      <td>...</td>\n",
       "      <td>54</td>\n",
       "      <td>0.0</td>\n",
       "      <td>45.0</td>\n",
       "      <td>NaN</td>\n",
       "      <td>1.0</td>\n",
       "      <td>1.0</td>\n",
       "      <td>1.0</td>\n",
       "      <td>0.0</td>\n",
       "      <td>0.0</td>\n",
       "      <td>1.0</td>\n",
       "    </tr>\n",
       "    <tr>\n",
       "      <th>55609</th>\n",
       "      <td>3042609</td>\n",
       "      <td>1290540</td>\n",
       "      <td>50.000000</td>\n",
       "      <td>2</td>\n",
       "      <td>9500</td>\n",
       "      <td>321.0</td>\n",
       "      <td>4</td>\n",
       "      <td>226.0</td>\n",
       "      <td>2</td>\n",
       "      <td>204.0</td>\n",
       "      <td>...</td>\n",
       "      <td>16</td>\n",
       "      <td>0.0</td>\n",
       "      <td>NaN</td>\n",
       "      <td>NaN</td>\n",
       "      <td>NaN</td>\n",
       "      <td>1.0</td>\n",
       "      <td>1.0</td>\n",
       "      <td>0.0</td>\n",
       "      <td>0.0</td>\n",
       "      <td>1.0</td>\n",
       "    </tr>\n",
       "  </tbody>\n",
       "</table>\n",
       "<p>177162 rows × 21 columns</p>\n",
       "</div>"
      ],
      "text/plain": [
       "        TransactionID  TransactionDT  TransactionAmt  ProductCD  card1  card2  \\\n",
       "504332        3491332       13207071       29.000000          4   1342  514.0   \n",
       "104710        3091710        2075733      554.000000          4  11204  298.0   \n",
       "576238        3563238       15304373      171.000000          4  15185  332.0   \n",
       "408863        3395863       10338791       34.000000          4   7919  194.0   \n",
       "13669         3000669         400633      516.950012          4   7283  555.0   \n",
       "...               ...            ...             ...        ...    ...    ...   \n",
       "464832        3451832       11972834      107.949997          4   2803  100.0   \n",
       "117495        3104495        2300665       42.950001          4   7078  479.0   \n",
       "258416        3245416        6202164      200.000000          2  15005  555.0   \n",
       "199131        3186131        4499928       35.950001          4   9049  543.0   \n",
       "55609         3042609        1290540       50.000000          2   9500  321.0   \n",
       "\n",
       "        card4  card5  card6  addr1  ...  P_emaildomain   C3     D3   V1  V55  \\\n",
       "504332      2  224.0      2  325.0  ...             54  0.0    5.0  1.0  1.0   \n",
       "104710      4  226.0      2  272.0  ...              1  0.0    0.0  1.0  1.0   \n",
       "576238      4  226.0      2  264.0  ...              3  0.0  113.0  NaN  1.0   \n",
       "408863      2  166.0      2  264.0  ...             54  0.0  116.0  1.0  1.0   \n",
       "13669       2  117.0      2  126.0  ...             16  0.0    0.0  NaN  1.0   \n",
       "...       ...    ...    ...    ...  ...            ...  ...    ...  ...  ...   \n",
       "464832      4  226.0      2  205.0  ...             16  0.0    3.0  1.0  1.0   \n",
       "117495      4  226.0      2  143.0  ...             16  0.0    1.0  1.0  1.0   \n",
       "258416      4  226.0      1  420.0  ...              1  0.0    NaN  NaN  NaN   \n",
       "199131      2  224.0      2  204.0  ...             54  0.0   45.0  NaN  1.0   \n",
       "55609       4  226.0      2  204.0  ...             16  0.0    NaN  NaN  NaN   \n",
       "\n",
       "        V107  V121  V281  V286  V305  \n",
       "504332   1.0   1.0   0.0   0.0   1.0  \n",
       "104710   1.0   1.0   0.0   0.0   1.0  \n",
       "576238   1.0   1.0   0.0   0.0   1.0  \n",
       "408863   1.0   1.0   0.0   0.0   1.0  \n",
       "13669    1.0   1.0   1.0   1.0   1.0  \n",
       "...      ...   ...   ...   ...   ...  \n",
       "464832   1.0   1.0   0.0   0.0   1.0  \n",
       "117495   1.0   1.0   0.0   0.0   1.0  \n",
       "258416   1.0   1.0   0.0   0.0   1.0  \n",
       "199131   1.0   1.0   0.0   0.0   1.0  \n",
       "55609    1.0   1.0   0.0   0.0   1.0  \n",
       "\n",
       "[177162 rows x 21 columns]"
      ]
     },
     "execution_count": 55,
     "metadata": {},
     "output_type": "execute_result"
    }
   ],
   "source": [
    "X_valid = X_valid.drop(columns=list(set_max_sort_corrs_feats))\n",
    "X_valid"
   ]
  },
  {
   "cell_type": "markdown",
   "id": "6d48e01b",
   "metadata": {
    "papermill": {
     "duration": 0.028097,
     "end_time": "2023-11-10T22:07:00.438961",
     "exception": false,
     "start_time": "2023-11-10T22:07:00.410864",
     "status": "completed"
    },
    "tags": []
   },
   "source": [
    "Ещё раз проверим корреляцию признаков по карте корреляции"
   ]
  },
  {
   "cell_type": "code",
   "execution_count": 56,
   "id": "97c11abc",
   "metadata": {
    "execution": {
     "iopub.execute_input": "2023-11-10T22:07:00.496733Z",
     "iopub.status.busy": "2023-11-10T22:07:00.496323Z",
     "iopub.status.idle": "2023-11-10T22:07:01.384357Z",
     "shell.execute_reply": "2023-11-10T22:07:01.383590Z"
    },
    "papermill": {
     "duration": 0.919474,
     "end_time": "2023-11-10T22:07:01.386297",
     "exception": false,
     "start_time": "2023-11-10T22:07:00.466823",
     "status": "completed"
    },
    "tags": []
   },
   "outputs": [
    {
     "data": {
      "text/plain": [
       "<Axes: >"
      ]
     },
     "execution_count": 56,
     "metadata": {},
     "output_type": "execute_result"
    },
    {
     "data": {
      "image/png": "[encoded data removed]",
      "text/plain": [
       "<Figure size 1300x1000 with 2 Axes>"
      ]
     },
     "metadata": {},
     "output_type": "display_data"
    }
   ],
   "source": [
    "plt.figure(figsize=(13,10))\n",
    "sns.heatmap(X_train.corr(), \n",
    "           xticklabels=X_train.columns, \n",
    "           yticklabels=X_train.columns)"
   ]
  },
  {
   "cell_type": "markdown",
   "id": "07b3355a",
   "metadata": {
    "papermill": {
     "duration": 0.029941,
     "end_time": "2023-11-10T22:07:01.447654",
     "exception": false,
     "start_time": "2023-11-10T22:07:01.417713",
     "status": "completed"
    },
    "tags": []
   },
   "source": [
    "Видим, что в датасете остались только слабо кореллированные признаки"
   ]
  },
  {
   "cell_type": "markdown",
   "id": "32f9395e",
   "metadata": {
    "papermill": {
     "duration": 0.030184,
     "end_time": "2023-11-10T22:07:01.508130",
     "exception": false,
     "start_time": "2023-11-10T22:07:01.477946",
     "status": "completed"
    },
    "tags": []
   },
   "source": [
    "#### Построим гистограмму распределения транзакционных платежей (TransactionAMT)"
   ]
  },
  {
   "cell_type": "markdown",
   "id": "45a683a8",
   "metadata": {
    "papermill": {
     "duration": 0.029161,
     "end_time": "2023-11-10T22:07:01.567145",
     "exception": false,
     "start_time": "2023-11-10T22:07:01.537984",
     "status": "completed"
    },
    "tags": []
   },
   "source": [
    "Напишем функцию для построения гистограммы:"
   ]
  },
  {
   "cell_type": "code",
   "execution_count": 57,
   "id": "77026be4",
   "metadata": {
    "execution": {
     "iopub.execute_input": "2023-11-10T22:07:01.628292Z",
     "iopub.status.busy": "2023-11-10T22:07:01.627669Z",
     "iopub.status.idle": "2023-11-10T22:07:01.633287Z",
     "shell.execute_reply": "2023-11-10T22:07:01.632183Z"
    },
    "papermill": {
     "duration": 0.038395,
     "end_time": "2023-11-10T22:07:01.635127",
     "exception": false,
     "start_time": "2023-11-10T22:07:01.596732",
     "status": "completed"
    },
    "tags": []
   },
   "outputs": [],
   "source": [
    "def plt_hist(df, feature, bins=150):\n",
    "    plt.figure(figsize=(8,8))\n",
    "    plt.hist(df[feature], bins=bins, edgecolor='black')\n",
    "    plt.xlabel(feature)\n",
    "    plt.ylabel('Count')\n",
    "    plt.title('Distribution of {}'.format(feature))\n",
    "    plt.show()"
   ]
  },
  {
   "cell_type": "code",
   "execution_count": 58,
   "id": "b8d81491",
   "metadata": {
    "execution": {
     "iopub.execute_input": "2023-11-10T22:07:01.695771Z",
     "iopub.status.busy": "2023-11-10T22:07:01.695397Z",
     "iopub.status.idle": "2023-11-10T22:07:02.064686Z",
     "shell.execute_reply": "2023-11-10T22:07:02.063704Z"
    },
    "papermill": {
     "duration": 0.401455,
     "end_time": "2023-11-10T22:07:02.066469",
     "exception": false,
     "start_time": "2023-11-10T22:07:01.665014",
     "status": "completed"
    },
    "tags": []
   },
   "outputs": [
    {
     "data": {
      "image/png": "[encoded data removed]",
      "text/plain": [
       "<Figure size 800x800 with 1 Axes>"
      ]
     },
     "metadata": {},
     "output_type": "display_data"
    }
   ],
   "source": [
    "plt_hist(train_df, 'TransactionAmt')"
   ]
  },
  {
   "cell_type": "markdown",
   "id": "0b470c5e",
   "metadata": {
    "papermill": {
     "duration": 0.028495,
     "end_time": "2023-11-10T22:07:02.123770",
     "exception": false,
     "start_time": "2023-11-10T22:07:02.095275",
     "status": "completed"
    },
    "tags": []
   },
   "source": [
    "#### Здесь виден явный выброс в данных"
   ]
  },
  {
   "cell_type": "markdown",
   "id": "3964c3d4",
   "metadata": {
    "papermill": {
     "duration": 0.03001,
     "end_time": "2023-11-10T22:07:02.183001",
     "exception": false,
     "start_time": "2023-11-10T22:07:02.152991",
     "status": "completed"
    },
    "tags": []
   },
   "source": [
    "Посмотрим на статистики этого признака"
   ]
  },
  {
   "cell_type": "code",
   "execution_count": 59,
   "id": "dd66fc94",
   "metadata": {
    "execution": {
     "iopub.execute_input": "2023-11-10T22:07:02.245365Z",
     "iopub.status.busy": "2023-11-10T22:07:02.245044Z",
     "iopub.status.idle": "2023-11-10T22:07:02.275198Z",
     "shell.execute_reply": "2023-11-10T22:07:02.273957Z"
    },
    "papermill": {
     "duration": 0.064311,
     "end_time": "2023-11-10T22:07:02.277284",
     "exception": false,
     "start_time": "2023-11-10T22:07:02.212973",
     "status": "completed"
    },
    "tags": []
   },
   "outputs": [
    {
     "data": {
      "text/plain": [
       "count    590540.000000\n",
       "mean        135.027161\n",
       "std         239.162521\n",
       "min           0.251000\n",
       "25%          43.320999\n",
       "50%          68.769001\n",
       "75%         125.000000\n",
       "max       31937.390625\n",
       "Name: TransactionAmt, dtype: float64"
      ]
     },
     "execution_count": 59,
     "metadata": {},
     "output_type": "execute_result"
    }
   ],
   "source": [
    "train_df['TransactionAmt'].describe()"
   ]
  },
  {
   "cell_type": "markdown",
   "id": "e909abc5",
   "metadata": {
    "papermill": {
     "duration": 0.030938,
     "end_time": "2023-11-10T22:07:02.338823",
     "exception": false,
     "start_time": "2023-11-10T22:07:02.307885",
     "status": "completed"
    },
    "tags": []
   },
   "source": [
    "Посмотрим на топ 10 самых больших значений этого столбца"
   ]
  },
  {
   "cell_type": "code",
   "execution_count": 60,
   "id": "e669659c",
   "metadata": {
    "execution": {
     "iopub.execute_input": "2023-11-10T22:07:02.400121Z",
     "iopub.status.busy": "2023-11-10T22:07:02.399748Z",
     "iopub.status.idle": "2023-11-10T22:07:02.465134Z",
     "shell.execute_reply": "2023-11-10T22:07:02.464184Z"
    },
    "papermill": {
     "duration": 0.09875,
     "end_time": "2023-11-10T22:07:02.467350",
     "exception": false,
     "start_time": "2023-11-10T22:07:02.368600",
     "status": "completed"
    },
    "tags": []
   },
   "outputs": [
    {
     "data": {
      "text/plain": [
       "315172     5279.950195\n",
       "462514     5279.950195\n",
       "584767     5366.819824\n",
       "275535     5420.000000\n",
       "275529     5420.000000\n",
       "384603     5543.229980\n",
       "248413     6085.229980\n",
       "296021     6450.970215\n",
       "274336    31937.390625\n",
       "274339    31937.390625\n",
       "Name: TransactionAmt, dtype: float32"
      ]
     },
     "execution_count": 60,
     "metadata": {},
     "output_type": "execute_result"
    }
   ],
   "source": [
    "train_df['TransactionAmt'].dropna().sort_values().tail(10)"
   ]
  },
  {
   "cell_type": "markdown",
   "id": "3e983634",
   "metadata": {
    "papermill": {
     "duration": 0.029658,
     "end_time": "2023-11-10T22:07:02.527054",
     "exception": false,
     "start_time": "2023-11-10T22:07:02.497396",
     "status": "completed"
    },
    "tags": []
   },
   "source": [
    "Выведем график ```boxplot```, чтобы убедиться, что эти значения похожи на выбросы"
   ]
  },
  {
   "cell_type": "markdown",
   "id": "fcbc581c",
   "metadata": {
    "papermill": {
     "duration": 0.02909,
     "end_time": "2023-11-10T22:07:02.585723",
     "exception": false,
     "start_time": "2023-11-10T22:07:02.556633",
     "status": "completed"
    },
    "tags": []
   },
   "source": [
    "Напишем функцию для построения диаграммы размаха:"
   ]
  },
  {
   "cell_type": "code",
   "execution_count": 61,
   "id": "5c20fd27",
   "metadata": {
    "execution": {
     "iopub.execute_input": "2023-11-10T22:07:02.646689Z",
     "iopub.status.busy": "2023-11-10T22:07:02.645954Z",
     "iopub.status.idle": "2023-11-10T22:07:02.651643Z",
     "shell.execute_reply": "2023-11-10T22:07:02.650593Z"
    },
    "papermill": {
     "duration": 0.038656,
     "end_time": "2023-11-10T22:07:02.653544",
     "exception": false,
     "start_time": "2023-11-10T22:07:02.614888",
     "status": "completed"
    },
    "tags": []
   },
   "outputs": [],
   "source": [
    "def plt_boxplot(df, feature):\n",
    "    plt.figure(figsize=(10,3))\n",
    "    sns.boxplot(x=df[feature])\n",
    "    plt.title('Диаграмма размаха платежей')\n",
    "    plt.xlabel(feature)\n",
    "    plt.show()"
   ]
  },
  {
   "cell_type": "code",
   "execution_count": 62,
   "id": "086ebd5f",
   "metadata": {
    "execution": {
     "iopub.execute_input": "2023-11-10T22:07:02.714803Z",
     "iopub.status.busy": "2023-11-10T22:07:02.714175Z",
     "iopub.status.idle": "2023-11-10T22:07:02.988279Z",
     "shell.execute_reply": "2023-11-10T22:07:02.986706Z"
    },
    "papermill": {
     "duration": 0.307768,
     "end_time": "2023-11-10T22:07:02.991033",
     "exception": false,
     "start_time": "2023-11-10T22:07:02.683265",
     "status": "completed"
    },
    "tags": []
   },
   "outputs": [
    {
     "data": {
      "image/png": "[encoded data removed]",
      "text/plain": [
       "<Figure size 1000x300 with 1 Axes>"
      ]
     },
     "metadata": {},
     "output_type": "display_data"
    }
   ],
   "source": [
    "plt_boxplot(train_df, 'TransactionAmt')"
   ]
  },
  {
   "cell_type": "markdown",
   "id": "4511cef2",
   "metadata": {
    "papermill": {
     "duration": 0.031427,
     "end_time": "2023-11-10T22:07:03.053280",
     "exception": false,
     "start_time": "2023-11-10T22:07:03.021853",
     "status": "completed"
    },
    "tags": []
   },
   "source": [
    "#### Избавимся от выбросов"
   ]
  },
  {
   "cell_type": "markdown",
   "id": "183b7987",
   "metadata": {
    "papermill": {
     "duration": 0.028958,
     "end_time": "2023-11-10T22:07:03.112016",
     "exception": false,
     "start_time": "2023-11-10T22:07:03.083058",
     "status": "completed"
    },
    "tags": []
   },
   "source": [
    "Напишем функцию для того, чтобы отделить данные от выбросов"
   ]
  },
  {
   "cell_type": "code",
   "execution_count": 63,
   "id": "22c4dfdc",
   "metadata": {
    "execution": {
     "iopub.execute_input": "2023-11-10T22:07:03.171992Z",
     "iopub.status.busy": "2023-11-10T22:07:03.171653Z",
     "iopub.status.idle": "2023-11-10T22:07:03.178391Z",
     "shell.execute_reply": "2023-11-10T22:07:03.177101Z"
    },
    "papermill": {
     "duration": 0.040235,
     "end_time": "2023-11-10T22:07:03.181247",
     "exception": false,
     "start_time": "2023-11-10T22:07:03.141012",
     "status": "completed"
    },
    "tags": []
   },
   "outputs": [],
   "source": [
    "def data_without_feat_emsns(df, feature):\n",
    "    first_qrt = df[feature].describe()['25%']\n",
    "    third_qrt = df[feature].describe()['75%']\n",
    "    iqr = third_qrt - first_qrt\n",
    "    \n",
    "    condition = (df[feature] > (first_qrt - 3 * iqr)) & \\\n",
    "    (df[feature] < (third_qrt + 3 * iqr))\n",
    "    \n",
    "    df = df[condition]\n",
    "    return df"
   ]
  },
  {
   "cell_type": "markdown",
   "id": "94c06a58",
   "metadata": {
    "papermill": {
     "duration": 0.031587,
     "end_time": "2023-11-10T22:07:03.244626",
     "exception": false,
     "start_time": "2023-11-10T22:07:03.213039",
     "status": "completed"
    },
    "tags": []
   },
   "source": [
    "Применим созданную функцию к нашим данным, отфильтровав строки, не являющиеся выбросами"
   ]
  },
  {
   "cell_type": "code",
   "execution_count": 64,
   "id": "10624221",
   "metadata": {
    "execution": {
     "iopub.execute_input": "2023-11-10T22:07:03.307859Z",
     "iopub.status.busy": "2023-11-10T22:07:03.307479Z",
     "iopub.status.idle": "2023-11-10T22:07:03.893928Z",
     "shell.execute_reply": "2023-11-10T22:07:03.892468Z"
    },
    "papermill": {
     "duration": 0.620626,
     "end_time": "2023-11-10T22:07:03.896464",
     "exception": false,
     "start_time": "2023-11-10T22:07:03.275838",
     "status": "completed"
    },
    "tags": []
   },
   "outputs": [],
   "source": [
    "train_df = data_without_feat_emsns(train_df, 'TransactionAmt')"
   ]
  },
  {
   "cell_type": "code",
   "execution_count": 65,
   "id": "cd465481",
   "metadata": {
    "execution": {
     "iopub.execute_input": "2023-11-10T22:07:03.957954Z",
     "iopub.status.busy": "2023-11-10T22:07:03.957615Z",
     "iopub.status.idle": "2023-11-10T22:07:03.965244Z",
     "shell.execute_reply": "2023-11-10T22:07:03.964068Z"
    },
    "papermill": {
     "duration": 0.041419,
     "end_time": "2023-11-10T22:07:03.967490",
     "exception": false,
     "start_time": "2023-11-10T22:07:03.926071",
     "status": "completed"
    },
    "tags": []
   },
   "outputs": [
    {
     "data": {
      "text/plain": [
       "(554118, 220)"
      ]
     },
     "execution_count": 65,
     "metadata": {},
     "output_type": "execute_result"
    }
   ],
   "source": [
    "train_df.shape"
   ]
  },
  {
   "cell_type": "code",
   "execution_count": 66,
   "id": "a70e945a",
   "metadata": {
    "execution": {
     "iopub.execute_input": "2023-11-10T22:07:04.031824Z",
     "iopub.status.busy": "2023-11-10T22:07:04.031417Z",
     "iopub.status.idle": "2023-11-10T22:07:04.128652Z",
     "shell.execute_reply": "2023-11-10T22:07:04.127510Z"
    },
    "papermill": {
     "duration": 0.132422,
     "end_time": "2023-11-10T22:07:04.130743",
     "exception": false,
     "start_time": "2023-11-10T22:07:03.998321",
     "status": "completed"
    },
    "tags": []
   },
   "outputs": [
    {
     "data": {
      "text/html": [
       "<div>\n",
       "<style scoped>\n",
       "    .dataframe tbody tr th:only-of-type {\n",
       "        vertical-align: middle;\n",
       "    }\n",
       "\n",
       "    .dataframe tbody tr th {\n",
       "        vertical-align: top;\n",
       "    }\n",
       "\n",
       "    .dataframe thead th {\n",
       "        text-align: right;\n",
       "    }\n",
       "</style>\n",
       "<table border=\"1\" class=\"dataframe\">\n",
       "  <thead>\n",
       "    <tr style=\"text-align: right;\">\n",
       "      <th></th>\n",
       "      <th>TransactionID</th>\n",
       "      <th>isFraud</th>\n",
       "      <th>TransactionDT</th>\n",
       "      <th>TransactionAmt</th>\n",
       "      <th>ProductCD</th>\n",
       "      <th>card1</th>\n",
       "      <th>card2</th>\n",
       "      <th>card3</th>\n",
       "      <th>card4</th>\n",
       "      <th>card5</th>\n",
       "      <th>...</th>\n",
       "      <th>V312</th>\n",
       "      <th>V313</th>\n",
       "      <th>V314</th>\n",
       "      <th>V315</th>\n",
       "      <th>V316</th>\n",
       "      <th>V317</th>\n",
       "      <th>V318</th>\n",
       "      <th>V319</th>\n",
       "      <th>V320</th>\n",
       "      <th>V321</th>\n",
       "    </tr>\n",
       "  </thead>\n",
       "  <tbody>\n",
       "    <tr>\n",
       "      <th>0</th>\n",
       "      <td>2987000</td>\n",
       "      <td>0</td>\n",
       "      <td>86400</td>\n",
       "      <td>68.500000</td>\n",
       "      <td>W</td>\n",
       "      <td>13926</td>\n",
       "      <td>NaN</td>\n",
       "      <td>150.0</td>\n",
       "      <td>discover</td>\n",
       "      <td>142.0</td>\n",
       "      <td>...</td>\n",
       "      <td>0.0</td>\n",
       "      <td>0.000000</td>\n",
       "      <td>0.000000</td>\n",
       "      <td>0.000000</td>\n",
       "      <td>0.0</td>\n",
       "      <td>117.0</td>\n",
       "      <td>0.0</td>\n",
       "      <td>0.000000</td>\n",
       "      <td>0.000000</td>\n",
       "      <td>0.000000</td>\n",
       "    </tr>\n",
       "    <tr>\n",
       "      <th>1</th>\n",
       "      <td>2987001</td>\n",
       "      <td>0</td>\n",
       "      <td>86401</td>\n",
       "      <td>29.000000</td>\n",
       "      <td>W</td>\n",
       "      <td>2755</td>\n",
       "      <td>404.0</td>\n",
       "      <td>150.0</td>\n",
       "      <td>mastercard</td>\n",
       "      <td>102.0</td>\n",
       "      <td>...</td>\n",
       "      <td>0.0</td>\n",
       "      <td>0.000000</td>\n",
       "      <td>0.000000</td>\n",
       "      <td>0.000000</td>\n",
       "      <td>0.0</td>\n",
       "      <td>0.0</td>\n",
       "      <td>0.0</td>\n",
       "      <td>0.000000</td>\n",
       "      <td>0.000000</td>\n",
       "      <td>0.000000</td>\n",
       "    </tr>\n",
       "    <tr>\n",
       "      <th>2</th>\n",
       "      <td>2987002</td>\n",
       "      <td>0</td>\n",
       "      <td>86469</td>\n",
       "      <td>59.000000</td>\n",
       "      <td>W</td>\n",
       "      <td>4663</td>\n",
       "      <td>490.0</td>\n",
       "      <td>150.0</td>\n",
       "      <td>visa</td>\n",
       "      <td>166.0</td>\n",
       "      <td>...</td>\n",
       "      <td>0.0</td>\n",
       "      <td>0.000000</td>\n",
       "      <td>0.000000</td>\n",
       "      <td>0.000000</td>\n",
       "      <td>0.0</td>\n",
       "      <td>0.0</td>\n",
       "      <td>0.0</td>\n",
       "      <td>0.000000</td>\n",
       "      <td>0.000000</td>\n",
       "      <td>0.000000</td>\n",
       "    </tr>\n",
       "    <tr>\n",
       "      <th>3</th>\n",
       "      <td>2987003</td>\n",
       "      <td>0</td>\n",
       "      <td>86499</td>\n",
       "      <td>50.000000</td>\n",
       "      <td>W</td>\n",
       "      <td>18132</td>\n",
       "      <td>567.0</td>\n",
       "      <td>150.0</td>\n",
       "      <td>mastercard</td>\n",
       "      <td>117.0</td>\n",
       "      <td>...</td>\n",
       "      <td>135.0</td>\n",
       "      <td>0.000000</td>\n",
       "      <td>0.000000</td>\n",
       "      <td>0.000000</td>\n",
       "      <td>50.0</td>\n",
       "      <td>1404.0</td>\n",
       "      <td>790.0</td>\n",
       "      <td>0.000000</td>\n",
       "      <td>0.000000</td>\n",
       "      <td>0.000000</td>\n",
       "    </tr>\n",
       "    <tr>\n",
       "      <th>4</th>\n",
       "      <td>2987004</td>\n",
       "      <td>0</td>\n",
       "      <td>86506</td>\n",
       "      <td>50.000000</td>\n",
       "      <td>H</td>\n",
       "      <td>4497</td>\n",
       "      <td>514.0</td>\n",
       "      <td>150.0</td>\n",
       "      <td>mastercard</td>\n",
       "      <td>102.0</td>\n",
       "      <td>...</td>\n",
       "      <td>0.0</td>\n",
       "      <td>0.000000</td>\n",
       "      <td>0.000000</td>\n",
       "      <td>0.000000</td>\n",
       "      <td>0.0</td>\n",
       "      <td>0.0</td>\n",
       "      <td>0.0</td>\n",
       "      <td>0.000000</td>\n",
       "      <td>0.000000</td>\n",
       "      <td>0.000000</td>\n",
       "    </tr>\n",
       "    <tr>\n",
       "      <th>...</th>\n",
       "      <td>...</td>\n",
       "      <td>...</td>\n",
       "      <td>...</td>\n",
       "      <td>...</td>\n",
       "      <td>...</td>\n",
       "      <td>...</td>\n",
       "      <td>...</td>\n",
       "      <td>...</td>\n",
       "      <td>...</td>\n",
       "      <td>...</td>\n",
       "      <td>...</td>\n",
       "      <td>...</td>\n",
       "      <td>...</td>\n",
       "      <td>...</td>\n",
       "      <td>...</td>\n",
       "      <td>...</td>\n",
       "      <td>...</td>\n",
       "      <td>...</td>\n",
       "      <td>...</td>\n",
       "      <td>...</td>\n",
       "      <td>...</td>\n",
       "    </tr>\n",
       "    <tr>\n",
       "      <th>590535</th>\n",
       "      <td>3577535</td>\n",
       "      <td>0</td>\n",
       "      <td>15811047</td>\n",
       "      <td>49.000000</td>\n",
       "      <td>W</td>\n",
       "      <td>6550</td>\n",
       "      <td>NaN</td>\n",
       "      <td>150.0</td>\n",
       "      <td>visa</td>\n",
       "      <td>226.0</td>\n",
       "      <td>...</td>\n",
       "      <td>0.0</td>\n",
       "      <td>47.950001</td>\n",
       "      <td>47.950001</td>\n",
       "      <td>47.950001</td>\n",
       "      <td>0.0</td>\n",
       "      <td>0.0</td>\n",
       "      <td>0.0</td>\n",
       "      <td>0.000000</td>\n",
       "      <td>0.000000</td>\n",
       "      <td>0.000000</td>\n",
       "    </tr>\n",
       "    <tr>\n",
       "      <th>590536</th>\n",
       "      <td>3577536</td>\n",
       "      <td>0</td>\n",
       "      <td>15811049</td>\n",
       "      <td>39.500000</td>\n",
       "      <td>W</td>\n",
       "      <td>10444</td>\n",
       "      <td>225.0</td>\n",
       "      <td>150.0</td>\n",
       "      <td>mastercard</td>\n",
       "      <td>224.0</td>\n",
       "      <td>...</td>\n",
       "      <td>0.0</td>\n",
       "      <td>0.000000</td>\n",
       "      <td>0.000000</td>\n",
       "      <td>0.000000</td>\n",
       "      <td>0.0</td>\n",
       "      <td>0.0</td>\n",
       "      <td>0.0</td>\n",
       "      <td>0.000000</td>\n",
       "      <td>0.000000</td>\n",
       "      <td>0.000000</td>\n",
       "    </tr>\n",
       "    <tr>\n",
       "      <th>590537</th>\n",
       "      <td>3577537</td>\n",
       "      <td>0</td>\n",
       "      <td>15811079</td>\n",
       "      <td>30.950001</td>\n",
       "      <td>W</td>\n",
       "      <td>12037</td>\n",
       "      <td>595.0</td>\n",
       "      <td>150.0</td>\n",
       "      <td>mastercard</td>\n",
       "      <td>224.0</td>\n",
       "      <td>...</td>\n",
       "      <td>0.0</td>\n",
       "      <td>0.000000</td>\n",
       "      <td>0.000000</td>\n",
       "      <td>0.000000</td>\n",
       "      <td>0.0</td>\n",
       "      <td>0.0</td>\n",
       "      <td>0.0</td>\n",
       "      <td>0.000000</td>\n",
       "      <td>0.000000</td>\n",
       "      <td>0.000000</td>\n",
       "    </tr>\n",
       "    <tr>\n",
       "      <th>590538</th>\n",
       "      <td>3577538</td>\n",
       "      <td>0</td>\n",
       "      <td>15811088</td>\n",
       "      <td>117.000000</td>\n",
       "      <td>W</td>\n",
       "      <td>7826</td>\n",
       "      <td>481.0</td>\n",
       "      <td>150.0</td>\n",
       "      <td>mastercard</td>\n",
       "      <td>224.0</td>\n",
       "      <td>...</td>\n",
       "      <td>117.0</td>\n",
       "      <td>317.500000</td>\n",
       "      <td>669.500000</td>\n",
       "      <td>317.500000</td>\n",
       "      <td>0.0</td>\n",
       "      <td>2234.0</td>\n",
       "      <td>0.0</td>\n",
       "      <td>0.000000</td>\n",
       "      <td>0.000000</td>\n",
       "      <td>0.000000</td>\n",
       "    </tr>\n",
       "    <tr>\n",
       "      <th>590539</th>\n",
       "      <td>3577539</td>\n",
       "      <td>0</td>\n",
       "      <td>15811131</td>\n",
       "      <td>279.950012</td>\n",
       "      <td>W</td>\n",
       "      <td>15066</td>\n",
       "      <td>170.0</td>\n",
       "      <td>150.0</td>\n",
       "      <td>mastercard</td>\n",
       "      <td>102.0</td>\n",
       "      <td>...</td>\n",
       "      <td>0.0</td>\n",
       "      <td>0.000000</td>\n",
       "      <td>0.000000</td>\n",
       "      <td>0.000000</td>\n",
       "      <td>0.0</td>\n",
       "      <td>0.0</td>\n",
       "      <td>0.0</td>\n",
       "      <td>279.950012</td>\n",
       "      <td>279.950012</td>\n",
       "      <td>279.950012</td>\n",
       "    </tr>\n",
       "  </tbody>\n",
       "</table>\n",
       "<p>554118 rows × 220 columns</p>\n",
       "</div>"
      ],
      "text/plain": [
       "        TransactionID  isFraud  TransactionDT  TransactionAmt ProductCD  \\\n",
       "0             2987000        0          86400       68.500000         W   \n",
       "1             2987001        0          86401       29.000000         W   \n",
       "2             2987002        0          86469       59.000000         W   \n",
       "3             2987003        0          86499       50.000000         W   \n",
       "4             2987004        0          86506       50.000000         H   \n",
       "...               ...      ...            ...             ...       ...   \n",
       "590535        3577535        0       15811047       49.000000         W   \n",
       "590536        3577536        0       15811049       39.500000         W   \n",
       "590537        3577537        0       15811079       30.950001         W   \n",
       "590538        3577538        0       15811088      117.000000         W   \n",
       "590539        3577539        0       15811131      279.950012         W   \n",
       "\n",
       "        card1  card2  card3       card4  card5  ...   V312        V313  \\\n",
       "0       13926    NaN  150.0    discover  142.0  ...    0.0    0.000000   \n",
       "1        2755  404.0  150.0  mastercard  102.0  ...    0.0    0.000000   \n",
       "2        4663  490.0  150.0        visa  166.0  ...    0.0    0.000000   \n",
       "3       18132  567.0  150.0  mastercard  117.0  ...  135.0    0.000000   \n",
       "4        4497  514.0  150.0  mastercard  102.0  ...    0.0    0.000000   \n",
       "...       ...    ...    ...         ...    ...  ...    ...         ...   \n",
       "590535   6550    NaN  150.0        visa  226.0  ...    0.0   47.950001   \n",
       "590536  10444  225.0  150.0  mastercard  224.0  ...    0.0    0.000000   \n",
       "590537  12037  595.0  150.0  mastercard  224.0  ...    0.0    0.000000   \n",
       "590538   7826  481.0  150.0  mastercard  224.0  ...  117.0  317.500000   \n",
       "590539  15066  170.0  150.0  mastercard  102.0  ...    0.0    0.000000   \n",
       "\n",
       "              V314        V315  V316    V317   V318        V319        V320  \\\n",
       "0         0.000000    0.000000   0.0   117.0    0.0    0.000000    0.000000   \n",
       "1         0.000000    0.000000   0.0     0.0    0.0    0.000000    0.000000   \n",
       "2         0.000000    0.000000   0.0     0.0    0.0    0.000000    0.000000   \n",
       "3         0.000000    0.000000  50.0  1404.0  790.0    0.000000    0.000000   \n",
       "4         0.000000    0.000000   0.0     0.0    0.0    0.000000    0.000000   \n",
       "...            ...         ...   ...     ...    ...         ...         ...   \n",
       "590535   47.950001   47.950001   0.0     0.0    0.0    0.000000    0.000000   \n",
       "590536    0.000000    0.000000   0.0     0.0    0.0    0.000000    0.000000   \n",
       "590537    0.000000    0.000000   0.0     0.0    0.0    0.000000    0.000000   \n",
       "590538  669.500000  317.500000   0.0  2234.0    0.0    0.000000    0.000000   \n",
       "590539    0.000000    0.000000   0.0     0.0    0.0  279.950012  279.950012   \n",
       "\n",
       "              V321  \n",
       "0         0.000000  \n",
       "1         0.000000  \n",
       "2         0.000000  \n",
       "3         0.000000  \n",
       "4         0.000000  \n",
       "...            ...  \n",
       "590535    0.000000  \n",
       "590536    0.000000  \n",
       "590537    0.000000  \n",
       "590538    0.000000  \n",
       "590539  279.950012  \n",
       "\n",
       "[554118 rows x 220 columns]"
      ]
     },
     "execution_count": 66,
     "metadata": {},
     "output_type": "execute_result"
    }
   ],
   "source": [
    "train_df"
   ]
  },
  {
   "cell_type": "markdown",
   "id": "0dcc74d8",
   "metadata": {
    "papermill": {
     "duration": 0.030726,
     "end_time": "2023-11-10T22:07:04.193034",
     "exception": false,
     "start_time": "2023-11-10T22:07:04.162308",
     "status": "completed"
    },
    "tags": []
   },
   "source": [
    "Построим ещё раз гистограмму распределения поля ```TransactionAmt```"
   ]
  },
  {
   "cell_type": "code",
   "execution_count": 67,
   "id": "18661dc9",
   "metadata": {
    "execution": {
     "iopub.execute_input": "2023-11-10T22:07:04.256059Z",
     "iopub.status.busy": "2023-11-10T22:07:04.255680Z",
     "iopub.status.idle": "2023-11-10T22:07:04.491218Z",
     "shell.execute_reply": "2023-11-10T22:07:04.489616Z"
    },
    "papermill": {
     "duration": 0.271397,
     "end_time": "2023-11-10T22:07:04.493997",
     "exception": false,
     "start_time": "2023-11-10T22:07:04.222600",
     "status": "completed"
    },
    "tags": []
   },
   "outputs": [
    {
     "data": {
      "image/png": "[encoded data removed]",
      "text/plain": [
       "<Figure size 800x800 with 1 Axes>"
      ]
     },
     "metadata": {},
     "output_type": "display_data"
    }
   ],
   "source": [
    "plt_hist(train_df, 'TransactionAmt', bins=20)"
   ]
  },
  {
   "cell_type": "markdown",
   "id": "6ea6ebf7",
   "metadata": {
    "papermill": {
     "duration": 0.03088,
     "end_time": "2023-11-10T22:07:04.556776",
     "exception": false,
     "start_time": "2023-11-10T22:07:04.525896",
     "status": "completed"
    },
    "tags": []
   },
   "source": [
    "Также ещё раз построим ```boxplot```, чтобы убедиться в отсутствии выбросов"
   ]
  },
  {
   "cell_type": "code",
   "execution_count": 68,
   "id": "d977330d",
   "metadata": {
    "execution": {
     "iopub.execute_input": "2023-11-10T22:07:04.621374Z",
     "iopub.status.busy": "2023-11-10T22:07:04.620697Z",
     "iopub.status.idle": "2023-11-10T22:07:04.829038Z",
     "shell.execute_reply": "2023-11-10T22:07:04.828090Z"
    },
    "papermill": {
     "duration": 0.243444,
     "end_time": "2023-11-10T22:07:04.831145",
     "exception": false,
     "start_time": "2023-11-10T22:07:04.587701",
     "status": "completed"
    },
    "tags": []
   },
   "outputs": [
    {
     "data": {
      "image/png": "[encoded data removed]",
      "text/plain": [
       "<Figure size 1000x300 with 1 Axes>"
      ]
     },
     "metadata": {},
     "output_type": "display_data"
    }
   ],
   "source": [
    "plt_boxplot(train_df, 'TransactionAmt')"
   ]
  },
  {
   "cell_type": "markdown",
   "id": "2e008eaf",
   "metadata": {
    "papermill": {
     "duration": 0.031538,
     "end_time": "2023-11-10T22:07:04.893875",
     "exception": false,
     "start_time": "2023-11-10T22:07:04.862337",
     "status": "completed"
    },
    "tags": []
   },
   "source": [
    "Посмотрим на распределение ```TransactionAmt``` на **тестовом датасете**:"
   ]
  },
  {
   "cell_type": "code",
   "execution_count": 69,
   "id": "44ee5a61",
   "metadata": {
    "execution": {
     "iopub.execute_input": "2023-11-10T22:07:04.956928Z",
     "iopub.status.busy": "2023-11-10T22:07:04.956575Z",
     "iopub.status.idle": "2023-11-10T22:07:05.317627Z",
     "shell.execute_reply": "2023-11-10T22:07:05.316559Z"
    },
    "papermill": {
     "duration": 0.394829,
     "end_time": "2023-11-10T22:07:05.319557",
     "exception": false,
     "start_time": "2023-11-10T22:07:04.924728",
     "status": "completed"
    },
    "tags": []
   },
   "outputs": [
    {
     "data": {
      "image/png": "[encoded data removed]",
      "text/plain": [
       "<Figure size 800x800 with 1 Axes>"
      ]
     },
     "metadata": {},
     "output_type": "display_data"
    }
   ],
   "source": [
    "plt_hist(test_df, 'TransactionAmt')"
   ]
  },
  {
   "cell_type": "code",
   "execution_count": 70,
   "id": "eb901fa3",
   "metadata": {
    "execution": {
     "iopub.execute_input": "2023-11-10T22:07:05.387126Z",
     "iopub.status.busy": "2023-11-10T22:07:05.386412Z",
     "iopub.status.idle": "2023-11-10T22:07:05.631234Z",
     "shell.execute_reply": "2023-11-10T22:07:05.629855Z"
    },
    "papermill": {
     "duration": 0.281865,
     "end_time": "2023-11-10T22:07:05.633507",
     "exception": false,
     "start_time": "2023-11-10T22:07:05.351642",
     "status": "completed"
    },
    "tags": []
   },
   "outputs": [
    {
     "data": {
      "image/png": "[encoded data removed]",
      "text/plain": [
       "<Figure size 1000x300 with 1 Axes>"
      ]
     },
     "metadata": {},
     "output_type": "display_data"
    }
   ],
   "source": [
    "plt_boxplot(test_df, 'TransactionAmt')"
   ]
  },
  {
   "cell_type": "markdown",
   "id": "590183d5",
   "metadata": {
    "papermill": {
     "duration": 0.030417,
     "end_time": "2023-11-10T22:07:05.695015",
     "exception": false,
     "start_time": "2023-11-10T22:07:05.664598",
     "status": "completed"
    },
    "tags": []
   },
   "source": [
    "Аналогично очистим тестовый датасет от выбросов признака ```TransactionAMT```"
   ]
  },
  {
   "cell_type": "code",
   "execution_count": 71,
   "id": "cc8b93bb",
   "metadata": {
    "execution": {
     "iopub.execute_input": "2023-11-10T22:07:05.759475Z",
     "iopub.status.busy": "2023-11-10T22:07:05.759102Z",
     "iopub.status.idle": "2023-11-10T22:07:05.961726Z",
     "shell.execute_reply": "2023-11-10T22:07:05.960400Z"
    },
    "papermill": {
     "duration": 0.237629,
     "end_time": "2023-11-10T22:07:05.964101",
     "exception": false,
     "start_time": "2023-11-10T22:07:05.726472",
     "status": "completed"
    },
    "tags": []
   },
   "outputs": [
    {
     "data": {
      "text/plain": [
       "(476384, 219)"
      ]
     },
     "execution_count": 71,
     "metadata": {},
     "output_type": "execute_result"
    }
   ],
   "source": [
    "test_df = data_without_feat_emsns(test_df, 'TransactionAmt')\n",
    "test_df.shape"
   ]
  },
  {
   "cell_type": "markdown",
   "id": "e4dd6e7b",
   "metadata": {
    "papermill": {
     "duration": 0.03248,
     "end_time": "2023-11-10T22:07:06.029190",
     "exception": false,
     "start_time": "2023-11-10T22:07:05.996710",
     "status": "completed"
    },
    "tags": []
   },
   "source": [
    "Построим гистограмму распределения и диаграмму размаха платежей для тестового датасета после очистки данных от выбросов"
   ]
  },
  {
   "cell_type": "code",
   "execution_count": 72,
   "id": "4694273d",
   "metadata": {
    "execution": {
     "iopub.execute_input": "2023-11-10T22:07:06.095146Z",
     "iopub.status.busy": "2023-11-10T22:07:06.094785Z",
     "iopub.status.idle": "2023-11-10T22:07:06.506204Z",
     "shell.execute_reply": "2023-11-10T22:07:06.504838Z"
    },
    "papermill": {
     "duration": 0.448105,
     "end_time": "2023-11-10T22:07:06.509363",
     "exception": false,
     "start_time": "2023-11-10T22:07:06.061258",
     "status": "completed"
    },
    "tags": []
   },
   "outputs": [
    {
     "data": {
      "image/png": "[encoded data removed]",
      "text/plain": [
       "<Figure size 800x800 with 1 Axes>"
      ]
     },
     "metadata": {},
     "output_type": "display_data"
    }
   ],
   "source": [
    "plt_hist(test_df, 'TransactionAmt', bins=20)"
   ]
  },
  {
   "cell_type": "code",
   "execution_count": 73,
   "id": "dc7bb4be",
   "metadata": {
    "execution": {
     "iopub.execute_input": "2023-11-10T22:07:06.578801Z",
     "iopub.status.busy": "2023-11-10T22:07:06.578428Z",
     "iopub.status.idle": "2023-11-10T22:07:06.780817Z",
     "shell.execute_reply": "2023-11-10T22:07:06.779892Z"
    },
    "papermill": {
     "duration": 0.238895,
     "end_time": "2023-11-10T22:07:06.782453",
     "exception": false,
     "start_time": "2023-11-10T22:07:06.543558",
     "status": "completed"
    },
    "tags": []
   },
   "outputs": [
    {
     "data": {
      "image/png": "[encoded data removed]",
      "text/plain": [
       "<Figure size 1000x300 with 1 Axes>"
      ]
     },
     "metadata": {},
     "output_type": "display_data"
    }
   ],
   "source": [
    "plt_boxplot(test_df, 'TransactionAmt')"
   ]
  },
  {
   "cell_type": "code",
   "execution_count": 74,
   "id": "300b709d",
   "metadata": {
    "execution": {
     "iopub.execute_input": "2023-11-10T22:07:06.849050Z",
     "iopub.status.busy": "2023-11-10T22:07:06.848648Z",
     "iopub.status.idle": "2023-11-10T22:07:06.855367Z",
     "shell.execute_reply": "2023-11-10T22:07:06.853776Z"
    },
    "papermill": {
     "duration": 0.043718,
     "end_time": "2023-11-10T22:07:06.858118",
     "exception": false,
     "start_time": "2023-11-10T22:07:06.814400",
     "status": "completed"
    },
    "tags": []
   },
   "outputs": [],
   "source": [
    "classifiers = [('DT', DecisionTreeClassifier()),\n",
    "               ('RF', RandomForestClassifier()),\n",
    "               ('Adaboost', AdaBoostClassifier()),\n",
    "               ('GBM', GradientBoostingClassifier()),\n",
    "               ('XGBBoost', XGBClassifier()),\n",
    "               ('LightGBM', LGBMClassifier()),]"
   ]
  }
 ],
 "metadata": {
  "kernelspec": {
   "display_name": "Python 3",
   "language": "python",
   "name": "python3"
  },
  "language_info": {
   "codemirror_mode": {
    "name": "ipython",
    "version": 3
   },
   "file_extension": ".py",
   "mimetype": "text/x-python",
   "name": "python",
   "nbconvert_exporter": "python",
   "pygments_lexer": "ipython3",
   "version": "3.10.12"
  },
  "papermill": {
   "default_parameters": {},
   "duration": 161.690899,
   "end_time": "2023-11-10T22:07:08.116611",
   "environment_variables": {},
   "exception": null,
   "input_path": "__notebook__.ipynb",
   "output_path": "__notebook__.ipynb",
   "parameters": {},
   "start_time": "2023-11-10T22:04:26.425712",
   "version": "2.4.0"
  }
 },
 "nbformat": 4,
 "nbformat_minor": 5
}
