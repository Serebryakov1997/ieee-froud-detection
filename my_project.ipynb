{
 "cells": [
  {
   "cell_type": "code",
   "execution_count": 1,
   "id": "2ba64ee5",
   "metadata": {
    "_cell_guid": "b1076dfc-b9ad-4769-8c92-a6c4dae69d19",
    "_uuid": "8f2839f25d086af736a60e9eeb907d3b93b6e0e5",
    "execution": {
     "iopub.execute_input": "2023-11-06T09:43:26.135990Z",
     "iopub.status.busy": "2023-11-06T09:43:26.135572Z",
     "iopub.status.idle": "2023-11-06T09:43:26.880334Z",
     "shell.execute_reply": "2023-11-06T09:43:26.878743Z"
    },
    "papermill": {
     "duration": 0.761878,
     "end_time": "2023-11-06T09:43:26.883002",
     "exception": false,
     "start_time": "2023-11-06T09:43:26.121124",
     "status": "completed"
    },
    "tags": []
   },
   "outputs": [
    {
     "name": "stdout",
     "output_type": "stream",
     "text": [
      "/kaggle/input/ieee-fraud-detection/sample_submission.csv\n",
      "/kaggle/input/ieee-fraud-detection/test_identity.csv\n",
      "/kaggle/input/ieee-fraud-detection/train_identity.csv\n",
      "/kaggle/input/ieee-fraud-detection/test_transaction.csv\n",
      "/kaggle/input/ieee-fraud-detection/train_transaction.csv\n"
     ]
    }
   ],
   "source": [
    "# This Python 3 environment comes with many helpful analytics libraries installed\n",
    "# It is defined by the kaggle/python Docker image: https://github.com/kaggle/docker-python\n",
    "# For example, here's several helpful packages to load\n",
    "\n",
    "import numpy as np # linear algebra\n",
    "import pandas as pd # data processing, CSV file I/O (e.g. pd.read_csv)\n",
    "\n",
    "# Input data files are available in the read-only \"../input/\" directory\n",
    "# For example, running this (by clicking run or pressing Shift+Enter) will list all files under the input directory\n",
    "\n",
    "import os\n",
    "for dirname, _, filenames in os.walk('/kaggle/input'):\n",
    "    for filename in filenames:\n",
    "        print(os.path.join(dirname, filename))\n",
    "\n",
    "# You can write up to 20GB to the current directory (/kaggle/working/) that gets preserved as output when you create a version using \"Save & Run All\" \n",
    "# You can also write temporary files to /kaggle/temp/, but they won't be saved outside of the current session"
   ]
  },
  {
   "cell_type": "markdown",
   "id": "ffcd2d94",
   "metadata": {
    "papermill": {
     "duration": 0.012382,
     "end_time": "2023-11-06T09:43:26.908267",
     "exception": false,
     "start_time": "2023-11-06T09:43:26.895885",
     "status": "completed"
    },
    "tags": []
   },
   "source": [
    "### Данный проект решает задачу бинарной классификации.\n",
    "### Нужно предсказать, к какому типу относится транзакция - мошенническая она ли нет."
   ]
  },
  {
   "cell_type": "markdown",
   "id": "d86387f4",
   "metadata": {
    "papermill": {
     "duration": 0.012485,
     "end_time": "2023-11-06T09:43:26.933530",
     "exception": false,
     "start_time": "2023-11-06T09:43:26.921045",
     "status": "completed"
    },
    "tags": []
   },
   "source": [
    "#### Данные в датасете **transaction**:\n",
    "<span style=\"font-size: 18px;\">\n",
    "    \n",
    "- TransactionDT - дельта времени от заданного эталонного значения времени (не актуального значения) \n",
    "- TransactionAMT - транзакционный платёж в USD\n",
    "- ProductCD - продуктовый код, продукт каждой транзакции\n",
    "- card1 - card6 - информация платёжной карты, такая как: тип карты, категория, банк выпуска, страна и т.д.\n",
    "- addr - адрес\n",
    "- dist - расстояние\n",
    "- P_ and (R_) emaildomain: домены покупателя и получателя\n",
    "- C1-C14 - подсчёт, например сколько адресов связано с платёжной картой и т.д. Фактический смысл скрыт\n",
    "- D1-D15 - дельта времени, количество дней между предыдущей транзакцией, и т.д.\n",
    "- M1 - M9 -совпадение, например имена на карте и адресе и т.д.\n",
    "- Vxxx - Vesta разработала богатые функции, включая ранжирование, подсчёт и другие отношения между сущностями\n",
    "</span>"
   ]
  },
  {
   "cell_type": "markdown",
   "id": "f9e64f21",
   "metadata": {
    "papermill": {
     "duration": 0.01238,
     "end_time": "2023-11-06T09:43:26.958556",
     "exception": false,
     "start_time": "2023-11-06T09:43:26.946176",
     "status": "completed"
    },
    "tags": []
   },
   "source": [
    "<span style=\"font-size:18px;\">\n",
    "Категориальные признаки:\n",
    "\n",
    "- ProductCD\n",
    "- card1-card6\n",
    "- addr1, addr2\n",
    "- P_emaildomain\n",
    "- R_email_domain\n",
    "- M1 - M9\n",
    "</span>"
   ]
  },
  {
   "cell_type": "markdown",
   "id": "e8df6942",
   "metadata": {
    "papermill": {
     "duration": 0.012368,
     "end_time": "2023-11-06T09:43:26.983563",
     "exception": false,
     "start_time": "2023-11-06T09:43:26.971195",
     "status": "completed"
    },
    "tags": []
   },
   "source": [
    "#### Данные в датасете **Identity**\n",
    "<span style=\"font-size:18px;\">\n",
    "Переменные в этой таблице - идентификационные данные:\n",
    "    \n",
    "- информация о сетевом соединении (IP, ISP, прокси и т.д.)\n",
    "- цифровая подпись (UA/браузер/ОС/версия и т.д.), связанные с транзакциями.\n",
    "Их собирает система защиты от мошенничества Vesta и партнеры цифровой безопасности.\n",
    "(Имена полей скрыты, и пояснения значений полей не будет в целях защиты конфиденциальности и их договорного соглашения)\n",
    "</span>"
   ]
  },
  {
   "cell_type": "markdown",
   "id": "bb449140",
   "metadata": {
    "papermill": {
     "duration": 0.012626,
     "end_time": "2023-11-06T09:43:27.008816",
     "exception": false,
     "start_time": "2023-11-06T09:43:26.996190",
     "status": "completed"
    },
    "tags": []
   },
   "source": [
    "<span style=\"font-size:18px;\">\n",
    "Категориальные признаки:\n",
    "    \n",
    "- DeviceType\n",
    "- DeviceInfo\n",
    "- id_12 - id_38\n",
    "</span>"
   ]
  },
  {
   "cell_type": "markdown",
   "id": "3cd9c2d7",
   "metadata": {
    "papermill": {
     "duration": 0.012449,
     "end_time": "2023-11-06T09:43:27.034313",
     "exception": false,
     "start_time": "2023-11-06T09:43:27.021864",
     "status": "completed"
    },
    "tags": []
   },
   "source": [
    "### Посмотрим, что из себя представляют данные"
   ]
  },
  {
   "cell_type": "code",
   "execution_count": 2,
   "id": "9e3d97e0",
   "metadata": {
    "execution": {
     "iopub.execute_input": "2023-11-06T09:43:27.062536Z",
     "iopub.status.busy": "2023-11-06T09:43:27.060994Z",
     "iopub.status.idle": "2023-11-06T09:43:28.207320Z",
     "shell.execute_reply": "2023-11-06T09:43:28.206270Z"
    },
    "papermill": {
     "duration": 1.163392,
     "end_time": "2023-11-06T09:43:28.210241",
     "exception": false,
     "start_time": "2023-11-06T09:43:27.046849",
     "status": "completed"
    },
    "tags": []
   },
   "outputs": [],
   "source": [
    "train_identity_data = pd.read_csv('/kaggle/input/ieee-fraud-detection/train_identity.csv')"
   ]
  },
  {
   "cell_type": "code",
   "execution_count": 3,
   "id": "811ae5bc",
   "metadata": {
    "execution": {
     "iopub.execute_input": "2023-11-06T09:43:28.238048Z",
     "iopub.status.busy": "2023-11-06T09:43:28.237666Z",
     "iopub.status.idle": "2023-11-06T09:43:28.289701Z",
     "shell.execute_reply": "2023-11-06T09:43:28.288545Z"
    },
    "papermill": {
     "duration": 0.071165,
     "end_time": "2023-11-06T09:43:28.294092",
     "exception": false,
     "start_time": "2023-11-06T09:43:28.222927",
     "status": "completed"
    },
    "tags": []
   },
   "outputs": [
    {
     "data": {
      "text/html": [
       "<div>\n",
       "<style scoped>\n",
       "    .dataframe tbody tr th:only-of-type {\n",
       "        vertical-align: middle;\n",
       "    }\n",
       "\n",
       "    .dataframe tbody tr th {\n",
       "        vertical-align: top;\n",
       "    }\n",
       "\n",
       "    .dataframe thead th {\n",
       "        text-align: right;\n",
       "    }\n",
       "</style>\n",
       "<table border=\"1\" class=\"dataframe\">\n",
       "  <thead>\n",
       "    <tr style=\"text-align: right;\">\n",
       "      <th></th>\n",
       "      <th>TransactionID</th>\n",
       "      <th>id_01</th>\n",
       "      <th>id_02</th>\n",
       "      <th>id_03</th>\n",
       "      <th>id_04</th>\n",
       "      <th>id_05</th>\n",
       "      <th>id_06</th>\n",
       "      <th>id_07</th>\n",
       "      <th>id_08</th>\n",
       "      <th>id_09</th>\n",
       "      <th>...</th>\n",
       "      <th>id_31</th>\n",
       "      <th>id_32</th>\n",
       "      <th>id_33</th>\n",
       "      <th>id_34</th>\n",
       "      <th>id_35</th>\n",
       "      <th>id_36</th>\n",
       "      <th>id_37</th>\n",
       "      <th>id_38</th>\n",
       "      <th>DeviceType</th>\n",
       "      <th>DeviceInfo</th>\n",
       "    </tr>\n",
       "  </thead>\n",
       "  <tbody>\n",
       "    <tr>\n",
       "      <th>0</th>\n",
       "      <td>2987004</td>\n",
       "      <td>0.0</td>\n",
       "      <td>70787.0</td>\n",
       "      <td>NaN</td>\n",
       "      <td>NaN</td>\n",
       "      <td>NaN</td>\n",
       "      <td>NaN</td>\n",
       "      <td>NaN</td>\n",
       "      <td>NaN</td>\n",
       "      <td>NaN</td>\n",
       "      <td>...</td>\n",
       "      <td>samsung browser 6.2</td>\n",
       "      <td>32.0</td>\n",
       "      <td>2220x1080</td>\n",
       "      <td>match_status:2</td>\n",
       "      <td>T</td>\n",
       "      <td>F</td>\n",
       "      <td>T</td>\n",
       "      <td>T</td>\n",
       "      <td>mobile</td>\n",
       "      <td>SAMSUNG SM-G892A Build/NRD90M</td>\n",
       "    </tr>\n",
       "    <tr>\n",
       "      <th>1</th>\n",
       "      <td>2987008</td>\n",
       "      <td>-5.0</td>\n",
       "      <td>98945.0</td>\n",
       "      <td>NaN</td>\n",
       "      <td>NaN</td>\n",
       "      <td>0.0</td>\n",
       "      <td>-5.0</td>\n",
       "      <td>NaN</td>\n",
       "      <td>NaN</td>\n",
       "      <td>NaN</td>\n",
       "      <td>...</td>\n",
       "      <td>mobile safari 11.0</td>\n",
       "      <td>32.0</td>\n",
       "      <td>1334x750</td>\n",
       "      <td>match_status:1</td>\n",
       "      <td>T</td>\n",
       "      <td>F</td>\n",
       "      <td>F</td>\n",
       "      <td>T</td>\n",
       "      <td>mobile</td>\n",
       "      <td>iOS Device</td>\n",
       "    </tr>\n",
       "    <tr>\n",
       "      <th>2</th>\n",
       "      <td>2987010</td>\n",
       "      <td>-5.0</td>\n",
       "      <td>191631.0</td>\n",
       "      <td>0.0</td>\n",
       "      <td>0.0</td>\n",
       "      <td>0.0</td>\n",
       "      <td>0.0</td>\n",
       "      <td>NaN</td>\n",
       "      <td>NaN</td>\n",
       "      <td>0.0</td>\n",
       "      <td>...</td>\n",
       "      <td>chrome 62.0</td>\n",
       "      <td>NaN</td>\n",
       "      <td>NaN</td>\n",
       "      <td>NaN</td>\n",
       "      <td>F</td>\n",
       "      <td>F</td>\n",
       "      <td>T</td>\n",
       "      <td>T</td>\n",
       "      <td>desktop</td>\n",
       "      <td>Windows</td>\n",
       "    </tr>\n",
       "    <tr>\n",
       "      <th>3</th>\n",
       "      <td>2987011</td>\n",
       "      <td>-5.0</td>\n",
       "      <td>221832.0</td>\n",
       "      <td>NaN</td>\n",
       "      <td>NaN</td>\n",
       "      <td>0.0</td>\n",
       "      <td>-6.0</td>\n",
       "      <td>NaN</td>\n",
       "      <td>NaN</td>\n",
       "      <td>NaN</td>\n",
       "      <td>...</td>\n",
       "      <td>chrome 62.0</td>\n",
       "      <td>NaN</td>\n",
       "      <td>NaN</td>\n",
       "      <td>NaN</td>\n",
       "      <td>F</td>\n",
       "      <td>F</td>\n",
       "      <td>T</td>\n",
       "      <td>T</td>\n",
       "      <td>desktop</td>\n",
       "      <td>NaN</td>\n",
       "    </tr>\n",
       "    <tr>\n",
       "      <th>4</th>\n",
       "      <td>2987016</td>\n",
       "      <td>0.0</td>\n",
       "      <td>7460.0</td>\n",
       "      <td>0.0</td>\n",
       "      <td>0.0</td>\n",
       "      <td>1.0</td>\n",
       "      <td>0.0</td>\n",
       "      <td>NaN</td>\n",
       "      <td>NaN</td>\n",
       "      <td>0.0</td>\n",
       "      <td>...</td>\n",
       "      <td>chrome 62.0</td>\n",
       "      <td>24.0</td>\n",
       "      <td>1280x800</td>\n",
       "      <td>match_status:2</td>\n",
       "      <td>T</td>\n",
       "      <td>F</td>\n",
       "      <td>T</td>\n",
       "      <td>T</td>\n",
       "      <td>desktop</td>\n",
       "      <td>MacOS</td>\n",
       "    </tr>\n",
       "    <tr>\n",
       "      <th>5</th>\n",
       "      <td>2987017</td>\n",
       "      <td>-5.0</td>\n",
       "      <td>61141.0</td>\n",
       "      <td>3.0</td>\n",
       "      <td>0.0</td>\n",
       "      <td>3.0</td>\n",
       "      <td>0.0</td>\n",
       "      <td>NaN</td>\n",
       "      <td>NaN</td>\n",
       "      <td>3.0</td>\n",
       "      <td>...</td>\n",
       "      <td>chrome 62.0</td>\n",
       "      <td>24.0</td>\n",
       "      <td>1366x768</td>\n",
       "      <td>match_status:2</td>\n",
       "      <td>T</td>\n",
       "      <td>F</td>\n",
       "      <td>T</td>\n",
       "      <td>T</td>\n",
       "      <td>desktop</td>\n",
       "      <td>Windows</td>\n",
       "    </tr>\n",
       "    <tr>\n",
       "      <th>6</th>\n",
       "      <td>2987022</td>\n",
       "      <td>-15.0</td>\n",
       "      <td>NaN</td>\n",
       "      <td>NaN</td>\n",
       "      <td>NaN</td>\n",
       "      <td>NaN</td>\n",
       "      <td>NaN</td>\n",
       "      <td>NaN</td>\n",
       "      <td>NaN</td>\n",
       "      <td>NaN</td>\n",
       "      <td>...</td>\n",
       "      <td>NaN</td>\n",
       "      <td>NaN</td>\n",
       "      <td>NaN</td>\n",
       "      <td>NaN</td>\n",
       "      <td>NaN</td>\n",
       "      <td>NaN</td>\n",
       "      <td>NaN</td>\n",
       "      <td>NaN</td>\n",
       "      <td>NaN</td>\n",
       "      <td>NaN</td>\n",
       "    </tr>\n",
       "    <tr>\n",
       "      <th>7</th>\n",
       "      <td>2987038</td>\n",
       "      <td>0.0</td>\n",
       "      <td>31964.0</td>\n",
       "      <td>0.0</td>\n",
       "      <td>0.0</td>\n",
       "      <td>0.0</td>\n",
       "      <td>-10.0</td>\n",
       "      <td>NaN</td>\n",
       "      <td>NaN</td>\n",
       "      <td>0.0</td>\n",
       "      <td>...</td>\n",
       "      <td>chrome 62.0</td>\n",
       "      <td>32.0</td>\n",
       "      <td>1920x1080</td>\n",
       "      <td>match_status:2</td>\n",
       "      <td>T</td>\n",
       "      <td>F</td>\n",
       "      <td>T</td>\n",
       "      <td>T</td>\n",
       "      <td>mobile</td>\n",
       "      <td>NaN</td>\n",
       "    </tr>\n",
       "    <tr>\n",
       "      <th>8</th>\n",
       "      <td>2987040</td>\n",
       "      <td>-10.0</td>\n",
       "      <td>116098.0</td>\n",
       "      <td>0.0</td>\n",
       "      <td>0.0</td>\n",
       "      <td>0.0</td>\n",
       "      <td>0.0</td>\n",
       "      <td>NaN</td>\n",
       "      <td>NaN</td>\n",
       "      <td>0.0</td>\n",
       "      <td>...</td>\n",
       "      <td>chrome 62.0</td>\n",
       "      <td>NaN</td>\n",
       "      <td>NaN</td>\n",
       "      <td>NaN</td>\n",
       "      <td>F</td>\n",
       "      <td>F</td>\n",
       "      <td>T</td>\n",
       "      <td>T</td>\n",
       "      <td>desktop</td>\n",
       "      <td>Windows</td>\n",
       "    </tr>\n",
       "    <tr>\n",
       "      <th>9</th>\n",
       "      <td>2987048</td>\n",
       "      <td>-5.0</td>\n",
       "      <td>257037.0</td>\n",
       "      <td>NaN</td>\n",
       "      <td>NaN</td>\n",
       "      <td>0.0</td>\n",
       "      <td>0.0</td>\n",
       "      <td>NaN</td>\n",
       "      <td>NaN</td>\n",
       "      <td>NaN</td>\n",
       "      <td>...</td>\n",
       "      <td>chrome 62.0</td>\n",
       "      <td>NaN</td>\n",
       "      <td>NaN</td>\n",
       "      <td>NaN</td>\n",
       "      <td>F</td>\n",
       "      <td>F</td>\n",
       "      <td>T</td>\n",
       "      <td>T</td>\n",
       "      <td>desktop</td>\n",
       "      <td>Windows</td>\n",
       "    </tr>\n",
       "  </tbody>\n",
       "</table>\n",
       "<p>10 rows × 41 columns</p>\n",
       "</div>"
      ],
      "text/plain": [
       "   TransactionID  id_01     id_02  id_03  id_04  id_05  id_06  id_07  id_08  \\\n",
       "0        2987004    0.0   70787.0    NaN    NaN    NaN    NaN    NaN    NaN   \n",
       "1        2987008   -5.0   98945.0    NaN    NaN    0.0   -5.0    NaN    NaN   \n",
       "2        2987010   -5.0  191631.0    0.0    0.0    0.0    0.0    NaN    NaN   \n",
       "3        2987011   -5.0  221832.0    NaN    NaN    0.0   -6.0    NaN    NaN   \n",
       "4        2987016    0.0    7460.0    0.0    0.0    1.0    0.0    NaN    NaN   \n",
       "5        2987017   -5.0   61141.0    3.0    0.0    3.0    0.0    NaN    NaN   \n",
       "6        2987022  -15.0       NaN    NaN    NaN    NaN    NaN    NaN    NaN   \n",
       "7        2987038    0.0   31964.0    0.0    0.0    0.0  -10.0    NaN    NaN   \n",
       "8        2987040  -10.0  116098.0    0.0    0.0    0.0    0.0    NaN    NaN   \n",
       "9        2987048   -5.0  257037.0    NaN    NaN    0.0    0.0    NaN    NaN   \n",
       "\n",
       "   id_09  ...                id_31  id_32      id_33           id_34  id_35  \\\n",
       "0    NaN  ...  samsung browser 6.2   32.0  2220x1080  match_status:2      T   \n",
       "1    NaN  ...   mobile safari 11.0   32.0   1334x750  match_status:1      T   \n",
       "2    0.0  ...          chrome 62.0    NaN        NaN             NaN      F   \n",
       "3    NaN  ...          chrome 62.0    NaN        NaN             NaN      F   \n",
       "4    0.0  ...          chrome 62.0   24.0   1280x800  match_status:2      T   \n",
       "5    3.0  ...          chrome 62.0   24.0   1366x768  match_status:2      T   \n",
       "6    NaN  ...                  NaN    NaN        NaN             NaN    NaN   \n",
       "7    0.0  ...          chrome 62.0   32.0  1920x1080  match_status:2      T   \n",
       "8    0.0  ...          chrome 62.0    NaN        NaN             NaN      F   \n",
       "9    NaN  ...          chrome 62.0    NaN        NaN             NaN      F   \n",
       "\n",
       "  id_36 id_37  id_38  DeviceType                     DeviceInfo  \n",
       "0     F     T      T      mobile  SAMSUNG SM-G892A Build/NRD90M  \n",
       "1     F     F      T      mobile                     iOS Device  \n",
       "2     F     T      T     desktop                        Windows  \n",
       "3     F     T      T     desktop                            NaN  \n",
       "4     F     T      T     desktop                          MacOS  \n",
       "5     F     T      T     desktop                        Windows  \n",
       "6   NaN   NaN    NaN         NaN                            NaN  \n",
       "7     F     T      T      mobile                            NaN  \n",
       "8     F     T      T     desktop                        Windows  \n",
       "9     F     T      T     desktop                        Windows  \n",
       "\n",
       "[10 rows x 41 columns]"
      ]
     },
     "execution_count": 3,
     "metadata": {},
     "output_type": "execute_result"
    }
   ],
   "source": [
    "train_identity_data.head(10)"
   ]
  },
  {
   "cell_type": "code",
   "execution_count": 4,
   "id": "688ab6f4",
   "metadata": {
    "execution": {
     "iopub.execute_input": "2023-11-06T09:43:28.323471Z",
     "iopub.status.busy": "2023-11-06T09:43:28.322977Z",
     "iopub.status.idle": "2023-11-06T09:43:28.328622Z",
     "shell.execute_reply": "2023-11-06T09:43:28.327748Z"
    },
    "papermill": {
     "duration": 0.023101,
     "end_time": "2023-11-06T09:43:28.331104",
     "exception": false,
     "start_time": "2023-11-06T09:43:28.308003",
     "status": "completed"
    },
    "tags": []
   },
   "outputs": [
    {
     "name": "stdout",
     "output_type": "stream",
     "text": [
      "train_identity_data shape:  (144233, 41)\n"
     ]
    }
   ],
   "source": [
    "print('train_identity_data shape: ', train_identity_data.shape)"
   ]
  },
  {
   "cell_type": "code",
   "execution_count": 5,
   "id": "40499cc4",
   "metadata": {
    "execution": {
     "iopub.execute_input": "2023-11-06T09:43:28.360446Z",
     "iopub.status.busy": "2023-11-06T09:43:28.359678Z",
     "iopub.status.idle": "2023-11-06T09:44:04.040519Z",
     "shell.execute_reply": "2023-11-06T09:44:04.039110Z"
    },
    "papermill": {
     "duration": 35.699215,
     "end_time": "2023-11-06T09:44:04.043643",
     "exception": false,
     "start_time": "2023-11-06T09:43:28.344428",
     "status": "completed"
    },
    "tags": []
   },
   "outputs": [],
   "source": [
    "train_transaction_data = pd.read_csv('/kaggle/input/ieee-fraud-detection/train_transaction.csv')"
   ]
  },
  {
   "cell_type": "code",
   "execution_count": 6,
   "id": "fe415c1b",
   "metadata": {
    "execution": {
     "iopub.execute_input": "2023-11-06T09:44:04.073024Z",
     "iopub.status.busy": "2023-11-06T09:44:04.072617Z",
     "iopub.status.idle": "2023-11-06T09:44:04.114823Z",
     "shell.execute_reply": "2023-11-06T09:44:04.113580Z"
    },
    "papermill": {
     "duration": 0.059942,
     "end_time": "2023-11-06T09:44:04.117431",
     "exception": false,
     "start_time": "2023-11-06T09:44:04.057489",
     "status": "completed"
    },
    "tags": []
   },
   "outputs": [
    {
     "data": {
      "text/html": [
       "<div>\n",
       "<style scoped>\n",
       "    .dataframe tbody tr th:only-of-type {\n",
       "        vertical-align: middle;\n",
       "    }\n",
       "\n",
       "    .dataframe tbody tr th {\n",
       "        vertical-align: top;\n",
       "    }\n",
       "\n",
       "    .dataframe thead th {\n",
       "        text-align: right;\n",
       "    }\n",
       "</style>\n",
       "<table border=\"1\" class=\"dataframe\">\n",
       "  <thead>\n",
       "    <tr style=\"text-align: right;\">\n",
       "      <th></th>\n",
       "      <th>TransactionID</th>\n",
       "      <th>isFraud</th>\n",
       "      <th>TransactionDT</th>\n",
       "      <th>TransactionAmt</th>\n",
       "      <th>ProductCD</th>\n",
       "      <th>card1</th>\n",
       "      <th>card2</th>\n",
       "      <th>card3</th>\n",
       "      <th>card4</th>\n",
       "      <th>card5</th>\n",
       "      <th>...</th>\n",
       "      <th>V330</th>\n",
       "      <th>V331</th>\n",
       "      <th>V332</th>\n",
       "      <th>V333</th>\n",
       "      <th>V334</th>\n",
       "      <th>V335</th>\n",
       "      <th>V336</th>\n",
       "      <th>V337</th>\n",
       "      <th>V338</th>\n",
       "      <th>V339</th>\n",
       "    </tr>\n",
       "  </thead>\n",
       "  <tbody>\n",
       "    <tr>\n",
       "      <th>0</th>\n",
       "      <td>2987000</td>\n",
       "      <td>0</td>\n",
       "      <td>86400</td>\n",
       "      <td>68.5</td>\n",
       "      <td>W</td>\n",
       "      <td>13926</td>\n",
       "      <td>NaN</td>\n",
       "      <td>150.0</td>\n",
       "      <td>discover</td>\n",
       "      <td>142.0</td>\n",
       "      <td>...</td>\n",
       "      <td>NaN</td>\n",
       "      <td>NaN</td>\n",
       "      <td>NaN</td>\n",
       "      <td>NaN</td>\n",
       "      <td>NaN</td>\n",
       "      <td>NaN</td>\n",
       "      <td>NaN</td>\n",
       "      <td>NaN</td>\n",
       "      <td>NaN</td>\n",
       "      <td>NaN</td>\n",
       "    </tr>\n",
       "    <tr>\n",
       "      <th>1</th>\n",
       "      <td>2987001</td>\n",
       "      <td>0</td>\n",
       "      <td>86401</td>\n",
       "      <td>29.0</td>\n",
       "      <td>W</td>\n",
       "      <td>2755</td>\n",
       "      <td>404.0</td>\n",
       "      <td>150.0</td>\n",
       "      <td>mastercard</td>\n",
       "      <td>102.0</td>\n",
       "      <td>...</td>\n",
       "      <td>NaN</td>\n",
       "      <td>NaN</td>\n",
       "      <td>NaN</td>\n",
       "      <td>NaN</td>\n",
       "      <td>NaN</td>\n",
       "      <td>NaN</td>\n",
       "      <td>NaN</td>\n",
       "      <td>NaN</td>\n",
       "      <td>NaN</td>\n",
       "      <td>NaN</td>\n",
       "    </tr>\n",
       "    <tr>\n",
       "      <th>2</th>\n",
       "      <td>2987002</td>\n",
       "      <td>0</td>\n",
       "      <td>86469</td>\n",
       "      <td>59.0</td>\n",
       "      <td>W</td>\n",
       "      <td>4663</td>\n",
       "      <td>490.0</td>\n",
       "      <td>150.0</td>\n",
       "      <td>visa</td>\n",
       "      <td>166.0</td>\n",
       "      <td>...</td>\n",
       "      <td>NaN</td>\n",
       "      <td>NaN</td>\n",
       "      <td>NaN</td>\n",
       "      <td>NaN</td>\n",
       "      <td>NaN</td>\n",
       "      <td>NaN</td>\n",
       "      <td>NaN</td>\n",
       "      <td>NaN</td>\n",
       "      <td>NaN</td>\n",
       "      <td>NaN</td>\n",
       "    </tr>\n",
       "    <tr>\n",
       "      <th>3</th>\n",
       "      <td>2987003</td>\n",
       "      <td>0</td>\n",
       "      <td>86499</td>\n",
       "      <td>50.0</td>\n",
       "      <td>W</td>\n",
       "      <td>18132</td>\n",
       "      <td>567.0</td>\n",
       "      <td>150.0</td>\n",
       "      <td>mastercard</td>\n",
       "      <td>117.0</td>\n",
       "      <td>...</td>\n",
       "      <td>NaN</td>\n",
       "      <td>NaN</td>\n",
       "      <td>NaN</td>\n",
       "      <td>NaN</td>\n",
       "      <td>NaN</td>\n",
       "      <td>NaN</td>\n",
       "      <td>NaN</td>\n",
       "      <td>NaN</td>\n",
       "      <td>NaN</td>\n",
       "      <td>NaN</td>\n",
       "    </tr>\n",
       "    <tr>\n",
       "      <th>4</th>\n",
       "      <td>2987004</td>\n",
       "      <td>0</td>\n",
       "      <td>86506</td>\n",
       "      <td>50.0</td>\n",
       "      <td>H</td>\n",
       "      <td>4497</td>\n",
       "      <td>514.0</td>\n",
       "      <td>150.0</td>\n",
       "      <td>mastercard</td>\n",
       "      <td>102.0</td>\n",
       "      <td>...</td>\n",
       "      <td>0.0</td>\n",
       "      <td>0.0</td>\n",
       "      <td>0.0</td>\n",
       "      <td>0.0</td>\n",
       "      <td>0.0</td>\n",
       "      <td>0.0</td>\n",
       "      <td>0.0</td>\n",
       "      <td>0.0</td>\n",
       "      <td>0.0</td>\n",
       "      <td>0.0</td>\n",
       "    </tr>\n",
       "    <tr>\n",
       "      <th>5</th>\n",
       "      <td>2987005</td>\n",
       "      <td>0</td>\n",
       "      <td>86510</td>\n",
       "      <td>49.0</td>\n",
       "      <td>W</td>\n",
       "      <td>5937</td>\n",
       "      <td>555.0</td>\n",
       "      <td>150.0</td>\n",
       "      <td>visa</td>\n",
       "      <td>226.0</td>\n",
       "      <td>...</td>\n",
       "      <td>NaN</td>\n",
       "      <td>NaN</td>\n",
       "      <td>NaN</td>\n",
       "      <td>NaN</td>\n",
       "      <td>NaN</td>\n",
       "      <td>NaN</td>\n",
       "      <td>NaN</td>\n",
       "      <td>NaN</td>\n",
       "      <td>NaN</td>\n",
       "      <td>NaN</td>\n",
       "    </tr>\n",
       "    <tr>\n",
       "      <th>6</th>\n",
       "      <td>2987006</td>\n",
       "      <td>0</td>\n",
       "      <td>86522</td>\n",
       "      <td>159.0</td>\n",
       "      <td>W</td>\n",
       "      <td>12308</td>\n",
       "      <td>360.0</td>\n",
       "      <td>150.0</td>\n",
       "      <td>visa</td>\n",
       "      <td>166.0</td>\n",
       "      <td>...</td>\n",
       "      <td>NaN</td>\n",
       "      <td>NaN</td>\n",
       "      <td>NaN</td>\n",
       "      <td>NaN</td>\n",
       "      <td>NaN</td>\n",
       "      <td>NaN</td>\n",
       "      <td>NaN</td>\n",
       "      <td>NaN</td>\n",
       "      <td>NaN</td>\n",
       "      <td>NaN</td>\n",
       "    </tr>\n",
       "    <tr>\n",
       "      <th>7</th>\n",
       "      <td>2987007</td>\n",
       "      <td>0</td>\n",
       "      <td>86529</td>\n",
       "      <td>422.5</td>\n",
       "      <td>W</td>\n",
       "      <td>12695</td>\n",
       "      <td>490.0</td>\n",
       "      <td>150.0</td>\n",
       "      <td>visa</td>\n",
       "      <td>226.0</td>\n",
       "      <td>...</td>\n",
       "      <td>NaN</td>\n",
       "      <td>NaN</td>\n",
       "      <td>NaN</td>\n",
       "      <td>NaN</td>\n",
       "      <td>NaN</td>\n",
       "      <td>NaN</td>\n",
       "      <td>NaN</td>\n",
       "      <td>NaN</td>\n",
       "      <td>NaN</td>\n",
       "      <td>NaN</td>\n",
       "    </tr>\n",
       "    <tr>\n",
       "      <th>8</th>\n",
       "      <td>2987008</td>\n",
       "      <td>0</td>\n",
       "      <td>86535</td>\n",
       "      <td>15.0</td>\n",
       "      <td>H</td>\n",
       "      <td>2803</td>\n",
       "      <td>100.0</td>\n",
       "      <td>150.0</td>\n",
       "      <td>visa</td>\n",
       "      <td>226.0</td>\n",
       "      <td>...</td>\n",
       "      <td>0.0</td>\n",
       "      <td>0.0</td>\n",
       "      <td>0.0</td>\n",
       "      <td>0.0</td>\n",
       "      <td>0.0</td>\n",
       "      <td>0.0</td>\n",
       "      <td>0.0</td>\n",
       "      <td>0.0</td>\n",
       "      <td>0.0</td>\n",
       "      <td>0.0</td>\n",
       "    </tr>\n",
       "    <tr>\n",
       "      <th>9</th>\n",
       "      <td>2987009</td>\n",
       "      <td>0</td>\n",
       "      <td>86536</td>\n",
       "      <td>117.0</td>\n",
       "      <td>W</td>\n",
       "      <td>17399</td>\n",
       "      <td>111.0</td>\n",
       "      <td>150.0</td>\n",
       "      <td>mastercard</td>\n",
       "      <td>224.0</td>\n",
       "      <td>...</td>\n",
       "      <td>NaN</td>\n",
       "      <td>NaN</td>\n",
       "      <td>NaN</td>\n",
       "      <td>NaN</td>\n",
       "      <td>NaN</td>\n",
       "      <td>NaN</td>\n",
       "      <td>NaN</td>\n",
       "      <td>NaN</td>\n",
       "      <td>NaN</td>\n",
       "      <td>NaN</td>\n",
       "    </tr>\n",
       "  </tbody>\n",
       "</table>\n",
       "<p>10 rows × 394 columns</p>\n",
       "</div>"
      ],
      "text/plain": [
       "   TransactionID  isFraud  TransactionDT  TransactionAmt ProductCD  card1  \\\n",
       "0        2987000        0          86400            68.5         W  13926   \n",
       "1        2987001        0          86401            29.0         W   2755   \n",
       "2        2987002        0          86469            59.0         W   4663   \n",
       "3        2987003        0          86499            50.0         W  18132   \n",
       "4        2987004        0          86506            50.0         H   4497   \n",
       "5        2987005        0          86510            49.0         W   5937   \n",
       "6        2987006        0          86522           159.0         W  12308   \n",
       "7        2987007        0          86529           422.5         W  12695   \n",
       "8        2987008        0          86535            15.0         H   2803   \n",
       "9        2987009        0          86536           117.0         W  17399   \n",
       "\n",
       "   card2  card3       card4  card5  ... V330  V331  V332  V333  V334 V335  \\\n",
       "0    NaN  150.0    discover  142.0  ...  NaN   NaN   NaN   NaN   NaN  NaN   \n",
       "1  404.0  150.0  mastercard  102.0  ...  NaN   NaN   NaN   NaN   NaN  NaN   \n",
       "2  490.0  150.0        visa  166.0  ...  NaN   NaN   NaN   NaN   NaN  NaN   \n",
       "3  567.0  150.0  mastercard  117.0  ...  NaN   NaN   NaN   NaN   NaN  NaN   \n",
       "4  514.0  150.0  mastercard  102.0  ...  0.0   0.0   0.0   0.0   0.0  0.0   \n",
       "5  555.0  150.0        visa  226.0  ...  NaN   NaN   NaN   NaN   NaN  NaN   \n",
       "6  360.0  150.0        visa  166.0  ...  NaN   NaN   NaN   NaN   NaN  NaN   \n",
       "7  490.0  150.0        visa  226.0  ...  NaN   NaN   NaN   NaN   NaN  NaN   \n",
       "8  100.0  150.0        visa  226.0  ...  0.0   0.0   0.0   0.0   0.0  0.0   \n",
       "9  111.0  150.0  mastercard  224.0  ...  NaN   NaN   NaN   NaN   NaN  NaN   \n",
       "\n",
       "  V336  V337  V338  V339  \n",
       "0  NaN   NaN   NaN   NaN  \n",
       "1  NaN   NaN   NaN   NaN  \n",
       "2  NaN   NaN   NaN   NaN  \n",
       "3  NaN   NaN   NaN   NaN  \n",
       "4  0.0   0.0   0.0   0.0  \n",
       "5  NaN   NaN   NaN   NaN  \n",
       "6  NaN   NaN   NaN   NaN  \n",
       "7  NaN   NaN   NaN   NaN  \n",
       "8  0.0   0.0   0.0   0.0  \n",
       "9  NaN   NaN   NaN   NaN  \n",
       "\n",
       "[10 rows x 394 columns]"
      ]
     },
     "execution_count": 6,
     "metadata": {},
     "output_type": "execute_result"
    }
   ],
   "source": [
    "train_transaction_data.head(10)"
   ]
  },
  {
   "cell_type": "code",
   "execution_count": 7,
   "id": "ee179cee",
   "metadata": {
    "execution": {
     "iopub.execute_input": "2023-11-06T09:44:04.147785Z",
     "iopub.status.busy": "2023-11-06T09:44:04.146525Z",
     "iopub.status.idle": "2023-11-06T09:44:04.153322Z",
     "shell.execute_reply": "2023-11-06T09:44:04.152212Z"
    },
    "papermill": {
     "duration": 0.024321,
     "end_time": "2023-11-06T09:44:04.155642",
     "exception": false,
     "start_time": "2023-11-06T09:44:04.131321",
     "status": "completed"
    },
    "tags": []
   },
   "outputs": [
    {
     "name": "stdout",
     "output_type": "stream",
     "text": [
      "train transaction data shape:  (590540, 394)\n"
     ]
    }
   ],
   "source": [
    "print('train transaction data shape: ', train_transaction_data.shape)"
   ]
  },
  {
   "cell_type": "code",
   "execution_count": 8,
   "id": "f3681e6a",
   "metadata": {
    "execution": {
     "iopub.execute_input": "2023-11-06T09:44:04.186322Z",
     "iopub.status.busy": "2023-11-06T09:44:04.185333Z",
     "iopub.status.idle": "2023-11-06T09:44:04.435542Z",
     "shell.execute_reply": "2023-11-06T09:44:04.434397Z"
    },
    "papermill": {
     "duration": 0.268679,
     "end_time": "2023-11-06T09:44:04.438216",
     "exception": false,
     "start_time": "2023-11-06T09:44:04.169537",
     "status": "completed"
    },
    "tags": []
   },
   "outputs": [
    {
     "name": "stdout",
     "output_type": "stream",
     "text": [
      "<class 'pandas.core.frame.DataFrame'>\n",
      "RangeIndex: 144233 entries, 0 to 144232\n",
      "Data columns (total 41 columns):\n",
      " #   Column         Non-Null Count   Dtype  \n",
      "---  ------         --------------   -----  \n",
      " 0   TransactionID  144233 non-null  int64  \n",
      " 1   id_01          144233 non-null  float64\n",
      " 2   id_02          140872 non-null  float64\n",
      " 3   id_03          66324 non-null   float64\n",
      " 4   id_04          66324 non-null   float64\n",
      " 5   id_05          136865 non-null  float64\n",
      " 6   id_06          136865 non-null  float64\n",
      " 7   id_07          5155 non-null    float64\n",
      " 8   id_08          5155 non-null    float64\n",
      " 9   id_09          74926 non-null   float64\n",
      " 10  id_10          74926 non-null   float64\n",
      " 11  id_11          140978 non-null  float64\n",
      " 12  id_12          144233 non-null  object \n",
      " 13  id_13          127320 non-null  float64\n",
      " 14  id_14          80044 non-null   float64\n",
      " 15  id_15          140985 non-null  object \n",
      " 16  id_16          129340 non-null  object \n",
      " 17  id_17          139369 non-null  float64\n",
      " 18  id_18          45113 non-null   float64\n",
      " 19  id_19          139318 non-null  float64\n",
      " 20  id_20          139261 non-null  float64\n",
      " 21  id_21          5159 non-null    float64\n",
      " 22  id_22          5169 non-null    float64\n",
      " 23  id_23          5169 non-null    object \n",
      " 24  id_24          4747 non-null    float64\n",
      " 25  id_25          5132 non-null    float64\n",
      " 26  id_26          5163 non-null    float64\n",
      " 27  id_27          5169 non-null    object \n",
      " 28  id_28          140978 non-null  object \n",
      " 29  id_29          140978 non-null  object \n",
      " 30  id_30          77565 non-null   object \n",
      " 31  id_31          140282 non-null  object \n",
      " 32  id_32          77586 non-null   float64\n",
      " 33  id_33          73289 non-null   object \n",
      " 34  id_34          77805 non-null   object \n",
      " 35  id_35          140985 non-null  object \n",
      " 36  id_36          140985 non-null  object \n",
      " 37  id_37          140985 non-null  object \n",
      " 38  id_38          140985 non-null  object \n",
      " 39  DeviceType     140810 non-null  object \n",
      " 40  DeviceInfo     118666 non-null  object \n",
      "dtypes: float64(23), int64(1), object(17)\n",
      "memory usage: 45.1+ MB\n"
     ]
    }
   ],
   "source": [
    "train_identity_data.info()"
   ]
  },
  {
   "cell_type": "markdown",
   "id": "7c91f987",
   "metadata": {
    "papermill": {
     "duration": 0.013999,
     "end_time": "2023-11-06T09:44:04.466563",
     "exception": false,
     "start_time": "2023-11-06T09:44:04.452564",
     "status": "completed"
    },
    "tags": []
   },
   "source": [
    "Посмотрим какой объём оперативной памяти занимают датасеты:"
   ]
  },
  {
   "cell_type": "code",
   "execution_count": 9,
   "id": "df1c31f6",
   "metadata": {
    "execution": {
     "iopub.execute_input": "2023-11-06T09:44:04.496712Z",
     "iopub.status.busy": "2023-11-06T09:44:04.496283Z",
     "iopub.status.idle": "2023-11-06T09:44:07.125822Z",
     "shell.execute_reply": "2023-11-06T09:44:07.124234Z"
    },
    "papermill": {
     "duration": 2.647743,
     "end_time": "2023-11-06T09:44:07.128475",
     "exception": false,
     "start_time": "2023-11-06T09:44:04.480732",
     "status": "completed"
    },
    "tags": []
   },
   "outputs": [
    {
     "name": "stdout",
     "output_type": "stream",
     "text": [
      "train_identity dataframe: 0.15 GB of memory\n",
      "train_transaction dataframe: 2.05 GB of memory\n"
     ]
    }
   ],
   "source": [
    "train_id_GB = train_identity_data.memory_usage(deep=True).sum()/1024**3\n",
    "train_transaction_GB = train_transaction_data.memory_usage(deep=True).sum()/1024**3\n",
    "\n",
    "print(f'train_identity dataframe: {train_id_GB:.2f} GB of memory')\n",
    "print(f'train_transaction dataframe: {train_transaction_GB:.2f} GB of memory')"
   ]
  },
  {
   "cell_type": "markdown",
   "id": "fc06cfea",
   "metadata": {
    "papermill": {
     "duration": 0.013598,
     "end_time": "2023-11-06T09:44:07.156301",
     "exception": false,
     "start_time": "2023-11-06T09:44:07.142703",
     "status": "completed"
    },
    "tags": []
   },
   "source": [
    "Видим, что датафреймы занимают достаточно большой объём оперативной памяти, следовательно на обработку каждого датафрейма, особенно **train_transaction** будет затрачено большое кол-во ресурсов и довольно длительное время. \n",
    "\n",
    "Исходя из этого необходимо уменьшить занимаемый ими объём памяти. Сделаем это при помощи способа с изменением типов переменных"
   ]
  },
  {
   "cell_type": "markdown",
   "id": "74a90714",
   "metadata": {
    "papermill": {
     "duration": 0.013656,
     "end_time": "2023-11-06T09:44:07.184163",
     "exception": false,
     "start_time": "2023-11-06T09:44:07.170507",
     "status": "completed"
    },
    "tags": []
   },
   "source": [
    "Возьмём все значения типа ```int``` и преобразуем их в ```uint``` типы, т.к. хранение только положительных значений позволит нам уменьшить объём занимаемой памяти"
   ]
  },
  {
   "cell_type": "code",
   "execution_count": 10,
   "id": "be8fb7c5",
   "metadata": {
    "execution": {
     "iopub.execute_input": "2023-11-06T09:44:07.214164Z",
     "iopub.status.busy": "2023-11-06T09:44:07.213770Z",
     "iopub.status.idle": "2023-11-06T09:44:07.238502Z",
     "shell.execute_reply": "2023-11-06T09:44:07.236996Z"
    },
    "papermill": {
     "duration": 0.042625,
     "end_time": "2023-11-06T09:44:07.240864",
     "exception": false,
     "start_time": "2023-11-06T09:44:07.198239",
     "status": "completed"
    },
    "tags": []
   },
   "outputs": [
    {
     "name": "stdout",
     "output_type": "stream",
     "text": [
      "downcast subtypes \"int\" to \"uint\"\n",
      "memory usage before:  1.10 MB\n",
      "memory usage after:   0.55 MB\n"
     ]
    }
   ],
   "source": [
    "def memory_usage(pandas_object):\n",
    "    if isinstance(pandas_object, pd.DataFrame):\n",
    "        usage_b = pandas_object.memory_usage(deep=True).sum()\n",
    "    else:\n",
    "        usage_b = pandas_obj.memory_usage(deep=True)\n",
    "    usage_mb = usage_b / 1024 ** 2 # convert to mb\n",
    "    return '{:03.2f} MB'.format(usage_mb)\n",
    "gl_int = train_identity_data.select_dtypes(include=['int'])\n",
    "converted_int = gl_int.apply(pd.to_numeric, downcast='unsigned')\n",
    "print('downcast subtypes \"int\" to \"uint\"')\n",
    "print('memory usage before: ', memory_usage(gl_int))\n",
    "print('memory usage after:  ', memory_usage(converted_int))"
   ]
  },
  {
   "cell_type": "markdown",
   "id": "696a004f",
   "metadata": {
    "papermill": {
     "duration": 0.014103,
     "end_time": "2023-11-06T09:44:07.334106",
     "exception": false,
     "start_time": "2023-11-06T09:44:07.320003",
     "status": "completed"
    },
    "tags": []
   },
   "source": [
    "Проделаем ту же операцию для ```float``` переменных:"
   ]
  },
  {
   "cell_type": "code",
   "execution_count": 11,
   "id": "8bcf0118",
   "metadata": {
    "execution": {
     "iopub.execute_input": "2023-11-06T09:44:07.365328Z",
     "iopub.status.busy": "2023-11-06T09:44:07.364289Z",
     "iopub.status.idle": "2023-11-06T09:44:07.531037Z",
     "shell.execute_reply": "2023-11-06T09:44:07.529786Z"
    },
    "papermill": {
     "duration": 0.185241,
     "end_time": "2023-11-06T09:44:07.533713",
     "exception": false,
     "start_time": "2023-11-06T09:44:07.348472",
     "status": "completed"
    },
    "tags": []
   },
   "outputs": [
    {
     "name": "stdout",
     "output_type": "stream",
     "text": [
      "downcast subtypes of \"float\" to \"float\"\n",
      "memory usage before:  25.31 MB\n",
      "memory usage after:   12.65 MB\n"
     ]
    }
   ],
   "source": [
    "gl_float = train_identity_data.select_dtypes(include=['float'])\n",
    "converted_float = gl_float.apply(pd.to_numeric, downcast='float')\n",
    "print('downcast subtypes of \"float\" to \"float\"')\n",
    "print('memory usage before: ', memory_usage(gl_float))\n",
    "print('memory usage after:  ', memory_usage(converted_float))"
   ]
  },
  {
   "cell_type": "markdown",
   "id": "e77c9373",
   "metadata": {
    "papermill": {
     "duration": 0.014573,
     "end_time": "2023-11-06T09:44:07.562779",
     "exception": false,
     "start_time": "2023-11-06T09:44:07.548206",
     "status": "completed"
    },
    "tags": []
   },
   "source": [
    "Теперь создадим копию нашего датасета ```train_identity``` и заменим текущие числовые значения на преобразованные:"
   ]
  },
  {
   "cell_type": "code",
   "execution_count": 12,
   "id": "fa97da21",
   "metadata": {
    "execution": {
     "iopub.execute_input": "2023-11-06T09:44:07.593839Z",
     "iopub.status.busy": "2023-11-06T09:44:07.593458Z",
     "iopub.status.idle": "2023-11-06T09:44:08.834347Z",
     "shell.execute_reply": "2023-11-06T09:44:08.832526Z"
    },
    "papermill": {
     "duration": 1.261729,
     "end_time": "2023-11-06T09:44:08.839120",
     "exception": false,
     "start_time": "2023-11-06T09:44:07.577391",
     "status": "completed"
    },
    "tags": []
   },
   "outputs": [
    {
     "name": "stdout",
     "output_type": "stream",
     "text": [
      "===== Memory usage of train_identity =====\n",
      "before optimization:  157.63 MB\n",
      "after optimization:  144.43 MB\n"
     ]
    }
   ],
   "source": [
    "optimized_train_identity = train_identity_data.copy()\n",
    "optimized_train_identity[converted_int.columns] = converted_int\n",
    "optimized_train_identity[converted_float.columns] = converted_float\n",
    "print('===== Memory usage of train_identity =====')\n",
    "print('before optimization: ', memory_usage(train_identity_data))\n",
    "print('after optimization: ', memory_usage(optimized_train_identity))"
   ]
  },
  {
   "cell_type": "code",
   "execution_count": 13,
   "id": "f5470ffb",
   "metadata": {
    "execution": {
     "iopub.execute_input": "2023-11-06T09:44:08.884038Z",
     "iopub.status.busy": "2023-11-06T09:44:08.883620Z",
     "iopub.status.idle": "2023-11-06T09:44:08.890099Z",
     "shell.execute_reply": "2023-11-06T09:44:08.889066Z"
    },
    "papermill": {
     "duration": 0.030094,
     "end_time": "2023-11-06T09:44:08.892522",
     "exception": false,
     "start_time": "2023-11-06T09:44:08.862428",
     "status": "completed"
    },
    "tags": []
   },
   "outputs": [
    {
     "name": "stdout",
     "output_type": "stream",
     "text": [
      "optimization memory of train_identity: 8.374040474528954 %\n"
     ]
    }
   ],
   "source": [
    "opt_in_prct = 100 - (144.43 * 100 / 157.63)\n",
    "print(f'optimization memory of train_identity: {opt_in_prct} %')"
   ]
  },
  {
   "cell_type": "markdown",
   "id": "66f9a0a1",
   "metadata": {
    "papermill": {
     "duration": 0.015001,
     "end_time": "2023-11-06T09:44:08.922524",
     "exception": false,
     "start_time": "2023-11-06T09:44:08.907523",
     "status": "completed"
    },
    "tags": []
   },
   "source": [
    "Видим, что для датасета ```train_identity``` преобразование подтипов ```int``` и ```float``` уменьшает объём памяти на ```8.37 %```"
   ]
  },
  {
   "cell_type": "markdown",
   "id": "f1280b78",
   "metadata": {
    "papermill": {
     "duration": 0.014738,
     "end_time": "2023-11-06T09:44:08.952045",
     "exception": false,
     "start_time": "2023-11-06T09:44:08.937307",
     "status": "completed"
    },
    "tags": []
   },
   "source": [
    "Теперь проделаем то же самое для датасета ```train_transaction```"
   ]
  },
  {
   "cell_type": "code",
   "execution_count": 14,
   "id": "9437dbed",
   "metadata": {
    "execution": {
     "iopub.execute_input": "2023-11-06T09:44:08.983510Z",
     "iopub.status.busy": "2023-11-06T09:44:08.983086Z",
     "iopub.status.idle": "2023-11-06T09:44:09.057797Z",
     "shell.execute_reply": "2023-11-06T09:44:09.056234Z"
    },
    "papermill": {
     "duration": 0.093624,
     "end_time": "2023-11-06T09:44:09.060536",
     "exception": false,
     "start_time": "2023-11-06T09:44:08.966912",
     "status": "completed"
    },
    "tags": []
   },
   "outputs": [
    {
     "name": "stdout",
     "output_type": "stream",
     "text": [
      "downcast subtypes \"int\" to \"uint\" of train_transaction\n",
      "memory usage before:  18.02 MB\n",
      "memory usage after:  6.20 MB\n"
     ]
    }
   ],
   "source": [
    "int_train_tr = train_transaction_data.select_dtypes(include=['int'])\n",
    "converted_int_train_tr = int_train_tr.apply(pd.to_numeric, downcast='unsigned')\n",
    "print('downcast subtypes \"int\" to \"uint\" of train_transaction')\n",
    "print('memory usage before: ', memory_usage(int_train_tr))\n",
    "print('memory usage after: ', memory_usage(converted_int_train_tr))"
   ]
  },
  {
   "cell_type": "code",
   "execution_count": 15,
   "id": "04159422",
   "metadata": {
    "execution": {
     "iopub.execute_input": "2023-11-06T09:44:09.093200Z",
     "iopub.status.busy": "2023-11-06T09:44:09.092771Z",
     "iopub.status.idle": "2023-11-06T09:44:19.573431Z",
     "shell.execute_reply": "2023-11-06T09:44:19.572155Z"
    },
    "papermill": {
     "duration": 10.499702,
     "end_time": "2023-11-06T09:44:19.575935",
     "exception": false,
     "start_time": "2023-11-06T09:44:09.076233",
     "status": "completed"
    },
    "tags": []
   },
   "outputs": [
    {
     "name": "stdout",
     "output_type": "stream",
     "text": [
      "downcast subtypes \"float\" to \"float\" of train_transaction\n",
      "memory usage before:  1694.05 MB\n",
      "memory usage after:  847.03 MB\n"
     ]
    }
   ],
   "source": [
    "float_train_tr = train_transaction_data.select_dtypes(include=['float'])\n",
    "converted_float_train_tr = float_train_tr.apply(pd.to_numeric, downcast='float')\n",
    "print('downcast subtypes \"float\" to \"float\" of train_transaction')\n",
    "print('memory usage before: ', memory_usage(float_train_tr))\n",
    "print('memory usage after: ', memory_usage(converted_float_train_tr))"
   ]
  },
  {
   "cell_type": "code",
   "execution_count": 16,
   "id": "2eb9f4de",
   "metadata": {
    "execution": {
     "iopub.execute_input": "2023-11-06T09:44:19.608907Z",
     "iopub.status.busy": "2023-11-06T09:44:19.608488Z",
     "iopub.status.idle": "2023-11-06T09:44:24.668994Z",
     "shell.execute_reply": "2023-11-06T09:44:24.667560Z"
    },
    "papermill": {
     "duration": 5.080091,
     "end_time": "2023-11-06T09:44:24.671894",
     "exception": false,
     "start_time": "2023-11-06T09:44:19.591803",
     "status": "completed"
    },
    "tags": []
   },
   "outputs": [
    {
     "name": "stdout",
     "output_type": "stream",
     "text": [
      "===== Memory usage of train_transaction =====\n",
      "before optimization:  2100.70 MB\n",
      "after optimization:  1241.85 MB\n"
     ]
    }
   ],
   "source": [
    "optimized_train_tr = train_transaction_data.copy()\n",
    "optimized_train_tr[converted_int_train_tr.columns] = converted_int_train_tr\n",
    "optimized_train_tr[converted_float_train_tr.columns] = converted_float_train_tr\n",
    "print('===== Memory usage of train_transaction =====')\n",
    "print('before optimization: ', memory_usage(train_transaction_data))\n",
    "print('after optimization: ', memory_usage(optimized_train_tr))"
   ]
  },
  {
   "cell_type": "code",
   "execution_count": 17,
   "id": "4cc3f987",
   "metadata": {
    "execution": {
     "iopub.execute_input": "2023-11-06T09:44:24.705531Z",
     "iopub.status.busy": "2023-11-06T09:44:24.704642Z",
     "iopub.status.idle": "2023-11-06T09:44:24.710965Z",
     "shell.execute_reply": "2023-11-06T09:44:24.709726Z"
    },
    "papermill": {
     "duration": 0.026305,
     "end_time": "2023-11-06T09:44:24.713815",
     "exception": false,
     "start_time": "2023-11-06T09:44:24.687510",
     "status": "completed"
    },
    "tags": []
   },
   "outputs": [
    {
     "name": "stdout",
     "output_type": "stream",
     "text": [
      "optimization memory of train_transaction: 40.883991050602184 %\n"
     ]
    }
   ],
   "source": [
    "train_tr_opt_prct = 100 - (1241.85 * 100 / 2100.7)\n",
    "print(f'optimization memory of train_transaction: {train_tr_opt_prct} %')"
   ]
  },
  {
   "cell_type": "markdown",
   "id": "0b3aff9e",
   "metadata": {
    "papermill": {
     "duration": 0.015048,
     "end_time": "2023-11-06T09:44:24.744449",
     "exception": false,
     "start_time": "2023-11-06T09:44:24.729401",
     "status": "completed"
    },
    "tags": []
   },
   "source": [
    "Для датасета ```train_transaction``` преобразование чиловых подтипов уменьшает объём занимаемой памяти на ```40.88 %```"
   ]
  },
  {
   "cell_type": "markdown",
   "id": "796e243c",
   "metadata": {
    "papermill": {
     "duration": 0.014939,
     "end_time": "2023-11-06T09:44:24.774850",
     "exception": false,
     "start_time": "2023-11-06T09:44:24.759911",
     "status": "completed"
    },
    "tags": []
   },
   "source": [
    "Уменьшение объёма занимаемой памяти достигается также преобразованием переменных типа ```object``` в тип ```category```.\n",
    "\n",
    "Также согласно исследованиям, считается, что преобразование в тип ```category``` следует проводить у столбцов с менее чем ```50 %``` уникальными значениями, иначе после преобразования объём занимаемой памяти наоборот увеличится."
   ]
  },
  {
   "cell_type": "markdown",
   "id": "ceff0c22",
   "metadata": {
    "papermill": {
     "duration": 0.015092,
     "end_time": "2023-11-06T09:44:24.805746",
     "exception": false,
     "start_time": "2023-11-06T09:44:24.790654",
     "status": "completed"
    },
    "tags": []
   },
   "source": [
    "Выполним соотвествующее преобразование для датасета ```train_identity```"
   ]
  },
  {
   "cell_type": "code",
   "execution_count": 18,
   "id": "aa4b0d31",
   "metadata": {
    "execution": {
     "iopub.execute_input": "2023-11-06T09:44:24.838229Z",
     "iopub.status.busy": "2023-11-06T09:44:24.837843Z",
     "iopub.status.idle": "2023-11-06T09:44:26.169029Z",
     "shell.execute_reply": "2023-11-06T09:44:26.167616Z"
    },
    "papermill": {
     "duration": 1.350514,
     "end_time": "2023-11-06T09:44:26.171633",
     "exception": false,
     "start_time": "2023-11-06T09:44:24.821119",
     "status": "completed"
    },
    "tags": []
   },
   "outputs": [
    {
     "name": "stdout",
     "output_type": "stream",
     "text": [
      "downcast \"object\" to \"category\" of train_identity\n",
      "memory usage before:  131.22 MB\n",
      "memory usage after:  2.99 MB\n"
     ]
    }
   ],
   "source": [
    "train_id_obj = optimized_train_identity.select_dtypes(include=['object']).copy()\n",
    "\n",
    "def obj_to_cat(current_df_obj):\n",
    "    converted_df_obj=pd.DataFrame()\n",
    "    for col in current_df_obj.columns:\n",
    "        num_unique_values = len(current_df_obj[col].unique())\n",
    "        num_total_values = len(current_df_obj[col])\n",
    "        if num_unique_values / num_total_values < 0.5:\n",
    "            converted_df_obj.loc[:, col] = current_df_obj[col].astype('category')\n",
    "        else:\n",
    "            converted_df_obj.loc[:, col] = current_df_obj[col]\n",
    "    return converted_df_obj\n",
    "\n",
    "train_id_converted_obj = obj_to_cat(train_id_obj)\n",
    "print('downcast \"object\" to \"category\" of train_identity')\n",
    "print('memory usage before: ', memory_usage(train_id_obj))\n",
    "print('memory usage after: ', memory_usage(train_id_converted_obj))"
   ]
  },
  {
   "cell_type": "code",
   "execution_count": 19,
   "id": "db464aaa",
   "metadata": {
    "execution": {
     "iopub.execute_input": "2023-11-06T09:44:26.205364Z",
     "iopub.status.busy": "2023-11-06T09:44:26.204687Z",
     "iopub.status.idle": "2023-11-06T09:44:26.853181Z",
     "shell.execute_reply": "2023-11-06T09:44:26.852055Z"
    },
    "papermill": {
     "duration": 0.668627,
     "end_time": "2023-11-06T09:44:26.856056",
     "exception": false,
     "start_time": "2023-11-06T09:44:26.187429",
     "status": "completed"
    },
    "tags": []
   },
   "outputs": [
    {
     "name": "stdout",
     "output_type": "stream",
     "text": [
      "==== Memory usage of train_identity =====\n",
      "before optimization:  157.63 MB\n",
      "after optimization:  16.19 MB\n"
     ]
    }
   ],
   "source": [
    "print('==== Memory usage of train_identity =====')\n",
    "print('before optimization: ', memory_usage(train_identity_data))\n",
    "optimized_train_identity[train_id_converted_obj.columns] = train_id_converted_obj\n",
    "print('after optimization: ', memory_usage(optimized_train_identity))"
   ]
  },
  {
   "cell_type": "code",
   "execution_count": 20,
   "id": "592f9c70",
   "metadata": {
    "execution": {
     "iopub.execute_input": "2023-11-06T09:44:26.890028Z",
     "iopub.status.busy": "2023-11-06T09:44:26.889057Z",
     "iopub.status.idle": "2023-11-06T09:44:26.896273Z",
     "shell.execute_reply": "2023-11-06T09:44:26.894627Z"
    },
    "papermill": {
     "duration": 0.026464,
     "end_time": "2023-11-06T09:44:26.898657",
     "exception": false,
     "start_time": "2023-11-06T09:44:26.872193",
     "status": "completed"
    },
    "tags": []
   },
   "outputs": [
    {
     "name": "stdout",
     "output_type": "stream",
     "text": [
      "optimization memory of train identity: 89.7291124785891 %\n"
     ]
    }
   ],
   "source": [
    "opt_tr_id_prct = 100 - (16.19 * 100 / 157.63)\n",
    "print(f'optimization memory of train identity: {opt_tr_id_prct} %')"
   ]
  },
  {
   "cell_type": "markdown",
   "id": "69b82e49",
   "metadata": {
    "papermill": {
     "duration": 0.015362,
     "end_time": "2023-11-06T09:44:26.929941",
     "exception": false,
     "start_time": "2023-11-06T09:44:26.914579",
     "status": "completed"
    },
    "tags": []
   },
   "source": [
    "Видим, что после всех оптимизаций объём занимаемой памяти у датасета\n",
    "```train_identity``` уменьшился практически на 90 %!"
   ]
  },
  {
   "cell_type": "markdown",
   "id": "43abe211",
   "metadata": {
    "papermill": {
     "duration": 0.015286,
     "end_time": "2023-11-06T09:44:26.961080",
     "exception": false,
     "start_time": "2023-11-06T09:44:26.945794",
     "status": "completed"
    },
    "tags": []
   },
   "source": [
    "Проделаем преобразование типов ```object``` в ```category``` для датасета ```train_transaction```"
   ]
  },
  {
   "cell_type": "code",
   "execution_count": 21,
   "id": "bd2ab921",
   "metadata": {
    "execution": {
     "iopub.execute_input": "2023-11-06T09:44:26.994864Z",
     "iopub.status.busy": "2023-11-06T09:44:26.994093Z",
     "iopub.status.idle": "2023-11-06T09:44:31.174253Z",
     "shell.execute_reply": "2023-11-06T09:44:31.172834Z"
    },
    "papermill": {
     "duration": 4.19992,
     "end_time": "2023-11-06T09:44:31.176758",
     "exception": false,
     "start_time": "2023-11-06T09:44:26.976838",
     "status": "completed"
    },
    "tags": []
   },
   "outputs": [
    {
     "name": "stdout",
     "output_type": "stream",
     "text": [
      "downcasr \"object\" to \"category\" of train_transaction\n",
      "memory usage before:  388.63 MB\n",
      "memory usage after:  7.90 MB\n"
     ]
    }
   ],
   "source": [
    "train_tr_obj = optimized_train_tr.select_dtypes(include=['object']).copy()\n",
    "train_tr_converted_obj = obj_to_cat(train_tr_obj)\n",
    "print('downcasr \"object\" to \"category\" of train_transaction')\n",
    "print('memory usage before: ', memory_usage(train_tr_obj))\n",
    "print('memory usage after: ', memory_usage(train_tr_converted_obj))"
   ]
  },
  {
   "cell_type": "code",
   "execution_count": 22,
   "id": "45103552",
   "metadata": {
    "execution": {
     "iopub.execute_input": "2023-11-06T09:44:31.212157Z",
     "iopub.status.busy": "2023-11-06T09:44:31.211755Z",
     "iopub.status.idle": "2023-11-06T09:44:33.300122Z",
     "shell.execute_reply": "2023-11-06T09:44:33.298749Z"
    },
    "papermill": {
     "duration": 2.110527,
     "end_time": "2023-11-06T09:44:33.303491",
     "exception": false,
     "start_time": "2023-11-06T09:44:31.192964",
     "status": "completed"
    },
    "tags": []
   },
   "outputs": [
    {
     "name": "stdout",
     "output_type": "stream",
     "text": [
      "==== Mermory usage of train_transaction ====\n",
      "before optimization:  2100.70 MB\n",
      "after optimization:  861.12 MB\n"
     ]
    }
   ],
   "source": [
    "print('==== Mermory usage of train_transaction ====')\n",
    "print('before optimization: ', memory_usage(train_transaction_data))\n",
    "optimized_train_tr[train_tr_converted_obj.columns] = train_tr_converted_obj\n",
    "print('after optimization: ', memory_usage(optimized_train_tr))"
   ]
  },
  {
   "cell_type": "code",
   "execution_count": 23,
   "id": "0adea4ef",
   "metadata": {
    "execution": {
     "iopub.execute_input": "2023-11-06T09:44:33.339453Z",
     "iopub.status.busy": "2023-11-06T09:44:33.338190Z",
     "iopub.status.idle": "2023-11-06T09:44:33.345345Z",
     "shell.execute_reply": "2023-11-06T09:44:33.344127Z"
    },
    "papermill": {
     "duration": 0.028174,
     "end_time": "2023-11-06T09:44:33.347802",
     "exception": false,
     "start_time": "2023-11-06T09:44:33.319628",
     "status": "completed"
    },
    "tags": []
   },
   "outputs": [
    {
     "name": "stdout",
     "output_type": "stream",
     "text": [
      "optimization memory of train transaction: 59.00794973104203 %\n"
     ]
    }
   ],
   "source": [
    "opt_tr_tr_prct = 100 - (861.12 * 100 / 2100.70)\n",
    "print(f'optimization memory of train transaction: {opt_tr_tr_prct} %')"
   ]
  },
  {
   "cell_type": "markdown",
   "id": "e53e05cb",
   "metadata": {
    "papermill": {
     "duration": 0.016006,
     "end_time": "2023-11-06T09:44:33.380174",
     "exception": false,
     "start_time": "2023-11-06T09:44:33.364168",
     "status": "completed"
    },
    "tags": []
   },
   "source": [
    "После всех оптимизаций объём занимаемой памяти датасета ```train_transaction``` уменьшился на ```59 %```"
   ]
  },
  {
   "cell_type": "code",
   "execution_count": 24,
   "id": "bc90d5cf",
   "metadata": {
    "execution": {
     "iopub.execute_input": "2023-11-06T09:44:33.415224Z",
     "iopub.status.busy": "2023-11-06T09:44:33.414403Z",
     "iopub.status.idle": "2023-11-06T09:44:33.452059Z",
     "shell.execute_reply": "2023-11-06T09:44:33.450547Z"
    },
    "papermill": {
     "duration": 0.058187,
     "end_time": "2023-11-06T09:44:33.454735",
     "exception": false,
     "start_time": "2023-11-06T09:44:33.396548",
     "status": "completed"
    },
    "tags": []
   },
   "outputs": [
    {
     "name": "stdout",
     "output_type": "stream",
     "text": [
      "<class 'pandas.core.frame.DataFrame'>\n",
      "RangeIndex: 144233 entries, 0 to 144232\n",
      "Data columns (total 41 columns):\n",
      " #   Column         Non-Null Count   Dtype   \n",
      "---  ------         --------------   -----   \n",
      " 0   TransactionID  144233 non-null  uint32  \n",
      " 1   id_01          144233 non-null  float32 \n",
      " 2   id_02          140872 non-null  float32 \n",
      " 3   id_03          66324 non-null   float32 \n",
      " 4   id_04          66324 non-null   float32 \n",
      " 5   id_05          136865 non-null  float32 \n",
      " 6   id_06          136865 non-null  float32 \n",
      " 7   id_07          5155 non-null    float32 \n",
      " 8   id_08          5155 non-null    float32 \n",
      " 9   id_09          74926 non-null   float32 \n",
      " 10  id_10          74926 non-null   float32 \n",
      " 11  id_11          140978 non-null  float32 \n",
      " 12  id_12          144233 non-null  category\n",
      " 13  id_13          127320 non-null  float32 \n",
      " 14  id_14          80044 non-null   float32 \n",
      " 15  id_15          140985 non-null  category\n",
      " 16  id_16          129340 non-null  category\n",
      " 17  id_17          139369 non-null  float32 \n",
      " 18  id_18          45113 non-null   float32 \n",
      " 19  id_19          139318 non-null  float32 \n",
      " 20  id_20          139261 non-null  float32 \n",
      " 21  id_21          5159 non-null    float32 \n",
      " 22  id_22          5169 non-null    float32 \n",
      " 23  id_23          5169 non-null    category\n",
      " 24  id_24          4747 non-null    float32 \n",
      " 25  id_25          5132 non-null    float32 \n",
      " 26  id_26          5163 non-null    float32 \n",
      " 27  id_27          5169 non-null    category\n",
      " 28  id_28          140978 non-null  category\n",
      " 29  id_29          140978 non-null  category\n",
      " 30  id_30          77565 non-null   category\n",
      " 31  id_31          140282 non-null  category\n",
      " 32  id_32          77586 non-null   float32 \n",
      " 33  id_33          73289 non-null   category\n",
      " 34  id_34          77805 non-null   category\n",
      " 35  id_35          140985 non-null  category\n",
      " 36  id_36          140985 non-null  category\n",
      " 37  id_37          140985 non-null  category\n",
      " 38  id_38          140985 non-null  category\n",
      " 39  DeviceType     140810 non-null  category\n",
      " 40  DeviceInfo     118666 non-null  category\n",
      "dtypes: category(17), float32(23), uint32(1)\n",
      "memory usage: 16.1 MB\n"
     ]
    }
   ],
   "source": [
    "optimized_train_identity.info()"
   ]
  },
  {
   "cell_type": "code",
   "execution_count": 25,
   "id": "7c691b2a",
   "metadata": {
    "execution": {
     "iopub.execute_input": "2023-11-06T09:44:33.489442Z",
     "iopub.status.busy": "2023-11-06T09:44:33.488988Z",
     "iopub.status.idle": "2023-11-06T09:44:33.510864Z",
     "shell.execute_reply": "2023-11-06T09:44:33.509653Z"
    },
    "papermill": {
     "duration": 0.04215,
     "end_time": "2023-11-06T09:44:33.513289",
     "exception": false,
     "start_time": "2023-11-06T09:44:33.471139",
     "status": "completed"
    },
    "tags": []
   },
   "outputs": [
    {
     "name": "stdout",
     "output_type": "stream",
     "text": [
      "<class 'pandas.core.frame.DataFrame'>\n",
      "RangeIndex: 590540 entries, 0 to 590539\n",
      "Columns: 394 entries, TransactionID to V339\n",
      "dtypes: category(14), float32(376), uint16(1), uint32(2), uint8(1)\n",
      "memory usage: 861.1 MB\n"
     ]
    }
   ],
   "source": [
    "optimized_train_tr.info()"
   ]
  },
  {
   "cell_type": "code",
   "execution_count": null,
   "id": "9996706a",
   "metadata": {
    "papermill": {
     "duration": 0.01606,
     "end_time": "2023-11-06T09:44:33.545933",
     "exception": false,
     "start_time": "2023-11-06T09:44:33.529873",
     "status": "completed"
    },
    "tags": []
   },
   "outputs": [],
   "source": []
  }
 ],
 "metadata": {
  "kernelspec": {
   "display_name": "Python 3",
   "language": "python",
   "name": "python3"
  },
  "language_info": {
   "codemirror_mode": {
    "name": "ipython",
    "version": 3
   },
   "file_extension": ".py",
   "mimetype": "text/x-python",
   "name": "python",
   "nbconvert_exporter": "python",
   "pygments_lexer": "ipython3",
   "version": "3.10.12"
  },
  "papermill": {
   "default_parameters": {},
   "duration": 72.729376,
   "end_time": "2023-11-06T09:44:34.283585",
   "environment_variables": {},
   "exception": null,
   "input_path": "__notebook__.ipynb",
   "output_path": "__notebook__.ipynb",
   "parameters": {},
   "start_time": "2023-11-06T09:43:21.554209",
   "version": "2.4.0"
  }
 },
 "nbformat": 4,
 "nbformat_minor": 5
}
