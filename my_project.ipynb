{
 "cells": [
  {
   "cell_type": "code",
   "execution_count": 1,
   "id": "50f7c199",
   "metadata": {
    "_cell_guid": "b1076dfc-b9ad-4769-8c92-a6c4dae69d19",
    "_uuid": "8f2839f25d086af736a60e9eeb907d3b93b6e0e5",
    "execution": {
     "iopub.execute_input": "2023-11-07T10:42:29.324387Z",
     "iopub.status.busy": "2023-11-07T10:42:29.323903Z",
     "iopub.status.idle": "2023-11-07T10:42:34.691185Z",
     "shell.execute_reply": "2023-11-07T10:42:34.690057Z"
    },
    "papermill": {
     "duration": 5.401042,
     "end_time": "2023-11-07T10:42:34.693715",
     "exception": false,
     "start_time": "2023-11-07T10:42:29.292673",
     "status": "completed"
    },
    "tags": []
   },
   "outputs": [
    {
     "name": "stdout",
     "output_type": "stream",
     "text": [
      "/kaggle/input/ieee-fraud-detection/sample_submission.csv\n",
      "/kaggle/input/ieee-fraud-detection/test_identity.csv\n",
      "/kaggle/input/ieee-fraud-detection/train_identity.csv\n",
      "/kaggle/input/ieee-fraud-detection/test_transaction.csv\n",
      "/kaggle/input/ieee-fraud-detection/train_transaction.csv\n"
     ]
    }
   ],
   "source": [
    "# This Python 3 environment comes with many helpful analytics libraries installed\n",
    "# It is defined by the kaggle/python Docker image: https://github.com/kaggle/docker-python\n",
    "# For example, here's several helpful packages to load\n",
    "\n",
    "import numpy as np # linear algebra\n",
    "import pandas as pd # data processing, CSV file I/O (e.g. pd.read_csv)\n",
    "import gc\n",
    "import numpy as np\n",
    "import matplotlib.pyplot as plt\n",
    "import seaborn as sns\n",
    "from sklearn.metrics import accuracy_score\n",
    "from sklearn.model_selection import train_test_split,cross_val_score,GridSearchCV,cross_validate\n",
    "from sklearn.preprocessing import MinMaxScaler,LabelEncoder,StandardScaler,RobustScaler\n",
    "from sklearn.impute import KNNImputer\n",
    "from sklearn.metrics import mean_squared_error, mean_absolute_error\n",
    "from sklearn.neighbors import KNeighborsClassifier\n",
    "from sklearn.tree import DecisionTreeClassifier\n",
    "from xgboost import XGBClassifier\n",
    "from lightgbm import LGBMClassifier\n",
    "from sklearn.ensemble import RandomForestClassifier,GradientBoostingClassifier,VotingClassifier,AdaBoostClassifier\n",
    "# Input data files are available in the read-only \"../input/\" directory\n",
    "# For example, running this (by clicking run or pressing Shift+Enter) will list all files under the input directory\n",
    "\n",
    "import os\n",
    "for dirname, _, filenames in os.walk('/kaggle/input'):\n",
    "    for filename in filenames:\n",
    "        print(os.path.join(dirname, filename))\n",
    "\n",
    "# You can write up to 20GB to the current directory (/kaggle/working/) that gets preserved as output when you create a version using \"Save & Run All\" \n",
    "# You can also write temporary files to /kaggle/temp/, but they won't be saved outside of the current session"
   ]
  },
  {
   "cell_type": "markdown",
   "id": "f131af12",
   "metadata": {
    "papermill": {
     "duration": 0.029199,
     "end_time": "2023-11-07T10:42:34.751796",
     "exception": false,
     "start_time": "2023-11-07T10:42:34.722597",
     "status": "completed"
    },
    "tags": []
   },
   "source": [
    "### Данный проект решает задачу бинарной классификации.\n",
    "### Нужно предсказать, к какому типу относится транзакция - мошенническая она ли нет."
   ]
  },
  {
   "cell_type": "markdown",
   "id": "66596271",
   "metadata": {
    "papermill": {
     "duration": 0.028393,
     "end_time": "2023-11-07T10:42:34.809544",
     "exception": false,
     "start_time": "2023-11-07T10:42:34.781151",
     "status": "completed"
    },
    "tags": []
   },
   "source": [
    "#### Данные в датасете **transaction**:\n",
    "<span style=\"font-size: 18px;\">\n",
    "    \n",
    "- TransactionDT - дельта времени от заданного эталонного значения времени (не актуального значения) \n",
    "- TransactionAMT - транзакционный платёж в USD\n",
    "- ProductCD - продуктовый код, продукт каждой транзакции\n",
    "- card1 - card6 - информация платёжной карты, такая как: тип карты, категория, банк выпуска, страна и т.д.\n",
    "- addr - адрес\n",
    "- dist - расстояние\n",
    "- P_ and (R_) emaildomain: домены покупателя и получателя\n",
    "- C1-C14 - подсчёт, например сколько адресов связано с платёжной картой и т.д. Фактический смысл скрыт\n",
    "- D1-D15 - дельта времени, количество дней между предыдущей транзакцией, и т.д.\n",
    "- M1 - M9 -совпадение, например имена на карте и адресе и т.д.\n",
    "- Vxxx - Vesta разработала богатые функции, включая ранжирование, подсчёт и другие отношения между сущностями\n",
    "</span>"
   ]
  },
  {
   "cell_type": "markdown",
   "id": "9ca1ded8",
   "metadata": {
    "papermill": {
     "duration": 0.028217,
     "end_time": "2023-11-07T10:42:34.866207",
     "exception": false,
     "start_time": "2023-11-07T10:42:34.837990",
     "status": "completed"
    },
    "tags": []
   },
   "source": [
    "<span style=\"font-size:18px;\">\n",
    "Категориальные признаки:\n",
    "\n",
    "- ProductCD\n",
    "- card1-card6\n",
    "- addr1, addr2\n",
    "- P_emaildomain\n",
    "- R_email_domain\n",
    "- M1 - M9\n",
    "</span>"
   ]
  },
  {
   "cell_type": "markdown",
   "id": "6470daae",
   "metadata": {
    "papermill": {
     "duration": 0.029073,
     "end_time": "2023-11-07T10:42:34.923831",
     "exception": false,
     "start_time": "2023-11-07T10:42:34.894758",
     "status": "completed"
    },
    "tags": []
   },
   "source": [
    "#### Данные в датасете **Identity**\n",
    "<span style=\"font-size:18px;\">\n",
    "Переменные в этой таблице - идентификационные данные:\n",
    "    \n",
    "- информация о сетевом соединении (IP, ISP, прокси и т.д.)\n",
    "- цифровая подпись (UA/браузер/ОС/версия и т.д.), связанные с транзакциями.\n",
    "Их собирает система защиты от мошенничества Vesta и партнеры цифровой безопасности.\n",
    "(Имена полей скрыты, и пояснения значений полей не будет в целях защиты конфиденциальности и их договорного соглашения)\n",
    "</span>"
   ]
  },
  {
   "cell_type": "markdown",
   "id": "0fb2da9f",
   "metadata": {
    "papermill": {
     "duration": 0.02827,
     "end_time": "2023-11-07T10:42:35.044976",
     "exception": false,
     "start_time": "2023-11-07T10:42:35.016706",
     "status": "completed"
    },
    "tags": []
   },
   "source": [
    "<span style=\"font-size:18px;\">\n",
    "Категориальные признаки:\n",
    "    \n",
    "- DeviceType\n",
    "- DeviceInfo\n",
    "- id_12 - id_38\n",
    "</span>"
   ]
  },
  {
   "cell_type": "markdown",
   "id": "56395b68",
   "metadata": {
    "papermill": {
     "duration": 0.028267,
     "end_time": "2023-11-07T10:42:35.102257",
     "exception": false,
     "start_time": "2023-11-07T10:42:35.073990",
     "status": "completed"
    },
    "tags": []
   },
   "source": [
    "### Загрузим все наборы данных данного проекта"
   ]
  },
  {
   "cell_type": "code",
   "execution_count": 2,
   "id": "af72de4a",
   "metadata": {
    "execution": {
     "iopub.execute_input": "2023-11-07T10:42:35.164103Z",
     "iopub.status.busy": "2023-11-07T10:42:35.163309Z",
     "iopub.status.idle": "2023-11-07T10:43:46.987961Z",
     "shell.execute_reply": "2023-11-07T10:43:46.986585Z"
    },
    "papermill": {
     "duration": 71.857996,
     "end_time": "2023-11-07T10:43:46.991039",
     "exception": false,
     "start_time": "2023-11-07T10:42:35.133043",
     "status": "completed"
    },
    "tags": []
   },
   "outputs": [],
   "source": [
    "train_transaction=pd.read_csv('/kaggle/input/ieee-fraud-detection/train_transaction.csv')\n",
    "train_identity=pd.read_csv('/kaggle/input/ieee-fraud-detection/train_identity.csv')\n",
    "test_transaction=pd.read_csv('/kaggle/input/ieee-fraud-detection/test_transaction.csv')\n",
    "test_identity=pd.read_csv('/kaggle/input/ieee-fraud-detection/test_identity.csv')\n",
    "sample_submission=pd.read_csv('/kaggle/input/ieee-fraud-detection/sample_submission.csv')"
   ]
  },
  {
   "cell_type": "markdown",
   "id": "9c9bd949",
   "metadata": {
    "papermill": {
     "duration": 0.028406,
     "end_time": "2023-11-07T10:43:47.049005",
     "exception": false,
     "start_time": "2023-11-07T10:43:47.020599",
     "status": "completed"
    },
    "tags": []
   },
   "source": [
    "Объединим таблицы ```*transaction``` и ```*identity``` по полю ```TransactionID```"
   ]
  },
  {
   "cell_type": "code",
   "execution_count": 3,
   "id": "9602cd92",
   "metadata": {
    "execution": {
     "iopub.execute_input": "2023-11-07T10:43:47.108149Z",
     "iopub.status.busy": "2023-11-07T10:43:47.107189Z",
     "iopub.status.idle": "2023-11-07T10:43:49.410748Z",
     "shell.execute_reply": "2023-11-07T10:43:49.409526Z"
    },
    "papermill": {
     "duration": 2.336135,
     "end_time": "2023-11-07T10:43:49.413628",
     "exception": false,
     "start_time": "2023-11-07T10:43:47.077493",
     "status": "completed"
    },
    "tags": []
   },
   "outputs": [],
   "source": [
    "train_df = train_transaction.merge(train_identity, how='left', on='TransactionID')\n",
    "test_df = test_transaction.merge(test_identity, how='left', on='TransactionID')"
   ]
  },
  {
   "cell_type": "markdown",
   "id": "19fb2f33",
   "metadata": {
    "papermill": {
     "duration": 0.028018,
     "end_time": "2023-11-07T10:43:49.471227",
     "exception": false,
     "start_time": "2023-11-07T10:43:49.443209",
     "status": "completed"
    },
    "tags": []
   },
   "source": [
    "Посмотрим какой объём оперативной памяти занимают датасеты:"
   ]
  },
  {
   "cell_type": "code",
   "execution_count": 4,
   "id": "859185b7",
   "metadata": {
    "execution": {
     "iopub.execute_input": "2023-11-07T10:43:49.529852Z",
     "iopub.status.busy": "2023-11-07T10:43:49.529424Z",
     "iopub.status.idle": "2023-11-07T10:43:57.980977Z",
     "shell.execute_reply": "2023-11-07T10:43:57.979321Z"
    },
    "papermill": {
     "duration": 8.484312,
     "end_time": "2023-11-07T10:43:57.983875",
     "exception": false,
     "start_time": "2023-11-07T10:43:49.499563",
     "status": "completed"
    },
    "tags": []
   },
   "outputs": [
    {
     "name": "stdout",
     "output_type": "stream",
     "text": [
      "train df: 2.51 GB of memory\n",
      "test df : 2.16 GB of memory\n"
     ]
    }
   ],
   "source": [
    "train_df_GB = train_df.memory_usage(deep=True).sum()/1024**3\n",
    "test_df_GB = test_df.memory_usage(deep=True).sum()/1024**3\n",
    "\n",
    "print(f'train df: {train_df_GB:.2f} GB of memory')\n",
    "print(f'test df : {test_df_GB:.2f} GB of memory')"
   ]
  },
  {
   "cell_type": "markdown",
   "id": "4072f7d0",
   "metadata": {
    "papermill": {
     "duration": 0.028345,
     "end_time": "2023-11-07T10:43:58.041310",
     "exception": false,
     "start_time": "2023-11-07T10:43:58.012965",
     "status": "completed"
    },
    "tags": []
   },
   "source": [
    "Видим, что датафреймы занимают достаточно большой объём оперативной памяти, следовательно на обработку каждого датафрейма будет затрачено большое кол-во ресурсов и довольно длительное время. \n",
    "\n",
    "Исходя из этого необходимо уменьшить занимаемый ими объём памяти. Сделаем это при помощи способа с изменением типов переменных"
   ]
  },
  {
   "cell_type": "markdown",
   "id": "820d875a",
   "metadata": {
    "papermill": {
     "duration": 0.028115,
     "end_time": "2023-11-07T10:43:58.098087",
     "exception": false,
     "start_time": "2023-11-07T10:43:58.069972",
     "status": "completed"
    },
    "tags": []
   },
   "source": [
    "Напишем функцию подсчёта объема занимаемой памяти:"
   ]
  },
  {
   "cell_type": "code",
   "execution_count": 5,
   "id": "bf100473",
   "metadata": {
    "execution": {
     "iopub.execute_input": "2023-11-07T10:43:58.157571Z",
     "iopub.status.busy": "2023-11-07T10:43:58.156959Z",
     "iopub.status.idle": "2023-11-07T10:43:58.163637Z",
     "shell.execute_reply": "2023-11-07T10:43:58.162398Z"
    },
    "papermill": {
     "duration": 0.039296,
     "end_time": "2023-11-07T10:43:58.166011",
     "exception": false,
     "start_time": "2023-11-07T10:43:58.126715",
     "status": "completed"
    },
    "tags": []
   },
   "outputs": [],
   "source": [
    "def memory_usage(pandas_object):\n",
    "    if isinstance(pandas_object, pd.DataFrame):\n",
    "        usage_b = pandas_object.memory_usage(deep=True).sum()\n",
    "    else:\n",
    "        usage_b = pandas_obj.memory_usage(deep=True)\n",
    "    usage_mb = usage_b / 1024 ** 2 # convert to mb\n",
    "    return usage_mb"
   ]
  },
  {
   "cell_type": "markdown",
   "id": "410114df",
   "metadata": {
    "papermill": {
     "duration": 0.028245,
     "end_time": "2023-11-07T10:43:58.223414",
     "exception": false,
     "start_time": "2023-11-07T10:43:58.195169",
     "status": "completed"
    },
    "tags": []
   },
   "source": [
    "Напишем функцию для уменьшения объёма занимаемой памяти датасетом.\n",
    "\n",
    "1. Преобразуем все значения подтипов ```int``` в тип ```uint```, т.к. хранение только положительных значений позволит нам уменьшить объём занимаемой памяти.\n",
    "\n",
    "2. Преобразуем все значения подтипов ```float``` в тип ```float```"
   ]
  },
  {
   "cell_type": "code",
   "execution_count": 6,
   "id": "ded69e33",
   "metadata": {
    "execution": {
     "iopub.execute_input": "2023-11-07T10:43:58.282401Z",
     "iopub.status.busy": "2023-11-07T10:43:58.281924Z",
     "iopub.status.idle": "2023-11-07T10:43:58.291528Z",
     "shell.execute_reply": "2023-11-07T10:43:58.290241Z"
    },
    "papermill": {
     "duration": 0.042122,
     "end_time": "2023-11-07T10:43:58.294130",
     "exception": false,
     "start_time": "2023-11-07T10:43:58.252008",
     "status": "completed"
    },
    "tags": []
   },
   "outputs": [],
   "source": [
    "def reduce_mem_usage_num(df, name):\n",
    "    start_memory = memory_usage(df)\n",
    "    \n",
    "    # convert int\n",
    "    df_int = df.select_dtypes(include=['int'])\n",
    "    converted_int = df_int.apply(pd.to_numeric, downcast='unsigned')\n",
    "    \n",
    "    # convert float\n",
    "    df_float = df.select_dtypes(include=['float'])\n",
    "    converted_float = df_float.apply(pd.to_numeric, downcast='float')\n",
    "    \n",
    "    optimized_df = df.copy()\n",
    "    optimized_df[converted_int.columns] = converted_int\n",
    "    optimized_df[converted_float.columns] = converted_float\n",
    "    \n",
    "    finish_memory = memory_usage(optimized_df)\n",
    "    diff_memory = start_memory - finish_memory\n",
    "    diff_memory_prct = 100 - ((finish_memory * 100)/start_memory)\n",
    "    print(f'start memory of {name} is {start_memory} Mb')\n",
    "    print(f'memory after optimization of {name} is {finish_memory} Mb')\n",
    "    print(f'memory usage of {name} decreased on {diff_memory} Mb ({diff_memory_prct} %)\\n')\n",
    "    return optimized_df"
   ]
  },
  {
   "cell_type": "code",
   "execution_count": 7,
   "id": "57bff227",
   "metadata": {
    "execution": {
     "iopub.execute_input": "2023-11-07T10:43:58.353416Z",
     "iopub.status.busy": "2023-11-07T10:43:58.352965Z",
     "iopub.status.idle": "2023-11-07T10:44:50.929628Z",
     "shell.execute_reply": "2023-11-07T10:44:50.928213Z"
    },
    "papermill": {
     "duration": 52.63455,
     "end_time": "2023-11-07T10:44:50.957709",
     "exception": false,
     "start_time": "2023-11-07T10:43:58.323159",
     "status": "completed"
    },
    "tags": []
   },
   "outputs": [
    {
     "name": "stdout",
     "output_type": "stream",
     "text": [
      "start memory of train_df is 2567.094612121582 Mb\n",
      "memory after optimization of train_df is 1656.4279747009277 Mb\n",
      "memory usage of train_df decreased on 910.6666374206543 Mb (35.47460358962117 %)\n",
      "\n",
      "start memory of test_df is 2214.031036376953 Mb\n",
      "memory after optimization of test_df is 1436.0497455596924 Mb\n",
      "memory usage of test_df decreased on 777.9812908172607 Mb (35.13868044462248 %)\n",
      "\n"
     ]
    }
   ],
   "source": [
    "train_df = reduce_mem_usage_num(train_df, 'train_df')\n",
    "test_df = reduce_mem_usage_num(test_df, 'test_df')"
   ]
  },
  {
   "cell_type": "markdown",
   "id": "0dbc0021",
   "metadata": {
    "papermill": {
     "duration": 0.029705,
     "end_time": "2023-11-07T10:44:51.016626",
     "exception": false,
     "start_time": "2023-11-07T10:44:50.986921",
     "status": "completed"
    },
    "tags": []
   },
   "source": [
    "Видим, что объём занимаемой памяти тренировочного и тестового датасетов после изменения числовых типов данных уменьшился примерно на ```35 %```"
   ]
  },
  {
   "cell_type": "code",
   "execution_count": 8,
   "id": "a594bf9b",
   "metadata": {
    "execution": {
     "iopub.execute_input": "2023-11-07T10:44:51.077798Z",
     "iopub.status.busy": "2023-11-07T10:44:51.076539Z",
     "iopub.status.idle": "2023-11-07T10:44:51.108938Z",
     "shell.execute_reply": "2023-11-07T10:44:51.107920Z"
    },
    "papermill": {
     "duration": 0.065743,
     "end_time": "2023-11-07T10:44:51.111445",
     "exception": false,
     "start_time": "2023-11-07T10:44:51.045702",
     "status": "completed"
    },
    "tags": []
   },
   "outputs": [
    {
     "name": "stdout",
     "output_type": "stream",
     "text": [
      "<class 'pandas.core.frame.DataFrame'>\n",
      "RangeIndex: 590540 entries, 0 to 590539\n",
      "Columns: 434 entries, TransactionID to DeviceInfo\n",
      "dtypes: float32(399), object(31), uint16(1), uint32(2), uint8(1)\n",
      "memory usage: 1.0+ GB\n"
     ]
    }
   ],
   "source": [
    "train_df.info()"
   ]
  },
  {
   "cell_type": "code",
   "execution_count": 9,
   "id": "f9ff3539",
   "metadata": {
    "execution": {
     "iopub.execute_input": "2023-11-07T10:44:51.172092Z",
     "iopub.status.busy": "2023-11-07T10:44:51.171394Z",
     "iopub.status.idle": "2023-11-07T10:44:51.191631Z",
     "shell.execute_reply": "2023-11-07T10:44:51.189871Z"
    },
    "papermill": {
     "duration": 0.053039,
     "end_time": "2023-11-07T10:44:51.194297",
     "exception": false,
     "start_time": "2023-11-07T10:44:51.141258",
     "status": "completed"
    },
    "tags": []
   },
   "outputs": [
    {
     "name": "stdout",
     "output_type": "stream",
     "text": [
      "<class 'pandas.core.frame.DataFrame'>\n",
      "RangeIndex: 506691 entries, 0 to 506690\n",
      "Columns: 433 entries, TransactionID to DeviceInfo\n",
      "dtypes: float32(399), object(31), uint16(1), uint32(2)\n",
      "memory usage: 895.9+ MB\n"
     ]
    }
   ],
   "source": [
    "test_df.info()"
   ]
  },
  {
   "cell_type": "markdown",
   "id": "dcd3e251",
   "metadata": {
    "papermill": {
     "duration": 0.028596,
     "end_time": "2023-11-07T10:44:51.252078",
     "exception": false,
     "start_time": "2023-11-07T10:44:51.223482",
     "status": "completed"
    },
    "tags": []
   },
   "source": [
    "#### Напишем функцию, которая будет представлять отчёт о пропусках в данных"
   ]
  },
  {
   "cell_type": "code",
   "execution_count": 10,
   "id": "f8eeb4bf",
   "metadata": {
    "execution": {
     "iopub.execute_input": "2023-11-07T10:44:51.312397Z",
     "iopub.status.busy": "2023-11-07T10:44:51.311706Z",
     "iopub.status.idle": "2023-11-07T10:44:51.320354Z",
     "shell.execute_reply": "2023-11-07T10:44:51.319053Z"
    },
    "papermill": {
     "duration": 0.041546,
     "end_time": "2023-11-07T10:44:51.322798",
     "exception": false,
     "start_time": "2023-11-07T10:44:51.281252",
     "status": "completed"
    },
    "tags": []
   },
   "outputs": [],
   "source": [
    "def missing_values_table(df, df_name):\n",
    "    mis_val = df.isnull().sum()\n",
    "    mis_val_percent = 100 * df.isnull().sum() / len(df)\n",
    "    mis_val_table = pd.concat([mis_val, mis_val_percent], axis=1)\n",
    "    mis_val_table_ren_columns = mis_val_table.rename(\n",
    "    columns = {0: 'Missing Values', 1: '% of Total Values'})\n",
    "    \n",
    "    mis_val_table_ren_columns = mis_val_table_ren_columns[\n",
    "        mis_val_table_ren_columns.iloc[:,1] != 0].sort_values(\n",
    "    '% of Total Values', ascending=False).round(1)\n",
    "    \n",
    "    print(f'{df_name} has ', str(df.shape[1]) + ' columns.\\n',\n",
    "         'There are ' + str(mis_val_table_ren_columns.shape[0]) +\n",
    "          ' columns that have missing values.')\n",
    "    return mis_val_table_ren_columns"
   ]
  },
  {
   "cell_type": "markdown",
   "id": "3deb133a",
   "metadata": {
    "papermill": {
     "duration": 0.028646,
     "end_time": "2023-11-07T10:44:51.380937",
     "exception": false,
     "start_time": "2023-11-07T10:44:51.352291",
     "status": "completed"
    },
    "tags": []
   },
   "source": [
    "Заменим признаки с ```-``` в тестовом датасете на соответствующие названия из тренировочного датасета с ```_```"
   ]
  },
  {
   "cell_type": "code",
   "execution_count": 11,
   "id": "b6d863c4",
   "metadata": {
    "execution": {
     "iopub.execute_input": "2023-11-07T10:44:51.441591Z",
     "iopub.status.busy": "2023-11-07T10:44:51.440473Z",
     "iopub.status.idle": "2023-11-07T10:44:52.761753Z",
     "shell.execute_reply": "2023-11-07T10:44:52.760500Z"
    },
    "papermill": {
     "duration": 1.354587,
     "end_time": "2023-11-07T10:44:52.764754",
     "exception": false,
     "start_time": "2023-11-07T10:44:51.410167",
     "status": "completed"
    },
    "tags": []
   },
   "outputs": [],
   "source": [
    "test_df = test_df.rename(columns=lambda x:'_'.join(x.split('-')))"
   ]
  },
  {
   "cell_type": "markdown",
   "id": "f1c06be6",
   "metadata": {
    "papermill": {
     "duration": 0.02845,
     "end_time": "2023-11-07T10:44:52.822280",
     "exception": false,
     "start_time": "2023-11-07T10:44:52.793830",
     "status": "completed"
    },
    "tags": []
   },
   "source": [
    "Удаляем признаки, в которых более ```80 %``` пропусков:"
   ]
  },
  {
   "cell_type": "code",
   "execution_count": 12,
   "id": "adcba5e2",
   "metadata": {
    "execution": {
     "iopub.execute_input": "2023-11-07T10:44:52.883705Z",
     "iopub.status.busy": "2023-11-07T10:44:52.882222Z",
     "iopub.status.idle": "2023-11-07T10:44:55.917589Z",
     "shell.execute_reply": "2023-11-07T10:44:55.916126Z"
    },
    "papermill": {
     "duration": 3.069099,
     "end_time": "2023-11-07T10:44:55.920711",
     "exception": false,
     "start_time": "2023-11-07T10:44:52.851612",
     "status": "completed"
    },
    "tags": []
   },
   "outputs": [
    {
     "name": "stdout",
     "output_type": "stream",
     "text": [
      "train_df has  434 columns.\n",
      " There are 414 columns that have missing values.\n",
      "We will remove 74 columns.\n"
     ]
    }
   ],
   "source": [
    "missing_df = missing_values_table(train_df, 'train_df')\n",
    "missing_columns = list(missing_df[missing_df['% of Total Values'] > 80.0].index)\n",
    "print('We will remove %d columns.' % len(missing_columns))"
   ]
  },
  {
   "cell_type": "code",
   "execution_count": 13,
   "id": "491d58c3",
   "metadata": {
    "execution": {
     "iopub.execute_input": "2023-11-07T10:44:55.982966Z",
     "iopub.status.busy": "2023-11-07T10:44:55.982201Z",
     "iopub.status.idle": "2023-11-07T10:44:56.003250Z",
     "shell.execute_reply": "2023-11-07T10:44:56.001737Z"
    },
    "papermill": {
     "duration": 0.055961,
     "end_time": "2023-11-07T10:44:56.007069",
     "exception": false,
     "start_time": "2023-11-07T10:44:55.951108",
     "status": "completed"
    },
    "tags": []
   },
   "outputs": [
    {
     "data": {
      "text/html": [
       "<div>\n",
       "<style scoped>\n",
       "    .dataframe tbody tr th:only-of-type {\n",
       "        vertical-align: middle;\n",
       "    }\n",
       "\n",
       "    .dataframe tbody tr th {\n",
       "        vertical-align: top;\n",
       "    }\n",
       "\n",
       "    .dataframe thead th {\n",
       "        text-align: right;\n",
       "    }\n",
       "</style>\n",
       "<table border=\"1\" class=\"dataframe\">\n",
       "  <thead>\n",
       "    <tr style=\"text-align: right;\">\n",
       "      <th></th>\n",
       "      <th>Missing Values</th>\n",
       "      <th>% of Total Values</th>\n",
       "    </tr>\n",
       "  </thead>\n",
       "  <tbody>\n",
       "    <tr>\n",
       "      <th>id_24</th>\n",
       "      <td>585793</td>\n",
       "      <td>99.2</td>\n",
       "    </tr>\n",
       "    <tr>\n",
       "      <th>id_25</th>\n",
       "      <td>585408</td>\n",
       "      <td>99.1</td>\n",
       "    </tr>\n",
       "    <tr>\n",
       "      <th>id_07</th>\n",
       "      <td>585385</td>\n",
       "      <td>99.1</td>\n",
       "    </tr>\n",
       "    <tr>\n",
       "      <th>id_08</th>\n",
       "      <td>585385</td>\n",
       "      <td>99.1</td>\n",
       "    </tr>\n",
       "    <tr>\n",
       "      <th>id_21</th>\n",
       "      <td>585381</td>\n",
       "      <td>99.1</td>\n",
       "    </tr>\n",
       "    <tr>\n",
       "      <th>...</th>\n",
       "      <td>...</td>\n",
       "      <td>...</td>\n",
       "    </tr>\n",
       "    <tr>\n",
       "      <th>V285</th>\n",
       "      <td>12</td>\n",
       "      <td>0.0</td>\n",
       "    </tr>\n",
       "    <tr>\n",
       "      <th>V284</th>\n",
       "      <td>12</td>\n",
       "      <td>0.0</td>\n",
       "    </tr>\n",
       "    <tr>\n",
       "      <th>V280</th>\n",
       "      <td>12</td>\n",
       "      <td>0.0</td>\n",
       "    </tr>\n",
       "    <tr>\n",
       "      <th>V279</th>\n",
       "      <td>12</td>\n",
       "      <td>0.0</td>\n",
       "    </tr>\n",
       "    <tr>\n",
       "      <th>V312</th>\n",
       "      <td>12</td>\n",
       "      <td>0.0</td>\n",
       "    </tr>\n",
       "  </tbody>\n",
       "</table>\n",
       "<p>414 rows × 2 columns</p>\n",
       "</div>"
      ],
      "text/plain": [
       "       Missing Values  % of Total Values\n",
       "id_24          585793               99.2\n",
       "id_25          585408               99.1\n",
       "id_07          585385               99.1\n",
       "id_08          585385               99.1\n",
       "id_21          585381               99.1\n",
       "...               ...                ...\n",
       "V285               12                0.0\n",
       "V284               12                0.0\n",
       "V280               12                0.0\n",
       "V279               12                0.0\n",
       "V312               12                0.0\n",
       "\n",
       "[414 rows x 2 columns]"
      ]
     },
     "execution_count": 13,
     "metadata": {},
     "output_type": "execute_result"
    }
   ],
   "source": [
    "missing_df"
   ]
  },
  {
   "cell_type": "code",
   "execution_count": 14,
   "id": "d8c5739b",
   "metadata": {
    "execution": {
     "iopub.execute_input": "2023-11-07T10:44:56.071225Z",
     "iopub.status.busy": "2023-11-07T10:44:56.070775Z",
     "iopub.status.idle": "2023-11-07T10:44:56.953750Z",
     "shell.execute_reply": "2023-11-07T10:44:56.952793Z"
    },
    "papermill": {
     "duration": 0.917027,
     "end_time": "2023-11-07T10:44:56.956483",
     "exception": false,
     "start_time": "2023-11-07T10:44:56.039456",
     "status": "completed"
    },
    "tags": []
   },
   "outputs": [],
   "source": [
    "train_df = train_df.drop(columns = missing_columns)"
   ]
  },
  {
   "cell_type": "code",
   "execution_count": 15,
   "id": "5eb27d6f",
   "metadata": {
    "execution": {
     "iopub.execute_input": "2023-11-07T10:44:57.020069Z",
     "iopub.status.busy": "2023-11-07T10:44:57.018761Z",
     "iopub.status.idle": "2023-11-07T10:44:57.025667Z",
     "shell.execute_reply": "2023-11-07T10:44:57.024767Z"
    },
    "papermill": {
     "duration": 0.041784,
     "end_time": "2023-11-07T10:44:57.027912",
     "exception": false,
     "start_time": "2023-11-07T10:44:56.986128",
     "status": "completed"
    },
    "tags": []
   },
   "outputs": [
    {
     "data": {
      "text/plain": [
       "(590540, 360)"
      ]
     },
     "execution_count": 15,
     "metadata": {},
     "output_type": "execute_result"
    }
   ],
   "source": [
    "train_df.shape"
   ]
  },
  {
   "cell_type": "code",
   "execution_count": 16,
   "id": "15cf25b1",
   "metadata": {
    "execution": {
     "iopub.execute_input": "2023-11-07T10:44:57.090574Z",
     "iopub.status.busy": "2023-11-07T10:44:57.089292Z",
     "iopub.status.idle": "2023-11-07T10:44:57.495917Z",
     "shell.execute_reply": "2023-11-07T10:44:57.494710Z"
    },
    "papermill": {
     "duration": 0.440945,
     "end_time": "2023-11-07T10:44:57.498593",
     "exception": false,
     "start_time": "2023-11-07T10:44:57.057648",
     "status": "completed"
    },
    "tags": []
   },
   "outputs": [
    {
     "data": {
      "text/plain": [
       "(506691, 359)"
      ]
     },
     "execution_count": 16,
     "metadata": {},
     "output_type": "execute_result"
    }
   ],
   "source": [
    "test_df = test_df.drop(columns = missing_columns)\n",
    "test_df.shape"
   ]
  },
  {
   "cell_type": "markdown",
   "id": "a8499228",
   "metadata": {
    "papermill": {
     "duration": 0.029262,
     "end_time": "2023-11-07T10:44:57.557793",
     "exception": false,
     "start_time": "2023-11-07T10:44:57.528531",
     "status": "completed"
    },
    "tags": []
   },
   "source": [
    "Посмотрим ещё раз на пропуски "
   ]
  },
  {
   "cell_type": "code",
   "execution_count": 17,
   "id": "d3fbc997",
   "metadata": {
    "execution": {
     "iopub.execute_input": "2023-11-07T10:44:57.619113Z",
     "iopub.status.busy": "2023-11-07T10:44:57.618654Z",
     "iopub.status.idle": "2023-11-07T10:45:00.260197Z",
     "shell.execute_reply": "2023-11-07T10:45:00.259069Z"
    },
    "papermill": {
     "duration": 2.675191,
     "end_time": "2023-11-07T10:45:00.262722",
     "exception": false,
     "start_time": "2023-11-07T10:44:57.587531",
     "status": "completed"
    },
    "tags": []
   },
   "outputs": [
    {
     "name": "stdout",
     "output_type": "stream",
     "text": [
      "train_df has  360 columns.\n",
      " There are 340 columns that have missing values.\n"
     ]
    },
    {
     "data": {
      "text/html": [
       "<div>\n",
       "<style scoped>\n",
       "    .dataframe tbody tr th:only-of-type {\n",
       "        vertical-align: middle;\n",
       "    }\n",
       "\n",
       "    .dataframe tbody tr th {\n",
       "        vertical-align: top;\n",
       "    }\n",
       "\n",
       "    .dataframe thead th {\n",
       "        text-align: right;\n",
       "    }\n",
       "</style>\n",
       "<table border=\"1\" class=\"dataframe\">\n",
       "  <thead>\n",
       "    <tr style=\"text-align: right;\">\n",
       "      <th></th>\n",
       "      <th>Missing Values</th>\n",
       "      <th>% of Total Values</th>\n",
       "    </tr>\n",
       "  </thead>\n",
       "  <tbody>\n",
       "    <tr>\n",
       "      <th>DeviceInfo</th>\n",
       "      <td>471874</td>\n",
       "      <td>79.9</td>\n",
       "    </tr>\n",
       "    <tr>\n",
       "      <th>id_13</th>\n",
       "      <td>463220</td>\n",
       "      <td>78.4</td>\n",
       "    </tr>\n",
       "    <tr>\n",
       "      <th>id_16</th>\n",
       "      <td>461200</td>\n",
       "      <td>78.1</td>\n",
       "    </tr>\n",
       "    <tr>\n",
       "      <th>V233</th>\n",
       "      <td>460110</td>\n",
       "      <td>77.9</td>\n",
       "    </tr>\n",
       "    <tr>\n",
       "      <th>V249</th>\n",
       "      <td>460110</td>\n",
       "      <td>77.9</td>\n",
       "    </tr>\n",
       "    <tr>\n",
       "      <th>...</th>\n",
       "      <td>...</td>\n",
       "      <td>...</td>\n",
       "    </tr>\n",
       "    <tr>\n",
       "      <th>V309</th>\n",
       "      <td>12</td>\n",
       "      <td>0.0</td>\n",
       "    </tr>\n",
       "    <tr>\n",
       "      <th>V310</th>\n",
       "      <td>12</td>\n",
       "      <td>0.0</td>\n",
       "    </tr>\n",
       "    <tr>\n",
       "      <th>V311</th>\n",
       "      <td>12</td>\n",
       "      <td>0.0</td>\n",
       "    </tr>\n",
       "    <tr>\n",
       "      <th>V312</th>\n",
       "      <td>12</td>\n",
       "      <td>0.0</td>\n",
       "    </tr>\n",
       "    <tr>\n",
       "      <th>V297</th>\n",
       "      <td>12</td>\n",
       "      <td>0.0</td>\n",
       "    </tr>\n",
       "  </tbody>\n",
       "</table>\n",
       "<p>340 rows × 2 columns</p>\n",
       "</div>"
      ],
      "text/plain": [
       "            Missing Values  % of Total Values\n",
       "DeviceInfo          471874               79.9\n",
       "id_13               463220               78.4\n",
       "id_16               461200               78.1\n",
       "V233                460110               77.9\n",
       "V249                460110               77.9\n",
       "...                    ...                ...\n",
       "V309                    12                0.0\n",
       "V310                    12                0.0\n",
       "V311                    12                0.0\n",
       "V312                    12                0.0\n",
       "V297                    12                0.0\n",
       "\n",
       "[340 rows x 2 columns]"
      ]
     },
     "execution_count": 17,
     "metadata": {},
     "output_type": "execute_result"
    }
   ],
   "source": [
    "missing_values_table(train_df, 'train_df')"
   ]
  },
  {
   "cell_type": "code",
   "execution_count": 18,
   "id": "8b626419",
   "metadata": {
    "execution": {
     "iopub.execute_input": "2023-11-07T10:45:00.325430Z",
     "iopub.status.busy": "2023-11-07T10:45:00.325000Z",
     "iopub.status.idle": "2023-11-07T10:45:02.677957Z",
     "shell.execute_reply": "2023-11-07T10:45:02.676697Z"
    },
    "papermill": {
     "duration": 2.387264,
     "end_time": "2023-11-07T10:45:02.680610",
     "exception": false,
     "start_time": "2023-11-07T10:45:00.293346",
     "status": "completed"
    },
    "tags": []
   },
   "outputs": [
    {
     "name": "stdout",
     "output_type": "stream",
     "text": [
      "test_df has  359 columns.\n",
      " There are 311 columns that have missing values.\n"
     ]
    },
    {
     "data": {
      "text/html": [
       "<div>\n",
       "<style scoped>\n",
       "    .dataframe tbody tr th:only-of-type {\n",
       "        vertical-align: middle;\n",
       "    }\n",
       "\n",
       "    .dataframe tbody tr th {\n",
       "        vertical-align: top;\n",
       "    }\n",
       "\n",
       "    .dataframe thead th {\n",
       "        text-align: right;\n",
       "    }\n",
       "</style>\n",
       "<table border=\"1\" class=\"dataframe\">\n",
       "  <thead>\n",
       "    <tr style=\"text-align: right;\">\n",
       "      <th></th>\n",
       "      <th>Missing Values</th>\n",
       "      <th>% of Total Values</th>\n",
       "    </tr>\n",
       "  </thead>\n",
       "  <tbody>\n",
       "    <tr>\n",
       "      <th>DeviceInfo</th>\n",
       "      <td>391634</td>\n",
       "      <td>77.3</td>\n",
       "    </tr>\n",
       "    <tr>\n",
       "      <th>id_16</th>\n",
       "      <td>380944</td>\n",
       "      <td>75.2</td>\n",
       "    </tr>\n",
       "    <tr>\n",
       "      <th>V235</th>\n",
       "      <td>379963</td>\n",
       "      <td>75.0</td>\n",
       "    </tr>\n",
       "    <tr>\n",
       "      <th>V252</th>\n",
       "      <td>379963</td>\n",
       "      <td>75.0</td>\n",
       "    </tr>\n",
       "    <tr>\n",
       "      <th>V249</th>\n",
       "      <td>379963</td>\n",
       "      <td>75.0</td>\n",
       "    </tr>\n",
       "    <tr>\n",
       "      <th>...</th>\n",
       "      <td>...</td>\n",
       "      <td>...</td>\n",
       "    </tr>\n",
       "    <tr>\n",
       "      <th>V307</th>\n",
       "      <td>3</td>\n",
       "      <td>0.0</td>\n",
       "    </tr>\n",
       "    <tr>\n",
       "      <th>V308</th>\n",
       "      <td>3</td>\n",
       "      <td>0.0</td>\n",
       "    </tr>\n",
       "    <tr>\n",
       "      <th>V309</th>\n",
       "      <td>3</td>\n",
       "      <td>0.0</td>\n",
       "    </tr>\n",
       "    <tr>\n",
       "      <th>V310</th>\n",
       "      <td>3</td>\n",
       "      <td>0.0</td>\n",
       "    </tr>\n",
       "    <tr>\n",
       "      <th>V279</th>\n",
       "      <td>3</td>\n",
       "      <td>0.0</td>\n",
       "    </tr>\n",
       "  </tbody>\n",
       "</table>\n",
       "<p>311 rows × 2 columns</p>\n",
       "</div>"
      ],
      "text/plain": [
       "            Missing Values  % of Total Values\n",
       "DeviceInfo          391634               77.3\n",
       "id_16               380944               75.2\n",
       "V235                379963               75.0\n",
       "V252                379963               75.0\n",
       "V249                379963               75.0\n",
       "...                    ...                ...\n",
       "V307                     3                0.0\n",
       "V308                     3                0.0\n",
       "V309                     3                0.0\n",
       "V310                     3                0.0\n",
       "V279                     3                0.0\n",
       "\n",
       "[311 rows x 2 columns]"
      ]
     },
     "execution_count": 18,
     "metadata": {},
     "output_type": "execute_result"
    }
   ],
   "source": [
    "missing_values_table(test_df, 'test_df')"
   ]
  },
  {
   "cell_type": "code",
   "execution_count": 19,
   "id": "248aeae7",
   "metadata": {
    "execution": {
     "iopub.execute_input": "2023-11-07T10:45:02.745671Z",
     "iopub.status.busy": "2023-11-07T10:45:02.745272Z",
     "iopub.status.idle": "2023-11-07T10:45:03.101135Z",
     "shell.execute_reply": "2023-11-07T10:45:03.100076Z"
    },
    "papermill": {
     "duration": 0.39236,
     "end_time": "2023-11-07T10:45:03.103563",
     "exception": false,
     "start_time": "2023-11-07T10:45:02.711203",
     "status": "completed"
    },
    "tags": []
   },
   "outputs": [
    {
     "data": {
      "text/html": [
       "<div>\n",
       "<style scoped>\n",
       "    .dataframe tbody tr th:only-of-type {\n",
       "        vertical-align: middle;\n",
       "    }\n",
       "\n",
       "    .dataframe tbody tr th {\n",
       "        vertical-align: top;\n",
       "    }\n",
       "\n",
       "    .dataframe thead th {\n",
       "        text-align: right;\n",
       "    }\n",
       "</style>\n",
       "<table border=\"1\" class=\"dataframe\">\n",
       "  <thead>\n",
       "    <tr style=\"text-align: right;\">\n",
       "      <th></th>\n",
       "      <th>TransactionID</th>\n",
       "      <th>isFraud</th>\n",
       "      <th>TransactionDT</th>\n",
       "      <th>TransactionAmt</th>\n",
       "      <th>ProductCD</th>\n",
       "      <th>card1</th>\n",
       "      <th>card2</th>\n",
       "      <th>card3</th>\n",
       "      <th>card4</th>\n",
       "      <th>card5</th>\n",
       "      <th>...</th>\n",
       "      <th>id_20</th>\n",
       "      <th>id_28</th>\n",
       "      <th>id_29</th>\n",
       "      <th>id_31</th>\n",
       "      <th>id_35</th>\n",
       "      <th>id_36</th>\n",
       "      <th>id_37</th>\n",
       "      <th>id_38</th>\n",
       "      <th>DeviceType</th>\n",
       "      <th>DeviceInfo</th>\n",
       "    </tr>\n",
       "  </thead>\n",
       "  <tbody>\n",
       "    <tr>\n",
       "      <th>0</th>\n",
       "      <td>2987000</td>\n",
       "      <td>0</td>\n",
       "      <td>86400</td>\n",
       "      <td>68.500000</td>\n",
       "      <td>W</td>\n",
       "      <td>13926</td>\n",
       "      <td>NaN</td>\n",
       "      <td>150.0</td>\n",
       "      <td>discover</td>\n",
       "      <td>142.0</td>\n",
       "      <td>...</td>\n",
       "      <td>NaN</td>\n",
       "      <td>NaN</td>\n",
       "      <td>NaN</td>\n",
       "      <td>NaN</td>\n",
       "      <td>NaN</td>\n",
       "      <td>NaN</td>\n",
       "      <td>NaN</td>\n",
       "      <td>NaN</td>\n",
       "      <td>NaN</td>\n",
       "      <td>NaN</td>\n",
       "    </tr>\n",
       "    <tr>\n",
       "      <th>1</th>\n",
       "      <td>2987001</td>\n",
       "      <td>0</td>\n",
       "      <td>86401</td>\n",
       "      <td>29.000000</td>\n",
       "      <td>W</td>\n",
       "      <td>2755</td>\n",
       "      <td>404.0</td>\n",
       "      <td>150.0</td>\n",
       "      <td>mastercard</td>\n",
       "      <td>102.0</td>\n",
       "      <td>...</td>\n",
       "      <td>NaN</td>\n",
       "      <td>NaN</td>\n",
       "      <td>NaN</td>\n",
       "      <td>NaN</td>\n",
       "      <td>NaN</td>\n",
       "      <td>NaN</td>\n",
       "      <td>NaN</td>\n",
       "      <td>NaN</td>\n",
       "      <td>NaN</td>\n",
       "      <td>NaN</td>\n",
       "    </tr>\n",
       "    <tr>\n",
       "      <th>2</th>\n",
       "      <td>2987002</td>\n",
       "      <td>0</td>\n",
       "      <td>86469</td>\n",
       "      <td>59.000000</td>\n",
       "      <td>W</td>\n",
       "      <td>4663</td>\n",
       "      <td>490.0</td>\n",
       "      <td>150.0</td>\n",
       "      <td>visa</td>\n",
       "      <td>166.0</td>\n",
       "      <td>...</td>\n",
       "      <td>NaN</td>\n",
       "      <td>NaN</td>\n",
       "      <td>NaN</td>\n",
       "      <td>NaN</td>\n",
       "      <td>NaN</td>\n",
       "      <td>NaN</td>\n",
       "      <td>NaN</td>\n",
       "      <td>NaN</td>\n",
       "      <td>NaN</td>\n",
       "      <td>NaN</td>\n",
       "    </tr>\n",
       "    <tr>\n",
       "      <th>3</th>\n",
       "      <td>2987003</td>\n",
       "      <td>0</td>\n",
       "      <td>86499</td>\n",
       "      <td>50.000000</td>\n",
       "      <td>W</td>\n",
       "      <td>18132</td>\n",
       "      <td>567.0</td>\n",
       "      <td>150.0</td>\n",
       "      <td>mastercard</td>\n",
       "      <td>117.0</td>\n",
       "      <td>...</td>\n",
       "      <td>NaN</td>\n",
       "      <td>NaN</td>\n",
       "      <td>NaN</td>\n",
       "      <td>NaN</td>\n",
       "      <td>NaN</td>\n",
       "      <td>NaN</td>\n",
       "      <td>NaN</td>\n",
       "      <td>NaN</td>\n",
       "      <td>NaN</td>\n",
       "      <td>NaN</td>\n",
       "    </tr>\n",
       "    <tr>\n",
       "      <th>4</th>\n",
       "      <td>2987004</td>\n",
       "      <td>0</td>\n",
       "      <td>86506</td>\n",
       "      <td>50.000000</td>\n",
       "      <td>H</td>\n",
       "      <td>4497</td>\n",
       "      <td>514.0</td>\n",
       "      <td>150.0</td>\n",
       "      <td>mastercard</td>\n",
       "      <td>102.0</td>\n",
       "      <td>...</td>\n",
       "      <td>144.0</td>\n",
       "      <td>New</td>\n",
       "      <td>NotFound</td>\n",
       "      <td>samsung browser 6.2</td>\n",
       "      <td>T</td>\n",
       "      <td>F</td>\n",
       "      <td>T</td>\n",
       "      <td>T</td>\n",
       "      <td>mobile</td>\n",
       "      <td>SAMSUNG SM-G892A Build/NRD90M</td>\n",
       "    </tr>\n",
       "    <tr>\n",
       "      <th>...</th>\n",
       "      <td>...</td>\n",
       "      <td>...</td>\n",
       "      <td>...</td>\n",
       "      <td>...</td>\n",
       "      <td>...</td>\n",
       "      <td>...</td>\n",
       "      <td>...</td>\n",
       "      <td>...</td>\n",
       "      <td>...</td>\n",
       "      <td>...</td>\n",
       "      <td>...</td>\n",
       "      <td>...</td>\n",
       "      <td>...</td>\n",
       "      <td>...</td>\n",
       "      <td>...</td>\n",
       "      <td>...</td>\n",
       "      <td>...</td>\n",
       "      <td>...</td>\n",
       "      <td>...</td>\n",
       "      <td>...</td>\n",
       "      <td>...</td>\n",
       "    </tr>\n",
       "    <tr>\n",
       "      <th>590535</th>\n",
       "      <td>3577535</td>\n",
       "      <td>0</td>\n",
       "      <td>15811047</td>\n",
       "      <td>49.000000</td>\n",
       "      <td>W</td>\n",
       "      <td>6550</td>\n",
       "      <td>NaN</td>\n",
       "      <td>150.0</td>\n",
       "      <td>visa</td>\n",
       "      <td>226.0</td>\n",
       "      <td>...</td>\n",
       "      <td>NaN</td>\n",
       "      <td>NaN</td>\n",
       "      <td>NaN</td>\n",
       "      <td>NaN</td>\n",
       "      <td>NaN</td>\n",
       "      <td>NaN</td>\n",
       "      <td>NaN</td>\n",
       "      <td>NaN</td>\n",
       "      <td>NaN</td>\n",
       "      <td>NaN</td>\n",
       "    </tr>\n",
       "    <tr>\n",
       "      <th>590536</th>\n",
       "      <td>3577536</td>\n",
       "      <td>0</td>\n",
       "      <td>15811049</td>\n",
       "      <td>39.500000</td>\n",
       "      <td>W</td>\n",
       "      <td>10444</td>\n",
       "      <td>225.0</td>\n",
       "      <td>150.0</td>\n",
       "      <td>mastercard</td>\n",
       "      <td>224.0</td>\n",
       "      <td>...</td>\n",
       "      <td>NaN</td>\n",
       "      <td>NaN</td>\n",
       "      <td>NaN</td>\n",
       "      <td>NaN</td>\n",
       "      <td>NaN</td>\n",
       "      <td>NaN</td>\n",
       "      <td>NaN</td>\n",
       "      <td>NaN</td>\n",
       "      <td>NaN</td>\n",
       "      <td>NaN</td>\n",
       "    </tr>\n",
       "    <tr>\n",
       "      <th>590537</th>\n",
       "      <td>3577537</td>\n",
       "      <td>0</td>\n",
       "      <td>15811079</td>\n",
       "      <td>30.950001</td>\n",
       "      <td>W</td>\n",
       "      <td>12037</td>\n",
       "      <td>595.0</td>\n",
       "      <td>150.0</td>\n",
       "      <td>mastercard</td>\n",
       "      <td>224.0</td>\n",
       "      <td>...</td>\n",
       "      <td>NaN</td>\n",
       "      <td>NaN</td>\n",
       "      <td>NaN</td>\n",
       "      <td>NaN</td>\n",
       "      <td>NaN</td>\n",
       "      <td>NaN</td>\n",
       "      <td>NaN</td>\n",
       "      <td>NaN</td>\n",
       "      <td>NaN</td>\n",
       "      <td>NaN</td>\n",
       "    </tr>\n",
       "    <tr>\n",
       "      <th>590538</th>\n",
       "      <td>3577538</td>\n",
       "      <td>0</td>\n",
       "      <td>15811088</td>\n",
       "      <td>117.000000</td>\n",
       "      <td>W</td>\n",
       "      <td>7826</td>\n",
       "      <td>481.0</td>\n",
       "      <td>150.0</td>\n",
       "      <td>mastercard</td>\n",
       "      <td>224.0</td>\n",
       "      <td>...</td>\n",
       "      <td>NaN</td>\n",
       "      <td>NaN</td>\n",
       "      <td>NaN</td>\n",
       "      <td>NaN</td>\n",
       "      <td>NaN</td>\n",
       "      <td>NaN</td>\n",
       "      <td>NaN</td>\n",
       "      <td>NaN</td>\n",
       "      <td>NaN</td>\n",
       "      <td>NaN</td>\n",
       "    </tr>\n",
       "    <tr>\n",
       "      <th>590539</th>\n",
       "      <td>3577539</td>\n",
       "      <td>0</td>\n",
       "      <td>15811131</td>\n",
       "      <td>279.950012</td>\n",
       "      <td>W</td>\n",
       "      <td>15066</td>\n",
       "      <td>170.0</td>\n",
       "      <td>150.0</td>\n",
       "      <td>mastercard</td>\n",
       "      <td>102.0</td>\n",
       "      <td>...</td>\n",
       "      <td>NaN</td>\n",
       "      <td>NaN</td>\n",
       "      <td>NaN</td>\n",
       "      <td>NaN</td>\n",
       "      <td>NaN</td>\n",
       "      <td>NaN</td>\n",
       "      <td>NaN</td>\n",
       "      <td>NaN</td>\n",
       "      <td>NaN</td>\n",
       "      <td>NaN</td>\n",
       "    </tr>\n",
       "  </tbody>\n",
       "</table>\n",
       "<p>590540 rows × 360 columns</p>\n",
       "</div>"
      ],
      "text/plain": [
       "        TransactionID  isFraud  TransactionDT  TransactionAmt ProductCD  \\\n",
       "0             2987000        0          86400       68.500000         W   \n",
       "1             2987001        0          86401       29.000000         W   \n",
       "2             2987002        0          86469       59.000000         W   \n",
       "3             2987003        0          86499       50.000000         W   \n",
       "4             2987004        0          86506       50.000000         H   \n",
       "...               ...      ...            ...             ...       ...   \n",
       "590535        3577535        0       15811047       49.000000         W   \n",
       "590536        3577536        0       15811049       39.500000         W   \n",
       "590537        3577537        0       15811079       30.950001         W   \n",
       "590538        3577538        0       15811088      117.000000         W   \n",
       "590539        3577539        0       15811131      279.950012         W   \n",
       "\n",
       "        card1  card2  card3       card4  card5  ...  id_20  id_28     id_29  \\\n",
       "0       13926    NaN  150.0    discover  142.0  ...    NaN    NaN       NaN   \n",
       "1        2755  404.0  150.0  mastercard  102.0  ...    NaN    NaN       NaN   \n",
       "2        4663  490.0  150.0        visa  166.0  ...    NaN    NaN       NaN   \n",
       "3       18132  567.0  150.0  mastercard  117.0  ...    NaN    NaN       NaN   \n",
       "4        4497  514.0  150.0  mastercard  102.0  ...  144.0    New  NotFound   \n",
       "...       ...    ...    ...         ...    ...  ...    ...    ...       ...   \n",
       "590535   6550    NaN  150.0        visa  226.0  ...    NaN    NaN       NaN   \n",
       "590536  10444  225.0  150.0  mastercard  224.0  ...    NaN    NaN       NaN   \n",
       "590537  12037  595.0  150.0  mastercard  224.0  ...    NaN    NaN       NaN   \n",
       "590538   7826  481.0  150.0  mastercard  224.0  ...    NaN    NaN       NaN   \n",
       "590539  15066  170.0  150.0  mastercard  102.0  ...    NaN    NaN       NaN   \n",
       "\n",
       "                      id_31 id_35 id_36  id_37  id_38  DeviceType  \\\n",
       "0                       NaN   NaN   NaN    NaN    NaN         NaN   \n",
       "1                       NaN   NaN   NaN    NaN    NaN         NaN   \n",
       "2                       NaN   NaN   NaN    NaN    NaN         NaN   \n",
       "3                       NaN   NaN   NaN    NaN    NaN         NaN   \n",
       "4       samsung browser 6.2     T     F      T      T      mobile   \n",
       "...                     ...   ...   ...    ...    ...         ...   \n",
       "590535                  NaN   NaN   NaN    NaN    NaN         NaN   \n",
       "590536                  NaN   NaN   NaN    NaN    NaN         NaN   \n",
       "590537                  NaN   NaN   NaN    NaN    NaN         NaN   \n",
       "590538                  NaN   NaN   NaN    NaN    NaN         NaN   \n",
       "590539                  NaN   NaN   NaN    NaN    NaN         NaN   \n",
       "\n",
       "                           DeviceInfo  \n",
       "0                                 NaN  \n",
       "1                                 NaN  \n",
       "2                                 NaN  \n",
       "3                                 NaN  \n",
       "4       SAMSUNG SM-G892A Build/NRD90M  \n",
       "...                               ...  \n",
       "590535                            NaN  \n",
       "590536                            NaN  \n",
       "590537                            NaN  \n",
       "590538                            NaN  \n",
       "590539                            NaN  \n",
       "\n",
       "[590540 rows x 360 columns]"
      ]
     },
     "execution_count": 19,
     "metadata": {},
     "output_type": "execute_result"
    }
   ],
   "source": [
    "train_df"
   ]
  },
  {
   "cell_type": "markdown",
   "id": "3c4a901e",
   "metadata": {
    "papermill": {
     "duration": 0.030963,
     "end_time": "2023-11-07T10:45:03.165696",
     "exception": false,
     "start_time": "2023-11-07T10:45:03.134733",
     "status": "completed"
    },
    "tags": []
   },
   "source": [
    "#### Заполним пропуски тренировочного и тестового датасетов"
   ]
  },
  {
   "cell_type": "markdown",
   "id": "61b7345f",
   "metadata": {
    "papermill": {
     "duration": 0.031328,
     "end_time": "2023-11-07T10:45:03.228092",
     "exception": false,
     "start_time": "2023-11-07T10:45:03.196764",
     "status": "completed"
    },
    "tags": []
   },
   "source": [
    "Создадим списки числовых и категориальных признаков:"
   ]
  },
  {
   "cell_type": "code",
   "execution_count": 20,
   "id": "a7a613e7",
   "metadata": {
    "execution": {
     "iopub.execute_input": "2023-11-07T10:45:03.294250Z",
     "iopub.status.busy": "2023-11-07T10:45:03.293822Z",
     "iopub.status.idle": "2023-11-07T10:45:03.586546Z",
     "shell.execute_reply": "2023-11-07T10:45:03.585335Z"
    },
    "papermill": {
     "duration": 0.328264,
     "end_time": "2023-11-07T10:45:03.588983",
     "exception": false,
     "start_time": "2023-11-07T10:45:03.260719",
     "status": "completed"
    },
    "tags": []
   },
   "outputs": [
    {
     "name": "stdout",
     "output_type": "stream",
     "text": [
      "len cat_features:  26\n",
      "len num_features:  332\n"
     ]
    }
   ],
   "source": [
    "cat_features = train_df.select_dtypes(include=['object']).columns\n",
    "num_features = [x for x in train_df.columns.values[2:] \n",
    "                if x not in cat_features]\n",
    "print('len cat_features: ', len(cat_features))\n",
    "print('len num_features: ', len(num_features))"
   ]
  },
  {
   "cell_type": "markdown",
   "id": "2cce50ae",
   "metadata": {
    "papermill": {
     "duration": 0.030775,
     "end_time": "2023-11-07T10:45:03.651012",
     "exception": false,
     "start_time": "2023-11-07T10:45:03.620237",
     "status": "completed"
    },
    "tags": []
   },
   "source": [
    "Пропуски в числовых признаках мы заполним средним по колонке"
   ]
  },
  {
   "cell_type": "code",
   "execution_count": 21,
   "id": "69f6f933",
   "metadata": {
    "execution": {
     "iopub.execute_input": "2023-11-07T10:45:03.715442Z",
     "iopub.status.busy": "2023-11-07T10:45:03.714589Z",
     "iopub.status.idle": "2023-11-07T10:45:09.299439Z",
     "shell.execute_reply": "2023-11-07T10:45:09.298263Z"
    },
    "papermill": {
     "duration": 5.620158,
     "end_time": "2023-11-07T10:45:09.302262",
     "exception": false,
     "start_time": "2023-11-07T10:45:03.682104",
     "status": "completed"
    },
    "tags": []
   },
   "outputs": [],
   "source": [
    "train_df[num_features] = train_df[num_features].fillna(\n",
    "    train_df[num_features].mean())"
   ]
  },
  {
   "cell_type": "markdown",
   "id": "73be26da",
   "metadata": {
    "papermill": {
     "duration": 0.030618,
     "end_time": "2023-11-07T10:45:09.364381",
     "exception": false,
     "start_time": "2023-11-07T10:45:09.333763",
     "status": "completed"
    },
    "tags": []
   },
   "source": [
    "Для категориальных признаков будем использовать ```-1.0``` в качестве символа пропуска:"
   ]
  },
  {
   "cell_type": "code",
   "execution_count": 22,
   "id": "451b5889",
   "metadata": {
    "execution": {
     "iopub.execute_input": "2023-11-07T10:45:09.428244Z",
     "iopub.status.busy": "2023-11-07T10:45:09.427442Z",
     "iopub.status.idle": "2023-11-07T10:45:11.220523Z",
     "shell.execute_reply": "2023-11-07T10:45:11.219401Z"
    },
    "papermill": {
     "duration": 1.828042,
     "end_time": "2023-11-07T10:45:11.223258",
     "exception": false,
     "start_time": "2023-11-07T10:45:09.395216",
     "status": "completed"
    },
    "tags": []
   },
   "outputs": [],
   "source": [
    "train_df = train_df.fillna(-1)"
   ]
  },
  {
   "cell_type": "code",
   "execution_count": 23,
   "id": "d9ca967b",
   "metadata": {
    "execution": {
     "iopub.execute_input": "2023-11-07T10:45:11.287532Z",
     "iopub.status.busy": "2023-11-07T10:45:11.287122Z",
     "iopub.status.idle": "2023-11-07T10:45:11.898152Z",
     "shell.execute_reply": "2023-11-07T10:45:11.896628Z"
    },
    "papermill": {
     "duration": 0.64644,
     "end_time": "2023-11-07T10:45:11.900859",
     "exception": false,
     "start_time": "2023-11-07T10:45:11.254419",
     "status": "completed"
    },
    "tags": []
   },
   "outputs": [
    {
     "data": {
      "text/html": [
       "<div>\n",
       "<style scoped>\n",
       "    .dataframe tbody tr th:only-of-type {\n",
       "        vertical-align: middle;\n",
       "    }\n",
       "\n",
       "    .dataframe tbody tr th {\n",
       "        vertical-align: top;\n",
       "    }\n",
       "\n",
       "    .dataframe thead th {\n",
       "        text-align: right;\n",
       "    }\n",
       "</style>\n",
       "<table border=\"1\" class=\"dataframe\">\n",
       "  <thead>\n",
       "    <tr style=\"text-align: right;\">\n",
       "      <th></th>\n",
       "      <th>TransactionID</th>\n",
       "      <th>isFraud</th>\n",
       "      <th>TransactionDT</th>\n",
       "      <th>TransactionAmt</th>\n",
       "      <th>ProductCD</th>\n",
       "      <th>card1</th>\n",
       "      <th>card2</th>\n",
       "      <th>card3</th>\n",
       "      <th>card4</th>\n",
       "      <th>card5</th>\n",
       "      <th>...</th>\n",
       "      <th>id_20</th>\n",
       "      <th>id_28</th>\n",
       "      <th>id_29</th>\n",
       "      <th>id_31</th>\n",
       "      <th>id_35</th>\n",
       "      <th>id_36</th>\n",
       "      <th>id_37</th>\n",
       "      <th>id_38</th>\n",
       "      <th>DeviceType</th>\n",
       "      <th>DeviceInfo</th>\n",
       "    </tr>\n",
       "  </thead>\n",
       "  <tbody>\n",
       "    <tr>\n",
       "      <th>0</th>\n",
       "      <td>2987000</td>\n",
       "      <td>0</td>\n",
       "      <td>86400</td>\n",
       "      <td>68.500000</td>\n",
       "      <td>W</td>\n",
       "      <td>13926</td>\n",
       "      <td>362.555511</td>\n",
       "      <td>150.0</td>\n",
       "      <td>discover</td>\n",
       "      <td>142.0</td>\n",
       "      <td>...</td>\n",
       "      <td>403.882568</td>\n",
       "      <td>-1</td>\n",
       "      <td>-1</td>\n",
       "      <td>-1</td>\n",
       "      <td>-1</td>\n",
       "      <td>-1</td>\n",
       "      <td>-1</td>\n",
       "      <td>-1</td>\n",
       "      <td>-1</td>\n",
       "      <td>-1</td>\n",
       "    </tr>\n",
       "    <tr>\n",
       "      <th>1</th>\n",
       "      <td>2987001</td>\n",
       "      <td>0</td>\n",
       "      <td>86401</td>\n",
       "      <td>29.000000</td>\n",
       "      <td>W</td>\n",
       "      <td>2755</td>\n",
       "      <td>404.000000</td>\n",
       "      <td>150.0</td>\n",
       "      <td>mastercard</td>\n",
       "      <td>102.0</td>\n",
       "      <td>...</td>\n",
       "      <td>403.882568</td>\n",
       "      <td>-1</td>\n",
       "      <td>-1</td>\n",
       "      <td>-1</td>\n",
       "      <td>-1</td>\n",
       "      <td>-1</td>\n",
       "      <td>-1</td>\n",
       "      <td>-1</td>\n",
       "      <td>-1</td>\n",
       "      <td>-1</td>\n",
       "    </tr>\n",
       "    <tr>\n",
       "      <th>2</th>\n",
       "      <td>2987002</td>\n",
       "      <td>0</td>\n",
       "      <td>86469</td>\n",
       "      <td>59.000000</td>\n",
       "      <td>W</td>\n",
       "      <td>4663</td>\n",
       "      <td>490.000000</td>\n",
       "      <td>150.0</td>\n",
       "      <td>visa</td>\n",
       "      <td>166.0</td>\n",
       "      <td>...</td>\n",
       "      <td>403.882568</td>\n",
       "      <td>-1</td>\n",
       "      <td>-1</td>\n",
       "      <td>-1</td>\n",
       "      <td>-1</td>\n",
       "      <td>-1</td>\n",
       "      <td>-1</td>\n",
       "      <td>-1</td>\n",
       "      <td>-1</td>\n",
       "      <td>-1</td>\n",
       "    </tr>\n",
       "    <tr>\n",
       "      <th>3</th>\n",
       "      <td>2987003</td>\n",
       "      <td>0</td>\n",
       "      <td>86499</td>\n",
       "      <td>50.000000</td>\n",
       "      <td>W</td>\n",
       "      <td>18132</td>\n",
       "      <td>567.000000</td>\n",
       "      <td>150.0</td>\n",
       "      <td>mastercard</td>\n",
       "      <td>117.0</td>\n",
       "      <td>...</td>\n",
       "      <td>403.882568</td>\n",
       "      <td>-1</td>\n",
       "      <td>-1</td>\n",
       "      <td>-1</td>\n",
       "      <td>-1</td>\n",
       "      <td>-1</td>\n",
       "      <td>-1</td>\n",
       "      <td>-1</td>\n",
       "      <td>-1</td>\n",
       "      <td>-1</td>\n",
       "    </tr>\n",
       "    <tr>\n",
       "      <th>4</th>\n",
       "      <td>2987004</td>\n",
       "      <td>0</td>\n",
       "      <td>86506</td>\n",
       "      <td>50.000000</td>\n",
       "      <td>H</td>\n",
       "      <td>4497</td>\n",
       "      <td>514.000000</td>\n",
       "      <td>150.0</td>\n",
       "      <td>mastercard</td>\n",
       "      <td>102.0</td>\n",
       "      <td>...</td>\n",
       "      <td>144.000000</td>\n",
       "      <td>New</td>\n",
       "      <td>NotFound</td>\n",
       "      <td>samsung browser 6.2</td>\n",
       "      <td>T</td>\n",
       "      <td>F</td>\n",
       "      <td>T</td>\n",
       "      <td>T</td>\n",
       "      <td>mobile</td>\n",
       "      <td>SAMSUNG SM-G892A Build/NRD90M</td>\n",
       "    </tr>\n",
       "    <tr>\n",
       "      <th>...</th>\n",
       "      <td>...</td>\n",
       "      <td>...</td>\n",
       "      <td>...</td>\n",
       "      <td>...</td>\n",
       "      <td>...</td>\n",
       "      <td>...</td>\n",
       "      <td>...</td>\n",
       "      <td>...</td>\n",
       "      <td>...</td>\n",
       "      <td>...</td>\n",
       "      <td>...</td>\n",
       "      <td>...</td>\n",
       "      <td>...</td>\n",
       "      <td>...</td>\n",
       "      <td>...</td>\n",
       "      <td>...</td>\n",
       "      <td>...</td>\n",
       "      <td>...</td>\n",
       "      <td>...</td>\n",
       "      <td>...</td>\n",
       "      <td>...</td>\n",
       "    </tr>\n",
       "    <tr>\n",
       "      <th>590535</th>\n",
       "      <td>3577535</td>\n",
       "      <td>0</td>\n",
       "      <td>15811047</td>\n",
       "      <td>49.000000</td>\n",
       "      <td>W</td>\n",
       "      <td>6550</td>\n",
       "      <td>362.555511</td>\n",
       "      <td>150.0</td>\n",
       "      <td>visa</td>\n",
       "      <td>226.0</td>\n",
       "      <td>...</td>\n",
       "      <td>403.882568</td>\n",
       "      <td>-1</td>\n",
       "      <td>-1</td>\n",
       "      <td>-1</td>\n",
       "      <td>-1</td>\n",
       "      <td>-1</td>\n",
       "      <td>-1</td>\n",
       "      <td>-1</td>\n",
       "      <td>-1</td>\n",
       "      <td>-1</td>\n",
       "    </tr>\n",
       "    <tr>\n",
       "      <th>590536</th>\n",
       "      <td>3577536</td>\n",
       "      <td>0</td>\n",
       "      <td>15811049</td>\n",
       "      <td>39.500000</td>\n",
       "      <td>W</td>\n",
       "      <td>10444</td>\n",
       "      <td>225.000000</td>\n",
       "      <td>150.0</td>\n",
       "      <td>mastercard</td>\n",
       "      <td>224.0</td>\n",
       "      <td>...</td>\n",
       "      <td>403.882568</td>\n",
       "      <td>-1</td>\n",
       "      <td>-1</td>\n",
       "      <td>-1</td>\n",
       "      <td>-1</td>\n",
       "      <td>-1</td>\n",
       "      <td>-1</td>\n",
       "      <td>-1</td>\n",
       "      <td>-1</td>\n",
       "      <td>-1</td>\n",
       "    </tr>\n",
       "    <tr>\n",
       "      <th>590537</th>\n",
       "      <td>3577537</td>\n",
       "      <td>0</td>\n",
       "      <td>15811079</td>\n",
       "      <td>30.950001</td>\n",
       "      <td>W</td>\n",
       "      <td>12037</td>\n",
       "      <td>595.000000</td>\n",
       "      <td>150.0</td>\n",
       "      <td>mastercard</td>\n",
       "      <td>224.0</td>\n",
       "      <td>...</td>\n",
       "      <td>403.882568</td>\n",
       "      <td>-1</td>\n",
       "      <td>-1</td>\n",
       "      <td>-1</td>\n",
       "      <td>-1</td>\n",
       "      <td>-1</td>\n",
       "      <td>-1</td>\n",
       "      <td>-1</td>\n",
       "      <td>-1</td>\n",
       "      <td>-1</td>\n",
       "    </tr>\n",
       "    <tr>\n",
       "      <th>590538</th>\n",
       "      <td>3577538</td>\n",
       "      <td>0</td>\n",
       "      <td>15811088</td>\n",
       "      <td>117.000000</td>\n",
       "      <td>W</td>\n",
       "      <td>7826</td>\n",
       "      <td>481.000000</td>\n",
       "      <td>150.0</td>\n",
       "      <td>mastercard</td>\n",
       "      <td>224.0</td>\n",
       "      <td>...</td>\n",
       "      <td>403.882568</td>\n",
       "      <td>-1</td>\n",
       "      <td>-1</td>\n",
       "      <td>-1</td>\n",
       "      <td>-1</td>\n",
       "      <td>-1</td>\n",
       "      <td>-1</td>\n",
       "      <td>-1</td>\n",
       "      <td>-1</td>\n",
       "      <td>-1</td>\n",
       "    </tr>\n",
       "    <tr>\n",
       "      <th>590539</th>\n",
       "      <td>3577539</td>\n",
       "      <td>0</td>\n",
       "      <td>15811131</td>\n",
       "      <td>279.950012</td>\n",
       "      <td>W</td>\n",
       "      <td>15066</td>\n",
       "      <td>170.000000</td>\n",
       "      <td>150.0</td>\n",
       "      <td>mastercard</td>\n",
       "      <td>102.0</td>\n",
       "      <td>...</td>\n",
       "      <td>403.882568</td>\n",
       "      <td>-1</td>\n",
       "      <td>-1</td>\n",
       "      <td>-1</td>\n",
       "      <td>-1</td>\n",
       "      <td>-1</td>\n",
       "      <td>-1</td>\n",
       "      <td>-1</td>\n",
       "      <td>-1</td>\n",
       "      <td>-1</td>\n",
       "    </tr>\n",
       "  </tbody>\n",
       "</table>\n",
       "<p>590540 rows × 360 columns</p>\n",
       "</div>"
      ],
      "text/plain": [
       "        TransactionID  isFraud  TransactionDT  TransactionAmt ProductCD  \\\n",
       "0             2987000        0          86400       68.500000         W   \n",
       "1             2987001        0          86401       29.000000         W   \n",
       "2             2987002        0          86469       59.000000         W   \n",
       "3             2987003        0          86499       50.000000         W   \n",
       "4             2987004        0          86506       50.000000         H   \n",
       "...               ...      ...            ...             ...       ...   \n",
       "590535        3577535        0       15811047       49.000000         W   \n",
       "590536        3577536        0       15811049       39.500000         W   \n",
       "590537        3577537        0       15811079       30.950001         W   \n",
       "590538        3577538        0       15811088      117.000000         W   \n",
       "590539        3577539        0       15811131      279.950012         W   \n",
       "\n",
       "        card1       card2  card3       card4  card5  ...       id_20  id_28  \\\n",
       "0       13926  362.555511  150.0    discover  142.0  ...  403.882568     -1   \n",
       "1        2755  404.000000  150.0  mastercard  102.0  ...  403.882568     -1   \n",
       "2        4663  490.000000  150.0        visa  166.0  ...  403.882568     -1   \n",
       "3       18132  567.000000  150.0  mastercard  117.0  ...  403.882568     -1   \n",
       "4        4497  514.000000  150.0  mastercard  102.0  ...  144.000000    New   \n",
       "...       ...         ...    ...         ...    ...  ...         ...    ...   \n",
       "590535   6550  362.555511  150.0        visa  226.0  ...  403.882568     -1   \n",
       "590536  10444  225.000000  150.0  mastercard  224.0  ...  403.882568     -1   \n",
       "590537  12037  595.000000  150.0  mastercard  224.0  ...  403.882568     -1   \n",
       "590538   7826  481.000000  150.0  mastercard  224.0  ...  403.882568     -1   \n",
       "590539  15066  170.000000  150.0  mastercard  102.0  ...  403.882568     -1   \n",
       "\n",
       "           id_29                id_31 id_35 id_36  id_37  id_38  DeviceType  \\\n",
       "0             -1                   -1    -1    -1     -1     -1          -1   \n",
       "1             -1                   -1    -1    -1     -1     -1          -1   \n",
       "2             -1                   -1    -1    -1     -1     -1          -1   \n",
       "3             -1                   -1    -1    -1     -1     -1          -1   \n",
       "4       NotFound  samsung browser 6.2     T     F      T      T      mobile   \n",
       "...          ...                  ...   ...   ...    ...    ...         ...   \n",
       "590535        -1                   -1    -1    -1     -1     -1          -1   \n",
       "590536        -1                   -1    -1    -1     -1     -1          -1   \n",
       "590537        -1                   -1    -1    -1     -1     -1          -1   \n",
       "590538        -1                   -1    -1    -1     -1     -1          -1   \n",
       "590539        -1                   -1    -1    -1     -1     -1          -1   \n",
       "\n",
       "                           DeviceInfo  \n",
       "0                                  -1  \n",
       "1                                  -1  \n",
       "2                                  -1  \n",
       "3                                  -1  \n",
       "4       SAMSUNG SM-G892A Build/NRD90M  \n",
       "...                               ...  \n",
       "590535                             -1  \n",
       "590536                             -1  \n",
       "590537                             -1  \n",
       "590538                             -1  \n",
       "590539                             -1  \n",
       "\n",
       "[590540 rows x 360 columns]"
      ]
     },
     "execution_count": 23,
     "metadata": {},
     "output_type": "execute_result"
    }
   ],
   "source": [
    "train_df"
   ]
  },
  {
   "cell_type": "markdown",
   "id": "95a0bfa8",
   "metadata": {
    "papermill": {
     "duration": 0.032299,
     "end_time": "2023-11-07T10:45:11.965467",
     "exception": false,
     "start_time": "2023-11-07T10:45:11.933168",
     "status": "completed"
    },
    "tags": []
   },
   "source": [
    "Аналогично заполним пропуски в тестовом датасете:"
   ]
  },
  {
   "cell_type": "code",
   "execution_count": 24,
   "id": "e04af3f0",
   "metadata": {
    "execution": {
     "iopub.execute_input": "2023-11-07T10:45:12.032736Z",
     "iopub.status.busy": "2023-11-07T10:45:12.032319Z",
     "iopub.status.idle": "2023-11-07T10:45:15.693744Z",
     "shell.execute_reply": "2023-11-07T10:45:15.692325Z"
    },
    "papermill": {
     "duration": 3.698476,
     "end_time": "2023-11-07T10:45:15.696690",
     "exception": false,
     "start_time": "2023-11-07T10:45:11.998214",
     "status": "completed"
    },
    "tags": []
   },
   "outputs": [],
   "source": [
    "test_df[num_features] = test_df[num_features].fillna(\n",
    "    test_df[num_features].mean())"
   ]
  },
  {
   "cell_type": "code",
   "execution_count": 25,
   "id": "713e1899",
   "metadata": {
    "execution": {
     "iopub.execute_input": "2023-11-07T10:45:15.763746Z",
     "iopub.status.busy": "2023-11-07T10:45:15.763303Z",
     "iopub.status.idle": "2023-11-07T10:45:17.386214Z",
     "shell.execute_reply": "2023-11-07T10:45:17.385122Z"
    },
    "papermill": {
     "duration": 1.660205,
     "end_time": "2023-11-07T10:45:17.388922",
     "exception": false,
     "start_time": "2023-11-07T10:45:15.728717",
     "status": "completed"
    },
    "tags": []
   },
   "outputs": [],
   "source": [
    "test_df = test_df.fillna(-1)"
   ]
  },
  {
   "cell_type": "markdown",
   "id": "25913800",
   "metadata": {
    "papermill": {
     "duration": 0.033753,
     "end_time": "2023-11-07T10:45:17.455365",
     "exception": false,
     "start_time": "2023-11-07T10:45:17.421612",
     "status": "completed"
    },
    "tags": []
   },
   "source": [
    "#### Посмотрим на распределение целевой переменной ```isFraud```"
   ]
  },
  {
   "cell_type": "code",
   "execution_count": 26,
   "id": "d96f4462",
   "metadata": {
    "execution": {
     "iopub.execute_input": "2023-11-07T10:45:17.521078Z",
     "iopub.status.busy": "2023-11-07T10:45:17.520621Z",
     "iopub.status.idle": "2023-11-07T10:45:17.545534Z",
     "shell.execute_reply": "2023-11-07T10:45:17.544421Z"
    },
    "papermill": {
     "duration": 0.060736,
     "end_time": "2023-11-07T10:45:17.548007",
     "exception": false,
     "start_time": "2023-11-07T10:45:17.487271",
     "status": "completed"
    },
    "tags": []
   },
   "outputs": [
    {
     "data": {
      "text/html": [
       "<div>\n",
       "<style scoped>\n",
       "    .dataframe tbody tr th:only-of-type {\n",
       "        vertical-align: middle;\n",
       "    }\n",
       "\n",
       "    .dataframe tbody tr th {\n",
       "        vertical-align: top;\n",
       "    }\n",
       "\n",
       "    .dataframe thead th {\n",
       "        text-align: right;\n",
       "    }\n",
       "</style>\n",
       "<table border=\"1\" class=\"dataframe\">\n",
       "  <thead>\n",
       "    <tr style=\"text-align: right;\">\n",
       "      <th></th>\n",
       "      <th>Count</th>\n",
       "      <th>Percent</th>\n",
       "    </tr>\n",
       "    <tr>\n",
       "      <th>isFraud</th>\n",
       "      <th></th>\n",
       "      <th></th>\n",
       "    </tr>\n",
       "  </thead>\n",
       "  <tbody>\n",
       "    <tr>\n",
       "      <th>0</th>\n",
       "      <td>569877</td>\n",
       "      <td>0.96501</td>\n",
       "    </tr>\n",
       "    <tr>\n",
       "      <th>1</th>\n",
       "      <td>20663</td>\n",
       "      <td>0.03499</td>\n",
       "    </tr>\n",
       "  </tbody>\n",
       "</table>\n",
       "</div>"
      ],
      "text/plain": [
       "          Count  Percent\n",
       "isFraud                 \n",
       "0        569877  0.96501\n",
       "1         20663  0.03499"
      ]
     },
     "execution_count": 26,
     "metadata": {},
     "output_type": "execute_result"
    }
   ],
   "source": [
    "isFraud_count = train_df['isFraud'].value_counts()\n",
    "isFraud_prct = train_df['isFraud'].value_counts()/len(train_df)\n",
    "\n",
    "pd.concat([isFraud_count, isFraud_prct], axis=1, keys=['Count', 'Percent'])"
   ]
  },
  {
   "cell_type": "code",
   "execution_count": 27,
   "id": "c9b583c0",
   "metadata": {
    "execution": {
     "iopub.execute_input": "2023-11-07T10:45:17.616465Z",
     "iopub.status.busy": "2023-11-07T10:45:17.615556Z",
     "iopub.status.idle": "2023-11-07T10:45:17.626257Z",
     "shell.execute_reply": "2023-11-07T10:45:17.625224Z"
    },
    "papermill": {
     "duration": 0.046933,
     "end_time": "2023-11-07T10:45:17.628809",
     "exception": false,
     "start_time": "2023-11-07T10:45:17.581876",
     "status": "completed"
    },
    "tags": []
   },
   "outputs": [],
   "source": [
    "colors = ['#1f77b4', '#ff7f0e', '#2ca02c', '#d62728', '#9467bd',\n",
    "          '#8c564b', '#e377c2', '#7f7f7f', '#bcbd22', '#17becf']\n",
    "\n",
    "def plot_value_counts(feature, title, df):\n",
    "    ax = df[df[feature] != -1][feature].value_counts().plot(kind='bar',\n",
    "                                        figsize=(7,5),\n",
    "                                        xlabel=title,\n",
    "                                        ylabel='count',\n",
    "                                        edgecolor='k',\n",
    "                                        color=colors)\n",
    "    ax.set_title(f'Percentage of {title}')\n",
    "    counts = df[feature].value_counts()/len(df)\n",
    "    \n",
    "    rects = ax.patches\n",
    "    labels_arr = ['{0:.2f}%'.format(count*100) for count in counts]\n",
    "    \n",
    "    if (len(labels_arr) > 2):\n",
    "        plt.xticks(rotation=0, size=8)\n",
    "        \n",
    "    for rect, label in zip(rects, labels_arr):\n",
    "        height = rect.get_height()\n",
    "        ax.text(\n",
    "            rect.get_x() + rect.get_width() / 2, height, label, ha='center', va='bottom'\n",
    "        )\n",
    "    \n",
    "    plt.show()"
   ]
  },
  {
   "cell_type": "code",
   "execution_count": 28,
   "id": "4bf0986e",
   "metadata": {
    "execution": {
     "iopub.execute_input": "2023-11-07T10:45:17.694327Z",
     "iopub.status.busy": "2023-11-07T10:45:17.693913Z",
     "iopub.status.idle": "2023-11-07T10:45:20.185540Z",
     "shell.execute_reply": "2023-11-07T10:45:20.184077Z"
    },
    "papermill": {
     "duration": 2.528377,
     "end_time": "2023-11-07T10:45:20.189302",
     "exception": false,
     "start_time": "2023-11-07T10:45:17.660925",
     "status": "completed"
    },
    "tags": []
   },
   "outputs": [
    {
     "data": {
      "image/png": "[encoded data removed]",
      "text/plain": [
       "<Figure size 700x500 with 1 Axes>"
      ]
     },
     "metadata": {},
     "output_type": "display_data"
    }
   ],
   "source": [
    "plot_value_counts('isFraud', 'train: isFraud', df=train_df)"
   ]
  },
  {
   "cell_type": "markdown",
   "id": "e3c03eae",
   "metadata": {
    "papermill": {
     "duration": 0.032394,
     "end_time": "2023-11-07T10:45:20.255400",
     "exception": false,
     "start_time": "2023-11-07T10:45:20.223006",
     "status": "completed"
    },
    "tags": []
   },
   "source": [
    "Видим, что данные не сбалансированы:\n",
    "\n",
    "- ```96,5 %``` транзакций - валидны\n",
    "\n",
    "- ```3,5 %``` транзакций - мошеннические\n",
    "\n",
    "Подумаем о решении вопроса дисбаланса в данных. Исследуем другие признаки."
   ]
  },
  {
   "cell_type": "markdown",
   "id": "f30c86ca",
   "metadata": {
    "papermill": {
     "duration": 0.032265,
     "end_time": "2023-11-07T10:45:20.320855",
     "exception": false,
     "start_time": "2023-11-07T10:45:20.288590",
     "status": "completed"
    },
    "tags": []
   },
   "source": [
    "#### Распределение ```Card 4``` (компания карты)"
   ]
  },
  {
   "cell_type": "code",
   "execution_count": 29,
   "id": "5b9a052a",
   "metadata": {
    "execution": {
     "iopub.execute_input": "2023-11-07T10:45:20.389546Z",
     "iopub.status.busy": "2023-11-07T10:45:20.388720Z",
     "iopub.status.idle": "2023-11-07T10:45:23.193211Z",
     "shell.execute_reply": "2023-11-07T10:45:23.192036Z"
    },
    "papermill": {
     "duration": 2.8424,
     "end_time": "2023-11-07T10:45:23.196009",
     "exception": false,
     "start_time": "2023-11-07T10:45:20.353609",
     "status": "completed"
    },
    "tags": []
   },
   "outputs": [
    {
     "data": {
      "image/png": "[encoded data removed]",
      "text/plain": [
       "<Figure size 700x500 with 1 Axes>"
      ]
     },
     "metadata": {},
     "output_type": "display_data"
    }
   ],
   "source": [
    "plot_value_counts('card4', 'train: card4', df=train_df)"
   ]
  },
  {
   "cell_type": "markdown",
   "id": "c8d8f22e",
   "metadata": {
    "papermill": {
     "duration": 0.033878,
     "end_time": "2023-11-07T10:45:23.263519",
     "exception": false,
     "start_time": "2023-11-07T10:45:23.229641",
     "status": "completed"
    },
    "tags": []
   },
   "source": [
    "Видим, что:\n",
    "\n",
    "- ```65,16 %``` - карт компании 'visa'\n",
    "- ```32,04 %``` - 'mastercard'\n",
    "- ```1,41 %```  - 'american express'\n",
    "- ```1,13 %```  - 'discover'"
   ]
  },
  {
   "cell_type": "markdown",
   "id": "2b97d267",
   "metadata": {
    "papermill": {
     "duration": 0.03323,
     "end_time": "2023-11-07T10:45:23.330546",
     "exception": false,
     "start_time": "2023-11-07T10:45:23.297316",
     "status": "completed"
    },
    "tags": []
   },
   "source": [
    "#### Распределение ```Card 6``` - тип карты"
   ]
  },
  {
   "cell_type": "code",
   "execution_count": 30,
   "id": "f154529d",
   "metadata": {
    "execution": {
     "iopub.execute_input": "2023-11-07T10:45:23.399691Z",
     "iopub.status.busy": "2023-11-07T10:45:23.399217Z",
     "iopub.status.idle": "2023-11-07T10:45:26.038572Z",
     "shell.execute_reply": "2023-11-07T10:45:26.037311Z"
    },
    "papermill": {
     "duration": 2.677425,
     "end_time": "2023-11-07T10:45:26.041387",
     "exception": false,
     "start_time": "2023-11-07T10:45:23.363962",
     "status": "completed"
    },
    "tags": []
   },
   "outputs": [
    {
     "data": {
      "image/png": "[encoded data removed]",
      "text/plain": [
       "<Figure size 700x500 with 1 Axes>"
      ]
     },
     "metadata": {},
     "output_type": "display_data"
    }
   ],
   "source": [
    "plot_value_counts('card6', 'train: card6', df=train_df)"
   ]
  },
  {
   "cell_type": "markdown",
   "id": "bd78be9b",
   "metadata": {
    "papermill": {
     "duration": 0.033921,
     "end_time": "2023-11-07T10:45:26.110057",
     "exception": false,
     "start_time": "2023-11-07T10:45:26.076136",
     "status": "completed"
    },
    "tags": []
   },
   "source": [
    "Большая часть транзакций произведена дебетовыми картами - ```74,5 %```, ```25,23 %``` - кредитными картами. Транзакций с ```charge``` карт нет"
   ]
  },
  {
   "cell_type": "markdown",
   "id": "3021e1ea",
   "metadata": {
    "papermill": {
     "duration": 0.033,
     "end_time": "2023-11-07T10:45:26.176720",
     "exception": false,
     "start_time": "2023-11-07T10:45:26.143720",
     "status": "completed"
    },
    "tags": []
   },
   "source": [
    "#### Распределение транзакций по ```DeviceType```"
   ]
  },
  {
   "cell_type": "code",
   "execution_count": 31,
   "id": "1798b594",
   "metadata": {
    "execution": {
     "iopub.execute_input": "2023-11-07T10:45:26.245625Z",
     "iopub.status.busy": "2023-11-07T10:45:26.244682Z",
     "iopub.status.idle": "2023-11-07T10:45:27.023899Z",
     "shell.execute_reply": "2023-11-07T10:45:27.022206Z"
    },
    "papermill": {
     "duration": 0.818086,
     "end_time": "2023-11-07T10:45:27.028043",
     "exception": false,
     "start_time": "2023-11-07T10:45:26.209957",
     "status": "completed"
    },
    "tags": []
   },
   "outputs": [
    {
     "name": "stdout",
     "output_type": "stream",
     "text": [
      "DeviceType\n",
      "desktop    85165\n",
      "mobile     55645\n",
      "Name: TransactionDT, dtype: int64\n"
     ]
    },
    {
     "data": {
      "image/png": "[encoded data removed]",
      "text/plain": [
       "<Figure size 640x480 with 1 Axes>"
      ]
     },
     "metadata": {},
     "output_type": "display_data"
    }
   ],
   "source": [
    "device_type_df = train_df[train_df['DeviceType']!=-1].groupby(by='DeviceType').TransactionDT.count()\n",
    "device_type_df.plot(kind='pie', \n",
    "                    colors=['orange', 'lightgreen'],\n",
    "                    autopct='%1.1f%%')\n",
    "plt.title('Number of transactions by device type')\n",
    "print(device_type_df)"
   ]
  },
  {
   "cell_type": "markdown",
   "id": "46e2baf0",
   "metadata": {
    "papermill": {
     "duration": 0.033753,
     "end_time": "2023-11-07T10:45:27.119599",
     "exception": false,
     "start_time": "2023-11-07T10:45:27.085846",
     "status": "completed"
    },
    "tags": []
   },
   "source": [
    "Большинство транзакций было выполнено с компьютера - ```60.5 %```\n",
    "\n",
    "С мобильных устройств - ```39.5 %``` транзакций"
   ]
  },
  {
   "cell_type": "markdown",
   "id": "2a1804a7",
   "metadata": {
    "papermill": {
     "duration": 0.033929,
     "end_time": "2023-11-07T10:45:27.188010",
     "exception": false,
     "start_time": "2023-11-07T10:45:27.154081",
     "status": "completed"
    },
    "tags": []
   },
   "source": [
    "#### Посмотрим на распределение транзакций в разрезе компаний, выпустивших карты"
   ]
  },
  {
   "cell_type": "markdown",
   "id": "cbc7be2d",
   "metadata": {
    "papermill": {
     "duration": 0.033949,
     "end_time": "2023-11-07T10:45:27.256487",
     "exception": false,
     "start_time": "2023-11-07T10:45:27.222538",
     "status": "completed"
    },
    "tags": []
   },
   "source": [
    "Напишем функцию для визуализации распределения транзакций в разрезе какого-либо признака"
   ]
  },
  {
   "cell_type": "code",
   "execution_count": 32,
   "id": "75352f64",
   "metadata": {
    "execution": {
     "iopub.execute_input": "2023-11-07T10:45:27.327509Z",
     "iopub.status.busy": "2023-11-07T10:45:27.327075Z",
     "iopub.status.idle": "2023-11-07T10:45:27.333562Z",
     "shell.execute_reply": "2023-11-07T10:45:27.332352Z"
    },
    "papermill": {
     "duration": 0.04505,
     "end_time": "2023-11-07T10:45:27.336041",
     "exception": false,
     "start_time": "2023-11-07T10:45:27.290991",
     "status": "completed"
    },
    "tags": []
   },
   "outputs": [],
   "source": [
    "def isFraud_by_feature(feature, df, title):\n",
    "    sns.barplot(x=feature, y='isFraud', data=df[df[feature]!=-1])\n",
    "    plt.xlabel(feature)\n",
    "    plt.ylabel('isFraud')\n",
    "    plt.title('Fraudulent Transactions by {}'.format(title))\n",
    "    plt.show()"
   ]
  },
  {
   "cell_type": "code",
   "execution_count": 33,
   "id": "af7b29fb",
   "metadata": {
    "execution": {
     "iopub.execute_input": "2023-11-07T10:45:27.407597Z",
     "iopub.status.busy": "2023-11-07T10:45:27.406789Z",
     "iopub.status.idle": "2023-11-07T10:45:37.632800Z",
     "shell.execute_reply": "2023-11-07T10:45:37.631926Z"
    },
    "papermill": {
     "duration": 10.264131,
     "end_time": "2023-11-07T10:45:37.635263",
     "exception": false,
     "start_time": "2023-11-07T10:45:27.371132",
     "status": "completed"
    },
    "tags": []
   },
   "outputs": [
    {
     "data": {
      "image/png": "[encoded data removed]",
      "text/plain": [
       "<Figure size 640x480 with 1 Axes>"
      ]
     },
     "metadata": {},
     "output_type": "display_data"
    }
   ],
   "source": [
    "isFraud_by_feature('card4', df=train_df, title='Card Company')"
   ]
  },
  {
   "cell_type": "markdown",
   "id": "46f94f88",
   "metadata": {
    "papermill": {
     "duration": 0.034519,
     "end_time": "2023-11-07T10:45:37.704764",
     "exception": false,
     "start_time": "2023-11-07T10:45:37.670245",
     "status": "completed"
    },
    "tags": []
   },
   "source": [
    "Большинство операций произведено с карт ```discover```"
   ]
  },
  {
   "cell_type": "markdown",
   "id": "f38b2460",
   "metadata": {
    "papermill": {
     "duration": 0.03401,
     "end_time": "2023-11-07T10:45:37.773530",
     "exception": false,
     "start_time": "2023-11-07T10:45:37.739520",
     "status": "completed"
    },
    "tags": []
   },
   "source": [
    "#### Распределение транзакций в разрезе типа карты"
   ]
  },
  {
   "cell_type": "code",
   "execution_count": 34,
   "id": "a891bbef",
   "metadata": {
    "execution": {
     "iopub.execute_input": "2023-11-07T10:45:37.844899Z",
     "iopub.status.busy": "2023-11-07T10:45:37.844131Z",
     "iopub.status.idle": "2023-11-07T10:45:48.101089Z",
     "shell.execute_reply": "2023-11-07T10:45:48.099765Z"
    },
    "papermill": {
     "duration": 10.295951,
     "end_time": "2023-11-07T10:45:48.104065",
     "exception": false,
     "start_time": "2023-11-07T10:45:37.808114",
     "status": "completed"
    },
    "tags": []
   },
   "outputs": [
    {
     "data": {
      "image/png": "[encoded data removed]",
      "text/plain": [
       "<Figure size 640x480 with 1 Axes>"
      ]
     },
     "metadata": {},
     "output_type": "display_data"
    }
   ],
   "source": [
    "isFraud_by_feature('card6', df=train_df, title='Card Type')"
   ]
  },
  {
   "cell_type": "markdown",
   "id": "1605308c",
   "metadata": {
    "papermill": {
     "duration": 0.035653,
     "end_time": "2023-11-07T10:45:48.175595",
     "exception": false,
     "start_time": "2023-11-07T10:45:48.139942",
     "status": "completed"
    },
    "tags": []
   },
   "source": [
    "Несмотря на то, что кредитные карты занимают ```25,23 %``` от всего объема данных, с них произведена большая часть транзакций"
   ]
  },
  {
   "cell_type": "markdown",
   "id": "6104c9a6",
   "metadata": {
    "papermill": {
     "duration": 0.034924,
     "end_time": "2023-11-07T10:45:48.246094",
     "exception": false,
     "start_time": "2023-11-07T10:45:48.211170",
     "status": "completed"
    },
    "tags": []
   },
   "source": [
    "#### Распределение транзакций в разрезе типа устройства"
   ]
  },
  {
   "cell_type": "code",
   "execution_count": 35,
   "id": "5193b3c8",
   "metadata": {
    "execution": {
     "iopub.execute_input": "2023-11-07T10:45:48.320983Z",
     "iopub.status.busy": "2023-11-07T10:45:48.320546Z",
     "iopub.status.idle": "2023-11-07T10:45:51.047015Z",
     "shell.execute_reply": "2023-11-07T10:45:51.045769Z"
    },
    "papermill": {
     "duration": 2.766496,
     "end_time": "2023-11-07T10:45:51.049709",
     "exception": false,
     "start_time": "2023-11-07T10:45:48.283213",
     "status": "completed"
    },
    "tags": []
   },
   "outputs": [
    {
     "data": {
      "image/png": "[encoded data removed]",
      "text/plain": [
       "<Figure size 640x480 with 1 Axes>"
      ]
     },
     "metadata": {},
     "output_type": "display_data"
    }
   ],
   "source": [
    "isFraud_by_feature('DeviceType', df=train_df, title='Device Type')"
   ]
  },
  {
   "cell_type": "markdown",
   "id": "432df00c",
   "metadata": {
    "papermill": {
     "duration": 0.035507,
     "end_time": "2023-11-07T10:45:51.122588",
     "exception": false,
     "start_time": "2023-11-07T10:45:51.087081",
     "status": "completed"
    },
    "tags": []
   },
   "source": [
    "Большинство транзакций было произведено с мобильных устройств"
   ]
  },
  {
   "cell_type": "markdown",
   "id": "cabd49d5",
   "metadata": {
    "papermill": {
     "duration": 0.035568,
     "end_time": "2023-11-07T10:45:51.194007",
     "exception": false,
     "start_time": "2023-11-07T10:45:51.158439",
     "status": "completed"
    },
    "tags": []
   },
   "source": [
    "#### Построим гистограмму распределения транзакционных платежей (TransactionAMT)"
   ]
  },
  {
   "cell_type": "code",
   "execution_count": 36,
   "id": "d4ec44c8",
   "metadata": {
    "execution": {
     "iopub.execute_input": "2023-11-07T10:45:51.267568Z",
     "iopub.status.busy": "2023-11-07T10:45:51.267100Z",
     "iopub.status.idle": "2023-11-07T10:45:51.939987Z",
     "shell.execute_reply": "2023-11-07T10:45:51.938917Z"
    },
    "papermill": {
     "duration": 0.713365,
     "end_time": "2023-11-07T10:45:51.942999",
     "exception": false,
     "start_time": "2023-11-07T10:45:51.229634",
     "status": "completed"
    },
    "tags": []
   },
   "outputs": [
    {
     "data": {
      "image/png": "[encoded data removed]",
      "text/plain": [
       "<Figure size 800x800 with 1 Axes>"
      ]
     },
     "metadata": {},
     "output_type": "display_data"
    }
   ],
   "source": [
    "plt.figure(figsize=(8,8))\n",
    "plt.hist(train_df['TransactionAmt'], bins=150, edgecolor='black')\n",
    "plt.xlabel('TransactionAMT')\n",
    "plt.ylabel('Count')\n",
    "plt.title('Distribution of TransactionAMT')\n",
    "plt.show()"
   ]
  },
  {
   "cell_type": "markdown",
   "id": "b13a29bb",
   "metadata": {
    "papermill": {
     "duration": 0.037065,
     "end_time": "2023-11-07T10:45:52.016381",
     "exception": false,
     "start_time": "2023-11-07T10:45:51.979316",
     "status": "completed"
    },
    "tags": []
   },
   "source": [
    "#### Здесь виден явный выброс в данных"
   ]
  },
  {
   "cell_type": "markdown",
   "id": "3b34516f",
   "metadata": {
    "papermill": {
     "duration": 0.040443,
     "end_time": "2023-11-07T10:45:52.093559",
     "exception": false,
     "start_time": "2023-11-07T10:45:52.053116",
     "status": "completed"
    },
    "tags": []
   },
   "source": [
    "Посмотрим на статистики этого признака"
   ]
  },
  {
   "cell_type": "code",
   "execution_count": 37,
   "id": "f29e5c67",
   "metadata": {
    "execution": {
     "iopub.execute_input": "2023-11-07T10:45:52.176612Z",
     "iopub.status.busy": "2023-11-07T10:45:52.175992Z",
     "iopub.status.idle": "2023-11-07T10:45:52.218960Z",
     "shell.execute_reply": "2023-11-07T10:45:52.217698Z"
    },
    "papermill": {
     "duration": 0.092396,
     "end_time": "2023-11-07T10:45:52.222273",
     "exception": false,
     "start_time": "2023-11-07T10:45:52.129877",
     "status": "completed"
    },
    "tags": []
   },
   "outputs": [
    {
     "data": {
      "text/plain": [
       "count    590540.000000\n",
       "mean        135.027161\n",
       "std         239.162521\n",
       "min           0.251000\n",
       "25%          43.320999\n",
       "50%          68.769001\n",
       "75%         125.000000\n",
       "max       31937.390625\n",
       "Name: TransactionAmt, dtype: float64"
      ]
     },
     "execution_count": 37,
     "metadata": {},
     "output_type": "execute_result"
    }
   ],
   "source": [
    "train_df['TransactionAmt'].describe()"
   ]
  },
  {
   "cell_type": "markdown",
   "id": "faa721b1",
   "metadata": {
    "papermill": {
     "duration": 0.036458,
     "end_time": "2023-11-07T10:45:52.300050",
     "exception": false,
     "start_time": "2023-11-07T10:45:52.263592",
     "status": "completed"
    },
    "tags": []
   },
   "source": [
    "Посмотрим на топ 10 самых больших значений этого столбца"
   ]
  },
  {
   "cell_type": "code",
   "execution_count": 38,
   "id": "95d430c2",
   "metadata": {
    "execution": {
     "iopub.execute_input": "2023-11-07T10:45:52.375570Z",
     "iopub.status.busy": "2023-11-07T10:45:52.374345Z",
     "iopub.status.idle": "2023-11-07T10:45:52.466659Z",
     "shell.execute_reply": "2023-11-07T10:45:52.465459Z"
    },
    "papermill": {
     "duration": 0.132775,
     "end_time": "2023-11-07T10:45:52.469393",
     "exception": false,
     "start_time": "2023-11-07T10:45:52.336618",
     "status": "completed"
    },
    "tags": []
   },
   "outputs": [
    {
     "data": {
      "text/plain": [
       "315172     5279.950195\n",
       "462514     5279.950195\n",
       "584767     5366.819824\n",
       "275535     5420.000000\n",
       "275529     5420.000000\n",
       "384603     5543.229980\n",
       "248413     6085.229980\n",
       "296021     6450.970215\n",
       "274336    31937.390625\n",
       "274339    31937.390625\n",
       "Name: TransactionAmt, dtype: float32"
      ]
     },
     "execution_count": 38,
     "metadata": {},
     "output_type": "execute_result"
    }
   ],
   "source": [
    "train_df['TransactionAmt'].dropna().sort_values().tail(10)"
   ]
  },
  {
   "cell_type": "markdown",
   "id": "d81da60f",
   "metadata": {
    "papermill": {
     "duration": 0.036566,
     "end_time": "2023-11-07T10:45:52.542558",
     "exception": false,
     "start_time": "2023-11-07T10:45:52.505992",
     "status": "completed"
    },
    "tags": []
   },
   "source": [
    "Выведем график ```boxplot```, чтобы убедиться, что эти значения похожи на выбросы"
   ]
  },
  {
   "cell_type": "code",
   "execution_count": 39,
   "id": "c46a2bf6",
   "metadata": {
    "execution": {
     "iopub.execute_input": "2023-11-07T10:45:52.617447Z",
     "iopub.status.busy": "2023-11-07T10:45:52.616982Z",
     "iopub.status.idle": "2023-11-07T10:45:53.000181Z",
     "shell.execute_reply": "2023-11-07T10:45:52.998882Z"
    },
    "papermill": {
     "duration": 0.423887,
     "end_time": "2023-11-07T10:45:53.002971",
     "exception": false,
     "start_time": "2023-11-07T10:45:52.579084",
     "status": "completed"
    },
    "tags": []
   },
   "outputs": [
    {
     "data": {
      "image/png": "[encoded data removed]",
      "text/plain": [
       "<Figure size 1000x300 with 1 Axes>"
      ]
     },
     "metadata": {},
     "output_type": "display_data"
    }
   ],
   "source": [
    "plt.figure(figsize=(10,3))\n",
    "sns.boxplot(x=train_df['TransactionAmt'])\n",
    "plt.title('Диаграмма размаха платежей')\n",
    "plt.xlabel('TransactionAmt')\n",
    "plt.show()"
   ]
  },
  {
   "cell_type": "markdown",
   "id": "541ac8b8",
   "metadata": {
    "papermill": {
     "duration": 0.036974,
     "end_time": "2023-11-07T10:45:53.078402",
     "exception": false,
     "start_time": "2023-11-07T10:45:53.041428",
     "status": "completed"
    },
    "tags": []
   },
   "source": [
    "#### Избавимся от выбросов"
   ]
  },
  {
   "cell_type": "markdown",
   "id": "41630a08",
   "metadata": {
    "papermill": {
     "duration": 0.037136,
     "end_time": "2023-11-07T10:45:53.153219",
     "exception": false,
     "start_time": "2023-11-07T10:45:53.116083",
     "status": "completed"
    },
    "tags": []
   },
   "source": [
    "Напишем функцию для того, чтобы отделить данные от выбросов"
   ]
  },
  {
   "cell_type": "code",
   "execution_count": 40,
   "id": "ce681d7a",
   "metadata": {
    "execution": {
     "iopub.execute_input": "2023-11-07T10:45:53.231587Z",
     "iopub.status.busy": "2023-11-07T10:45:53.231173Z",
     "iopub.status.idle": "2023-11-07T10:45:53.238169Z",
     "shell.execute_reply": "2023-11-07T10:45:53.236963Z"
    },
    "papermill": {
     "duration": 0.047807,
     "end_time": "2023-11-07T10:45:53.240751",
     "exception": false,
     "start_time": "2023-11-07T10:45:53.192944",
     "status": "completed"
    },
    "tags": []
   },
   "outputs": [],
   "source": [
    "def data_without_feat_emsns(df, feature):\n",
    "    first_qrt = df[feature].describe()['25%']\n",
    "    third_qrt = df[feature].describe()['75%']\n",
    "    iqr = third_qrt - first_qrt\n",
    "    \n",
    "    condition = (df[feature] > (first_qrt - 3 * iqr)) & \\\n",
    "    (df[feature] < (third_qrt + 3 * iqr))\n",
    "    \n",
    "    df = df[condition]\n",
    "    return df"
   ]
  },
  {
   "cell_type": "markdown",
   "id": "f9500790",
   "metadata": {
    "papermill": {
     "duration": 0.036861,
     "end_time": "2023-11-07T10:45:53.314363",
     "exception": false,
     "start_time": "2023-11-07T10:45:53.277502",
     "status": "completed"
    },
    "tags": []
   },
   "source": [
    "Применим созданную функцию к нашим данным, отфильтровав строки, не являющиеся выбросами"
   ]
  },
  {
   "cell_type": "code",
   "execution_count": 41,
   "id": "e314559d",
   "metadata": {
    "execution": {
     "iopub.execute_input": "2023-11-07T10:45:53.391856Z",
     "iopub.status.busy": "2023-11-07T10:45:53.391188Z",
     "iopub.status.idle": "2023-11-07T10:45:55.284529Z",
     "shell.execute_reply": "2023-11-07T10:45:55.283302Z"
    },
    "papermill": {
     "duration": 1.934723,
     "end_time": "2023-11-07T10:45:55.287436",
     "exception": false,
     "start_time": "2023-11-07T10:45:53.352713",
     "status": "completed"
    },
    "tags": []
   },
   "outputs": [],
   "source": [
    "train_df = data_without_feat_emsns(train_df, 'TransactionAmt')"
   ]
  },
  {
   "cell_type": "code",
   "execution_count": 42,
   "id": "5b81c8d8",
   "metadata": {
    "execution": {
     "iopub.execute_input": "2023-11-07T10:45:55.366751Z",
     "iopub.status.busy": "2023-11-07T10:45:55.365686Z",
     "iopub.status.idle": "2023-11-07T10:45:55.372639Z",
     "shell.execute_reply": "2023-11-07T10:45:55.371710Z"
    },
    "papermill": {
     "duration": 0.04824,
     "end_time": "2023-11-07T10:45:55.374729",
     "exception": false,
     "start_time": "2023-11-07T10:45:55.326489",
     "status": "completed"
    },
    "tags": []
   },
   "outputs": [
    {
     "data": {
      "text/plain": [
       "(554118, 360)"
      ]
     },
     "execution_count": 42,
     "metadata": {},
     "output_type": "execute_result"
    }
   ],
   "source": [
    "train_df.shape"
   ]
  },
  {
   "cell_type": "code",
   "execution_count": 43,
   "id": "8730e506",
   "metadata": {
    "execution": {
     "iopub.execute_input": "2023-11-07T10:45:55.453157Z",
     "iopub.status.busy": "2023-11-07T10:45:55.452053Z",
     "iopub.status.idle": "2023-11-07T10:45:56.066790Z",
     "shell.execute_reply": "2023-11-07T10:45:56.065506Z"
    },
    "papermill": {
     "duration": 0.657172,
     "end_time": "2023-11-07T10:45:56.069582",
     "exception": false,
     "start_time": "2023-11-07T10:45:55.412410",
     "status": "completed"
    },
    "tags": []
   },
   "outputs": [
    {
     "data": {
      "text/html": [
       "<div>\n",
       "<style scoped>\n",
       "    .dataframe tbody tr th:only-of-type {\n",
       "        vertical-align: middle;\n",
       "    }\n",
       "\n",
       "    .dataframe tbody tr th {\n",
       "        vertical-align: top;\n",
       "    }\n",
       "\n",
       "    .dataframe thead th {\n",
       "        text-align: right;\n",
       "    }\n",
       "</style>\n",
       "<table border=\"1\" class=\"dataframe\">\n",
       "  <thead>\n",
       "    <tr style=\"text-align: right;\">\n",
       "      <th></th>\n",
       "      <th>TransactionID</th>\n",
       "      <th>isFraud</th>\n",
       "      <th>TransactionDT</th>\n",
       "      <th>TransactionAmt</th>\n",
       "      <th>ProductCD</th>\n",
       "      <th>card1</th>\n",
       "      <th>card2</th>\n",
       "      <th>card3</th>\n",
       "      <th>card4</th>\n",
       "      <th>card5</th>\n",
       "      <th>...</th>\n",
       "      <th>id_20</th>\n",
       "      <th>id_28</th>\n",
       "      <th>id_29</th>\n",
       "      <th>id_31</th>\n",
       "      <th>id_35</th>\n",
       "      <th>id_36</th>\n",
       "      <th>id_37</th>\n",
       "      <th>id_38</th>\n",
       "      <th>DeviceType</th>\n",
       "      <th>DeviceInfo</th>\n",
       "    </tr>\n",
       "  </thead>\n",
       "  <tbody>\n",
       "    <tr>\n",
       "      <th>0</th>\n",
       "      <td>2987000</td>\n",
       "      <td>0</td>\n",
       "      <td>86400</td>\n",
       "      <td>68.500000</td>\n",
       "      <td>W</td>\n",
       "      <td>13926</td>\n",
       "      <td>362.555511</td>\n",
       "      <td>150.0</td>\n",
       "      <td>discover</td>\n",
       "      <td>142.0</td>\n",
       "      <td>...</td>\n",
       "      <td>403.882568</td>\n",
       "      <td>-1</td>\n",
       "      <td>-1</td>\n",
       "      <td>-1</td>\n",
       "      <td>-1</td>\n",
       "      <td>-1</td>\n",
       "      <td>-1</td>\n",
       "      <td>-1</td>\n",
       "      <td>-1</td>\n",
       "      <td>-1</td>\n",
       "    </tr>\n",
       "    <tr>\n",
       "      <th>1</th>\n",
       "      <td>2987001</td>\n",
       "      <td>0</td>\n",
       "      <td>86401</td>\n",
       "      <td>29.000000</td>\n",
       "      <td>W</td>\n",
       "      <td>2755</td>\n",
       "      <td>404.000000</td>\n",
       "      <td>150.0</td>\n",
       "      <td>mastercard</td>\n",
       "      <td>102.0</td>\n",
       "      <td>...</td>\n",
       "      <td>403.882568</td>\n",
       "      <td>-1</td>\n",
       "      <td>-1</td>\n",
       "      <td>-1</td>\n",
       "      <td>-1</td>\n",
       "      <td>-1</td>\n",
       "      <td>-1</td>\n",
       "      <td>-1</td>\n",
       "      <td>-1</td>\n",
       "      <td>-1</td>\n",
       "    </tr>\n",
       "    <tr>\n",
       "      <th>2</th>\n",
       "      <td>2987002</td>\n",
       "      <td>0</td>\n",
       "      <td>86469</td>\n",
       "      <td>59.000000</td>\n",
       "      <td>W</td>\n",
       "      <td>4663</td>\n",
       "      <td>490.000000</td>\n",
       "      <td>150.0</td>\n",
       "      <td>visa</td>\n",
       "      <td>166.0</td>\n",
       "      <td>...</td>\n",
       "      <td>403.882568</td>\n",
       "      <td>-1</td>\n",
       "      <td>-1</td>\n",
       "      <td>-1</td>\n",
       "      <td>-1</td>\n",
       "      <td>-1</td>\n",
       "      <td>-1</td>\n",
       "      <td>-1</td>\n",
       "      <td>-1</td>\n",
       "      <td>-1</td>\n",
       "    </tr>\n",
       "    <tr>\n",
       "      <th>3</th>\n",
       "      <td>2987003</td>\n",
       "      <td>0</td>\n",
       "      <td>86499</td>\n",
       "      <td>50.000000</td>\n",
       "      <td>W</td>\n",
       "      <td>18132</td>\n",
       "      <td>567.000000</td>\n",
       "      <td>150.0</td>\n",
       "      <td>mastercard</td>\n",
       "      <td>117.0</td>\n",
       "      <td>...</td>\n",
       "      <td>403.882568</td>\n",
       "      <td>-1</td>\n",
       "      <td>-1</td>\n",
       "      <td>-1</td>\n",
       "      <td>-1</td>\n",
       "      <td>-1</td>\n",
       "      <td>-1</td>\n",
       "      <td>-1</td>\n",
       "      <td>-1</td>\n",
       "      <td>-1</td>\n",
       "    </tr>\n",
       "    <tr>\n",
       "      <th>4</th>\n",
       "      <td>2987004</td>\n",
       "      <td>0</td>\n",
       "      <td>86506</td>\n",
       "      <td>50.000000</td>\n",
       "      <td>H</td>\n",
       "      <td>4497</td>\n",
       "      <td>514.000000</td>\n",
       "      <td>150.0</td>\n",
       "      <td>mastercard</td>\n",
       "      <td>102.0</td>\n",
       "      <td>...</td>\n",
       "      <td>144.000000</td>\n",
       "      <td>New</td>\n",
       "      <td>NotFound</td>\n",
       "      <td>samsung browser 6.2</td>\n",
       "      <td>T</td>\n",
       "      <td>F</td>\n",
       "      <td>T</td>\n",
       "      <td>T</td>\n",
       "      <td>mobile</td>\n",
       "      <td>SAMSUNG SM-G892A Build/NRD90M</td>\n",
       "    </tr>\n",
       "    <tr>\n",
       "      <th>...</th>\n",
       "      <td>...</td>\n",
       "      <td>...</td>\n",
       "      <td>...</td>\n",
       "      <td>...</td>\n",
       "      <td>...</td>\n",
       "      <td>...</td>\n",
       "      <td>...</td>\n",
       "      <td>...</td>\n",
       "      <td>...</td>\n",
       "      <td>...</td>\n",
       "      <td>...</td>\n",
       "      <td>...</td>\n",
       "      <td>...</td>\n",
       "      <td>...</td>\n",
       "      <td>...</td>\n",
       "      <td>...</td>\n",
       "      <td>...</td>\n",
       "      <td>...</td>\n",
       "      <td>...</td>\n",
       "      <td>...</td>\n",
       "      <td>...</td>\n",
       "    </tr>\n",
       "    <tr>\n",
       "      <th>590535</th>\n",
       "      <td>3577535</td>\n",
       "      <td>0</td>\n",
       "      <td>15811047</td>\n",
       "      <td>49.000000</td>\n",
       "      <td>W</td>\n",
       "      <td>6550</td>\n",
       "      <td>362.555511</td>\n",
       "      <td>150.0</td>\n",
       "      <td>visa</td>\n",
       "      <td>226.0</td>\n",
       "      <td>...</td>\n",
       "      <td>403.882568</td>\n",
       "      <td>-1</td>\n",
       "      <td>-1</td>\n",
       "      <td>-1</td>\n",
       "      <td>-1</td>\n",
       "      <td>-1</td>\n",
       "      <td>-1</td>\n",
       "      <td>-1</td>\n",
       "      <td>-1</td>\n",
       "      <td>-1</td>\n",
       "    </tr>\n",
       "    <tr>\n",
       "      <th>590536</th>\n",
       "      <td>3577536</td>\n",
       "      <td>0</td>\n",
       "      <td>15811049</td>\n",
       "      <td>39.500000</td>\n",
       "      <td>W</td>\n",
       "      <td>10444</td>\n",
       "      <td>225.000000</td>\n",
       "      <td>150.0</td>\n",
       "      <td>mastercard</td>\n",
       "      <td>224.0</td>\n",
       "      <td>...</td>\n",
       "      <td>403.882568</td>\n",
       "      <td>-1</td>\n",
       "      <td>-1</td>\n",
       "      <td>-1</td>\n",
       "      <td>-1</td>\n",
       "      <td>-1</td>\n",
       "      <td>-1</td>\n",
       "      <td>-1</td>\n",
       "      <td>-1</td>\n",
       "      <td>-1</td>\n",
       "    </tr>\n",
       "    <tr>\n",
       "      <th>590537</th>\n",
       "      <td>3577537</td>\n",
       "      <td>0</td>\n",
       "      <td>15811079</td>\n",
       "      <td>30.950001</td>\n",
       "      <td>W</td>\n",
       "      <td>12037</td>\n",
       "      <td>595.000000</td>\n",
       "      <td>150.0</td>\n",
       "      <td>mastercard</td>\n",
       "      <td>224.0</td>\n",
       "      <td>...</td>\n",
       "      <td>403.882568</td>\n",
       "      <td>-1</td>\n",
       "      <td>-1</td>\n",
       "      <td>-1</td>\n",
       "      <td>-1</td>\n",
       "      <td>-1</td>\n",
       "      <td>-1</td>\n",
       "      <td>-1</td>\n",
       "      <td>-1</td>\n",
       "      <td>-1</td>\n",
       "    </tr>\n",
       "    <tr>\n",
       "      <th>590538</th>\n",
       "      <td>3577538</td>\n",
       "      <td>0</td>\n",
       "      <td>15811088</td>\n",
       "      <td>117.000000</td>\n",
       "      <td>W</td>\n",
       "      <td>7826</td>\n",
       "      <td>481.000000</td>\n",
       "      <td>150.0</td>\n",
       "      <td>mastercard</td>\n",
       "      <td>224.0</td>\n",
       "      <td>...</td>\n",
       "      <td>403.882568</td>\n",
       "      <td>-1</td>\n",
       "      <td>-1</td>\n",
       "      <td>-1</td>\n",
       "      <td>-1</td>\n",
       "      <td>-1</td>\n",
       "      <td>-1</td>\n",
       "      <td>-1</td>\n",
       "      <td>-1</td>\n",
       "      <td>-1</td>\n",
       "    </tr>\n",
       "    <tr>\n",
       "      <th>590539</th>\n",
       "      <td>3577539</td>\n",
       "      <td>0</td>\n",
       "      <td>15811131</td>\n",
       "      <td>279.950012</td>\n",
       "      <td>W</td>\n",
       "      <td>15066</td>\n",
       "      <td>170.000000</td>\n",
       "      <td>150.0</td>\n",
       "      <td>mastercard</td>\n",
       "      <td>102.0</td>\n",
       "      <td>...</td>\n",
       "      <td>403.882568</td>\n",
       "      <td>-1</td>\n",
       "      <td>-1</td>\n",
       "      <td>-1</td>\n",
       "      <td>-1</td>\n",
       "      <td>-1</td>\n",
       "      <td>-1</td>\n",
       "      <td>-1</td>\n",
       "      <td>-1</td>\n",
       "      <td>-1</td>\n",
       "    </tr>\n",
       "  </tbody>\n",
       "</table>\n",
       "<p>554118 rows × 360 columns</p>\n",
       "</div>"
      ],
      "text/plain": [
       "        TransactionID  isFraud  TransactionDT  TransactionAmt ProductCD  \\\n",
       "0             2987000        0          86400       68.500000         W   \n",
       "1             2987001        0          86401       29.000000         W   \n",
       "2             2987002        0          86469       59.000000         W   \n",
       "3             2987003        0          86499       50.000000         W   \n",
       "4             2987004        0          86506       50.000000         H   \n",
       "...               ...      ...            ...             ...       ...   \n",
       "590535        3577535        0       15811047       49.000000         W   \n",
       "590536        3577536        0       15811049       39.500000         W   \n",
       "590537        3577537        0       15811079       30.950001         W   \n",
       "590538        3577538        0       15811088      117.000000         W   \n",
       "590539        3577539        0       15811131      279.950012         W   \n",
       "\n",
       "        card1       card2  card3       card4  card5  ...       id_20  id_28  \\\n",
       "0       13926  362.555511  150.0    discover  142.0  ...  403.882568     -1   \n",
       "1        2755  404.000000  150.0  mastercard  102.0  ...  403.882568     -1   \n",
       "2        4663  490.000000  150.0        visa  166.0  ...  403.882568     -1   \n",
       "3       18132  567.000000  150.0  mastercard  117.0  ...  403.882568     -1   \n",
       "4        4497  514.000000  150.0  mastercard  102.0  ...  144.000000    New   \n",
       "...       ...         ...    ...         ...    ...  ...         ...    ...   \n",
       "590535   6550  362.555511  150.0        visa  226.0  ...  403.882568     -1   \n",
       "590536  10444  225.000000  150.0  mastercard  224.0  ...  403.882568     -1   \n",
       "590537  12037  595.000000  150.0  mastercard  224.0  ...  403.882568     -1   \n",
       "590538   7826  481.000000  150.0  mastercard  224.0  ...  403.882568     -1   \n",
       "590539  15066  170.000000  150.0  mastercard  102.0  ...  403.882568     -1   \n",
       "\n",
       "           id_29                id_31 id_35 id_36  id_37  id_38  DeviceType  \\\n",
       "0             -1                   -1    -1    -1     -1     -1          -1   \n",
       "1             -1                   -1    -1    -1     -1     -1          -1   \n",
       "2             -1                   -1    -1    -1     -1     -1          -1   \n",
       "3             -1                   -1    -1    -1     -1     -1          -1   \n",
       "4       NotFound  samsung browser 6.2     T     F      T      T      mobile   \n",
       "...          ...                  ...   ...   ...    ...    ...         ...   \n",
       "590535        -1                   -1    -1    -1     -1     -1          -1   \n",
       "590536        -1                   -1    -1    -1     -1     -1          -1   \n",
       "590537        -1                   -1    -1    -1     -1     -1          -1   \n",
       "590538        -1                   -1    -1    -1     -1     -1          -1   \n",
       "590539        -1                   -1    -1    -1     -1     -1          -1   \n",
       "\n",
       "                           DeviceInfo  \n",
       "0                                  -1  \n",
       "1                                  -1  \n",
       "2                                  -1  \n",
       "3                                  -1  \n",
       "4       SAMSUNG SM-G892A Build/NRD90M  \n",
       "...                               ...  \n",
       "590535                             -1  \n",
       "590536                             -1  \n",
       "590537                             -1  \n",
       "590538                             -1  \n",
       "590539                             -1  \n",
       "\n",
       "[554118 rows x 360 columns]"
      ]
     },
     "execution_count": 43,
     "metadata": {},
     "output_type": "execute_result"
    }
   ],
   "source": [
    "train_df"
   ]
  },
  {
   "cell_type": "markdown",
   "id": "aecc5d22",
   "metadata": {
    "papermill": {
     "duration": 0.039374,
     "end_time": "2023-11-07T10:45:56.148887",
     "exception": false,
     "start_time": "2023-11-07T10:45:56.109513",
     "status": "completed"
    },
    "tags": []
   },
   "source": [
    "Построим ещё раз гистограмму распределения поля ```TransactionAmt```"
   ]
  },
  {
   "cell_type": "code",
   "execution_count": 44,
   "id": "8c1220e2",
   "metadata": {
    "execution": {
     "iopub.execute_input": "2023-11-07T10:45:56.228596Z",
     "iopub.status.busy": "2023-11-07T10:45:56.228185Z",
     "iopub.status.idle": "2023-11-07T10:45:56.580560Z",
     "shell.execute_reply": "2023-11-07T10:45:56.579601Z"
    },
    "papermill": {
     "duration": 0.394774,
     "end_time": "2023-11-07T10:45:56.582873",
     "exception": false,
     "start_time": "2023-11-07T10:45:56.188099",
     "status": "completed"
    },
    "tags": []
   },
   "outputs": [
    {
     "data": {
      "image/png": "[encoded data removed]",
      "text/plain": [
       "<Figure size 800x800 with 1 Axes>"
      ]
     },
     "metadata": {},
     "output_type": "display_data"
    }
   ],
   "source": [
    "plt.figure(figsize=(8,8))\n",
    "plt.hist(train_df['TransactionAmt'], bins=20, edgecolor='black')\n",
    "plt.xlabel('TransactionAmt')\n",
    "plt.ylabel('Count')\n",
    "plt.title('TransactionAmt Distribution')\n",
    "plt.show()"
   ]
  },
  {
   "cell_type": "markdown",
   "id": "c606a186",
   "metadata": {
    "papermill": {
     "duration": 0.039015,
     "end_time": "2023-11-07T10:45:56.661102",
     "exception": false,
     "start_time": "2023-11-07T10:45:56.622087",
     "status": "completed"
    },
    "tags": []
   },
   "source": [
    "Также ещё раз построим ```boxplot```, чтобы убедиться в отсутствии выбросов"
   ]
  },
  {
   "cell_type": "code",
   "execution_count": 45,
   "id": "29d3d813",
   "metadata": {
    "execution": {
     "iopub.execute_input": "2023-11-07T10:45:56.742439Z",
     "iopub.status.busy": "2023-11-07T10:45:56.741604Z",
     "iopub.status.idle": "2023-11-07T10:45:57.055638Z",
     "shell.execute_reply": "2023-11-07T10:45:57.054113Z"
    },
    "papermill": {
     "duration": 0.357701,
     "end_time": "2023-11-07T10:45:57.058402",
     "exception": false,
     "start_time": "2023-11-07T10:45:56.700701",
     "status": "completed"
    },
    "tags": []
   },
   "outputs": [
    {
     "data": {
      "image/png": "[encoded data removed]",
      "text/plain": [
       "<Figure size 800x700 with 1 Axes>"
      ]
     },
     "metadata": {},
     "output_type": "display_data"
    }
   ],
   "source": [
    "plt.figure(figsize=(8,7))\n",
    "sns.boxplot(data=train_df['TransactionAmt'].values, palette='Set2')\n",
    "plt.show()"
   ]
  },
  {
   "cell_type": "markdown",
   "id": "367fc322",
   "metadata": {
    "papermill": {
     "duration": 0.03891,
     "end_time": "2023-11-07T10:45:57.136835",
     "exception": false,
     "start_time": "2023-11-07T10:45:57.097925",
     "status": "completed"
    },
    "tags": []
   },
   "source": [
    "Посмотрим на распределение ```TransactionAmt``` на тестовом датасете:"
   ]
  },
  {
   "cell_type": "code",
   "execution_count": 46,
   "id": "85dc2401",
   "metadata": {
    "execution": {
     "iopub.execute_input": "2023-11-07T10:45:57.215775Z",
     "iopub.status.busy": "2023-11-07T10:45:57.215330Z",
     "iopub.status.idle": "2023-11-07T10:45:57.752431Z",
     "shell.execute_reply": "2023-11-07T10:45:57.751099Z"
    },
    "papermill": {
     "duration": 0.579575,
     "end_time": "2023-11-07T10:45:57.754936",
     "exception": false,
     "start_time": "2023-11-07T10:45:57.175361",
     "status": "completed"
    },
    "tags": []
   },
   "outputs": [
    {
     "data": {
      "image/png": "[encoded data removed]",
      "text/plain": [
       "<Figure size 800x800 with 1 Axes>"
      ]
     },
     "metadata": {},
     "output_type": "display_data"
    }
   ],
   "source": [
    "plt.figure(figsize=(8,8))\n",
    "plt.hist(test_df['TransactionAmt'], bins=150, edgecolor='black')\n",
    "plt.xlabel('TransactionAMT')\n",
    "plt.ylabel('Count')\n",
    "plt.title('Distribution of TransactionAMT on test df')\n",
    "plt.show()"
   ]
  },
  {
   "cell_type": "code",
   "execution_count": 47,
   "id": "f07ed91a",
   "metadata": {
    "execution": {
     "iopub.execute_input": "2023-11-07T10:45:57.835267Z",
     "iopub.status.busy": "2023-11-07T10:45:57.834794Z",
     "iopub.status.idle": "2023-11-07T10:45:58.177426Z",
     "shell.execute_reply": "2023-11-07T10:45:58.176235Z"
    },
    "papermill": {
     "duration": 0.386231,
     "end_time": "2023-11-07T10:45:58.180369",
     "exception": false,
     "start_time": "2023-11-07T10:45:57.794138",
     "status": "completed"
    },
    "tags": []
   },
   "outputs": [
    {
     "data": {
      "image/png": "[encoded data removed]",
      "text/plain": [
       "<Figure size 1000x300 with 1 Axes>"
      ]
     },
     "metadata": {},
     "output_type": "display_data"
    }
   ],
   "source": [
    "plt.figure(figsize=(10,3))\n",
    "sns.boxplot(x=test_df['TransactionAmt'])\n",
    "plt.title('Диаграмма размаха платежей (test_df)')\n",
    "plt.xlabel('TransactionAmt')\n",
    "plt.show()"
   ]
  },
  {
   "cell_type": "markdown",
   "id": "ef4c4c24",
   "metadata": {
    "papermill": {
     "duration": 0.040724,
     "end_time": "2023-11-07T10:45:58.261356",
     "exception": false,
     "start_time": "2023-11-07T10:45:58.220632",
     "status": "completed"
    },
    "tags": []
   },
   "source": [
    "Аналогично очистим тестовый датасет от выбросов признака ```TransactionAMT```"
   ]
  },
  {
   "cell_type": "code",
   "execution_count": 48,
   "id": "ee58e548",
   "metadata": {
    "execution": {
     "iopub.execute_input": "2023-11-07T10:45:58.342828Z",
     "iopub.status.busy": "2023-11-07T10:45:58.342064Z",
     "iopub.status.idle": "2023-11-07T10:45:59.979434Z",
     "shell.execute_reply": "2023-11-07T10:45:59.978222Z"
    },
    "papermill": {
     "duration": 1.680632,
     "end_time": "2023-11-07T10:45:59.981936",
     "exception": false,
     "start_time": "2023-11-07T10:45:58.301304",
     "status": "completed"
    },
    "tags": []
   },
   "outputs": [
    {
     "data": {
      "text/plain": [
       "(476384, 359)"
      ]
     },
     "execution_count": 48,
     "metadata": {},
     "output_type": "execute_result"
    }
   ],
   "source": [
    "test_df = data_without_feat_emsns(test_df, 'TransactionAmt')\n",
    "test_df.shape"
   ]
  },
  {
   "cell_type": "markdown",
   "id": "3db8b073",
   "metadata": {
    "papermill": {
     "duration": 0.039766,
     "end_time": "2023-11-07T10:46:00.062359",
     "exception": false,
     "start_time": "2023-11-07T10:46:00.022593",
     "status": "completed"
    },
    "tags": []
   },
   "source": [
    "Построим гистограмму распределения и диаграмму размаха платежей для тестового датасета после очистки данных от выбросов"
   ]
  },
  {
   "cell_type": "code",
   "execution_count": 49,
   "id": "34cf6b75",
   "metadata": {
    "execution": {
     "iopub.execute_input": "2023-11-07T10:46:00.144464Z",
     "iopub.status.busy": "2023-11-07T10:46:00.143667Z",
     "iopub.status.idle": "2023-11-07T10:46:00.518568Z",
     "shell.execute_reply": "2023-11-07T10:46:00.517568Z"
    },
    "papermill": {
     "duration": 0.419142,
     "end_time": "2023-11-07T10:46:00.520910",
     "exception": false,
     "start_time": "2023-11-07T10:46:00.101768",
     "status": "completed"
    },
    "tags": []
   },
   "outputs": [
    {
     "data": {
      "image/png": "[encoded data removed]",
      "text/plain": [
       "<Figure size 800x800 with 1 Axes>"
      ]
     },
     "metadata": {},
     "output_type": "display_data"
    }
   ],
   "source": [
    "plt.figure(figsize=(8,8))\n",
    "plt.hist(test_df['TransactionAmt'], bins=20, edgecolor='black')\n",
    "plt.xlabel('TransactionAMT')\n",
    "plt.ylabel('Count')\n",
    "plt.title('Distribution of TransactionAMT on test df')\n",
    "plt.show()"
   ]
  },
  {
   "cell_type": "code",
   "execution_count": 50,
   "id": "dabb0021",
   "metadata": {
    "execution": {
     "iopub.execute_input": "2023-11-07T10:46:00.604268Z",
     "iopub.status.busy": "2023-11-07T10:46:00.603791Z",
     "iopub.status.idle": "2023-11-07T10:46:00.901611Z",
     "shell.execute_reply": "2023-11-07T10:46:00.900364Z"
    },
    "papermill": {
     "duration": 0.342848,
     "end_time": "2023-11-07T10:46:00.904389",
     "exception": false,
     "start_time": "2023-11-07T10:46:00.561541",
     "status": "completed"
    },
    "tags": []
   },
   "outputs": [
    {
     "data": {
      "image/png": "[encoded data removed]",
      "text/plain": [
       "<Figure size 1000x300 with 1 Axes>"
      ]
     },
     "metadata": {},
     "output_type": "display_data"
    }
   ],
   "source": [
    "plt.figure(figsize=(10,3))\n",
    "sns.boxplot(x=test_df['TransactionAmt'])\n",
    "plt.title('Диаграмма размаха платежей (test_df)')\n",
    "plt.xlabel('TransactionAmt')\n",
    "plt.show()"
   ]
  },
  {
   "cell_type": "markdown",
   "id": "6c4cdc3c",
   "metadata": {
    "papermill": {
     "duration": 0.042528,
     "end_time": "2023-11-07T10:46:00.988406",
     "exception": false,
     "start_time": "2023-11-07T10:46:00.945878",
     "status": "completed"
    },
    "tags": []
   },
   "source": [
    "Используя ```Label Encoder``` преорабразуем категориальные признаки в числа"
   ]
  },
  {
   "cell_type": "code",
   "execution_count": 51,
   "id": "2199e20b",
   "metadata": {
    "execution": {
     "iopub.execute_input": "2023-11-07T10:46:01.074283Z",
     "iopub.status.busy": "2023-11-07T10:46:01.073708Z",
     "iopub.status.idle": "2023-11-07T10:46:30.481867Z",
     "shell.execute_reply": "2023-11-07T10:46:30.480659Z"
    },
    "papermill": {
     "duration": 29.453891,
     "end_time": "2023-11-07T10:46:30.484678",
     "exception": false,
     "start_time": "2023-11-07T10:46:01.030787",
     "status": "completed"
    },
    "tags": []
   },
   "outputs": [
    {
     "name": "stderr",
     "output_type": "stream",
     "text": [
      "/tmp/ipykernel_20/3288612165.py:5: SettingWithCopyWarning: \n",
      "A value is trying to be set on a copy of a slice from a DataFrame.\n",
      "Try using .loc[row_indexer,col_indexer] = value instead\n",
      "\n",
      "See the caveats in the documentation: https://pandas.pydata.org/pandas-docs/stable/user_guide/indexing.html#returning-a-view-versus-a-copy\n",
      "  train_df[f] = le.transform(list(train_df[f].values))\n",
      "/tmp/ipykernel_20/3288612165.py:5: SettingWithCopyWarning: \n",
      "A value is trying to be set on a copy of a slice from a DataFrame.\n",
      "Try using .loc[row_indexer,col_indexer] = value instead\n",
      "\n",
      "See the caveats in the documentation: https://pandas.pydata.org/pandas-docs/stable/user_guide/indexing.html#returning-a-view-versus-a-copy\n",
      "  train_df[f] = le.transform(list(train_df[f].values))\n",
      "/tmp/ipykernel_20/3288612165.py:5: SettingWithCopyWarning: \n",
      "A value is trying to be set on a copy of a slice from a DataFrame.\n",
      "Try using .loc[row_indexer,col_indexer] = value instead\n",
      "\n",
      "See the caveats in the documentation: https://pandas.pydata.org/pandas-docs/stable/user_guide/indexing.html#returning-a-view-versus-a-copy\n",
      "  train_df[f] = le.transform(list(train_df[f].values))\n",
      "/tmp/ipykernel_20/3288612165.py:5: SettingWithCopyWarning: \n",
      "A value is trying to be set on a copy of a slice from a DataFrame.\n",
      "Try using .loc[row_indexer,col_indexer] = value instead\n",
      "\n",
      "See the caveats in the documentation: https://pandas.pydata.org/pandas-docs/stable/user_guide/indexing.html#returning-a-view-versus-a-copy\n",
      "  train_df[f] = le.transform(list(train_df[f].values))\n",
      "/tmp/ipykernel_20/3288612165.py:5: SettingWithCopyWarning: \n",
      "A value is trying to be set on a copy of a slice from a DataFrame.\n",
      "Try using .loc[row_indexer,col_indexer] = value instead\n",
      "\n",
      "See the caveats in the documentation: https://pandas.pydata.org/pandas-docs/stable/user_guide/indexing.html#returning-a-view-versus-a-copy\n",
      "  train_df[f] = le.transform(list(train_df[f].values))\n",
      "/tmp/ipykernel_20/3288612165.py:5: SettingWithCopyWarning: \n",
      "A value is trying to be set on a copy of a slice from a DataFrame.\n",
      "Try using .loc[row_indexer,col_indexer] = value instead\n",
      "\n",
      "See the caveats in the documentation: https://pandas.pydata.org/pandas-docs/stable/user_guide/indexing.html#returning-a-view-versus-a-copy\n",
      "  train_df[f] = le.transform(list(train_df[f].values))\n",
      "/tmp/ipykernel_20/3288612165.py:5: SettingWithCopyWarning: \n",
      "A value is trying to be set on a copy of a slice from a DataFrame.\n",
      "Try using .loc[row_indexer,col_indexer] = value instead\n",
      "\n",
      "See the caveats in the documentation: https://pandas.pydata.org/pandas-docs/stable/user_guide/indexing.html#returning-a-view-versus-a-copy\n",
      "  train_df[f] = le.transform(list(train_df[f].values))\n",
      "/tmp/ipykernel_20/3288612165.py:5: SettingWithCopyWarning: \n",
      "A value is trying to be set on a copy of a slice from a DataFrame.\n",
      "Try using .loc[row_indexer,col_indexer] = value instead\n",
      "\n",
      "See the caveats in the documentation: https://pandas.pydata.org/pandas-docs/stable/user_guide/indexing.html#returning-a-view-versus-a-copy\n",
      "  train_df[f] = le.transform(list(train_df[f].values))\n",
      "/tmp/ipykernel_20/3288612165.py:5: SettingWithCopyWarning: \n",
      "A value is trying to be set on a copy of a slice from a DataFrame.\n",
      "Try using .loc[row_indexer,col_indexer] = value instead\n",
      "\n",
      "See the caveats in the documentation: https://pandas.pydata.org/pandas-docs/stable/user_guide/indexing.html#returning-a-view-versus-a-copy\n",
      "  train_df[f] = le.transform(list(train_df[f].values))\n",
      "/tmp/ipykernel_20/3288612165.py:5: SettingWithCopyWarning: \n",
      "A value is trying to be set on a copy of a slice from a DataFrame.\n",
      "Try using .loc[row_indexer,col_indexer] = value instead\n",
      "\n",
      "See the caveats in the documentation: https://pandas.pydata.org/pandas-docs/stable/user_guide/indexing.html#returning-a-view-versus-a-copy\n",
      "  train_df[f] = le.transform(list(train_df[f].values))\n",
      "/tmp/ipykernel_20/3288612165.py:5: SettingWithCopyWarning: \n",
      "A value is trying to be set on a copy of a slice from a DataFrame.\n",
      "Try using .loc[row_indexer,col_indexer] = value instead\n",
      "\n",
      "See the caveats in the documentation: https://pandas.pydata.org/pandas-docs/stable/user_guide/indexing.html#returning-a-view-versus-a-copy\n",
      "  train_df[f] = le.transform(list(train_df[f].values))\n",
      "/tmp/ipykernel_20/3288612165.py:5: SettingWithCopyWarning: \n",
      "A value is trying to be set on a copy of a slice from a DataFrame.\n",
      "Try using .loc[row_indexer,col_indexer] = value instead\n",
      "\n",
      "See the caveats in the documentation: https://pandas.pydata.org/pandas-docs/stable/user_guide/indexing.html#returning-a-view-versus-a-copy\n",
      "  train_df[f] = le.transform(list(train_df[f].values))\n",
      "/tmp/ipykernel_20/3288612165.py:5: SettingWithCopyWarning: \n",
      "A value is trying to be set on a copy of a slice from a DataFrame.\n",
      "Try using .loc[row_indexer,col_indexer] = value instead\n",
      "\n",
      "See the caveats in the documentation: https://pandas.pydata.org/pandas-docs/stable/user_guide/indexing.html#returning-a-view-versus-a-copy\n",
      "  train_df[f] = le.transform(list(train_df[f].values))\n",
      "/tmp/ipykernel_20/3288612165.py:5: SettingWithCopyWarning: \n",
      "A value is trying to be set on a copy of a slice from a DataFrame.\n",
      "Try using .loc[row_indexer,col_indexer] = value instead\n",
      "\n",
      "See the caveats in the documentation: https://pandas.pydata.org/pandas-docs/stable/user_guide/indexing.html#returning-a-view-versus-a-copy\n",
      "  train_df[f] = le.transform(list(train_df[f].values))\n",
      "/tmp/ipykernel_20/3288612165.py:5: SettingWithCopyWarning: \n",
      "A value is trying to be set on a copy of a slice from a DataFrame.\n",
      "Try using .loc[row_indexer,col_indexer] = value instead\n",
      "\n",
      "See the caveats in the documentation: https://pandas.pydata.org/pandas-docs/stable/user_guide/indexing.html#returning-a-view-versus-a-copy\n",
      "  train_df[f] = le.transform(list(train_df[f].values))\n",
      "/tmp/ipykernel_20/3288612165.py:5: SettingWithCopyWarning: \n",
      "A value is trying to be set on a copy of a slice from a DataFrame.\n",
      "Try using .loc[row_indexer,col_indexer] = value instead\n",
      "\n",
      "See the caveats in the documentation: https://pandas.pydata.org/pandas-docs/stable/user_guide/indexing.html#returning-a-view-versus-a-copy\n",
      "  train_df[f] = le.transform(list(train_df[f].values))\n",
      "/tmp/ipykernel_20/3288612165.py:5: SettingWithCopyWarning: \n",
      "A value is trying to be set on a copy of a slice from a DataFrame.\n",
      "Try using .loc[row_indexer,col_indexer] = value instead\n",
      "\n",
      "See the caveats in the documentation: https://pandas.pydata.org/pandas-docs/stable/user_guide/indexing.html#returning-a-view-versus-a-copy\n",
      "  train_df[f] = le.transform(list(train_df[f].values))\n",
      "/tmp/ipykernel_20/3288612165.py:5: SettingWithCopyWarning: \n",
      "A value is trying to be set on a copy of a slice from a DataFrame.\n",
      "Try using .loc[row_indexer,col_indexer] = value instead\n",
      "\n",
      "See the caveats in the documentation: https://pandas.pydata.org/pandas-docs/stable/user_guide/indexing.html#returning-a-view-versus-a-copy\n",
      "  train_df[f] = le.transform(list(train_df[f].values))\n",
      "/tmp/ipykernel_20/3288612165.py:5: SettingWithCopyWarning: \n",
      "A value is trying to be set on a copy of a slice from a DataFrame.\n",
      "Try using .loc[row_indexer,col_indexer] = value instead\n",
      "\n",
      "See the caveats in the documentation: https://pandas.pydata.org/pandas-docs/stable/user_guide/indexing.html#returning-a-view-versus-a-copy\n",
      "  train_df[f] = le.transform(list(train_df[f].values))\n",
      "/tmp/ipykernel_20/3288612165.py:5: SettingWithCopyWarning: \n",
      "A value is trying to be set on a copy of a slice from a DataFrame.\n",
      "Try using .loc[row_indexer,col_indexer] = value instead\n",
      "\n",
      "See the caveats in the documentation: https://pandas.pydata.org/pandas-docs/stable/user_guide/indexing.html#returning-a-view-versus-a-copy\n",
      "  train_df[f] = le.transform(list(train_df[f].values))\n",
      "/tmp/ipykernel_20/3288612165.py:5: SettingWithCopyWarning: \n",
      "A value is trying to be set on a copy of a slice from a DataFrame.\n",
      "Try using .loc[row_indexer,col_indexer] = value instead\n",
      "\n",
      "See the caveats in the documentation: https://pandas.pydata.org/pandas-docs/stable/user_guide/indexing.html#returning-a-view-versus-a-copy\n",
      "  train_df[f] = le.transform(list(train_df[f].values))\n",
      "/tmp/ipykernel_20/3288612165.py:5: SettingWithCopyWarning: \n",
      "A value is trying to be set on a copy of a slice from a DataFrame.\n",
      "Try using .loc[row_indexer,col_indexer] = value instead\n",
      "\n",
      "See the caveats in the documentation: https://pandas.pydata.org/pandas-docs/stable/user_guide/indexing.html#returning-a-view-versus-a-copy\n",
      "  train_df[f] = le.transform(list(train_df[f].values))\n",
      "/tmp/ipykernel_20/3288612165.py:5: SettingWithCopyWarning: \n",
      "A value is trying to be set on a copy of a slice from a DataFrame.\n",
      "Try using .loc[row_indexer,col_indexer] = value instead\n",
      "\n",
      "See the caveats in the documentation: https://pandas.pydata.org/pandas-docs/stable/user_guide/indexing.html#returning-a-view-versus-a-copy\n",
      "  train_df[f] = le.transform(list(train_df[f].values))\n",
      "/tmp/ipykernel_20/3288612165.py:5: SettingWithCopyWarning: \n",
      "A value is trying to be set on a copy of a slice from a DataFrame.\n",
      "Try using .loc[row_indexer,col_indexer] = value instead\n",
      "\n",
      "See the caveats in the documentation: https://pandas.pydata.org/pandas-docs/stable/user_guide/indexing.html#returning-a-view-versus-a-copy\n",
      "  train_df[f] = le.transform(list(train_df[f].values))\n",
      "/tmp/ipykernel_20/3288612165.py:5: SettingWithCopyWarning: \n",
      "A value is trying to be set on a copy of a slice from a DataFrame.\n",
      "Try using .loc[row_indexer,col_indexer] = value instead\n",
      "\n",
      "See the caveats in the documentation: https://pandas.pydata.org/pandas-docs/stable/user_guide/indexing.html#returning-a-view-versus-a-copy\n",
      "  train_df[f] = le.transform(list(train_df[f].values))\n",
      "/tmp/ipykernel_20/3288612165.py:5: SettingWithCopyWarning: \n",
      "A value is trying to be set on a copy of a slice from a DataFrame.\n",
      "Try using .loc[row_indexer,col_indexer] = value instead\n",
      "\n",
      "See the caveats in the documentation: https://pandas.pydata.org/pandas-docs/stable/user_guide/indexing.html#returning-a-view-versus-a-copy\n",
      "  train_df[f] = le.transform(list(train_df[f].values))\n"
     ]
    }
   ],
   "source": [
    "for f in train_df.columns:\n",
    "    if train_df[f].dtype=='object':\n",
    "        le = LabelEncoder()\n",
    "        le.fit(list(train_df[f].values))\n",
    "        train_df[f] = le.transform(list(train_df[f].values))"
   ]
  },
  {
   "cell_type": "markdown",
   "id": "a5f003fb",
   "metadata": {
    "papermill": {
     "duration": 0.043227,
     "end_time": "2023-11-07T10:46:30.571648",
     "exception": false,
     "start_time": "2023-11-07T10:46:30.528421",
     "status": "completed"
    },
    "tags": []
   },
   "source": [
    "Используя ```Label Encoder``` преорабразуем категориальные признаки в числа"
   ]
  },
  {
   "cell_type": "code",
   "execution_count": 52,
   "id": "a32cec3f",
   "metadata": {
    "execution": {
     "iopub.execute_input": "2023-11-07T10:46:30.661260Z",
     "iopub.status.busy": "2023-11-07T10:46:30.660480Z",
     "iopub.status.idle": "2023-11-07T10:46:55.577727Z",
     "shell.execute_reply": "2023-11-07T10:46:55.576514Z"
    },
    "papermill": {
     "duration": 24.965613,
     "end_time": "2023-11-07T10:46:55.580844",
     "exception": false,
     "start_time": "2023-11-07T10:46:30.615231",
     "status": "completed"
    },
    "tags": []
   },
   "outputs": [],
   "source": [
    "for f in test_df.columns:\n",
    "    if test_df[f].dtype=='object':\n",
    "        le = LabelEncoder()\n",
    "        le.fit(list(test_df[f].values))\n",
    "        test_df[f] = le.transform(list(test_df[f].values))"
   ]
  },
  {
   "cell_type": "markdown",
   "id": "433e5bee",
   "metadata": {
    "papermill": {
     "duration": 0.04303,
     "end_time": "2023-11-07T10:46:55.667761",
     "exception": false,
     "start_time": "2023-11-07T10:46:55.624731",
     "status": "completed"
    },
    "tags": []
   },
   "source": [
    "Посмотрим на объёмы занимаемой памяти после преобразования числовых типов и кодирования типов ```object``` в числовые типы"
   ]
  },
  {
   "cell_type": "markdown",
   "id": "1a423e44",
   "metadata": {
    "papermill": {
     "duration": 0.044467,
     "end_time": "2023-11-07T10:46:55.757152",
     "exception": false,
     "start_time": "2023-11-07T10:46:55.712685",
     "status": "completed"
    },
    "tags": []
   },
   "source": [
    "Напишем функцию для подсчёт изменений памяти:"
   ]
  },
  {
   "cell_type": "code",
   "execution_count": 53,
   "id": "845d71e7",
   "metadata": {
    "execution": {
     "iopub.execute_input": "2023-11-07T10:46:55.848781Z",
     "iopub.status.busy": "2023-11-07T10:46:55.848334Z",
     "iopub.status.idle": "2023-11-07T10:46:55.855253Z",
     "shell.execute_reply": "2023-11-07T10:46:55.854004Z"
    },
    "papermill": {
     "duration": 0.055029,
     "end_time": "2023-11-07T10:46:55.857734",
     "exception": false,
     "start_time": "2023-11-07T10:46:55.802705",
     "status": "completed"
    },
    "tags": []
   },
   "outputs": [],
   "source": [
    "def memory_changes(start_mem_usage, df, df_name):\n",
    "    cur_mem_usage = memory_usage(df)\n",
    "    diff_mem = (start_mem_usage - cur_mem_usage)\n",
    "    diff_mem_prct = 100-((cur_mem_usage * 100)/start_mem_usage)\n",
    "    print(f'Memory usage of {df_name} decreased from {start_mem_usage} to {cur_mem_usage} on {diff_mem} Mb ({diff_mem_prct})%')"
   ]
  },
  {
   "cell_type": "markdown",
   "id": "df2b4202",
   "metadata": {
    "papermill": {
     "duration": 0.044241,
     "end_time": "2023-11-07T10:46:55.946640",
     "exception": false,
     "start_time": "2023-11-07T10:46:55.902399",
     "status": "completed"
    },
    "tags": []
   },
   "source": [
    "### ```train_df``` после преобразований"
   ]
  },
  {
   "cell_type": "code",
   "execution_count": 54,
   "id": "961954c0",
   "metadata": {
    "execution": {
     "iopub.execute_input": "2023-11-07T10:46:56.037075Z",
     "iopub.status.busy": "2023-11-07T10:46:56.036594Z",
     "iopub.status.idle": "2023-11-07T10:46:56.063476Z",
     "shell.execute_reply": "2023-11-07T10:46:56.062303Z"
    },
    "papermill": {
     "duration": 0.074882,
     "end_time": "2023-11-07T10:46:56.065983",
     "exception": false,
     "start_time": "2023-11-07T10:46:55.991101",
     "status": "completed"
    },
    "tags": []
   },
   "outputs": [
    {
     "name": "stdout",
     "output_type": "stream",
     "text": [
      "Memory usage of train_df decreased from 2567.094612121582 to 817.5092182159424 on 1749.5853939056396 Mb (68.15430119498753)%\n"
     ]
    }
   ],
   "source": [
    "memory_changes(train_df_GB * 1024, df=train_df, df_name='train_df')"
   ]
  },
  {
   "cell_type": "markdown",
   "id": "63eea6b8",
   "metadata": {
    "papermill": {
     "duration": 0.044411,
     "end_time": "2023-11-07T10:46:56.154372",
     "exception": false,
     "start_time": "2023-11-07T10:46:56.109961",
     "status": "completed"
    },
    "tags": []
   },
   "source": [
    "### ```test_df``` после преобразований"
   ]
  },
  {
   "cell_type": "code",
   "execution_count": 55,
   "id": "a4ff3146",
   "metadata": {
    "execution": {
     "iopub.execute_input": "2023-11-07T10:46:56.247053Z",
     "iopub.status.busy": "2023-11-07T10:46:56.246356Z",
     "iopub.status.idle": "2023-11-07T10:46:56.273203Z",
     "shell.execute_reply": "2023-11-07T10:46:56.271613Z"
    },
    "papermill": {
     "duration": 0.075545,
     "end_time": "2023-11-07T10:46:56.275793",
     "exception": false,
     "start_time": "2023-11-07T10:46:56.200248",
     "status": "completed"
    },
    "tags": []
   },
   "outputs": [
    {
     "name": "stdout",
     "output_type": "stream",
     "text": [
      "Memory usage of test_df decreased from 2214.031036376953 to 702.3712768554688 on 1511.6597595214844 Mb (68.2763581306958)%\n"
     ]
    }
   ],
   "source": [
    "memory_changes(test_df_GB * 1024, df=test_df, df_name='test_df')"
   ]
  },
  {
   "cell_type": "markdown",
   "id": "e0f69269",
   "metadata": {
    "papermill": {
     "duration": 0.043206,
     "end_time": "2023-11-07T10:46:56.362261",
     "exception": false,
     "start_time": "2023-11-07T10:46:56.319055",
     "status": "completed"
    },
    "tags": []
   },
   "source": [
    "Т.к. мы объединили датасеты ```*identity``` и ```*transaction```, удалим их для того, чтобы освободить память"
   ]
  },
  {
   "cell_type": "code",
   "execution_count": 56,
   "id": "775e510e",
   "metadata": {
    "execution": {
     "iopub.execute_input": "2023-11-07T10:46:56.451987Z",
     "iopub.status.busy": "2023-11-07T10:46:56.451333Z",
     "iopub.status.idle": "2023-11-07T10:46:56.546682Z",
     "shell.execute_reply": "2023-11-07T10:46:56.545484Z"
    },
    "papermill": {
     "duration": 0.143427,
     "end_time": "2023-11-07T10:46:56.549350",
     "exception": false,
     "start_time": "2023-11-07T10:46:56.405923",
     "status": "completed"
    },
    "tags": []
   },
   "outputs": [
    {
     "data": {
      "text/plain": [
       "<function gc.collect(generation=2)>"
      ]
     },
     "execution_count": 56,
     "metadata": {},
     "output_type": "execute_result"
    }
   ],
   "source": [
    "del train_transaction\n",
    "del train_identity\n",
    "del test_transaction\n",
    "del test_identity\n",
    "gc.collect"
   ]
  }
 ],
 "metadata": {
  "kernelspec": {
   "display_name": "Python 3",
   "language": "python",
   "name": "python3"
  },
  "language_info": {
   "codemirror_mode": {
    "name": "ipython",
    "version": 3
   },
   "file_extension": ".py",
   "mimetype": "text/x-python",
   "name": "python",
   "nbconvert_exporter": "python",
   "pygments_lexer": "ipython3",
   "version": "3.10.12"
  },
  "papermill": {
   "default_parameters": {},
   "duration": 273.656301,
   "end_time": "2023-11-07T10:46:57.819420",
   "environment_variables": {},
   "exception": null,
   "input_path": "__notebook__.ipynb",
   "output_path": "__notebook__.ipynb",
   "parameters": {},
   "start_time": "2023-11-07T10:42:24.163119",
   "version": "2.4.0"
  }
 },
 "nbformat": 4,
 "nbformat_minor": 5
}
