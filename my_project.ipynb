{
 "cells": [
  {
   "cell_type": "code",
   "execution_count": 1,
   "id": "b3b1bfd5",
   "metadata": {
    "_cell_guid": "b1076dfc-b9ad-4769-8c92-a6c4dae69d19",
    "_uuid": "8f2839f25d086af736a60e9eeb907d3b93b6e0e5",
    "execution": {
     "iopub.execute_input": "2023-11-07T12:34:44.010361Z",
     "iopub.status.busy": "2023-11-07T12:34:44.009477Z",
     "iopub.status.idle": "2023-11-07T12:34:48.484454Z",
     "shell.execute_reply": "2023-11-07T12:34:48.482730Z"
    },
    "papermill": {
     "duration": 4.51462,
     "end_time": "2023-11-07T12:34:48.488513",
     "exception": false,
     "start_time": "2023-11-07T12:34:43.973893",
     "status": "completed"
    },
    "tags": []
   },
   "outputs": [
    {
     "name": "stdout",
     "output_type": "stream",
     "text": [
      "/kaggle/input/ieee-fraud-detection/sample_submission.csv\n",
      "/kaggle/input/ieee-fraud-detection/test_identity.csv\n",
      "/kaggle/input/ieee-fraud-detection/train_identity.csv\n",
      "/kaggle/input/ieee-fraud-detection/test_transaction.csv\n",
      "/kaggle/input/ieee-fraud-detection/train_transaction.csv\n"
     ]
    }
   ],
   "source": [
    "# This Python 3 environment comes with many helpful analytics libraries installed\n",
    "# It is defined by the kaggle/python Docker image: https://github.com/kaggle/docker-python\n",
    "# For example, here's several helpful packages to load\n",
    "\n",
    "import numpy as np # linear algebra\n",
    "import pandas as pd # data processing, CSV file I/O (e.g. pd.read_csv)\n",
    "import gc\n",
    "import numpy as np\n",
    "import matplotlib.pyplot as plt\n",
    "import seaborn as sns\n",
    "from sklearn.metrics import accuracy_score\n",
    "from sklearn.model_selection import train_test_split,cross_val_score,GridSearchCV,cross_validate\n",
    "from sklearn.preprocessing import MinMaxScaler,LabelEncoder,StandardScaler,RobustScaler\n",
    "from sklearn.impute import KNNImputer\n",
    "from sklearn.metrics import mean_squared_error, mean_absolute_error\n",
    "from sklearn.neighbors import KNeighborsClassifier\n",
    "from sklearn.tree import DecisionTreeClassifier\n",
    "from xgboost import XGBClassifier\n",
    "from lightgbm import LGBMClassifier\n",
    "from sklearn.ensemble import RandomForestClassifier,GradientBoostingClassifier,VotingClassifier,AdaBoostClassifier\n",
    "# Input data files are available in the read-only \"../input/\" directory\n",
    "# For example, running this (by clicking run or pressing Shift+Enter) will list all files under the input directory\n",
    "\n",
    "import os\n",
    "for dirname, _, filenames in os.walk('/kaggle/input'):\n",
    "    for filename in filenames:\n",
    "        print(os.path.join(dirname, filename))\n",
    "\n",
    "# You can write up to 20GB to the current directory (/kaggle/working/) that gets preserved as output when you create a version using \"Save & Run All\" \n",
    "# You can also write temporary files to /kaggle/temp/, but they won't be saved outside of the current session"
   ]
  },
  {
   "cell_type": "markdown",
   "id": "6d880ca5",
   "metadata": {
    "papermill": {
     "duration": 0.030616,
     "end_time": "2023-11-07T12:34:48.552393",
     "exception": false,
     "start_time": "2023-11-07T12:34:48.521777",
     "status": "completed"
    },
    "tags": []
   },
   "source": [
    "### Данный проект решает задачу бинарной классификации.\n",
    "### Нужно предсказать, к какому типу относится транзакция - мошенническая она ли нет."
   ]
  },
  {
   "cell_type": "markdown",
   "id": "0898a16a",
   "metadata": {
    "papermill": {
     "duration": 0.030378,
     "end_time": "2023-11-07T12:34:48.614466",
     "exception": false,
     "start_time": "2023-11-07T12:34:48.584088",
     "status": "completed"
    },
    "tags": []
   },
   "source": [
    "#### Данные в датасете **transaction**:\n",
    "<span style=\"font-size: 18px;\">\n",
    "    \n",
    "- TransactionDT - дельта времени от заданного эталонного значения времени (не актуального значения) \n",
    "- TransactionAMT - транзакционный платёж в USD\n",
    "- ProductCD - продуктовый код, продукт каждой транзакции\n",
    "- card1 - card6 - информация платёжной карты, такая как: тип карты, категория, банк выпуска, страна и т.д.\n",
    "- addr - адрес\n",
    "- dist - расстояние\n",
    "- P_ and (R_) emaildomain: домены покупателя и получателя\n",
    "- C1-C14 - подсчёт, например сколько адресов связано с платёжной картой и т.д. Фактический смысл скрыт\n",
    "- D1-D15 - дельта времени, количество дней между предыдущей транзакцией, и т.д.\n",
    "- M1 - M9 -совпадение, например имена на карте и адресе и т.д.\n",
    "- Vxxx - Vesta разработала богатые функции, включая ранжирование, подсчёт и другие отношения между сущностями\n",
    "</span>"
   ]
  },
  {
   "cell_type": "markdown",
   "id": "cd0cc2c5",
   "metadata": {
    "papermill": {
     "duration": 0.029992,
     "end_time": "2023-11-07T12:34:48.675922",
     "exception": false,
     "start_time": "2023-11-07T12:34:48.645930",
     "status": "completed"
    },
    "tags": []
   },
   "source": [
    "<span style=\"font-size:18px;\">\n",
    "Категориальные признаки:\n",
    "\n",
    "- ProductCD\n",
    "- card1-card6\n",
    "- addr1, addr2\n",
    "- P_emaildomain\n",
    "- R_email_domain\n",
    "- M1 - M9\n",
    "</span>"
   ]
  },
  {
   "cell_type": "markdown",
   "id": "a0167baf",
   "metadata": {
    "papermill": {
     "duration": 0.030157,
     "end_time": "2023-11-07T12:34:48.736243",
     "exception": false,
     "start_time": "2023-11-07T12:34:48.706086",
     "status": "completed"
    },
    "tags": []
   },
   "source": [
    "#### Данные в датасете **Identity**\n",
    "<span style=\"font-size:18px;\">\n",
    "Переменные в этой таблице - идентификационные данные:\n",
    "    \n",
    "- информация о сетевом соединении (IP, ISP, прокси и т.д.)\n",
    "- цифровая подпись (UA/браузер/ОС/версия и т.д.), связанные с транзакциями.\n",
    "Их собирает система защиты от мошенничества Vesta и партнеры цифровой безопасности.\n",
    "(Имена полей скрыты, и пояснения значений полей не будет в целях защиты конфиденциальности и их договорного соглашения)\n",
    "</span>"
   ]
  },
  {
   "cell_type": "markdown",
   "id": "d110fdfc",
   "metadata": {
    "papermill": {
     "duration": 0.031553,
     "end_time": "2023-11-07T12:34:48.862016",
     "exception": false,
     "start_time": "2023-11-07T12:34:48.830463",
     "status": "completed"
    },
    "tags": []
   },
   "source": [
    "<span style=\"font-size:18px;\">\n",
    "Категориальные признаки:\n",
    "    \n",
    "- DeviceType\n",
    "- DeviceInfo\n",
    "- id_12 - id_38\n",
    "</span>"
   ]
  },
  {
   "cell_type": "markdown",
   "id": "3663fb60",
   "metadata": {
    "papermill": {
     "duration": 0.02964,
     "end_time": "2023-11-07T12:34:48.922523",
     "exception": false,
     "start_time": "2023-11-07T12:34:48.892883",
     "status": "completed"
    },
    "tags": []
   },
   "source": [
    "### Загрузим все наборы данных данного проекта"
   ]
  },
  {
   "cell_type": "code",
   "execution_count": 2,
   "id": "949e9ad2",
   "metadata": {
    "execution": {
     "iopub.execute_input": "2023-11-07T12:34:48.985362Z",
     "iopub.status.busy": "2023-11-07T12:34:48.984897Z",
     "iopub.status.idle": "2023-11-07T12:36:03.392937Z",
     "shell.execute_reply": "2023-11-07T12:36:03.391727Z"
    },
    "papermill": {
     "duration": 74.443037,
     "end_time": "2023-11-07T12:36:03.395794",
     "exception": false,
     "start_time": "2023-11-07T12:34:48.952757",
     "status": "completed"
    },
    "tags": []
   },
   "outputs": [],
   "source": [
    "train_transaction=pd.read_csv('/kaggle/input/ieee-fraud-detection/train_transaction.csv')\n",
    "train_identity=pd.read_csv('/kaggle/input/ieee-fraud-detection/train_identity.csv')\n",
    "test_transaction=pd.read_csv('/kaggle/input/ieee-fraud-detection/test_transaction.csv')\n",
    "test_identity=pd.read_csv('/kaggle/input/ieee-fraud-detection/test_identity.csv')\n",
    "sample_submission=pd.read_csv('/kaggle/input/ieee-fraud-detection/sample_submission.csv')"
   ]
  },
  {
   "cell_type": "markdown",
   "id": "06e2fb5a",
   "metadata": {
    "papermill": {
     "duration": 0.032346,
     "end_time": "2023-11-07T12:36:03.461166",
     "exception": false,
     "start_time": "2023-11-07T12:36:03.428820",
     "status": "completed"
    },
    "tags": []
   },
   "source": [
    "Объединим таблицы ```*transaction``` и ```*identity``` по полю ```TransactionID```"
   ]
  },
  {
   "cell_type": "code",
   "execution_count": 3,
   "id": "a16d7543",
   "metadata": {
    "execution": {
     "iopub.execute_input": "2023-11-07T12:36:03.527753Z",
     "iopub.status.busy": "2023-11-07T12:36:03.527370Z",
     "iopub.status.idle": "2023-11-07T12:36:05.632512Z",
     "shell.execute_reply": "2023-11-07T12:36:05.631456Z"
    },
    "papermill": {
     "duration": 2.141299,
     "end_time": "2023-11-07T12:36:05.635339",
     "exception": false,
     "start_time": "2023-11-07T12:36:03.494040",
     "status": "completed"
    },
    "tags": []
   },
   "outputs": [],
   "source": [
    "train_df = train_transaction.merge(train_identity, how='left', on='TransactionID')\n",
    "test_df = test_transaction.merge(test_identity, how='left', on='TransactionID')"
   ]
  },
  {
   "cell_type": "markdown",
   "id": "a5410233",
   "metadata": {
    "papermill": {
     "duration": 0.032192,
     "end_time": "2023-11-07T12:36:05.700479",
     "exception": false,
     "start_time": "2023-11-07T12:36:05.668287",
     "status": "completed"
    },
    "tags": []
   },
   "source": [
    "Посмотрим какой объём оперативной памяти занимают датасеты:"
   ]
  },
  {
   "cell_type": "code",
   "execution_count": 4,
   "id": "2619a073",
   "metadata": {
    "execution": {
     "iopub.execute_input": "2023-11-07T12:36:05.769397Z",
     "iopub.status.busy": "2023-11-07T12:36:05.768701Z",
     "iopub.status.idle": "2023-11-07T12:36:14.273327Z",
     "shell.execute_reply": "2023-11-07T12:36:14.271838Z"
    },
    "papermill": {
     "duration": 8.541674,
     "end_time": "2023-11-07T12:36:14.276429",
     "exception": false,
     "start_time": "2023-11-07T12:36:05.734755",
     "status": "completed"
    },
    "tags": []
   },
   "outputs": [
    {
     "name": "stdout",
     "output_type": "stream",
     "text": [
      "train df: 2.51 GB of memory\n",
      "test df : 2.16 GB of memory\n"
     ]
    }
   ],
   "source": [
    "train_df_GB = train_df.memory_usage(deep=True).sum()/1024**3\n",
    "test_df_GB = test_df.memory_usage(deep=True).sum()/1024**3\n",
    "\n",
    "print(f'train df: {train_df_GB:.2f} GB of memory')\n",
    "print(f'test df : {test_df_GB:.2f} GB of memory')"
   ]
  },
  {
   "cell_type": "markdown",
   "id": "674b0cbc",
   "metadata": {
    "papermill": {
     "duration": 0.034401,
     "end_time": "2023-11-07T12:36:14.343386",
     "exception": false,
     "start_time": "2023-11-07T12:36:14.308985",
     "status": "completed"
    },
    "tags": []
   },
   "source": [
    "Видим, что датафреймы занимают достаточно большой объём оперативной памяти, следовательно на обработку каждого датафрейма будет затрачено большое кол-во ресурсов и довольно длительное время. \n",
    "\n",
    "Исходя из этого необходимо уменьшить занимаемый ими объём памяти. Сделаем это при помощи способа с изменением типов переменных"
   ]
  },
  {
   "cell_type": "markdown",
   "id": "9fd44cfa",
   "metadata": {
    "papermill": {
     "duration": 0.031723,
     "end_time": "2023-11-07T12:36:14.407395",
     "exception": false,
     "start_time": "2023-11-07T12:36:14.375672",
     "status": "completed"
    },
    "tags": []
   },
   "source": [
    "Напишем функцию подсчёта объема занимаемой памяти:"
   ]
  },
  {
   "cell_type": "code",
   "execution_count": 5,
   "id": "cd6c246a",
   "metadata": {
    "execution": {
     "iopub.execute_input": "2023-11-07T12:36:14.478259Z",
     "iopub.status.busy": "2023-11-07T12:36:14.477827Z",
     "iopub.status.idle": "2023-11-07T12:36:14.485085Z",
     "shell.execute_reply": "2023-11-07T12:36:14.483566Z"
    },
    "papermill": {
     "duration": 0.045119,
     "end_time": "2023-11-07T12:36:14.488070",
     "exception": false,
     "start_time": "2023-11-07T12:36:14.442951",
     "status": "completed"
    },
    "tags": []
   },
   "outputs": [],
   "source": [
    "def memory_usage(pandas_object):\n",
    "    if isinstance(pandas_object, pd.DataFrame):\n",
    "        usage_b = pandas_object.memory_usage(deep=True).sum()\n",
    "    else:\n",
    "        usage_b = pandas_obj.memory_usage(deep=True)\n",
    "    usage_mb = usage_b / 1024 ** 2 # convert to mb\n",
    "    return usage_mb"
   ]
  },
  {
   "cell_type": "markdown",
   "id": "5e14dc6a",
   "metadata": {
    "papermill": {
     "duration": 0.033769,
     "end_time": "2023-11-07T12:36:14.554725",
     "exception": false,
     "start_time": "2023-11-07T12:36:14.520956",
     "status": "completed"
    },
    "tags": []
   },
   "source": [
    "Напишем функцию для уменьшения объёма занимаемой памяти датасетом.\n",
    "\n",
    "1. Преобразуем все значения подтипов ```int``` в тип ```uint```, т.к. хранение только положительных значений позволит нам уменьшить объём занимаемой памяти.\n",
    "\n",
    "2. Преобразуем все значения подтипов ```float``` в тип ```float```"
   ]
  },
  {
   "cell_type": "code",
   "execution_count": 6,
   "id": "442b36fd",
   "metadata": {
    "execution": {
     "iopub.execute_input": "2023-11-07T12:36:14.622365Z",
     "iopub.status.busy": "2023-11-07T12:36:14.621796Z",
     "iopub.status.idle": "2023-11-07T12:36:14.632522Z",
     "shell.execute_reply": "2023-11-07T12:36:14.631030Z"
    },
    "papermill": {
     "duration": 0.047946,
     "end_time": "2023-11-07T12:36:14.635409",
     "exception": false,
     "start_time": "2023-11-07T12:36:14.587463",
     "status": "completed"
    },
    "tags": []
   },
   "outputs": [],
   "source": [
    "def reduce_mem_usage_num(df, name):\n",
    "    start_memory = memory_usage(df)\n",
    "    \n",
    "    # convert int\n",
    "    df_int = df.select_dtypes(include=['int'])\n",
    "    converted_int = df_int.apply(pd.to_numeric, downcast='unsigned')\n",
    "    \n",
    "    # convert float\n",
    "    df_float = df.select_dtypes(include=['float'])\n",
    "    converted_float = df_float.apply(pd.to_numeric, downcast='float')\n",
    "    \n",
    "    optimized_df = df.copy()\n",
    "    optimized_df[converted_int.columns] = converted_int\n",
    "    optimized_df[converted_float.columns] = converted_float\n",
    "    \n",
    "    finish_memory = memory_usage(optimized_df)\n",
    "    diff_memory = start_memory - finish_memory\n",
    "    diff_memory_prct = 100 - ((finish_memory * 100)/start_memory)\n",
    "    print(f'start memory of {name} is {start_memory} Mb')\n",
    "    print(f'memory after optimization of {name} is {finish_memory} Mb')\n",
    "    print(f'memory usage of {name} decreased on {diff_memory} Mb ({diff_memory_prct} %)\\n')\n",
    "    return optimized_df"
   ]
  },
  {
   "cell_type": "code",
   "execution_count": 7,
   "id": "feff9e07",
   "metadata": {
    "execution": {
     "iopub.execute_input": "2023-11-07T12:36:14.704013Z",
     "iopub.status.busy": "2023-11-07T12:36:14.703358Z",
     "iopub.status.idle": "2023-11-07T12:37:02.122727Z",
     "shell.execute_reply": "2023-11-07T12:37:02.121268Z"
    },
    "papermill": {
     "duration": 47.489734,
     "end_time": "2023-11-07T12:37:02.157274",
     "exception": false,
     "start_time": "2023-11-07T12:36:14.667540",
     "status": "completed"
    },
    "tags": []
   },
   "outputs": [
    {
     "name": "stdout",
     "output_type": "stream",
     "text": [
      "start memory of train_df is 2567.094612121582 Mb\n",
      "memory after optimization of train_df is 1656.4279747009277 Mb\n",
      "memory usage of train_df decreased on 910.6666374206543 Mb (35.47460358962117 %)\n",
      "\n",
      "start memory of test_df is 2214.031036376953 Mb\n",
      "memory after optimization of test_df is 1436.0497455596924 Mb\n",
      "memory usage of test_df decreased on 777.9812908172607 Mb (35.13868044462248 %)\n",
      "\n"
     ]
    }
   ],
   "source": [
    "train_df = reduce_mem_usage_num(train_df, 'train_df')\n",
    "test_df = reduce_mem_usage_num(test_df, 'test_df')"
   ]
  },
  {
   "cell_type": "markdown",
   "id": "87d1591d",
   "metadata": {
    "papermill": {
     "duration": 0.033793,
     "end_time": "2023-11-07T12:37:02.224599",
     "exception": false,
     "start_time": "2023-11-07T12:37:02.190806",
     "status": "completed"
    },
    "tags": []
   },
   "source": [
    "Видим, что объём занимаемой памяти тренировочного и тестового датасетов после изменения числовых типов данных уменьшился примерно на ```35 %```"
   ]
  },
  {
   "cell_type": "code",
   "execution_count": 8,
   "id": "cb4d21dd",
   "metadata": {
    "execution": {
     "iopub.execute_input": "2023-11-07T12:37:02.290517Z",
     "iopub.status.busy": "2023-11-07T12:37:02.289853Z",
     "iopub.status.idle": "2023-11-07T12:37:02.317960Z",
     "shell.execute_reply": "2023-11-07T12:37:02.316530Z"
    },
    "papermill": {
     "duration": 0.064685,
     "end_time": "2023-11-07T12:37:02.320742",
     "exception": false,
     "start_time": "2023-11-07T12:37:02.256057",
     "status": "completed"
    },
    "tags": []
   },
   "outputs": [
    {
     "name": "stdout",
     "output_type": "stream",
     "text": [
      "<class 'pandas.core.frame.DataFrame'>\n",
      "RangeIndex: 590540 entries, 0 to 590539\n",
      "Columns: 434 entries, TransactionID to DeviceInfo\n",
      "dtypes: float32(399), object(31), uint16(1), uint32(2), uint8(1)\n",
      "memory usage: 1.0+ GB\n"
     ]
    }
   ],
   "source": [
    "train_df.info()"
   ]
  },
  {
   "cell_type": "code",
   "execution_count": 9,
   "id": "e5c198e4",
   "metadata": {
    "execution": {
     "iopub.execute_input": "2023-11-07T12:37:02.385237Z",
     "iopub.status.busy": "2023-11-07T12:37:02.384686Z",
     "iopub.status.idle": "2023-11-07T12:37:02.405448Z",
     "shell.execute_reply": "2023-11-07T12:37:02.403312Z"
    },
    "papermill": {
     "duration": 0.056542,
     "end_time": "2023-11-07T12:37:02.408094",
     "exception": false,
     "start_time": "2023-11-07T12:37:02.351552",
     "status": "completed"
    },
    "tags": []
   },
   "outputs": [
    {
     "name": "stdout",
     "output_type": "stream",
     "text": [
      "<class 'pandas.core.frame.DataFrame'>\n",
      "RangeIndex: 506691 entries, 0 to 506690\n",
      "Columns: 433 entries, TransactionID to DeviceInfo\n",
      "dtypes: float32(399), object(31), uint16(1), uint32(2)\n",
      "memory usage: 895.9+ MB\n"
     ]
    }
   ],
   "source": [
    "test_df.info()"
   ]
  },
  {
   "cell_type": "markdown",
   "id": "5e0a19f1",
   "metadata": {
    "papermill": {
     "duration": 0.030084,
     "end_time": "2023-11-07T12:37:02.469075",
     "exception": false,
     "start_time": "2023-11-07T12:37:02.438991",
     "status": "completed"
    },
    "tags": []
   },
   "source": [
    "#### Напишем функцию, которая будет представлять отчёт о пропусках в данных"
   ]
  },
  {
   "cell_type": "code",
   "execution_count": 10,
   "id": "d303b77d",
   "metadata": {
    "execution": {
     "iopub.execute_input": "2023-11-07T12:37:02.532136Z",
     "iopub.status.busy": "2023-11-07T12:37:02.531750Z",
     "iopub.status.idle": "2023-11-07T12:37:02.540256Z",
     "shell.execute_reply": "2023-11-07T12:37:02.539025Z"
    },
    "papermill": {
     "duration": 0.043148,
     "end_time": "2023-11-07T12:37:02.542704",
     "exception": false,
     "start_time": "2023-11-07T12:37:02.499556",
     "status": "completed"
    },
    "tags": []
   },
   "outputs": [],
   "source": [
    "def missing_values_table(df, df_name):\n",
    "    mis_val = df.isnull().sum()\n",
    "    mis_val_percent = 100 * df.isnull().sum() / len(df)\n",
    "    mis_val_table = pd.concat([mis_val, mis_val_percent], axis=1)\n",
    "    mis_val_table_ren_columns = mis_val_table.rename(\n",
    "    columns = {0: 'Missing Values', 1: '% of Total Values'})\n",
    "    \n",
    "    mis_val_table_ren_columns = mis_val_table_ren_columns[\n",
    "        mis_val_table_ren_columns.iloc[:,1] != 0].sort_values(\n",
    "    '% of Total Values', ascending=False).round(1)\n",
    "    \n",
    "    print(f'{df_name} has ', str(df.shape[1]) + ' columns.\\n',\n",
    "         'There are ' + str(mis_val_table_ren_columns.shape[0]) +\n",
    "          ' columns that have missing values.')\n",
    "    return mis_val_table_ren_columns"
   ]
  },
  {
   "cell_type": "markdown",
   "id": "3cddbfd8",
   "metadata": {
    "papermill": {
     "duration": 0.030976,
     "end_time": "2023-11-07T12:37:02.604458",
     "exception": false,
     "start_time": "2023-11-07T12:37:02.573482",
     "status": "completed"
    },
    "tags": []
   },
   "source": [
    "Заменим признаки с ```-``` в тестовом датасете на соответствующие названия из тренировочного датасета с ```_```"
   ]
  },
  {
   "cell_type": "code",
   "execution_count": 11,
   "id": "a5214f7c",
   "metadata": {
    "execution": {
     "iopub.execute_input": "2023-11-07T12:37:02.667831Z",
     "iopub.status.busy": "2023-11-07T12:37:02.667326Z",
     "iopub.status.idle": "2023-11-07T12:37:04.031696Z",
     "shell.execute_reply": "2023-11-07T12:37:04.030248Z"
    },
    "papermill": {
     "duration": 1.399484,
     "end_time": "2023-11-07T12:37:04.034634",
     "exception": false,
     "start_time": "2023-11-07T12:37:02.635150",
     "status": "completed"
    },
    "tags": []
   },
   "outputs": [],
   "source": [
    "test_df = test_df.rename(columns=lambda x:'_'.join(x.split('-')))"
   ]
  },
  {
   "cell_type": "markdown",
   "id": "60d66723",
   "metadata": {
    "papermill": {
     "duration": 0.030717,
     "end_time": "2023-11-07T12:37:04.097519",
     "exception": false,
     "start_time": "2023-11-07T12:37:04.066802",
     "status": "completed"
    },
    "tags": []
   },
   "source": [
    "Удаляем признаки, в которых более ```80 %``` пропусков:"
   ]
  },
  {
   "cell_type": "code",
   "execution_count": 12,
   "id": "d43d938e",
   "metadata": {
    "execution": {
     "iopub.execute_input": "2023-11-07T12:37:04.160841Z",
     "iopub.status.busy": "2023-11-07T12:37:04.160432Z",
     "iopub.status.idle": "2023-11-07T12:37:07.154719Z",
     "shell.execute_reply": "2023-11-07T12:37:07.153545Z"
    },
    "papermill": {
     "duration": 3.028923,
     "end_time": "2023-11-07T12:37:07.157320",
     "exception": false,
     "start_time": "2023-11-07T12:37:04.128397",
     "status": "completed"
    },
    "tags": []
   },
   "outputs": [
    {
     "name": "stdout",
     "output_type": "stream",
     "text": [
      "train_df has  434 columns.\n",
      " There are 414 columns that have missing values.\n",
      "We will remove 74 columns.\n"
     ]
    }
   ],
   "source": [
    "missing_df = missing_values_table(train_df, 'train_df')\n",
    "missing_columns = list(missing_df[missing_df['% of Total Values'] > 80.0].index)\n",
    "print('We will remove %d columns.' % len(missing_columns))"
   ]
  },
  {
   "cell_type": "code",
   "execution_count": 13,
   "id": "120aca24",
   "metadata": {
    "execution": {
     "iopub.execute_input": "2023-11-07T12:37:07.222383Z",
     "iopub.status.busy": "2023-11-07T12:37:07.221080Z",
     "iopub.status.idle": "2023-11-07T12:37:07.241733Z",
     "shell.execute_reply": "2023-11-07T12:37:07.240554Z"
    },
    "papermill": {
     "duration": 0.055911,
     "end_time": "2023-11-07T12:37:07.244394",
     "exception": false,
     "start_time": "2023-11-07T12:37:07.188483",
     "status": "completed"
    },
    "tags": []
   },
   "outputs": [
    {
     "data": {
      "text/html": [
       "<div>\n",
       "<style scoped>\n",
       "    .dataframe tbody tr th:only-of-type {\n",
       "        vertical-align: middle;\n",
       "    }\n",
       "\n",
       "    .dataframe tbody tr th {\n",
       "        vertical-align: top;\n",
       "    }\n",
       "\n",
       "    .dataframe thead th {\n",
       "        text-align: right;\n",
       "    }\n",
       "</style>\n",
       "<table border=\"1\" class=\"dataframe\">\n",
       "  <thead>\n",
       "    <tr style=\"text-align: right;\">\n",
       "      <th></th>\n",
       "      <th>Missing Values</th>\n",
       "      <th>% of Total Values</th>\n",
       "    </tr>\n",
       "  </thead>\n",
       "  <tbody>\n",
       "    <tr>\n",
       "      <th>id_24</th>\n",
       "      <td>585793</td>\n",
       "      <td>99.2</td>\n",
       "    </tr>\n",
       "    <tr>\n",
       "      <th>id_25</th>\n",
       "      <td>585408</td>\n",
       "      <td>99.1</td>\n",
       "    </tr>\n",
       "    <tr>\n",
       "      <th>id_07</th>\n",
       "      <td>585385</td>\n",
       "      <td>99.1</td>\n",
       "    </tr>\n",
       "    <tr>\n",
       "      <th>id_08</th>\n",
       "      <td>585385</td>\n",
       "      <td>99.1</td>\n",
       "    </tr>\n",
       "    <tr>\n",
       "      <th>id_21</th>\n",
       "      <td>585381</td>\n",
       "      <td>99.1</td>\n",
       "    </tr>\n",
       "    <tr>\n",
       "      <th>...</th>\n",
       "      <td>...</td>\n",
       "      <td>...</td>\n",
       "    </tr>\n",
       "    <tr>\n",
       "      <th>V285</th>\n",
       "      <td>12</td>\n",
       "      <td>0.0</td>\n",
       "    </tr>\n",
       "    <tr>\n",
       "      <th>V284</th>\n",
       "      <td>12</td>\n",
       "      <td>0.0</td>\n",
       "    </tr>\n",
       "    <tr>\n",
       "      <th>V280</th>\n",
       "      <td>12</td>\n",
       "      <td>0.0</td>\n",
       "    </tr>\n",
       "    <tr>\n",
       "      <th>V279</th>\n",
       "      <td>12</td>\n",
       "      <td>0.0</td>\n",
       "    </tr>\n",
       "    <tr>\n",
       "      <th>V312</th>\n",
       "      <td>12</td>\n",
       "      <td>0.0</td>\n",
       "    </tr>\n",
       "  </tbody>\n",
       "</table>\n",
       "<p>414 rows × 2 columns</p>\n",
       "</div>"
      ],
      "text/plain": [
       "       Missing Values  % of Total Values\n",
       "id_24          585793               99.2\n",
       "id_25          585408               99.1\n",
       "id_07          585385               99.1\n",
       "id_08          585385               99.1\n",
       "id_21          585381               99.1\n",
       "...               ...                ...\n",
       "V285               12                0.0\n",
       "V284               12                0.0\n",
       "V280               12                0.0\n",
       "V279               12                0.0\n",
       "V312               12                0.0\n",
       "\n",
       "[414 rows x 2 columns]"
      ]
     },
     "execution_count": 13,
     "metadata": {},
     "output_type": "execute_result"
    }
   ],
   "source": [
    "missing_df"
   ]
  },
  {
   "cell_type": "code",
   "execution_count": 14,
   "id": "81693a7d",
   "metadata": {
    "execution": {
     "iopub.execute_input": "2023-11-07T12:37:07.308790Z",
     "iopub.status.busy": "2023-11-07T12:37:07.307738Z",
     "iopub.status.idle": "2023-11-07T12:37:08.191755Z",
     "shell.execute_reply": "2023-11-07T12:37:08.190835Z"
    },
    "papermill": {
     "duration": 0.919151,
     "end_time": "2023-11-07T12:37:08.194432",
     "exception": false,
     "start_time": "2023-11-07T12:37:07.275281",
     "status": "completed"
    },
    "tags": []
   },
   "outputs": [],
   "source": [
    "train_df = train_df.drop(columns = missing_columns)"
   ]
  },
  {
   "cell_type": "code",
   "execution_count": 15,
   "id": "8db7398a",
   "metadata": {
    "execution": {
     "iopub.execute_input": "2023-11-07T12:37:08.259838Z",
     "iopub.status.busy": "2023-11-07T12:37:08.259173Z",
     "iopub.status.idle": "2023-11-07T12:37:08.266102Z",
     "shell.execute_reply": "2023-11-07T12:37:08.264971Z"
    },
    "papermill": {
     "duration": 0.041734,
     "end_time": "2023-11-07T12:37:08.268388",
     "exception": false,
     "start_time": "2023-11-07T12:37:08.226654",
     "status": "completed"
    },
    "tags": []
   },
   "outputs": [
    {
     "data": {
      "text/plain": [
       "(590540, 360)"
      ]
     },
     "execution_count": 15,
     "metadata": {},
     "output_type": "execute_result"
    }
   ],
   "source": [
    "train_df.shape"
   ]
  },
  {
   "cell_type": "code",
   "execution_count": 16,
   "id": "752f88eb",
   "metadata": {
    "execution": {
     "iopub.execute_input": "2023-11-07T12:37:08.334299Z",
     "iopub.status.busy": "2023-11-07T12:37:08.333156Z",
     "iopub.status.idle": "2023-11-07T12:37:08.704306Z",
     "shell.execute_reply": "2023-11-07T12:37:08.703103Z"
    },
    "papermill": {
     "duration": 0.406745,
     "end_time": "2023-11-07T12:37:08.706769",
     "exception": false,
     "start_time": "2023-11-07T12:37:08.300024",
     "status": "completed"
    },
    "tags": []
   },
   "outputs": [
    {
     "data": {
      "text/plain": [
       "(506691, 359)"
      ]
     },
     "execution_count": 16,
     "metadata": {},
     "output_type": "execute_result"
    }
   ],
   "source": [
    "test_df = test_df.drop(columns = missing_columns)\n",
    "test_df.shape"
   ]
  },
  {
   "cell_type": "markdown",
   "id": "e65d61b2",
   "metadata": {
    "papermill": {
     "duration": 0.031671,
     "end_time": "2023-11-07T12:37:08.770839",
     "exception": false,
     "start_time": "2023-11-07T12:37:08.739168",
     "status": "completed"
    },
    "tags": []
   },
   "source": [
    "Посмотрим ещё раз на пропуски "
   ]
  },
  {
   "cell_type": "code",
   "execution_count": 17,
   "id": "5d63f2f5",
   "metadata": {
    "execution": {
     "iopub.execute_input": "2023-11-07T12:37:08.835988Z",
     "iopub.status.busy": "2023-11-07T12:37:08.835614Z",
     "iopub.status.idle": "2023-11-07T12:37:11.548268Z",
     "shell.execute_reply": "2023-11-07T12:37:11.546935Z"
    },
    "papermill": {
     "duration": 2.7495,
     "end_time": "2023-11-07T12:37:11.551541",
     "exception": false,
     "start_time": "2023-11-07T12:37:08.802041",
     "status": "completed"
    },
    "tags": []
   },
   "outputs": [
    {
     "name": "stdout",
     "output_type": "stream",
     "text": [
      "train_df has  360 columns.\n",
      " There are 340 columns that have missing values.\n"
     ]
    },
    {
     "data": {
      "text/html": [
       "<div>\n",
       "<style scoped>\n",
       "    .dataframe tbody tr th:only-of-type {\n",
       "        vertical-align: middle;\n",
       "    }\n",
       "\n",
       "    .dataframe tbody tr th {\n",
       "        vertical-align: top;\n",
       "    }\n",
       "\n",
       "    .dataframe thead th {\n",
       "        text-align: right;\n",
       "    }\n",
       "</style>\n",
       "<table border=\"1\" class=\"dataframe\">\n",
       "  <thead>\n",
       "    <tr style=\"text-align: right;\">\n",
       "      <th></th>\n",
       "      <th>Missing Values</th>\n",
       "      <th>% of Total Values</th>\n",
       "    </tr>\n",
       "  </thead>\n",
       "  <tbody>\n",
       "    <tr>\n",
       "      <th>DeviceInfo</th>\n",
       "      <td>471874</td>\n",
       "      <td>79.9</td>\n",
       "    </tr>\n",
       "    <tr>\n",
       "      <th>id_13</th>\n",
       "      <td>463220</td>\n",
       "      <td>78.4</td>\n",
       "    </tr>\n",
       "    <tr>\n",
       "      <th>id_16</th>\n",
       "      <td>461200</td>\n",
       "      <td>78.1</td>\n",
       "    </tr>\n",
       "    <tr>\n",
       "      <th>V233</th>\n",
       "      <td>460110</td>\n",
       "      <td>77.9</td>\n",
       "    </tr>\n",
       "    <tr>\n",
       "      <th>V249</th>\n",
       "      <td>460110</td>\n",
       "      <td>77.9</td>\n",
       "    </tr>\n",
       "    <tr>\n",
       "      <th>...</th>\n",
       "      <td>...</td>\n",
       "      <td>...</td>\n",
       "    </tr>\n",
       "    <tr>\n",
       "      <th>V309</th>\n",
       "      <td>12</td>\n",
       "      <td>0.0</td>\n",
       "    </tr>\n",
       "    <tr>\n",
       "      <th>V310</th>\n",
       "      <td>12</td>\n",
       "      <td>0.0</td>\n",
       "    </tr>\n",
       "    <tr>\n",
       "      <th>V311</th>\n",
       "      <td>12</td>\n",
       "      <td>0.0</td>\n",
       "    </tr>\n",
       "    <tr>\n",
       "      <th>V312</th>\n",
       "      <td>12</td>\n",
       "      <td>0.0</td>\n",
       "    </tr>\n",
       "    <tr>\n",
       "      <th>V297</th>\n",
       "      <td>12</td>\n",
       "      <td>0.0</td>\n",
       "    </tr>\n",
       "  </tbody>\n",
       "</table>\n",
       "<p>340 rows × 2 columns</p>\n",
       "</div>"
      ],
      "text/plain": [
       "            Missing Values  % of Total Values\n",
       "DeviceInfo          471874               79.9\n",
       "id_13               463220               78.4\n",
       "id_16               461200               78.1\n",
       "V233                460110               77.9\n",
       "V249                460110               77.9\n",
       "...                    ...                ...\n",
       "V309                    12                0.0\n",
       "V310                    12                0.0\n",
       "V311                    12                0.0\n",
       "V312                    12                0.0\n",
       "V297                    12                0.0\n",
       "\n",
       "[340 rows x 2 columns]"
      ]
     },
     "execution_count": 17,
     "metadata": {},
     "output_type": "execute_result"
    }
   ],
   "source": [
    "missing_values_table(train_df, 'train_df')"
   ]
  },
  {
   "cell_type": "code",
   "execution_count": 18,
   "id": "390bde6f",
   "metadata": {
    "execution": {
     "iopub.execute_input": "2023-11-07T12:37:11.622240Z",
     "iopub.status.busy": "2023-11-07T12:37:11.621337Z",
     "iopub.status.idle": "2023-11-07T12:37:13.947791Z",
     "shell.execute_reply": "2023-11-07T12:37:13.946645Z"
    },
    "papermill": {
     "duration": 2.363177,
     "end_time": "2023-11-07T12:37:13.950525",
     "exception": false,
     "start_time": "2023-11-07T12:37:11.587348",
     "status": "completed"
    },
    "tags": []
   },
   "outputs": [
    {
     "name": "stdout",
     "output_type": "stream",
     "text": [
      "test_df has  359 columns.\n",
      " There are 311 columns that have missing values.\n"
     ]
    },
    {
     "data": {
      "text/html": [
       "<div>\n",
       "<style scoped>\n",
       "    .dataframe tbody tr th:only-of-type {\n",
       "        vertical-align: middle;\n",
       "    }\n",
       "\n",
       "    .dataframe tbody tr th {\n",
       "        vertical-align: top;\n",
       "    }\n",
       "\n",
       "    .dataframe thead th {\n",
       "        text-align: right;\n",
       "    }\n",
       "</style>\n",
       "<table border=\"1\" class=\"dataframe\">\n",
       "  <thead>\n",
       "    <tr style=\"text-align: right;\">\n",
       "      <th></th>\n",
       "      <th>Missing Values</th>\n",
       "      <th>% of Total Values</th>\n",
       "    </tr>\n",
       "  </thead>\n",
       "  <tbody>\n",
       "    <tr>\n",
       "      <th>DeviceInfo</th>\n",
       "      <td>391634</td>\n",
       "      <td>77.3</td>\n",
       "    </tr>\n",
       "    <tr>\n",
       "      <th>id_16</th>\n",
       "      <td>380944</td>\n",
       "      <td>75.2</td>\n",
       "    </tr>\n",
       "    <tr>\n",
       "      <th>V235</th>\n",
       "      <td>379963</td>\n",
       "      <td>75.0</td>\n",
       "    </tr>\n",
       "    <tr>\n",
       "      <th>V252</th>\n",
       "      <td>379963</td>\n",
       "      <td>75.0</td>\n",
       "    </tr>\n",
       "    <tr>\n",
       "      <th>V249</th>\n",
       "      <td>379963</td>\n",
       "      <td>75.0</td>\n",
       "    </tr>\n",
       "    <tr>\n",
       "      <th>...</th>\n",
       "      <td>...</td>\n",
       "      <td>...</td>\n",
       "    </tr>\n",
       "    <tr>\n",
       "      <th>V307</th>\n",
       "      <td>3</td>\n",
       "      <td>0.0</td>\n",
       "    </tr>\n",
       "    <tr>\n",
       "      <th>V308</th>\n",
       "      <td>3</td>\n",
       "      <td>0.0</td>\n",
       "    </tr>\n",
       "    <tr>\n",
       "      <th>V309</th>\n",
       "      <td>3</td>\n",
       "      <td>0.0</td>\n",
       "    </tr>\n",
       "    <tr>\n",
       "      <th>V310</th>\n",
       "      <td>3</td>\n",
       "      <td>0.0</td>\n",
       "    </tr>\n",
       "    <tr>\n",
       "      <th>V279</th>\n",
       "      <td>3</td>\n",
       "      <td>0.0</td>\n",
       "    </tr>\n",
       "  </tbody>\n",
       "</table>\n",
       "<p>311 rows × 2 columns</p>\n",
       "</div>"
      ],
      "text/plain": [
       "            Missing Values  % of Total Values\n",
       "DeviceInfo          391634               77.3\n",
       "id_16               380944               75.2\n",
       "V235                379963               75.0\n",
       "V252                379963               75.0\n",
       "V249                379963               75.0\n",
       "...                    ...                ...\n",
       "V307                     3                0.0\n",
       "V308                     3                0.0\n",
       "V309                     3                0.0\n",
       "V310                     3                0.0\n",
       "V279                     3                0.0\n",
       "\n",
       "[311 rows x 2 columns]"
      ]
     },
     "execution_count": 18,
     "metadata": {},
     "output_type": "execute_result"
    }
   ],
   "source": [
    "missing_values_table(test_df, 'test_df')"
   ]
  },
  {
   "cell_type": "code",
   "execution_count": 19,
   "id": "7cf6664c",
   "metadata": {
    "execution": {
     "iopub.execute_input": "2023-11-07T12:37:14.017743Z",
     "iopub.status.busy": "2023-11-07T12:37:14.016729Z",
     "iopub.status.idle": "2023-11-07T12:37:14.369285Z",
     "shell.execute_reply": "2023-11-07T12:37:14.368131Z"
    },
    "papermill": {
     "duration": 0.389252,
     "end_time": "2023-11-07T12:37:14.371939",
     "exception": false,
     "start_time": "2023-11-07T12:37:13.982687",
     "status": "completed"
    },
    "tags": []
   },
   "outputs": [
    {
     "data": {
      "text/html": [
       "<div>\n",
       "<style scoped>\n",
       "    .dataframe tbody tr th:only-of-type {\n",
       "        vertical-align: middle;\n",
       "    }\n",
       "\n",
       "    .dataframe tbody tr th {\n",
       "        vertical-align: top;\n",
       "    }\n",
       "\n",
       "    .dataframe thead th {\n",
       "        text-align: right;\n",
       "    }\n",
       "</style>\n",
       "<table border=\"1\" class=\"dataframe\">\n",
       "  <thead>\n",
       "    <tr style=\"text-align: right;\">\n",
       "      <th></th>\n",
       "      <th>TransactionID</th>\n",
       "      <th>isFraud</th>\n",
       "      <th>TransactionDT</th>\n",
       "      <th>TransactionAmt</th>\n",
       "      <th>ProductCD</th>\n",
       "      <th>card1</th>\n",
       "      <th>card2</th>\n",
       "      <th>card3</th>\n",
       "      <th>card4</th>\n",
       "      <th>card5</th>\n",
       "      <th>...</th>\n",
       "      <th>id_20</th>\n",
       "      <th>id_28</th>\n",
       "      <th>id_29</th>\n",
       "      <th>id_31</th>\n",
       "      <th>id_35</th>\n",
       "      <th>id_36</th>\n",
       "      <th>id_37</th>\n",
       "      <th>id_38</th>\n",
       "      <th>DeviceType</th>\n",
       "      <th>DeviceInfo</th>\n",
       "    </tr>\n",
       "  </thead>\n",
       "  <tbody>\n",
       "    <tr>\n",
       "      <th>0</th>\n",
       "      <td>2987000</td>\n",
       "      <td>0</td>\n",
       "      <td>86400</td>\n",
       "      <td>68.500000</td>\n",
       "      <td>W</td>\n",
       "      <td>13926</td>\n",
       "      <td>NaN</td>\n",
       "      <td>150.0</td>\n",
       "      <td>discover</td>\n",
       "      <td>142.0</td>\n",
       "      <td>...</td>\n",
       "      <td>NaN</td>\n",
       "      <td>NaN</td>\n",
       "      <td>NaN</td>\n",
       "      <td>NaN</td>\n",
       "      <td>NaN</td>\n",
       "      <td>NaN</td>\n",
       "      <td>NaN</td>\n",
       "      <td>NaN</td>\n",
       "      <td>NaN</td>\n",
       "      <td>NaN</td>\n",
       "    </tr>\n",
       "    <tr>\n",
       "      <th>1</th>\n",
       "      <td>2987001</td>\n",
       "      <td>0</td>\n",
       "      <td>86401</td>\n",
       "      <td>29.000000</td>\n",
       "      <td>W</td>\n",
       "      <td>2755</td>\n",
       "      <td>404.0</td>\n",
       "      <td>150.0</td>\n",
       "      <td>mastercard</td>\n",
       "      <td>102.0</td>\n",
       "      <td>...</td>\n",
       "      <td>NaN</td>\n",
       "      <td>NaN</td>\n",
       "      <td>NaN</td>\n",
       "      <td>NaN</td>\n",
       "      <td>NaN</td>\n",
       "      <td>NaN</td>\n",
       "      <td>NaN</td>\n",
       "      <td>NaN</td>\n",
       "      <td>NaN</td>\n",
       "      <td>NaN</td>\n",
       "    </tr>\n",
       "    <tr>\n",
       "      <th>2</th>\n",
       "      <td>2987002</td>\n",
       "      <td>0</td>\n",
       "      <td>86469</td>\n",
       "      <td>59.000000</td>\n",
       "      <td>W</td>\n",
       "      <td>4663</td>\n",
       "      <td>490.0</td>\n",
       "      <td>150.0</td>\n",
       "      <td>visa</td>\n",
       "      <td>166.0</td>\n",
       "      <td>...</td>\n",
       "      <td>NaN</td>\n",
       "      <td>NaN</td>\n",
       "      <td>NaN</td>\n",
       "      <td>NaN</td>\n",
       "      <td>NaN</td>\n",
       "      <td>NaN</td>\n",
       "      <td>NaN</td>\n",
       "      <td>NaN</td>\n",
       "      <td>NaN</td>\n",
       "      <td>NaN</td>\n",
       "    </tr>\n",
       "    <tr>\n",
       "      <th>3</th>\n",
       "      <td>2987003</td>\n",
       "      <td>0</td>\n",
       "      <td>86499</td>\n",
       "      <td>50.000000</td>\n",
       "      <td>W</td>\n",
       "      <td>18132</td>\n",
       "      <td>567.0</td>\n",
       "      <td>150.0</td>\n",
       "      <td>mastercard</td>\n",
       "      <td>117.0</td>\n",
       "      <td>...</td>\n",
       "      <td>NaN</td>\n",
       "      <td>NaN</td>\n",
       "      <td>NaN</td>\n",
       "      <td>NaN</td>\n",
       "      <td>NaN</td>\n",
       "      <td>NaN</td>\n",
       "      <td>NaN</td>\n",
       "      <td>NaN</td>\n",
       "      <td>NaN</td>\n",
       "      <td>NaN</td>\n",
       "    </tr>\n",
       "    <tr>\n",
       "      <th>4</th>\n",
       "      <td>2987004</td>\n",
       "      <td>0</td>\n",
       "      <td>86506</td>\n",
       "      <td>50.000000</td>\n",
       "      <td>H</td>\n",
       "      <td>4497</td>\n",
       "      <td>514.0</td>\n",
       "      <td>150.0</td>\n",
       "      <td>mastercard</td>\n",
       "      <td>102.0</td>\n",
       "      <td>...</td>\n",
       "      <td>144.0</td>\n",
       "      <td>New</td>\n",
       "      <td>NotFound</td>\n",
       "      <td>samsung browser 6.2</td>\n",
       "      <td>T</td>\n",
       "      <td>F</td>\n",
       "      <td>T</td>\n",
       "      <td>T</td>\n",
       "      <td>mobile</td>\n",
       "      <td>SAMSUNG SM-G892A Build/NRD90M</td>\n",
       "    </tr>\n",
       "    <tr>\n",
       "      <th>...</th>\n",
       "      <td>...</td>\n",
       "      <td>...</td>\n",
       "      <td>...</td>\n",
       "      <td>...</td>\n",
       "      <td>...</td>\n",
       "      <td>...</td>\n",
       "      <td>...</td>\n",
       "      <td>...</td>\n",
       "      <td>...</td>\n",
       "      <td>...</td>\n",
       "      <td>...</td>\n",
       "      <td>...</td>\n",
       "      <td>...</td>\n",
       "      <td>...</td>\n",
       "      <td>...</td>\n",
       "      <td>...</td>\n",
       "      <td>...</td>\n",
       "      <td>...</td>\n",
       "      <td>...</td>\n",
       "      <td>...</td>\n",
       "      <td>...</td>\n",
       "    </tr>\n",
       "    <tr>\n",
       "      <th>590535</th>\n",
       "      <td>3577535</td>\n",
       "      <td>0</td>\n",
       "      <td>15811047</td>\n",
       "      <td>49.000000</td>\n",
       "      <td>W</td>\n",
       "      <td>6550</td>\n",
       "      <td>NaN</td>\n",
       "      <td>150.0</td>\n",
       "      <td>visa</td>\n",
       "      <td>226.0</td>\n",
       "      <td>...</td>\n",
       "      <td>NaN</td>\n",
       "      <td>NaN</td>\n",
       "      <td>NaN</td>\n",
       "      <td>NaN</td>\n",
       "      <td>NaN</td>\n",
       "      <td>NaN</td>\n",
       "      <td>NaN</td>\n",
       "      <td>NaN</td>\n",
       "      <td>NaN</td>\n",
       "      <td>NaN</td>\n",
       "    </tr>\n",
       "    <tr>\n",
       "      <th>590536</th>\n",
       "      <td>3577536</td>\n",
       "      <td>0</td>\n",
       "      <td>15811049</td>\n",
       "      <td>39.500000</td>\n",
       "      <td>W</td>\n",
       "      <td>10444</td>\n",
       "      <td>225.0</td>\n",
       "      <td>150.0</td>\n",
       "      <td>mastercard</td>\n",
       "      <td>224.0</td>\n",
       "      <td>...</td>\n",
       "      <td>NaN</td>\n",
       "      <td>NaN</td>\n",
       "      <td>NaN</td>\n",
       "      <td>NaN</td>\n",
       "      <td>NaN</td>\n",
       "      <td>NaN</td>\n",
       "      <td>NaN</td>\n",
       "      <td>NaN</td>\n",
       "      <td>NaN</td>\n",
       "      <td>NaN</td>\n",
       "    </tr>\n",
       "    <tr>\n",
       "      <th>590537</th>\n",
       "      <td>3577537</td>\n",
       "      <td>0</td>\n",
       "      <td>15811079</td>\n",
       "      <td>30.950001</td>\n",
       "      <td>W</td>\n",
       "      <td>12037</td>\n",
       "      <td>595.0</td>\n",
       "      <td>150.0</td>\n",
       "      <td>mastercard</td>\n",
       "      <td>224.0</td>\n",
       "      <td>...</td>\n",
       "      <td>NaN</td>\n",
       "      <td>NaN</td>\n",
       "      <td>NaN</td>\n",
       "      <td>NaN</td>\n",
       "      <td>NaN</td>\n",
       "      <td>NaN</td>\n",
       "      <td>NaN</td>\n",
       "      <td>NaN</td>\n",
       "      <td>NaN</td>\n",
       "      <td>NaN</td>\n",
       "    </tr>\n",
       "    <tr>\n",
       "      <th>590538</th>\n",
       "      <td>3577538</td>\n",
       "      <td>0</td>\n",
       "      <td>15811088</td>\n",
       "      <td>117.000000</td>\n",
       "      <td>W</td>\n",
       "      <td>7826</td>\n",
       "      <td>481.0</td>\n",
       "      <td>150.0</td>\n",
       "      <td>mastercard</td>\n",
       "      <td>224.0</td>\n",
       "      <td>...</td>\n",
       "      <td>NaN</td>\n",
       "      <td>NaN</td>\n",
       "      <td>NaN</td>\n",
       "      <td>NaN</td>\n",
       "      <td>NaN</td>\n",
       "      <td>NaN</td>\n",
       "      <td>NaN</td>\n",
       "      <td>NaN</td>\n",
       "      <td>NaN</td>\n",
       "      <td>NaN</td>\n",
       "    </tr>\n",
       "    <tr>\n",
       "      <th>590539</th>\n",
       "      <td>3577539</td>\n",
       "      <td>0</td>\n",
       "      <td>15811131</td>\n",
       "      <td>279.950012</td>\n",
       "      <td>W</td>\n",
       "      <td>15066</td>\n",
       "      <td>170.0</td>\n",
       "      <td>150.0</td>\n",
       "      <td>mastercard</td>\n",
       "      <td>102.0</td>\n",
       "      <td>...</td>\n",
       "      <td>NaN</td>\n",
       "      <td>NaN</td>\n",
       "      <td>NaN</td>\n",
       "      <td>NaN</td>\n",
       "      <td>NaN</td>\n",
       "      <td>NaN</td>\n",
       "      <td>NaN</td>\n",
       "      <td>NaN</td>\n",
       "      <td>NaN</td>\n",
       "      <td>NaN</td>\n",
       "    </tr>\n",
       "  </tbody>\n",
       "</table>\n",
       "<p>590540 rows × 360 columns</p>\n",
       "</div>"
      ],
      "text/plain": [
       "        TransactionID  isFraud  TransactionDT  TransactionAmt ProductCD  \\\n",
       "0             2987000        0          86400       68.500000         W   \n",
       "1             2987001        0          86401       29.000000         W   \n",
       "2             2987002        0          86469       59.000000         W   \n",
       "3             2987003        0          86499       50.000000         W   \n",
       "4             2987004        0          86506       50.000000         H   \n",
       "...               ...      ...            ...             ...       ...   \n",
       "590535        3577535        0       15811047       49.000000         W   \n",
       "590536        3577536        0       15811049       39.500000         W   \n",
       "590537        3577537        0       15811079       30.950001         W   \n",
       "590538        3577538        0       15811088      117.000000         W   \n",
       "590539        3577539        0       15811131      279.950012         W   \n",
       "\n",
       "        card1  card2  card3       card4  card5  ...  id_20  id_28     id_29  \\\n",
       "0       13926    NaN  150.0    discover  142.0  ...    NaN    NaN       NaN   \n",
       "1        2755  404.0  150.0  mastercard  102.0  ...    NaN    NaN       NaN   \n",
       "2        4663  490.0  150.0        visa  166.0  ...    NaN    NaN       NaN   \n",
       "3       18132  567.0  150.0  mastercard  117.0  ...    NaN    NaN       NaN   \n",
       "4        4497  514.0  150.0  mastercard  102.0  ...  144.0    New  NotFound   \n",
       "...       ...    ...    ...         ...    ...  ...    ...    ...       ...   \n",
       "590535   6550    NaN  150.0        visa  226.0  ...    NaN    NaN       NaN   \n",
       "590536  10444  225.0  150.0  mastercard  224.0  ...    NaN    NaN       NaN   \n",
       "590537  12037  595.0  150.0  mastercard  224.0  ...    NaN    NaN       NaN   \n",
       "590538   7826  481.0  150.0  mastercard  224.0  ...    NaN    NaN       NaN   \n",
       "590539  15066  170.0  150.0  mastercard  102.0  ...    NaN    NaN       NaN   \n",
       "\n",
       "                      id_31 id_35 id_36  id_37  id_38  DeviceType  \\\n",
       "0                       NaN   NaN   NaN    NaN    NaN         NaN   \n",
       "1                       NaN   NaN   NaN    NaN    NaN         NaN   \n",
       "2                       NaN   NaN   NaN    NaN    NaN         NaN   \n",
       "3                       NaN   NaN   NaN    NaN    NaN         NaN   \n",
       "4       samsung browser 6.2     T     F      T      T      mobile   \n",
       "...                     ...   ...   ...    ...    ...         ...   \n",
       "590535                  NaN   NaN   NaN    NaN    NaN         NaN   \n",
       "590536                  NaN   NaN   NaN    NaN    NaN         NaN   \n",
       "590537                  NaN   NaN   NaN    NaN    NaN         NaN   \n",
       "590538                  NaN   NaN   NaN    NaN    NaN         NaN   \n",
       "590539                  NaN   NaN   NaN    NaN    NaN         NaN   \n",
       "\n",
       "                           DeviceInfo  \n",
       "0                                 NaN  \n",
       "1                                 NaN  \n",
       "2                                 NaN  \n",
       "3                                 NaN  \n",
       "4       SAMSUNG SM-G892A Build/NRD90M  \n",
       "...                               ...  \n",
       "590535                            NaN  \n",
       "590536                            NaN  \n",
       "590537                            NaN  \n",
       "590538                            NaN  \n",
       "590539                            NaN  \n",
       "\n",
       "[590540 rows x 360 columns]"
      ]
     },
     "execution_count": 19,
     "metadata": {},
     "output_type": "execute_result"
    }
   ],
   "source": [
    "train_df"
   ]
  },
  {
   "cell_type": "markdown",
   "id": "6b844beb",
   "metadata": {
    "papermill": {
     "duration": 0.033294,
     "end_time": "2023-11-07T12:37:14.438991",
     "exception": false,
     "start_time": "2023-11-07T12:37:14.405697",
     "status": "completed"
    },
    "tags": []
   },
   "source": [
    "#### Заполним пропуски тренировочного и тестового датасетов"
   ]
  },
  {
   "cell_type": "markdown",
   "id": "6435e5da",
   "metadata": {
    "papermill": {
     "duration": 0.032589,
     "end_time": "2023-11-07T12:37:14.505001",
     "exception": false,
     "start_time": "2023-11-07T12:37:14.472412",
     "status": "completed"
    },
    "tags": []
   },
   "source": [
    "Создадим списки числовых и категориальных признаков:"
   ]
  },
  {
   "cell_type": "code",
   "execution_count": 20,
   "id": "a52caae0",
   "metadata": {
    "execution": {
     "iopub.execute_input": "2023-11-07T12:37:14.572354Z",
     "iopub.status.busy": "2023-11-07T12:37:14.571931Z",
     "iopub.status.idle": "2023-11-07T12:37:14.855008Z",
     "shell.execute_reply": "2023-11-07T12:37:14.853881Z"
    },
    "papermill": {
     "duration": 0.319598,
     "end_time": "2023-11-07T12:37:14.857416",
     "exception": false,
     "start_time": "2023-11-07T12:37:14.537818",
     "status": "completed"
    },
    "tags": []
   },
   "outputs": [
    {
     "name": "stdout",
     "output_type": "stream",
     "text": [
      "len cat_features:  26\n",
      "len num_features:  332\n"
     ]
    }
   ],
   "source": [
    "cat_features = train_df.select_dtypes(include=['object']).columns\n",
    "num_features = [x for x in train_df.columns.values[2:] \n",
    "                if x not in cat_features]\n",
    "print('len cat_features: ', len(cat_features))\n",
    "print('len num_features: ', len(num_features))"
   ]
  },
  {
   "cell_type": "markdown",
   "id": "8b295831",
   "metadata": {
    "papermill": {
     "duration": 0.032536,
     "end_time": "2023-11-07T12:37:14.922333",
     "exception": false,
     "start_time": "2023-11-07T12:37:14.889797",
     "status": "completed"
    },
    "tags": []
   },
   "source": [
    "Пропуски в числовых признаках мы заполним средним по колонке"
   ]
  },
  {
   "cell_type": "code",
   "execution_count": 21,
   "id": "2e57d4c7",
   "metadata": {
    "execution": {
     "iopub.execute_input": "2023-11-07T12:37:14.992140Z",
     "iopub.status.busy": "2023-11-07T12:37:14.990982Z",
     "iopub.status.idle": "2023-11-07T12:37:20.586481Z",
     "shell.execute_reply": "2023-11-07T12:37:20.585347Z"
    },
    "papermill": {
     "duration": 5.634625,
     "end_time": "2023-11-07T12:37:20.589608",
     "exception": false,
     "start_time": "2023-11-07T12:37:14.954983",
     "status": "completed"
    },
    "tags": []
   },
   "outputs": [],
   "source": [
    "train_df[num_features] = train_df[num_features].fillna(\n",
    "    train_df[num_features].mean())"
   ]
  },
  {
   "cell_type": "markdown",
   "id": "3df49c12",
   "metadata": {
    "papermill": {
     "duration": 0.032161,
     "end_time": "2023-11-07T12:37:20.654458",
     "exception": false,
     "start_time": "2023-11-07T12:37:20.622297",
     "status": "completed"
    },
    "tags": []
   },
   "source": [
    "Для категориальных признаков будем использовать ```-1.0``` в качестве символа пропуска:"
   ]
  },
  {
   "cell_type": "code",
   "execution_count": 22,
   "id": "40fd8d9b",
   "metadata": {
    "execution": {
     "iopub.execute_input": "2023-11-07T12:37:20.723124Z",
     "iopub.status.busy": "2023-11-07T12:37:20.722743Z",
     "iopub.status.idle": "2023-11-07T12:37:22.551889Z",
     "shell.execute_reply": "2023-11-07T12:37:22.550683Z"
    },
    "papermill": {
     "duration": 1.867797,
     "end_time": "2023-11-07T12:37:22.554849",
     "exception": false,
     "start_time": "2023-11-07T12:37:20.687052",
     "status": "completed"
    },
    "tags": []
   },
   "outputs": [],
   "source": [
    "train_df = train_df.fillna(-1)"
   ]
  },
  {
   "cell_type": "code",
   "execution_count": 23,
   "id": "0c887ce3",
   "metadata": {
    "execution": {
     "iopub.execute_input": "2023-11-07T12:37:22.623621Z",
     "iopub.status.busy": "2023-11-07T12:37:22.623197Z",
     "iopub.status.idle": "2023-11-07T12:37:23.231442Z",
     "shell.execute_reply": "2023-11-07T12:37:23.230285Z"
    },
    "papermill": {
     "duration": 0.645224,
     "end_time": "2023-11-07T12:37:23.234055",
     "exception": false,
     "start_time": "2023-11-07T12:37:22.588831",
     "status": "completed"
    },
    "tags": []
   },
   "outputs": [
    {
     "data": {
      "text/html": [
       "<div>\n",
       "<style scoped>\n",
       "    .dataframe tbody tr th:only-of-type {\n",
       "        vertical-align: middle;\n",
       "    }\n",
       "\n",
       "    .dataframe tbody tr th {\n",
       "        vertical-align: top;\n",
       "    }\n",
       "\n",
       "    .dataframe thead th {\n",
       "        text-align: right;\n",
       "    }\n",
       "</style>\n",
       "<table border=\"1\" class=\"dataframe\">\n",
       "  <thead>\n",
       "    <tr style=\"text-align: right;\">\n",
       "      <th></th>\n",
       "      <th>TransactionID</th>\n",
       "      <th>isFraud</th>\n",
       "      <th>TransactionDT</th>\n",
       "      <th>TransactionAmt</th>\n",
       "      <th>ProductCD</th>\n",
       "      <th>card1</th>\n",
       "      <th>card2</th>\n",
       "      <th>card3</th>\n",
       "      <th>card4</th>\n",
       "      <th>card5</th>\n",
       "      <th>...</th>\n",
       "      <th>id_20</th>\n",
       "      <th>id_28</th>\n",
       "      <th>id_29</th>\n",
       "      <th>id_31</th>\n",
       "      <th>id_35</th>\n",
       "      <th>id_36</th>\n",
       "      <th>id_37</th>\n",
       "      <th>id_38</th>\n",
       "      <th>DeviceType</th>\n",
       "      <th>DeviceInfo</th>\n",
       "    </tr>\n",
       "  </thead>\n",
       "  <tbody>\n",
       "    <tr>\n",
       "      <th>0</th>\n",
       "      <td>2987000</td>\n",
       "      <td>0</td>\n",
       "      <td>86400</td>\n",
       "      <td>68.500000</td>\n",
       "      <td>W</td>\n",
       "      <td>13926</td>\n",
       "      <td>362.555511</td>\n",
       "      <td>150.0</td>\n",
       "      <td>discover</td>\n",
       "      <td>142.0</td>\n",
       "      <td>...</td>\n",
       "      <td>403.882568</td>\n",
       "      <td>-1</td>\n",
       "      <td>-1</td>\n",
       "      <td>-1</td>\n",
       "      <td>-1</td>\n",
       "      <td>-1</td>\n",
       "      <td>-1</td>\n",
       "      <td>-1</td>\n",
       "      <td>-1</td>\n",
       "      <td>-1</td>\n",
       "    </tr>\n",
       "    <tr>\n",
       "      <th>1</th>\n",
       "      <td>2987001</td>\n",
       "      <td>0</td>\n",
       "      <td>86401</td>\n",
       "      <td>29.000000</td>\n",
       "      <td>W</td>\n",
       "      <td>2755</td>\n",
       "      <td>404.000000</td>\n",
       "      <td>150.0</td>\n",
       "      <td>mastercard</td>\n",
       "      <td>102.0</td>\n",
       "      <td>...</td>\n",
       "      <td>403.882568</td>\n",
       "      <td>-1</td>\n",
       "      <td>-1</td>\n",
       "      <td>-1</td>\n",
       "      <td>-1</td>\n",
       "      <td>-1</td>\n",
       "      <td>-1</td>\n",
       "      <td>-1</td>\n",
       "      <td>-1</td>\n",
       "      <td>-1</td>\n",
       "    </tr>\n",
       "    <tr>\n",
       "      <th>2</th>\n",
       "      <td>2987002</td>\n",
       "      <td>0</td>\n",
       "      <td>86469</td>\n",
       "      <td>59.000000</td>\n",
       "      <td>W</td>\n",
       "      <td>4663</td>\n",
       "      <td>490.000000</td>\n",
       "      <td>150.0</td>\n",
       "      <td>visa</td>\n",
       "      <td>166.0</td>\n",
       "      <td>...</td>\n",
       "      <td>403.882568</td>\n",
       "      <td>-1</td>\n",
       "      <td>-1</td>\n",
       "      <td>-1</td>\n",
       "      <td>-1</td>\n",
       "      <td>-1</td>\n",
       "      <td>-1</td>\n",
       "      <td>-1</td>\n",
       "      <td>-1</td>\n",
       "      <td>-1</td>\n",
       "    </tr>\n",
       "    <tr>\n",
       "      <th>3</th>\n",
       "      <td>2987003</td>\n",
       "      <td>0</td>\n",
       "      <td>86499</td>\n",
       "      <td>50.000000</td>\n",
       "      <td>W</td>\n",
       "      <td>18132</td>\n",
       "      <td>567.000000</td>\n",
       "      <td>150.0</td>\n",
       "      <td>mastercard</td>\n",
       "      <td>117.0</td>\n",
       "      <td>...</td>\n",
       "      <td>403.882568</td>\n",
       "      <td>-1</td>\n",
       "      <td>-1</td>\n",
       "      <td>-1</td>\n",
       "      <td>-1</td>\n",
       "      <td>-1</td>\n",
       "      <td>-1</td>\n",
       "      <td>-1</td>\n",
       "      <td>-1</td>\n",
       "      <td>-1</td>\n",
       "    </tr>\n",
       "    <tr>\n",
       "      <th>4</th>\n",
       "      <td>2987004</td>\n",
       "      <td>0</td>\n",
       "      <td>86506</td>\n",
       "      <td>50.000000</td>\n",
       "      <td>H</td>\n",
       "      <td>4497</td>\n",
       "      <td>514.000000</td>\n",
       "      <td>150.0</td>\n",
       "      <td>mastercard</td>\n",
       "      <td>102.0</td>\n",
       "      <td>...</td>\n",
       "      <td>144.000000</td>\n",
       "      <td>New</td>\n",
       "      <td>NotFound</td>\n",
       "      <td>samsung browser 6.2</td>\n",
       "      <td>T</td>\n",
       "      <td>F</td>\n",
       "      <td>T</td>\n",
       "      <td>T</td>\n",
       "      <td>mobile</td>\n",
       "      <td>SAMSUNG SM-G892A Build/NRD90M</td>\n",
       "    </tr>\n",
       "    <tr>\n",
       "      <th>...</th>\n",
       "      <td>...</td>\n",
       "      <td>...</td>\n",
       "      <td>...</td>\n",
       "      <td>...</td>\n",
       "      <td>...</td>\n",
       "      <td>...</td>\n",
       "      <td>...</td>\n",
       "      <td>...</td>\n",
       "      <td>...</td>\n",
       "      <td>...</td>\n",
       "      <td>...</td>\n",
       "      <td>...</td>\n",
       "      <td>...</td>\n",
       "      <td>...</td>\n",
       "      <td>...</td>\n",
       "      <td>...</td>\n",
       "      <td>...</td>\n",
       "      <td>...</td>\n",
       "      <td>...</td>\n",
       "      <td>...</td>\n",
       "      <td>...</td>\n",
       "    </tr>\n",
       "    <tr>\n",
       "      <th>590535</th>\n",
       "      <td>3577535</td>\n",
       "      <td>0</td>\n",
       "      <td>15811047</td>\n",
       "      <td>49.000000</td>\n",
       "      <td>W</td>\n",
       "      <td>6550</td>\n",
       "      <td>362.555511</td>\n",
       "      <td>150.0</td>\n",
       "      <td>visa</td>\n",
       "      <td>226.0</td>\n",
       "      <td>...</td>\n",
       "      <td>403.882568</td>\n",
       "      <td>-1</td>\n",
       "      <td>-1</td>\n",
       "      <td>-1</td>\n",
       "      <td>-1</td>\n",
       "      <td>-1</td>\n",
       "      <td>-1</td>\n",
       "      <td>-1</td>\n",
       "      <td>-1</td>\n",
       "      <td>-1</td>\n",
       "    </tr>\n",
       "    <tr>\n",
       "      <th>590536</th>\n",
       "      <td>3577536</td>\n",
       "      <td>0</td>\n",
       "      <td>15811049</td>\n",
       "      <td>39.500000</td>\n",
       "      <td>W</td>\n",
       "      <td>10444</td>\n",
       "      <td>225.000000</td>\n",
       "      <td>150.0</td>\n",
       "      <td>mastercard</td>\n",
       "      <td>224.0</td>\n",
       "      <td>...</td>\n",
       "      <td>403.882568</td>\n",
       "      <td>-1</td>\n",
       "      <td>-1</td>\n",
       "      <td>-1</td>\n",
       "      <td>-1</td>\n",
       "      <td>-1</td>\n",
       "      <td>-1</td>\n",
       "      <td>-1</td>\n",
       "      <td>-1</td>\n",
       "      <td>-1</td>\n",
       "    </tr>\n",
       "    <tr>\n",
       "      <th>590537</th>\n",
       "      <td>3577537</td>\n",
       "      <td>0</td>\n",
       "      <td>15811079</td>\n",
       "      <td>30.950001</td>\n",
       "      <td>W</td>\n",
       "      <td>12037</td>\n",
       "      <td>595.000000</td>\n",
       "      <td>150.0</td>\n",
       "      <td>mastercard</td>\n",
       "      <td>224.0</td>\n",
       "      <td>...</td>\n",
       "      <td>403.882568</td>\n",
       "      <td>-1</td>\n",
       "      <td>-1</td>\n",
       "      <td>-1</td>\n",
       "      <td>-1</td>\n",
       "      <td>-1</td>\n",
       "      <td>-1</td>\n",
       "      <td>-1</td>\n",
       "      <td>-1</td>\n",
       "      <td>-1</td>\n",
       "    </tr>\n",
       "    <tr>\n",
       "      <th>590538</th>\n",
       "      <td>3577538</td>\n",
       "      <td>0</td>\n",
       "      <td>15811088</td>\n",
       "      <td>117.000000</td>\n",
       "      <td>W</td>\n",
       "      <td>7826</td>\n",
       "      <td>481.000000</td>\n",
       "      <td>150.0</td>\n",
       "      <td>mastercard</td>\n",
       "      <td>224.0</td>\n",
       "      <td>...</td>\n",
       "      <td>403.882568</td>\n",
       "      <td>-1</td>\n",
       "      <td>-1</td>\n",
       "      <td>-1</td>\n",
       "      <td>-1</td>\n",
       "      <td>-1</td>\n",
       "      <td>-1</td>\n",
       "      <td>-1</td>\n",
       "      <td>-1</td>\n",
       "      <td>-1</td>\n",
       "    </tr>\n",
       "    <tr>\n",
       "      <th>590539</th>\n",
       "      <td>3577539</td>\n",
       "      <td>0</td>\n",
       "      <td>15811131</td>\n",
       "      <td>279.950012</td>\n",
       "      <td>W</td>\n",
       "      <td>15066</td>\n",
       "      <td>170.000000</td>\n",
       "      <td>150.0</td>\n",
       "      <td>mastercard</td>\n",
       "      <td>102.0</td>\n",
       "      <td>...</td>\n",
       "      <td>403.882568</td>\n",
       "      <td>-1</td>\n",
       "      <td>-1</td>\n",
       "      <td>-1</td>\n",
       "      <td>-1</td>\n",
       "      <td>-1</td>\n",
       "      <td>-1</td>\n",
       "      <td>-1</td>\n",
       "      <td>-1</td>\n",
       "      <td>-1</td>\n",
       "    </tr>\n",
       "  </tbody>\n",
       "</table>\n",
       "<p>590540 rows × 360 columns</p>\n",
       "</div>"
      ],
      "text/plain": [
       "        TransactionID  isFraud  TransactionDT  TransactionAmt ProductCD  \\\n",
       "0             2987000        0          86400       68.500000         W   \n",
       "1             2987001        0          86401       29.000000         W   \n",
       "2             2987002        0          86469       59.000000         W   \n",
       "3             2987003        0          86499       50.000000         W   \n",
       "4             2987004        0          86506       50.000000         H   \n",
       "...               ...      ...            ...             ...       ...   \n",
       "590535        3577535        0       15811047       49.000000         W   \n",
       "590536        3577536        0       15811049       39.500000         W   \n",
       "590537        3577537        0       15811079       30.950001         W   \n",
       "590538        3577538        0       15811088      117.000000         W   \n",
       "590539        3577539        0       15811131      279.950012         W   \n",
       "\n",
       "        card1       card2  card3       card4  card5  ...       id_20  id_28  \\\n",
       "0       13926  362.555511  150.0    discover  142.0  ...  403.882568     -1   \n",
       "1        2755  404.000000  150.0  mastercard  102.0  ...  403.882568     -1   \n",
       "2        4663  490.000000  150.0        visa  166.0  ...  403.882568     -1   \n",
       "3       18132  567.000000  150.0  mastercard  117.0  ...  403.882568     -1   \n",
       "4        4497  514.000000  150.0  mastercard  102.0  ...  144.000000    New   \n",
       "...       ...         ...    ...         ...    ...  ...         ...    ...   \n",
       "590535   6550  362.555511  150.0        visa  226.0  ...  403.882568     -1   \n",
       "590536  10444  225.000000  150.0  mastercard  224.0  ...  403.882568     -1   \n",
       "590537  12037  595.000000  150.0  mastercard  224.0  ...  403.882568     -1   \n",
       "590538   7826  481.000000  150.0  mastercard  224.0  ...  403.882568     -1   \n",
       "590539  15066  170.000000  150.0  mastercard  102.0  ...  403.882568     -1   \n",
       "\n",
       "           id_29                id_31 id_35 id_36  id_37  id_38  DeviceType  \\\n",
       "0             -1                   -1    -1    -1     -1     -1          -1   \n",
       "1             -1                   -1    -1    -1     -1     -1          -1   \n",
       "2             -1                   -1    -1    -1     -1     -1          -1   \n",
       "3             -1                   -1    -1    -1     -1     -1          -1   \n",
       "4       NotFound  samsung browser 6.2     T     F      T      T      mobile   \n",
       "...          ...                  ...   ...   ...    ...    ...         ...   \n",
       "590535        -1                   -1    -1    -1     -1     -1          -1   \n",
       "590536        -1                   -1    -1    -1     -1     -1          -1   \n",
       "590537        -1                   -1    -1    -1     -1     -1          -1   \n",
       "590538        -1                   -1    -1    -1     -1     -1          -1   \n",
       "590539        -1                   -1    -1    -1     -1     -1          -1   \n",
       "\n",
       "                           DeviceInfo  \n",
       "0                                  -1  \n",
       "1                                  -1  \n",
       "2                                  -1  \n",
       "3                                  -1  \n",
       "4       SAMSUNG SM-G892A Build/NRD90M  \n",
       "...                               ...  \n",
       "590535                             -1  \n",
       "590536                             -1  \n",
       "590537                             -1  \n",
       "590538                             -1  \n",
       "590539                             -1  \n",
       "\n",
       "[590540 rows x 360 columns]"
      ]
     },
     "execution_count": 23,
     "metadata": {},
     "output_type": "execute_result"
    }
   ],
   "source": [
    "train_df"
   ]
  },
  {
   "cell_type": "markdown",
   "id": "df71194a",
   "metadata": {
    "papermill": {
     "duration": 0.032776,
     "end_time": "2023-11-07T12:37:23.300269",
     "exception": false,
     "start_time": "2023-11-07T12:37:23.267493",
     "status": "completed"
    },
    "tags": []
   },
   "source": [
    "Аналогично заполним пропуски в тестовом датасете:"
   ]
  },
  {
   "cell_type": "code",
   "execution_count": 24,
   "id": "b136fe12",
   "metadata": {
    "execution": {
     "iopub.execute_input": "2023-11-07T12:37:23.368646Z",
     "iopub.status.busy": "2023-11-07T12:37:23.368260Z",
     "iopub.status.idle": "2023-11-07T12:37:26.864593Z",
     "shell.execute_reply": "2023-11-07T12:37:26.863305Z"
    },
    "papermill": {
     "duration": 3.534082,
     "end_time": "2023-11-07T12:37:26.867651",
     "exception": false,
     "start_time": "2023-11-07T12:37:23.333569",
     "status": "completed"
    },
    "tags": []
   },
   "outputs": [],
   "source": [
    "test_df[num_features] = test_df[num_features].fillna(\n",
    "    test_df[num_features].mean())"
   ]
  },
  {
   "cell_type": "code",
   "execution_count": 25,
   "id": "5db0e1a0",
   "metadata": {
    "execution": {
     "iopub.execute_input": "2023-11-07T12:37:26.937340Z",
     "iopub.status.busy": "2023-11-07T12:37:26.936923Z",
     "iopub.status.idle": "2023-11-07T12:37:28.522185Z",
     "shell.execute_reply": "2023-11-07T12:37:28.521046Z"
    },
    "papermill": {
     "duration": 1.624843,
     "end_time": "2023-11-07T12:37:28.526015",
     "exception": false,
     "start_time": "2023-11-07T12:37:26.901172",
     "status": "completed"
    },
    "tags": []
   },
   "outputs": [],
   "source": [
    "test_df = test_df.fillna(-1)"
   ]
  },
  {
   "cell_type": "markdown",
   "id": "1d4f6f7e",
   "metadata": {
    "papermill": {
     "duration": 0.039038,
     "end_time": "2023-11-07T12:37:28.603152",
     "exception": false,
     "start_time": "2023-11-07T12:37:28.564114",
     "status": "completed"
    },
    "tags": []
   },
   "source": [
    "#### Посмотрим на распределение целевой переменной ```isFraud```"
   ]
  },
  {
   "cell_type": "code",
   "execution_count": 26,
   "id": "5c34abb2",
   "metadata": {
    "execution": {
     "iopub.execute_input": "2023-11-07T12:37:28.674902Z",
     "iopub.status.busy": "2023-11-07T12:37:28.674372Z",
     "iopub.status.idle": "2023-11-07T12:37:28.703158Z",
     "shell.execute_reply": "2023-11-07T12:37:28.701750Z"
    },
    "papermill": {
     "duration": 0.068611,
     "end_time": "2023-11-07T12:37:28.705962",
     "exception": false,
     "start_time": "2023-11-07T12:37:28.637351",
     "status": "completed"
    },
    "tags": []
   },
   "outputs": [
    {
     "data": {
      "text/html": [
       "<div>\n",
       "<style scoped>\n",
       "    .dataframe tbody tr th:only-of-type {\n",
       "        vertical-align: middle;\n",
       "    }\n",
       "\n",
       "    .dataframe tbody tr th {\n",
       "        vertical-align: top;\n",
       "    }\n",
       "\n",
       "    .dataframe thead th {\n",
       "        text-align: right;\n",
       "    }\n",
       "</style>\n",
       "<table border=\"1\" class=\"dataframe\">\n",
       "  <thead>\n",
       "    <tr style=\"text-align: right;\">\n",
       "      <th></th>\n",
       "      <th>Count</th>\n",
       "      <th>Percent</th>\n",
       "    </tr>\n",
       "    <tr>\n",
       "      <th>isFraud</th>\n",
       "      <th></th>\n",
       "      <th></th>\n",
       "    </tr>\n",
       "  </thead>\n",
       "  <tbody>\n",
       "    <tr>\n",
       "      <th>0</th>\n",
       "      <td>569877</td>\n",
       "      <td>0.96501</td>\n",
       "    </tr>\n",
       "    <tr>\n",
       "      <th>1</th>\n",
       "      <td>20663</td>\n",
       "      <td>0.03499</td>\n",
       "    </tr>\n",
       "  </tbody>\n",
       "</table>\n",
       "</div>"
      ],
      "text/plain": [
       "          Count  Percent\n",
       "isFraud                 \n",
       "0        569877  0.96501\n",
       "1         20663  0.03499"
      ]
     },
     "execution_count": 26,
     "metadata": {},
     "output_type": "execute_result"
    }
   ],
   "source": [
    "isFraud_count = train_df['isFraud'].value_counts()\n",
    "isFraud_prct = train_df['isFraud'].value_counts()/len(train_df)\n",
    "\n",
    "pd.concat([isFraud_count, isFraud_prct], axis=1, keys=['Count', 'Percent'])"
   ]
  },
  {
   "cell_type": "code",
   "execution_count": 27,
   "id": "42660013",
   "metadata": {
    "execution": {
     "iopub.execute_input": "2023-11-07T12:37:28.779582Z",
     "iopub.status.busy": "2023-11-07T12:37:28.779105Z",
     "iopub.status.idle": "2023-11-07T12:37:28.791950Z",
     "shell.execute_reply": "2023-11-07T12:37:28.790315Z"
    },
    "papermill": {
     "duration": 0.054582,
     "end_time": "2023-11-07T12:37:28.795151",
     "exception": false,
     "start_time": "2023-11-07T12:37:28.740569",
     "status": "completed"
    },
    "tags": []
   },
   "outputs": [],
   "source": [
    "colors = ['#1f77b4', '#ff7f0e', '#2ca02c', '#d62728', '#9467bd',\n",
    "          '#8c564b', '#e377c2', '#7f7f7f', '#bcbd22', '#17becf']\n",
    "\n",
    "def plot_value_counts(feature, title, df):\n",
    "    ax = df[df[feature] != -1][feature].value_counts().plot(kind='bar',\n",
    "                                        figsize=(7,5),\n",
    "                                        xlabel=title,\n",
    "                                        ylabel='count',\n",
    "                                        edgecolor='k',\n",
    "                                        color=colors)\n",
    "    ax.set_title(f'Percentage of {title}')\n",
    "    counts = df[feature].value_counts()/len(df)\n",
    "    \n",
    "    rects = ax.patches\n",
    "    labels_arr = ['{0:.2f}%'.format(count*100) for count in counts]\n",
    "    \n",
    "    if (len(labels_arr) > 2):\n",
    "        plt.xticks(rotation=0, size=8)\n",
    "        \n",
    "    for rect, label in zip(rects, labels_arr):\n",
    "        height = rect.get_height()\n",
    "        ax.text(\n",
    "            rect.get_x() + rect.get_width() / 2, height, label, ha='center', va='bottom'\n",
    "        )\n",
    "    \n",
    "    plt.show()"
   ]
  },
  {
   "cell_type": "code",
   "execution_count": 28,
   "id": "ca0fb0ce",
   "metadata": {
    "execution": {
     "iopub.execute_input": "2023-11-07T12:37:28.872428Z",
     "iopub.status.busy": "2023-11-07T12:37:28.872006Z",
     "iopub.status.idle": "2023-11-07T12:37:31.261293Z",
     "shell.execute_reply": "2023-11-07T12:37:31.259619Z"
    },
    "papermill": {
     "duration": 2.431133,
     "end_time": "2023-11-07T12:37:31.264493",
     "exception": false,
     "start_time": "2023-11-07T12:37:28.833360",
     "status": "completed"
    },
    "tags": []
   },
   "outputs": [
    {
     "data": {
      "image/png": "[encoded data removed]",
      "text/plain": [
       "<Figure size 700x500 with 1 Axes>"
      ]
     },
     "metadata": {},
     "output_type": "display_data"
    }
   ],
   "source": [
    "plot_value_counts('isFraud', 'train: isFraud', df=train_df)"
   ]
  },
  {
   "cell_type": "markdown",
   "id": "7f44cf3e",
   "metadata": {
    "papermill": {
     "duration": 0.036323,
     "end_time": "2023-11-07T12:37:31.337124",
     "exception": false,
     "start_time": "2023-11-07T12:37:31.300801",
     "status": "completed"
    },
    "tags": []
   },
   "source": [
    "Видим, что данные не сбалансированы:\n",
    "\n",
    "- ```96,5 %``` транзакций - валидны\n",
    "\n",
    "- ```3,5 %``` транзакций - мошеннические\n",
    "\n",
    "Подумаем о решении вопроса дисбаланса в данных. Исследуем другие признаки."
   ]
  },
  {
   "cell_type": "markdown",
   "id": "fc3e2ab8",
   "metadata": {
    "papermill": {
     "duration": 0.03707,
     "end_time": "2023-11-07T12:37:31.410094",
     "exception": false,
     "start_time": "2023-11-07T12:37:31.373024",
     "status": "completed"
    },
    "tags": []
   },
   "source": [
    "#### Распределение ```Card 4``` (компания карты)"
   ]
  },
  {
   "cell_type": "code",
   "execution_count": 29,
   "id": "056b6b9c",
   "metadata": {
    "execution": {
     "iopub.execute_input": "2023-11-07T12:37:31.487991Z",
     "iopub.status.busy": "2023-11-07T12:37:31.487505Z",
     "iopub.status.idle": "2023-11-07T12:37:34.133701Z",
     "shell.execute_reply": "2023-11-07T12:37:34.132293Z"
    },
    "papermill": {
     "duration": 2.68978,
     "end_time": "2023-11-07T12:37:34.136849",
     "exception": false,
     "start_time": "2023-11-07T12:37:31.447069",
     "status": "completed"
    },
    "tags": []
   },
   "outputs": [
    {
     "data": {
      "image/png": "[encoded data removed]",
      "text/plain": [
       "<Figure size 700x500 with 1 Axes>"
      ]
     },
     "metadata": {},
     "output_type": "display_data"
    }
   ],
   "source": [
    "plot_value_counts('card4', 'train: card4', df=train_df)"
   ]
  },
  {
   "cell_type": "markdown",
   "id": "b233f69d",
   "metadata": {
    "papermill": {
     "duration": 0.038048,
     "end_time": "2023-11-07T12:37:34.215175",
     "exception": false,
     "start_time": "2023-11-07T12:37:34.177127",
     "status": "completed"
    },
    "tags": []
   },
   "source": [
    "Видим, что:\n",
    "\n",
    "- ```65,16 %``` - карт компании 'visa'\n",
    "- ```32,04 %``` - 'mastercard'\n",
    "- ```1,41 %```  - 'american express'\n",
    "- ```1,13 %```  - 'discover'"
   ]
  },
  {
   "cell_type": "markdown",
   "id": "8cd3caac",
   "metadata": {
    "papermill": {
     "duration": 0.036097,
     "end_time": "2023-11-07T12:37:34.289359",
     "exception": false,
     "start_time": "2023-11-07T12:37:34.253262",
     "status": "completed"
    },
    "tags": []
   },
   "source": [
    "#### Распределение ```Card 6``` - тип карты"
   ]
  },
  {
   "cell_type": "code",
   "execution_count": 30,
   "id": "93a63be0",
   "metadata": {
    "execution": {
     "iopub.execute_input": "2023-11-07T12:37:34.365420Z",
     "iopub.status.busy": "2023-11-07T12:37:34.364635Z",
     "iopub.status.idle": "2023-11-07T12:37:36.937326Z",
     "shell.execute_reply": "2023-11-07T12:37:36.936434Z"
    },
    "papermill": {
     "duration": 2.614277,
     "end_time": "2023-11-07T12:37:36.939638",
     "exception": false,
     "start_time": "2023-11-07T12:37:34.325361",
     "status": "completed"
    },
    "tags": []
   },
   "outputs": [
    {
     "data": {
      "image/png": "[encoded data removed]",
      "text/plain": [
       "<Figure size 700x500 with 1 Axes>"
      ]
     },
     "metadata": {},
     "output_type": "display_data"
    }
   ],
   "source": [
    "plot_value_counts('card6', 'train: card6', df=train_df)"
   ]
  },
  {
   "cell_type": "markdown",
   "id": "5ca191d6",
   "metadata": {
    "papermill": {
     "duration": 0.0356,
     "end_time": "2023-11-07T12:37:37.011591",
     "exception": false,
     "start_time": "2023-11-07T12:37:36.975991",
     "status": "completed"
    },
    "tags": []
   },
   "source": [
    "Большая часть транзакций произведена дебетовыми картами - ```74,5 %```, ```25,23 %``` - кредитными картами. Транзакций с ```charge``` карт нет"
   ]
  },
  {
   "cell_type": "markdown",
   "id": "d4e5ae9e",
   "metadata": {
    "papermill": {
     "duration": 0.035166,
     "end_time": "2023-11-07T12:37:37.081898",
     "exception": false,
     "start_time": "2023-11-07T12:37:37.046732",
     "status": "completed"
    },
    "tags": []
   },
   "source": [
    "#### Распределение транзакций по ```DeviceType```"
   ]
  },
  {
   "cell_type": "code",
   "execution_count": 31,
   "id": "a0dbd80e",
   "metadata": {
    "execution": {
     "iopub.execute_input": "2023-11-07T12:37:37.154800Z",
     "iopub.status.busy": "2023-11-07T12:37:37.153924Z",
     "iopub.status.idle": "2023-11-07T12:37:37.927409Z",
     "shell.execute_reply": "2023-11-07T12:37:37.925319Z"
    },
    "papermill": {
     "duration": 0.812756,
     "end_time": "2023-11-07T12:37:37.930059",
     "exception": false,
     "start_time": "2023-11-07T12:37:37.117303",
     "status": "completed"
    },
    "tags": []
   },
   "outputs": [
    {
     "name": "stdout",
     "output_type": "stream",
     "text": [
      "DeviceType\n",
      "desktop    85165\n",
      "mobile     55645\n",
      "Name: TransactionDT, dtype: int64\n"
     ]
    },
    {
     "data": {
      "image/png": "[encoded data removed]",
      "text/plain": [
       "<Figure size 640x480 with 1 Axes>"
      ]
     },
     "metadata": {},
     "output_type": "display_data"
    }
   ],
   "source": [
    "device_type_df = train_df[train_df['DeviceType']!=-1].groupby(by='DeviceType').TransactionDT.count()\n",
    "device_type_df.plot(kind='pie', \n",
    "                    colors=['orange', 'lightgreen'],\n",
    "                    autopct='%1.1f%%')\n",
    "plt.title('Number of transactions by device type')\n",
    "print(device_type_df)"
   ]
  },
  {
   "cell_type": "markdown",
   "id": "2add5941",
   "metadata": {
    "papermill": {
     "duration": 0.036948,
     "end_time": "2023-11-07T12:37:38.004097",
     "exception": false,
     "start_time": "2023-11-07T12:37:37.967149",
     "status": "completed"
    },
    "tags": []
   },
   "source": [
    "Большинство транзакций было выполнено с компьютера - ```60.5 %```\n",
    "\n",
    "С мобильных устройств - ```39.5 %``` транзакций"
   ]
  },
  {
   "cell_type": "markdown",
   "id": "83411460",
   "metadata": {
    "papermill": {
     "duration": 0.037296,
     "end_time": "2023-11-07T12:37:38.079887",
     "exception": false,
     "start_time": "2023-11-07T12:37:38.042591",
     "status": "completed"
    },
    "tags": []
   },
   "source": [
    "#### Посмотрим на распределение транзакций в разрезе компаний, выпустивших карты"
   ]
  },
  {
   "cell_type": "markdown",
   "id": "334e6898",
   "metadata": {
    "papermill": {
     "duration": 0.036763,
     "end_time": "2023-11-07T12:37:38.153441",
     "exception": false,
     "start_time": "2023-11-07T12:37:38.116678",
     "status": "completed"
    },
    "tags": []
   },
   "source": [
    "Напишем функцию для визуализации распределения транзакций в разрезе какого-либо признака"
   ]
  },
  {
   "cell_type": "code",
   "execution_count": 32,
   "id": "f28ae7b6",
   "metadata": {
    "execution": {
     "iopub.execute_input": "2023-11-07T12:37:38.230663Z",
     "iopub.status.busy": "2023-11-07T12:37:38.230301Z",
     "iopub.status.idle": "2023-11-07T12:37:38.237594Z",
     "shell.execute_reply": "2023-11-07T12:37:38.236112Z"
    },
    "papermill": {
     "duration": 0.05006,
     "end_time": "2023-11-07T12:37:38.240138",
     "exception": false,
     "start_time": "2023-11-07T12:37:38.190078",
     "status": "completed"
    },
    "tags": []
   },
   "outputs": [],
   "source": [
    "def isFraud_by_feature(feature, df, title):\n",
    "    sns.barplot(x=feature, y='isFraud', data=df[df[feature]!=-1])\n",
    "    plt.xlabel(feature)\n",
    "    plt.ylabel('isFraud')\n",
    "    plt.title('Fraudulent Transactions by {}'.format(title))\n",
    "    plt.show()"
   ]
  },
  {
   "cell_type": "code",
   "execution_count": 33,
   "id": "c2189f40",
   "metadata": {
    "execution": {
     "iopub.execute_input": "2023-11-07T12:37:38.315094Z",
     "iopub.status.busy": "2023-11-07T12:37:38.314706Z",
     "iopub.status.idle": "2023-11-07T12:37:48.546748Z",
     "shell.execute_reply": "2023-11-07T12:37:48.545201Z"
    },
    "papermill": {
     "duration": 10.272665,
     "end_time": "2023-11-07T12:37:48.550117",
     "exception": false,
     "start_time": "2023-11-07T12:37:38.277452",
     "status": "completed"
    },
    "tags": []
   },
   "outputs": [
    {
     "data": {
      "image/png": "[encoded data removed]",
      "text/plain": [
       "<Figure size 640x480 with 1 Axes>"
      ]
     },
     "metadata": {},
     "output_type": "display_data"
    }
   ],
   "source": [
    "isFraud_by_feature('card4', df=train_df, title='Card Company')"
   ]
  },
  {
   "cell_type": "markdown",
   "id": "550c336c",
   "metadata": {
    "papermill": {
     "duration": 0.040889,
     "end_time": "2023-11-07T12:37:48.634343",
     "exception": false,
     "start_time": "2023-11-07T12:37:48.593454",
     "status": "completed"
    },
    "tags": []
   },
   "source": [
    "Большинство операций произведено с карт ```discover```"
   ]
  },
  {
   "cell_type": "markdown",
   "id": "80cc3cb3",
   "metadata": {
    "papermill": {
     "duration": 0.039915,
     "end_time": "2023-11-07T12:37:48.716796",
     "exception": false,
     "start_time": "2023-11-07T12:37:48.676881",
     "status": "completed"
    },
    "tags": []
   },
   "source": [
    "#### Распределение транзакций в разрезе типа карты"
   ]
  },
  {
   "cell_type": "code",
   "execution_count": 34,
   "id": "9683d74d",
   "metadata": {
    "execution": {
     "iopub.execute_input": "2023-11-07T12:37:48.802649Z",
     "iopub.status.busy": "2023-11-07T12:37:48.802003Z",
     "iopub.status.idle": "2023-11-07T12:37:58.956446Z",
     "shell.execute_reply": "2023-11-07T12:37:58.954858Z"
    },
    "papermill": {
     "duration": 10.200645,
     "end_time": "2023-11-07T12:37:58.960044",
     "exception": false,
     "start_time": "2023-11-07T12:37:48.759399",
     "status": "completed"
    },
    "tags": []
   },
   "outputs": [
    {
     "data": {
      "image/png": "[encoded data removed]",
      "text/plain": [
       "<Figure size 640x480 with 1 Axes>"
      ]
     },
     "metadata": {},
     "output_type": "display_data"
    }
   ],
   "source": [
    "isFraud_by_feature('card6', df=train_df, title='Card Type')"
   ]
  },
  {
   "cell_type": "markdown",
   "id": "845c67a8",
   "metadata": {
    "papermill": {
     "duration": 0.038397,
     "end_time": "2023-11-07T12:37:59.036993",
     "exception": false,
     "start_time": "2023-11-07T12:37:58.998596",
     "status": "completed"
    },
    "tags": []
   },
   "source": [
    "Несмотря на то, что кредитные карты занимают ```25,23 %``` от всего объема данных, с них произведена большая часть транзакций"
   ]
  },
  {
   "cell_type": "markdown",
   "id": "8968cf1f",
   "metadata": {
    "papermill": {
     "duration": 0.037169,
     "end_time": "2023-11-07T12:37:59.112431",
     "exception": false,
     "start_time": "2023-11-07T12:37:59.075262",
     "status": "completed"
    },
    "tags": []
   },
   "source": [
    "#### Распределение транзакций в разрезе типа устройства"
   ]
  },
  {
   "cell_type": "code",
   "execution_count": 35,
   "id": "e8a652d0",
   "metadata": {
    "execution": {
     "iopub.execute_input": "2023-11-07T12:37:59.188179Z",
     "iopub.status.busy": "2023-11-07T12:37:59.187579Z",
     "iopub.status.idle": "2023-11-07T12:38:01.834935Z",
     "shell.execute_reply": "2023-11-07T12:38:01.833611Z"
    },
    "papermill": {
     "duration": 2.689325,
     "end_time": "2023-11-07T12:38:01.838514",
     "exception": false,
     "start_time": "2023-11-07T12:37:59.149189",
     "status": "completed"
    },
    "tags": []
   },
   "outputs": [
    {
     "data": {
      "image/png": "[encoded data removed]",
      "text/plain": [
       "<Figure size 640x480 with 1 Axes>"
      ]
     },
     "metadata": {},
     "output_type": "display_data"
    }
   ],
   "source": [
    "isFraud_by_feature('DeviceType', df=train_df, title='Device Type')"
   ]
  },
  {
   "cell_type": "markdown",
   "id": "794dd2a5",
   "metadata": {
    "papermill": {
     "duration": 0.036898,
     "end_time": "2023-11-07T12:38:01.913425",
     "exception": false,
     "start_time": "2023-11-07T12:38:01.876527",
     "status": "completed"
    },
    "tags": []
   },
   "source": [
    "Большинство транзакций было произведено с мобильных устройств"
   ]
  },
  {
   "cell_type": "markdown",
   "id": "ea370cb8",
   "metadata": {
    "papermill": {
     "duration": 0.036866,
     "end_time": "2023-11-07T12:38:01.987758",
     "exception": false,
     "start_time": "2023-11-07T12:38:01.950892",
     "status": "completed"
    },
    "tags": []
   },
   "source": [
    "#### Построим гистограмму распределения транзакционных платежей (TransactionAMT)"
   ]
  },
  {
   "cell_type": "markdown",
   "id": "74b13396",
   "metadata": {
    "papermill": {
     "duration": 0.037507,
     "end_time": "2023-11-07T12:38:02.064248",
     "exception": false,
     "start_time": "2023-11-07T12:38:02.026741",
     "status": "completed"
    },
    "tags": []
   },
   "source": [
    "Напишем функцию для построения гистограммы:"
   ]
  },
  {
   "cell_type": "code",
   "execution_count": 36,
   "id": "c2b1e236",
   "metadata": {
    "execution": {
     "iopub.execute_input": "2023-11-07T12:38:02.142890Z",
     "iopub.status.busy": "2023-11-07T12:38:02.142204Z",
     "iopub.status.idle": "2023-11-07T12:38:02.148778Z",
     "shell.execute_reply": "2023-11-07T12:38:02.147865Z"
    },
    "papermill": {
     "duration": 0.04963,
     "end_time": "2023-11-07T12:38:02.151084",
     "exception": false,
     "start_time": "2023-11-07T12:38:02.101454",
     "status": "completed"
    },
    "tags": []
   },
   "outputs": [],
   "source": [
    "def plt_hist(df, feature, bins=150):\n",
    "    plt.figure(figsize=(8,8))\n",
    "    plt.hist(df[feature], bins=bins, edgecolor='black')\n",
    "    plt.xlabel(feature)\n",
    "    plt.ylabel('Count')\n",
    "    plt.title('Distribution of {}'.format(feature))\n",
    "    plt.show()"
   ]
  },
  {
   "cell_type": "code",
   "execution_count": 37,
   "id": "8d916dff",
   "metadata": {
    "execution": {
     "iopub.execute_input": "2023-11-07T12:38:02.228283Z",
     "iopub.status.busy": "2023-11-07T12:38:02.227852Z",
     "iopub.status.idle": "2023-11-07T12:38:02.846818Z",
     "shell.execute_reply": "2023-11-07T12:38:02.845581Z"
    },
    "papermill": {
     "duration": 0.660475,
     "end_time": "2023-11-07T12:38:02.849419",
     "exception": false,
     "start_time": "2023-11-07T12:38:02.188944",
     "status": "completed"
    },
    "tags": []
   },
   "outputs": [
    {
     "data": {
      "image/png": "[encoded data removed]",
      "text/plain": [
       "<Figure size 800x800 with 1 Axes>"
      ]
     },
     "metadata": {},
     "output_type": "display_data"
    }
   ],
   "source": [
    "plt_hist(train_df, 'TransactionAmt')"
   ]
  },
  {
   "cell_type": "markdown",
   "id": "7d1f99a6",
   "metadata": {
    "papermill": {
     "duration": 0.038629,
     "end_time": "2023-11-07T12:38:02.927002",
     "exception": false,
     "start_time": "2023-11-07T12:38:02.888373",
     "status": "completed"
    },
    "tags": []
   },
   "source": [
    "#### Здесь виден явный выброс в данных"
   ]
  },
  {
   "cell_type": "markdown",
   "id": "8bd48737",
   "metadata": {
    "papermill": {
     "duration": 0.038869,
     "end_time": "2023-11-07T12:38:03.004616",
     "exception": false,
     "start_time": "2023-11-07T12:38:02.965747",
     "status": "completed"
    },
    "tags": []
   },
   "source": [
    "Посмотрим на статистики этого признака"
   ]
  },
  {
   "cell_type": "code",
   "execution_count": 38,
   "id": "3e0c8c92",
   "metadata": {
    "execution": {
     "iopub.execute_input": "2023-11-07T12:38:03.083974Z",
     "iopub.status.busy": "2023-11-07T12:38:03.082904Z",
     "iopub.status.idle": "2023-11-07T12:38:03.119389Z",
     "shell.execute_reply": "2023-11-07T12:38:03.118491Z"
    },
    "papermill": {
     "duration": 0.078334,
     "end_time": "2023-11-07T12:38:03.121649",
     "exception": false,
     "start_time": "2023-11-07T12:38:03.043315",
     "status": "completed"
    },
    "tags": []
   },
   "outputs": [
    {
     "data": {
      "text/plain": [
       "count    590540.000000\n",
       "mean        135.027161\n",
       "std         239.162521\n",
       "min           0.251000\n",
       "25%          43.320999\n",
       "50%          68.769001\n",
       "75%         125.000000\n",
       "max       31937.390625\n",
       "Name: TransactionAmt, dtype: float64"
      ]
     },
     "execution_count": 38,
     "metadata": {},
     "output_type": "execute_result"
    }
   ],
   "source": [
    "train_df['TransactionAmt'].describe()"
   ]
  },
  {
   "cell_type": "markdown",
   "id": "b985d02e",
   "metadata": {
    "papermill": {
     "duration": 0.038559,
     "end_time": "2023-11-07T12:38:03.199000",
     "exception": false,
     "start_time": "2023-11-07T12:38:03.160441",
     "status": "completed"
    },
    "tags": []
   },
   "source": [
    "Посмотрим на топ 10 самых больших значений этого столбца"
   ]
  },
  {
   "cell_type": "code",
   "execution_count": 39,
   "id": "bd7e0fd3",
   "metadata": {
    "execution": {
     "iopub.execute_input": "2023-11-07T12:38:03.277180Z",
     "iopub.status.busy": "2023-11-07T12:38:03.276339Z",
     "iopub.status.idle": "2023-11-07T12:38:03.364877Z",
     "shell.execute_reply": "2023-11-07T12:38:03.363746Z"
    },
    "papermill": {
     "duration": 0.130317,
     "end_time": "2023-11-07T12:38:03.367473",
     "exception": false,
     "start_time": "2023-11-07T12:38:03.237156",
     "status": "completed"
    },
    "tags": []
   },
   "outputs": [
    {
     "data": {
      "text/plain": [
       "315172     5279.950195\n",
       "462514     5279.950195\n",
       "584767     5366.819824\n",
       "275535     5420.000000\n",
       "275529     5420.000000\n",
       "384603     5543.229980\n",
       "248413     6085.229980\n",
       "296021     6450.970215\n",
       "274336    31937.390625\n",
       "274339    31937.390625\n",
       "Name: TransactionAmt, dtype: float32"
      ]
     },
     "execution_count": 39,
     "metadata": {},
     "output_type": "execute_result"
    }
   ],
   "source": [
    "train_df['TransactionAmt'].dropna().sort_values().tail(10)"
   ]
  },
  {
   "cell_type": "markdown",
   "id": "518b01e4",
   "metadata": {
    "papermill": {
     "duration": 0.038426,
     "end_time": "2023-11-07T12:38:03.444449",
     "exception": false,
     "start_time": "2023-11-07T12:38:03.406023",
     "status": "completed"
    },
    "tags": []
   },
   "source": [
    "Выведем график ```boxplot```, чтобы убедиться, что эти значения похожи на выбросы"
   ]
  },
  {
   "cell_type": "markdown",
   "id": "3cb83c3a",
   "metadata": {
    "papermill": {
     "duration": 0.0382,
     "end_time": "2023-11-07T12:38:03.520806",
     "exception": false,
     "start_time": "2023-11-07T12:38:03.482606",
     "status": "completed"
    },
    "tags": []
   },
   "source": [
    "Напишем функцию для построения диаграммы размаха:"
   ]
  },
  {
   "cell_type": "code",
   "execution_count": 40,
   "id": "461c639c",
   "metadata": {
    "execution": {
     "iopub.execute_input": "2023-11-07T12:38:03.599994Z",
     "iopub.status.busy": "2023-11-07T12:38:03.599223Z",
     "iopub.status.idle": "2023-11-07T12:38:03.605004Z",
     "shell.execute_reply": "2023-11-07T12:38:03.603859Z"
    },
    "papermill": {
     "duration": 0.047992,
     "end_time": "2023-11-07T12:38:03.607372",
     "exception": false,
     "start_time": "2023-11-07T12:38:03.559380",
     "status": "completed"
    },
    "tags": []
   },
   "outputs": [],
   "source": [
    "def plt_boxplot(df, feature):\n",
    "    plt.figure(figsize=(10,3))\n",
    "    sns.boxplot(x=df[feature])\n",
    "    plt.title('Диаграмма размаха платежей')\n",
    "    plt.xlabel(feature)\n",
    "    plt.show()"
   ]
  },
  {
   "cell_type": "code",
   "execution_count": 41,
   "id": "9ee2d3d2",
   "metadata": {
    "execution": {
     "iopub.execute_input": "2023-11-07T12:38:03.686467Z",
     "iopub.status.busy": "2023-11-07T12:38:03.685756Z",
     "iopub.status.idle": "2023-11-07T12:38:03.999125Z",
     "shell.execute_reply": "2023-11-07T12:38:03.997897Z"
    },
    "papermill": {
     "duration": 0.357496,
     "end_time": "2023-11-07T12:38:04.003375",
     "exception": false,
     "start_time": "2023-11-07T12:38:03.645879",
     "status": "completed"
    },
    "tags": []
   },
   "outputs": [
    {
     "data": {
      "image/png": "[encoded data removed]",
      "text/plain": [
       "<Figure size 1000x300 with 1 Axes>"
      ]
     },
     "metadata": {},
     "output_type": "display_data"
    }
   ],
   "source": [
    "plt_boxplot(train_df, 'TransactionAmt')"
   ]
  },
  {
   "cell_type": "markdown",
   "id": "403a27ca",
   "metadata": {
    "papermill": {
     "duration": 0.041173,
     "end_time": "2023-11-07T12:38:04.084330",
     "exception": false,
     "start_time": "2023-11-07T12:38:04.043157",
     "status": "completed"
    },
    "tags": []
   },
   "source": [
    "#### Избавимся от выбросов"
   ]
  },
  {
   "cell_type": "markdown",
   "id": "b48a81bf",
   "metadata": {
    "papermill": {
     "duration": 0.038635,
     "end_time": "2023-11-07T12:38:04.161394",
     "exception": false,
     "start_time": "2023-11-07T12:38:04.122759",
     "status": "completed"
    },
    "tags": []
   },
   "source": [
    "Напишем функцию для того, чтобы отделить данные от выбросов"
   ]
  },
  {
   "cell_type": "code",
   "execution_count": 42,
   "id": "f5fe1f9d",
   "metadata": {
    "execution": {
     "iopub.execute_input": "2023-11-07T12:38:04.241881Z",
     "iopub.status.busy": "2023-11-07T12:38:04.241157Z",
     "iopub.status.idle": "2023-11-07T12:38:04.247068Z",
     "shell.execute_reply": "2023-11-07T12:38:04.246264Z"
    },
    "papermill": {
     "duration": 0.048621,
     "end_time": "2023-11-07T12:38:04.249480",
     "exception": false,
     "start_time": "2023-11-07T12:38:04.200859",
     "status": "completed"
    },
    "tags": []
   },
   "outputs": [],
   "source": [
    "def data_without_feat_emsns(df, feature):\n",
    "    first_qrt = df[feature].describe()['25%']\n",
    "    third_qrt = df[feature].describe()['75%']\n",
    "    iqr = third_qrt - first_qrt\n",
    "    \n",
    "    condition = (df[feature] > (first_qrt - 3 * iqr)) & \\\n",
    "    (df[feature] < (third_qrt + 3 * iqr))\n",
    "    \n",
    "    df = df[condition]\n",
    "    return df"
   ]
  },
  {
   "cell_type": "markdown",
   "id": "f2055f86",
   "metadata": {
    "papermill": {
     "duration": 0.03944,
     "end_time": "2023-11-07T12:38:04.327383",
     "exception": false,
     "start_time": "2023-11-07T12:38:04.287943",
     "status": "completed"
    },
    "tags": []
   },
   "source": [
    "Применим созданную функцию к нашим данным, отфильтровав строки, не являющиеся выбросами"
   ]
  },
  {
   "cell_type": "code",
   "execution_count": 43,
   "id": "a5de1a43",
   "metadata": {
    "execution": {
     "iopub.execute_input": "2023-11-07T12:38:04.406100Z",
     "iopub.status.busy": "2023-11-07T12:38:04.405379Z",
     "iopub.status.idle": "2023-11-07T12:38:06.341824Z",
     "shell.execute_reply": "2023-11-07T12:38:06.340931Z"
    },
    "papermill": {
     "duration": 1.979212,
     "end_time": "2023-11-07T12:38:06.344822",
     "exception": false,
     "start_time": "2023-11-07T12:38:04.365610",
     "status": "completed"
    },
    "tags": []
   },
   "outputs": [],
   "source": [
    "train_df = data_without_feat_emsns(train_df, 'TransactionAmt')"
   ]
  },
  {
   "cell_type": "code",
   "execution_count": 44,
   "id": "50c8bf69",
   "metadata": {
    "execution": {
     "iopub.execute_input": "2023-11-07T12:38:06.432110Z",
     "iopub.status.busy": "2023-11-07T12:38:06.431365Z",
     "iopub.status.idle": "2023-11-07T12:38:06.437434Z",
     "shell.execute_reply": "2023-11-07T12:38:06.436538Z"
    },
    "papermill": {
     "duration": 0.053431,
     "end_time": "2023-11-07T12:38:06.439896",
     "exception": false,
     "start_time": "2023-11-07T12:38:06.386465",
     "status": "completed"
    },
    "tags": []
   },
   "outputs": [
    {
     "data": {
      "text/plain": [
       "(554118, 360)"
      ]
     },
     "execution_count": 44,
     "metadata": {},
     "output_type": "execute_result"
    }
   ],
   "source": [
    "train_df.shape"
   ]
  },
  {
   "cell_type": "code",
   "execution_count": 45,
   "id": "22d165d1",
   "metadata": {
    "execution": {
     "iopub.execute_input": "2023-11-07T12:38:06.524881Z",
     "iopub.status.busy": "2023-11-07T12:38:06.524161Z",
     "iopub.status.idle": "2023-11-07T12:38:07.146667Z",
     "shell.execute_reply": "2023-11-07T12:38:07.145277Z"
    },
    "papermill": {
     "duration": 0.665797,
     "end_time": "2023-11-07T12:38:07.149444",
     "exception": false,
     "start_time": "2023-11-07T12:38:06.483647",
     "status": "completed"
    },
    "tags": []
   },
   "outputs": [
    {
     "data": {
      "text/html": [
       "<div>\n",
       "<style scoped>\n",
       "    .dataframe tbody tr th:only-of-type {\n",
       "        vertical-align: middle;\n",
       "    }\n",
       "\n",
       "    .dataframe tbody tr th {\n",
       "        vertical-align: top;\n",
       "    }\n",
       "\n",
       "    .dataframe thead th {\n",
       "        text-align: right;\n",
       "    }\n",
       "</style>\n",
       "<table border=\"1\" class=\"dataframe\">\n",
       "  <thead>\n",
       "    <tr style=\"text-align: right;\">\n",
       "      <th></th>\n",
       "      <th>TransactionID</th>\n",
       "      <th>isFraud</th>\n",
       "      <th>TransactionDT</th>\n",
       "      <th>TransactionAmt</th>\n",
       "      <th>ProductCD</th>\n",
       "      <th>card1</th>\n",
       "      <th>card2</th>\n",
       "      <th>card3</th>\n",
       "      <th>card4</th>\n",
       "      <th>card5</th>\n",
       "      <th>...</th>\n",
       "      <th>id_20</th>\n",
       "      <th>id_28</th>\n",
       "      <th>id_29</th>\n",
       "      <th>id_31</th>\n",
       "      <th>id_35</th>\n",
       "      <th>id_36</th>\n",
       "      <th>id_37</th>\n",
       "      <th>id_38</th>\n",
       "      <th>DeviceType</th>\n",
       "      <th>DeviceInfo</th>\n",
       "    </tr>\n",
       "  </thead>\n",
       "  <tbody>\n",
       "    <tr>\n",
       "      <th>0</th>\n",
       "      <td>2987000</td>\n",
       "      <td>0</td>\n",
       "      <td>86400</td>\n",
       "      <td>68.500000</td>\n",
       "      <td>W</td>\n",
       "      <td>13926</td>\n",
       "      <td>362.555511</td>\n",
       "      <td>150.0</td>\n",
       "      <td>discover</td>\n",
       "      <td>142.0</td>\n",
       "      <td>...</td>\n",
       "      <td>403.882568</td>\n",
       "      <td>-1</td>\n",
       "      <td>-1</td>\n",
       "      <td>-1</td>\n",
       "      <td>-1</td>\n",
       "      <td>-1</td>\n",
       "      <td>-1</td>\n",
       "      <td>-1</td>\n",
       "      <td>-1</td>\n",
       "      <td>-1</td>\n",
       "    </tr>\n",
       "    <tr>\n",
       "      <th>1</th>\n",
       "      <td>2987001</td>\n",
       "      <td>0</td>\n",
       "      <td>86401</td>\n",
       "      <td>29.000000</td>\n",
       "      <td>W</td>\n",
       "      <td>2755</td>\n",
       "      <td>404.000000</td>\n",
       "      <td>150.0</td>\n",
       "      <td>mastercard</td>\n",
       "      <td>102.0</td>\n",
       "      <td>...</td>\n",
       "      <td>403.882568</td>\n",
       "      <td>-1</td>\n",
       "      <td>-1</td>\n",
       "      <td>-1</td>\n",
       "      <td>-1</td>\n",
       "      <td>-1</td>\n",
       "      <td>-1</td>\n",
       "      <td>-1</td>\n",
       "      <td>-1</td>\n",
       "      <td>-1</td>\n",
       "    </tr>\n",
       "    <tr>\n",
       "      <th>2</th>\n",
       "      <td>2987002</td>\n",
       "      <td>0</td>\n",
       "      <td>86469</td>\n",
       "      <td>59.000000</td>\n",
       "      <td>W</td>\n",
       "      <td>4663</td>\n",
       "      <td>490.000000</td>\n",
       "      <td>150.0</td>\n",
       "      <td>visa</td>\n",
       "      <td>166.0</td>\n",
       "      <td>...</td>\n",
       "      <td>403.882568</td>\n",
       "      <td>-1</td>\n",
       "      <td>-1</td>\n",
       "      <td>-1</td>\n",
       "      <td>-1</td>\n",
       "      <td>-1</td>\n",
       "      <td>-1</td>\n",
       "      <td>-1</td>\n",
       "      <td>-1</td>\n",
       "      <td>-1</td>\n",
       "    </tr>\n",
       "    <tr>\n",
       "      <th>3</th>\n",
       "      <td>2987003</td>\n",
       "      <td>0</td>\n",
       "      <td>86499</td>\n",
       "      <td>50.000000</td>\n",
       "      <td>W</td>\n",
       "      <td>18132</td>\n",
       "      <td>567.000000</td>\n",
       "      <td>150.0</td>\n",
       "      <td>mastercard</td>\n",
       "      <td>117.0</td>\n",
       "      <td>...</td>\n",
       "      <td>403.882568</td>\n",
       "      <td>-1</td>\n",
       "      <td>-1</td>\n",
       "      <td>-1</td>\n",
       "      <td>-1</td>\n",
       "      <td>-1</td>\n",
       "      <td>-1</td>\n",
       "      <td>-1</td>\n",
       "      <td>-1</td>\n",
       "      <td>-1</td>\n",
       "    </tr>\n",
       "    <tr>\n",
       "      <th>4</th>\n",
       "      <td>2987004</td>\n",
       "      <td>0</td>\n",
       "      <td>86506</td>\n",
       "      <td>50.000000</td>\n",
       "      <td>H</td>\n",
       "      <td>4497</td>\n",
       "      <td>514.000000</td>\n",
       "      <td>150.0</td>\n",
       "      <td>mastercard</td>\n",
       "      <td>102.0</td>\n",
       "      <td>...</td>\n",
       "      <td>144.000000</td>\n",
       "      <td>New</td>\n",
       "      <td>NotFound</td>\n",
       "      <td>samsung browser 6.2</td>\n",
       "      <td>T</td>\n",
       "      <td>F</td>\n",
       "      <td>T</td>\n",
       "      <td>T</td>\n",
       "      <td>mobile</td>\n",
       "      <td>SAMSUNG SM-G892A Build/NRD90M</td>\n",
       "    </tr>\n",
       "    <tr>\n",
       "      <th>...</th>\n",
       "      <td>...</td>\n",
       "      <td>...</td>\n",
       "      <td>...</td>\n",
       "      <td>...</td>\n",
       "      <td>...</td>\n",
       "      <td>...</td>\n",
       "      <td>...</td>\n",
       "      <td>...</td>\n",
       "      <td>...</td>\n",
       "      <td>...</td>\n",
       "      <td>...</td>\n",
       "      <td>...</td>\n",
       "      <td>...</td>\n",
       "      <td>...</td>\n",
       "      <td>...</td>\n",
       "      <td>...</td>\n",
       "      <td>...</td>\n",
       "      <td>...</td>\n",
       "      <td>...</td>\n",
       "      <td>...</td>\n",
       "      <td>...</td>\n",
       "    </tr>\n",
       "    <tr>\n",
       "      <th>590535</th>\n",
       "      <td>3577535</td>\n",
       "      <td>0</td>\n",
       "      <td>15811047</td>\n",
       "      <td>49.000000</td>\n",
       "      <td>W</td>\n",
       "      <td>6550</td>\n",
       "      <td>362.555511</td>\n",
       "      <td>150.0</td>\n",
       "      <td>visa</td>\n",
       "      <td>226.0</td>\n",
       "      <td>...</td>\n",
       "      <td>403.882568</td>\n",
       "      <td>-1</td>\n",
       "      <td>-1</td>\n",
       "      <td>-1</td>\n",
       "      <td>-1</td>\n",
       "      <td>-1</td>\n",
       "      <td>-1</td>\n",
       "      <td>-1</td>\n",
       "      <td>-1</td>\n",
       "      <td>-1</td>\n",
       "    </tr>\n",
       "    <tr>\n",
       "      <th>590536</th>\n",
       "      <td>3577536</td>\n",
       "      <td>0</td>\n",
       "      <td>15811049</td>\n",
       "      <td>39.500000</td>\n",
       "      <td>W</td>\n",
       "      <td>10444</td>\n",
       "      <td>225.000000</td>\n",
       "      <td>150.0</td>\n",
       "      <td>mastercard</td>\n",
       "      <td>224.0</td>\n",
       "      <td>...</td>\n",
       "      <td>403.882568</td>\n",
       "      <td>-1</td>\n",
       "      <td>-1</td>\n",
       "      <td>-1</td>\n",
       "      <td>-1</td>\n",
       "      <td>-1</td>\n",
       "      <td>-1</td>\n",
       "      <td>-1</td>\n",
       "      <td>-1</td>\n",
       "      <td>-1</td>\n",
       "    </tr>\n",
       "    <tr>\n",
       "      <th>590537</th>\n",
       "      <td>3577537</td>\n",
       "      <td>0</td>\n",
       "      <td>15811079</td>\n",
       "      <td>30.950001</td>\n",
       "      <td>W</td>\n",
       "      <td>12037</td>\n",
       "      <td>595.000000</td>\n",
       "      <td>150.0</td>\n",
       "      <td>mastercard</td>\n",
       "      <td>224.0</td>\n",
       "      <td>...</td>\n",
       "      <td>403.882568</td>\n",
       "      <td>-1</td>\n",
       "      <td>-1</td>\n",
       "      <td>-1</td>\n",
       "      <td>-1</td>\n",
       "      <td>-1</td>\n",
       "      <td>-1</td>\n",
       "      <td>-1</td>\n",
       "      <td>-1</td>\n",
       "      <td>-1</td>\n",
       "    </tr>\n",
       "    <tr>\n",
       "      <th>590538</th>\n",
       "      <td>3577538</td>\n",
       "      <td>0</td>\n",
       "      <td>15811088</td>\n",
       "      <td>117.000000</td>\n",
       "      <td>W</td>\n",
       "      <td>7826</td>\n",
       "      <td>481.000000</td>\n",
       "      <td>150.0</td>\n",
       "      <td>mastercard</td>\n",
       "      <td>224.0</td>\n",
       "      <td>...</td>\n",
       "      <td>403.882568</td>\n",
       "      <td>-1</td>\n",
       "      <td>-1</td>\n",
       "      <td>-1</td>\n",
       "      <td>-1</td>\n",
       "      <td>-1</td>\n",
       "      <td>-1</td>\n",
       "      <td>-1</td>\n",
       "      <td>-1</td>\n",
       "      <td>-1</td>\n",
       "    </tr>\n",
       "    <tr>\n",
       "      <th>590539</th>\n",
       "      <td>3577539</td>\n",
       "      <td>0</td>\n",
       "      <td>15811131</td>\n",
       "      <td>279.950012</td>\n",
       "      <td>W</td>\n",
       "      <td>15066</td>\n",
       "      <td>170.000000</td>\n",
       "      <td>150.0</td>\n",
       "      <td>mastercard</td>\n",
       "      <td>102.0</td>\n",
       "      <td>...</td>\n",
       "      <td>403.882568</td>\n",
       "      <td>-1</td>\n",
       "      <td>-1</td>\n",
       "      <td>-1</td>\n",
       "      <td>-1</td>\n",
       "      <td>-1</td>\n",
       "      <td>-1</td>\n",
       "      <td>-1</td>\n",
       "      <td>-1</td>\n",
       "      <td>-1</td>\n",
       "    </tr>\n",
       "  </tbody>\n",
       "</table>\n",
       "<p>554118 rows × 360 columns</p>\n",
       "</div>"
      ],
      "text/plain": [
       "        TransactionID  isFraud  TransactionDT  TransactionAmt ProductCD  \\\n",
       "0             2987000        0          86400       68.500000         W   \n",
       "1             2987001        0          86401       29.000000         W   \n",
       "2             2987002        0          86469       59.000000         W   \n",
       "3             2987003        0          86499       50.000000         W   \n",
       "4             2987004        0          86506       50.000000         H   \n",
       "...               ...      ...            ...             ...       ...   \n",
       "590535        3577535        0       15811047       49.000000         W   \n",
       "590536        3577536        0       15811049       39.500000         W   \n",
       "590537        3577537        0       15811079       30.950001         W   \n",
       "590538        3577538        0       15811088      117.000000         W   \n",
       "590539        3577539        0       15811131      279.950012         W   \n",
       "\n",
       "        card1       card2  card3       card4  card5  ...       id_20  id_28  \\\n",
       "0       13926  362.555511  150.0    discover  142.0  ...  403.882568     -1   \n",
       "1        2755  404.000000  150.0  mastercard  102.0  ...  403.882568     -1   \n",
       "2        4663  490.000000  150.0        visa  166.0  ...  403.882568     -1   \n",
       "3       18132  567.000000  150.0  mastercard  117.0  ...  403.882568     -1   \n",
       "4        4497  514.000000  150.0  mastercard  102.0  ...  144.000000    New   \n",
       "...       ...         ...    ...         ...    ...  ...         ...    ...   \n",
       "590535   6550  362.555511  150.0        visa  226.0  ...  403.882568     -1   \n",
       "590536  10444  225.000000  150.0  mastercard  224.0  ...  403.882568     -1   \n",
       "590537  12037  595.000000  150.0  mastercard  224.0  ...  403.882568     -1   \n",
       "590538   7826  481.000000  150.0  mastercard  224.0  ...  403.882568     -1   \n",
       "590539  15066  170.000000  150.0  mastercard  102.0  ...  403.882568     -1   \n",
       "\n",
       "           id_29                id_31 id_35 id_36  id_37  id_38  DeviceType  \\\n",
       "0             -1                   -1    -1    -1     -1     -1          -1   \n",
       "1             -1                   -1    -1    -1     -1     -1          -1   \n",
       "2             -1                   -1    -1    -1     -1     -1          -1   \n",
       "3             -1                   -1    -1    -1     -1     -1          -1   \n",
       "4       NotFound  samsung browser 6.2     T     F      T      T      mobile   \n",
       "...          ...                  ...   ...   ...    ...    ...         ...   \n",
       "590535        -1                   -1    -1    -1     -1     -1          -1   \n",
       "590536        -1                   -1    -1    -1     -1     -1          -1   \n",
       "590537        -1                   -1    -1    -1     -1     -1          -1   \n",
       "590538        -1                   -1    -1    -1     -1     -1          -1   \n",
       "590539        -1                   -1    -1    -1     -1     -1          -1   \n",
       "\n",
       "                           DeviceInfo  \n",
       "0                                  -1  \n",
       "1                                  -1  \n",
       "2                                  -1  \n",
       "3                                  -1  \n",
       "4       SAMSUNG SM-G892A Build/NRD90M  \n",
       "...                               ...  \n",
       "590535                             -1  \n",
       "590536                             -1  \n",
       "590537                             -1  \n",
       "590538                             -1  \n",
       "590539                             -1  \n",
       "\n",
       "[554118 rows x 360 columns]"
      ]
     },
     "execution_count": 45,
     "metadata": {},
     "output_type": "execute_result"
    }
   ],
   "source": [
    "train_df"
   ]
  },
  {
   "cell_type": "markdown",
   "id": "809a65b5",
   "metadata": {
    "papermill": {
     "duration": 0.040993,
     "end_time": "2023-11-07T12:38:07.230193",
     "exception": false,
     "start_time": "2023-11-07T12:38:07.189200",
     "status": "completed"
    },
    "tags": []
   },
   "source": [
    "Построим ещё раз гистограмму распределения поля ```TransactionAmt```"
   ]
  },
  {
   "cell_type": "code",
   "execution_count": 46,
   "id": "61cfd0be",
   "metadata": {
    "execution": {
     "iopub.execute_input": "2023-11-07T12:38:07.311679Z",
     "iopub.status.busy": "2023-11-07T12:38:07.311008Z",
     "iopub.status.idle": "2023-11-07T12:38:07.605438Z",
     "shell.execute_reply": "2023-11-07T12:38:07.604236Z"
    },
    "papermill": {
     "duration": 0.338546,
     "end_time": "2023-11-07T12:38:07.608057",
     "exception": false,
     "start_time": "2023-11-07T12:38:07.269511",
     "status": "completed"
    },
    "tags": []
   },
   "outputs": [
    {
     "data": {
      "image/png": "[encoded data removed]",
      "text/plain": [
       "<Figure size 800x800 with 1 Axes>"
      ]
     },
     "metadata": {},
     "output_type": "display_data"
    }
   ],
   "source": [
    "plt_hist(train_df, 'TransactionAmt', bins=20)"
   ]
  },
  {
   "cell_type": "markdown",
   "id": "a68b6ba3",
   "metadata": {
    "papermill": {
     "duration": 0.04027,
     "end_time": "2023-11-07T12:38:07.688603",
     "exception": false,
     "start_time": "2023-11-07T12:38:07.648333",
     "status": "completed"
    },
    "tags": []
   },
   "source": [
    "Также ещё раз построим ```boxplot```, чтобы убедиться в отсутствии выбросов"
   ]
  },
  {
   "cell_type": "code",
   "execution_count": 47,
   "id": "4d84d0e4",
   "metadata": {
    "execution": {
     "iopub.execute_input": "2023-11-07T12:38:07.772364Z",
     "iopub.status.busy": "2023-11-07T12:38:07.771952Z",
     "iopub.status.idle": "2023-11-07T12:38:08.068574Z",
     "shell.execute_reply": "2023-11-07T12:38:08.067279Z"
    },
    "papermill": {
     "duration": 0.341313,
     "end_time": "2023-11-07T12:38:08.071571",
     "exception": false,
     "start_time": "2023-11-07T12:38:07.730258",
     "status": "completed"
    },
    "tags": []
   },
   "outputs": [
    {
     "data": {
      "image/png": "[encoded data removed]",
      "text/plain": [
       "<Figure size 1000x300 with 1 Axes>"
      ]
     },
     "metadata": {},
     "output_type": "display_data"
    }
   ],
   "source": [
    "plt_boxplot(train_df, 'TransactionAmt')"
   ]
  },
  {
   "cell_type": "markdown",
   "id": "a085a7e6",
   "metadata": {
    "papermill": {
     "duration": 0.040245,
     "end_time": "2023-11-07T12:38:08.152898",
     "exception": false,
     "start_time": "2023-11-07T12:38:08.112653",
     "status": "completed"
    },
    "tags": []
   },
   "source": [
    "Посмотрим на распределение ```TransactionAmt``` на **тестовом датасете**:"
   ]
  },
  {
   "cell_type": "code",
   "execution_count": 48,
   "id": "a36229e1",
   "metadata": {
    "execution": {
     "iopub.execute_input": "2023-11-07T12:38:08.236656Z",
     "iopub.status.busy": "2023-11-07T12:38:08.236222Z",
     "iopub.status.idle": "2023-11-07T12:38:08.777442Z",
     "shell.execute_reply": "2023-11-07T12:38:08.776530Z"
    },
    "papermill": {
     "duration": 0.586082,
     "end_time": "2023-11-07T12:38:08.779633",
     "exception": false,
     "start_time": "2023-11-07T12:38:08.193551",
     "status": "completed"
    },
    "tags": []
   },
   "outputs": [
    {
     "data": {
      "image/png": "[encoded data removed]",
      "text/plain": [
       "<Figure size 800x800 with 1 Axes>"
      ]
     },
     "metadata": {},
     "output_type": "display_data"
    }
   ],
   "source": [
    "plt_hist(test_df, 'TransactionAmt')"
   ]
  },
  {
   "cell_type": "code",
   "execution_count": 49,
   "id": "7e84707e",
   "metadata": {
    "execution": {
     "iopub.execute_input": "2023-11-07T12:38:08.863279Z",
     "iopub.status.busy": "2023-11-07T12:38:08.862330Z",
     "iopub.status.idle": "2023-11-07T12:38:09.199636Z",
     "shell.execute_reply": "2023-11-07T12:38:09.198453Z"
    },
    "papermill": {
     "duration": 0.382146,
     "end_time": "2023-11-07T12:38:09.202397",
     "exception": false,
     "start_time": "2023-11-07T12:38:08.820251",
     "status": "completed"
    },
    "tags": []
   },
   "outputs": [
    {
     "data": {
      "image/png": "[encoded data removed]",
      "text/plain": [
       "<Figure size 1000x300 with 1 Axes>"
      ]
     },
     "metadata": {},
     "output_type": "display_data"
    }
   ],
   "source": [
    "plt_boxplot(test_df, 'TransactionAmt')"
   ]
  },
  {
   "cell_type": "markdown",
   "id": "edbeabe0",
   "metadata": {
    "papermill": {
     "duration": 0.042484,
     "end_time": "2023-11-07T12:38:09.287117",
     "exception": false,
     "start_time": "2023-11-07T12:38:09.244633",
     "status": "completed"
    },
    "tags": []
   },
   "source": [
    "Аналогично очистим тестовый датасет от выбросов признака ```TransactionAMT```"
   ]
  },
  {
   "cell_type": "code",
   "execution_count": 50,
   "id": "79af3056",
   "metadata": {
    "execution": {
     "iopub.execute_input": "2023-11-07T12:38:09.375120Z",
     "iopub.status.busy": "2023-11-07T12:38:09.374451Z",
     "iopub.status.idle": "2023-11-07T12:38:11.087546Z",
     "shell.execute_reply": "2023-11-07T12:38:11.086188Z"
    },
    "papermill": {
     "duration": 1.761799,
     "end_time": "2023-11-07T12:38:11.090814",
     "exception": false,
     "start_time": "2023-11-07T12:38:09.329015",
     "status": "completed"
    },
    "tags": []
   },
   "outputs": [
    {
     "data": {
      "text/plain": [
       "(476384, 359)"
      ]
     },
     "execution_count": 50,
     "metadata": {},
     "output_type": "execute_result"
    }
   ],
   "source": [
    "test_df = data_without_feat_emsns(test_df, 'TransactionAmt')\n",
    "test_df.shape"
   ]
  },
  {
   "cell_type": "markdown",
   "id": "dc541562",
   "metadata": {
    "papermill": {
     "duration": 0.045898,
     "end_time": "2023-11-07T12:38:11.183062",
     "exception": false,
     "start_time": "2023-11-07T12:38:11.137164",
     "status": "completed"
    },
    "tags": []
   },
   "source": [
    "Построим гистограмму распределения и диаграмму размаха платежей для тестового датасета после очистки данных от выбросов"
   ]
  },
  {
   "cell_type": "code",
   "execution_count": 51,
   "id": "5c36b106",
   "metadata": {
    "execution": {
     "iopub.execute_input": "2023-11-07T12:38:11.277467Z",
     "iopub.status.busy": "2023-11-07T12:38:11.276752Z",
     "iopub.status.idle": "2023-11-07T12:38:11.643881Z",
     "shell.execute_reply": "2023-11-07T12:38:11.643001Z"
    },
    "papermill": {
     "duration": 0.417271,
     "end_time": "2023-11-07T12:38:11.646162",
     "exception": false,
     "start_time": "2023-11-07T12:38:11.228891",
     "status": "completed"
    },
    "tags": []
   },
   "outputs": [
    {
     "data": {
      "image/png": "[encoded data removed]",
      "text/plain": [
       "<Figure size 800x800 with 1 Axes>"
      ]
     },
     "metadata": {},
     "output_type": "display_data"
    }
   ],
   "source": [
    "plt_hist(test_df, 'TransactionAmt', bins=20)"
   ]
  },
  {
   "cell_type": "code",
   "execution_count": 52,
   "id": "039f4d82",
   "metadata": {
    "execution": {
     "iopub.execute_input": "2023-11-07T12:38:11.733581Z",
     "iopub.status.busy": "2023-11-07T12:38:11.732898Z",
     "iopub.status.idle": "2023-11-07T12:38:11.971777Z",
     "shell.execute_reply": "2023-11-07T12:38:11.970937Z"
    },
    "papermill": {
     "duration": 0.285273,
     "end_time": "2023-11-07T12:38:11.974199",
     "exception": false,
     "start_time": "2023-11-07T12:38:11.688926",
     "status": "completed"
    },
    "tags": []
   },
   "outputs": [
    {
     "data": {
      "image/png": "[encoded data removed]",
      "text/plain": [
       "<Figure size 1000x300 with 1 Axes>"
      ]
     },
     "metadata": {},
     "output_type": "display_data"
    }
   ],
   "source": [
    "plt_boxplot(test_df, 'TransactionAmt')"
   ]
  },
  {
   "cell_type": "markdown",
   "id": "328ea5bb",
   "metadata": {
    "papermill": {
     "duration": 0.043373,
     "end_time": "2023-11-07T12:38:12.060606",
     "exception": false,
     "start_time": "2023-11-07T12:38:12.017233",
     "status": "completed"
    },
    "tags": []
   },
   "source": [
    "Используя ```Label Encoder``` преорабразуем категориальные признаки в числа"
   ]
  },
  {
   "cell_type": "code",
   "execution_count": 53,
   "id": "583a8370",
   "metadata": {
    "execution": {
     "iopub.execute_input": "2023-11-07T12:38:12.147505Z",
     "iopub.status.busy": "2023-11-07T12:38:12.146870Z",
     "iopub.status.idle": "2023-11-07T12:38:41.537768Z",
     "shell.execute_reply": "2023-11-07T12:38:41.536427Z"
    },
    "papermill": {
     "duration": 29.437627,
     "end_time": "2023-11-07T12:38:41.540670",
     "exception": false,
     "start_time": "2023-11-07T12:38:12.103043",
     "status": "completed"
    },
    "tags": []
   },
   "outputs": [],
   "source": [
    "for f in train_df.columns:\n",
    "    if train_df.loc[:, f].dtype=='object':\n",
    "        le = LabelEncoder()\n",
    "        le.fit(list(train_df.loc[:, f].values))\n",
    "        train_df.loc[:, f] = le.transform(list(train_df.loc[:, f].values))"
   ]
  },
  {
   "cell_type": "markdown",
   "id": "84de4c9a",
   "metadata": {
    "papermill": {
     "duration": 0.04187,
     "end_time": "2023-11-07T12:38:41.626178",
     "exception": false,
     "start_time": "2023-11-07T12:38:41.584308",
     "status": "completed"
    },
    "tags": []
   },
   "source": [
    "Используя ```Label Encoder``` преорабразуем категориальные признаки в числа"
   ]
  },
  {
   "cell_type": "code",
   "execution_count": 54,
   "id": "392849fe",
   "metadata": {
    "execution": {
     "iopub.execute_input": "2023-11-07T12:38:41.714044Z",
     "iopub.status.busy": "2023-11-07T12:38:41.712546Z",
     "iopub.status.idle": "2023-11-07T12:39:06.863575Z",
     "shell.execute_reply": "2023-11-07T12:39:06.862267Z"
    },
    "papermill": {
     "duration": 25.197609,
     "end_time": "2023-11-07T12:39:06.866569",
     "exception": false,
     "start_time": "2023-11-07T12:38:41.668960",
     "status": "completed"
    },
    "tags": []
   },
   "outputs": [],
   "source": [
    "for f in test_df.columns:\n",
    "    if test_df.loc[:, f].dtype=='object':\n",
    "        le = LabelEncoder()\n",
    "        le.fit(list(test_df.loc[:, f].values))\n",
    "        test_df.loc[:, f] = le.transform(list(test_df.loc[:, f].values))"
   ]
  },
  {
   "cell_type": "markdown",
   "id": "3997df65",
   "metadata": {
    "papermill": {
     "duration": 0.043169,
     "end_time": "2023-11-07T12:39:06.953451",
     "exception": false,
     "start_time": "2023-11-07T12:39:06.910282",
     "status": "completed"
    },
    "tags": []
   },
   "source": [
    "Посмотрим на категориальные признаки в датасетах после преобразований"
   ]
  },
  {
   "cell_type": "code",
   "execution_count": 55,
   "id": "9d3a8a07",
   "metadata": {
    "execution": {
     "iopub.execute_input": "2023-11-07T12:39:07.043553Z",
     "iopub.status.busy": "2023-11-07T12:39:07.042325Z",
     "iopub.status.idle": "2023-11-07T12:39:07.815663Z",
     "shell.execute_reply": "2023-11-07T12:39:07.814319Z"
    },
    "papermill": {
     "duration": 0.821689,
     "end_time": "2023-11-07T12:39:07.818351",
     "exception": false,
     "start_time": "2023-11-07T12:39:06.996662",
     "status": "completed"
    },
    "tags": []
   },
   "outputs": [
    {
     "data": {
      "text/html": [
       "<div>\n",
       "<style scoped>\n",
       "    .dataframe tbody tr th:only-of-type {\n",
       "        vertical-align: middle;\n",
       "    }\n",
       "\n",
       "    .dataframe tbody tr th {\n",
       "        vertical-align: top;\n",
       "    }\n",
       "\n",
       "    .dataframe thead th {\n",
       "        text-align: right;\n",
       "    }\n",
       "</style>\n",
       "<table border=\"1\" class=\"dataframe\">\n",
       "  <thead>\n",
       "    <tr style=\"text-align: right;\">\n",
       "      <th></th>\n",
       "      <th>ProductCD</th>\n",
       "      <th>card4</th>\n",
       "      <th>card6</th>\n",
       "      <th>P_emaildomain</th>\n",
       "      <th>R_emaildomain</th>\n",
       "      <th>M1</th>\n",
       "      <th>M2</th>\n",
       "      <th>M3</th>\n",
       "      <th>M4</th>\n",
       "      <th>M5</th>\n",
       "      <th>...</th>\n",
       "      <th>id_16</th>\n",
       "      <th>id_28</th>\n",
       "      <th>id_29</th>\n",
       "      <th>id_31</th>\n",
       "      <th>id_35</th>\n",
       "      <th>id_36</th>\n",
       "      <th>id_37</th>\n",
       "      <th>id_38</th>\n",
       "      <th>DeviceType</th>\n",
       "      <th>DeviceInfo</th>\n",
       "    </tr>\n",
       "  </thead>\n",
       "  <tbody>\n",
       "    <tr>\n",
       "      <th>0</th>\n",
       "      <td>4</td>\n",
       "      <td>2</td>\n",
       "      <td>2</td>\n",
       "      <td>0</td>\n",
       "      <td>0</td>\n",
       "      <td>2</td>\n",
       "      <td>2</td>\n",
       "      <td>2</td>\n",
       "      <td>3</td>\n",
       "      <td>1</td>\n",
       "      <td>...</td>\n",
       "      <td>0</td>\n",
       "      <td>0</td>\n",
       "      <td>0</td>\n",
       "      <td>0</td>\n",
       "      <td>0</td>\n",
       "      <td>0</td>\n",
       "      <td>0</td>\n",
       "      <td>0</td>\n",
       "      <td>0</td>\n",
       "      <td>0</td>\n",
       "    </tr>\n",
       "    <tr>\n",
       "      <th>1</th>\n",
       "      <td>4</td>\n",
       "      <td>3</td>\n",
       "      <td>2</td>\n",
       "      <td>17</td>\n",
       "      <td>0</td>\n",
       "      <td>0</td>\n",
       "      <td>0</td>\n",
       "      <td>0</td>\n",
       "      <td>1</td>\n",
       "      <td>2</td>\n",
       "      <td>...</td>\n",
       "      <td>0</td>\n",
       "      <td>0</td>\n",
       "      <td>0</td>\n",
       "      <td>0</td>\n",
       "      <td>0</td>\n",
       "      <td>0</td>\n",
       "      <td>0</td>\n",
       "      <td>0</td>\n",
       "      <td>0</td>\n",
       "      <td>0</td>\n",
       "    </tr>\n",
       "    <tr>\n",
       "      <th>2</th>\n",
       "      <td>4</td>\n",
       "      <td>4</td>\n",
       "      <td>3</td>\n",
       "      <td>36</td>\n",
       "      <td>0</td>\n",
       "      <td>2</td>\n",
       "      <td>2</td>\n",
       "      <td>2</td>\n",
       "      <td>1</td>\n",
       "      <td>1</td>\n",
       "      <td>...</td>\n",
       "      <td>0</td>\n",
       "      <td>0</td>\n",
       "      <td>0</td>\n",
       "      <td>0</td>\n",
       "      <td>0</td>\n",
       "      <td>0</td>\n",
       "      <td>0</td>\n",
       "      <td>0</td>\n",
       "      <td>0</td>\n",
       "      <td>0</td>\n",
       "    </tr>\n",
       "    <tr>\n",
       "      <th>3</th>\n",
       "      <td>4</td>\n",
       "      <td>3</td>\n",
       "      <td>3</td>\n",
       "      <td>54</td>\n",
       "      <td>0</td>\n",
       "      <td>0</td>\n",
       "      <td>0</td>\n",
       "      <td>0</td>\n",
       "      <td>1</td>\n",
       "      <td>2</td>\n",
       "      <td>...</td>\n",
       "      <td>0</td>\n",
       "      <td>0</td>\n",
       "      <td>0</td>\n",
       "      <td>0</td>\n",
       "      <td>0</td>\n",
       "      <td>0</td>\n",
       "      <td>0</td>\n",
       "      <td>0</td>\n",
       "      <td>0</td>\n",
       "      <td>0</td>\n",
       "    </tr>\n",
       "    <tr>\n",
       "      <th>4</th>\n",
       "      <td>1</td>\n",
       "      <td>3</td>\n",
       "      <td>2</td>\n",
       "      <td>17</td>\n",
       "      <td>0</td>\n",
       "      <td>0</td>\n",
       "      <td>0</td>\n",
       "      <td>0</td>\n",
       "      <td>0</td>\n",
       "      <td>0</td>\n",
       "      <td>...</td>\n",
       "      <td>2</td>\n",
       "      <td>2</td>\n",
       "      <td>2</td>\n",
       "      <td>124</td>\n",
       "      <td>2</td>\n",
       "      <td>1</td>\n",
       "      <td>2</td>\n",
       "      <td>2</td>\n",
       "      <td>2</td>\n",
       "      <td>954</td>\n",
       "    </tr>\n",
       "    <tr>\n",
       "      <th>...</th>\n",
       "      <td>...</td>\n",
       "      <td>...</td>\n",
       "      <td>...</td>\n",
       "      <td>...</td>\n",
       "      <td>...</td>\n",
       "      <td>...</td>\n",
       "      <td>...</td>\n",
       "      <td>...</td>\n",
       "      <td>...</td>\n",
       "      <td>...</td>\n",
       "      <td>...</td>\n",
       "      <td>...</td>\n",
       "      <td>...</td>\n",
       "      <td>...</td>\n",
       "      <td>...</td>\n",
       "      <td>...</td>\n",
       "      <td>...</td>\n",
       "      <td>...</td>\n",
       "      <td>...</td>\n",
       "      <td>...</td>\n",
       "      <td>...</td>\n",
       "    </tr>\n",
       "    <tr>\n",
       "      <th>590535</th>\n",
       "      <td>4</td>\n",
       "      <td>4</td>\n",
       "      <td>3</td>\n",
       "      <td>0</td>\n",
       "      <td>0</td>\n",
       "      <td>2</td>\n",
       "      <td>2</td>\n",
       "      <td>2</td>\n",
       "      <td>1</td>\n",
       "      <td>2</td>\n",
       "      <td>...</td>\n",
       "      <td>0</td>\n",
       "      <td>0</td>\n",
       "      <td>0</td>\n",
       "      <td>0</td>\n",
       "      <td>0</td>\n",
       "      <td>0</td>\n",
       "      <td>0</td>\n",
       "      <td>0</td>\n",
       "      <td>0</td>\n",
       "      <td>0</td>\n",
       "    </tr>\n",
       "    <tr>\n",
       "      <th>590536</th>\n",
       "      <td>4</td>\n",
       "      <td>3</td>\n",
       "      <td>3</td>\n",
       "      <td>17</td>\n",
       "      <td>0</td>\n",
       "      <td>2</td>\n",
       "      <td>1</td>\n",
       "      <td>1</td>\n",
       "      <td>1</td>\n",
       "      <td>1</td>\n",
       "      <td>...</td>\n",
       "      <td>0</td>\n",
       "      <td>0</td>\n",
       "      <td>0</td>\n",
       "      <td>0</td>\n",
       "      <td>0</td>\n",
       "      <td>0</td>\n",
       "      <td>0</td>\n",
       "      <td>0</td>\n",
       "      <td>0</td>\n",
       "      <td>0</td>\n",
       "    </tr>\n",
       "    <tr>\n",
       "      <th>590537</th>\n",
       "      <td>4</td>\n",
       "      <td>3</td>\n",
       "      <td>3</td>\n",
       "      <td>17</td>\n",
       "      <td>0</td>\n",
       "      <td>2</td>\n",
       "      <td>1</td>\n",
       "      <td>1</td>\n",
       "      <td>0</td>\n",
       "      <td>0</td>\n",
       "      <td>...</td>\n",
       "      <td>0</td>\n",
       "      <td>0</td>\n",
       "      <td>0</td>\n",
       "      <td>0</td>\n",
       "      <td>0</td>\n",
       "      <td>0</td>\n",
       "      <td>0</td>\n",
       "      <td>0</td>\n",
       "      <td>0</td>\n",
       "      <td>0</td>\n",
       "    </tr>\n",
       "    <tr>\n",
       "      <th>590538</th>\n",
       "      <td>4</td>\n",
       "      <td>3</td>\n",
       "      <td>3</td>\n",
       "      <td>3</td>\n",
       "      <td>0</td>\n",
       "      <td>2</td>\n",
       "      <td>2</td>\n",
       "      <td>2</td>\n",
       "      <td>1</td>\n",
       "      <td>1</td>\n",
       "      <td>...</td>\n",
       "      <td>0</td>\n",
       "      <td>0</td>\n",
       "      <td>0</td>\n",
       "      <td>0</td>\n",
       "      <td>0</td>\n",
       "      <td>0</td>\n",
       "      <td>0</td>\n",
       "      <td>0</td>\n",
       "      <td>0</td>\n",
       "      <td>0</td>\n",
       "    </tr>\n",
       "    <tr>\n",
       "      <th>590539</th>\n",
       "      <td>4</td>\n",
       "      <td>3</td>\n",
       "      <td>2</td>\n",
       "      <td>17</td>\n",
       "      <td>0</td>\n",
       "      <td>2</td>\n",
       "      <td>1</td>\n",
       "      <td>1</td>\n",
       "      <td>0</td>\n",
       "      <td>0</td>\n",
       "      <td>...</td>\n",
       "      <td>0</td>\n",
       "      <td>0</td>\n",
       "      <td>0</td>\n",
       "      <td>0</td>\n",
       "      <td>0</td>\n",
       "      <td>0</td>\n",
       "      <td>0</td>\n",
       "      <td>0</td>\n",
       "      <td>0</td>\n",
       "      <td>0</td>\n",
       "    </tr>\n",
       "  </tbody>\n",
       "</table>\n",
       "<p>554118 rows × 26 columns</p>\n",
       "</div>"
      ],
      "text/plain": [
       "       ProductCD card4 card6 P_emaildomain R_emaildomain M1 M2 M3 M4 M5  ...  \\\n",
       "0              4     2     2             0             0  2  2  2  3  1  ...   \n",
       "1              4     3     2            17             0  0  0  0  1  2  ...   \n",
       "2              4     4     3            36             0  2  2  2  1  1  ...   \n",
       "3              4     3     3            54             0  0  0  0  1  2  ...   \n",
       "4              1     3     2            17             0  0  0  0  0  0  ...   \n",
       "...          ...   ...   ...           ...           ... .. .. .. .. ..  ...   \n",
       "590535         4     4     3             0             0  2  2  2  1  2  ...   \n",
       "590536         4     3     3            17             0  2  1  1  1  1  ...   \n",
       "590537         4     3     3            17             0  2  1  1  0  0  ...   \n",
       "590538         4     3     3             3             0  2  2  2  1  1  ...   \n",
       "590539         4     3     2            17             0  2  1  1  0  0  ...   \n",
       "\n",
       "       id_16 id_28 id_29 id_31 id_35 id_36 id_37 id_38 DeviceType DeviceInfo  \n",
       "0          0     0     0     0     0     0     0     0          0          0  \n",
       "1          0     0     0     0     0     0     0     0          0          0  \n",
       "2          0     0     0     0     0     0     0     0          0          0  \n",
       "3          0     0     0     0     0     0     0     0          0          0  \n",
       "4          2     2     2   124     2     1     2     2          2        954  \n",
       "...      ...   ...   ...   ...   ...   ...   ...   ...        ...        ...  \n",
       "590535     0     0     0     0     0     0     0     0          0          0  \n",
       "590536     0     0     0     0     0     0     0     0          0          0  \n",
       "590537     0     0     0     0     0     0     0     0          0          0  \n",
       "590538     0     0     0     0     0     0     0     0          0          0  \n",
       "590539     0     0     0     0     0     0     0     0          0          0  \n",
       "\n",
       "[554118 rows x 26 columns]"
      ]
     },
     "execution_count": 55,
     "metadata": {},
     "output_type": "execute_result"
    }
   ],
   "source": [
    "train_df[cat_features]"
   ]
  },
  {
   "cell_type": "code",
   "execution_count": 56,
   "id": "e2550b0c",
   "metadata": {
    "execution": {
     "iopub.execute_input": "2023-11-07T12:39:07.908738Z",
     "iopub.status.busy": "2023-11-07T12:39:07.908327Z",
     "iopub.status.idle": "2023-11-07T12:39:08.693535Z",
     "shell.execute_reply": "2023-11-07T12:39:08.692085Z"
    },
    "papermill": {
     "duration": 0.834297,
     "end_time": "2023-11-07T12:39:08.696619",
     "exception": false,
     "start_time": "2023-11-07T12:39:07.862322",
     "status": "completed"
    },
    "tags": []
   },
   "outputs": [
    {
     "data": {
      "text/html": [
       "<div>\n",
       "<style scoped>\n",
       "    .dataframe tbody tr th:only-of-type {\n",
       "        vertical-align: middle;\n",
       "    }\n",
       "\n",
       "    .dataframe tbody tr th {\n",
       "        vertical-align: top;\n",
       "    }\n",
       "\n",
       "    .dataframe thead th {\n",
       "        text-align: right;\n",
       "    }\n",
       "</style>\n",
       "<table border=\"1\" class=\"dataframe\">\n",
       "  <thead>\n",
       "    <tr style=\"text-align: right;\">\n",
       "      <th></th>\n",
       "      <th>ProductCD</th>\n",
       "      <th>card4</th>\n",
       "      <th>card6</th>\n",
       "      <th>P_emaildomain</th>\n",
       "      <th>R_emaildomain</th>\n",
       "      <th>M1</th>\n",
       "      <th>M2</th>\n",
       "      <th>M3</th>\n",
       "      <th>M4</th>\n",
       "      <th>M5</th>\n",
       "      <th>...</th>\n",
       "      <th>id_16</th>\n",
       "      <th>id_28</th>\n",
       "      <th>id_29</th>\n",
       "      <th>id_31</th>\n",
       "      <th>id_35</th>\n",
       "      <th>id_36</th>\n",
       "      <th>id_37</th>\n",
       "      <th>id_38</th>\n",
       "      <th>DeviceType</th>\n",
       "      <th>DeviceInfo</th>\n",
       "    </tr>\n",
       "  </thead>\n",
       "  <tbody>\n",
       "    <tr>\n",
       "      <th>0</th>\n",
       "      <td>4</td>\n",
       "      <td>4</td>\n",
       "      <td>3</td>\n",
       "      <td>17</td>\n",
       "      <td>0</td>\n",
       "      <td>2</td>\n",
       "      <td>2</td>\n",
       "      <td>1</td>\n",
       "      <td>0</td>\n",
       "      <td>0</td>\n",
       "      <td>...</td>\n",
       "      <td>0</td>\n",
       "      <td>0</td>\n",
       "      <td>0</td>\n",
       "      <td>0</td>\n",
       "      <td>0</td>\n",
       "      <td>0</td>\n",
       "      <td>0</td>\n",
       "      <td>0</td>\n",
       "      <td>0</td>\n",
       "      <td>0</td>\n",
       "    </tr>\n",
       "    <tr>\n",
       "      <th>1</th>\n",
       "      <td>4</td>\n",
       "      <td>4</td>\n",
       "      <td>3</td>\n",
       "      <td>3</td>\n",
       "      <td>0</td>\n",
       "      <td>2</td>\n",
       "      <td>1</td>\n",
       "      <td>1</td>\n",
       "      <td>1</td>\n",
       "      <td>0</td>\n",
       "      <td>...</td>\n",
       "      <td>0</td>\n",
       "      <td>0</td>\n",
       "      <td>0</td>\n",
       "      <td>0</td>\n",
       "      <td>0</td>\n",
       "      <td>0</td>\n",
       "      <td>0</td>\n",
       "      <td>0</td>\n",
       "      <td>0</td>\n",
       "      <td>0</td>\n",
       "    </tr>\n",
       "    <tr>\n",
       "      <th>2</th>\n",
       "      <td>4</td>\n",
       "      <td>4</td>\n",
       "      <td>3</td>\n",
       "      <td>20</td>\n",
       "      <td>0</td>\n",
       "      <td>2</td>\n",
       "      <td>2</td>\n",
       "      <td>1</td>\n",
       "      <td>1</td>\n",
       "      <td>1</td>\n",
       "      <td>...</td>\n",
       "      <td>0</td>\n",
       "      <td>0</td>\n",
       "      <td>0</td>\n",
       "      <td>0</td>\n",
       "      <td>0</td>\n",
       "      <td>0</td>\n",
       "      <td>0</td>\n",
       "      <td>0</td>\n",
       "      <td>0</td>\n",
       "      <td>0</td>\n",
       "    </tr>\n",
       "    <tr>\n",
       "      <th>3</th>\n",
       "      <td>4</td>\n",
       "      <td>4</td>\n",
       "      <td>3</td>\n",
       "      <td>17</td>\n",
       "      <td>0</td>\n",
       "      <td>2</td>\n",
       "      <td>2</td>\n",
       "      <td>2</td>\n",
       "      <td>0</td>\n",
       "      <td>0</td>\n",
       "      <td>...</td>\n",
       "      <td>0</td>\n",
       "      <td>0</td>\n",
       "      <td>0</td>\n",
       "      <td>0</td>\n",
       "      <td>0</td>\n",
       "      <td>0</td>\n",
       "      <td>0</td>\n",
       "      <td>0</td>\n",
       "      <td>0</td>\n",
       "      <td>0</td>\n",
       "    </tr>\n",
       "    <tr>\n",
       "      <th>4</th>\n",
       "      <td>4</td>\n",
       "      <td>3</td>\n",
       "      <td>3</td>\n",
       "      <td>17</td>\n",
       "      <td>0</td>\n",
       "      <td>2</td>\n",
       "      <td>2</td>\n",
       "      <td>2</td>\n",
       "      <td>0</td>\n",
       "      <td>0</td>\n",
       "      <td>...</td>\n",
       "      <td>0</td>\n",
       "      <td>0</td>\n",
       "      <td>0</td>\n",
       "      <td>0</td>\n",
       "      <td>0</td>\n",
       "      <td>0</td>\n",
       "      <td>0</td>\n",
       "      <td>0</td>\n",
       "      <td>0</td>\n",
       "      <td>0</td>\n",
       "    </tr>\n",
       "    <tr>\n",
       "      <th>...</th>\n",
       "      <td>...</td>\n",
       "      <td>...</td>\n",
       "      <td>...</td>\n",
       "      <td>...</td>\n",
       "      <td>...</td>\n",
       "      <td>...</td>\n",
       "      <td>...</td>\n",
       "      <td>...</td>\n",
       "      <td>...</td>\n",
       "      <td>...</td>\n",
       "      <td>...</td>\n",
       "      <td>...</td>\n",
       "      <td>...</td>\n",
       "      <td>...</td>\n",
       "      <td>...</td>\n",
       "      <td>...</td>\n",
       "      <td>...</td>\n",
       "      <td>...</td>\n",
       "      <td>...</td>\n",
       "      <td>...</td>\n",
       "      <td>...</td>\n",
       "    </tr>\n",
       "    <tr>\n",
       "      <th>506686</th>\n",
       "      <td>0</td>\n",
       "      <td>3</td>\n",
       "      <td>3</td>\n",
       "      <td>17</td>\n",
       "      <td>17</td>\n",
       "      <td>0</td>\n",
       "      <td>0</td>\n",
       "      <td>0</td>\n",
       "      <td>3</td>\n",
       "      <td>0</td>\n",
       "      <td>...</td>\n",
       "      <td>0</td>\n",
       "      <td>0</td>\n",
       "      <td>0</td>\n",
       "      <td>0</td>\n",
       "      <td>0</td>\n",
       "      <td>0</td>\n",
       "      <td>0</td>\n",
       "      <td>0</td>\n",
       "      <td>0</td>\n",
       "      <td>0</td>\n",
       "    </tr>\n",
       "    <tr>\n",
       "      <th>506687</th>\n",
       "      <td>0</td>\n",
       "      <td>3</td>\n",
       "      <td>3</td>\n",
       "      <td>20</td>\n",
       "      <td>20</td>\n",
       "      <td>0</td>\n",
       "      <td>0</td>\n",
       "      <td>0</td>\n",
       "      <td>3</td>\n",
       "      <td>0</td>\n",
       "      <td>...</td>\n",
       "      <td>2</td>\n",
       "      <td>2</td>\n",
       "      <td>2</td>\n",
       "      <td>6</td>\n",
       "      <td>1</td>\n",
       "      <td>1</td>\n",
       "      <td>2</td>\n",
       "      <td>1</td>\n",
       "      <td>2</td>\n",
       "      <td>107</td>\n",
       "    </tr>\n",
       "    <tr>\n",
       "      <th>506688</th>\n",
       "      <td>4</td>\n",
       "      <td>4</td>\n",
       "      <td>3</td>\n",
       "      <td>20</td>\n",
       "      <td>0</td>\n",
       "      <td>2</td>\n",
       "      <td>2</td>\n",
       "      <td>2</td>\n",
       "      <td>1</td>\n",
       "      <td>1</td>\n",
       "      <td>...</td>\n",
       "      <td>0</td>\n",
       "      <td>0</td>\n",
       "      <td>0</td>\n",
       "      <td>0</td>\n",
       "      <td>0</td>\n",
       "      <td>0</td>\n",
       "      <td>0</td>\n",
       "      <td>0</td>\n",
       "      <td>0</td>\n",
       "      <td>0</td>\n",
       "    </tr>\n",
       "    <tr>\n",
       "      <th>506689</th>\n",
       "      <td>4</td>\n",
       "      <td>3</td>\n",
       "      <td>3</td>\n",
       "      <td>20</td>\n",
       "      <td>0</td>\n",
       "      <td>2</td>\n",
       "      <td>2</td>\n",
       "      <td>2</td>\n",
       "      <td>1</td>\n",
       "      <td>1</td>\n",
       "      <td>...</td>\n",
       "      <td>0</td>\n",
       "      <td>0</td>\n",
       "      <td>0</td>\n",
       "      <td>0</td>\n",
       "      <td>0</td>\n",
       "      <td>0</td>\n",
       "      <td>0</td>\n",
       "      <td>0</td>\n",
       "      <td>0</td>\n",
       "      <td>0</td>\n",
       "    </tr>\n",
       "    <tr>\n",
       "      <th>506690</th>\n",
       "      <td>0</td>\n",
       "      <td>4</td>\n",
       "      <td>2</td>\n",
       "      <td>20</td>\n",
       "      <td>20</td>\n",
       "      <td>0</td>\n",
       "      <td>0</td>\n",
       "      <td>0</td>\n",
       "      <td>3</td>\n",
       "      <td>0</td>\n",
       "      <td>...</td>\n",
       "      <td>1</td>\n",
       "      <td>1</td>\n",
       "      <td>1</td>\n",
       "      <td>134</td>\n",
       "      <td>1</td>\n",
       "      <td>1</td>\n",
       "      <td>2</td>\n",
       "      <td>1</td>\n",
       "      <td>2</td>\n",
       "      <td>1207</td>\n",
       "    </tr>\n",
       "  </tbody>\n",
       "</table>\n",
       "<p>476384 rows × 26 columns</p>\n",
       "</div>"
      ],
      "text/plain": [
       "       ProductCD card4 card6 P_emaildomain R_emaildomain M1 M2 M3 M4 M5  ...  \\\n",
       "0              4     4     3            17             0  2  2  1  0  0  ...   \n",
       "1              4     4     3             3             0  2  1  1  1  0  ...   \n",
       "2              4     4     3            20             0  2  2  1  1  1  ...   \n",
       "3              4     4     3            17             0  2  2  2  0  0  ...   \n",
       "4              4     3     3            17             0  2  2  2  0  0  ...   \n",
       "...          ...   ...   ...           ...           ... .. .. .. .. ..  ...   \n",
       "506686         0     3     3            17            17  0  0  0  3  0  ...   \n",
       "506687         0     3     3            20            20  0  0  0  3  0  ...   \n",
       "506688         4     4     3            20             0  2  2  2  1  1  ...   \n",
       "506689         4     3     3            20             0  2  2  2  1  1  ...   \n",
       "506690         0     4     2            20            20  0  0  0  3  0  ...   \n",
       "\n",
       "       id_16 id_28 id_29 id_31 id_35 id_36 id_37 id_38 DeviceType DeviceInfo  \n",
       "0          0     0     0     0     0     0     0     0          0          0  \n",
       "1          0     0     0     0     0     0     0     0          0          0  \n",
       "2          0     0     0     0     0     0     0     0          0          0  \n",
       "3          0     0     0     0     0     0     0     0          0          0  \n",
       "4          0     0     0     0     0     0     0     0          0          0  \n",
       "...      ...   ...   ...   ...   ...   ...   ...   ...        ...        ...  \n",
       "506686     0     0     0     0     0     0     0     0          0          0  \n",
       "506687     2     2     2     6     1     1     2     1          2        107  \n",
       "506688     0     0     0     0     0     0     0     0          0          0  \n",
       "506689     0     0     0     0     0     0     0     0          0          0  \n",
       "506690     1     1     1   134     1     1     2     1          2       1207  \n",
       "\n",
       "[476384 rows x 26 columns]"
      ]
     },
     "execution_count": 56,
     "metadata": {},
     "output_type": "execute_result"
    }
   ],
   "source": [
    "test_df[cat_features]"
   ]
  },
  {
   "cell_type": "markdown",
   "id": "61ec68a5",
   "metadata": {
    "papermill": {
     "duration": 0.044397,
     "end_time": "2023-11-07T12:39:08.785960",
     "exception": false,
     "start_time": "2023-11-07T12:39:08.741563",
     "status": "completed"
    },
    "tags": []
   },
   "source": [
    "#### Теперь попробуем поискать взаимосвязь между различными признаками"
   ]
  },
  {
   "cell_type": "markdown",
   "id": "bacbd93f",
   "metadata": {
    "papermill": {
     "duration": 0.043121,
     "end_time": "2023-11-07T12:39:08.873692",
     "exception": false,
     "start_time": "2023-11-07T12:39:08.830571",
     "status": "completed"
    },
    "tags": []
   },
   "source": [
    "Посмотрим на объёмы занимаемой памяти после преобразования числовых типов и кодирования типов ```object``` в числовые типы"
   ]
  },
  {
   "cell_type": "markdown",
   "id": "8a186c98",
   "metadata": {
    "papermill": {
     "duration": 0.045335,
     "end_time": "2023-11-07T12:39:08.962179",
     "exception": false,
     "start_time": "2023-11-07T12:39:08.916844",
     "status": "completed"
    },
    "tags": []
   },
   "source": [
    "Напишем функцию для подсчёт изменений памяти:"
   ]
  },
  {
   "cell_type": "code",
   "execution_count": 57,
   "id": "1c5bdff9",
   "metadata": {
    "execution": {
     "iopub.execute_input": "2023-11-07T12:39:09.053250Z",
     "iopub.status.busy": "2023-11-07T12:39:09.052354Z",
     "iopub.status.idle": "2023-11-07T12:39:09.058419Z",
     "shell.execute_reply": "2023-11-07T12:39:09.057444Z"
    },
    "papermill": {
     "duration": 0.054348,
     "end_time": "2023-11-07T12:39:09.060816",
     "exception": false,
     "start_time": "2023-11-07T12:39:09.006468",
     "status": "completed"
    },
    "tags": []
   },
   "outputs": [],
   "source": [
    "def memory_changes(start_mem_usage, df, df_name):\n",
    "    cur_mem_usage = memory_usage(df)\n",
    "    diff_mem = (start_mem_usage - cur_mem_usage)\n",
    "    diff_mem_prct = 100-((cur_mem_usage * 100)/start_mem_usage)\n",
    "    print(f'Memory usage of {df_name} decreased from {start_mem_usage} to {cur_mem_usage} on {diff_mem} Mb ({diff_mem_prct})%')"
   ]
  },
  {
   "cell_type": "markdown",
   "id": "24d41505",
   "metadata": {
    "papermill": {
     "duration": 0.043884,
     "end_time": "2023-11-07T12:39:09.147890",
     "exception": false,
     "start_time": "2023-11-07T12:39:09.104006",
     "status": "completed"
    },
    "tags": []
   },
   "source": [
    "### ```train_df``` после преобразований"
   ]
  },
  {
   "cell_type": "code",
   "execution_count": 58,
   "id": "e1b3fe60",
   "metadata": {
    "execution": {
     "iopub.execute_input": "2023-11-07T12:39:09.237677Z",
     "iopub.status.busy": "2023-11-07T12:39:09.236762Z",
     "iopub.status.idle": "2023-11-07T12:39:12.735853Z",
     "shell.execute_reply": "2023-11-07T12:39:12.734598Z"
    },
    "papermill": {
     "duration": 3.546583,
     "end_time": "2023-11-07T12:39:12.738166",
     "exception": false,
     "start_time": "2023-11-07T12:39:09.191583",
     "status": "completed"
    },
    "tags": []
   },
   "outputs": [
    {
     "name": "stdout",
     "output_type": "stream",
     "text": [
      "Memory usage of train_df decreased from 2567.094612121582 to 1171.2261600494385 on 1395.8684520721436 Mb (54.37541902355225)%\n"
     ]
    }
   ],
   "source": [
    "memory_changes(train_df_GB * 1024, df=train_df, df_name='train_df')"
   ]
  },
  {
   "cell_type": "markdown",
   "id": "503bcb42",
   "metadata": {
    "papermill": {
     "duration": 0.044145,
     "end_time": "2023-11-07T12:39:12.827117",
     "exception": false,
     "start_time": "2023-11-07T12:39:12.782972",
     "status": "completed"
    },
    "tags": []
   },
   "source": [
    "### ```test_df``` после преобразований"
   ]
  },
  {
   "cell_type": "code",
   "execution_count": 59,
   "id": "c45d04c3",
   "metadata": {
    "execution": {
     "iopub.execute_input": "2023-11-07T12:39:12.916492Z",
     "iopub.status.busy": "2023-11-07T12:39:12.915718Z",
     "iopub.status.idle": "2023-11-07T12:39:15.920776Z",
     "shell.execute_reply": "2023-11-07T12:39:15.919463Z"
    },
    "papermill": {
     "duration": 3.052671,
     "end_time": "2023-11-07T12:39:15.923464",
     "exception": false,
     "start_time": "2023-11-07T12:39:12.870793",
     "status": "completed"
    },
    "tags": []
   },
   "outputs": [
    {
     "name": "stdout",
     "output_type": "stream",
     "text": [
      "Memory usage of test_df decreased from 2214.031036376953 to 1008.3859901428223 on 1205.6450462341309 Mb (54.45474911711499)%\n"
     ]
    }
   ],
   "source": [
    "memory_changes(test_df_GB * 1024, df=test_df, df_name='test_df')"
   ]
  },
  {
   "cell_type": "markdown",
   "id": "6cbc5f2e",
   "metadata": {
    "papermill": {
     "duration": 0.045326,
     "end_time": "2023-11-07T12:39:16.012942",
     "exception": false,
     "start_time": "2023-11-07T12:39:15.967616",
     "status": "completed"
    },
    "tags": []
   },
   "source": [
    "Т.к. мы объединили датасеты ```*identity``` и ```*transaction```, удалим их для того, чтобы освободить память"
   ]
  },
  {
   "cell_type": "code",
   "execution_count": 60,
   "id": "94554c59",
   "metadata": {
    "execution": {
     "iopub.execute_input": "2023-11-07T12:39:16.103997Z",
     "iopub.status.busy": "2023-11-07T12:39:16.103273Z",
     "iopub.status.idle": "2023-11-07T12:39:16.312427Z",
     "shell.execute_reply": "2023-11-07T12:39:16.310725Z"
    },
    "papermill": {
     "duration": 0.257654,
     "end_time": "2023-11-07T12:39:16.315371",
     "exception": false,
     "start_time": "2023-11-07T12:39:16.057717",
     "status": "completed"
    },
    "tags": []
   },
   "outputs": [
    {
     "data": {
      "text/plain": [
       "<function gc.collect(generation=2)>"
      ]
     },
     "execution_count": 60,
     "metadata": {},
     "output_type": "execute_result"
    }
   ],
   "source": [
    "del train_transaction\n",
    "del train_identity\n",
    "del test_transaction\n",
    "del test_identity\n",
    "gc.collect"
   ]
  }
 ],
 "metadata": {
  "kernelspec": {
   "display_name": "Python 3",
   "language": "python",
   "name": "python3"
  },
  "language_info": {
   "codemirror_mode": {
    "name": "ipython",
    "version": 3
   },
   "file_extension": ".py",
   "mimetype": "text/x-python",
   "name": "python",
   "nbconvert_exporter": "python",
   "pygments_lexer": "ipython3",
   "version": "3.10.12"
  },
  "papermill": {
   "default_parameters": {},
   "duration": 277.946878,
   "end_time": "2023-11-07T12:39:18.090553",
   "environment_variables": {},
   "exception": null,
   "input_path": "__notebook__.ipynb",
   "output_path": "__notebook__.ipynb",
   "parameters": {},
   "start_time": "2023-11-07T12:34:40.143675",
   "version": "2.4.0"
  }
 },
 "nbformat": 4,
 "nbformat_minor": 5
}
