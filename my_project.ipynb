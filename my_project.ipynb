{
 "cells": [
  {
   "cell_type": "code",
   "execution_count": 1,
   "id": "d7c7da7d",
   "metadata": {
    "_cell_guid": "b1076dfc-b9ad-4769-8c92-a6c4dae69d19",
    "_uuid": "8f2839f25d086af736a60e9eeb907d3b93b6e0e5",
    "execution": {
     "iopub.execute_input": "2023-11-06T19:22:22.524286Z",
     "iopub.status.busy": "2023-11-06T19:22:22.523622Z",
     "iopub.status.idle": "2023-11-06T19:22:26.099891Z",
     "shell.execute_reply": "2023-11-06T19:22:26.098409Z"
    },
    "papermill": {
     "duration": 3.597003,
     "end_time": "2023-11-06T19:22:26.103602",
     "exception": false,
     "start_time": "2023-11-06T19:22:22.506599",
     "status": "completed"
    },
    "tags": []
   },
   "outputs": [
    {
     "name": "stdout",
     "output_type": "stream",
     "text": [
      "/kaggle/input/ieee-fraud-detection/sample_submission.csv\n",
      "/kaggle/input/ieee-fraud-detection/test_identity.csv\n",
      "/kaggle/input/ieee-fraud-detection/train_identity.csv\n",
      "/kaggle/input/ieee-fraud-detection/test_transaction.csv\n",
      "/kaggle/input/ieee-fraud-detection/train_transaction.csv\n"
     ]
    }
   ],
   "source": [
    "# This Python 3 environment comes with many helpful analytics libraries installed\n",
    "# It is defined by the kaggle/python Docker image: https://github.com/kaggle/docker-python\n",
    "# For example, here's several helpful packages to load\n",
    "\n",
    "import numpy as np # linear algebra\n",
    "import pandas as pd # data processing, CSV file I/O (e.g. pd.read_csv)\n",
    "import gc\n",
    "import numpy as np\n",
    "import matplotlib.pyplot as plt\n",
    "import seaborn as sns\n",
    "from sklearn.metrics import accuracy_score\n",
    "from sklearn.model_selection import train_test_split,cross_val_score,GridSearchCV,cross_validate\n",
    "from sklearn.preprocessing import MinMaxScaler,LabelEncoder,StandardScaler,RobustScaler\n",
    "from sklearn.impute import KNNImputer\n",
    "from sklearn.metrics import mean_squared_error, mean_absolute_error\n",
    "from sklearn.neighbors import KNeighborsClassifier\n",
    "from sklearn.tree import DecisionTreeClassifier\n",
    "from xgboost import XGBClassifier\n",
    "from lightgbm import LGBMClassifier\n",
    "from sklearn.ensemble import RandomForestClassifier,GradientBoostingClassifier,VotingClassifier,AdaBoostClassifier\n",
    "# Input data files are available in the read-only \"../input/\" directory\n",
    "# For example, running this (by clicking run or pressing Shift+Enter) will list all files under the input directory\n",
    "\n",
    "import os\n",
    "for dirname, _, filenames in os.walk('/kaggle/input'):\n",
    "    for filename in filenames:\n",
    "        print(os.path.join(dirname, filename))\n",
    "\n",
    "# You can write up to 20GB to the current directory (/kaggle/working/) that gets preserved as output when you create a version using \"Save & Run All\" \n",
    "# You can also write temporary files to /kaggle/temp/, but they won't be saved outside of the current session"
   ]
  },
  {
   "cell_type": "markdown",
   "id": "cf8b6913",
   "metadata": {
    "papermill": {
     "duration": 0.015492,
     "end_time": "2023-11-06T19:22:26.134902",
     "exception": false,
     "start_time": "2023-11-06T19:22:26.119410",
     "status": "completed"
    },
    "tags": []
   },
   "source": [
    "### Данный проект решает задачу бинарной классификации.\n",
    "### Нужно предсказать, к какому типу относится транзакция - мошенническая она ли нет."
   ]
  },
  {
   "cell_type": "markdown",
   "id": "cbf14706",
   "metadata": {
    "papermill": {
     "duration": 0.015217,
     "end_time": "2023-11-06T19:22:26.165435",
     "exception": false,
     "start_time": "2023-11-06T19:22:26.150218",
     "status": "completed"
    },
    "tags": []
   },
   "source": [
    "#### Данные в датасете **transaction**:\n",
    "<span style=\"font-size: 18px;\">\n",
    "    \n",
    "- TransactionDT - дельта времени от заданного эталонного значения времени (не актуального значения) \n",
    "- TransactionAMT - транзакционный платёж в USD\n",
    "- ProductCD - продуктовый код, продукт каждой транзакции\n",
    "- card1 - card6 - информация платёжной карты, такая как: тип карты, категория, банк выпуска, страна и т.д.\n",
    "- addr - адрес\n",
    "- dist - расстояние\n",
    "- P_ and (R_) emaildomain: домены покупателя и получателя\n",
    "- C1-C14 - подсчёт, например сколько адресов связано с платёжной картой и т.д. Фактический смысл скрыт\n",
    "- D1-D15 - дельта времени, количество дней между предыдущей транзакцией, и т.д.\n",
    "- M1 - M9 -совпадение, например имена на карте и адресе и т.д.\n",
    "- Vxxx - Vesta разработала богатые функции, включая ранжирование, подсчёт и другие отношения между сущностями\n",
    "</span>"
   ]
  },
  {
   "cell_type": "markdown",
   "id": "972bb463",
   "metadata": {
    "papermill": {
     "duration": 0.015369,
     "end_time": "2023-11-06T19:22:26.196253",
     "exception": false,
     "start_time": "2023-11-06T19:22:26.180884",
     "status": "completed"
    },
    "tags": []
   },
   "source": [
    "<span style=\"font-size:18px;\">\n",
    "Категориальные признаки:\n",
    "\n",
    "- ProductCD\n",
    "- card1-card6\n",
    "- addr1, addr2\n",
    "- P_emaildomain\n",
    "- R_email_domain\n",
    "- M1 - M9\n",
    "</span>"
   ]
  },
  {
   "cell_type": "markdown",
   "id": "273657bc",
   "metadata": {
    "papermill": {
     "duration": 0.015178,
     "end_time": "2023-11-06T19:22:26.226865",
     "exception": false,
     "start_time": "2023-11-06T19:22:26.211687",
     "status": "completed"
    },
    "tags": []
   },
   "source": [
    "#### Данные в датасете **Identity**\n",
    "<span style=\"font-size:18px;\">\n",
    "Переменные в этой таблице - идентификационные данные:\n",
    "    \n",
    "- информация о сетевом соединении (IP, ISP, прокси и т.д.)\n",
    "- цифровая подпись (UA/браузер/ОС/версия и т.д.), связанные с транзакциями.\n",
    "Их собирает система защиты от мошенничества Vesta и партнеры цифровой безопасности.\n",
    "(Имена полей скрыты, и пояснения значений полей не будет в целях защиты конфиденциальности и их договорного соглашения)\n",
    "</span>"
   ]
  },
  {
   "cell_type": "markdown",
   "id": "7e6675cd",
   "metadata": {
    "papermill": {
     "duration": 0.015131,
     "end_time": "2023-11-06T19:22:26.257702",
     "exception": false,
     "start_time": "2023-11-06T19:22:26.242571",
     "status": "completed"
    },
    "tags": []
   },
   "source": [
    "<span style=\"font-size:18px;\">\n",
    "Категориальные признаки:\n",
    "    \n",
    "- DeviceType\n",
    "- DeviceInfo\n",
    "- id_12 - id_38\n",
    "</span>"
   ]
  },
  {
   "cell_type": "markdown",
   "id": "3196fa32",
   "metadata": {
    "papermill": {
     "duration": 0.014812,
     "end_time": "2023-11-06T19:22:26.287650",
     "exception": false,
     "start_time": "2023-11-06T19:22:26.272838",
     "status": "completed"
    },
    "tags": []
   },
   "source": [
    "### Загрузим все наборы данных данного проекта"
   ]
  },
  {
   "cell_type": "code",
   "execution_count": 2,
   "id": "a941abe9",
   "metadata": {
    "execution": {
     "iopub.execute_input": "2023-11-06T19:22:26.320285Z",
     "iopub.status.busy": "2023-11-06T19:22:26.319876Z",
     "iopub.status.idle": "2023-11-06T19:23:35.855582Z",
     "shell.execute_reply": "2023-11-06T19:23:35.854198Z"
    },
    "papermill": {
     "duration": 69.555179,
     "end_time": "2023-11-06T19:23:35.858214",
     "exception": false,
     "start_time": "2023-11-06T19:22:26.303035",
     "status": "completed"
    },
    "tags": []
   },
   "outputs": [],
   "source": [
    "train_transaction=pd.read_csv('/kaggle/input/ieee-fraud-detection/train_transaction.csv')\n",
    "train_identity=pd.read_csv('/kaggle/input/ieee-fraud-detection/train_identity.csv')\n",
    "test_transaction=pd.read_csv('/kaggle/input/ieee-fraud-detection/test_transaction.csv')\n",
    "test_identity=pd.read_csv('/kaggle/input/ieee-fraud-detection/test_identity.csv')\n",
    "sample_submission=pd.read_csv('/kaggle/input/ieee-fraud-detection/sample_submission.csv')"
   ]
  },
  {
   "cell_type": "markdown",
   "id": "84a6d309",
   "metadata": {
    "papermill": {
     "duration": 0.014841,
     "end_time": "2023-11-06T19:23:35.888586",
     "exception": false,
     "start_time": "2023-11-06T19:23:35.873745",
     "status": "completed"
    },
    "tags": []
   },
   "source": [
    "Объединим таблицы ```*transaction``` и ```*identity``` по полю ```TransactionID```"
   ]
  },
  {
   "cell_type": "code",
   "execution_count": 3,
   "id": "f4748a51",
   "metadata": {
    "execution": {
     "iopub.execute_input": "2023-11-06T19:23:35.921252Z",
     "iopub.status.busy": "2023-11-06T19:23:35.920869Z",
     "iopub.status.idle": "2023-11-06T19:23:38.109467Z",
     "shell.execute_reply": "2023-11-06T19:23:38.108432Z"
    },
    "papermill": {
     "duration": 2.208308,
     "end_time": "2023-11-06T19:23:38.112458",
     "exception": false,
     "start_time": "2023-11-06T19:23:35.904150",
     "status": "completed"
    },
    "tags": []
   },
   "outputs": [],
   "source": [
    "train_df = train_transaction.merge(train_identity, how='left', on='TransactionID')\n",
    "test_df = test_transaction.merge(test_identity, how='left', on='TransactionID')"
   ]
  },
  {
   "cell_type": "markdown",
   "id": "ac6fb143",
   "metadata": {
    "papermill": {
     "duration": 0.014808,
     "end_time": "2023-11-06T19:23:38.142803",
     "exception": false,
     "start_time": "2023-11-06T19:23:38.127995",
     "status": "completed"
    },
    "tags": []
   },
   "source": [
    "Посмотрим какой объём оперативной памяти занимают датасеты:"
   ]
  },
  {
   "cell_type": "code",
   "execution_count": 4,
   "id": "91bad33d",
   "metadata": {
    "execution": {
     "iopub.execute_input": "2023-11-06T19:23:38.228942Z",
     "iopub.status.busy": "2023-11-06T19:23:38.228552Z",
     "iopub.status.idle": "2023-11-06T19:23:46.246265Z",
     "shell.execute_reply": "2023-11-06T19:23:46.245192Z"
    },
    "papermill": {
     "duration": 8.091072,
     "end_time": "2023-11-06T19:23:46.248750",
     "exception": false,
     "start_time": "2023-11-06T19:23:38.157678",
     "status": "completed"
    },
    "tags": []
   },
   "outputs": [
    {
     "name": "stdout",
     "output_type": "stream",
     "text": [
      "train df: 2.51 GB of memory\n",
      "test df : 2.16 GB of memory\n"
     ]
    }
   ],
   "source": [
    "train_df_GB = train_df.memory_usage(deep=True).sum()/1024**3\n",
    "test_df_GB = test_df.memory_usage(deep=True).sum()/1024**3\n",
    "\n",
    "print(f'train df: {train_df_GB:.2f} GB of memory')\n",
    "print(f'test df : {test_df_GB:.2f} GB of memory')"
   ]
  },
  {
   "cell_type": "markdown",
   "id": "6bf92842",
   "metadata": {
    "papermill": {
     "duration": 0.014342,
     "end_time": "2023-11-06T19:23:46.278100",
     "exception": false,
     "start_time": "2023-11-06T19:23:46.263758",
     "status": "completed"
    },
    "tags": []
   },
   "source": [
    "Видим, что датафреймы занимают достаточно большой объём оперативной памяти, следовательно на обработку каждого датафрейма будет затрачено большое кол-во ресурсов и довольно длительное время. \n",
    "\n",
    "Исходя из этого необходимо уменьшить занимаемый ими объём памяти. Сделаем это при помощи способа с изменением типов переменных"
   ]
  },
  {
   "cell_type": "markdown",
   "id": "4b1d2cff",
   "metadata": {
    "papermill": {
     "duration": 0.015079,
     "end_time": "2023-11-06T19:23:46.308395",
     "exception": false,
     "start_time": "2023-11-06T19:23:46.293316",
     "status": "completed"
    },
    "tags": []
   },
   "source": [
    "Напишем функцию подсчёта объема занимаемой памяти:"
   ]
  },
  {
   "cell_type": "code",
   "execution_count": 5,
   "id": "f4c9bc7b",
   "metadata": {
    "execution": {
     "iopub.execute_input": "2023-11-06T19:23:46.341249Z",
     "iopub.status.busy": "2023-11-06T19:23:46.340879Z",
     "iopub.status.idle": "2023-11-06T19:23:46.346381Z",
     "shell.execute_reply": "2023-11-06T19:23:46.345345Z"
    },
    "papermill": {
     "duration": 0.024693,
     "end_time": "2023-11-06T19:23:46.348512",
     "exception": false,
     "start_time": "2023-11-06T19:23:46.323819",
     "status": "completed"
    },
    "tags": []
   },
   "outputs": [],
   "source": [
    "def memory_usage(pandas_object):\n",
    "    if isinstance(pandas_object, pd.DataFrame):\n",
    "        usage_b = pandas_object.memory_usage(deep=True).sum()\n",
    "    else:\n",
    "        usage_b = pandas_obj.memory_usage(deep=True)\n",
    "    usage_mb = usage_b / 1024 ** 2 # convert to mb\n",
    "    return usage_mb"
   ]
  },
  {
   "cell_type": "markdown",
   "id": "7099e9ef",
   "metadata": {
    "papermill": {
     "duration": 0.015184,
     "end_time": "2023-11-06T19:23:46.379267",
     "exception": false,
     "start_time": "2023-11-06T19:23:46.364083",
     "status": "completed"
    },
    "tags": []
   },
   "source": [
    "Напишем функцию для уменьшения объёма занимаемой памяти датасетом.\n",
    "\n",
    "1. Преобразуем все значения подтипов ```int``` в тип ```uint```, т.к. хранение только положительных значений позволит нам уменьшить объём занимаемой памяти.\n",
    "\n",
    "2. Преобразуем все значения подтипов ```float``` в тип ```float```\n",
    "3. Преобразуем все значения типа ```object``` в тип ```category```, но только для столбцов, в которых содержится менее ```50 %``` уникальных значений, иначе объём занимаемой памяти наоборот увеличится (согласно исследованиям)"
   ]
  },
  {
   "cell_type": "markdown",
   "id": "477b64b6",
   "metadata": {
    "papermill": {
     "duration": 0.015727,
     "end_time": "2023-11-06T19:23:46.410444",
     "exception": false,
     "start_time": "2023-11-06T19:23:46.394717",
     "status": "completed"
    },
    "tags": []
   },
   "source": [
    "Для преобразования значений типа ```object``` в тип ```category``` также напишем функцию:"
   ]
  },
  {
   "cell_type": "code",
   "execution_count": 6,
   "id": "bdd8c791",
   "metadata": {
    "execution": {
     "iopub.execute_input": "2023-11-06T19:23:46.443255Z",
     "iopub.status.busy": "2023-11-06T19:23:46.442811Z",
     "iopub.status.idle": "2023-11-06T19:23:46.449699Z",
     "shell.execute_reply": "2023-11-06T19:23:46.448607Z"
    },
    "papermill": {
     "duration": 0.026162,
     "end_time": "2023-11-06T19:23:46.451841",
     "exception": false,
     "start_time": "2023-11-06T19:23:46.425679",
     "status": "completed"
    },
    "tags": []
   },
   "outputs": [],
   "source": [
    "def obj_to_cat(current_df_obj):\n",
    "    converted_df_obj=pd.DataFrame()\n",
    "    for col in current_df_obj.columns:\n",
    "        num_unique_values = len(current_df_obj[col].unique())\n",
    "        num_total_values = len(current_df_obj[col])\n",
    "        if num_unique_values / num_total_values < 0.5:\n",
    "            converted_df_obj.loc[:, col] = current_df_obj[col].astype('category')\n",
    "        else:\n",
    "            converted_df_obj.loc[:, col] = current_df_obj[col]\n",
    "    return converted_df_obj"
   ]
  },
  {
   "cell_type": "code",
   "execution_count": 7,
   "id": "b585f7ae",
   "metadata": {
    "execution": {
     "iopub.execute_input": "2023-11-06T19:23:46.484443Z",
     "iopub.status.busy": "2023-11-06T19:23:46.484056Z",
     "iopub.status.idle": "2023-11-06T19:23:46.492388Z",
     "shell.execute_reply": "2023-11-06T19:23:46.491321Z"
    },
    "papermill": {
     "duration": 0.026866,
     "end_time": "2023-11-06T19:23:46.494461",
     "exception": false,
     "start_time": "2023-11-06T19:23:46.467595",
     "status": "completed"
    },
    "tags": []
   },
   "outputs": [],
   "source": [
    "def reduce_mem_usage_num(df, name):\n",
    "    start_memory = memory_usage(df)\n",
    "    \n",
    "    # convert int\n",
    "    df_int = df.select_dtypes(include=['int'])\n",
    "    converted_int = df_int.apply(pd.to_numeric, downcast='unsigned')\n",
    "    \n",
    "    # convert float\n",
    "    df_float = df.select_dtypes(include=['float'])\n",
    "    converted_float = df_float.apply(pd.to_numeric, downcast='float')\n",
    "    \n",
    "    # convert object\n",
    "#     df_obj = df.select_dtypes(include=['object'])\n",
    "#     converted_obj = obj_to_cat(df_obj)\n",
    "    \n",
    "    optimized_df = df.copy()\n",
    "    optimized_df[converted_int.columns] = converted_int\n",
    "    optimized_df[converted_float.columns] = converted_float\n",
    "#     optimized_df[converted_obj.columns] = converted_obj\n",
    "    \n",
    "    finish_memory = memory_usage(optimized_df)\n",
    "    diff_memory = start_memory - finish_memory\n",
    "    diff_memory_prct = 100 - ((finish_memory * 100)/start_memory)\n",
    "    print(f'start memory of {name} is {start_memory} Mb')\n",
    "    print(f'memory after optimization of {name} is {finish_memory} Mb')\n",
    "    print(f'memory usage of {name} decreased on {diff_memory} Mb ({diff_memory_prct} %)\\n')\n",
    "    return optimized_df"
   ]
  },
  {
   "cell_type": "code",
   "execution_count": 8,
   "id": "751b330c",
   "metadata": {
    "execution": {
     "iopub.execute_input": "2023-11-06T19:23:46.527962Z",
     "iopub.status.busy": "2023-11-06T19:23:46.527569Z",
     "iopub.status.idle": "2023-11-06T19:24:37.380386Z",
     "shell.execute_reply": "2023-11-06T19:24:37.379168Z"
    },
    "papermill": {
     "duration": 50.8901,
     "end_time": "2023-11-06T19:24:37.400662",
     "exception": false,
     "start_time": "2023-11-06T19:23:46.510562",
     "status": "completed"
    },
    "tags": []
   },
   "outputs": [
    {
     "name": "stdout",
     "output_type": "stream",
     "text": [
      "start memory of train_df is 2567.094612121582 Mb\n",
      "memory after optimization of train_df is 1656.4279747009277 Mb\n",
      "memory usage of train_df decreased on 910.6666374206543 Mb (35.47460358962117 %)\n",
      "\n",
      "start memory of test_df is 2214.031036376953 Mb\n",
      "memory after optimization of test_df is 1436.0497455596924 Mb\n",
      "memory usage of test_df decreased on 777.9812908172607 Mb (35.13868044462248 %)\n",
      "\n"
     ]
    }
   ],
   "source": [
    "train_df = reduce_mem_usage_num(train_df, 'train_df')\n",
    "test_df = reduce_mem_usage_num(test_df, 'test_df')"
   ]
  },
  {
   "cell_type": "markdown",
   "id": "a0f374bf",
   "metadata": {
    "papermill": {
     "duration": 0.01584,
     "end_time": "2023-11-06T19:24:37.433039",
     "exception": false,
     "start_time": "2023-11-06T19:24:37.417199",
     "status": "completed"
    },
    "tags": []
   },
   "source": [
    "Видим, что объём занимаемой памяти тренировочного и тестового датасетов после изменения числовых типов данных уменьшился примерно на ```35 %```"
   ]
  },
  {
   "cell_type": "code",
   "execution_count": 9,
   "id": "bebfa4e1",
   "metadata": {
    "execution": {
     "iopub.execute_input": "2023-11-06T19:24:37.468061Z",
     "iopub.status.busy": "2023-11-06T19:24:37.467636Z",
     "iopub.status.idle": "2023-11-06T19:24:37.490415Z",
     "shell.execute_reply": "2023-11-06T19:24:37.489629Z"
    },
    "papermill": {
     "duration": 0.043957,
     "end_time": "2023-11-06T19:24:37.493382",
     "exception": false,
     "start_time": "2023-11-06T19:24:37.449425",
     "status": "completed"
    },
    "tags": []
   },
   "outputs": [
    {
     "name": "stdout",
     "output_type": "stream",
     "text": [
      "<class 'pandas.core.frame.DataFrame'>\n",
      "RangeIndex: 590540 entries, 0 to 590539\n",
      "Columns: 434 entries, TransactionID to DeviceInfo\n",
      "dtypes: float32(399), object(31), uint16(1), uint32(2), uint8(1)\n",
      "memory usage: 1.0+ GB\n"
     ]
    }
   ],
   "source": [
    "train_df.info()"
   ]
  },
  {
   "cell_type": "code",
   "execution_count": 10,
   "id": "a3d6f3ea",
   "metadata": {
    "execution": {
     "iopub.execute_input": "2023-11-06T19:24:37.529093Z",
     "iopub.status.busy": "2023-11-06T19:24:37.528209Z",
     "iopub.status.idle": "2023-11-06T19:24:37.547786Z",
     "shell.execute_reply": "2023-11-06T19:24:37.546152Z"
    },
    "papermill": {
     "duration": 0.040564,
     "end_time": "2023-11-06T19:24:37.550341",
     "exception": false,
     "start_time": "2023-11-06T19:24:37.509777",
     "status": "completed"
    },
    "tags": []
   },
   "outputs": [
    {
     "name": "stdout",
     "output_type": "stream",
     "text": [
      "<class 'pandas.core.frame.DataFrame'>\n",
      "RangeIndex: 506691 entries, 0 to 506690\n",
      "Columns: 433 entries, TransactionID to DeviceInfo\n",
      "dtypes: float32(399), object(31), uint16(1), uint32(2)\n",
      "memory usage: 895.9+ MB\n"
     ]
    }
   ],
   "source": [
    "test_df.info()"
   ]
  },
  {
   "cell_type": "markdown",
   "id": "4eb968ad",
   "metadata": {
    "papermill": {
     "duration": 0.016208,
     "end_time": "2023-11-06T19:24:37.583602",
     "exception": false,
     "start_time": "2023-11-06T19:24:37.567394",
     "status": "completed"
    },
    "tags": []
   },
   "source": [
    "#### Напишем функцию, которая будет представлять отчёт о пропусках в данных"
   ]
  },
  {
   "cell_type": "code",
   "execution_count": 11,
   "id": "1db3bb89",
   "metadata": {
    "execution": {
     "iopub.execute_input": "2023-11-06T19:24:37.618579Z",
     "iopub.status.busy": "2023-11-06T19:24:37.617860Z",
     "iopub.status.idle": "2023-11-06T19:24:37.626136Z",
     "shell.execute_reply": "2023-11-06T19:24:37.625347Z"
    },
    "papermill": {
     "duration": 0.028554,
     "end_time": "2023-11-06T19:24:37.628364",
     "exception": false,
     "start_time": "2023-11-06T19:24:37.599810",
     "status": "completed"
    },
    "tags": []
   },
   "outputs": [],
   "source": [
    "def missing_values_table(df, df_name):\n",
    "    mis_val = df.isnull().sum()\n",
    "    mis_val_percent = 100 * df.isnull().sum() / len(df)\n",
    "    mis_val_table = pd.concat([mis_val, mis_val_percent], axis=1)\n",
    "    mis_val_table_ren_columns = mis_val_table.rename(\n",
    "    columns = {0: 'Missing Values', 1: '% of Total Values'})\n",
    "    \n",
    "    mis_val_table_ren_columns = mis_val_table_ren_columns[\n",
    "        mis_val_table_ren_columns.iloc[:,1] != 0].sort_values(\n",
    "    '% of Total Values', ascending=False).round(1)\n",
    "    \n",
    "    print(f'{df_name} has ', str(df.shape[1]) + ' columns.\\n',\n",
    "         'There are ' + str(mis_val_table_ren_columns.shape[0]) +\n",
    "          ' columns that have missing values.')\n",
    "    return mis_val_table_ren_columns"
   ]
  },
  {
   "cell_type": "markdown",
   "id": "0ded535d",
   "metadata": {
    "papermill": {
     "duration": 0.016177,
     "end_time": "2023-11-06T19:24:37.660711",
     "exception": false,
     "start_time": "2023-11-06T19:24:37.644534",
     "status": "completed"
    },
    "tags": []
   },
   "source": [
    "Заменим признаки с ```-``` в тестовом датасете на соответствующие названия из тренировочного датасета с ```_```"
   ]
  },
  {
   "cell_type": "code",
   "execution_count": 12,
   "id": "89ac0c02",
   "metadata": {
    "execution": {
     "iopub.execute_input": "2023-11-06T19:24:37.695675Z",
     "iopub.status.busy": "2023-11-06T19:24:37.694986Z",
     "iopub.status.idle": "2023-11-06T19:24:39.890931Z",
     "shell.execute_reply": "2023-11-06T19:24:39.890064Z"
    },
    "papermill": {
     "duration": 2.216662,
     "end_time": "2023-11-06T19:24:39.893515",
     "exception": false,
     "start_time": "2023-11-06T19:24:37.676853",
     "status": "completed"
    },
    "tags": []
   },
   "outputs": [],
   "source": [
    "test_df = test_df.rename(columns=lambda x:'_'.join(x.split('-')))"
   ]
  },
  {
   "cell_type": "markdown",
   "id": "7072fd27",
   "metadata": {
    "papermill": {
     "duration": 0.015504,
     "end_time": "2023-11-06T19:24:39.925436",
     "exception": false,
     "start_time": "2023-11-06T19:24:39.909932",
     "status": "completed"
    },
    "tags": []
   },
   "source": [
    "Удаляем признаки, в которых более ```80 %``` пропусков:"
   ]
  },
  {
   "cell_type": "code",
   "execution_count": 13,
   "id": "1fade146",
   "metadata": {
    "execution": {
     "iopub.execute_input": "2023-11-06T19:24:39.958604Z",
     "iopub.status.busy": "2023-11-06T19:24:39.958093Z",
     "iopub.status.idle": "2023-11-06T19:24:42.994323Z",
     "shell.execute_reply": "2023-11-06T19:24:42.992712Z"
    },
    "papermill": {
     "duration": 3.056111,
     "end_time": "2023-11-06T19:24:42.997030",
     "exception": false,
     "start_time": "2023-11-06T19:24:39.940919",
     "status": "completed"
    },
    "tags": []
   },
   "outputs": [
    {
     "name": "stdout",
     "output_type": "stream",
     "text": [
      "train_df has  434 columns.\n",
      " There are 414 columns that have missing values.\n",
      "We will remove 74 columns.\n"
     ]
    }
   ],
   "source": [
    "missing_df = missing_values_table(train_df, 'train_df')\n",
    "missing_columns = list(missing_df[missing_df['% of Total Values'] > 80.0].index)\n",
    "print('We will remove %d columns.' % len(missing_columns))"
   ]
  },
  {
   "cell_type": "code",
   "execution_count": 14,
   "id": "b945a88b",
   "metadata": {
    "execution": {
     "iopub.execute_input": "2023-11-06T19:24:43.032053Z",
     "iopub.status.busy": "2023-11-06T19:24:43.031555Z",
     "iopub.status.idle": "2023-11-06T19:24:43.050093Z",
     "shell.execute_reply": "2023-11-06T19:24:43.048989Z"
    },
    "papermill": {
     "duration": 0.039126,
     "end_time": "2023-11-06T19:24:43.052983",
     "exception": false,
     "start_time": "2023-11-06T19:24:43.013857",
     "status": "completed"
    },
    "tags": []
   },
   "outputs": [
    {
     "data": {
      "text/html": [
       "<div>\n",
       "<style scoped>\n",
       "    .dataframe tbody tr th:only-of-type {\n",
       "        vertical-align: middle;\n",
       "    }\n",
       "\n",
       "    .dataframe tbody tr th {\n",
       "        vertical-align: top;\n",
       "    }\n",
       "\n",
       "    .dataframe thead th {\n",
       "        text-align: right;\n",
       "    }\n",
       "</style>\n",
       "<table border=\"1\" class=\"dataframe\">\n",
       "  <thead>\n",
       "    <tr style=\"text-align: right;\">\n",
       "      <th></th>\n",
       "      <th>Missing Values</th>\n",
       "      <th>% of Total Values</th>\n",
       "    </tr>\n",
       "  </thead>\n",
       "  <tbody>\n",
       "    <tr>\n",
       "      <th>id_24</th>\n",
       "      <td>585793</td>\n",
       "      <td>99.2</td>\n",
       "    </tr>\n",
       "    <tr>\n",
       "      <th>id_25</th>\n",
       "      <td>585408</td>\n",
       "      <td>99.1</td>\n",
       "    </tr>\n",
       "    <tr>\n",
       "      <th>id_07</th>\n",
       "      <td>585385</td>\n",
       "      <td>99.1</td>\n",
       "    </tr>\n",
       "    <tr>\n",
       "      <th>id_08</th>\n",
       "      <td>585385</td>\n",
       "      <td>99.1</td>\n",
       "    </tr>\n",
       "    <tr>\n",
       "      <th>id_21</th>\n",
       "      <td>585381</td>\n",
       "      <td>99.1</td>\n",
       "    </tr>\n",
       "    <tr>\n",
       "      <th>...</th>\n",
       "      <td>...</td>\n",
       "      <td>...</td>\n",
       "    </tr>\n",
       "    <tr>\n",
       "      <th>V285</th>\n",
       "      <td>12</td>\n",
       "      <td>0.0</td>\n",
       "    </tr>\n",
       "    <tr>\n",
       "      <th>V284</th>\n",
       "      <td>12</td>\n",
       "      <td>0.0</td>\n",
       "    </tr>\n",
       "    <tr>\n",
       "      <th>V280</th>\n",
       "      <td>12</td>\n",
       "      <td>0.0</td>\n",
       "    </tr>\n",
       "    <tr>\n",
       "      <th>V279</th>\n",
       "      <td>12</td>\n",
       "      <td>0.0</td>\n",
       "    </tr>\n",
       "    <tr>\n",
       "      <th>V312</th>\n",
       "      <td>12</td>\n",
       "      <td>0.0</td>\n",
       "    </tr>\n",
       "  </tbody>\n",
       "</table>\n",
       "<p>414 rows × 2 columns</p>\n",
       "</div>"
      ],
      "text/plain": [
       "       Missing Values  % of Total Values\n",
       "id_24          585793               99.2\n",
       "id_25          585408               99.1\n",
       "id_07          585385               99.1\n",
       "id_08          585385               99.1\n",
       "id_21          585381               99.1\n",
       "...               ...                ...\n",
       "V285               12                0.0\n",
       "V284               12                0.0\n",
       "V280               12                0.0\n",
       "V279               12                0.0\n",
       "V312               12                0.0\n",
       "\n",
       "[414 rows x 2 columns]"
      ]
     },
     "execution_count": 14,
     "metadata": {},
     "output_type": "execute_result"
    }
   ],
   "source": [
    "missing_df"
   ]
  },
  {
   "cell_type": "code",
   "execution_count": 15,
   "id": "b76b12c6",
   "metadata": {
    "execution": {
     "iopub.execute_input": "2023-11-06T19:24:43.086809Z",
     "iopub.status.busy": "2023-11-06T19:24:43.086059Z",
     "iopub.status.idle": "2023-11-06T19:24:43.916085Z",
     "shell.execute_reply": "2023-11-06T19:24:43.914905Z"
    },
    "papermill": {
     "duration": 0.8498,
     "end_time": "2023-11-06T19:24:43.918830",
     "exception": false,
     "start_time": "2023-11-06T19:24:43.069030",
     "status": "completed"
    },
    "tags": []
   },
   "outputs": [],
   "source": [
    "train_df = train_df.drop(columns = missing_columns)"
   ]
  },
  {
   "cell_type": "code",
   "execution_count": 16,
   "id": "ce3211d6",
   "metadata": {
    "execution": {
     "iopub.execute_input": "2023-11-06T19:24:43.952200Z",
     "iopub.status.busy": "2023-11-06T19:24:43.951776Z",
     "iopub.status.idle": "2023-11-06T19:24:43.958051Z",
     "shell.execute_reply": "2023-11-06T19:24:43.957076Z"
    },
    "papermill": {
     "duration": 0.025305,
     "end_time": "2023-11-06T19:24:43.960245",
     "exception": false,
     "start_time": "2023-11-06T19:24:43.934940",
     "status": "completed"
    },
    "tags": []
   },
   "outputs": [
    {
     "data": {
      "text/plain": [
       "(590540, 360)"
      ]
     },
     "execution_count": 16,
     "metadata": {},
     "output_type": "execute_result"
    }
   ],
   "source": [
    "train_df.shape"
   ]
  },
  {
   "cell_type": "code",
   "execution_count": 17,
   "id": "bab9da54",
   "metadata": {
    "execution": {
     "iopub.execute_input": "2023-11-06T19:24:43.995032Z",
     "iopub.status.busy": "2023-11-06T19:24:43.994303Z",
     "iopub.status.idle": "2023-11-06T19:24:44.364498Z",
     "shell.execute_reply": "2023-11-06T19:24:44.363478Z"
    },
    "papermill": {
     "duration": 0.391067,
     "end_time": "2023-11-06T19:24:44.367390",
     "exception": false,
     "start_time": "2023-11-06T19:24:43.976323",
     "status": "completed"
    },
    "tags": []
   },
   "outputs": [
    {
     "data": {
      "text/plain": [
       "(506691, 359)"
      ]
     },
     "execution_count": 17,
     "metadata": {},
     "output_type": "execute_result"
    }
   ],
   "source": [
    "test_df = test_df.drop(columns = missing_columns)\n",
    "test_df.shape"
   ]
  },
  {
   "cell_type": "markdown",
   "id": "38b5a541",
   "metadata": {
    "papermill": {
     "duration": 0.015863,
     "end_time": "2023-11-06T19:24:44.399547",
     "exception": false,
     "start_time": "2023-11-06T19:24:44.383684",
     "status": "completed"
    },
    "tags": []
   },
   "source": [
    "Посмотрим ещё раз на пропуски "
   ]
  },
  {
   "cell_type": "code",
   "execution_count": 18,
   "id": "92b60df2",
   "metadata": {
    "execution": {
     "iopub.execute_input": "2023-11-06T19:24:44.435046Z",
     "iopub.status.busy": "2023-11-06T19:24:44.434646Z",
     "iopub.status.idle": "2023-11-06T19:24:46.974462Z",
     "shell.execute_reply": "2023-11-06T19:24:46.973355Z"
    },
    "papermill": {
     "duration": 2.560197,
     "end_time": "2023-11-06T19:24:46.976699",
     "exception": false,
     "start_time": "2023-11-06T19:24:44.416502",
     "status": "completed"
    },
    "tags": []
   },
   "outputs": [
    {
     "name": "stdout",
     "output_type": "stream",
     "text": [
      "train_df has  360 columns.\n",
      " There are 340 columns that have missing values.\n"
     ]
    },
    {
     "data": {
      "text/html": [
       "<div>\n",
       "<style scoped>\n",
       "    .dataframe tbody tr th:only-of-type {\n",
       "        vertical-align: middle;\n",
       "    }\n",
       "\n",
       "    .dataframe tbody tr th {\n",
       "        vertical-align: top;\n",
       "    }\n",
       "\n",
       "    .dataframe thead th {\n",
       "        text-align: right;\n",
       "    }\n",
       "</style>\n",
       "<table border=\"1\" class=\"dataframe\">\n",
       "  <thead>\n",
       "    <tr style=\"text-align: right;\">\n",
       "      <th></th>\n",
       "      <th>Missing Values</th>\n",
       "      <th>% of Total Values</th>\n",
       "    </tr>\n",
       "  </thead>\n",
       "  <tbody>\n",
       "    <tr>\n",
       "      <th>DeviceInfo</th>\n",
       "      <td>471874</td>\n",
       "      <td>79.9</td>\n",
       "    </tr>\n",
       "    <tr>\n",
       "      <th>id_13</th>\n",
       "      <td>463220</td>\n",
       "      <td>78.4</td>\n",
       "    </tr>\n",
       "    <tr>\n",
       "      <th>id_16</th>\n",
       "      <td>461200</td>\n",
       "      <td>78.1</td>\n",
       "    </tr>\n",
       "    <tr>\n",
       "      <th>V233</th>\n",
       "      <td>460110</td>\n",
       "      <td>77.9</td>\n",
       "    </tr>\n",
       "    <tr>\n",
       "      <th>V249</th>\n",
       "      <td>460110</td>\n",
       "      <td>77.9</td>\n",
       "    </tr>\n",
       "    <tr>\n",
       "      <th>...</th>\n",
       "      <td>...</td>\n",
       "      <td>...</td>\n",
       "    </tr>\n",
       "    <tr>\n",
       "      <th>V309</th>\n",
       "      <td>12</td>\n",
       "      <td>0.0</td>\n",
       "    </tr>\n",
       "    <tr>\n",
       "      <th>V310</th>\n",
       "      <td>12</td>\n",
       "      <td>0.0</td>\n",
       "    </tr>\n",
       "    <tr>\n",
       "      <th>V311</th>\n",
       "      <td>12</td>\n",
       "      <td>0.0</td>\n",
       "    </tr>\n",
       "    <tr>\n",
       "      <th>V312</th>\n",
       "      <td>12</td>\n",
       "      <td>0.0</td>\n",
       "    </tr>\n",
       "    <tr>\n",
       "      <th>V297</th>\n",
       "      <td>12</td>\n",
       "      <td>0.0</td>\n",
       "    </tr>\n",
       "  </tbody>\n",
       "</table>\n",
       "<p>340 rows × 2 columns</p>\n",
       "</div>"
      ],
      "text/plain": [
       "            Missing Values  % of Total Values\n",
       "DeviceInfo          471874               79.9\n",
       "id_13               463220               78.4\n",
       "id_16               461200               78.1\n",
       "V233                460110               77.9\n",
       "V249                460110               77.9\n",
       "...                    ...                ...\n",
       "V309                    12                0.0\n",
       "V310                    12                0.0\n",
       "V311                    12                0.0\n",
       "V312                    12                0.0\n",
       "V297                    12                0.0\n",
       "\n",
       "[340 rows x 2 columns]"
      ]
     },
     "execution_count": 18,
     "metadata": {},
     "output_type": "execute_result"
    }
   ],
   "source": [
    "missing_values_table(train_df, 'train_df')"
   ]
  },
  {
   "cell_type": "code",
   "execution_count": 19,
   "id": "2c844d2a",
   "metadata": {
    "execution": {
     "iopub.execute_input": "2023-11-06T19:24:47.013439Z",
     "iopub.status.busy": "2023-11-06T19:24:47.012838Z",
     "iopub.status.idle": "2023-11-06T19:24:49.274933Z",
     "shell.execute_reply": "2023-11-06T19:24:49.273798Z"
    },
    "papermill": {
     "duration": 2.282642,
     "end_time": "2023-11-06T19:24:49.277053",
     "exception": false,
     "start_time": "2023-11-06T19:24:46.994411",
     "status": "completed"
    },
    "tags": []
   },
   "outputs": [
    {
     "name": "stdout",
     "output_type": "stream",
     "text": [
      "test_df has  359 columns.\n",
      " There are 311 columns that have missing values.\n"
     ]
    },
    {
     "data": {
      "text/html": [
       "<div>\n",
       "<style scoped>\n",
       "    .dataframe tbody tr th:only-of-type {\n",
       "        vertical-align: middle;\n",
       "    }\n",
       "\n",
       "    .dataframe tbody tr th {\n",
       "        vertical-align: top;\n",
       "    }\n",
       "\n",
       "    .dataframe thead th {\n",
       "        text-align: right;\n",
       "    }\n",
       "</style>\n",
       "<table border=\"1\" class=\"dataframe\">\n",
       "  <thead>\n",
       "    <tr style=\"text-align: right;\">\n",
       "      <th></th>\n",
       "      <th>Missing Values</th>\n",
       "      <th>% of Total Values</th>\n",
       "    </tr>\n",
       "  </thead>\n",
       "  <tbody>\n",
       "    <tr>\n",
       "      <th>DeviceInfo</th>\n",
       "      <td>391634</td>\n",
       "      <td>77.3</td>\n",
       "    </tr>\n",
       "    <tr>\n",
       "      <th>id_16</th>\n",
       "      <td>380944</td>\n",
       "      <td>75.2</td>\n",
       "    </tr>\n",
       "    <tr>\n",
       "      <th>V235</th>\n",
       "      <td>379963</td>\n",
       "      <td>75.0</td>\n",
       "    </tr>\n",
       "    <tr>\n",
       "      <th>V252</th>\n",
       "      <td>379963</td>\n",
       "      <td>75.0</td>\n",
       "    </tr>\n",
       "    <tr>\n",
       "      <th>V249</th>\n",
       "      <td>379963</td>\n",
       "      <td>75.0</td>\n",
       "    </tr>\n",
       "    <tr>\n",
       "      <th>...</th>\n",
       "      <td>...</td>\n",
       "      <td>...</td>\n",
       "    </tr>\n",
       "    <tr>\n",
       "      <th>V307</th>\n",
       "      <td>3</td>\n",
       "      <td>0.0</td>\n",
       "    </tr>\n",
       "    <tr>\n",
       "      <th>V308</th>\n",
       "      <td>3</td>\n",
       "      <td>0.0</td>\n",
       "    </tr>\n",
       "    <tr>\n",
       "      <th>V309</th>\n",
       "      <td>3</td>\n",
       "      <td>0.0</td>\n",
       "    </tr>\n",
       "    <tr>\n",
       "      <th>V310</th>\n",
       "      <td>3</td>\n",
       "      <td>0.0</td>\n",
       "    </tr>\n",
       "    <tr>\n",
       "      <th>V279</th>\n",
       "      <td>3</td>\n",
       "      <td>0.0</td>\n",
       "    </tr>\n",
       "  </tbody>\n",
       "</table>\n",
       "<p>311 rows × 2 columns</p>\n",
       "</div>"
      ],
      "text/plain": [
       "            Missing Values  % of Total Values\n",
       "DeviceInfo          391634               77.3\n",
       "id_16               380944               75.2\n",
       "V235                379963               75.0\n",
       "V252                379963               75.0\n",
       "V249                379963               75.0\n",
       "...                    ...                ...\n",
       "V307                     3                0.0\n",
       "V308                     3                0.0\n",
       "V309                     3                0.0\n",
       "V310                     3                0.0\n",
       "V279                     3                0.0\n",
       "\n",
       "[311 rows x 2 columns]"
      ]
     },
     "execution_count": 19,
     "metadata": {},
     "output_type": "execute_result"
    }
   ],
   "source": [
    "missing_values_table(test_df, 'test_df')"
   ]
  },
  {
   "cell_type": "code",
   "execution_count": 20,
   "id": "f4234601",
   "metadata": {
    "execution": {
     "iopub.execute_input": "2023-11-06T19:24:49.316165Z",
     "iopub.status.busy": "2023-11-06T19:24:49.315735Z",
     "iopub.status.idle": "2023-11-06T19:24:49.656838Z",
     "shell.execute_reply": "2023-11-06T19:24:49.655795Z"
    },
    "papermill": {
     "duration": 0.362499,
     "end_time": "2023-11-06T19:24:49.659013",
     "exception": false,
     "start_time": "2023-11-06T19:24:49.296514",
     "status": "completed"
    },
    "tags": []
   },
   "outputs": [
    {
     "data": {
      "text/html": [
       "<div>\n",
       "<style scoped>\n",
       "    .dataframe tbody tr th:only-of-type {\n",
       "        vertical-align: middle;\n",
       "    }\n",
       "\n",
       "    .dataframe tbody tr th {\n",
       "        vertical-align: top;\n",
       "    }\n",
       "\n",
       "    .dataframe thead th {\n",
       "        text-align: right;\n",
       "    }\n",
       "</style>\n",
       "<table border=\"1\" class=\"dataframe\">\n",
       "  <thead>\n",
       "    <tr style=\"text-align: right;\">\n",
       "      <th></th>\n",
       "      <th>TransactionID</th>\n",
       "      <th>isFraud</th>\n",
       "      <th>TransactionDT</th>\n",
       "      <th>TransactionAmt</th>\n",
       "      <th>ProductCD</th>\n",
       "      <th>card1</th>\n",
       "      <th>card2</th>\n",
       "      <th>card3</th>\n",
       "      <th>card4</th>\n",
       "      <th>card5</th>\n",
       "      <th>...</th>\n",
       "      <th>id_20</th>\n",
       "      <th>id_28</th>\n",
       "      <th>id_29</th>\n",
       "      <th>id_31</th>\n",
       "      <th>id_35</th>\n",
       "      <th>id_36</th>\n",
       "      <th>id_37</th>\n",
       "      <th>id_38</th>\n",
       "      <th>DeviceType</th>\n",
       "      <th>DeviceInfo</th>\n",
       "    </tr>\n",
       "  </thead>\n",
       "  <tbody>\n",
       "    <tr>\n",
       "      <th>0</th>\n",
       "      <td>2987000</td>\n",
       "      <td>0</td>\n",
       "      <td>86400</td>\n",
       "      <td>68.500000</td>\n",
       "      <td>W</td>\n",
       "      <td>13926</td>\n",
       "      <td>NaN</td>\n",
       "      <td>150.0</td>\n",
       "      <td>discover</td>\n",
       "      <td>142.0</td>\n",
       "      <td>...</td>\n",
       "      <td>NaN</td>\n",
       "      <td>NaN</td>\n",
       "      <td>NaN</td>\n",
       "      <td>NaN</td>\n",
       "      <td>NaN</td>\n",
       "      <td>NaN</td>\n",
       "      <td>NaN</td>\n",
       "      <td>NaN</td>\n",
       "      <td>NaN</td>\n",
       "      <td>NaN</td>\n",
       "    </tr>\n",
       "    <tr>\n",
       "      <th>1</th>\n",
       "      <td>2987001</td>\n",
       "      <td>0</td>\n",
       "      <td>86401</td>\n",
       "      <td>29.000000</td>\n",
       "      <td>W</td>\n",
       "      <td>2755</td>\n",
       "      <td>404.0</td>\n",
       "      <td>150.0</td>\n",
       "      <td>mastercard</td>\n",
       "      <td>102.0</td>\n",
       "      <td>...</td>\n",
       "      <td>NaN</td>\n",
       "      <td>NaN</td>\n",
       "      <td>NaN</td>\n",
       "      <td>NaN</td>\n",
       "      <td>NaN</td>\n",
       "      <td>NaN</td>\n",
       "      <td>NaN</td>\n",
       "      <td>NaN</td>\n",
       "      <td>NaN</td>\n",
       "      <td>NaN</td>\n",
       "    </tr>\n",
       "    <tr>\n",
       "      <th>2</th>\n",
       "      <td>2987002</td>\n",
       "      <td>0</td>\n",
       "      <td>86469</td>\n",
       "      <td>59.000000</td>\n",
       "      <td>W</td>\n",
       "      <td>4663</td>\n",
       "      <td>490.0</td>\n",
       "      <td>150.0</td>\n",
       "      <td>visa</td>\n",
       "      <td>166.0</td>\n",
       "      <td>...</td>\n",
       "      <td>NaN</td>\n",
       "      <td>NaN</td>\n",
       "      <td>NaN</td>\n",
       "      <td>NaN</td>\n",
       "      <td>NaN</td>\n",
       "      <td>NaN</td>\n",
       "      <td>NaN</td>\n",
       "      <td>NaN</td>\n",
       "      <td>NaN</td>\n",
       "      <td>NaN</td>\n",
       "    </tr>\n",
       "    <tr>\n",
       "      <th>3</th>\n",
       "      <td>2987003</td>\n",
       "      <td>0</td>\n",
       "      <td>86499</td>\n",
       "      <td>50.000000</td>\n",
       "      <td>W</td>\n",
       "      <td>18132</td>\n",
       "      <td>567.0</td>\n",
       "      <td>150.0</td>\n",
       "      <td>mastercard</td>\n",
       "      <td>117.0</td>\n",
       "      <td>...</td>\n",
       "      <td>NaN</td>\n",
       "      <td>NaN</td>\n",
       "      <td>NaN</td>\n",
       "      <td>NaN</td>\n",
       "      <td>NaN</td>\n",
       "      <td>NaN</td>\n",
       "      <td>NaN</td>\n",
       "      <td>NaN</td>\n",
       "      <td>NaN</td>\n",
       "      <td>NaN</td>\n",
       "    </tr>\n",
       "    <tr>\n",
       "      <th>4</th>\n",
       "      <td>2987004</td>\n",
       "      <td>0</td>\n",
       "      <td>86506</td>\n",
       "      <td>50.000000</td>\n",
       "      <td>H</td>\n",
       "      <td>4497</td>\n",
       "      <td>514.0</td>\n",
       "      <td>150.0</td>\n",
       "      <td>mastercard</td>\n",
       "      <td>102.0</td>\n",
       "      <td>...</td>\n",
       "      <td>144.0</td>\n",
       "      <td>New</td>\n",
       "      <td>NotFound</td>\n",
       "      <td>samsung browser 6.2</td>\n",
       "      <td>T</td>\n",
       "      <td>F</td>\n",
       "      <td>T</td>\n",
       "      <td>T</td>\n",
       "      <td>mobile</td>\n",
       "      <td>SAMSUNG SM-G892A Build/NRD90M</td>\n",
       "    </tr>\n",
       "    <tr>\n",
       "      <th>...</th>\n",
       "      <td>...</td>\n",
       "      <td>...</td>\n",
       "      <td>...</td>\n",
       "      <td>...</td>\n",
       "      <td>...</td>\n",
       "      <td>...</td>\n",
       "      <td>...</td>\n",
       "      <td>...</td>\n",
       "      <td>...</td>\n",
       "      <td>...</td>\n",
       "      <td>...</td>\n",
       "      <td>...</td>\n",
       "      <td>...</td>\n",
       "      <td>...</td>\n",
       "      <td>...</td>\n",
       "      <td>...</td>\n",
       "      <td>...</td>\n",
       "      <td>...</td>\n",
       "      <td>...</td>\n",
       "      <td>...</td>\n",
       "      <td>...</td>\n",
       "    </tr>\n",
       "    <tr>\n",
       "      <th>590535</th>\n",
       "      <td>3577535</td>\n",
       "      <td>0</td>\n",
       "      <td>15811047</td>\n",
       "      <td>49.000000</td>\n",
       "      <td>W</td>\n",
       "      <td>6550</td>\n",
       "      <td>NaN</td>\n",
       "      <td>150.0</td>\n",
       "      <td>visa</td>\n",
       "      <td>226.0</td>\n",
       "      <td>...</td>\n",
       "      <td>NaN</td>\n",
       "      <td>NaN</td>\n",
       "      <td>NaN</td>\n",
       "      <td>NaN</td>\n",
       "      <td>NaN</td>\n",
       "      <td>NaN</td>\n",
       "      <td>NaN</td>\n",
       "      <td>NaN</td>\n",
       "      <td>NaN</td>\n",
       "      <td>NaN</td>\n",
       "    </tr>\n",
       "    <tr>\n",
       "      <th>590536</th>\n",
       "      <td>3577536</td>\n",
       "      <td>0</td>\n",
       "      <td>15811049</td>\n",
       "      <td>39.500000</td>\n",
       "      <td>W</td>\n",
       "      <td>10444</td>\n",
       "      <td>225.0</td>\n",
       "      <td>150.0</td>\n",
       "      <td>mastercard</td>\n",
       "      <td>224.0</td>\n",
       "      <td>...</td>\n",
       "      <td>NaN</td>\n",
       "      <td>NaN</td>\n",
       "      <td>NaN</td>\n",
       "      <td>NaN</td>\n",
       "      <td>NaN</td>\n",
       "      <td>NaN</td>\n",
       "      <td>NaN</td>\n",
       "      <td>NaN</td>\n",
       "      <td>NaN</td>\n",
       "      <td>NaN</td>\n",
       "    </tr>\n",
       "    <tr>\n",
       "      <th>590537</th>\n",
       "      <td>3577537</td>\n",
       "      <td>0</td>\n",
       "      <td>15811079</td>\n",
       "      <td>30.950001</td>\n",
       "      <td>W</td>\n",
       "      <td>12037</td>\n",
       "      <td>595.0</td>\n",
       "      <td>150.0</td>\n",
       "      <td>mastercard</td>\n",
       "      <td>224.0</td>\n",
       "      <td>...</td>\n",
       "      <td>NaN</td>\n",
       "      <td>NaN</td>\n",
       "      <td>NaN</td>\n",
       "      <td>NaN</td>\n",
       "      <td>NaN</td>\n",
       "      <td>NaN</td>\n",
       "      <td>NaN</td>\n",
       "      <td>NaN</td>\n",
       "      <td>NaN</td>\n",
       "      <td>NaN</td>\n",
       "    </tr>\n",
       "    <tr>\n",
       "      <th>590538</th>\n",
       "      <td>3577538</td>\n",
       "      <td>0</td>\n",
       "      <td>15811088</td>\n",
       "      <td>117.000000</td>\n",
       "      <td>W</td>\n",
       "      <td>7826</td>\n",
       "      <td>481.0</td>\n",
       "      <td>150.0</td>\n",
       "      <td>mastercard</td>\n",
       "      <td>224.0</td>\n",
       "      <td>...</td>\n",
       "      <td>NaN</td>\n",
       "      <td>NaN</td>\n",
       "      <td>NaN</td>\n",
       "      <td>NaN</td>\n",
       "      <td>NaN</td>\n",
       "      <td>NaN</td>\n",
       "      <td>NaN</td>\n",
       "      <td>NaN</td>\n",
       "      <td>NaN</td>\n",
       "      <td>NaN</td>\n",
       "    </tr>\n",
       "    <tr>\n",
       "      <th>590539</th>\n",
       "      <td>3577539</td>\n",
       "      <td>0</td>\n",
       "      <td>15811131</td>\n",
       "      <td>279.950012</td>\n",
       "      <td>W</td>\n",
       "      <td>15066</td>\n",
       "      <td>170.0</td>\n",
       "      <td>150.0</td>\n",
       "      <td>mastercard</td>\n",
       "      <td>102.0</td>\n",
       "      <td>...</td>\n",
       "      <td>NaN</td>\n",
       "      <td>NaN</td>\n",
       "      <td>NaN</td>\n",
       "      <td>NaN</td>\n",
       "      <td>NaN</td>\n",
       "      <td>NaN</td>\n",
       "      <td>NaN</td>\n",
       "      <td>NaN</td>\n",
       "      <td>NaN</td>\n",
       "      <td>NaN</td>\n",
       "    </tr>\n",
       "  </tbody>\n",
       "</table>\n",
       "<p>590540 rows × 360 columns</p>\n",
       "</div>"
      ],
      "text/plain": [
       "        TransactionID  isFraud  TransactionDT  TransactionAmt ProductCD  \\\n",
       "0             2987000        0          86400       68.500000         W   \n",
       "1             2987001        0          86401       29.000000         W   \n",
       "2             2987002        0          86469       59.000000         W   \n",
       "3             2987003        0          86499       50.000000         W   \n",
       "4             2987004        0          86506       50.000000         H   \n",
       "...               ...      ...            ...             ...       ...   \n",
       "590535        3577535        0       15811047       49.000000         W   \n",
       "590536        3577536        0       15811049       39.500000         W   \n",
       "590537        3577537        0       15811079       30.950001         W   \n",
       "590538        3577538        0       15811088      117.000000         W   \n",
       "590539        3577539        0       15811131      279.950012         W   \n",
       "\n",
       "        card1  card2  card3       card4  card5  ...  id_20  id_28     id_29  \\\n",
       "0       13926    NaN  150.0    discover  142.0  ...    NaN    NaN       NaN   \n",
       "1        2755  404.0  150.0  mastercard  102.0  ...    NaN    NaN       NaN   \n",
       "2        4663  490.0  150.0        visa  166.0  ...    NaN    NaN       NaN   \n",
       "3       18132  567.0  150.0  mastercard  117.0  ...    NaN    NaN       NaN   \n",
       "4        4497  514.0  150.0  mastercard  102.0  ...  144.0    New  NotFound   \n",
       "...       ...    ...    ...         ...    ...  ...    ...    ...       ...   \n",
       "590535   6550    NaN  150.0        visa  226.0  ...    NaN    NaN       NaN   \n",
       "590536  10444  225.0  150.0  mastercard  224.0  ...    NaN    NaN       NaN   \n",
       "590537  12037  595.0  150.0  mastercard  224.0  ...    NaN    NaN       NaN   \n",
       "590538   7826  481.0  150.0  mastercard  224.0  ...    NaN    NaN       NaN   \n",
       "590539  15066  170.0  150.0  mastercard  102.0  ...    NaN    NaN       NaN   \n",
       "\n",
       "                      id_31 id_35 id_36  id_37  id_38  DeviceType  \\\n",
       "0                       NaN   NaN   NaN    NaN    NaN         NaN   \n",
       "1                       NaN   NaN   NaN    NaN    NaN         NaN   \n",
       "2                       NaN   NaN   NaN    NaN    NaN         NaN   \n",
       "3                       NaN   NaN   NaN    NaN    NaN         NaN   \n",
       "4       samsung browser 6.2     T     F      T      T      mobile   \n",
       "...                     ...   ...   ...    ...    ...         ...   \n",
       "590535                  NaN   NaN   NaN    NaN    NaN         NaN   \n",
       "590536                  NaN   NaN   NaN    NaN    NaN         NaN   \n",
       "590537                  NaN   NaN   NaN    NaN    NaN         NaN   \n",
       "590538                  NaN   NaN   NaN    NaN    NaN         NaN   \n",
       "590539                  NaN   NaN   NaN    NaN    NaN         NaN   \n",
       "\n",
       "                           DeviceInfo  \n",
       "0                                 NaN  \n",
       "1                                 NaN  \n",
       "2                                 NaN  \n",
       "3                                 NaN  \n",
       "4       SAMSUNG SM-G892A Build/NRD90M  \n",
       "...                               ...  \n",
       "590535                            NaN  \n",
       "590536                            NaN  \n",
       "590537                            NaN  \n",
       "590538                            NaN  \n",
       "590539                            NaN  \n",
       "\n",
       "[590540 rows x 360 columns]"
      ]
     },
     "execution_count": 20,
     "metadata": {},
     "output_type": "execute_result"
    }
   ],
   "source": [
    "train_df"
   ]
  },
  {
   "cell_type": "markdown",
   "id": "5209e2d5",
   "metadata": {
    "papermill": {
     "duration": 0.01772,
     "end_time": "2023-11-06T19:24:49.694526",
     "exception": false,
     "start_time": "2023-11-06T19:24:49.676806",
     "status": "completed"
    },
    "tags": []
   },
   "source": [
    "#### Заполним пропуски тренировочного и тестового датасетов"
   ]
  },
  {
   "cell_type": "markdown",
   "id": "b8906c0b",
   "metadata": {
    "papermill": {
     "duration": 0.017645,
     "end_time": "2023-11-06T19:24:49.730190",
     "exception": false,
     "start_time": "2023-11-06T19:24:49.712545",
     "status": "completed"
    },
    "tags": []
   },
   "source": [
    "Создадим списки числовых и категориальных признаков:"
   ]
  },
  {
   "cell_type": "code",
   "execution_count": 21,
   "id": "703e57e8",
   "metadata": {
    "execution": {
     "iopub.execute_input": "2023-11-06T19:24:49.768188Z",
     "iopub.status.busy": "2023-11-06T19:24:49.767791Z",
     "iopub.status.idle": "2023-11-06T19:24:50.050998Z",
     "shell.execute_reply": "2023-11-06T19:24:50.049721Z"
    },
    "papermill": {
     "duration": 0.30512,
     "end_time": "2023-11-06T19:24:50.053397",
     "exception": false,
     "start_time": "2023-11-06T19:24:49.748277",
     "status": "completed"
    },
    "tags": []
   },
   "outputs": [
    {
     "name": "stdout",
     "output_type": "stream",
     "text": [
      "len cat_features:  26\n",
      "len num_features:  332\n"
     ]
    }
   ],
   "source": [
    "cat_features = train_df.select_dtypes(include=['object']).columns\n",
    "num_features = [x for x in train_df.columns.values[2:] \n",
    "                if x not in cat_features]\n",
    "print('len cat_features: ', len(cat_features))\n",
    "print('len num_features: ', len(num_features))"
   ]
  },
  {
   "cell_type": "markdown",
   "id": "5f6c4820",
   "metadata": {
    "papermill": {
     "duration": 0.017776,
     "end_time": "2023-11-06T19:24:50.088631",
     "exception": false,
     "start_time": "2023-11-06T19:24:50.070855",
     "status": "completed"
    },
    "tags": []
   },
   "source": [
    "Пропуски в числовых признаках мы заполним средним по колонке"
   ]
  },
  {
   "cell_type": "code",
   "execution_count": 22,
   "id": "cc77197e",
   "metadata": {
    "execution": {
     "iopub.execute_input": "2023-11-06T19:24:50.126525Z",
     "iopub.status.busy": "2023-11-06T19:24:50.126094Z",
     "iopub.status.idle": "2023-11-06T19:24:55.515632Z",
     "shell.execute_reply": "2023-11-06T19:24:55.514761Z"
    },
    "papermill": {
     "duration": 5.411551,
     "end_time": "2023-11-06T19:24:55.518281",
     "exception": false,
     "start_time": "2023-11-06T19:24:50.106730",
     "status": "completed"
    },
    "tags": []
   },
   "outputs": [],
   "source": [
    "train_df[num_features] = train_df[num_features].fillna(\n",
    "    train_df[num_features].mean())"
   ]
  },
  {
   "cell_type": "markdown",
   "id": "86035459",
   "metadata": {
    "papermill": {
     "duration": 0.017678,
     "end_time": "2023-11-06T19:24:55.553914",
     "exception": false,
     "start_time": "2023-11-06T19:24:55.536236",
     "status": "completed"
    },
    "tags": []
   },
   "source": [
    "Для категориальных признаков будем использовать ```-1.0``` в качестве символа пропуска:"
   ]
  },
  {
   "cell_type": "code",
   "execution_count": 23,
   "id": "a2eff87f",
   "metadata": {
    "execution": {
     "iopub.execute_input": "2023-11-06T19:24:55.590919Z",
     "iopub.status.busy": "2023-11-06T19:24:55.590550Z",
     "iopub.status.idle": "2023-11-06T19:24:57.330040Z",
     "shell.execute_reply": "2023-11-06T19:24:57.329162Z"
    },
    "papermill": {
     "duration": 1.76169,
     "end_time": "2023-11-06T19:24:57.332724",
     "exception": false,
     "start_time": "2023-11-06T19:24:55.571034",
     "status": "completed"
    },
    "tags": []
   },
   "outputs": [],
   "source": [
    "train_df = train_df.fillna(-1)"
   ]
  },
  {
   "cell_type": "code",
   "execution_count": 24,
   "id": "42f6e6b2",
   "metadata": {
    "execution": {
     "iopub.execute_input": "2023-11-06T19:24:57.370684Z",
     "iopub.status.busy": "2023-11-06T19:24:57.370337Z",
     "iopub.status.idle": "2023-11-06T19:24:57.960441Z",
     "shell.execute_reply": "2023-11-06T19:24:57.959419Z"
    },
    "papermill": {
     "duration": 0.611294,
     "end_time": "2023-11-06T19:24:57.962695",
     "exception": false,
     "start_time": "2023-11-06T19:24:57.351401",
     "status": "completed"
    },
    "tags": []
   },
   "outputs": [
    {
     "data": {
      "text/html": [
       "<div>\n",
       "<style scoped>\n",
       "    .dataframe tbody tr th:only-of-type {\n",
       "        vertical-align: middle;\n",
       "    }\n",
       "\n",
       "    .dataframe tbody tr th {\n",
       "        vertical-align: top;\n",
       "    }\n",
       "\n",
       "    .dataframe thead th {\n",
       "        text-align: right;\n",
       "    }\n",
       "</style>\n",
       "<table border=\"1\" class=\"dataframe\">\n",
       "  <thead>\n",
       "    <tr style=\"text-align: right;\">\n",
       "      <th></th>\n",
       "      <th>TransactionID</th>\n",
       "      <th>isFraud</th>\n",
       "      <th>TransactionDT</th>\n",
       "      <th>TransactionAmt</th>\n",
       "      <th>ProductCD</th>\n",
       "      <th>card1</th>\n",
       "      <th>card2</th>\n",
       "      <th>card3</th>\n",
       "      <th>card4</th>\n",
       "      <th>card5</th>\n",
       "      <th>...</th>\n",
       "      <th>id_20</th>\n",
       "      <th>id_28</th>\n",
       "      <th>id_29</th>\n",
       "      <th>id_31</th>\n",
       "      <th>id_35</th>\n",
       "      <th>id_36</th>\n",
       "      <th>id_37</th>\n",
       "      <th>id_38</th>\n",
       "      <th>DeviceType</th>\n",
       "      <th>DeviceInfo</th>\n",
       "    </tr>\n",
       "  </thead>\n",
       "  <tbody>\n",
       "    <tr>\n",
       "      <th>0</th>\n",
       "      <td>2987000</td>\n",
       "      <td>0</td>\n",
       "      <td>86400</td>\n",
       "      <td>68.500000</td>\n",
       "      <td>W</td>\n",
       "      <td>13926</td>\n",
       "      <td>362.555511</td>\n",
       "      <td>150.0</td>\n",
       "      <td>discover</td>\n",
       "      <td>142.0</td>\n",
       "      <td>...</td>\n",
       "      <td>403.882568</td>\n",
       "      <td>-1</td>\n",
       "      <td>-1</td>\n",
       "      <td>-1</td>\n",
       "      <td>-1</td>\n",
       "      <td>-1</td>\n",
       "      <td>-1</td>\n",
       "      <td>-1</td>\n",
       "      <td>-1</td>\n",
       "      <td>-1</td>\n",
       "    </tr>\n",
       "    <tr>\n",
       "      <th>1</th>\n",
       "      <td>2987001</td>\n",
       "      <td>0</td>\n",
       "      <td>86401</td>\n",
       "      <td>29.000000</td>\n",
       "      <td>W</td>\n",
       "      <td>2755</td>\n",
       "      <td>404.000000</td>\n",
       "      <td>150.0</td>\n",
       "      <td>mastercard</td>\n",
       "      <td>102.0</td>\n",
       "      <td>...</td>\n",
       "      <td>403.882568</td>\n",
       "      <td>-1</td>\n",
       "      <td>-1</td>\n",
       "      <td>-1</td>\n",
       "      <td>-1</td>\n",
       "      <td>-1</td>\n",
       "      <td>-1</td>\n",
       "      <td>-1</td>\n",
       "      <td>-1</td>\n",
       "      <td>-1</td>\n",
       "    </tr>\n",
       "    <tr>\n",
       "      <th>2</th>\n",
       "      <td>2987002</td>\n",
       "      <td>0</td>\n",
       "      <td>86469</td>\n",
       "      <td>59.000000</td>\n",
       "      <td>W</td>\n",
       "      <td>4663</td>\n",
       "      <td>490.000000</td>\n",
       "      <td>150.0</td>\n",
       "      <td>visa</td>\n",
       "      <td>166.0</td>\n",
       "      <td>...</td>\n",
       "      <td>403.882568</td>\n",
       "      <td>-1</td>\n",
       "      <td>-1</td>\n",
       "      <td>-1</td>\n",
       "      <td>-1</td>\n",
       "      <td>-1</td>\n",
       "      <td>-1</td>\n",
       "      <td>-1</td>\n",
       "      <td>-1</td>\n",
       "      <td>-1</td>\n",
       "    </tr>\n",
       "    <tr>\n",
       "      <th>3</th>\n",
       "      <td>2987003</td>\n",
       "      <td>0</td>\n",
       "      <td>86499</td>\n",
       "      <td>50.000000</td>\n",
       "      <td>W</td>\n",
       "      <td>18132</td>\n",
       "      <td>567.000000</td>\n",
       "      <td>150.0</td>\n",
       "      <td>mastercard</td>\n",
       "      <td>117.0</td>\n",
       "      <td>...</td>\n",
       "      <td>403.882568</td>\n",
       "      <td>-1</td>\n",
       "      <td>-1</td>\n",
       "      <td>-1</td>\n",
       "      <td>-1</td>\n",
       "      <td>-1</td>\n",
       "      <td>-1</td>\n",
       "      <td>-1</td>\n",
       "      <td>-1</td>\n",
       "      <td>-1</td>\n",
       "    </tr>\n",
       "    <tr>\n",
       "      <th>4</th>\n",
       "      <td>2987004</td>\n",
       "      <td>0</td>\n",
       "      <td>86506</td>\n",
       "      <td>50.000000</td>\n",
       "      <td>H</td>\n",
       "      <td>4497</td>\n",
       "      <td>514.000000</td>\n",
       "      <td>150.0</td>\n",
       "      <td>mastercard</td>\n",
       "      <td>102.0</td>\n",
       "      <td>...</td>\n",
       "      <td>144.000000</td>\n",
       "      <td>New</td>\n",
       "      <td>NotFound</td>\n",
       "      <td>samsung browser 6.2</td>\n",
       "      <td>T</td>\n",
       "      <td>F</td>\n",
       "      <td>T</td>\n",
       "      <td>T</td>\n",
       "      <td>mobile</td>\n",
       "      <td>SAMSUNG SM-G892A Build/NRD90M</td>\n",
       "    </tr>\n",
       "    <tr>\n",
       "      <th>...</th>\n",
       "      <td>...</td>\n",
       "      <td>...</td>\n",
       "      <td>...</td>\n",
       "      <td>...</td>\n",
       "      <td>...</td>\n",
       "      <td>...</td>\n",
       "      <td>...</td>\n",
       "      <td>...</td>\n",
       "      <td>...</td>\n",
       "      <td>...</td>\n",
       "      <td>...</td>\n",
       "      <td>...</td>\n",
       "      <td>...</td>\n",
       "      <td>...</td>\n",
       "      <td>...</td>\n",
       "      <td>...</td>\n",
       "      <td>...</td>\n",
       "      <td>...</td>\n",
       "      <td>...</td>\n",
       "      <td>...</td>\n",
       "      <td>...</td>\n",
       "    </tr>\n",
       "    <tr>\n",
       "      <th>590535</th>\n",
       "      <td>3577535</td>\n",
       "      <td>0</td>\n",
       "      <td>15811047</td>\n",
       "      <td>49.000000</td>\n",
       "      <td>W</td>\n",
       "      <td>6550</td>\n",
       "      <td>362.555511</td>\n",
       "      <td>150.0</td>\n",
       "      <td>visa</td>\n",
       "      <td>226.0</td>\n",
       "      <td>...</td>\n",
       "      <td>403.882568</td>\n",
       "      <td>-1</td>\n",
       "      <td>-1</td>\n",
       "      <td>-1</td>\n",
       "      <td>-1</td>\n",
       "      <td>-1</td>\n",
       "      <td>-1</td>\n",
       "      <td>-1</td>\n",
       "      <td>-1</td>\n",
       "      <td>-1</td>\n",
       "    </tr>\n",
       "    <tr>\n",
       "      <th>590536</th>\n",
       "      <td>3577536</td>\n",
       "      <td>0</td>\n",
       "      <td>15811049</td>\n",
       "      <td>39.500000</td>\n",
       "      <td>W</td>\n",
       "      <td>10444</td>\n",
       "      <td>225.000000</td>\n",
       "      <td>150.0</td>\n",
       "      <td>mastercard</td>\n",
       "      <td>224.0</td>\n",
       "      <td>...</td>\n",
       "      <td>403.882568</td>\n",
       "      <td>-1</td>\n",
       "      <td>-1</td>\n",
       "      <td>-1</td>\n",
       "      <td>-1</td>\n",
       "      <td>-1</td>\n",
       "      <td>-1</td>\n",
       "      <td>-1</td>\n",
       "      <td>-1</td>\n",
       "      <td>-1</td>\n",
       "    </tr>\n",
       "    <tr>\n",
       "      <th>590537</th>\n",
       "      <td>3577537</td>\n",
       "      <td>0</td>\n",
       "      <td>15811079</td>\n",
       "      <td>30.950001</td>\n",
       "      <td>W</td>\n",
       "      <td>12037</td>\n",
       "      <td>595.000000</td>\n",
       "      <td>150.0</td>\n",
       "      <td>mastercard</td>\n",
       "      <td>224.0</td>\n",
       "      <td>...</td>\n",
       "      <td>403.882568</td>\n",
       "      <td>-1</td>\n",
       "      <td>-1</td>\n",
       "      <td>-1</td>\n",
       "      <td>-1</td>\n",
       "      <td>-1</td>\n",
       "      <td>-1</td>\n",
       "      <td>-1</td>\n",
       "      <td>-1</td>\n",
       "      <td>-1</td>\n",
       "    </tr>\n",
       "    <tr>\n",
       "      <th>590538</th>\n",
       "      <td>3577538</td>\n",
       "      <td>0</td>\n",
       "      <td>15811088</td>\n",
       "      <td>117.000000</td>\n",
       "      <td>W</td>\n",
       "      <td>7826</td>\n",
       "      <td>481.000000</td>\n",
       "      <td>150.0</td>\n",
       "      <td>mastercard</td>\n",
       "      <td>224.0</td>\n",
       "      <td>...</td>\n",
       "      <td>403.882568</td>\n",
       "      <td>-1</td>\n",
       "      <td>-1</td>\n",
       "      <td>-1</td>\n",
       "      <td>-1</td>\n",
       "      <td>-1</td>\n",
       "      <td>-1</td>\n",
       "      <td>-1</td>\n",
       "      <td>-1</td>\n",
       "      <td>-1</td>\n",
       "    </tr>\n",
       "    <tr>\n",
       "      <th>590539</th>\n",
       "      <td>3577539</td>\n",
       "      <td>0</td>\n",
       "      <td>15811131</td>\n",
       "      <td>279.950012</td>\n",
       "      <td>W</td>\n",
       "      <td>15066</td>\n",
       "      <td>170.000000</td>\n",
       "      <td>150.0</td>\n",
       "      <td>mastercard</td>\n",
       "      <td>102.0</td>\n",
       "      <td>...</td>\n",
       "      <td>403.882568</td>\n",
       "      <td>-1</td>\n",
       "      <td>-1</td>\n",
       "      <td>-1</td>\n",
       "      <td>-1</td>\n",
       "      <td>-1</td>\n",
       "      <td>-1</td>\n",
       "      <td>-1</td>\n",
       "      <td>-1</td>\n",
       "      <td>-1</td>\n",
       "    </tr>\n",
       "  </tbody>\n",
       "</table>\n",
       "<p>590540 rows × 360 columns</p>\n",
       "</div>"
      ],
      "text/plain": [
       "        TransactionID  isFraud  TransactionDT  TransactionAmt ProductCD  \\\n",
       "0             2987000        0          86400       68.500000         W   \n",
       "1             2987001        0          86401       29.000000         W   \n",
       "2             2987002        0          86469       59.000000         W   \n",
       "3             2987003        0          86499       50.000000         W   \n",
       "4             2987004        0          86506       50.000000         H   \n",
       "...               ...      ...            ...             ...       ...   \n",
       "590535        3577535        0       15811047       49.000000         W   \n",
       "590536        3577536        0       15811049       39.500000         W   \n",
       "590537        3577537        0       15811079       30.950001         W   \n",
       "590538        3577538        0       15811088      117.000000         W   \n",
       "590539        3577539        0       15811131      279.950012         W   \n",
       "\n",
       "        card1       card2  card3       card4  card5  ...       id_20  id_28  \\\n",
       "0       13926  362.555511  150.0    discover  142.0  ...  403.882568     -1   \n",
       "1        2755  404.000000  150.0  mastercard  102.0  ...  403.882568     -1   \n",
       "2        4663  490.000000  150.0        visa  166.0  ...  403.882568     -1   \n",
       "3       18132  567.000000  150.0  mastercard  117.0  ...  403.882568     -1   \n",
       "4        4497  514.000000  150.0  mastercard  102.0  ...  144.000000    New   \n",
       "...       ...         ...    ...         ...    ...  ...         ...    ...   \n",
       "590535   6550  362.555511  150.0        visa  226.0  ...  403.882568     -1   \n",
       "590536  10444  225.000000  150.0  mastercard  224.0  ...  403.882568     -1   \n",
       "590537  12037  595.000000  150.0  mastercard  224.0  ...  403.882568     -1   \n",
       "590538   7826  481.000000  150.0  mastercard  224.0  ...  403.882568     -1   \n",
       "590539  15066  170.000000  150.0  mastercard  102.0  ...  403.882568     -1   \n",
       "\n",
       "           id_29                id_31 id_35 id_36  id_37  id_38  DeviceType  \\\n",
       "0             -1                   -1    -1    -1     -1     -1          -1   \n",
       "1             -1                   -1    -1    -1     -1     -1          -1   \n",
       "2             -1                   -1    -1    -1     -1     -1          -1   \n",
       "3             -1                   -1    -1    -1     -1     -1          -1   \n",
       "4       NotFound  samsung browser 6.2     T     F      T      T      mobile   \n",
       "...          ...                  ...   ...   ...    ...    ...         ...   \n",
       "590535        -1                   -1    -1    -1     -1     -1          -1   \n",
       "590536        -1                   -1    -1    -1     -1     -1          -1   \n",
       "590537        -1                   -1    -1    -1     -1     -1          -1   \n",
       "590538        -1                   -1    -1    -1     -1     -1          -1   \n",
       "590539        -1                   -1    -1    -1     -1     -1          -1   \n",
       "\n",
       "                           DeviceInfo  \n",
       "0                                  -1  \n",
       "1                                  -1  \n",
       "2                                  -1  \n",
       "3                                  -1  \n",
       "4       SAMSUNG SM-G892A Build/NRD90M  \n",
       "...                               ...  \n",
       "590535                             -1  \n",
       "590536                             -1  \n",
       "590537                             -1  \n",
       "590538                             -1  \n",
       "590539                             -1  \n",
       "\n",
       "[590540 rows x 360 columns]"
      ]
     },
     "execution_count": 24,
     "metadata": {},
     "output_type": "execute_result"
    }
   ],
   "source": [
    "train_df"
   ]
  },
  {
   "cell_type": "markdown",
   "id": "e11b523d",
   "metadata": {
    "papermill": {
     "duration": 0.018535,
     "end_time": "2023-11-06T19:24:57.999946",
     "exception": false,
     "start_time": "2023-11-06T19:24:57.981411",
     "status": "completed"
    },
    "tags": []
   },
   "source": [
    "Аналогично заполним пропуски в тестовом датасете:"
   ]
  },
  {
   "cell_type": "code",
   "execution_count": 25,
   "id": "7d60600f",
   "metadata": {
    "execution": {
     "iopub.execute_input": "2023-11-06T19:24:58.038556Z",
     "iopub.status.busy": "2023-11-06T19:24:58.038154Z",
     "iopub.status.idle": "2023-11-06T19:25:01.870891Z",
     "shell.execute_reply": "2023-11-06T19:25:01.869573Z"
    },
    "papermill": {
     "duration": 3.856033,
     "end_time": "2023-11-06T19:25:01.873948",
     "exception": false,
     "start_time": "2023-11-06T19:24:58.017915",
     "status": "completed"
    },
    "tags": []
   },
   "outputs": [],
   "source": [
    "test_df[num_features] = test_df[num_features].fillna(\n",
    "    test_df[num_features].mean())"
   ]
  },
  {
   "cell_type": "code",
   "execution_count": 26,
   "id": "8fbcb91b",
   "metadata": {
    "execution": {
     "iopub.execute_input": "2023-11-06T19:25:01.911599Z",
     "iopub.status.busy": "2023-11-06T19:25:01.911237Z",
     "iopub.status.idle": "2023-11-06T19:25:03.434997Z",
     "shell.execute_reply": "2023-11-06T19:25:03.434010Z"
    },
    "papermill": {
     "duration": 1.545509,
     "end_time": "2023-11-06T19:25:03.437753",
     "exception": false,
     "start_time": "2023-11-06T19:25:01.892244",
     "status": "completed"
    },
    "tags": []
   },
   "outputs": [],
   "source": [
    "test_df = test_df.fillna(-1)"
   ]
  },
  {
   "cell_type": "markdown",
   "id": "e32849a7",
   "metadata": {
    "papermill": {
     "duration": 0.017646,
     "end_time": "2023-11-06T19:25:03.474850",
     "exception": false,
     "start_time": "2023-11-06T19:25:03.457204",
     "status": "completed"
    },
    "tags": []
   },
   "source": [
    "Используя ```Label Encoder``` преорабразуем категориальные признаки в числа"
   ]
  },
  {
   "cell_type": "code",
   "execution_count": 27,
   "id": "b7c3d13e",
   "metadata": {
    "execution": {
     "iopub.execute_input": "2023-11-06T19:25:03.512898Z",
     "iopub.status.busy": "2023-11-06T19:25:03.511819Z",
     "iopub.status.idle": "2023-11-06T19:25:35.265626Z",
     "shell.execute_reply": "2023-11-06T19:25:35.264643Z"
    },
    "papermill": {
     "duration": 31.77576,
     "end_time": "2023-11-06T19:25:35.268307",
     "exception": false,
     "start_time": "2023-11-06T19:25:03.492547",
     "status": "completed"
    },
    "tags": []
   },
   "outputs": [],
   "source": [
    "for f in train_df.columns:\n",
    "    if train_df[f].dtype=='object':\n",
    "        le = LabelEncoder()\n",
    "        le.fit(list(train_df[f].values))\n",
    "        train_df[f] = le.transform(list(train_df[f].values))"
   ]
  },
  {
   "cell_type": "code",
   "execution_count": 28,
   "id": "34de6f54",
   "metadata": {
    "execution": {
     "iopub.execute_input": "2023-11-06T19:25:35.307878Z",
     "iopub.status.busy": "2023-11-06T19:25:35.307471Z",
     "iopub.status.idle": "2023-11-06T19:26:02.634288Z",
     "shell.execute_reply": "2023-11-06T19:26:02.633354Z"
    },
    "papermill": {
     "duration": 27.349557,
     "end_time": "2023-11-06T19:26:02.636821",
     "exception": false,
     "start_time": "2023-11-06T19:25:35.287264",
     "status": "completed"
    },
    "tags": []
   },
   "outputs": [],
   "source": [
    "for f in test_df.columns:\n",
    "    if test_df[f].dtype=='object':\n",
    "        le = LabelEncoder()\n",
    "        le.fit(list(test_df[f].values))\n",
    "        test_df[f] = le.transform(list(test_df[f].values))"
   ]
  },
  {
   "cell_type": "markdown",
   "id": "57acf378",
   "metadata": {
    "papermill": {
     "duration": 0.018773,
     "end_time": "2023-11-06T19:26:02.674549",
     "exception": false,
     "start_time": "2023-11-06T19:26:02.655776",
     "status": "completed"
    },
    "tags": []
   },
   "source": [
    "Посмотрим на объёмы занимаемой памяти после преобразования числовых типов и кодирования типов ```object``` в числовые типы"
   ]
  },
  {
   "cell_type": "markdown",
   "id": "a2014969",
   "metadata": {
    "papermill": {
     "duration": 0.018192,
     "end_time": "2023-11-06T19:26:02.711128",
     "exception": false,
     "start_time": "2023-11-06T19:26:02.692936",
     "status": "completed"
    },
    "tags": []
   },
   "source": [
    "Напишем функцию для подсчёт изменений памяти:"
   ]
  },
  {
   "cell_type": "code",
   "execution_count": 29,
   "id": "426bfa87",
   "metadata": {
    "execution": {
     "iopub.execute_input": "2023-11-06T19:26:02.749856Z",
     "iopub.status.busy": "2023-11-06T19:26:02.749443Z",
     "iopub.status.idle": "2023-11-06T19:26:02.755140Z",
     "shell.execute_reply": "2023-11-06T19:26:02.754132Z"
    },
    "papermill": {
     "duration": 0.027643,
     "end_time": "2023-11-06T19:26:02.757243",
     "exception": false,
     "start_time": "2023-11-06T19:26:02.729600",
     "status": "completed"
    },
    "tags": []
   },
   "outputs": [],
   "source": [
    "def memory_changes(start_mem_usage, df, df_name):\n",
    "    cur_mem_usage = memory_usage(df)\n",
    "    diff_mem = (start_mem_usage - cur_mem_usage)\n",
    "    diff_mem_prct = 100-((cur_mem_usage * 100)/start_mem_usage)\n",
    "    print(f'Memory usage of {df_name} decreased from {start_mem_usage} to {cur_mem_usage} on {diff_mem} Mb ({diff_mem_prct})%')"
   ]
  },
  {
   "cell_type": "markdown",
   "id": "4eccee15",
   "metadata": {
    "papermill": {
     "duration": 0.018547,
     "end_time": "2023-11-06T19:26:02.795150",
     "exception": false,
     "start_time": "2023-11-06T19:26:02.776603",
     "status": "completed"
    },
    "tags": []
   },
   "source": [
    "### ```train_df``` после преобразований"
   ]
  },
  {
   "cell_type": "code",
   "execution_count": 30,
   "id": "639272fb",
   "metadata": {
    "execution": {
     "iopub.execute_input": "2023-11-06T19:26:02.834528Z",
     "iopub.status.busy": "2023-11-06T19:26:02.834164Z",
     "iopub.status.idle": "2023-11-06T19:26:02.857599Z",
     "shell.execute_reply": "2023-11-06T19:26:02.856885Z"
    },
    "papermill": {
     "duration": 0.046137,
     "end_time": "2023-11-06T19:26:02.859883",
     "exception": false,
     "start_time": "2023-11-06T19:26:02.813746",
     "status": "completed"
    },
    "tags": []
   },
   "outputs": [
    {
     "name": "stdout",
     "output_type": "stream",
     "text": [
      "Memory usage of train_df decreased from 2567.094612121582 to 866.7384986877441 on 1700.356113433838 Mb (66.23659702314494)%\n"
     ]
    }
   ],
   "source": [
    "memory_changes(train_df_GB * 1024, df=train_df, df_name='train_df')"
   ]
  },
  {
   "cell_type": "markdown",
   "id": "b5b97a8a",
   "metadata": {
    "papermill": {
     "duration": 0.018065,
     "end_time": "2023-11-06T19:26:02.896224",
     "exception": false,
     "start_time": "2023-11-06T19:26:02.878159",
     "status": "completed"
    },
    "tags": []
   },
   "source": [
    "### ```test_df``` после преобразований"
   ]
  },
  {
   "cell_type": "code",
   "execution_count": 31,
   "id": "6061db0a",
   "metadata": {
    "execution": {
     "iopub.execute_input": "2023-11-06T19:26:02.934302Z",
     "iopub.status.busy": "2023-11-06T19:26:02.933890Z",
     "iopub.status.idle": "2023-11-06T19:26:02.959490Z",
     "shell.execute_reply": "2023-11-06T19:26:02.958315Z"
    },
    "papermill": {
     "duration": 0.04793,
     "end_time": "2023-11-06T19:26:02.961962",
     "exception": false,
     "start_time": "2023-11-06T19:26:02.914032",
     "status": "completed"
    },
    "tags": []
   },
   "outputs": [
    {
     "name": "stdout",
     "output_type": "stream",
     "text": [
      "Memory usage of test_df decreased from 2214.031036376953 to 743.1897029876709 on 1470.8413333892822 Mb (66.43273329158797)%\n"
     ]
    }
   ],
   "source": [
    "memory_changes(test_df_GB * 1024, df=test_df, df_name='test_df')"
   ]
  },
  {
   "cell_type": "markdown",
   "id": "d9130784",
   "metadata": {
    "papermill": {
     "duration": 0.018252,
     "end_time": "2023-11-06T19:26:02.999114",
     "exception": false,
     "start_time": "2023-11-06T19:26:02.980862",
     "status": "completed"
    },
    "tags": []
   },
   "source": [
    "Т.к. мы объединили датасеты ```*identity``` и ```*transaction```, удалим их для того, чтобы освободить память"
   ]
  },
  {
   "cell_type": "code",
   "execution_count": 32,
   "id": "038ecf15",
   "metadata": {
    "execution": {
     "iopub.execute_input": "2023-11-06T19:26:03.038523Z",
     "iopub.status.busy": "2023-11-06T19:26:03.038051Z",
     "iopub.status.idle": "2023-11-06T19:26:03.145805Z",
     "shell.execute_reply": "2023-11-06T19:26:03.144851Z"
    },
    "papermill": {
     "duration": 0.130469,
     "end_time": "2023-11-06T19:26:03.148078",
     "exception": false,
     "start_time": "2023-11-06T19:26:03.017609",
     "status": "completed"
    },
    "tags": []
   },
   "outputs": [
    {
     "data": {
      "text/plain": [
       "<function gc.collect(generation=2)>"
      ]
     },
     "execution_count": 32,
     "metadata": {},
     "output_type": "execute_result"
    }
   ],
   "source": [
    "del train_transaction\n",
    "del train_identity\n",
    "del test_transaction\n",
    "del test_identity\n",
    "gc.collect"
   ]
  }
 ],
 "metadata": {
  "kernelspec": {
   "display_name": "Python 3",
   "language": "python",
   "name": "python3"
  },
  "language_info": {
   "codemirror_mode": {
    "name": "ipython",
    "version": 3
   },
   "file_extension": ".py",
   "mimetype": "text/x-python",
   "name": "python",
   "nbconvert_exporter": "python",
   "pygments_lexer": "ipython3",
   "version": "3.10.12"
  },
  "papermill": {
   "default_parameters": {},
   "duration": 225.024763,
   "end_time": "2023-11-06T19:26:04.190735",
   "environment_variables": {},
   "exception": null,
   "input_path": "__notebook__.ipynb",
   "output_path": "__notebook__.ipynb",
   "parameters": {},
   "start_time": "2023-11-06T19:22:19.165972",
   "version": "2.4.0"
  }
 },
 "nbformat": 4,
 "nbformat_minor": 5
}
