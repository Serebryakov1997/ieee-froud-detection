{
 "cells": [
  {
   "cell_type": "code",
   "execution_count": 1,
   "id": "af1b122f",
   "metadata": {
    "_cell_guid": "b1076dfc-b9ad-4769-8c92-a6c4dae69d19",
    "_uuid": "8f2839f25d086af736a60e9eeb907d3b93b6e0e5",
    "execution": {
     "iopub.execute_input": "2023-11-06T13:41:09.174262Z",
     "iopub.status.busy": "2023-11-06T13:41:09.173692Z",
     "iopub.status.idle": "2023-11-06T13:41:10.855809Z",
     "shell.execute_reply": "2023-11-06T13:41:10.854123Z"
    },
    "papermill": {
     "duration": 1.700132,
     "end_time": "2023-11-06T13:41:10.858734",
     "exception": false,
     "start_time": "2023-11-06T13:41:09.158602",
     "status": "completed"
    },
    "tags": []
   },
   "outputs": [
    {
     "name": "stdout",
     "output_type": "stream",
     "text": [
      "/kaggle/input/ieee-fraud-detection/sample_submission.csv\n",
      "/kaggle/input/ieee-fraud-detection/test_identity.csv\n",
      "/kaggle/input/ieee-fraud-detection/train_identity.csv\n",
      "/kaggle/input/ieee-fraud-detection/test_transaction.csv\n",
      "/kaggle/input/ieee-fraud-detection/train_transaction.csv\n"
     ]
    }
   ],
   "source": [
    "# This Python 3 environment comes with many helpful analytics libraries installed\n",
    "# It is defined by the kaggle/python Docker image: https://github.com/kaggle/docker-python\n",
    "# For example, here's several helpful packages to load\n",
    "\n",
    "import numpy as np # linear algebra\n",
    "import pandas as pd # data processing, CSV file I/O (e.g. pd.read_csv)\n",
    "import gc\n",
    "import numpy as np\n",
    "import matplotlib.pyplot as plt\n",
    "import seaborn as sns\n",
    "# Input data files are available in the read-only \"../input/\" directory\n",
    "# For example, running this (by clicking run or pressing Shift+Enter) will list all files under the input directory\n",
    "\n",
    "import os\n",
    "for dirname, _, filenames in os.walk('/kaggle/input'):\n",
    "    for filename in filenames:\n",
    "        print(os.path.join(dirname, filename))\n",
    "\n",
    "# You can write up to 20GB to the current directory (/kaggle/working/) that gets preserved as output when you create a version using \"Save & Run All\" \n",
    "# You can also write temporary files to /kaggle/temp/, but they won't be saved outside of the current session"
   ]
  },
  {
   "cell_type": "markdown",
   "id": "7a10afdf",
   "metadata": {
    "papermill": {
     "duration": 0.012463,
     "end_time": "2023-11-06T13:41:10.884577",
     "exception": false,
     "start_time": "2023-11-06T13:41:10.872114",
     "status": "completed"
    },
    "tags": []
   },
   "source": [
    "### Данный проект решает задачу бинарной классификации.\n",
    "### Нужно предсказать, к какому типу относится транзакция - мошенническая она ли нет."
   ]
  },
  {
   "cell_type": "markdown",
   "id": "df3b069e",
   "metadata": {
    "papermill": {
     "duration": 0.012762,
     "end_time": "2023-11-06T13:41:10.910179",
     "exception": false,
     "start_time": "2023-11-06T13:41:10.897417",
     "status": "completed"
    },
    "tags": []
   },
   "source": [
    "#### Данные в датасете **transaction**:\n",
    "<span style=\"font-size: 18px;\">\n",
    "    \n",
    "- TransactionDT - дельта времени от заданного эталонного значения времени (не актуального значения) \n",
    "- TransactionAMT - транзакционный платёж в USD\n",
    "- ProductCD - продуктовый код, продукт каждой транзакции\n",
    "- card1 - card6 - информация платёжной карты, такая как: тип карты, категория, банк выпуска, страна и т.д.\n",
    "- addr - адрес\n",
    "- dist - расстояние\n",
    "- P_ and (R_) emaildomain: домены покупателя и получателя\n",
    "- C1-C14 - подсчёт, например сколько адресов связано с платёжной картой и т.д. Фактический смысл скрыт\n",
    "- D1-D15 - дельта времени, количество дней между предыдущей транзакцией, и т.д.\n",
    "- M1 - M9 -совпадение, например имена на карте и адресе и т.д.\n",
    "- Vxxx - Vesta разработала богатые функции, включая ранжирование, подсчёт и другие отношения между сущностями\n",
    "</span>"
   ]
  },
  {
   "cell_type": "markdown",
   "id": "ba899a55",
   "metadata": {
    "papermill": {
     "duration": 0.012557,
     "end_time": "2023-11-06T13:41:10.936258",
     "exception": false,
     "start_time": "2023-11-06T13:41:10.923701",
     "status": "completed"
    },
    "tags": []
   },
   "source": [
    "<span style=\"font-size:18px;\">\n",
    "Категориальные признаки:\n",
    "\n",
    "- ProductCD\n",
    "- card1-card6\n",
    "- addr1, addr2\n",
    "- P_emaildomain\n",
    "- R_email_domain\n",
    "- M1 - M9\n",
    "</span>"
   ]
  },
  {
   "cell_type": "markdown",
   "id": "41ca4878",
   "metadata": {
    "papermill": {
     "duration": 0.012465,
     "end_time": "2023-11-06T13:41:10.961688",
     "exception": false,
     "start_time": "2023-11-06T13:41:10.949223",
     "status": "completed"
    },
    "tags": []
   },
   "source": [
    "#### Данные в датасете **Identity**\n",
    "<span style=\"font-size:18px;\">\n",
    "Переменные в этой таблице - идентификационные данные:\n",
    "    \n",
    "- информация о сетевом соединении (IP, ISP, прокси и т.д.)\n",
    "- цифровая подпись (UA/браузер/ОС/версия и т.д.), связанные с транзакциями.\n",
    "Их собирает система защиты от мошенничества Vesta и партнеры цифровой безопасности.\n",
    "(Имена полей скрыты, и пояснения значений полей не будет в целях защиты конфиденциальности и их договорного соглашения)\n",
    "</span>"
   ]
  },
  {
   "cell_type": "markdown",
   "id": "acd4400e",
   "metadata": {
    "papermill": {
     "duration": 0.013337,
     "end_time": "2023-11-06T13:41:10.989274",
     "exception": false,
     "start_time": "2023-11-06T13:41:10.975937",
     "status": "completed"
    },
    "tags": []
   },
   "source": [
    "<span style=\"font-size:18px;\">\n",
    "Категориальные признаки:\n",
    "    \n",
    "- DeviceType\n",
    "- DeviceInfo\n",
    "- id_12 - id_38\n",
    "</span>"
   ]
  },
  {
   "cell_type": "markdown",
   "id": "093f5011",
   "metadata": {
    "papermill": {
     "duration": 0.013155,
     "end_time": "2023-11-06T13:41:11.016287",
     "exception": false,
     "start_time": "2023-11-06T13:41:11.003132",
     "status": "completed"
    },
    "tags": []
   },
   "source": [
    "### Посмотрим, что из себя представляют данные"
   ]
  },
  {
   "cell_type": "code",
   "execution_count": 2,
   "id": "1d5a9911",
   "metadata": {
    "execution": {
     "iopub.execute_input": "2023-11-06T13:41:11.044960Z",
     "iopub.status.busy": "2023-11-06T13:41:11.044488Z",
     "iopub.status.idle": "2023-11-06T13:41:11.810787Z",
     "shell.execute_reply": "2023-11-06T13:41:11.809551Z"
    },
    "papermill": {
     "duration": 0.78344,
     "end_time": "2023-11-06T13:41:11.813001",
     "exception": false,
     "start_time": "2023-11-06T13:41:11.029561",
     "status": "completed"
    },
    "tags": []
   },
   "outputs": [],
   "source": [
    "train_identity_data = pd.read_csv('/kaggle/input/ieee-fraud-detection/train_identity.csv')"
   ]
  },
  {
   "cell_type": "code",
   "execution_count": 3,
   "id": "e7ab164a",
   "metadata": {
    "execution": {
     "iopub.execute_input": "2023-11-06T13:41:11.841047Z",
     "iopub.status.busy": "2023-11-06T13:41:11.840740Z",
     "iopub.status.idle": "2023-11-06T13:41:11.881136Z",
     "shell.execute_reply": "2023-11-06T13:41:11.880024Z"
    },
    "papermill": {
     "duration": 0.057531,
     "end_time": "2023-11-06T13:41:11.883887",
     "exception": false,
     "start_time": "2023-11-06T13:41:11.826356",
     "status": "completed"
    },
    "tags": []
   },
   "outputs": [
    {
     "data": {
      "text/html": [
       "<div>\n",
       "<style scoped>\n",
       "    .dataframe tbody tr th:only-of-type {\n",
       "        vertical-align: middle;\n",
       "    }\n",
       "\n",
       "    .dataframe tbody tr th {\n",
       "        vertical-align: top;\n",
       "    }\n",
       "\n",
       "    .dataframe thead th {\n",
       "        text-align: right;\n",
       "    }\n",
       "</style>\n",
       "<table border=\"1\" class=\"dataframe\">\n",
       "  <thead>\n",
       "    <tr style=\"text-align: right;\">\n",
       "      <th></th>\n",
       "      <th>TransactionID</th>\n",
       "      <th>id_01</th>\n",
       "      <th>id_02</th>\n",
       "      <th>id_03</th>\n",
       "      <th>id_04</th>\n",
       "      <th>id_05</th>\n",
       "      <th>id_06</th>\n",
       "      <th>id_07</th>\n",
       "      <th>id_08</th>\n",
       "      <th>id_09</th>\n",
       "      <th>...</th>\n",
       "      <th>id_31</th>\n",
       "      <th>id_32</th>\n",
       "      <th>id_33</th>\n",
       "      <th>id_34</th>\n",
       "      <th>id_35</th>\n",
       "      <th>id_36</th>\n",
       "      <th>id_37</th>\n",
       "      <th>id_38</th>\n",
       "      <th>DeviceType</th>\n",
       "      <th>DeviceInfo</th>\n",
       "    </tr>\n",
       "  </thead>\n",
       "  <tbody>\n",
       "    <tr>\n",
       "      <th>0</th>\n",
       "      <td>2987004</td>\n",
       "      <td>0.0</td>\n",
       "      <td>70787.0</td>\n",
       "      <td>NaN</td>\n",
       "      <td>NaN</td>\n",
       "      <td>NaN</td>\n",
       "      <td>NaN</td>\n",
       "      <td>NaN</td>\n",
       "      <td>NaN</td>\n",
       "      <td>NaN</td>\n",
       "      <td>...</td>\n",
       "      <td>samsung browser 6.2</td>\n",
       "      <td>32.0</td>\n",
       "      <td>2220x1080</td>\n",
       "      <td>match_status:2</td>\n",
       "      <td>T</td>\n",
       "      <td>F</td>\n",
       "      <td>T</td>\n",
       "      <td>T</td>\n",
       "      <td>mobile</td>\n",
       "      <td>SAMSUNG SM-G892A Build/NRD90M</td>\n",
       "    </tr>\n",
       "    <tr>\n",
       "      <th>1</th>\n",
       "      <td>2987008</td>\n",
       "      <td>-5.0</td>\n",
       "      <td>98945.0</td>\n",
       "      <td>NaN</td>\n",
       "      <td>NaN</td>\n",
       "      <td>0.0</td>\n",
       "      <td>-5.0</td>\n",
       "      <td>NaN</td>\n",
       "      <td>NaN</td>\n",
       "      <td>NaN</td>\n",
       "      <td>...</td>\n",
       "      <td>mobile safari 11.0</td>\n",
       "      <td>32.0</td>\n",
       "      <td>1334x750</td>\n",
       "      <td>match_status:1</td>\n",
       "      <td>T</td>\n",
       "      <td>F</td>\n",
       "      <td>F</td>\n",
       "      <td>T</td>\n",
       "      <td>mobile</td>\n",
       "      <td>iOS Device</td>\n",
       "    </tr>\n",
       "    <tr>\n",
       "      <th>2</th>\n",
       "      <td>2987010</td>\n",
       "      <td>-5.0</td>\n",
       "      <td>191631.0</td>\n",
       "      <td>0.0</td>\n",
       "      <td>0.0</td>\n",
       "      <td>0.0</td>\n",
       "      <td>0.0</td>\n",
       "      <td>NaN</td>\n",
       "      <td>NaN</td>\n",
       "      <td>0.0</td>\n",
       "      <td>...</td>\n",
       "      <td>chrome 62.0</td>\n",
       "      <td>NaN</td>\n",
       "      <td>NaN</td>\n",
       "      <td>NaN</td>\n",
       "      <td>F</td>\n",
       "      <td>F</td>\n",
       "      <td>T</td>\n",
       "      <td>T</td>\n",
       "      <td>desktop</td>\n",
       "      <td>Windows</td>\n",
       "    </tr>\n",
       "    <tr>\n",
       "      <th>3</th>\n",
       "      <td>2987011</td>\n",
       "      <td>-5.0</td>\n",
       "      <td>221832.0</td>\n",
       "      <td>NaN</td>\n",
       "      <td>NaN</td>\n",
       "      <td>0.0</td>\n",
       "      <td>-6.0</td>\n",
       "      <td>NaN</td>\n",
       "      <td>NaN</td>\n",
       "      <td>NaN</td>\n",
       "      <td>...</td>\n",
       "      <td>chrome 62.0</td>\n",
       "      <td>NaN</td>\n",
       "      <td>NaN</td>\n",
       "      <td>NaN</td>\n",
       "      <td>F</td>\n",
       "      <td>F</td>\n",
       "      <td>T</td>\n",
       "      <td>T</td>\n",
       "      <td>desktop</td>\n",
       "      <td>NaN</td>\n",
       "    </tr>\n",
       "    <tr>\n",
       "      <th>4</th>\n",
       "      <td>2987016</td>\n",
       "      <td>0.0</td>\n",
       "      <td>7460.0</td>\n",
       "      <td>0.0</td>\n",
       "      <td>0.0</td>\n",
       "      <td>1.0</td>\n",
       "      <td>0.0</td>\n",
       "      <td>NaN</td>\n",
       "      <td>NaN</td>\n",
       "      <td>0.0</td>\n",
       "      <td>...</td>\n",
       "      <td>chrome 62.0</td>\n",
       "      <td>24.0</td>\n",
       "      <td>1280x800</td>\n",
       "      <td>match_status:2</td>\n",
       "      <td>T</td>\n",
       "      <td>F</td>\n",
       "      <td>T</td>\n",
       "      <td>T</td>\n",
       "      <td>desktop</td>\n",
       "      <td>MacOS</td>\n",
       "    </tr>\n",
       "    <tr>\n",
       "      <th>5</th>\n",
       "      <td>2987017</td>\n",
       "      <td>-5.0</td>\n",
       "      <td>61141.0</td>\n",
       "      <td>3.0</td>\n",
       "      <td>0.0</td>\n",
       "      <td>3.0</td>\n",
       "      <td>0.0</td>\n",
       "      <td>NaN</td>\n",
       "      <td>NaN</td>\n",
       "      <td>3.0</td>\n",
       "      <td>...</td>\n",
       "      <td>chrome 62.0</td>\n",
       "      <td>24.0</td>\n",
       "      <td>1366x768</td>\n",
       "      <td>match_status:2</td>\n",
       "      <td>T</td>\n",
       "      <td>F</td>\n",
       "      <td>T</td>\n",
       "      <td>T</td>\n",
       "      <td>desktop</td>\n",
       "      <td>Windows</td>\n",
       "    </tr>\n",
       "    <tr>\n",
       "      <th>6</th>\n",
       "      <td>2987022</td>\n",
       "      <td>-15.0</td>\n",
       "      <td>NaN</td>\n",
       "      <td>NaN</td>\n",
       "      <td>NaN</td>\n",
       "      <td>NaN</td>\n",
       "      <td>NaN</td>\n",
       "      <td>NaN</td>\n",
       "      <td>NaN</td>\n",
       "      <td>NaN</td>\n",
       "      <td>...</td>\n",
       "      <td>NaN</td>\n",
       "      <td>NaN</td>\n",
       "      <td>NaN</td>\n",
       "      <td>NaN</td>\n",
       "      <td>NaN</td>\n",
       "      <td>NaN</td>\n",
       "      <td>NaN</td>\n",
       "      <td>NaN</td>\n",
       "      <td>NaN</td>\n",
       "      <td>NaN</td>\n",
       "    </tr>\n",
       "    <tr>\n",
       "      <th>7</th>\n",
       "      <td>2987038</td>\n",
       "      <td>0.0</td>\n",
       "      <td>31964.0</td>\n",
       "      <td>0.0</td>\n",
       "      <td>0.0</td>\n",
       "      <td>0.0</td>\n",
       "      <td>-10.0</td>\n",
       "      <td>NaN</td>\n",
       "      <td>NaN</td>\n",
       "      <td>0.0</td>\n",
       "      <td>...</td>\n",
       "      <td>chrome 62.0</td>\n",
       "      <td>32.0</td>\n",
       "      <td>1920x1080</td>\n",
       "      <td>match_status:2</td>\n",
       "      <td>T</td>\n",
       "      <td>F</td>\n",
       "      <td>T</td>\n",
       "      <td>T</td>\n",
       "      <td>mobile</td>\n",
       "      <td>NaN</td>\n",
       "    </tr>\n",
       "    <tr>\n",
       "      <th>8</th>\n",
       "      <td>2987040</td>\n",
       "      <td>-10.0</td>\n",
       "      <td>116098.0</td>\n",
       "      <td>0.0</td>\n",
       "      <td>0.0</td>\n",
       "      <td>0.0</td>\n",
       "      <td>0.0</td>\n",
       "      <td>NaN</td>\n",
       "      <td>NaN</td>\n",
       "      <td>0.0</td>\n",
       "      <td>...</td>\n",
       "      <td>chrome 62.0</td>\n",
       "      <td>NaN</td>\n",
       "      <td>NaN</td>\n",
       "      <td>NaN</td>\n",
       "      <td>F</td>\n",
       "      <td>F</td>\n",
       "      <td>T</td>\n",
       "      <td>T</td>\n",
       "      <td>desktop</td>\n",
       "      <td>Windows</td>\n",
       "    </tr>\n",
       "    <tr>\n",
       "      <th>9</th>\n",
       "      <td>2987048</td>\n",
       "      <td>-5.0</td>\n",
       "      <td>257037.0</td>\n",
       "      <td>NaN</td>\n",
       "      <td>NaN</td>\n",
       "      <td>0.0</td>\n",
       "      <td>0.0</td>\n",
       "      <td>NaN</td>\n",
       "      <td>NaN</td>\n",
       "      <td>NaN</td>\n",
       "      <td>...</td>\n",
       "      <td>chrome 62.0</td>\n",
       "      <td>NaN</td>\n",
       "      <td>NaN</td>\n",
       "      <td>NaN</td>\n",
       "      <td>F</td>\n",
       "      <td>F</td>\n",
       "      <td>T</td>\n",
       "      <td>T</td>\n",
       "      <td>desktop</td>\n",
       "      <td>Windows</td>\n",
       "    </tr>\n",
       "  </tbody>\n",
       "</table>\n",
       "<p>10 rows × 41 columns</p>\n",
       "</div>"
      ],
      "text/plain": [
       "   TransactionID  id_01     id_02  id_03  id_04  id_05  id_06  id_07  id_08  \\\n",
       "0        2987004    0.0   70787.0    NaN    NaN    NaN    NaN    NaN    NaN   \n",
       "1        2987008   -5.0   98945.0    NaN    NaN    0.0   -5.0    NaN    NaN   \n",
       "2        2987010   -5.0  191631.0    0.0    0.0    0.0    0.0    NaN    NaN   \n",
       "3        2987011   -5.0  221832.0    NaN    NaN    0.0   -6.0    NaN    NaN   \n",
       "4        2987016    0.0    7460.0    0.0    0.0    1.0    0.0    NaN    NaN   \n",
       "5        2987017   -5.0   61141.0    3.0    0.0    3.0    0.0    NaN    NaN   \n",
       "6        2987022  -15.0       NaN    NaN    NaN    NaN    NaN    NaN    NaN   \n",
       "7        2987038    0.0   31964.0    0.0    0.0    0.0  -10.0    NaN    NaN   \n",
       "8        2987040  -10.0  116098.0    0.0    0.0    0.0    0.0    NaN    NaN   \n",
       "9        2987048   -5.0  257037.0    NaN    NaN    0.0    0.0    NaN    NaN   \n",
       "\n",
       "   id_09  ...                id_31  id_32      id_33           id_34  id_35  \\\n",
       "0    NaN  ...  samsung browser 6.2   32.0  2220x1080  match_status:2      T   \n",
       "1    NaN  ...   mobile safari 11.0   32.0   1334x750  match_status:1      T   \n",
       "2    0.0  ...          chrome 62.0    NaN        NaN             NaN      F   \n",
       "3    NaN  ...          chrome 62.0    NaN        NaN             NaN      F   \n",
       "4    0.0  ...          chrome 62.0   24.0   1280x800  match_status:2      T   \n",
       "5    3.0  ...          chrome 62.0   24.0   1366x768  match_status:2      T   \n",
       "6    NaN  ...                  NaN    NaN        NaN             NaN    NaN   \n",
       "7    0.0  ...          chrome 62.0   32.0  1920x1080  match_status:2      T   \n",
       "8    0.0  ...          chrome 62.0    NaN        NaN             NaN      F   \n",
       "9    NaN  ...          chrome 62.0    NaN        NaN             NaN      F   \n",
       "\n",
       "  id_36 id_37  id_38  DeviceType                     DeviceInfo  \n",
       "0     F     T      T      mobile  SAMSUNG SM-G892A Build/NRD90M  \n",
       "1     F     F      T      mobile                     iOS Device  \n",
       "2     F     T      T     desktop                        Windows  \n",
       "3     F     T      T     desktop                            NaN  \n",
       "4     F     T      T     desktop                          MacOS  \n",
       "5     F     T      T     desktop                        Windows  \n",
       "6   NaN   NaN    NaN         NaN                            NaN  \n",
       "7     F     T      T      mobile                            NaN  \n",
       "8     F     T      T     desktop                        Windows  \n",
       "9     F     T      T     desktop                        Windows  \n",
       "\n",
       "[10 rows x 41 columns]"
      ]
     },
     "execution_count": 3,
     "metadata": {},
     "output_type": "execute_result"
    }
   ],
   "source": [
    "train_identity_data.head(10)"
   ]
  },
  {
   "cell_type": "code",
   "execution_count": 4,
   "id": "15951935",
   "metadata": {
    "execution": {
     "iopub.execute_input": "2023-11-06T13:41:11.914560Z",
     "iopub.status.busy": "2023-11-06T13:41:11.913662Z",
     "iopub.status.idle": "2023-11-06T13:41:11.918631Z",
     "shell.execute_reply": "2023-11-06T13:41:11.917625Z"
    },
    "papermill": {
     "duration": 0.021931,
     "end_time": "2023-11-06T13:41:11.920339",
     "exception": false,
     "start_time": "2023-11-06T13:41:11.898408",
     "status": "completed"
    },
    "tags": []
   },
   "outputs": [
    {
     "name": "stdout",
     "output_type": "stream",
     "text": [
      "train_identity_data shape:  (144233, 41)\n"
     ]
    }
   ],
   "source": [
    "print('train_identity_data shape: ', train_identity_data.shape)"
   ]
  },
  {
   "cell_type": "code",
   "execution_count": 5,
   "id": "8c135557",
   "metadata": {
    "execution": {
     "iopub.execute_input": "2023-11-06T13:41:11.996142Z",
     "iopub.status.busy": "2023-11-06T13:41:11.995765Z",
     "iopub.status.idle": "2023-11-06T13:41:33.441020Z",
     "shell.execute_reply": "2023-11-06T13:41:33.439993Z"
    },
    "papermill": {
     "duration": 21.509491,
     "end_time": "2023-11-06T13:41:33.443503",
     "exception": false,
     "start_time": "2023-11-06T13:41:11.934012",
     "status": "completed"
    },
    "tags": []
   },
   "outputs": [],
   "source": [
    "train_transaction_data = pd.read_csv('/kaggle/input/ieee-fraud-detection/train_transaction.csv')"
   ]
  },
  {
   "cell_type": "code",
   "execution_count": 6,
   "id": "25c5d1b1",
   "metadata": {
    "execution": {
     "iopub.execute_input": "2023-11-06T13:41:33.473154Z",
     "iopub.status.busy": "2023-11-06T13:41:33.472807Z",
     "iopub.status.idle": "2023-11-06T13:41:33.501096Z",
     "shell.execute_reply": "2023-11-06T13:41:33.500088Z"
    },
    "papermill": {
     "duration": 0.045503,
     "end_time": "2023-11-06T13:41:33.503046",
     "exception": false,
     "start_time": "2023-11-06T13:41:33.457543",
     "status": "completed"
    },
    "tags": []
   },
   "outputs": [
    {
     "data": {
      "text/html": [
       "<div>\n",
       "<style scoped>\n",
       "    .dataframe tbody tr th:only-of-type {\n",
       "        vertical-align: middle;\n",
       "    }\n",
       "\n",
       "    .dataframe tbody tr th {\n",
       "        vertical-align: top;\n",
       "    }\n",
       "\n",
       "    .dataframe thead th {\n",
       "        text-align: right;\n",
       "    }\n",
       "</style>\n",
       "<table border=\"1\" class=\"dataframe\">\n",
       "  <thead>\n",
       "    <tr style=\"text-align: right;\">\n",
       "      <th></th>\n",
       "      <th>TransactionID</th>\n",
       "      <th>isFraud</th>\n",
       "      <th>TransactionDT</th>\n",
       "      <th>TransactionAmt</th>\n",
       "      <th>ProductCD</th>\n",
       "      <th>card1</th>\n",
       "      <th>card2</th>\n",
       "      <th>card3</th>\n",
       "      <th>card4</th>\n",
       "      <th>card5</th>\n",
       "      <th>...</th>\n",
       "      <th>V330</th>\n",
       "      <th>V331</th>\n",
       "      <th>V332</th>\n",
       "      <th>V333</th>\n",
       "      <th>V334</th>\n",
       "      <th>V335</th>\n",
       "      <th>V336</th>\n",
       "      <th>V337</th>\n",
       "      <th>V338</th>\n",
       "      <th>V339</th>\n",
       "    </tr>\n",
       "  </thead>\n",
       "  <tbody>\n",
       "    <tr>\n",
       "      <th>0</th>\n",
       "      <td>2987000</td>\n",
       "      <td>0</td>\n",
       "      <td>86400</td>\n",
       "      <td>68.5</td>\n",
       "      <td>W</td>\n",
       "      <td>13926</td>\n",
       "      <td>NaN</td>\n",
       "      <td>150.0</td>\n",
       "      <td>discover</td>\n",
       "      <td>142.0</td>\n",
       "      <td>...</td>\n",
       "      <td>NaN</td>\n",
       "      <td>NaN</td>\n",
       "      <td>NaN</td>\n",
       "      <td>NaN</td>\n",
       "      <td>NaN</td>\n",
       "      <td>NaN</td>\n",
       "      <td>NaN</td>\n",
       "      <td>NaN</td>\n",
       "      <td>NaN</td>\n",
       "      <td>NaN</td>\n",
       "    </tr>\n",
       "    <tr>\n",
       "      <th>1</th>\n",
       "      <td>2987001</td>\n",
       "      <td>0</td>\n",
       "      <td>86401</td>\n",
       "      <td>29.0</td>\n",
       "      <td>W</td>\n",
       "      <td>2755</td>\n",
       "      <td>404.0</td>\n",
       "      <td>150.0</td>\n",
       "      <td>mastercard</td>\n",
       "      <td>102.0</td>\n",
       "      <td>...</td>\n",
       "      <td>NaN</td>\n",
       "      <td>NaN</td>\n",
       "      <td>NaN</td>\n",
       "      <td>NaN</td>\n",
       "      <td>NaN</td>\n",
       "      <td>NaN</td>\n",
       "      <td>NaN</td>\n",
       "      <td>NaN</td>\n",
       "      <td>NaN</td>\n",
       "      <td>NaN</td>\n",
       "    </tr>\n",
       "    <tr>\n",
       "      <th>2</th>\n",
       "      <td>2987002</td>\n",
       "      <td>0</td>\n",
       "      <td>86469</td>\n",
       "      <td>59.0</td>\n",
       "      <td>W</td>\n",
       "      <td>4663</td>\n",
       "      <td>490.0</td>\n",
       "      <td>150.0</td>\n",
       "      <td>visa</td>\n",
       "      <td>166.0</td>\n",
       "      <td>...</td>\n",
       "      <td>NaN</td>\n",
       "      <td>NaN</td>\n",
       "      <td>NaN</td>\n",
       "      <td>NaN</td>\n",
       "      <td>NaN</td>\n",
       "      <td>NaN</td>\n",
       "      <td>NaN</td>\n",
       "      <td>NaN</td>\n",
       "      <td>NaN</td>\n",
       "      <td>NaN</td>\n",
       "    </tr>\n",
       "    <tr>\n",
       "      <th>3</th>\n",
       "      <td>2987003</td>\n",
       "      <td>0</td>\n",
       "      <td>86499</td>\n",
       "      <td>50.0</td>\n",
       "      <td>W</td>\n",
       "      <td>18132</td>\n",
       "      <td>567.0</td>\n",
       "      <td>150.0</td>\n",
       "      <td>mastercard</td>\n",
       "      <td>117.0</td>\n",
       "      <td>...</td>\n",
       "      <td>NaN</td>\n",
       "      <td>NaN</td>\n",
       "      <td>NaN</td>\n",
       "      <td>NaN</td>\n",
       "      <td>NaN</td>\n",
       "      <td>NaN</td>\n",
       "      <td>NaN</td>\n",
       "      <td>NaN</td>\n",
       "      <td>NaN</td>\n",
       "      <td>NaN</td>\n",
       "    </tr>\n",
       "    <tr>\n",
       "      <th>4</th>\n",
       "      <td>2987004</td>\n",
       "      <td>0</td>\n",
       "      <td>86506</td>\n",
       "      <td>50.0</td>\n",
       "      <td>H</td>\n",
       "      <td>4497</td>\n",
       "      <td>514.0</td>\n",
       "      <td>150.0</td>\n",
       "      <td>mastercard</td>\n",
       "      <td>102.0</td>\n",
       "      <td>...</td>\n",
       "      <td>0.0</td>\n",
       "      <td>0.0</td>\n",
       "      <td>0.0</td>\n",
       "      <td>0.0</td>\n",
       "      <td>0.0</td>\n",
       "      <td>0.0</td>\n",
       "      <td>0.0</td>\n",
       "      <td>0.0</td>\n",
       "      <td>0.0</td>\n",
       "      <td>0.0</td>\n",
       "    </tr>\n",
       "    <tr>\n",
       "      <th>5</th>\n",
       "      <td>2987005</td>\n",
       "      <td>0</td>\n",
       "      <td>86510</td>\n",
       "      <td>49.0</td>\n",
       "      <td>W</td>\n",
       "      <td>5937</td>\n",
       "      <td>555.0</td>\n",
       "      <td>150.0</td>\n",
       "      <td>visa</td>\n",
       "      <td>226.0</td>\n",
       "      <td>...</td>\n",
       "      <td>NaN</td>\n",
       "      <td>NaN</td>\n",
       "      <td>NaN</td>\n",
       "      <td>NaN</td>\n",
       "      <td>NaN</td>\n",
       "      <td>NaN</td>\n",
       "      <td>NaN</td>\n",
       "      <td>NaN</td>\n",
       "      <td>NaN</td>\n",
       "      <td>NaN</td>\n",
       "    </tr>\n",
       "    <tr>\n",
       "      <th>6</th>\n",
       "      <td>2987006</td>\n",
       "      <td>0</td>\n",
       "      <td>86522</td>\n",
       "      <td>159.0</td>\n",
       "      <td>W</td>\n",
       "      <td>12308</td>\n",
       "      <td>360.0</td>\n",
       "      <td>150.0</td>\n",
       "      <td>visa</td>\n",
       "      <td>166.0</td>\n",
       "      <td>...</td>\n",
       "      <td>NaN</td>\n",
       "      <td>NaN</td>\n",
       "      <td>NaN</td>\n",
       "      <td>NaN</td>\n",
       "      <td>NaN</td>\n",
       "      <td>NaN</td>\n",
       "      <td>NaN</td>\n",
       "      <td>NaN</td>\n",
       "      <td>NaN</td>\n",
       "      <td>NaN</td>\n",
       "    </tr>\n",
       "    <tr>\n",
       "      <th>7</th>\n",
       "      <td>2987007</td>\n",
       "      <td>0</td>\n",
       "      <td>86529</td>\n",
       "      <td>422.5</td>\n",
       "      <td>W</td>\n",
       "      <td>12695</td>\n",
       "      <td>490.0</td>\n",
       "      <td>150.0</td>\n",
       "      <td>visa</td>\n",
       "      <td>226.0</td>\n",
       "      <td>...</td>\n",
       "      <td>NaN</td>\n",
       "      <td>NaN</td>\n",
       "      <td>NaN</td>\n",
       "      <td>NaN</td>\n",
       "      <td>NaN</td>\n",
       "      <td>NaN</td>\n",
       "      <td>NaN</td>\n",
       "      <td>NaN</td>\n",
       "      <td>NaN</td>\n",
       "      <td>NaN</td>\n",
       "    </tr>\n",
       "    <tr>\n",
       "      <th>8</th>\n",
       "      <td>2987008</td>\n",
       "      <td>0</td>\n",
       "      <td>86535</td>\n",
       "      <td>15.0</td>\n",
       "      <td>H</td>\n",
       "      <td>2803</td>\n",
       "      <td>100.0</td>\n",
       "      <td>150.0</td>\n",
       "      <td>visa</td>\n",
       "      <td>226.0</td>\n",
       "      <td>...</td>\n",
       "      <td>0.0</td>\n",
       "      <td>0.0</td>\n",
       "      <td>0.0</td>\n",
       "      <td>0.0</td>\n",
       "      <td>0.0</td>\n",
       "      <td>0.0</td>\n",
       "      <td>0.0</td>\n",
       "      <td>0.0</td>\n",
       "      <td>0.0</td>\n",
       "      <td>0.0</td>\n",
       "    </tr>\n",
       "    <tr>\n",
       "      <th>9</th>\n",
       "      <td>2987009</td>\n",
       "      <td>0</td>\n",
       "      <td>86536</td>\n",
       "      <td>117.0</td>\n",
       "      <td>W</td>\n",
       "      <td>17399</td>\n",
       "      <td>111.0</td>\n",
       "      <td>150.0</td>\n",
       "      <td>mastercard</td>\n",
       "      <td>224.0</td>\n",
       "      <td>...</td>\n",
       "      <td>NaN</td>\n",
       "      <td>NaN</td>\n",
       "      <td>NaN</td>\n",
       "      <td>NaN</td>\n",
       "      <td>NaN</td>\n",
       "      <td>NaN</td>\n",
       "      <td>NaN</td>\n",
       "      <td>NaN</td>\n",
       "      <td>NaN</td>\n",
       "      <td>NaN</td>\n",
       "    </tr>\n",
       "  </tbody>\n",
       "</table>\n",
       "<p>10 rows × 394 columns</p>\n",
       "</div>"
      ],
      "text/plain": [
       "   TransactionID  isFraud  TransactionDT  TransactionAmt ProductCD  card1  \\\n",
       "0        2987000        0          86400            68.5         W  13926   \n",
       "1        2987001        0          86401            29.0         W   2755   \n",
       "2        2987002        0          86469            59.0         W   4663   \n",
       "3        2987003        0          86499            50.0         W  18132   \n",
       "4        2987004        0          86506            50.0         H   4497   \n",
       "5        2987005        0          86510            49.0         W   5937   \n",
       "6        2987006        0          86522           159.0         W  12308   \n",
       "7        2987007        0          86529           422.5         W  12695   \n",
       "8        2987008        0          86535            15.0         H   2803   \n",
       "9        2987009        0          86536           117.0         W  17399   \n",
       "\n",
       "   card2  card3       card4  card5  ... V330  V331  V332  V333  V334 V335  \\\n",
       "0    NaN  150.0    discover  142.0  ...  NaN   NaN   NaN   NaN   NaN  NaN   \n",
       "1  404.0  150.0  mastercard  102.0  ...  NaN   NaN   NaN   NaN   NaN  NaN   \n",
       "2  490.0  150.0        visa  166.0  ...  NaN   NaN   NaN   NaN   NaN  NaN   \n",
       "3  567.0  150.0  mastercard  117.0  ...  NaN   NaN   NaN   NaN   NaN  NaN   \n",
       "4  514.0  150.0  mastercard  102.0  ...  0.0   0.0   0.0   0.0   0.0  0.0   \n",
       "5  555.0  150.0        visa  226.0  ...  NaN   NaN   NaN   NaN   NaN  NaN   \n",
       "6  360.0  150.0        visa  166.0  ...  NaN   NaN   NaN   NaN   NaN  NaN   \n",
       "7  490.0  150.0        visa  226.0  ...  NaN   NaN   NaN   NaN   NaN  NaN   \n",
       "8  100.0  150.0        visa  226.0  ...  0.0   0.0   0.0   0.0   0.0  0.0   \n",
       "9  111.0  150.0  mastercard  224.0  ...  NaN   NaN   NaN   NaN   NaN  NaN   \n",
       "\n",
       "  V336  V337  V338  V339  \n",
       "0  NaN   NaN   NaN   NaN  \n",
       "1  NaN   NaN   NaN   NaN  \n",
       "2  NaN   NaN   NaN   NaN  \n",
       "3  NaN   NaN   NaN   NaN  \n",
       "4  0.0   0.0   0.0   0.0  \n",
       "5  NaN   NaN   NaN   NaN  \n",
       "6  NaN   NaN   NaN   NaN  \n",
       "7  NaN   NaN   NaN   NaN  \n",
       "8  0.0   0.0   0.0   0.0  \n",
       "9  NaN   NaN   NaN   NaN  \n",
       "\n",
       "[10 rows x 394 columns]"
      ]
     },
     "execution_count": 6,
     "metadata": {},
     "output_type": "execute_result"
    }
   ],
   "source": [
    "train_transaction_data.head(10)"
   ]
  },
  {
   "cell_type": "code",
   "execution_count": 7,
   "id": "3257d816",
   "metadata": {
    "execution": {
     "iopub.execute_input": "2023-11-06T13:41:33.534694Z",
     "iopub.status.busy": "2023-11-06T13:41:33.533768Z",
     "iopub.status.idle": "2023-11-06T13:41:33.540401Z",
     "shell.execute_reply": "2023-11-06T13:41:33.538923Z"
    },
    "papermill": {
     "duration": 0.024558,
     "end_time": "2023-11-06T13:41:33.542364",
     "exception": false,
     "start_time": "2023-11-06T13:41:33.517806",
     "status": "completed"
    },
    "tags": []
   },
   "outputs": [
    {
     "name": "stdout",
     "output_type": "stream",
     "text": [
      "train transaction data shape:  (590540, 394)\n"
     ]
    }
   ],
   "source": [
    "print('train transaction data shape: ', train_transaction_data.shape)"
   ]
  },
  {
   "cell_type": "code",
   "execution_count": 8,
   "id": "6729e2f1",
   "metadata": {
    "execution": {
     "iopub.execute_input": "2023-11-06T13:41:33.574709Z",
     "iopub.status.busy": "2023-11-06T13:41:33.574244Z",
     "iopub.status.idle": "2023-11-06T13:41:33.670231Z",
     "shell.execute_reply": "2023-11-06T13:41:33.669108Z"
    },
    "papermill": {
     "duration": 0.115131,
     "end_time": "2023-11-06T13:41:33.672183",
     "exception": false,
     "start_time": "2023-11-06T13:41:33.557052",
     "status": "completed"
    },
    "tags": []
   },
   "outputs": [
    {
     "name": "stdout",
     "output_type": "stream",
     "text": [
      "<class 'pandas.core.frame.DataFrame'>\n",
      "RangeIndex: 144233 entries, 0 to 144232\n",
      "Data columns (total 41 columns):\n",
      " #   Column         Non-Null Count   Dtype  \n",
      "---  ------         --------------   -----  \n",
      " 0   TransactionID  144233 non-null  int64  \n",
      " 1   id_01          144233 non-null  float64\n",
      " 2   id_02          140872 non-null  float64\n",
      " 3   id_03          66324 non-null   float64\n",
      " 4   id_04          66324 non-null   float64\n",
      " 5   id_05          136865 non-null  float64\n",
      " 6   id_06          136865 non-null  float64\n",
      " 7   id_07          5155 non-null    float64\n",
      " 8   id_08          5155 non-null    float64\n",
      " 9   id_09          74926 non-null   float64\n",
      " 10  id_10          74926 non-null   float64\n",
      " 11  id_11          140978 non-null  float64\n",
      " 12  id_12          144233 non-null  object \n",
      " 13  id_13          127320 non-null  float64\n",
      " 14  id_14          80044 non-null   float64\n",
      " 15  id_15          140985 non-null  object \n",
      " 16  id_16          129340 non-null  object \n",
      " 17  id_17          139369 non-null  float64\n",
      " 18  id_18          45113 non-null   float64\n",
      " 19  id_19          139318 non-null  float64\n",
      " 20  id_20          139261 non-null  float64\n",
      " 21  id_21          5159 non-null    float64\n",
      " 22  id_22          5169 non-null    float64\n",
      " 23  id_23          5169 non-null    object \n",
      " 24  id_24          4747 non-null    float64\n",
      " 25  id_25          5132 non-null    float64\n",
      " 26  id_26          5163 non-null    float64\n",
      " 27  id_27          5169 non-null    object \n",
      " 28  id_28          140978 non-null  object \n",
      " 29  id_29          140978 non-null  object \n",
      " 30  id_30          77565 non-null   object \n",
      " 31  id_31          140282 non-null  object \n",
      " 32  id_32          77586 non-null   float64\n",
      " 33  id_33          73289 non-null   object \n",
      " 34  id_34          77805 non-null   object \n",
      " 35  id_35          140985 non-null  object \n",
      " 36  id_36          140985 non-null  object \n",
      " 37  id_37          140985 non-null  object \n",
      " 38  id_38          140985 non-null  object \n",
      " 39  DeviceType     140810 non-null  object \n",
      " 40  DeviceInfo     118666 non-null  object \n",
      "dtypes: float64(23), int64(1), object(17)\n",
      "memory usage: 45.1+ MB\n"
     ]
    }
   ],
   "source": [
    "train_identity_data.info()"
   ]
  },
  {
   "cell_type": "markdown",
   "id": "48e1010a",
   "metadata": {
    "papermill": {
     "duration": 0.014496,
     "end_time": "2023-11-06T13:41:33.701504",
     "exception": false,
     "start_time": "2023-11-06T13:41:33.687008",
     "status": "completed"
    },
    "tags": []
   },
   "source": [
    "Посмотрим какой объём оперативной памяти занимают датасеты:"
   ]
  },
  {
   "cell_type": "code",
   "execution_count": 9,
   "id": "bc6f5352",
   "metadata": {
    "execution": {
     "iopub.execute_input": "2023-11-06T13:41:33.732044Z",
     "iopub.status.busy": "2023-11-06T13:41:33.731700Z",
     "iopub.status.idle": "2023-11-06T13:41:34.877406Z",
     "shell.execute_reply": "2023-11-06T13:41:34.876476Z"
    },
    "papermill": {
     "duration": 1.16351,
     "end_time": "2023-11-06T13:41:34.879556",
     "exception": false,
     "start_time": "2023-11-06T13:41:33.716046",
     "status": "completed"
    },
    "tags": []
   },
   "outputs": [
    {
     "name": "stdout",
     "output_type": "stream",
     "text": [
      "train_identity dataframe: 0.15 GB of memory\n",
      "train_transaction dataframe: 2.05 GB of memory\n"
     ]
    }
   ],
   "source": [
    "train_id_GB = train_identity_data.memory_usage(deep=True).sum()/1024**3\n",
    "train_transaction_GB = train_transaction_data.memory_usage(deep=True).sum()/1024**3\n",
    "\n",
    "print(f'train_identity dataframe: {train_id_GB:.2f} GB of memory')\n",
    "print(f'train_transaction dataframe: {train_transaction_GB:.2f} GB of memory')"
   ]
  },
  {
   "cell_type": "markdown",
   "id": "1beff362",
   "metadata": {
    "papermill": {
     "duration": 0.014368,
     "end_time": "2023-11-06T13:41:34.908682",
     "exception": false,
     "start_time": "2023-11-06T13:41:34.894314",
     "status": "completed"
    },
    "tags": []
   },
   "source": [
    "Видим, что датафреймы занимают достаточно большой объём оперативной памяти, следовательно на обработку каждого датафрейма, особенно **train_transaction** будет затрачено большое кол-во ресурсов и довольно длительное время. \n",
    "\n",
    "Исходя из этого необходимо уменьшить занимаемый ими объём памяти. Сделаем это при помощи способа с изменением типов переменных"
   ]
  },
  {
   "cell_type": "markdown",
   "id": "3f11374a",
   "metadata": {
    "papermill": {
     "duration": 0.014784,
     "end_time": "2023-11-06T13:41:34.938199",
     "exception": false,
     "start_time": "2023-11-06T13:41:34.923415",
     "status": "completed"
    },
    "tags": []
   },
   "source": [
    "Возьмём все значения типа ```int``` и преобразуем их в ```uint``` типы, т.к. хранение только положительных значений позволит нам уменьшить объём занимаемой памяти"
   ]
  },
  {
   "cell_type": "code",
   "execution_count": 10,
   "id": "32aa1d81",
   "metadata": {
    "execution": {
     "iopub.execute_input": "2023-11-06T13:41:34.969833Z",
     "iopub.status.busy": "2023-11-06T13:41:34.969183Z",
     "iopub.status.idle": "2023-11-06T13:41:34.992015Z",
     "shell.execute_reply": "2023-11-06T13:41:34.990080Z"
    },
    "papermill": {
     "duration": 0.040819,
     "end_time": "2023-11-06T13:41:34.993960",
     "exception": false,
     "start_time": "2023-11-06T13:41:34.953141",
     "status": "completed"
    },
    "tags": []
   },
   "outputs": [
    {
     "name": "stdout",
     "output_type": "stream",
     "text": [
      "downcast subtypes \"int\" to \"uint\"\n",
      "memory usage before:  1.10 MB\n",
      "memory usage after:   0.55 MB\n"
     ]
    }
   ],
   "source": [
    "def memory_usage(pandas_object):\n",
    "    if isinstance(pandas_object, pd.DataFrame):\n",
    "        usage_b = pandas_object.memory_usage(deep=True).sum()\n",
    "    else:\n",
    "        usage_b = pandas_obj.memory_usage(deep=True)\n",
    "    usage_mb = usage_b / 1024 ** 2 # convert to mb\n",
    "    return '{:03.2f} MB'.format(usage_mb)\n",
    "gl_int = train_identity_data.select_dtypes(include=['int'])\n",
    "converted_int = gl_int.apply(pd.to_numeric, downcast='unsigned')\n",
    "print('downcast subtypes \"int\" to \"uint\"')\n",
    "print('memory usage before: ', memory_usage(gl_int))\n",
    "print('memory usage after:  ', memory_usage(converted_int))"
   ]
  },
  {
   "cell_type": "markdown",
   "id": "c6e11a38",
   "metadata": {
    "papermill": {
     "duration": 0.014333,
     "end_time": "2023-11-06T13:41:35.023283",
     "exception": false,
     "start_time": "2023-11-06T13:41:35.008950",
     "status": "completed"
    },
    "tags": []
   },
   "source": [
    "Проделаем ту же операцию для ```float``` переменных:"
   ]
  },
  {
   "cell_type": "code",
   "execution_count": 11,
   "id": "aab2c0d7",
   "metadata": {
    "execution": {
     "iopub.execute_input": "2023-11-06T13:41:35.054444Z",
     "iopub.status.busy": "2023-11-06T13:41:35.053589Z",
     "iopub.status.idle": "2023-11-06T13:41:35.163527Z",
     "shell.execute_reply": "2023-11-06T13:41:35.162291Z"
    },
    "papermill": {
     "duration": 0.128321,
     "end_time": "2023-11-06T13:41:35.165981",
     "exception": false,
     "start_time": "2023-11-06T13:41:35.037660",
     "status": "completed"
    },
    "tags": []
   },
   "outputs": [
    {
     "name": "stdout",
     "output_type": "stream",
     "text": [
      "downcast subtypes of \"float\" to \"float\"\n",
      "memory usage before:  25.31 MB\n",
      "memory usage after:   12.65 MB\n"
     ]
    }
   ],
   "source": [
    "gl_float = train_identity_data.select_dtypes(include=['float'])\n",
    "converted_float = gl_float.apply(pd.to_numeric, downcast='float')\n",
    "print('downcast subtypes of \"float\" to \"float\"')\n",
    "print('memory usage before: ', memory_usage(gl_float))\n",
    "print('memory usage after:  ', memory_usage(converted_float))"
   ]
  },
  {
   "cell_type": "markdown",
   "id": "1087b58b",
   "metadata": {
    "papermill": {
     "duration": 0.014669,
     "end_time": "2023-11-06T13:41:35.196192",
     "exception": false,
     "start_time": "2023-11-06T13:41:35.181523",
     "status": "completed"
    },
    "tags": []
   },
   "source": [
    "Теперь создадим копию нашего датасета ```train_identity``` и заменим текущие числовые значения на преобразованные:"
   ]
  },
  {
   "cell_type": "code",
   "execution_count": 12,
   "id": "05097cb3",
   "metadata": {
    "execution": {
     "iopub.execute_input": "2023-11-06T13:41:35.227011Z",
     "iopub.status.busy": "2023-11-06T13:41:35.226697Z",
     "iopub.status.idle": "2023-11-06T13:41:35.776596Z",
     "shell.execute_reply": "2023-11-06T13:41:35.775353Z"
    },
    "papermill": {
     "duration": 0.568638,
     "end_time": "2023-11-06T13:41:35.779594",
     "exception": false,
     "start_time": "2023-11-06T13:41:35.210956",
     "status": "completed"
    },
    "tags": []
   },
   "outputs": [
    {
     "name": "stdout",
     "output_type": "stream",
     "text": [
      "===== Memory usage of train_identity =====\n",
      "before optimization:  157.63 MB\n",
      "after optimization:  144.43 MB\n"
     ]
    }
   ],
   "source": [
    "optimized_train_identity = train_identity_data.copy()\n",
    "optimized_train_identity[converted_int.columns] = converted_int\n",
    "optimized_train_identity[converted_float.columns] = converted_float\n",
    "print('===== Memory usage of train_identity =====')\n",
    "print('before optimization: ', memory_usage(train_identity_data))\n",
    "print('after optimization: ', memory_usage(optimized_train_identity))"
   ]
  },
  {
   "cell_type": "code",
   "execution_count": 13,
   "id": "f3fa7d80",
   "metadata": {
    "execution": {
     "iopub.execute_input": "2023-11-06T13:41:35.810368Z",
     "iopub.status.busy": "2023-11-06T13:41:35.810031Z",
     "iopub.status.idle": "2023-11-06T13:41:35.813963Z",
     "shell.execute_reply": "2023-11-06T13:41:35.813487Z"
    },
    "papermill": {
     "duration": 0.021241,
     "end_time": "2023-11-06T13:41:35.815796",
     "exception": false,
     "start_time": "2023-11-06T13:41:35.794555",
     "status": "completed"
    },
    "tags": []
   },
   "outputs": [
    {
     "name": "stdout",
     "output_type": "stream",
     "text": [
      "optimization memory of train_identity: 8.374040474528954 %\n"
     ]
    }
   ],
   "source": [
    "opt_in_prct = 100 - (144.43 * 100 / 157.63)\n",
    "print(f'optimization memory of train_identity: {opt_in_prct} %')"
   ]
  },
  {
   "cell_type": "markdown",
   "id": "0c6eff8f",
   "metadata": {
    "papermill": {
     "duration": 0.013887,
     "end_time": "2023-11-06T13:41:35.843722",
     "exception": false,
     "start_time": "2023-11-06T13:41:35.829835",
     "status": "completed"
    },
    "tags": []
   },
   "source": [
    "Видим, что для датасета ```train_identity``` преобразование подтипов ```int``` и ```float``` уменьшает объём памяти на ```8.37 %```"
   ]
  },
  {
   "cell_type": "markdown",
   "id": "8fb5d320",
   "metadata": {
    "papermill": {
     "duration": 0.014024,
     "end_time": "2023-11-06T13:41:35.872002",
     "exception": false,
     "start_time": "2023-11-06T13:41:35.857978",
     "status": "completed"
    },
    "tags": []
   },
   "source": [
    "Теперь проделаем то же самое для датасета ```train_transaction```"
   ]
  },
  {
   "cell_type": "code",
   "execution_count": 14,
   "id": "d16b5c23",
   "metadata": {
    "execution": {
     "iopub.execute_input": "2023-11-06T13:41:35.902188Z",
     "iopub.status.busy": "2023-11-06T13:41:35.901796Z",
     "iopub.status.idle": "2023-11-06T13:41:35.937227Z",
     "shell.execute_reply": "2023-11-06T13:41:35.936503Z"
    },
    "papermill": {
     "duration": 0.05271,
     "end_time": "2023-11-06T13:41:35.939176",
     "exception": false,
     "start_time": "2023-11-06T13:41:35.886466",
     "status": "completed"
    },
    "tags": []
   },
   "outputs": [
    {
     "name": "stdout",
     "output_type": "stream",
     "text": [
      "downcast subtypes \"int\" to \"uint\" of train_transaction\n",
      "memory usage before:  18.02 MB\n",
      "memory usage after:  6.20 MB\n"
     ]
    }
   ],
   "source": [
    "int_train_tr = train_transaction_data.select_dtypes(include=['int'])\n",
    "converted_int_train_tr = int_train_tr.apply(pd.to_numeric, downcast='unsigned')\n",
    "print('downcast subtypes \"int\" to \"uint\" of train_transaction')\n",
    "print('memory usage before: ', memory_usage(int_train_tr))\n",
    "print('memory usage after: ', memory_usage(converted_int_train_tr))"
   ]
  },
  {
   "cell_type": "code",
   "execution_count": 15,
   "id": "282b5bfc",
   "metadata": {
    "execution": {
     "iopub.execute_input": "2023-11-06T13:41:35.970282Z",
     "iopub.status.busy": "2023-11-06T13:41:35.969933Z",
     "iopub.status.idle": "2023-11-06T13:41:42.649485Z",
     "shell.execute_reply": "2023-11-06T13:41:42.647748Z"
    },
    "papermill": {
     "duration": 6.697727,
     "end_time": "2023-11-06T13:41:42.651835",
     "exception": false,
     "start_time": "2023-11-06T13:41:35.954108",
     "status": "completed"
    },
    "tags": []
   },
   "outputs": [
    {
     "name": "stdout",
     "output_type": "stream",
     "text": [
      "downcast subtypes \"float\" to \"float\" of train_transaction\n",
      "memory usage before:  1694.05 MB\n",
      "memory usage after:  847.03 MB\n"
     ]
    }
   ],
   "source": [
    "float_train_tr = train_transaction_data.select_dtypes(include=['float'])\n",
    "converted_float_train_tr = float_train_tr.apply(pd.to_numeric, downcast='float')\n",
    "print('downcast subtypes \"float\" to \"float\" of train_transaction')\n",
    "print('memory usage before: ', memory_usage(float_train_tr))\n",
    "print('memory usage after: ', memory_usage(converted_float_train_tr))"
   ]
  },
  {
   "cell_type": "code",
   "execution_count": 16,
   "id": "2d4bb3b3",
   "metadata": {
    "execution": {
     "iopub.execute_input": "2023-11-06T13:41:42.683053Z",
     "iopub.status.busy": "2023-11-06T13:41:42.682702Z",
     "iopub.status.idle": "2023-11-06T13:41:44.848248Z",
     "shell.execute_reply": "2023-11-06T13:41:44.847122Z"
    },
    "papermill": {
     "duration": 2.183383,
     "end_time": "2023-11-06T13:41:44.850416",
     "exception": false,
     "start_time": "2023-11-06T13:41:42.667033",
     "status": "completed"
    },
    "tags": []
   },
   "outputs": [
    {
     "name": "stdout",
     "output_type": "stream",
     "text": [
      "===== Memory usage of train_transaction =====\n",
      "before optimization:  2100.70 MB\n",
      "after optimization:  1241.85 MB\n"
     ]
    }
   ],
   "source": [
    "optimized_train_tr = train_transaction_data.copy()\n",
    "optimized_train_tr[converted_int_train_tr.columns] = converted_int_train_tr\n",
    "optimized_train_tr[converted_float_train_tr.columns] = converted_float_train_tr\n",
    "print('===== Memory usage of train_transaction =====')\n",
    "print('before optimization: ', memory_usage(train_transaction_data))\n",
    "print('after optimization: ', memory_usage(optimized_train_tr))"
   ]
  },
  {
   "cell_type": "code",
   "execution_count": 17,
   "id": "0ae58adc",
   "metadata": {
    "execution": {
     "iopub.execute_input": "2023-11-06T13:41:44.882245Z",
     "iopub.status.busy": "2023-11-06T13:41:44.881897Z",
     "iopub.status.idle": "2023-11-06T13:41:44.887397Z",
     "shell.execute_reply": "2023-11-06T13:41:44.886293Z"
    },
    "papermill": {
     "duration": 0.023993,
     "end_time": "2023-11-06T13:41:44.889628",
     "exception": false,
     "start_time": "2023-11-06T13:41:44.865635",
     "status": "completed"
    },
    "tags": []
   },
   "outputs": [
    {
     "name": "stdout",
     "output_type": "stream",
     "text": [
      "optimization memory of train_transaction: 40.883991050602184 %\n"
     ]
    }
   ],
   "source": [
    "train_tr_opt_prct = 100 - (1241.85 * 100 / 2100.7)\n",
    "print(f'optimization memory of train_transaction: {train_tr_opt_prct} %')"
   ]
  },
  {
   "cell_type": "markdown",
   "id": "16a845ba",
   "metadata": {
    "papermill": {
     "duration": 0.014663,
     "end_time": "2023-11-06T13:41:44.920254",
     "exception": false,
     "start_time": "2023-11-06T13:41:44.905591",
     "status": "completed"
    },
    "tags": []
   },
   "source": [
    "Для датасета ```train_transaction``` преобразование чиловых подтипов уменьшает объём занимаемой памяти на ```40.88 %```"
   ]
  },
  {
   "cell_type": "markdown",
   "id": "70a77458",
   "metadata": {
    "papermill": {
     "duration": 0.01448,
     "end_time": "2023-11-06T13:41:44.949431",
     "exception": false,
     "start_time": "2023-11-06T13:41:44.934951",
     "status": "completed"
    },
    "tags": []
   },
   "source": [
    "Уменьшение объёма занимаемой памяти достигается также преобразованием переменных типа ```object``` в тип ```category```.\n",
    "\n",
    "Также согласно исследованиям, считается, что преобразование в тип ```category``` следует проводить у столбцов с менее чем ```50 %``` уникальными значениями, иначе после преобразования объём занимаемой памяти наоборот увеличится."
   ]
  },
  {
   "cell_type": "markdown",
   "id": "b41bc2c6",
   "metadata": {
    "papermill": {
     "duration": 0.014296,
     "end_time": "2023-11-06T13:41:44.978510",
     "exception": false,
     "start_time": "2023-11-06T13:41:44.964214",
     "status": "completed"
    },
    "tags": []
   },
   "source": [
    "Выполним соотвествующее преобразование для датасета ```train_identity```"
   ]
  },
  {
   "cell_type": "code",
   "execution_count": 18,
   "id": "90dada0b",
   "metadata": {
    "execution": {
     "iopub.execute_input": "2023-11-06T13:41:45.012060Z",
     "iopub.status.busy": "2023-11-06T13:41:45.011724Z",
     "iopub.status.idle": "2023-11-06T13:41:45.575641Z",
     "shell.execute_reply": "2023-11-06T13:41:45.574336Z"
    },
    "papermill": {
     "duration": 0.583954,
     "end_time": "2023-11-06T13:41:45.578556",
     "exception": false,
     "start_time": "2023-11-06T13:41:44.994602",
     "status": "completed"
    },
    "tags": []
   },
   "outputs": [
    {
     "name": "stdout",
     "output_type": "stream",
     "text": [
      "downcast \"object\" to \"category\" of train_identity\n",
      "memory usage before:  131.22 MB\n",
      "memory usage after:  2.99 MB\n"
     ]
    }
   ],
   "source": [
    "train_id_obj = optimized_train_identity.select_dtypes(include=['object']).copy()\n",
    "\n",
    "def obj_to_cat(current_df_obj):\n",
    "    converted_df_obj=pd.DataFrame()\n",
    "    for col in current_df_obj.columns:\n",
    "        num_unique_values = len(current_df_obj[col].unique())\n",
    "        num_total_values = len(current_df_obj[col])\n",
    "        if num_unique_values / num_total_values < 0.5:\n",
    "            converted_df_obj.loc[:, col] = current_df_obj[col].astype('category')\n",
    "        else:\n",
    "            converted_df_obj.loc[:, col] = current_df_obj[col]\n",
    "    return converted_df_obj\n",
    "\n",
    "train_id_converted_obj = obj_to_cat(train_id_obj)\n",
    "print('downcast \"object\" to \"category\" of train_identity')\n",
    "print('memory usage before: ', memory_usage(train_id_obj))\n",
    "print('memory usage after: ', memory_usage(train_id_converted_obj))"
   ]
  },
  {
   "cell_type": "code",
   "execution_count": 19,
   "id": "efa1e591",
   "metadata": {
    "execution": {
     "iopub.execute_input": "2023-11-06T13:41:45.621498Z",
     "iopub.status.busy": "2023-11-06T13:41:45.621167Z",
     "iopub.status.idle": "2023-11-06T13:41:45.899820Z",
     "shell.execute_reply": "2023-11-06T13:41:45.898492Z"
    },
    "papermill": {
     "duration": 0.300462,
     "end_time": "2023-11-06T13:41:45.901634",
     "exception": false,
     "start_time": "2023-11-06T13:41:45.601172",
     "status": "completed"
    },
    "tags": []
   },
   "outputs": [
    {
     "name": "stdout",
     "output_type": "stream",
     "text": [
      "==== Memory usage of train_identity =====\n",
      "before optimization:  157.63 MB\n",
      "after optimization:  16.19 MB\n"
     ]
    }
   ],
   "source": [
    "print('==== Memory usage of train_identity =====')\n",
    "print('before optimization: ', memory_usage(train_identity_data))\n",
    "optimized_train_identity[train_id_converted_obj.columns] = train_id_converted_obj\n",
    "print('after optimization: ', memory_usage(optimized_train_identity))"
   ]
  },
  {
   "cell_type": "code",
   "execution_count": 20,
   "id": "a134faf4",
   "metadata": {
    "execution": {
     "iopub.execute_input": "2023-11-06T13:41:45.933762Z",
     "iopub.status.busy": "2023-11-06T13:41:45.933182Z",
     "iopub.status.idle": "2023-11-06T13:41:45.937873Z",
     "shell.execute_reply": "2023-11-06T13:41:45.936972Z"
    },
    "papermill": {
     "duration": 0.022856,
     "end_time": "2023-11-06T13:41:45.939814",
     "exception": false,
     "start_time": "2023-11-06T13:41:45.916958",
     "status": "completed"
    },
    "tags": []
   },
   "outputs": [
    {
     "name": "stdout",
     "output_type": "stream",
     "text": [
      "optimization memory of train identity: 89.7291124785891 %\n"
     ]
    }
   ],
   "source": [
    "opt_tr_id_prct = 100 - (16.19 * 100 / 157.63)\n",
    "print(f'optimization memory of train identity: {opt_tr_id_prct} %')"
   ]
  },
  {
   "cell_type": "markdown",
   "id": "6e60defd",
   "metadata": {
    "papermill": {
     "duration": 0.014793,
     "end_time": "2023-11-06T13:41:45.969522",
     "exception": false,
     "start_time": "2023-11-06T13:41:45.954729",
     "status": "completed"
    },
    "tags": []
   },
   "source": [
    "Видим, что после всех оптимизаций объём занимаемой памяти у датасета\n",
    "```train_identity``` уменьшился практически на 90 %!"
   ]
  },
  {
   "cell_type": "markdown",
   "id": "cd127c01",
   "metadata": {
    "papermill": {
     "duration": 0.014396,
     "end_time": "2023-11-06T13:41:45.998787",
     "exception": false,
     "start_time": "2023-11-06T13:41:45.984391",
     "status": "completed"
    },
    "tags": []
   },
   "source": [
    "Проделаем преобразование типов ```object``` в ```category``` для датасета ```train_transaction```"
   ]
  },
  {
   "cell_type": "code",
   "execution_count": 21,
   "id": "f154b42c",
   "metadata": {
    "execution": {
     "iopub.execute_input": "2023-11-06T13:41:46.030190Z",
     "iopub.status.busy": "2023-11-06T13:41:46.029822Z",
     "iopub.status.idle": "2023-11-06T13:41:47.817254Z",
     "shell.execute_reply": "2023-11-06T13:41:47.816242Z"
    },
    "papermill": {
     "duration": 1.805476,
     "end_time": "2023-11-06T13:41:47.819374",
     "exception": false,
     "start_time": "2023-11-06T13:41:46.013898",
     "status": "completed"
    },
    "tags": []
   },
   "outputs": [
    {
     "name": "stdout",
     "output_type": "stream",
     "text": [
      "downcasr \"object\" to \"category\" of train_transaction\n",
      "memory usage before:  388.63 MB\n",
      "memory usage after:  7.90 MB\n"
     ]
    }
   ],
   "source": [
    "train_tr_obj = optimized_train_tr.select_dtypes(include=['object']).copy()\n",
    "train_tr_converted_obj = obj_to_cat(train_tr_obj)\n",
    "print('downcasr \"object\" to \"category\" of train_transaction')\n",
    "print('memory usage before: ', memory_usage(train_tr_obj))\n",
    "print('memory usage after: ', memory_usage(train_tr_converted_obj))"
   ]
  },
  {
   "cell_type": "code",
   "execution_count": 22,
   "id": "f376a154",
   "metadata": {
    "execution": {
     "iopub.execute_input": "2023-11-06T13:41:47.855109Z",
     "iopub.status.busy": "2023-11-06T13:41:47.854150Z",
     "iopub.status.idle": "2023-11-06T13:41:48.826280Z",
     "shell.execute_reply": "2023-11-06T13:41:48.825055Z"
    },
    "papermill": {
     "duration": 0.991893,
     "end_time": "2023-11-06T13:41:48.828742",
     "exception": false,
     "start_time": "2023-11-06T13:41:47.836849",
     "status": "completed"
    },
    "tags": []
   },
   "outputs": [
    {
     "name": "stdout",
     "output_type": "stream",
     "text": [
      "==== Mermory usage of train_transaction ====\n",
      "before optimization:  2100.70 MB\n",
      "after optimization:  861.12 MB\n"
     ]
    }
   ],
   "source": [
    "print('==== Mermory usage of train_transaction ====')\n",
    "print('before optimization: ', memory_usage(train_transaction_data))\n",
    "optimized_train_tr[train_tr_converted_obj.columns] = train_tr_converted_obj\n",
    "print('after optimization: ', memory_usage(optimized_train_tr))"
   ]
  },
  {
   "cell_type": "code",
   "execution_count": 23,
   "id": "8e215502",
   "metadata": {
    "execution": {
     "iopub.execute_input": "2023-11-06T13:41:48.862782Z",
     "iopub.status.busy": "2023-11-06T13:41:48.862450Z",
     "iopub.status.idle": "2023-11-06T13:41:48.867407Z",
     "shell.execute_reply": "2023-11-06T13:41:48.866167Z"
    },
    "papermill": {
     "duration": 0.023303,
     "end_time": "2023-11-06T13:41:48.869256",
     "exception": false,
     "start_time": "2023-11-06T13:41:48.845953",
     "status": "completed"
    },
    "tags": []
   },
   "outputs": [
    {
     "name": "stdout",
     "output_type": "stream",
     "text": [
      "optimization memory of train transaction: 59.00794973104203 %\n"
     ]
    }
   ],
   "source": [
    "opt_tr_tr_prct = 100 - (861.12 * 100 / 2100.70)\n",
    "print(f'optimization memory of train transaction: {opt_tr_tr_prct} %')"
   ]
  },
  {
   "cell_type": "markdown",
   "id": "fa3b1a55",
   "metadata": {
    "papermill": {
     "duration": 0.014691,
     "end_time": "2023-11-06T13:41:48.899417",
     "exception": false,
     "start_time": "2023-11-06T13:41:48.884726",
     "status": "completed"
    },
    "tags": []
   },
   "source": [
    "После всех оптимизаций объём занимаемой памяти датасета ```train_transaction``` уменьшился на ```59 %```"
   ]
  },
  {
   "cell_type": "code",
   "execution_count": 24,
   "id": "9fe2d2b9",
   "metadata": {
    "execution": {
     "iopub.execute_input": "2023-11-06T13:41:48.932130Z",
     "iopub.status.busy": "2023-11-06T13:41:48.931523Z",
     "iopub.status.idle": "2023-11-06T13:41:48.955056Z",
     "shell.execute_reply": "2023-11-06T13:41:48.953474Z"
    },
    "papermill": {
     "duration": 0.042721,
     "end_time": "2023-11-06T13:41:48.957239",
     "exception": false,
     "start_time": "2023-11-06T13:41:48.914518",
     "status": "completed"
    },
    "tags": []
   },
   "outputs": [
    {
     "name": "stdout",
     "output_type": "stream",
     "text": [
      "<class 'pandas.core.frame.DataFrame'>\n",
      "RangeIndex: 144233 entries, 0 to 144232\n",
      "Data columns (total 41 columns):\n",
      " #   Column         Non-Null Count   Dtype   \n",
      "---  ------         --------------   -----   \n",
      " 0   TransactionID  144233 non-null  uint32  \n",
      " 1   id_01          144233 non-null  float32 \n",
      " 2   id_02          140872 non-null  float32 \n",
      " 3   id_03          66324 non-null   float32 \n",
      " 4   id_04          66324 non-null   float32 \n",
      " 5   id_05          136865 non-null  float32 \n",
      " 6   id_06          136865 non-null  float32 \n",
      " 7   id_07          5155 non-null    float32 \n",
      " 8   id_08          5155 non-null    float32 \n",
      " 9   id_09          74926 non-null   float32 \n",
      " 10  id_10          74926 non-null   float32 \n",
      " 11  id_11          140978 non-null  float32 \n",
      " 12  id_12          144233 non-null  category\n",
      " 13  id_13          127320 non-null  float32 \n",
      " 14  id_14          80044 non-null   float32 \n",
      " 15  id_15          140985 non-null  category\n",
      " 16  id_16          129340 non-null  category\n",
      " 17  id_17          139369 non-null  float32 \n",
      " 18  id_18          45113 non-null   float32 \n",
      " 19  id_19          139318 non-null  float32 \n",
      " 20  id_20          139261 non-null  float32 \n",
      " 21  id_21          5159 non-null    float32 \n",
      " 22  id_22          5169 non-null    float32 \n",
      " 23  id_23          5169 non-null    category\n",
      " 24  id_24          4747 non-null    float32 \n",
      " 25  id_25          5132 non-null    float32 \n",
      " 26  id_26          5163 non-null    float32 \n",
      " 27  id_27          5169 non-null    category\n",
      " 28  id_28          140978 non-null  category\n",
      " 29  id_29          140978 non-null  category\n",
      " 30  id_30          77565 non-null   category\n",
      " 31  id_31          140282 non-null  category\n",
      " 32  id_32          77586 non-null   float32 \n",
      " 33  id_33          73289 non-null   category\n",
      " 34  id_34          77805 non-null   category\n",
      " 35  id_35          140985 non-null  category\n",
      " 36  id_36          140985 non-null  category\n",
      " 37  id_37          140985 non-null  category\n",
      " 38  id_38          140985 non-null  category\n",
      " 39  DeviceType     140810 non-null  category\n",
      " 40  DeviceInfo     118666 non-null  category\n",
      "dtypes: category(17), float32(23), uint32(1)\n",
      "memory usage: 16.1 MB\n"
     ]
    }
   ],
   "source": [
    "optimized_train_identity.info()"
   ]
  },
  {
   "cell_type": "code",
   "execution_count": 25,
   "id": "b82dadfb",
   "metadata": {
    "execution": {
     "iopub.execute_input": "2023-11-06T13:41:48.992399Z",
     "iopub.status.busy": "2023-11-06T13:41:48.991618Z",
     "iopub.status.idle": "2023-11-06T13:41:49.006937Z",
     "shell.execute_reply": "2023-11-06T13:41:49.006039Z"
    },
    "papermill": {
     "duration": 0.03567,
     "end_time": "2023-11-06T13:41:49.008775",
     "exception": false,
     "start_time": "2023-11-06T13:41:48.973105",
     "status": "completed"
    },
    "tags": []
   },
   "outputs": [
    {
     "name": "stdout",
     "output_type": "stream",
     "text": [
      "<class 'pandas.core.frame.DataFrame'>\n",
      "RangeIndex: 590540 entries, 0 to 590539\n",
      "Columns: 394 entries, TransactionID to V339\n",
      "dtypes: category(14), float32(376), uint16(1), uint32(2), uint8(1)\n",
      "memory usage: 861.1 MB\n"
     ]
    }
   ],
   "source": [
    "optimized_train_tr.info()"
   ]
  },
  {
   "cell_type": "markdown",
   "id": "d6dcefe9",
   "metadata": {
    "papermill": {
     "duration": 0.016912,
     "end_time": "2023-11-06T13:41:49.041772",
     "exception": false,
     "start_time": "2023-11-06T13:41:49.024860",
     "status": "completed"
    },
    "tags": []
   },
   "source": [
    "Объединим датасеты ```train_identity``` и ```train_transaction``` в один датасет:"
   ]
  },
  {
   "cell_type": "code",
   "execution_count": 26,
   "id": "5e61f44e",
   "metadata": {
    "execution": {
     "iopub.execute_input": "2023-11-06T13:41:49.076584Z",
     "iopub.status.busy": "2023-11-06T13:41:49.076257Z",
     "iopub.status.idle": "2023-11-06T13:41:49.445745Z",
     "shell.execute_reply": "2023-11-06T13:41:49.444400Z"
    },
    "papermill": {
     "duration": 0.389664,
     "end_time": "2023-11-06T13:41:49.448279",
     "exception": false,
     "start_time": "2023-11-06T13:41:49.058615",
     "status": "completed"
    },
    "tags": []
   },
   "outputs": [
    {
     "name": "stdout",
     "output_type": "stream",
     "text": [
      "size of train: (590540, 434)\n"
     ]
    }
   ],
   "source": [
    "train = optimized_train_tr.merge(optimized_train_identity, on=['TransactionID'], how='left')\n",
    "print(f'size of train: {train.shape}')"
   ]
  },
  {
   "cell_type": "code",
   "execution_count": 27,
   "id": "3bd3d934",
   "metadata": {
    "execution": {
     "iopub.execute_input": "2023-11-06T13:41:49.481266Z",
     "iopub.status.busy": "2023-11-06T13:41:49.480933Z",
     "iopub.status.idle": "2023-11-06T13:41:49.507750Z",
     "shell.execute_reply": "2023-11-06T13:41:49.506744Z"
    },
    "papermill": {
     "duration": 0.046068,
     "end_time": "2023-11-06T13:41:49.510126",
     "exception": false,
     "start_time": "2023-11-06T13:41:49.464058",
     "status": "completed"
    },
    "tags": []
   },
   "outputs": [
    {
     "data": {
      "text/html": [
       "<div>\n",
       "<style scoped>\n",
       "    .dataframe tbody tr th:only-of-type {\n",
       "        vertical-align: middle;\n",
       "    }\n",
       "\n",
       "    .dataframe tbody tr th {\n",
       "        vertical-align: top;\n",
       "    }\n",
       "\n",
       "    .dataframe thead th {\n",
       "        text-align: right;\n",
       "    }\n",
       "</style>\n",
       "<table border=\"1\" class=\"dataframe\">\n",
       "  <thead>\n",
       "    <tr style=\"text-align: right;\">\n",
       "      <th></th>\n",
       "      <th>TransactionID</th>\n",
       "      <th>isFraud</th>\n",
       "      <th>TransactionDT</th>\n",
       "      <th>TransactionAmt</th>\n",
       "      <th>ProductCD</th>\n",
       "      <th>card1</th>\n",
       "      <th>card2</th>\n",
       "      <th>card3</th>\n",
       "      <th>card4</th>\n",
       "      <th>card5</th>\n",
       "      <th>...</th>\n",
       "      <th>id_31</th>\n",
       "      <th>id_32</th>\n",
       "      <th>id_33</th>\n",
       "      <th>id_34</th>\n",
       "      <th>id_35</th>\n",
       "      <th>id_36</th>\n",
       "      <th>id_37</th>\n",
       "      <th>id_38</th>\n",
       "      <th>DeviceType</th>\n",
       "      <th>DeviceInfo</th>\n",
       "    </tr>\n",
       "  </thead>\n",
       "  <tbody>\n",
       "    <tr>\n",
       "      <th>0</th>\n",
       "      <td>2987000</td>\n",
       "      <td>0</td>\n",
       "      <td>86400</td>\n",
       "      <td>68.5</td>\n",
       "      <td>W</td>\n",
       "      <td>13926</td>\n",
       "      <td>NaN</td>\n",
       "      <td>150.0</td>\n",
       "      <td>discover</td>\n",
       "      <td>142.0</td>\n",
       "      <td>...</td>\n",
       "      <td>NaN</td>\n",
       "      <td>NaN</td>\n",
       "      <td>NaN</td>\n",
       "      <td>NaN</td>\n",
       "      <td>NaN</td>\n",
       "      <td>NaN</td>\n",
       "      <td>NaN</td>\n",
       "      <td>NaN</td>\n",
       "      <td>NaN</td>\n",
       "      <td>NaN</td>\n",
       "    </tr>\n",
       "    <tr>\n",
       "      <th>1</th>\n",
       "      <td>2987001</td>\n",
       "      <td>0</td>\n",
       "      <td>86401</td>\n",
       "      <td>29.0</td>\n",
       "      <td>W</td>\n",
       "      <td>2755</td>\n",
       "      <td>404.0</td>\n",
       "      <td>150.0</td>\n",
       "      <td>mastercard</td>\n",
       "      <td>102.0</td>\n",
       "      <td>...</td>\n",
       "      <td>NaN</td>\n",
       "      <td>NaN</td>\n",
       "      <td>NaN</td>\n",
       "      <td>NaN</td>\n",
       "      <td>NaN</td>\n",
       "      <td>NaN</td>\n",
       "      <td>NaN</td>\n",
       "      <td>NaN</td>\n",
       "      <td>NaN</td>\n",
       "      <td>NaN</td>\n",
       "    </tr>\n",
       "    <tr>\n",
       "      <th>2</th>\n",
       "      <td>2987002</td>\n",
       "      <td>0</td>\n",
       "      <td>86469</td>\n",
       "      <td>59.0</td>\n",
       "      <td>W</td>\n",
       "      <td>4663</td>\n",
       "      <td>490.0</td>\n",
       "      <td>150.0</td>\n",
       "      <td>visa</td>\n",
       "      <td>166.0</td>\n",
       "      <td>...</td>\n",
       "      <td>NaN</td>\n",
       "      <td>NaN</td>\n",
       "      <td>NaN</td>\n",
       "      <td>NaN</td>\n",
       "      <td>NaN</td>\n",
       "      <td>NaN</td>\n",
       "      <td>NaN</td>\n",
       "      <td>NaN</td>\n",
       "      <td>NaN</td>\n",
       "      <td>NaN</td>\n",
       "    </tr>\n",
       "    <tr>\n",
       "      <th>3</th>\n",
       "      <td>2987003</td>\n",
       "      <td>0</td>\n",
       "      <td>86499</td>\n",
       "      <td>50.0</td>\n",
       "      <td>W</td>\n",
       "      <td>18132</td>\n",
       "      <td>567.0</td>\n",
       "      <td>150.0</td>\n",
       "      <td>mastercard</td>\n",
       "      <td>117.0</td>\n",
       "      <td>...</td>\n",
       "      <td>NaN</td>\n",
       "      <td>NaN</td>\n",
       "      <td>NaN</td>\n",
       "      <td>NaN</td>\n",
       "      <td>NaN</td>\n",
       "      <td>NaN</td>\n",
       "      <td>NaN</td>\n",
       "      <td>NaN</td>\n",
       "      <td>NaN</td>\n",
       "      <td>NaN</td>\n",
       "    </tr>\n",
       "    <tr>\n",
       "      <th>4</th>\n",
       "      <td>2987004</td>\n",
       "      <td>0</td>\n",
       "      <td>86506</td>\n",
       "      <td>50.0</td>\n",
       "      <td>H</td>\n",
       "      <td>4497</td>\n",
       "      <td>514.0</td>\n",
       "      <td>150.0</td>\n",
       "      <td>mastercard</td>\n",
       "      <td>102.0</td>\n",
       "      <td>...</td>\n",
       "      <td>samsung browser 6.2</td>\n",
       "      <td>32.0</td>\n",
       "      <td>2220x1080</td>\n",
       "      <td>match_status:2</td>\n",
       "      <td>T</td>\n",
       "      <td>F</td>\n",
       "      <td>T</td>\n",
       "      <td>T</td>\n",
       "      <td>mobile</td>\n",
       "      <td>SAMSUNG SM-G892A Build/NRD90M</td>\n",
       "    </tr>\n",
       "  </tbody>\n",
       "</table>\n",
       "<p>5 rows × 434 columns</p>\n",
       "</div>"
      ],
      "text/plain": [
       "   TransactionID  isFraud  TransactionDT  TransactionAmt ProductCD  card1  \\\n",
       "0        2987000        0          86400            68.5         W  13926   \n",
       "1        2987001        0          86401            29.0         W   2755   \n",
       "2        2987002        0          86469            59.0         W   4663   \n",
       "3        2987003        0          86499            50.0         W  18132   \n",
       "4        2987004        0          86506            50.0         H   4497   \n",
       "\n",
       "   card2  card3       card4  card5  ...                id_31  id_32  \\\n",
       "0    NaN  150.0    discover  142.0  ...                  NaN    NaN   \n",
       "1  404.0  150.0  mastercard  102.0  ...                  NaN    NaN   \n",
       "2  490.0  150.0        visa  166.0  ...                  NaN    NaN   \n",
       "3  567.0  150.0  mastercard  117.0  ...                  NaN    NaN   \n",
       "4  514.0  150.0  mastercard  102.0  ...  samsung browser 6.2   32.0   \n",
       "\n",
       "       id_33           id_34  id_35 id_36 id_37  id_38  DeviceType  \\\n",
       "0        NaN             NaN    NaN   NaN   NaN    NaN         NaN   \n",
       "1        NaN             NaN    NaN   NaN   NaN    NaN         NaN   \n",
       "2        NaN             NaN    NaN   NaN   NaN    NaN         NaN   \n",
       "3        NaN             NaN    NaN   NaN   NaN    NaN         NaN   \n",
       "4  2220x1080  match_status:2      T     F     T      T      mobile   \n",
       "\n",
       "                      DeviceInfo  \n",
       "0                            NaN  \n",
       "1                            NaN  \n",
       "2                            NaN  \n",
       "3                            NaN  \n",
       "4  SAMSUNG SM-G892A Build/NRD90M  \n",
       "\n",
       "[5 rows x 434 columns]"
      ]
     },
     "execution_count": 27,
     "metadata": {},
     "output_type": "execute_result"
    }
   ],
   "source": [
    "train.head(5)"
   ]
  },
  {
   "cell_type": "markdown",
   "id": "6d93f6af",
   "metadata": {
    "papermill": {
     "duration": 0.015529,
     "end_time": "2023-11-06T13:41:49.541961",
     "exception": false,
     "start_time": "2023-11-06T13:41:49.526432",
     "status": "completed"
    },
    "tags": []
   },
   "source": [
    "Т.к. мы объединили датасеты ```train_identity``` и ```train_transaction```, удалим их для того, чтобы освободить память"
   ]
  },
  {
   "cell_type": "code",
   "execution_count": 28,
   "id": "ddfa0e90",
   "metadata": {
    "execution": {
     "iopub.execute_input": "2023-11-06T13:41:49.574633Z",
     "iopub.status.busy": "2023-11-06T13:41:49.574279Z",
     "iopub.status.idle": "2023-11-06T13:41:49.582518Z",
     "shell.execute_reply": "2023-11-06T13:41:49.581529Z"
    },
    "papermill": {
     "duration": 0.026837,
     "end_time": "2023-11-06T13:41:49.584356",
     "exception": false,
     "start_time": "2023-11-06T13:41:49.557519",
     "status": "completed"
    },
    "tags": []
   },
   "outputs": [
    {
     "data": {
      "text/plain": [
       "<function gc.collect(generation=2)>"
      ]
     },
     "execution_count": 28,
     "metadata": {},
     "output_type": "execute_result"
    }
   ],
   "source": [
    "del optimized_train_identity\n",
    "del optimized_train_tr\n",
    "gc.collect"
   ]
  },
  {
   "cell_type": "markdown",
   "id": "c6d61d61",
   "metadata": {
    "papermill": {
     "duration": 0.01593,
     "end_time": "2023-11-06T13:41:49.618457",
     "exception": false,
     "start_time": "2023-11-06T13:41:49.602527",
     "status": "completed"
    },
    "tags": []
   },
   "source": [
    "Проверим текущий объём памяти датасета ```train```:"
   ]
  },
  {
   "cell_type": "code",
   "execution_count": 29,
   "id": "1d579126",
   "metadata": {
    "execution": {
     "iopub.execute_input": "2023-11-06T13:41:49.651562Z",
     "iopub.status.busy": "2023-11-06T13:41:49.651240Z",
     "iopub.status.idle": "2023-11-06T13:41:49.672178Z",
     "shell.execute_reply": "2023-11-06T13:41:49.671192Z"
    },
    "papermill": {
     "duration": 0.039844,
     "end_time": "2023-11-06T13:41:49.673953",
     "exception": false,
     "start_time": "2023-11-06T13:41:49.634109",
     "status": "completed"
    },
    "tags": []
   },
   "outputs": [
    {
     "name": "stdout",
     "output_type": "stream",
     "text": [
      "memory usage of train:  924.43 MB\n"
     ]
    }
   ],
   "source": [
    "print('memory usage of train: ', memory_usage(train))"
   ]
  },
  {
   "cell_type": "markdown",
   "id": "a36717f6",
   "metadata": {
    "papermill": {
     "duration": 0.015652,
     "end_time": "2023-11-06T13:41:49.706148",
     "exception": false,
     "start_time": "2023-11-06T13:41:49.690496",
     "status": "completed"
    },
    "tags": []
   },
   "source": [
    "Посмотрим на кол-во пропущенных значений в датасете ```train```"
   ]
  },
  {
   "cell_type": "code",
   "execution_count": 30,
   "id": "31ad0e4b",
   "metadata": {
    "execution": {
     "iopub.execute_input": "2023-11-06T13:41:49.743181Z",
     "iopub.status.busy": "2023-11-06T13:41:49.742815Z",
     "iopub.status.idle": "2023-11-06T13:41:50.399855Z",
     "shell.execute_reply": "2023-11-06T13:41:50.398888Z"
    },
    "papermill": {
     "duration": 0.677934,
     "end_time": "2023-11-06T13:41:50.401831",
     "exception": false,
     "start_time": "2023-11-06T13:41:49.723897",
     "status": "completed"
    },
    "tags": []
   },
   "outputs": [
    {
     "data": {
      "text/html": [
       "<div>\n",
       "<style scoped>\n",
       "    .dataframe tbody tr th:only-of-type {\n",
       "        vertical-align: middle;\n",
       "    }\n",
       "\n",
       "    .dataframe tbody tr th {\n",
       "        vertical-align: top;\n",
       "    }\n",
       "\n",
       "    .dataframe thead th {\n",
       "        text-align: right;\n",
       "    }\n",
       "</style>\n",
       "<table border=\"1\" class=\"dataframe\">\n",
       "  <thead>\n",
       "    <tr style=\"text-align: right;\">\n",
       "      <th></th>\n",
       "      <th></th>\n",
       "      <th>TransactionID</th>\n",
       "      <th>isFraud</th>\n",
       "      <th>TransactionDT</th>\n",
       "      <th>TransactionAmt</th>\n",
       "      <th>ProductCD</th>\n",
       "      <th>card1</th>\n",
       "      <th>card2</th>\n",
       "      <th>card3</th>\n",
       "      <th>card4</th>\n",
       "      <th>card5</th>\n",
       "      <th>...</th>\n",
       "      <th>id_31</th>\n",
       "      <th>id_32</th>\n",
       "      <th>id_33</th>\n",
       "      <th>id_34</th>\n",
       "      <th>id_35</th>\n",
       "      <th>id_36</th>\n",
       "      <th>id_37</th>\n",
       "      <th>id_38</th>\n",
       "      <th>DeviceType</th>\n",
       "      <th>DeviceInfo</th>\n",
       "    </tr>\n",
       "  </thead>\n",
       "  <tbody>\n",
       "    <tr>\n",
       "      <th>Total misssing values</th>\n",
       "      <th>0</th>\n",
       "      <td>0.0</td>\n",
       "      <td>0.0</td>\n",
       "      <td>0.0</td>\n",
       "      <td>0.0</td>\n",
       "      <td>0.0</td>\n",
       "      <td>0.0</td>\n",
       "      <td>8933.000000</td>\n",
       "      <td>1565.000000</td>\n",
       "      <td>1577.000000</td>\n",
       "      <td>4259.000000</td>\n",
       "      <td>...</td>\n",
       "      <td>450258.000000</td>\n",
       "      <td>512954.000000</td>\n",
       "      <td>517251.000000</td>\n",
       "      <td>512735.000000</td>\n",
       "      <td>449555.000000</td>\n",
       "      <td>449555.000000</td>\n",
       "      <td>449555.000000</td>\n",
       "      <td>449555.000000</td>\n",
       "      <td>449730.000000</td>\n",
       "      <td>471874.00000</td>\n",
       "    </tr>\n",
       "    <tr>\n",
       "      <th>Percent</th>\n",
       "      <th>0</th>\n",
       "      <td>0.0</td>\n",
       "      <td>0.0</td>\n",
       "      <td>0.0</td>\n",
       "      <td>0.0</td>\n",
       "      <td>0.0</td>\n",
       "      <td>0.0</td>\n",
       "      <td>1.512683</td>\n",
       "      <td>0.265012</td>\n",
       "      <td>0.267044</td>\n",
       "      <td>0.721204</td>\n",
       "      <td>...</td>\n",
       "      <td>76.245132</td>\n",
       "      <td>86.861855</td>\n",
       "      <td>87.589494</td>\n",
       "      <td>86.824771</td>\n",
       "      <td>76.126088</td>\n",
       "      <td>76.126088</td>\n",
       "      <td>76.126088</td>\n",
       "      <td>76.126088</td>\n",
       "      <td>76.155722</td>\n",
       "      <td>79.90551</td>\n",
       "    </tr>\n",
       "  </tbody>\n",
       "</table>\n",
       "<p>2 rows × 434 columns</p>\n",
       "</div>"
      ],
      "text/plain": [
       "                         TransactionID  isFraud  TransactionDT  \\\n",
       "Total misssing values 0            0.0      0.0            0.0   \n",
       "Percent               0            0.0      0.0            0.0   \n",
       "\n",
       "                         TransactionAmt  ProductCD  card1        card2  \\\n",
       "Total misssing values 0             0.0        0.0    0.0  8933.000000   \n",
       "Percent               0             0.0        0.0    0.0     1.512683   \n",
       "\n",
       "                               card3        card4        card5  ...  \\\n",
       "Total misssing values 0  1565.000000  1577.000000  4259.000000  ...   \n",
       "Percent               0     0.265012     0.267044     0.721204  ...   \n",
       "\n",
       "                                 id_31          id_32          id_33  \\\n",
       "Total misssing values 0  450258.000000  512954.000000  517251.000000   \n",
       "Percent               0      76.245132      86.861855      87.589494   \n",
       "\n",
       "                                 id_34          id_35          id_36  \\\n",
       "Total misssing values 0  512735.000000  449555.000000  449555.000000   \n",
       "Percent               0      86.824771      76.126088      76.126088   \n",
       "\n",
       "                                 id_37          id_38     DeviceType  \\\n",
       "Total misssing values 0  449555.000000  449555.000000  449730.000000   \n",
       "Percent               0      76.126088      76.126088      76.155722   \n",
       "\n",
       "                           DeviceInfo  \n",
       "Total misssing values 0  471874.00000  \n",
       "Percent               0      79.90551  \n",
       "\n",
       "[2 rows x 434 columns]"
      ]
     },
     "execution_count": 30,
     "metadata": {},
     "output_type": "execute_result"
    }
   ],
   "source": [
    "total_null = train.isnull().sum().to_frame()\n",
    "prct_null = train.isnull().sum()/train.isnull().count()*100\n",
    "\n",
    "pd.concat([total_null, prct_null], axis=1, keys=['Total misssing values', 'Percent']).transpose()"
   ]
  },
  {
   "cell_type": "markdown",
   "id": "c85639c2",
   "metadata": {
    "papermill": {
     "duration": 0.016326,
     "end_time": "2023-11-06T13:41:50.435203",
     "exception": false,
     "start_time": "2023-11-06T13:41:50.418877",
     "status": "completed"
    },
    "tags": []
   },
   "source": [
    "Посмотрим на распределение целевых меток ```isFraud```"
   ]
  },
  {
   "cell_type": "code",
   "execution_count": 31,
   "id": "2158e57b",
   "metadata": {
    "execution": {
     "iopub.execute_input": "2023-11-06T13:41:50.470079Z",
     "iopub.status.busy": "2023-11-06T13:41:50.469721Z",
     "iopub.status.idle": "2023-11-06T13:41:50.491874Z",
     "shell.execute_reply": "2023-11-06T13:41:50.490408Z"
    },
    "papermill": {
     "duration": 0.042241,
     "end_time": "2023-11-06T13:41:50.494056",
     "exception": false,
     "start_time": "2023-11-06T13:41:50.451815",
     "status": "completed"
    },
    "tags": []
   },
   "outputs": [
    {
     "data": {
      "text/html": [
       "<div>\n",
       "<style scoped>\n",
       "    .dataframe tbody tr th:only-of-type {\n",
       "        vertical-align: middle;\n",
       "    }\n",
       "\n",
       "    .dataframe tbody tr th {\n",
       "        vertical-align: top;\n",
       "    }\n",
       "\n",
       "    .dataframe thead th {\n",
       "        text-align: right;\n",
       "    }\n",
       "</style>\n",
       "<table border=\"1\" class=\"dataframe\">\n",
       "  <thead>\n",
       "    <tr style=\"text-align: right;\">\n",
       "      <th></th>\n",
       "      <th>Count</th>\n",
       "      <th>Percent</th>\n",
       "    </tr>\n",
       "    <tr>\n",
       "      <th>isFraud</th>\n",
       "      <th></th>\n",
       "      <th></th>\n",
       "    </tr>\n",
       "  </thead>\n",
       "  <tbody>\n",
       "    <tr>\n",
       "      <th>0</th>\n",
       "      <td>569877</td>\n",
       "      <td>0.96501</td>\n",
       "    </tr>\n",
       "    <tr>\n",
       "      <th>1</th>\n",
       "      <td>20663</td>\n",
       "      <td>0.03499</td>\n",
       "    </tr>\n",
       "  </tbody>\n",
       "</table>\n",
       "</div>"
      ],
      "text/plain": [
       "          Count  Percent\n",
       "isFraud                 \n",
       "0        569877  0.96501\n",
       "1         20663  0.03499"
      ]
     },
     "execution_count": 31,
     "metadata": {},
     "output_type": "execute_result"
    }
   ],
   "source": [
    "isFraud_count = train['isFraud'].value_counts()\n",
    "isFraud_prct = train['isFraud'].value_counts()/len(train)\n",
    "\n",
    "pd.concat([isFraud_count, isFraud_prct], axis=1, keys=['Count', 'Percent'])"
   ]
  },
  {
   "cell_type": "code",
   "execution_count": 32,
   "id": "61e41793",
   "metadata": {
    "execution": {
     "iopub.execute_input": "2023-11-06T13:41:50.529029Z",
     "iopub.status.busy": "2023-11-06T13:41:50.528671Z",
     "iopub.status.idle": "2023-11-06T13:41:50.535769Z",
     "shell.execute_reply": "2023-11-06T13:41:50.534865Z"
    },
    "papermill": {
     "duration": 0.026556,
     "end_time": "2023-11-06T13:41:50.537514",
     "exception": false,
     "start_time": "2023-11-06T13:41:50.510958",
     "status": "completed"
    },
    "tags": []
   },
   "outputs": [],
   "source": [
    "colors = ['#1f77b4', '#ff7f0e', '#2ca02c', '#d62728', '#9467bd',\n",
    "          '#8c564b', '#e377c2', '#7f7f7f', '#bcbd22', '#17becf']\n",
    "\n",
    "def plot_value_counts(feature, title, df):\n",
    "    ax = df[feature].value_counts().plot(kind='bar',\n",
    "                                        figsize=(7,5),\n",
    "                                        xlabel=title,\n",
    "                                        ylabel='count',\n",
    "                                        color=colors)\n",
    "    ax.set_title(f'Percentage of {title}')\n",
    "    counts = df[feature].value_counts()/len(df)\n",
    "    \n",
    "    rects = ax.patches\n",
    "    labels_arr = ['{0:.2f}%'.format(count*100) for count in counts]\n",
    "    \n",
    "    if (len(labels_arr) > 2):\n",
    "        plt.xticks(rotation=0, size=8)\n",
    "        \n",
    "    for rect, label in zip(rects, labels_arr):\n",
    "        height = rect.get_height()\n",
    "        ax.text(\n",
    "            rect.get_x() + rect.get_width() / 2, height + 5, label, ha='center'\n",
    "        )\n",
    "        \n",
    "    plt.show()"
   ]
  },
  {
   "cell_type": "code",
   "execution_count": 33,
   "id": "385e4922",
   "metadata": {
    "execution": {
     "iopub.execute_input": "2023-11-06T13:41:50.571487Z",
     "iopub.status.busy": "2023-11-06T13:41:50.571112Z",
     "iopub.status.idle": "2023-11-06T13:41:50.795034Z",
     "shell.execute_reply": "2023-11-06T13:41:50.793785Z"
    },
    "papermill": {
     "duration": 0.243192,
     "end_time": "2023-11-06T13:41:50.797147",
     "exception": false,
     "start_time": "2023-11-06T13:41:50.553955",
     "status": "completed"
    },
    "tags": []
   },
   "outputs": [
    {
     "data": {
      "image/png": "[encoded data removed]",
      "text/plain": [
       "<Figure size 700x500 with 1 Axes>"
      ]
     },
     "metadata": {},
     "output_type": "display_data"
    }
   ],
   "source": [
    "plot_value_counts('isFraud', 'train: isFraud', df=train)"
   ]
  },
  {
   "cell_type": "markdown",
   "id": "9fb31fce",
   "metadata": {
    "papermill": {
     "duration": 0.016292,
     "end_time": "2023-11-06T13:41:50.830287",
     "exception": false,
     "start_time": "2023-11-06T13:41:50.813995",
     "status": "completed"
    },
    "tags": []
   },
   "source": [
    "Видим, что данные не сбалансированы.\n",
    "\n",
    "```96,5 %``` транзакций - валидны\n",
    "\n",
    "```3,5 %``` транзакций - мошеннические"
   ]
  },
  {
   "cell_type": "markdown",
   "id": "b13c3e13",
   "metadata": {
    "papermill": {
     "duration": 0.016403,
     "end_time": "2023-11-06T13:41:50.863762",
     "exception": false,
     "start_time": "2023-11-06T13:41:50.847359",
     "status": "completed"
    },
    "tags": []
   },
   "source": [
    "Подумаем о решении вопроса дисбаланса в данных. Исследуем другие признаки"
   ]
  },
  {
   "cell_type": "markdown",
   "id": "06dbff43",
   "metadata": {
    "papermill": {
     "duration": 0.016749,
     "end_time": "2023-11-06T13:41:50.897240",
     "exception": false,
     "start_time": "2023-11-06T13:41:50.880491",
     "status": "completed"
    },
    "tags": []
   },
   "source": [
    "Распределение ```Card 4``` (компания карты)"
   ]
  },
  {
   "cell_type": "code",
   "execution_count": 34,
   "id": "655c38cb",
   "metadata": {
    "execution": {
     "iopub.execute_input": "2023-11-06T13:41:50.934088Z",
     "iopub.status.busy": "2023-11-06T13:41:50.932737Z",
     "iopub.status.idle": "2023-11-06T13:41:51.144046Z",
     "shell.execute_reply": "2023-11-06T13:41:51.143056Z"
    },
    "papermill": {
     "duration": 0.231617,
     "end_time": "2023-11-06T13:41:51.145952",
     "exception": false,
     "start_time": "2023-11-06T13:41:50.914335",
     "status": "completed"
    },
    "tags": []
   },
   "outputs": [
    {
     "data": {
      "image/png": "[encoded data removed]",
      "text/plain": [
       "<Figure size 700x500 with 1 Axes>"
      ]
     },
     "metadata": {},
     "output_type": "display_data"
    }
   ],
   "source": [
    "plot_value_counts('card4', 'train: card4', df=train)"
   ]
  },
  {
   "cell_type": "markdown",
   "id": "6caf5e3d",
   "metadata": {
    "papermill": {
     "duration": 0.017393,
     "end_time": "2023-11-06T13:41:51.181715",
     "exception": false,
     "start_time": "2023-11-06T13:41:51.164322",
     "status": "completed"
    },
    "tags": []
   },
   "source": [
    "Видим, что:\n",
    "- ```65.16 %``` - карт компании 'visa'\n",
    "- ```32.04 %``` - 'mastercard'\n",
    "- ```1.41 %```  - 'american express'\n",
    "- ```1.13 %```  - 'discover'"
   ]
  },
  {
   "cell_type": "markdown",
   "id": "a63a3581",
   "metadata": {
    "papermill": {
     "duration": 0.01686,
     "end_time": "2023-11-06T13:41:51.216299",
     "exception": false,
     "start_time": "2023-11-06T13:41:51.199439",
     "status": "completed"
    },
    "tags": []
   },
   "source": [
    "Распределение ```Card 6``` - тип карты"
   ]
  },
  {
   "cell_type": "code",
   "execution_count": 35,
   "id": "7a131fa5",
   "metadata": {
    "execution": {
     "iopub.execute_input": "2023-11-06T13:41:51.252770Z",
     "iopub.status.busy": "2023-11-06T13:41:51.252212Z",
     "iopub.status.idle": "2023-11-06T13:41:51.434221Z",
     "shell.execute_reply": "2023-11-06T13:41:51.433164Z"
    },
    "papermill": {
     "duration": 0.203431,
     "end_time": "2023-11-06T13:41:51.436864",
     "exception": false,
     "start_time": "2023-11-06T13:41:51.233433",
     "status": "completed"
    },
    "tags": []
   },
   "outputs": [
    {
     "data": {
      "image/png": "[encoded data removed]",
      "text/plain": [
       "<Figure size 700x500 with 1 Axes>"
      ]
     },
     "metadata": {},
     "output_type": "display_data"
    }
   ],
   "source": [
    "plot_value_counts('card6', 'train: card6', df=train)"
   ]
  },
  {
   "cell_type": "markdown",
   "id": "0b8ae3a9",
   "metadata": {
    "papermill": {
     "duration": 0.01787,
     "end_time": "2023-11-06T13:41:51.473100",
     "exception": false,
     "start_time": "2023-11-06T13:41:51.455230",
     "status": "completed"
    },
    "tags": []
   },
   "source": [
    "Боьшая часть транзакций в данном датасете произведена дебетовыми картами - ```74.5 %```, ```25.23 %``` - кредитными картами. Транзакций с ```charge``` карт нет"
   ]
  },
  {
   "cell_type": "markdown",
   "id": "cd981b71",
   "metadata": {
    "papermill": {
     "duration": 0.017778,
     "end_time": "2023-11-06T13:41:51.509660",
     "exception": false,
     "start_time": "2023-11-06T13:41:51.491882",
     "status": "completed"
    },
    "tags": []
   },
   "source": [
    "Распределение транзакций по ```DeviceType```"
   ]
  },
  {
   "cell_type": "code",
   "execution_count": 36,
   "id": "b72d9d1f",
   "metadata": {
    "execution": {
     "iopub.execute_input": "2023-11-06T13:41:51.547094Z",
     "iopub.status.busy": "2023-11-06T13:41:51.546187Z",
     "iopub.status.idle": "2023-11-06T13:41:51.663119Z",
     "shell.execute_reply": "2023-11-06T13:41:51.662020Z"
    },
    "papermill": {
     "duration": 0.137992,
     "end_time": "2023-11-06T13:41:51.665229",
     "exception": false,
     "start_time": "2023-11-06T13:41:51.527237",
     "status": "completed"
    },
    "tags": []
   },
   "outputs": [
    {
     "name": "stdout",
     "output_type": "stream",
     "text": [
      "DeviceType\n",
      "desktop    85165\n",
      "mobile     55645\n",
      "Name: TransactionDT, dtype: int64\n"
     ]
    },
    {
     "data": {
      "image/png": "[encoded data removed]",
      "text/plain": [
       "<Figure size 640x480 with 1 Axes>"
      ]
     },
     "metadata": {},
     "output_type": "display_data"
    }
   ],
   "source": [
    "device_type_df = train.groupby(by='DeviceType').TransactionDT.count()\n",
    "device_type_df.plot(kind='pie', \n",
    "                    colors=['orange', 'lightgreen'],\n",
    "                    autopct='%1.1f%%')\n",
    "plt.title('Number of transactions by device type')\n",
    "print(device_type_df)"
   ]
  },
  {
   "cell_type": "markdown",
   "id": "a6fd8524",
   "metadata": {
    "papermill": {
     "duration": 0.022855,
     "end_time": "2023-11-06T13:41:51.711565",
     "exception": false,
     "start_time": "2023-11-06T13:41:51.688710",
     "status": "completed"
    },
    "tags": []
   },
   "source": [
    "Большинство транзакций было выполнено с компьютера - ```60.5 %```.\n",
    "\n",
    "С мобильных устройств - ```39.5 %``` транзакций"
   ]
  },
  {
   "cell_type": "markdown",
   "id": "8b1963c7",
   "metadata": {
    "papermill": {
     "duration": 0.019586,
     "end_time": "2023-11-06T13:41:51.753883",
     "exception": false,
     "start_time": "2023-11-06T13:41:51.734297",
     "status": "completed"
    },
    "tags": []
   },
   "source": [
    "Посмотрим на процент мошеннических транзакций в разрезе компаний, выпустивших карты"
   ]
  },
  {
   "cell_type": "code",
   "execution_count": 37,
   "id": "5b8ffcaf",
   "metadata": {
    "execution": {
     "iopub.execute_input": "2023-11-06T13:41:51.790488Z",
     "iopub.status.busy": "2023-11-06T13:41:51.790152Z",
     "iopub.status.idle": "2023-11-06T13:41:51.794752Z",
     "shell.execute_reply": "2023-11-06T13:41:51.794116Z"
    },
    "papermill": {
     "duration": 0.024871,
     "end_time": "2023-11-06T13:41:51.796427",
     "exception": false,
     "start_time": "2023-11-06T13:41:51.771556",
     "status": "completed"
    },
    "tags": []
   },
   "outputs": [],
   "source": [
    "def isFraud_by_feature(feature, df, title):\n",
    "    sns.barplot(x=feature, y='isFraud', data=df)\n",
    "    plt.xlabel(feature)\n",
    "    plt.ylabel('isFraud')\n",
    "    plt.title('Fraudulent Transactions by {}'.format(title))\n",
    "    plt.show()"
   ]
  },
  {
   "cell_type": "code",
   "execution_count": 38,
   "id": "f97db8f5",
   "metadata": {
    "execution": {
     "iopub.execute_input": "2023-11-06T13:41:51.836451Z",
     "iopub.status.busy": "2023-11-06T13:41:51.835520Z",
     "iopub.status.idle": "2023-11-06T13:41:58.457678Z",
     "shell.execute_reply": "2023-11-06T13:41:58.456607Z"
    },
    "papermill": {
     "duration": 6.644366,
     "end_time": "2023-11-06T13:41:58.459948",
     "exception": false,
     "start_time": "2023-11-06T13:41:51.815582",
     "status": "completed"
    },
    "tags": []
   },
   "outputs": [
    {
     "data": {
      "image/png": "[encoded data removed]",
      "text/plain": [
       "<Figure size 640x480 with 1 Axes>"
      ]
     },
     "metadata": {},
     "output_type": "display_data"
    }
   ],
   "source": [
    "isFraud_by_feature('card4', df=train, title='Card Company')"
   ]
  },
  {
   "cell_type": "markdown",
   "id": "7ea1c397",
   "metadata": {
    "papermill": {
     "duration": 0.017752,
     "end_time": "2023-11-06T13:41:58.496153",
     "exception": false,
     "start_time": "2023-11-06T13:41:58.478401",
     "status": "completed"
    },
    "tags": []
   },
   "source": [
    "Видим, что большинство мошеннических транзакций произведено с карты ```discover```"
   ]
  },
  {
   "cell_type": "code",
   "execution_count": 39,
   "id": "fa07bc52",
   "metadata": {
    "execution": {
     "iopub.execute_input": "2023-11-06T13:41:58.533841Z",
     "iopub.status.busy": "2023-11-06T13:41:58.533331Z",
     "iopub.status.idle": "2023-11-06T13:42:05.136107Z",
     "shell.execute_reply": "2023-11-06T13:42:05.135215Z"
    },
    "papermill": {
     "duration": 6.62405,
     "end_time": "2023-11-06T13:42:05.137974",
     "exception": false,
     "start_time": "2023-11-06T13:41:58.513924",
     "status": "completed"
    },
    "tags": []
   },
   "outputs": [
    {
     "data": {
      "image/png": "[encoded data removed]",
      "text/plain": [
       "<Figure size 640x480 with 1 Axes>"
      ]
     },
     "metadata": {},
     "output_type": "display_data"
    }
   ],
   "source": [
    "isFraud_by_feature('card6', df=train, title='Card Type')"
   ]
  },
  {
   "cell_type": "markdown",
   "id": "1db74319",
   "metadata": {
    "papermill": {
     "duration": 0.018568,
     "end_time": "2023-11-06T13:42:05.175432",
     "exception": false,
     "start_time": "2023-11-06T13:42:05.156864",
     "status": "completed"
    },
    "tags": []
   },
   "source": [
    "Несмотря на то, что кредитные карты занимают ```25.23 %``` от всего объёма данных, с них произведена большая часть мошеннических транзакций"
   ]
  },
  {
   "cell_type": "code",
   "execution_count": 40,
   "id": "01c01cba",
   "metadata": {
    "execution": {
     "iopub.execute_input": "2023-11-06T13:42:05.215509Z",
     "iopub.status.busy": "2023-11-06T13:42:05.214860Z",
     "iopub.status.idle": "2023-11-06T13:42:06.916525Z",
     "shell.execute_reply": "2023-11-06T13:42:06.915581Z"
    },
    "papermill": {
     "duration": 1.724226,
     "end_time": "2023-11-06T13:42:06.918627",
     "exception": false,
     "start_time": "2023-11-06T13:42:05.194401",
     "status": "completed"
    },
    "tags": []
   },
   "outputs": [
    {
     "data": {
      "image/png": "[encoded data removed]",
      "text/plain": [
       "<Figure size 640x480 with 1 Axes>"
      ]
     },
     "metadata": {},
     "output_type": "display_data"
    }
   ],
   "source": [
    "isFraud_by_feature('DeviceType', df=train, title='Device Type')"
   ]
  },
  {
   "cell_type": "markdown",
   "id": "9043a797",
   "metadata": {
    "papermill": {
     "duration": 0.019063,
     "end_time": "2023-11-06T13:42:06.957232",
     "exception": false,
     "start_time": "2023-11-06T13:42:06.938169",
     "status": "completed"
    },
    "tags": []
   },
   "source": [
    "Большинство мошеннических операций было произведено с мобильных устройств"
   ]
  },
  {
   "cell_type": "markdown",
   "id": "db5f7847",
   "metadata": {
    "papermill": {
     "duration": 0.018653,
     "end_time": "2023-11-06T13:42:06.996186",
     "exception": false,
     "start_time": "2023-11-06T13:42:06.977533",
     "status": "completed"
    },
    "tags": []
   },
   "source": [
    "### Отделим данные обучения (категориальные и числовые признаки) от целевых меток"
   ]
  },
  {
   "cell_type": "markdown",
   "id": "1c6f7334",
   "metadata": {
    "papermill": {
     "duration": 0.018609,
     "end_time": "2023-11-06T13:42:07.033992",
     "exception": false,
     "start_time": "2023-11-06T13:42:07.015383",
     "status": "completed"
    },
    "tags": []
   },
   "source": [
    "Сохраним целевые переменные в переменную ```y_train```"
   ]
  },
  {
   "cell_type": "code",
   "execution_count": 41,
   "id": "39c44568",
   "metadata": {
    "execution": {
     "iopub.execute_input": "2023-11-06T13:42:07.073875Z",
     "iopub.status.busy": "2023-11-06T13:42:07.073324Z",
     "iopub.status.idle": "2023-11-06T13:42:07.077468Z",
     "shell.execute_reply": "2023-11-06T13:42:07.076770Z"
    },
    "papermill": {
     "duration": 0.026087,
     "end_time": "2023-11-06T13:42:07.079201",
     "exception": false,
     "start_time": "2023-11-06T13:42:07.053114",
     "status": "completed"
    },
    "tags": []
   },
   "outputs": [],
   "source": [
    "y_train = train['isFraud']"
   ]
  },
  {
   "cell_type": "markdown",
   "id": "4c3cbb90",
   "metadata": {
    "papermill": {
     "duration": 0.018781,
     "end_time": "2023-11-06T13:42:07.117300",
     "exception": false,
     "start_time": "2023-11-06T13:42:07.098519",
     "status": "completed"
    },
    "tags": []
   },
   "source": [
    "Создадим списки из числовых и категориальных признаков:"
   ]
  },
  {
   "cell_type": "code",
   "execution_count": 42,
   "id": "e4b25e88",
   "metadata": {
    "execution": {
     "iopub.execute_input": "2023-11-06T13:42:07.156710Z",
     "iopub.status.busy": "2023-11-06T13:42:07.156188Z",
     "iopub.status.idle": "2023-11-06T13:42:07.166079Z",
     "shell.execute_reply": "2023-11-06T13:42:07.165082Z"
    },
    "papermill": {
     "duration": 0.032182,
     "end_time": "2023-11-06T13:42:07.168179",
     "exception": false,
     "start_time": "2023-11-06T13:42:07.135997",
     "status": "completed"
    },
    "tags": []
   },
   "outputs": [
    {
     "name": "stdout",
     "output_type": "stream",
     "text": [
      "len cat_features:  31\n",
      "len num_features:  401\n"
     ]
    }
   ],
   "source": [
    "cat_features = train.select_dtypes(include=['category']).columns\n",
    "num_features = [x for x in train.columns.values[2:] \n",
    "                if x not in cat_features]\n",
    "print('len cat_features: ', len(cat_features))\n",
    "print('len num_features: ', len(num_features))"
   ]
  },
  {
   "cell_type": "code",
   "execution_count": null,
   "id": "cbb20343",
   "metadata": {
    "papermill": {
     "duration": 0.018279,
     "end_time": "2023-11-06T13:42:07.206780",
     "exception": false,
     "start_time": "2023-11-06T13:42:07.188501",
     "status": "completed"
    },
    "tags": []
   },
   "outputs": [],
   "source": []
  },
  {
   "cell_type": "code",
   "execution_count": null,
   "id": "7f6146ef",
   "metadata": {
    "papermill": {
     "duration": 0.01806,
     "end_time": "2023-11-06T13:42:07.243474",
     "exception": false,
     "start_time": "2023-11-06T13:42:07.225414",
     "status": "completed"
    },
    "tags": []
   },
   "outputs": [],
   "source": []
  }
 ],
 "metadata": {
  "kernelspec": {
   "display_name": "Python 3",
   "language": "python",
   "name": "python3"
  },
  "language_info": {
   "codemirror_mode": {
    "name": "ipython",
    "version": 3
   },
   "file_extension": ".py",
   "mimetype": "text/x-python",
   "name": "python",
   "nbconvert_exporter": "python",
   "pygments_lexer": "ipython3",
   "version": "3.10.12"
  },
  "papermill": {
   "default_parameters": {},
   "duration": 61.506065,
   "end_time": "2023-11-06T13:42:07.882526",
   "environment_variables": {},
   "exception": null,
   "input_path": "__notebook__.ipynb",
   "output_path": "__notebook__.ipynb",
   "parameters": {},
   "start_time": "2023-11-06T13:41:06.376461",
   "version": "2.4.0"
  }
 },
 "nbformat": 4,
 "nbformat_minor": 5
}
